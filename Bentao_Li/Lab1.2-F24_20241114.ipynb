{
 "cells": [
  {
   "cell_type": "markdown",
   "metadata": {},
   "source": [
    "Bentao Li"
   ]
  },
  {
   "cell_type": "code",
   "execution_count": null,
   "metadata": {},
   "outputs": [],
   "source": [
    "Bentao Li"
   ]
  },
  {
   "cell_type": "markdown",
   "metadata": {},
   "source": [
    "# Lecture 1.2"
   ]
  },
  {
   "cell_type": "markdown",
   "metadata": {},
   "source": [
    "Thursday Aug 29th, 2024\n",
    "\n",
    "Lab 1.2 is due Tuesday Sep, 3rd\n",
    "\n",
    "Lecture Agenda:\n",
    "* debriefing on first class and homework, how's it going?\n",
    "* logistics of github, downloading this Lab 1.2 notebook\n",
    "* commenting and markup in notebooks\n",
    "* workflow for the class\n"
   ]
  },
  {
   "cell_type": "markdown",
   "metadata": {},
   "source": [
    "In general, we will do warmup exercises and lab exercises in a jupyter notebook. For most classes, you will download the notebook from github, open it on your local computer, and then upload your completed work back on github in your folder. Then in the assignment tab in Moodle, submit a url link to the completed lab, along with a screenshot of your completed score for the chapter(s) assigned in datacamp.\n",
    "\n",
    "In general, Tuesday labs are due Friday by midnight and Thursday labs are due the following Tuesday by midnight. This will give you a chance to ask questions in the next class if you get stuck on something. Note the first lab (1.1) was due early so you are set up for this lab. If you are stuck on anything, let me know, and get help from your classmates."
   ]
  },
  {
   "cell_type": "code",
   "execution_count": null,
   "metadata": {},
   "outputs": [],
   "source": [
    "# here is an example of code commenting. The # symbol means everything on this line will be ignored \n"
   ]
  },
  {
   "cell_type": "markdown",
   "metadata": {},
   "source": [
    "Here is an example of markdown text. Because this cell is in markdown mode it will also be ignored by the python shell"
   ]
  },
  {
   "cell_type": "code",
   "execution_count": 23,
   "metadata": {},
   "outputs": [
    {
     "name": "stdout",
     "output_type": "stream",
     "text": [
      "2\n"
     ]
    }
   ],
   "source": [
    "print(2)"
   ]
  },
  {
   "cell_type": "markdown",
   "metadata": {},
   "source": [
    "## Preliminaries"
   ]
  },
  {
   "cell_type": "markdown",
   "metadata": {},
   "source": [
    "In our class github site, create a folder for yourself where you will submit your jupyter notebooks. The easiest way to do this is to create a new file that is a placeholder document in the new folder. You can delete it later."
   ]
  },
  {
   "cell_type": "markdown",
   "metadata": {},
   "source": [
    "## Warmup exercises"
   ]
  },
  {
   "cell_type": "markdown",
   "metadata": {},
   "source": [
    "As you are doing these exercises, get familiar with jupyter notebook commands \n",
    "https://towardsdatascience.com/jypyter-notebook-shortcuts-bf0101a98330\n",
    "\n",
    "and markdown text https://medium.com/@ingeh/markdown-for-jupyter-notebooks-cheatsheet-386c05aeebed\n",
    "\n",
    "These exercises are based on what you have learned previously. Feel free to go look at what you did in datacamp to figure out how to answer them."
   ]
  },
  {
   "cell_type": "markdown",
   "metadata": {},
   "source": [
    "It is a markdown mode."
   ]
  },
  {
   "cell_type": "markdown",
   "metadata": {},
   "source": [
    "**W.1** Define and assign values to three variables of the three types we learned about Monday: integer, floating point, string and boolian. \n",
    "\n",
    "Note you can add more cells below by pressing the + button above or typing [esc] to command mode, then [b] to enter a cell below, or [a] to enter a cell above. See the link above for more command"
   ]
  },
  {
   "cell_type": "code",
   "execution_count": 2,
   "metadata": {},
   "outputs": [
    {
     "data": {
      "text/plain": [
       "3"
      ]
     },
     "execution_count": 2,
     "metadata": {},
     "output_type": "execute_result"
    }
   ],
   "source": [
    "integer_array = 3\n",
    "integer_array"
   ]
  },
  {
   "cell_type": "code",
   "execution_count": 3,
   "metadata": {},
   "outputs": [
    {
     "data": {
      "text/plain": [
       "3.0"
      ]
     },
     "execution_count": 3,
     "metadata": {},
     "output_type": "execute_result"
    }
   ],
   "source": [
    "float_array = 3.\n",
    "float_array"
   ]
  },
  {
   "cell_type": "code",
   "execution_count": 4,
   "metadata": {},
   "outputs": [
    {
     "data": {
      "text/plain": [
       "True"
      ]
     },
     "execution_count": 4,
     "metadata": {},
     "output_type": "execute_result"
    }
   ],
   "source": [
    "boolean_array = True\n",
    "boolean_array"
   ]
  },
  {
   "cell_type": "markdown",
   "metadata": {},
   "source": [
    "**W.2** Print out the value and check the type of each variable"
   ]
  },
  {
   "cell_type": "code",
   "execution_count": 25,
   "metadata": {},
   "outputs": [
    {
     "name": "stdout",
     "output_type": "stream",
     "text": [
      "<class 'int'>\n",
      "<class 'float'>\n",
      "<class 'bool'>\n"
     ]
    }
   ],
   "source": [
    "print(type(integer_array))\n",
    "print(type(float_array))\n",
    "print(type(boolean_array))"
   ]
  },
  {
   "cell_type": "markdown",
   "metadata": {},
   "source": [
    "**W.3** Create a new variable that saves the value of the float variable as a string. Print it out"
   ]
  },
  {
   "cell_type": "code",
   "execution_count": null,
   "metadata": {},
   "outputs": [],
   "source": [
    "float_str = str(float_array)\n",
    "print(float_str)"
   ]
  },
  {
   "cell_type": "markdown",
   "metadata": {},
   "source": [
    "**W.4** Using multiplication of a variable, print out the text \"Bueno Bueno Bueno Bueno Bueno\" (Shoutout to Monsieur Periné https://youtu.be/JGL-eQAAxGs see 10:45)"
   ]
  },
  {
   "cell_type": "code",
   "execution_count": 16,
   "metadata": {},
   "outputs": [
    {
     "name": "stdout",
     "output_type": "stream",
     "text": [
      "Bueno Bueno Bueno Bueno Bueno \n"
     ]
    }
   ],
   "source": [
    "string = 'Bueno '\n",
    "string_list = string * 5\n",
    "print(string_list)"
   ]
  },
  {
   "cell_type": "markdown",
   "metadata": {},
   "source": [
    "**W.5** Do the same thing using addtion"
   ]
  },
  {
   "cell_type": "code",
   "execution_count": 19,
   "metadata": {},
   "outputs": [
    {
     "name": "stdout",
     "output_type": "stream",
     "text": [
      "Bueno Bueno Bueno Bueno Bueno \n"
     ]
    }
   ],
   "source": [
    "string_list_2 = ''\n",
    "for i in range(5):\n",
    "    string_list_2 += string\n",
    "print(string_list_2)"
   ]
  },
  {
   "cell_type": "markdown",
   "metadata": {},
   "source": [
    "**W.6** If you add an int and a float, what is the resulting variable type? Demonstrate"
   ]
  },
  {
   "cell_type": "code",
   "execution_count": 32,
   "metadata": {},
   "outputs": [
    {
     "name": "stdout",
     "output_type": "stream",
     "text": [
      "20.0\n"
     ]
    }
   ],
   "source": [
    "integer = 4. \n",
    "int_multiple = integer * 5\n",
    "print(int_multiple)"
   ]
  },
  {
   "cell_type": "code",
   "execution_count": 33,
   "metadata": {},
   "outputs": [
    {
     "name": "stdout",
     "output_type": "stream",
     "text": [
      "25\n"
     ]
    }
   ],
   "source": [
    "integer = 5\n",
    "int_multiple = integer * 5\n",
    "print(int_multiple)"
   ]
  },
  {
   "cell_type": "markdown",
   "metadata": {},
   "source": [
    "**W.7** Can you convert a Boolian to an interger type variable? If so, what is the resulting value? What happens if you convert a float to an int?"
   ]
  },
  {
   "cell_type": "code",
   "execution_count": 3,
   "metadata": {},
   "outputs": [
    {
     "name": "stdout",
     "output_type": "stream",
     "text": [
      "1\n",
      "3\n"
     ]
    }
   ],
   "source": [
    "boolean_value = True\n",
    "integer_value = int(boolean_value)\n",
    "print(integer_value) \n",
    "\n",
    "float_value = 3.0\n",
    "integer_value = int(float_value)\n",
    "print(integer_value) "
   ]
  },
  {
   "cell_type": "markdown",
   "metadata": {},
   "source": [
    "# Lab 1.2"
   ]
  },
  {
   "cell_type": "markdown",
   "metadata": {},
   "source": [
    "## Lab Exercises"
   ]
  },
  {
   "cell_type": "markdown",
   "metadata": {},
   "source": [
    "**E.1** Complete Ch 2 of Introduction to Python in datacamp. "
   ]
  },
  {
   "cell_type": "markdown",
   "metadata": {},
   "source": [
    "**E.2** Below you will spend time practicing what you have learned in Ch 2. Use a comination of code, code commenting, and markdown text to take notes. Make sure you investigate how python syntax works and understand what you are doing, and what went wrong if you have any issues. You can refer to this document later if you need to review, so give future you lots of commenting to be helpful."
   ]
  },
  {
   "cell_type": "markdown",
   "metadata": {},
   "source": [
    "**E.2.1** Let's work on lists, indexing and printing out elements of lists.\n",
    "\n",
    "We are going to calculate the BMI of five family members (or friends/colleaues if you have a small family, or famous people/politicians/atheletes if you really don't like talking to people, they just have to be adults and you need their data). Make intellegently named lists for the first name, last name, height, weight and age of each person. So, five lists in total."
   ]
  },
  {
   "cell_type": "code",
   "execution_count": 5,
   "metadata": {},
   "outputs": [],
   "source": [
    "# List to store the first names of the people\n",
    "first_names = [\"Alice\", \"Bob\", \"Charlie\", \"Diana\"]\n",
    "\n",
    "# List to store the last names of the people\n",
    "last_names = [\"Smith\", \"Jones\", \"Taylor\", \"Brown\"]\n",
    "\n",
    "# List to store the heights (in centimeters) of the people\n",
    "heights = [165, 175, 180, 160]\n",
    "\n",
    "# List to store the weights (in kilograms) of the people\n",
    "weights = [55, 75, 80, 60]\n",
    "\n",
    "# List to store the ages of the people\n",
    "ages = [25, 30, 35, 40]"
   ]
  },
  {
   "cell_type": "markdown",
   "metadata": {},
   "source": [
    "**E.2.2** Now create a new list that calculates the BMI of each person using the lists you created before"
   ]
  },
  {
   "cell_type": "code",
   "execution_count": 8,
   "metadata": {},
   "outputs": [
    {
     "name": "stdout",
     "output_type": "stream",
     "text": [
      "[20.202020202020204, 24.489795918367346, 24.691358024691358, 23.437499999999996]\n"
     ]
    }
   ],
   "source": [
    "# List to store BMI values\n",
    "bmi_list = []\n",
    "\n",
    "# Calculate BMI for each person\n",
    "for i in range(len(first_names)):\n",
    "    height_meters = heights[i] / 100  # Convert height from cm to meters\n",
    "    bmi = weights[i] / (height_meters ** 2)  # BMI formula\n",
    "    bmi_list.append(bmi)\n",
    "print(bmi_list)"
   ]
  },
  {
   "cell_type": "markdown",
   "metadata": {},
   "source": [
    "**E.2.3** Look up the weight classification of each person based on their BMI (what's a good source for this, who do you trust?). Create a new list with this information for each person. (Don't judge, we live in Louisiana, which is not known for health food.)"
   ]
  },
  {
   "cell_type": "code",
   "execution_count": 9,
   "metadata": {},
   "outputs": [
    {
     "name": "stdout",
     "output_type": "stream",
     "text": [
      "['Normal', 'Normal', 'Normal', 'Normal']\n"
     ]
    }
   ],
   "source": [
    "# Underweight: BMI < 18.5\n",
    "# Normal weight: 18.5 ≤ BMI < 24.9\n",
    "# Overweight: 25 ≤ BMI < 29.9\n",
    "# Obesity: BMI ≥ 30 \n",
    "bmi_level_list = []\n",
    "for i in range(len(first_names)):\n",
    "    bmi_value = bmi_list[i]\n",
    "    if bmi_value < 18.5:\n",
    "        bmi_level = 'Underweight'\n",
    "    elif bmi_value >= 18.5 and bmi_value < 25:\n",
    "        bmi_level = 'Normal'\n",
    "    elif bmi_value >= 25 and bmi_value < 30:\n",
    "        bmi_level = 'Overweight'\n",
    "    elif bmi_value >= 30:\n",
    "        bmi_level = 'Obesity'\n",
    "    bmi_level_list.append(bmi_level)\n",
    "print(bmi_level_list)"
   ]
  },
  {
   "cell_type": "markdown",
   "metadata": {},
   "source": [
    "**E.2.3** Let's practice some print statements and iterate manually through the people on your lists.\n",
    "\n",
    "For each person, print out something like: \"First_name last_name, age xx, has a height of xx units and weight of xx units, giving them a body mass index (BMI) of xx, making them yy\" where yy is if they are normal, obese, etc."
   ]
  },
  {
   "cell_type": "code",
   "execution_count": 13,
   "metadata": {},
   "outputs": [
    {
     "name": "stdout",
     "output_type": "stream",
     "text": [
      "Alice Smith, age 25, has a height of 165 centimeters and weight of 55 kilograms with body mass index (BMI) of 20.2 and BMI type Normal\n",
      "Bob Jones, age 30, has a height of 175 centimeters and weight of 75 kilograms with body mass index (BMI) of 24.49 and BMI type Normal\n",
      "Charlie Taylor, age 35, has a height of 180 centimeters and weight of 80 kilograms with body mass index (BMI) of 24.69 and BMI type Normal\n",
      "Diana Brown, age 40, has a height of 160 centimeters and weight of 60 kilograms with body mass index (BMI) of 23.44 and BMI type Normal\n"
     ]
    }
   ],
   "source": [
    "import numpy as np\n",
    "for i in range(len(first_names)):\n",
    "    print(\"{} {}, age {}, has a height of {} centimeters and weight of {} kilograms with body mass index (BMI) of {} and BMI type {}\".format(\n",
    "        first_names[i], last_names[i], ages[i], heights[i], weights[i], np.round(bmi_list[i], 2), bmi_level_list[i]\n",
    "    ))"
   ]
  },
  {
   "cell_type": "markdown",
   "metadata": {},
   "source": [
    "**E.2.4** Now add/append your information to each of the lists, and do the same print statement for you. Make a resolution to eat more veggies."
   ]
  },
  {
   "cell_type": "code",
   "execution_count": 15,
   "metadata": {},
   "outputs": [
    {
     "name": "stdout",
     "output_type": "stream",
     "text": [
      "['Normal', 'Normal', 'Normal', 'Normal', 'Underweight', 'Obesity']\n"
     ]
    }
   ],
   "source": [
    "first_names.append('Bentao')\n",
    "last_names.append('Lee')\n",
    "ages.append(29)\n",
    "heights.append(165)\n",
    "weights.append(85)\n",
    "bmi_list.append(85 / (1.65 ** 2))\n",
    "bmi_level_list = []\n",
    "for i in range(len(first_names)):\n",
    "    bmi_value = bmi_list[i]\n",
    "    if bmi_value < 18.5:\n",
    "        bmi_level = 'Underweight'\n",
    "    elif bmi_value >= 18.5 and bmi_value < 25:\n",
    "        bmi_level = 'Normal'\n",
    "    elif bmi_value >= 25 and bmi_value < 30:\n",
    "        bmi_level = 'Overweight'\n",
    "    elif bmi_value >= 30:\n",
    "        bmi_level = 'Obesity'\n",
    "    bmi_level_list.append(bmi_level)\n",
    "print(bmi_level_list)"
   ]
  },
  {
   "cell_type": "markdown",
   "metadata": {},
   "source": [
    "When you are done with your lab, upload this document to your github folder on the class site. Then submit a url link to the completed lab, along with a screenshot of your completed Ch 2 score in datacamp, to the assignment tab in Moodle."
   ]
  },
  {
   "cell_type": "code",
   "execution_count": null,
   "metadata": {},
   "outputs": [],
   "source": []
  },
  {
   "cell_type": "markdown",
   "metadata": {},
   "source": [
    "# Scratch"
   ]
  },
  {
   "cell_type": "code",
   "execution_count": 5,
   "metadata": {},
   "outputs": [],
   "source": [
    "# this is an area of the notebook you can mess around and test things out, if you don't want to put it above"
   ]
  },
  {
   "cell_type": "code",
   "execution_count": null,
   "metadata": {},
   "outputs": [],
   "source": []
  },
  {
   "cell_type": "code",
   "execution_count": null,
   "metadata": {},
   "outputs": [],
   "source": []
  }
 ],
 "metadata": {
  "kernelspec": {
   "display_name": "Python 3 (ipykernel)",
   "language": "python",
   "name": "python3"
  },
  "language_info": {
   "codemirror_mode": {
    "name": "ipython",
    "version": 3
   },
   "file_extension": ".py",
   "mimetype": "text/x-python",
   "name": "python",
   "nbconvert_exporter": "python",
   "pygments_lexer": "ipython3",
   "version": "3.12.4"
  }
 },
 "nbformat": 4,
 "nbformat_minor": 4
}
