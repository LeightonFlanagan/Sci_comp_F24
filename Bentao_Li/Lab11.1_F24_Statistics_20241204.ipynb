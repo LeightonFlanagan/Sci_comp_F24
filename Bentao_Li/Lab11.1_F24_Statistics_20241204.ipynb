{
 "cells": [
  {
   "cell_type": "markdown",
   "id": "cooked-impact",
   "metadata": {
    "panel-layout": {
     "height": 51.12215805053711,
     "visible": true,
     "width": 100
    }
   },
   "source": [
    "Name Bentao Li"
   ]
  },
  {
   "cell_type": "markdown",
   "id": "crazy-drunk",
   "metadata": {
    "panel-layout": {
     "height": 51.12215805053711,
     "visible": true,
     "width": 100
    }
   },
   "source": [
    "Labpartner(s)"
   ]
  },
  {
   "cell_type": "code",
   "execution_count": 1,
   "id": "statistical-animal",
   "metadata": {},
   "outputs": [],
   "source": [
    "#import statements go here\n"
   ]
  },
  {
   "cell_type": "markdown",
   "id": "appointed-tribute",
   "metadata": {
    "panel-layout": {
     "height": 60.596588134765625,
     "visible": true,
     "width": 100
    }
   },
   "source": [
    "# Class 11.1"
   ]
  },
  {
   "cell_type": "markdown",
   "id": "834986df-a157-45a3-8679-12e793fe2c47",
   "metadata": {
    "panel-layout": {
     "height": 97.40056610107422,
     "visible": true,
     "width": 100
    }
   },
   "source": [
    "We are moving into the last weeks of the semester. \n",
    "\n",
    "If you are behind or need to resubmit a lab, all of the labs up to 9.2 need to be turned in by the end of next week, Friday 11/15 end of day. Reminder these need to be completed to pass the course. Please check Moodle to see if you had one sent back."
   ]
  },
  {
   "cell_type": "markdown",
   "id": "bbdf9630-73a5-4a8d-98c2-45c5ef81a0f0",
   "metadata": {},
   "source": [
    "# Warmup 11.1"
   ]
  },
  {
   "cell_type": "markdown",
   "id": "tracked-tradition",
   "metadata": {
    "panel-layout": {
     "height": 260.21307373046875,
     "visible": true,
     "width": 100
    }
   },
   "source": [
    "**W.1** Write a function that returns a list of the first n powers of 2 (2^0, 2^1, 2^2, 2^3...2^n)."
   ]
  },
  {
   "cell_type": "code",
   "execution_count": 31,
   "id": "champion-rouge",
   "metadata": {},
   "outputs": [
    {
     "name": "stdout",
     "output_type": "stream",
     "text": [
      "2\n"
     ]
    }
   ],
   "source": [
    "def power(n):\n",
    "\n",
    "    if isinstance(n, int) == True and n > 0:\n",
    "        return 2**n\n",
    "    else:\n",
    "        raise ValueError(\"n must be a positive integer greater than 0.\")\n",
    "\n",
    "print(power(1))"
   ]
  },
  {
   "cell_type": "markdown",
   "id": "d8da4541-ba6f-4313-8571-27b16539d41e",
   "metadata": {},
   "source": [
    "**W.2** Using the function above, plot the first 100 powers of 2"
   ]
  },
  {
   "cell_type": "code",
   "execution_count": 46,
   "id": "ab0b4930-a77d-467a-9fc9-5ac6602f8217",
   "metadata": {},
   "outputs": [
    {
     "data": {
      "image/png": "[encoded data removed]",
      "text/plain": [
       "<Figure size 640x480 with 1 Axes>"
      ]
     },
     "metadata": {},
     "output_type": "display_data"
    }
   ],
   "source": [
    "import numpy as np\n",
    "power_list = []\n",
    "num_list = []\n",
    "for i in np.arange(1, 101, 1):\n",
    "    i = int(i)\n",
    "    num_list.append(i)\n",
    "    #print(power(i))\n",
    "    power_list.append(power(i))\n",
    "\n",
    "import matplotlib.pyplot as plt\n",
    "plt.plot(num_list, power_list, c='k')\n",
    "plt.show()"
   ]
  },
  {
   "cell_type": "markdown",
   "id": "needed-irish",
   "metadata": {
    "panel-layout": {
     "height": 156.05113220214844,
     "visible": true,
     "width": 100
    }
   },
   "source": [
    "# Lecture 11.1\n",
    "\n",
    "No lecture today!\n",
    "If you have any questions, please post on slack and we will respond"
   ]
  },
  {
   "cell_type": "markdown",
   "id": "be69581e-ee02-4aa7-a18e-74c2d61cc1c7",
   "metadata": {
    "panel-layout": {
     "height": 10,
     "visible": true,
     "width": 100
    }
   },
   "source": []
  },
  {
   "cell_type": "markdown",
   "id": "working-lottery",
   "metadata": {
    "panel-layout": {
     "height": 60.596588134765625,
     "visible": true,
     "width": 100
    }
   },
   "source": [
    "# Lab 11.1"
   ]
  },
  {
   "cell_type": "markdown",
   "id": "42ba70db-1894-44eb-9688-5380d60b34f6",
   "metadata": {
    "panel-layout": {
     "height": 51.12215805053711,
     "visible": true,
     "width": 100
    }
   },
   "source": [
    "**E.0** Complete the previous labs if you are behind."
   ]
  },
  {
   "cell_type": "markdown",
   "id": "6254f746-973e-4ebe-ad02-f81c98a1d7c6",
   "metadata": {
    "panel-layout": {
     "height": 114.54544830322266,
     "visible": true,
     "width": 100
    }
   },
   "source": [
    "**E.1** Complete Introduction to Statistics in Python. Remember to submit your datacamp scores."
   ]
  },
  {
   "cell_type": "markdown",
   "id": "computational-child",
   "metadata": {
    "panel-layout": {
     "height": 85.41192626953125,
     "visible": true,
     "width": 100
    }
   },
   "source": [
    "**Notes** Make notes for yourself on progamming tecniques and commands you learned in the this week, including examples, comments and explainitory text. You can do this here or in a separate notebook that you link to here. Basically, you are making a cheat sheet for yourself."
   ]
  },
  {
   "cell_type": "code",
   "execution_count": null,
   "id": "consecutive-bowling",
   "metadata": {},
   "outputs": [],
   "source": []
  },
  {
   "cell_type": "code",
   "execution_count": null,
   "id": "a14a68ea-90e3-4c1f-bf2e-70a828ce942e",
   "metadata": {},
   "outputs": [],
   "source": []
  }
 ],
 "metadata": {
  "kernelspec": {
   "display_name": "Python 3 (ipykernel)",
   "language": "python",
   "name": "python3"
  },
  "language_info": {
   "codemirror_mode": {
    "name": "ipython",
    "version": 3
   },
   "file_extension": ".py",
   "mimetype": "text/x-python",
   "name": "python",
   "nbconvert_exporter": "python",
   "pygments_lexer": "ipython3",
   "version": "3.12.4"
  },
  "panel-cell-order": [
   "cooked-impact",
   "crazy-drunk",
   "appointed-tribute",
   "834986df-a157-45a3-8679-12e793fe2c47",
   "tracked-tradition",
   "needed-irish",
   "crucial-hobby",
   "be69581e-ee02-4aa7-a18e-74c2d61cc1c7",
   "working-lottery",
   "42ba70db-1894-44eb-9688-5380d60b34f6",
   "6254f746-973e-4ebe-ad02-f81c98a1d7c6",
   "ordinary-variable",
   "f8909a65-8319-4676-8478-c7e691e05403",
   "fff227cb-6c67-4666-825c-73b39feaa02f",
   "36b09aeb-22b0-4a9c-a95b-f4940e362a18",
   "computational-child"
  ]
 },
 "nbformat": 4,
 "nbformat_minor": 5
}
