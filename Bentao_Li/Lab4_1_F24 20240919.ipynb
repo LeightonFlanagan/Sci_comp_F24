{
  "cells": [
    {
      "cell_type": "markdown",
      "id": "underlying-transformation",
      "metadata": {
        "id": "underlying-transformation"
      },
      "source": [
        "Name Bentao Li"
      ]
    },
    {
      "cell_type": "markdown",
      "id": "genuine-works",
      "metadata": {
        "id": "genuine-works"
      },
      "source": [
        "[link text](https://)Labpartner(s) Qiang Yao"
      ]
    },
    {
      "cell_type": "code",
      "execution_count": null,
      "id": "international-split",
      "metadata": {
        "id": "international-split"
      },
      "outputs": [],
      "source": [
        "#import statements go here\n",
        "import pandas as pd\n",
        "import numpy as np\n",
        "import matplotlib.pyplot as plt"
      ]
    },
    {
      "cell_type": "markdown",
      "id": "miniature-explorer",
      "metadata": {
        "id": "miniature-explorer"
      },
      "source": [
        "# Lab 4.1"
      ]
    },
    {
      "cell_type": "markdown",
      "id": "nuclear-stroke",
      "metadata": {
        "id": "nuclear-stroke"
      },
      "source": [
        "## Instructions\n",
        "\n",
        "For each class, download the lab and have it up and running in Jupyter when we begin the class period. This will allow you to code along with the demonstrations and be ready to go. Put the name of your lab partner above.\n",
        "\n",
        "When you are done with your lab, upload this document to your github folder on the class site. Then submit a url link to the completed lab, along with a screenshot of your **completed score** for the chapter assigned in datacamp to the assignment tab in Moodle."
      ]
    },
    {
      "cell_type": "markdown",
      "id": "driving-abuse",
      "metadata": {
        "id": "driving-abuse"
      },
      "source": [
        "# Warmups 4.1"
      ]
    },
    {
      "cell_type": "markdown",
      "id": "processed-competition",
      "metadata": {
        "id": "processed-competition"
      },
      "source": [
        "W.1-3 Do exercises 1-3 in the Data Statisics problem: http://scipy-lectures.org/intro/numpy/exercises.html#data-statistics. See lab 4.1  on how to load in the data file"
      ]
    },
    {
      "cell_type": "code",
      "execution_count": 1,
      "id": "appreciated-cincinnati",
      "metadata": {
        "colab": {
          "base_uri": "https://localhost:8080/"
        },
        "id": "appreciated-cincinnati",
        "outputId": "d32054d6-a525-489a-bf3d-9ad24714c1b2"
      },
      "outputs": [
        {
          "output_type": "execute_result",
          "data": {
            "text/plain": [
              "array([[ 0,  1,  2,  3,  4],\n",
              "       [ 5,  6,  7,  8,  9],\n",
              "       [10, 11, 12, 13, 14],\n",
              "       [15, 16, 17, 18, 19],\n",
              "       [20, 21, 22, 23, 24]])"
            ]
          },
          "metadata": {},
          "execution_count": 1
        }
      ],
      "source": []
    },
    {
      "cell_type": "markdown",
      "id": "following-detective",
      "metadata": {
        "id": "following-detective"
      },
      "source": [
        "# Lecture 4.1"
      ]
    },
    {
      "cell_type": "markdown",
      "id": "fatty-period",
      "metadata": {
        "id": "fatty-period"
      },
      "source": [
        "Agenda:\n",
        "\n",
        "- Checking in after the hurricane, how is everyone doing?\n",
        "- Coding questions\n",
        "- Tabs in python\n",
        "\n",
        "Some relevant coding humor: https://www.youtube.com/watch?v=JfEIkkDkrmE"
      ]
    },
    {
      "cell_type": "markdown",
      "id": "b35d93e4-7938-4a08-b3b3-e02070bc8323",
      "metadata": {
        "id": "b35d93e4-7938-4a08-b3b3-e02070bc8323"
      },
      "source": [
        "Let's go over some of the examples here: https://scipy-lectures.org/intro/language/control_flow.html"
      ]
    },
    {
      "cell_type": "code",
      "execution_count": null,
      "id": "5d7a078f-a636-4ba1-a3ed-0b744e641000",
      "metadata": {
        "id": "5d7a078f-a636-4ba1-a3ed-0b744e641000"
      },
      "outputs": [],
      "source": [
        "x = np.array([1,2,3])\n",
        "x"
      ]
    },
    {
      "cell_type": "code",
      "execution_count": null,
      "id": "graduate-relay",
      "metadata": {
        "id": "graduate-relay"
      },
      "outputs": [],
      "source": [
        "# if statement\n",
        "\n",
        "if (x[1] == 3):\n",
        "    print('yes') # there is a tab before the print statement\n",
        "\n",
        "print('Hello')    # this is not part of the if statement\n"
      ]
    },
    {
      "cell_type": "code",
      "execution_count": null,
      "id": "documented-district",
      "metadata": {
        "id": "documented-district"
      },
      "outputs": [],
      "source": [
        "x[1] == 2"
      ]
    },
    {
      "cell_type": "code",
      "execution_count": null,
      "id": "operational-international",
      "metadata": {
        "id": "operational-international"
      },
      "outputs": [],
      "source": []
    },
    {
      "cell_type": "code",
      "execution_count": null,
      "id": "international-halifax",
      "metadata": {
        "id": "international-halifax"
      },
      "outputs": [],
      "source": [
        "y = np.array([4,7,6])\n",
        "y"
      ]
    },
    {
      "cell_type": "code",
      "execution_count": null,
      "id": "velvet-citation",
      "metadata": {
        "id": "velvet-citation"
      },
      "outputs": [],
      "source": [
        "if (y[-1] > 7):\n",
        "    print(\"Excellent\")\n",
        "\n",
        "print('Bogus')"
      ]
    },
    {
      "cell_type": "markdown",
      "id": "widespread-attention",
      "metadata": {
        "id": "widespread-attention"
      },
      "source": [
        "# Lab 4.1"
      ]
    },
    {
      "cell_type": "markdown",
      "id": "freelance-property",
      "metadata": {
        "id": "freelance-property"
      },
      "source": [
        "**E.1** Complete intermediate python chapter 3: Logic, Control Flow and Filtering\n",
        "\n",
        "Note that the tutorials here have similar material for your needs:\n",
        "https://github.com/chsharrison/Sci_comp_F24/blob/main/Course_materials/resources.md"
      ]
    },
    {
      "cell_type": "code",
      "execution_count": null,
      "id": "floating-observation",
      "metadata": {
        "id": "floating-observation"
      },
      "outputs": [],
      "source": []
    },
    {
      "cell_type": "markdown",
      "id": "prescribed-shooting",
      "metadata": {
        "id": "prescribed-shooting"
      },
      "source": [
        "**E.2** Make notes for yourself on all of the progamming tecniques and commands you learned in the datacamp chapter above, including examples, comments and explainitory text. You can do this here or in a separate notebook that you link to here. Basically, you are making a cheat sheet for yourself."
      ]
    },
    {
      "cell_type": "code",
      "execution_count": null,
      "id": "invisible-gather",
      "metadata": {
        "id": "invisible-gather"
      },
      "outputs": [],
      "source": []
    },
    {
      "cell_type": "markdown",
      "id": "crude-checkout",
      "metadata": {
        "id": "crude-checkout"
      },
      "source": [
        "**E.3** Exercise 1 on https://www.practicepython.org"
      ]
    },
    {
      "cell_type": "code",
      "execution_count": 2,
      "id": "curious-garage",
      "metadata": {
        "colab": {
          "base_uri": "https://localhost:8080/"
        },
        "id": "curious-garage",
        "outputId": "cf196a9d-7085-46d5-98ff-e4d90df9dfa3"
      },
      "outputs": [
        {
          "output_type": "stream",
          "name": "stdout",
          "text": [
            "Give me your name: Bentao\n",
            "Your name is Bentao\n"
          ]
        }
      ],
      "source": [
        "name = input(\"Give me your name: \")\n",
        "print(\"Your name is \" + name)"
      ]
    },
    {
      "cell_type": "code",
      "source": [
        "age = int(input(\"Enter your age: \"))"
      ],
      "metadata": {
        "colab": {
          "base_uri": "https://localhost:8080/"
        },
        "id": "Qgjm0jUaHxP0",
        "outputId": "e4b74bdb-9986-4003-e90b-266637de0c21"
      },
      "id": "Qgjm0jUaHxP0",
      "execution_count": 3,
      "outputs": [
        {
          "name": "stdout",
          "output_type": "stream",
          "text": [
            "Enter your age: 28\n"
          ]
        }
      ]
    },
    {
      "cell_type": "code",
      "source": [
        "print(4 * \"test\")"
      ],
      "metadata": {
        "colab": {
          "base_uri": "https://localhost:8080/"
        },
        "id": "cKBySub2IFBi",
        "outputId": "db38730e-d731-4ae0-893b-33bb95e523c8"
      },
      "id": "cKBySub2IFBi",
      "execution_count": 4,
      "outputs": [
        {
          "output_type": "stream",
          "name": "stdout",
          "text": [
            "testtesttesttest\n"
          ]
        }
      ]
    },
    {
      "cell_type": "markdown",
      "id": "infectious-renewal",
      "metadata": {
        "id": "infectious-renewal"
      },
      "source": [
        "**E.4** Exercise 2 on https://www.practicepython.org"
      ]
    },
    {
      "cell_type": "code",
      "source": [
        "5 % 3"
      ],
      "metadata": {
        "colab": {
          "base_uri": "https://localhost:8080/"
        },
        "id": "GTm9cCM8IEZz",
        "outputId": "9849cee1-2ec9-4b7e-bc9b-60d75d1d8042"
      },
      "id": "GTm9cCM8IEZz",
      "execution_count": 5,
      "outputs": [
        {
          "output_type": "execute_result",
          "data": {
            "text/plain": [
              "2"
            ]
          },
          "metadata": {},
          "execution_count": 5
        }
      ]
    },
    {
      "cell_type": "code",
      "execution_count": 6,
      "id": "narrow-relief",
      "metadata": {
        "colab": {
          "base_uri": "https://localhost:8080/"
        },
        "id": "narrow-relief",
        "outputId": "b923f501-8416-467f-985e-b156111641bd"
      },
      "outputs": [
        {
          "output_type": "execute_result",
          "data": {
            "text/plain": [
              "0"
            ]
          },
          "metadata": {},
          "execution_count": 6
        }
      ],
      "source": [
        "6 % 3"
      ]
    },
    {
      "cell_type": "code",
      "source": [
        "7 % 3"
      ],
      "metadata": {
        "colab": {
          "base_uri": "https://localhost:8080/"
        },
        "id": "Ls080xgKIM4r",
        "outputId": "e698627f-3bad-4d9a-f18f-6eb2d05d67c1"
      },
      "id": "Ls080xgKIM4r",
      "execution_count": 7,
      "outputs": [
        {
          "output_type": "execute_result",
          "data": {
            "text/plain": [
              "1"
            ]
          },
          "metadata": {},
          "execution_count": 7
        }
      ]
    },
    {
      "cell_type": "code",
      "source": [
        "9 % 3"
      ],
      "metadata": {
        "colab": {
          "base_uri": "https://localhost:8080/"
        },
        "id": "j5GC8aNhhK2W",
        "outputId": "8679ff4d-f77e-47c0-c68b-ad5aa016c0a5"
      },
      "id": "j5GC8aNhhK2W",
      "execution_count": 12,
      "outputs": [
        {
          "output_type": "execute_result",
          "data": {
            "text/plain": [
              "0"
            ]
          },
          "metadata": {},
          "execution_count": 12
        }
      ]
    },
    {
      "cell_type": "code",
      "source": [
        "age = int(input(\"Enter your age: \"))\n",
        "\n",
        "if age > 17:\n",
        "  print(\"can see a rated R movie\")\n",
        "elif age < 17 and age > 12:\n",
        "  print(\"can see a rated PG-13 movie\")\n",
        "else:\n",
        "  print(\"can only see rated PG movies\")"
      ],
      "metadata": {
        "colab": {
          "base_uri": "https://localhost:8080/"
        },
        "id": "cSLXPDyigFUN",
        "outputId": "15989acb-7883-447a-a1b8-752fca8a9a7c"
      },
      "id": "cSLXPDyigFUN",
      "execution_count": 9,
      "outputs": [
        {
          "output_type": "stream",
          "name": "stdout",
          "text": [
            "Enter your age: 28\n",
            "can see a rated R movie\n"
          ]
        }
      ]
    },
    {
      "cell_type": "code",
      "source": [
        "a = 18\n",
        "\n",
        "if a == 16:\n",
        "  print(\"the variable has the value 16\")\n",
        "elif a != 16:\n",
        "  print(\"the variable does not have the value 16\")"
      ],
      "metadata": {
        "colab": {
          "base_uri": "https://localhost:8080/"
        },
        "id": "AYyBX3RTgevG",
        "outputId": "e95f3818-5204-45ac-8962-a660fdb92a7e"
      },
      "id": "AYyBX3RTgevG",
      "execution_count": 10,
      "outputs": [
        {
          "output_type": "stream",
          "name": "stdout",
          "text": [
            "the variable does not have the value 16\n"
          ]
        }
      ]
    },
    {
      "cell_type": "code",
      "source": [
        "c = 'This is a good news'\n",
        "\n",
        "if c == 'This is a good news':\n",
        "  print(\"We have good news\")\n",
        "elif c != 'This is a good news':\n",
        "  print(\"We dont have good news\")"
      ],
      "metadata": {
        "colab": {
          "base_uri": "https://localhost:8080/"
        },
        "id": "mo_gal1cg55d",
        "outputId": "014828a0-5fc0-472b-ec37-4f691e4dcce2"
      },
      "id": "mo_gal1cg55d",
      "execution_count": 11,
      "outputs": [
        {
          "output_type": "stream",
          "name": "stdout",
          "text": [
            "We have good news\n"
          ]
        }
      ]
    },
    {
      "cell_type": "markdown",
      "id": "prescription-physiology",
      "metadata": {
        "id": "prescription-physiology"
      },
      "source": [
        "Don't forget to do some practicing of what you have been learning, including material from previous labs"
      ]
    },
    {
      "cell_type": "markdown",
      "id": "average-count",
      "metadata": {
        "id": "average-count"
      },
      "source": [
        "**You did it!**"
      ]
    },
    {
      "cell_type": "code",
      "execution_count": null,
      "id": "pressed-burning",
      "metadata": {
        "id": "pressed-burning"
      },
      "outputs": [],
      "source": []
    }
  ],
  "metadata": {
    "kernelspec": {
      "display_name": "Python 3 (ipykernel)",
      "language": "python",
      "name": "python3"
    },
    "language_info": {
      "codemirror_mode": {
        "name": "ipython",
        "version": 3
      },
      "file_extension": ".py",
      "mimetype": "text/x-python",
      "name": "python",
      "nbconvert_exporter": "python",
      "pygments_lexer": "ipython3",
      "version": "3.12.4"
    },
    "colab": {
      "provenance": []
    }
  },
  "nbformat": 4,
  "nbformat_minor": 5
}