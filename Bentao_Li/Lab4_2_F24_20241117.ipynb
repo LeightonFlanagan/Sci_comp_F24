{
  "cells": [
    {
      "cell_type": "markdown",
      "id": "short-malawi",
      "metadata": {
        "id": "short-malawi"
      },
      "source": [
        "Name"
      ]
    },
    {
      "cell_type": "markdown",
      "id": "frozen-floating",
      "metadata": {
        "id": "frozen-floating"
      },
      "source": [
        "Labpartner(s)"
      ]
    },
    {
      "cell_type": "code",
      "execution_count": null,
      "id": "classified-reunion",
      "metadata": {
        "id": "classified-reunion"
      },
      "outputs": [],
      "source": [
        "# import statements go here\n",
        "import numpy as np\n"
      ]
    },
    {
      "cell_type": "markdown",
      "id": "necessary-oklahoma",
      "metadata": {
        "id": "necessary-oklahoma"
      },
      "source": [
        "# Class 4.2"
      ]
    },
    {
      "cell_type": "markdown",
      "id": "solid-silicon",
      "metadata": {
        "id": "solid-silicon"
      },
      "source": [
        "## Today you all are going to do the lecture! It's Present Your Plots Day."
      ]
    },
    {
      "cell_type": "markdown",
      "id": "professional-simpson",
      "metadata": {
        "id": "professional-simpson"
      },
      "source": [
        "# Warmups 4.2"
      ]
    },
    {
      "cell_type": "markdown",
      "id": "imposed-baghdad",
      "metadata": {
        "id": "imposed-baghdad"
      },
      "source": [
        "### Warmup is short today so we have time to focus on your plots."
      ]
    },
    {
      "cell_type": "markdown",
      "id": "commercial-abraham",
      "metadata": {
        "id": "commercial-abraham"
      },
      "source": [
        "**W.1** Do Exercise 3 in practice python https://www.practicepython.org"
      ]
    },
    {
      "cell_type": "code",
      "execution_count": null,
      "id": "4aca4e82-2de2-4793-99d0-633288ee8991",
      "metadata": {
        "id": "4aca4e82-2de2-4793-99d0-633288ee8991"
      },
      "outputs": [],
      "source": [
        "  a = [1, 1, 2, 3, 5, 8, 13, 21, 34, 55, 89]"
      ]
    },
    {
      "cell_type": "code",
      "execution_count": null,
      "id": "25bee43b-d7cc-43a8-8f59-00b7e12209a6",
      "metadata": {
        "id": "25bee43b-d7cc-43a8-8f59-00b7e12209a6",
        "outputId": "02c1301f-5318-4aa3-913c-b4e2cccba9f1"
      },
      "outputs": [
        {
          "data": {
            "text/plain": [
              "[3]"
            ]
          },
          "execution_count": 5,
          "metadata": {},
          "output_type": "execute_result"
        }
      ],
      "source": [
        "x = []\n",
        "x.append(3)\n",
        "x"
      ]
    },
    {
      "cell_type": "code",
      "execution_count": null,
      "id": "dbd2e31f-3ccd-42a5-b2a7-890127fb660a",
      "metadata": {
        "id": "dbd2e31f-3ccd-42a5-b2a7-890127fb660a",
        "outputId": "79a24df1-d8ed-404c-d439-ba7e5269b91d"
      },
      "outputs": [
        {
          "name": "stdout",
          "output_type": "stream",
          "text": [
            "1\n",
            "3\n",
            "Michele\n",
            "[5, 6, 7]\n"
          ]
        }
      ],
      "source": [
        "my_list = [1, 3, \"Michele\", [5, 6, 7]]\n",
        "for element in my_list:\n",
        "  print(element)"
      ]
    },
    {
      "cell_type": "code",
      "execution_count": null,
      "id": "56c593ea-7774-41e1-82d1-677f9359c708",
      "metadata": {
        "id": "56c593ea-7774-41e1-82d1-677f9359c708",
        "outputId": "4b1656ae-ca29-43e7-ce38-aedf590bb2ec"
      },
      "outputs": [
        {
          "name": "stdin",
          "output_type": "stream",
          "text": [
            "Enter your grade:  90\n"
          ]
        },
        {
          "name": "stdout",
          "output_type": "stream",
          "text": [
            "A\n"
          ]
        }
      ],
      "source": [
        "grade = input(\"Enter your grade: \")\n",
        "grade = int(grade)\n",
        "if grade >= 90:\n",
        "  print(\"A\")\n",
        "elif grade >= 80:\n",
        "  print(\"B\")\n",
        "elif grade >= 70:\n",
        "  print(\"C\")\n",
        "elif grade >= 65:\n",
        "  print(\"D\")\n",
        "else:\n",
        "  print(\"F\")"
      ]
    },
    {
      "cell_type": "markdown",
      "id": "automated-immune",
      "metadata": {
        "id": "automated-immune"
      },
      "source": [
        "## Agenda:\n",
        "\n",
        "- Questions about class or coding\n",
        "- Show us your plots! Explain your data set, what you did with it, and what your learned, including any difficulties you had and how you solved them."
      ]
    },
    {
      "cell_type": "code",
      "execution_count": null,
      "id": "perfect-suite",
      "metadata": {
        "id": "perfect-suite"
      },
      "outputs": [],
      "source": []
    },
    {
      "cell_type": "markdown",
      "id": "conventional-external",
      "metadata": {
        "id": "conventional-external"
      },
      "source": [
        "# Lab 4.2"
      ]
    },
    {
      "cell_type": "markdown",
      "id": "married-prior",
      "metadata": {
        "id": "married-prior"
      },
      "source": [
        "**E.1** Complete intermediate python chapter 4: Loops\n",
        "\n",
        "Note that loops often are very confusing for new programmers, but they are very powerful and super-useful. You will be seing them again.\n",
        "\n",
        "Note that the tutorials here have similar material for your needs:\n",
        "https://github.com/chsharrison/Sci_comp_F24/blob/main/Course_materials/resources.md"
      ]
    },
    {
      "cell_type": "markdown",
      "id": "color-difference",
      "metadata": {
        "id": "color-difference"
      },
      "source": [
        "**E.2** Make notes for yourself on all of the progamming tecniques and commands you learned in the datacamp chapter above, including examples, comments and explainitory text. You might use the resources linked above for supplementary examples. You can do this here or in a separate notebook that you link to here. Basically, you are making a cheat sheet for yourself."
      ]
    },
    {
      "cell_type": "code",
      "execution_count": null,
      "id": "infectious-battery",
      "metadata": {
        "id": "infectious-battery"
      },
      "outputs": [],
      "source": [
        "It is good to know the loop for pandas.Dataframe with both .iterrows() and .apply(), and I usually applied the loop with loop for pandas.Dataframe.shpae[0] based on row's index. And .iterrows() is more useful to index the row and column in the dataframe."
      ]
    },
    {
      "cell_type": "markdown",
      "source": [],
      "metadata": {
        "id": "W6qpb5WlXjfq"
      },
      "id": "W6qpb5WlXjfq"
    },
    {
      "cell_type": "markdown",
      "id": "colored-alfred",
      "metadata": {
        "id": "colored-alfred"
      },
      "source": [
        "**E.3-6** Exercises 4-7 in practice python (see link above)"
      ]
    },
    {
      "cell_type": "code",
      "execution_count": null,
      "id": "eligible-glasgow",
      "metadata": {
        "id": "eligible-glasgow",
        "outputId": "38255bd2-846e-4134-c5d6-02be09f9ff28"
      },
      "outputs": [
        {
          "name": "stdout",
          "output_type": "stream",
          "text": [
            "2\n",
            "3\n",
            "4\n",
            "5\n",
            "6\n",
            "7\n",
            "8\n",
            "9\n",
            "10\n",
            "11\n",
            "12\n",
            "13\n",
            "14\n"
          ]
        }
      ],
      "source": [
        "x = range(2, 15)\n",
        "for element in x:\n",
        "    print(element)"
      ]
    },
    {
      "cell_type": "code",
      "execution_count": null,
      "id": "cec338d0-4904-42e8-8952-829abe5ece89",
      "metadata": {
        "id": "cec338d0-4904-42e8-8952-829abe5ece89",
        "outputId": "1ccefc45-fcc3-47bf-d04c-7f9440d7f912"
      },
      "outputs": [
        {
          "name": "stdout",
          "output_type": "stream",
          "text": [
            "False\n",
            "True\n"
          ]
        }
      ],
      "source": [
        "a = [1, 1, 2, 3, 5, 8, 13, 21, 34, 55, 89]\n",
        "b = [1, 2, 3, 4, 5, 6, 7, 8, 9, 10, 11, 12, 13]\n",
        "\n",
        "print(10 in a)\n",
        "print(5 in b)"
      ]
    },
    {
      "cell_type": "code",
      "execution_count": null,
      "id": "db4ed91c-b828-4bfb-9ef3-936c6aa010ee",
      "metadata": {
        "id": "db4ed91c-b828-4bfb-9ef3-936c6aa010ee",
        "outputId": "d16f30eb-d762-4fb5-d92e-066226f1fd65"
      },
      "outputs": [
        {
          "name": "stdout",
          "output_type": "stream",
          "text": [
            "[5, 15, 25, 35]\n"
          ]
        }
      ],
      "source": [
        "a = [5, 10, 15, 20, 25, 30, 35, 40]\n",
        "print(a[::2])"
      ]
    },
    {
      "cell_type": "code",
      "execution_count": null,
      "id": "ae7916da-45c8-4a18-bf5a-e5f2efd9ebed",
      "metadata": {
        "id": "ae7916da-45c8-4a18-bf5a-e5f2efd9ebed",
        "outputId": "1bc37cde-a0f0-4f40-f499-07f876803c31"
      },
      "outputs": [
        {
          "name": "stdout",
          "output_type": "stream",
          "text": [
            "one letter: e\n",
            "one letter: x\n",
            "one letter: a\n",
            "one letter: m\n",
            "one letter: p\n",
            "one letter: l\n",
            "one letter: e\n",
            "one letter: o\n",
            "one letter: f\n",
            "one letter: f\n",
            "one letter: i\n",
            "one letter: n\n",
            "one letter: e\n",
            "one letter: r\n",
            "one letter: m\n",
            "one letter: o\n",
            "one letter: d\n",
            "one letter: e\n",
            "one letter: l\n"
          ]
        }
      ],
      "source": [
        "string = \"example of finer model\"\n",
        "for c in string:\n",
        "    if c != ' ':\n",
        "        print(\"one letter: \" + c)"
      ]
    },
    {
      "cell_type": "code",
      "execution_count": null,
      "id": "0e42e846-093d-49b0-b581-95045eaf3516",
      "metadata": {
        "id": "0e42e846-093d-49b0-b581-95045eaf3516"
      },
      "outputs": [],
      "source": []
    }
  ],
  "metadata": {
    "kernelspec": {
      "display_name": "Python 3 (ipykernel)",
      "language": "python",
      "name": "python3"
    },
    "language_info": {
      "codemirror_mode": {
        "name": "ipython",
        "version": 3
      },
      "file_extension": ".py",
      "mimetype": "text/x-python",
      "name": "python",
      "nbconvert_exporter": "python",
      "pygments_lexer": "ipython3",
      "version": "3.12.4"
    },
    "colab": {
      "provenance": []
    }
  },
  "nbformat": 4,
  "nbformat_minor": 5
}