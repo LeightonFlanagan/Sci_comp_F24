{
 "cells": [
  {
   "cell_type": "markdown",
   "id": "existing-kelly",
   "metadata": {},
   "source": [
    "Name Bentao Li"
   ]
  },
  {
   "cell_type": "markdown",
   "id": "functioning-current",
   "metadata": {},
   "source": [
    "Labpartner(s) Qiang Yao"
   ]
  },
  {
   "cell_type": "code",
   "execution_count": 137,
   "id": "republican-appearance",
   "metadata": {},
   "outputs": [],
   "source": [
    "#import statements go here\n",
    "import numpy as np\n",
    "import matplotlib.pyplot as plt"
   ]
  },
  {
   "cell_type": "markdown",
   "id": "rising-queue",
   "metadata": {},
   "source": [
    "# Class 5.2"
   ]
  },
  {
   "cell_type": "markdown",
   "id": "powerful-lyric",
   "metadata": {},
   "source": [
    "In this lab you will learn about functions, and apply this to your datasets. Next week we will have present your work day again, see below for details. Hopefully the material is building to the point where it is not all foriegn and you will feel a bit more confident."
   ]
  },
  {
   "cell_type": "markdown",
   "id": "contrary-communications",
   "metadata": {},
   "source": [
    "# Warmups 5.2"
   ]
  },
  {
   "cell_type": "markdown",
   "id": "e016e8c3-69ef-40f4-a99d-6f9c92044dab",
   "metadata": {},
   "source": [
    "Let's practice for loops and logical control"
   ]
  },
  {
   "cell_type": "markdown",
   "id": "critical-cooperation",
   "metadata": {},
   "source": [
    "**W.1** Complete practice python (practicepython.org) Exercise 4:\n",
    "\n",
    "Create a program that asks the user for a number and then prints out a list of all the divisors of that number. (If you don’t know what a divisor is, it is a number that divides evenly into another number. For example, 13 is a divisor of 26 because 26 / 13 has no remainder.)"
   ]
  },
  {
   "cell_type": "code",
   "execution_count": 7,
   "id": "stone-majority",
   "metadata": {},
   "outputs": [
    {
     "name": "stdin",
     "output_type": "stream",
     "text": [
      "Please choose a number to divide:  -40\n"
     ]
    },
    {
     "name": "stdout",
     "output_type": "stream",
     "text": [
      "Please choose a positive number\n"
     ]
    },
    {
     "name": "stdin",
     "output_type": "stream",
     "text": [
      "Please choose a number to divide:  -40\n"
     ]
    },
    {
     "name": "stdout",
     "output_type": "stream",
     "text": [
      "[]\n"
     ]
    }
   ],
   "source": [
    "__author__ = 'Bentao Li'\n",
    "\n",
    "num = int(input(\"Please choose a number to divide: \"))\n",
    "\n",
    "if num > 0:\n",
    "\n",
    "    listRange = list(range(1,num+1))\n",
    "    \n",
    "    divisorList = []\n",
    "    \n",
    "    for number in listRange:\n",
    "        if num % number == 0:\n",
    "            divisorList.append(number)\n",
    "    \n",
    "    print(divisorList)\n",
    "\n",
    "else:\n",
    "    print(\"Please choose a positive number\")\n",
    "    num = int(input(\"Please choose a number to divide: \"))\n",
    "    \n",
    "    listRange = list(range(1,num+1))\n",
    "    \n",
    "    divisorList = []\n",
    "    \n",
    "    for number in listRange:\n",
    "        if num % number == 0:\n",
    "            divisorList.append(number)\n",
    "    \n",
    "    print(divisorList)\n"
   ]
  },
  {
   "cell_type": "markdown",
   "id": "3712c86b-643c-4778-b6be-cea2d71727f2",
   "metadata": {},
   "source": [
    "**W.2** Complete practice python Exercise 5: \n",
    "\n",
    "Take two lists, say for example these two:\n",
    "\n",
    "  a = [1, 1, 2, 3, 5, 8, 13, 21, 34, 55, 89]\n",
    "\n",
    "  b = [1, 2, 3, 4, 5, 6, 7, 8, 9, 10, 11, 12, 13]\n",
    "\n",
    "and write a program that returns a list that contains only the elements that are common between the lists (without duplicates). Make sure your program works on two lists of different sizes.\n",
    "\n",
    "Extras:\n",
    "\n",
    "Randomly generate two lists to test this\n",
    "\n",
    "Write this in one line of Python (don’t worry if you can’t figure this out at this point)"
   ]
  },
  {
   "cell_type": "code",
   "execution_count": 30,
   "id": "fdf675cc-c252-4981-be92-1db2f54150d5",
   "metadata": {},
   "outputs": [
    {
     "name": "stdout",
     "output_type": "stream",
     "text": [
      "{1, 2, 3, 5, 8, 13}\n",
      "[26, 146, 14, 174, 13, 99, 4, 70, 39, 57, 81, 2, 35, 185, 118, 10, 198, 141, 45, 65, 91, 145, 116, 88, 41, 151, 114, 72, 159, 135, 78, 3, 188, 36, 110, 194, 186, 81, 27, 33, 48, 67, 135, 31, 59, 43, 142, 166, 101, 44, 83, 101, 102, 188, 129, 178, 27, 73, 166, 28, 4, 56, 59, 172, 93, 196, 40, 158, 185, 3, 191, 176, 163, 159, 158, 139, 89, 190, 120]\n",
      "[182, 58, 180, 46, 48, 169, 98, 73, 199, 5, 113, 63, 103, 109, 89, 92, 149, 179, 37, 19, 117, 25, 69, 69, 16, 181]\n",
      "[48, 73, 89]\n"
     ]
    }
   ],
   "source": [
    "a = [1, 1, 2, 3, 5, 8, 13, 21, 34, 55, 89]\n",
    "b = [1, 2, 3, 4, 5, 6, 7, 8, 9, 10, 11, 12, 13]\n",
    "print(set(a[x] for x in range(len(a))if a[x] in b))\n",
    "\n",
    "import random\n",
    "a = [random.randint(1, 200) for _ in range(random.randint(10, 150))]\n",
    "b = [random.randint(1, 200) for _ in range(random.randint(10, 150))]\n",
    "print(a)\n",
    "print(b)\n",
    "print(list(set(a[x] for x in range(len(a))if a[x] in b)))\n",
    "\n"
   ]
  },
  {
   "cell_type": "markdown",
   "id": "activated-arbitration",
   "metadata": {},
   "source": [
    "# Lecture 5.2\n",
    "\n",
    "### Agenda:\n",
    "\n",
    "- Questions\n",
    "- Functions!\n"
   ]
  },
  {
   "cell_type": "markdown",
   "id": "effective-career",
   "metadata": {},
   "source": [
    "### Questions"
   ]
  },
  {
   "cell_type": "code",
   "execution_count": null,
   "id": "suffering-selection",
   "metadata": {},
   "outputs": [],
   "source": []
  },
  {
   "cell_type": "markdown",
   "id": "photographic-injection",
   "metadata": {},
   "source": [
    "### Functions\n",
    "\n",
    "Functions are super-useful for doing repetative tasks. You have been using pre-defined functions constantly, when you define arrays, make a plot, or analyse data. Now you are going to learn to write your own.\n",
    "\n",
    "For more information on functions and documenting:\n",
    "- http://scipy-lectures.org/intro/language/functions.html?highlight=functions\n",
    "- https://realpython.com/documenting-python-code/\n",
    "\n",
    "\n",
    "Basic syntax:"
   ]
  },
  {
   "cell_type": "code",
   "execution_count": 32,
   "id": "absolute-canada",
   "metadata": {},
   "outputs": [],
   "source": [
    "# first you define the function\n",
    "\n",
    "def function_name():\n",
    "    # some code that does something\n",
    "    print('Inside the function')"
   ]
  },
  {
   "cell_type": "code",
   "execution_count": 34,
   "id": "unable-personal",
   "metadata": {},
   "outputs": [
    {
     "name": "stdout",
     "output_type": "stream",
     "text": [
      "Inside the function\n"
     ]
    }
   ],
   "source": [
    "# then you call the function\n",
    "function_name()"
   ]
  },
  {
   "cell_type": "markdown",
   "id": "about-voice",
   "metadata": {},
   "source": [
    "Note that defined funtions show up using whos"
   ]
  },
  {
   "cell_type": "code",
   "execution_count": 73,
   "id": "sound-intellectual",
   "metadata": {},
   "outputs": [
    {
     "name": "stdout",
     "output_type": "stream",
     "text": [
      "Variable               Type        Data/Info\n",
      "--------------------------------------------\n",
      "a                      list        n=79\n",
      "area                   NoneType    None\n",
      "b                      list        n=26\n",
      "circle_area            function    <function circle_area at 0x00000250CEA24EA0>\n",
      "circle_area2           function    <function circle_area2 at 0x00000250D1BEDB20>\n",
      "dataframe_columns      function    <function dataframe_colum<...>ns at 0x00000250D1BEDA80>\n",
      "dataframe_hash         function    <function dataframe_hash at 0x00000250D1BED3A0>\n",
      "divisorList            list        n=0\n",
      "dtypes_str             function    <function dtypes_str at 0x00000250D1BED440>\n",
      "function_name          function    <function function_name at 0x00000250CEA271A0>\n",
      "get_dataframes         function    <function get_dataframes at 0x00000250D1BED8A0>\n",
      "getpass                module      <module 'getpass' from 'C<...>conda3\\\\Lib\\\\getpass.py'>\n",
      "hashlib                module      <module 'hashlib' from 'C<...>conda3\\\\Lib\\\\hashlib.py'>\n",
      "import_pandas_safely   function    <function import_pandas_s<...>ly at 0x00000250D1BECEA0>\n",
      "is_data_frame          function    <function is_data_frame at 0x00000250D1BEE200>\n",
      "json                   module      <module 'json' from 'C:\\\\<...>\\Lib\\\\json\\\\__init__.py'>\n",
      "listRange              list        n=0\n",
      "num                    int         -40\n",
      "number                 int         40\n",
      "random                 module      <module 'random' from 'C:<...>aconda3\\\\Lib\\\\random.py'>\n"
     ]
    }
   ],
   "source": [
    "whos"
   ]
  },
  {
   "cell_type": "markdown",
   "id": "standing-constant",
   "metadata": {},
   "source": [
    "That's a really useless function, let's make a better one."
   ]
  },
  {
   "cell_type": "code",
   "execution_count": 61,
   "id": "voluntary-particle",
   "metadata": {},
   "outputs": [
    {
     "ename": "SyntaxError",
     "evalue": "'break' outside loop (2908372378.py, line 10)",
     "output_type": "error",
     "traceback": [
      "\u001b[1;36m  Cell \u001b[1;32mIn[61], line 10\u001b[1;36m\u001b[0m\n\u001b[1;33m    break\u001b[0m\n\u001b[1;37m    ^\u001b[0m\n\u001b[1;31mSyntaxError\u001b[0m\u001b[1;31m:\u001b[0m 'break' outside loop\n"
     ]
    }
   ],
   "source": [
    "# usually you want to pass a varible of some sort to the function to manipulate\n",
    "\n",
    "def circle_area(radius):\n",
    "    if radius > 0:\n",
    "        area = 3.14*radius**2\n",
    "        return area   # the return statement means that the function will return that variable\n",
    "    else:   \n",
    "        print('no')"
   ]
  },
  {
   "cell_type": "code",
   "execution_count": 65,
   "id": "noble-right",
   "metadata": {},
   "outputs": [
    {
     "name": "stdout",
     "output_type": "stream",
     "text": [
      "no\n"
     ]
    }
   ],
   "source": [
    "area = circle_area(-5)\n",
    "area"
   ]
  },
  {
   "cell_type": "markdown",
   "id": "little-numbers",
   "metadata": {},
   "source": [
    "What happens if I don't add the required input?"
   ]
  },
  {
   "cell_type": "code",
   "execution_count": 68,
   "id": "isolated-turning",
   "metadata": {},
   "outputs": [
    {
     "ename": "TypeError",
     "evalue": "circle_area() missing 1 required positional argument: 'radius'",
     "output_type": "error",
     "traceback": [
      "\u001b[1;31m---------------------------------------------------------------------------\u001b[0m",
      "\u001b[1;31mTypeError\u001b[0m                                 Traceback (most recent call last)",
      "Cell \u001b[1;32mIn[68], line 1\u001b[0m\n\u001b[1;32m----> 1\u001b[0m circle_area()\n",
      "\u001b[1;31mTypeError\u001b[0m: circle_area() missing 1 required positional argument: 'radius'"
     ]
    }
   ],
   "source": [
    "circle_area()"
   ]
  },
  {
   "cell_type": "markdown",
   "id": "removed-black",
   "metadata": {},
   "source": [
    "What happens if I omit the return statement?"
   ]
  },
  {
   "cell_type": "code",
   "execution_count": 81,
   "id": "traditional-drain",
   "metadata": {},
   "outputs": [],
   "source": [
    "def circle_area2(radius):\n",
    "    area = 3.14*radius**2"
   ]
  },
  {
   "cell_type": "code",
   "execution_count": 83,
   "id": "falling-committee",
   "metadata": {},
   "outputs": [],
   "source": [
    "b = circle_area2(5)\n",
    "b"
   ]
  },
  {
   "cell_type": "markdown",
   "id": "retired-converter",
   "metadata": {},
   "source": [
    "How do I save the function output to a variable?"
   ]
  },
  {
   "cell_type": "markdown",
   "id": "enabling-mainland",
   "metadata": {},
   "source": [
    "Does the area variable inside the function exist outside of it?"
   ]
  },
  {
   "cell_type": "code",
   "execution_count": 86,
   "id": "informative-wallpaper",
   "metadata": {},
   "outputs": [
    {
     "name": "stdout",
     "output_type": "stream",
     "text": [
      "Variable               Type        Data/Info\n",
      "--------------------------------------------\n",
      "a                      list        n=79\n",
      "area                   NoneType    None\n",
      "b                      NoneType    None\n",
      "circle_area            function    <function circle_area at 0x00000250CEA24EA0>\n",
      "circle_area2           function    <function circle_area2 at 0x00000250D1BECD60>\n",
      "dataframe_columns      function    <function dataframe_colum<...>ns at 0x00000250D1BEDA80>\n",
      "dataframe_hash         function    <function dataframe_hash at 0x00000250D1BED3A0>\n",
      "divisorList            list        n=0\n",
      "dtypes_str             function    <function dtypes_str at 0x00000250D1BED440>\n",
      "function_name          function    <function function_name at 0x00000250CEA271A0>\n",
      "get_dataframes         function    <function get_dataframes at 0x00000250D1BEC2C0>\n",
      "getpass                module      <module 'getpass' from 'C<...>conda3\\\\Lib\\\\getpass.py'>\n",
      "hashlib                module      <module 'hashlib' from 'C<...>conda3\\\\Lib\\\\hashlib.py'>\n",
      "import_pandas_safely   function    <function import_pandas_s<...>ly at 0x00000250D0F8D940>\n",
      "is_data_frame          function    <function is_data_frame at 0x00000250D1BEDB20>\n",
      "json                   module      <module 'json' from 'C:\\\\<...>\\Lib\\\\json\\\\__init__.py'>\n",
      "listRange              list        n=0\n",
      "num                    int         -40\n",
      "number                 int         40\n",
      "random                 module      <module 'random' from 'C:<...>aconda3\\\\Lib\\\\random.py'>\n"
     ]
    }
   ],
   "source": [
    "whos"
   ]
  },
  {
   "cell_type": "code",
   "execution_count": 88,
   "id": "productive-ethiopia",
   "metadata": {},
   "outputs": [],
   "source": [
    "area"
   ]
  },
  {
   "cell_type": "markdown",
   "id": "arctic-vinyl",
   "metadata": {},
   "source": [
    "Note I also could have made my function like this:"
   ]
  },
  {
   "cell_type": "code",
   "execution_count": 91,
   "id": "visible-annex",
   "metadata": {},
   "outputs": [],
   "source": [
    "def circle_area4(radius):\n",
    "    return 3.14*radius**2"
   ]
  },
  {
   "cell_type": "code",
   "execution_count": 93,
   "id": "narrow-forward",
   "metadata": {},
   "outputs": [
    {
     "data": {
      "text/plain": [
       "78.5"
      ]
     },
     "execution_count": 93,
     "metadata": {},
     "output_type": "execute_result"
    }
   ],
   "source": [
    "circle_area4(5)"
   ]
  },
  {
   "cell_type": "code",
   "execution_count": 95,
   "id": "plain-exchange",
   "metadata": {},
   "outputs": [
    {
     "data": {
      "text/plain": [
       "78.5"
      ]
     },
     "execution_count": 95,
     "metadata": {},
     "output_type": "execute_result"
    }
   ],
   "source": [
    "circle_area4(-5)"
   ]
  },
  {
   "cell_type": "markdown",
   "id": "neither-forty",
   "metadata": {},
   "source": [
    "### Parsing for bad input"
   ]
  },
  {
   "cell_type": "markdown",
   "id": "short-springfield",
   "metadata": {},
   "source": [
    "Note my above function will work even if the input is negative, which is not reasonable. So I probably want to include a statement that checks if the input is weird."
   ]
  },
  {
   "cell_type": "code",
   "execution_count": 103,
   "id": "round-shirt",
   "metadata": {},
   "outputs": [],
   "source": [
    "def circle_area5(radius):\n",
    "    # put in an if statement to handle bad inputs\n",
    "    if radius <= 0:\n",
    "        print('bad')\n",
    "        return\n",
    "    return 3.14*radius**2"
   ]
  },
  {
   "cell_type": "code",
   "execution_count": 106,
   "id": "151f3365-5f72-4913-8634-75cd7dd21ad2",
   "metadata": {},
   "outputs": [
    {
     "name": "stdout",
     "output_type": "stream",
     "text": [
      "bad\n"
     ]
    }
   ],
   "source": [
    "circle_area5(-5)"
   ]
  },
  {
   "cell_type": "markdown",
   "id": "virgin-tragedy",
   "metadata": {},
   "source": [
    "### Using packages within functions"
   ]
  },
  {
   "cell_type": "markdown",
   "id": "initial-public",
   "metadata": {},
   "source": [
    "We can also have import statements within a function, but this can slow the function down if the package is not loaded already"
   ]
  },
  {
   "cell_type": "code",
   "execution_count": 101,
   "id": "educated-saver",
   "metadata": {},
   "outputs": [],
   "source": [
    "def circle_area6(radius):\n",
    "    if radius <= 0:\n",
    "        print('Error: radius needs to be positive')\n",
    "        return # exit the function\n",
    "    \n",
    "    import numpy as np\n",
    "    \n",
    "    return np.pi*radius**2"
   ]
  },
  {
   "cell_type": "code",
   "execution_count": 99,
   "id": "chronic-bookmark",
   "metadata": {},
   "outputs": [
    {
     "ename": "NameError",
     "evalue": "name 'circle_area6' is not defined",
     "output_type": "error",
     "traceback": [
      "\u001b[1;31m---------------------------------------------------------------------------\u001b[0m",
      "\u001b[1;31mNameError\u001b[0m                                 Traceback (most recent call last)",
      "Cell \u001b[1;32mIn[99], line 1\u001b[0m\n\u001b[1;32m----> 1\u001b[0m circle_area6(\u001b[38;5;241m3\u001b[39m)\n",
      "\u001b[1;31mNameError\u001b[0m: name 'circle_area6' is not defined"
     ]
    }
   ],
   "source": [
    "circle_area6(3) # note this is a much more accurate"
   ]
  },
  {
   "cell_type": "markdown",
   "id": "ethical-forest",
   "metadata": {},
   "source": [
    "We can have the function inputs have pre-defined default values, so that if you don't pass a variable it will use the default"
   ]
  },
  {
   "cell_type": "code",
   "execution_count": 122,
   "id": "brave-jamaica",
   "metadata": {},
   "outputs": [],
   "source": [
    "def circle_area7(radius = 3):\n",
    "    import numpy as np #import numpy so we can use the more exact value of pi\n",
    "    \n",
    "    return np.pi*radius**2"
   ]
  },
  {
   "cell_type": "code",
   "execution_count": 124,
   "id": "mounted-independence",
   "metadata": {},
   "outputs": [
    {
     "ename": "TypeError",
     "evalue": "circle_area() missing 1 required positional argument: 'radius'",
     "output_type": "error",
     "traceback": [
      "\u001b[1;31m---------------------------------------------------------------------------\u001b[0m",
      "\u001b[1;31mTypeError\u001b[0m                                 Traceback (most recent call last)",
      "Cell \u001b[1;32mIn[124], line 1\u001b[0m\n\u001b[1;32m----> 1\u001b[0m circle_area()\n",
      "\u001b[1;31mTypeError\u001b[0m: circle_area() missing 1 required positional argument: 'radius'"
     ]
    }
   ],
   "source": [
    "circle_area()"
   ]
  },
  {
   "cell_type": "code",
   "execution_count": 139,
   "id": "dense-review",
   "metadata": {},
   "outputs": [
    {
     "data": {
      "text/plain": [
       "28.274333882308138"
      ]
     },
     "execution_count": 139,
     "metadata": {},
     "output_type": "execute_result"
    }
   ],
   "source": [
    "circle_area7() # no argument given, so uses radius = 3 by default"
   ]
  },
  {
   "cell_type": "markdown",
   "id": "renewable-twelve",
   "metadata": {},
   "source": [
    "Is numpy imported outside the function? Let's check"
   ]
  },
  {
   "cell_type": "code",
   "execution_count": 142,
   "id": "hidden-minutes",
   "metadata": {},
   "outputs": [
    {
     "data": {
      "text/plain": [
       "3.141592653589793"
      ]
     },
     "execution_count": 142,
     "metadata": {},
     "output_type": "execute_result"
    }
   ],
   "source": [
    "np.pi"
   ]
  },
  {
   "cell_type": "code",
   "execution_count": 144,
   "id": "hazardous-florist",
   "metadata": {},
   "outputs": [
    {
     "name": "stdout",
     "output_type": "stream",
     "text": [
      "Variable               Type        Data/Info\n",
      "--------------------------------------------\n",
      "a                      list        n=79\n",
      "area                   NoneType    None\n",
      "b                      NoneType    None\n",
      "circle_area            function    <function circle_area at 0x00000250CEA24EA0>\n",
      "circle_area2           function    <function circle_area2 at 0x00000250D1BECD60>\n",
      "circle_area4           function    <function circle_area4 at 0x00000250D0F19760>\n",
      "circle_area5           function    <function circle_area5 at 0x00000250D1BEC2C0>\n",
      "circle_area6           function    <function circle_area6 at 0x00000250D1BED620>\n",
      "circle_area7           function    <function circle_area7 at 0x00000250D1C6D580>\n",
      "dataframe_columns      function    <function dataframe_colum<...>ns at 0x00000250D230DEE0>\n",
      "dataframe_hash         function    <function dataframe_hash at 0x00000250D1C6FF60>\n",
      "divisorList            list        n=0\n",
      "dtypes_str             function    <function dtypes_str at 0x00000250D0FCFC40>\n",
      "function_name          function    <function function_name at 0x00000250CEA271A0>\n",
      "get_dataframes         function    <function get_dataframes at 0x00000250D1C6F060>\n",
      "getpass                module      <module 'getpass' from 'C<...>conda3\\\\Lib\\\\getpass.py'>\n",
      "hashlib                module      <module 'hashlib' from 'C<...>conda3\\\\Lib\\\\hashlib.py'>\n",
      "import_pandas_safely   function    <function import_pandas_s<...>ly at 0x00000250D1C6FC40>\n",
      "is_data_frame          function    <function is_data_frame at 0x00000250D1C6FCE0>\n",
      "json                   module      <module 'json' from 'C:\\\\<...>\\Lib\\\\json\\\\__init__.py'>\n",
      "listRange              list        n=0\n",
      "np                     module      <module 'numpy' from 'C:\\<...>ges\\\\numpy\\\\__init__.py'>\n",
      "num                    int         -40\n",
      "number                 int         40\n",
      "plt                    module      <module 'matplotlib.pyplo<...>\\\\matplotlib\\\\pyplot.py'>\n",
      "r                      list        n=3\n",
      "random                 module      <module 'random' from 'C:<...>aconda3\\\\Lib\\\\random.py'>\n"
     ]
    }
   ],
   "source": [
    "whos"
   ]
  },
  {
   "cell_type": "code",
   "execution_count": 151,
   "id": "published-invalid",
   "metadata": {},
   "outputs": [
    {
     "ename": "TypeError",
     "evalue": "unsupported operand type(s) for ** or pow(): 'list' and 'int'",
     "output_type": "error",
     "traceback": [
      "\u001b[1;31m---------------------------------------------------------------------------\u001b[0m",
      "\u001b[1;31mTypeError\u001b[0m                                 Traceback (most recent call last)",
      "Cell \u001b[1;32mIn[151], line 3\u001b[0m\n\u001b[0;32m      1\u001b[0m \u001b[38;5;66;03m# can our function handle lists? Let's check\u001b[39;00m\n\u001b[0;32m      2\u001b[0m r \u001b[38;5;241m=\u001b[39m [\u001b[38;5;241m1\u001b[39m,\u001b[38;5;241m2\u001b[39m,\u001b[38;5;241m3\u001b[39m]\n\u001b[1;32m----> 3\u001b[0m circle_area7(r)\n",
      "Cell \u001b[1;32mIn[122], line 4\u001b[0m, in \u001b[0;36mcircle_area7\u001b[1;34m(radius)\u001b[0m\n\u001b[0;32m      1\u001b[0m \u001b[38;5;28;01mdef\u001b[39;00m \u001b[38;5;21mcircle_area7\u001b[39m(radius \u001b[38;5;241m=\u001b[39m \u001b[38;5;241m3\u001b[39m):\n\u001b[0;32m      2\u001b[0m     \u001b[38;5;28;01mimport\u001b[39;00m \u001b[38;5;21;01mnumpy\u001b[39;00m \u001b[38;5;28;01mas\u001b[39;00m \u001b[38;5;21;01mnp\u001b[39;00m \u001b[38;5;66;03m#import numpy so we can use the more exact value of pi\u001b[39;00m\n\u001b[1;32m----> 4\u001b[0m     \u001b[38;5;28;01mreturn\u001b[39;00m np\u001b[38;5;241m.\u001b[39mpi\u001b[38;5;241m*\u001b[39mradius\u001b[38;5;241m*\u001b[39m\u001b[38;5;241m*\u001b[39m\u001b[38;5;241m2\u001b[39m\n",
      "\u001b[1;31mTypeError\u001b[0m: unsupported operand type(s) for ** or pow(): 'list' and 'int'"
     ]
    }
   ],
   "source": [
    "# can our function handle lists? Let's check\n",
    "r = [1,2,3]\n",
    "circle_area7(r)"
   ]
  },
  {
   "cell_type": "code",
   "execution_count": null,
   "id": "fundamental-branch",
   "metadata": {},
   "outputs": [],
   "source": []
  },
  {
   "cell_type": "code",
   "execution_count": 154,
   "id": "offshore-syria",
   "metadata": {},
   "outputs": [
    {
     "data": {
      "text/plain": [
       "array([ 3.14159265, 12.56637061, 28.27433388])"
      ]
     },
     "execution_count": 154,
     "metadata": {},
     "output_type": "execute_result"
    }
   ],
   "source": [
    "# can our function handle arrays?\n",
    "\n",
    "rnp = np.array(r)\n",
    "circle_area7(rnp)\n",
    "\n",
    "# what type of variable did the function return?"
   ]
  },
  {
   "cell_type": "markdown",
   "id": "regional-trouble",
   "metadata": {},
   "source": [
    "### It is very useful to add some documentation string info to your functions"
   ]
  },
  {
   "cell_type": "code",
   "execution_count": 157,
   "id": "short-chrome",
   "metadata": {},
   "outputs": [],
   "source": [
    "def circle_area7(radius = 3):\n",
    "    \"\"\" Returns the area of a circle given the radius. \n",
    "    Assumes the radius is 3 if not supplied. \"\"\"\n",
    "    import numpy as np\n",
    "    \n",
    "    return np.pi*radius**2"
   ]
  },
  {
   "cell_type": "markdown",
   "id": "unsigned-sport",
   "metadata": {},
   "source": [
    "Now my note in the triple double quotes shows up as a docstring"
   ]
  },
  {
   "cell_type": "code",
   "execution_count": 160,
   "id": "consistent-peace",
   "metadata": {},
   "outputs": [
    {
     "data": {
      "text/plain": [
       "\u001b[1;31mType:\u001b[0m        float\n",
       "\u001b[1;31mString form:\u001b[0m 3.141592653589793\n",
       "\u001b[1;31mDocstring:\u001b[0m   Convert a string or number to a floating point number, if possible."
      ]
     },
     "metadata": {},
     "output_type": "display_data"
    }
   ],
   "source": [
    "np.pi?"
   ]
  },
  {
   "cell_type": "code",
   "execution_count": 162,
   "id": "interstate-coverage",
   "metadata": {},
   "outputs": [
    {
     "data": {
      "text/plain": [
       "\u001b[1;31mSignature:\u001b[0m \u001b[0mcircle_area7\u001b[0m\u001b[1;33m(\u001b[0m\u001b[0mradius\u001b[0m\u001b[1;33m=\u001b[0m\u001b[1;36m3\u001b[0m\u001b[1;33m)\u001b[0m\u001b[1;33m\u001b[0m\u001b[1;33m\u001b[0m\u001b[0m\n",
       "\u001b[1;31mDocstring:\u001b[0m\n",
       "Returns the area of a circle given the radius. \n",
       "Assumes the radius is 3 if not supplied. \n",
       "\u001b[1;31mFile:\u001b[0m      c:\\users\\87371\\appdata\\local\\temp\\ipykernel_22684\\967664329.py\n",
       "\u001b[1;31mType:\u001b[0m      function"
      ]
     },
     "metadata": {},
     "output_type": "display_data"
    }
   ],
   "source": [
    "circle_area7?"
   ]
  },
  {
   "cell_type": "markdown",
   "id": "assisted-assurance",
   "metadata": {},
   "source": [
    "There is a standard practice in programming to write out the Parameters (inputs/arguments) and Returns (output) in the docstring. Let's look a this for a predefined function and then make if for our simple function."
   ]
  },
  {
   "cell_type": "code",
   "execution_count": 165,
   "id": "quarterly-spring",
   "metadata": {},
   "outputs": [
    {
     "data": {
      "text/plain": [
       "\u001b[1;31mSignature:\u001b[0m      \n",
       "\u001b[0mnp\u001b[0m\u001b[1;33m.\u001b[0m\u001b[0mmax\u001b[0m\u001b[1;33m(\u001b[0m\u001b[1;33m\n",
       "\u001b[0m    \u001b[0ma\u001b[0m\u001b[1;33m,\u001b[0m\u001b[1;33m\n",
       "\u001b[0m    \u001b[0maxis\u001b[0m\u001b[1;33m=\u001b[0m\u001b[1;32mNone\u001b[0m\u001b[1;33m,\u001b[0m\u001b[1;33m\n",
       "\u001b[0m    \u001b[0mout\u001b[0m\u001b[1;33m=\u001b[0m\u001b[1;32mNone\u001b[0m\u001b[1;33m,\u001b[0m\u001b[1;33m\n",
       "\u001b[0m    \u001b[0mkeepdims\u001b[0m\u001b[1;33m=\u001b[0m\u001b[1;33m<\u001b[0m\u001b[0mno\u001b[0m \u001b[0mvalue\u001b[0m\u001b[1;33m>\u001b[0m\u001b[1;33m,\u001b[0m\u001b[1;33m\n",
       "\u001b[0m    \u001b[0minitial\u001b[0m\u001b[1;33m=\u001b[0m\u001b[1;33m<\u001b[0m\u001b[0mno\u001b[0m \u001b[0mvalue\u001b[0m\u001b[1;33m>\u001b[0m\u001b[1;33m,\u001b[0m\u001b[1;33m\n",
       "\u001b[0m    \u001b[0mwhere\u001b[0m\u001b[1;33m=\u001b[0m\u001b[1;33m<\u001b[0m\u001b[0mno\u001b[0m \u001b[0mvalue\u001b[0m\u001b[1;33m>\u001b[0m\u001b[1;33m,\u001b[0m\u001b[1;33m\n",
       "\u001b[0m\u001b[1;33m)\u001b[0m\u001b[1;33m\u001b[0m\u001b[1;33m\u001b[0m\u001b[0m\n",
       "\u001b[1;31mCall signature:\u001b[0m  \u001b[0mnp\u001b[0m\u001b[1;33m.\u001b[0m\u001b[0mmax\u001b[0m\u001b[1;33m(\u001b[0m\u001b[1;33m*\u001b[0m\u001b[0margs\u001b[0m\u001b[1;33m,\u001b[0m \u001b[1;33m**\u001b[0m\u001b[0mkwargs\u001b[0m\u001b[1;33m)\u001b[0m\u001b[1;33m\u001b[0m\u001b[1;33m\u001b[0m\u001b[0m\n",
       "\u001b[1;31mType:\u001b[0m            _ArrayFunctionDispatcher\n",
       "\u001b[1;31mString form:\u001b[0m     <function max at 0x00000250CD77B4C0>\n",
       "\u001b[1;31mFile:\u001b[0m            c:\\users\\87371\\anaconda3\\lib\\site-packages\\numpy\\core\\fromnumeric.py\n",
       "\u001b[1;31mDocstring:\u001b[0m      \n",
       "Return the maximum of an array or maximum along an axis.\n",
       "\n",
       "Parameters\n",
       "----------\n",
       "a : array_like\n",
       "    Input data.\n",
       "axis : None or int or tuple of ints, optional\n",
       "    Axis or axes along which to operate.  By default, flattened input is\n",
       "    used.\n",
       "\n",
       "    .. versionadded:: 1.7.0\n",
       "\n",
       "    If this is a tuple of ints, the maximum is selected over multiple axes,\n",
       "    instead of a single axis or all the axes as before.\n",
       "out : ndarray, optional\n",
       "    Alternative output array in which to place the result.  Must\n",
       "    be of the same shape and buffer length as the expected output.\n",
       "    See :ref:`ufuncs-output-type` for more details.\n",
       "\n",
       "keepdims : bool, optional\n",
       "    If this is set to True, the axes which are reduced are left\n",
       "    in the result as dimensions with size one. With this option,\n",
       "    the result will broadcast correctly against the input array.\n",
       "\n",
       "    If the default value is passed, then `keepdims` will not be\n",
       "    passed through to the ``max`` method of sub-classes of\n",
       "    `ndarray`, however any non-default value will be.  If the\n",
       "    sub-class' method does not implement `keepdims` any\n",
       "    exceptions will be raised.\n",
       "\n",
       "initial : scalar, optional\n",
       "    The minimum value of an output element. Must be present to allow\n",
       "    computation on empty slice. See `~numpy.ufunc.reduce` for details.\n",
       "\n",
       "    .. versionadded:: 1.15.0\n",
       "\n",
       "where : array_like of bool, optional\n",
       "    Elements to compare for the maximum. See `~numpy.ufunc.reduce`\n",
       "    for details.\n",
       "\n",
       "    .. versionadded:: 1.17.0\n",
       "\n",
       "Returns\n",
       "-------\n",
       "max : ndarray or scalar\n",
       "    Maximum of `a`. If `axis` is None, the result is a scalar value.\n",
       "    If `axis` is an int, the result is an array of dimension\n",
       "    ``a.ndim - 1``. If `axis` is a tuple, the result is an array of \n",
       "    dimension ``a.ndim - len(axis)``.\n",
       "\n",
       "See Also\n",
       "--------\n",
       "amin :\n",
       "    The minimum value of an array along a given axis, propagating any NaNs.\n",
       "nanmax :\n",
       "    The maximum value of an array along a given axis, ignoring any NaNs.\n",
       "maximum :\n",
       "    Element-wise maximum of two arrays, propagating any NaNs.\n",
       "fmax :\n",
       "    Element-wise maximum of two arrays, ignoring any NaNs.\n",
       "argmax :\n",
       "    Return the indices of the maximum values.\n",
       "\n",
       "nanmin, minimum, fmin\n",
       "\n",
       "Notes\n",
       "-----\n",
       "NaN values are propagated, that is if at least one item is NaN, the\n",
       "corresponding max value will be NaN as well. To ignore NaN values\n",
       "(MATLAB behavior), please use nanmax.\n",
       "\n",
       "Don't use `~numpy.max` for element-wise comparison of 2 arrays; when\n",
       "``a.shape[0]`` is 2, ``maximum(a[0], a[1])`` is faster than\n",
       "``max(a, axis=0)``.\n",
       "\n",
       "Examples\n",
       "--------\n",
       ">>> a = np.arange(4).reshape((2,2))\n",
       ">>> a\n",
       "array([[0, 1],\n",
       "       [2, 3]])\n",
       ">>> np.max(a)           # Maximum of the flattened array\n",
       "3\n",
       ">>> np.max(a, axis=0)   # Maxima along the first axis\n",
       "array([2, 3])\n",
       ">>> np.max(a, axis=1)   # Maxima along the second axis\n",
       "array([1, 3])\n",
       ">>> np.max(a, where=[False, True], initial=-1, axis=0)\n",
       "array([-1,  3])\n",
       ">>> b = np.arange(5, dtype=float)\n",
       ">>> b[2] = np.NaN\n",
       ">>> np.max(b)\n",
       "nan\n",
       ">>> np.max(b, where=~np.isnan(b), initial=-1)\n",
       "4.0\n",
       ">>> np.nanmax(b)\n",
       "4.0\n",
       "\n",
       "You can use an initial value to compute the maximum of an empty slice, or\n",
       "to initialize it to a different value:\n",
       "\n",
       ">>> np.max([[-50], [10]], axis=-1, initial=0)\n",
       "array([ 0, 10])\n",
       "\n",
       "Notice that the initial value is used as one of the elements for which the\n",
       "maximum is determined, unlike for the default argument Python's max\n",
       "function, which is only used for empty iterables.\n",
       "\n",
       ">>> np.max([5], initial=6)\n",
       "6\n",
       ">>> max([5], default=6)\n",
       "5\n",
       "\u001b[1;31mClass docstring:\u001b[0m\n",
       "Class to wrap functions with checks for __array_function__ overrides.\n",
       "\n",
       "All arguments are required, and can only be passed by position.\n",
       "\n",
       "Parameters\n",
       "----------\n",
       "dispatcher : function or None\n",
       "    The dispatcher function that returns a single sequence-like object\n",
       "    of all arguments relevant.  It must have the same signature (except\n",
       "    the default values) as the actual implementation.\n",
       "    If ``None``, this is a ``like=`` dispatcher and the\n",
       "    ``_ArrayFunctionDispatcher`` must be called with ``like`` as the\n",
       "    first (additional and positional) argument.\n",
       "implementation : function\n",
       "    Function that implements the operation on NumPy arrays without\n",
       "    overrides.  Arguments passed calling the ``_ArrayFunctionDispatcher``\n",
       "    will be forwarded to this (and the ``dispatcher``) as if using\n",
       "    ``*args, **kwargs``.\n",
       "\n",
       "Attributes\n",
       "----------\n",
       "_implementation : function\n",
       "    The original implementation passed in."
      ]
     },
     "metadata": {},
     "output_type": "display_data"
    }
   ],
   "source": [
    "np.max?"
   ]
  },
  {
   "cell_type": "code",
   "execution_count": 167,
   "id": "looking-bubble",
   "metadata": {},
   "outputs": [],
   "source": [
    "def circle_area7(radius = 3):\n",
    "    \"\"\" Returns the area of a circle given the radius. \n",
    "    \n",
    "    Parameters\n",
    "    ----------\n",
    "    radius: array like, radius of the circle\n",
    "    Assumes the radius is 3 if not supplied.\n",
    "    \n",
    "    Returns\n",
    "    -------\n",
    "    area: ndarray or scalar\n",
    "    Returns the area for the given radii\n",
    "    \n",
    "    \"\"\"\n",
    "    \n",
    "    import numpy as np\n",
    "    \n",
    "    return np.pi*radius**2"
   ]
  },
  {
   "cell_type": "code",
   "execution_count": 169,
   "id": "educated-study",
   "metadata": {},
   "outputs": [
    {
     "data": {
      "text/plain": [
       "\u001b[1;31mSignature:\u001b[0m \u001b[0mcircle_area7\u001b[0m\u001b[1;33m(\u001b[0m\u001b[0mradius\u001b[0m\u001b[1;33m=\u001b[0m\u001b[1;36m3\u001b[0m\u001b[1;33m)\u001b[0m\u001b[1;33m\u001b[0m\u001b[1;33m\u001b[0m\u001b[0m\n",
       "\u001b[1;31mDocstring:\u001b[0m\n",
       "Returns the area of a circle given the radius. \n",
       "\n",
       "Parameters\n",
       "----------\n",
       "radius: array like, radius of the circle\n",
       "Assumes the radius is 3 if not supplied.\n",
       "\n",
       "Returns\n",
       "-------\n",
       "area: ndarray or scalar\n",
       "Returns the area for the given radii\n",
       "\u001b[1;31mFile:\u001b[0m      c:\\users\\87371\\appdata\\local\\temp\\ipykernel_22684\\1644116025.py\n",
       "\u001b[1;31mType:\u001b[0m      function"
      ]
     },
     "metadata": {},
     "output_type": "display_data"
    }
   ],
   "source": [
    "circle_area7?"
   ]
  },
  {
   "cell_type": "code",
   "execution_count": null,
   "id": "amended-marshall",
   "metadata": {},
   "outputs": [],
   "source": []
  },
  {
   "cell_type": "markdown",
   "id": "demanding-ghost",
   "metadata": {},
   "source": [
    "# Lab 5.2"
   ]
  },
  {
   "cell_type": "markdown",
   "id": "large-paradise",
   "metadata": {},
   "source": [
    "**E.1** Complete Introduction to Functions in Python Ch 1 (you can do Ch 2-3 if you are very keen, but this is not required)\n"
   ]
  },
  {
   "cell_type": "code",
   "execution_count": null,
   "id": "approximate-recall",
   "metadata": {},
   "outputs": [],
   "source": []
  },
  {
   "cell_type": "markdown",
   "id": "grateful-russia",
   "metadata": {},
   "source": [
    "**E.2** Make notes for yourself on progamming tecniques and commands you learned in the datacamp chapter above, including examples, comments and explainitory text. You can do this here or in a separate notebook that you link to here. Basically, you are making a cheat sheet for yourself."
   ]
  },
  {
   "cell_type": "code",
   "execution_count": null,
   "id": "joined-reset",
   "metadata": {},
   "outputs": [],
   "source": []
  },
  {
   "cell_type": "markdown",
   "id": "sudden-policy",
   "metadata": {},
   "source": [
    "### This week's project:\n",
    "\n",
    "**E.3** Write two functions that work on your dataset (you can use the same dataset you plotted previously or a different one). The first function will do some sort of manipulation (e.g., removing bad data, subsetting) or calculation/analysis, the second will be a plotting function. The idea here is that if you had another datafile that was similar, you could use the functions to do the programming tasks again easily. You will present these to the class next week, similar to how you presented your plots. \n",
    "\n",
    "Add 1-2 slides here: https://lsu.box.com/s/6qz51fijd4sc1ne175w3j7e5lxmk7x0l"
   ]
  },
  {
   "cell_type": "markdown",
   "id": "effective-thanksgiving",
   "metadata": {},
   "source": []
  },
  {
   "cell_type": "code",
   "execution_count": 193,
   "id": "committed-leadership",
   "metadata": {},
   "outputs": [
    {
     "name": "stdin",
     "output_type": "stream",
     "text": [
      "Please enter species_concentration in (g/m3):  45.68\n",
      "Please enter volume in (m3):  18000\n"
     ]
    },
    {
     "name": "stdout",
     "output_type": "stream",
     "text": [
      "mass is 822240.0 g.\n"
     ]
    },
    {
     "data": {
      "text/plain": [
       "822240.0"
      ]
     },
     "execution_count": 193,
     "metadata": {},
     "output_type": "execute_result"
    }
   ],
   "source": [
    "species_concentration = float(input(\"Please enter species_concentration in (g/m3): \"))\n",
    "volume = float(input(\"Please enter volume in (m3): \"))\n",
    "def concentration_to_mass(volume, species_concentration):\n",
    "    if species_concentration < 0 or volume <= 0:\n",
    "        print('Error: species_concentration and volume needs to be positive')\n",
    "        return # exit the function\n",
    "    \n",
    "    import numpy as np\n",
    "    mass = species_concentration * volume\n",
    "    print('mass is ' + str(mass) + ' g.')\n",
    "    return mass\n",
    "concentration_to_mass(volume, species_concentration)"
   ]
  },
  {
   "cell_type": "code",
   "execution_count": 199,
   "id": "economic-beaver",
   "metadata": {},
   "outputs": [],
   "source": [
    "def plot_function():\n",
    "    \n",
    "    # The subplots below is fixed by Bentao\n",
    "    import matplotlib.pyplot as plt\n",
    "    import numpy as np\n",
    "    \n",
    "    from matplotlib.cbook import get_sample_data\n",
    "    import matplotlib.transforms as mtransforms\n",
    "    \n",
    "    with get_sample_data('Stocks.csv') as file:\n",
    "        stock_data = np.genfromtxt(\n",
    "            file, delimiter=',', names=True, dtype=None,\n",
    "            converters={0: lambda x: np.datetime64(x, 'D')}, skip_header=1)\n",
    "    \n",
    "    fig, ax = plt.subplots(1, 1, figsize=(6, 8), layout='constrained')\n",
    "    \n",
    "    # These are the colors that will be used in the plot\n",
    "    ax.set_prop_cycle(color=[\n",
    "        '#1f77b4', '#aec7e8', '#ff7f0e', '#ffbb78', '#2ca02c', '#98df8a',\n",
    "        '#d62728', '#ff9896', '#9467bd', '#c5b0d5', '#8c564b', '#c49c94',\n",
    "        '#e377c2', '#f7b6d2', '#7f7f7f', '#c7c7c7', '#bcbd22', '#dbdb8d',\n",
    "        '#17becf', '#9edae5'])\n",
    "    \n",
    "    stocks_name = ['IBM', 'Apple', 'Microsoft', 'Xerox', 'Amazon', 'Dell',\n",
    "                   'Alphabet', 'Adobe', 'S&P 500', 'NASDAQ']\n",
    "    stocks_ticker = ['IBM', 'AAPL', 'MSFT', 'XRX', 'AMZN', 'DELL', 'GOOGL',\n",
    "                     'ADBE', 'GSPC', 'IXIC']\n",
    "    \n",
    "    # Manually adjust the label positions vertically (units are points = 1/72 inch)\n",
    "    y_offsets = {k: 0 for k in stocks_ticker}\n",
    "    y_offsets['IBM'] = 5\n",
    "    y_offsets['AAPL'] = -5\n",
    "    y_offsets['AMZN'] = -6\n",
    "    \n",
    "    for nn, column in enumerate(stocks_ticker):\n",
    "        # Plot each line separately with its own color.\n",
    "        # don't include any data with NaN.\n",
    "        good = np.nonzero(np.isfinite(stock_data[column]))\n",
    "        line, = ax.plot(stock_data['Date'][good], stock_data[column][good], lw=1.5)\n",
    "    \n",
    "        # Add a text label to the right end of every line. Most of the code below\n",
    "        # is adding specific offsets y position because some labels overlapped.\n",
    "        y_pos = stock_data[column][-1]\n",
    "    \n",
    "        # Use an offset transform, in points, for any text that needs to be nudged\n",
    "        # up or down.\n",
    "        offset = y_offsets[column] / 72\n",
    "        trans = mtransforms.ScaledTranslation(0, offset, fig.dpi_scale_trans)\n",
    "        trans = ax.transData + trans\n",
    "    \n",
    "        # Again, make sure that all labels are large enough to be easily read\n",
    "        # by the viewer.\n",
    "        ax.text(np.datetime64('2022-10-01'), y_pos, stocks_name[nn],\n",
    "                color=line.get_color(), transform=trans)\n",
    "    \n",
    "    # Modify the date period for plotting\n",
    "    ax.set_xlim(np.datetime64('1999-06-01'), np.datetime64('2023-01-01'))\n",
    "    \n",
    "    # Adjust the layout\n",
    "    fig.suptitle(\"Technology company stocks prices dollars (1999-2022)\",\n",
    "                 ha=\"center\")\n",
    "    \n",
    "    # Remove the plot frame lines. They are unnecessary here.\n",
    "    ax.spines[:].set_visible(False)\n",
    "    \n",
    "    # Ensure that the axis ticks only show up on the bottom and left of the plot.\n",
    "    # Ticks on the right and top of the plot are generally unnecessary.\n",
    "    ax.xaxis.tick_bottom()\n",
    "    ax.yaxis.tick_left()\n",
    "    ax.set_yscale('log')\n",
    "    \n",
    "    # Provide tick lines across the plot to help your viewers trace along\n",
    "    # the axis ticks. Make sure that the lines are light and small so they\n",
    "    # don't obscure the primary data lines.\n",
    "    ax.grid(True, 'major', 'both', ls='--', lw=.5, c='k', alpha=.3)\n",
    "    \n",
    "    # Remove the tick marks; they are unnecessary with the tick lines we just\n",
    "    # plotted. Make sure your axis ticks are large enough to be easily read.\n",
    "    # You don't want your viewers squinting to read your plot.\n",
    "    ax.tick_params(axis='both', which='both', labelsize='large',\n",
    "                   bottom=False, top=False, labelbottom=True,\n",
    "                   left=False, right=False, labelleft=True)\n",
    "    \n",
    "    # Finally, save the figure as a PNG.\n",
    "    # You can also save it as a PDF, JPEG, etc.\n",
    "    # Just change the file extension in this call.\n",
    "    # fig.savefig('stock-prices.png', bbox_inches='tight')\n",
    "    plt.show()"
   ]
  },
  {
   "cell_type": "code",
   "execution_count": null,
   "id": "e523d2c9-c182-49e2-90a6-69e486eb35ad",
   "metadata": {},
   "outputs": [],
   "source": []
  }
 ],
 "metadata": {
  "kernelspec": {
   "display_name": "Python 3 (ipykernel)",
   "language": "python",
   "name": "python3"
  },
  "language_info": {
   "codemirror_mode": {
    "name": "ipython",
    "version": 3
   },
   "file_extension": ".py",
   "mimetype": "text/x-python",
   "name": "python",
   "nbconvert_exporter": "python",
   "pygments_lexer": "ipython3",
   "version": "3.12.4"
  }
 },
 "nbformat": 4,
 "nbformat_minor": 5
}
