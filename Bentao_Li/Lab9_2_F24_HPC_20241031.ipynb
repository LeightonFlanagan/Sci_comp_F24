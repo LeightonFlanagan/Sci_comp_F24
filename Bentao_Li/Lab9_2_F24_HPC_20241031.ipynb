{
  "cells": [
    {
      "cell_type": "markdown",
      "id": "cooked-impact",
      "metadata": {
        "panel-layout": {
          "height": 51.12215805053711,
          "visible": true,
          "width": 100
        },
        "id": "cooked-impact"
      },
      "source": [
        "Name Bentao Li"
      ]
    },
    {
      "cell_type": "markdown",
      "id": "crazy-drunk",
      "metadata": {
        "panel-layout": {
          "height": 51.12215805053711,
          "visible": true,
          "width": 100
        },
        "id": "crazy-drunk"
      },
      "source": [
        "Labpartner(s)"
      ]
    },
    {
      "cell_type": "code",
      "execution_count": null,
      "id": "statistical-animal",
      "metadata": {
        "id": "statistical-animal"
      },
      "outputs": [],
      "source": [
        "#import statements go here\n",
        "import numpy as np\n",
        "import pandas as pd"
      ]
    },
    {
      "cell_type": "markdown",
      "id": "appointed-tribute",
      "metadata": {
        "panel-layout": {
          "height": 60.596588134765625,
          "visible": true,
          "width": 100
        },
        "id": "appointed-tribute"
      },
      "source": [
        "# Class 9.2"
      ]
    },
    {
      "cell_type": "markdown",
      "id": "834986df-a157-45a3-8679-12e793fe2c47",
      "metadata": {
        "panel-layout": {
          "height": 97.40056610107422,
          "visible": true,
          "width": 100
        },
        "id": "834986df-a157-45a3-8679-12e793fe2c47"
      },
      "source": [
        "You all will finish presenting your movies from Lab 7.2.\n",
        "\n",
        "Today Victoria Garza will give an overview and demo of the LSU HPC system\n",
        "\n",
        "Reminder your final project proposal is due Monday by 5 PM (note new due date). On Tuesday you will pitch your final project proposal to the class in a short (5 min talk).\n"
      ]
    },
    {
      "cell_type": "markdown",
      "id": "bbdf9630-73a5-4a8d-98c2-45c5ef81a0f0",
      "metadata": {
        "id": "bbdf9630-73a5-4a8d-98c2-45c5ef81a0f0"
      },
      "source": [
        "# Warmup 9.2"
      ]
    },
    {
      "cell_type": "markdown",
      "id": "tracked-tradition",
      "metadata": {
        "panel-layout": {
          "height": 260.21307373046875,
          "visible": true,
          "width": 100
        },
        "id": "tracked-tradition"
      },
      "source": [
        "**W.1** Create the following numpy array. Print out the values to check!\n",
        "\n",
        "[[0. 0. 0. 0. 0. 0. 0.]\n",
        "\n",
        "[0. 1. 1. 1. 1. 1. 0.]\n",
        "\n",
        "[0. 1. 1. 1. 1. 1. 0.]\n",
        "\n",
        "[0. 1. 1. 5. 1. 1. 0.]\n",
        "\n",
        "[0. 1. 1. 1. 1. 1. 0.]\n",
        "\n",
        "[0. 1. 1. 1. 1. 1. 0.]\n",
        "\n",
        "[0. 0. 0. 0. 0. 0. 0.]]"
      ]
    },
    {
      "cell_type": "code",
      "execution_count": null,
      "id": "champion-rouge",
      "metadata": {
        "colab": {
          "base_uri": "https://localhost:8080/"
        },
        "id": "champion-rouge",
        "outputId": "5406238b-98c1-43db-9cc3-b4fb6abab664"
      },
      "outputs": [
        {
          "output_type": "stream",
          "name": "stdout",
          "text": [
            "[[0. 0. 0. 0. 0. 0. 0.]\n",
            " [0. 1. 1. 1. 1. 1. 0.]\n",
            " [0. 1. 1. 1. 1. 1. 0.]\n",
            " [0. 1. 1. 5. 1. 1. 0.]\n",
            " [0. 1. 1. 1. 1. 1. 0.]\n",
            " [0. 1. 1. 1. 1. 1. 0.]\n",
            " [0. 0. 0. 0. 0. 0. 0.]]\n"
          ]
        }
      ],
      "source": [
        "import numpy as np\n",
        "\n",
        "array = np.zeros((7, 7))\n",
        "\n",
        "array[1:6, 1:6] = 1\n",
        "array[3, 3] = 5\n",
        "\n",
        "print(array)"
      ]
    },
    {
      "cell_type": "markdown",
      "id": "156984bc-e6c0-4379-a30f-c9b0a33f15f0",
      "metadata": {
        "id": "156984bc-e6c0-4379-a30f-c9b0a33f15f0"
      },
      "source": [
        "**W.2** Pandas filtering and sorting practice with Chipotle data\n",
        "\n",
        "Import the dataset from this address https://raw.githubusercontent.com/justmarkham/DAT8/master/data/chipotle.tsv\n",
        "Assign it to a variable called chipo.\n",
        "1. How many products cost more than $10.00?\n",
        "2. What is the price of each item?\n",
        "    1. Print a data frame with only two columns item_name and item_price\n",
        "    2. Sort by the name of the item\n",
        "1. What was the quantity of the most expensive item ordered?\n",
        "1. How many times did someone order more than one Canned Soda?\n"
      ]
    },
    {
      "cell_type": "code",
      "execution_count": null,
      "id": "f633fa7e-1361-4938-b6b2-eb090a6becff",
      "metadata": {
        "colab": {
          "base_uri": "https://localhost:8080/"
        },
        "id": "f633fa7e-1361-4938-b6b2-eb090a6becff",
        "outputId": "445a2197-9f15-4640-da66-9deabd02c08f"
      },
      "outputs": [
        {
          "output_type": "stream",
          "name": "stdout",
          "text": [
            "1130 products cost more than $10.00!\n",
            "              item_name  item_price\n",
            "3389  6 Pack Soft Drink       12.98\n",
            "298   6 Pack Soft Drink        6.49\n",
            "4510      Barbacoa Bowl       11.49\n",
            "3195      Barbacoa Bowl        8.69\n",
            "95        Barbacoa Bowl        9.25\n",
            "...                 ...         ...\n",
            "186   Veggie Salad Bowl       11.25\n",
            "3889  Veggie Soft Tacos       16.98\n",
            "738   Veggie Soft Tacos       11.25\n",
            "781   Veggie Soft Tacos        8.75\n",
            "1395  Veggie Soft Tacos        8.49\n",
            "\n",
            "[209 rows x 2 columns]\n",
            "15\n",
            "20\n"
          ]
        }
      ],
      "source": [
        "chipo = pd.read_csv('https://raw.githubusercontent.com/justmarkham/DAT8/master/data/chipotle.tsv',sep='\\t')\n",
        "\n",
        "# 1. How many products cost more than $10.00?\n",
        "chipo['item_price'] = chipo['item_price'].replace('[\\$,]', '', regex=True).astype(float)\n",
        "chipo_10_number = chipo[chipo['item_price'] > 10].shape[0]\n",
        "print(str(chipo_10_number) + ' products cost more than $10.00!')\n",
        "\n",
        "# 2. What is the price of each item?\n",
        "item_prices = chipo[['item_name', 'item_price']].drop_duplicates().sort_values(by='item_name')\n",
        "print(item_prices)\n",
        "\n",
        "# 3. What was the quantity of the most expensive item ordered?\n",
        "max_price_quantity = chipo.loc[chipo['item_price'].idxmax(), 'quantity']\n",
        "print(max_price_quantity)\n",
        "\n",
        "# 4. How many times did someone order more than one Canned Soda?\n",
        "canned_soda_count = chipo[(chipo['item_name'] == 'Canned Soda') & (chipo['quantity'] > 1)].shape[0]\n",
        "print(canned_soda_count)\n"
      ]
    },
    {
      "cell_type": "markdown",
      "id": "needed-irish",
      "metadata": {
        "panel-layout": {
          "height": 156.05113220214844,
          "visible": true,
          "width": 100
        },
        "id": "needed-irish"
      },
      "source": [
        "# Lecture 9.2\n",
        "\n",
        "### Agenda:\n",
        "\n",
        "- Questions\n",
        "- Show us your movies\n",
        "- Intro to LSU HPC"
      ]
    },
    {
      "cell_type": "markdown",
      "id": "crucial-hobby",
      "metadata": {
        "panel-layout": {
          "height": 44.07670211791992,
          "visible": true,
          "width": 100
        },
        "id": "crucial-hobby"
      },
      "source": [
        "### Questions"
      ]
    },
    {
      "cell_type": "markdown",
      "id": "be69581e-ee02-4aa7-a18e-74c2d61cc1c7",
      "metadata": {
        "panel-layout": {
          "height": 10,
          "visible": true,
          "width": 100
        },
        "id": "be69581e-ee02-4aa7-a18e-74c2d61cc1c7"
      },
      "source": []
    },
    {
      "cell_type": "markdown",
      "id": "working-lottery",
      "metadata": {
        "panel-layout": {
          "height": 60.596588134765625,
          "visible": true,
          "width": 100
        },
        "id": "working-lottery"
      },
      "source": [
        "# Lab 9.2"
      ]
    },
    {
      "cell_type": "markdown",
      "id": "42ba70db-1894-44eb-9688-5380d60b34f6",
      "metadata": {
        "panel-layout": {
          "height": 51.12215805053711,
          "visible": true,
          "width": 100
        },
        "id": "42ba70db-1894-44eb-9688-5380d60b34f6"
      },
      "source": [
        "**E.0** Complete the previous labs if you are behind."
      ]
    },
    {
      "cell_type": "markdown",
      "id": "6254f746-973e-4ebe-ad02-f81c98a1d7c6",
      "metadata": {
        "panel-layout": {
          "height": 114.54544830322266,
          "visible": true,
          "width": 100
        },
        "id": "6254f746-973e-4ebe-ad02-f81c98a1d7c6"
      },
      "source": [
        "**E.1** Submit a screenshot of you using a jupyter notebook on the LSU HPC"
      ]
    },
    {
      "cell_type": "markdown",
      "id": "714f46cd-fd5b-4e0f-84f4-7816eb053419",
      "metadata": {
        "id": "714f46cd-fd5b-4e0f-84f4-7816eb053419"
      },
      "source": [
        "**E.2** Complete your final project proposal and submit it in Moodle"
      ]
    },
    {
      "cell_type": "markdown",
      "id": "3355bd74-1b16-4815-9d33-a4e76390a23d",
      "metadata": {
        "id": "3355bd74-1b16-4815-9d33-a4e76390a23d"
      },
      "source": [
        "**E.3** Prepare a 5 min presentation of your project proposal, including a brief introduction, your research plan, the programming methods you are planning to use, your preliminary results/plots, and your timeline for completion. ​You will present this in class next Tuesday. No late talks this time.\n",
        "\n",
        "A good target length is 1 slide per minute.\n",
        "\n",
        "Upload your talk here:\n",
        "https://lsu.box.com/s/5c95w1s2rrwqy839o3ul3oouzi43s4y1\n"
      ]
    },
    {
      "cell_type": "markdown",
      "id": "computational-child",
      "metadata": {
        "panel-layout": {
          "height": 85.41192626953125,
          "visible": true,
          "width": 100
        },
        "id": "computational-child"
      },
      "source": [
        "**Notes** Make notes for yourself on progamming tecniques and commands you learned in the this week, including examples, comments and explainitory text. You can do this here or in a separate notebook that you link to here. Basically, you are making a cheat sheet for yourself."
      ]
    },
    {
      "cell_type": "code",
      "execution_count": null,
      "id": "consecutive-bowling",
      "metadata": {
        "id": "consecutive-bowling"
      },
      "outputs": [],
      "source": []
    },
    {
      "cell_type": "code",
      "execution_count": null,
      "id": "a14a68ea-90e3-4c1f-bf2e-70a828ce942e",
      "metadata": {
        "id": "a14a68ea-90e3-4c1f-bf2e-70a828ce942e"
      },
      "outputs": [],
      "source": []
    }
  ],
  "metadata": {
    "kernelspec": {
      "display_name": "Python 3 (ipykernel)",
      "language": "python",
      "name": "python3"
    },
    "language_info": {
      "codemirror_mode": {
        "name": "ipython",
        "version": 3
      },
      "file_extension": ".py",
      "mimetype": "text/x-python",
      "name": "python",
      "nbconvert_exporter": "python",
      "pygments_lexer": "ipython3",
      "version": "3.12.4"
    },
    "panel-cell-order": [
      "cooked-impact",
      "crazy-drunk",
      "appointed-tribute",
      "834986df-a157-45a3-8679-12e793fe2c47",
      "tracked-tradition",
      "needed-irish",
      "crucial-hobby",
      "be69581e-ee02-4aa7-a18e-74c2d61cc1c7",
      "working-lottery",
      "42ba70db-1894-44eb-9688-5380d60b34f6",
      "6254f746-973e-4ebe-ad02-f81c98a1d7c6",
      "ordinary-variable",
      "f8909a65-8319-4676-8478-c7e691e05403",
      "fff227cb-6c67-4666-825c-73b39feaa02f",
      "36b09aeb-22b0-4a9c-a95b-f4940e362a18",
      "computational-child"
    ],
    "colab": {
      "provenance": []
    }
  },
  "nbformat": 4,
  "nbformat_minor": 5
}