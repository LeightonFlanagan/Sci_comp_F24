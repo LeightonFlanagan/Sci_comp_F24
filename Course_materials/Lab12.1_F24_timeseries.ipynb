{
 "cells": [
  {
   "cell_type": "markdown",
   "id": "ordered-mayor",
   "metadata": {},
   "source": [
    "Name"
   ]
  },
  {
   "cell_type": "markdown",
   "id": "radio-flesh",
   "metadata": {},
   "source": [
    "Labpartner(s)"
   ]
  },
  {
   "cell_type": "code",
   "execution_count": null,
   "id": "miniature-medium",
   "metadata": {},
   "outputs": [],
   "source": [
    "#import statements go here\n"
   ]
  },
  {
   "cell_type": "markdown",
   "id": "saving-framework",
   "metadata": {},
   "source": [
    "# Class 12.1"
   ]
  },
  {
   "cell_type": "markdown",
   "id": "graphic-painting",
   "metadata": {},
   "source": [
    "# Warmups 12.1"
   ]
  },
  {
   "cell_type": "markdown",
   "id": "annoying-permission",
   "metadata": {},
   "source": [
    "Note: finish this for lab if you don't finish in class.\n",
    "\n",
    "Log into the Supermike III LSU HPC using ssh (in the terminal)\n",
    "\n",
    "**W.1.** Last time we went over the following basic unix/linux commands:\n",
    "- ls\n",
    "- pwd\n",
    "- cd\n",
    "- scp\n",
    "- scp -r\n",
    "\n",
    "What do each of these do? If you forgot, you can type \"man ls\", etc. to see the documentation."
   ]
  },
  {
   "cell_type": "code",
   "execution_count": null,
   "id": "amended-discretion",
   "metadata": {},
   "outputs": [],
   "source": []
  },
  {
   "cell_type": "markdown",
   "id": "3afe42ad-a3b6-4418-8665-b035077d548c",
   "metadata": {},
   "source": [
    "**W.2** Navigate to your /work/user directory on mike. Move a copy of your final project proposal from your computer to your work directory and submit a screen shot of this directory with the file with your lab."
   ]
  },
  {
   "cell_type": "code",
   "execution_count": null,
   "id": "ceb32fe6-c0ff-4a10-8ddd-1ac7f6436107",
   "metadata": {},
   "outputs": [],
   "source": []
  },
  {
   "cell_type": "markdown",
   "id": "f8a5f84c-caae-40cc-9b23-6cf7c92242de",
   "metadata": {},
   "source": [
    "**W.3** Look up the LSU HPC documentation for /work and /home, what is the difference? What are the quotas for each? How long will files last? Are they backed up?"
   ]
  },
  {
   "cell_type": "code",
   "execution_count": null,
   "id": "60b8e43f-7943-4901-a21b-780329e0e183",
   "metadata": {},
   "outputs": [],
   "source": []
  },
  {
   "cell_type": "markdown",
   "id": "handmade-binary",
   "metadata": {},
   "source": [
    "# Lecture 12.1\n",
    "\n",
    "### Agenda:\n"
   ]
  },
  {
   "cell_type": "markdown",
   "id": "physical-english",
   "metadata": {},
   "source": [
    "Some useful things to do with a timeseries\n",
    "- datetime objects\n",
    "- basic line fitting\n",
    "- moving averages\n",
    "- detrending"
   ]
  },
  {
   "cell_type": "markdown",
   "id": "convenient-assessment",
   "metadata": {},
   "source": [
    "#### Datetime Objects in python and pandas\n",
    "\n",
    "Python has a wonderful feature called datetime objects. These are super-useful if you are dealing with any data that has a timestamp. They are a bit tricky to get used to, but worth the effort, and the alternatives are usually much more painful (trust me on this one). \n",
    "\n",
    "Documentation: \n",
    "- https://pandas.pydata.org/pandas-docs/stable/user_guide/timeseries.html\n",
    "- https://docs.python.org/3/library/datetime.html\n",
    "\n",
    "There is a lot you can do with these. Here we will just cover the basics. Dig in to the documentation if you need something specfic.\n",
    "\n",
    "Note that Victoria used these in her sample code to make movie frames for HYCOM data: https://github.com/chsharrison/Sci_comp_F24/blob/main/Course_materials/movie_demo_2024.ipynb"
   ]
  },
  {
   "cell_type": "code",
   "execution_count": null,
   "id": "norman-soviet",
   "metadata": {},
   "outputs": [],
   "source": [
    "from datetime import datetime, timedelta\n",
    "import pandas as pd"
   ]
  },
  {
   "cell_type": "markdown",
   "id": "political-premium",
   "metadata": {},
   "source": [
    "#### Defining a specfic date"
   ]
  },
  {
   "cell_type": "code",
   "execution_count": null,
   "id": "mathematical-brain",
   "metadata": {},
   "outputs": [],
   "source": [
    "date1 = datetime(1996,1,1) "
   ]
  },
  {
   "cell_type": "code",
   "execution_count": null,
   "id": "loving-vintage",
   "metadata": {},
   "outputs": [],
   "source": [
    "# this is a datetime object\n",
    "date1"
   ]
  },
  {
   "cell_type": "code",
   "execution_count": null,
   "id": "illegal-swiss",
   "metadata": {},
   "outputs": [],
   "source": [
    "# print out the date\n",
    "print(date1)"
   ]
  },
  {
   "cell_type": "code",
   "execution_count": null,
   "id": "academic-dispatch",
   "metadata": {},
   "outputs": [],
   "source": [
    "# you can also format the date as a string however you like (useful for plots)\n",
    "date1.strftime(\"%m/%d/%Y\")"
   ]
  },
  {
   "cell_type": "code",
   "execution_count": null,
   "id": "related-iraqi",
   "metadata": {},
   "outputs": [],
   "source": [
    "# defining a date with hours, minutes and seconds\n",
    "date2 = datetime(1996,1,1, 13, 34, 6) # note using 24 clock (miltary time) here"
   ]
  },
  {
   "cell_type": "code",
   "execution_count": null,
   "id": "joined-burke",
   "metadata": {},
   "outputs": [],
   "source": [
    "print(date2)"
   ]
  },
  {
   "cell_type": "code",
   "execution_count": null,
   "id": "polished-monitor",
   "metadata": {},
   "outputs": [],
   "source": [
    "#what is going to happen here?\n",
    "date2.strftime(\"%m-%d-%Y\")"
   ]
  },
  {
   "cell_type": "code",
   "execution_count": null,
   "id": "cellular-cycling",
   "metadata": {},
   "outputs": [],
   "source": [
    "date1.today() #somehow it knows what timezone I am (probably from my computer)"
   ]
  },
  {
   "cell_type": "markdown",
   "id": "statistical-stress",
   "metadata": {},
   "source": [
    "#### If we want to increment the date we can use timedelta"
   ]
  },
  {
   "cell_type": "code",
   "execution_count": null,
   "id": "sustainable-horror",
   "metadata": {},
   "outputs": [],
   "source": [
    "date1 = date1 + timedelta(days=1)\n",
    "print(date1)"
   ]
  },
  {
   "cell_type": "code",
   "execution_count": null,
   "id": "cordless-hunger",
   "metadata": {},
   "outputs": [],
   "source": [
    "date1 = date1 + timedelta(minutes = 2, seconds=1)\n",
    "print(date1)"
   ]
  },
  {
   "cell_type": "code",
   "execution_count": null,
   "id": "brief-sheet",
   "metadata": {},
   "outputs": [],
   "source": [
    "# you can also do things like add fractional days\n",
    "date1 = date1 + timedelta(days=1.5)\n",
    "print(date1)"
   ]
  },
  {
   "cell_type": "markdown",
   "id": "corresponding-perspective",
   "metadata": {},
   "source": [
    "We can find the time difference between two dates"
   ]
  },
  {
   "cell_type": "code",
   "execution_count": null,
   "id": "promising-trust",
   "metadata": {},
   "outputs": [],
   "source": [
    "timediff = date2-date1\n",
    "timediff"
   ]
  },
  {
   "cell_type": "markdown",
   "id": "hazardous-lobby",
   "metadata": {},
   "source": [
    "#### We can also define timeseries using pandas "
   ]
  },
  {
   "cell_type": "code",
   "execution_count": null,
   "id": "floppy-criterion",
   "metadata": {},
   "outputs": [],
   "source": [
    "pd.date_range?"
   ]
  },
  {
   "cell_type": "code",
   "execution_count": null,
   "id": "cheap-designation",
   "metadata": {},
   "outputs": [],
   "source": [
    "# note the default is daily\n",
    "my_daterange = pd.date_range(start='1/1/2018', end='1/08/2018')"
   ]
  },
  {
   "cell_type": "code",
   "execution_count": null,
   "id": "amateur-venture",
   "metadata": {},
   "outputs": [],
   "source": [
    "my_daterange"
   ]
  },
  {
   "cell_type": "code",
   "execution_count": null,
   "id": "liquid-coffee",
   "metadata": {},
   "outputs": [],
   "source": [
    "# this can be indexed like any array\n",
    "my_daterange[0]\n",
    "# note the result is a timestamp, which is similar to a datetime object, but not exactly"
   ]
  },
  {
   "cell_type": "code",
   "execution_count": null,
   "id": "powerful-demographic",
   "metadata": {},
   "outputs": [],
   "source": [
    "print(my_daterange[1])"
   ]
  },
  {
   "cell_type": "code",
   "execution_count": null,
   "id": "controlled-marking",
   "metadata": {},
   "outputs": [],
   "source": [
    "# you can convert a datetime to a timestamp\n",
    "pd.Timestamp(datetime(2012, 5, 1))"
   ]
  },
  {
   "cell_type": "code",
   "execution_count": null,
   "id": "derived-happiness",
   "metadata": {},
   "outputs": [],
   "source": [
    "# we can also specfiy the frequency\n",
    "my_daterange2 = pd.date_range(start='1/1/2018',end = '1/1/2021', freq='ME')\n",
    "my_daterange2"
   ]
  },
  {
   "cell_type": "markdown",
   "id": "raising-headquarters",
   "metadata": {},
   "source": [
    "See the documentation for lots more functionality"
   ]
  },
  {
   "cell_type": "code",
   "execution_count": null,
   "id": "interstate-marina",
   "metadata": {},
   "outputs": [],
   "source": []
  },
  {
   "cell_type": "markdown",
   "id": "professional-estate",
   "metadata": {},
   "source": [
    "### Working with timeseries data: global sea surface temperature (SST)"
   ]
  },
  {
   "cell_type": "markdown",
   "id": "accurate-aberdeen",
   "metadata": {},
   "source": [
    "We are going to be using some data from the epa website here: https://www.epa.gov/climate-indicators/climate-change-indicators-sea-surface-temperature"
   ]
  },
  {
   "cell_type": "markdown",
   "id": "harmful-portable",
   "metadata": {},
   "source": [
    "This is globally averaged Extended Reconstructed Sea Surface Temperature (ERSST)v.4 from NOAA, which combines satilite, ship and other in situ (in place, i.e. in the water) data. If you follow the links on the above you can get the gridded (i.e. map) product in netcdf format for the latest product (v.5). We are just going to play around with the globally averaged data"
   ]
  },
  {
   "cell_type": "code",
   "execution_count": null,
   "id": "existing-forestry",
   "metadata": {
    "scrolled": true
   },
   "outputs": [],
   "source": [
    "sst= pd.read_csv('https://www.epa.gov/system/files/other-files/2024-06/sea-surface-temp_fig-1.csv')"
   ]
  },
  {
   "cell_type": "code",
   "execution_count": null,
   "id": "b6d1d580-f282-411b-b17d-6e5e4867c908",
   "metadata": {},
   "outputs": [],
   "source": [
    "https://www.epa.gov/system/files/other-files/2024-06/sea-surface-temp_fig-1.csv"
   ]
  },
  {
   "cell_type": "code",
   "execution_count": null,
   "id": "wrong-community",
   "metadata": {},
   "outputs": [],
   "source": [
    "sst= pd.read_csv('https://www.epa.gov/system/files/other-files/2024-06/sea-surface-temp_fig-1.csv',\n",
    "                encoding = 'latin1')"
   ]
  },
  {
   "cell_type": "code",
   "execution_count": null,
   "id": "administrative-butter",
   "metadata": {},
   "outputs": [],
   "source": [
    "sst"
   ]
  },
  {
   "cell_type": "code",
   "execution_count": null,
   "id": "joint-lodging",
   "metadata": {},
   "outputs": [],
   "source": [
    "sst= pd.read_csv('https://www.epa.gov/sites/production/files/2016-08/sea-surface-temp_fig-1.csv',\n",
    "                 index_col = 0, # this makes the year the index\n",
    "                  header = 6,\n",
    "                 #skiprows = [0,1,2,3,4,5], # this works too, need to skip all the comments\n",
    "                 encoding ='latin1' # had to do this to get it to work, thanks stack exchange\n",
    "                )"
   ]
  },
  {
   "cell_type": "code",
   "execution_count": null,
   "id": "retired-scholar",
   "metadata": {},
   "outputs": [],
   "source": [
    "sst"
   ]
  },
  {
   "cell_type": "code",
   "execution_count": null,
   "id": "signed-kingston",
   "metadata": {},
   "outputs": [],
   "source": [
    "sst.plot()"
   ]
  },
  {
   "cell_type": "code",
   "execution_count": null,
   "id": "raising-transcript",
   "metadata": {},
   "outputs": [],
   "source": [
    "#Set plotting formats\n",
    "import matplotlib as mpl\n",
    "mpl.rcParams['figure.figsize'] = [13.0, 6.0]\n",
    "mpl.rcParams['font.size'] = 16\n",
    "mpl.rcParams['legend.fontsize'] = 'medium'\n",
    "mpl.rcParams['figure.titlesize'] = 'medium'\n",
    "mpl.rcParams['lines.linewidth'] = 2.0"
   ]
  },
  {
   "cell_type": "code",
   "execution_count": null,
   "id": "elegant-bacon",
   "metadata": {},
   "outputs": [],
   "source": [
    "sst.plot()"
   ]
  },
  {
   "cell_type": "markdown",
   "id": "severe-davis",
   "metadata": {},
   "source": [
    "1850 is usually considered the beginning of the industrial revolution, so before human affected climate by burning fossil fuels (but we did major land use changes and had impacts on many species' extinctions)\n",
    "\n",
    "There is a definate trend in the data, with a big excursion in the 1940s\n",
    "\n",
    "Let's ask some research questions. We will start these in lecture and you will finish them in lab:\n",
    "- What is the trend in this data, that is how fast is SST increasing with time? \n",
    "- If we choose a different window for the trend analysis, how does this affect the answer?\n",
    "- What causes all the interannual variablilty? If we detrend the data how does it look? Can we compare this with climate variabiltiy indices?\n",
    "- What happened in the 1940s?\n",
    "\n",
    "see: https://www.newscientist.com/article/dn11639-climate-myths-the-cooling-after-1940-shows-co2-does-not-cause-warming/"
   ]
  },
  {
   "cell_type": "markdown",
   "id": "charitable-burden",
   "metadata": {},
   "source": [
    "I am much more comfortable doing data analysis in xarray so I'm converting the pandas dataframe to an xarray dataset"
   ]
  },
  {
   "cell_type": "code",
   "execution_count": null,
   "id": "subsequent-tokyo",
   "metadata": {},
   "outputs": [],
   "source": [
    "import xarray as xr"
   ]
  },
  {
   "cell_type": "code",
   "execution_count": null,
   "id": "surprised-seeker",
   "metadata": {},
   "outputs": [],
   "source": [
    "sst_ds = sst.to_xarray()"
   ]
  },
  {
   "cell_type": "code",
   "execution_count": null,
   "id": "prepared-purse",
   "metadata": {},
   "outputs": [],
   "source": [
    "sst_ds"
   ]
  },
  {
   "cell_type": "markdown",
   "id": "homeless-documentary",
   "metadata": {},
   "source": [
    "If we want, we can add a pandas date range to this timeseries and use this for plotting. Not super needed here because it's annual, but would be useful if it was monthly or daily."
   ]
  },
  {
   "cell_type": "code",
   "execution_count": null,
   "id": "supposed-remains",
   "metadata": {},
   "outputs": [],
   "source": [
    "ssha_dates = pd.date_range(start = '1880', end = '2015', freq='YE')"
   ]
  },
  {
   "cell_type": "code",
   "execution_count": null,
   "id": "fancy-whole",
   "metadata": {},
   "outputs": [],
   "source": [
    "ssha_dates"
   ]
  },
  {
   "cell_type": "code",
   "execution_count": null,
   "id": "neutral-soccer",
   "metadata": {},
   "outputs": [],
   "source": [
    "# let's just work with the annual anomaly\n",
    "\n",
    "sst_ds[\"Annual anomaly\"] # note a lot of the syntax in xarray is similar to pandas"
   ]
  },
  {
   "cell_type": "markdown",
   "id": "tired-brighton",
   "metadata": {},
   "source": [
    "#### Let's do a linear fit of the whole timeseries\n",
    "\n",
    "Linear regression is simply fitting a line to some data, assuming that the data is on a straight line with the equation y=**m**x+**b**, where x and y are the independent and dependent data, **m** is the slope, and **b** is the intercept. Linear regression finds m and b by minimizing the distance of all the data points to a line, getting the best fit, using calculus. See:\n",
    "\n",
    "https://plainenglish.io/blog/linear-regression-for-dummies\n",
    "\n",
    "https://en.wikipedia.org/wiki/Linear_regression\n"
   ]
  },
  {
   "cell_type": "code",
   "execution_count": null,
   "id": "voluntary-sodium",
   "metadata": {},
   "outputs": [],
   "source": [
    "from scipy import stats"
   ]
  },
  {
   "cell_type": "code",
   "execution_count": null,
   "id": "c515cfc9-f4c7-4958-ac64-14d4b3553186",
   "metadata": {},
   "outputs": [],
   "source": [
    "stats.linregress?"
   ]
  },
  {
   "cell_type": "code",
   "execution_count": null,
   "id": "federal-commercial",
   "metadata": {},
   "outputs": [],
   "source": [
    "# the syntax for this function is x,y, so time, ssta\n",
    "ssta_trend_entire = stats.linregress(sst_ds.Year, sst_ds[\"Annual anomaly\"])"
   ]
  },
  {
   "cell_type": "code",
   "execution_count": null,
   "id": "laden-barcelona",
   "metadata": {},
   "outputs": [],
   "source": [
    "ssta_trend_entire"
   ]
  },
  {
   "cell_type": "code",
   "execution_count": null,
   "id": "utility-montreal",
   "metadata": {},
   "outputs": [],
   "source": [
    "ssta_trend_entire.slope"
   ]
  },
  {
   "cell_type": "markdown",
   "id": "friendly-flashing",
   "metadata": {},
   "source": [
    "The value I am interested in is the slope, what is this? What are the units?\n",
    "- Rate that temperature is increasing (degrees F/Year)\n",
    "\n",
    "Let's plot the line to see the fit. The equation is y = mx + b, where m is the slope and b is the intercept, what are x and y in this case?\n",
    "- x is time\n",
    "- y is temprature"
   ]
  },
  {
   "cell_type": "code",
   "execution_count": null,
   "id": "flying-number",
   "metadata": {},
   "outputs": [],
   "source": [
    "import matplotlib.pyplot as plt"
   ]
  },
  {
   "cell_type": "code",
   "execution_count": null,
   "id": "clean-turtle",
   "metadata": {},
   "outputs": [],
   "source": [
    "plt.plot(sst_ds.Year, sst_ds[\"Annual anomaly\"])\n",
    "plt.plot(sst_ds.Year, ssta_trend_entire.slope*sst_ds.Year + ssta_trend_entire.intercept)\n",
    "plt.xlabel('Year')\n",
    "plt.ylabel('SSTA ($\\degree$F)')"
   ]
  },
  {
   "cell_type": "markdown",
   "id": "pleased-watch",
   "metadata": {},
   "source": [
    "How good of a fit is this for the last few decades?\n",
    "It's not so good, the trend is faster, steeper\n",
    "\n",
    "#### Let's do a linear fit for the last few decades and see what we get.\n",
    "\n",
    "How do we access the later data?"
   ]
  },
  {
   "cell_type": "code",
   "execution_count": null,
   "id": "enhanced-bryan",
   "metadata": {},
   "outputs": [],
   "source": [
    "sst_ds.Year[100:]"
   ]
  },
  {
   "cell_type": "code",
   "execution_count": null,
   "id": "noticed-instruction",
   "metadata": {},
   "outputs": [],
   "source": [
    "sst_ds[\"Annual anomaly\"][100:]"
   ]
  },
  {
   "cell_type": "code",
   "execution_count": null,
   "id": "planned-charity",
   "metadata": {},
   "outputs": [],
   "source": [
    "# the syntax for this function is x,y, so time, ssta\n",
    "ssta_trend_1980_on = stats.linregress(sst_ds.Year[100:], sst_ds[\"Annual anomaly\"][100:])"
   ]
  },
  {
   "cell_type": "code",
   "execution_count": null,
   "id": "encouraging-reverse",
   "metadata": {},
   "outputs": [],
   "source": [
    "ssta_trend_1980_on"
   ]
  },
  {
   "cell_type": "code",
   "execution_count": null,
   "id": "illegal-lecture",
   "metadata": {},
   "outputs": [],
   "source": [
    "ssta_trend_1980_on.slope # 0.02 F/ year. 0.2 F /10 years"
   ]
  },
  {
   "cell_type": "code",
   "execution_count": null,
   "id": "weird-darwin",
   "metadata": {},
   "outputs": [],
   "source": [
    "plt.plot(sst_ds.Year, sst_ds[\"Annual anomaly\"])\n",
    "plt.plot(sst_ds.Year, ssta_trend_entire.slope*sst_ds.Year + ssta_trend_entire.intercept)\n",
    "plt.plot(sst_ds.Year[100:], ssta_trend_1980_on.slope*sst_ds.Year[100:] + ssta_trend_1980_on.intercept)\n",
    "plt.xlabel('Year')\n",
    "plt.ylabel('SSTA ($\\degree$F)')"
   ]
  },
  {
   "cell_type": "code",
   "execution_count": null,
   "id": "architectural-innocent",
   "metadata": {},
   "outputs": [],
   "source": []
  },
  {
   "cell_type": "markdown",
   "id": "developmental-rendering",
   "metadata": {},
   "source": [
    "#### Detrending the data\n",
    "Let's say we were interested in the variability outside of the trend. How do we detrend the data?"
   ]
  },
  {
   "cell_type": "code",
   "execution_count": null,
   "id": "balanced-explanation",
   "metadata": {},
   "outputs": [],
   "source": [
    "# First I am going to make the line, as I plotted before\n",
    "trend_entire = ssta_trend_entire.slope*sst_ds.Year + ssta_trend_entire.intercept\n"
   ]
  },
  {
   "cell_type": "code",
   "execution_count": null,
   "id": "textile-hughes",
   "metadata": {},
   "outputs": [],
   "source": [
    "# Then I will subtract the trend, the line\n",
    "sst_detrended = sst_ds[\"Annual anomaly\"] - trend_entire"
   ]
  },
  {
   "cell_type": "code",
   "execution_count": null,
   "id": "lesser-client",
   "metadata": {},
   "outputs": [],
   "source": [
    "plt.plot(sst_ds.Year, sst_detrended)"
   ]
  },
  {
   "cell_type": "code",
   "execution_count": null,
   "id": "european-contribution",
   "metadata": {},
   "outputs": [],
   "source": []
  },
  {
   "cell_type": "markdown",
   "id": "complimentary-antarctica",
   "metadata": {},
   "source": [
    "#### Creating a moving average, i.e. filtering or smoothing.\n",
    "Let's say we wanted to smooth the data to remove some of the variability, how would we do this?"
   ]
  },
  {
   "cell_type": "markdown",
   "id": "vanilla-national",
   "metadata": {},
   "source": [
    "I want to do a three year running mean, so for each datapoint, average the year before, the current year and the year after and save that to the current year as the new data.\n",
    "\n",
    "if i is my current year index\n",
    "\n",
    "(data[j+1] + data [j] + data [j-1])/3 to average the three years of data\n",
    "\n",
    "Going to have to start at the second year, since I don't have a previous year\n",
    "\n",
    "\n",
    "pseudo code:\n",
    "\n",
    "create an array to save the new data in\n",
    "\n",
    "Loop through all the years\n",
    " take a mean of the current, previous and next years, save to some new arrray\n"
   ]
  },
  {
   "cell_type": "code",
   "execution_count": null,
   "id": "prompt-latex",
   "metadata": {},
   "outputs": [],
   "source": [
    "import numpy as np"
   ]
  },
  {
   "cell_type": "code",
   "execution_count": null,
   "id": "opposed-harvest",
   "metadata": {},
   "outputs": [],
   "source": [
    "sst_ds[\"Annual anomaly\"].shape"
   ]
  },
  {
   "cell_type": "code",
   "execution_count": null,
   "id": "bacterial-retention",
   "metadata": {},
   "outputs": [],
   "source": [
    "# initialize my array\n",
    "ssta_filtered = np.zeros(136)\n",
    "\n",
    "for i in range(134): # loop through all the years, skip the last index\n",
    "    #print(i+1) #skip the first index\n",
    "    ssta_filtered[i+1] = (sst_ds[\"Annual anomaly\"][i] + sst_ds[\"Annual anomaly\"][i+1] + sst_ds[\"Annual anomaly\"][i+2])/3\n"
   ]
  },
  {
   "cell_type": "code",
   "execution_count": null,
   "id": "verbal-transportation",
   "metadata": {},
   "outputs": [],
   "source": [
    "plt.plot(sst_ds.Year[1:-1],ssta_filtered[1:-1], label = \"filtered\")\n",
    "plt.plot(sst_ds.Year,sst_ds[\"Annual anomaly\"], label = 'SSTA')\n",
    "plt.legend()"
   ]
  },
  {
   "cell_type": "markdown",
   "id": "apart-league",
   "metadata": {},
   "source": [
    "# Lab 12.1"
   ]
  },
  {
   "cell_type": "markdown",
   "id": "driving-newark",
   "metadata": {},
   "source": [
    "**E.1** Define a datetime object that is your birthday. Increment this date using timedelta by a) ten weeks, b) five minutes, c) two years (tricky!) Hint: see help(timedelta)"
   ]
  },
  {
   "cell_type": "code",
   "execution_count": null,
   "id": "advanced-blond",
   "metadata": {},
   "outputs": [],
   "source": []
  },
  {
   "cell_type": "markdown",
   "id": "descending-savage",
   "metadata": {},
   "source": [
    "**E.2** Define a daterange for your birthday every year of your life"
   ]
  },
  {
   "cell_type": "markdown",
   "id": "passive-layer",
   "metadata": {},
   "source": []
  },
  {
   "cell_type": "markdown",
   "id": "complimentary-shooting",
   "metadata": {},
   "source": [
    "**E.3** Print all your birthdays out as month, day, year (no minutes, etc)"
   ]
  },
  {
   "cell_type": "code",
   "execution_count": null,
   "id": "alleged-professor",
   "metadata": {},
   "outputs": [],
   "source": []
  },
  {
   "cell_type": "markdown",
   "id": "hairy-titanium",
   "metadata": {},
   "source": [
    "**E.4** Do a linear fit of the SSTA data from 1940 to 1970. What trend do you get? How confident are you in this result? How does it compare to the trends we did in lecture (use quantitative data to explain)."
   ]
  },
  {
   "cell_type": "code",
   "execution_count": null,
   "id": "finnish-contamination",
   "metadata": {},
   "outputs": [],
   "source": []
  },
  {
   "cell_type": "markdown",
   "id": "configured-rainbow",
   "metadata": {},
   "source": [
    "**E.5** According to the internet, what might have caused this decline in SST during this perioud? Write a few sentances explaining this and cite your sources here."
   ]
  },
  {
   "cell_type": "code",
   "execution_count": null,
   "id": "grateful-speech",
   "metadata": {},
   "outputs": [],
   "source": []
  },
  {
   "cell_type": "markdown",
   "id": "innovative-guess",
   "metadata": {},
   "source": [
    "**E.6** Detrend from 1970 on and plot your result. Compare this to an ENSO (El Nino) index and speculate on what may have caused this interannual variability. How does ENSO affect SST and why?"
   ]
  },
  {
   "cell_type": "code",
   "execution_count": null,
   "id": "freelance-endorsement",
   "metadata": {},
   "outputs": [],
   "source": []
  },
  {
   "cell_type": "markdown",
   "id": "former-piece",
   "metadata": {},
   "source": [
    "**E.7** Perform a five year moving average of your detrended data from E.6. Explain your result in relation to the periodicity of ENSO."
   ]
  },
  {
   "cell_type": "code",
   "execution_count": null,
   "id": "floral-payroll",
   "metadata": {},
   "outputs": [],
   "source": []
  },
  {
   "cell_type": "markdown",
   "id": "ce2c2bb6-5a9f-43c2-9882-854740672a92",
   "metadata": {},
   "source": [
    "**Notes** Make notes for yourself on progamming tecniques and commands you learned in the this week, including examples, comments and explainitory text. You can do this here or in a separate notebook that you link to here. Basically, you are making a cheat sheet for yourself."
   ]
  },
  {
   "cell_type": "code",
   "execution_count": null,
   "id": "42700183-ab2c-4df2-b0a9-e8d6f1c3dd24",
   "metadata": {},
   "outputs": [],
   "source": []
  }
 ],
 "metadata": {
  "kernelspec": {
   "display_name": "Python 3 (ipykernel)",
   "language": "python",
   "name": "python3"
  },
  "language_info": {
   "codemirror_mode": {
    "name": "ipython",
    "version": 3
   },
   "file_extension": ".py",
   "mimetype": "text/x-python",
   "name": "python",
   "nbconvert_exporter": "python",
   "pygments_lexer": "ipython3",
   "version": "3.12.4"
  }
 },
 "nbformat": 4,
 "nbformat_minor": 5
}
