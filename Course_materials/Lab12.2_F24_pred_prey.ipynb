{
 "cells": [
  {
   "cell_type": "markdown",
   "id": "popular-appointment",
   "metadata": {},
   "source": [
    "Name"
   ]
  },
  {
   "cell_type": "markdown",
   "id": "catholic-visit",
   "metadata": {},
   "source": [
    "Labpartner(s)"
   ]
  },
  {
   "cell_type": "code",
   "execution_count": null,
   "id": "noted-lending",
   "metadata": {},
   "outputs": [],
   "source": [
    "#import statements go here\n"
   ]
  },
  {
   "cell_type": "markdown",
   "id": "stylish-consultation",
   "metadata": {},
   "source": [
    "# Class 12.2"
   ]
  },
  {
   "cell_type": "markdown",
   "id": "tamil-immune",
   "metadata": {},
   "source": [
    "# Warmup 12.2"
   ]
  },
  {
   "cell_type": "markdown",
   "id": "stainless-consent",
   "metadata": {},
   "source": [
    "Kelsey and Asante are going to demo ARC PRO and give you some exercises."
   ]
  },
  {
   "cell_type": "markdown",
   "id": "fifty-lindsay",
   "metadata": {},
   "source": [
    "# Lecture 12.2"
   ]
  },
  {
   "cell_type": "markdown",
   "id": "divine-equivalent",
   "metadata": {},
   "source": [
    "### Announcements\n",
    "\n",
    "- Reminder **Reminder all labs through 9.2 need to be completed, or resubmitted if you did not get a satisfactory grade, by end of the day Friday 11/15 to pass the course.** The understanding of this beginning material is needed to complete this course. If you turned it in or resubmitted one and are waiting for me to grade it, no worries. We can get them all finalized next week. \n",
    "  \n",
    "- We are going to do an advanced lab today. For those of you struggling to catch up, you can not worry about this one and focus on previous labs. See syllabus for grading policy.\n"
   ]
  },
  {
   "cell_type": "markdown",
   "id": "677ea024-4c9c-46b7-a5b1-74ae21438541",
   "metadata": {},
   "source": [
    "### Agenda\n",
    "- Predator prey modeling. We are going to actually do some scientific modelng today!"
   ]
  },
  {
   "cell_type": "markdown",
   "id": "preceding-george",
   "metadata": {},
   "source": [
    "## Predator Prey Modeling"
   ]
  },
  {
   "cell_type": "markdown",
   "id": "resistant-channels",
   "metadata": {},
   "source": [
    "See what this lab was based on here: \n",
    "\n",
    "https://github.com/numerical-mooc/assignment-bank/blob/master/Lessons.and.Assignments/Predator.Prey.Model/Predator.Prey.Model.ipynb\n",
    "\n",
    "For a more advanced example in predator prey modeling:\n",
    "\n",
    "https://waterprogramming.wordpress.com/tag/predator-prey/\n",
    "\n",
    "Modeling the zombie aplocalypse:\n",
    "\n",
    "https://scipy-cookbook.readthedocs.io/items/Zombie_Apocalypse_ODEINT.html\n",
    "\n"
   ]
  },
  {
   "cell_type": "markdown",
   "id": "expired-integration",
   "metadata": {},
   "source": [
    "###  12.2.1 Lotka-Volterra Equations"
   ]
  },
  {
   "cell_type": "markdown",
   "id": "personal-middle",
   "metadata": {},
   "source": [
    "The Lotka–Volterra equations, also known as the predator–prey equations, are a pair of first-order, non-linear, differential\n",
    "equations. They are frequently used to describe the dynamics of biological systems in which two species interact, one as a predator and\n",
    "the other as prey. You can read more about this from Wikipedia <http://en.wikipedia.org/wiki/Lotka-Volterra_equation>."
   ]
  },
  {
   "cell_type": "markdown",
   "id": "advance-celtic",
   "metadata": {},
   "source": [
    "#### Equations describing the system"
   ]
  },
  {
   "cell_type": "markdown",
   "id": "facial-moral",
   "metadata": {},
   "source": [
    " Their populations change with time according to the following pair of equations:\n",
    "\n",
    "$ dx/dt = x ( \\alpha - \\beta y  ) $\n",
    "\n",
    "$ dy/dt = -y( \\gamma - \\delta x ) $\n",
    "\n",
    "Where, $x$ is the number of prey (e.g., phytoplankton), $y$ is the number of predators (e.g., zooplankton). $dx/dt, dy/dt$ gives the rate of change of their respective populations over \n",
    "time $t$. $\\alpha, \\beta, \\gamma, \\delta $ are the parameters describing the interaction between the two species. This models makes some assumptions about \n",
    "the predator and prey. You can read about them from the Wikipedia page mentioned above."
   ]
  },
  {
   "cell_type": "markdown",
   "id": "precious-freedom",
   "metadata": {},
   "source": [
    "The above equations can be written in a slightly different form to interpret the physical meaning of the four parameters used.\n",
    "\n",
    "1.Rate equation for prey\n",
    "\n",
    "$dx/dt = \\alpha x - \\beta x y $\n",
    "\n",
    "The prey population (x) is presumed to have unlimited supply of food, $\\alpha x$ represents the rate of population growth of prey. Rate of decrease of population of prey is assumed to be proportional to the rate at which predator and prey encounter each other, given by $ \\beta y x$\n",
    "\n",
    "2.Rate equation for predator\n",
    "\n",
    "$ dy/dt = \\delta x y -\\gamma y $\n",
    "\n",
    "For the predator population (y), $\\delta x y $ gives the rate of growth of predator population. Note that this is similar to the rate of decrease of population of prey. The second term $\\gamma y $ gives the rate of population decrease for predators due to natural death or emigration."
   ]
  },
  {
   "cell_type": "markdown",
   "id": "sitting-rubber",
   "metadata": {},
   "source": [
    "### 12.2.2 Numerical solution using Python"
   ]
  },
  {
   "cell_type": "markdown",
   "id": "driven-plenty",
   "metadata": {},
   "source": [
    "A simple python code for solving these equations is shown below."
   ]
  },
  {
   "cell_type": "code",
   "execution_count": null,
   "id": "nearby-minimum",
   "metadata": {},
   "outputs": [],
   "source": [
    "# import required libraries\n",
    "import numpy as np\n",
    "import matplotlib.pyplot as plt"
   ]
  },
  {
   "cell_type": "code",
   "execution_count": null,
   "id": "indie-plumbing",
   "metadata": {},
   "outputs": [],
   "source": [
    "# set the parameters\n",
    "alpha = 1.\n",
    "beta = 1.2\n",
    "gamma = 4.\n",
    "delta = 1."
   ]
  },
  {
   "cell_type": "code",
   "execution_count": null,
   "id": "affected-backup",
   "metadata": {},
   "outputs": [],
   "source": [
    "#define the time stepping scheme - Euler forward or \"shooting\" method\n",
    "\n",
    "def euler_step(u, f, dt):\n",
    "    \"\"\"Returns the solution at the next time-step using Euler's method.\n",
    "    \n",
    "    Parameters\n",
    "    ----------\n",
    "    u : array of float\n",
    "        solution at the previous time-step.\n",
    "    f : function\n",
    "        function to compute the right hand-side of the system of equation.\n",
    "    dt : float\n",
    "        time-increment.\n",
    "    \n",
    "    Returns\n",
    "    -------\n",
    "    u_n_plus_1 : array of float\n",
    "        approximate solution at the next time step.\n",
    "    \"\"\"\n",
    "    \n",
    "    return u + dt * f(u)"
   ]
  },
  {
   "cell_type": "code",
   "execution_count": null,
   "id": "conservative-warning",
   "metadata": {},
   "outputs": [],
   "source": [
    "# define the function that represents the Lotka-Volterra equations\n",
    "# u is the x,y state of the system, what the population is at a given time.\n",
    "# u = [x,y] on array with both the predetor and prey variables\n",
    "\n",
    "def f(u):\n",
    "    \"\"\"Returns the rate of change of species\n",
    "    \n",
    "    Parameters\n",
    "    ----------\n",
    "    u : array of float\n",
    "        array containing the solution at time n.\n",
    "        \n",
    "    Returns\n",
    "    -------\n",
    "    dudt : array of float\n",
    "        array containing the RHS given u.\n",
    "    \"\"\"\n",
    "    x = u[0]\n",
    "    y = u[1]\n",
    "    return np.array([x*(alpha - beta*y), -y*(gamma - delta*x)])\n"
   ]
  },
  {
   "cell_type": "code",
   "execution_count": null,
   "id": "unavailable-denver",
   "metadata": {},
   "outputs": [],
   "source": [
    "# set time-increment and discretize the time\n",
    "T  = 15.0                           # final time\n",
    "dt = 0.01                           # set time-increment\n",
    "N  = int(T/dt) + 1                  # number of time-steps\n",
    "\n",
    "# initial conditions (initial populations):\n",
    "x0 = 10. # initial prey amount\n",
    "y0 = 2. # initial predator amount\n",
    "t0 = 0.\n",
    "\n",
    "# initialize the array containing the solution for each time-step\n",
    "u_euler = np.zeros((N, 2))\n",
    "\n",
    "# imput initial conditions\n",
    "u_euler[0] = np.array([x0, y0])\n"
   ]
  },
  {
   "cell_type": "code",
   "execution_count": null,
   "id": "gentle-characteristic",
   "metadata": {},
   "outputs": [],
   "source": [
    "u_euler"
   ]
  },
  {
   "cell_type": "code",
   "execution_count": null,
   "id": "comic-season",
   "metadata": {},
   "outputs": [],
   "source": [
    "# use a for loop to call the function euler_step()\n",
    "for n in range(N-1):\n",
    "    u_euler[n+1] = euler_step(u_euler[n], f, dt)"
   ]
  },
  {
   "cell_type": "code",
   "execution_count": null,
   "id": "artistic-tension",
   "metadata": {},
   "outputs": [],
   "source": [
    "u_euler"
   ]
  },
  {
   "cell_type": "markdown",
   "id": "split-entrance",
   "metadata": {},
   "source": [
    "We will now plot the variation of population for each species with time."
   ]
  },
  {
   "cell_type": "code",
   "execution_count": null,
   "id": "progressive-traveler",
   "metadata": {},
   "outputs": [],
   "source": [
    "# break up the solutions for plotting\n",
    "time = np.linspace(0.0, T,N)\n",
    "x_euler = u_euler[:,0]\n",
    "y_euler = u_euler[:,1]"
   ]
  },
  {
   "cell_type": "code",
   "execution_count": null,
   "id": "satellite-weight",
   "metadata": {},
   "outputs": [],
   "source": [
    "plt.plot(time, x_euler, '.', label = 'prey ')\n",
    "plt.plot(time, y_euler, '.', label = 'predator')\n",
    "plt.legend(loc='upper right')\n",
    "#labels\n",
    "plt.xlabel(\"time\")\n",
    "plt.ylabel(\"number of each species\")\n",
    "#title\n",
    "plt.title(\"predator prey model\")"
   ]
  },
  {
   "cell_type": "markdown",
   "id": "cbe30e67-de85-414a-891e-8c89fd808e66",
   "metadata": {},
   "source": [
    "Let's think a bit about what this solution means, what is going on here?"
   ]
  },
  {
   "cell_type": "code",
   "execution_count": null,
   "id": "f7cb5056-c65d-4939-a506-306c13f615d9",
   "metadata": {},
   "outputs": [],
   "source": []
  },
  {
   "cell_type": "markdown",
   "id": "6e587bec-6f1b-4b2c-b721-1f502f7c670d",
   "metadata": {},
   "source": [
    "What happens if we start with different initial conditions? Like more prey and less predators."
   ]
  },
  {
   "cell_type": "markdown",
   "id": "48fcb53d-b4e5-4b64-9fe4-2a25ea931fb7",
   "metadata": {},
   "source": []
  },
  {
   "cell_type": "markdown",
   "id": "8c67aacc-2d8c-4b21-b893-707a44de14b7",
   "metadata": {},
   "source": [
    "What happened?"
   ]
  },
  {
   "cell_type": "code",
   "execution_count": null,
   "id": "4f1e217c-cd2b-46eb-a3e2-4c5a53c61d33",
   "metadata": {},
   "outputs": [],
   "source": []
  },
  {
   "cell_type": "markdown",
   "id": "a3b893c1-be1f-4283-866e-4898d69e4547",
   "metadata": {},
   "source": [
    "What if we start with the same amount of prey and predators?"
   ]
  },
  {
   "cell_type": "code",
   "execution_count": null,
   "id": "advanced-cause",
   "metadata": {},
   "outputs": [],
   "source": []
  },
  {
   "cell_type": "markdown",
   "id": "15cb0f34-ddf7-4673-b789-30f3f0385abd",
   "metadata": {},
   "source": [
    "What happened?"
   ]
  },
  {
   "cell_type": "code",
   "execution_count": null,
   "id": "69e3cd7b-fa06-4890-a8e2-0ae44cb26e04",
   "metadata": {},
   "outputs": [],
   "source": []
  },
  {
   "cell_type": "markdown",
   "id": "a0edccf7-3737-4899-92a3-de4dd515fe50",
   "metadata": {},
   "source": [
    "Let's mess around with the model parameters. What if the prey grow faster?"
   ]
  },
  {
   "cell_type": "code",
   "execution_count": null,
   "id": "883efd32-b83d-4918-bcd8-ba062fcc80f3",
   "metadata": {},
   "outputs": [],
   "source": []
  },
  {
   "cell_type": "markdown",
   "id": "9cb167af-340b-4a0c-8f88-617e641b2215",
   "metadata": {},
   "source": [
    "What happened?"
   ]
  },
  {
   "cell_type": "code",
   "execution_count": null,
   "id": "incorporated-conviction",
   "metadata": {},
   "outputs": [],
   "source": []
  },
  {
   "cell_type": "markdown",
   "id": "seven-monthly",
   "metadata": {},
   "source": [
    "### 12.2.3 System behavior"
   ]
  },
  {
   "cell_type": "markdown",
   "id": "diverse-monaco",
   "metadata": {},
   "source": [
    "A better understanding of the system behavior can be obtained by a phase plot of the population of predators vs. the population of prey. It will tell us if the system sustains or collapses over time. For the choice of parameters $ \\alpha, \\beta, \\gamma $ and $ \\delta $ made above, we see that the maximum population of each species keeps increasing each cycle. You can read more about that in the Wikipedia link mentioned above."
   ]
  },
  {
   "cell_type": "code",
   "execution_count": null,
   "id": "velvet-pride",
   "metadata": {},
   "outputs": [],
   "source": [
    "plt.plot(x_euler, y_euler, '-->', markevery=5, label = 'phase plot')\n",
    "plt.legend(loc='upper right')\n",
    "#labels\n",
    "plt.xlabel(\"number of prey\")\n",
    "plt.ylabel(\"number of predators\")\n",
    "#title\n",
    "plt.title(\"predator prey model\")"
   ]
  },
  {
   "cell_type": "code",
   "execution_count": null,
   "id": "desirable-imaging",
   "metadata": {},
   "outputs": [],
   "source": []
  },
  {
   "cell_type": "code",
   "execution_count": null,
   "id": "preceding-christmas",
   "metadata": {},
   "outputs": [],
   "source": []
  },
  {
   "cell_type": "markdown",
   "id": "offensive-subdivision",
   "metadata": {},
   "source": [
    "# Lab 12.2"
   ]
  },
  {
   "cell_type": "markdown",
   "id": "stretch-arabic",
   "metadata": {},
   "source": [
    "#### E.1 How does timestep affect the solution?\n",
    "Modify the timestep (or time increment) dt. How does this affect your solutions? Plot both the timeseries and the phase plots. Try making dt 10 times bigger (dt = 0.1) and 10 times smaller. Describe what happens to your results. What happens if you make dt 100 times smaller?"
   ]
  },
  {
   "cell_type": "code",
   "execution_count": null,
   "id": "passing-people",
   "metadata": {},
   "outputs": [],
   "source": []
  },
  {
   "cell_type": "markdown",
   "id": "awful-success",
   "metadata": {},
   "source": [
    "#### E.2 Adding the steady state\n",
    "\n",
    "The steady state(s) of the system are found by setting the population equations to zero, that is the solution to when the population is not changing. This is also called a \"fixed point\" of the equations, since if the populations start there they stay there, i.e. are fixed.\n",
    "\n",
    "Find the steady states of the system using algebra. Plot the fixed point (steady state population) of the system on both the timeseries and phase space plots. Describe where the fixed point is in the phase space plot and plot it. What happens if you start at the steady state? What happens if you start near the steady state?"
   ]
  },
  {
   "cell_type": "markdown",
   "id": "registered-silver",
   "metadata": {},
   "source": [
    "$\\alpha x - \\beta x y  = 0$\n",
    "\n",
    "$\\delta x y -\\gamma y  = 0$\n",
    "\n"
   ]
  },
  {
   "cell_type": "code",
   "execution_count": null,
   "id": "472bf765-30ea-4fe3-9211-8751d735917e",
   "metadata": {},
   "outputs": [],
   "source": []
  },
  {
   "cell_type": "markdown",
   "id": "commercial-plenty",
   "metadata": {},
   "source": [
    "#### E.3 A better algorithm\n",
    "Do Exercise 1 again with a fourth order time stepping method called \"Runge-Kutta 4\" whose algorithm is given below. Do your answers differ? How does the dt, the timestep, affect your answer using this \"higher order\" algorithm?"
   ]
  },
  {
   "cell_type": "code",
   "execution_count": null,
   "id": "nutritional-novelty",
   "metadata": {},
   "outputs": [],
   "source": [
    "def RK4(u,f,dt):\n",
    "    # Runge Kutta 4th order method\n",
    "    \"\"\"Returns the solution at the next time-step using Runge Kutta fourth order (RK4) method.\n",
    "    \n",
    "    Parameters\n",
    "    ----------\n",
    "    u : array of float\n",
    "        solution at the previous time-step.\n",
    "    f : function\n",
    "        function to compute the right hand-side of the system of equation.\n",
    "    dt : float\n",
    "        time-increment.\n",
    "    \n",
    "    Returns\n",
    "    -------\n",
    "    u_n_plus_1 : array of float\n",
    "        approximate solution at the next time step.\n",
    "    \"\"\"\n",
    "    #calculate slopes\n",
    "    k1 = f(u)\n",
    "    u1 = u + (dt/2.)*k1\n",
    "    k2 = f(u1)\n",
    "    u2 = u + (dt/2.)*k2\n",
    "    k3 = f(u2)\n",
    "    u3 = u + dt*k3\n",
    "    k4 = f(u3)\n",
    "    return u + (dt/6.)*(k1 + 2.*k2 + 2.*k3 + k4)"
   ]
  },
  {
   "cell_type": "code",
   "execution_count": null,
   "id": "placed-mustang",
   "metadata": {},
   "outputs": [],
   "source": []
  },
  {
   "cell_type": "code",
   "execution_count": null,
   "id": "20c93c40-792b-4cdb-abe3-94d07849318a",
   "metadata": {},
   "outputs": [],
   "source": []
  },
  {
   "cell_type": "markdown",
   "id": "medical-exclusive",
   "metadata": {},
   "source": [
    "#### E.4 Exploring parameter space\n",
    "Vary the interactions between species by changing $\\alpha, \\beta, \\gamma, \\delta$ and see what happens to the population evolution as well as phase plots. How does changing each parameter individually affect the system?"
   ]
  },
  {
   "cell_type": "code",
   "execution_count": null,
   "id": "downtown-buying",
   "metadata": {},
   "outputs": [],
   "source": []
  },
  {
   "cell_type": "code",
   "execution_count": null,
   "id": "novel-swedish",
   "metadata": {},
   "outputs": [],
   "source": []
  },
  {
   "cell_type": "markdown",
   "id": "worldwide-heater",
   "metadata": {},
   "source": [
    "#### E.5 (Advanced, required for grad students)\n",
    "Modify the differential equations to include other types of interactions. See advanced predator prey example link at the top for ideas. You might add in a self-eating (i.e. $-ay^2$) term into the predator equation. Or do the zombie apocalypse example linked above."
   ]
  },
  {
   "cell_type": "code",
   "execution_count": null,
   "id": "dried-literature",
   "metadata": {},
   "outputs": [],
   "source": []
  },
  {
   "cell_type": "code",
   "execution_count": null,
   "id": "unauthorized-paintball",
   "metadata": {},
   "outputs": [],
   "source": []
  }
 ],
 "metadata": {
  "kernelspec": {
   "display_name": "Python 3 (ipykernel)",
   "language": "python",
   "name": "python3"
  },
  "language_info": {
   "codemirror_mode": {
    "name": "ipython",
    "version": 3
   },
   "file_extension": ".py",
   "mimetype": "text/x-python",
   "name": "python",
   "nbconvert_exporter": "python",
   "pygments_lexer": "ipython3",
   "version": "3.12.4"
  }
 },
 "nbformat": 4,
 "nbformat_minor": 5
}
