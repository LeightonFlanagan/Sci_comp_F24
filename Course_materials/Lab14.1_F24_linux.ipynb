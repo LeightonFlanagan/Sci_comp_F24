{
 "cells": [
  {
   "cell_type": "markdown",
   "id": "tight-wildlife",
   "metadata": {},
   "source": [
    "Name"
   ]
  },
  {
   "cell_type": "markdown",
   "id": "distinct-appliance",
   "metadata": {},
   "source": [
    "Labpartner(s)"
   ]
  },
  {
   "cell_type": "code",
   "execution_count": null,
   "id": "palestinian-convert",
   "metadata": {},
   "outputs": [],
   "source": [
    "# import statements go here\n"
   ]
  },
  {
   "cell_type": "markdown",
   "id": "returning-carnival",
   "metadata": {},
   "source": [
    "# Class 14.1"
   ]
  },
  {
   "cell_type": "markdown",
   "id": "latter-injury",
   "metadata": {},
   "source": [
    "# Warmups 14.1"
   ]
  },
  {
   "cell_type": "markdown",
   "id": "alternative-north",
   "metadata": {},
   "source": [
    "**W.1 HPC practice** \n",
    "Log into the LSU HPC on the command line (terminal) and make a new directory/folder in your home directory called OCS4001. Hint: use the command **mkdir** (google it)."
   ]
  },
  {
   "cell_type": "markdown",
   "id": "bb22d420-0069-4dc9-a014-5ad9bbb9429c",
   "metadata": {},
   "source": [
    "**W.2 More HPC** Move the **test_text.txt** file from github to the LSU HPC and into the new directory you just created. You may want to use the commands **scp** and **mv**."
   ]
  },
  {
   "cell_type": "markdown",
   "id": "b581a06e-8fa8-4b97-b7c3-74fd42f649ec",
   "metadata": {},
   "source": [
    "**W.3** Read the text file using **less**. Google the exit command for this utility"
   ]
  },
  {
   "cell_type": "markdown",
   "id": "1478201d-1467-4c03-89aa-1765e52d1a3f",
   "metadata": {},
   "source": [
    "# Lecture 14.1\n",
    "\n",
    "## Agenda:\n",
    "- Creating symbolic links in linux\n",
    "- Holly's coding journey"
   ]
  },
  {
   "cell_type": "markdown",
   "id": "e962876b-6cce-4944-afba-865cf2c6e3cb",
   "metadata": {},
   "source": [
    "**L.1** Create a symbolic link in your home directory that links to your work directory on LSU HPC\n",
    "\n"
   ]
  },
  {
   "cell_type": "code",
   "execution_count": null,
   "id": "44338563-f70c-4989-97da-86412b24ab9c",
   "metadata": {},
   "outputs": [],
   "source": []
  },
  {
   "cell_type": "markdown",
   "id": "bd3dc77a-2ca9-40ff-9f48-34ae16ad4e6c",
   "metadata": {},
   "source": [
    "# Lab 14.1"
   ]
  },
  {
   "cell_type": "markdown",
   "id": "95b2665a-c014-4cd1-aba7-b15022fa7ef0",
   "metadata": {},
   "source": [
    "#### E.0 Complete the previous labs if you are behind."
   ]
  },
  {
   "cell_type": "markdown",
   "id": "30d82416-9655-4024-ac9d-fd49e12c6182",
   "metadata": {},
   "source": [
    "**Notes** Make notes for yourself on progamming tecniques and commands you learned in the this week, including examples, comments and explainitory text. You can do this here or in a separate notebook that you link to here. Basically, you are making a cheat sheet for yourself."
   ]
  },
  {
   "cell_type": "code",
   "execution_count": null,
   "id": "f63d1c53-65da-4043-a168-cec52ea76ced",
   "metadata": {},
   "outputs": [],
   "source": []
  },
  {
   "cell_type": "markdown",
   "id": "ded98577-1d87-4f3e-a630-6074f646c977",
   "metadata": {},
   "source": [
    "#### E.1 Work on your final project. Don't forget to turn in your progress report"
   ]
  },
  {
   "cell_type": "code",
   "execution_count": null,
   "id": "74617577-1e8c-41cf-afd5-ee671021c54c",
   "metadata": {},
   "outputs": [],
   "source": []
  }
 ],
 "metadata": {
  "kernelspec": {
   "display_name": "Python 3 (ipykernel)",
   "language": "python",
   "name": "python3"
  },
  "language_info": {
   "codemirror_mode": {
    "name": "ipython",
    "version": 3
   },
   "file_extension": ".py",
   "mimetype": "text/x-python",
   "name": "python",
   "nbconvert_exporter": "python",
   "pygments_lexer": "ipython3",
   "version": "3.12.4"
  }
 },
 "nbformat": 4,
 "nbformat_minor": 5
}
