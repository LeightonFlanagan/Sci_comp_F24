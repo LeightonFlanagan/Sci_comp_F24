{
 "cells": [
  {
   "cell_type": "markdown",
   "id": "tight-wildlife",
   "metadata": {},
   "source": [
    "Name"
   ]
  },
  {
   "cell_type": "markdown",
   "id": "distinct-appliance",
   "metadata": {},
   "source": [
    "Labpartner(s)"
   ]
  },
  {
   "cell_type": "code",
   "execution_count": null,
   "id": "palestinian-convert",
   "metadata": {},
   "outputs": [],
   "source": [
    "# import statements go here\n"
   ]
  },
  {
   "cell_type": "markdown",
   "id": "returning-carnival",
   "metadata": {},
   "source": [
    "# Class 15.1"
   ]
  },
  {
   "cell_type": "markdown",
   "id": "latter-injury",
   "metadata": {},
   "source": [
    "# Warmups 15.1"
   ]
  },
  {
   "cell_type": "markdown",
   "id": "alternative-north",
   "metadata": {},
   "source": [
    "**W.1 Final presentation time poll** \n",
    "\n",
    "Our final is scheduled for 7:30 AM on Tuesday Dec 10, which is terribly early. If we use the final period for our later time, it is on Saturday Dec 14th afternoon, which is also undesirable. **Fill out the calendar poll to see if we can find a different one that works for everyone: https://schej.it/e/54ccF**\n",
    "\n",
    "During the final period, you all will give your final presentations, so we will need at least 2.5 hours to do this comfortably and provide feedback. I was also hoping we could have a bit of a potluck to celebrate the end of the term and a whole lot of learning.\n",
    "If folks don't have a conflict, we could do a bit later in the morning on Tuesday, then have lunch together. So maybe 9-12 ish and then lunch? Does anyone have a conflict with another final during that period?"
   ]
  },
  {
   "cell_type": "markdown",
   "id": "bb22d420-0069-4dc9-a014-5ad9bbb9429c",
   "metadata": {},
   "source": [
    "**W.2 Zotero tricks**\n",
    "Pull up a word or google doc and make a few citations. I'm going to show you a few tricks\n"
   ]
  },
  {
   "cell_type": "markdown",
   "id": "2220d2b5-4bbd-4c08-88e3-b6ce723a1be2",
   "metadata": {},
   "source": [
    "**W.3** \n",
    "If you don't have it already, download Adobe Acrobat, which is free. We are going to go over annotating"
   ]
  },
  {
   "attachments": {},
   "cell_type": "markdown",
   "id": "1478201d-1467-4c03-89aa-1765e52d1a3f",
   "metadata": {
    "jp-MarkdownHeadingCollapsed": true
   },
   "source": [
    "# Lecture 15.1\n",
    "\n",
    "Final stretch! Most of you proposed like 5-10x more work than is reasonable for your final projects. Hopefully you are scaling back your unrealistic expectations and going for a reasonable minimum viable product and a tractable strech goal.\n",
    "\n",
    "You don't have to turn in lab 14.1, but you do need to submit a research notebook of your coding for your final project. See assignment in Moodle. We will do this for this week as well.\n",
    "\n",
    "All labs need to be turned in by the end of the week (Sunday midnight) for credit.\n",
    "\n",
    "## Agenda:\n",
    "- Annotating PDFs tips and tricks\n",
    "- Zotero citation tricks: different citation styles and adding prefixes and suffixes\n",
    "- Common issues with your final proposals\n",
    "\n",
    "### Common proposal writing issues:\n",
    "\n",
    "Read notes on returned rubric (in slack) for what improvement is needed for final report\n",
    "\n",
    "* Put name in both name of file and in the document on the first page or as a header.\n",
    "* Use standard paragraph format: indent or space.\n",
    "* Figures need to have captions that explain what they are.\n",
    "  * If the figure is reproduced, cite the reference.\n",
    "  * Figure captions generally need to be on the same page as a figure.\n",
    "* Every visual element (figures, tables, timelines) needs to be cited in the main text and narrated as to what they are included for. They need context.\n",
    "* Research questions go before the methods. In the methods you explain how you will answer the questions explicitly.\n",
    "* If you introduce indices/metrics, you need to define them in the text and provide a citation.\n",
    "* The timeline needs to be narrated and integrated into the methods or with its own subsection.\n",
    "* Broader impacts should not be longer than the methods.\n",
    "* Section headings should not be at the end of the page, insert a page beak\n",
    "* Text is way too detailed for the assignment and reads like it was copied from another document/proposal without being appropriately edited down\n",
    "  * Abstract reads like the proposed research was already completed.\n",
    "  * Too much detail on metrics and not on what programming will be done.|ill be done\r\n",
    "\n",
    "\n",
    "\n"
   ]
  },
  {
   "cell_type": "markdown",
   "id": "bd3dc77a-2ca9-40ff-9f48-34ae16ad4e6c",
   "metadata": {},
   "source": [
    "# Lab 15.1"
   ]
  },
  {
   "cell_type": "markdown",
   "id": "95b2665a-c014-4cd1-aba7-b15022fa7ef0",
   "metadata": {},
   "source": [
    "#### E.1 Final Project Paper Due Sunday midnight\n",
    "Go over the revised assignment for the final paper and the feedback from your proposal from me and your reviewers, along with the common mistakes above. What do you need to work on for the final report? What improvement is needed? What is your project management plan for completion?"
   ]
  },
  {
   "cell_type": "markdown",
   "id": "918439ee-5834-4552-8a00-2cd2919205eb",
   "metadata": {},
   "source": []
  },
  {
   "cell_type": "markdown",
   "id": "107f301c-a609-409c-b11d-530fed16995f",
   "metadata": {},
   "source": [
    "#### E.2 Meet with Dr. Harrison to go over your final project progress"
   ]
  },
  {
   "cell_type": "code",
   "execution_count": null,
   "id": "2005cc20-9346-422c-a8b0-71796429e4d9",
   "metadata": {},
   "outputs": [],
   "source": []
  },
  {
   "cell_type": "markdown",
   "id": "ded98577-1d87-4f3e-a630-6074f646c977",
   "metadata": {},
   "source": [
    "#### E.3 Work on your final project. Don't forget to turn in your progress report and weekly notebook"
   ]
  },
  {
   "cell_type": "code",
   "execution_count": null,
   "id": "74617577-1e8c-41cf-afd5-ee671021c54c",
   "metadata": {},
   "outputs": [],
   "source": []
  }
 ],
 "metadata": {
  "kernelspec": {
   "display_name": "Python 3 (ipykernel)",
   "language": "python",
   "name": "python3"
  },
  "language_info": {
   "codemirror_mode": {
    "name": "ipython",
    "version": 3
   },
   "file_extension": ".py",
   "mimetype": "text/x-python",
   "name": "python",
   "nbconvert_exporter": "python",
   "pygments_lexer": "ipython3",
   "version": "3.12.4"
  }
 },
 "nbformat": 4,
 "nbformat_minor": 5
}
