{
 "cells": [
  {
   "cell_type": "markdown",
   "metadata": {},
   "source": [
    "Name"
   ]
  },
  {
   "cell_type": "markdown",
   "metadata": {},
   "source": [
    "Lab Partner(s)"
   ]
  },
  {
   "cell_type": "code",
   "execution_count": null,
   "metadata": {},
   "outputs": [],
   "source": [
    "# import statements go here\n",
    "\n",
    "import numpy as np\n",
    "import matplotlib.pyplot as plt\n",
    "import pandas as pd  #new package!!"
   ]
  },
  {
   "cell_type": "markdown",
   "metadata": {},
   "source": [
    "# Lab 3.2"
   ]
  },
  {
   "cell_type": "markdown",
   "metadata": {},
   "source": [
    "Today I will show you how to import simple data files. We are using a new package, Pandas, which I will introduce and then you will explore more in datacamp."
   ]
  },
  {
   "cell_type": "markdown",
   "metadata": {},
   "source": [
    "## Instructions\n",
    "\n",
    "For each class, download the lab and have it up and running in Jupyter when we begin the class period. This will allow you to code along with the demonstrations and be ready to go. You will be assigned a lab partner in your breakout room, they are your partner for this lab. Put their name above.\n",
    "\n",
    "When you are done with your lab, upload this document to your github folder on the class site. Then submit a url link to the completed lab, along with a screenshot of your **completed score** for the chapter assigned in datacamp to the assignment tab in Blackboard."
   ]
  },
  {
   "cell_type": "markdown",
   "metadata": {},
   "source": [
    "# Warmups 3.2"
   ]
  },
  {
   "cell_type": "markdown",
   "metadata": {},
   "source": [
    "**W.1.** Make a numpy array that goes from 100 to 1000 (including 1000) stepping by 50"
   ]
  },
  {
   "cell_type": "code",
   "execution_count": null,
   "metadata": {},
   "outputs": [],
   "source": []
  },
  {
   "cell_type": "markdown",
   "metadata": {},
   "source": [
    "**W.2** What is the shape of this array (this is not about plotting, but the size of the array, how many elements does it have? Find this using python)"
   ]
  },
  {
   "cell_type": "code",
   "execution_count": null,
   "metadata": {},
   "outputs": [],
   "source": []
  },
  {
   "cell_type": "markdown",
   "metadata": {},
   "source": [
    "**W.3.1** Print out the first 5 elements of the array"
   ]
  },
  {
   "cell_type": "code",
   "execution_count": null,
   "metadata": {},
   "outputs": [],
   "source": []
  },
  {
   "cell_type": "markdown",
   "metadata": {},
   "source": [
    "**W.3.2** Print out the last 5 elements of the array"
   ]
  },
  {
   "cell_type": "code",
   "execution_count": null,
   "metadata": {},
   "outputs": [],
   "source": []
  },
  {
   "cell_type": "markdown",
   "metadata": {},
   "source": [
    "**W.3.3** Print out the sith through tenth elements of the array. There should be five elements printed"
   ]
  },
  {
   "cell_type": "code",
   "execution_count": null,
   "metadata": {},
   "outputs": [],
   "source": []
  },
  {
   "cell_type": "markdown",
   "metadata": {},
   "source": [
    "**W.4.1** Plot the array (i.e. plt.plot(x) if x is your array) and make your line red"
   ]
  },
  {
   "cell_type": "code",
   "execution_count": null,
   "metadata": {},
   "outputs": [],
   "source": []
  },
  {
   "cell_type": "markdown",
   "metadata": {},
   "source": [
    "**W.4.2** What is being plotted on the x-axis?"
   ]
  },
  {
   "cell_type": "code",
   "execution_count": null,
   "metadata": {},
   "outputs": [],
   "source": []
  },
  {
   "cell_type": "markdown",
   "metadata": {},
   "source": [
    "**W.4.3** Label your axes reflecting your answer above and add a title"
   ]
  },
  {
   "cell_type": "code",
   "execution_count": null,
   "metadata": {},
   "outputs": [],
   "source": []
  },
  {
   "cell_type": "markdown",
   "metadata": {},
   "source": [
    "**W.5** Now calculate the square of your array, i.e. $x^2$ and plot this vs the first array, i.e. plt.plot(x,$x^2$). What is being plotted on the x-axis now? Label your axes and add a legend."
   ]
  },
  {
   "cell_type": "code",
   "execution_count": null,
   "metadata": {},
   "outputs": [],
   "source": []
  },
  {
   "cell_type": "markdown",
   "metadata": {},
   "source": [
    "# Lecture 3.2"
   ]
  },
  {
   "cell_type": "markdown",
   "metadata": {},
   "source": [
    "### 3.2.1 What are all the questions from the previous labs and material? \n",
    "The more basic the better. Let's do some review and make sure we don't leave anyone behind.\n"
   ]
  },
  {
   "cell_type": "markdown",
   "metadata": {},
   "source": [
    "**We will do this on Tuesday, bring your questions**\n",
    "\n",
    "You might note them here for reference"
   ]
  },
  {
   "cell_type": "code",
   "execution_count": null,
   "metadata": {},
   "outputs": [],
   "source": []
  },
  {
   "cell_type": "code",
   "execution_count": null,
   "metadata": {},
   "outputs": [],
   "source": []
  },
  {
   "cell_type": "markdown",
   "metadata": {},
   "source": [
    "### 3.2.2 How to import a text file (the old ways of python)"
   ]
  },
  {
   "cell_type": "markdown",
   "metadata": {},
   "source": [
    "We are going to use some data in the scipy lecture notes, which is a great reference:\n",
    "\n",
    "http://scipy-lectures.org/intro/numpy/exercises.html#data-statistics\n",
    "\n",
    "Note that I have downloaded the populations.txt file and put it in the same foler as this notebook, so I can load it without the path in front"
   ]
  },
  {
   "cell_type": "code",
   "execution_count": null,
   "metadata": {},
   "outputs": [],
   "source": [
    "#Note that I have downloaded the populations.txt file and put it in the same foler as this notebook, so I can load it without the path in front\n",
    "\n",
    "data = np.loadtxt('populations.txt')"
   ]
  },
  {
   "cell_type": "code",
   "execution_count": null,
   "metadata": {},
   "outputs": [],
   "source": [
    "data"
   ]
  },
  {
   "cell_type": "code",
   "execution_count": null,
   "metadata": {},
   "outputs": [],
   "source": [
    "# note if the data file is in another folder, I have to add some path information to the file string\n",
    "\n",
    "data2 = np.loadtxt('/Users/chsharri/Downloads/populations_copy.txt')\n",
    "# note this is how it looks in MacOS, it will be different on a Windows PC"
   ]
  },
  {
   "cell_type": "code",
   "execution_count": null,
   "metadata": {},
   "outputs": [],
   "source": [
    "data2"
   ]
  },
  {
   "cell_type": "code",
   "execution_count": null,
   "metadata": {},
   "outputs": [],
   "source": [
    "# you can also download it directly from the url:\n",
    "\n",
    "data3 = np.loadtxt('http://scipy-lectures.org/_downloads/populations.txt')\n"
   ]
  },
  {
   "cell_type": "code",
   "execution_count": null,
   "metadata": {},
   "outputs": [],
   "source": [
    "data3"
   ]
  },
  {
   "cell_type": "code",
   "execution_count": null,
   "metadata": {},
   "outputs": [],
   "source": [
    "help(np.loadtxt)"
   ]
  },
  {
   "cell_type": "markdown",
   "metadata": {},
   "source": [
    "Note that the header information (the names of the data columns) was not imported.\n",
    "\n"
   ]
  },
  {
   "cell_type": "code",
   "execution_count": null,
   "metadata": {},
   "outputs": [],
   "source": [
    "data"
   ]
  },
  {
   "cell_type": "code",
   "execution_count": null,
   "metadata": {},
   "outputs": [],
   "source": [
    "# what is the shape of the data?\n",
    "data.shape "
   ]
  },
  {
   "cell_type": "markdown",
   "metadata": {},
   "source": [
    "I want to plot the data in the three columns by year"
   ]
  },
  {
   "cell_type": "code",
   "execution_count": null,
   "metadata": {},
   "outputs": [],
   "source": [
    "# how do I get the years?\n",
    "data[:,0]"
   ]
  },
  {
   "cell_type": "code",
   "execution_count": null,
   "metadata": {},
   "outputs": [],
   "source": [
    "# how do I get the hare data?\n",
    "\n",
    "data[]\n"
   ]
  },
  {
   "cell_type": "code",
   "execution_count": null,
   "metadata": {},
   "outputs": [],
   "source": [
    "# let's make a plot hares vs. years\n",
    "# syntax plt.plot(x, y) or plt.plot(year, data I want to plot) pseudocode\n",
    "\n"
   ]
  },
  {
   "cell_type": "code",
   "execution_count": null,
   "metadata": {},
   "outputs": [],
   "source": [
    "# let's plot the rest of the data and add a legend\n"
   ]
  },
  {
   "cell_type": "markdown",
   "metadata": {},
   "source": [
    "### 3.2.3 Now for the easy way with pandas"
   ]
  },
  {
   "cell_type": "markdown",
   "metadata": {},
   "source": [
    "The hardest part is always getting the data loaded in properly"
   ]
  },
  {
   "cell_type": "code",
   "execution_count": null,
   "metadata": {},
   "outputs": [],
   "source": [
    "# import the data with pandas\n",
    "\n",
    "data_pd = pd.read_csv('http://scipy-lectures.org/_downloads/populations.txt')"
   ]
  },
  {
   "cell_type": "code",
   "execution_count": null,
   "metadata": {},
   "outputs": [],
   "source": [
    "data_pd"
   ]
  },
  {
   "cell_type": "code",
   "execution_count": null,
   "metadata": {
    "scrolled": true
   },
   "outputs": [],
   "source": [
    "help(pd.read_csv)"
   ]
  },
  {
   "cell_type": "code",
   "execution_count": null,
   "metadata": {},
   "outputs": [],
   "source": [
    "data_pd = pd.read_csv('http://scipy-lectures.org/_downloads/populations.txt',  sep = '\\t'    )\n",
    "data_pd\n",
    "\n",
    "# I still don't like the numbers in the left column"
   ]
  },
  {
   "cell_type": "code",
   "execution_count": null,
   "metadata": {},
   "outputs": [],
   "source": [
    "data_pd = pd.read_csv('http://scipy-lectures.org/_downloads/populations.txt', sep = '\\t', index_col = '# year')\n",
    "data_pd\n",
    "\n",
    "# that worked!"
   ]
  },
  {
   "cell_type": "code",
   "execution_count": null,
   "metadata": {},
   "outputs": [],
   "source": [
    "data_pd.plot(xlabel = 'Years', ylabel = \"Population\")\n",
    "\n",
    "# wow, so easy...\n"
   ]
  },
  {
   "cell_type": "markdown",
   "metadata": {},
   "source": [
    "Lots of examples in the docs:\n",
    "https://pandas.pydata.org/pandas-docs/stable/user_guide/visualization.html\n"
   ]
  },
  {
   "cell_type": "markdown",
   "metadata": {},
   "source": [
    "### In your last exercise, you will upload some data of your choosing and make a scientific plot using what you learned today"
   ]
  },
  {
   "cell_type": "markdown",
   "metadata": {},
   "source": [
    "# Exercises 3.2"
   ]
  },
  {
   "cell_type": "markdown",
   "metadata": {},
   "source": [
    "**E.1** Complete Ch 2 of intermediate python on datacamp. Make sure you submit your completed **score**, not just the percent completed."
   ]
  },
  {
   "cell_type": "markdown",
   "metadata": {},
   "source": [
    "**E.2** What is a dictionary and why is it useful?"
   ]
  },
  {
   "cell_type": "code",
   "execution_count": null,
   "metadata": {},
   "outputs": [],
   "source": []
  },
  {
   "cell_type": "markdown",
   "metadata": {},
   "source": [
    "**E.3** How do you define a dictionary and access its elements? Explain. Now Define a dictionary that has names of people in your family or friend group, including yourself, with their age, hairstyle, and pet type. (Use 'none' if they don't have a pet)"
   ]
  },
  {
   "cell_type": "code",
   "execution_count": null,
   "metadata": {},
   "outputs": [],
   "source": []
  },
  {
   "cell_type": "markdown",
   "metadata": {},
   "source": [
    "**E.4** What is a dictionary \"key\" in python? Can key names be changed once they are created? Demonstrate. Say you spelled your family member's name wrong, how can you correct it? What about their pet type?"
   ]
  },
  {
   "cell_type": "code",
   "execution_count": null,
   "metadata": {},
   "outputs": [],
   "source": []
  },
  {
   "cell_type": "markdown",
   "metadata": {},
   "source": [
    "**E.5** Add an entry to your dictionary above and delete another entry"
   ]
  },
  {
   "cell_type": "code",
   "execution_count": null,
   "metadata": {},
   "outputs": [],
   "source": []
  },
  {
   "cell_type": "markdown",
   "metadata": {},
   "source": [
    "**E.6** Create a sub-dictionary containing the information above your your lab parner. Add this to your main dictionairy from E.3 and print out the result"
   ]
  },
  {
   "cell_type": "code",
   "execution_count": null,
   "metadata": {},
   "outputs": [],
   "source": []
  },
  {
   "cell_type": "markdown",
   "metadata": {},
   "source": [
    "**E.7** What is the common import statement for pandas?"
   ]
  },
  {
   "cell_type": "code",
   "execution_count": null,
   "metadata": {},
   "outputs": [],
   "source": []
  },
  {
   "cell_type": "markdown",
   "metadata": {},
   "source": [
    "**E.8** For what kinds of data are pandas dataframes more useful than numpy arrays?"
   ]
  },
  {
   "cell_type": "code",
   "execution_count": null,
   "metadata": {},
   "outputs": [],
   "source": []
  },
  {
   "cell_type": "markdown",
   "metadata": {},
   "source": [
    "**E.9** Convert your dictionary to a pandas dataframe"
   ]
  },
  {
   "cell_type": "code",
   "execution_count": null,
   "metadata": {},
   "outputs": [],
   "source": []
  },
  {
   "cell_type": "markdown",
   "metadata": {},
   "source": [
    "**E.10** Save your dictionary as a csv file open this in Excel. **Submit a screenshot of your excel spreadsheet**"
   ]
  },
  {
   "cell_type": "code",
   "execution_count": null,
   "metadata": {},
   "outputs": [],
   "source": []
  },
  {
   "cell_type": "markdown",
   "metadata": {},
   "source": [
    "**E.11** In Excel, add another person to your dictionary data. Save this and import the updated csv file as a pandas dataframe. Print the result."
   ]
  },
  {
   "cell_type": "code",
   "execution_count": null,
   "metadata": {},
   "outputs": [],
   "source": []
  },
  {
   "cell_type": "markdown",
   "metadata": {},
   "source": [
    "**E.12** What does the index_col option do when you load in data to a pandas dataframe? Check out the documentation for loading a file into a dataframe. Find another option and explain when it would be useful."
   ]
  },
  {
   "cell_type": "code",
   "execution_count": null,
   "metadata": {},
   "outputs": [],
   "source": []
  },
  {
   "cell_type": "markdown",
   "metadata": {},
   "source": [
    "**E.13** What is the difference between the loc and iloc methods? Explain"
   ]
  },
  {
   "cell_type": "code",
   "execution_count": null,
   "metadata": {},
   "outputs": [],
   "source": []
  },
  {
   "cell_type": "markdown",
   "metadata": {},
   "source": [
    "**E.14** Now demonstrate. Print out both the hairstyle and pet type of your lab partner together (in the same line of code), first using the loc method and then with the iloc method."
   ]
  },
  {
   "cell_type": "code",
   "execution_count": null,
   "metadata": {},
   "outputs": [],
   "source": []
  },
  {
   "cell_type": "markdown",
   "metadata": {},
   "source": [
    "**E.15** Define a subdataframe that has only you and your lab partner, and only your ages and hairstyles. Print this out"
   ]
  },
  {
   "cell_type": "code",
   "execution_count": null,
   "metadata": {},
   "outputs": [],
   "source": []
  },
  {
   "cell_type": "markdown",
   "metadata": {},
   "source": [
    "**E.16** What does the : symbol mean in indexing? Explain and give an example"
   ]
  },
  {
   "cell_type": "code",
   "execution_count": null,
   "metadata": {},
   "outputs": [],
   "source": []
  },
  {
   "cell_type": "markdown",
   "metadata": {},
   "source": [
    "**E.17** Now define a subdataframe that has all the people in your dictionary's pet type. Print this out"
   ]
  },
  {
   "cell_type": "code",
   "execution_count": null,
   "metadata": {},
   "outputs": [],
   "source": []
  },
  {
   "cell_type": "markdown",
   "metadata": {},
   "source": [
    "**E.18** Upload the population data used in the lecture and plot just the carrots data using pandas. Label your plot appropriately"
   ]
  },
  {
   "cell_type": "code",
   "execution_count": null,
   "metadata": {},
   "outputs": [],
   "source": []
  },
  {
   "cell_type": "markdown",
   "metadata": {},
   "source": [
    "## **E.19** My First Scientific Python Plot\n",
    "### You will present this in class next Thursday\n",
    "\n",
    "Find a csv file with some scientific data, ideally some data you collected, or someone in your lab collected, or a friend of yours collected. It has to be some real data \n",
    "\n",
    "**E.19.1** Upload your data into pandas. Make sure the dataframe is loaded correctly (look at the data).\n",
    "\n",
    "**E.19.2** Make a table of a subset of the data. (Hint: use my_dataframe[subset_here].table() method)\n",
    "Write a table caption that explains what your table is.\n",
    "\n",
    "**E.19.3** Make a plot of some relevant subset of the data (or all of it, if appropriate), label your axes and write a figure caption\n",
    "\n",
    "**E.19.4** Do some analysis on your data, like finding the maximum, some basic statistics, etc.. Write some text explaining your methods and your results.\n"
   ]
  },
  {
   "cell_type": "code",
   "execution_count": null,
   "metadata": {},
   "outputs": [],
   "source": []
  }
 ],
 "metadata": {
  "kernelspec": {
   "display_name": "Python 3 (ipykernel)",
   "language": "python",
   "name": "python3"
  },
  "language_info": {
   "codemirror_mode": {
    "name": "ipython",
    "version": 3
   },
   "file_extension": ".py",
   "mimetype": "text/x-python",
   "name": "python",
   "nbconvert_exporter": "python",
   "pygments_lexer": "ipython3",
   "version": "3.12.4"
  }
 },
 "nbformat": 4,
 "nbformat_minor": 4
}
