{
 "cells": [
  {
   "cell_type": "markdown",
   "id": "short-malawi",
   "metadata": {},
   "source": [
    "Name"
   ]
  },
  {
   "cell_type": "markdown",
   "id": "frozen-floating",
   "metadata": {},
   "source": [
    "Labpartner(s)"
   ]
  },
  {
   "cell_type": "code",
   "execution_count": 7,
   "id": "classified-reunion",
   "metadata": {},
   "outputs": [],
   "source": [
    "# import statements go here\n",
    "import numpy as np\n"
   ]
  },
  {
   "cell_type": "markdown",
   "id": "necessary-oklahoma",
   "metadata": {},
   "source": [
    "# Class 4.2"
   ]
  },
  {
   "cell_type": "markdown",
   "id": "solid-silicon",
   "metadata": {},
   "source": [
    "## Today you all are going to do the lecture! It's Present Your Plots Day."
   ]
  },
  {
   "cell_type": "markdown",
   "id": "professional-simpson",
   "metadata": {},
   "source": [
    "# Warmups 4.2"
   ]
  },
  {
   "cell_type": "markdown",
   "id": "imposed-baghdad",
   "metadata": {},
   "source": [
    "### Warmup is short today so we have time to focus on your plots."
   ]
  },
  {
   "cell_type": "markdown",
   "id": "commercial-abraham",
   "metadata": {},
   "source": [
    "**W.1** Do Exercise 3 in practice python https://www.practicepython.org"
   ]
  },
  {
   "cell_type": "code",
   "execution_count": null,
   "id": "4aca4e82-2de2-4793-99d0-633288ee8991",
   "metadata": {},
   "outputs": [],
   "source": []
  },
  {
   "cell_type": "markdown",
   "id": "automated-immune",
   "metadata": {},
   "source": [
    "## Agenda:\n",
    "\n",
    "- Questions about class or coding\n",
    "- Show us your plots! Explain your data set, what you did with it, and what your learned, including any difficulties you had and how you solved them."
   ]
  },
  {
   "cell_type": "code",
   "execution_count": null,
   "id": "perfect-suite",
   "metadata": {},
   "outputs": [],
   "source": []
  },
  {
   "cell_type": "markdown",
   "id": "conventional-external",
   "metadata": {},
   "source": [
    "# Lab 4.2"
   ]
  },
  {
   "cell_type": "markdown",
   "id": "married-prior",
   "metadata": {},
   "source": [
    "**E.1** Complete intermediate python chapter 4: Loops\n",
    "\n",
    "Note that loops often are very confusing for new programmers, but they are very powerful and super-useful. You will be seing them again.\n",
    "\n",
    "Note that the tutorials here have similar material for your needs:\n",
    "https://github.com/chsharrison/Sci_comp_F24/blob/main/Course_materials/resources.md"
   ]
  },
  {
   "cell_type": "markdown",
   "id": "color-difference",
   "metadata": {},
   "source": [
    "**E.2** Make notes for yourself on all of the progamming tecniques and commands you learned in the datacamp chapter above, including examples, comments and explainitory text. You might use the resources linked above for supplementary examples. You can do this here or in a separate notebook that you link to here. Basically, you are making a cheat sheet for yourself."
   ]
  },
  {
   "cell_type": "code",
   "execution_count": null,
   "id": "infectious-battery",
   "metadata": {},
   "outputs": [],
   "source": []
  },
  {
   "cell_type": "markdown",
   "id": "colored-alfred",
   "metadata": {},
   "source": [
    "**E.3-6** Exercises 4-7 in practice python (see link above)"
   ]
  },
  {
   "cell_type": "code",
   "execution_count": null,
   "id": "eligible-glasgow",
   "metadata": {},
   "outputs": [],
   "source": []
  }
 ],
 "metadata": {
  "kernelspec": {
   "display_name": "Python 3 (ipykernel)",
   "language": "python",
   "name": "python3"
  },
  "language_info": {
   "codemirror_mode": {
    "name": "ipython",
    "version": 3
   },
   "file_extension": ".py",
   "mimetype": "text/x-python",
   "name": "python",
   "nbconvert_exporter": "python",
   "pygments_lexer": "ipython3",
   "version": "3.12.4"
  }
 },
 "nbformat": 4,
 "nbformat_minor": 5
}
