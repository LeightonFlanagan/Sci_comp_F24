{
 "cells": [
  {
   "cell_type": "markdown",
   "id": "separate-municipality",
   "metadata": {},
   "source": [
    "Name"
   ]
  },
  {
   "cell_type": "markdown",
   "id": "saving-reception",
   "metadata": {},
   "source": [
    "Labpartner(s)"
   ]
  },
  {
   "cell_type": "code",
   "execution_count": null,
   "id": "automotive-indianapolis",
   "metadata": {},
   "outputs": [],
   "source": [
    "#import statements go here\n",
    "import matplotlib.pyplot as plt\n",
    "import numpy as np"
   ]
  },
  {
   "cell_type": "markdown",
   "id": "proprietary-prince",
   "metadata": {},
   "source": [
    "# Class 6.1"
   ]
  },
  {
   "cell_type": "markdown",
   "id": "religious-investigation",
   "metadata": {},
   "source": [
    "Today we will start with fiunction sharing and do more matplotlib."
   ]
  },
  {
   "cell_type": "markdown",
   "id": "adjustable-handle",
   "metadata": {},
   "source": [
    "# Warmups 6.1"
   ]
  },
  {
   "cell_type": "markdown",
   "id": "hungry-moses",
   "metadata": {},
   "source": [
    "**W.1** Write a function that loops through a list of numbers and checks if they are odd or even, then returns a new list of \"odd\" or \"even\" for each element in the input list. For example:\n",
    "\n",
    "Given the list [3,8,7] the function would return\n",
    "[\"odd\", \"even\", \"odd\"]"
   ]
  },
  {
   "cell_type": "code",
   "execution_count": null,
   "id": "accurate-raleigh",
   "metadata": {},
   "outputs": [],
   "source": []
  },
  {
   "cell_type": "markdown",
   "id": "confident-palestinian",
   "metadata": {},
   "source": [
    "# Lecture 6.1\n",
    "\n",
    "### Agenda:\n",
    "\n",
    "- Show us your functions\n",
    "- Questions\n",
    "- xarray package and plotting netcdf files\n"
   ]
  },
  {
   "cell_type": "markdown",
   "id": "24892ba4-f640-4aeb-ac69-c7e94bd20119",
   "metadata": {},
   "source": [
    "### Show us your functions (from Lab 5.2) - first 5 people today, the rest on Thursday"
   ]
  },
  {
   "cell_type": "markdown",
   "id": "variable-panama",
   "metadata": {},
   "source": [
    "### Questions"
   ]
  },
  {
   "cell_type": "code",
   "execution_count": null,
   "id": "simple-acceptance",
   "metadata": {},
   "outputs": [],
   "source": []
  },
  {
   "cell_type": "markdown",
   "id": "bigger-munich",
   "metadata": {},
   "source": [
    "### Loading and plotting netcdf files using xarray"
   ]
  },
  {
   "cell_type": "markdown",
   "id": "nasty-scroll",
   "metadata": {},
   "source": [
    "Most modeling data output is in the form of netcdf files, as they can store more data (in binary) using less memory. Netcdf files are great because they tell you all about what is in the file (the variables and their units) with their metadata, which is kind of like the docstring we made for our function. There are a number of command line (unix-based) utilities for dealing with netcdf files, which I am not planning to cover in this course (though I use these all the time). Hit me up if you want some tutorials on this, or if enough of you are keen I will put some unix tutorials in the schedule."
   ]
  },
  {
   "cell_type": "markdown",
   "id": "gentle-reward",
   "metadata": {},
   "source": [
    "Xarray is a python package that does analysis and basic plotting of netcdf files. This is actively being developed by folks like the pangeo consortium (https://pangeo.io), which is creating a number of python utilities for big data geoscience, like dealing with massive amounts of climate model output. There are other packages that can be used for parsing netcdf files, but they are cumbersome and clunky. Trust me, xarray is the best thing since sliced bread for big data geoscience. "
   ]
  },
  {
   "cell_type": "markdown",
   "id": "cloudy-principle",
   "metadata": {},
   "source": [
    "Let's grab some data and start playing with it. We are going to use the HYCOM Gulf of Mexico Analysis output, which is basically weather prediction for our local ocean made by the Navy, freely available. https://www.hycom.org."
   ]
  },
  {
   "cell_type": "code",
   "execution_count": null,
   "id": "matched-mistress",
   "metadata": {},
   "outputs": [],
   "source": [
    "import xarray as xr\n",
    "# make sure you also have nectdf4 installed!"
   ]
  },
  {
   "cell_type": "markdown",
   "id": "corporate-florist",
   "metadata": {},
   "source": [
    "We want the HYCOM GoM reanalysis product: https://www.hycom.org/dataserver/gom/gom-reanalysis\n",
    "And we are going to use the coarser resolution (1/25 degree) version for computational speed.\n",
    "\n",
    "Which we can get using the opendap link (see http://xarray.pydata.org/en/stable/io.html)"
   ]
  },
  {
   "cell_type": "code",
   "execution_count": null,
   "id": "current-dominant",
   "metadata": {},
   "outputs": [],
   "source": [
    "# here I am going to grab the hindcast they made for Jan 1 2001. \n",
    "# Note I had to add the http: in front of the opendap link (see \"open data here\" button)\n",
    "\n",
    "# download from the internet\n",
    "link = \"http://tds.hycom.org/thredds/dodsC/datasets/GOMb0.04/reanalysis/data/2001/020_archv.2001_001_01_2d.nc\"\n",
    "\n",
    "# or download the file by clicking on the https server link and putting the correct path\n",
    "file_path= \"/Users/chsharri/Downloads/020_archv.2001_001_01_2d.nc\""
   ]
  },
  {
   "cell_type": "code",
   "execution_count": null,
   "id": "available-threshold",
   "metadata": {},
   "outputs": [],
   "source": [
    "hycom_data = xr.open_dataset(link, decode_times=False)\n",
    "\n",
    "hycom_data2 = xr.open_dataset(file_path, decode_times=False)\n",
    "\n",
    "# honestly I don't know why you need the decode_times bit with open_dataset\n",
    "# I just know it doesn't work most of the time if you leave it out (bonus token for anyone who figures it out!)"
   ]
  },
  {
   "cell_type": "markdown",
   "id": "variable-complement",
   "metadata": {},
   "source": [
    "The result is an xarray dataset, which is similar to the pandas dataframes you have been using. It has dimensions, coordinates and variables. The first thing to do when you get a dataset is to figure out what is in it and explore it a bit. "
   ]
  },
  {
   "cell_type": "code",
   "execution_count": null,
   "id": "formal-digest",
   "metadata": {},
   "outputs": [],
   "source": [
    "hycom_data"
   ]
  },
  {
   "cell_type": "code",
   "execution_count": null,
   "id": "202eb6a3-ec5a-4517-aff8-277ea50f647d",
   "metadata": {},
   "outputs": [],
   "source": [
    "hycom_data2"
   ]
  },
  {
   "cell_type": "markdown",
   "id": "3505d9cc-fc13-432b-bd76-66db6b6b5d5d",
   "metadata": {},
   "source": [
    "This is the 2D surface variable file. I really want SST, so I think I'm going to need the 3D file"
   ]
  },
  {
   "cell_type": "code",
   "execution_count": null,
   "id": "smaller-communication",
   "metadata": {},
   "outputs": [],
   "source": [
    "# get the 3D file and see what's in it\n",
    "\n",
    "# download from the internet\n",
    "link = \"http://tds.hycom.org/thredds/dodsC/datasets/GOMb0.04/reanalysis/data/2001/020_archv.2001_001_01_3z.nc\"\n",
    "hycom_data_3D = xr.open_dataset(link, decode_times=False)"
   ]
  },
  {
   "cell_type": "code",
   "execution_count": null,
   "id": "0ff07929-d98e-4b3f-b882-e3c3b1c4f5a9",
   "metadata": {},
   "outputs": [],
   "source": [
    "hycom_data_3D"
   ]
  },
  {
   "cell_type": "code",
   "execution_count": null,
   "id": "dental-traffic",
   "metadata": {},
   "outputs": [],
   "source": [
    "# what is the lat spacing and domain?\n",
    "\n",
    "hycom_data.Latitude\n",
    "\n",
    "# looks like it goes from 18.09 N to 31.96 N and the spacing is 0.04 degrees, i.e. 1/25, so that checks\n",
    "# 1 degree is about 100 km, so thats 4 km model resolution"
   ]
  },
  {
   "cell_type": "code",
   "execution_count": null,
   "id": "horizontal-ranch",
   "metadata": {},
   "outputs": [],
   "source": [
    "# what about lon?\n",
    "hycom_data.Longitude"
   ]
  },
  {
   "cell_type": "markdown",
   "id": "polar-decrease",
   "metadata": {},
   "source": [
    "### Basic plotting with xarray (not publication ready!)"
   ]
  },
  {
   "cell_type": "code",
   "execution_count": null,
   "id": "continent-seating",
   "metadata": {},
   "outputs": [],
   "source": [
    "hycom_data.ssh"
   ]
  },
  {
   "cell_type": "markdown",
   "id": "provincial-recorder",
   "metadata": {},
   "source": [
    "Note that one of the amazing things about xarray, is that it actually does not go and get the data until you call for it, so this will take a minute to upload."
   ]
  },
  {
   "cell_type": "code",
   "execution_count": null,
   "id": "electric-investment",
   "metadata": {},
   "outputs": [],
   "source": [
    "hycom_data.ssh.plot()"
   ]
  },
  {
   "cell_type": "markdown",
   "id": "subjective-harmony",
   "metadata": {},
   "source": [
    "Note that xarray, like pandas, uses matplotlib for plotting, and that it figured out to use the blue to red colormap based on the type of data. Pretty cool. \n",
    "\n",
    "Let's plot some temperature data and see how it compares. Since temperature data is given for the whole depth, we have to select a level.\n",
    "\n",
    "water_temp\n",
    "(MT, Depth, Latitude, Longitude)"
   ]
  },
  {
   "cell_type": "code",
   "execution_count": null,
   "id": "disabled-gross",
   "metadata": {},
   "outputs": [],
   "source": [
    "hycom_data_3D.water_temp[0,0,:,:]"
   ]
  },
  {
   "cell_type": "code",
   "execution_count": null,
   "id": "valuable-branch",
   "metadata": {},
   "outputs": [],
   "source": [
    "hycom_data_3D.water_temp[0,0,:,:].plot()"
   ]
  },
  {
   "cell_type": "code",
   "execution_count": null,
   "id": "greater-thing",
   "metadata": {},
   "outputs": [],
   "source": [
    "hycom_data_3D.water_temp[0,19,:,:].plot()"
   ]
  },
  {
   "cell_type": "markdown",
   "id": "looking-split",
   "metadata": {},
   "source": [
    "Those plots are really small. I like to change the default matplotlib preferences to make my plots bigger."
   ]
  },
  {
   "cell_type": "code",
   "execution_count": null,
   "id": "alive-being",
   "metadata": {},
   "outputs": [],
   "source": [
    "# change all the defaults (usually I stick this up with the import statements)\n",
    "\n",
    "import matplotlib as mpl\n",
    "mpl.rcParams['figure.figsize'] = [8.0, 5.0]\n",
    "mpl.rcParams['figure.dpi'] = 500\n",
    "mpl.rcParams['savefig.dpi'] = 500\n",
    "\n",
    "mpl.rcParams['font.size'] = 12\n",
    "mpl.rcParams['legend.fontsize'] = 'large'\n",
    "mpl.rcParams['figure.titlesize'] = 'medium'\n",
    "mpl.rcParams['lines.linewidth']= 2.0"
   ]
  },
  {
   "cell_type": "code",
   "execution_count": null,
   "id": "accomplished-relief",
   "metadata": {},
   "outputs": [],
   "source": [
    "# now it's big and pretty.\n",
    "\n",
    "hycom_data.ssh.plot()"
   ]
  },
  {
   "cell_type": "markdown",
   "id": "aerial-oliver",
   "metadata": {},
   "source": [
    "Note if you know you are going to plot the same bit of data over and over again to fiddle with the plot, you can download the data you need and save it in an array to make the proccess faster."
   ]
  },
  {
   "cell_type": "code",
   "execution_count": null,
   "id": "civic-phrase",
   "metadata": {},
   "outputs": [],
   "source": [
    "SST = hycom_data_3D.water_temp[0,0,:,:]"
   ]
  },
  {
   "cell_type": "code",
   "execution_count": null,
   "id": "italian-astrology",
   "metadata": {},
   "outputs": [],
   "source": [
    "type(SST)"
   ]
  },
  {
   "cell_type": "code",
   "execution_count": null,
   "id": "southwest-morocco",
   "metadata": {},
   "outputs": [],
   "source": [
    "SST # note it saves all the coordinates I need."
   ]
  },
  {
   "cell_type": "code",
   "execution_count": null,
   "id": "specific-solomon",
   "metadata": {},
   "outputs": [],
   "source": [
    "SST.plot()"
   ]
  },
  {
   "cell_type": "markdown",
   "id": "collective-flesh",
   "metadata": {},
   "source": [
    "I can also save this subset of the data to a new netcdf file locally very easily. See http://xarray.pydata.org/en/stable/io.html for more details."
   ]
  },
  {
   "cell_type": "code",
   "execution_count": null,
   "id": "metropolitan-disposal",
   "metadata": {},
   "outputs": [],
   "source": [
    "SST.to_netcdf('SST_2001_001_01.nc') # the new netcdf file is saved in the local directory"
   ]
  },
  {
   "cell_type": "markdown",
   "id": "alone-carter",
   "metadata": {},
   "source": [
    "And then I load in the new netcdf file in the same way as I did the remote data, but using the local filepath"
   ]
  },
  {
   "cell_type": "code",
   "execution_count": null,
   "id": "hearing-atlantic",
   "metadata": {},
   "outputs": [],
   "source": [
    "sst_data = xr.open_dataset('SST_2001_001_01.nc', decode_times=False)"
   ]
  },
  {
   "cell_type": "code",
   "execution_count": null,
   "id": "biblical-capital",
   "metadata": {},
   "outputs": [],
   "source": [
    "sst_data"
   ]
  },
  {
   "cell_type": "code",
   "execution_count": null,
   "id": "destroyed-newfoundland",
   "metadata": {},
   "outputs": [],
   "source": []
  },
  {
   "cell_type": "markdown",
   "id": "ceramic-cartoon",
   "metadata": {},
   "source": [
    "# Lab 6.1"
   ]
  },
  {
   "cell_type": "markdown",
   "id": "subjective-accuracy",
   "metadata": {},
   "source": [
    "**E.0** Finish Lab 5.2 if you haven't already."
   ]
  },
  {
   "cell_type": "markdown",
   "id": "tamil-disorder",
   "metadata": {},
   "source": [
    "**E.1** Complete Introduction to Data Visualization with Matplotlib Chapters 1-2. Let me know if this feels like a good pace"
   ]
  },
  {
   "cell_type": "code",
   "execution_count": null,
   "id": "awful-simple",
   "metadata": {},
   "outputs": [],
   "source": []
  },
  {
   "cell_type": "markdown",
   "id": "flying-bankruptcy",
   "metadata": {},
   "source": [
    "**E.2** Make notes for yourself on progamming tecniques and commands you learned in the lecture and datacamp chapter above, including examples, comments and explainitory text. You can do this here or in a separate notebook that you link to here. Basically, you are making a cheat sheet for yourself.\n",
    "\n",
    "See also http://xarray.pydata.org/en/stable/plotting.html for more info about plotting right from xarray (optional)."
   ]
  },
  {
   "cell_type": "code",
   "execution_count": null,
   "id": "editorial-guitar",
   "metadata": {},
   "outputs": [],
   "source": []
  },
  {
   "cell_type": "markdown",
   "id": "amazing-collar",
   "metadata": {},
   "source": [
    "**E.3** Using the lecture as a guide, save the sea surface temperature at ~100 m depth on your birthday in 2019 as a new, local netcdf file. You don't have to submit the file, just the code here."
   ]
  },
  {
   "cell_type": "code",
   "execution_count": null,
   "id": "another-cancellation",
   "metadata": {},
   "outputs": [],
   "source": []
  },
  {
   "cell_type": "markdown",
   "id": "39e7611f-4235-43bb-8d79-28af78479581",
   "metadata": {},
   "source": [
    "**E.4** Plot the above (your 2019 birthday SST) using the basic xarray funcitons"
   ]
  },
  {
   "cell_type": "code",
   "execution_count": null,
   "id": "colonial-rings",
   "metadata": {},
   "outputs": [],
   "source": []
  }
 ],
 "metadata": {
  "kernelspec": {
   "display_name": "Python 3 (ipykernel)",
   "language": "python",
   "name": "python3"
  },
  "language_info": {
   "codemirror_mode": {
    "name": "ipython",
    "version": 3
   },
   "file_extension": ".py",
   "mimetype": "text/x-python",
   "name": "python",
   "nbconvert_exporter": "python",
   "pygments_lexer": "ipython3",
   "version": "3.12.4"
  }
 },
 "nbformat": 4,
 "nbformat_minor": 5
}
