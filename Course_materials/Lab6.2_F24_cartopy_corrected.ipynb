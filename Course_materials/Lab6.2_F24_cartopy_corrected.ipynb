{
 "cells": [
  {
   "cell_type": "markdown",
   "id": "separate-municipality",
   "metadata": {},
   "source": [
    "Name"
   ]
  },
  {
   "cell_type": "markdown",
   "id": "saving-reception",
   "metadata": {},
   "source": [
    "Labpartner(s)"
   ]
  },
  {
   "cell_type": "code",
   "execution_count": null,
   "id": "automotive-indianapolis",
   "metadata": {},
   "outputs": [],
   "source": [
    "#import statements go here\n",
    "import matplotlib.pyplot as plt\n",
    "import numpy as np\n",
    "import xarray as xr"
   ]
  },
  {
   "cell_type": "markdown",
   "id": "d94c327b-a0ed-42d9-9353-1cd1556d1153",
   "metadata": {},
   "source": [
    "**For today's lab you need to install the package cartopy**"
   ]
  },
  {
   "cell_type": "code",
   "execution_count": null,
   "id": "1a019b56-ebdf-4954-892d-2ea06dcb38fc",
   "metadata": {},
   "outputs": [],
   "source": [
    "# you can install packages here in a notebook with pip or conda, \n",
    "# or in the anaconda navigator in the environments tab (reccommended)\n",
    "\n",
    "# pip install cartopy\n",
    "# conda install cartopy"
   ]
  },
  {
   "cell_type": "code",
   "execution_count": null,
   "id": "52a3a938-7ae1-4106-b9f8-ec8fa5bbd3f0",
   "metadata": {},
   "outputs": [],
   "source": [
    "import cartopy.crs as ccrs   #import map styles/types\n",
    "import cartopy.feature as cfeature  # features such as the ocean, coastlines rivers, etc\n",
    "from cartopy.mpl.gridliner import LONGITUDE_FORMATTER, LATITUDE_FORMATTER"
   ]
  },
  {
   "cell_type": "markdown",
   "id": "proprietary-prince",
   "metadata": {},
   "source": [
    "# Class 6.2"
   ]
  },
  {
   "cell_type": "markdown",
   "id": "religious-investigation",
   "metadata": {},
   "source": [
    "Today we will finish fiunction sharing and do more plotting"
   ]
  },
  {
   "cell_type": "markdown",
   "id": "adjustable-handle",
   "metadata": {},
   "source": [
    "# Warmups 6.2"
   ]
  },
  {
   "cell_type": "markdown",
   "id": "hungry-moses",
   "metadata": {},
   "source": [
    "**W.1** (From Zach) Write some code that generates 15 random integers from 1-100. If the integers are divisible by 2 assign them to list \"x\" if they are divisible by three, assign them to list \"y\", if they are neither assign them to list \"z\". "
   ]
  },
  {
   "cell_type": "code",
   "execution_count": null,
   "id": "fa86ad81-ac4f-40c5-8687-b72cd6167e9d",
   "metadata": {},
   "outputs": [],
   "source": []
  },
  {
   "cell_type": "markdown",
   "id": "c0c73c20-b20b-4a2b-9861-b486b28a18a6",
   "metadata": {},
   "source": [
    "**W.2** Plot your lists together in some sensible way. Zach suggests a histogram with different colors for each list"
   ]
  },
  {
   "cell_type": "code",
   "execution_count": null,
   "id": "8baf8111-4786-4ed9-a760-3ca8c7ec2338",
   "metadata": {},
   "outputs": [],
   "source": []
  },
  {
   "cell_type": "markdown",
   "id": "confident-palestinian",
   "metadata": {},
   "source": [
    "# Lecture 6.2\n",
    "\n",
    "### Agenda:\n",
    "\n",
    "- Show us your functions\n",
    "- Questions\n",
    "- xarray package and plotting netcdf files\n"
   ]
  },
  {
   "cell_type": "markdown",
   "id": "24892ba4-f640-4aeb-ac69-c7e94bd20119",
   "metadata": {},
   "source": [
    "### Show us your functions (from Lab 5.2) - continued"
   ]
  },
  {
   "cell_type": "markdown",
   "id": "variable-panama",
   "metadata": {},
   "source": [
    "### Questions"
   ]
  },
  {
   "cell_type": "code",
   "execution_count": null,
   "id": "simple-acceptance",
   "metadata": {},
   "outputs": [],
   "source": []
  },
  {
   "cell_type": "markdown",
   "id": "bigger-munich",
   "metadata": {},
   "source": [
    "### Cartopy"
   ]
  },
  {
   "cell_type": "markdown",
   "id": "nasty-scroll",
   "metadata": {},
   "source": [
    "Let's take the data we used last time and make the plot publication ready"
   ]
  },
  {
   "cell_type": "markdown",
   "id": "3211af1a-2850-4c33-8ca2-e718e5406f59",
   "metadata": {},
   "source": [
    "There are a number of differnt map projections available in Cartopy.  https://scitools.org.uk/cartopy/docs/latest/reference/projections.html"
   ]
  },
  {
   "cell_type": "code",
   "execution_count": null,
   "id": "793946de-2908-4f27-922a-9e76f0386cfe",
   "metadata": {},
   "outputs": [],
   "source": [
    "# plot a basic map with no data\n",
    "plt.figure(figsize=(7, 5))\n",
    "ax = plt.axes(projection=ccrs.Robinson())\n",
    "ax.coastlines(resolution='110m')\n",
    "ax.gridlines()"
   ]
  },
  {
   "cell_type": "code",
   "execution_count": null,
   "id": "8e6a9ce4-a00d-4694-9567-16cb7ac98eed",
   "metadata": {},
   "outputs": [],
   "source": [
    "# plot a basic map with no data, rotated\n",
    "plt.figure(figsize=(7, 5))\n",
    "ax = plt.axes(projection=ccrs.Robinson(central_longitude = 203)) # this rotates the map to 203 degrees East\n",
    "ax.coastlines(resolution='110m')\n",
    "ax.gridlines()"
   ]
  },
  {
   "cell_type": "code",
   "execution_count": null,
   "id": "ad1be9f0-08f8-4362-b91d-7f61b03e27fd",
   "metadata": {},
   "outputs": [],
   "source": [
    "# plot a basic map with no data, rotated\n",
    "plt.figure(figsize=(7, 5))\n",
    "ax = plt.axes(projection=ccrs.Robinson(central_longitude = -60))\n",
    "ax.coastlines(resolution='110m')\n",
    "ax.gridlines(draw_labels=True)"
   ]
  },
  {
   "cell_type": "code",
   "execution_count": null,
   "id": "12102740-cf71-42a9-b6d8-9c8df40d1801",
   "metadata": {},
   "outputs": [],
   "source": [
    "# plot a basic map with no data\n",
    "plt.figure(figsize=(7, 5))\n",
    "ax = plt.axes(projection=ccrs.Mercator()) # different map projection\n",
    "ax.coastlines(resolution='110m')\n",
    "ax.gridlines(draw_labels=True)\n",
    "# note this has grid labels, this is being updated for all projections in the latest version of cartopy 0.18.0"
   ]
  },
  {
   "cell_type": "code",
   "execution_count": null,
   "id": "e9ebfcfc-46ad-41d8-9de3-d4dc63d069cf",
   "metadata": {},
   "outputs": [],
   "source": [
    "# plot a basic map with no data\n",
    "plt.figure(figsize=(7, 5))\n",
    "ax = plt.axes(projection=ccrs.PlateCarree())\n",
    "ax.coastlines(resolution='110m')\n",
    "ax.gridlines(draw_labels=True)\n",
    "\n",
    "# -60 (60 W) is the same as 300 E (360 degrees in total 360-60W = 300E)"
   ]
  },
  {
   "cell_type": "markdown",
   "id": "f1f7d805-7d61-4c1c-bde1-a7277d6c22b8",
   "metadata": {},
   "source": [
    "How do I zoom in?"
   ]
  },
  {
   "cell_type": "code",
   "execution_count": null,
   "id": "fc867696-dcf3-4410-a38d-71f245c31fea",
   "metadata": {},
   "outputs": [],
   "source": [
    "# let's zoom in to S Asia\n",
    "plt.figure(figsize=(7, 5))\n",
    "ax = plt.axes(projection=ccrs.PlateCarree())\n",
    "ax.set_extent([60, 120, 0, 40]) # set the limits of the plot\n",
    "ax.coastlines(resolution='110m')\n",
    "ax.gridlines(draw_labels=True)\n"
   ]
  },
  {
   "cell_type": "code",
   "execution_count": null,
   "id": "0f4499e9-b831-478c-be03-6a89ccdc01e2",
   "metadata": {},
   "outputs": [],
   "source": [
    "# make a plot of Australia\n",
    "\n",
    "plt.figure(figsize=(7, 5))\n",
    "ax = plt.axes(projection=ccrs.PlateCarree())\n",
    "ax.set_extent([100, 180, 0, -50]) # set the limits of the plot\n",
    "ax.coastlines(resolution='110m')\n",
    "ax.gridlines(draw_labels=True)\n",
    "\n"
   ]
  },
  {
   "cell_type": "markdown",
   "id": "07dddbc8-6dd0-42b0-a004-2e6185c3a185",
   "metadata": {},
   "source": [
    "#### Moving back to the Gulf of Mexico, we want to set the lat and lon range to match our HYCOM data. How do we find this?"
   ]
  },
  {
   "cell_type": "code",
   "execution_count": null,
   "id": "2729b61d-eeb3-44bc-85b9-05813e450df7",
   "metadata": {},
   "outputs": [],
   "source": [
    "#insert path or url to file here\n",
    "# download from the internet\n",
    "link = \"https://tds.hycom.org/thredds/dodsC/datasets/GOMb0.04/reanalysis/data/2001/020_archv.2001_001_01_2d.nc\""
   ]
  },
  {
   "cell_type": "code",
   "execution_count": null,
   "id": "5e8cfb4a-66c7-4ee8-892d-bf3acbcebe71",
   "metadata": {},
   "outputs": [],
   "source": [
    "gom_data = xr.open_dataset(link, decode_times=False)"
   ]
  },
  {
   "cell_type": "code",
   "execution_count": null,
   "id": "06b31f58-ff21-42de-a802-076ca8357ead",
   "metadata": {},
   "outputs": [],
   "source": [
    "gom_data"
   ]
  },
  {
   "cell_type": "code",
   "execution_count": null,
   "id": "24d826d9-a92f-457c-9ec3-8ad04a478912",
   "metadata": {},
   "outputs": [],
   "source": [
    "# let's remember what our data looked like, pick a variable to plot\n",
    "\n",
    "gom_data.ssh.plot()"
   ]
  },
  {
   "cell_type": "code",
   "execution_count": null,
   "id": "9f265d99-7528-4e45-af00-7997bc958ea3",
   "metadata": {},
   "outputs": [],
   "source": [
    "lat_min = gom_data.Latitude.min()\n",
    "print(lat_min)"
   ]
  },
  {
   "cell_type": "code",
   "execution_count": null,
   "id": "85a779f4-cc9a-4bba-b656-1028cbd65fec",
   "metadata": {},
   "outputs": [],
   "source": [
    "lat_max = gom_data.Latitude.max()\n",
    "print(lat_max)"
   ]
  },
  {
   "cell_type": "code",
   "execution_count": null,
   "id": "b5c29e83-e145-4bd7-a34f-582bd9058400",
   "metadata": {},
   "outputs": [],
   "source": [
    "lon_min = gom_data.Longitude.min()\n",
    "print(lon_min)"
   ]
  },
  {
   "cell_type": "code",
   "execution_count": null,
   "id": "3eb20ebb-afa4-472b-920f-41be5f7bf9f2",
   "metadata": {},
   "outputs": [],
   "source": [
    "lon_max = gom_data.Longitude.max()\n",
    "print(lon_max)"
   ]
  },
  {
   "cell_type": "code",
   "execution_count": null,
   "id": "47bea99b-6b8f-4066-994b-c5d10a02e2f0",
   "metadata": {},
   "outputs": [],
   "source": [
    "fig,ax= plt.subplots(figsize =(8,10),subplot_kw=dict(projection=ccrs.PlateCarree()))\n",
    "ax.set_extent( [lon_min, lon_max, lat_min, lat_max]) \n",
    "# note the seqence of arguments for set_extent: x1, x2, y1, y2\n",
    "\n",
    "#Sets the land onto the projection with the right color and scale\n",
    "land_50m = cfeature.NaturalEarthFeature('physical', 'land', '50m',\n",
    "                                    edgecolor='black',\n",
    "                                    facecolor='lightgrey')\n",
    "# you can use named colors: https://matplotlib.org/stable/gallery/color/named_colors.html\n",
    "# or with other methods: https://matplotlib.org/stable/users/explain/colors/colors.html\n",
    "\n",
    "ax.add_feature(land_50m)"
   ]
  },
  {
   "cell_type": "markdown",
   "id": "9f57693d-b882-4f16-9d06-26555064ca57",
   "metadata": {},
   "source": [
    "#### Let's make the land color a bit lighter gray"
   ]
  },
  {
   "cell_type": "code",
   "execution_count": null,
   "id": "d1ec4d86-0f2e-4695-b4cd-28b2532edaf7",
   "metadata": {},
   "outputs": [],
   "source": [
    "fig,ax= plt.subplots(figsize =(8,10),subplot_kw=dict(projection=ccrs.PlateCarree()))\n",
    "ax.set_extent( [lon_min, lon_max, lat_min, lat_max]) \n",
    "# note the seqence of arguments for set_extent: x1, x2, y1, y2\n",
    "\n",
    "#Sets the land onto the projection with the right color and scale\n",
    "land_50m = cfeature.NaturalEarthFeature('physical', 'land', '50m',\n",
    "                                    edgecolor='black',\n",
    "                                    facecolor='0.9') # 0 is black and 1 is white\n",
    "# you can use named colors: https://matplotlib.org/stable/gallery/color/named_colors.html\n",
    "# or with other methods: https://matplotlib.org/stable/users/explain/colors/colors.html\n",
    "\n",
    "ax.add_feature(land_50m)"
   ]
  },
  {
   "cell_type": "markdown",
   "id": "0dc06ecd-73f9-426f-a591-1ee90f939ea5",
   "metadata": {},
   "source": [
    "#### Now let's add some data"
   ]
  },
  {
   "cell_type": "code",
   "execution_count": null,
   "id": "aefd894a-7b25-446b-98a7-a7881c5de9c6",
   "metadata": {},
   "outputs": [],
   "source": [
    "fig,ax= plt.subplots(figsize =(8,10),subplot_kw=dict(projection=ccrs.PlateCarree()))\n",
    "ax.set_extent( [lon_min, lon_max, lat_min, lat_max]) \n",
    "\n",
    "# Sets the land onto the projection with the right color and scale\n",
    "land_50m = cfeature.NaturalEarthFeature('physical', 'land', '50m',\n",
    "                                    edgecolor='black',\n",
    "                                    facecolor='0.9')\n",
    "ax.add_feature(land_50m)\n",
    "\n",
    "# let's fill in the following:\n",
    "x = gom_data.Longitude\n",
    "y = gom_data.Latitude\n",
    "var =  gom_data.ssh[0,:,:]\n",
    "\n",
    "# Contours the data on tho the map projection\n",
    "p = ax.contourf(x, y,var, transform=ccrs.PlateCarree()) # projection is needed in every plot call\n",
    "\n",
    "# Creates colorbar based on the contour. This allows us to get a quick look at our data range \n",
    "# before we start formatting the figure \n",
    "cbar = plt.colorbar(p, orientation='horizontal', pad=0.02)\n"
   ]
  },
  {
   "cell_type": "markdown",
   "id": "a6ad1db0-37cd-483a-9952-790e787c0be9",
   "metadata": {},
   "source": [
    "#### Try taking out the options for the colorbar, what happens? What does \"pad\" do?"
   ]
  },
  {
   "cell_type": "code",
   "execution_count": null,
   "id": "135039fa-c29d-431b-9c30-50a15a502569",
   "metadata": {},
   "outputs": [],
   "source": []
  },
  {
   "cell_type": "markdown",
   "id": "10e8dcd5-f08c-4f2c-b167-5d381658ef13",
   "metadata": {},
   "source": [
    "#### What is the range of our data?"
   ]
  },
  {
   "cell_type": "code",
   "execution_count": null,
   "id": "29c72bb9-7b2d-447b-8996-429b89c89b4d",
   "metadata": {},
   "outputs": [],
   "source": [
    "var.max()"
   ]
  },
  {
   "cell_type": "code",
   "execution_count": null,
   "id": "490af02b-033c-453b-b382-c1a0621f8ec3",
   "metadata": {},
   "outputs": [],
   "source": [
    "var.min()"
   ]
  },
  {
   "cell_type": "markdown",
   "id": "8ee0a5d2-1255-483a-8322-6527b2ba12a4",
   "metadata": {},
   "source": [
    "#### Let's set the countour levels to match our data range. I'm also going to change the colormap\n",
    "See https://matplotlib.org/stable/users/explain/colors/colormaps.html\n",
    "Note you can reverse any colormap by appending '_r' to the name"
   ]
  },
  {
   "cell_type": "code",
   "execution_count": null,
   "id": "c2424969-3f19-4701-b794-382e4ecec009",
   "metadata": {},
   "outputs": [],
   "source": [
    "fig,ax= plt.subplots(figsize =(8,10),subplot_kw=dict(projection=ccrs.PlateCarree()))\n",
    "ax.set_extent([lon_min, lon_max, lat_min, lat_max]) \n",
    "\n",
    "land_50m = cfeature.NaturalEarthFeature('physical', 'land', '50m',\n",
    "                                    edgecolor='black',\n",
    "                                    facecolor='0.9')\n",
    "ax.add_feature(land_50m)\n",
    "\n",
    "x = gom_data.Longitude\n",
    "y = gom_data.Latitude\n",
    "var =  gom_data.ssh[0,:,:]\n",
    "\n",
    "# looks like all the data is between around -1.8 to 1.6, let's set the contourlevels to this, centered at zero\n",
    "# I'm also going to use a diverging colormap centered at zero\n",
    "step = np.arange(-1.8,1.9,0.2)  \n",
    "p = ax.contourf(x, y,var, transform=ccrs.PlateCarree(), cmap = 'RdBu_r', \n",
    "                    levels = step) # projection is needed in every plot call\n",
    "\n",
    "cbar = plt.colorbar(p, orientation='horizontal', pad=0.02)\n"
   ]
  },
  {
   "cell_type": "markdown",
   "id": "7708f877-3ced-4e7c-acc3-b4726417222b",
   "metadata": {},
   "source": [
    "#### Okay, now let's add some labels"
   ]
  },
  {
   "cell_type": "code",
   "execution_count": null,
   "id": "425cb4ee-c314-4848-92d7-2eb4e27dd02f",
   "metadata": {},
   "outputs": [],
   "source": [
    "fig,ax= plt.subplots(figsize =(8,10),subplot_kw=dict(projection=ccrs.PlateCarree(central_longitude=-60)))\n",
    "ax.set_extent([lon_min, lon_max, lat_min, lat_max]) \n",
    "\n",
    "#Sets the land onto the projection with the right color and scale\n",
    "land_50m = cfeature.NaturalEarthFeature('physical', 'land', '50m',\n",
    "                                    edgecolor='black',\n",
    "                                    facecolor='0.9')\n",
    "ax.add_feature(land_50m)\n",
    "\n",
    "# let's fill in the following:\n",
    "x = gom_data.Longitude\n",
    "y = gom_data.Latitude\n",
    "var =  gom_data.ssh[0,:,:]\n",
    "\n",
    "step = np.arange(-1.8,1.9,0.1)  \n",
    "p = ax.contourf(x, y,var, transform=ccrs.PlateCarree(), cmap = 'RdBu_r', \n",
    "                    levels = step) \n",
    "    \n",
    "# #Creates colorbar based on the contour \n",
    "cbar = plt.colorbar( p, orientation='horizontal', pad=0.05)\n",
    "cbar.set_label(\"SSH\" +' (m)', size = 14)\n",
    "\n",
    "ax.gridlines(draw_labels=True)\n"
   ]
  },
  {
   "cell_type": "markdown",
   "id": "47698405-84b8-401a-bcf5-1086d77d0e2e",
   "metadata": {},
   "source": [
    "#### These labels are too small for what I want. I need them to be much bigger."
   ]
  },
  {
   "cell_type": "code",
   "execution_count": null,
   "id": "4ed11564-7a04-402d-a853-7a2ff7d3a61b",
   "metadata": {},
   "outputs": [],
   "source": [
    "#Note we can easily make the lat/lon and colorbar font size bigger by adjusting the matplotlib parameters\n",
    "import matplotlib as mpl\n",
    "mpl.rcParams['font.size'] = 14"
   ]
  },
  {
   "cell_type": "code",
   "execution_count": null,
   "id": "11f11c6d-5938-4cc3-9be3-e0a2793feae0",
   "metadata": {},
   "outputs": [],
   "source": [
    "#exact same code as before\n",
    "\n",
    "fig,ax= plt.subplots(figsize =(8,10),subplot_kw=dict(projection=ccrs.PlateCarree(central_longitude=-60)))\n",
    "ax.set_extent([lon_min, lon_max, lat_min, lat_max]) \n",
    "\n",
    "#Sets the land onto the projection with the right color and scale\n",
    "land_50m = cfeature.NaturalEarthFeature('physical', 'land', '50m',\n",
    "                                    edgecolor='black',\n",
    "                                    facecolor='0.9')\n",
    "ax.add_feature(land_50m)\n",
    "\n",
    "# let's fill in the following:\n",
    "x = gom_data.Longitude\n",
    "y = gom_data.Latitude\n",
    "var =  gom_data.ssh[0,:,:]\n",
    "\n",
    "step = np.arange(-1.8,1.9,0.1)  \n",
    "p = ax.contourf(x, y,var, transform=ccrs.PlateCarree(), cmap = 'RdBu_r', \n",
    "                    levels = step) \n",
    "    \n",
    "# #Creates colorbar based on the contour \n",
    "cbar = plt.colorbar( p, orientation='horizontal', pad=0.05)\n",
    "cbar.set_label(\"SSH\" +' (m)', size = 16)\n",
    "\n",
    "ax.gridlines(draw_labels=True)\n"
   ]
  },
  {
   "cell_type": "markdown",
   "id": "a192d70b-aa8f-49b3-a433-c40a0d062c35",
   "metadata": {},
   "source": [
    "#### Now let's explore how to do this all manually so we have total control"
   ]
  },
  {
   "cell_type": "code",
   "execution_count": null,
   "id": "707de902-c813-4a2a-8ae5-a789bcb406de",
   "metadata": {},
   "outputs": [],
   "source": [
    "# OR we can use the formatter package to modify the lat/lon labels directly\n",
    "# note this doesn't change the colorbar tick label fontsize, we have to add a line for that after the colorbar code\n",
    "\n",
    "# I'm also going to cut out the white bits at right by adjusting lon_max\n",
    "fig,ax= plt.subplots(figsize =(8,10),subplot_kw=dict(projection=ccrs.PlateCarree()))\n",
    "ax.set_extent([lon_min, -78, lat_min, lat_max]) \n",
    "\n",
    "land_50m = cfeature.NaturalEarthFeature('physical', 'land', '50m',\n",
    "                                    edgecolor='black',\n",
    "                                    facecolor='0.9')\n",
    "ax.add_feature(land_50m)\n",
    "\n",
    "x = gom_data.Longitude\n",
    "y = gom_data.Latitude\n",
    "var =  gom_data.ssh[0,:,:]\n",
    "\n",
    "step = np.arange(-1.8,1.9,0.1)  \n",
    "p = ax.contourf(x, y,var, transform=ccrs.PlateCarree(), cmap = 'RdBu_r', \n",
    "                    levels = step) \n",
    "cbar = plt.colorbar( p, orientation='horizontal', pad=0.02) # move the colorbar up closer since we moved the longitude to top\n",
    "cbar.set_label(\"SSH\" +' (m)', size = 14)\n",
    "# adjust the colorbar font size:\n",
    "cbar.ax.tick_params(labelsize=13)\n",
    "\n",
    "#ax.gridlines()\n",
    "\n",
    "# Set formats. ex. x and y labels, and how to set up the x and y labels, and label font size\n",
    "#     #and sets the grid lines on the graph\n",
    "# Set the grid lines to another variable so it edits the grid variables and not the whole map\n",
    "gl = ax.gridlines(crs=ccrs.PlateCarree(), draw_labels=False,\n",
    "           linewidth=0.5, color='gray', linestyle='--')\n",
    "gl.top_labels = True    \n",
    "gl.left_labels = True\n",
    "gl.xformatter = LONGITUDE_FORMATTER\n",
    "gl.yformatter = LATITUDE_FORMATTER\n",
    "gl.xlabel_style = {'size' : 13}\n",
    "gl.ylabel_style = {'size' : 13}"
   ]
  },
  {
   "cell_type": "markdown",
   "id": "a7257b39-308c-4a10-a120-480ac8f07e3b",
   "metadata": {},
   "source": [
    "#### Not bad"
   ]
  },
  {
   "cell_type": "markdown",
   "id": "ceramic-cartoon",
   "metadata": {},
   "source": [
    "## Lab 6.2"
   ]
  },
  {
   "cell_type": "markdown",
   "id": "subjective-accuracy",
   "metadata": {},
   "source": [
    "**E.0** Finish Lab 6.1 if you haven't already."
   ]
  },
  {
   "cell_type": "markdown",
   "id": "tamil-disorder",
   "metadata": {},
   "source": [
    "**E.1** Complete Introduction to Data Visualization with Matplotlib Chapters 3-4. Let me know if this feels like a good pace"
   ]
  },
  {
   "cell_type": "code",
   "execution_count": null,
   "id": "awful-simple",
   "metadata": {},
   "outputs": [],
   "source": []
  },
  {
   "cell_type": "markdown",
   "id": "flying-bankruptcy",
   "metadata": {},
   "source": [
    "**E.2** Make notes for yourself on progamming tecniques and commands you learned in the lecture and datacamp chapter above, including examples, comments and explainitory text. You can do this here or in a separate notebook that you link to here. Basically, you are making a cheat sheet for yourself."
   ]
  },
  {
   "cell_type": "code",
   "execution_count": null,
   "id": "editorial-guitar",
   "metadata": {},
   "outputs": [],
   "source": []
  },
  {
   "cell_type": "markdown",
   "id": "amazing-collar",
   "metadata": {},
   "source": [
    "**E.3** Make a plot of a different variable for the HYCOM data. Play around with colormaps and contourlines to make it your own. Post your plot on the class slack #random channel"
   ]
  },
  {
   "cell_type": "code",
   "execution_count": null,
   "id": "another-cancellation",
   "metadata": {},
   "outputs": [],
   "source": []
  },
  {
   "cell_type": "markdown",
   "id": "aa93ff1c-a08d-4fc7-9bd9-646211a68808",
   "metadata": {},
   "source": [
    "### This week's project:"
   ]
  },
  {
   "cell_type": "markdown",
   "id": "4d574a7e-3367-4d58-878e-bb03ed84a0dc",
   "metadata": {},
   "source": [
    "#### Note you might want to restart your kernel at this point to dump all the hycom data from memory. Just reload the packages you need"
   ]
  },
  {
   "cell_type": "markdown",
   "id": "39e7611f-4235-43bb-8d79-28af78479581",
   "metadata": {},
   "source": [
    "**E.4** Download some data from the ISIMIP data archive (https://data.isimip.org/) and plot it using cartopy. ISIMIP provides bias-corrected daata for past and future climate simulations used for impacts studies world wide. Let's start with some maximum atmospheric surface temperature data in the historical period (1850-2014 for CMIP6). We want climate forcing data for ISIMIP3b, which are the lastest (CMIP6) climate projections. \n",
    "\n",
    "* https://data.isimip.org/search/tree/ISIMIP3b/InputData/climate/\n",
    "* Click atmopsheric forcing\n",
    "* Click GFDL... This is one of NOAA-GFDL's climate models (ESM4)\n",
    "* Click historical\n",
    "\n",
    "All of the variable names are in CMIP lingo. Sadly, there is no easy cheat sheet. But you want tas, which is \"temperature of air at surface\". Let's use the tasmax, the maximum daily surface air temperature\n",
    "* Click tasmax\n",
    "* Click files to see all the available files.\n",
    "  \n",
    "Here you have a choice, you can download an etire file (note the size) or you can use the \"configure download\" button, which has subsetting by space or country, as well as time opitons. You can click on a file name to see more info.\n",
    "* Click on \"download file\" for the 1851-1860 file. Just grab the whole file, it will take a minute to download.\n",
    "* Load up the data into xarray and plot the maximum of this dataset (so max over the decade for each gridcell. You just use a max function for this, no loops needed).\n",
    "* Plot using cartopy to make it pretty. Put some sensible lables on it, etc. Maybe add some country boundaries."
   ]
  },
  {
   "cell_type": "code",
   "execution_count": null,
   "id": "colonial-rings",
   "metadata": {},
   "outputs": [],
   "source": []
  },
  {
   "cell_type": "markdown",
   "id": "4c56ed2c-cc2f-4777-8e2c-c9673d8fccd1",
   "metadata": {},
   "source": [
    "**E.5** Now make a second plot using ISIMP data for a future climate projection. Following the same steps as above, get the GFDL tasmax data for the future climate scenario SSP3-7.0 (higher emissions scenario) for 2051-2060. Again, calculate the maximum at each gridpoint for this data set. This is the future maximum daily temperature for that decade. Make your plot nice."
   ]
  },
  {
   "cell_type": "code",
   "execution_count": null,
   "id": "1d5a52bc-255f-45ef-97dd-129e6f5126d0",
   "metadata": {},
   "outputs": [],
   "source": []
  },
  {
   "cell_type": "markdown",
   "id": "0d35c0d6-5f7b-496b-9a58-531fb6e9ddfe",
   "metadata": {},
   "source": [
    "**E.6** Now plot the anomaly between the two, 2050's - 1850's. Use a diverging colormap (light in the middle), centered on zero. What is the outlook for your country of orgin? Answer in full sentances with specific numbers."
   ]
  },
  {
   "cell_type": "code",
   "execution_count": null,
   "id": "bb67e31d-1776-47cc-96d7-ac85fd32bda6",
   "metadata": {},
   "outputs": [],
   "source": []
  },
  {
   "cell_type": "markdown",
   "id": "8737fe8e-96d9-4401-8703-02aeb7b40780",
   "metadata": {},
   "source": [
    "**E.7** How could you potentially use this kind of data (future climate projections) in your research? Do some brainstorming. Write down your thoughts here."
   ]
  },
  {
   "cell_type": "code",
   "execution_count": null,
   "id": "f5f02331-8787-4789-940e-a1d8d9d1eed6",
   "metadata": {},
   "outputs": [],
   "source": []
  }
 ],
 "metadata": {
  "kernelspec": {
   "display_name": "Python 3 (ipykernel)",
   "language": "python",
   "name": "python3"
  },
  "language_info": {
   "codemirror_mode": {
    "name": "ipython",
    "version": 3
   },
   "file_extension": ".py",
   "mimetype": "text/x-python",
   "name": "python",
   "nbconvert_exporter": "python",
   "pygments_lexer": "ipython3",
   "version": "3.12.4"
  }
 },
 "nbformat": 4,
 "nbformat_minor": 5
}
