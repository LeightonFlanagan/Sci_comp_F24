{
 "cells": [
  {
   "cell_type": "markdown",
   "id": "cooked-impact",
   "metadata": {
    "panel-layout": {
     "height": 51.12215805053711,
     "visible": true,
     "width": 100
    }
   },
   "source": [
    "Name Fahmida "
   ]
  },
  {
   "cell_type": "markdown",
   "id": "crazy-drunk",
   "metadata": {
    "panel-layout": {
     "height": 51.12215805053711,
     "visible": true,
     "width": 100
    }
   },
   "source": [
    "Labpartner(s)"
   ]
  },
  {
   "cell_type": "code",
   "execution_count": 4,
   "id": "statistical-animal",
   "metadata": {},
   "outputs": [],
   "source": [
    "#import statements go here\n",
    "import matplotlib.pyplot as plt"
   ]
  },
  {
   "cell_type": "markdown",
   "id": "appointed-tribute",
   "metadata": {
    "panel-layout": {
     "height": 60.596588134765625,
     "visible": true,
     "width": 100
    }
   },
   "source": [
    "# Class 11.1"
   ]
  },
  {
   "cell_type": "markdown",
   "id": "834986df-a157-45a3-8679-12e793fe2c47",
   "metadata": {
    "panel-layout": {
     "height": 97.40056610107422,
     "visible": true,
     "width": 100
    }
   },
   "source": [
    "We are moving into the last weeks of the semester. \n",
    "\n",
    "If you are behind or need to resubmit a lab, all of the labs up to 9.2 need to be turned in by the end of next week, Friday 11/15 end of day. Reminder these need to be completed to pass the course. Please check Moodle to see if you had one sent back."
   ]
  },
  {
   "cell_type": "markdown",
   "id": "bbdf9630-73a5-4a8d-98c2-45c5ef81a0f0",
   "metadata": {},
   "source": [
    "# Warmup 11.1"
   ]
  },
  {
   "cell_type": "markdown",
   "id": "tracked-tradition",
   "metadata": {
    "panel-layout": {
     "height": 260.21307373046875,
     "visible": true,
     "width": 100
    }
   },
   "source": [
    "**W.1** Write a function that returns a list of the first n powers of 2 (2^0, 2^1, 2^2, 2^3...2^n)."
   ]
  },
  {
   "cell_type": "code",
   "execution_count": 5,
   "id": "champion-rouge",
   "metadata": {},
   "outputs": [],
   "source": [
    "def powers_of_two(n):\n",
    "    return[2**i for i in range (n+1)]"
   ]
  },
  {
   "cell_type": "markdown",
   "id": "d8da4541-ba6f-4313-8571-27b16539d41e",
   "metadata": {},
   "source": [
    "**W.2** Using the function above, plot the first 100 powers of 2"
   ]
  },
  {
   "cell_type": "code",
   "execution_count": 7,
   "id": "ab0b4930-a77d-467a-9fc9-5ac6602f8217",
   "metadata": {},
   "outputs": [
    {
     "data": {
      "image/png": "[encoded data removed]",
      "text/plain": [
       "<Figure size 1000x600 with 1 Axes>"
      ]
     },
     "metadata": {},
     "output_type": "display_data"
    }
   ],
   "source": [
    "# Plot the powers of 2\n",
    "plt.figure(figsize=(10, 6))\n",
    "plt.plot(powers, marker='o', linestyle='-', color='b')\n",
    "\n",
    "#plt.yscale('log')  \n",
    "# Use a logarithmic scale for the y-axis for better visibility\n",
    "\n",
    "plt.title(\"First 100 Powers of 2\")\n",
    "plt.xlabel(\"Exponent (n)\")\n",
    "plt.ylabel(\"2^n (log scale)\")\n",
    "plt.grid(True)\n",
    "plt.show()"
   ]
  },
  {
   "cell_type": "markdown",
   "id": "needed-irish",
   "metadata": {
    "panel-layout": {
     "height": 156.05113220214844,
     "visible": true,
     "width": 100
    }
   },
   "source": [
    "# Lecture 11.1\n",
    "\n",
    "No lecture today!\n",
    "If you have any questions, please post on slack and we will respond"
   ]
  },
  {
   "cell_type": "markdown",
   "id": "be69581e-ee02-4aa7-a18e-74c2d61cc1c7",
   "metadata": {
    "panel-layout": {
     "height": 10,
     "visible": true,
     "width": 100
    }
   },
   "source": []
  },
  {
   "cell_type": "markdown",
   "id": "working-lottery",
   "metadata": {
    "panel-layout": {
     "height": 60.596588134765625,
     "visible": true,
     "width": 100
    }
   },
   "source": [
    "# Lab 11.1"
   ]
  },
  {
   "cell_type": "markdown",
   "id": "42ba70db-1894-44eb-9688-5380d60b34f6",
   "metadata": {
    "panel-layout": {
     "height": 51.12215805053711,
     "visible": true,
     "width": 100
    }
   },
   "source": [
    "**E.0** Complete the previous labs if you are behind."
   ]
  },
  {
   "cell_type": "markdown",
   "id": "6254f746-973e-4ebe-ad02-f81c98a1d7c6",
   "metadata": {
    "panel-layout": {
     "height": 114.54544830322266,
     "visible": true,
     "width": 100
    }
   },
   "source": [
    "**E.1** Complete Introduction to Statistics in Python. Remember to submit your datacamp scores."
   ]
  },
  {
   "cell_type": "markdown",
   "id": "computational-child",
   "metadata": {
    "panel-layout": {
     "height": 85.41192626953125,
     "visible": true,
     "width": 100
    }
   },
   "source": [
    "**Notes** Make notes for yourself on progamming tecniques and commands you learned in the this week, including examples, comments and explainitory text. You can do this here or in a separate notebook that you link to here. Basically, you are making a cheat sheet for yourself."
   ]
  },
  {
   "cell_type": "code",
   "execution_count": null,
   "id": "consecutive-bowling",
   "metadata": {},
   "outputs": [],
   "source": [
    "#mean\n",
    "np.mean(data[‘variable’])\n",
    "#median\n",
    "np.median(data[‘variable’])\n",
    "#mode\n",
    "Statistics.mode(data[‘variable’])\n",
    "# Subset country for USA: usa_consumption\n",
    "usa_consumption = food_consumption[food_consumption['country']== 'USA']\n",
    "# Calculate mean consumption in USA\n",
    "print(np.mean(usa_consumption['consumption']))\n",
    "# Calculate median consumption in USA\n",
    "print(np.median(usa_consumption['consumption']))\n",
    "#the higher the variance more spread the data is \n",
    "np.var(data[‘variable’], ddof=1)\n",
    "#Standard deviation\n",
    "np.std(data['variable'], ddof=1)\n",
    "#Mean absolute deviation\n",
    "dists = msleep['sleep_total'] - mean(msleep$sleep_total)\n",
    "np.mean(np.abs(dists))\n"
   ]
  },
  {
   "cell_type": "markdown",
   "id": "dce3bb64-92dc-488d-860b-9d011f19dc1e",
   "metadata": {},
   "source": [
    "Standard deviation vs. mean absolute deviation\n",
    "Standard deviation squares distances, penalizing longer distances more than shorter ones.\n",
    "Mean absolute deviation penalizes each distance equally.\n",
    "One isn't better than the other, but SD is more common than MAD."
   ]
  },
  {
   "cell_type": "code",
   "execution_count": null,
   "id": "47d0dd97-0a6e-4a89-ae52-14d62aeb8d4c",
   "metadata": {},
   "outputs": [],
   "source": [
    "# Create histogram of co2_emission for food_category 'beef'\n",
    "food_consumption[food_consumption['food_category']=='beef']['co2_emission'].hist()\n",
    "plt.show()\n",
    "#quantile \n",
    "print(np.quantile(food_consumption['co2_emission'], [0, 0.25, 0.5, 0.75, 1]))\n"
   ]
  },
  {
   "cell_type": "markdown",
   "id": "6e039f02-e31b-4d25-bc81-1ccace615c36",
   "metadata": {},
   "source": [
    "Finding outliers using IQR\n",
    "Outliers can have big effects on statistics like mean, as well as statistics that rely on the mean, such as variance and standard deviation. Interquartile range, or IQR, is another way of measuring spread that's less influenced by outliers. IQR is also often used to find outliers. If a value is less than or greater than , it's considered an outlier. In fact, this is how the lengths of the whiskers in a matplotlib box plot are calculated."
   ]
  },
  {
   "cell_type": "code",
   "execution_count": null,
   "id": "c5a4fddd-129d-4c98-9a58-121aeaa1c5f2",
   "metadata": {},
   "outputs": [],
   "source": [
    "# Calculate total co2_emission per country: emissions_by_country\n",
    "emissions_by_country = food_consumption.groupby('country')['co2_emission'].sum()\n",
    "\n",
    "# Compute the first and third quartiles and IQR of emissions_by_country\n",
    "q1 = np.quantile(emissions_by_country, 0.25)\n",
    "q3 = np.quantile(emissions_by_country, 0.75)\n",
    "iqr = q3-q1\n",
    "# Calculate the lower and upper cutoffs for outliers\n",
    "lower = q1 - 1.5 * iqr\n",
    "upper = q3 + 1.5 * iqr\n",
    "\n",
    "# Subset emissions_by_country to find outliers\n",
    "outliers = emissions_by_country[(emissions_by_country>upper)|(emissions_by_country<lower)]\n",
    "print(outliers)"
   ]
  },
  {
   "cell_type": "code",
   "execution_count": null,
   "id": "96721b11-e0bc-491c-ae84-b86cbf56473d",
   "metadata": {},
   "outputs": [],
   "source": [
    "#Probability\n",
    "#Setting random seed \n",
    "np.random.seed(10)\n",
    "sales_count.sample()\n",
    "#without replacement (each pick is dependent)\n",
    "sales_count.sample(2)\n",
    "#with replacement (each pick is independent)\n",
    "sales_count.sample(5, replace =True)\n",
    "# Create probability distribution\n",
    "size_dist = restaurant_groups['group_size'].value_counts() / restaurant_groups.shape[0]\n",
    "# Reset index and rename columns\n",
    "size_dist = size_dist.reset_index()\n",
    "size_dist.columns = ['group_size', 'prob']\n",
    "\n",
    "# Expected value\n",
    "expected_value = np.sum(size_dist['group_size'] * size_dist['prob'])\n",
    "\n",
    "# Subset groups of size 4 or more\n",
    "groups_4_or_more = size_dist[size_dist['group_size']>=4]\n",
    "\n",
    "# Sum the probabilities of groups_4_or_more\n",
    "prob_4_or_more = groups_4_or_more['prob'].sum()\n",
    "print(prob_4_or_more)\n",
    "\n",
    "#uniform numbers generator\n",
    "Uniform.rvs(0,5,size=10)\n",
    "\n",
    "# Set random seed to 334\n",
    "np.random.seed(334)\n",
    "\n",
    "# Import uniform\n",
    "from scipy.stats import uniform\n",
    "\n",
    "# Generate 1000 wait times between 0 and 30 mins\n",
    "wait_times = uniform.rvs(0, 30, size=1000)\n",
    "\n",
    "# Create a histogram of simulated times and show plot\n",
    "plt.hist(wait_times, bins=30)\n",
    "plt.show()\n"
   ]
  }
 ],
 "metadata": {
  "kernelspec": {
   "display_name": "Python 3 (ipykernel)",
   "language": "python",
   "name": "python3"
  },
  "language_info": {
   "codemirror_mode": {
    "name": "ipython",
    "version": 3
   },
   "file_extension": ".py",
   "mimetype": "text/x-python",
   "name": "python",
   "nbconvert_exporter": "python",
   "pygments_lexer": "ipython3",
   "version": "3.12.4"
  },
  "panel-cell-order": [
   "cooked-impact",
   "crazy-drunk",
   "appointed-tribute",
   "834986df-a157-45a3-8679-12e793fe2c47",
   "tracked-tradition",
   "needed-irish",
   "crucial-hobby",
   "be69581e-ee02-4aa7-a18e-74c2d61cc1c7",
   "working-lottery",
   "42ba70db-1894-44eb-9688-5380d60b34f6",
   "6254f746-973e-4ebe-ad02-f81c98a1d7c6",
   "ordinary-variable",
   "f8909a65-8319-4676-8478-c7e691e05403",
   "fff227cb-6c67-4666-825c-73b39feaa02f",
   "36b09aeb-22b0-4a9c-a95b-f4940e362a18",
   "computational-child"
  ]
 },
 "nbformat": 4,
 "nbformat_minor": 5
}
