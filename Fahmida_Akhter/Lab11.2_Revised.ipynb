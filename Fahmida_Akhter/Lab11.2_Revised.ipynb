{
 "cells": [
  {
   "cell_type": "markdown",
   "id": "floating-prophet",
   "metadata": {},
   "source": [
    "Name Fahmida"
   ]
  },
  {
   "cell_type": "markdown",
   "id": "cheap-milwaukee",
   "metadata": {},
   "source": [
    "Labpartner(s) Israt and Zach"
   ]
  },
  {
   "cell_type": "code",
   "execution_count": null,
   "id": "increasing-sally",
   "metadata": {},
   "outputs": [],
   "source": [
    "#import statements go here\n"
   ]
  },
  {
   "cell_type": "markdown",
   "id": "tracked-spectacular",
   "metadata": {},
   "source": [
    "# Class 11.2"
   ]
  },
  {
   "cell_type": "markdown",
   "id": "approved-ticket",
   "metadata": {},
   "source": [
    "Today we are going to be learning how to move files to the supercomputer and back again. Also, I am giving you an extra lab period to finish the statistics module in Datacamp. I figure we could all use some time back this week.\n",
    "\n",
    "You should also update your final project timeline and submit this with your weekly assessment, see below."
   ]
  },
  {
   "cell_type": "markdown",
   "id": "collect-imaging",
   "metadata": {},
   "source": [
    "# Warmups 11.2"
   ]
  },
  {
   "cell_type": "markdown",
   "id": "involved-capability",
   "metadata": {},
   "source": [
    "**W.1** Open a terminal window and ssh into the LSU mike supercomputer. Open a second terminal window that we will use to find the path to where you downloaded this file."
   ]
  },
  {
   "cell_type": "markdown",
   "id": "demographic-creature",
   "metadata": {},
   "source": [
    "**W.2** Open the ondemand portal and start a jupyter session on the LSU mike supercomputer that lasts 3 hours."
   ]
  },
  {
   "cell_type": "code",
   "execution_count": null,
   "id": "6a22df23-1815-431f-aba6-01c7bd00ddc4",
   "metadata": {},
   "outputs": [],
   "source": [
    "Done!"
   ]
  },
  {
   "cell_type": "markdown",
   "id": "dressed-dallas",
   "metadata": {
    "jp-MarkdownHeadingCollapsed": true,
    "tags": []
   },
   "source": [
    "# Lecture 11.2\n",
    "\n",
    "### Agenda:\n",
    "- Questions\n",
    "- Moving files to the HPC"
   ]
  },
  {
   "cell_type": "markdown",
   "id": "7d8e285e-f0f3-4790-8740-ad28647165a0",
   "metadata": {},
   "source": [
    "### 11.2.1 Questions"
   ]
  },
  {
   "cell_type": "code",
   "execution_count": null,
   "id": "48bb607f-07fd-4fbd-8368-fc27bf572514",
   "metadata": {},
   "outputs": [],
   "source": []
  },
  {
   "cell_type": "markdown",
   "id": "0ace7ddb-ab19-44ee-a20e-620f259adc33",
   "metadata": {},
   "source": [
    "### 11.2.2 Moving files to the HPC"
   ]
  },
  {
   "cell_type": "markdown",
   "id": "f31b42be-4097-466d-bf9a-3d1ef7151090",
   "metadata": {},
   "source": [
    "When working with supercomputers, one often has to move files from a local computer to a supercomputer and back, or from one supercomputer to another. There are a few ways to do this, but the most basic and standard is at the command line using the linux utilities **scp** and **rsync**. \n",
    "\n",
    "Basically, **scp** stands for \"secure copy\" and lets you move files or folders from one machine to another. This is the most basic way to move files, and is great for a small amount of data. The second utility, **rsync**, synchronizes entire folders, so you only copy files that have changed, and it can compress files for transfer. Thus, **rsync** is good for moving larger amounts of files or bigger files. Today we will move one file (this lab) from your local computer to the LSU HPC so you can work on your lab there, then move it back.\n",
    "\n",
    "The basic **scp** syntax is:\n",
    "\n",
    "**scp**   path_to_local_file   user@host:path_to_destination\n",
    "\n",
    "or \n",
    "\n",
    "**scp** source target\n",
    "\n",
    "So, to use **scp** you need to know the file path where your file currently is and the path to where you want it to go.\n",
    "\n",
    "For this exercise, you will want to use the two terminal windows opened in the warmup, on where you have logged on to the HPC, and one on your local computer. Locate the folder where you downloaded the lab using the basic linux commands **cd** for change directory, **ls** for listing the directory contents, and **pwd** for printing the \"working\" directory, the path to where you are. I will demo these.\n",
    "\n",
    "Use the above linux commands to identify the path to where you have downloaded this lab, and where you want to put it on the supercomputer. Then use **scp** to copy the lab to the super computer. For me this was:\n",
    "\n",
    "scp /Users/chsharri/Documents/Teaching/Sci_comp/Sci_comp_F2024/Course_materials/Lab11.2_F24_linear_regression.ipynb chsharri@mike.hpc.lsu.edu:/home/chsharri/\n",
    "\n",
    "Note I put the \"/\" on the end of the target path to indicate the directory. This will copy the full name of the python notebook into that directory.\n",
    "\n",
    "I entered this command in the terminal window on my **local** computer. Note you will be asked for your lsu hpc password.\n",
    "\n",
    "Once you get the lab moved over to the hpc, open it in your hpc jupyter session. You will submit a screenshot of the open lab on mike when you turn in your lab."
   ]
  },
  {
   "cell_type": "code",
   "execution_count": null,
   "id": "4c175be1-cb70-47d9-9a93-d0a461095075",
   "metadata": {},
   "outputs": [],
   "source": [
    "Done!"
   ]
  },
  {
   "cell_type": "markdown",
   "id": "rotary-annex",
   "metadata": {},
   "source": [
    "# Lab 11.2"
   ]
  },
  {
   "cell_type": "markdown",
   "id": "2a67ccf0-037d-4397-9a3b-377401077a5d",
   "metadata": {},
   "source": [
    "Note: You need to submit a screenshot of this lab opened in the LSU HPC in Moodle. You should do E.1 while you have it open there."
   ]
  },
  {
   "cell_type": "markdown",
   "id": "c9f977ff-9cc4-45f5-a27e-8c040f198185",
   "metadata": {},
   "source": [
    "Moving files between supercomputers or from one supercomputer to another is a common task when dealing with supercomputers. The most straightforward and common method is to use the Linux tools scp and rsync at the command line.\n",
    "\n",
    "The term \"secure copy\" (scp) essentially refers to the ability to transfer files or folders across computers. This is the simplest method of file transfer and works well for tiny data sets. The second tool, rsync, may compress files for transmission and synchronize whole directories, allowing you to copy only the modified items. Consequently, rsync works well for transferring larger or more complex files. We will transfer this lab file from your local computer to the LSU HPC today so you may complete it there and then return it.\n",
    "\n",
    "\n",
    "The fundamental syntax for SCP is:\n",
    "\n",
    "User@host:path_to_destination scp path_to_local_file\n",
    "\n",
    "or\n",
    "\n",
    "SCP source target\n",
    "\n",
    "Therefore, you must know the file path where your file is now and the location where you want it to move in order to utilize SCP.\n",
    "\n",
    "The two terminal windows that were open during the warmup—one on your local machine and the other when you signed onto the HPC—should be used for this exercise. Use the standard Linux commands cd to change the directory, ls to display the contents of the directory, and pwd to print the \"working\" directory, which is the path to your current location, to find the folder where you downloaded the lab. I'll demonstrate these.\n",
    "\n",
    "To find the directory where you downloaded this lab and where you wish to install it on the supercomputer, use the Linux instructions mentioned above. Next, clone the lab to the supercomputer using SCP. This was for me:\n",
    "\n",
    "Chsharri@mike.hpc.lsu.edu:/home/chsharri/ scp /Users/chsharri/Documents/Teaching/Sci_comp/Sci_comp_F2024/Course_materials/Lab11.2_F24_linear_regression.ipynb\n",
    "\n",
    "Keep in mind that I indicated the directory by appending the \"/\" to the end of the destination path. The complete name of the Python notebook will be copied into that directory as a result.\n",
    "\n",
    "I typed this command into my local computer's terminal window. Be aware that your LSU HPC password will be requested."
   ]
  },
  {
   "cell_type": "markdown",
   "id": "d7e89ba6-f43a-4357-bb7d-3f15e9eb3af5",
   "metadata": {},
   "source": [
    "**E.1** Why doesn't the scp command we used to move the lab work in the terminal window where you logged into the LSU hpc? What would you need to do to make that work?"
   ]
  },
  {
   "cell_type": "markdown",
   "id": "3b4e7afb-f8b5-44b0-a740-4c0a8523d138",
   "metadata": {},
   "source": [
    "Answer: It does not work because we are in different directory. We need to copy the path and put it in the directory.\n",
    "\n",
    "I used the following command to put it into the HPC from local computer- \n",
    "\n",
    "scp Lab11.2_F24_linux.ipynb fahmida@mike.hpc.lsu.edu:/home/fahmida/"
   ]
  },
  {
   "cell_type": "code",
   "execution_count": null,
   "id": "2863770b-5baf-4e41-88b3-6990b8ab5736",
   "metadata": {},
   "outputs": [],
   "source": [
    "#Useful command for HPC \n",
    "\n",
    "ls - list \n",
    "pwd - print directory\n",
    "cd - change directory\n",
    "scp - secure copy"
   ]
  },
  {
   "cell_type": "markdown",
   "id": "0d42dbde-b727-47e0-8e3e-b2eaf7f0af75",
   "metadata": {},
   "source": [
    "**E.2** Answer E.1 while you are logged to the HPC. Then, transfer the updated lab back to your local computer. How do you have to change the **scp** command to do this?"
   ]
  },
  {
   "cell_type": "markdown",
   "id": "c4fec767-5344-468b-ad64-782b8ef22141",
   "metadata": {},
   "source": [
    "Answer: I used the following command to transfer the lab back to my local computer. \n",
    "\n",
    "scp  fahmida@mike.hpc.lsu.edu:/home/fahmida/Lab11.2_F24_linux.ipynb C:/Users/fahmi/Downloads/Lab11.2_v2.ipynb"
   ]
  },
  {
   "cell_type": "code",
   "execution_count": null,
   "id": "96296505-9f26-4dcf-9983-3951d6450dc1",
   "metadata": {},
   "outputs": [],
   "source": [
    "#For tranfering a file from local computer to HPC \n",
    "\n",
    "scp C:/Users/fahmi/Downloads/Lab11.2_v2.ipynb fahmida@mike.hpc.lsu.edu:/home/fahmida/file_name"
   ]
  },
  {
   "cell_type": "code",
   "execution_count": null,
   "id": "699b21cb-1208-47f8-a499-178c767be02d",
   "metadata": {},
   "outputs": [],
   "source": [
    "#How to open a new folder in HPC \n",
    "**Make sure you have this folder in the download folder\n",
    "\n",
    " scp -r OCS4001 fahmida@mike.hpc.lsu.edu:/home/fahmida/"
   ]
  },
  {
   "cell_type": "markdown",
   "id": "timely-carbon",
   "metadata": {},
   "source": [
    "**E.3** Complete Ch 3-4 of Introduction to Statistics in Python in Data Camp. Remember to upload your scores into Moodle. For lab 11.1 you should turn in Ch 1-2 scores.\n"
   ]
  },
  {
   "cell_type": "code",
   "execution_count": null,
   "id": "44146a01-9d93-4b51-869c-606172d1f262",
   "metadata": {},
   "outputs": [],
   "source": [
    "Done!"
   ]
  },
  {
   "cell_type": "markdown",
   "id": "fd84aa4a-41f3-417b-9f2e-0f5ad9ab2eb1",
   "metadata": {},
   "source": [
    "**E.4** Revisit your final project timeline and adjust it based on any changes that came up. You will submit this revised timeline with your Weekly Assesment. Note the updated weekly assessement final project form (in Moodle and github)"
   ]
  },
  {
   "cell_type": "markdown",
   "id": "b17ea00b-1060-4ef9-af10-5aa7646656a9",
   "metadata": {},
   "source": [
    "**Notes** Make notes for yourself on progamming tecniques and commands you learned in the this week, including examples, comments and explainitory text. You can do this here or in a separate notebook that you link to here. Basically, you are making a cheat sheet for yourself."
   ]
  },
  {
   "cell_type": "code",
   "execution_count": null,
   "id": "36cab642-274d-4a0a-8b21-3d8199803dc9",
   "metadata": {},
   "outputs": [],
   "source": [
    "# generate normal distribution using random sampling\n",
    "\n",
    "np.random.seed(104)\n",
    "\n",
    "sample_means = []\n",
    "# Loop 100 times\n",
    "for i in range(100):\n",
    "  # Take sample of 20 num_users\n",
    "  samp_20 = amir_deals['num_users'].sample(20, replace=True)\n",
    "  # Calculate mean of samp_20\n",
    "  samp_20_mean = np.mean(samp_20)\n",
    "  # Append samp_20_mean to sample_means\n",
    "  sample_means.append(samp_20_mean)\n",
    "  \n",
    "# Convert to Series and plot histogram\n",
    "sample_means_series = pd.Series(sample_means)\n",
    "sample_means_series.hist()\n",
    "# Show plot\n",
    "plt.show()\n",
    "\n",
    "\n",
    "#scatterplot without trendline \n",
    "sns.scatterplot(x='life_exp', y='happiness_score', data=world_happiness)\n",
    "\n",
    "# Create scatterplot of happiness_score vs life_exp with trendline\n",
    "sns.lmplot(x='life_exp', y='happiness_score', data=world_happiness, ci=None)\n",
    "\n",
    "# Correlation between life_exp and happiness_score\n",
    "cor = world_happiness[\"life_exp\"].corr(world_happiness[\"happiness_score\"])"
   ]
  }
 ],
 "metadata": {
  "kernelspec": {
   "display_name": "Python 3 (ipykernel)",
   "language": "python",
   "name": "python3"
  },
  "language_info": {
   "codemirror_mode": {
    "name": "ipython",
    "version": 3
   },
   "file_extension": ".py",
   "mimetype": "text/x-python",
   "name": "python",
   "nbconvert_exporter": "python",
   "pygments_lexer": "ipython3",
   "version": "3.12.4"
  }
 },
 "nbformat": 4,
 "nbformat_minor": 5
}
