{
 "cells": [
  {
   "cell_type": "markdown",
   "id": "underlying-transformation",
   "metadata": {},
   "source": [
    "Name Fahmida Akhter"
   ]
  },
  {
   "cell_type": "markdown",
   "id": "genuine-works",
   "metadata": {},
   "source": [
    "Labpartner(s)"
   ]
  },
  {
   "cell_type": "code",
   "execution_count": 1,
   "id": "international-split",
   "metadata": {},
   "outputs": [],
   "source": [
    "#import statements go here\n",
    "import pandas as pd\n",
    "import numpy as np\n",
    "import matplotlib.pyplot as plt"
   ]
  },
  {
   "cell_type": "markdown",
   "id": "miniature-explorer",
   "metadata": {},
   "source": [
    "# Lab 4.1"
   ]
  },
  {
   "cell_type": "markdown",
   "id": "nuclear-stroke",
   "metadata": {},
   "source": [
    "## Instructions\n",
    "\n",
    "For each class, download the lab and have it up and running in Jupyter when we begin the class period. This will allow you to code along with the demonstrations and be ready to go. Put the name of your lab partner above.\n",
    "\n",
    "When you are done with your lab, upload this document to your github folder on the class site. Then submit a url link to the completed lab, along with a screenshot of your **completed score** for the chapter assigned in datacamp to the assignment tab in Moodle."
   ]
  },
  {
   "cell_type": "markdown",
   "id": "driving-abuse",
   "metadata": {},
   "source": [
    "# Warmups 4.1"
   ]
  },
  {
   "cell_type": "markdown",
   "id": "processed-competition",
   "metadata": {},
   "source": [
    "W.1-3 Do exercises 1-3 in the Data Statisics problem: http://scipy-lectures.org/intro/numpy/exercises.html#data-statistics. See lab 3.2  on how to load in the data file"
   ]
  },
  {
   "cell_type": "code",
   "execution_count": 2,
   "id": "appreciated-cincinnati",
   "metadata": {},
   "outputs": [
    {
     "data": {
      "text/html": [
       "<div>\n",
       "<style scoped>\n",
       "    .dataframe tbody tr th:only-of-type {\n",
       "        vertical-align: middle;\n",
       "    }\n",
       "\n",
       "    .dataframe tbody tr th {\n",
       "        vertical-align: top;\n",
       "    }\n",
       "\n",
       "    .dataframe thead th {\n",
       "        text-align: right;\n",
       "    }\n",
       "</style>\n",
       "<table border=\"1\" class=\"dataframe\">\n",
       "  <thead>\n",
       "    <tr style=\"text-align: right;\">\n",
       "      <th></th>\n",
       "      <th>hare</th>\n",
       "      <th>lynx</th>\n",
       "      <th>carrot</th>\n",
       "    </tr>\n",
       "    <tr>\n",
       "      <th># year</th>\n",
       "      <th></th>\n",
       "      <th></th>\n",
       "      <th></th>\n",
       "    </tr>\n",
       "  </thead>\n",
       "  <tbody>\n",
       "    <tr>\n",
       "      <th>1900</th>\n",
       "      <td>30000.0</td>\n",
       "      <td>4000.0</td>\n",
       "      <td>48300</td>\n",
       "    </tr>\n",
       "    <tr>\n",
       "      <th>1901</th>\n",
       "      <td>47200.0</td>\n",
       "      <td>6100.0</td>\n",
       "      <td>48200</td>\n",
       "    </tr>\n",
       "    <tr>\n",
       "      <th>1902</th>\n",
       "      <td>70200.0</td>\n",
       "      <td>9800.0</td>\n",
       "      <td>41500</td>\n",
       "    </tr>\n",
       "    <tr>\n",
       "      <th>1903</th>\n",
       "      <td>77400.0</td>\n",
       "      <td>35200.0</td>\n",
       "      <td>38200</td>\n",
       "    </tr>\n",
       "    <tr>\n",
       "      <th>1904</th>\n",
       "      <td>36300.0</td>\n",
       "      <td>59400.0</td>\n",
       "      <td>40600</td>\n",
       "    </tr>\n",
       "    <tr>\n",
       "      <th>1905</th>\n",
       "      <td>20600.0</td>\n",
       "      <td>41700.0</td>\n",
       "      <td>39800</td>\n",
       "    </tr>\n",
       "    <tr>\n",
       "      <th>1906</th>\n",
       "      <td>18100.0</td>\n",
       "      <td>19000.0</td>\n",
       "      <td>38600</td>\n",
       "    </tr>\n",
       "    <tr>\n",
       "      <th>1907</th>\n",
       "      <td>21400.0</td>\n",
       "      <td>13000.0</td>\n",
       "      <td>42300</td>\n",
       "    </tr>\n",
       "    <tr>\n",
       "      <th>1908</th>\n",
       "      <td>22000.0</td>\n",
       "      <td>8300.0</td>\n",
       "      <td>44500</td>\n",
       "    </tr>\n",
       "    <tr>\n",
       "      <th>1909</th>\n",
       "      <td>25400.0</td>\n",
       "      <td>9100.0</td>\n",
       "      <td>42100</td>\n",
       "    </tr>\n",
       "    <tr>\n",
       "      <th>1910</th>\n",
       "      <td>27100.0</td>\n",
       "      <td>7400.0</td>\n",
       "      <td>46000</td>\n",
       "    </tr>\n",
       "    <tr>\n",
       "      <th>1911</th>\n",
       "      <td>40300.0</td>\n",
       "      <td>8000.0</td>\n",
       "      <td>46800</td>\n",
       "    </tr>\n",
       "    <tr>\n",
       "      <th>1912</th>\n",
       "      <td>57000.0</td>\n",
       "      <td>12300.0</td>\n",
       "      <td>43800</td>\n",
       "    </tr>\n",
       "    <tr>\n",
       "      <th>1913</th>\n",
       "      <td>76600.0</td>\n",
       "      <td>19500.0</td>\n",
       "      <td>40900</td>\n",
       "    </tr>\n",
       "    <tr>\n",
       "      <th>1914</th>\n",
       "      <td>52300.0</td>\n",
       "      <td>45700.0</td>\n",
       "      <td>39400</td>\n",
       "    </tr>\n",
       "    <tr>\n",
       "      <th>1915</th>\n",
       "      <td>19500.0</td>\n",
       "      <td>51100.0</td>\n",
       "      <td>39000</td>\n",
       "    </tr>\n",
       "    <tr>\n",
       "      <th>1916</th>\n",
       "      <td>11200.0</td>\n",
       "      <td>29700.0</td>\n",
       "      <td>36700</td>\n",
       "    </tr>\n",
       "    <tr>\n",
       "      <th>1917</th>\n",
       "      <td>7600.0</td>\n",
       "      <td>15800.0</td>\n",
       "      <td>41800</td>\n",
       "    </tr>\n",
       "    <tr>\n",
       "      <th>1918</th>\n",
       "      <td>14600.0</td>\n",
       "      <td>9700.0</td>\n",
       "      <td>43300</td>\n",
       "    </tr>\n",
       "    <tr>\n",
       "      <th>1919</th>\n",
       "      <td>16200.0</td>\n",
       "      <td>10100.0</td>\n",
       "      <td>41300</td>\n",
       "    </tr>\n",
       "    <tr>\n",
       "      <th>1920</th>\n",
       "      <td>24700.0</td>\n",
       "      <td>8600.0</td>\n",
       "      <td>47300</td>\n",
       "    </tr>\n",
       "  </tbody>\n",
       "</table>\n",
       "</div>"
      ],
      "text/plain": [
       "           hare     lynx  carrot\n",
       "# year                          \n",
       "1900    30000.0   4000.0   48300\n",
       "1901    47200.0   6100.0   48200\n",
       "1902    70200.0   9800.0   41500\n",
       "1903    77400.0  35200.0   38200\n",
       "1904    36300.0  59400.0   40600\n",
       "1905    20600.0  41700.0   39800\n",
       "1906    18100.0  19000.0   38600\n",
       "1907    21400.0  13000.0   42300\n",
       "1908    22000.0   8300.0   44500\n",
       "1909    25400.0   9100.0   42100\n",
       "1910    27100.0   7400.0   46000\n",
       "1911    40300.0   8000.0   46800\n",
       "1912    57000.0  12300.0   43800\n",
       "1913    76600.0  19500.0   40900\n",
       "1914    52300.0  45700.0   39400\n",
       "1915    19500.0  51100.0   39000\n",
       "1916    11200.0  29700.0   36700\n",
       "1917     7600.0  15800.0   41800\n",
       "1918    14600.0   9700.0   43300\n",
       "1919    16200.0  10100.0   41300\n",
       "1920    24700.0   8600.0   47300"
      ]
     },
     "execution_count": 2,
     "metadata": {},
     "output_type": "execute_result"
    }
   ],
   "source": [
    "data_pd = pd.read_csv('http://scipy-lectures.org/_downloads/populations.txt', sep = '\\t', index_col = '# year')\n",
    "data_pd"
   ]
  },
  {
   "cell_type": "markdown",
   "id": "866a1c6a-a6a8-4eb3-b280-7e8dafbd741a",
   "metadata": {},
   "source": [
    "W.1 The mean and std of the populations of each species for the years in the period."
   ]
  },
  {
   "cell_type": "code",
   "execution_count": 3,
   "id": "79a493a7-6ce0-4c0c-9fb5-167514ef0895",
   "metadata": {},
   "outputs": [
    {
     "name": "stdout",
     "output_type": "stream",
     "text": [
      "hare      34080.952381\n",
      "lynx      20166.666667\n",
      "carrot    42400.000000\n",
      "dtype: float64\n"
     ]
    }
   ],
   "source": [
    "mean_values = data_pd[['hare', 'lynx', 'carrot']].mean()\n",
    "print(mean_values)"
   ]
  },
  {
   "cell_type": "code",
   "execution_count": 4,
   "id": "feac6cb4-7861-4652-b855-704bd868b91e",
   "metadata": {},
   "outputs": [
    {
     "name": "stdout",
     "output_type": "stream",
     "text": [
      "hare      21413.981859\n",
      "lynx      16655.999920\n",
      "carrot     3404.555771\n",
      "dtype: float64\n"
     ]
    }
   ],
   "source": [
    "std_values = data_pd[['hare', 'lynx', 'carrot']].std()\n",
    "print(std_values)"
   ]
  },
  {
   "cell_type": "markdown",
   "id": "d517f6a8-0150-4180-aadd-3c02c0284ad3",
   "metadata": {},
   "source": [
    "W.2 Which year each species had the largest population."
   ]
  },
  {
   "cell_type": "code",
   "execution_count": 8,
   "id": "d6fb003d-e9d9-48e4-8be4-7aa193c4b51a",
   "metadata": {},
   "outputs": [],
   "source": [
    "#importing the data file \n",
    "data_nt = np.loadtxt('http://scipy-lectures.org/_downloads/populations.txt')"
   ]
  },
  {
   "cell_type": "code",
   "execution_count": 10,
   "id": "a104322e-ec03-4489-8388-f9e3c0c55fe2",
   "metadata": {},
   "outputs": [
    {
     "data": {
      "text/plain": [
       "array([[ 1900., 30000.,  4000., 48300.],\n",
       "       [ 1901., 47200.,  6100., 48200.],\n",
       "       [ 1902., 70200.,  9800., 41500.],\n",
       "       [ 1903., 77400., 35200., 38200.],\n",
       "       [ 1904., 36300., 59400., 40600.],\n",
       "       [ 1905., 20600., 41700., 39800.],\n",
       "       [ 1906., 18100., 19000., 38600.],\n",
       "       [ 1907., 21400., 13000., 42300.],\n",
       "       [ 1908., 22000.,  8300., 44500.],\n",
       "       [ 1909., 25400.,  9100., 42100.],\n",
       "       [ 1910., 27100.,  7400., 46000.],\n",
       "       [ 1911., 40300.,  8000., 46800.],\n",
       "       [ 1912., 57000., 12300., 43800.],\n",
       "       [ 1913., 76600., 19500., 40900.],\n",
       "       [ 1914., 52300., 45700., 39400.],\n",
       "       [ 1915., 19500., 51100., 39000.],\n",
       "       [ 1916., 11200., 29700., 36700.],\n",
       "       [ 1917.,  7600., 15800., 41800.],\n",
       "       [ 1918., 14600.,  9700., 43300.],\n",
       "       [ 1919., 16200., 10100., 41300.],\n",
       "       [ 1920., 24700.,  8600., 47300.]])"
      ]
     },
     "execution_count": 10,
     "metadata": {},
     "output_type": "execute_result"
    }
   ],
   "source": [
    "data_nt"
   ]
  },
  {
   "cell_type": "code",
   "execution_count": 12,
   "id": "89d0f86b-e97b-4770-9eed-757568351c90",
   "metadata": {},
   "outputs": [],
   "source": [
    "#subset an array for each of the columns\n",
    "hare = data_nt[:,1]\n",
    "lynx = data_nt[:,2]\n",
    "carrots = data_nt[:,3]\n",
    "years = data_nt[:,0]"
   ]
  },
  {
   "cell_type": "code",
   "execution_count": 22,
   "id": "df4e52e4-e65b-4285-b582-bb031f946186",
   "metadata": {},
   "outputs": [
    {
     "data": {
      "text/plain": [
       "77400.0"
      ]
     },
     "execution_count": 22,
     "metadata": {},
     "output_type": "execute_result"
    }
   ],
   "source": [
    "#where is the max\n",
    "np.max(hare)"
   ]
  },
  {
   "cell_type": "code",
   "execution_count": 23,
   "id": "3c778733-9a32-429f-a792-71fcd9b40720",
   "metadata": {},
   "outputs": [
    {
     "data": {
      "text/plain": [
       "48300.0"
      ]
     },
     "execution_count": 23,
     "metadata": {},
     "output_type": "execute_result"
    }
   ],
   "source": [
    "np.max(carrots)"
   ]
  },
  {
   "cell_type": "code",
   "execution_count": 24,
   "id": "5205f391-3f07-4bc1-bb28-1e487ff2ee9b",
   "metadata": {},
   "outputs": [
    {
     "data": {
      "text/plain": [
       "59400.0"
      ]
     },
     "execution_count": 24,
     "metadata": {},
     "output_type": "execute_result"
    }
   ],
   "source": [
    "np.max(lynx)"
   ]
  },
  {
   "cell_type": "code",
   "execution_count": 25,
   "id": "713ed472-91a0-4a9c-80ff-8f377d4c6f11",
   "metadata": {},
   "outputs": [
    {
     "data": {
      "text/plain": [
       "(array([3], dtype=int64),)"
      ]
     },
     "execution_count": 25,
     "metadata": {},
     "output_type": "execute_result"
    }
   ],
   "source": [
    "#determine the index value for where max hare population is \n",
    "np.where(hare == 77400)"
   ]
  },
  {
   "cell_type": "code",
   "execution_count": 32,
   "id": "9da0579c-54a2-4c22-91a7-3bcaf4c0ca26",
   "metadata": {},
   "outputs": [
    {
     "data": {
      "text/plain": [
       "1903.0"
      ]
     },
     "execution_count": 32,
     "metadata": {},
     "output_type": "execute_result"
    }
   ],
   "source": [
    "#Year of max HARE \n",
    "years[3]"
   ]
  },
  {
   "cell_type": "code",
   "execution_count": 33,
   "id": "1308c21c-7b15-40c4-af9e-0f1f82bbdfae",
   "metadata": {},
   "outputs": [
    {
     "data": {
      "text/plain": [
       "(array([0], dtype=int64),)"
      ]
     },
     "execution_count": 33,
     "metadata": {},
     "output_type": "execute_result"
    }
   ],
   "source": [
    "#determine the index value for where max carrots population is \n",
    "np.where(carrots == 48300)"
   ]
  },
  {
   "cell_type": "code",
   "execution_count": 34,
   "id": "7ac6dbcc-1583-4540-adb5-432b2797668c",
   "metadata": {},
   "outputs": [
    {
     "data": {
      "text/plain": [
       "1900.0"
      ]
     },
     "execution_count": 34,
     "metadata": {},
     "output_type": "execute_result"
    }
   ],
   "source": [
    "#Year of max Carrots \n",
    "years[0]"
   ]
  },
  {
   "cell_type": "code",
   "execution_count": 35,
   "id": "c4bb7a19-92da-4b47-bc60-e896432c0f2d",
   "metadata": {},
   "outputs": [
    {
     "data": {
      "text/plain": [
       "(array([4], dtype=int64),)"
      ]
     },
     "execution_count": 35,
     "metadata": {},
     "output_type": "execute_result"
    }
   ],
   "source": [
    "#determine the index value for where max lynx population is \n",
    "np.where(lynx == 59400)"
   ]
  },
  {
   "cell_type": "code",
   "execution_count": 36,
   "id": "3dc14807-c4af-4cda-9a69-c5e11e97bf28",
   "metadata": {},
   "outputs": [
    {
     "data": {
      "text/plain": [
       "1904.0"
      ]
     },
     "execution_count": 36,
     "metadata": {},
     "output_type": "execute_result"
    }
   ],
   "source": [
    "#Year of max lynx \n",
    "years[4]"
   ]
  },
  {
   "cell_type": "code",
   "execution_count": 38,
   "id": "892a76de-8df0-44de-af87-be1bce18973a",
   "metadata": {},
   "outputs": [
    {
     "data": {
      "text/plain": [
       "array([[30000.,  4000., 48300.],\n",
       "       [47200.,  6100., 48200.],\n",
       "       [70200.,  9800., 41500.],\n",
       "       [77400., 35200., 38200.],\n",
       "       [36300., 59400., 40600.],\n",
       "       [20600., 41700., 39800.],\n",
       "       [18100., 19000., 38600.],\n",
       "       [21400., 13000., 42300.],\n",
       "       [22000.,  8300., 44500.],\n",
       "       [25400.,  9100., 42100.],\n",
       "       [27100.,  7400., 46000.],\n",
       "       [40300.,  8000., 46800.],\n",
       "       [57000., 12300., 43800.],\n",
       "       [76600., 19500., 40900.],\n",
       "       [52300., 45700., 39400.],\n",
       "       [19500., 51100., 39000.],\n",
       "       [11200., 29700., 36700.],\n",
       "       [ 7600., 15800., 41800.],\n",
       "       [14600.,  9700., 43300.],\n",
       "       [16200., 10100., 41300.],\n",
       "       [24700.,  8600., 47300.]])"
      ]
     },
     "execution_count": 38,
     "metadata": {},
     "output_type": "execute_result"
    }
   ],
   "source": [
    "#create pop_array which excludes years data \n",
    "Pop_array = data_nt[:,1:4]\n",
    "Pop_array"
   ]
  },
  {
   "cell_type": "code",
   "execution_count": 40,
   "id": "39c6d213-12b4-4798-bff1-efaaff6e6020",
   "metadata": {},
   "outputs": [
    {
     "data": {
      "text/plain": [
       "array([[1, 0, 2],\n",
       "       [1, 0, 2],\n",
       "       [1, 2, 0],\n",
       "       [1, 2, 0],\n",
       "       [0, 2, 1],\n",
       "       [0, 2, 1],\n",
       "       [0, 1, 2],\n",
       "       [1, 0, 2],\n",
       "       [1, 0, 2],\n",
       "       [1, 0, 2],\n",
       "       [1, 0, 2],\n",
       "       [1, 0, 2],\n",
       "       [1, 2, 0],\n",
       "       [1, 2, 0],\n",
       "       [2, 1, 0],\n",
       "       [0, 2, 1],\n",
       "       [0, 1, 2],\n",
       "       [0, 1, 2],\n",
       "       [1, 0, 2],\n",
       "       [1, 0, 2],\n",
       "       [1, 0, 2]], dtype=int64)"
      ]
     },
     "execution_count": 40,
     "metadata": {},
     "output_type": "execute_result"
    }
   ],
   "source": [
    "np.argsort(Pop_array)"
   ]
  },
  {
   "cell_type": "code",
   "execution_count": 41,
   "id": "3e26e3d2-9d95-4c5d-9e23-22f08727a080",
   "metadata": {},
   "outputs": [],
   "source": [
    "max_species = np.argmax(Pop_array, axis = 1)"
   ]
  },
  {
   "cell_type": "code",
   "execution_count": 42,
   "id": "9c642d63-ce2c-4582-97b6-9555f3fb17b5",
   "metadata": {},
   "outputs": [],
   "source": [
    "species = np.array(['Hare', 'Lynx', 'Carrot'])\n",
    "max_species1= species[max_species]"
   ]
  },
  {
   "cell_type": "code",
   "execution_count": 43,
   "id": "88947648-102f-4cf6-a041-f0e0afc2bfd2",
   "metadata": {},
   "outputs": [],
   "source": [
    "maxpop_years= np.column_stack((years,max_species1))"
   ]
  },
  {
   "cell_type": "code",
   "execution_count": 44,
   "id": "86f6e7a2-34e6-4d62-b425-f14bb7f11db7",
   "metadata": {
    "scrolled": true
   },
   "outputs": [
    {
     "data": {
      "text/plain": [
       "array([['1900.0', 'Carrot'],\n",
       "       ['1901.0', 'Carrot'],\n",
       "       ['1902.0', 'Hare'],\n",
       "       ['1903.0', 'Hare'],\n",
       "       ['1904.0', 'Lynx'],\n",
       "       ['1905.0', 'Lynx'],\n",
       "       ['1906.0', 'Carrot'],\n",
       "       ['1907.0', 'Carrot'],\n",
       "       ['1908.0', 'Carrot'],\n",
       "       ['1909.0', 'Carrot'],\n",
       "       ['1910.0', 'Carrot'],\n",
       "       ['1911.0', 'Carrot'],\n",
       "       ['1912.0', 'Hare'],\n",
       "       ['1913.0', 'Hare'],\n",
       "       ['1914.0', 'Hare'],\n",
       "       ['1915.0', 'Lynx'],\n",
       "       ['1916.0', 'Carrot'],\n",
       "       ['1917.0', 'Carrot'],\n",
       "       ['1918.0', 'Carrot'],\n",
       "       ['1919.0', 'Carrot'],\n",
       "       ['1920.0', 'Carrot']], dtype='<U32')"
      ]
     },
     "execution_count": 44,
     "metadata": {},
     "output_type": "execute_result"
    }
   ],
   "source": [
    "maxpop_years"
   ]
  },
  {
   "cell_type": "markdown",
   "id": "following-detective",
   "metadata": {},
   "source": [
    "# Lecture 4.1"
   ]
  },
  {
   "cell_type": "markdown",
   "id": "fatty-period",
   "metadata": {},
   "source": [
    "Agenda:\n",
    "\n",
    "- Checking in after the hurricane, how is everyone doing?\n",
    "- Coding questions\n",
    "- Tabs in python\n",
    "\n",
    "Some relevant coding humor: https://www.youtube.com/watch?v=JfEIkkDkrmE"
   ]
  },
  {
   "cell_type": "markdown",
   "id": "b35d93e4-7938-4a08-b3b3-e02070bc8323",
   "metadata": {},
   "source": [
    "Let's go over some of the examples here: https://scipy-lectures.org/intro/language/control_flow.html"
   ]
  },
  {
   "cell_type": "code",
   "execution_count": 13,
   "id": "5d7a078f-a636-4ba1-a3ed-0b744e641000",
   "metadata": {},
   "outputs": [
    {
     "data": {
      "text/plain": [
       "array([1, 2, 3])"
      ]
     },
     "execution_count": 13,
     "metadata": {},
     "output_type": "execute_result"
    }
   ],
   "source": [
    "x = np.array([1,2,3])\n",
    "x"
   ]
  },
  {
   "cell_type": "code",
   "execution_count": 15,
   "id": "graduate-relay",
   "metadata": {},
   "outputs": [
    {
     "name": "stdout",
     "output_type": "stream",
     "text": [
      "Hello\n"
     ]
    }
   ],
   "source": [
    "# if statement\n",
    "\n",
    "if (x[1] == 3):\n",
    "    print('yes') # there is a tab before the print statement\n",
    "    \n",
    "print('Hello')    # this is not part of the if statement\n"
   ]
  },
  {
   "cell_type": "code",
   "execution_count": 16,
   "id": "documented-district",
   "metadata": {},
   "outputs": [
    {
     "name": "stdout",
     "output_type": "stream",
     "text": [
      "yes\n"
     ]
    }
   ],
   "source": [
    "if x[0] ==5:\n",
    "    print('yes')\n",
    "elif x[0] ==1:\n",
    "    print('yes')\n",
    "else:\n",
    "    print('end of the program')"
   ]
  },
  {
   "cell_type": "code",
   "execution_count": 17,
   "id": "bbc68500-339e-40bb-9986-6d80c338cb12",
   "metadata": {},
   "outputs": [
    {
     "name": "stdout",
     "output_type": "stream",
     "text": [
      "end of the program\n"
     ]
    }
   ],
   "source": [
    "if x[0] ==5:\n",
    "    print('yes')\n",
    "elif x[0] ==10:\n",
    "    print('yes')\n",
    "else:\n",
    "    print('end of the program')"
   ]
  },
  {
   "cell_type": "code",
   "execution_count": null,
   "id": "international-halifax",
   "metadata": {},
   "outputs": [],
   "source": [
    "y = np.array([4,7,6])\n",
    "y"
   ]
  },
  {
   "cell_type": "code",
   "execution_count": null,
   "id": "velvet-citation",
   "metadata": {},
   "outputs": [],
   "source": [
    "if (y[-1] > 7):\n",
    "    print(\"Excellent\")\n",
    "\n",
    "print('Bogus')"
   ]
  },
  {
   "cell_type": "markdown",
   "id": "widespread-attention",
   "metadata": {},
   "source": [
    "# Lab 4.1"
   ]
  },
  {
   "cell_type": "markdown",
   "id": "freelance-property",
   "metadata": {},
   "source": [
    "**E.1** Complete intermediate python chapter 3: Logic, Control Flow and Filtering\n",
    "\n",
    "Note that the tutorials here have similar material for your needs:\n",
    "https://github.com/chsharrison/Sci_comp_F24/blob/main/Course_materials/resources.md"
   ]
  },
  {
   "cell_type": "code",
   "execution_count": null,
   "id": "floating-observation",
   "metadata": {},
   "outputs": [],
   "source": []
  },
  {
   "cell_type": "markdown",
   "id": "prescribed-shooting",
   "metadata": {},
   "source": [
    "**E.2** Make notes for yourself on all of the progamming tecniques and commands you learned in the datacamp chapter above, including examples, comments and explainitory text. You can do this here or in a separate notebook that you link to here. Basically, you are making a cheat sheet for yourself."
   ]
  },
  {
   "cell_type": "code",
   "execution_count": 46,
   "id": "invisible-gather",
   "metadata": {},
   "outputs": [
    {
     "data": {
      "text/plain": [
       "array([ True, False,  True])"
      ]
     },
     "execution_count": 46,
     "metadata": {},
     "output_type": "execute_result"
    }
   ],
   "source": [
    "#Comparing arrays \n",
    "array_1 = np.array([18,15,25])\n",
    "\n",
    "array_1>16 #this returns True for the numbers that ARE greater than 13"
   ]
  },
  {
   "cell_type": "code",
   "execution_count": 47,
   "id": "64c73c10-74d8-4402-b172-f0ab900d212d",
   "metadata": {},
   "outputs": [
    {
     "data": {
      "text/plain": [
       "array([ True, False,  True])"
      ]
     },
     "execution_count": 47,
     "metadata": {},
     "output_type": "execute_result"
    }
   ],
   "source": [
    "#comparing two arrays \n",
    "array_2 = np.array([20,13,30])\n",
    "\n",
    "array_2>array_1 #returns True for where array 2 is greater than array 1"
   ]
  },
  {
   "cell_type": "code",
   "execution_count": 49,
   "id": "cc9a5370-0a62-45fa-b6d0-be0f1cbb8daf",
   "metadata": {},
   "outputs": [
    {
     "data": {
      "text/plain": [
       "array([False,  True, False])"
      ]
     },
     "execution_count": 49,
     "metadata": {},
     "output_type": "execute_result"
    }
   ],
   "source": [
    "np.logical_and(array_1>1, array_1>array_2)"
   ]
  },
  {
   "cell_type": "code",
   "execution_count": 50,
   "id": "5ab7da8e-695f-4a5f-bb07-961245ff5766",
   "metadata": {},
   "outputs": [
    {
     "data": {
      "text/plain": [
       "True"
      ]
     },
     "execution_count": 50,
     "metadata": {},
     "output_type": "execute_result"
    }
   ],
   "source": [
    "array_1[1]>12 and array_1[1]>array_2[1]"
   ]
  },
  {
   "cell_type": "markdown",
   "id": "crude-checkout",
   "metadata": {},
   "source": [
    "**E.3** Exercise 1 on https://www.practicepython.org"
   ]
  },
  {
   "cell_type": "code",
   "execution_count": 52,
   "id": "a70b7757-7937-484f-a584-207741ba2084",
   "metadata": {},
   "outputs": [
    {
     "name": "stdin",
     "output_type": "stream",
     "text": [
      "Give me your name:   Fahmida\n"
     ]
    },
    {
     "name": "stdout",
     "output_type": "stream",
     "text": [
      "Your name is Fahmida\n"
     ]
    }
   ],
   "source": [
    "name = input(\"Give me your name:  \")\n",
    "print(\"Your name is \" + name)"
   ]
  },
  {
   "cell_type": "code",
   "execution_count": 53,
   "id": "b6330684-b5b1-4b24-baeb-5fa4b05d5e72",
   "metadata": {},
   "outputs": [
    {
     "name": "stdin",
     "output_type": "stream",
     "text": [
      "Fahmida, what is your age? 32\n"
     ]
    }
   ],
   "source": [
    "age = input(name + (\", what is your age?\"))"
   ]
  },
  {
   "cell_type": "markdown",
   "id": "infectious-renewal",
   "metadata": {},
   "source": [
    "**E.4** Exercise 2 on https://www.practicepython.org"
   ]
  },
  {
   "cell_type": "code",
   "execution_count": 54,
   "id": "narrow-relief",
   "metadata": {},
   "outputs": [
    {
     "name": "stdin",
     "output_type": "stream",
     "text": [
      "Hi! Input a number: 14\n"
     ]
    }
   ],
   "source": [
    "#input a number \n",
    "num = input(\"Hi! Input a number:\")"
   ]
  },
  {
   "cell_type": "code",
   "execution_count": 56,
   "id": "8fb47ff1-5564-45ff-9dc7-98652c7e1685",
   "metadata": {},
   "outputs": [
    {
     "name": "stdout",
     "output_type": "stream",
     "text": [
      "Your number is even\n"
     ]
    }
   ],
   "source": [
    "#even or odd\n",
    "if int(num)%2 == 0:\n",
    "    print(\"Your number is even\")\n",
    "else:\n",
    "    print(\"Your number is odd\")"
   ]
  },
  {
   "cell_type": "code",
   "execution_count": 58,
   "id": "6db43ccb-3cb2-47f1-83ce-b4eccc384acb",
   "metadata": {},
   "outputs": [
    {
     "name": "stdout",
     "output_type": "stream",
     "text": [
      "Your number is even\n"
     ]
    }
   ],
   "source": [
    "#If the number is a multiple of 4, print out a different message.\n",
    "if int(num)%4 == 0:\n",
    "    print(\"your number is multiple of 4 and it is even\")\n",
    "elif int(num)%2 == 0:\n",
    "        print(\"Your number is even\")\n",
    "else: \n",
    "    print(\"Your number is odd\")"
   ]
  },
  {
   "cell_type": "markdown",
   "id": "prescription-physiology",
   "metadata": {},
   "source": [
    "Don't forget to do some practicing of what you have been learning, including material from previous labs"
   ]
  },
  {
   "cell_type": "markdown",
   "id": "average-count",
   "metadata": {},
   "source": [
    "**You did it!**"
   ]
  },
  {
   "cell_type": "code",
   "execution_count": null,
   "id": "pressed-burning",
   "metadata": {},
   "outputs": [],
   "source": []
  }
 ],
 "metadata": {
  "kernelspec": {
   "display_name": "Python 3 (ipykernel)",
   "language": "python",
   "name": "python3"
  },
  "language_info": {
   "codemirror_mode": {
    "name": "ipython",
    "version": 3
   },
   "file_extension": ".py",
   "mimetype": "text/x-python",
   "name": "python",
   "nbconvert_exporter": "python",
   "pygments_lexer": "ipython3",
   "version": "3.12.4"
  }
 },
 "nbformat": 4,
 "nbformat_minor": 5
}
