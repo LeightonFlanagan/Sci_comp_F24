{
 "cells": [
  {
   "cell_type": "markdown",
   "id": "short-malawi",
   "metadata": {},
   "source": [
    "Name Fahmida Akhter"
   ]
  },
  {
   "cell_type": "markdown",
   "id": "frozen-floating",
   "metadata": {},
   "source": [
    "Labpartner(s)"
   ]
  },
  {
   "cell_type": "code",
   "execution_count": 1,
   "id": "classified-reunion",
   "metadata": {},
   "outputs": [],
   "source": [
    "# import statements go here\n",
    "import numpy as np\n"
   ]
  },
  {
   "cell_type": "markdown",
   "id": "necessary-oklahoma",
   "metadata": {},
   "source": [
    "# Class 4.2"
   ]
  },
  {
   "cell_type": "markdown",
   "id": "solid-silicon",
   "metadata": {},
   "source": [
    "## Today you all are going to do the lecture! It's Present Your Plots Day."
   ]
  },
  {
   "cell_type": "markdown",
   "id": "professional-simpson",
   "metadata": {},
   "source": [
    "# Warmups 4.2"
   ]
  },
  {
   "cell_type": "markdown",
   "id": "imposed-baghdad",
   "metadata": {},
   "source": [
    "### Warmup is short today so we have time to focus on your plots."
   ]
  },
  {
   "cell_type": "markdown",
   "id": "commercial-abraham",
   "metadata": {},
   "source": [
    "**W.1** Do Exercise 3 in practice python https://www.practicepython.org"
   ]
  },
  {
   "cell_type": "markdown",
   "id": "c020bb66-5c5e-4fed-a300-61dafd2be708",
   "metadata": {},
   "source": [
    "Make a list and write a program that prints out all the elements of the list that are less than 5."
   ]
  },
  {
   "cell_type": "code",
   "execution_count": 2,
   "id": "4aca4e82-2de2-4793-99d0-633288ee8991",
   "metadata": {},
   "outputs": [],
   "source": [
    "  a = [1, 1, 2, 3, 5, 8, 13, 21, 34, 55, 89]"
   ]
  },
  {
   "cell_type": "code",
   "execution_count": 3,
   "id": "4ca893a3-4f62-4ac8-a10f-d96e91369537",
   "metadata": {},
   "outputs": [
    {
     "name": "stdout",
     "output_type": "stream",
     "text": [
      "1\n",
      "1\n",
      "2\n",
      "3\n"
     ]
    }
   ],
   "source": [
    "for num in a:\n",
    "    if num <5:\n",
    "        print(num)"
   ]
  },
  {
   "cell_type": "markdown",
   "id": "automated-immune",
   "metadata": {},
   "source": [
    "## Agenda:\n",
    "\n",
    "- Questions about class or coding\n",
    "- Show us your plots! Explain your data set, what you did with it, and what your learned, including any difficulties you had and how you solved them."
   ]
  },
  {
   "cell_type": "code",
   "execution_count": null,
   "id": "perfect-suite",
   "metadata": {},
   "outputs": [],
   "source": []
  },
  {
   "cell_type": "markdown",
   "id": "conventional-external",
   "metadata": {},
   "source": [
    "# Lab 4.2"
   ]
  },
  {
   "cell_type": "markdown",
   "id": "married-prior",
   "metadata": {},
   "source": [
    "**E.1** Complete intermediate python chapter 4: Loops\n",
    "\n",
    "Note that loops often are very confusing for new programmers, but they are very powerful and super-useful. You will be seing them again.\n",
    "\n",
    "Note that the tutorials here have similar material for your needs:\n",
    "https://github.com/chsharrison/Sci_comp_F24/blob/main/Course_materials/resources.md"
   ]
  },
  {
   "cell_type": "markdown",
   "id": "color-difference",
   "metadata": {},
   "source": [
    "**E.2** Make notes for yourself on all of the progamming tecniques and commands you learned in the datacamp chapter above, including examples, comments and explainitory text. You might use the resources linked above for supplementary examples. You can do this here or in a separate notebook that you link to here. Basically, you are making a cheat sheet for yourself."
   ]
  },
  {
   "cell_type": "code",
   "execution_count": 4,
   "id": "infectious-battery",
   "metadata": {},
   "outputs": [
    {
     "name": "stdout",
     "output_type": "stream",
     "text": [
      "F\n",
      "A\n",
      "M\n",
      "I\n",
      "L\n",
      "Y\n"
     ]
    }
   ],
   "source": [
    "#favorite code\n",
    "for c in \"family\":\n",
    "    print(c.capitalize())\n"
   ]
  },
  {
   "cell_type": "code",
   "execution_count": null,
   "id": "f433171e-5e85-4171-932c-dc7dfb6f93dd",
   "metadata": {},
   "outputs": [],
   "source": [
    "#to apply loops in numpy array:\n",
    "for x in my_array:\n",
    "    print(x)\n",
    "\n",
    "#for 2d numpy array \n",
    "\n",
    "for x in np.nditer(my_array):\n",
    "    print(my_array)\n"
   ]
  },
  {
   "cell_type": "code",
   "execution_count": 9,
   "id": "d75870f1-f4f2-4927-94de-08406b27bbab",
   "metadata": {},
   "outputs": [],
   "source": [
    "#for csv filr \n",
    "import pandas as pd\n",
    "cars = {\n",
    "    \"Country\": [\"usa\", \"canada\", \"germany\", \"australia\", \"france\"],\n",
    "    \"Cars_per_Capita\": [809, 665, 731, 749, 699],\n",
    "    \"Drives_Right\": [False, True, True, False, True]\n",
    "}\n",
    "\n",
    "cars = pd.DataFrame(cars)\n"
   ]
  },
  {
   "cell_type": "code",
   "execution_count": 10,
   "id": "1d571093-8c77-4ec6-8fe0-20bc7ed4401f",
   "metadata": {},
   "outputs": [
    {
     "name": "stdout",
     "output_type": "stream",
     "text": [
      "0\n",
      "Country              usa\n",
      "Cars_per_Capita      809\n",
      "Drives_Right       False\n",
      "Name: 0, dtype: object\n",
      "1\n",
      "Country            canada\n",
      "Cars_per_Capita       665\n",
      "Drives_Right         True\n",
      "Name: 1, dtype: object\n",
      "2\n",
      "Country            germany\n",
      "Cars_per_Capita        731\n",
      "Drives_Right          True\n",
      "Name: 2, dtype: object\n",
      "3\n",
      "Country            australia\n",
      "Cars_per_Capita          749\n",
      "Drives_Right           False\n",
      "Name: 3, dtype: object\n",
      "4\n",
      "Country            france\n",
      "Cars_per_Capita       699\n",
      "Drives_Right         True\n",
      "Name: 4, dtype: object\n"
     ]
    }
   ],
   "source": [
    "# Iterate over rows of cars\n",
    "for lab, row in cars.iterrows():\n",
    "    print(lab)\n",
    "    print(str(row))"
   ]
  },
  {
   "cell_type": "code",
   "execution_count": 12,
   "id": "999cd2ed-dc00-409a-a8f5-72bee4f603ac",
   "metadata": {},
   "outputs": [
    {
     "name": "stdout",
     "output_type": "stream",
     "text": [
      "     Country  Cars_per_Capita  Drives_Right    COUNTRY\n",
      "0        usa              809         False        USA\n",
      "1     canada              665          True     CANADA\n",
      "2    germany              731          True    GERMANY\n",
      "3  australia              749         False  AUSTRALIA\n",
      "4     france              699          True     FRANCE\n"
     ]
    }
   ],
   "source": [
    "# Code for loop that adds COUNTRY column\n",
    "for lab, row in cars.iterrows():\n",
    "    cars.loc[lab, \"COUNTRY\"]=row[\"Country\"].upper()\n",
    "\n",
    "# Print cars\n",
    "print(cars)"
   ]
  },
  {
   "cell_type": "code",
   "execution_count": 14,
   "id": "9195572d-a4c3-46e5-bd33-6098ebd78956",
   "metadata": {},
   "outputs": [
    {
     "name": "stdout",
     "output_type": "stream",
     "text": [
      "     Country  Cars_per_Capita  Drives_Right    COUNTRY\n",
      "0        usa              809         False        USA\n",
      "1     canada              665          True     CANADA\n",
      "2    germany              731          True    GERMANY\n",
      "3  australia              749         False  AUSTRALIA\n",
      "4     france              699          True     FRANCE\n"
     ]
    }
   ],
   "source": [
    "#another way \n",
    "for lab, row in cars.iterrows() :\n",
    "    cars[\"COUNTRY\"] = cars[\"Country\"].apply(str.upper)\n",
    "\n",
    "print(cars)\n"
   ]
  },
  {
   "cell_type": "markdown",
   "id": "colored-alfred",
   "metadata": {},
   "source": [
    "**E.3-6** Exercises 4-7 in practice python (see link above)"
   ]
  },
  {
   "cell_type": "markdown",
   "id": "2a1c0739-4067-4a72-9a8f-6da933e80b25",
   "metadata": {},
   "source": [
    "Exercise 4: Create a program that asks the user for a number and then prints out a list of all the divisors of that number. (If you don’t know what a divisor is, it is a number that divides evenly into another number. For example, 13 is a divisor of 26 because 26 / 13 has no remainder)."
   ]
  },
  {
   "cell_type": "code",
   "execution_count": 15,
   "id": "c8a97ae8-6159-4611-9572-9adab2868875",
   "metadata": {},
   "outputs": [
    {
     "name": "stdin",
     "output_type": "stream",
     "text": [
      "Hi! Please input a number to divide:   50\n"
     ]
    }
   ],
   "source": [
    "number = int(input(\"Hi! Please input a number to divide:  \"))"
   ]
  },
  {
   "cell_type": "code",
   "execution_count": 16,
   "id": "d3e1f322-17a4-4f99-a2f8-3721dc460b8e",
   "metadata": {},
   "outputs": [
    {
     "name": "stdout",
     "output_type": "stream",
     "text": [
      "1\n",
      "2\n",
      "5\n",
      "10\n",
      "25\n",
      "50\n"
     ]
    }
   ],
   "source": [
    "divisors = list(range(1, number + 1))\n",
    "\n",
    "for i in divisors:\n",
    "    if number % i == 0:\n",
    "        print(i)"
   ]
  },
  {
   "cell_type": "markdown",
   "id": "9acd9ded-ec24-4b2e-b2c4-5b21c4c4bedf",
   "metadata": {},
   "source": [
    "Exercise 5: write a program that returns a list that contains only the elements that are common between the lists (without duplicates). Make sure your program works on two lists of different sizes."
   ]
  },
  {
   "cell_type": "code",
   "execution_count": 18,
   "id": "9c52c459-f2e7-4da8-8421-e1e60a054c4b",
   "metadata": {},
   "outputs": [],
   "source": [
    "#make 2 lists \n",
    "a = [1, 1, 2, 2, 5, 5, 10, 12, 13, 25, 34, 56, 90, 100, 102, 122]\n",
    "b = [1, 2, 3, 4, 5, 6, 7, 8, 9, 10, 11, 12, 13]"
   ]
  },
  {
   "cell_type": "code",
   "execution_count": 19,
   "id": "7929ffc3-f65a-400b-990f-f84ab2a34156",
   "metadata": {},
   "outputs": [],
   "source": [
    "c=[]"
   ]
  },
  {
   "cell_type": "code",
   "execution_count": 20,
   "id": "42a1708f-914f-4e67-96c5-772d01a4d96f",
   "metadata": {},
   "outputs": [],
   "source": [
    "#loop \n",
    "for number in a:#goes through numbers in list a\n",
    "    if number in b:#if the number is in list b\n",
    "        if number not in c:#and if the number is not in list c <- this removes duplicates\n",
    "            c.append(number)#then we can add the number to list c"
   ]
  },
  {
   "cell_type": "code",
   "execution_count": 21,
   "id": "4de0b44e-f391-40ad-a672-11086974a24e",
   "metadata": {},
   "outputs": [
    {
     "data": {
      "text/plain": [
       "[1, 2, 5, 10, 12, 13]"
      ]
     },
     "execution_count": 21,
     "metadata": {},
     "output_type": "execute_result"
    }
   ],
   "source": [
    "#print list c to check \n",
    "c"
   ]
  },
  {
   "cell_type": "markdown",
   "id": "45bd7b81-435d-46e9-a31b-1ebabb8c7afe",
   "metadata": {},
   "source": [
    "Exercise 6: Ask the user for a string and print out whether this string is a palindrome or not. (A palindrome is a string that reads the same forwards and backwards)."
   ]
  },
  {
   "cell_type": "code",
   "execution_count": 22,
   "id": "451464d3-3244-465a-96a2-919786e8c0aa",
   "metadata": {},
   "outputs": [
    {
     "name": "stdin",
     "output_type": "stream",
     "text": [
      "Hi! Please enter a word:  rotator\n"
     ]
    }
   ],
   "source": [
    "strr = input(\"Hi! Please enter a word: \")"
   ]
  },
  {
   "cell_type": "code",
   "execution_count": 23,
   "id": "3154eba3-7889-4ff6-bcdb-cfbf356b797e",
   "metadata": {},
   "outputs": [
    {
     "data": {
      "text/plain": [
       "'rotator'"
      ]
     },
     "execution_count": 23,
     "metadata": {},
     "output_type": "execute_result"
    }
   ],
   "source": [
    "#reverses the word \n",
    "rvs = strr[::-1]\n",
    "rvs"
   ]
  },
  {
   "cell_type": "code",
   "execution_count": 24,
   "id": "c2376706-9816-46cc-9b7c-ed8a903aa101",
   "metadata": {},
   "outputs": [
    {
     "name": "stdout",
     "output_type": "stream",
     "text": [
      "Your word is a palindrome\n"
     ]
    }
   ],
   "source": [
    "if strr == rvs:\n",
    "    print(\"Your word is a palindrome\")\n",
    "else:\n",
    "    print(\"Your word is NOT a palindrome\")"
   ]
  },
  {
   "cell_type": "markdown",
   "id": "f34080b8-ffa5-4428-a606-d767b3ceee19",
   "metadata": {},
   "source": [
    "Exercise 7:Let’s say I give you a list saved in a variable: a = [1, 4, 9, 16, 25, 36, 49, 64, 81, 100]. Write one line of Python that takes this list a and makes a new list that has only the even elements of this list in it."
   ]
  },
  {
   "cell_type": "code",
   "execution_count": 31,
   "id": "256e7259-ad9e-4bc8-a172-4b1e61a09567",
   "metadata": {},
   "outputs": [],
   "source": [
    "#making the array \n",
    "a= [1,4,9,16,25,36,49,64,81,100]"
   ]
  },
  {
   "cell_type": "code",
   "execution_count": 32,
   "id": "c640eef3-63d4-4802-b041-e714b04fbd01",
   "metadata": {},
   "outputs": [],
   "source": [
    "#create an empty arrray \n",
    "a2=[]"
   ]
  },
  {
   "cell_type": "code",
   "execution_count": 33,
   "id": "333fa1b0-09f9-492b-b6e8-d3729e4488cd",
   "metadata": {},
   "outputs": [
    {
     "name": "stdout",
     "output_type": "stream",
     "text": [
      "[4, 16, 36, 64, 100]\n"
     ]
    }
   ],
   "source": [
    "for value in a:\n",
    "    if value %2 == 0:\n",
    "        a2.append(value)\n",
    "        \n",
    "print(a2)"
   ]
  },
  {
   "cell_type": "code",
   "execution_count": 34,
   "id": "458474ac-1e7f-4ce5-a6a0-d3b16fb7eb01",
   "metadata": {},
   "outputs": [
    {
     "data": {
      "text/plain": [
       "[4, 16, 36, 64, 100]"
      ]
     },
     "execution_count": 34,
     "metadata": {},
     "output_type": "execute_result"
    }
   ],
   "source": [
    "#solution - prints out even list \n",
    "b = [value for value in a if value % 2 == 0]\n",
    "b"
   ]
  },
  {
   "cell_type": "code",
   "execution_count": null,
   "id": "52f9a4fe-83cb-468f-9ebd-d466f72d6054",
   "metadata": {},
   "outputs": [],
   "source": []
  }
 ],
 "metadata": {
  "kernelspec": {
   "display_name": "Python 3 (ipykernel)",
   "language": "python",
   "name": "python3"
  },
  "language_info": {
   "codemirror_mode": {
    "name": "ipython",
    "version": 3
   },
   "file_extension": ".py",
   "mimetype": "text/x-python",
   "name": "python",
   "nbconvert_exporter": "python",
   "pygments_lexer": "ipython3",
   "version": "3.12.4"
  }
 },
 "nbformat": 4,
 "nbformat_minor": 5
}
