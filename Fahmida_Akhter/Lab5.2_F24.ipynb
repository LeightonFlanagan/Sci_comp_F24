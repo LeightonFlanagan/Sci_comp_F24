{
 "cells": [
  {
   "cell_type": "markdown",
   "id": "existing-kelly",
   "metadata": {},
   "source": [
    "Name Fahmida Akhter"
   ]
  },
  {
   "cell_type": "markdown",
   "id": "functioning-current",
   "metadata": {},
   "source": [
    "Labpartner(s) Israt"
   ]
  },
  {
   "cell_type": "code",
   "execution_count": 6,
   "id": "republican-appearance",
   "metadata": {},
   "outputs": [],
   "source": [
    "#import statements go here\n",
    "import numpy as np\n"
   ]
  },
  {
   "cell_type": "markdown",
   "id": "rising-queue",
   "metadata": {},
   "source": [
    "# Class 5.2"
   ]
  },
  {
   "cell_type": "markdown",
   "id": "powerful-lyric",
   "metadata": {},
   "source": [
    "In this lab you will learn about functions, and apply this to your datasets. Next week we will have present your work day again, see below for details. Hopefully the material is building to the point where it is not all foriegn and you will feel a bit more confident."
   ]
  },
  {
   "cell_type": "markdown",
   "id": "contrary-communications",
   "metadata": {},
   "source": [
    "# Warmups 5.2"
   ]
  },
  {
   "cell_type": "markdown",
   "id": "e016e8c3-69ef-40f4-a99d-6f9c92044dab",
   "metadata": {},
   "source": [
    "Let's practice for loops and logical control"
   ]
  },
  {
   "cell_type": "markdown",
   "id": "critical-cooperation",
   "metadata": {},
   "source": [
    "**W.1** Complete practice python (practicepython.org) Exercise 4:\n",
    "\n",
    "Create a program that asks the user for a number and then prints out a list of all the divisors of that number. (If you don’t know what a divisor is, it is a number that divides evenly into another number. For example, 13 is a divisor of 26 because 26 / 13 has no remainder.)"
   ]
  },
  {
   "cell_type": "code",
   "execution_count": 1,
   "id": "stone-majority",
   "metadata": {},
   "outputs": [
    {
     "name": "stdin",
     "output_type": "stream",
     "text": [
      "Please Provide a Number:  50\n"
     ]
    }
   ],
   "source": [
    "#Create a program that asks the user for a number\n",
    "\n",
    "number = int(input(\"Please Provide a Number: \"))"
   ]
  },
  {
   "cell_type": "code",
   "execution_count": 2,
   "id": "0eaa4af8-d7cc-4b95-bcf6-8cd7133960e3",
   "metadata": {},
   "outputs": [
    {
     "name": "stdout",
     "output_type": "stream",
     "text": [
      "1\n",
      "2\n",
      "5\n",
      "10\n",
      "25\n",
      "50\n"
     ]
    }
   ],
   "source": [
    "#prints out a list of all the divisors of that number\n",
    "\n",
    "values = list(range(1, number +1))\n",
    "\n",
    "for i in values:\n",
    "    if number % i ==0:\n",
    "        print(i)"
   ]
  },
  {
   "cell_type": "markdown",
   "id": "3712c86b-643c-4778-b6be-cea2d71727f2",
   "metadata": {},
   "source": [
    "**W.2** Complete practice python Exercise 5: \n",
    "\n",
    "Take two lists, say for example these two:\n",
    "\n",
    "  a = [1, 1, 2, 3, 5, 8, 13, 21, 34, 55, 89]\n",
    "\n",
    "  b = [1, 2, 3, 4, 5, 6, 7, 8, 9, 10, 11, 12, 13]\n",
    "\n",
    "and write a program that returns a list that contains only the elements that are common between the lists (without duplicates). Make sure your program works on two lists of different sizes.\n",
    "\n",
    "Extras:\n",
    "\n",
    "Randomly generate two lists to test this\n",
    "\n",
    "Write this in one line of Python (don’t worry if you can’t figure this out at this point)"
   ]
  },
  {
   "cell_type": "code",
   "execution_count": 3,
   "id": "fdf675cc-c252-4981-be92-1db2f54150d5",
   "metadata": {},
   "outputs": [
    {
     "data": {
      "text/plain": [
       "{1, 2, 3, 5, 8, 13}"
      ]
     },
     "execution_count": 3,
     "metadata": {},
     "output_type": "execute_result"
    }
   ],
   "source": [
    "#lists\n",
    "a = [1, 1, 2, 3, 5, 8, 13, 21, 34, 55, 89]\n",
    "\n",
    "b = [1, 2, 3, 4, 5, 6, 7, 8, 9, 10, 11, 12, 13]\n",
    "\n",
    "set1 = set(a)\n",
    "set2 = set(b)\n",
    "\n",
    "set1.intersection(set2)"
   ]
  },
  {
   "cell_type": "code",
   "execution_count": 10,
   "id": "b21eb273-3ad3-46f0-b9a2-7e257a8d11ce",
   "metadata": {},
   "outputs": [
    {
     "data": {
      "text/plain": [
       "{10, 20, 30, 40}"
      ]
     },
     "execution_count": 10,
     "metadata": {},
     "output_type": "execute_result"
    }
   ],
   "source": [
    "#Randomly generate two lists to test this\n",
    "\n",
    "set(np.arange(5,50,5)).intersection(set(np.arange(10,50,10)))"
   ]
  },
  {
   "cell_type": "markdown",
   "id": "activated-arbitration",
   "metadata": {},
   "source": [
    "# Lecture 5.2\n",
    "\n",
    "### Agenda:\n",
    "\n",
    "- Questions\n",
    "- Functions!\n"
   ]
  },
  {
   "cell_type": "markdown",
   "id": "effective-career",
   "metadata": {},
   "source": [
    "### Questions"
   ]
  },
  {
   "cell_type": "code",
   "execution_count": null,
   "id": "suffering-selection",
   "metadata": {},
   "outputs": [],
   "source": []
  },
  {
   "cell_type": "markdown",
   "id": "photographic-injection",
   "metadata": {},
   "source": [
    "### Functions\n",
    "\n",
    "Functions are super-useful for doing repetative tasks. You have been using pre-defined functions constantly, when you define arrays, make a plot, or analyse data. Now you are going to learn to write your own.\n",
    "\n",
    "For more information on functions and documenting:\n",
    "- http://scipy-lectures.org/intro/language/functions.html?highlight=functions\n",
    "- https://realpython.com/documenting-python-code/\n",
    "\n",
    "\n",
    "Basic syntax:"
   ]
  },
  {
   "cell_type": "code",
   "execution_count": 11,
   "id": "absolute-canada",
   "metadata": {},
   "outputs": [],
   "source": [
    "# first you define the function\n",
    "\n",
    "def function_name():\n",
    "    # some code that does something\n",
    "    print('Inside the function')"
   ]
  },
  {
   "cell_type": "code",
   "execution_count": 12,
   "id": "unable-personal",
   "metadata": {},
   "outputs": [
    {
     "name": "stdout",
     "output_type": "stream",
     "text": [
      "Inside the function\n"
     ]
    }
   ],
   "source": [
    "# then you call the function\n",
    "function_name()"
   ]
  },
  {
   "cell_type": "markdown",
   "id": "about-voice",
   "metadata": {},
   "source": [
    "Note that defined funtions show up using whos"
   ]
  },
  {
   "cell_type": "code",
   "execution_count": 13,
   "id": "sound-intellectual",
   "metadata": {},
   "outputs": [
    {
     "name": "stdout",
     "output_type": "stream",
     "text": [
      "Variable          Type             Data/Info\n",
      "--------------------------------------------\n",
      "NamespaceMagics   MetaHasTraits    <class 'IPython.core.magi<...>mespace.NamespaceMagics'>\n",
      "a                 list             n=11\n",
      "b                 list             n=13\n",
      "function_name     function         <function function_name at 0x000002A626373B00>\n",
      "get_ipython       function         <function get_ipython at 0x000002A6206560C0>\n",
      "i                 int              50\n",
      "json              module           <module 'json' from 'C:\\\\<...>\\Lib\\\\json\\\\__init__.py'>\n",
      "np                module           <module 'numpy' from 'C:\\<...>ges\\\\numpy\\\\__init__.py'>\n",
      "number            int              50\n",
      "set1              set              {1, 2, 3, 34, 5, 8, 13, 21, 55, 89}\n",
      "set2              set              {1, 2, 3, 4, 5, 6, 7, 8, 9, 10, 11, 12, 13}\n",
      "sys               module           <module 'sys' (built-in)>\n",
      "values            list             n=50\n"
     ]
    }
   ],
   "source": [
    "whos"
   ]
  },
  {
   "cell_type": "markdown",
   "id": "standing-constant",
   "metadata": {},
   "source": [
    "That's a really useless function, let's make a better one."
   ]
  },
  {
   "cell_type": "code",
   "execution_count": 14,
   "id": "voluntary-particle",
   "metadata": {},
   "outputs": [],
   "source": [
    "# usually you want to pass a varible of some sort to the function to manipulate\n",
    "\n",
    "def circle_area(radius):\n",
    "    area = 3.14*radius**2\n",
    "    return area   # the return statement means that the function will return that variable"
   ]
  },
  {
   "cell_type": "code",
   "execution_count": 15,
   "id": "noble-right",
   "metadata": {},
   "outputs": [
    {
     "data": {
      "text/plain": [
       "78.5"
      ]
     },
     "execution_count": 15,
     "metadata": {},
     "output_type": "execute_result"
    }
   ],
   "source": [
    "circle_area(5)"
   ]
  },
  {
   "cell_type": "markdown",
   "id": "little-numbers",
   "metadata": {},
   "source": [
    "What happens if I don't add the required input?"
   ]
  },
  {
   "cell_type": "markdown",
   "id": "1110cb66-0565-4d43-a9fd-6020bf6e39cd",
   "metadata": {},
   "source": [
    "Answer: There will be an error. "
   ]
  },
  {
   "cell_type": "code",
   "execution_count": 16,
   "id": "isolated-turning",
   "metadata": {},
   "outputs": [
    {
     "ename": "TypeError",
     "evalue": "circle_area() missing 1 required positional argument: 'radius'",
     "output_type": "error",
     "traceback": [
      "\u001b[1;31m---------------------------------------------------------------------------\u001b[0m",
      "\u001b[1;31mTypeError\u001b[0m                                 Traceback (most recent call last)",
      "Cell \u001b[1;32mIn[16], line 1\u001b[0m\n\u001b[1;32m----> 1\u001b[0m circle_area()\n",
      "\u001b[1;31mTypeError\u001b[0m: circle_area() missing 1 required positional argument: 'radius'"
     ]
    }
   ],
   "source": [
    "circle_area()"
   ]
  },
  {
   "cell_type": "markdown",
   "id": "removed-black",
   "metadata": {},
   "source": [
    "What happens if I omit the return statement?"
   ]
  },
  {
   "cell_type": "markdown",
   "id": "2a078b73-20c5-4034-a901-ebeb129e6300",
   "metadata": {},
   "source": [
    "Answer: There will be no change if I omit the return statement. "
   ]
  },
  {
   "cell_type": "code",
   "execution_count": 17,
   "id": "traditional-drain",
   "metadata": {},
   "outputs": [],
   "source": [
    "def circle_area2(radius):\n",
    "    area = 3.14*radius**2"
   ]
  },
  {
   "cell_type": "code",
   "execution_count": 29,
   "id": "falling-committee",
   "metadata": {},
   "outputs": [],
   "source": [
    "circle_area2(5)"
   ]
  },
  {
   "cell_type": "markdown",
   "id": "retired-converter",
   "metadata": {},
   "source": [
    "How do I save the function output to a variable?"
   ]
  },
  {
   "cell_type": "markdown",
   "id": "b85f3e4c-794b-4a38-b809-6400768cc989",
   "metadata": {},
   "source": [
    "Answer: To save the output to a variable we need to write the function code equal to a variable. "
   ]
  },
  {
   "cell_type": "code",
   "execution_count": 30,
   "id": "8db11fdb-c22b-41ea-b8f4-cfbbd291d52e",
   "metadata": {},
   "outputs": [
    {
     "name": "stdout",
     "output_type": "stream",
     "text": [
      "None\n"
     ]
    }
   ],
   "source": [
    "x1 = circle_area2(5)\n",
    "print(x1)"
   ]
  },
  {
   "cell_type": "markdown",
   "id": "enabling-mainland",
   "metadata": {},
   "source": [
    "Does the area variable inside the function exist outside of it?"
   ]
  },
  {
   "cell_type": "markdown",
   "id": "a0fc9ac2-386e-4f21-a710-0baf00d5b87c",
   "metadata": {},
   "source": [
    "Answer: No, the area variable does not exist outside of it. "
   ]
  },
  {
   "cell_type": "code",
   "execution_count": 31,
   "id": "informative-wallpaper",
   "metadata": {},
   "outputs": [
    {
     "name": "stdout",
     "output_type": "stream",
     "text": [
      "Variable          Type             Data/Info\n",
      "--------------------------------------------\n",
      "NamespaceMagics   MetaHasTraits    <class 'IPython.core.magi<...>mespace.NamespaceMagics'>\n",
      "a                 list             n=11\n",
      "b                 list             n=13\n",
      "circle_area       function         <function circle_area at 0x000002A6261E4860>\n",
      "circle_area2      function         <function circle_area2 at 0x000002A627384720>\n",
      "circle_area4      function         <function circle_area4 at 0x000002A627385A80>\n",
      "circle_area5      function         <function circle_area5 at 0x000002A6274251C0>\n",
      "function_name     function         <function function_name at 0x000002A626373B00>\n",
      "get_ipython       function         <function get_ipython at 0x000002A6206560C0>\n",
      "i                 int              50\n",
      "json              module           <module 'json' from 'C:\\\\<...>\\Lib\\\\json\\\\__init__.py'>\n",
      "np                module           <module 'numpy' from 'C:\\<...>ges\\\\numpy\\\\__init__.py'>\n",
      "number            int              50\n",
      "set1              set              {1, 2, 3, 34, 5, 8, 13, 21, 55, 89}\n",
      "set2              set              {1, 2, 3, 4, 5, 6, 7, 8, 9, 10, 11, 12, 13}\n",
      "sys               module           <module 'sys' (built-in)>\n",
      "values            list             n=50\n",
      "x1                NoneType         None\n"
     ]
    }
   ],
   "source": [
    "whos"
   ]
  },
  {
   "cell_type": "code",
   "execution_count": 32,
   "id": "productive-ethiopia",
   "metadata": {},
   "outputs": [
    {
     "ename": "NameError",
     "evalue": "name 'area' is not defined",
     "output_type": "error",
     "traceback": [
      "\u001b[1;31m---------------------------------------------------------------------------\u001b[0m",
      "\u001b[1;31mNameError\u001b[0m                                 Traceback (most recent call last)",
      "Cell \u001b[1;32mIn[32], line 1\u001b[0m\n\u001b[1;32m----> 1\u001b[0m area\n",
      "\u001b[1;31mNameError\u001b[0m: name 'area' is not defined"
     ]
    }
   ],
   "source": [
    "area"
   ]
  },
  {
   "cell_type": "markdown",
   "id": "arctic-vinyl",
   "metadata": {},
   "source": [
    "Note I also could have made my function like this:"
   ]
  },
  {
   "cell_type": "code",
   "execution_count": 21,
   "id": "visible-annex",
   "metadata": {},
   "outputs": [],
   "source": [
    "def circle_area4(radius):\n",
    "    return 3.14*radius**2"
   ]
  },
  {
   "cell_type": "code",
   "execution_count": 22,
   "id": "narrow-forward",
   "metadata": {},
   "outputs": [
    {
     "data": {
      "text/plain": [
       "78.5"
      ]
     },
     "execution_count": 22,
     "metadata": {},
     "output_type": "execute_result"
    }
   ],
   "source": [
    "circle_area4(5)"
   ]
  },
  {
   "cell_type": "code",
   "execution_count": 23,
   "id": "plain-exchange",
   "metadata": {},
   "outputs": [
    {
     "data": {
      "text/plain": [
       "78.5"
      ]
     },
     "execution_count": 23,
     "metadata": {},
     "output_type": "execute_result"
    }
   ],
   "source": [
    "circle_area4(-5)"
   ]
  },
  {
   "cell_type": "markdown",
   "id": "neither-forty",
   "metadata": {},
   "source": [
    "### Parsing for bad input"
   ]
  },
  {
   "cell_type": "markdown",
   "id": "short-springfield",
   "metadata": {},
   "source": [
    "Note my above function will work even if the input is negative, which is not reasonable. So I probably want to include a statement that checks if the input is weird."
   ]
  },
  {
   "cell_type": "code",
   "execution_count": 34,
   "id": "round-shirt",
   "metadata": {},
   "outputs": [],
   "source": [
    "def circle_area5(radius):\n",
    "    # put in an if statement to handle bad inputs\n",
    "    if radius < 0:\n",
    "        return \"This is not reasonable.\"\n",
    "    else:\n",
    "        return 3.14*radius**2"
   ]
  },
  {
   "cell_type": "code",
   "execution_count": 35,
   "id": "151f3365-5f72-4913-8634-75cd7dd21ad2",
   "metadata": {},
   "outputs": [
    {
     "data": {
      "text/plain": [
       "'This is not reasonable.'"
      ]
     },
     "execution_count": 35,
     "metadata": {},
     "output_type": "execute_result"
    }
   ],
   "source": [
    "circle_area5(-1)"
   ]
  },
  {
   "cell_type": "markdown",
   "id": "virgin-tragedy",
   "metadata": {},
   "source": [
    "### Using packages within functions"
   ]
  },
  {
   "cell_type": "markdown",
   "id": "initial-public",
   "metadata": {},
   "source": [
    "We can also have import statements within a function, but this can slow the function down if the package is not loaded already"
   ]
  },
  {
   "cell_type": "code",
   "execution_count": 36,
   "id": "educated-saver",
   "metadata": {},
   "outputs": [],
   "source": [
    "def circle_area6(radius):\n",
    "    if radius <= 0:\n",
    "        print('Error: radius needs to be positive')\n",
    "        return # exit the function\n",
    "    \n",
    "    import numpy as np\n",
    "    \n",
    "    return np.pi*radius**2"
   ]
  },
  {
   "cell_type": "code",
   "execution_count": 37,
   "id": "chronic-bookmark",
   "metadata": {},
   "outputs": [
    {
     "data": {
      "text/plain": [
       "28.274333882308138"
      ]
     },
     "execution_count": 37,
     "metadata": {},
     "output_type": "execute_result"
    }
   ],
   "source": [
    "circle_area6(3) # note this is a much more accurate"
   ]
  },
  {
   "cell_type": "markdown",
   "id": "ethical-forest",
   "metadata": {},
   "source": [
    "We can have the function inputs have pre-defined default values, so that if you don't pass a variable it will use the default"
   ]
  },
  {
   "cell_type": "code",
   "execution_count": 38,
   "id": "brave-jamaica",
   "metadata": {},
   "outputs": [],
   "source": [
    "def circle_area7(radius = 3):\n",
    "    import numpy as np #import numpy so we can use the more exact value of pi\n",
    "    \n",
    "    return np.pi*radius**2"
   ]
  },
  {
   "cell_type": "code",
   "execution_count": 39,
   "id": "mounted-independence",
   "metadata": {},
   "outputs": [
    {
     "data": {
      "text/plain": [
       "28.26"
      ]
     },
     "execution_count": 39,
     "metadata": {},
     "output_type": "execute_result"
    }
   ],
   "source": [
    "circle_area(3)"
   ]
  },
  {
   "cell_type": "code",
   "execution_count": 40,
   "id": "dense-review",
   "metadata": {},
   "outputs": [
    {
     "data": {
      "text/plain": [
       "28.274333882308138"
      ]
     },
     "execution_count": 40,
     "metadata": {},
     "output_type": "execute_result"
    }
   ],
   "source": [
    "circle_area7() # no argument given, so uses radius = 3 by default"
   ]
  },
  {
   "cell_type": "markdown",
   "id": "renewable-twelve",
   "metadata": {},
   "source": [
    "Is numpy imported outside the function? Let's check"
   ]
  },
  {
   "cell_type": "code",
   "execution_count": 41,
   "id": "hidden-minutes",
   "metadata": {},
   "outputs": [
    {
     "data": {
      "text/plain": [
       "3.141592653589793"
      ]
     },
     "execution_count": 41,
     "metadata": {},
     "output_type": "execute_result"
    }
   ],
   "source": [
    "np.pi"
   ]
  },
  {
   "cell_type": "code",
   "execution_count": 42,
   "id": "hazardous-florist",
   "metadata": {},
   "outputs": [
    {
     "name": "stdout",
     "output_type": "stream",
     "text": [
      "Variable          Type             Data/Info\n",
      "--------------------------------------------\n",
      "NamespaceMagics   MetaHasTraits    <class 'IPython.core.magi<...>mespace.NamespaceMagics'>\n",
      "a                 list             n=11\n",
      "b                 list             n=13\n",
      "circle_area       function         <function circle_area at 0x000002A6261E4860>\n",
      "circle_area2      function         <function circle_area2 at 0x000002A627384720>\n",
      "circle_area4      function         <function circle_area4 at 0x000002A627385A80>\n",
      "circle_area5      function         <function circle_area5 at 0x000002A627424180>\n",
      "circle_area6      function         <function circle_area6 at 0x000002A627426520>\n",
      "circle_area7      function         <function circle_area7 at 0x000002A6274271A0>\n",
      "function_name     function         <function function_name at 0x000002A626373B00>\n",
      "get_ipython       function         <function get_ipython at 0x000002A6206560C0>\n",
      "i                 int              50\n",
      "json              module           <module 'json' from 'C:\\\\<...>\\Lib\\\\json\\\\__init__.py'>\n",
      "np                module           <module 'numpy' from 'C:\\<...>ges\\\\numpy\\\\__init__.py'>\n",
      "number            int              50\n",
      "set1              set              {1, 2, 3, 34, 5, 8, 13, 21, 55, 89}\n",
      "set2              set              {1, 2, 3, 4, 5, 6, 7, 8, 9, 10, 11, 12, 13}\n",
      "sys               module           <module 'sys' (built-in)>\n",
      "values            list             n=50\n",
      "x1                NoneType         None\n"
     ]
    }
   ],
   "source": [
    "whos"
   ]
  },
  {
   "cell_type": "code",
   "execution_count": 43,
   "id": "published-invalid",
   "metadata": {},
   "outputs": [
    {
     "ename": "TypeError",
     "evalue": "unsupported operand type(s) for ** or pow(): 'list' and 'int'",
     "output_type": "error",
     "traceback": [
      "\u001b[1;31m---------------------------------------------------------------------------\u001b[0m",
      "\u001b[1;31mTypeError\u001b[0m                                 Traceback (most recent call last)",
      "Cell \u001b[1;32mIn[43], line 3\u001b[0m\n\u001b[0;32m      1\u001b[0m \u001b[38;5;66;03m# can our function handle lists? Let's check\u001b[39;00m\n\u001b[0;32m      2\u001b[0m r \u001b[38;5;241m=\u001b[39m [\u001b[38;5;241m1\u001b[39m,\u001b[38;5;241m2\u001b[39m,\u001b[38;5;241m3\u001b[39m]\n\u001b[1;32m----> 3\u001b[0m circle_area7(r)\n",
      "Cell \u001b[1;32mIn[38], line 4\u001b[0m, in \u001b[0;36mcircle_area7\u001b[1;34m(radius)\u001b[0m\n\u001b[0;32m      1\u001b[0m \u001b[38;5;28;01mdef\u001b[39;00m \u001b[38;5;21mcircle_area7\u001b[39m(radius \u001b[38;5;241m=\u001b[39m \u001b[38;5;241m3\u001b[39m):\n\u001b[0;32m      2\u001b[0m     \u001b[38;5;28;01mimport\u001b[39;00m \u001b[38;5;21;01mnumpy\u001b[39;00m \u001b[38;5;28;01mas\u001b[39;00m \u001b[38;5;21;01mnp\u001b[39;00m \u001b[38;5;66;03m#import numpy so we can use the more exact value of pi\u001b[39;00m\n\u001b[1;32m----> 4\u001b[0m     \u001b[38;5;28;01mreturn\u001b[39;00m np\u001b[38;5;241m.\u001b[39mpi\u001b[38;5;241m*\u001b[39mradius\u001b[38;5;241m*\u001b[39m\u001b[38;5;241m*\u001b[39m\u001b[38;5;241m2\u001b[39m\n",
      "\u001b[1;31mTypeError\u001b[0m: unsupported operand type(s) for ** or pow(): 'list' and 'int'"
     ]
    }
   ],
   "source": [
    "# can our function handle lists? Let's check\n",
    "r = [1,2,3]\n",
    "circle_area7(r)"
   ]
  },
  {
   "cell_type": "code",
   "execution_count": 44,
   "id": "offshore-syria",
   "metadata": {},
   "outputs": [
    {
     "data": {
      "text/plain": [
       "array([ 3.14159265, 12.56637061, 28.27433388])"
      ]
     },
     "execution_count": 44,
     "metadata": {},
     "output_type": "execute_result"
    }
   ],
   "source": [
    "# can our function handle arrays?\n",
    "\n",
    "rnp = np.array(r)\n",
    "circle_area7(rnp)\n",
    "\n",
    "# what type of variable did the function return?"
   ]
  },
  {
   "cell_type": "markdown",
   "id": "0acb1eff-f728-4115-92f4-e13be6307a6b",
   "metadata": {},
   "source": [
    "Answer: Yes our function can handle arrays. \n",
    "\n",
    "It returns an array. "
   ]
  },
  {
   "cell_type": "markdown",
   "id": "regional-trouble",
   "metadata": {},
   "source": [
    "### It is very useful to add some documentation string info to your functions"
   ]
  },
  {
   "cell_type": "code",
   "execution_count": 45,
   "id": "short-chrome",
   "metadata": {},
   "outputs": [],
   "source": [
    "def circle_area7(radius = 3):\n",
    "    \"\"\" Returns the area of a circle given the radius. \n",
    "    Assumes the radius is 3 if not supplied. \"\"\"\n",
    "    import numpy as np\n",
    "    \n",
    "    return np.pi*radius**2"
   ]
  },
  {
   "cell_type": "markdown",
   "id": "unsigned-sport",
   "metadata": {},
   "source": [
    "Now my note in the triple double quotes shows up as a docstring"
   ]
  },
  {
   "cell_type": "code",
   "execution_count": 46,
   "id": "consistent-peace",
   "metadata": {},
   "outputs": [
    {
     "data": {
      "text/plain": [
       "\u001b[1;31mType:\u001b[0m        float\n",
       "\u001b[1;31mString form:\u001b[0m 3.141592653589793\n",
       "\u001b[1;31mDocstring:\u001b[0m   Convert a string or number to a floating point number, if possible."
      ]
     },
     "metadata": {},
     "output_type": "display_data"
    }
   ],
   "source": [
    "np.pi?"
   ]
  },
  {
   "cell_type": "code",
   "execution_count": 47,
   "id": "interstate-coverage",
   "metadata": {},
   "outputs": [
    {
     "data": {
      "text/plain": [
       "\u001b[1;31mSignature:\u001b[0m \u001b[0mcircle_area7\u001b[0m\u001b[1;33m(\u001b[0m\u001b[0mradius\u001b[0m\u001b[1;33m=\u001b[0m\u001b[1;36m3\u001b[0m\u001b[1;33m)\u001b[0m\u001b[1;33m\u001b[0m\u001b[1;33m\u001b[0m\u001b[0m\n",
       "\u001b[1;31mDocstring:\u001b[0m\n",
       "Returns the area of a circle given the radius. \n",
       "Assumes the radius is 3 if not supplied. \n",
       "\u001b[1;31mFile:\u001b[0m      c:\\users\\fahmi\\appdata\\local\\temp\\ipykernel_17424\\967664329.py\n",
       "\u001b[1;31mType:\u001b[0m      function"
      ]
     },
     "metadata": {},
     "output_type": "display_data"
    }
   ],
   "source": [
    "circle_area7?"
   ]
  },
  {
   "cell_type": "markdown",
   "id": "assisted-assurance",
   "metadata": {},
   "source": [
    "There is a standard practice in programming to write out the Parameters (inputs/arguments) and Returns (output) in the docstring. Let's look a this for a predefined function and then make if for our simple function."
   ]
  },
  {
   "cell_type": "code",
   "execution_count": 48,
   "id": "quarterly-spring",
   "metadata": {},
   "outputs": [
    {
     "data": {
      "text/plain": [
       "\u001b[1;31mSignature:\u001b[0m      \n",
       "\u001b[0mnp\u001b[0m\u001b[1;33m.\u001b[0m\u001b[0mmax\u001b[0m\u001b[1;33m(\u001b[0m\u001b[1;33m\n",
       "\u001b[0m    \u001b[0ma\u001b[0m\u001b[1;33m,\u001b[0m\u001b[1;33m\n",
       "\u001b[0m    \u001b[0maxis\u001b[0m\u001b[1;33m=\u001b[0m\u001b[1;32mNone\u001b[0m\u001b[1;33m,\u001b[0m\u001b[1;33m\n",
       "\u001b[0m    \u001b[0mout\u001b[0m\u001b[1;33m=\u001b[0m\u001b[1;32mNone\u001b[0m\u001b[1;33m,\u001b[0m\u001b[1;33m\n",
       "\u001b[0m    \u001b[0mkeepdims\u001b[0m\u001b[1;33m=\u001b[0m\u001b[1;33m<\u001b[0m\u001b[0mno\u001b[0m \u001b[0mvalue\u001b[0m\u001b[1;33m>\u001b[0m\u001b[1;33m,\u001b[0m\u001b[1;33m\n",
       "\u001b[0m    \u001b[0minitial\u001b[0m\u001b[1;33m=\u001b[0m\u001b[1;33m<\u001b[0m\u001b[0mno\u001b[0m \u001b[0mvalue\u001b[0m\u001b[1;33m>\u001b[0m\u001b[1;33m,\u001b[0m\u001b[1;33m\n",
       "\u001b[0m    \u001b[0mwhere\u001b[0m\u001b[1;33m=\u001b[0m\u001b[1;33m<\u001b[0m\u001b[0mno\u001b[0m \u001b[0mvalue\u001b[0m\u001b[1;33m>\u001b[0m\u001b[1;33m,\u001b[0m\u001b[1;33m\n",
       "\u001b[0m\u001b[1;33m)\u001b[0m\u001b[1;33m\u001b[0m\u001b[1;33m\u001b[0m\u001b[0m\n",
       "\u001b[1;31mCall signature:\u001b[0m  \u001b[0mnp\u001b[0m\u001b[1;33m.\u001b[0m\u001b[0mmax\u001b[0m\u001b[1;33m(\u001b[0m\u001b[1;33m*\u001b[0m\u001b[0margs\u001b[0m\u001b[1;33m,\u001b[0m \u001b[1;33m**\u001b[0m\u001b[0mkwargs\u001b[0m\u001b[1;33m)\u001b[0m\u001b[1;33m\u001b[0m\u001b[1;33m\u001b[0m\u001b[0m\n",
       "\u001b[1;31mType:\u001b[0m            _ArrayFunctionDispatcher\n",
       "\u001b[1;31mString form:\u001b[0m     <function max at 0x000002A6235505E0>\n",
       "\u001b[1;31mFile:\u001b[0m            c:\\users\\fahmi\\anaconda3\\envs\\ocs4001\\lib\\site-packages\\numpy\\core\\fromnumeric.py\n",
       "\u001b[1;31mDocstring:\u001b[0m      \n",
       "Return the maximum of an array or maximum along an axis.\n",
       "\n",
       "Parameters\n",
       "----------\n",
       "a : array_like\n",
       "    Input data.\n",
       "axis : None or int or tuple of ints, optional\n",
       "    Axis or axes along which to operate.  By default, flattened input is\n",
       "    used.\n",
       "\n",
       "    .. versionadded:: 1.7.0\n",
       "\n",
       "    If this is a tuple of ints, the maximum is selected over multiple axes,\n",
       "    instead of a single axis or all the axes as before.\n",
       "out : ndarray, optional\n",
       "    Alternative output array in which to place the result.  Must\n",
       "    be of the same shape and buffer length as the expected output.\n",
       "    See :ref:`ufuncs-output-type` for more details.\n",
       "\n",
       "keepdims : bool, optional\n",
       "    If this is set to True, the axes which are reduced are left\n",
       "    in the result as dimensions with size one. With this option,\n",
       "    the result will broadcast correctly against the input array.\n",
       "\n",
       "    If the default value is passed, then `keepdims` will not be\n",
       "    passed through to the ``max`` method of sub-classes of\n",
       "    `ndarray`, however any non-default value will be.  If the\n",
       "    sub-class' method does not implement `keepdims` any\n",
       "    exceptions will be raised.\n",
       "\n",
       "initial : scalar, optional\n",
       "    The minimum value of an output element. Must be present to allow\n",
       "    computation on empty slice. See `~numpy.ufunc.reduce` for details.\n",
       "\n",
       "    .. versionadded:: 1.15.0\n",
       "\n",
       "where : array_like of bool, optional\n",
       "    Elements to compare for the maximum. See `~numpy.ufunc.reduce`\n",
       "    for details.\n",
       "\n",
       "    .. versionadded:: 1.17.0\n",
       "\n",
       "Returns\n",
       "-------\n",
       "max : ndarray or scalar\n",
       "    Maximum of `a`. If `axis` is None, the result is a scalar value.\n",
       "    If `axis` is an int, the result is an array of dimension\n",
       "    ``a.ndim - 1``. If `axis` is a tuple, the result is an array of \n",
       "    dimension ``a.ndim - len(axis)``.\n",
       "\n",
       "See Also\n",
       "--------\n",
       "amin :\n",
       "    The minimum value of an array along a given axis, propagating any NaNs.\n",
       "nanmax :\n",
       "    The maximum value of an array along a given axis, ignoring any NaNs.\n",
       "maximum :\n",
       "    Element-wise maximum of two arrays, propagating any NaNs.\n",
       "fmax :\n",
       "    Element-wise maximum of two arrays, ignoring any NaNs.\n",
       "argmax :\n",
       "    Return the indices of the maximum values.\n",
       "\n",
       "nanmin, minimum, fmin\n",
       "\n",
       "Notes\n",
       "-----\n",
       "NaN values are propagated, that is if at least one item is NaN, the\n",
       "corresponding max value will be NaN as well. To ignore NaN values\n",
       "(MATLAB behavior), please use nanmax.\n",
       "\n",
       "Don't use `~numpy.max` for element-wise comparison of 2 arrays; when\n",
       "``a.shape[0]`` is 2, ``maximum(a[0], a[1])`` is faster than\n",
       "``max(a, axis=0)``.\n",
       "\n",
       "Examples\n",
       "--------\n",
       ">>> a = np.arange(4).reshape((2,2))\n",
       ">>> a\n",
       "array([[0, 1],\n",
       "       [2, 3]])\n",
       ">>> np.max(a)           # Maximum of the flattened array\n",
       "3\n",
       ">>> np.max(a, axis=0)   # Maxima along the first axis\n",
       "array([2, 3])\n",
       ">>> np.max(a, axis=1)   # Maxima along the second axis\n",
       "array([1, 3])\n",
       ">>> np.max(a, where=[False, True], initial=-1, axis=0)\n",
       "array([-1,  3])\n",
       ">>> b = np.arange(5, dtype=float)\n",
       ">>> b[2] = np.NaN\n",
       ">>> np.max(b)\n",
       "nan\n",
       ">>> np.max(b, where=~np.isnan(b), initial=-1)\n",
       "4.0\n",
       ">>> np.nanmax(b)\n",
       "4.0\n",
       "\n",
       "You can use an initial value to compute the maximum of an empty slice, or\n",
       "to initialize it to a different value:\n",
       "\n",
       ">>> np.max([[-50], [10]], axis=-1, initial=0)\n",
       "array([ 0, 10])\n",
       "\n",
       "Notice that the initial value is used as one of the elements for which the\n",
       "maximum is determined, unlike for the default argument Python's max\n",
       "function, which is only used for empty iterables.\n",
       "\n",
       ">>> np.max([5], initial=6)\n",
       "6\n",
       ">>> max([5], default=6)\n",
       "5\n",
       "\u001b[1;31mClass docstring:\u001b[0m\n",
       "Class to wrap functions with checks for __array_function__ overrides.\n",
       "\n",
       "All arguments are required, and can only be passed by position.\n",
       "\n",
       "Parameters\n",
       "----------\n",
       "dispatcher : function or None\n",
       "    The dispatcher function that returns a single sequence-like object\n",
       "    of all arguments relevant.  It must have the same signature (except\n",
       "    the default values) as the actual implementation.\n",
       "    If ``None``, this is a ``like=`` dispatcher and the\n",
       "    ``_ArrayFunctionDispatcher`` must be called with ``like`` as the\n",
       "    first (additional and positional) argument.\n",
       "implementation : function\n",
       "    Function that implements the operation on NumPy arrays without\n",
       "    overrides.  Arguments passed calling the ``_ArrayFunctionDispatcher``\n",
       "    will be forwarded to this (and the ``dispatcher``) as if using\n",
       "    ``*args, **kwargs``.\n",
       "\n",
       "Attributes\n",
       "----------\n",
       "_implementation : function\n",
       "    The original implementation passed in."
      ]
     },
     "metadata": {},
     "output_type": "display_data"
    }
   ],
   "source": [
    "np.max?"
   ]
  },
  {
   "cell_type": "code",
   "execution_count": 49,
   "id": "looking-bubble",
   "metadata": {},
   "outputs": [],
   "source": [
    "def circle_area7(radius = 3):\n",
    "    \"\"\" Returns the area of a circle given the radius. \n",
    "    \n",
    "    Parameters\n",
    "    ----------\n",
    "    radius: array like, radius of the circle\n",
    "    Assumes the radius is 3 if not supplied.\n",
    "    \n",
    "    Returns\n",
    "    -------\n",
    "    area: ndarray or scalar\n",
    "    Returns the area for the given radii\n",
    "    \n",
    "    \"\"\"\n",
    "    \n",
    "    import numpy as np\n",
    "    \n",
    "    return np.pi*radius**2"
   ]
  },
  {
   "cell_type": "code",
   "execution_count": 50,
   "id": "educated-study",
   "metadata": {},
   "outputs": [
    {
     "data": {
      "text/plain": [
       "\u001b[1;31mSignature:\u001b[0m \u001b[0mcircle_area7\u001b[0m\u001b[1;33m(\u001b[0m\u001b[0mradius\u001b[0m\u001b[1;33m=\u001b[0m\u001b[1;36m3\u001b[0m\u001b[1;33m)\u001b[0m\u001b[1;33m\u001b[0m\u001b[1;33m\u001b[0m\u001b[0m\n",
       "\u001b[1;31mDocstring:\u001b[0m\n",
       "Returns the area of a circle given the radius. \n",
       "\n",
       "Parameters\n",
       "----------\n",
       "radius: array like, radius of the circle\n",
       "Assumes the radius is 3 if not supplied.\n",
       "\n",
       "Returns\n",
       "-------\n",
       "area: ndarray or scalar\n",
       "Returns the area for the given radii\n",
       "\u001b[1;31mFile:\u001b[0m      c:\\users\\fahmi\\appdata\\local\\temp\\ipykernel_17424\\1644116025.py\n",
       "\u001b[1;31mType:\u001b[0m      function"
      ]
     },
     "metadata": {},
     "output_type": "display_data"
    }
   ],
   "source": [
    "circle_area7?"
   ]
  },
  {
   "cell_type": "code",
   "execution_count": null,
   "id": "amended-marshall",
   "metadata": {},
   "outputs": [],
   "source": []
  },
  {
   "cell_type": "markdown",
   "id": "demanding-ghost",
   "metadata": {},
   "source": [
    "# Lab 5.2"
   ]
  },
  {
   "cell_type": "markdown",
   "id": "large-paradise",
   "metadata": {},
   "source": [
    "**E.1** Complete Introduction to Functions in Python Ch 1 (you can do Ch 2-3 if you are very keen, but this is not required)\n"
   ]
  },
  {
   "cell_type": "code",
   "execution_count": null,
   "id": "approximate-recall",
   "metadata": {},
   "outputs": [],
   "source": []
  },
  {
   "cell_type": "markdown",
   "id": "grateful-russia",
   "metadata": {},
   "source": [
    "**E.2** Make notes for yourself on progamming tecniques and commands you learned in the datacamp chapter above, including examples, comments and explainitory text. You can do this here or in a separate notebook that you link to here. Basically, you are making a cheat sheet for yourself."
   ]
  },
  {
   "cell_type": "code",
   "execution_count": 51,
   "id": "joined-reset",
   "metadata": {},
   "outputs": [
    {
     "name": "stdout",
     "output_type": "stream",
     "text": [
      "16\n"
     ]
    }
   ],
   "source": [
    "#writing fucntion\n",
    "def square():\n",
    "    value = 4**2\n",
    "    print(value)\n",
    "square()"
   ]
  },
  {
   "cell_type": "code",
   "execution_count": 52,
   "id": "51b42ada-76ad-4533-bcb4-b4984fd2cdaf",
   "metadata": {},
   "outputs": [
    {
     "data": {
      "text/plain": [
       "\u001b[1;31mSignature:\u001b[0m \u001b[0msquare\u001b[0m\u001b[1;33m(\u001b[0m\u001b[1;33m)\u001b[0m\u001b[1;33m\u001b[0m\u001b[1;33m\u001b[0m\u001b[0m\n",
       "\u001b[1;31mDocstring:\u001b[0m <no docstring>\n",
       "\u001b[1;31mFile:\u001b[0m      c:\\users\\fahmi\\appdata\\local\\temp\\ipykernel_17424\\3916111879.py\n",
       "\u001b[1;31mType:\u001b[0m      function"
      ]
     },
     "metadata": {},
     "output_type": "display_data"
    }
   ],
   "source": [
    "#check description of the function \n",
    "square?"
   ]
  },
  {
   "cell_type": "code",
   "execution_count": 53,
   "id": "58b704b9-241a-4be6-9c06-95b123c662eb",
   "metadata": {},
   "outputs": [
    {
     "name": "stdout",
     "output_type": "stream",
     "text": [
      "16\n"
     ]
    }
   ],
   "source": [
    "#add what the function does\n",
    "def square():\n",
    "    \"\"\"provides square of a value\"\"\"\n",
    "    value = 4**2\n",
    "    print(value)\n",
    "square()"
   ]
  },
  {
   "cell_type": "markdown",
   "id": "sudden-policy",
   "metadata": {},
   "source": [
    "### This week's project:\n",
    "\n",
    "**E.3** Write two functions that work on your dataset (you can use the same dataset you plotted previously or a different one). The first function will do some sort of manipulation (e.g., removing bad data, subsetting) or calculation/analysis, the second will be a plotting function. The idea here is that if you had another datafile that was similar, you could use the functions to do the programming tasks again easily. You will present these to the class next week, similar to how you presented your plots. \n",
    "\n",
    "Add 1-2 slides here: https://lsu.box.com/s/6qz51fijd4sc1ne175w3j7e5lxmk7x0l"
   ]
  },
  {
   "cell_type": "code",
   "execution_count": 54,
   "id": "b1b0cbfd-4f1e-4854-8578-abc249e51708",
   "metadata": {},
   "outputs": [
    {
     "data": {
      "text/html": [
       "<div>\n",
       "<style scoped>\n",
       "    .dataframe tbody tr th:only-of-type {\n",
       "        vertical-align: middle;\n",
       "    }\n",
       "\n",
       "    .dataframe tbody tr th {\n",
       "        vertical-align: top;\n",
       "    }\n",
       "\n",
       "    .dataframe thead th {\n",
       "        text-align: right;\n",
       "    }\n",
       "</style>\n",
       "<table border=\"1\" class=\"dataframe\">\n",
       "  <thead>\n",
       "    <tr style=\"text-align: right;\">\n",
       "      <th></th>\n",
       "      <th>Tract</th>\n",
       "      <th>Renter_Occupied_House</th>\n",
       "      <th>Owner_Occupied_House</th>\n",
       "      <th>Median_Income</th>\n",
       "      <th>Total_Population</th>\n",
       "      <th>Asian_Population</th>\n",
       "      <th>Black_Population</th>\n",
       "      <th>Hispanic_Population</th>\n",
       "      <th>White_Population</th>\n",
       "    </tr>\n",
       "  </thead>\n",
       "  <tbody>\n",
       "    <tr>\n",
       "      <th>0</th>\n",
       "      <td>Census Tract 277.01</td>\n",
       "      <td>685</td>\n",
       "      <td>884</td>\n",
       "      <td>27664</td>\n",
       "      <td>5414</td>\n",
       "      <td>0</td>\n",
       "      <td>5308</td>\n",
       "      <td>44</td>\n",
       "      <td>106</td>\n",
       "    </tr>\n",
       "    <tr>\n",
       "      <th>1</th>\n",
       "      <td>Census Tract 242.01</td>\n",
       "      <td>370</td>\n",
       "      <td>667</td>\n",
       "      <td>45854</td>\n",
       "      <td>2989</td>\n",
       "      <td>6</td>\n",
       "      <td>528</td>\n",
       "      <td>271</td>\n",
       "      <td>1994</td>\n",
       "    </tr>\n",
       "    <tr>\n",
       "      <th>2</th>\n",
       "      <td>Census Tract 282</td>\n",
       "      <td>598</td>\n",
       "      <td>1117</td>\n",
       "      <td>36961</td>\n",
       "      <td>4961</td>\n",
       "      <td>133</td>\n",
       "      <td>1264</td>\n",
       "      <td>995</td>\n",
       "      <td>2906</td>\n",
       "    </tr>\n",
       "    <tr>\n",
       "      <th>3</th>\n",
       "      <td>Census Tract 205.16</td>\n",
       "      <td>711</td>\n",
       "      <td>813</td>\n",
       "      <td>41232</td>\n",
       "      <td>4747</td>\n",
       "      <td>167</td>\n",
       "      <td>1695</td>\n",
       "      <td>1483</td>\n",
       "      <td>1825</td>\n",
       "    </tr>\n",
       "    <tr>\n",
       "      <th>4</th>\n",
       "      <td>Census Tract 218.04</td>\n",
       "      <td>644</td>\n",
       "      <td>37</td>\n",
       "      <td>37369</td>\n",
       "      <td>1980</td>\n",
       "      <td>0</td>\n",
       "      <td>526</td>\n",
       "      <td>661</td>\n",
       "      <td>1217</td>\n",
       "    </tr>\n",
       "  </tbody>\n",
       "</table>\n",
       "</div>"
      ],
      "text/plain": [
       "                 Tract  Renter_Occupied_House  Owner_Occupied_House  \\\n",
       "0  Census Tract 277.01                    685                   884   \n",
       "1  Census Tract 242.01                    370                   667   \n",
       "2     Census Tract 282                    598                  1117   \n",
       "3  Census Tract 205.16                    711                   813   \n",
       "4  Census Tract 218.04                    644                    37   \n",
       "\n",
       "   Median_Income  Total_Population  Asian_Population  Black_Population  \\\n",
       "0          27664              5414                 0              5308   \n",
       "1          45854              2989                 6               528   \n",
       "2          36961              4961               133              1264   \n",
       "3          41232              4747               167              1695   \n",
       "4          37369              1980                 0               526   \n",
       "\n",
       "   Hispanic_Population  White_Population  \n",
       "0                   44               106  \n",
       "1                  271              1994  \n",
       "2                  995              2906  \n",
       "3                 1483              1825  \n",
       "4                  661              1217  "
      ]
     },
     "execution_count": 54,
     "metadata": {},
     "output_type": "execute_result"
    }
   ],
   "source": [
    "#import \n",
    "import pandas as pd\n",
    "\n",
    "\n",
    "Jefferson_Parish = pd.read_csv(\"Jefferson_Tract_Coastal.csv\")\n",
    "Jefferson_Parish.head()\n"
   ]
  },
  {
   "cell_type": "code",
   "execution_count": 82,
   "id": "committed-leadership",
   "metadata": {},
   "outputs": [],
   "source": [
    "df= Jefferson_Parish[[\"Tract\", \"Total_Population\", \"Renter_Occupied_House\", \"Owner_Occupied_House\", \"Median_Income\", \"Black_Population\", \"White_Population\"]]"
   ]
  },
  {
   "cell_type": "code",
   "execution_count": 83,
   "id": "economic-beaver",
   "metadata": {},
   "outputs": [
    {
     "data": {
      "text/html": [
       "<div>\n",
       "<style scoped>\n",
       "    .dataframe tbody tr th:only-of-type {\n",
       "        vertical-align: middle;\n",
       "    }\n",
       "\n",
       "    .dataframe tbody tr th {\n",
       "        vertical-align: top;\n",
       "    }\n",
       "\n",
       "    .dataframe thead th {\n",
       "        text-align: right;\n",
       "    }\n",
       "</style>\n",
       "<table border=\"1\" class=\"dataframe\">\n",
       "  <thead>\n",
       "    <tr style=\"text-align: right;\">\n",
       "      <th></th>\n",
       "      <th>Tract</th>\n",
       "      <th>Total_Population</th>\n",
       "      <th>Renter_Occupied_House</th>\n",
       "      <th>Owner_Occupied_House</th>\n",
       "      <th>Median_Income</th>\n",
       "      <th>Black_Population</th>\n",
       "      <th>White_Population</th>\n",
       "    </tr>\n",
       "  </thead>\n",
       "  <tbody>\n",
       "    <tr>\n",
       "      <th>0</th>\n",
       "      <td>Census Tract 277.01</td>\n",
       "      <td>5414</td>\n",
       "      <td>685</td>\n",
       "      <td>884</td>\n",
       "      <td>27664</td>\n",
       "      <td>5308</td>\n",
       "      <td>106</td>\n",
       "    </tr>\n",
       "    <tr>\n",
       "      <th>1</th>\n",
       "      <td>Census Tract 242.01</td>\n",
       "      <td>2989</td>\n",
       "      <td>370</td>\n",
       "      <td>667</td>\n",
       "      <td>45854</td>\n",
       "      <td>528</td>\n",
       "      <td>1994</td>\n",
       "    </tr>\n",
       "    <tr>\n",
       "      <th>2</th>\n",
       "      <td>Census Tract 282</td>\n",
       "      <td>4961</td>\n",
       "      <td>598</td>\n",
       "      <td>1117</td>\n",
       "      <td>36961</td>\n",
       "      <td>1264</td>\n",
       "      <td>2906</td>\n",
       "    </tr>\n",
       "    <tr>\n",
       "      <th>3</th>\n",
       "      <td>Census Tract 205.16</td>\n",
       "      <td>4747</td>\n",
       "      <td>711</td>\n",
       "      <td>813</td>\n",
       "      <td>41232</td>\n",
       "      <td>1695</td>\n",
       "      <td>1825</td>\n",
       "    </tr>\n",
       "    <tr>\n",
       "      <th>4</th>\n",
       "      <td>Census Tract 218.04</td>\n",
       "      <td>1980</td>\n",
       "      <td>644</td>\n",
       "      <td>37</td>\n",
       "      <td>37369</td>\n",
       "      <td>526</td>\n",
       "      <td>1217</td>\n",
       "    </tr>\n",
       "  </tbody>\n",
       "</table>\n",
       "</div>"
      ],
      "text/plain": [
       "                 Tract  Total_Population  Renter_Occupied_House  \\\n",
       "0  Census Tract 277.01              5414                    685   \n",
       "1  Census Tract 242.01              2989                    370   \n",
       "2     Census Tract 282              4961                    598   \n",
       "3  Census Tract 205.16              4747                    711   \n",
       "4  Census Tract 218.04              1980                    644   \n",
       "\n",
       "   Owner_Occupied_House  Median_Income  Black_Population  White_Population  \n",
       "0                   884          27664              5308               106  \n",
       "1                   667          45854               528              1994  \n",
       "2                  1117          36961              1264              2906  \n",
       "3                   813          41232              1695              1825  \n",
       "4                    37          37369               526              1217  "
      ]
     },
     "execution_count": 83,
     "metadata": {},
     "output_type": "execute_result"
    }
   ],
   "source": [
    "df.head()"
   ]
  },
  {
   "cell_type": "code",
   "execution_count": 57,
   "id": "e2eed837-8525-4f27-8fdf-83d830ec4efc",
   "metadata": {},
   "outputs": [
    {
     "data": {
      "text/plain": [
       "pandas.core.frame.DataFrame"
      ]
     },
     "execution_count": 57,
     "metadata": {},
     "output_type": "execute_result"
    }
   ],
   "source": [
    "type(JP)"
   ]
  },
  {
   "cell_type": "code",
   "execution_count": 87,
   "id": "d2af72bb-8da2-463e-b863-331924208fec",
   "metadata": {},
   "outputs": [
    {
     "name": "stdout",
     "output_type": "stream",
     "text": [
      "The average median income is : 50069.645161290326\n"
     ]
    }
   ],
   "source": [
    "#creating function to know the average median income\n",
    "\n",
    "def average_median_income(dataframe):\n",
    "    avg_income = dataframe['Median_Income'].mean()\n",
    "    return avg_income\n",
    "\n",
    "avg_income = average_median_income(df)\n",
    "print(f\"The average median income is : {avg_income}\")"
   ]
  },
  {
   "cell_type": "code",
   "execution_count": 92,
   "id": "8f129e28-948a-4e12-9c8f-0f618f6e8eb9",
   "metadata": {},
   "outputs": [
    {
     "name": "stdout",
     "output_type": "stream",
     "text": [
      "                   Tract  Total_Population  Renter_Occupied_House  \\\n",
      "0    Census Tract 277.01              5414                    685   \n",
      "1    Census Tract 242.01              2989                    370   \n",
      "2       Census Tract 282              4961                    598   \n",
      "3    Census Tract 205.16              4747                    711   \n",
      "4    Census Tract 218.04              1980                    644   \n",
      "..                   ...               ...                    ...   \n",
      "119  Census Tract 205.17              3921                    755   \n",
      "120  Census Tract 279.01              2834                    169   \n",
      "121     Census Tract 281              2353                    847   \n",
      "122  Census Tract 279.02              2069                    268   \n",
      "123     Census Tract 280              4779                    131   \n",
      "\n",
      "     Owner_Occupied_House  Median_Income  Black_Population  White_Population  \\\n",
      "0                     884          27664              5308               106   \n",
      "1                     667          45854               528              1994   \n",
      "2                    1117          36961              1264              2906   \n",
      "3                     813          41232              1695              1825   \n",
      "4                      37          37369               526              1217   \n",
      "..                    ...            ...               ...               ...   \n",
      "119                   937          70139               402              3299   \n",
      "120                   867          39559                80              2567   \n",
      "121                   289          29800              1850               441   \n",
      "122                   679          55363                 0              2064   \n",
      "123                  1411          70263               691              3488   \n",
      "\n",
      "     Owner_Percent  \n",
      "0        16.328038  \n",
      "1        22.315156  \n",
      "2        22.515622  \n",
      "3        17.126606  \n",
      "4         1.868687  \n",
      "..             ...  \n",
      "119      23.896965  \n",
      "120      30.592802  \n",
      "121      12.282193  \n",
      "122      32.817786  \n",
      "123      29.525005  \n",
      "\n",
      "[124 rows x 8 columns]\n",
      "The tract with the highest owner percentage is : Census Tract 220.02\n"
     ]
    },
    {
     "name": "stderr",
     "output_type": "stream",
     "text": [
      "C:\\Users\\fahmi\\AppData\\Local\\Temp\\ipykernel_17424\\3255875394.py:2: SettingWithCopyWarning: \n",
      "A value is trying to be set on a copy of a slice from a DataFrame.\n",
      "Try using .loc[row_indexer,col_indexer] = value instead\n",
      "\n",
      "See the caveats in the documentation: https://pandas.pydata.org/pandas-docs/stable/user_guide/indexing.html#returning-a-view-versus-a-copy\n",
      "  dataframe['Owner_Percent'] = (dataframe['Owner_Occupied_House']/dataframe['Total_Population'])*100\n"
     ]
    }
   ],
   "source": [
    "#creating function to know the tract with highest owner\n",
    "\n",
    "def owner_percentage(dataframe):\n",
    "    dataframe['Owner_Percent'] = (dataframe['Owner_Occupied_House']/dataframe['Total_Population'])*100\n",
    "    max_owner_tract = dataframe.loc[dataframe['Owner_Percent'].idxmax(), 'Tract']\n",
    "    return dataframe, max_owner_tract\n",
    "\n",
    "df_with_percentage, tract_with_highest_owner = owner_percentage(df)\n",
    "\n",
    "print(df_with_percentage)\n",
    "print(f\"The tract with the highest owner percentage is : {tract_with_highest_owner}\")  "
   ]
  },
  {
   "cell_type": "code",
   "execution_count": 91,
   "id": "daf5a804-8a8b-4d77-8ed5-5b27863f828f",
   "metadata": {},
   "outputs": [],
   "source": [
    "import matplotlib.pyplot as plt"
   ]
  },
  {
   "cell_type": "code",
   "execution_count": 106,
   "id": "cbe95374-3c6b-4c7d-8849-770bd36a48cf",
   "metadata": {},
   "outputs": [
    {
     "data": {
      "image/png": "[encoded data removed]",
      "text/plain": [
       "<Figure size 1000x600 with 1 Axes>"
      ]
     },
     "metadata": {},
     "output_type": "display_data"
    }
   ],
   "source": [
    "# Function to calculate white Population percentage and return the updated DataFrame\n",
    "def white_percentage(dataframe):\n",
    "    dataframe['White_Percent'] = (dataframe['White_Population'] / dataframe['Total_Population']) * 100\n",
    "    return dataframe\n",
    "\n",
    "# Call function\n",
    "df_with_percentage = white_percentage(df)\n",
    "\n",
    "# Function to plot by tract\n",
    "def plot_white_percentage(dataframe):\n",
    "    plt.figure(figsize=(10, 6))\n",
    "    \n",
    "    # Create a bar plot\n",
    "    plt.bar(dataframe['Tract'], dataframe['White_Percent'], color='skyblue')\n",
    "    \n",
    "    # Add labels and title\n",
    "    plt.xlabel('Tract')\n",
    "    plt.ylabel('White Percentage (%)')\n",
    "    plt.title('White Population Percentage by Tract')\n",
    "    \n",
    "    # Show the plot\n",
    "    plt.show()\n",
    "\n",
    "# Call the plot function\n",
    "plot_white_percentage(df_with_percentage)"
   ]
  },
  {
   "cell_type": "code",
   "execution_count": 107,
   "id": "3ae732ed-cedf-43a7-a5f7-d568c5350d6b",
   "metadata": {},
   "outputs": [
    {
     "data": {
      "image/png": "[encoded data removed]",
      "text/plain": [
       "<Figure size 1000x600 with 1 Axes>"
      ]
     },
     "metadata": {},
     "output_type": "display_data"
    }
   ],
   "source": [
    "# Function \n",
    "def black_percentage(dataframe):\n",
    "    dataframe['Black_Percent'] = (dataframe['Black_Population'] / dataframe['Total_Population']) * 100\n",
    "    return dataframe\n",
    "\n",
    "# Call function\n",
    "df_with_percentage = black_percentage(df)\n",
    "\n",
    "# Function to plot by tract\n",
    "def plot_black_percentage(dataframe):\n",
    "    plt.figure(figsize=(10, 6))\n",
    "    \n",
    "# Create a bar plot\n",
    "    plt.bar(dataframe['Tract'], dataframe['Black_Percent'], color='skyblue')\n",
    "    \n",
    "# Add labels and title\n",
    "    plt.xlabel('Tract')\n",
    "    plt.ylabel('Black Percentage (%)')\n",
    "    plt.title('Black Population Percentage by Tract')\n",
    "    \n",
    "# Show the plot\n",
    "    plt.show()\n",
    "\n",
    "# Call the plot function\n",
    "plot_black_percentage(df_with_percentage)"
   ]
  },
  {
   "cell_type": "code",
   "execution_count": 112,
   "id": "6ec27949-9ec3-4d38-a269-2c1cea674d75",
   "metadata": {},
   "outputs": [
    {
     "data": {
      "image/png": "[encoded data removed]",
      "text/plain": [
       "<Figure size 1000x600 with 1 Axes>"
      ]
     },
     "metadata": {},
     "output_type": "display_data"
    }
   ],
   "source": [
    "# Sort the DataFrame by the Black_Population column in descending order\n",
    "df_sorted = df.sort_values(by='Black_Population', ascending=False)\n",
    "\n",
    "# Select the top 20 tracts with the highest Black population\n",
    "top_20_black_population = df_sorted.head(25)\n",
    "\n",
    "# Plot the top 20 tracts\n",
    "def plot_top_black_population(dataframe):\n",
    "    plt.figure(figsize=(10, 6))\n",
    "    \n",
    "# Bar plot of Black population for the top 20 tracts\n",
    "    plt.bar(dataframe['Tract'], dataframe['Black_Population'], color='purple')\n",
    "    \n",
    "# Add labels and title\n",
    "    plt.xlabel('Tract')\n",
    "    plt.ylabel('Black Population')\n",
    "    plt.title('Top 25 Tracts by Black Population')\n",
    "    \n",
    "# Rotate x-axis labels for better readability\n",
    "    plt.xticks(rotation=90)\n",
    "    \n",
    "# Show the plot\n",
    "    plt.tight_layout()\n",
    "    plt.show()\n",
    "\n",
    "# Call the plot function\n",
    "plot_top_black_population(top_20_black_population)"
   ]
  },
  {
   "cell_type": "code",
   "execution_count": null,
   "id": "b5411b29-4252-4f0b-aac0-da68e08c7f49",
   "metadata": {},
   "outputs": [],
   "source": []
  }
 ],
 "metadata": {
  "kernelspec": {
   "display_name": "Python 3 (ipykernel)",
   "language": "python",
   "name": "python3"
  },
  "language_info": {
   "codemirror_mode": {
    "name": "ipython",
    "version": 3
   },
   "file_extension": ".py",
   "mimetype": "text/x-python",
   "name": "python",
   "nbconvert_exporter": "python",
   "pygments_lexer": "ipython3",
   "version": "3.12.4"
  }
 },
 "nbformat": 4,
 "nbformat_minor": 5
}
