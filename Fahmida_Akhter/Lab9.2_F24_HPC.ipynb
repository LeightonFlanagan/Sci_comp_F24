{
 "cells": [
  {
   "cell_type": "markdown",
   "id": "cooked-impact",
   "metadata": {
    "panel-layout": {
     "height": 51.12215805053711,
     "visible": true,
     "width": 100
    }
   },
   "source": [
    "Name Fahmida"
   ]
  },
  {
   "cell_type": "markdown",
   "id": "crazy-drunk",
   "metadata": {
    "panel-layout": {
     "height": 51.12215805053711,
     "visible": true,
     "width": 100
    }
   },
   "source": [
    "Labpartner(s)"
   ]
  },
  {
   "cell_type": "code",
   "execution_count": 18,
   "id": "statistical-animal",
   "metadata": {},
   "outputs": [],
   "source": [
    "#import statements go here\n",
    "import matplotlib.pyplot as plt\n",
    "import numpy as np\n",
    "import pandas as pd"
   ]
  },
  {
   "cell_type": "markdown",
   "id": "appointed-tribute",
   "metadata": {
    "panel-layout": {
     "height": 60.596588134765625,
     "visible": true,
     "width": 100
    }
   },
   "source": [
    "# Class 9.2"
   ]
  },
  {
   "cell_type": "markdown",
   "id": "834986df-a157-45a3-8679-12e793fe2c47",
   "metadata": {
    "panel-layout": {
     "height": 97.40056610107422,
     "visible": true,
     "width": 100
    }
   },
   "source": [
    "You all will finish presenting your movies from Lab 7.2. \n",
    "\n",
    "Today Victoria Garza will give an overview and demo of the LSU HPC system\n",
    "\n",
    "Reminder your final project proposal is due Monday by 5 PM (note new due date). On Tuesday you will pitch your final project proposal to the class in a short (5 min talk).\n"
   ]
  },
  {
   "cell_type": "markdown",
   "id": "bbdf9630-73a5-4a8d-98c2-45c5ef81a0f0",
   "metadata": {},
   "source": [
    "# Warmup 9.2"
   ]
  },
  {
   "cell_type": "markdown",
   "id": "tracked-tradition",
   "metadata": {
    "panel-layout": {
     "height": 260.21307373046875,
     "visible": true,
     "width": 100
    }
   },
   "source": [
    "**W.1** Create the following numpy array. Print out the values to check!\n",
    "\n",
    "[[0. 0. 0. 0. 0. 0. 0.]\n",
    "\n",
    "[0. 1. 1. 1. 1. 1. 0.]\n",
    "\n",
    "[0. 1. 1. 1. 1. 1. 0.]\n",
    "\n",
    "[0. 1. 1. 5. 1. 1. 0.]\n",
    "\n",
    "[0. 1. 1. 1. 1. 1. 0.]\n",
    "\n",
    "[0. 1. 1. 1. 1. 1. 0.]\n",
    "\n",
    "[0. 0. 0. 0. 0. 0. 0.]]"
   ]
  },
  {
   "cell_type": "code",
   "execution_count": 19,
   "id": "champion-rouge",
   "metadata": {},
   "outputs": [
    {
     "data": {
      "text/plain": [
       "array([[0., 0., 0., 0., 0., 0., 0.],\n",
       "       [0., 0., 0., 0., 0., 0., 0.],\n",
       "       [0., 0., 0., 0., 0., 0., 0.],\n",
       "       [0., 0., 0., 0., 0., 0., 0.],\n",
       "       [0., 0., 0., 0., 0., 0., 0.],\n",
       "       [0., 0., 0., 0., 0., 0., 0.],\n",
       "       [0., 0., 0., 0., 0., 0., 0.]])"
      ]
     },
     "execution_count": 19,
     "metadata": {},
     "output_type": "execute_result"
    }
   ],
   "source": [
    "#create an array full of zeros\n",
    "A, B= (7, 7)\n",
    "f = np.zeros((A, B),dtype=float) \n",
    "f"
   ]
  },
  {
   "cell_type": "code",
   "execution_count": 20,
   "id": "1ca4f982-97ec-4a08-9018-f870ea655e9f",
   "metadata": {},
   "outputs": [
    {
     "name": "stdout",
     "output_type": "stream",
     "text": [
      "[[0. 0. 0. 0. 0. 0. 0.]\n",
      " [0. 1. 1. 1. 1. 1. 0.]\n",
      " [0. 1. 1. 1. 1. 1. 0.]\n",
      " [0. 1. 1. 5. 1. 1. 0.]\n",
      " [0. 1. 1. 1. 1. 1. 0.]\n",
      " [0. 1. 1. 1. 1. 1. 0.]\n",
      " [0. 0. 0. 0. 0. 0. 0.]]\n"
     ]
    }
   ],
   "source": [
    "# Set the specific values in the array\n",
    "f[1:6, 1:6] = 1  \n",
    "f[3, 3] = 5     \n",
    "\n",
    "# Print the array to check\n",
    "print(f)"
   ]
  },
  {
   "cell_type": "markdown",
   "id": "156984bc-e6c0-4379-a30f-c9b0a33f15f0",
   "metadata": {},
   "source": [
    "**W.2** Pandas filtering and sorting practice with Chipotle data\n",
    "\n",
    "Import the dataset from this address https://raw.githubusercontent.com/justmarkham/DAT8/master/data/chipotle.tsv\n",
    "Assign it to a variable called chipo.\n",
    "1. How many products cost more than $10.00?\n",
    "2. What is the price of each item?\n",
    "    1. Print a data frame with only two columns item_name and item_price\n",
    "    2. Sort by the name of the item\n",
    "1. What was the quantity of the most expensive item ordered?\n",
    "1. How many times did someone order more than one Canned Soda?\n"
   ]
  },
  {
   "cell_type": "code",
   "execution_count": 21,
   "id": "f633fa7e-1361-4938-b6b2-eb090a6becff",
   "metadata": {},
   "outputs": [
    {
     "data": {
      "text/html": [
       "<div>\n",
       "<style scoped>\n",
       "    .dataframe tbody tr th:only-of-type {\n",
       "        vertical-align: middle;\n",
       "    }\n",
       "\n",
       "    .dataframe tbody tr th {\n",
       "        vertical-align: top;\n",
       "    }\n",
       "\n",
       "    .dataframe thead th {\n",
       "        text-align: right;\n",
       "    }\n",
       "</style>\n",
       "<table border=\"1\" class=\"dataframe\">\n",
       "  <thead>\n",
       "    <tr style=\"text-align: right;\">\n",
       "      <th></th>\n",
       "      <th>order_id</th>\n",
       "      <th>quantity</th>\n",
       "      <th>item_name</th>\n",
       "      <th>choice_description</th>\n",
       "      <th>item_price</th>\n",
       "    </tr>\n",
       "  </thead>\n",
       "  <tbody>\n",
       "    <tr>\n",
       "      <th>0</th>\n",
       "      <td>1</td>\n",
       "      <td>1</td>\n",
       "      <td>Chips and Fresh Tomato Salsa</td>\n",
       "      <td>NaN</td>\n",
       "      <td>$2.39</td>\n",
       "    </tr>\n",
       "    <tr>\n",
       "      <th>1</th>\n",
       "      <td>1</td>\n",
       "      <td>1</td>\n",
       "      <td>Izze</td>\n",
       "      <td>[Clementine]</td>\n",
       "      <td>$3.39</td>\n",
       "    </tr>\n",
       "    <tr>\n",
       "      <th>2</th>\n",
       "      <td>1</td>\n",
       "      <td>1</td>\n",
       "      <td>Nantucket Nectar</td>\n",
       "      <td>[Apple]</td>\n",
       "      <td>$3.39</td>\n",
       "    </tr>\n",
       "    <tr>\n",
       "      <th>3</th>\n",
       "      <td>1</td>\n",
       "      <td>1</td>\n",
       "      <td>Chips and Tomatillo-Green Chili Salsa</td>\n",
       "      <td>NaN</td>\n",
       "      <td>$2.39</td>\n",
       "    </tr>\n",
       "    <tr>\n",
       "      <th>4</th>\n",
       "      <td>2</td>\n",
       "      <td>2</td>\n",
       "      <td>Chicken Bowl</td>\n",
       "      <td>[Tomatillo-Red Chili Salsa (Hot), [Black Beans...</td>\n",
       "      <td>$16.98</td>\n",
       "    </tr>\n",
       "    <tr>\n",
       "      <th>...</th>\n",
       "      <td>...</td>\n",
       "      <td>...</td>\n",
       "      <td>...</td>\n",
       "      <td>...</td>\n",
       "      <td>...</td>\n",
       "    </tr>\n",
       "    <tr>\n",
       "      <th>4617</th>\n",
       "      <td>1833</td>\n",
       "      <td>1</td>\n",
       "      <td>Steak Burrito</td>\n",
       "      <td>[Fresh Tomato Salsa, [Rice, Black Beans, Sour ...</td>\n",
       "      <td>$11.75</td>\n",
       "    </tr>\n",
       "    <tr>\n",
       "      <th>4618</th>\n",
       "      <td>1833</td>\n",
       "      <td>1</td>\n",
       "      <td>Steak Burrito</td>\n",
       "      <td>[Fresh Tomato Salsa, [Rice, Sour Cream, Cheese...</td>\n",
       "      <td>$11.75</td>\n",
       "    </tr>\n",
       "    <tr>\n",
       "      <th>4619</th>\n",
       "      <td>1834</td>\n",
       "      <td>1</td>\n",
       "      <td>Chicken Salad Bowl</td>\n",
       "      <td>[Fresh Tomato Salsa, [Fajita Vegetables, Pinto...</td>\n",
       "      <td>$11.25</td>\n",
       "    </tr>\n",
       "    <tr>\n",
       "      <th>4620</th>\n",
       "      <td>1834</td>\n",
       "      <td>1</td>\n",
       "      <td>Chicken Salad Bowl</td>\n",
       "      <td>[Fresh Tomato Salsa, [Fajita Vegetables, Lettu...</td>\n",
       "      <td>$8.75</td>\n",
       "    </tr>\n",
       "    <tr>\n",
       "      <th>4621</th>\n",
       "      <td>1834</td>\n",
       "      <td>1</td>\n",
       "      <td>Chicken Salad Bowl</td>\n",
       "      <td>[Fresh Tomato Salsa, [Fajita Vegetables, Pinto...</td>\n",
       "      <td>$8.75</td>\n",
       "    </tr>\n",
       "  </tbody>\n",
       "</table>\n",
       "<p>4622 rows × 5 columns</p>\n",
       "</div>"
      ],
      "text/plain": [
       "      order_id  quantity                              item_name  \\\n",
       "0            1         1           Chips and Fresh Tomato Salsa   \n",
       "1            1         1                                   Izze   \n",
       "2            1         1                       Nantucket Nectar   \n",
       "3            1         1  Chips and Tomatillo-Green Chili Salsa   \n",
       "4            2         2                           Chicken Bowl   \n",
       "...        ...       ...                                    ...   \n",
       "4617      1833         1                          Steak Burrito   \n",
       "4618      1833         1                          Steak Burrito   \n",
       "4619      1834         1                     Chicken Salad Bowl   \n",
       "4620      1834         1                     Chicken Salad Bowl   \n",
       "4621      1834         1                     Chicken Salad Bowl   \n",
       "\n",
       "                                     choice_description item_price  \n",
       "0                                                   NaN     $2.39   \n",
       "1                                          [Clementine]     $3.39   \n",
       "2                                               [Apple]     $3.39   \n",
       "3                                                   NaN     $2.39   \n",
       "4     [Tomatillo-Red Chili Salsa (Hot), [Black Beans...    $16.98   \n",
       "...                                                 ...        ...  \n",
       "4617  [Fresh Tomato Salsa, [Rice, Black Beans, Sour ...    $11.75   \n",
       "4618  [Fresh Tomato Salsa, [Rice, Sour Cream, Cheese...    $11.75   \n",
       "4619  [Fresh Tomato Salsa, [Fajita Vegetables, Pinto...    $11.25   \n",
       "4620  [Fresh Tomato Salsa, [Fajita Vegetables, Lettu...     $8.75   \n",
       "4621  [Fresh Tomato Salsa, [Fajita Vegetables, Pinto...     $8.75   \n",
       "\n",
       "[4622 rows x 5 columns]"
      ]
     },
     "execution_count": 21,
     "metadata": {},
     "output_type": "execute_result"
    }
   ],
   "source": [
    "#getting data\n",
    "chipo = pd.read_csv('https://raw.githubusercontent.com/justmarkham/DAT8/master/data/chipotle.tsv', sep='\\t')\n",
    "chipo"
   ]
  },
  {
   "cell_type": "code",
   "execution_count": 22,
   "id": "b302fb60-4398-40ff-bdb7-c2f3c76fc17d",
   "metadata": {},
   "outputs": [
    {
     "name": "stderr",
     "output_type": "stream",
     "text": [
      "<>:2: SyntaxWarning: invalid escape sequence '\\$'\n",
      "<>:2: SyntaxWarning: invalid escape sequence '\\$'\n",
      "C:\\Users\\fahmi\\AppData\\Local\\Temp\\ipykernel_12404\\2055434306.py:2: SyntaxWarning: invalid escape sequence '\\$'\n",
      "  chipo['item_price'] = chipo['item_price'].replace({'\\$': '', '': ''}, regex=True).astype(float)\n"
     ]
    },
    {
     "data": {
      "text/html": [
       "<div>\n",
       "<style scoped>\n",
       "    .dataframe tbody tr th:only-of-type {\n",
       "        vertical-align: middle;\n",
       "    }\n",
       "\n",
       "    .dataframe tbody tr th {\n",
       "        vertical-align: top;\n",
       "    }\n",
       "\n",
       "    .dataframe thead th {\n",
       "        text-align: right;\n",
       "    }\n",
       "</style>\n",
       "<table border=\"1\" class=\"dataframe\">\n",
       "  <thead>\n",
       "    <tr style=\"text-align: right;\">\n",
       "      <th></th>\n",
       "      <th>order_id</th>\n",
       "      <th>quantity</th>\n",
       "      <th>item_name</th>\n",
       "      <th>choice_description</th>\n",
       "      <th>item_price</th>\n",
       "    </tr>\n",
       "  </thead>\n",
       "  <tbody>\n",
       "    <tr>\n",
       "      <th>0</th>\n",
       "      <td>1</td>\n",
       "      <td>1</td>\n",
       "      <td>Chips and Fresh Tomato Salsa</td>\n",
       "      <td>NaN</td>\n",
       "      <td>2.39</td>\n",
       "    </tr>\n",
       "    <tr>\n",
       "      <th>1</th>\n",
       "      <td>1</td>\n",
       "      <td>1</td>\n",
       "      <td>Izze</td>\n",
       "      <td>[Clementine]</td>\n",
       "      <td>3.39</td>\n",
       "    </tr>\n",
       "    <tr>\n",
       "      <th>2</th>\n",
       "      <td>1</td>\n",
       "      <td>1</td>\n",
       "      <td>Nantucket Nectar</td>\n",
       "      <td>[Apple]</td>\n",
       "      <td>3.39</td>\n",
       "    </tr>\n",
       "    <tr>\n",
       "      <th>3</th>\n",
       "      <td>1</td>\n",
       "      <td>1</td>\n",
       "      <td>Chips and Tomatillo-Green Chili Salsa</td>\n",
       "      <td>NaN</td>\n",
       "      <td>2.39</td>\n",
       "    </tr>\n",
       "    <tr>\n",
       "      <th>4</th>\n",
       "      <td>2</td>\n",
       "      <td>2</td>\n",
       "      <td>Chicken Bowl</td>\n",
       "      <td>[Tomatillo-Red Chili Salsa (Hot), [Black Beans...</td>\n",
       "      <td>16.98</td>\n",
       "    </tr>\n",
       "    <tr>\n",
       "      <th>...</th>\n",
       "      <td>...</td>\n",
       "      <td>...</td>\n",
       "      <td>...</td>\n",
       "      <td>...</td>\n",
       "      <td>...</td>\n",
       "    </tr>\n",
       "    <tr>\n",
       "      <th>4617</th>\n",
       "      <td>1833</td>\n",
       "      <td>1</td>\n",
       "      <td>Steak Burrito</td>\n",
       "      <td>[Fresh Tomato Salsa, [Rice, Black Beans, Sour ...</td>\n",
       "      <td>11.75</td>\n",
       "    </tr>\n",
       "    <tr>\n",
       "      <th>4618</th>\n",
       "      <td>1833</td>\n",
       "      <td>1</td>\n",
       "      <td>Steak Burrito</td>\n",
       "      <td>[Fresh Tomato Salsa, [Rice, Sour Cream, Cheese...</td>\n",
       "      <td>11.75</td>\n",
       "    </tr>\n",
       "    <tr>\n",
       "      <th>4619</th>\n",
       "      <td>1834</td>\n",
       "      <td>1</td>\n",
       "      <td>Chicken Salad Bowl</td>\n",
       "      <td>[Fresh Tomato Salsa, [Fajita Vegetables, Pinto...</td>\n",
       "      <td>11.25</td>\n",
       "    </tr>\n",
       "    <tr>\n",
       "      <th>4620</th>\n",
       "      <td>1834</td>\n",
       "      <td>1</td>\n",
       "      <td>Chicken Salad Bowl</td>\n",
       "      <td>[Fresh Tomato Salsa, [Fajita Vegetables, Lettu...</td>\n",
       "      <td>8.75</td>\n",
       "    </tr>\n",
       "    <tr>\n",
       "      <th>4621</th>\n",
       "      <td>1834</td>\n",
       "      <td>1</td>\n",
       "      <td>Chicken Salad Bowl</td>\n",
       "      <td>[Fresh Tomato Salsa, [Fajita Vegetables, Pinto...</td>\n",
       "      <td>8.75</td>\n",
       "    </tr>\n",
       "  </tbody>\n",
       "</table>\n",
       "<p>4622 rows × 5 columns</p>\n",
       "</div>"
      ],
      "text/plain": [
       "      order_id  quantity                              item_name  \\\n",
       "0            1         1           Chips and Fresh Tomato Salsa   \n",
       "1            1         1                                   Izze   \n",
       "2            1         1                       Nantucket Nectar   \n",
       "3            1         1  Chips and Tomatillo-Green Chili Salsa   \n",
       "4            2         2                           Chicken Bowl   \n",
       "...        ...       ...                                    ...   \n",
       "4617      1833         1                          Steak Burrito   \n",
       "4618      1833         1                          Steak Burrito   \n",
       "4619      1834         1                     Chicken Salad Bowl   \n",
       "4620      1834         1                     Chicken Salad Bowl   \n",
       "4621      1834         1                     Chicken Salad Bowl   \n",
       "\n",
       "                                     choice_description  item_price  \n",
       "0                                                   NaN        2.39  \n",
       "1                                          [Clementine]        3.39  \n",
       "2                                               [Apple]        3.39  \n",
       "3                                                   NaN        2.39  \n",
       "4     [Tomatillo-Red Chili Salsa (Hot), [Black Beans...       16.98  \n",
       "...                                                 ...         ...  \n",
       "4617  [Fresh Tomato Salsa, [Rice, Black Beans, Sour ...       11.75  \n",
       "4618  [Fresh Tomato Salsa, [Rice, Sour Cream, Cheese...       11.75  \n",
       "4619  [Fresh Tomato Salsa, [Fajita Vegetables, Pinto...       11.25  \n",
       "4620  [Fresh Tomato Salsa, [Fajita Vegetables, Lettu...        8.75  \n",
       "4621  [Fresh Tomato Salsa, [Fajita Vegetables, Pinto...        8.75  \n",
       "\n",
       "[4622 rows x 5 columns]"
      ]
     },
     "execution_count": 22,
     "metadata": {},
     "output_type": "execute_result"
    }
   ],
   "source": [
    "#Remove the $ fromt he item_price\n",
    "chipo['item_price'] = chipo['item_price'].replace({'\\$': '', '': ''}, regex=True).astype(float)\n",
    "\n",
    "chipo"
   ]
  },
  {
   "cell_type": "markdown",
   "id": "79a627b7-18d7-477a-b635-a42567098042",
   "metadata": {},
   "source": [
    "1. How many products cost more than $10.00?"
   ]
  },
  {
   "cell_type": "code",
   "execution_count": 23,
   "id": "71f6d1f4-af07-4cd1-9825-e82ab1261e24",
   "metadata": {},
   "outputs": [
    {
     "name": "stdout",
     "output_type": "stream",
     "text": [
      "Number of products costing more than $10.00: 1130\n"
     ]
    }
   ],
   "source": [
    "products_over_10 = chipo[chipo['item_price'] > 10.00]\n",
    "print(\"Number of products costing more than $10.00:\", products_over_10.shape[0])"
   ]
  },
  {
   "cell_type": "markdown",
   "id": "3de041ea-4ac2-482c-842f-16682b9bb2a5",
   "metadata": {},
   "source": [
    "2. What is the price of each item?\n",
    "    1. Print a data frame with only two columns item_name and item_price\n",
    "    2. Sort by the name of the item"
   ]
  },
  {
   "cell_type": "code",
   "execution_count": 33,
   "id": "2c13e8e8-f9b8-4225-b526-e8079c68c56f",
   "metadata": {},
   "outputs": [
    {
     "name": "stdout",
     "output_type": "stream",
     "text": [
      "A. Dataframe with only two columns item_name and item_price:\n",
      "                                   item_name  item_price\n",
      "0              Chips and Fresh Tomato Salsa        2.39\n",
      "1                                      Izze        3.39\n",
      "2                          Nantucket Nectar        3.39\n",
      "3     Chips and Tomatillo-Green Chili Salsa        2.39\n",
      "4                              Chicken Bowl       16.98\n",
      "...                                     ...         ...\n",
      "4617                          Steak Burrito       11.75\n",
      "4618                          Steak Burrito       11.75\n",
      "4619                     Chicken Salad Bowl       11.25\n",
      "4620                     Chicken Salad Bowl        8.75\n",
      "4621                     Chicken Salad Bowl        8.75\n",
      "\n",
      "[4622 rows x 2 columns]\n"
     ]
    }
   ],
   "source": [
    "item_prices = chipo[['item_name', 'item_price']]\n",
    "print(\"A. Dataframe with only two columns item_name and item_price:\\n\", item_prices)"
   ]
  },
  {
   "cell_type": "code",
   "execution_count": 34,
   "id": "0d663dbe-a35d-4875-a99d-6a4d8dfb7a6d",
   "metadata": {},
   "outputs": [
    {
     "name": "stdout",
     "output_type": "stream",
     "text": [
      "B. Sorted by name of the item prices:\n",
      "               item_name  item_price\n",
      "3389  6 Pack Soft Drink       12.98\n",
      "341   6 Pack Soft Drink        6.49\n",
      "1849  6 Pack Soft Drink        6.49\n",
      "1860  6 Pack Soft Drink        6.49\n",
      "2713  6 Pack Soft Drink        6.49\n",
      "...                 ...         ...\n",
      "2384  Veggie Soft Tacos        8.75\n",
      "781   Veggie Soft Tacos        8.75\n",
      "2851  Veggie Soft Tacos        8.49\n",
      "1699  Veggie Soft Tacos       11.25\n",
      "1395  Veggie Soft Tacos        8.49\n",
      "\n",
      "[4622 rows x 2 columns]\n"
     ]
    }
   ],
   "source": [
    "sorted_item_prices = item_prices.sort_values(by='item_name')\n",
    "print(\"B. Sorted by name of the item prices:\\n\", sorted_item_prices)"
   ]
  },
  {
   "cell_type": "markdown",
   "id": "fe4b61ec-f115-462c-bbdd-3ff669e55853",
   "metadata": {},
   "source": [
    "3. What was the quantity of the most expensive item ordered?"
   ]
  },
  {
   "cell_type": "code",
   "execution_count": 35,
   "id": "1bf2724a-a069-4fe9-91ac-5700cd09c85f",
   "metadata": {},
   "outputs": [
    {
     "name": "stdout",
     "output_type": "stream",
     "text": [
      "Most expensive item ordered with quantity: Chips and Fresh Tomato Salsa with quantity: 15\n"
     ]
    }
   ],
   "source": [
    "most_expensive_item = chipo.loc[chipo['item_price'].idxmax()]\n",
    "print(\"Most expensive item ordered with quantity:\", most_expensive_item['item_name'], \"with quantity:\", most_expensive_item['quantity'])"
   ]
  },
  {
   "cell_type": "markdown",
   "id": "b8a0d750-8fa7-4a2f-a76c-e326cbe0940d",
   "metadata": {},
   "source": [
    "4. How many times did someone order more than one Canned Soda?"
   ]
  },
  {
   "cell_type": "code",
   "execution_count": 36,
   "id": "140686d3-ef03-467a-b671-ce0e1addd573",
   "metadata": {},
   "outputs": [
    {
     "name": "stdout",
     "output_type": "stream",
     "text": [
      "No of times Canned Soda was ordered more than once: 20\n"
     ]
    }
   ],
   "source": [
    "canned_soda_orders = chipo[(chipo['item_name'] == 'Canned Soda') & (chipo['quantity'] > 1)]\n",
    "print(\"No of times Canned Soda was ordered more than once:\", canned_soda_orders.shape[0])"
   ]
  },
  {
   "cell_type": "markdown",
   "id": "needed-irish",
   "metadata": {
    "panel-layout": {
     "height": 156.05113220214844,
     "visible": true,
     "width": 100
    }
   },
   "source": [
    "# Lecture 9.2\n",
    "\n",
    "### Agenda:\n",
    "\n",
    "- Questions\n",
    "- Show us your movies\n",
    "- Intro to LSU HPC"
   ]
  },
  {
   "cell_type": "markdown",
   "id": "crucial-hobby",
   "metadata": {
    "panel-layout": {
     "height": 44.07670211791992,
     "visible": true,
     "width": 100
    }
   },
   "source": [
    "### Questions"
   ]
  },
  {
   "cell_type": "markdown",
   "id": "be69581e-ee02-4aa7-a18e-74c2d61cc1c7",
   "metadata": {
    "panel-layout": {
     "height": 10,
     "visible": true,
     "width": 100
    }
   },
   "source": []
  },
  {
   "cell_type": "markdown",
   "id": "working-lottery",
   "metadata": {
    "panel-layout": {
     "height": 60.596588134765625,
     "visible": true,
     "width": 100
    }
   },
   "source": [
    "# Lab 9.2"
   ]
  },
  {
   "cell_type": "markdown",
   "id": "42ba70db-1894-44eb-9688-5380d60b34f6",
   "metadata": {
    "panel-layout": {
     "height": 51.12215805053711,
     "visible": true,
     "width": 100
    }
   },
   "source": [
    "**E.0** Complete the previous labs if you are behind."
   ]
  },
  {
   "cell_type": "markdown",
   "id": "6254f746-973e-4ebe-ad02-f81c98a1d7c6",
   "metadata": {
    "panel-layout": {
     "height": 114.54544830322266,
     "visible": true,
     "width": 100
    }
   },
   "source": [
    "**E.1** Submit a screenshot of you using a jupyter notebook on the LSU HPC"
   ]
  },
  {
   "cell_type": "markdown",
   "id": "714f46cd-fd5b-4e0f-84f4-7816eb053419",
   "metadata": {},
   "source": [
    "**E.2** Complete your final project proposal and submit it in Moodle"
   ]
  },
  {
   "cell_type": "markdown",
   "id": "3355bd74-1b16-4815-9d33-a4e76390a23d",
   "metadata": {},
   "source": [
    "**E.3** Prepare a 5 min presentation of your project proposal, including a brief introduction, your research plan, the programming methods you are planning to use, your preliminary results/plots, and your timeline for completion. ​You will present this in class next Tuesday. No late talks this time.\n",
    "\n",
    "A good target length is 1 slide per minute.\n",
    "\n",
    "Upload your talk here:\n",
    "https://lsu.box.com/s/5c95w1s2rrwqy839o3ul3oouzi43s4y1\n"
   ]
  },
  {
   "cell_type": "markdown",
   "id": "computational-child",
   "metadata": {
    "panel-layout": {
     "height": 85.41192626953125,
     "visible": true,
     "width": 100
    }
   },
   "source": [
    "**Notes** Make notes for yourself on progamming tecniques and commands you learned in the this week, including examples, comments and explainitory text. You can do this here or in a separate notebook that you link to here. Basically, you are making a cheat sheet for yourself."
   ]
  },
  {
   "cell_type": "code",
   "execution_count": null,
   "id": "consecutive-bowling",
   "metadata": {},
   "outputs": [],
   "source": []
  },
  {
   "cell_type": "code",
   "execution_count": null,
   "id": "a14a68ea-90e3-4c1f-bf2e-70a828ce942e",
   "metadata": {},
   "outputs": [],
   "source": []
  }
 ],
 "metadata": {
  "kernelspec": {
   "display_name": "Python 3 (ipykernel)",
   "language": "python",
   "name": "python3"
  },
  "language_info": {
   "codemirror_mode": {
    "name": "ipython",
    "version": 3
   },
   "file_extension": ".py",
   "mimetype": "text/x-python",
   "name": "python",
   "nbconvert_exporter": "python",
   "pygments_lexer": "ipython3",
   "version": "3.12.4"
  },
  "panel-cell-order": [
   "cooked-impact",
   "crazy-drunk",
   "appointed-tribute",
   "834986df-a157-45a3-8679-12e793fe2c47",
   "tracked-tradition",
   "needed-irish",
   "crucial-hobby",
   "be69581e-ee02-4aa7-a18e-74c2d61cc1c7",
   "working-lottery",
   "42ba70db-1894-44eb-9688-5380d60b34f6",
   "6254f746-973e-4ebe-ad02-f81c98a1d7c6",
   "ordinary-variable",
   "f8909a65-8319-4676-8478-c7e691e05403",
   "fff227cb-6c67-4666-825c-73b39feaa02f",
   "36b09aeb-22b0-4a9c-a95b-f4940e362a18",
   "computational-child"
  ]
 },
 "nbformat": 4,
 "nbformat_minor": 5
}
