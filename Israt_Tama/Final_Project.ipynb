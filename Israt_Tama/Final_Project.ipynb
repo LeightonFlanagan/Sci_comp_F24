{
 "cells": [
  {
   "cell_type": "markdown",
   "id": "1994bd0c-9ad8-43f4-b948-7299a91f234e",
   "metadata": {},
   "source": [
    "Importing the necessary libraries and packges"
   ]
  },
  {
   "cell_type": "code",
   "execution_count": 1,
   "id": "7c3b2172-3c04-4c7d-ab66-53f333128be6",
   "metadata": {},
   "outputs": [],
   "source": [
    "import pandas as pd\n",
    "import numpy as np\n",
    "import matplotlib.pyplot as plt\n",
    "import seaborn as sns\n",
    "from scipy.stats import chi2_contingency\n",
    "from statsmodels.formula.api import logit"
   ]
  },
  {
   "cell_type": "markdown",
   "id": "662a6d38-4aee-45db-940e-b86e39c00f9f",
   "metadata": {},
   "source": [
    "Loading the dataset "
   ]
  },
  {
   "cell_type": "code",
   "execution_count": 2,
   "id": "e9228ba9-dfa9-4917-a579-64c8f29d8c5a",
   "metadata": {},
   "outputs": [],
   "source": [
    "struc_res_new1 = pd.read_csv(r\"C:\\Users\\tamai\\OneDrive - Louisiana State University\\Fall 2024\\EXST 7004\\Projects and Proposal\\Final Project\\Flood.csv\")"
   ]
  },
  {
   "cell_type": "code",
   "execution_count": 38,
   "id": "0dd2a10d-4a0f-4d3c-badf-795354e9b001",
   "metadata": {},
   "outputs": [
    {
     "data": {
      "text/html": [
       "<div>\n",
       "<style scoped>\n",
       "    .dataframe tbody tr th:only-of-type {\n",
       "        vertical-align: middle;\n",
       "    }\n",
       "\n",
       "    .dataframe tbody tr th {\n",
       "        vertical-align: top;\n",
       "    }\n",
       "\n",
       "    .dataframe thead th {\n",
       "        text-align: right;\n",
       "    }\n",
       "</style>\n",
       "<table border=\"1\" class=\"dataframe\">\n",
       "  <thead>\n",
       "    <tr style=\"text-align: right;\">\n",
       "      <th></th>\n",
       "      <th>Unnamed: 0</th>\n",
       "      <th>X</th>\n",
       "      <th>TARGET_FID</th>\n",
       "      <th>cbfips</th>\n",
       "      <th>st_damcat</th>\n",
       "      <th>occtype</th>\n",
       "      <th>val_struct</th>\n",
       "      <th>val_cont</th>\n",
       "      <th>found_ht</th>\n",
       "      <th>found_type</th>\n",
       "      <th>...</th>\n",
       "      <th>Diff</th>\n",
       "      <th>floodfactor</th>\n",
       "      <th>fema_zone</th>\n",
       "      <th>ff_category</th>\n",
       "      <th>FLD_ZONE</th>\n",
       "      <th>SFHA_TF</th>\n",
       "      <th>FloodRisk</th>\n",
       "      <th>N_Fld_Extent</th>\n",
       "      <th>Med_In_Level</th>\n",
       "      <th>SFHA</th>\n",
       "    </tr>\n",
       "  </thead>\n",
       "  <tbody>\n",
       "    <tr>\n",
       "      <th>0</th>\n",
       "      <td>1</td>\n",
       "      <td>1</td>\n",
       "      <td>1</td>\n",
       "      <td>220930404.0</td>\n",
       "      <td>Res</td>\n",
       "      <td>RES3B</td>\n",
       "      <td>208932.90</td>\n",
       "      <td>104466.40</td>\n",
       "      <td>2.259229</td>\n",
       "      <td>Basement</td>\n",
       "      <td>...</td>\n",
       "      <td>-2.259229</td>\n",
       "      <td>2</td>\n",
       "      <td>X (shaded)</td>\n",
       "      <td>Minor</td>\n",
       "      <td>NaN</td>\n",
       "      <td>NaN</td>\n",
       "      <td>0</td>\n",
       "      <td>0</td>\n",
       "      <td>Middle</td>\n",
       "      <td>0</td>\n",
       "    </tr>\n",
       "    <tr>\n",
       "      <th>1</th>\n",
       "      <td>2</td>\n",
       "      <td>2</td>\n",
       "      <td>2</td>\n",
       "      <td>220930404.0</td>\n",
       "      <td>Res</td>\n",
       "      <td>RES3A</td>\n",
       "      <td>139112.30</td>\n",
       "      <td>69556.13</td>\n",
       "      <td>1.439902</td>\n",
       "      <td>Basement</td>\n",
       "      <td>...</td>\n",
       "      <td>-1.439902</td>\n",
       "      <td>4</td>\n",
       "      <td>X (shaded)</td>\n",
       "      <td>Moderate</td>\n",
       "      <td>NaN</td>\n",
       "      <td>NaN</td>\n",
       "      <td>0</td>\n",
       "      <td>0</td>\n",
       "      <td>Middle</td>\n",
       "      <td>0</td>\n",
       "    </tr>\n",
       "    <tr>\n",
       "      <th>2</th>\n",
       "      <td>3</td>\n",
       "      <td>3</td>\n",
       "      <td>3</td>\n",
       "      <td>220930404.0</td>\n",
       "      <td>Res</td>\n",
       "      <td>RES3A</td>\n",
       "      <td>149471.70</td>\n",
       "      <td>74735.84</td>\n",
       "      <td>2.162753</td>\n",
       "      <td>Basement</td>\n",
       "      <td>...</td>\n",
       "      <td>-2.162753</td>\n",
       "      <td>1</td>\n",
       "      <td>X (shaded)</td>\n",
       "      <td>Minimal</td>\n",
       "      <td>NaN</td>\n",
       "      <td>NaN</td>\n",
       "      <td>0</td>\n",
       "      <td>0</td>\n",
       "      <td>Middle</td>\n",
       "      <td>0</td>\n",
       "    </tr>\n",
       "    <tr>\n",
       "      <th>3</th>\n",
       "      <td>4</td>\n",
       "      <td>4</td>\n",
       "      <td>4</td>\n",
       "      <td>220930404.0</td>\n",
       "      <td>Res</td>\n",
       "      <td>RES1-1SNB</td>\n",
       "      <td>157236.20</td>\n",
       "      <td>108493.00</td>\n",
       "      <td>2.104981</td>\n",
       "      <td>Basement</td>\n",
       "      <td>...</td>\n",
       "      <td>-2.104981</td>\n",
       "      <td>1</td>\n",
       "      <td>X (shaded)</td>\n",
       "      <td>Minimal</td>\n",
       "      <td>NaN</td>\n",
       "      <td>NaN</td>\n",
       "      <td>0</td>\n",
       "      <td>0</td>\n",
       "      <td>Middle</td>\n",
       "      <td>0</td>\n",
       "    </tr>\n",
       "    <tr>\n",
       "      <th>4</th>\n",
       "      <td>5</td>\n",
       "      <td>5</td>\n",
       "      <td>5</td>\n",
       "      <td>220930404.0</td>\n",
       "      <td>Res</td>\n",
       "      <td>RES1-1SNB</td>\n",
       "      <td>322321.10</td>\n",
       "      <td>222401.60</td>\n",
       "      <td>2.013644</td>\n",
       "      <td>Basement</td>\n",
       "      <td>...</td>\n",
       "      <td>-2.013644</td>\n",
       "      <td>1</td>\n",
       "      <td>X (shaded)</td>\n",
       "      <td>Minimal</td>\n",
       "      <td>NaN</td>\n",
       "      <td>NaN</td>\n",
       "      <td>0</td>\n",
       "      <td>0</td>\n",
       "      <td>Middle</td>\n",
       "      <td>0</td>\n",
       "    </tr>\n",
       "    <tr>\n",
       "      <th>...</th>\n",
       "      <td>...</td>\n",
       "      <td>...</td>\n",
       "      <td>...</td>\n",
       "      <td>...</td>\n",
       "      <td>...</td>\n",
       "      <td>...</td>\n",
       "      <td>...</td>\n",
       "      <td>...</td>\n",
       "      <td>...</td>\n",
       "      <td>...</td>\n",
       "      <td>...</td>\n",
       "      <td>...</td>\n",
       "      <td>...</td>\n",
       "      <td>...</td>\n",
       "      <td>...</td>\n",
       "      <td>...</td>\n",
       "      <td>...</td>\n",
       "      <td>...</td>\n",
       "      <td>...</td>\n",
       "      <td>...</td>\n",
       "      <td>...</td>\n",
       "    </tr>\n",
       "    <tr>\n",
       "      <th>226955</th>\n",
       "      <td>226956</td>\n",
       "      <td>226956</td>\n",
       "      <td>247206</td>\n",
       "      <td>220919511.0</td>\n",
       "      <td>Res</td>\n",
       "      <td>RES1-3SNB</td>\n",
       "      <td>212687.50</td>\n",
       "      <td>146754.40</td>\n",
       "      <td>4.117608</td>\n",
       "      <td>Mobile</td>\n",
       "      <td>...</td>\n",
       "      <td>-4.117608</td>\n",
       "      <td>8</td>\n",
       "      <td>AE</td>\n",
       "      <td>Severe</td>\n",
       "      <td>NaN</td>\n",
       "      <td>NaN</td>\n",
       "      <td>0</td>\n",
       "      <td>0</td>\n",
       "      <td>Lower</td>\n",
       "      <td>0</td>\n",
       "    </tr>\n",
       "    <tr>\n",
       "      <th>226956</th>\n",
       "      <td>226957</td>\n",
       "      <td>226957</td>\n",
       "      <td>247207</td>\n",
       "      <td>220919511.0</td>\n",
       "      <td>Res</td>\n",
       "      <td>RES2</td>\n",
       "      <td>77307.48</td>\n",
       "      <td>38653.74</td>\n",
       "      <td>4.117608</td>\n",
       "      <td>Mobile</td>\n",
       "      <td>...</td>\n",
       "      <td>-4.117608</td>\n",
       "      <td>8</td>\n",
       "      <td>AE</td>\n",
       "      <td>Severe</td>\n",
       "      <td>NaN</td>\n",
       "      <td>NaN</td>\n",
       "      <td>0</td>\n",
       "      <td>0</td>\n",
       "      <td>Lower</td>\n",
       "      <td>0</td>\n",
       "    </tr>\n",
       "    <tr>\n",
       "      <th>226957</th>\n",
       "      <td>226958</td>\n",
       "      <td>226958</td>\n",
       "      <td>247208</td>\n",
       "      <td>220919511.0</td>\n",
       "      <td>Res</td>\n",
       "      <td>RES1-3SNB</td>\n",
       "      <td>212687.50</td>\n",
       "      <td>146754.40</td>\n",
       "      <td>4.117608</td>\n",
       "      <td>Mobile</td>\n",
       "      <td>...</td>\n",
       "      <td>-4.117608</td>\n",
       "      <td>8</td>\n",
       "      <td>AE</td>\n",
       "      <td>Severe</td>\n",
       "      <td>NaN</td>\n",
       "      <td>NaN</td>\n",
       "      <td>0</td>\n",
       "      <td>0</td>\n",
       "      <td>Lower</td>\n",
       "      <td>0</td>\n",
       "    </tr>\n",
       "    <tr>\n",
       "      <th>226958</th>\n",
       "      <td>226959</td>\n",
       "      <td>226959</td>\n",
       "      <td>247209</td>\n",
       "      <td>220919511.0</td>\n",
       "      <td>Res</td>\n",
       "      <td>RES1-3SNB</td>\n",
       "      <td>212687.50</td>\n",
       "      <td>146754.40</td>\n",
       "      <td>4.117608</td>\n",
       "      <td>Mobile</td>\n",
       "      <td>...</td>\n",
       "      <td>-4.117608</td>\n",
       "      <td>8</td>\n",
       "      <td>AE</td>\n",
       "      <td>Severe</td>\n",
       "      <td>NaN</td>\n",
       "      <td>NaN</td>\n",
       "      <td>0</td>\n",
       "      <td>0</td>\n",
       "      <td>Lower</td>\n",
       "      <td>0</td>\n",
       "    </tr>\n",
       "    <tr>\n",
       "      <th>226959</th>\n",
       "      <td>226960</td>\n",
       "      <td>226960</td>\n",
       "      <td>247210</td>\n",
       "      <td>220919511.0</td>\n",
       "      <td>Res</td>\n",
       "      <td>RES1-3SNB</td>\n",
       "      <td>212687.50</td>\n",
       "      <td>146754.40</td>\n",
       "      <td>4.117608</td>\n",
       "      <td>Mobile</td>\n",
       "      <td>...</td>\n",
       "      <td>-4.117608</td>\n",
       "      <td>8</td>\n",
       "      <td>AE</td>\n",
       "      <td>Severe</td>\n",
       "      <td>NaN</td>\n",
       "      <td>NaN</td>\n",
       "      <td>0</td>\n",
       "      <td>0</td>\n",
       "      <td>Lower</td>\n",
       "      <td>0</td>\n",
       "    </tr>\n",
       "  </tbody>\n",
       "</table>\n",
       "<p>226960 rows × 63 columns</p>\n",
       "</div>"
      ],
      "text/plain": [
       "        Unnamed: 0       X  TARGET_FID       cbfips st_damcat    occtype  \\\n",
       "0                1       1           1  220930404.0       Res      RES3B   \n",
       "1                2       2           2  220930404.0       Res      RES3A   \n",
       "2                3       3           3  220930404.0       Res      RES3A   \n",
       "3                4       4           4  220930404.0       Res  RES1-1SNB   \n",
       "4                5       5           5  220930404.0       Res  RES1-1SNB   \n",
       "...            ...     ...         ...          ...       ...        ...   \n",
       "226955      226956  226956      247206  220919511.0       Res  RES1-3SNB   \n",
       "226956      226957  226957      247207  220919511.0       Res       RES2   \n",
       "226957      226958  226958      247208  220919511.0       Res  RES1-3SNB   \n",
       "226958      226959  226959      247209  220919511.0       Res  RES1-3SNB   \n",
       "226959      226960  226960      247210  220919511.0       Res  RES1-3SNB   \n",
       "\n",
       "        val_struct   val_cont  found_ht found_type  ...      Diff  \\\n",
       "0        208932.90  104466.40  2.259229   Basement  ... -2.259229   \n",
       "1        139112.30   69556.13  1.439902   Basement  ... -1.439902   \n",
       "2        149471.70   74735.84  2.162753   Basement  ... -2.162753   \n",
       "3        157236.20  108493.00  2.104981   Basement  ... -2.104981   \n",
       "4        322321.10  222401.60  2.013644   Basement  ... -2.013644   \n",
       "...            ...        ...       ...        ...  ...       ...   \n",
       "226955   212687.50  146754.40  4.117608     Mobile  ... -4.117608   \n",
       "226956    77307.48   38653.74  4.117608     Mobile  ... -4.117608   \n",
       "226957   212687.50  146754.40  4.117608     Mobile  ... -4.117608   \n",
       "226958   212687.50  146754.40  4.117608     Mobile  ... -4.117608   \n",
       "226959   212687.50  146754.40  4.117608     Mobile  ... -4.117608   \n",
       "\n",
       "        floodfactor   fema_zone  ff_category  FLD_ZONE  SFHA_TF  FloodRisk  \\\n",
       "0                 2  X (shaded)        Minor       NaN      NaN          0   \n",
       "1                 4  X (shaded)     Moderate       NaN      NaN          0   \n",
       "2                 1  X (shaded)      Minimal       NaN      NaN          0   \n",
       "3                 1  X (shaded)      Minimal       NaN      NaN          0   \n",
       "4                 1  X (shaded)      Minimal       NaN      NaN          0   \n",
       "...             ...         ...          ...       ...      ...        ...   \n",
       "226955            8          AE       Severe       NaN      NaN          0   \n",
       "226956            8          AE       Severe       NaN      NaN          0   \n",
       "226957            8          AE       Severe       NaN      NaN          0   \n",
       "226958            8          AE       Severe       NaN      NaN          0   \n",
       "226959            8          AE       Severe       NaN      NaN          0   \n",
       "\n",
       "        N_Fld_Extent  Med_In_Level  SFHA  \n",
       "0                  0        Middle     0  \n",
       "1                  0        Middle     0  \n",
       "2                  0        Middle     0  \n",
       "3                  0        Middle     0  \n",
       "4                  0        Middle     0  \n",
       "...              ...           ...   ...  \n",
       "226955             0         Lower     0  \n",
       "226956             0         Lower     0  \n",
       "226957             0         Lower     0  \n",
       "226958             0         Lower     0  \n",
       "226959             0         Lower     0  \n",
       "\n",
       "[226960 rows x 63 columns]"
      ]
     },
     "execution_count": 38,
     "metadata": {},
     "output_type": "execute_result"
    }
   ],
   "source": [
    "struc_res_new1\n"
   ]
  },
  {
   "cell_type": "code",
   "execution_count": null,
   "id": "49b9b976-743b-49ff-a3c7-bdc5c185e578",
   "metadata": {},
   "outputs": [],
   "source": []
  },
  {
   "cell_type": "markdown",
   "id": "c813021d-e97a-4e6c-b8c4-103a07b7a1a4",
   "metadata": {},
   "source": [
    "Creating the median income classification"
   ]
  },
  {
   "cell_type": "code",
   "execution_count": 4,
   "id": "3038fbd4-aea4-4cea-ac16-38aadb846390",
   "metadata": {},
   "outputs": [],
   "source": [
    "# Creating median income classification\n",
    "struc_res_new1['Med_In_Level'] = pd.cut(\n",
    "    struc_res_new1['Med_In15'],\n",
    "    bins=[-np.inf, 45328, 84989, np.inf],\n",
    "    labels=['Lower', 'Middle', 'Higher']\n",
    ")"
   ]
  },
  {
   "cell_type": "code",
   "execution_count": 5,
   "id": "c22fb423-f8c5-4b14-a121-844bddb9a106",
   "metadata": {},
   "outputs": [],
   "source": []
  },
  {
   "cell_type": "code",
   "execution_count": 5,
   "id": "0db60fb7-8fa5-494d-8696-91c7540026ef",
   "metadata": {},
   "outputs": [
    {
     "name": "stdout",
     "output_type": "stream",
     "text": [
      "[0 1]\n"
     ]
    }
   ],
   "source": [
    "print(struc_res_new1['SFHA'].unique())"
   ]
  },
  {
   "cell_type": "code",
   "execution_count": 6,
   "id": "62ced519-aefb-4a6b-92cb-bb23ee40a700",
   "metadata": {},
   "outputs": [],
   "source": [
    "# Creating median year built category\n",
    "struc_res_new1['Med_Yr_New'] = pd.cut(\n",
    "    struc_res_new1['Med_Yr_B'],\n",
    "    bins=[-np.inf, 1949, 1969, 1989, np.inf],\n",
    "    labels=['Before 1950', '1950-1969', '1970-1989', 'After 1989']\n",
    ")"
   ]
  },
  {
   "cell_type": "code",
   "execution_count": 7,
   "id": "6e0d40f3-6159-4e20-8937-403dea7b862a",
   "metadata": {},
   "outputs": [],
   "source": [
    "# Filtering the dataset\n",
    "Flood = struc_res_new1[['N_Fld_Extent', 'Med_In_Level', 'SFHA', 'ff_category']].copy()\n"
   ]
  },
  {
   "cell_type": "code",
   "execution_count": 8,
   "id": "76148036-2b86-461a-9bd4-ee7ba0ac98a9",
   "metadata": {},
   "outputs": [
    {
     "name": "stdout",
     "output_type": "stream",
     "text": [
      "[0 1]\n"
     ]
    }
   ],
   "source": [
    "# Check unique values in the SFHA column\n",
    "print(Flood['SFHA'].unique())\n"
   ]
  },
  {
   "cell_type": "code",
   "execution_count": 9,
   "id": "28d32119-0582-4081-93dd-f2965b0c6bba",
   "metadata": {},
   "outputs": [],
   "source": [
    "# Recoding flooding and SFHA categories\n",
    "Flood['flood'] = Flood['N_Fld_Extent'].replace({0: 'not_flooded', 1: 'flooded'})\n",
    "Flood['SFHA'] = Flood['SFHA'].replace({'1': 'in', '0': 'out'})"
   ]
  },
  {
   "cell_type": "code",
   "execution_count": 9,
   "id": "93406986-90d8-4d2c-8e6d-38a020fccfc7",
   "metadata": {},
   "outputs": [
    {
     "data": {
      "text/html": [
       "<div>\n",
       "<style scoped>\n",
       "    .dataframe tbody tr th:only-of-type {\n",
       "        vertical-align: middle;\n",
       "    }\n",
       "\n",
       "    .dataframe tbody tr th {\n",
       "        vertical-align: top;\n",
       "    }\n",
       "\n",
       "    .dataframe thead th {\n",
       "        text-align: right;\n",
       "    }\n",
       "</style>\n",
       "<table border=\"1\" class=\"dataframe\">\n",
       "  <thead>\n",
       "    <tr style=\"text-align: right;\">\n",
       "      <th></th>\n",
       "      <th>N_Fld_Extent</th>\n",
       "      <th>Med_In_Level</th>\n",
       "      <th>SFHA</th>\n",
       "      <th>ff_category</th>\n",
       "      <th>flood</th>\n",
       "    </tr>\n",
       "  </thead>\n",
       "  <tbody>\n",
       "    <tr>\n",
       "      <th>0</th>\n",
       "      <td>0</td>\n",
       "      <td>Middle</td>\n",
       "      <td>in</td>\n",
       "      <td>Minor</td>\n",
       "      <td>not_flooded</td>\n",
       "    </tr>\n",
       "    <tr>\n",
       "      <th>1</th>\n",
       "      <td>0</td>\n",
       "      <td>Middle</td>\n",
       "      <td>in</td>\n",
       "      <td>Moderate</td>\n",
       "      <td>not_flooded</td>\n",
       "    </tr>\n",
       "    <tr>\n",
       "      <th>2</th>\n",
       "      <td>0</td>\n",
       "      <td>Middle</td>\n",
       "      <td>in</td>\n",
       "      <td>Minimal</td>\n",
       "      <td>not_flooded</td>\n",
       "    </tr>\n",
       "    <tr>\n",
       "      <th>3</th>\n",
       "      <td>0</td>\n",
       "      <td>Middle</td>\n",
       "      <td>in</td>\n",
       "      <td>Minimal</td>\n",
       "      <td>not_flooded</td>\n",
       "    </tr>\n",
       "    <tr>\n",
       "      <th>4</th>\n",
       "      <td>0</td>\n",
       "      <td>Middle</td>\n",
       "      <td>in</td>\n",
       "      <td>Minimal</td>\n",
       "      <td>not_flooded</td>\n",
       "    </tr>\n",
       "    <tr>\n",
       "      <th>...</th>\n",
       "      <td>...</td>\n",
       "      <td>...</td>\n",
       "      <td>...</td>\n",
       "      <td>...</td>\n",
       "      <td>...</td>\n",
       "    </tr>\n",
       "    <tr>\n",
       "      <th>226955</th>\n",
       "      <td>0</td>\n",
       "      <td>Lower</td>\n",
       "      <td>in</td>\n",
       "      <td>Severe</td>\n",
       "      <td>not_flooded</td>\n",
       "    </tr>\n",
       "    <tr>\n",
       "      <th>226956</th>\n",
       "      <td>0</td>\n",
       "      <td>Lower</td>\n",
       "      <td>in</td>\n",
       "      <td>Severe</td>\n",
       "      <td>not_flooded</td>\n",
       "    </tr>\n",
       "    <tr>\n",
       "      <th>226957</th>\n",
       "      <td>0</td>\n",
       "      <td>NaN</td>\n",
       "      <td>in</td>\n",
       "      <td>Severe</td>\n",
       "      <td>not_flooded</td>\n",
       "    </tr>\n",
       "    <tr>\n",
       "      <th>226958</th>\n",
       "      <td>0</td>\n",
       "      <td>NaN</td>\n",
       "      <td>in</td>\n",
       "      <td>Severe</td>\n",
       "      <td>not_flooded</td>\n",
       "    </tr>\n",
       "    <tr>\n",
       "      <th>226959</th>\n",
       "      <td>0</td>\n",
       "      <td>NaN</td>\n",
       "      <td>in</td>\n",
       "      <td>Severe</td>\n",
       "      <td>not_flooded</td>\n",
       "    </tr>\n",
       "  </tbody>\n",
       "</table>\n",
       "<p>226960 rows × 5 columns</p>\n",
       "</div>"
      ],
      "text/plain": [
       "        N_Fld_Extent Med_In_Level SFHA ff_category        flood\n",
       "0                  0       Middle   in       Minor  not_flooded\n",
       "1                  0       Middle   in    Moderate  not_flooded\n",
       "2                  0       Middle   in     Minimal  not_flooded\n",
       "3                  0       Middle   in     Minimal  not_flooded\n",
       "4                  0       Middle   in     Minimal  not_flooded\n",
       "...              ...          ...  ...         ...          ...\n",
       "226955             0        Lower   in      Severe  not_flooded\n",
       "226956             0        Lower   in      Severe  not_flooded\n",
       "226957             0          NaN   in      Severe  not_flooded\n",
       "226958             0          NaN   in      Severe  not_flooded\n",
       "226959             0          NaN   in      Severe  not_flooded\n",
       "\n",
       "[226960 rows x 5 columns]"
      ]
     },
     "execution_count": 9,
     "metadata": {},
     "output_type": "execute_result"
    }
   ],
   "source": [
    "Flood\n"
   ]
  },
  {
   "cell_type": "code",
   "execution_count": 12,
   "id": "a60c601a-9230-4b9c-a4f6-54a6a7f2eede",
   "metadata": {},
   "outputs": [],
   "source": [
    "# Filtering by flood factor category and median income level\n",
    "Flood = Flood[Flood['ff_category'].isin(['Minor', 'Moderate', 'Minimal'])]\n",
    "Flood = Flood[Flood['Med_In_Level'].isin(['Lower', 'Middle', 'Higher'])]"
   ]
  },
  {
   "cell_type": "code",
   "execution_count": 13,
   "id": "7f413503-6c42-4f54-ab16-c7a4fd5ac098",
   "metadata": {},
   "outputs": [
    {
     "data": {
      "text/html": [
       "<div>\n",
       "<style scoped>\n",
       "    .dataframe tbody tr th:only-of-type {\n",
       "        vertical-align: middle;\n",
       "    }\n",
       "\n",
       "    .dataframe tbody tr th {\n",
       "        vertical-align: top;\n",
       "    }\n",
       "\n",
       "    .dataframe thead th {\n",
       "        text-align: right;\n",
       "    }\n",
       "</style>\n",
       "<table border=\"1\" class=\"dataframe\">\n",
       "  <thead>\n",
       "    <tr style=\"text-align: right;\">\n",
       "      <th></th>\n",
       "      <th>N_Fld_Extent</th>\n",
       "      <th>Med_In_Level</th>\n",
       "      <th>SFHA</th>\n",
       "      <th>ff_category</th>\n",
       "      <th>flood</th>\n",
       "    </tr>\n",
       "  </thead>\n",
       "  <tbody>\n",
       "    <tr>\n",
       "      <th>0</th>\n",
       "      <td>0</td>\n",
       "      <td>Middle</td>\n",
       "      <td>0</td>\n",
       "      <td>Minor</td>\n",
       "      <td>not_flooded</td>\n",
       "    </tr>\n",
       "    <tr>\n",
       "      <th>1</th>\n",
       "      <td>0</td>\n",
       "      <td>Middle</td>\n",
       "      <td>0</td>\n",
       "      <td>Moderate</td>\n",
       "      <td>not_flooded</td>\n",
       "    </tr>\n",
       "    <tr>\n",
       "      <th>2</th>\n",
       "      <td>0</td>\n",
       "      <td>Middle</td>\n",
       "      <td>0</td>\n",
       "      <td>Minimal</td>\n",
       "      <td>not_flooded</td>\n",
       "    </tr>\n",
       "    <tr>\n",
       "      <th>3</th>\n",
       "      <td>0</td>\n",
       "      <td>Middle</td>\n",
       "      <td>0</td>\n",
       "      <td>Minimal</td>\n",
       "      <td>not_flooded</td>\n",
       "    </tr>\n",
       "    <tr>\n",
       "      <th>4</th>\n",
       "      <td>0</td>\n",
       "      <td>Middle</td>\n",
       "      <td>0</td>\n",
       "      <td>Minimal</td>\n",
       "      <td>not_flooded</td>\n",
       "    </tr>\n",
       "    <tr>\n",
       "      <th>...</th>\n",
       "      <td>...</td>\n",
       "      <td>...</td>\n",
       "      <td>...</td>\n",
       "      <td>...</td>\n",
       "      <td>...</td>\n",
       "    </tr>\n",
       "    <tr>\n",
       "      <th>226937</th>\n",
       "      <td>0</td>\n",
       "      <td>Lower</td>\n",
       "      <td>0</td>\n",
       "      <td>Minimal</td>\n",
       "      <td>not_flooded</td>\n",
       "    </tr>\n",
       "    <tr>\n",
       "      <th>226938</th>\n",
       "      <td>0</td>\n",
       "      <td>Lower</td>\n",
       "      <td>0</td>\n",
       "      <td>Minimal</td>\n",
       "      <td>not_flooded</td>\n",
       "    </tr>\n",
       "    <tr>\n",
       "      <th>226939</th>\n",
       "      <td>0</td>\n",
       "      <td>Lower</td>\n",
       "      <td>0</td>\n",
       "      <td>Minimal</td>\n",
       "      <td>not_flooded</td>\n",
       "    </tr>\n",
       "    <tr>\n",
       "      <th>226941</th>\n",
       "      <td>0</td>\n",
       "      <td>Lower</td>\n",
       "      <td>0</td>\n",
       "      <td>Minimal</td>\n",
       "      <td>not_flooded</td>\n",
       "    </tr>\n",
       "    <tr>\n",
       "      <th>226942</th>\n",
       "      <td>0</td>\n",
       "      <td>Lower</td>\n",
       "      <td>0</td>\n",
       "      <td>Minimal</td>\n",
       "      <td>not_flooded</td>\n",
       "    </tr>\n",
       "  </tbody>\n",
       "</table>\n",
       "<p>160964 rows × 5 columns</p>\n",
       "</div>"
      ],
      "text/plain": [
       "        N_Fld_Extent Med_In_Level  SFHA ff_category        flood\n",
       "0                  0       Middle     0       Minor  not_flooded\n",
       "1                  0       Middle     0    Moderate  not_flooded\n",
       "2                  0       Middle     0     Minimal  not_flooded\n",
       "3                  0       Middle     0     Minimal  not_flooded\n",
       "4                  0       Middle     0     Minimal  not_flooded\n",
       "...              ...          ...   ...         ...          ...\n",
       "226937             0        Lower     0     Minimal  not_flooded\n",
       "226938             0        Lower     0     Minimal  not_flooded\n",
       "226939             0        Lower     0     Minimal  not_flooded\n",
       "226941             0        Lower     0     Minimal  not_flooded\n",
       "226942             0        Lower     0     Minimal  not_flooded\n",
       "\n",
       "[160964 rows x 5 columns]"
      ]
     },
     "execution_count": 13,
     "metadata": {},
     "output_type": "execute_result"
    }
   ],
   "source": [
    "Flood\n",
    "\n"
   ]
  },
  {
   "cell_type": "code",
   "execution_count": 14,
   "id": "5768521e-a815-4426-9544-c599d2131c4e",
   "metadata": {},
   "outputs": [],
   "source": [
    "# Preparing the final data\n",
    "Flood = Flood[['flood', 'SFHA', 'Med_In_Level', 'ff_category']]"
   ]
  },
  {
   "cell_type": "code",
   "execution_count": 17,
   "id": "08e6fc82-0db9-4e71-86fb-8b5c3c98bf92",
   "metadata": {},
   "outputs": [
    {
     "name": "stderr",
     "output_type": "stream",
     "text": [
      "C:\\Users\\tamai\\AppData\\Local\\Temp\\ipykernel_34884\\1979331102.py:1: SettingWithCopyWarning: \n",
      "A value is trying to be set on a copy of a slice from a DataFrame.\n",
      "Try using .loc[row_indexer,col_indexer] = value instead\n",
      "\n",
      "See the caveats in the documentation: https://pandas.pydata.org/pandas-docs/stable/user_guide/indexing.html#returning-a-view-versus-a-copy\n",
      "  Flood['SFHA'] = Flood['SFHA'].replace({0: 'outside', 1: 'inside'})\n"
     ]
    }
   ],
   "source": [
    "Flood['SFHA'] = Flood['SFHA'].replace({0: 'outside', 1: 'inside'})\n"
   ]
  },
  {
   "cell_type": "code",
   "execution_count": 18,
   "id": "9897b6ce-3d54-45ec-89b5-3bd2be95c929",
   "metadata": {},
   "outputs": [],
   "source": [
    "Flood.loc[:, 'SFHA'] = Flood['SFHA'].replace({0: 'outside', 1: 'inside'})\n"
   ]
  },
  {
   "cell_type": "code",
   "execution_count": 19,
   "id": "7786615e-fdf5-415d-84ff-f1af9a7bc819",
   "metadata": {},
   "outputs": [
    {
     "data": {
      "text/html": [
       "<div>\n",
       "<style scoped>\n",
       "    .dataframe tbody tr th:only-of-type {\n",
       "        vertical-align: middle;\n",
       "    }\n",
       "\n",
       "    .dataframe tbody tr th {\n",
       "        vertical-align: top;\n",
       "    }\n",
       "\n",
       "    .dataframe thead th {\n",
       "        text-align: right;\n",
       "    }\n",
       "</style>\n",
       "<table border=\"1\" class=\"dataframe\">\n",
       "  <thead>\n",
       "    <tr style=\"text-align: right;\">\n",
       "      <th></th>\n",
       "      <th>flood</th>\n",
       "      <th>SFHA</th>\n",
       "      <th>Med_In_Level</th>\n",
       "      <th>ff_category</th>\n",
       "    </tr>\n",
       "  </thead>\n",
       "  <tbody>\n",
       "    <tr>\n",
       "      <th>0</th>\n",
       "      <td>not_flooded</td>\n",
       "      <td>outside</td>\n",
       "      <td>Middle</td>\n",
       "      <td>Minor</td>\n",
       "    </tr>\n",
       "    <tr>\n",
       "      <th>1</th>\n",
       "      <td>not_flooded</td>\n",
       "      <td>outside</td>\n",
       "      <td>Middle</td>\n",
       "      <td>Moderate</td>\n",
       "    </tr>\n",
       "    <tr>\n",
       "      <th>2</th>\n",
       "      <td>not_flooded</td>\n",
       "      <td>outside</td>\n",
       "      <td>Middle</td>\n",
       "      <td>Minimal</td>\n",
       "    </tr>\n",
       "    <tr>\n",
       "      <th>3</th>\n",
       "      <td>not_flooded</td>\n",
       "      <td>outside</td>\n",
       "      <td>Middle</td>\n",
       "      <td>Minimal</td>\n",
       "    </tr>\n",
       "    <tr>\n",
       "      <th>4</th>\n",
       "      <td>not_flooded</td>\n",
       "      <td>outside</td>\n",
       "      <td>Middle</td>\n",
       "      <td>Minimal</td>\n",
       "    </tr>\n",
       "    <tr>\n",
       "      <th>...</th>\n",
       "      <td>...</td>\n",
       "      <td>...</td>\n",
       "      <td>...</td>\n",
       "      <td>...</td>\n",
       "    </tr>\n",
       "    <tr>\n",
       "      <th>226937</th>\n",
       "      <td>not_flooded</td>\n",
       "      <td>outside</td>\n",
       "      <td>Lower</td>\n",
       "      <td>Minimal</td>\n",
       "    </tr>\n",
       "    <tr>\n",
       "      <th>226938</th>\n",
       "      <td>not_flooded</td>\n",
       "      <td>outside</td>\n",
       "      <td>Lower</td>\n",
       "      <td>Minimal</td>\n",
       "    </tr>\n",
       "    <tr>\n",
       "      <th>226939</th>\n",
       "      <td>not_flooded</td>\n",
       "      <td>outside</td>\n",
       "      <td>Lower</td>\n",
       "      <td>Minimal</td>\n",
       "    </tr>\n",
       "    <tr>\n",
       "      <th>226941</th>\n",
       "      <td>not_flooded</td>\n",
       "      <td>outside</td>\n",
       "      <td>Lower</td>\n",
       "      <td>Minimal</td>\n",
       "    </tr>\n",
       "    <tr>\n",
       "      <th>226942</th>\n",
       "      <td>not_flooded</td>\n",
       "      <td>outside</td>\n",
       "      <td>Lower</td>\n",
       "      <td>Minimal</td>\n",
       "    </tr>\n",
       "  </tbody>\n",
       "</table>\n",
       "<p>160964 rows × 4 columns</p>\n",
       "</div>"
      ],
      "text/plain": [
       "              flood     SFHA Med_In_Level ff_category\n",
       "0       not_flooded  outside       Middle       Minor\n",
       "1       not_flooded  outside       Middle    Moderate\n",
       "2       not_flooded  outside       Middle     Minimal\n",
       "3       not_flooded  outside       Middle     Minimal\n",
       "4       not_flooded  outside       Middle     Minimal\n",
       "...             ...      ...          ...         ...\n",
       "226937  not_flooded  outside        Lower     Minimal\n",
       "226938  not_flooded  outside        Lower     Minimal\n",
       "226939  not_flooded  outside        Lower     Minimal\n",
       "226941  not_flooded  outside        Lower     Minimal\n",
       "226942  not_flooded  outside        Lower     Minimal\n",
       "\n",
       "[160964 rows x 4 columns]"
      ]
     },
     "execution_count": 19,
     "metadata": {},
     "output_type": "execute_result"
    }
   ],
   "source": [
    "Flood\n"
   ]
  },
  {
   "cell_type": "code",
   "execution_count": 20,
   "id": "d166bba2-a4e2-4cbe-b467-e02d6bbed18d",
   "metadata": {},
   "outputs": [
    {
     "name": "stdout",
     "output_type": "stream",
     "text": [
      "['outside' 'inside']\n"
     ]
    }
   ],
   "source": [
    "# Check unique values in the SFHA column\n",
    "print(Flood['SFHA'].unique())\n"
   ]
  },
  {
   "cell_type": "code",
   "execution_count": 21,
   "id": "5caf9070-fef5-43c0-99ca-f4a7e7f6c4bb",
   "metadata": {},
   "outputs": [
    {
     "name": "stderr",
     "output_type": "stream",
     "text": [
      "C:\\Users\\tamai\\AppData\\Local\\Temp\\ipykernel_34884\\3545508629.py:3: FutureWarning: The default of observed=False is deprecated and will be changed to True in a future version of pandas. Pass observed=False to retain current behavior or observed=True to adopt the future default and silence this warning.\n",
      "  med_income_prob = Flood.groupby('Med_In_Level')['flood'].value_counts(normalize=True).unstack()\n"
     ]
    }
   ],
   "source": [
    "# Proportion tables\n",
    "sfha_prob = Flood.groupby('SFHA')['flood'].value_counts(normalize=True).unstack()\n",
    "med_income_prob = Flood.groupby('Med_In_Level')['flood'].value_counts(normalize=True).unstack()\n",
    "ff_category_prob = Flood.groupby('ff_category')['flood'].value_counts(normalize=True).unstack()"
   ]
  },
  {
   "cell_type": "code",
   "execution_count": 22,
   "id": "249efb5b-f189-49e3-8130-dac397442a54",
   "metadata": {},
   "outputs": [
    {
     "name": "stdout",
     "output_type": "stream",
     "text": [
      "flood     flooded  not_flooded\n",
      "SFHA                          \n",
      "inside   0.469091     0.530909\n",
      "outside  0.061752     0.938248\n"
     ]
    }
   ],
   "source": [
    "print(sfha_prob)\n"
   ]
  },
  {
   "cell_type": "code",
   "execution_count": 23,
   "id": "e45ee080-3aa6-45f6-8698-d10a6a552e85",
   "metadata": {},
   "outputs": [],
   "source": [
    "# Combine all proportions into a single dataframe\n",
    "probs = pd.concat([sfha_prob, med_income_prob, ff_category_prob], keys=['SFHA', 'Med_In_Level', 'ff_category'])\n",
    "probs = probs.reset_index().rename(columns={'level_0': 'Category', 'level_1': 'Condition', 'flooded': 'Yes', 'not_flooded': 'No'})"
   ]
  },
  {
   "cell_type": "code",
   "execution_count": 24,
   "id": "68474a39-91b2-4f4b-9363-fe975c93ec4d",
   "metadata": {},
   "outputs": [
    {
     "data": {
      "text/html": [
       "<div>\n",
       "<style scoped>\n",
       "    .dataframe tbody tr th:only-of-type {\n",
       "        vertical-align: middle;\n",
       "    }\n",
       "\n",
       "    .dataframe tbody tr th {\n",
       "        vertical-align: top;\n",
       "    }\n",
       "\n",
       "    .dataframe thead th {\n",
       "        text-align: right;\n",
       "    }\n",
       "</style>\n",
       "<table border=\"1\" class=\"dataframe\">\n",
       "  <thead>\n",
       "    <tr style=\"text-align: right;\">\n",
       "      <th>flood</th>\n",
       "      <th>Category</th>\n",
       "      <th>Condition</th>\n",
       "      <th>Yes</th>\n",
       "      <th>No</th>\n",
       "    </tr>\n",
       "  </thead>\n",
       "  <tbody>\n",
       "    <tr>\n",
       "      <th>0</th>\n",
       "      <td>SFHA</td>\n",
       "      <td>inside</td>\n",
       "      <td>0.469091</td>\n",
       "      <td>0.530909</td>\n",
       "    </tr>\n",
       "    <tr>\n",
       "      <th>1</th>\n",
       "      <td>SFHA</td>\n",
       "      <td>outside</td>\n",
       "      <td>0.061752</td>\n",
       "      <td>0.938248</td>\n",
       "    </tr>\n",
       "    <tr>\n",
       "      <th>2</th>\n",
       "      <td>Med_In_Level</td>\n",
       "      <td>Lower</td>\n",
       "      <td>0.140253</td>\n",
       "      <td>0.859747</td>\n",
       "    </tr>\n",
       "    <tr>\n",
       "      <th>3</th>\n",
       "      <td>Med_In_Level</td>\n",
       "      <td>Middle</td>\n",
       "      <td>0.165529</td>\n",
       "      <td>0.834471</td>\n",
       "    </tr>\n",
       "    <tr>\n",
       "      <th>4</th>\n",
       "      <td>Med_In_Level</td>\n",
       "      <td>Higher</td>\n",
       "      <td>0.066737</td>\n",
       "      <td>0.933263</td>\n",
       "    </tr>\n",
       "    <tr>\n",
       "      <th>5</th>\n",
       "      <td>ff_category</td>\n",
       "      <td>Minimal</td>\n",
       "      <td>0.131504</td>\n",
       "      <td>0.868496</td>\n",
       "    </tr>\n",
       "    <tr>\n",
       "      <th>6</th>\n",
       "      <td>ff_category</td>\n",
       "      <td>Minor</td>\n",
       "      <td>0.189885</td>\n",
       "      <td>0.810115</td>\n",
       "    </tr>\n",
       "    <tr>\n",
       "      <th>7</th>\n",
       "      <td>ff_category</td>\n",
       "      <td>Moderate</td>\n",
       "      <td>0.197072</td>\n",
       "      <td>0.802928</td>\n",
       "    </tr>\n",
       "  </tbody>\n",
       "</table>\n",
       "</div>"
      ],
      "text/plain": [
       "flood      Category Condition       Yes        No\n",
       "0              SFHA    inside  0.469091  0.530909\n",
       "1              SFHA   outside  0.061752  0.938248\n",
       "2      Med_In_Level     Lower  0.140253  0.859747\n",
       "3      Med_In_Level    Middle  0.165529  0.834471\n",
       "4      Med_In_Level    Higher  0.066737  0.933263\n",
       "5       ff_category   Minimal  0.131504  0.868496\n",
       "6       ff_category     Minor  0.189885  0.810115\n",
       "7       ff_category  Moderate  0.197072  0.802928"
      ]
     },
     "execution_count": 24,
     "metadata": {},
     "output_type": "execute_result"
    }
   ],
   "source": [
    "probs"
   ]
  },
  {
   "cell_type": "code",
   "execution_count": 25,
   "id": "4872c28b-16e9-4d92-96e2-2f1dbd9a15f8",
   "metadata": {},
   "outputs": [],
   "source": [
    "# Reshaping for visualization\n",
    "probs_melted = probs.melt(id_vars=['Category', 'Condition'], var_name='flood', value_name='Percentage')"
   ]
  },
  {
   "cell_type": "code",
   "execution_count": null,
   "id": "759c8a6a-9075-47e5-9545-51ef0f5da11f",
   "metadata": {},
   "outputs": [],
   "source": []
  },
  {
   "cell_type": "code",
   "execution_count": 27,
   "id": "3d1554bd-892a-4a95-b87d-24f97ff91ffa",
   "metadata": {},
   "outputs": [
    {
     "data": {
      "image/png": "[encoded data removed]",
      "text/plain": [
       "<Figure size 1572.12x500 with 3 Axes>"
      ]
     },
     "metadata": {},
     "output_type": "display_data"
    }
   ],
   "source": [
    "sns.catplot(data=probs_melted, kind=\"bar\", x=\"Condition\", y=\"Percentage\", hue=\"flood\", col=\"Category\",\n",
    "            palette={\"No\": \"lightblue\", \"Yes\": \"orange\"}, sharex=False)\n",
    "plt.subplots_adjust(top=0.9)\n",
    "plt.suptitle(\"Flood during 2016 by ff_category, Median Income, and FEMA SFHA\")\n",
    "plt.savefig(\"flood_plot.png\", dpi=700, bbox_inches=\"tight\")\n",
    "plt.show()\n"
   ]
  },
  {
   "cell_type": "code",
   "execution_count": 67,
   "id": "64c2f772-9c41-4193-be81-fc669f3a94cd",
   "metadata": {},
   "outputs": [],
   "source": [
    "# Chi-square tests\n",
    "def chi_square_test(table):\n",
    "    chi2, p, dof, expected = chi2_contingency(table)\n",
    "    return {'chi2': chi2, 'p_value': p, 'expected': expected}\n",
    "\n",
    "sfha_table = pd.crosstab(Flood['SFHA'], Flood['flood'])\n",
    "sfha_result = chi_square_test(sfha_table)\n",
    "\n",
    "med_income_table = pd.crosstab(Flood['Med_In_Level'], Flood['flood'])\n",
    "med_income_result = chi_square_test(med_income_table)\n",
    "\n",
    "ff_category_table = pd.crosstab(Flood['ff_category'], Flood['flood'])\n",
    "ff_category_result = chi_square_test(ff_category_table)\n"
   ]
  },
  {
   "cell_type": "code",
   "execution_count": 68,
   "id": "a39c73ed-ac57-4d18-8361-8f69e3b92a8b",
   "metadata": {},
   "outputs": [
    {
     "data": {
      "text/plain": [
       "{'chi2': 26880.80692970448,\n",
       " 'p_value': 0.0,\n",
       " 'expected': array([[16469.15169201, 87636.84830799],\n",
       "        [ 4618.84830799, 24578.15169201]])}"
      ]
     },
     "execution_count": 68,
     "metadata": {},
     "output_type": "execute_result"
    }
   ],
   "source": [
    "sfha_result\n"
   ]
  },
  {
   "cell_type": "code",
   "execution_count": 69,
   "id": "6f898ccd-f7f5-4fb5-a2e1-332079d87e4f",
   "metadata": {},
   "outputs": [
    {
     "data": {
      "text/plain": [
       "{'chi2': 131.51683599033788,\n",
       " 'p_value': 1.908488955993633e-30,\n",
       " 'expected': array([[ 6117.91350532, 32555.08649468],\n",
       "        [14970.08649468, 79659.91350532]])}"
      ]
     },
     "execution_count": 69,
     "metadata": {},
     "output_type": "execute_result"
    }
   ],
   "source": [
    "med_income_result"
   ]
  },
  {
   "cell_type": "code",
   "execution_count": 70,
   "id": "046714e1-a751-490b-b431-e3cdbe98370a",
   "metadata": {},
   "outputs": [
    {
     "data": {
      "text/plain": [
       "{'chi2': 782.0592129002488,\n",
       " 'p_value': 1.5066058794485087e-170,\n",
       " 'expected': array([[17735.19419668, 94373.80580332],\n",
       "        [  712.83112908,  3793.16887092],\n",
       "        [ 2639.97467424, 14048.02532576]])}"
      ]
     },
     "execution_count": 70,
     "metadata": {},
     "output_type": "execute_result"
    }
   ],
   "source": [
    "ff_category_result"
   ]
  },
  {
   "cell_type": "code",
   "execution_count": 71,
   "id": "f49a1d35-de06-4279-b3a1-2a859bf369e0",
   "metadata": {},
   "outputs": [],
   "source": [
    "# Conditional probabilities\n",
    "observed = np.array([[14199, 16415], [7575, 99359]])\n",
    "observed_prob = observed / observed.sum(axis=1, keepdims=True)"
   ]
  },
  {
   "cell_type": "code",
   "execution_count": 72,
   "id": "028c3abf-26f6-48a6-8bd9-3205ae67738a",
   "metadata": {},
   "outputs": [
    {
     "data": {
      "text/plain": [
       "array([[0.46380741, 0.53619259],\n",
       "       [0.07083809, 0.92916191]])"
      ]
     },
     "execution_count": 72,
     "metadata": {},
     "output_type": "execute_result"
    }
   ],
   "source": [
    "observed_prob"
   ]
  },
  {
   "cell_type": "code",
   "execution_count": 73,
   "id": "99a4086b-8eab-4e2d-b3ad-a14419bf5c9b",
   "metadata": {},
   "outputs": [],
   "source": [
    "expected = np.array([[4846.23, 25767.77], [16927.77, 90006.23]])\n",
    "expected_prob = expected / expected.sum(axis=1, keepdims=True)\n"
   ]
  },
  {
   "cell_type": "code",
   "execution_count": 74,
   "id": "ffae9af5-9561-4b3a-98d5-3b687b1c74b5",
   "metadata": {},
   "outputs": [
    {
     "data": {
      "text/plain": [
       "array([[0.1583011, 0.8416989],\n",
       "       [0.1583011, 0.8416989]])"
      ]
     },
     "execution_count": 74,
     "metadata": {},
     "output_type": "execute_result"
    }
   ],
   "source": [
    "expected_prob"
   ]
  },
  {
   "cell_type": "code",
   "execution_count": 75,
   "id": "5c06fa58-f83e-46ed-88fa-9eb49dd14ae4",
   "metadata": {},
   "outputs": [],
   "source": [
    "comparison = pd.DataFrame({\n",
    "    'Observed': observed_prob.flatten(),\n",
    "    'Expected': expected_prob.flatten()\n",
    "}, index=['In SFHA - No', 'In SFHA - Yes', 'Out SFHA - No', 'Out SFHA - Yes'])\n"
   ]
  },
  {
   "cell_type": "code",
   "execution_count": 76,
   "id": "5a21e439-da3b-4ba1-8e23-636aeec3c709",
   "metadata": {},
   "outputs": [
    {
     "data": {
      "text/html": [
       "<div>\n",
       "<style scoped>\n",
       "    .dataframe tbody tr th:only-of-type {\n",
       "        vertical-align: middle;\n",
       "    }\n",
       "\n",
       "    .dataframe tbody tr th {\n",
       "        vertical-align: top;\n",
       "    }\n",
       "\n",
       "    .dataframe thead th {\n",
       "        text-align: right;\n",
       "    }\n",
       "</style>\n",
       "<table border=\"1\" class=\"dataframe\">\n",
       "  <thead>\n",
       "    <tr style=\"text-align: right;\">\n",
       "      <th></th>\n",
       "      <th>Observed</th>\n",
       "      <th>Expected</th>\n",
       "    </tr>\n",
       "  </thead>\n",
       "  <tbody>\n",
       "    <tr>\n",
       "      <th>In SFHA - No</th>\n",
       "      <td>0.463807</td>\n",
       "      <td>0.158301</td>\n",
       "    </tr>\n",
       "    <tr>\n",
       "      <th>In SFHA - Yes</th>\n",
       "      <td>0.536193</td>\n",
       "      <td>0.841699</td>\n",
       "    </tr>\n",
       "    <tr>\n",
       "      <th>Out SFHA - No</th>\n",
       "      <td>0.070838</td>\n",
       "      <td>0.158301</td>\n",
       "    </tr>\n",
       "    <tr>\n",
       "      <th>Out SFHA - Yes</th>\n",
       "      <td>0.929162</td>\n",
       "      <td>0.841699</td>\n",
       "    </tr>\n",
       "  </tbody>\n",
       "</table>\n",
       "</div>"
      ],
      "text/plain": [
       "                Observed  Expected\n",
       "In SFHA - No    0.463807  0.158301\n",
       "In SFHA - Yes   0.536193  0.841699\n",
       "Out SFHA - No   0.070838  0.158301\n",
       "Out SFHA - Yes  0.929162  0.841699"
      ]
     },
     "execution_count": 76,
     "metadata": {},
     "output_type": "execute_result"
    }
   ],
   "source": [
    "comparison"
   ]
  },
  {
   "cell_type": "code",
   "execution_count": 77,
   "id": "ba9536da-9df3-4249-9b9b-5a1abbd7963b",
   "metadata": {},
   "outputs": [
    {
     "name": "stdout",
     "output_type": "stream",
     "text": [
      "Conditional Odds Ratio: 0.088\n",
      "Table Odds Ratio: 0.088\n"
     ]
    }
   ],
   "source": [
    "# Odds ratio\n",
    "odds_ratio_conditional = (0.0708 / 0.4638) / (0.9292 / 0.5362)\n",
    "odds_ratio_table = (16415 * 7575) / (14199 * 99359)\n",
    "\n",
    "print(f\"Conditional Odds Ratio: {odds_ratio_conditional:.3f}\")\n",
    "print(f\"Table Odds Ratio: {odds_ratio_table:.3f}\")"
   ]
  },
  {
   "cell_type": "code",
   "execution_count": 53,
   "id": "91d04b24-58b1-477f-9622-ec5b9357ccab",
   "metadata": {},
   "outputs": [
    {
     "name": "stdout",
     "output_type": "stream",
     "text": [
      "Odds Ratio for Minimum SFHA: 1.0948970527711597\n",
      "Odds Ratio for Minor SFHA: 0.7522926842018347\n",
      "Odds Ratio for Moderate SFHA: 0.6421583250823384\n"
     ]
    }
   ],
   "source": [
    "# Observed and expected values for each category (Minimum, Minor, Moderate)\n",
    "observed_min_flood = 0.853408\n",
    "observed_min_no_flood = 0.146592\n",
    "expected_min_flood = 0.841699\n",
    "expected_min_no_flood = 0.158301\n",
    "\n",
    "observed_minor_flood = 0.800000\n",
    "observed_minor_no_flood = 0.200000\n",
    "expected_minor_flood = 0.841699\n",
    "expected_minor_no_flood = 0.158301\n",
    "\n",
    "observed_moderate_flood = 0.773469\n",
    "observed_moderate_no_flood = 0.226531\n",
    "expected_moderate_flood = 0.841699\n",
    "expected_moderate_no_flood = 0.158301\n",
    "\n",
    "# Calculating Odds Ratio for each SFHA category\n",
    "odds_ratio_min = (observed_min_flood / observed_min_no_flood) / (expected_min_flood / expected_min_no_flood)\n",
    "odds_ratio_minor = (observed_minor_flood / observed_minor_no_flood) / (expected_minor_flood / expected_minor_no_flood)\n",
    "odds_ratio_moderate = (observed_moderate_flood / observed_moderate_no_flood) / (expected_moderate_flood / expected_moderate_no_flood)\n",
    "\n",
    "# Print the results\n",
    "print(f\"Odds Ratio for Minimum SFHA: {odds_ratio_min}\")\n",
    "print(f\"Odds Ratio for Minor SFHA: {odds_ratio_minor}\")\n",
    "print(f\"Odds Ratio for Moderate SFHA: {odds_ratio_moderate}\")\n"
   ]
  },
  {
   "cell_type": "code",
   "execution_count": 54,
   "id": "c06af383-7ff3-4b92-b1b0-1d3f19dea821",
   "metadata": {},
   "outputs": [
    {
     "name": "stdout",
     "output_type": "stream",
     "text": [
      "In SFHA - No - Observed Odds: 0.865, Expected Odds: 0.188, Odds Ratio: 4.599\n",
      "In SFHA - Yes - Observed Odds: 0.076, Expected Odds: 0.188, Odds Ratio: 0.405\n",
      "Out SFHA - No - Observed Odds: 1.156, Expected Odds: 5.317, Odds Ratio: 0.217\n",
      "Out SFHA - Yes - Observed Odds: 13.117, Expected Odds: 5.317, Odds Ratio: 2.467\n"
     ]
    }
   ],
   "source": [
    "# Observed and Expected probabilities\n",
    "observed = {\n",
    "    'In SFHA - No': 0.46380741,\n",
    "    'In SFHA - Yes': 0.07083809,\n",
    "    'Out SFHA - No': 0.53619259,\n",
    "    'Out SFHA - Yes': 0.92916191\n",
    "}\n",
    "\n",
    "expected = {\n",
    "    'In SFHA - No': 0.1583011,\n",
    "    'In SFHA - Yes': 0.1583011,\n",
    "    'Out SFHA - No': 0.8416989,\n",
    "    'Out SFHA - Yes': 0.8416989\n",
    "}\n",
    "\n",
    "# Calculate the odds for observed and expected\n",
    "observed_odds = {key: obs / (1 - obs) for key, obs in observed.items()}\n",
    "expected_odds = {key: exp / (1 - exp) for key, exp in expected.items()}\n",
    "\n",
    "# Calculate the odds ratio (observed odds / expected odds)\n",
    "odds_ratio = {key: observed_odds[key] / expected_odds[key] for key in observed.keys()}\n",
    "\n",
    "# Print the results\n",
    "for key in observed.keys():\n",
    "    print(f'{key} - Observed Odds: {observed_odds[key]:.3f}, Expected Odds: {expected_odds[key]:.3f}, Odds Ratio: {odds_ratio[key]:.3f}')\n"
   ]
  },
  {
   "cell_type": "code",
   "execution_count": 55,
   "id": "91724bd7-d68f-4014-ad7b-2e2c1e8fd817",
   "metadata": {},
   "outputs": [
    {
     "name": "stdout",
     "output_type": "stream",
     "text": [
      "Odds Ratio (In SFHA vs. Out SFHA): 0.088\n"
     ]
    }
   ],
   "source": [
    "# Given observed probabilities for SFHA inside and outside\n",
    "in_sfra_flooded = 0.0708\n",
    "in_sfra_not_flooded = 0.4638\n",
    "out_sfra_flooded = 0.9292\n",
    "out_sfra_not_flooded = 0.5362\n",
    "\n",
    "# Calculate odds for inside SFHA and outside SFHA\n",
    "odds_in_sfra = in_sfra_flooded / in_sfra_not_flooded\n",
    "odds_out_sfra = out_sfra_flooded / out_sfra_not_flooded\n",
    "\n",
    "# Calculate the odds ratio\n",
    "odds_ratio = odds_in_sfra / odds_out_sfra\n",
    "\n",
    "print(f\"Odds Ratio (In SFHA vs. Out SFHA): {odds_ratio:.3f}\")\n"
   ]
  },
  {
   "cell_type": "code",
   "execution_count": 57,
   "id": "e77c363f-9280-4761-8f3f-83147d6152a2",
   "metadata": {},
   "outputs": [
    {
     "name": "stdout",
     "output_type": "stream",
     "text": [
      "Odds Ratio (Minimum vs Minor): 1.455\n",
      "Odds Ratio (Minimum vs Moderate): 1.705\n",
      "Odds Ratio (Minor vs Moderate): 1.172\n"
     ]
    }
   ],
   "source": [
    "# Given observed probabilities for Minimum, Minor, and Moderate flood factors\n",
    "min_flooded = 0.853408\n",
    "min_not_flooded = 0.146592\n",
    "minor_flooded = 0.800000\n",
    "minor_not_flooded = 0.200000\n",
    "moderate_flooded = 0.773469\n",
    "moderate_not_flooded = 0.226531\n",
    "\n",
    "# Calculate odds for Minimum, Minor, and Moderate flood factors\n",
    "odds_min = min_flooded / min_not_flooded\n",
    "odds_minor = minor_flooded / minor_not_flooded\n",
    "odds_moderate = moderate_flooded / moderate_not_flooded\n",
    "\n",
    "# Calculate the odds ratios for different comparisons\n",
    "odds_ratio_min_minor = odds_min / odds_minor\n",
    "odds_ratio_min_moderate = odds_min / odds_moderate\n",
    "odds_ratio_minor_moderate = odds_minor / odds_moderate\n",
    "\n",
    "print(f\"Odds Ratio (Minimum vs Minor): {odds_ratio_min_minor:.3f}\")\n",
    "print(f\"Odds Ratio (Minimum vs Moderate): {odds_ratio_min_moderate:.3f}\")\n",
    "print(f\"Odds Ratio (Minor vs Moderate): {odds_ratio_minor_moderate:.3f}\")\n"
   ]
  },
  {
   "cell_type": "code",
   "execution_count": 56,
   "id": "0fab1bf2-77c6-407c-bb3b-65218d323772",
   "metadata": {},
   "outputs": [
    {
     "name": "stdout",
     "output_type": "stream",
     "text": [
      "Odds Ratio (Middle vs. Lower): 1.195\n"
     ]
    }
   ],
   "source": [
    "# Given observed probabilities for Middle and Lower income levels\n",
    "middle_flooded = 0.857635\n",
    "middle_not_flooded = 0.142365\n",
    "lower_flooded = 0.834471\n",
    "lower_not_flooded = 0.165529\n",
    "\n",
    "# Calculate odds for Middle and Lower income levels\n",
    "odds_middle = middle_flooded / middle_not_flooded\n",
    "odds_lower = lower_flooded / lower_not_flooded\n",
    "\n",
    "# Calculate the odds ratio\n",
    "odds_ratio = odds_middle / odds_lower\n",
    "\n",
    "print(f\"Odds Ratio (Middle vs. Lower): {odds_ratio:.3f}\")\n"
   ]
  },
  {
   "cell_type": "code",
   "execution_count": 78,
   "id": "71194350-99a6-4da9-8b6f-6fd26f08f056",
   "metadata": {},
   "outputs": [],
   "source": [
    "from statsmodels.graphics.mosaicplot import mosaic"
   ]
  },
  {
   "cell_type": "code",
   "execution_count": null,
   "id": "59051dd7-97ba-4f68-9bc9-fc1ebccc3c0d",
   "metadata": {},
   "outputs": [],
   "source": []
  },
  {
   "cell_type": "code",
   "execution_count": 80,
   "id": "2fc788a9-bcc7-456c-bbef-d8b084db3edd",
   "metadata": {},
   "outputs": [
    {
     "data": {
      "text/plain": [
       "<Figure size 800x600 with 0 Axes>"
      ]
     },
     "metadata": {},
     "output_type": "display_data"
    },
    {
     "data": {
      "image/png": "[encoded data removed]",
      "text/plain": [
       "<Figure size 640x480 with 3 Axes>"
      ]
     },
     "metadata": {},
     "output_type": "display_data"
    },
    {
     "name": "stdout",
     "output_type": "stream",
     "text": [
      "SFHA Chi-Square Test:\n",
      "Chi-Square Statistic: 26880.80692970448\n",
      "p-value: 0.0\n",
      "Degrees of Freedom: 1\n",
      "Expected Frequencies:\n",
      "[[16469.15169201 87636.84830799]\n",
      " [ 4618.84830799 24578.15169201]]\n",
      "Observed Frequencies with Margins:\n",
      "Flood  flooded  not_flooded     Total\n",
      "0         7434        96672  104106.0\n",
      "1        13654        15543   29197.0\n",
      "Total    21088       112215       NaN\n",
      "Expected Frequencies with Margins:\n",
      "Flood       flooded    not_flooded     Total\n",
      "0      16469.151692   87636.848308  104106.0\n",
      "1       4618.848308   24578.151692   29197.0\n",
      "Total  21088.000000  112215.000000       NaN\n"
     ]
    }
   ],
   "source": [
    "# SFHA analysis\n",
    "sfha_table = pd.crosstab(Flood['SFHA'], Flood['flood'], rownames=['SFHA'], colnames=['Flood'])\n",
    "sfha_result = chi2_contingency(sfha_table)\n",
    "\n",
    "# Mosaic plot for SFHA\n",
    "plt.figure(figsize=(8, 6))\n",
    "mosaic(sfha_table.stack(), title=\"Flood by SFHA Indicator\", gap=0.05)\n",
    "plt.show()\n",
    "\n",
    "# Print SFHA chi-square test results\n",
    "print(\"SFHA Chi-Square Test:\")\n",
    "print(\"Chi-Square Statistic:\", sfha_result[0])\n",
    "print(\"p-value:\", sfha_result[1])\n",
    "print(\"Degrees of Freedom:\", sfha_result[2])\n",
    "print(\"Expected Frequencies:\")\n",
    "print(sfha_result[3])\n",
    "\n",
    "# Add margins to observed and expected frequencies\n",
    "sfha_observed_with_margins = pd.concat(\n",
    "    [sfha_table.assign(Total=sfha_table.sum(axis=1)),\n",
    "     sfha_table.sum(axis=0).rename(\"Total\").to_frame().T]\n",
    ")\n",
    "sfha_expected_with_margins = pd.DataFrame(\n",
    "    sfha_result[3], columns=sfha_table.columns, index=sfha_table.index\n",
    ")\n",
    "sfha_expected_with_margins = pd.concat(\n",
    "    [sfha_expected_with_margins.assign(Total=sfha_expected_with_margins.sum(axis=1)),\n",
    "     sfha_expected_with_margins.sum(axis=0).rename(\"Total\").to_frame().T]\n",
    ")\n",
    "\n",
    "print(\"Observed Frequencies with Margins:\")\n",
    "print(sfha_observed_with_margins)\n",
    "print(\"Expected Frequencies with Margins:\")\n",
    "print(sfha_expected_with_margins)\n"
   ]
  },
  {
   "cell_type": "code",
   "execution_count": 81,
   "id": "99ecdd27-bc5e-4722-833a-d64b6ab91e7a",
   "metadata": {},
   "outputs": [
    {
     "data": {
      "text/plain": [
       "<Figure size 800x600 with 0 Axes>"
      ]
     },
     "metadata": {},
     "output_type": "display_data"
    },
    {
     "data": {
      "image/png": "[encoded data removed]",
      "text/plain": [
       "<Figure size 640x480 with 3 Axes>"
      ]
     },
     "metadata": {},
     "output_type": "display_data"
    },
    {
     "name": "stdout",
     "output_type": "stream",
     "text": [
      "Median Income Chi-Square Test:\n",
      "Chi-Square Statistic: 131.51683599033788\n",
      "p-value: 1.908488955993633e-30\n",
      "Degrees of Freedom: 1\n",
      "Expected Frequencies:\n",
      "[[ 6117.91350532 32555.08649468]\n",
      " [14970.08649468 79659.91350532]]\n"
     ]
    }
   ],
   "source": [
    "# Median Income analysis\n",
    "med_income_table = pd.crosstab(Flood['Med_In_Level'], Flood['flood'], rownames=['Median Income'], colnames=['Flood'])\n",
    "med_income_result = chi2_contingency(med_income_table)\n",
    "\n",
    "# Mosaic plot for Median Income\n",
    "plt.figure(figsize=(8, 6))\n",
    "mosaic(med_income_table.stack(), title=\"Flood by Median Income Level\", gap=0.05)\n",
    "plt.show()\n",
    "\n",
    "# Print Median Income chi-square test results\n",
    "print(\"Median Income Chi-Square Test:\")\n",
    "print(\"Chi-Square Statistic:\", med_income_result[0])\n",
    "print(\"p-value:\", med_income_result[1])\n",
    "print(\"Degrees of Freedom:\", med_income_result[2])\n",
    "print(\"Expected Frequencies:\")\n",
    "print(med_income_result[3])\n"
   ]
  },
  {
   "cell_type": "code",
   "execution_count": 82,
   "id": "226f592a-185b-47f8-b700-4689bb0c30e7",
   "metadata": {},
   "outputs": [
    {
     "data": {
      "text/plain": [
       "<Figure size 800x600 with 0 Axes>"
      ]
     },
     "metadata": {},
     "output_type": "display_data"
    },
    {
     "data": {
      "image/png": "[encoded data removed]",
      "text/plain": [
       "<Figure size 640x480 with 3 Axes>"
      ]
     },
     "metadata": {},
     "output_type": "display_data"
    },
    {
     "name": "stdout",
     "output_type": "stream",
     "text": [
      "Flood Factor Chi-Square Test:\n",
      "Chi-Square Statistic: 782.0592129002488\n",
      "p-value: 1.5066058794485087e-170\n",
      "Degrees of Freedom: 2\n",
      "Expected Frequencies:\n",
      "[[17735.19419668 94373.80580332]\n",
      " [  712.83112908  3793.16887092]\n",
      " [ 2639.97467424 14048.02532576]]\n",
      "Observed Frequencies with Margins (Flood Factor):\n",
      "Flood     flooded  not_flooded     Total\n",
      "Minimal     16386        95723  112109.0\n",
      "Minor         915         3591    4506.0\n",
      "Moderate     3787        12901   16688.0\n",
      "Total       21088       112215       NaN\n",
      "Expected Frequencies with Margins (Flood Factor):\n",
      "Flood          flooded    not_flooded     Total\n",
      "Minimal   17735.194197   94373.805803  112109.0\n",
      "Minor       712.831129    3793.168871    4506.0\n",
      "Moderate   2639.974674   14048.025326   16688.0\n",
      "Total     21088.000000  112215.000000       NaN\n"
     ]
    }
   ],
   "source": [
    "# Flood Factor analysis\n",
    "ff_table = pd.crosstab(Flood['ff_category'], Flood['flood'], rownames=['Flood Factor'], colnames=['Flood'])\n",
    "ff_result = chi2_contingency(ff_table)\n",
    "\n",
    "# Mosaic plot for Flood Factor\n",
    "plt.figure(figsize=(8, 6))\n",
    "mosaic(ff_table.stack(), title=\"Flood by Flood Factor Indicator\", gap=0.05)\n",
    "plt.show()\n",
    "\n",
    "# Print Flood Factor chi-square test results\n",
    "print(\"Flood Factor Chi-Square Test:\")\n",
    "print(\"Chi-Square Statistic:\", ff_result[0])\n",
    "print(\"p-value:\", ff_result[1])\n",
    "print(\"Degrees of Freedom:\", ff_result[2])\n",
    "print(\"Expected Frequencies:\")\n",
    "print(ff_result[3])\n",
    "\n",
    "# Add margins to Flood Factor\n",
    "ff_observed_with_margins = pd.concat(\n",
    "    [ff_table.assign(Total=ff_table.sum(axis=1)),\n",
    "     ff_table.sum(axis=0).rename(\"Total\").to_frame().T]\n",
    ")\n",
    "ff_expected_with_margins = pd.DataFrame(\n",
    "    ff_result[3], columns=ff_table.columns, index=ff_table.index\n",
    ")\n",
    "ff_expected_with_margins = pd.concat(\n",
    "    [ff_expected_with_margins.assign(Total=ff_expected_with_margins.sum(axis=1)),\n",
    "     ff_expected_with_margins.sum(axis=0).rename(\"Total\").to_frame().T]\n",
    ")\n",
    "\n",
    "print(\"Observed Frequencies with Margins (Flood Factor):\")\n",
    "print(ff_observed_with_margins)\n",
    "print(\"Expected Frequencies with Margins (Flood Factor):\")\n",
    "print(ff_expected_with_margins)"
   ]
  },
  {
   "cell_type": "code",
   "execution_count": 49,
   "id": "6bd94b62-dfdf-4f47-a508-b0d2f65eb657",
   "metadata": {},
   "outputs": [
    {
     "name": "stdout",
     "output_type": "stream",
     "text": [
      "                     Observed  Expected\n",
      "Minimum - No Flood   0.146592  0.158301\n",
      "Minimum - Flood      0.853408  0.841699\n",
      "Minor - No Flood     0.200000  0.158301\n",
      "Minor - Flood        0.800000  0.841699\n",
      "Moderate - No Flood  0.226531  0.158301\n",
      "Moderate - Flood     0.773469  0.841699\n"
     ]
    }
   ],
   "source": [
    "import numpy as np\n",
    "import pandas as pd\n",
    "\n",
    "# Observed frequencies from your contingency table\n",
    "observed = np.array([\n",
    "    [16984, 98875],  # Minimum Flood Factor\n",
    "    [929, 3716],     # Minor Flood Factor\n",
    "    [3861, 13183]    # Moderate Flood Factor\n",
    "])\n",
    "\n",
    "# Expected frequencies from your contingency table\n",
    "expected = np.array([\n",
    "    [18340.61, 97518.39],  # Minimum Flood Factor\n",
    "    [735.31, 3909.69],     # Minor Flood Factor\n",
    "    [2698.08, 14345.92]    # Moderate Flood Factor\n",
    "])\n",
    "\n",
    "# Compute the conditional probabilities (row-wise normalization)\n",
    "observed_prob = observed / observed.sum(axis=1, keepdims=True)\n",
    "expected_prob = expected / expected.sum(axis=1, keepdims=True)\n",
    "\n",
    "# Create a comparison DataFrame\n",
    "comparison = pd.DataFrame({\n",
    "    'Observed': observed_prob.flatten(),\n",
    "    'Expected': expected_prob.flatten()\n",
    "}, index=[\n",
    "    'Minimum - No Flood', 'Minimum - Flood',\n",
    "    'Minor - No Flood', 'Minor - Flood',\n",
    "    'Moderate - No Flood', 'Moderate - Flood'\n",
    "])\n",
    "\n",
    "# Display the results\n",
    "print(comparison)\n"
   ]
  },
  {
   "cell_type": "code",
   "execution_count": 51,
   "id": "12af9d88-5109-4a03-83f7-2d2cf6477220",
   "metadata": {},
   "outputs": [
    {
     "name": "stdout",
     "output_type": "stream",
     "text": [
      "                      Observed  Expected\n",
      "Middle - Not Flooded  0.142365  0.158301\n",
      "Middle - Flooded      0.857635  0.841699\n",
      "Lower - Not Flooded   0.165529  0.158301\n",
      "Lower - Flooded       0.834471  0.841699\n"
     ]
    }
   ],
   "source": [
    "import numpy as np\n",
    "import pandas as pd\n",
    "\n",
    "# Observed values\n",
    "observed = np.array([[6110, 36808], [15664, 78966]])\n",
    "observed_prob = observed / observed.sum(axis=1, keepdims=True)\n",
    "\n",
    "# Expected values\n",
    "expected = np.array([[6793.97, 36124.03], [14980.03, 79649.97]])\n",
    "expected_prob = expected / expected.sum(axis=1, keepdims=True)\n",
    "\n",
    "# Flatten the probabilities and create a DataFrame for comparison\n",
    "comparison = pd.DataFrame({\n",
    "    'Observed': observed_prob.flatten(),\n",
    "    'Expected': expected_prob.flatten()\n",
    "}, index=[\n",
    "    'Middle - Not Flooded', \n",
    "    'Middle - Flooded', \n",
    "    'Lower - Not Flooded', \n",
    "    'Lower - Flooded'\n",
    "])\n",
    "\n",
    "# Display the comparison\n",
    "print(comparison)\n"
   ]
  },
  {
   "cell_type": "code",
   "execution_count": 47,
   "id": "e0bdbdbd-0f20-49f3-a34d-f763cf59e9c1",
   "metadata": {},
   "outputs": [
    {
     "data": {
      "image/png": "[encoded data removed]",
      "text/plain": [
       "<Figure size 800x600 with 3 Axes>"
      ]
     },
     "metadata": {},
     "output_type": "display_data"
    }
   ],
   "source": [
    "import pandas as pd\n",
    "import matplotlib.pyplot as plt\n",
    "from statsmodels.graphics.mosaicplot import mosaic\n",
    "from scipy.stats import chi2_contingency\n",
    "import numpy as np\n",
    "\n",
    "\n",
    "\n",
    "# Create the contingency table\n",
    "contingency_table = pd.crosstab(Flood['SFHA'], Flood['flood'])\n",
    "\n",
    "# Perform the Chi-squared test\n",
    "chi2, p, dof, expected = chi2_contingency(contingency_table)\n",
    "\n",
    "# Compute the Pearson residuals\n",
    "residuals = (contingency_table - expected) / np.sqrt(expected)\n",
    "\n",
    "# Display the mosaic plot\n",
    "fig, ax = plt.subplots(figsize=(8, 6))\n",
    "mosaic(contingency_table.stack(), title=\"SFHA vs Flood\", ax=ax)\n",
    "\n",
    "# Annotate with Pearson residuals\n",
    "for (i, j), val in np.ndenumerate(residuals):\n",
    "    ax.text(j, i, f'{val:.2f}', color='black', ha='center', va='center', fontsize=10)\n",
    "\n",
    "# Add the p-value to the plot title\n",
    "ax.set_title(f\"SFHA vs Flood\\nChi2 p-value: {p:.4f}\", fontsize=14)\n",
    "plt.savefig(\"SFHA_plot.png\", dpi=700, bbox_inches=\"tight\")\n",
    "\n",
    "# Show the plot\n",
    "plt.show()\n"
   ]
  },
  {
   "cell_type": "code",
   "execution_count": 48,
   "id": "e722d8ac-6b3e-4114-83b1-99c80b0d406f",
   "metadata": {},
   "outputs": [
    {
     "data": {
      "image/png": "[encoded data removed]",
      "text/plain": [
       "<Figure size 800x600 with 3 Axes>"
      ]
     },
     "metadata": {},
     "output_type": "display_data"
    }
   ],
   "source": [
    "import pandas as pd\n",
    "import matplotlib.pyplot as plt\n",
    "from statsmodels.graphics.mosaicplot import mosaic\n",
    "from scipy.stats import chi2_contingency\n",
    "import numpy as np\n",
    "\n",
    "\n",
    "\n",
    "# Create the contingency table\n",
    "contingency_table = pd.crosstab(Flood['ff_category'], Flood['flood'])\n",
    "\n",
    "# Perform the Chi-squared test\n",
    "chi2, p, dof, expected = chi2_contingency(contingency_table)\n",
    "\n",
    "# Compute the Pearson residuals\n",
    "residuals = (contingency_table - expected) / np.sqrt(expected)\n",
    "\n",
    "# Display the mosaic plot\n",
    "fig, ax = plt.subplots(figsize=(8, 6))\n",
    "mosaic(contingency_table.stack(), title=\"Flood Factor Category vs Flood\", ax=ax)\n",
    "\n",
    "# Annotate with Pearson residuals\n",
    "for (i, j), val in np.ndenumerate(residuals):\n",
    "    ax.text(j, i, f'{val:.2f}', color='black', ha='center', va='center', fontsize=10)\n",
    "\n",
    "# Add the p-value to the plot title\n",
    "ax.set_title(f\"Flood Factor Category vs Flood\\nChi2 p-value: {p:.4f}\", fontsize=14)\n",
    "plt.savefig(\"ff_Category_plot.png\", dpi=700, bbox_inches=\"tight\")\n",
    "\n",
    "# Show the plot\n",
    "plt.show()\n"
   ]
  },
  {
   "cell_type": "code",
   "execution_count": 50,
   "id": "185855cc-2261-45c4-af6c-232f47ae08a9",
   "metadata": {},
   "outputs": [
    {
     "data": {
      "image/png": "[encoded data removed]",
      "text/plain": [
       "<Figure size 800x600 with 3 Axes>"
      ]
     },
     "metadata": {},
     "output_type": "display_data"
    }
   ],
   "source": [
    "import pandas as pd\n",
    "import matplotlib.pyplot as plt\n",
    "from statsmodels.graphics.mosaicplot import mosaic\n",
    "from scipy.stats import chi2_contingency\n",
    "import numpy as np\n",
    "\n",
    "\n",
    "\n",
    "# Create the contingency table\n",
    "contingency_table = pd.crosstab(Flood['Med_In_Level'], Flood['flood'])\n",
    "\n",
    "# Perform the Chi-squared test\n",
    "chi2, p, dof, expected = chi2_contingency(contingency_table)\n",
    "\n",
    "# Compute the Pearson residuals\n",
    "residuals = (contingency_table - expected) / np.sqrt(expected)\n",
    "\n",
    "# Display the mosaic plot\n",
    "fig, ax = plt.subplots(figsize=(8, 6))\n",
    "mosaic(contingency_table.stack(), title=\"Median Income Level vs Flood\", ax=ax)\n",
    "\n",
    "# Annotate with Pearson residuals\n",
    "for (i, j), val in np.ndenumerate(residuals):\n",
    "    ax.text(j, i, f'{val:.2f}', color='black', ha='center', va='center', fontsize=10)\n",
    "\n",
    "# Add the p-value to the plot title\n",
    "ax.set_title(f\"Median Income Level vs Flood\\nChi2 p-value: {p:.4f}\", fontsize=14)\n",
    "plt.savefig(\"Med_In_plot.png\", dpi=700, bbox_inches=\"tight\")\n",
    "\n",
    "# Show the plot\n",
    "plt.show()\n"
   ]
  },
  {
   "cell_type": "code",
   "execution_count": null,
   "id": "652f28d5-a25b-4714-b0af-44545d7c0dd8",
   "metadata": {},
   "outputs": [],
   "source": []
  }
 ],
 "metadata": {
  "kernelspec": {
   "display_name": "Python 3 (ipykernel)",
   "language": "python",
   "name": "python3"
  },
  "language_info": {
   "codemirror_mode": {
    "name": "ipython",
    "version": 3
   },
   "file_extension": ".py",
   "mimetype": "text/x-python",
   "name": "python",
   "nbconvert_exporter": "python",
   "pygments_lexer": "ipython3",
   "version": "3.12.4"
  }
 },
 "nbformat": 4,
 "nbformat_minor": 5
}
