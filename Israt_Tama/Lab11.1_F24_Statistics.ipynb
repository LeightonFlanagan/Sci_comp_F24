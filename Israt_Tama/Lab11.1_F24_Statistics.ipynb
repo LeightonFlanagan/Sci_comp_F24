{
 "cells": [
  {
   "cell_type": "markdown",
   "id": "cooked-impact",
   "metadata": {
    "panel-layout": {
     "height": 51.12215805053711,
     "visible": true,
     "width": 100
    }
   },
   "source": [
    "Name"
   ]
  },
  {
   "cell_type": "markdown",
   "id": "crazy-drunk",
   "metadata": {
    "panel-layout": {
     "height": 51.12215805053711,
     "visible": true,
     "width": 100
    }
   },
   "source": [
    "Labpartner(s)"
   ]
  },
  {
   "cell_type": "code",
   "execution_count": 1,
   "id": "statistical-animal",
   "metadata": {},
   "outputs": [],
   "source": [
    "#import statements go here\n"
   ]
  },
  {
   "cell_type": "markdown",
   "id": "appointed-tribute",
   "metadata": {
    "panel-layout": {
     "height": 60.596588134765625,
     "visible": true,
     "width": 100
    }
   },
   "source": [
    "# Class 11.1"
   ]
  },
  {
   "cell_type": "markdown",
   "id": "834986df-a157-45a3-8679-12e793fe2c47",
   "metadata": {
    "panel-layout": {
     "height": 97.40056610107422,
     "visible": true,
     "width": 100
    }
   },
   "source": [
    "We are moving into the last weeks of the semester. \n",
    "\n",
    "If you are behind or need to resubmit a lab, all of the labs up to 9.2 need to be turned in by the end of next week, Friday 11/15 end of day. Reminder these need to be completed to pass the course. Please check Moodle to see if you had one sent back."
   ]
  },
  {
   "cell_type": "markdown",
   "id": "bbdf9630-73a5-4a8d-98c2-45c5ef81a0f0",
   "metadata": {},
   "source": [
    "# Warmup 11.1"
   ]
  },
  {
   "cell_type": "markdown",
   "id": "tracked-tradition",
   "metadata": {
    "panel-layout": {
     "height": 260.21307373046875,
     "visible": true,
     "width": 100
    }
   },
   "source": [
    "**W.1** Write a function that returns a list of the first n powers of 2 (2^0, 2^1, 2^2, 2^3...2^n)."
   ]
  },
  {
   "cell_type": "code",
   "execution_count": 1,
   "id": "champion-rouge",
   "metadata": {},
   "outputs": [],
   "source": [
    "def powers_of_two(n):\n",
    "    return [2**i for i in range(n+1)]\n"
   ]
  },
  {
   "cell_type": "markdown",
   "id": "d8da4541-ba6f-4313-8571-27b16539d41e",
   "metadata": {},
   "source": [
    "**W.2** Using the function above, plot the first 100 powers of 2"
   ]
  },
  {
   "cell_type": "code",
   "execution_count": 5,
   "id": "ab0b4930-a77d-467a-9fc9-5ac6602f8217",
   "metadata": {},
   "outputs": [
    {
     "data": {
      "image/png": "[encoded data removed]",
      "text/plain": [
       "<Figure size 1000x600 with 1 Axes>"
      ]
     },
     "metadata": {},
     "output_type": "display_data"
    }
   ],
   "source": [
    "import matplotlib.pyplot as plt\n",
    "\n",
    "\n",
    "powers = powers_of_two(100)\n",
    "\n",
    "# Plot the powers of 2\n",
    "plt.figure(figsize=(10, 6))\n",
    "plt.plot(powers, marker='o', linestyle='-', color='g')\n",
    "#plt.yscale('log')  # Use a logarithmic scale for the y-axis for better visibility\n",
    "plt.title(\"First 100 Powers of 2\")\n",
    "plt.xlabel(\"Exponent (n)\")\n",
    "plt.ylabel(\"2^n (log scale)\")\n",
    "plt.grid(True)\n",
    "plt.show()\n"
   ]
  },
  {
   "cell_type": "markdown",
   "id": "needed-irish",
   "metadata": {
    "panel-layout": {
     "height": 156.05113220214844,
     "visible": true,
     "width": 100
    }
   },
   "source": [
    "# Lecture 11.1\n",
    "\n",
    "No lecture today!\n",
    "If you have any questions, please post on slack and we will respond"
   ]
  },
  {
   "cell_type": "markdown",
   "id": "be69581e-ee02-4aa7-a18e-74c2d61cc1c7",
   "metadata": {
    "panel-layout": {
     "height": 10,
     "visible": true,
     "width": 100
    }
   },
   "source": []
  },
  {
   "cell_type": "markdown",
   "id": "working-lottery",
   "metadata": {
    "panel-layout": {
     "height": 60.596588134765625,
     "visible": true,
     "width": 100
    }
   },
   "source": [
    "# Lab 11.1"
   ]
  },
  {
   "cell_type": "markdown",
   "id": "42ba70db-1894-44eb-9688-5380d60b34f6",
   "metadata": {
    "panel-layout": {
     "height": 51.12215805053711,
     "visible": true,
     "width": 100
    }
   },
   "source": [
    "**E.0** Complete the previous labs if you are behind."
   ]
  },
  {
   "cell_type": "markdown",
   "id": "6254f746-973e-4ebe-ad02-f81c98a1d7c6",
   "metadata": {
    "panel-layout": {
     "height": 114.54544830322266,
     "visible": true,
     "width": 100
    }
   },
   "source": [
    "**E.1** Complete Introduction to Statistics in Python. Remember to submit your datacamp scores."
   ]
  },
  {
   "cell_type": "markdown",
   "id": "computational-child",
   "metadata": {
    "panel-layout": {
     "height": 85.41192626953125,
     "visible": true,
     "width": 100
    }
   },
   "source": [
    "**Notes** Make notes for yourself on progamming tecniques and commands you learned in the this week, including examples, comments and explainitory text. You can do this here or in a separate notebook that you link to here. Basically, you are making a cheat sheet for yourself."
   ]
  },
  {
   "cell_type": "code",
   "execution_count": null,
   "id": "consecutive-bowling",
   "metadata": {},
   "outputs": [],
   "source": [
    "# the first thing I learned who do we set the seed number to get the same thing everytime we run the code randomly \n",
    "# by using np.random.seed()"
   ]
  },
  {
   "cell_type": "code",
   "execution_count": null,
   "id": "a14a68ea-90e3-4c1f-bf2e-70a828ce942e",
   "metadata": {},
   "outputs": [],
   "source": [
    "#chapter 02: part 01\n",
    "# calculating the probability\n",
    "# Count the deals for each product\n",
    "counts = amir_deals['product'].value_counts()\n",
    "\n",
    "# Calculate probability of picking a deal with each product\n",
    "probs = counts/counts.sum()\n",
    "print(probs)\n",
    "\n",
    "# choosing a sample without replacement\n",
    "# Set random seed\n",
    "np.random.seed(24)\n",
    "\n",
    "# Sample 5 deals without replacement\n",
    "sample_without_replacement = amir_deals.sample(5)\n",
    "print(sample_without_replacement)\n",
    "\n",
    "#choosing a sample with replacement\n",
    "# Set random seed\n",
    "np.random.seed(24)\n",
    "\n",
    "# Sample 5 deals with replacement\n",
    "sample_with_replacement = amir_deals(5, replace=True)\n",
    "print(sample_with_replacement)"
   ]
  },
  {
   "cell_type": "code",
   "execution_count": null,
   "id": "2fb51b44-dd73-4235-b78e-5fd81c25f054",
   "metadata": {},
   "outputs": [],
   "source": [
    "#chapter 02: part 02\n",
    "# creating histogram for the sample\n",
    "# Create a histogram of restaurant_groups and show plot\n",
    "restaurant_groups['group_size'].hist(bins=[2, 3, 4, 5, 6])\n",
    "plt.show()\n",
    "# Creating a probability distribution\n",
    "# Create probability distribution\n",
    "size_dist = restaurant_groups[\"group_size\"] / len(restaurant_groups)\n",
    "\n",
    "# Reset index and rename columns\n",
    "size_dist = size_dist.reset_index()\n",
    "size_dist.columns = [\"size_dist\", \"prob\"]\n",
    "\n",
    "print(size_dist)\n",
    "# Calculate expected value\n",
    "expected_value = np.sum(size_dist['group_size'] * size_dist['prob'])\n",
    "print(expected_value)\n",
    "\n",
    "# Subset groups of size 4 or more\n",
    "groups_4_or_more = size_dist[size_dist['group_size'] >= 4]\n",
    "\n",
    "# Sum the probabilities of groups_4_or_more\n",
    "prob_4_or_more = groups_4_or_more['prob'].sum()\n",
    "print(prob_4_or_more)"
   ]
  },
  {
   "cell_type": "code",
   "execution_count": null,
   "id": "2da22999-bd0f-46a5-ade1-5c1c71dcb107",
   "metadata": {},
   "outputs": [],
   "source": [
    "Chapter 02: part 03\n",
    "# Continuous probavility distribution\n",
    "# Min and max wait times for back-up that happens every 30 min\n",
    "min_time = 0\n",
    "max_time = 30\n",
    "\n",
    "# Import uniform from scipy.stats\n",
    "from scipy.stats import uniform\n",
    "\n",
    "# Calculate probability of waiting less than 5 mins\n",
    "prob_less_than_5 = uniform.cdf(5,0,30)\n",
    "print(prob_less_than_5)\n",
    "\n",
    " Min and max wait times for back-up that happens every 30 min\n",
    "min_time = 0\n",
    "max_time = 30\n",
    "\n",
    "# Import uniform from scipy.stats\n",
    "from scipy.stats import uniform\n",
    "\n",
    "# Calculate probability of waiting more than 5 mins\n",
    "prob_greater_than_5 = 1- uniform.cdf(5,0,30)\n",
    "print(prob_greater_than_5)\n",
    "\n",
    "# Min and max wait times for back-up that happens every 30 min\n",
    "min_time = 0\n",
    "max_time = 30\n",
    "\n",
    "# Import uniform from scipy.stats\n",
    "from scipy.stats import uniform\n",
    "\n",
    "# Calculate probability of waiting 10-20 mins\n",
    "prob_between_10_and_20 = uniform.cdf(20,0,30)-uniform.cdf(10,0,30)\n",
    "print(prob_between_10_and_20)\n",
    "\n",
    "# simulating wait times\n",
    "# Set random seed to 334\n",
    "np.random.seed(334)\n",
    "\n",
    "# Import uniform\n",
    "from scipy.stats import uniform\n",
    "\n",
    "# Generate 1000 wait times between 0 and 30 mins\n",
    "wait_times = uniform.rvs(0,30, size=1000)\n",
    "\n",
    "print(wait_times)\n",
    "# Set random seed to 334\n",
    "np.random.seed(334)\n",
    "\n",
    "# Import uniform\n",
    "from scipy.stats import uniform\n",
    "\n",
    "# Generate 1000 wait times between 0 and 30 mins\n",
    "wait_times = uniform.rvs(0, 30, size=1000)\n",
    "\n",
    "# Create a histogram of simulated times and show plot\n",
    "plt.hist(wait_times, bins=30)\n",
    "plt.show()"
   ]
  },
  {
   "cell_type": "code",
   "execution_count": null,
   "id": "860de5e6-6f2f-4db0-91b1-06e7b549d48a",
   "metadata": {},
   "outputs": [],
   "source": [
    "#chapter 02: part 04: simulating sales deal\n",
    "# Import binom from scipy.stats\n",
    "from scipy.stats import binom\n",
    "\n",
    "# Set random seed to 10\n",
    "np.random.seed(10)\n",
    "\n",
    "# Simulate a single deal\n",
    "print(binom.rvs(1, 0.30, size=1))\n",
    "\n",
    "# Import binom from scipy.stats\n",
    "from scipy.stats import binom\n",
    "\n",
    "# Set random seed to 10\n",
    "np.random.seed(10)\n",
    "\n",
    "# Simulate 52 weeks of 3 deals\n",
    "deals = binom.rvs(3, 0.30, size=52)\n",
    "\n",
    "# Print mean deals won per week\n",
    "print(np.mean(deals))"
   ]
  }
 ],
 "metadata": {
  "kernelspec": {
   "display_name": "Python 3 (ipykernel)",
   "language": "python",
   "name": "python3"
  },
  "language_info": {
   "codemirror_mode": {
    "name": "ipython",
    "version": 3
   },
   "file_extension": ".py",
   "mimetype": "text/x-python",
   "name": "python",
   "nbconvert_exporter": "python",
   "pygments_lexer": "ipython3",
   "version": "3.12.4"
  },
  "panel-cell-order": [
   "cooked-impact",
   "crazy-drunk",
   "appointed-tribute",
   "834986df-a157-45a3-8679-12e793fe2c47",
   "tracked-tradition",
   "needed-irish",
   "crucial-hobby",
   "be69581e-ee02-4aa7-a18e-74c2d61cc1c7",
   "working-lottery",
   "42ba70db-1894-44eb-9688-5380d60b34f6",
   "6254f746-973e-4ebe-ad02-f81c98a1d7c6",
   "ordinary-variable",
   "f8909a65-8319-4676-8478-c7e691e05403",
   "fff227cb-6c67-4666-825c-73b39feaa02f",
   "36b09aeb-22b0-4a9c-a95b-f4940e362a18",
   "computational-child"
  ]
 },
 "nbformat": 4,
 "nbformat_minor": 5
}
