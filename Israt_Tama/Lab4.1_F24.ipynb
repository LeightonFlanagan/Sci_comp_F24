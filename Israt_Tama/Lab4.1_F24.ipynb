{
 "cells": [
  {
   "cell_type": "markdown",
   "id": "underlying-transformation",
   "metadata": {},
   "source": [
    "Name: Israt"
   ]
  },
  {
   "cell_type": "markdown",
   "id": "genuine-works",
   "metadata": {},
   "source": [
    "Labpartner(s): Fahmida"
   ]
  },
  {
   "cell_type": "code",
   "execution_count": 1,
   "id": "international-split",
   "metadata": {},
   "outputs": [],
   "source": [
    "#import statements go here\n",
    "import pandas as pd\n",
    "import numpy as np\n",
    "import matplotlib.pyplot as plt"
   ]
  },
  {
   "cell_type": "markdown",
   "id": "miniature-explorer",
   "metadata": {},
   "source": [
    "# Lab 4.1"
   ]
  },
  {
   "cell_type": "markdown",
   "id": "nuclear-stroke",
   "metadata": {},
   "source": [
    "## Instructions\n",
    "\n",
    "For each class, download the lab and have it up and running in Jupyter when we begin the class period. This will allow you to code along with the demonstrations and be ready to go. Put the name of your lab partner above.\n",
    "\n",
    "When you are done with your lab, upload this document to your github folder on the class site. Then submit a url link to the completed lab, along with a screenshot of your **completed score** for the chapter assigned in datacamp to the assignment tab in Moodle."
   ]
  },
  {
   "cell_type": "markdown",
   "id": "driving-abuse",
   "metadata": {},
   "source": [
    "# Warmups 4.1"
   ]
  },
  {
   "cell_type": "markdown",
   "id": "processed-competition",
   "metadata": {},
   "source": [
    "W.1-3 Do exercises 1-3 in the Data Statisics problem: http://scipy-lectures.org/intro/numpy/exercises.html#data-statistics. See lab 4.1  on how to load in the data file"
   ]
  },
  {
   "cell_type": "markdown",
   "id": "b11aa6e1-df08-4cef-b94c-634fcf652893",
   "metadata": {},
   "source": [
    "Data loading"
   ]
  },
  {
   "cell_type": "code",
   "execution_count": 7,
   "id": "e4b4a349-fb33-4561-bfb1-310760760bb8",
   "metadata": {},
   "outputs": [
    {
     "name": "stdout",
     "output_type": "stream",
     "text": [
      "[[30000.  4000. 48300.]\n",
      " [47200.  6100. 48200.]\n",
      " [70200.  9800. 41500.]\n",
      " [77400. 35200. 38200.]\n",
      " [36300. 59400. 40600.]\n",
      " [20600. 41700. 39800.]\n",
      " [18100. 19000. 38600.]\n",
      " [21400. 13000. 42300.]\n",
      " [22000.  8300. 44500.]\n",
      " [25400.  9100. 42100.]\n",
      " [27100.  7400. 46000.]\n",
      " [40300.  8000. 46800.]\n",
      " [57000. 12300. 43800.]\n",
      " [76600. 19500. 40900.]\n",
      " [52300. 45700. 39400.]\n",
      " [19500. 51100. 39000.]\n",
      " [11200. 29700. 36700.]\n",
      " [ 7600. 15800. 41800.]\n",
      " [14600.  9700. 43300.]\n",
      " [16200. 10100. 41300.]\n",
      " [24700.  8600. 47300.]]\n"
     ]
    }
   ],
   "source": [
    "data = np.loadtxt('populations.txt')\n",
    "year, hares, lynxes, carrots = data.T\n",
    "populations = data[:,1:]\n",
    "\n",
    "print(populations)"
   ]
  },
  {
   "cell_type": "markdown",
   "id": "9290f0bc-ad2b-406f-bc7f-480046ab94b5",
   "metadata": {},
   "source": [
    "The mean and std of the populations of each species for the years in the period."
   ]
  },
  {
   "cell_type": "code",
   "execution_count": 30,
   "id": "f6f7d0aa-c5f3-438e-bce3-4dfb37c46f93",
   "metadata": {},
   "outputs": [
    {
     "name": "stdout",
     "output_type": "stream",
     "text": [
      "       Hares, Lynxes, Carrots\n",
      "Mean: [34080.95238095 20166.66666667 42400.        ]\n",
      "Std: [20897.90645809 16254.59153691  3322.50622558]\n"
     ]
    }
   ],
   "source": [
    "print(\"       Hares, Lynxes, Carrots\")\n",
    "print(\"Mean:\", populations.mean(axis=0))\n",
    "print(\"Std:\", populations.std(axis=0))\n"
   ]
  },
  {
   "cell_type": "markdown",
   "id": "feb16d1b-a471-4424-9bc1-69aa0f9f7cf7",
   "metadata": {},
   "source": [
    "Which year each species had the largest population."
   ]
  },
  {
   "cell_type": "code",
   "execution_count": 31,
   "id": "c3a4bae7-ea9c-4477-8196-57b9fe60b760",
   "metadata": {},
   "outputs": [
    {
     "name": "stdout",
     "output_type": "stream",
     "text": [
      "Max. year: [1903. 1904. 1900.]\n"
     ]
    }
   ],
   "source": [
    "j_max_years = np.argmax(populations, axis=0)\n",
    "print(\"Max. year:\", year[j_max_years])\n"
   ]
  },
  {
   "cell_type": "markdown",
   "id": "afb00289-a018-4be7-8a0f-9a0633fccc32",
   "metadata": {},
   "source": [
    "Which species has the largest population for each year. (Hint: argsort & fancy indexing of np.array(['H', 'L', 'C']))"
   ]
  },
  {
   "cell_type": "code",
   "execution_count": 33,
   "id": "160149cc-ad3c-47e4-b1bd-9c2fdbf12f83",
   "metadata": {},
   "outputs": [
    {
     "name": "stdout",
     "output_type": "stream",
     "text": [
      "Max species:\n",
      "[1900. 1901. 1902. 1903. 1904. 1905. 1906. 1907. 1908. 1909. 1910. 1911.\n",
      " 1912. 1913. 1914. 1915. 1916. 1917. 1918. 1919. 1920.]\n",
      "['Carrot' 'Carrot' 'Hare' 'Hare' 'Lynx' 'Lynx' 'Carrot' 'Carrot' 'Carrot'\n",
      " 'Carrot' 'Carrot' 'Carrot' 'Hare' 'Hare' 'Hare' 'Lynx' 'Carrot' 'Carrot'\n",
      " 'Carrot' 'Carrot' 'Carrot']\n"
     ]
    }
   ],
   "source": [
    "max_species = np.argmax(populations, axis=1)\n",
    "species = np.array(['Hare', 'Lynx', 'Carrot'])\n",
    "print(\"Max species:\")\n",
    "print(year)\n",
    "print(species[max_species])"
   ]
  },
  {
   "cell_type": "markdown",
   "id": "following-detective",
   "metadata": {},
   "source": [
    "# Lecture 4.1"
   ]
  },
  {
   "cell_type": "markdown",
   "id": "fatty-period",
   "metadata": {},
   "source": [
    "Agenda:\n",
    "\n",
    "- Checking in after the hurricane, how is everyone doing?\n",
    "- Coding questions\n",
    "- Tabs in python\n",
    "\n",
    "Some relevant coding humor: https://www.youtube.com/watch?v=JfEIkkDkrmE"
   ]
  },
  {
   "cell_type": "markdown",
   "id": "b35d93e4-7938-4a08-b3b3-e02070bc8323",
   "metadata": {},
   "source": [
    "Let's go over some of the examples here: https://scipy-lectures.org/intro/language/control_flow.html"
   ]
  },
  {
   "cell_type": "code",
   "execution_count": 11,
   "id": "5d7a078f-a636-4ba1-a3ed-0b744e641000",
   "metadata": {},
   "outputs": [
    {
     "data": {
      "text/plain": [
       "array([1, 2, 3])"
      ]
     },
     "execution_count": 11,
     "metadata": {},
     "output_type": "execute_result"
    }
   ],
   "source": [
    "x = np.array([1,2,3])\n",
    "x"
   ]
  },
  {
   "cell_type": "code",
   "execution_count": 12,
   "id": "graduate-relay",
   "metadata": {},
   "outputs": [
    {
     "name": "stdout",
     "output_type": "stream",
     "text": [
      "Hello\n"
     ]
    }
   ],
   "source": [
    "# if statement\n",
    "\n",
    "if (x[1] == 3):\n",
    "    print('yes') # there is a tab before the print statement\n",
    "    \n",
    "print('Hello')    # this is not part of the if statement\n"
   ]
  },
  {
   "cell_type": "code",
   "execution_count": 13,
   "id": "documented-district",
   "metadata": {},
   "outputs": [
    {
     "data": {
      "text/plain": [
       "True"
      ]
     },
     "execution_count": 13,
     "metadata": {},
     "output_type": "execute_result"
    }
   ],
   "source": [
    "x[1] == 2"
   ]
  },
  {
   "cell_type": "code",
   "execution_count": null,
   "id": "operational-international",
   "metadata": {},
   "outputs": [],
   "source": []
  },
  {
   "cell_type": "code",
   "execution_count": 14,
   "id": "international-halifax",
   "metadata": {},
   "outputs": [
    {
     "data": {
      "text/plain": [
       "array([4, 7, 6])"
      ]
     },
     "execution_count": 14,
     "metadata": {},
     "output_type": "execute_result"
    }
   ],
   "source": [
    "y = np.array([4,7,6])\n",
    "y"
   ]
  },
  {
   "cell_type": "code",
   "execution_count": 15,
   "id": "velvet-citation",
   "metadata": {},
   "outputs": [
    {
     "name": "stdout",
     "output_type": "stream",
     "text": [
      "Bogus\n"
     ]
    }
   ],
   "source": [
    "if (y[-1] > 7):\n",
    "    print(\"Excellent\")\n",
    "\n",
    "print('Bogus')"
   ]
  },
  {
   "cell_type": "markdown",
   "id": "widespread-attention",
   "metadata": {},
   "source": [
    "# Lab 4.1"
   ]
  },
  {
   "cell_type": "markdown",
   "id": "freelance-property",
   "metadata": {},
   "source": [
    "**E.1** Complete intermediate python chapter 3: Logic, Control Flow and Filtering\n",
    "\n",
    "Note that the tutorials here have similar material for your needs:\n",
    "https://github.com/chsharrison/Sci_comp_F24/blob/main/Course_materials/resources.md"
   ]
  },
  {
   "cell_type": "code",
   "execution_count": null,
   "id": "floating-observation",
   "metadata": {},
   "outputs": [],
   "source": []
  },
  {
   "cell_type": "markdown",
   "id": "prescribed-shooting",
   "metadata": {},
   "source": [
    "**E.2** Make notes for yourself on all of the progamming tecniques and commands you learned in the datacamp chapter above, including examples, comments and explainitory text. You can do this here or in a separate notebook that you link to here. Basically, you are making a cheat sheet for yourself."
   ]
  },
  {
   "cell_type": "markdown",
   "id": "c0bbc7a3-b77e-40c9-83d8-d0eb12d0fcc0",
   "metadata": {},
   "source": [
    "The one thing I have learned so useful is that in Windows, when I copy a path I have to turn each backslash to front manually in R. But in Python we can change it entirely by putting an \"r\" at the beginning of the pathname"
   ]
  },
  {
   "cell_type": "markdown",
   "id": "crude-checkout",
   "metadata": {},
   "source": [
    "**E.3** Exercise 1 on https://www.practicepython.org"
   ]
  },
  {
   "cell_type": "markdown",
   "id": "a07db78c-f49c-47f1-b01a-f47efaa70408",
   "metadata": {},
   "source": [
    "Create a program that asks the user to enter their name and their age. Print out a message addressed to them that tells them the year that they will turn 100 years old."
   ]
  },
  {
   "cell_type": "code",
   "execution_count": 8,
   "id": "8716c459-e2a5-4498-a55c-f20c72e7d8f7",
   "metadata": {},
   "outputs": [
    {
     "name": "stdin",
     "output_type": "stream",
     "text": [
      "Enter your age:  29\n"
     ]
    },
    {
     "name": "stdout",
     "output_type": "stream",
     "text": [
      "You will turn 100 in 2092\n"
     ]
    }
   ],
   "source": [
    "age = input(\"Enter your age: \")\n",
    "age = int(age)\n",
    "time= 2021+(100-age)\n",
    "print('You will turn 100 in '+  str(time))"
   ]
  },
  {
   "cell_type": "markdown",
   "id": "infectious-renewal",
   "metadata": {},
   "source": [
    "**E.4** Exercise 2 on https://www.practicepython.org"
   ]
  },
  {
   "cell_type": "code",
   "execution_count": 10,
   "id": "narrow-relief",
   "metadata": {},
   "outputs": [
    {
     "name": "stdin",
     "output_type": "stream",
     "text": [
      "Enter a number:  53\n"
     ]
    },
    {
     "name": "stdout",
     "output_type": "stream",
     "text": [
      "53 is an odd number\n"
     ]
    }
   ],
   "source": [
    "number = input(\"Enter a number: \")\n",
    "E4 = int(number) % 2\n",
    "if E4 == 0:\n",
    "    print(str(number)+\" is an even number\")\n",
    "else:\n",
    "    print(str(number)+\" is an odd number\")"
   ]
  },
  {
   "cell_type": "markdown",
   "id": "prescription-physiology",
   "metadata": {},
   "source": [
    "Don't forget to do some practicing of what you have been learning, including material from previous labs"
   ]
  },
  {
   "cell_type": "markdown",
   "id": "average-count",
   "metadata": {},
   "source": [
    "**You did it!**"
   ]
  },
  {
   "cell_type": "code",
   "execution_count": null,
   "id": "pressed-burning",
   "metadata": {},
   "outputs": [],
   "source": []
  }
 ],
 "metadata": {
  "kernelspec": {
   "display_name": "Python 3 (ipykernel)",
   "language": "python",
   "name": "python3"
  },
  "language_info": {
   "codemirror_mode": {
    "name": "ipython",
    "version": 3
   },
   "file_extension": ".py",
   "mimetype": "text/x-python",
   "name": "python",
   "nbconvert_exporter": "python",
   "pygments_lexer": "ipython3",
   "version": "3.12.4"
  }
 },
 "nbformat": 4,
 "nbformat_minor": 5
}
