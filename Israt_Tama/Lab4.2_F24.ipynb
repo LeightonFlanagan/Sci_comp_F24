{
 "cells": [
  {
   "cell_type": "markdown",
   "id": "short-malawi",
   "metadata": {},
   "source": [
    "Name: Israt"
   ]
  },
  {
   "cell_type": "markdown",
   "id": "frozen-floating",
   "metadata": {},
   "source": [
    "Labpartner(s): Fahmida"
   ]
  },
  {
   "cell_type": "code",
   "execution_count": 7,
   "id": "classified-reunion",
   "metadata": {},
   "outputs": [],
   "source": [
    "# import statements go here\n",
    "import numpy as np\n"
   ]
  },
  {
   "cell_type": "markdown",
   "id": "necessary-oklahoma",
   "metadata": {},
   "source": [
    "# Class 4.2"
   ]
  },
  {
   "cell_type": "markdown",
   "id": "solid-silicon",
   "metadata": {},
   "source": [
    "## Today you all are going to do the lecture! It's Present Your Plots Day."
   ]
  },
  {
   "cell_type": "markdown",
   "id": "professional-simpson",
   "metadata": {},
   "source": [
    "# Warmups 4.2"
   ]
  },
  {
   "cell_type": "markdown",
   "id": "imposed-baghdad",
   "metadata": {},
   "source": [
    "### Warmup is short today so we have time to focus on your plots."
   ]
  },
  {
   "cell_type": "markdown",
   "id": "commercial-abraham",
   "metadata": {},
   "source": [
    "**W.1** Do Exercise 3 in practice python https://www.practicepython.org"
   ]
  },
  {
   "cell_type": "markdown",
   "id": "2edcaa79-9fb6-4e07-bdb2-e4f753178726",
   "metadata": {},
   "source": [
    "Exercise 03: and write a program that prints out all the elements of the list that are less than 5."
   ]
  },
  {
   "cell_type": "code",
   "execution_count": 1,
   "id": "52552c18-f009-42f8-900c-f911e539abe7",
   "metadata": {},
   "outputs": [
    {
     "name": "stdout",
     "output_type": "stream",
     "text": [
      "1\n",
      "1\n",
      "2\n",
      "3\n"
     ]
    }
   ],
   "source": [
    "a = [1, 1, 2, 3, 5, 8, 13, 21, 34, 55, 89]\n",
    "for x in a :\n",
    "    if x< 5 : \n",
    "        print(x)"
   ]
  },
  {
   "cell_type": "markdown",
   "id": "automated-immune",
   "metadata": {},
   "source": [
    "## Agenda:\n",
    "\n",
    "- Questions about class or coding\n",
    "- Show us your plots! Explain your data set, what you did with it, and what your learned, including any difficulties you had and how you solved them."
   ]
  },
  {
   "cell_type": "code",
   "execution_count": null,
   "id": "perfect-suite",
   "metadata": {},
   "outputs": [],
   "source": []
  },
  {
   "cell_type": "markdown",
   "id": "conventional-external",
   "metadata": {},
   "source": [
    "# Lab 4.2"
   ]
  },
  {
   "cell_type": "markdown",
   "id": "married-prior",
   "metadata": {},
   "source": [
    "**E.1** Complete intermediate python chapter 4: Loops\n",
    "\n",
    "Note that loops often are very confusing for new programmers, but they are very powerful and super-useful. You will be seing them again.\n",
    "\n",
    "Note that the tutorials here have similar material for your needs:\n",
    "https://github.com/chsharrison/Sci_comp_F24/blob/main/Course_materials/resources.md"
   ]
  },
  {
   "cell_type": "markdown",
   "id": "color-difference",
   "metadata": {},
   "source": [
    "**E.2** Make notes for yourself on all of the progamming tecniques and commands you learned in the datacamp chapter above, including examples, comments and explainitory text. You might use the resources linked above for supplementary examples. You can do this here or in a separate notebook that you link to here. Basically, you are making a cheat sheet for yourself."
   ]
  },
  {
   "cell_type": "markdown",
   "id": "8d56ee9c-4fa0-4308-a169-18d1524a3cab",
   "metadata": {},
   "source": [
    "I am trying to make a cheetshit for me. The things I have learned today is that f\"list {index + 1}: {elements}\": This is an f-string, which allows for embedding variables directly inside the string. It prints out the list and its corresponding elemnts."
   ]
  },
  {
   "cell_type": "markdown",
   "id": "colored-alfred",
   "metadata": {},
   "source": [
    "**E.3-6** Exercises 4-7 in practice python (see link above)"
   ]
  },
  {
   "cell_type": "code",
   "execution_count": null,
   "id": "c4c0d468-1272-4da0-8119-4a02f755a95f",
   "metadata": {},
   "outputs": [],
   "source": [
    "Exercise 04: Create a program that asks the user for a number and then prints out a list of all the divisors of that number.\n",
    "\n"
   ]
  },
  {
   "cell_type": "code",
   "execution_count": 3,
   "id": "5bce0060-a1ec-4984-a081-7989eedec16e",
   "metadata": {},
   "outputs": [
    {
     "name": "stdin",
     "output_type": "stream",
     "text": [
      "Give me a number to divide:  30\n"
     ]
    },
    {
     "name": "stdout",
     "output_type": "stream",
     "text": [
      "[1, 2, 3, 5, 6, 10, 15, 30]\n"
     ]
    }
   ],
   "source": [
    "Num_to_divide=int(input(\"Give me a number to divide: \"))\n",
    "\n",
    "Num_range=list(range(1,Num_to_divide+1))\n",
    "\n",
    "Divisors=[]\n",
    "\n",
    "for x in Num_range:\n",
    "    if Num_to_divide%x == 0:\n",
    "        Divisors.append(x)\n",
    "print(Divisors)"
   ]
  },
  {
   "cell_type": "markdown",
   "id": "cec37aec-d7d9-4c9b-9ce0-35d18bf449ed",
   "metadata": {},
   "source": [
    "Miscellaneous Exercises"
   ]
  },
  {
   "cell_type": "markdown",
   "id": "018688d6-f9ad-4745-a2bb-a04aacbb5d33",
   "metadata": {},
   "source": [
    "Excercise 05: Take two lists, say for example these two:\r\n",
    "\r\n",
    "  a = [1, 1, 2, 3, 5, 8, 13, 21, 34, 55, 89]\r\n",
    "  b = [1, 2, 3, 4, 5, 6, 7, 8, 9, 10, 11, 12, \n",
    "\n",
    "  and write a program that returns a list that contains only the elements that are common between the lists (without duplicates). Make sure your program works on two lists of different sizes.13]"
   ]
  },
  {
   "cell_type": "code",
   "execution_count": 11,
   "id": "cdf9931f-b907-4e5e-a70e-2ccd4849c9c1",
   "metadata": {},
   "outputs": [
    {
     "name": "stdout",
     "output_type": "stream",
     "text": [
      "[1, 1, 2, 3, 5, 8, 13]\n"
     ]
    }
   ],
   "source": [
    "\n",
    "a = [1, 1, 2, 3, 5, 8, 13, 21, 34, 55, 89]\n",
    "b = [1, 2, 3, 4, 5, 6, 7, 8, 9, 10, 11, 12, 13]\n",
    "\n",
    "\n",
    "common_elements = []\n",
    "\n",
    "\n",
    "for number in a:\n",
    "   \n",
    "    if number in b and number not in common_elements:\n",
    "        common_elements.append(number)\n",
    "\n",
    "print(common_elements)\n"
   ]
  },
  {
   "cell_type": "markdown",
   "id": "8eca77c2-8e91-4d48-9f3b-21526ae3afeb",
   "metadata": {},
   "source": [
    "Exercise 06: Ask the user for a string and print out whether this string is a palindrome or not. (A palindrome is a string that reads the same forwards and backwards.)"
   ]
  },
  {
   "cell_type": "code",
   "execution_count": 19,
   "id": "924b9e60-ab84-4aed-8a0f-2b3b9a400377",
   "metadata": {},
   "outputs": [
    {
     "name": "stdin",
     "output_type": "stream",
     "text": [
      "Give me a word:  radar\n"
     ]
    },
    {
     "name": "stdout",
     "output_type": "stream",
     "text": [
      " The word radar is a Palindrome\n"
     ]
    }
   ],
   "source": [
    "word=input(\"Give me a word: \")\n",
    "\n",
    "word1= word.replace(\" \", \"\").lower()\n",
    "if word==word1[::-1] :\n",
    "    print(\" The\"+ \" word \"  + str(word1) + \" is\" + \" a\" + \" Palindrome\")\n",
    "else: \n",
    "     print(\" The \" + str(word1) + \" is\" + \" a\" +\" not\"+ \" Palindrome\")"
   ]
  },
  {
   "cell_type": "markdown",
   "id": "7410f3c7-320c-4c2e-9b8e-1c17f81d7ad2",
   "metadata": {},
   "source": [
    "Excercise 07: Let’s say I give you a list saved in a variable: a = [1, 4, 9, 16, 25, 36, 49, 64, 81, 100]. Write one line of Python that takes this list a and makes a new list that has only the even elements of this list in it."
   ]
  },
  {
   "cell_type": "code",
   "execution_count": 23,
   "id": "ecb546e6-4e41-4e0c-9e5a-213e0ead4951",
   "metadata": {},
   "outputs": [
    {
     "name": "stdout",
     "output_type": "stream",
     "text": [
      "[4, 16, 36, 64, 100]\n"
     ]
    }
   ],
   "source": [
    "Numbers= [1, 4, 9, 16, 25, 36, 49, 64, 81, 100]\n",
    "Even_numbers=[]\n",
    "\n",
    "for x in Numbers:\n",
    "    if x%2==0:\n",
    "        Even_numbers.append(x)\n",
    "print(Even_numbers)\n"
   ]
  },
  {
   "cell_type": "markdown",
   "id": "2b995691-321a-4b13-9f41-a7bfb2c2a4ba",
   "metadata": {},
   "source": [
    "I just wrote these four line commant to make a new list from the given list to identify the elements which are even. Now I am going to write\n",
    "a line code to make it happen"
   ]
  },
  {
   "cell_type": "code",
   "execution_count": 27,
   "id": "613bdb95-9e1c-4403-8b41-aa8db1b6b779",
   "metadata": {},
   "outputs": [
    {
     "name": "stdout",
     "output_type": "stream",
     "text": [
      "[4, 16, 36, 64, 100]\n"
     ]
    }
   ],
   "source": [
    "a = [1, 4, 9, 16, 25, 36, 49, 64, 81, 100]\n",
    "b=[number for number in a if number%2 ==0]\n",
    "print(b)"
   ]
  },
  {
   "cell_type": "code",
   "execution_count": null,
   "id": "11f6650f-c723-4469-bc25-816fd61ff67b",
   "metadata": {},
   "outputs": [],
   "source": []
  }
 ],
 "metadata": {
  "kernelspec": {
   "display_name": "Python 3 (ipykernel)",
   "language": "python",
   "name": "python3"
  },
  "language_info": {
   "codemirror_mode": {
    "name": "ipython",
    "version": 3
   },
   "file_extension": ".py",
   "mimetype": "text/x-python",
   "name": "python",
   "nbconvert_exporter": "python",
   "pygments_lexer": "ipython3",
   "version": "3.12.4"
  }
 },
 "nbformat": 4,
 "nbformat_minor": 5
}
