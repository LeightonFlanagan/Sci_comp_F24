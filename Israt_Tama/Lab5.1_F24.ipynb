{
 "cells": [
  {
   "cell_type": "markdown",
   "id": "absolute-chess",
   "metadata": {},
   "source": [
    "Name: Israt"
   ]
  },
  {
   "cell_type": "markdown",
   "id": "fitting-blind",
   "metadata": {},
   "source": [
    "Labpartner(s)"
   ]
  },
  {
   "cell_type": "code",
   "execution_count": 3,
   "id": "described-england",
   "metadata": {},
   "outputs": [],
   "source": [
    "# import statements go here\n",
    "import pandas as pd\n",
    "import numpy as np\n",
    "import matplotlib.pyplot as plt"
   ]
  },
  {
   "cell_type": "markdown",
   "id": "ranking-telephone",
   "metadata": {},
   "source": [
    "# Class 5.1"
   ]
  },
  {
   "cell_type": "markdown",
   "id": "opponent-producer",
   "metadata": {},
   "source": [
    "# Warmups 5.1"
   ]
  },
  {
   "cell_type": "markdown",
   "id": "prompt-shade",
   "metadata": {},
   "source": [
    "**W.1** Go through 1.4.1.2 Creating Arrays in the scipy lecture notes, including the exercises. http://scipy-lectures.org/intro/numpy/array_object.html#id2"
   ]
  },
  {
   "cell_type": "markdown",
   "id": "87b8c437-fce3-4852-897e-aa73378275ed",
   "metadata": {},
   "source": [
    "1-D Array"
   ]
  },
  {
   "cell_type": "code",
   "execution_count": 6,
   "id": "french-briefing",
   "metadata": {},
   "outputs": [
    {
     "name": "stdout",
     "output_type": "stream",
     "text": [
      "[0 1 2 3]\n",
      "1\n",
      "(4,)\n",
      "4\n"
     ]
    }
   ],
   "source": [
    "a=np.array([0,1,2,3])\n",
    "print(a)\n",
    "print(a.ndim)\n",
    "print(a.shape)\n",
    "print(len(a))"
   ]
  },
  {
   "cell_type": "markdown",
   "id": "67ba6d11-50a2-400c-a9ef-50d40cb410d1",
   "metadata": {},
   "source": [
    "2-D, 3-D Array"
   ]
  },
  {
   "cell_type": "code",
   "execution_count": 7,
   "id": "67007c45-3dbd-4d43-bd6a-101fd069646c",
   "metadata": {},
   "outputs": [
    {
     "name": "stdout",
     "output_type": "stream",
     "text": [
      "[[0 1 2]\n",
      " [3 4 5]]\n",
      "2\n",
      "(2, 3)\n",
      "2\n"
     ]
    }
   ],
   "source": [
    "b = np.array([[0, 1, 2], [3, 4, 5]])\n",
    "print(b)\n",
    "print(b.ndim)\n",
    "print(b.shape)\n",
    "print(len(b))"
   ]
  },
  {
   "cell_type": "code",
   "execution_count": 8,
   "id": "34f1a74e-dfc0-4d38-97a3-6ac929aeb244",
   "metadata": {},
   "outputs": [
    {
     "name": "stdout",
     "output_type": "stream",
     "text": [
      "[[[1]\n",
      "  [2]]\n",
      "\n",
      " [[3]\n",
      "  [4]]]\n",
      "(2, 2, 1)\n"
     ]
    }
   ],
   "source": [
    "c = np.array([[[1], [2]], [[3], [4]]])\n",
    "print(c)\n",
    "print(c.shape)"
   ]
  },
  {
   "cell_type": "markdown",
   "id": "5dcc4504-a7d1-4705-8029-cfd5e210ee6c",
   "metadata": {},
   "source": [
    "Exercise: Create a simple two dimensional array. First, redo the examples from above. And then create your own: how about odd numbers counting backwards on the first row, and even numbers on the second?Use the functions len(), numpy.shape() on these arrays. How do they relate to each other? And to the ndim attribute of the arrays?"
   ]
  },
  {
   "cell_type": "code",
   "execution_count": 13,
   "id": "76ca31f8-10a2-413d-b0a8-63047abb929a",
   "metadata": {},
   "outputs": [
    {
     "name": "stdout",
     "output_type": "stream",
     "text": [
      "2\n",
      "2\n",
      "(2, 4)\n"
     ]
    }
   ],
   "source": [
    "my_array=np.array([[7,5,3,1],[8,6,4,2]])\n",
    "print(my_array.ndim)\n",
    "print(len(my_array))\n",
    "print(np.shape(my_array))"
   ]
  },
  {
   "cell_type": "markdown",
   "id": "86d3263d-cbb3-4889-8f21-459b903ed113",
   "metadata": {},
   "source": [
    "n.dim is saying the dimension of the array. len() is also saying the same thing about the list I created. numpy.shape() is saying that the array has two rows and four columns which means basically the list has two rows and each list has four elememts. "
   ]
  },
  {
   "cell_type": "markdown",
   "id": "f030aabb-2762-45f3-83df-4ea30f129d31",
   "metadata": {},
   "source": [
    "Functions for creating arrays"
   ]
  },
  {
   "cell_type": "code",
   "execution_count": 17,
   "id": "20e83abc-1e13-4198-890e-855456b9950e",
   "metadata": {},
   "outputs": [
    {
     "name": "stdout",
     "output_type": "stream",
     "text": [
      "[0 1 2 3 4 5 6 7 8 9]\n",
      "[1 3 5 7 9]\n"
     ]
    }
   ],
   "source": [
    "# Evenly spaced\n",
    "a=np.arange(10)\n",
    "print(a)\n",
    "\n",
    "#start, end and step, if we want to include the end, we can just add the step to the end. \n",
    "b=np.arange(1,9+2,2)\n",
    "print(b)"
   ]
  },
  {
   "cell_type": "code",
   "execution_count": 25,
   "id": "1e6ff34d-dbf0-452f-8c42-0cccd9b41702",
   "metadata": {},
   "outputs": [
    {
     "name": "stdout",
     "output_type": "stream",
     "text": [
      "[0.  0.2 0.4 0.6 0.8 1. ]\n",
      "<class 'numpy.ndarray'>\n",
      "[0.  0.2 0.4 0.6 0.8]\n",
      "<class 'numpy.ndarray'>\n"
     ]
    }
   ],
   "source": [
    "#or by number of points:\n",
    "c=np.linspace(0, 1, 6)\n",
    "print(np.array(c))\n",
    "print(type(c))\n",
    "d = np.linspace(0, 1, 5, endpoint=False)\n",
    "print(np.array(d))\n",
    "print(type(d))"
   ]
  },
  {
   "cell_type": "code",
   "execution_count": 37,
   "id": "349d5d23-9ee2-44c6-96df-2b84332308f2",
   "metadata": {},
   "outputs": [
    {
     "name": "stdout",
     "output_type": "stream",
     "text": [
      "[[1. 1. 1.]\n",
      " [1. 1. 1.]\n",
      " [1. 1. 1.]]\n",
      "<class 'numpy.ndarray'>\n",
      "[[0. 0.]\n",
      " [0. 0.]]\n",
      "[[1. 0.]\n",
      " [0. 1.]]\n",
      "[[1 0 0 0]\n",
      " [0 2 0 0]\n",
      " [0 0 3 0]\n",
      " [0 0 0 4]]\n"
     ]
    }
   ],
   "source": [
    "# common array\n",
    "a=np.ones((3,3))\n",
    "print(a)\n",
    "print(type(a))\n",
    "\n",
    "b=np.zeros((2,2))\n",
    "print(b)\n",
    "\n",
    "c=np.eye(2)\n",
    "print(c)\n",
    "d = np.diag(np.array([1, 2, 3,4]))\n",
    "print(d)\n"
   ]
  },
  {
   "cell_type": "code",
   "execution_count": 39,
   "id": "b7fe668b-a3c5-43f5-b342-b134d83e5df7",
   "metadata": {},
   "outputs": [
    {
     "name": "stdout",
     "output_type": "stream",
     "text": [
      "[0.19151945 0.62210877 0.43772774 0.78535858]\n",
      "[-0.72058873  0.88716294  0.85958841 -0.6365235 ]\n"
     ]
    }
   ],
   "source": [
    "#np.random: random numbers (Mersenne Twister PRNG):\n",
    "np.random.seed(1234)\n",
    "#normal distribution\n",
    "a=np.random.rand(4)\n",
    "print(a)\n",
    "#gaussian distribution\n",
    "b=np.random.randn(4)\n",
    "print(b)"
   ]
  },
  {
   "cell_type": "markdown",
   "id": "3bcd9636-6b55-412e-813a-c0008ccc277b",
   "metadata": {},
   "source": [
    "Exercise: Creating arrays using functions\n",
    "\n",
    "Experiment with arange, linspace, ones, zeros, eye and diag.\n",
    "Create different kinds of arrays with random numbers.\n",
    "Try setting the seed before creating an array with random values.\n",
    "Look at the function np.empty. What does it do? When might this be useful?\n"
   ]
  },
  {
   "cell_type": "code",
   "execution_count": 48,
   "id": "58cee069-48d2-41d2-b89a-770b3fca1730",
   "metadata": {},
   "outputs": [
    {
     "name": "stdout",
     "output_type": "stream",
     "text": [
      "[  5  10  15  20  25  30  35  40  45  50  55  60  65  70  75  80  85  90\n",
      "  95 100]\n",
      "[ 10  15  20  25  30  35  40  45  50  55  60  65  70  75  80  85  90  95\n",
      " 100]\n",
      "[10  9  8  7  6  5  4  3  2  1]\n"
     ]
    }
   ],
   "source": [
    "# The one with arange\n",
    "# I can define the start, stop and step at the very beginning as well. \n",
    "\n",
    "\n",
    "a=np.arange(5,100+5,5)\n",
    "print(a)\n",
    "# I can define the start, stop and step at the very beginning as well. \n",
    "\n",
    "start=10\n",
    "stop=100\n",
    "step=5\n",
    "b=np.arange(start, stop+step, step)\n",
    "print(b)\n",
    "\n",
    "# we can reverse order as well, it was very useful when I did the palindrome words\n",
    "start=10\n",
    "stop=1\n",
    "step=-1\n",
    "c=np.arange(start, stop+step, step)\n",
    "print(c)\n"
   ]
  },
  {
   "cell_type": "code",
   "execution_count": 57,
   "id": "d0532371-4265-4f9c-827e-04085e1a2ba0",
   "metadata": {},
   "outputs": [
    {
     "name": "stdout",
     "output_type": "stream",
     "text": [
      "[ 0.  2.  4.  6.  8. 10.]\n",
      "[10. 12. 14. 16. 18. 20.]\n",
      "[1.  2.5 4.  5.5 7. ]\n"
     ]
    }
   ],
   "source": [
    "#The one with linspace\n",
    "a=np.linspace(0,10,6)\n",
    "print(a)\n",
    "\n",
    "# It took me a while that for the linspace, it is quite different because there is no step, we have to choose number of elements)\n",
    "start=10\n",
    "end=20\n",
    "num=6\n",
    "b= np.linspace(start, end, num)\n",
    "print(b)\n",
    "# We can include another argument that endpoint, we can make it true or false to include or exclude the end point. for example\n",
    "\n",
    "c=np.linspace(1,7,5, endpoint=True)\n",
    "\n",
    "print(c)"
   ]
  },
  {
   "cell_type": "code",
   "execution_count": 66,
   "id": "4ca6e03f-c565-47d6-93b3-f7a04ca964a2",
   "metadata": {},
   "outputs": [
    {
     "name": "stdout",
     "output_type": "stream",
     "text": [
      "[[1. 1. 1. 1. 1. 1. 1. 1. 1. 1.]\n",
      " [1. 1. 1. 1. 1. 1. 1. 1. 1. 1.]\n",
      " [1. 1. 1. 1. 1. 1. 1. 1. 1. 1.]\n",
      " [1. 1. 1. 1. 1. 1. 1. 1. 1. 1.]\n",
      " [1. 1. 1. 1. 1. 1. 1. 1. 1. 1.]\n",
      " [1. 1. 1. 1. 1. 1. 1. 1. 1. 1.]\n",
      " [1. 1. 1. 1. 1. 1. 1. 1. 1. 1.]\n",
      " [1. 1. 1. 1. 1. 1. 1. 1. 1. 1.]\n",
      " [1. 1. 1. 1. 1. 1. 1. 1. 1. 1.]\n",
      " [1. 1. 1. 1. 1. 1. 1. 1. 1. 1.]]\n",
      "[[0. 0. 0.]\n",
      " [0. 0. 0.]\n",
      " [0. 0. 0.]]\n",
      "[[1. 0. 0. 0.]\n",
      " [0. 1. 0. 0.]\n",
      " [0. 0. 1. 0.]\n",
      " [0. 0. 0. 1.]]\n",
      "[[1 0 0 0]\n",
      " [0 2 0 0]\n",
      " [0 0 3 0]\n",
      " [0 0 0 1]]\n"
     ]
    }
   ],
   "source": [
    "# The one with np.ones\n",
    "a=np.ones((10,10))\n",
    "print(a)\n",
    "# The one wit np.zero\n",
    "b=np.zeros((3,3))\n",
    "print(b)\n",
    "# the one with the eye\n",
    "c=np.eye(4)\n",
    "print(c)\n",
    "d=np.diag(np.array([1,2,3,1]))\n",
    "print(d)"
   ]
  },
  {
   "cell_type": "markdown",
   "id": "bb2f8452-dd31-4739-9d45-8fd3087b306e",
   "metadata": {},
   "source": [
    "np.ones and np.zeros might be  useful to create matrix and do some sort of calculations for matrix specially for identical matrix`"
   ]
  },
  {
   "cell_type": "code",
   "execution_count": null,
   "id": "cff2896a-697c-4b58-aa9d-e47b847c64e0",
   "metadata": {},
   "outputs": [],
   "source": []
  },
  {
   "cell_type": "code",
   "execution_count": 34,
   "id": "817efd53-0114-49c3-ad71-054e8f397a9a",
   "metadata": {},
   "outputs": [
    {
     "name": "stdout",
     "output_type": "stream",
     "text": [
      "1 1 1\n",
      "1 1 2\n",
      "1 2 1\n",
      "1 2 2\n",
      "1 3 1\n",
      "1 3 2\n",
      "1 4 1\n",
      "1 4 2\n",
      "2 1 1\n",
      "2 1 2\n",
      "2 2 1\n",
      "2 2 2\n",
      "2 3 1\n",
      "2 3 2\n",
      "2 4 1\n",
      "2 4 2\n"
     ]
    }
   ],
   "source": [
    "for i in range(1,):\n",
    "    for j in range(1,5):\n",
    "        for k in range(1,3):\n",
    "            print(i,j,k)\n",
    "        "
   ]
  },
  {
   "cell_type": "markdown",
   "id": "mobile-swaziland",
   "metadata": {},
   "source": [
    "# Lecture 5.1"
   ]
  },
  {
   "cell_type": "markdown",
   "id": "headed-flexibility",
   "metadata": {},
   "source": [
    "### Agenda:\n",
    "\n",
    "- Programming questions\n",
    "- Examples of for loops"
   ]
  },
  {
   "cell_type": "markdown",
   "id": "heated-start",
   "metadata": {},
   "source": []
  },
  {
   "cell_type": "markdown",
   "id": "buried-mention",
   "metadata": {},
   "source": [
    "# Lab 5.1"
   ]
  },
  {
   "cell_type": "markdown",
   "id": "meaningful-carnival",
   "metadata": {},
   "source": [
    "**E.1** Complete Lab 4.2 if you haven't allready\n"
   ]
  },
  {
   "cell_type": "markdown",
   "id": "superior-hybrid",
   "metadata": {},
   "source": [
    "**E.2** Complete intermediate python chapter 5: Case study on hacker statistics\n"
   ]
  },
  {
   "cell_type": "markdown",
   "id": "formed-adult",
   "metadata": {},
   "source": [
    "**E.3** Make notes for yourself on progamming tecniques and commands you learned in the datacamp chapter above, including examples, comments and explainitory text. You can do this here or in a separate notebook that you link to here. Basically, you are making a cheat sheet for yourself."
   ]
  },
  {
   "cell_type": "code",
   "execution_count": null,
   "id": "static-drain",
   "metadata": {},
   "outputs": [],
   "source": [
    "# This is very interestting. I learnt how to generate some random numbers. I can do so by the following codes.\n",
    "#Another importan thing is to set the seed so that we get the the same numbers everytime we run the code\n",
    "np.random.seed(123)\n",
    "np.random.rand()\n",
    "# above mentioned code will generate some random floats between 0 to a\n",
    "# We can also generate some random interger as well by using the following codes\n",
    "np.random.randint(0,2)\n",
    "# The code doesn't include the end. So, it will only generate zero and one\n"
   ]
  },
  {
   "cell_type": "markdown",
   "id": "8208bb86-5e28-41de-b21a-ba1060cfd095",
   "metadata": {},
   "source": [
    "We can do a coin toss as well by creating a variable coin using the random generators we learnt from datacamp. We can do a if condition\n",
    "for exmaple if it is zero , we can print head else tail"
   ]
  },
  {
   "cell_type": "code",
   "execution_count": 5,
   "id": "b8cc0b1c-d846-4ad4-a69e-9682c36c57cd",
   "metadata": {},
   "outputs": [
    {
     "name": "stdout",
     "output_type": "stream",
     "text": [
      "Heads\n"
     ]
    }
   ],
   "source": [
    "coin=np.random.randint(0,2)\n",
    "if coin==0:\n",
    "    print(\"Heads\")\n",
    "else:\n",
    "    print(\"tails\")"
   ]
  },
  {
   "cell_type": "markdown",
   "id": "66a5d523-9530-452e-950f-faeedb1e6931",
   "metadata": {},
   "source": [
    "We can even do a for loop by using this. The following code shows that we are doing a for loop  by creating random variables 0, 1 \n",
    "for head and tail.\n",
    "Then we create an empty list. After running the for loop, we fill the empty list based on the conditions we set for the for loop. "
   ]
  },
  {
   "cell_type": "code",
   "execution_count": 12,
   "id": "69b37387-108a-4815-ab2c-43186386084c",
   "metadata": {},
   "outputs": [
    {
     "name": "stdout",
     "output_type": "stream",
     "text": [
      "['tails', 'head', 'tails', 'tails', 'tails', 'tails', 'tails', 'head', 'head', 'tails']\n"
     ]
    }
   ],
   "source": [
    "np.random.seed(123) # this gives us reproducibility\n",
    "outcomes=[]\n",
    "for x in range(10):\n",
    "    coin=np.random.randint(0,2)\n",
    "    if coin==1:\n",
    "        outcomes.append(\"head\")\n",
    "    else :\n",
    "        outcomes.append(\"tails\")\n",
    "print(outcomes)"
   ]
  },
  {
   "cell_type": "markdown",
   "id": "be81d125-ea8c-4f80-b169-79dee8bebdf6",
   "metadata": {},
   "source": [
    " Another important thing in this for loop is indentation. After the the first line of the for loop, we need make an indentation \n",
    "for the second line whether it's the variable or the condition. Once we write the condition we need to make further indentation\n",
    "for printing the outcomes\n",
    "\n",
    "On another note, I just explored something,  when we create an empty list, we have to put it outside the for loop, if we put it inside the for loop it will just store the value for one or last iteration. The following code gives an example. "
   ]
  },
  {
   "cell_type": "code",
   "execution_count": 13,
   "id": "560038f5-adba-48cf-990b-d84fc89da870",
   "metadata": {},
   "outputs": [
    {
     "name": "stdout",
     "output_type": "stream",
     "text": [
      "['tails']\n"
     ]
    }
   ],
   "source": [
    "np.random.seed(123) # this gives us reproducibility\n",
    "for x in range(10):\n",
    "    outcomes=[]\n",
    "    coin=np.random.randint(0,2)\n",
    "    if coin==1:\n",
    "        outcomes.append(\"head\")\n",
    "    else :\n",
    "        outcomes.append(\"tails\")\n",
    "print(outcomes)"
   ]
  },
  {
   "cell_type": "markdown",
   "id": "b05cd6a2-fd1a-4349-8e53-fe2db11adfe8",
   "metadata": {},
   "source": [
    "The following example helps us to even visualize the final outcome. I took the example from the datacamp exercises."
   ]
  },
  {
   "cell_type": "code",
   "execution_count": 15,
   "id": "f087340e-d1f6-4fcc-988f-9d4a072332ae",
   "metadata": {},
   "outputs": [
    {
     "data": {
      "image/png": "[encoded data removed]",
      "text/plain": [
       "<Figure size 640x480 with 1 Axes>"
      ]
     },
     "metadata": {},
     "output_type": "display_data"
    }
   ],
   "source": [
    "# This initializes a variable of random walk at zero\n",
    "random_walk = [0]\n",
    "\n",
    "# Here we starts a for loop for 100 iteration\n",
    "for x in range(100) :\n",
    "    step = random_walk[-1] # here we are setting up a step variable by taking the last element of random_walk to understand where we are\n",
    "    dice = np.random.randint(1,7) # intializing the dice which will tell us many steps to go. The dice has 6 probable outcomes\n",
    "\n",
    "    if dice <= 2: # setting up a condition\n",
    "        step = max(0, step - 1) # This max functions takes two argument and it will follow which one is bigger. We set this up so that we don't go negative\n",
    "    elif dice <= 5:\n",
    "        step = step + 1\n",
    "    else:\n",
    "        step = step + np.random.randint(1,7)\n",
    "\n",
    "    random_walk.append(step)\n",
    "\n",
    "\n",
    "# Plot random_walk\n",
    "\n",
    "plt.plot(random_walk)\n",
    "# Show the plot\n",
    "plt.show()"
   ]
  },
  {
   "cell_type": "markdown",
   "id": "composed-neighbor",
   "metadata": {},
   "source": [
    "### Congratulations! অভিনন্দন 恭喜 ¡Felicidades! You finished Intermediate Python!"
   ]
  },
  {
   "cell_type": "markdown",
   "id": "d034815e-9b30-4831-826c-610cb79cac95",
   "metadata": {},
   "source": [
    "Another interesting thing I learnt is the transpose. Look at the plot I created by the following codes"
   ]
  },
  {
   "cell_type": "code",
   "execution_count": 18,
   "id": "876c6b32-1bd7-4b27-a884-3b6536733b9d",
   "metadata": {},
   "outputs": [
    {
     "data": {
      "image/png": "[encoded data removed]",
      "text/plain": [
       "<Figure size 640x480 with 1 Axes>"
      ]
     },
     "metadata": {},
     "output_type": "display_data"
    }
   ],
   "source": [
    "all_walks = []\n",
    "for i in range(500) :\n",
    "    random_walk = [0]\n",
    "    for x in range(100) :\n",
    "        step = random_walk[-1]\n",
    "        dice = np.random.randint(1,7)\n",
    "        if dice <= 2:\n",
    "            step = max(0, step - 1)\n",
    "        elif dice <= 5:\n",
    "            step = step + 1\n",
    "        else:\n",
    "            step = step + np.random.randint(1,7)\n",
    "        if np.random.rand() <= 0.001 :\n",
    "            step = 0\n",
    "        random_walk.append(step)\n",
    "    all_walks.append(random_walk)\n",
    "\n",
    "\n",
    "\n",
    "# Select last row from np_aw_t: ends\n",
    "ends = np.array(all_walks)\n",
    "\n",
    "# Plot histogram of ends, display plot\n",
    "plt.hist(ends)\n",
    "plt.show()"
   ]
  },
  {
   "cell_type": "markdown",
   "id": "d5921462-0dec-4a4b-be88-32ec78b4f03e",
   "metadata": {},
   "source": [
    "This basically just tells us about for each of iteration, how many steps are we going. But if we "
   ]
  },
  {
   "cell_type": "code",
   "execution_count": 21,
   "id": "e44401a0-82e7-4640-9048-7c4774bbb20c",
   "metadata": {},
   "outputs": [
    {
     "data": {
      "image/png": "[encoded data removed]",
      "text/plain": [
       "<Figure size 640x480 with 1 Axes>"
      ]
     },
     "metadata": {},
     "output_type": "display_data"
    }
   ],
   "source": [
    "all_walks = []\n",
    "for i in range(500) :\n",
    "    random_walk = [0]\n",
    "    for x in range(100) :\n",
    "        step = random_walk[-1]\n",
    "        dice = np.random.randint(1,7)\n",
    "        if dice <= 2:\n",
    "            step = max(0, step - 1)\n",
    "        elif dice <= 5:\n",
    "            step = step + 1\n",
    "        else:\n",
    "            step = step + np.random.randint(1,7)\n",
    "        if np.random.rand() <= 0.001 :\n",
    "            step = 0\n",
    "        random_walk.append(step)\n",
    "    all_walks.append(random_walk)\n",
    "\n",
    "# Create and plot np_aw_t\n",
    "np_aw_t = np.transpose(np.array(all_walks))\n",
    "\n",
    "# Select last row from np_aw_t: ends\n",
    "ends=np_aw_t[-1,:]\n",
    "\n",
    "# Plot histogram of ends, display plot\n",
    "plt.hist(ends)\n",
    "plt.show()"
   ]
  },
  {
   "cell_type": "markdown",
   "id": "6e704483-9632-4554-93b9-286e1388d728",
   "metadata": {},
   "source": [
    "The major difference among this two sets of code is that how I am handling this two sets of data. The first one is a histogram that shows the distribution of final steps after 100 steps for each simulation.\n",
    "\n",
    "The second one is a  histogram that shows the distribution of all step values across the entire simulation, including intermediate steps, which can lead to very different insights and a potentially more cluttered plot."
   ]
  },
  {
   "cell_type": "markdown",
   "id": "e59f946c-4736-4d72-937a-c718a815bc7d",
   "metadata": {},
   "source": [
    "Another silly but important thing I explored is that we can use plt. clf to clear the previous figure . "
   ]
  }
 ],
 "metadata": {
  "kernelspec": {
   "display_name": "Python 3 (ipykernel)",
   "language": "python",
   "name": "python3"
  },
  "language_info": {
   "codemirror_mode": {
    "name": "ipython",
    "version": 3
   },
   "file_extension": ".py",
   "mimetype": "text/x-python",
   "name": "python",
   "nbconvert_exporter": "python",
   "pygments_lexer": "ipython3",
   "version": "3.12.4"
  }
 },
 "nbformat": 4,
 "nbformat_minor": 5
}
