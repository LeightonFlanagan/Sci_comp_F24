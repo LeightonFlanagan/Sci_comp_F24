{
 "cells": [
  {
   "cell_type": "markdown",
   "id": "existing-kelly",
   "metadata": {},
   "source": [
    "Name: Israt"
   ]
  },
  {
   "cell_type": "markdown",
   "id": "functioning-current",
   "metadata": {},
   "source": [
    "Labpartner(s)"
   ]
  },
  {
   "cell_type": "code",
   "execution_count": 21,
   "id": "republican-appearance",
   "metadata": {},
   "outputs": [],
   "source": [
    "#import statements go here\n",
    "\n",
    "import pandas as pd\n",
    "import numpy as np\n",
    "import matplotlib.pyplot as plt\n",
    "import seaborn as sns"
   ]
  },
  {
   "cell_type": "markdown",
   "id": "rising-queue",
   "metadata": {},
   "source": [
    "# Class 5.2"
   ]
  },
  {
   "cell_type": "markdown",
   "id": "powerful-lyric",
   "metadata": {},
   "source": [
    "In this lab you will learn about functions, and apply this to your datasets. Next week we will have present your work day again, see below for details. Hopefully the material is building to the point where it is not all foriegn and you will feel a bit more confident."
   ]
  },
  {
   "cell_type": "markdown",
   "id": "contrary-communications",
   "metadata": {},
   "source": [
    "# Warmups 5.2"
   ]
  },
  {
   "cell_type": "markdown",
   "id": "e016e8c3-69ef-40f4-a99d-6f9c92044dab",
   "metadata": {},
   "source": [
    "Let's practice for loops and logical control"
   ]
  },
  {
   "cell_type": "markdown",
   "id": "critical-cooperation",
   "metadata": {},
   "source": [
    "**W.1** Complete practice python (practicepython.org) Exercise 4:\n",
    "\n",
    "Create a program that asks the user for a number and then prints out a list of all the divisors of that number. (If you don’t know what a divisor is, it is a number that divides evenly into another number. For example, 13 is a divisor of 26 because 26 / 13 has no remainder.)"
   ]
  },
  {
   "cell_type": "code",
   "execution_count": 22,
   "id": "4843babf-89ca-4ef4-94c4-3f783d113181",
   "metadata": {},
   "outputs": [
    {
     "name": "stdin",
     "output_type": "stream",
     "text": [
      "Give me a number to divide:  52\n"
     ]
    },
    {
     "name": "stdout",
     "output_type": "stream",
     "text": [
      "[1, 2, 4, 13, 26, 52]\n"
     ]
    }
   ],
   "source": [
    "Num_to_divide=int(input(\"Give me a number to divide: \"))\n",
    "\n",
    "Num_range=list(range(1,Num_to_divide+1))\n",
    "\n",
    "Divisors=[]\n",
    "\n",
    "for x in Num_range:\n",
    "    if Num_to_divide%x == 0:\n",
    "        Divisors.append(x)\n",
    "print(Divisors)"
   ]
  },
  {
   "cell_type": "code",
   "execution_count": 23,
   "id": "stone-majority",
   "metadata": {},
   "outputs": [
    {
     "name": "stdin",
     "output_type": "stream",
     "text": [
      "Give me a number:  64\n"
     ]
    },
    {
     "name": "stdout",
     "output_type": "stream",
     "text": [
      "[1, 2, 4, 8, 16, 32, 64]\n"
     ]
    }
   ],
   "source": [
    "number=int(input(\"Give me a number: \"))\n",
    "List=list(range(1,number+1))\n",
    "divisors=[]\n",
    "for x in List:\n",
    "    if number%x == 0:\n",
    "        divisors.append(x)\n",
    "print(divisors)"
   ]
  },
  {
   "cell_type": "markdown",
   "id": "3712c86b-643c-4778-b6be-cea2d71727f2",
   "metadata": {},
   "source": [
    "**W.2** Complete practice python Exercise 5: \n",
    "\n",
    "Take two lists, say for example these two:\n",
    "\n",
    "  a = [1, 1, 2, 3, 5, 8, 13, 21, 34, 55, 89]\n",
    "\n",
    "  b = [1, 2, 3, 4, 5, 6, 7, 8, 9, 10, 11, 12, 13]\n",
    "\n",
    "and write a program that returns a list that contains only the elements that are common between the lists (without duplicates). Make sure your program works on two lists of different sizes.\n",
    "\n",
    "Extras:\n",
    "\n",
    "Randomly generate two lists to test this\n",
    "\n",
    "Write this in one line of Python (don’t worry if you can’t figure this out at this point)"
   ]
  },
  {
   "cell_type": "code",
   "execution_count": 24,
   "id": "fdf675cc-c252-4981-be92-1db2f54150d5",
   "metadata": {},
   "outputs": [
    {
     "name": "stdout",
     "output_type": "stream",
     "text": [
      "[1, 2, 3, 5, 8, 13]\n"
     ]
    }
   ],
   "source": [
    "a = [1, 1, 2, 3, 5, 8, 13, 21, 34, 55, 89]\n",
    "\n",
    "b = [1, 2, 3, 4, 5, 6, 7, 8, 9, 10, 11, 12, 13]\n",
    "\n",
    "common_elements=[]\n",
    "for x in a:\n",
    "    if x in b and x not in common_elements:\n",
    "        common_elements.append(x)\n",
    "print(common_elements)"
   ]
  },
  {
   "cell_type": "markdown",
   "id": "activated-arbitration",
   "metadata": {},
   "source": [
    "# Lecture 5.2\n",
    "\n",
    "### Agenda:\n",
    "\n",
    "- Questions\n",
    "- Functions!\n"
   ]
  },
  {
   "cell_type": "markdown",
   "id": "effective-career",
   "metadata": {},
   "source": [
    "### Questions"
   ]
  },
  {
   "cell_type": "code",
   "execution_count": null,
   "id": "suffering-selection",
   "metadata": {},
   "outputs": [],
   "source": []
  },
  {
   "cell_type": "markdown",
   "id": "photographic-injection",
   "metadata": {},
   "source": [
    "### Functions\n",
    "\n",
    "Functions are super-useful for doing repetative tasks. You have been using pre-defined functions constantly, when you define arrays, make a plot, or analyse data. Now you are going to learn to write your own.\n",
    "\n",
    "For more information on functions and documenting:\n",
    "- http://scipy-lectures.org/intro/language/functions.html?highlight=functions\n",
    "- https://realpython.com/documenting-python-code/\n",
    "\n",
    "\n",
    "Basic syntax:"
   ]
  },
  {
   "cell_type": "code",
   "execution_count": 25,
   "id": "absolute-canada",
   "metadata": {},
   "outputs": [],
   "source": [
    "# first you define the function\n",
    "\n",
    "def function_name():\n",
    "    # some code that does something\n",
    "    print('Inside the function')"
   ]
  },
  {
   "cell_type": "code",
   "execution_count": 26,
   "id": "unable-personal",
   "metadata": {},
   "outputs": [
    {
     "name": "stdout",
     "output_type": "stream",
     "text": [
      "Inside the function\n"
     ]
    }
   ],
   "source": [
    "# then you call the function\n",
    "function_name()"
   ]
  },
  {
   "cell_type": "markdown",
   "id": "about-voice",
   "metadata": {},
   "source": [
    "Note that defined funtions show up using whos"
   ]
  },
  {
   "cell_type": "code",
   "execution_count": 27,
   "id": "sound-intellectual",
   "metadata": {},
   "outputs": [
    {
     "name": "stdout",
     "output_type": "stream",
     "text": [
      "Variable          Type             Data/Info\n",
      "--------------------------------------------\n",
      "Divisors          list             n=6\n",
      "List              list             n=64\n",
      "NamespaceMagics   MetaHasTraits    <class 'IPython.core.magi<...>mespace.NamespaceMagics'>\n",
      "Num_range         list             n=52\n",
      "Num_to_divide     int              52\n",
      "a                 list             n=11\n",
      "b                 list             n=13\n",
      "circle_area       function         <function circle_area at 0x0000027E00344F40>\n",
      "circle_area2      function         <function circle_area2 at 0x0000027E03395260>\n",
      "circle_area4      function         <function circle_area4 at 0x0000027E033951C0>\n",
      "circle_area6      function         <function circle_area6 at 0x0000027E03397560>\n",
      "circle_area7      function         <function circle_area7 at 0x0000027E033956C0>\n",
      "common_elements   list             n=6\n",
      "divisors          list             n=7\n",
      "function_name     function         <function function_name at 0x0000027E00344220>\n",
      "get_ipython       function         <function get_ipython at 0x0000027E7D5CA0C0>\n",
      "json              module           <module 'json' from 'C:\\\\<...>\\Lib\\\\json\\\\__init__.py'>\n",
      "np                module           <module 'numpy' from 'C:\\<...>ges\\\\numpy\\\\__init__.py'>\n",
      "number            int              64\n",
      "pd                module           <module 'pandas' from 'C:<...>es\\\\pandas\\\\__init__.py'>\n",
      "plt               module           <module 'matplotlib.pyplo<...>\\\\matplotlib\\\\pyplot.py'>\n",
      "r                 list             n=3\n",
      "sns               module           <module 'seaborn' from 'C<...>s\\\\seaborn\\\\__init__.py'>\n",
      "sys               module           <module 'sys' (built-in)>\n",
      "x                 int              89\n"
     ]
    }
   ],
   "source": [
    "whos"
   ]
  },
  {
   "cell_type": "markdown",
   "id": "standing-constant",
   "metadata": {},
   "source": [
    "That's a really useless function, let's make a better one."
   ]
  },
  {
   "cell_type": "code",
   "execution_count": 30,
   "id": "voluntary-particle",
   "metadata": {},
   "outputs": [],
   "source": [
    "# usually you want to pass a varible of some sort to the function to manipulate\n",
    "\n",
    "def circle_area(radius):\n",
    "    area = 3.14*radius**2\n",
    "    return area   # the return statement means that the function will return that variable"
   ]
  },
  {
   "cell_type": "code",
   "execution_count": 29,
   "id": "noble-right",
   "metadata": {},
   "outputs": [
    {
     "data": {
      "text/plain": [
       "78.5"
      ]
     },
     "execution_count": 29,
     "metadata": {},
     "output_type": "execute_result"
    }
   ],
   "source": [
    "circle_area(5)"
   ]
  },
  {
   "cell_type": "markdown",
   "id": "little-numbers",
   "metadata": {},
   "source": [
    "What happens if I don't add the required input?"
   ]
  },
  {
   "cell_type": "code",
   "execution_count": 31,
   "id": "isolated-turning",
   "metadata": {},
   "outputs": [
    {
     "ename": "TypeError",
     "evalue": "circle_area() missing 1 required positional argument: 'radius'",
     "output_type": "error",
     "traceback": [
      "\u001b[1;31m---------------------------------------------------------------------------\u001b[0m",
      "\u001b[1;31mTypeError\u001b[0m                                 Traceback (most recent call last)",
      "Cell \u001b[1;32mIn[31], line 1\u001b[0m\n\u001b[1;32m----> 1\u001b[0m circle_area()\n",
      "\u001b[1;31mTypeError\u001b[0m: circle_area() missing 1 required positional argument: 'radius'"
     ]
    }
   ],
   "source": [
    "circle_area()"
   ]
  },
  {
   "cell_type": "markdown",
   "id": "removed-black",
   "metadata": {},
   "source": [
    "What happens if I omit the return statement?"
   ]
  },
  {
   "cell_type": "code",
   "execution_count": 32,
   "id": "traditional-drain",
   "metadata": {},
   "outputs": [],
   "source": [
    "def circle_area2(radius):\n",
    "    area = 3.14*radius**2"
   ]
  },
  {
   "cell_type": "code",
   "execution_count": 33,
   "id": "falling-committee",
   "metadata": {},
   "outputs": [],
   "source": [
    "circle_area2(5)"
   ]
  },
  {
   "cell_type": "markdown",
   "id": "retired-converter",
   "metadata": {},
   "source": [
    "How do I save the function output to a variable?"
   ]
  },
  {
   "cell_type": "markdown",
   "id": "enabling-mainland",
   "metadata": {},
   "source": [
    "Does the area variable inside the function exist outside of it?"
   ]
  },
  {
   "cell_type": "code",
   "execution_count": 34,
   "id": "informative-wallpaper",
   "metadata": {},
   "outputs": [
    {
     "name": "stdout",
     "output_type": "stream",
     "text": [
      "Variable          Type             Data/Info\n",
      "--------------------------------------------\n",
      "Divisors          list             n=6\n",
      "List              list             n=64\n",
      "NamespaceMagics   MetaHasTraits    <class 'IPython.core.magi<...>mespace.NamespaceMagics'>\n",
      "Num_range         list             n=52\n",
      "Num_to_divide     int              52\n",
      "a                 list             n=11\n",
      "b                 list             n=13\n",
      "circle_area       function         <function circle_area at 0x0000027E04CFF880>\n",
      "circle_area2      function         <function circle_area2 at 0x0000027E06E41BC0>\n",
      "circle_area4      function         <function circle_area4 at 0x0000027E033951C0>\n",
      "circle_area6      function         <function circle_area6 at 0x0000027E03397560>\n",
      "circle_area7      function         <function circle_area7 at 0x0000027E033956C0>\n",
      "common_elements   list             n=6\n",
      "divisors          list             n=7\n",
      "function_name     function         <function function_name at 0x0000027E00344220>\n",
      "get_ipython       function         <function get_ipython at 0x0000027E7D5CA0C0>\n",
      "json              module           <module 'json' from 'C:\\\\<...>\\Lib\\\\json\\\\__init__.py'>\n",
      "np                module           <module 'numpy' from 'C:\\<...>ges\\\\numpy\\\\__init__.py'>\n",
      "number            int              64\n",
      "pd                module           <module 'pandas' from 'C:<...>es\\\\pandas\\\\__init__.py'>\n",
      "plt               module           <module 'matplotlib.pyplo<...>\\\\matplotlib\\\\pyplot.py'>\n",
      "r                 list             n=3\n",
      "sns               module           <module 'seaborn' from 'C<...>s\\\\seaborn\\\\__init__.py'>\n",
      "sys               module           <module 'sys' (built-in)>\n",
      "x                 int              89\n"
     ]
    }
   ],
   "source": [
    "whos"
   ]
  },
  {
   "cell_type": "code",
   "execution_count": 35,
   "id": "productive-ethiopia",
   "metadata": {},
   "outputs": [
    {
     "ename": "NameError",
     "evalue": "name 'area' is not defined",
     "output_type": "error",
     "traceback": [
      "\u001b[1;31m---------------------------------------------------------------------------\u001b[0m",
      "\u001b[1;31mNameError\u001b[0m                                 Traceback (most recent call last)",
      "Cell \u001b[1;32mIn[35], line 1\u001b[0m\n\u001b[1;32m----> 1\u001b[0m area\n",
      "\u001b[1;31mNameError\u001b[0m: name 'area' is not defined"
     ]
    }
   ],
   "source": [
    "area"
   ]
  },
  {
   "cell_type": "markdown",
   "id": "arctic-vinyl",
   "metadata": {},
   "source": [
    "Note I also could have made my function like this:"
   ]
  },
  {
   "cell_type": "code",
   "execution_count": 36,
   "id": "visible-annex",
   "metadata": {},
   "outputs": [],
   "source": [
    "def circle_area4(radius):\n",
    "    return 3.14*radius**2"
   ]
  },
  {
   "cell_type": "code",
   "execution_count": 37,
   "id": "narrow-forward",
   "metadata": {},
   "outputs": [
    {
     "data": {
      "text/plain": [
       "78.5"
      ]
     },
     "execution_count": 37,
     "metadata": {},
     "output_type": "execute_result"
    }
   ],
   "source": [
    "circle_area4(5)"
   ]
  },
  {
   "cell_type": "code",
   "execution_count": 38,
   "id": "plain-exchange",
   "metadata": {},
   "outputs": [
    {
     "data": {
      "text/plain": [
       "78.5"
      ]
     },
     "execution_count": 38,
     "metadata": {},
     "output_type": "execute_result"
    }
   ],
   "source": [
    "circle_area4(-5)"
   ]
  },
  {
   "cell_type": "markdown",
   "id": "neither-forty",
   "metadata": {},
   "source": [
    "### Parsing for bad input"
   ]
  },
  {
   "cell_type": "markdown",
   "id": "short-springfield",
   "metadata": {},
   "source": [
    "Note my above function will work even if the input is negative, which is not reasonable. So I probably want to include a statement that checks if the input is weird."
   ]
  },
  {
   "cell_type": "code",
   "execution_count": 39,
   "id": "round-shirt",
   "metadata": {},
   "outputs": [],
   "source": [
    "def circle_area5(radius):\n",
    "    # put in an if statement to handle bad inputs\n",
    "    \n",
    "    return 3.14*radius**2"
   ]
  },
  {
   "cell_type": "code",
   "execution_count": null,
   "id": "151f3365-5f72-4913-8634-75cd7dd21ad2",
   "metadata": {},
   "outputs": [],
   "source": []
  },
  {
   "cell_type": "markdown",
   "id": "virgin-tragedy",
   "metadata": {},
   "source": [
    "### Using packages within functions"
   ]
  },
  {
   "cell_type": "markdown",
   "id": "initial-public",
   "metadata": {},
   "source": [
    "We can also have import statements within a function, but this can slow the function down if the package is not loaded already"
   ]
  },
  {
   "cell_type": "code",
   "execution_count": 40,
   "id": "educated-saver",
   "metadata": {},
   "outputs": [],
   "source": [
    "def circle_area6(radius):\n",
    "    if radius <= 0:\n",
    "        print('Error: radius needs to be positive')\n",
    "        return # exit the function\n",
    "    \n",
    "    import numpy as np\n",
    "    \n",
    "    return np.pi*radius**2"
   ]
  },
  {
   "cell_type": "code",
   "execution_count": 15,
   "id": "chronic-bookmark",
   "metadata": {},
   "outputs": [
    {
     "data": {
      "text/plain": [
       "28.274333882308138"
      ]
     },
     "execution_count": 15,
     "metadata": {},
     "output_type": "execute_result"
    }
   ],
   "source": [
    "circle_area6(3) # note this is a much more accurate"
   ]
  },
  {
   "cell_type": "markdown",
   "id": "ethical-forest",
   "metadata": {},
   "source": [
    "We can have the function inputs have pre-defined default values, so that if you don't pass a variable it will use the default"
   ]
  },
  {
   "cell_type": "code",
   "execution_count": 41,
   "id": "brave-jamaica",
   "metadata": {},
   "outputs": [],
   "source": [
    "def circle_area7(radius = 3):\n",
    "    import numpy as np #import numpy so we can use the more exact value of pi\n",
    "    \n",
    "    return np.pi*radius**2"
   ]
  },
  {
   "cell_type": "code",
   "execution_count": 42,
   "id": "mounted-independence",
   "metadata": {},
   "outputs": [
    {
     "ename": "TypeError",
     "evalue": "circle_area() missing 1 required positional argument: 'radius'",
     "output_type": "error",
     "traceback": [
      "\u001b[1;31m---------------------------------------------------------------------------\u001b[0m",
      "\u001b[1;31mTypeError\u001b[0m                                 Traceback (most recent call last)",
      "Cell \u001b[1;32mIn[42], line 1\u001b[0m\n\u001b[1;32m----> 1\u001b[0m circle_area()\n",
      "\u001b[1;31mTypeError\u001b[0m: circle_area() missing 1 required positional argument: 'radius'"
     ]
    }
   ],
   "source": [
    "circle_area()"
   ]
  },
  {
   "cell_type": "code",
   "execution_count": 43,
   "id": "dense-review",
   "metadata": {},
   "outputs": [
    {
     "data": {
      "text/plain": [
       "28.274333882308138"
      ]
     },
     "execution_count": 43,
     "metadata": {},
     "output_type": "execute_result"
    }
   ],
   "source": [
    "circle_area7() # no argument given, so uses radius = 3 by default"
   ]
  },
  {
   "cell_type": "markdown",
   "id": "renewable-twelve",
   "metadata": {},
   "source": [
    "Is numpy imported outside the function? Let's check"
   ]
  },
  {
   "cell_type": "code",
   "execution_count": 44,
   "id": "hidden-minutes",
   "metadata": {},
   "outputs": [
    {
     "data": {
      "text/plain": [
       "3.141592653589793"
      ]
     },
     "execution_count": 44,
     "metadata": {},
     "output_type": "execute_result"
    }
   ],
   "source": [
    "np.pi"
   ]
  },
  {
   "cell_type": "code",
   "execution_count": null,
   "id": "hazardous-florist",
   "metadata": {},
   "outputs": [],
   "source": [
    "whos"
   ]
  },
  {
   "cell_type": "code",
   "execution_count": 45,
   "id": "published-invalid",
   "metadata": {},
   "outputs": [
    {
     "ename": "TypeError",
     "evalue": "unsupported operand type(s) for ** or pow(): 'list' and 'int'",
     "output_type": "error",
     "traceback": [
      "\u001b[1;31m---------------------------------------------------------------------------\u001b[0m",
      "\u001b[1;31mTypeError\u001b[0m                                 Traceback (most recent call last)",
      "Cell \u001b[1;32mIn[45], line 3\u001b[0m\n\u001b[0;32m      1\u001b[0m \u001b[38;5;66;03m# can our function handle lists? Let's check\u001b[39;00m\n\u001b[0;32m      2\u001b[0m r \u001b[38;5;241m=\u001b[39m [\u001b[38;5;241m1\u001b[39m,\u001b[38;5;241m2\u001b[39m,\u001b[38;5;241m3\u001b[39m]\n\u001b[1;32m----> 3\u001b[0m circle_area7(r)\n",
      "Cell \u001b[1;32mIn[41], line 4\u001b[0m, in \u001b[0;36mcircle_area7\u001b[1;34m(radius)\u001b[0m\n\u001b[0;32m      1\u001b[0m \u001b[38;5;28;01mdef\u001b[39;00m \u001b[38;5;21mcircle_area7\u001b[39m(radius \u001b[38;5;241m=\u001b[39m \u001b[38;5;241m3\u001b[39m):\n\u001b[0;32m      2\u001b[0m     \u001b[38;5;28;01mimport\u001b[39;00m \u001b[38;5;21;01mnumpy\u001b[39;00m \u001b[38;5;28;01mas\u001b[39;00m \u001b[38;5;21;01mnp\u001b[39;00m \u001b[38;5;66;03m#import numpy so we can use the more exact value of pi\u001b[39;00m\n\u001b[1;32m----> 4\u001b[0m     \u001b[38;5;28;01mreturn\u001b[39;00m np\u001b[38;5;241m.\u001b[39mpi\u001b[38;5;241m*\u001b[39mradius\u001b[38;5;241m*\u001b[39m\u001b[38;5;241m*\u001b[39m\u001b[38;5;241m2\u001b[39m\n",
      "\u001b[1;31mTypeError\u001b[0m: unsupported operand type(s) for ** or pow(): 'list' and 'int'"
     ]
    }
   ],
   "source": [
    "# can our function handle lists? Let's check\n",
    "r = [1,2,3]\n",
    "circle_area7(r)"
   ]
  },
  {
   "cell_type": "code",
   "execution_count": null,
   "id": "fundamental-branch",
   "metadata": {},
   "outputs": [],
   "source": []
  },
  {
   "cell_type": "code",
   "execution_count": 46,
   "id": "offshore-syria",
   "metadata": {},
   "outputs": [
    {
     "data": {
      "text/plain": [
       "array([ 3.14159265, 12.56637061, 28.27433388])"
      ]
     },
     "execution_count": 46,
     "metadata": {},
     "output_type": "execute_result"
    }
   ],
   "source": [
    "# can our function handle arrays?\n",
    "\n",
    "rnp = np.array(r)\n",
    "circle_area7(rnp)\n",
    "\n",
    "# what type of variable did the function return?"
   ]
  },
  {
   "cell_type": "markdown",
   "id": "regional-trouble",
   "metadata": {},
   "source": [
    "### It is very useful to add some documentation string info to your functions"
   ]
  },
  {
   "cell_type": "code",
   "execution_count": 47,
   "id": "short-chrome",
   "metadata": {},
   "outputs": [],
   "source": [
    "def circle_area7(radius = 3):\n",
    "    \"\"\" Returns the area of a circle given the radius. \n",
    "    Assumes the radius is 3 if not supplied. \"\"\"\n",
    "    import numpy as np\n",
    "    \n",
    "    return np.pi*radius**2"
   ]
  },
  {
   "cell_type": "markdown",
   "id": "unsigned-sport",
   "metadata": {},
   "source": [
    "Now my note in the triple double quotes shows up as a docstring"
   ]
  },
  {
   "cell_type": "code",
   "execution_count": 48,
   "id": "consistent-peace",
   "metadata": {},
   "outputs": [
    {
     "data": {
      "text/plain": [
       "\u001b[1;31mType:\u001b[0m        float\n",
       "\u001b[1;31mString form:\u001b[0m 3.141592653589793\n",
       "\u001b[1;31mDocstring:\u001b[0m   Convert a string or number to a floating point number, if possible."
      ]
     },
     "metadata": {},
     "output_type": "display_data"
    }
   ],
   "source": [
    "np.pi?"
   ]
  },
  {
   "cell_type": "code",
   "execution_count": 49,
   "id": "interstate-coverage",
   "metadata": {},
   "outputs": [
    {
     "data": {
      "text/plain": [
       "\u001b[1;31mSignature:\u001b[0m \u001b[0mcircle_area7\u001b[0m\u001b[1;33m(\u001b[0m\u001b[0mradius\u001b[0m\u001b[1;33m=\u001b[0m\u001b[1;36m3\u001b[0m\u001b[1;33m)\u001b[0m\u001b[1;33m\u001b[0m\u001b[1;33m\u001b[0m\u001b[0m\n",
       "\u001b[1;31mDocstring:\u001b[0m\n",
       "Returns the area of a circle given the radius. \n",
       "Assumes the radius is 3 if not supplied. \n",
       "\u001b[1;31mFile:\u001b[0m      c:\\users\\tamai\\appdata\\local\\temp\\ipykernel_25300\\967664329.py\n",
       "\u001b[1;31mType:\u001b[0m      function"
      ]
     },
     "metadata": {},
     "output_type": "display_data"
    }
   ],
   "source": [
    "circle_area7?"
   ]
  },
  {
   "cell_type": "markdown",
   "id": "assisted-assurance",
   "metadata": {},
   "source": [
    "There is a standard practice in programming to write out the Parameters (inputs/arguments) and Returns (output) in the docstring. Let's look a this for a predefined function and then make if for our simple function."
   ]
  },
  {
   "cell_type": "code",
   "execution_count": 50,
   "id": "quarterly-spring",
   "metadata": {},
   "outputs": [
    {
     "data": {
      "text/plain": [
       "\u001b[1;31mSignature:\u001b[0m      \n",
       "\u001b[0mnp\u001b[0m\u001b[1;33m.\u001b[0m\u001b[0mmax\u001b[0m\u001b[1;33m(\u001b[0m\u001b[1;33m\n",
       "\u001b[0m    \u001b[0ma\u001b[0m\u001b[1;33m,\u001b[0m\u001b[1;33m\n",
       "\u001b[0m    \u001b[0maxis\u001b[0m\u001b[1;33m=\u001b[0m\u001b[1;32mNone\u001b[0m\u001b[1;33m,\u001b[0m\u001b[1;33m\n",
       "\u001b[0m    \u001b[0mout\u001b[0m\u001b[1;33m=\u001b[0m\u001b[1;32mNone\u001b[0m\u001b[1;33m,\u001b[0m\u001b[1;33m\n",
       "\u001b[0m    \u001b[0mkeepdims\u001b[0m\u001b[1;33m=\u001b[0m\u001b[1;33m<\u001b[0m\u001b[0mno\u001b[0m \u001b[0mvalue\u001b[0m\u001b[1;33m>\u001b[0m\u001b[1;33m,\u001b[0m\u001b[1;33m\n",
       "\u001b[0m    \u001b[0minitial\u001b[0m\u001b[1;33m=\u001b[0m\u001b[1;33m<\u001b[0m\u001b[0mno\u001b[0m \u001b[0mvalue\u001b[0m\u001b[1;33m>\u001b[0m\u001b[1;33m,\u001b[0m\u001b[1;33m\n",
       "\u001b[0m    \u001b[0mwhere\u001b[0m\u001b[1;33m=\u001b[0m\u001b[1;33m<\u001b[0m\u001b[0mno\u001b[0m \u001b[0mvalue\u001b[0m\u001b[1;33m>\u001b[0m\u001b[1;33m,\u001b[0m\u001b[1;33m\n",
       "\u001b[0m\u001b[1;33m)\u001b[0m\u001b[1;33m\u001b[0m\u001b[1;33m\u001b[0m\u001b[0m\n",
       "\u001b[1;31mCall signature:\u001b[0m  \u001b[0mnp\u001b[0m\u001b[1;33m.\u001b[0m\u001b[0mmax\u001b[0m\u001b[1;33m(\u001b[0m\u001b[1;33m*\u001b[0m\u001b[0margs\u001b[0m\u001b[1;33m,\u001b[0m \u001b[1;33m**\u001b[0m\u001b[0mkwargs\u001b[0m\u001b[1;33m)\u001b[0m\u001b[1;33m\u001b[0m\u001b[1;33m\u001b[0m\u001b[0m\n",
       "\u001b[1;31mType:\u001b[0m            _ArrayFunctionDispatcher\n",
       "\u001b[1;31mString form:\u001b[0m     <function max at 0x0000027E004809A0>\n",
       "\u001b[1;31mFile:\u001b[0m            c:\\users\\tamai\\anaconda3\\envs\\ocs4001\\lib\\site-packages\\numpy\\core\\fromnumeric.py\n",
       "\u001b[1;31mDocstring:\u001b[0m      \n",
       "Return the maximum of an array or maximum along an axis.\n",
       "\n",
       "Parameters\n",
       "----------\n",
       "a : array_like\n",
       "    Input data.\n",
       "axis : None or int or tuple of ints, optional\n",
       "    Axis or axes along which to operate.  By default, flattened input is\n",
       "    used.\n",
       "\n",
       "    .. versionadded:: 1.7.0\n",
       "\n",
       "    If this is a tuple of ints, the maximum is selected over multiple axes,\n",
       "    instead of a single axis or all the axes as before.\n",
       "out : ndarray, optional\n",
       "    Alternative output array in which to place the result.  Must\n",
       "    be of the same shape and buffer length as the expected output.\n",
       "    See :ref:`ufuncs-output-type` for more details.\n",
       "\n",
       "keepdims : bool, optional\n",
       "    If this is set to True, the axes which are reduced are left\n",
       "    in the result as dimensions with size one. With this option,\n",
       "    the result will broadcast correctly against the input array.\n",
       "\n",
       "    If the default value is passed, then `keepdims` will not be\n",
       "    passed through to the ``max`` method of sub-classes of\n",
       "    `ndarray`, however any non-default value will be.  If the\n",
       "    sub-class' method does not implement `keepdims` any\n",
       "    exceptions will be raised.\n",
       "\n",
       "initial : scalar, optional\n",
       "    The minimum value of an output element. Must be present to allow\n",
       "    computation on empty slice. See `~numpy.ufunc.reduce` for details.\n",
       "\n",
       "    .. versionadded:: 1.15.0\n",
       "\n",
       "where : array_like of bool, optional\n",
       "    Elements to compare for the maximum. See `~numpy.ufunc.reduce`\n",
       "    for details.\n",
       "\n",
       "    .. versionadded:: 1.17.0\n",
       "\n",
       "Returns\n",
       "-------\n",
       "max : ndarray or scalar\n",
       "    Maximum of `a`. If `axis` is None, the result is a scalar value.\n",
       "    If `axis` is an int, the result is an array of dimension\n",
       "    ``a.ndim - 1``. If `axis` is a tuple, the result is an array of \n",
       "    dimension ``a.ndim - len(axis)``.\n",
       "\n",
       "See Also\n",
       "--------\n",
       "amin :\n",
       "    The minimum value of an array along a given axis, propagating any NaNs.\n",
       "nanmax :\n",
       "    The maximum value of an array along a given axis, ignoring any NaNs.\n",
       "maximum :\n",
       "    Element-wise maximum of two arrays, propagating any NaNs.\n",
       "fmax :\n",
       "    Element-wise maximum of two arrays, ignoring any NaNs.\n",
       "argmax :\n",
       "    Return the indices of the maximum values.\n",
       "\n",
       "nanmin, minimum, fmin\n",
       "\n",
       "Notes\n",
       "-----\n",
       "NaN values are propagated, that is if at least one item is NaN, the\n",
       "corresponding max value will be NaN as well. To ignore NaN values\n",
       "(MATLAB behavior), please use nanmax.\n",
       "\n",
       "Don't use `~numpy.max` for element-wise comparison of 2 arrays; when\n",
       "``a.shape[0]`` is 2, ``maximum(a[0], a[1])`` is faster than\n",
       "``max(a, axis=0)``.\n",
       "\n",
       "Examples\n",
       "--------\n",
       ">>> a = np.arange(4).reshape((2,2))\n",
       ">>> a\n",
       "array([[0, 1],\n",
       "       [2, 3]])\n",
       ">>> np.max(a)           # Maximum of the flattened array\n",
       "3\n",
       ">>> np.max(a, axis=0)   # Maxima along the first axis\n",
       "array([2, 3])\n",
       ">>> np.max(a, axis=1)   # Maxima along the second axis\n",
       "array([1, 3])\n",
       ">>> np.max(a, where=[False, True], initial=-1, axis=0)\n",
       "array([-1,  3])\n",
       ">>> b = np.arange(5, dtype=float)\n",
       ">>> b[2] = np.NaN\n",
       ">>> np.max(b)\n",
       "nan\n",
       ">>> np.max(b, where=~np.isnan(b), initial=-1)\n",
       "4.0\n",
       ">>> np.nanmax(b)\n",
       "4.0\n",
       "\n",
       "You can use an initial value to compute the maximum of an empty slice, or\n",
       "to initialize it to a different value:\n",
       "\n",
       ">>> np.max([[-50], [10]], axis=-1, initial=0)\n",
       "array([ 0, 10])\n",
       "\n",
       "Notice that the initial value is used as one of the elements for which the\n",
       "maximum is determined, unlike for the default argument Python's max\n",
       "function, which is only used for empty iterables.\n",
       "\n",
       ">>> np.max([5], initial=6)\n",
       "6\n",
       ">>> max([5], default=6)\n",
       "5\n",
       "\u001b[1;31mClass docstring:\u001b[0m\n",
       "Class to wrap functions with checks for __array_function__ overrides.\n",
       "\n",
       "All arguments are required, and can only be passed by position.\n",
       "\n",
       "Parameters\n",
       "----------\n",
       "dispatcher : function or None\n",
       "    The dispatcher function that returns a single sequence-like object\n",
       "    of all arguments relevant.  It must have the same signature (except\n",
       "    the default values) as the actual implementation.\n",
       "    If ``None``, this is a ``like=`` dispatcher and the\n",
       "    ``_ArrayFunctionDispatcher`` must be called with ``like`` as the\n",
       "    first (additional and positional) argument.\n",
       "implementation : function\n",
       "    Function that implements the operation on NumPy arrays without\n",
       "    overrides.  Arguments passed calling the ``_ArrayFunctionDispatcher``\n",
       "    will be forwarded to this (and the ``dispatcher``) as if using\n",
       "    ``*args, **kwargs``.\n",
       "\n",
       "Attributes\n",
       "----------\n",
       "_implementation : function\n",
       "    The original implementation passed in."
      ]
     },
     "metadata": {},
     "output_type": "display_data"
    }
   ],
   "source": [
    "np.max?"
   ]
  },
  {
   "cell_type": "code",
   "execution_count": null,
   "id": "looking-bubble",
   "metadata": {},
   "outputs": [],
   "source": [
    "def circle_area7(radius = 3):\n",
    "    \"\"\" Returns the area of a circle given the radius. \n",
    "    \n",
    "    Parameters\n",
    "    ----------\n",
    "    radius: array like, radius of the circle\n",
    "    Assumes the radius is 3 if not supplied.\n",
    "    \n",
    "    Returns\n",
    "    -------\n",
    "    area: ndarray or scalar\n",
    "    Returns the area for the given radii\n",
    "    \n",
    "    \"\"\"\n",
    "    \n",
    "    import numpy as np\n",
    "    \n",
    "    return np.pi*radius**2"
   ]
  },
  {
   "cell_type": "code",
   "execution_count": 51,
   "id": "educated-study",
   "metadata": {},
   "outputs": [
    {
     "data": {
      "text/plain": [
       "\u001b[1;31mSignature:\u001b[0m \u001b[0mcircle_area7\u001b[0m\u001b[1;33m(\u001b[0m\u001b[0mradius\u001b[0m\u001b[1;33m=\u001b[0m\u001b[1;36m3\u001b[0m\u001b[1;33m)\u001b[0m\u001b[1;33m\u001b[0m\u001b[1;33m\u001b[0m\u001b[0m\n",
       "\u001b[1;31mDocstring:\u001b[0m\n",
       "Returns the area of a circle given the radius. \n",
       "Assumes the radius is 3 if not supplied. \n",
       "\u001b[1;31mFile:\u001b[0m      c:\\users\\tamai\\appdata\\local\\temp\\ipykernel_25300\\967664329.py\n",
       "\u001b[1;31mType:\u001b[0m      function"
      ]
     },
     "metadata": {},
     "output_type": "display_data"
    }
   ],
   "source": [
    "circle_area7?"
   ]
  },
  {
   "cell_type": "code",
   "execution_count": null,
   "id": "amended-marshall",
   "metadata": {},
   "outputs": [],
   "source": []
  },
  {
   "cell_type": "markdown",
   "id": "demanding-ghost",
   "metadata": {},
   "source": [
    "# Lab 5.2"
   ]
  },
  {
   "cell_type": "markdown",
   "id": "large-paradise",
   "metadata": {},
   "source": [
    "**E.1** Complete Introduction to Functions in Python Ch 1 (you can do Ch 2-3 if you are very keen, but this is not required)\n"
   ]
  },
  {
   "cell_type": "code",
   "execution_count": null,
   "id": "approximate-recall",
   "metadata": {},
   "outputs": [],
   "source": []
  },
  {
   "cell_type": "markdown",
   "id": "grateful-russia",
   "metadata": {},
   "source": [
    "**E.2** Make notes for yourself on progamming tecniques and commands you learned in the datacamp chapter above, including examples, comments and explainitory text. You can do this here or in a separate notebook that you link to here. Basically, you are making a cheat sheet for yourself."
   ]
  },
  {
   "cell_type": "markdown",
   "id": "c18323dc-08a5-4106-892f-f84bd92cd6d0",
   "metadata": {},
   "source": [
    "From the datacamp assignment, I learned how to design a function. There are three parts of functions. 1. Function header. In this part, we define \n",
    "a function name for example \"def sum (): \". here sum is the function name. 2. Function body: In this part, we incorporate all the parts of a function how it works, and all the codes if I want to add two values then I will write 2+3 and will assign this calculation a name \"summation\". Then comes the third part 3. Return or print. I can tell the function either returns the results or I can tell it to print it. If I choose to return after calling the function, I need to assign it a name. This is the basic formatting of a function. \n",
    "\n",
    "I haven't added any parameters to the function I described above. I can add parameters as well. For example, I can add two parameters x and y while creating the sum function. When I  call the function sum, I need to provide two parameters to make that work. Besides, we need to make a docstring as well with triple-double quotes to when we build a function to document what we are going to do with a function, what will be input and output. \n",
    "\n",
    "I just defined a simple function below as an example of what I have written above."
   ]
  },
  {
   "cell_type": "code",
   "execution_count": 42,
   "id": "c8429f0e-2b69-4914-bb87-b550169be694",
   "metadata": {},
   "outputs": [],
   "source": [
    "def sum(x,y):\n",
    "    \"\"\" Returns the summation of the given two values.\n",
    "    Parameters\n",
    "    -------------\n",
    "    x= any numbers, integers or float\n",
    "    y= any numbers, integers or float\n",
    "\n",
    "    Returns\n",
    "    -------------\n",
    "    summation: integers or floats\n",
    "    return the sum of the the given values\n",
    "    \"\"\"\n",
    "    \n",
    "    summation=x+y\n",
    "    print(summation)"
   ]
  },
  {
   "cell_type": "code",
   "execution_count": 43,
   "id": "664a58b5-7fe7-4c39-af74-db49411460fd",
   "metadata": {},
   "outputs": [
    {
     "data": {
      "text/plain": [
       "\u001b[1;31mSignature:\u001b[0m \u001b[0msum\u001b[0m\u001b[1;33m(\u001b[0m\u001b[0mx\u001b[0m\u001b[1;33m,\u001b[0m \u001b[0my\u001b[0m\u001b[1;33m)\u001b[0m\u001b[1;33m\u001b[0m\u001b[1;33m\u001b[0m\u001b[0m\n",
       "\u001b[1;31mDocstring:\u001b[0m\n",
       "Returns the summation of the given two values.\n",
       "Parameters\n",
       "-------------\n",
       "x= any numbers, integers or float\n",
       "y= any numbers, integers or float\n",
       "\n",
       "Returns\n",
       "-------------\n",
       "summation: integers or floats\n",
       "return the sum of the the given values\n",
       "\u001b[1;31mFile:\u001b[0m      c:\\users\\tamai\\appdata\\local\\temp\\ipykernel_1216\\1101212076.py\n",
       "\u001b[1;31mType:\u001b[0m      function"
      ]
     },
     "metadata": {},
     "output_type": "display_data"
    }
   ],
   "source": [
    "sum?"
   ]
  },
  {
   "cell_type": "code",
   "execution_count": 44,
   "id": "cddb6d18-bf3f-452a-b6bc-09859db6b635",
   "metadata": {},
   "outputs": [
    {
     "name": "stdout",
     "output_type": "stream",
     "text": [
      "32\n"
     ]
    }
   ],
   "source": [
    "sum(2,30)"
   ]
  },
  {
   "cell_type": "markdown",
   "id": "7d14ade4-e105-4fa3-ab16-1609ecbd2e18",
   "metadata": {},
   "source": [
    "We can pass parameter to function and return multiple values. The following is an example of returning one value"
   ]
  },
  {
   "cell_type": "code",
   "execution_count": 46,
   "id": "d689d8c3-bdaa-4bc2-9151-05656f1e9943",
   "metadata": {},
   "outputs": [],
   "source": [
    "def raise_to_power(value1, value2):\n",
    "    \"\"\" Raise value1 to the power of value2\n",
    "    \"\"\"\n",
    "    new_value=value1**value2\n",
    "    return new_value"
   ]
  },
  {
   "cell_type": "code",
   "execution_count": 47,
   "id": "d9be7c02-ba41-49d2-bc7a-8708c87ecd03",
   "metadata": {},
   "outputs": [
    {
     "name": "stdout",
     "output_type": "stream",
     "text": [
      "8\n"
     ]
    }
   ],
   "source": [
    "result=raise_to_power(2,3)\n",
    "print(result)"
   ]
  },
  {
   "cell_type": "markdown",
   "id": "5d09379c-61d8-499a-9db2-bc25be49153d",
   "metadata": {},
   "source": [
    "The following function  shows how can we pass arguments to the function and how can we return multiple values using tuple or list"
   ]
  },
  {
   "cell_type": "code",
   "execution_count": 50,
   "id": "30bd665e-9bf1-4227-936c-a33a49e31155",
   "metadata": {},
   "outputs": [],
   "source": [
    "def raise_both(value1, value2):\n",
    "    \"\"\" Raise value1 to the power of value2 and vice versa.\n",
    "    \"\"\"\n",
    "    new_value1=value1**value2\n",
    "    new_value2=value2**value1\n",
    "    new_list=[new_value1, new_value2]\n",
    "    #new_tuple=(new_value1, new_value2)\n",
    "    return new_list"
   ]
  },
  {
   "cell_type": "code",
   "execution_count": 51,
   "id": "faa6f122-d571-47bb-a065-a2c0c8c20dbc",
   "metadata": {},
   "outputs": [
    {
     "data": {
      "text/plain": [
       "[8, 9]"
      ]
     },
     "execution_count": 51,
     "metadata": {},
     "output_type": "execute_result"
    }
   ],
   "source": [
    "raise_both(2,3)"
   ]
  },
  {
   "cell_type": "markdown",
   "id": "sudden-policy",
   "metadata": {},
   "source": [
    "### This week's project:\n",
    "\n",
    "**E.3** Write two functions that work on your dataset (you can use the same dataset you plotted previously or a different one). The first function will do some sort of manipulation (e.g., removing bad data, subsetting) or calculation/analysis, the second will be a plotting function. The idea here is that if you had another datafile that was similar, you could use the functions to do the programming tasks again easily. You will present these to the class next week, similar to how you presented your plots. \n",
    "\n",
    "Add 1-2 slides here: https://lsu.box.com/s/6qz51fijd4sc1ne175w3j7e5lxmk7x0l"
   ]
  },
  {
   "cell_type": "markdown",
   "id": "d76e1eb2-3812-42ee-948c-2664b91e339e",
   "metadata": {},
   "source": [
    "The following dataset is some people who took programming or stat class before or not. The data has description of gender, \n",
    "local or not and the usages of the programming and stat class."
   ]
  },
  {
   "cell_type": "code",
   "execution_count": 54,
   "id": "fb61f752-8b7a-4082-ba68-1edec83b3fe1",
   "metadata": {},
   "outputs": [],
   "source": [
    "quest1=pd.read_csv(\"Quest1.csv\")"
   ]
  },
  {
   "cell_type": "code",
   "execution_count": 55,
   "id": "14b05918-8864-46db-a605-a007657990a7",
   "metadata": {},
   "outputs": [
    {
     "data": {
      "text/html": [
       "<div>\n",
       "<style scoped>\n",
       "    .dataframe tbody tr th:only-of-type {\n",
       "        vertical-align: middle;\n",
       "    }\n",
       "\n",
       "    .dataframe tbody tr th {\n",
       "        vertical-align: top;\n",
       "    }\n",
       "\n",
       "    .dataframe thead th {\n",
       "        text-align: right;\n",
       "    }\n",
       "</style>\n",
       "<table border=\"1\" class=\"dataframe\">\n",
       "  <thead>\n",
       "    <tr style=\"text-align: right;\">\n",
       "      <th></th>\n",
       "      <th>Gender</th>\n",
       "      <th>Age</th>\n",
       "      <th>Local</th>\n",
       "      <th>Past Stats</th>\n",
       "      <th>Past Programming</th>\n",
       "      <th>Use</th>\n",
       "    </tr>\n",
       "  </thead>\n",
       "  <tbody>\n",
       "    <tr>\n",
       "      <th>0</th>\n",
       "      <td>F</td>\n",
       "      <td>32.0</td>\n",
       "      <td>Y</td>\n",
       "      <td>Y</td>\n",
       "      <td>N</td>\n",
       "      <td>Classes</td>\n",
       "    </tr>\n",
       "    <tr>\n",
       "      <th>1</th>\n",
       "      <td>M</td>\n",
       "      <td>35.0</td>\n",
       "      <td>N</td>\n",
       "      <td>N</td>\n",
       "      <td>N</td>\n",
       "      <td>Research</td>\n",
       "    </tr>\n",
       "    <tr>\n",
       "      <th>2</th>\n",
       "      <td>F</td>\n",
       "      <td>29.0</td>\n",
       "      <td>N</td>\n",
       "      <td>Y</td>\n",
       "      <td>Y</td>\n",
       "      <td>Research</td>\n",
       "    </tr>\n",
       "    <tr>\n",
       "      <th>3</th>\n",
       "      <td>M</td>\n",
       "      <td>29.0</td>\n",
       "      <td>N</td>\n",
       "      <td>Y</td>\n",
       "      <td>Y</td>\n",
       "      <td>Research</td>\n",
       "    </tr>\n",
       "    <tr>\n",
       "      <th>4</th>\n",
       "      <td>F</td>\n",
       "      <td>NaN</td>\n",
       "      <td>N</td>\n",
       "      <td>Y</td>\n",
       "      <td>N</td>\n",
       "      <td>Research</td>\n",
       "    </tr>\n",
       "    <tr>\n",
       "      <th>5</th>\n",
       "      <td>M</td>\n",
       "      <td>21.0</td>\n",
       "      <td>N</td>\n",
       "      <td>Y</td>\n",
       "      <td>Y</td>\n",
       "      <td>NaN</td>\n",
       "    </tr>\n",
       "    <tr>\n",
       "      <th>6</th>\n",
       "      <td>M</td>\n",
       "      <td>37.0</td>\n",
       "      <td>NaN</td>\n",
       "      <td>Y</td>\n",
       "      <td>Y</td>\n",
       "      <td>Teaching</td>\n",
       "    </tr>\n",
       "    <tr>\n",
       "      <th>7</th>\n",
       "      <td>F</td>\n",
       "      <td>26.0</td>\n",
       "      <td>N</td>\n",
       "      <td>Y</td>\n",
       "      <td>Y</td>\n",
       "      <td>Research</td>\n",
       "    </tr>\n",
       "    <tr>\n",
       "      <th>8</th>\n",
       "      <td>M</td>\n",
       "      <td>23.0</td>\n",
       "      <td>N</td>\n",
       "      <td>N</td>\n",
       "      <td>N</td>\n",
       "      <td>NaN</td>\n",
       "    </tr>\n",
       "    <tr>\n",
       "      <th>9</th>\n",
       "      <td>M</td>\n",
       "      <td>27.0</td>\n",
       "      <td>N</td>\n",
       "      <td>N</td>\n",
       "      <td>Y</td>\n",
       "      <td>Research</td>\n",
       "    </tr>\n",
       "    <tr>\n",
       "      <th>10</th>\n",
       "      <td>M</td>\n",
       "      <td>24.0</td>\n",
       "      <td>Y</td>\n",
       "      <td>Y</td>\n",
       "      <td>Y</td>\n",
       "      <td>Research</td>\n",
       "    </tr>\n",
       "    <tr>\n",
       "      <th>11</th>\n",
       "      <td>M</td>\n",
       "      <td>25.0</td>\n",
       "      <td>Y</td>\n",
       "      <td>N</td>\n",
       "      <td>N</td>\n",
       "      <td>Research</td>\n",
       "    </tr>\n",
       "    <tr>\n",
       "      <th>12</th>\n",
       "      <td>F</td>\n",
       "      <td>24.0</td>\n",
       "      <td>N</td>\n",
       "      <td>Y</td>\n",
       "      <td>N</td>\n",
       "      <td>Research</td>\n",
       "    </tr>\n",
       "    <tr>\n",
       "      <th>13</th>\n",
       "      <td>M</td>\n",
       "      <td>26.0</td>\n",
       "      <td>N</td>\n",
       "      <td>Y</td>\n",
       "      <td>N</td>\n",
       "      <td>Research</td>\n",
       "    </tr>\n",
       "    <tr>\n",
       "      <th>14</th>\n",
       "      <td>M</td>\n",
       "      <td>22.0</td>\n",
       "      <td>N</td>\n",
       "      <td>N</td>\n",
       "      <td>N</td>\n",
       "      <td>Research</td>\n",
       "    </tr>\n",
       "    <tr>\n",
       "      <th>15</th>\n",
       "      <td>F</td>\n",
       "      <td>26.0</td>\n",
       "      <td>N</td>\n",
       "      <td>Y</td>\n",
       "      <td>N</td>\n",
       "      <td>Research</td>\n",
       "    </tr>\n",
       "    <tr>\n",
       "      <th>16</th>\n",
       "      <td>M</td>\n",
       "      <td>26.0</td>\n",
       "      <td>N</td>\n",
       "      <td>Y</td>\n",
       "      <td>Y</td>\n",
       "      <td>Research</td>\n",
       "    </tr>\n",
       "    <tr>\n",
       "      <th>17</th>\n",
       "      <td>F</td>\n",
       "      <td>27.0</td>\n",
       "      <td>Y</td>\n",
       "      <td>Y</td>\n",
       "      <td>N</td>\n",
       "      <td>Classes</td>\n",
       "    </tr>\n",
       "    <tr>\n",
       "      <th>18</th>\n",
       "      <td>M</td>\n",
       "      <td>24.0</td>\n",
       "      <td>Y</td>\n",
       "      <td>Y</td>\n",
       "      <td>Y</td>\n",
       "      <td>Research</td>\n",
       "    </tr>\n",
       "    <tr>\n",
       "      <th>19</th>\n",
       "      <td>F</td>\n",
       "      <td>22.0</td>\n",
       "      <td>N</td>\n",
       "      <td>N</td>\n",
       "      <td>N</td>\n",
       "      <td>Research</td>\n",
       "    </tr>\n",
       "    <tr>\n",
       "      <th>20</th>\n",
       "      <td>M</td>\n",
       "      <td>26.0</td>\n",
       "      <td>Y</td>\n",
       "      <td>Y</td>\n",
       "      <td>Y</td>\n",
       "      <td>Research</td>\n",
       "    </tr>\n",
       "    <tr>\n",
       "      <th>21</th>\n",
       "      <td>F</td>\n",
       "      <td>35.0</td>\n",
       "      <td>Y</td>\n",
       "      <td>N</td>\n",
       "      <td>N</td>\n",
       "      <td>Research</td>\n",
       "    </tr>\n",
       "    <tr>\n",
       "      <th>22</th>\n",
       "      <td>F</td>\n",
       "      <td>29.0</td>\n",
       "      <td>Y</td>\n",
       "      <td>N</td>\n",
       "      <td>N</td>\n",
       "      <td>NaN</td>\n",
       "    </tr>\n",
       "    <tr>\n",
       "      <th>23</th>\n",
       "      <td>M</td>\n",
       "      <td>23.0</td>\n",
       "      <td>N</td>\n",
       "      <td>NaN</td>\n",
       "      <td>N</td>\n",
       "      <td>Research</td>\n",
       "    </tr>\n",
       "    <tr>\n",
       "      <th>24</th>\n",
       "      <td>M</td>\n",
       "      <td>22.0</td>\n",
       "      <td>Y</td>\n",
       "      <td>Y</td>\n",
       "      <td>Y</td>\n",
       "      <td>Research</td>\n",
       "    </tr>\n",
       "    <tr>\n",
       "      <th>25</th>\n",
       "      <td>F</td>\n",
       "      <td>22.0</td>\n",
       "      <td>N</td>\n",
       "      <td>N</td>\n",
       "      <td>Y</td>\n",
       "      <td>Research</td>\n",
       "    </tr>\n",
       "    <tr>\n",
       "      <th>26</th>\n",
       "      <td>F</td>\n",
       "      <td>25.0</td>\n",
       "      <td>N</td>\n",
       "      <td>Y</td>\n",
       "      <td>NaN</td>\n",
       "      <td>Research</td>\n",
       "    </tr>\n",
       "    <tr>\n",
       "      <th>27</th>\n",
       "      <td>F</td>\n",
       "      <td>37.0</td>\n",
       "      <td>N</td>\n",
       "      <td>Y</td>\n",
       "      <td>N</td>\n",
       "      <td>Research</td>\n",
       "    </tr>\n",
       "    <tr>\n",
       "      <th>28</th>\n",
       "      <td>F</td>\n",
       "      <td>34.0</td>\n",
       "      <td>N</td>\n",
       "      <td>Y</td>\n",
       "      <td>Y</td>\n",
       "      <td>Research</td>\n",
       "    </tr>\n",
       "    <tr>\n",
       "      <th>29</th>\n",
       "      <td>F</td>\n",
       "      <td>26.0</td>\n",
       "      <td>NaN</td>\n",
       "      <td>N</td>\n",
       "      <td>N</td>\n",
       "      <td>Research</td>\n",
       "    </tr>\n",
       "    <tr>\n",
       "      <th>30</th>\n",
       "      <td>M</td>\n",
       "      <td>26.0</td>\n",
       "      <td>N</td>\n",
       "      <td>Y</td>\n",
       "      <td>Y</td>\n",
       "      <td>Research</td>\n",
       "    </tr>\n",
       "    <tr>\n",
       "      <th>31</th>\n",
       "      <td>M</td>\n",
       "      <td>30.0</td>\n",
       "      <td>Y</td>\n",
       "      <td>Y</td>\n",
       "      <td>N</td>\n",
       "      <td>Classes</td>\n",
       "    </tr>\n",
       "    <tr>\n",
       "      <th>32</th>\n",
       "      <td>M</td>\n",
       "      <td>25.0</td>\n",
       "      <td>N</td>\n",
       "      <td>N</td>\n",
       "      <td>N</td>\n",
       "      <td>Research</td>\n",
       "    </tr>\n",
       "    <tr>\n",
       "      <th>33</th>\n",
       "      <td>F</td>\n",
       "      <td>30.0</td>\n",
       "      <td>N</td>\n",
       "      <td>N</td>\n",
       "      <td>Y</td>\n",
       "      <td>Research</td>\n",
       "    </tr>\n",
       "    <tr>\n",
       "      <th>34</th>\n",
       "      <td>M</td>\n",
       "      <td>24.0</td>\n",
       "      <td>Y</td>\n",
       "      <td>Y</td>\n",
       "      <td>Y</td>\n",
       "      <td>Research</td>\n",
       "    </tr>\n",
       "    <tr>\n",
       "      <th>35</th>\n",
       "      <td>F</td>\n",
       "      <td>23.0</td>\n",
       "      <td>N</td>\n",
       "      <td>Y</td>\n",
       "      <td>Y</td>\n",
       "      <td>Research</td>\n",
       "    </tr>\n",
       "    <tr>\n",
       "      <th>36</th>\n",
       "      <td>M</td>\n",
       "      <td>24.0</td>\n",
       "      <td>N</td>\n",
       "      <td>Y</td>\n",
       "      <td>N</td>\n",
       "      <td>Research</td>\n",
       "    </tr>\n",
       "    <tr>\n",
       "      <th>37</th>\n",
       "      <td>M</td>\n",
       "      <td>27.0</td>\n",
       "      <td>NaN</td>\n",
       "      <td>Y</td>\n",
       "      <td>Y</td>\n",
       "      <td>Research</td>\n",
       "    </tr>\n",
       "    <tr>\n",
       "      <th>38</th>\n",
       "      <td>M</td>\n",
       "      <td>28.0</td>\n",
       "      <td>N</td>\n",
       "      <td>NaN</td>\n",
       "      <td>Y</td>\n",
       "      <td>Research</td>\n",
       "    </tr>\n",
       "    <tr>\n",
       "      <th>39</th>\n",
       "      <td>F</td>\n",
       "      <td>24.0</td>\n",
       "      <td>N</td>\n",
       "      <td>Y</td>\n",
       "      <td>Y</td>\n",
       "      <td>Research</td>\n",
       "    </tr>\n",
       "    <tr>\n",
       "      <th>40</th>\n",
       "      <td>F</td>\n",
       "      <td>27.0</td>\n",
       "      <td>N</td>\n",
       "      <td>Y</td>\n",
       "      <td>N</td>\n",
       "      <td>Research</td>\n",
       "    </tr>\n",
       "    <tr>\n",
       "      <th>41</th>\n",
       "      <td>M</td>\n",
       "      <td>22.0</td>\n",
       "      <td>Y</td>\n",
       "      <td>N</td>\n",
       "      <td>N</td>\n",
       "      <td>Research</td>\n",
       "    </tr>\n",
       "    <tr>\n",
       "      <th>42</th>\n",
       "      <td>F</td>\n",
       "      <td>22.0</td>\n",
       "      <td>N</td>\n",
       "      <td>N</td>\n",
       "      <td>N</td>\n",
       "      <td>Research</td>\n",
       "    </tr>\n",
       "    <tr>\n",
       "      <th>43</th>\n",
       "      <td>M</td>\n",
       "      <td>27.0</td>\n",
       "      <td>Y</td>\n",
       "      <td>Y</td>\n",
       "      <td>Y</td>\n",
       "      <td>Research</td>\n",
       "    </tr>\n",
       "  </tbody>\n",
       "</table>\n",
       "</div>"
      ],
      "text/plain": [
       "   Gender   Age Local Past Stats Past Programming       Use\n",
       "0       F  32.0     Y          Y                N   Classes\n",
       "1       M  35.0     N          N                N  Research\n",
       "2       F  29.0     N          Y                Y  Research\n",
       "3       M  29.0     N          Y                Y  Research\n",
       "4       F   NaN     N          Y                N  Research\n",
       "5       M  21.0     N          Y                Y       NaN\n",
       "6       M  37.0   NaN          Y                Y  Teaching\n",
       "7       F  26.0     N          Y                Y  Research\n",
       "8       M  23.0     N          N                N       NaN\n",
       "9       M  27.0     N          N                Y  Research\n",
       "10      M  24.0     Y          Y                Y  Research\n",
       "11      M  25.0     Y          N                N  Research\n",
       "12      F  24.0     N          Y                N  Research\n",
       "13      M  26.0     N          Y                N  Research\n",
       "14      M  22.0     N          N                N  Research\n",
       "15      F  26.0     N          Y                N  Research\n",
       "16      M  26.0     N          Y                Y  Research\n",
       "17      F  27.0     Y          Y                N   Classes\n",
       "18      M  24.0     Y          Y                Y  Research\n",
       "19      F  22.0     N          N                N  Research\n",
       "20      M  26.0     Y          Y                Y  Research\n",
       "21      F  35.0     Y          N                N  Research\n",
       "22      F  29.0     Y          N                N       NaN\n",
       "23      M  23.0     N        NaN                N  Research\n",
       "24      M  22.0     Y          Y                Y  Research\n",
       "25      F  22.0     N          N                Y  Research\n",
       "26      F  25.0     N          Y              NaN  Research\n",
       "27      F  37.0     N          Y                N  Research\n",
       "28      F  34.0     N          Y                Y  Research\n",
       "29      F  26.0   NaN          N                N  Research\n",
       "30      M  26.0     N          Y                Y  Research\n",
       "31      M  30.0     Y          Y                N   Classes\n",
       "32      M  25.0     N          N                N  Research\n",
       "33      F  30.0     N          N                Y  Research\n",
       "34      M  24.0     Y          Y                Y  Research\n",
       "35      F  23.0     N          Y                Y  Research\n",
       "36      M  24.0     N          Y                N  Research\n",
       "37      M  27.0   NaN          Y                Y  Research\n",
       "38      M  28.0     N        NaN                Y  Research\n",
       "39      F  24.0     N          Y                Y  Research\n",
       "40      F  27.0     N          Y                N  Research\n",
       "41      M  22.0     Y          N                N  Research\n",
       "42      F  22.0     N          N                N  Research\n",
       "43      M  27.0     Y          Y                Y  Research"
      ]
     },
     "execution_count": 55,
     "metadata": {},
     "output_type": "execute_result"
    }
   ],
   "source": [
    "quest1\n"
   ]
  },
  {
   "cell_type": "markdown",
   "id": "88a7001d-0f9a-45ea-a6f2-092f2162cf5e",
   "metadata": {},
   "source": [
    "After loading the data, first thing I noticed is that there are some NaN value which I want to get rid of.\n",
    "So, my first task here to write a function which will help me to remove these No Data Value. "
   ]
  },
  {
   "cell_type": "code",
   "execution_count": 57,
   "id": "d89987a5-a91d-4319-9a21-f7a0f266782a",
   "metadata": {},
   "outputs": [],
   "source": [
    "\n",
    "\n",
    "def drop_nan_rows(df):\n",
    "    \"\"\"\n",
    "    Drop rows with any NaN values in the DataFrame.\n",
    "    \n",
    "    Parameters:\n",
    "    df (pd.DataFrame): The input DataFrame from which rows with NaN are dropped.\n",
    "    \n",
    "    Returns:\n",
    "    pd.DataFrame: A new DataFrame with all rows containing NaN values removed.\n",
    "    \"\"\"\n",
    "   \n",
    "    df_clean = df.dropna()\n",
    "    \n",
    "    return df_clean\n"
   ]
  },
  {
   "cell_type": "code",
   "execution_count": 58,
   "id": "8781b80a-c6e6-449b-b3e6-b3bbfdf4d174",
   "metadata": {},
   "outputs": [
    {
     "data": {
      "text/html": [
       "<div>\n",
       "<style scoped>\n",
       "    .dataframe tbody tr th:only-of-type {\n",
       "        vertical-align: middle;\n",
       "    }\n",
       "\n",
       "    .dataframe tbody tr th {\n",
       "        vertical-align: top;\n",
       "    }\n",
       "\n",
       "    .dataframe thead th {\n",
       "        text-align: right;\n",
       "    }\n",
       "</style>\n",
       "<table border=\"1\" class=\"dataframe\">\n",
       "  <thead>\n",
       "    <tr style=\"text-align: right;\">\n",
       "      <th></th>\n",
       "      <th>Gender</th>\n",
       "      <th>Age</th>\n",
       "      <th>Local</th>\n",
       "      <th>Past Stats</th>\n",
       "      <th>Past Programming</th>\n",
       "      <th>Use</th>\n",
       "    </tr>\n",
       "  </thead>\n",
       "  <tbody>\n",
       "    <tr>\n",
       "      <th>0</th>\n",
       "      <td>F</td>\n",
       "      <td>32.0</td>\n",
       "      <td>Y</td>\n",
       "      <td>Y</td>\n",
       "      <td>N</td>\n",
       "      <td>Classes</td>\n",
       "    </tr>\n",
       "    <tr>\n",
       "      <th>1</th>\n",
       "      <td>M</td>\n",
       "      <td>35.0</td>\n",
       "      <td>N</td>\n",
       "      <td>N</td>\n",
       "      <td>N</td>\n",
       "      <td>Research</td>\n",
       "    </tr>\n",
       "    <tr>\n",
       "      <th>2</th>\n",
       "      <td>F</td>\n",
       "      <td>29.0</td>\n",
       "      <td>N</td>\n",
       "      <td>Y</td>\n",
       "      <td>Y</td>\n",
       "      <td>Research</td>\n",
       "    </tr>\n",
       "    <tr>\n",
       "      <th>3</th>\n",
       "      <td>M</td>\n",
       "      <td>29.0</td>\n",
       "      <td>N</td>\n",
       "      <td>Y</td>\n",
       "      <td>Y</td>\n",
       "      <td>Research</td>\n",
       "    </tr>\n",
       "    <tr>\n",
       "      <th>7</th>\n",
       "      <td>F</td>\n",
       "      <td>26.0</td>\n",
       "      <td>N</td>\n",
       "      <td>Y</td>\n",
       "      <td>Y</td>\n",
       "      <td>Research</td>\n",
       "    </tr>\n",
       "    <tr>\n",
       "      <th>9</th>\n",
       "      <td>M</td>\n",
       "      <td>27.0</td>\n",
       "      <td>N</td>\n",
       "      <td>N</td>\n",
       "      <td>Y</td>\n",
       "      <td>Research</td>\n",
       "    </tr>\n",
       "    <tr>\n",
       "      <th>10</th>\n",
       "      <td>M</td>\n",
       "      <td>24.0</td>\n",
       "      <td>Y</td>\n",
       "      <td>Y</td>\n",
       "      <td>Y</td>\n",
       "      <td>Research</td>\n",
       "    </tr>\n",
       "    <tr>\n",
       "      <th>11</th>\n",
       "      <td>M</td>\n",
       "      <td>25.0</td>\n",
       "      <td>Y</td>\n",
       "      <td>N</td>\n",
       "      <td>N</td>\n",
       "      <td>Research</td>\n",
       "    </tr>\n",
       "    <tr>\n",
       "      <th>12</th>\n",
       "      <td>F</td>\n",
       "      <td>24.0</td>\n",
       "      <td>N</td>\n",
       "      <td>Y</td>\n",
       "      <td>N</td>\n",
       "      <td>Research</td>\n",
       "    </tr>\n",
       "    <tr>\n",
       "      <th>13</th>\n",
       "      <td>M</td>\n",
       "      <td>26.0</td>\n",
       "      <td>N</td>\n",
       "      <td>Y</td>\n",
       "      <td>N</td>\n",
       "      <td>Research</td>\n",
       "    </tr>\n",
       "    <tr>\n",
       "      <th>14</th>\n",
       "      <td>M</td>\n",
       "      <td>22.0</td>\n",
       "      <td>N</td>\n",
       "      <td>N</td>\n",
       "      <td>N</td>\n",
       "      <td>Research</td>\n",
       "    </tr>\n",
       "    <tr>\n",
       "      <th>15</th>\n",
       "      <td>F</td>\n",
       "      <td>26.0</td>\n",
       "      <td>N</td>\n",
       "      <td>Y</td>\n",
       "      <td>N</td>\n",
       "      <td>Research</td>\n",
       "    </tr>\n",
       "    <tr>\n",
       "      <th>16</th>\n",
       "      <td>M</td>\n",
       "      <td>26.0</td>\n",
       "      <td>N</td>\n",
       "      <td>Y</td>\n",
       "      <td>Y</td>\n",
       "      <td>Research</td>\n",
       "    </tr>\n",
       "    <tr>\n",
       "      <th>17</th>\n",
       "      <td>F</td>\n",
       "      <td>27.0</td>\n",
       "      <td>Y</td>\n",
       "      <td>Y</td>\n",
       "      <td>N</td>\n",
       "      <td>Classes</td>\n",
       "    </tr>\n",
       "    <tr>\n",
       "      <th>18</th>\n",
       "      <td>M</td>\n",
       "      <td>24.0</td>\n",
       "      <td>Y</td>\n",
       "      <td>Y</td>\n",
       "      <td>Y</td>\n",
       "      <td>Research</td>\n",
       "    </tr>\n",
       "    <tr>\n",
       "      <th>19</th>\n",
       "      <td>F</td>\n",
       "      <td>22.0</td>\n",
       "      <td>N</td>\n",
       "      <td>N</td>\n",
       "      <td>N</td>\n",
       "      <td>Research</td>\n",
       "    </tr>\n",
       "    <tr>\n",
       "      <th>20</th>\n",
       "      <td>M</td>\n",
       "      <td>26.0</td>\n",
       "      <td>Y</td>\n",
       "      <td>Y</td>\n",
       "      <td>Y</td>\n",
       "      <td>Research</td>\n",
       "    </tr>\n",
       "    <tr>\n",
       "      <th>21</th>\n",
       "      <td>F</td>\n",
       "      <td>35.0</td>\n",
       "      <td>Y</td>\n",
       "      <td>N</td>\n",
       "      <td>N</td>\n",
       "      <td>Research</td>\n",
       "    </tr>\n",
       "    <tr>\n",
       "      <th>24</th>\n",
       "      <td>M</td>\n",
       "      <td>22.0</td>\n",
       "      <td>Y</td>\n",
       "      <td>Y</td>\n",
       "      <td>Y</td>\n",
       "      <td>Research</td>\n",
       "    </tr>\n",
       "    <tr>\n",
       "      <th>25</th>\n",
       "      <td>F</td>\n",
       "      <td>22.0</td>\n",
       "      <td>N</td>\n",
       "      <td>N</td>\n",
       "      <td>Y</td>\n",
       "      <td>Research</td>\n",
       "    </tr>\n",
       "    <tr>\n",
       "      <th>27</th>\n",
       "      <td>F</td>\n",
       "      <td>37.0</td>\n",
       "      <td>N</td>\n",
       "      <td>Y</td>\n",
       "      <td>N</td>\n",
       "      <td>Research</td>\n",
       "    </tr>\n",
       "    <tr>\n",
       "      <th>28</th>\n",
       "      <td>F</td>\n",
       "      <td>34.0</td>\n",
       "      <td>N</td>\n",
       "      <td>Y</td>\n",
       "      <td>Y</td>\n",
       "      <td>Research</td>\n",
       "    </tr>\n",
       "    <tr>\n",
       "      <th>30</th>\n",
       "      <td>M</td>\n",
       "      <td>26.0</td>\n",
       "      <td>N</td>\n",
       "      <td>Y</td>\n",
       "      <td>Y</td>\n",
       "      <td>Research</td>\n",
       "    </tr>\n",
       "    <tr>\n",
       "      <th>31</th>\n",
       "      <td>M</td>\n",
       "      <td>30.0</td>\n",
       "      <td>Y</td>\n",
       "      <td>Y</td>\n",
       "      <td>N</td>\n",
       "      <td>Classes</td>\n",
       "    </tr>\n",
       "    <tr>\n",
       "      <th>32</th>\n",
       "      <td>M</td>\n",
       "      <td>25.0</td>\n",
       "      <td>N</td>\n",
       "      <td>N</td>\n",
       "      <td>N</td>\n",
       "      <td>Research</td>\n",
       "    </tr>\n",
       "    <tr>\n",
       "      <th>33</th>\n",
       "      <td>F</td>\n",
       "      <td>30.0</td>\n",
       "      <td>N</td>\n",
       "      <td>N</td>\n",
       "      <td>Y</td>\n",
       "      <td>Research</td>\n",
       "    </tr>\n",
       "    <tr>\n",
       "      <th>34</th>\n",
       "      <td>M</td>\n",
       "      <td>24.0</td>\n",
       "      <td>Y</td>\n",
       "      <td>Y</td>\n",
       "      <td>Y</td>\n",
       "      <td>Research</td>\n",
       "    </tr>\n",
       "    <tr>\n",
       "      <th>35</th>\n",
       "      <td>F</td>\n",
       "      <td>23.0</td>\n",
       "      <td>N</td>\n",
       "      <td>Y</td>\n",
       "      <td>Y</td>\n",
       "      <td>Research</td>\n",
       "    </tr>\n",
       "    <tr>\n",
       "      <th>36</th>\n",
       "      <td>M</td>\n",
       "      <td>24.0</td>\n",
       "      <td>N</td>\n",
       "      <td>Y</td>\n",
       "      <td>N</td>\n",
       "      <td>Research</td>\n",
       "    </tr>\n",
       "    <tr>\n",
       "      <th>39</th>\n",
       "      <td>F</td>\n",
       "      <td>24.0</td>\n",
       "      <td>N</td>\n",
       "      <td>Y</td>\n",
       "      <td>Y</td>\n",
       "      <td>Research</td>\n",
       "    </tr>\n",
       "    <tr>\n",
       "      <th>40</th>\n",
       "      <td>F</td>\n",
       "      <td>27.0</td>\n",
       "      <td>N</td>\n",
       "      <td>Y</td>\n",
       "      <td>N</td>\n",
       "      <td>Research</td>\n",
       "    </tr>\n",
       "    <tr>\n",
       "      <th>41</th>\n",
       "      <td>M</td>\n",
       "      <td>22.0</td>\n",
       "      <td>Y</td>\n",
       "      <td>N</td>\n",
       "      <td>N</td>\n",
       "      <td>Research</td>\n",
       "    </tr>\n",
       "    <tr>\n",
       "      <th>42</th>\n",
       "      <td>F</td>\n",
       "      <td>22.0</td>\n",
       "      <td>N</td>\n",
       "      <td>N</td>\n",
       "      <td>N</td>\n",
       "      <td>Research</td>\n",
       "    </tr>\n",
       "    <tr>\n",
       "      <th>43</th>\n",
       "      <td>M</td>\n",
       "      <td>27.0</td>\n",
       "      <td>Y</td>\n",
       "      <td>Y</td>\n",
       "      <td>Y</td>\n",
       "      <td>Research</td>\n",
       "    </tr>\n",
       "  </tbody>\n",
       "</table>\n",
       "</div>"
      ],
      "text/plain": [
       "   Gender   Age Local Past Stats Past Programming       Use\n",
       "0       F  32.0     Y          Y                N   Classes\n",
       "1       M  35.0     N          N                N  Research\n",
       "2       F  29.0     N          Y                Y  Research\n",
       "3       M  29.0     N          Y                Y  Research\n",
       "7       F  26.0     N          Y                Y  Research\n",
       "9       M  27.0     N          N                Y  Research\n",
       "10      M  24.0     Y          Y                Y  Research\n",
       "11      M  25.0     Y          N                N  Research\n",
       "12      F  24.0     N          Y                N  Research\n",
       "13      M  26.0     N          Y                N  Research\n",
       "14      M  22.0     N          N                N  Research\n",
       "15      F  26.0     N          Y                N  Research\n",
       "16      M  26.0     N          Y                Y  Research\n",
       "17      F  27.0     Y          Y                N   Classes\n",
       "18      M  24.0     Y          Y                Y  Research\n",
       "19      F  22.0     N          N                N  Research\n",
       "20      M  26.0     Y          Y                Y  Research\n",
       "21      F  35.0     Y          N                N  Research\n",
       "24      M  22.0     Y          Y                Y  Research\n",
       "25      F  22.0     N          N                Y  Research\n",
       "27      F  37.0     N          Y                N  Research\n",
       "28      F  34.0     N          Y                Y  Research\n",
       "30      M  26.0     N          Y                Y  Research\n",
       "31      M  30.0     Y          Y                N   Classes\n",
       "32      M  25.0     N          N                N  Research\n",
       "33      F  30.0     N          N                Y  Research\n",
       "34      M  24.0     Y          Y                Y  Research\n",
       "35      F  23.0     N          Y                Y  Research\n",
       "36      M  24.0     N          Y                N  Research\n",
       "39      F  24.0     N          Y                Y  Research\n",
       "40      F  27.0     N          Y                N  Research\n",
       "41      M  22.0     Y          N                N  Research\n",
       "42      F  22.0     N          N                N  Research\n",
       "43      M  27.0     Y          Y                Y  Research"
      ]
     },
     "execution_count": 58,
     "metadata": {},
     "output_type": "execute_result"
    }
   ],
   "source": [
    "new_quest1=drop_nan_rows(quest1)\n",
    "new_quest1"
   ]
  },
  {
   "cell_type": "markdown",
   "id": "ec0f5b3d-b814-4526-a832-ea59b8a92a76",
   "metadata": {},
   "source": [
    "The following code I have used to make function which will calculate somewhat summary statistics for my variable. I have five different variables for example age, local or not, past experience of taking stat or programming courses and what's is the purpose of taking this courses.\n",
    "This function will calculate the number of male and female have participated in this survey. The min, max and mean value for age. Besides it will calculate how many of them are local and what is percentage that they are taking these programming or stat courses for research purposes."
   ]
  },
  {
   "cell_type": "code",
   "execution_count": 59,
   "id": "b96f04b7-463b-4356-8246-1cbefc57c1a6",
   "metadata": {},
   "outputs": [],
   "source": [
    "def analyze_dataset(df):\n",
    "    \"\"\"\n",
    "    Perform analysis on the dataset including gender distribution, age stats,\n",
    "    and local/non-local ratio, programming experience, and research usage.\n",
    "    \n",
    "    Parameters:\n",
    "    df (pd.DataFrame): The input DataFrame.\n",
    "    \n",
    "    Returns:\n",
    "    dict: A dictionary containing the results of the analysis.\n",
    "    \"\"\"\n",
    "    analysis_results = {}\n",
    "\n",
    "    # Gender distribution\n",
    "    \n",
    "    gender_counts = df['Gender'].value_counts()\n",
    "    analysis_results['Gender Distribution'] = gender_counts.to_dict()\n",
    "\n",
    "    # Age analysis (mean, min, max)\n",
    "   \n",
    "    analysis_results['Age Mean'] = df['Age'].mean()\n",
    "    analysis_results['Age Min'] = df['Age'].min()\n",
    "    analysis_results['Age Max'] = df['Age'].max()\n",
    "\n",
    "    # Local vs Non-Local\n",
    "    analysis_results['local Participants'] = df['Local'].value_counts().get('Y',0)\n",
    "    analysis_results['Non-local Participants'] = df['Local'].value_counts().get('N',0)\n",
    "    \n",
    "\n",
    "    # Past Programming experience\n",
    "   \n",
    "    analysis_results['Programming Experience'] = df['Past Programming'].value_counts().get('Y', 0)\n",
    "    analysis_results['No Programming Experience'] =df['Past Programming'].value_counts() .get('N', 0)\n",
    "\n",
    "    # Research Usage\n",
    "    research_usage = df['Use'].value_counts().get('Research', 0)\n",
    "    total_participants = len(df)\n",
    "    research_percentage = (research_usage / total_participants) * 100\n",
    "    analysis_results['Research Usage Percentage'] = research_percentage\n",
    "\n",
    "    return analysis_results\n"
   ]
  },
  {
   "cell_type": "code",
   "execution_count": 60,
   "id": "1d16fe14-5040-4917-a286-e13da70024b9",
   "metadata": {},
   "outputs": [
    {
     "name": "stdout",
     "output_type": "stream",
     "text": [
      "Gender Distribution: {'M': 18, 'F': 16}\n",
      "Age Mean: 26.58823529411765\n",
      "Age Min: 22.0\n",
      "Age Max: 37.0\n",
      "local Participants: 12\n",
      "Non-local Participants: 22\n",
      "Programming Experience: 17\n",
      "No Programming Experience: 17\n",
      "Research Usage Percentage: 91.17647058823529\n"
     ]
    }
   ],
   "source": [
    "\n",
    "results = analyze_dataset(new_quest1)\n",
    "\n",
    "\n",
    "for key, value in results.items():\n",
    "    print(f\"{key}: {value}\")"
   ]
  },
  {
   "cell_type": "markdown",
   "id": "a08c7d0c-48b5-4c02-bc5b-e2145d5f43c3",
   "metadata": {},
   "source": [
    "The function will create a data visualization for each of the columns. This function will take two arguments when calling the function. While writing the function, I provided two parameters the data frame and the column name. I have found this really cool. Each time while creating a histogram I do not have to write the extended code every time. I can just call the function and provide the two required arguments for example the dataframe and the column I want to make a histogram, the function will do that for me. "
   ]
  },
  {
   "cell_type": "code",
   "execution_count": 72,
   "id": "48e72fe9-7645-4d80-ac5f-f54982087cad",
   "metadata": {},
   "outputs": [],
   "source": [
    "\n",
    "\n",
    "def plot_column_distribution(df, column_name):\n",
    "    \"\"\"\n",
    "    Plot the distribution of a specified column in the DataFrame.\n",
    "    \n",
    "    Parameters:\n",
    "    df (pd.DataFrame): The input DataFrame from which the column is plotted.\n",
    "    column_name (str): The name of the column to plot.\n",
    "    \"\"\"\n",
    "   \n",
    "    if column_name in df.columns:\n",
    "        \n",
    "        plt.figure(figsize=(8, 6))\n",
    "        sns.histplot(df[column_name], bins=10, kde=True)\n",
    "        plt.title(f'{column_name} Distribution')\n",
    "        plt.xlabel(column_name)\n",
    "        plt.ylabel('Frequency')\n",
    "        plt.show()\n",
    "    else:\n",
    "        print(f\"Column '{column_name}' not found in the DataFrame.\")\n"
   ]
  },
  {
   "cell_type": "code",
   "execution_count": 77,
   "id": "351ae6dd-4fda-4046-8a4f-370bc37bd049",
   "metadata": {},
   "outputs": [
    {
     "data": {
      "image/png": "[encoded data removed]",
      "text/plain": [
       "<Figure size 800x600 with 1 Axes>"
      ]
     },
     "metadata": {},
     "output_type": "display_data"
    }
   ],
   "source": [
    "histogram=plot_column_distribution(new_quest1, 'Age')"
   ]
  },
  {
   "cell_type": "code",
   "execution_count": 78,
   "id": "98084e52-fc3c-4a31-8fe5-4b6c1a321895",
   "metadata": {},
   "outputs": [
    {
     "data": {
      "text/plain": [
       "<Figure size 640x480 with 0 Axes>"
      ]
     },
     "metadata": {},
     "output_type": "display_data"
    }
   ],
   "source": [
    "plt.savefig('histogram.pdf', format='pdf', dpi=300, bbox_inches='tight')\n"
   ]
  },
  {
   "cell_type": "code",
   "execution_count": 74,
   "id": "da873b36-2d5c-418c-b064-34dfc1e3edaf",
   "metadata": {},
   "outputs": [
    {
     "data": {
      "image/png": "[encoded data removed]",
      "text/plain": [
       "<Figure size 800x600 with 1 Axes>"
      ]
     },
     "metadata": {},
     "output_type": "display_data"
    }
   ],
   "source": [
    "plot_column_distribution(new_quest1, 'Use')"
   ]
  },
  {
   "cell_type": "code",
   "execution_count": 75,
   "id": "19a857df-1479-45d4-955b-771ac8bca4e4",
   "metadata": {},
   "outputs": [
    {
     "data": {
      "image/png": "[encoded data removed]",
      "text/plain": [
       "<Figure size 800x600 with 1 Axes>"
      ]
     },
     "metadata": {},
     "output_type": "display_data"
    }
   ],
   "source": [
    "plot_column_distribution(new_quest1, 'Local')"
   ]
  },
  {
   "cell_type": "markdown",
   "id": "d8b17bcd-008d-420c-9414-3e5a042f9cb3",
   "metadata": {},
   "source": [
    "We can save the figure as pdf by just providing an additional argument save_path and a condition, and save the plot if save_path is provided as, also we can change the format as well for example PNG or pdf and we can set the dpi as well with the updated function"
   ]
  },
  {
   "cell_type": "code",
   "execution_count": 95,
   "id": "9394a278-f43f-4bf0-820d-50c0a5987c18",
   "metadata": {},
   "outputs": [],
   "source": [
    "\n",
    "\n",
    "def plot_column_distribution(df, column_name, save_path=None):\n",
    "    \"\"\"\n",
    "    Plot the distribution of a specified column in the DataFrame and optionally save the figure.\n",
    "    \n",
    "    Parameters:\n",
    "    df (pd.DataFrame): The input DataFrame from which the column is plotted.\n",
    "    column_name (str): The name of the column to plot.\n",
    "    save_path (str, optional): The file path to save the figure. If None, the plot will not be saved.\n",
    "    \"\"\"\n",
    "   \n",
    "    if column_name in df.columns:\n",
    "        \n",
    "        plt.figure(figsize=(8, 6))\n",
    "        sns.histplot(df[column_name], bins=10, kde=True)\n",
    "        plt.title(f'{column_name} Distribution')\n",
    "        plt.xlabel(column_name)\n",
    "        plt.ylabel('Frequency')\n",
    "        \n",
    "        \n",
    "        if save_path:\n",
    "            plt.savefig(save_path, format='png', dpi=300, bbox_inches='tight')\n",
    "\n",
    "        plt.show()  # Show the plot\n",
    "    else:\n",
    "        print(f\"Column '{column_name}' not found in the DataFrame.\")\n"
   ]
  },
  {
   "cell_type": "code",
   "execution_count": 92,
   "id": "8539a03b-f6ca-469a-91f6-b3ca59a6c93c",
   "metadata": {},
   "outputs": [
    {
     "data": {
      "image/png": "[encoded data removed]",
      "text/plain": [
       "<Figure size 800x600 with 1 Axes>"
      ]
     },
     "metadata": {},
     "output_type": "display_data"
    }
   ],
   "source": [
    "plot_column_distribution(new_quest1, 'Age')\n"
   ]
  },
  {
   "cell_type": "code",
   "execution_count": 96,
   "id": "10591dfe-63c0-410a-a447-adbbf79fd3de",
   "metadata": {},
   "outputs": [
    {
     "data": {
      "image/png": "[encoded data removed]",
      "text/plain": [
       "<Figure size 800x600 with 1 Axes>"
      ]
     },
     "metadata": {},
     "output_type": "display_data"
    }
   ],
   "source": [
    "\n",
    "plot_column_distribution(new_quest1, 'Age', save_path=r'C:\\Users\\tamai\\OneDrive - Louisiana State University\\Fall 2024\\OCS 4001\\age_distribution.png')\n"
   ]
  },
  {
   "cell_type": "code",
   "execution_count": null,
   "id": "75111122-187a-4e59-88bf-48a272883987",
   "metadata": {},
   "outputs": [],
   "source": []
  }
 ],
 "metadata": {
  "kernelspec": {
   "display_name": "Python 3 (ipykernel)",
   "language": "python",
   "name": "python3"
  },
  "language_info": {
   "codemirror_mode": {
    "name": "ipython",
    "version": 3
   },
   "file_extension": ".py",
   "mimetype": "text/x-python",
   "name": "python",
   "nbconvert_exporter": "python",
   "pygments_lexer": "ipython3",
   "version": "3.12.4"
  }
 },
 "nbformat": 4,
 "nbformat_minor": 5
}
