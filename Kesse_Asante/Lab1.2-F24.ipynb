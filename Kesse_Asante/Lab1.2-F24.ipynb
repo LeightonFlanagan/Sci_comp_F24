{
 "cells": [
  {
   "cell_type": "markdown",
   "metadata": {},
   "source": [
    "put your name, etc here"
   ]
  },
  {
   "cell_type": "markdown",
   "metadata": {},
   "source": [
    "# **Kesse Asante**"
   ]
  },
  {
   "cell_type": "markdown",
   "metadata": {},
   "source": [
    "# Lecture 1.2"
   ]
  },
  {
   "cell_type": "markdown",
   "metadata": {},
   "source": [
    "Thursday Aug 29th, 2024\n",
    "\n",
    "Lab 1.2 is due Tuesday Sep, 3rd\n",
    "\n",
    "Lecture Agenda:\n",
    "* debriefing on first class and homework, how's it going?\n",
    "* logistics of github, downloading this Lab 1.2 notebook\n",
    "* commenting and markup in notebooks\n",
    "* workflow for the class\n"
   ]
  },
  {
   "cell_type": "markdown",
   "metadata": {},
   "source": [
    "In general, we will do warmup exercises and lab exercises in a jupyter notebook. For most classes, you will download the notebook from github, open it on your local computer, and then upload your completed work back on github in your folder. Then in the assignment tab in Moodle, submit a url link to the completed lab, along with a screenshot of your completed score for the chapter(s) assigned in datacamp.\n",
    "\n",
    "In general, Tuesday labs are due Friday by midnight and Thursday labs are due the following Tuesday by midnight. This will give you a chance to ask questions in the next class if you get stuck on something. Note the first lab (1.1) was due early so you are set up for this lab. If you are stuck on anything, let me know, and get help from your classmates."
   ]
  },
  {
   "cell_type": "code",
   "execution_count": 1,
   "metadata": {
    "tags": []
   },
   "outputs": [],
   "source": [
    "#I got this cell by typing esc then a"
   ]
  },
  {
   "cell_type": "code",
   "execution_count": 2,
   "metadata": {
    "tags": []
   },
   "outputs": [],
   "source": [
    "# here is an example of code commenting. The # symbol means everything on this line will be ignored \n"
   ]
  },
  {
   "cell_type": "code",
   "execution_count": 3,
   "metadata": {
    "tags": []
   },
   "outputs": [],
   "source": [
    "#I got this cell by typing esc then b"
   ]
  },
  {
   "cell_type": "markdown",
   "metadata": {},
   "source": [
    "Here is an example of markdown text. Because this cell is in markdown mode it will also be ignored by the python shell"
   ]
  },
  {
   "cell_type": "markdown",
   "metadata": {},
   "source": [
    "#I got this markdown cell by typing esc then m"
   ]
  },
  {
   "cell_type": "markdown",
   "metadata": {},
   "source": [
    "## Preliminaries"
   ]
  },
  {
   "cell_type": "markdown",
   "metadata": {},
   "source": [
    "In our class github site, create a folder for yourself where you will submit your jupyter notebooks. The easiest way to do this is to create a new file that is a placeholder document in the new folder. You can delete it later."
   ]
  },
  {
   "cell_type": "markdown",
   "metadata": {},
   "source": [
    "## Warmup exercises"
   ]
  },
  {
   "cell_type": "markdown",
   "metadata": {},
   "source": [
    "As you are doing these exercises, get familiar with jupyter notebook commands \n",
    "https://towardsdatascience.com/jypyter-notebook-shortcuts-bf0101a98330\n",
    "\n",
    "and markdown text https://medium.com/@ingeh/markdown-for-jupyter-notebooks-cheatsheet-386c05aeebed\n",
    "\n",
    "These exercises are based on what you have learned previously. Feel free to go look at what you did in datacamp to figure out how to answer them."
   ]
  },
  {
   "cell_type": "markdown",
   "metadata": {},
   "source": [
    "**W.1** Define and assign values to three variables of the three types we learned about Monday: integer, floating point, string and boolian. \n",
    "\n",
    "Note you can add more cells below by pressing the + button above or typing [esc] to command mode, then [b] to enter a cell below, or [a] to enter a cell above. See the link above for more commands"
   ]
  },
  {
   "cell_type": "code",
   "execution_count": 4,
   "metadata": {
    "tags": []
   },
   "outputs": [],
   "source": [
    "x = 12 \n",
    "y = 5.5\n",
    "z = \"Kesse\"\n",
    "f = True"
   ]
  },
  {
   "cell_type": "markdown",
   "metadata": {},
   "source": [
    "**W.2** Print out the value and check the type of each variable"
   ]
  },
  {
   "cell_type": "code",
   "execution_count": 5,
   "metadata": {
    "tags": []
   },
   "outputs": [
    {
     "name": "stdout",
     "output_type": "stream",
     "text": [
      "12 5.5 Kesse True\n",
      "<class 'int'> <class 'float'> <class 'str'> <class 'bool'>\n"
     ]
    }
   ],
   "source": [
    "print(x, y, z, f)\n",
    "print(type(x), type(y), type(z), type(f))"
   ]
  },
  {
   "cell_type": "markdown",
   "metadata": {},
   "source": [
    "**W.3** Create a new variable that saves the value of the float variable as a string. Print it out"
   ]
  },
  {
   "cell_type": "code",
   "execution_count": 6,
   "metadata": {
    "tags": []
   },
   "outputs": [
    {
     "name": "stdout",
     "output_type": "stream",
     "text": [
      "20.5 <class 'float'>\n",
      "20.5 <class 'str'>\n"
     ]
    }
   ],
   "source": [
    "y = 20.5\n",
    "print(y, type(y))\n",
    "\n",
    "save_str = str(y)\n",
    "print(save_str, type(save_str))"
   ]
  },
  {
   "cell_type": "markdown",
   "metadata": {},
   "source": [
    "**W.4** Using multiplication of a variable, print out the text \"Bueno Bueno Bueno Bueno Bueno\" (Shoutout to Monsieur Periné https://youtu.be/JGL-eQAAxGs see 10:45)"
   ]
  },
  {
   "cell_type": "code",
   "execution_count": 7,
   "metadata": {
    "tags": []
   },
   "outputs": [
    {
     "name": "stdout",
     "output_type": "stream",
     "text": [
      "Bueno Bueno Bueno Bueno Bueno \n"
     ]
    }
   ],
   "source": [
    "Good = \"Bueno \" * 5\n",
    "print(Good)"
   ]
  },
  {
   "cell_type": "markdown",
   "metadata": {},
   "source": [
    "**W.5** Do the same thing using addtion"
   ]
  },
  {
   "cell_type": "code",
   "execution_count": 8,
   "metadata": {
    "tags": []
   },
   "outputs": [
    {
     "name": "stdout",
     "output_type": "stream",
     "text": [
      "Bueno Bueno Bueno Bueno Bueno\n"
     ]
    }
   ],
   "source": [
    "add_Good = \"Bueno \" + \"Bueno \" + \"Bueno \" + \"Bueno \" + \"Bueno\"\n",
    "print(add_Good)"
   ]
  },
  {
   "cell_type": "markdown",
   "metadata": {},
   "source": [
    "**W.6** If you add an int and a float, what is the resulting variable type? Demonstrate"
   ]
  },
  {
   "cell_type": "code",
   "execution_count": 9,
   "metadata": {
    "tags": []
   },
   "outputs": [
    {
     "name": "stdout",
     "output_type": "stream",
     "text": [
      "<class 'int'> <class 'float'>\n",
      "62.5 <class 'float'>\n"
     ]
    }
   ],
   "source": [
    "i = 12\n",
    "l = 50.5\n",
    "print(type(i), type(l))\n",
    "\n",
    "#adding integer and float\n",
    "\n",
    "add = i + l\n",
    "print(add, type(add))"
   ]
  },
  {
   "cell_type": "markdown",
   "metadata": {},
   "source": [
    "Ans: You get a float when you add an integer and a float."
   ]
  },
  {
   "cell_type": "markdown",
   "metadata": {},
   "source": [
    "**W.7** Can you convert a Boolian to an interger type variable? If so, what is the resulting value? What happens if you convert a float to an int?"
   ]
  },
  {
   "cell_type": "code",
   "execution_count": 10,
   "metadata": {
    "tags": []
   },
   "outputs": [
    {
     "name": "stdout",
     "output_type": "stream",
     "text": [
      "False <class 'bool'>\n",
      "0 <class 'int'>\n",
      "70.2 <class 'float'>\n",
      "70 <class 'int'>\n"
     ]
    }
   ],
   "source": [
    "#Converting a Boolian to an integer type variable\n",
    "Bool = False \n",
    "print(Bool, type(Bool))\n",
    "Bool_int = int(Bool)\n",
    "print(Bool_int, type(Bool_int))\n",
    "\n",
    "#Converting a float to an int\n",
    "Float = 70.2\n",
    "print(Float, type(Float))\n",
    "\n",
    "Float_int = int(Float)\n",
    "print(Float_int, type(Float_int))"
   ]
  },
  {
   "cell_type": "markdown",
   "metadata": {},
   "source": [
    "Ans: Yes, you can convert a Boolian to an integer type variable, and also convert a float to an integer type variable"
   ]
  },
  {
   "cell_type": "markdown",
   "metadata": {},
   "source": [
    "# Lab 1.2"
   ]
  },
  {
   "cell_type": "markdown",
   "metadata": {},
   "source": [
    "## Lab Exercises"
   ]
  },
  {
   "cell_type": "markdown",
   "metadata": {},
   "source": [
    "**E.1** Complete Ch 2 of Introduction to Python in datacamp. "
   ]
  },
  {
   "cell_type": "markdown",
   "metadata": {},
   "source": [
    "**E.2** Below you will spend time practicing what you have learned in Ch 2. Use a comination of code, code commenting, and markdown text to take notes. Make sure you investigate how python syntax works and understand what you are doing, and what went wrong if you have any issues. You can refer to this document later if you need to review, so give future you lots of commenting to be helpful."
   ]
  },
  {
   "cell_type": "markdown",
   "metadata": {},
   "source": [
    "**E.2.1** Let's work on lists, indexing and printing out elements of lists.\n",
    "\n",
    "We are going to calculate the BMI of five family members (or friends/colleaues if you have a small family, or famous people/politicians/atheletes if you really don't like talking to people, they just have to be adults and you need their data). Make intellegently named lists for the first name, last name, height, weight and age of each person. So, five lists in total."
   ]
  },
  {
   "cell_type": "code",
   "execution_count": 57,
   "metadata": {
    "tags": []
   },
   "outputs": [],
   "source": [
    "# List of Data\n",
    "first_names = [\"Abiana\", \"Abena\", \"Kojo\", \"Kofi\", \"Kwabena\"]\n",
    "last_names = [\"Nelson\", \"Yeboah\", \"Poku\", \"Atta\", \"Frimpong\"]\n",
    "heights = [1.61, 1.62, 1.72, 1.75, 1.73] # in meters\n",
    "weights = [55, 65, 58, 72, 50] # in kilogram\n",
    "ages = [54, 31, 28, 60, 19] # in years "
   ]
  },
  {
   "cell_type": "markdown",
   "metadata": {},
   "source": [
    "**E.2.2** Now create a new list that calculates the BMI of each person using the lists you created before"
   ]
  },
  {
   "cell_type": "code",
   "execution_count": 58,
   "metadata": {
    "tags": []
   },
   "outputs": [
    {
     "name": "stdout",
     "output_type": "stream",
     "text": [
      "[21.21831719 24.76756592 19.605192   23.51020408 16.70620468]\n"
     ]
    }
   ],
   "source": [
    "# BMI = weight(kg)/height(m^2)\n",
    "import numpy as np\n",
    "np_weights = np.array(weights)\n",
    "np_heights = np.array(heights)\n",
    "BMIs = (np_weights / (np_heights ** 2))\n",
    "print(BMIs)"
   ]
  },
  {
   "cell_type": "markdown",
   "metadata": {},
   "source": [
    "**E.2.3** Look up the weight classification of each person based on their BMI (what's a good source for this, who do you trust?). Create a new list with this information for each person. (Don't judge, we live in Louisiana, which is not known for health food.)"
   ]
  },
  {
   "cell_type": "markdown",
   "metadata": {},
   "source": [
    "I trust NHS.inform (https://www.nhsinform.scot/healthy-living/food-and-nutrition/healthy-eating-and-weight-management/body-mass-index-bmi/)"
   ]
  },
  {
   "cell_type": "markdown",
   "metadata": {},
   "source": [
    "##### BMI Classification\n",
    "\n",
    "under 18.5 – This is described as underweight. \n",
    "\n",
    "between 18.5 and 24.9 – This is described as the ‘healthy range’.\n",
    "\n",
    "between 25 and 29.9 – This is described as overweight\n",
    "\n",
    "between 30 and 39.9 – This is described as obesity\n",
    "\n",
    "40 or over – This is described as severe obesity"
   ]
  },
  {
   "cell_type": "code",
   "execution_count": 59,
   "metadata": {
    "tags": []
   },
   "outputs": [
    {
     "name": "stdout",
     "output_type": "stream",
     "text": [
      "['healthy range' 'healthy range' 'healthy range' 'healthy range'\n",
      " 'underweight']\n"
     ]
    }
   ],
   "source": [
    "# Function to classify BMI based on info from NHS.inform\n",
    "\n",
    "def classify_bmi(bmi):\n",
    "    if bmi < 18.5:\n",
    "        return \"underweight\"\n",
    "    elif 18.5 <= bmi < 24.9:\n",
    "        return \"healthy range\"\n",
    "    elif 25 <= bmi < 29.9:\n",
    "        return \"overweight\"\n",
    "    elif 30 <= bmi < 39.9:\n",
    "        return \"obese\"\n",
    "    else:\n",
    "        return \"severely obese\"\n",
    "\n",
    "# Create a new list with classifications\n",
    "bmi_class = np.array([classify_bmi(bmi) for bmi in BMIs])\n",
    "print(bmi_class)"
   ]
  },
  {
   "cell_type": "markdown",
   "metadata": {},
   "source": [
    "**E.2.3** Let's practice some print statements and iterate manually through the people on your lists.\n",
    "\n",
    "For each person, print out something like: \"First_name last_name, age xx, has a height of xx units and weight of xx units, giving them a body mass index (BMI) of xx, making them yy\" where yy is if they are normal, obese, etc."
   ]
  },
  {
   "cell_type": "code",
   "execution_count": 60,
   "metadata": {
    "tags": []
   },
   "outputs": [
    {
     "name": "stdout",
     "output_type": "stream",
     "text": [
      "Abiana Nelson, age 54, has a height of 1.61 meters and weight of 55 kilograms, giving them a body mass index (BMI) of 21.22, making them healthy range.\n",
      "Abena Yeboah, age 31, has a height of 1.62 meters and weight of 65 kilograms, giving them a body mass index (BMI) of 24.77, making them healthy range.\n",
      "Kojo Poku, age 28, has a height of 1.72 meters and weight of 58 kilograms, giving them a body mass index (BMI) of 19.61, making them healthy range.\n",
      "Kofi Atta, age 60, has a height of 1.75 meters and weight of 72 kilograms, giving them a body mass index (BMI) of 23.51, making them healthy range.\n",
      "Kwabena Frimpong, age 19, has a height of 1.73 meters and weight of 50 kilograms, giving them a body mass index (BMI) of 16.71, making them underweight.\n"
     ]
    }
   ],
   "source": [
    "# Print the information for each person\n",
    "for i in range(len(first_names)):\n",
    "    print(f\"{first_names[i]} {last_names[i]}, age {ages[i]}, has a height of {heights[i]} meters and weight of {weights[i]} kilograms, giving them a body mass index (BMI) of {BMIs[i]:.2f}, making them {bmi_class[i]}.\") "
   ]
  },
  {
   "cell_type": "markdown",
   "metadata": {},
   "source": [
    "**E.2.4** Now add/append your information to each of the lists, and do the same print statement for you. Make a resolution to eat more veggies."
   ]
  },
  {
   "cell_type": "code",
   "execution_count": 61,
   "metadata": {
    "tags": []
   },
   "outputs": [
    {
     "name": "stdout",
     "output_type": "stream",
     "text": [
      "Kofi Kesse, age 25, has a height of 1.75 meters and weight of 62 kilograms, giving them a body mass index (BMI) of 20.24, making them healthy range.\n",
      "Resolution: Eat more veggies!\n"
     ]
    }
   ],
   "source": [
    "# My info added/appended\n",
    "my_first_name = \"Kofi\"\n",
    "my_last_name = \"Kesse\"\n",
    "my_height = 1.75\n",
    "my_weight = 62\n",
    "my_age = 25\n",
    "\n",
    "# Calculated my BMI\n",
    "my_bmi = np.array(my_weight) / np.array(my_height ** 2)\n",
    "my_bmi_class = classify_bmi(my_bmi)\n",
    "\n",
    "# Appended my information to each list\n",
    "first_names.append(my_first_name)\n",
    "last_names.append(my_last_name)\n",
    "heights.append(my_height)\n",
    "weights.append(my_weight)\n",
    "ages.append(my_age)\n",
    "BMIs = np.append(BMIs, my_bmi) \n",
    "bmi_classifications = np.append(bmi_classifications, my_bmi_class)  # Append to NumPy array\n",
    "\n",
    "# Print my information\n",
    "print(f\"{my_first_name} {my_last_name}, age {my_age}, has a height of {my_height} meters and weight of {my_weight} kilograms, giving them a body mass index (BMI) of {my_bmi:.2f}, making them {my_bmi_class}.\")\n",
    "print(\"Resolution: Eat more veggies!\")"
   ]
  },
  {
   "cell_type": "code",
   "execution_count": 64,
   "metadata": {
    "tags": []
   },
   "outputs": [
    {
     "name": "stdout",
     "output_type": "stream",
     "text": [
      "Abiana Nelson, age 54, has a height of 1.61 meters and weight of 55 kilograms, giving them a body mass index (BMI) of 21.22, making them healthy range.\n",
      "Abena Yeboah, age 31, has a height of 1.62 meters and weight of 65 kilograms, giving them a body mass index (BMI) of 24.77, making them healthy range.\n",
      "Kojo Poku, age 28, has a height of 1.72 meters and weight of 58 kilograms, giving them a body mass index (BMI) of 19.61, making them healthy range.\n",
      "Kofi Atta, age 60, has a height of 1.75 meters and weight of 72 kilograms, giving them a body mass index (BMI) of 23.51, making them healthy range.\n",
      "Kwabena Frimpong, age 19, has a height of 1.73 meters and weight of 50 kilograms, giving them a body mass index (BMI) of 16.71, making them underweight.\n",
      "Kofi Kesse, age 25, has a height of 1.75 meters and weight of 62 kilograms, giving them a body mass index (BMI) of 20.24, making them healthy range.\n"
     ]
    }
   ],
   "source": [
    "# Print information for everyone\n",
    "for i in range(len(first_names)):\n",
    "    print(f\"{first_names[i]} {last_names[i]}, age {ages[i]}, has a height of {heights[i]} meters and weight of {weights[i]} kilograms, giving them a body mass index (BMI) of {BMIs[i]:.2f}, making them {bmi_classifications[i]}.\")"
   ]
  },
  {
   "cell_type": "markdown",
   "metadata": {},
   "source": [
    "When you are done with your lab, upload this document to your github folder on the class site. Then submit a url link to the completed lab, along with a screenshot of your completed Ch 2 score in datacamp, to the assignment tab in Moodle."
   ]
  },
  {
   "cell_type": "code",
   "execution_count": null,
   "metadata": {},
   "outputs": [],
   "source": []
  },
  {
   "cell_type": "markdown",
   "metadata": {},
   "source": [
    "# Scratch"
   ]
  },
  {
   "cell_type": "code",
   "execution_count": 5,
   "metadata": {},
   "outputs": [],
   "source": [
    "# this is an area of the notebook you can mess around and test things out, if you don't want to put it above"
   ]
  },
  {
   "cell_type": "code",
   "execution_count": null,
   "metadata": {},
   "outputs": [],
   "source": []
  },
  {
   "cell_type": "code",
   "execution_count": null,
   "metadata": {},
   "outputs": [],
   "source": []
  }
 ],
 "metadata": {
  "kernelspec": {
   "display_name": "Python 3 (ipykernel)",
   "language": "python",
   "name": "python3"
  },
  "language_info": {
   "codemirror_mode": {
    "name": "ipython",
    "version": 3
   },
   "file_extension": ".py",
   "mimetype": "text/x-python",
   "name": "python",
   "nbconvert_exporter": "python",
   "pygments_lexer": "ipython3",
   "version": "3.11.5"
  }
 },
 "nbformat": 4,
 "nbformat_minor": 4
}
