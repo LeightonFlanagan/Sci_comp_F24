{
 "cells": [
  {
   "cell_type": "markdown",
   "id": "tight-wildlife",
   "metadata": {},
   "source": [
    "Name: Kesse Asante"
   ]
  },
  {
   "cell_type": "markdown",
   "id": "distinct-appliance",
   "metadata": {},
   "source": [
    "Labpartner(s)"
   ]
  },
  {
   "cell_type": "code",
   "execution_count": 2,
   "id": "palestinian-convert",
   "metadata": {
    "tags": []
   },
   "outputs": [],
   "source": [
    "# import statements go here\n",
    "import numpy as np\n",
    "import matplotlib.pyplot as plt\n",
    "import pandas as pd\n",
    "import random\n",
    "import sklearn"
   ]
  },
  {
   "cell_type": "markdown",
   "id": "returning-carnival",
   "metadata": {},
   "source": [
    "# Class 13.2"
   ]
  },
  {
   "cell_type": "markdown",
   "id": "latter-injury",
   "metadata": {},
   "source": [
    "# Warmups 13.2"
   ]
  },
  {
   "cell_type": "markdown",
   "id": "alternative-north",
   "metadata": {},
   "source": [
    "**W.1 Pandas Practice** \n",
    "\n",
    "Create a pandas series from each of the items below: a list, numpy and a dictionary\n",
    "\n",
    "mylist = list('abcedfghijklmnopqrstuvwxyz')\n",
    "\n",
    "myarr = np.arange(26)\n",
    "\n",
    "mydict = dict(zip(mylist, myarr))"
   ]
  },
  {
   "cell_type": "code",
   "execution_count": 3,
   "id": "c0a81d98-3789-43be-8b40-41b4f399b009",
   "metadata": {
    "tags": []
   },
   "outputs": [],
   "source": [
    "mylist = list('abcdefghijklmnopqrstuvwxyz')\n",
    "myarr = np.arange(26)\n",
    "mydict = dict(zip(mylist, myarr))"
   ]
  },
  {
   "cell_type": "code",
   "execution_count": 6,
   "id": "3c31be51-d1a7-477c-9aaa-ca620dc66629",
   "metadata": {
    "tags": []
   },
   "outputs": [
    {
     "name": "stdout",
     "output_type": "stream",
     "text": [
      "['a', 'b', 'c', 'd', 'e', 'f', 'g', 'h', 'i', 'j', 'k', 'l', 'm', 'n', 'o', 'p', 'q', 'r', 's', 't', 'u', 'v', 'w', 'x', 'y', 'z']\n",
      "[ 0  1  2  3  4  5  6  7  8  9 10 11 12 13 14 15 16 17 18 19 20 21 22 23\n",
      " 24 25]\n",
      "{'a': 0, 'b': 1, 'c': 2, 'd': 3, 'e': 4, 'f': 5, 'g': 6, 'h': 7, 'i': 8, 'j': 9, 'k': 10, 'l': 11, 'm': 12, 'n': 13, 'o': 14, 'p': 15, 'q': 16, 'r': 17, 's': 18, 't': 19, 'u': 20, 'v': 21, 'w': 22, 'x': 23, 'y': 24, 'z': 25}\n"
     ]
    }
   ],
   "source": [
    "print(mylist)\n",
    "print(myarr)\n",
    "print(mydict)"
   ]
  },
  {
   "cell_type": "code",
   "execution_count": 8,
   "id": "f7595218-add2-48ab-bd5a-755f3ded4491",
   "metadata": {
    "tags": []
   },
   "outputs": [
    {
     "name": "stdout",
     "output_type": "stream",
     "text": [
      "Series list: 0     a\n",
      "1     b\n",
      "2     c\n",
      "3     d\n",
      "4     e\n",
      "5     f\n",
      "6     g\n",
      "7     h\n",
      "8     i\n",
      "9     j\n",
      "10    k\n",
      "11    l\n",
      "12    m\n",
      "13    n\n",
      "14    o\n",
      "15    p\n",
      "16    q\n",
      "17    r\n",
      "18    s\n",
      "19    t\n",
      "20    u\n",
      "21    v\n",
      "22    w\n",
      "23    x\n",
      "24    y\n",
      "25    z\n",
      "dtype: object\n",
      "Series array: 0      0\n",
      "1      1\n",
      "2      2\n",
      "3      3\n",
      "4      4\n",
      "5      5\n",
      "6      6\n",
      "7      7\n",
      "8      8\n",
      "9      9\n",
      "10    10\n",
      "11    11\n",
      "12    12\n",
      "13    13\n",
      "14    14\n",
      "15    15\n",
      "16    16\n",
      "17    17\n",
      "18    18\n",
      "19    19\n",
      "20    20\n",
      "21    21\n",
      "22    22\n",
      "23    23\n",
      "24    24\n",
      "25    25\n",
      "dtype: int64\n",
      "Series dictionary: a     0\n",
      "b     1\n",
      "c     2\n",
      "d     3\n",
      "e     4\n",
      "f     5\n",
      "g     6\n",
      "h     7\n",
      "i     8\n",
      "j     9\n",
      "k    10\n",
      "l    11\n",
      "m    12\n",
      "n    13\n",
      "o    14\n",
      "p    15\n",
      "q    16\n",
      "r    17\n",
      "s    18\n",
      "t    19\n",
      "u    20\n",
      "v    21\n",
      "w    22\n",
      "x    23\n",
      "y    24\n",
      "z    25\n",
      "dtype: int64\n"
     ]
    }
   ],
   "source": [
    "list_series = pd.Series(mylist)\n",
    "array_series = pd.Series(myarr)\n",
    "dict_series = pd.Series(mydict)\n",
    "\n",
    "print(\"Series list:\", list_series)\n",
    "print(\"Series array:\", array_series)\n",
    "print(\"Series dictionary:\", dict_series)"
   ]
  },
  {
   "cell_type": "markdown",
   "id": "d01d83b5-0624-45ff-89d4-03d8ee7ac8f1",
   "metadata": {},
   "source": [
    "**W.2 Pandas Practice con** \n",
    "\n",
    "Convert the series you just created into a dataframe with its index as another column on the dataframe."
   ]
  },
  {
   "cell_type": "code",
   "execution_count": 12,
   "id": "3df2ac46-de6e-4ef0-8b6a-356f33079545",
   "metadata": {
    "tags": []
   },
   "outputs": [
    {
     "name": "stdout",
     "output_type": "stream",
     "text": [
      "List DataFrame:     index value\n",
      "0       0     a\n",
      "1       1     b\n",
      "2       2     c\n",
      "3       3     d\n",
      "4       4     e\n",
      "5       5     f\n",
      "6       6     g\n",
      "7       7     h\n",
      "8       8     i\n",
      "9       9     j\n",
      "10     10     k\n",
      "11     11     l\n",
      "12     12     m\n",
      "13     13     n\n",
      "14     14     o\n",
      "15     15     p\n",
      "16     16     q\n",
      "17     17     r\n",
      "18     18     s\n",
      "19     19     t\n",
      "20     20     u\n",
      "21     21     v\n",
      "22     22     w\n",
      "23     23     x\n",
      "24     24     y\n",
      "25     25     z\n",
      "Array DataFrame:     index value\n",
      "0       0     a\n",
      "1       1     b\n",
      "2       2     c\n",
      "3       3     d\n",
      "4       4     e\n",
      "5       5     f\n",
      "6       6     g\n",
      "7       7     h\n",
      "8       8     i\n",
      "9       9     j\n",
      "10     10     k\n",
      "11     11     l\n",
      "12     12     m\n",
      "13     13     n\n",
      "14     14     o\n",
      "15     15     p\n",
      "16     16     q\n",
      "17     17     r\n",
      "18     18     s\n",
      "19     19     t\n",
      "20     20     u\n",
      "21     21     v\n",
      "22     22     w\n",
      "23     23     x\n",
      "24     24     y\n",
      "25     25     z\n",
      "Dictionary DataFrame:     index value\n",
      "0       0     a\n",
      "1       1     b\n",
      "2       2     c\n",
      "3       3     d\n",
      "4       4     e\n",
      "5       5     f\n",
      "6       6     g\n",
      "7       7     h\n",
      "8       8     i\n",
      "9       9     j\n",
      "10     10     k\n",
      "11     11     l\n",
      "12     12     m\n",
      "13     13     n\n",
      "14     14     o\n",
      "15     15     p\n",
      "16     16     q\n",
      "17     17     r\n",
      "18     18     s\n",
      "19     19     t\n",
      "20     20     u\n",
      "21     21     v\n",
      "22     22     w\n",
      "23     23     x\n",
      "24     24     y\n",
      "25     25     z\n"
     ]
    }
   ],
   "source": [
    "list_df = list_series.reset_index()\n",
    "list_df.columns = ['index', 'value']\n",
    "print(\"List DataFrame:\", list_df)\n",
    "\n",
    "array_df = array_series.reset_index()\n",
    "array_df.columns = ['index', 'value']\n",
    "print(\"Array DataFrame:\", list_df)\n",
    "\n",
    "Dict_df = dict_series.reset_index()\n",
    "Dict_df.columns = ['key', 'value']\n",
    "print(\"Dictionary DataFrame:\", list_df)"
   ]
  },
  {
   "cell_type": "markdown",
   "id": "6d74a1dc-8f91-455c-a5d6-9c16aa9df080",
   "metadata": {},
   "source": [
    "**W.3 Pandas Practice con** \n",
    "\n",
    "Combine two series to form a dataframe."
   ]
  },
  {
   "cell_type": "code",
   "execution_count": 13,
   "id": "59e7be0c-c1af-4cf4-9952-ab55c6647222",
   "metadata": {
    "tags": []
   },
   "outputs": [
    {
     "name": "stdout",
     "output_type": "stream",
     "text": [
      "DataFrame combining two Series:\n",
      "    0   1\n",
      "0   a   0\n",
      "1   b   1\n",
      "2   c   2\n",
      "3   d   3\n",
      "4   e   4\n",
      "5   f   5\n",
      "6   g   6\n",
      "7   h   7\n",
      "8   i   8\n",
      "9   j   9\n",
      "10  k  10\n",
      "11  l  11\n",
      "12  m  12\n",
      "13  n  13\n",
      "14  o  14\n",
      "15  p  15\n",
      "16  q  16\n",
      "17  r  17\n",
      "18  s  18\n",
      "19  t  19\n",
      "20  u  20\n",
      "21  v  21\n",
      "22  w  22\n",
      "23  x  23\n",
      "24  y  24\n",
      "25  z  25\n"
     ]
    }
   ],
   "source": [
    "\n",
    "series1 = pd.Series(list_series)\n",
    "series2 = pd.Series(array_series)\n",
    "\n",
    "# Combine the Series into a DataFrame\n",
    "df = pd.concat([series1, series2], axis=1)\n",
    "\n",
    "print(\"DataFrame combining two Series:\")\n",
    "print(df)"
   ]
  },
  {
   "cell_type": "markdown",
   "id": "df53b8c5-06cd-40bd-a7cd-9f99cbeff8f5",
   "metadata": {},
   "source": [
    "**W.4 Pandas Practice con**\n",
    "\n",
    "Compute the minimum, 25th percentile, median, 75th, and maximum of the following series:\n",
    "\n",
    "ser = pd.Series(np.random.normal(10, 5, 25))\n",
    "\n",
    "What kind of distribution is this?\n"
   ]
  },
  {
   "cell_type": "code",
   "execution_count": 14,
   "id": "2cbe1b40-c864-458b-8423-ee4bbd1cd19c",
   "metadata": {
    "tags": []
   },
   "outputs": [
    {
     "name": "stdout",
     "output_type": "stream",
     "text": [
      "Minimum: -0.590333330708146\n",
      "25th Percentile: 6.292866169983391\n",
      "Median: 10.840462915920186\n",
      "75th Percentile: 15.095775272027023\n",
      "Maximum: 21.77908986516041\n"
     ]
    }
   ],
   "source": [
    "ser = pd.Series(np.random.normal(10, 5, 25))\n",
    "\n",
    "# Compute statistics\n",
    "minimum = ser.min()\n",
    "percentile_25 = ser.quantile(0.25)\n",
    "median = ser.median()\n",
    "percentile_75 = ser.quantile(0.75)\n",
    "maximum = ser.max()\n",
    "\n",
    "print(f\"Minimum: {minimum}\")\n",
    "print(f\"25th Percentile: {percentile_25}\")\n",
    "print(f\"Median: {median}\")\n",
    "print(f\"75th Percentile: {percentile_75}\")\n",
    "print(f\"Maximum: {maximum}\")\n"
   ]
  },
  {
   "cell_type": "markdown",
   "id": "weird-james",
   "metadata": {},
   "source": [
    "# Lecture 13.1\n",
    "\n",
    "## Agenda:\n",
    "- Machine Learning in Scikit learn Ch 3-4"
   ]
  },
  {
   "cell_type": "markdown",
   "id": "bd3dc77a-2ca9-40ff-9f48-34ae16ad4e6c",
   "metadata": {},
   "source": [
    "# Lab 13.1"
   ]
  },
  {
   "cell_type": "markdown",
   "id": "95b2665a-c014-4cd1-aba7-b15022fa7ef0",
   "metadata": {},
   "source": [
    "#### E.0 Complete the previous labs if you are behind."
   ]
  },
  {
   "cell_type": "markdown",
   "id": "6e31b762-f054-4d70-bd58-58a66711f453",
   "metadata": {},
   "source": [
    "#### E.1 Complete Ch 3-4 of \"Supervised Learning with scikit-learn\". Don't forget to turn in your scores"
   ]
  },
  {
   "cell_type": "code",
   "execution_count": null,
   "id": "fd5499c6-7c80-42e7-9f64-9a00e206893a",
   "metadata": {},
   "outputs": [],
   "source": []
  },
  {
   "cell_type": "markdown",
   "id": "30d82416-9655-4024-ac9d-fd49e12c6182",
   "metadata": {},
   "source": [
    "**Notes** Make notes for yourself on progamming tecniques and commands you learned in the this week, including examples, comments and explainitory text. You can do this here or in a separate notebook that you link to here. Basically, you are making a cheat sheet for yourself."
   ]
  },
  {
   "cell_type": "markdown",
   "id": "0558e2ae-08ae-4b7b-955d-c406e7826834",
   "metadata": {},
   "source": [
    "Import confusion_matrix and classification_report\n",
    "from sklearn.metrics import confusion_matrix, classification_report\n",
    "from sklearn.neighbors import KNeighborsClassifier\n",
    "\n",
    "knn = KNeighborsClassifier(n_neighbors=6)\n",
    "\n",
    "Fit the model to the training data\n",
    "knn.fit(X_train, y_train)\n",
    "\n",
    "Predict the labels of the test data: y_pred\n",
    "y_pred = knn.predict(X_test)\n",
    "\n",
    "Generate the confusion matrix and classification report\n",
    "print(confusion_matrix(y_test, y_pred))\n",
    "print(classification_report(y_test, y_pred))\n",
    "\n",
    "\n",
    "Import modules\n",
    "from sklearn.impute import SimpleImputer\n",
    "from sklearn.pipeline import Pipeline\n",
    "from sklearn.neighbors import KNeighborsClassifier\n",
    "\n",
    "Instantiate an imputer\n",
    "imputer = SimpleImputer(strategy=\"mean\")\n",
    "\n",
    "Instantiate a KNN classifier\n",
    "knn = KNeighborsClassifier(n_neighbors=3)\n",
    "\n",
    "Build steps for the pipeline\n",
    "steps = [(\"imputer\", imputer), \n",
    "         (\"knn\", knn)]\n",
    "\n",
    "\n",
    "Create steps\n",
    "steps = [(\"imp_mean\", SimpleImputer()),  \n",
    "    (\"scaler\", StandardScaler()),\n",
    "    (\"logreg\", LogisticRegression())]\n",
    "\n",
    "Set up pipeline\n",
    "pipeline = Pipeline(steps)\n",
    "\n",
    "Define hyperparameter grid\n",
    "params = {\n",
    "    \"logreg__solver\": [\"newton-cg\", \"saga\", \"lbfgs\"],\n",
    "    \"logreg__C\": np.linspace(0.001, 1.0, 10)\n",
    "}\n",
    "\n",
    "Create GridSearchCV object\n",
    "tuning = GridSearchCV(pipeline, param_grid=params, cv=kf)\n",
    "\n",
    "Fit to the training data\n",
    "tuning.fit(X_train, y_train)\n",
    "\n",
    "Predict and evaluate\n",
    "y_pred = tuning.predict(X_test)\n",
    "print(\"Tuned Logistic Regression Parameters: {}, Accuracy: {}\".format(tuning.best_params_, tuning.score(X_test, y_test)))\n"
   ]
  },
  {
   "cell_type": "markdown",
   "id": "ded98577-1d87-4f3e-a630-6074f646c977",
   "metadata": {},
   "source": [
    "#### E.2 Work on your final project"
   ]
  },
  {
   "cell_type": "code",
   "execution_count": null,
   "id": "74617577-1e8c-41cf-afd5-ee671021c54c",
   "metadata": {},
   "outputs": [],
   "source": []
  }
 ],
 "metadata": {
  "kernelspec": {
   "display_name": "Python 3 (ipykernel)",
   "language": "python",
   "name": "python3"
  },
  "language_info": {
   "codemirror_mode": {
    "name": "ipython",
    "version": 3
   },
   "file_extension": ".py",
   "mimetype": "text/x-python",
   "name": "python",
   "nbconvert_exporter": "python",
   "pygments_lexer": "ipython3",
   "version": "3.11.5"
  }
 },
 "nbformat": 4,
 "nbformat_minor": 5
}
