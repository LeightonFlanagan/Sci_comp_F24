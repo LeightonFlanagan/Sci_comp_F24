{
 "cells": [
  {
   "cell_type": "markdown",
   "metadata": {},
   "source": [
    "Name: Kesse Asante"
   ]
  },
  {
   "cell_type": "markdown",
   "metadata": {},
   "source": [
    "Lab partner(s): Bentao Li"
   ]
  },
  {
   "cell_type": "code",
   "execution_count": null,
   "metadata": {},
   "outputs": [],
   "source": []
  },
  {
   "cell_type": "markdown",
   "metadata": {},
   "source": [
    "## Instructions\n",
    "\n",
    "For each class, download the lab and have it up and running in Jupyter when we begin the class period. This will allow you to code along with the demonstrations and be ready to go. You will be assigned a lab partner. Put their name above."
   ]
  },
  {
   "cell_type": "markdown",
   "metadata": {},
   "source": [
    "When you are done with your lab, upload this document to your github folder on the class site. Then submit a url link to the completed lab, along with a screenshot of your completed score for the chapter assigned in datacamp to the assignment tab in Moodle.\n",
    "\n",
    "We are moving to having labs due before the next lab, so this is due before class next Tuesday. Come ready to move on to the next topic, and bring any questions you have about the previous lab's material.\n",
    "\n",
    "# Warmups"
   ]
  },
  {
   "cell_type": "markdown",
   "metadata": {},
   "source": [
    "**W.1** Define a string variable that has the value \"All my exes live in Texas\". Print out the word Texas from this string two ways, using both postive and negative indexing."
   ]
  },
  {
   "cell_type": "code",
   "execution_count": 9,
   "metadata": {
    "tags": []
   },
   "outputs": [
    {
     "data": {
      "text/plain": [
       "'All my exes live in Texas'"
      ]
     },
     "execution_count": 9,
     "metadata": {},
     "output_type": "execute_result"
    }
   ],
   "source": [
    "Dating = \"All my exes live in Texas\"\n",
    "Dating"
   ]
  },
  {
   "cell_type": "code",
   "execution_count": 14,
   "metadata": {
    "tags": []
   },
   "outputs": [
    {
     "name": "stdout",
     "output_type": "stream",
     "text": [
      "Texas\n"
     ]
    }
   ],
   "source": [
    "#positive indexing\n",
    "print(Dating[20:])"
   ]
  },
  {
   "cell_type": "code",
   "execution_count": 15,
   "metadata": {
    "tags": []
   },
   "outputs": [
    {
     "name": "stdout",
     "output_type": "stream",
     "text": [
      "Texas\n"
     ]
    }
   ],
   "source": [
    "#negative indexing\n",
    "print(Dating[-5:])"
   ]
  },
  {
   "cell_type": "markdown",
   "metadata": {},
   "source": [
    "**W.2** How many times is the letter e used in the above?"
   ]
  },
  {
   "cell_type": "markdown",
   "metadata": {},
   "source": [
    "The letter e is used 4 times."
   ]
  },
  {
   "cell_type": "code",
   "execution_count": 23,
   "metadata": {
    "tags": []
   },
   "outputs": [
    {
     "data": {
      "text/plain": [
       "4"
      ]
     },
     "execution_count": 23,
     "metadata": {},
     "output_type": "execute_result"
    }
   ],
   "source": [
    "Dating.count('e')"
   ]
  },
  {
   "cell_type": "markdown",
   "metadata": {},
   "source": [
    "**W.3** Define both a list and a numpy array that has even integers from 0 to 20"
   ]
  },
  {
   "cell_type": "code",
   "execution_count": 26,
   "metadata": {
    "tags": []
   },
   "outputs": [
    {
     "name": "stdout",
     "output_type": "stream",
     "text": [
      "List:  [0, 2, 4, 6, 8, 10, 12, 14, 16, 18, 20]\n",
      "Array:  [ 0  2  4  6  8 10 12 14 16 18 20]\n"
     ]
    }
   ],
   "source": [
    "import numpy as np\n",
    "List = list(range(0, 21, 2)) #In creating a list for even integers, we can use the range function with inputs (begin, end(not included), and steps                                                                                \n",
    "Array = np.arange(0, 21, 2) #Same applies for the numpy but the arange function is used.\n",
    "\n",
    "print(\"List: \", List)\n",
    "print(\"Array: \", Array)"
   ]
  },
  {
   "cell_type": "markdown",
   "metadata": {},
   "source": [
    "**W.4** Add this array to itself, what is the result? Do the same thing with a list, how is the result different?"
   ]
  },
  {
   "cell_type": "code",
   "execution_count": 28,
   "metadata": {
    "tags": []
   },
   "outputs": [
    {
     "data": {
      "text/plain": [
       "array([ 0,  4,  8, 12, 16, 20, 24, 28, 32, 36, 40])"
      ]
     },
     "execution_count": 28,
     "metadata": {},
     "output_type": "execute_result"
    }
   ],
   "source": [
    "add_array = Array + Array\n",
    "add_array"
   ]
  },
  {
   "cell_type": "code",
   "execution_count": 29,
   "metadata": {
    "tags": []
   },
   "outputs": [
    {
     "data": {
      "text/plain": [
       "[0, 2, 4, 6, 8, 10, 12, 14, 16, 18, 20, 0, 2, 4, 6, 8, 10, 12, 14, 16, 18, 20]"
      ]
     },
     "execution_count": 29,
     "metadata": {},
     "output_type": "execute_result"
    }
   ],
   "source": [
    "add_list = List + List\n",
    "add_list"
   ]
  },
  {
   "cell_type": "markdown",
   "metadata": {},
   "source": [
    "Adding arrays, and doing the same for lists have different results. The integers in array are added to eachother using their indexes whilst in list, the integers are not added to each other but appended making the list longer. "
   ]
  },
  {
   "cell_type": "markdown",
   "metadata": {},
   "source": [
    "**W.5** Find the mean of the numpy array you created using a method and a function."
   ]
  },
  {
   "cell_type": "markdown",
   "metadata": {},
   "source": [
    "#### For method"
   ]
  },
  {
   "cell_type": "code",
   "execution_count": 85,
   "metadata": {
    "tags": []
   },
   "outputs": [
    {
     "data": {
      "text/plain": [
       "10.0"
      ]
     },
     "execution_count": 85,
     "metadata": {},
     "output_type": "execute_result"
    }
   ],
   "source": [
    "mean_method = Array.mean()\n",
    "mean_method"
   ]
  },
  {
   "cell_type": "markdown",
   "metadata": {},
   "source": [
    "#### For function"
   ]
  },
  {
   "cell_type": "code",
   "execution_count": 86,
   "metadata": {
    "tags": []
   },
   "outputs": [
    {
     "data": {
      "text/plain": [
       "10.0"
      ]
     },
     "execution_count": 86,
     "metadata": {},
     "output_type": "execute_result"
    }
   ],
   "source": [
    "mean_function = np.mean(Array)\n",
    "mean_function"
   ]
  },
  {
   "cell_type": "markdown",
   "metadata": {},
   "source": [
    "**W.6** Now try finding the mean of the list, does it work in the same way?"
   ]
  },
  {
   "cell_type": "markdown",
   "metadata": {},
   "source": [
    "It only works for the mean function and not the method"
   ]
  },
  {
   "cell_type": "code",
   "execution_count": 89,
   "metadata": {
    "tags": []
   },
   "outputs": [
    {
     "ename": "AttributeError",
     "evalue": "'list' object has no attribute 'mean'",
     "output_type": "error",
     "traceback": [
      "\u001b[0;31m---------------------------------------------------------------------------\u001b[0m",
      "\u001b[0;31mAttributeError\u001b[0m                            Traceback (most recent call last)",
      "Cell \u001b[0;32mIn[89], line 2\u001b[0m\n\u001b[1;32m      1\u001b[0m \u001b[38;5;66;03m#For mean method\u001b[39;00m\n\u001b[0;32m----> 2\u001b[0m mean_list \u001b[38;5;241m=\u001b[39m List\u001b[38;5;241m.\u001b[39mmean()\n\u001b[1;32m      3\u001b[0m mean_List\n",
      "\u001b[0;31mAttributeError\u001b[0m: 'list' object has no attribute 'mean'"
     ]
    }
   ],
   "source": [
    "#For mean method\n",
    "mean_list = List.mean()\n",
    "mean_List"
   ]
  },
  {
   "cell_type": "code",
   "execution_count": 90,
   "metadata": {
    "tags": []
   },
   "outputs": [
    {
     "data": {
      "text/plain": [
       "10.0"
      ]
     },
     "execution_count": 90,
     "metadata": {},
     "output_type": "execute_result"
    }
   ],
   "source": [
    "#For mean function\n",
    "mean_list = np.mean(List)\n",
    "mean_list"
   ]
  },
  {
   "cell_type": "markdown",
   "metadata": {},
   "source": [
    "# Lecture 2.2"
   ]
  },
  {
   "cell_type": "markdown",
   "metadata": {},
   "source": [
    "Lecture Agenda:\n",
    "\n",
    "* questions so far\n",
    "* standard import statements\n",
    "* basic things in numpy and matplotlib\n",
    "* how to investigate how a pre-defined function works\n",
    "* First plot! "
   ]
  },
  {
   "cell_type": "markdown",
   "metadata": {},
   "source": [
    "In general, your python notebook, interactive session, or script will start with some importing statements to add the packages you are going to use. Below we will go over the most standard ones and make a simple plot"
   ]
  },
  {
   "cell_type": "code",
   "execution_count": 94,
   "metadata": {
    "tags": []
   },
   "outputs": [],
   "source": [
    "import numpy as np                        # load the numerical python package\n",
    "import matplotlib.pyplot as plt           # load the plotting package"
   ]
  },
  {
   "cell_type": "markdown",
   "metadata": {},
   "source": [
    "Note you only have to load the packages once, then they are available in your kernel, which is the python session for your notebook or interactive console. If you restart the kernel, you need to reload the packages. You can check what packages are loaded using whos, just like for variables"
   ]
  },
  {
   "cell_type": "code",
   "execution_count": 31,
   "metadata": {
    "tags": []
   },
   "outputs": [
    {
     "name": "stdout",
     "output_type": "stream",
     "text": [
      "Variable    Type       Data/Info\n",
      "--------------------------------\n",
      "Array       ndarray    11: 11 elems, type `int64`, 88 bytes\n",
      "Dating      str        All my exes live in Texas\n",
      "List        list       n=11\n",
      "add_array   ndarray    11: 11 elems, type `int64`, 88 bytes\n",
      "add_list    list       n=22\n",
      "np          module     <module 'numpy' from '/Us<...>kages/numpy/__init__.py'>\n",
      "plt         module     <module 'matplotlib.pyplo<...>es/matplotlib/pyplot.py'>\n"
     ]
    }
   ],
   "source": [
    "whos"
   ]
  },
  {
   "cell_type": "markdown",
   "metadata": {},
   "source": [
    "Let's make a basic plot, a sine wave. Fist we have to define the x-axis data, the points we want to plot. You can type these all out, but numpy has a few functions to create this data, let's use one.\n",
    "\n",
    "Look at the documentation for the numpy function *arange*. The inputs are start, stop and step, and there are some examples at the bottom. Some of these inputs are optional. Let's play around with this"
   ]
  },
  {
   "cell_type": "code",
   "execution_count": 32,
   "metadata": {
    "tags": []
   },
   "outputs": [
    {
     "data": {
      "text/plain": [
       "\u001b[0;31mDocstring:\u001b[0m\n",
       "arange([start,] stop[, step,], dtype=None, *, like=None)\n",
       "\n",
       "Return evenly spaced values within a given interval.\n",
       "\n",
       "``arange`` can be called with a varying number of positional arguments:\n",
       "\n",
       "* ``arange(stop)``: Values are generated within the half-open interval\n",
       "  ``[0, stop)`` (in other words, the interval including `start` but\n",
       "  excluding `stop`).\n",
       "* ``arange(start, stop)``: Values are generated within the half-open\n",
       "  interval ``[start, stop)``.\n",
       "* ``arange(start, stop, step)`` Values are generated within the half-open\n",
       "  interval ``[start, stop)``, with spacing between values given by\n",
       "  ``step``.\n",
       "\n",
       "For integer arguments the function is roughly equivalent to the Python\n",
       "built-in :py:class:`range`, but returns an ndarray rather than a ``range``\n",
       "instance.\n",
       "\n",
       "When using a non-integer step, such as 0.1, it is often better to use\n",
       "`numpy.linspace`.\n",
       "\n",
       "See the Warning sections below for more information.\n",
       "\n",
       "Parameters\n",
       "----------\n",
       "start : integer or real, optional\n",
       "    Start of interval.  The interval includes this value.  The default\n",
       "    start value is 0.\n",
       "stop : integer or real\n",
       "    End of interval.  The interval does not include this value, except\n",
       "    in some cases where `step` is not an integer and floating point\n",
       "    round-off affects the length of `out`.\n",
       "step : integer or real, optional\n",
       "    Spacing between values.  For any output `out`, this is the distance\n",
       "    between two adjacent values, ``out[i+1] - out[i]``.  The default\n",
       "    step size is 1.  If `step` is specified as a position argument,\n",
       "    `start` must also be given.\n",
       "dtype : dtype, optional\n",
       "    The type of the output array.  If `dtype` is not given, infer the data\n",
       "    type from the other input arguments.\n",
       "like : array_like, optional\n",
       "    Reference object to allow the creation of arrays which are not\n",
       "    NumPy arrays. If an array-like passed in as ``like`` supports\n",
       "    the ``__array_function__`` protocol, the result will be defined\n",
       "    by it. In this case, it ensures the creation of an array object\n",
       "    compatible with that passed in via this argument.\n",
       "\n",
       "    .. versionadded:: 1.20.0\n",
       "\n",
       "Returns\n",
       "-------\n",
       "arange : ndarray\n",
       "    Array of evenly spaced values.\n",
       "\n",
       "    For floating point arguments, the length of the result is\n",
       "    ``ceil((stop - start)/step)``.  Because of floating point overflow,\n",
       "    this rule may result in the last element of `out` being greater\n",
       "    than `stop`.\n",
       "\n",
       "Warnings\n",
       "--------\n",
       "The length of the output might not be numerically stable.\n",
       "\n",
       "Another stability issue is due to the internal implementation of\n",
       "`numpy.arange`.\n",
       "The actual step value used to populate the array is\n",
       "``dtype(start + step) - dtype(start)`` and not `step`. Precision loss\n",
       "can occur here, due to casting or due to using floating points when\n",
       "`start` is much larger than `step`. This can lead to unexpected\n",
       "behaviour. For example::\n",
       "\n",
       "  >>> np.arange(0, 5, 0.5, dtype=int)\n",
       "  array([0, 0, 0, 0, 0, 0, 0, 0, 0, 0])\n",
       "  >>> np.arange(-3, 3, 0.5, dtype=int)\n",
       "  array([-3, -2, -1,  0,  1,  2,  3,  4,  5,  6,  7,  8])\n",
       "\n",
       "In such cases, the use of `numpy.linspace` should be preferred.\n",
       "\n",
       "The built-in :py:class:`range` generates :std:doc:`Python built-in integers\n",
       "that have arbitrary size <python:c-api/long>`, while `numpy.arange`\n",
       "produces `numpy.int32` or `numpy.int64` numbers. This may result in\n",
       "incorrect results for large integer values::\n",
       "\n",
       "  >>> power = 40\n",
       "  >>> modulo = 10000\n",
       "  >>> x1 = [(n ** power) % modulo for n in range(8)]\n",
       "  >>> x2 = [(n ** power) % modulo for n in np.arange(8)]\n",
       "  >>> print(x1)\n",
       "  [0, 1, 7776, 8801, 6176, 625, 6576, 4001]  # correct\n",
       "  >>> print(x2)\n",
       "  [0, 1, 7776, 7185, 0, 5969, 4816, 3361]  # incorrect\n",
       "\n",
       "See Also\n",
       "--------\n",
       "numpy.linspace : Evenly spaced numbers with careful handling of endpoints.\n",
       "numpy.ogrid: Arrays of evenly spaced numbers in N-dimensions.\n",
       "numpy.mgrid: Grid-shaped arrays of evenly spaced numbers in N-dimensions.\n",
       ":ref:`how-to-partition`\n",
       "\n",
       "Examples\n",
       "--------\n",
       ">>> np.arange(3)\n",
       "array([0, 1, 2])\n",
       ">>> np.arange(3.0)\n",
       "array([ 0.,  1.,  2.])\n",
       ">>> np.arange(3,7)\n",
       "array([3, 4, 5, 6])\n",
       ">>> np.arange(3,7,2)\n",
       "array([3, 5])\n",
       "\u001b[0;31mType:\u001b[0m      builtin_function_or_method"
      ]
     },
     "metadata": {},
     "output_type": "display_data"
    }
   ],
   "source": [
    "np.arange?"
   ]
  },
  {
   "cell_type": "markdown",
   "metadata": {},
   "source": [
    "If we type the arange function without assigning it to a variable, the result will be printed out instead of stored in a variable. Let's use this to explore how this function works."
   ]
  },
  {
   "cell_type": "code",
   "execution_count": 33,
   "metadata": {
    "tags": []
   },
   "outputs": [
    {
     "data": {
      "text/plain": [
       "array([0, 1, 2, 3, 4])"
      ]
     },
     "execution_count": 33,
     "metadata": {},
     "output_type": "execute_result"
    }
   ],
   "source": [
    "np.arange(5)"
   ]
  },
  {
   "cell_type": "markdown",
   "metadata": {},
   "source": [
    "The result is that the array starts at zero and stops before 5, similar to how indexing works. We can get the same result by specifying a starting number"
   ]
  },
  {
   "cell_type": "code",
   "execution_count": 34,
   "metadata": {
    "tags": []
   },
   "outputs": [
    {
     "data": {
      "text/plain": [
       "array([0, 1, 2, 3, 4])"
      ]
     },
     "execution_count": 34,
     "metadata": {},
     "output_type": "execute_result"
    }
   ],
   "source": [
    "np.arange(0,5) # here 0 is the \"start\", this gives you the same result"
   ]
  },
  {
   "cell_type": "markdown",
   "metadata": {},
   "source": [
    "What about if we add three arguments to the function? Let's try"
   ]
  },
  {
   "cell_type": "code",
   "execution_count": 35,
   "metadata": {
    "tags": []
   },
   "outputs": [
    {
     "data": {
      "text/plain": [
       "array([ 1,  3,  5,  7,  9, 11, 13, 15, 17, 19, 21, 23, 25, 27, 29, 31, 33,\n",
       "       35, 37, 39, 41, 43, 45, 47, 49, 51, 53, 55, 57, 59, 61, 63, 65, 67,\n",
       "       69, 71, 73, 75, 77, 79, 81, 83, 85, 87, 89, 91, 93, 95, 97, 99])"
      ]
     },
     "execution_count": 35,
     "metadata": {},
     "output_type": "execute_result"
    }
   ],
   "source": [
    "np.arange(1,100,2) # here the 2 is the \"stride\""
   ]
  },
  {
   "cell_type": "markdown",
   "metadata": {},
   "source": [
    "Let's define an x basis array that goes from -2$\\pi$ to 2$\\pi$ in steps of $\\pi$/8. First we will check it out, then do the assignment. We will use np.pi for $\\pi$. I'm going to define the start, stop and step values as variables to make the function syntax clearer."
   ]
  },
  {
   "cell_type": "code",
   "execution_count": 36,
   "metadata": {
    "tags": []
   },
   "outputs": [
    {
     "data": {
      "text/plain": [
       "3.141592653589793"
      ]
     },
     "execution_count": 36,
     "metadata": {},
     "output_type": "execute_result"
    }
   ],
   "source": [
    "np.pi"
   ]
  },
  {
   "cell_type": "code",
   "execution_count": 38,
   "metadata": {
    "tags": []
   },
   "outputs": [
    {
     "data": {
      "text/plain": [
       "array([-6.28318531e+00, -5.89048623e+00, -5.49778714e+00, -5.10508806e+00,\n",
       "       -4.71238898e+00, -4.31968990e+00, -3.92699082e+00, -3.53429174e+00,\n",
       "       -3.14159265e+00, -2.74889357e+00, -2.35619449e+00, -1.96349541e+00,\n",
       "       -1.57079633e+00, -1.17809725e+00, -7.85398163e-01, -3.92699082e-01,\n",
       "        7.10542736e-15,  3.92699082e-01,  7.85398163e-01,  1.17809725e+00,\n",
       "        1.57079633e+00,  1.96349541e+00,  2.35619449e+00,  2.74889357e+00,\n",
       "        3.14159265e+00,  3.53429174e+00,  3.92699082e+00,  4.31968990e+00,\n",
       "        4.71238898e+00,  5.10508806e+00,  5.49778714e+00,  5.89048623e+00,\n",
       "        6.28318531e+00])"
      ]
     },
     "execution_count": 38,
     "metadata": {},
     "output_type": "execute_result"
    }
   ],
   "source": [
    "#start, stop + step, stride/step\n",
    "\n",
    "np.arange(-2*np.pi, 2*np.pi + np.pi/8, np.pi/8)"
   ]
  },
  {
   "cell_type": "code",
   "execution_count": 39,
   "metadata": {
    "tags": []
   },
   "outputs": [
    {
     "data": {
      "text/plain": [
       "array([-6.28318531e+00, -5.89048623e+00, -5.49778714e+00, -5.10508806e+00,\n",
       "       -4.71238898e+00, -4.31968990e+00, -3.92699082e+00, -3.53429174e+00,\n",
       "       -3.14159265e+00, -2.74889357e+00, -2.35619449e+00, -1.96349541e+00,\n",
       "       -1.57079633e+00, -1.17809725e+00, -7.85398163e-01, -3.92699082e-01,\n",
       "        7.10542736e-15,  3.92699082e-01,  7.85398163e-01,  1.17809725e+00,\n",
       "        1.57079633e+00,  1.96349541e+00,  2.35619449e+00,  2.74889357e+00,\n",
       "        3.14159265e+00,  3.53429174e+00,  3.92699082e+00,  4.31968990e+00,\n",
       "        4.71238898e+00,  5.10508806e+00,  5.49778714e+00,  5.89048623e+00])"
      ]
     },
     "execution_count": 39,
     "metadata": {},
     "output_type": "execute_result"
    }
   ],
   "source": [
    "start = -2*np.pi\n",
    "stop = 2*np.pi\n",
    "step = np.pi/8\n",
    "\n",
    "np.arange(start, stop, step) # this is wrong, why?"
   ]
  },
  {
   "cell_type": "markdown",
   "metadata": {},
   "source": [
    "The numpy array doesn't go to 2$\\pi$, but stops before this. This is because it doesn't go all the way to the stop value, but ends at stop - step. How can we fix this?"
   ]
  },
  {
   "cell_type": "code",
   "execution_count": 42,
   "metadata": {
    "tags": []
   },
   "outputs": [
    {
     "data": {
      "text/plain": [
       "array([-6.28318531e+00, -5.89048623e+00, -5.49778714e+00, -5.10508806e+00,\n",
       "       -4.71238898e+00, -4.31968990e+00, -3.92699082e+00, -3.53429174e+00,\n",
       "       -3.14159265e+00, -2.74889357e+00, -2.35619449e+00, -1.96349541e+00,\n",
       "       -1.57079633e+00, -1.17809725e+00, -7.85398163e-01, -3.92699082e-01,\n",
       "        7.10542736e-15,  3.92699082e-01,  7.85398163e-01,  1.17809725e+00,\n",
       "        1.57079633e+00,  1.96349541e+00,  2.35619449e+00,  2.74889357e+00,\n",
       "        3.14159265e+00,  3.53429174e+00,  3.92699082e+00,  4.31968990e+00,\n",
       "        4.71238898e+00,  5.10508806e+00,  5.49778714e+00,  5.89048623e+00,\n",
       "        6.28318531e+00])"
      ]
     },
     "execution_count": 42,
     "metadata": {},
     "output_type": "execute_result"
    }
   ],
   "source": [
    "# note my start, stop and step are defined above, so I can reuse them here.\n",
    "\n",
    "np.arange(start, stop+step, step) # now it works"
   ]
  },
  {
   "cell_type": "markdown",
   "metadata": {},
   "source": [
    "NOW the array ends at 2$\\pi$. Let's save this to an array we can use later."
   ]
  },
  {
   "cell_type": "code",
   "execution_count": 43,
   "metadata": {
    "tags": []
   },
   "outputs": [
    {
     "data": {
      "text/plain": [
       "array([-6.28318531e+00, -5.89048623e+00, -5.49778714e+00, -5.10508806e+00,\n",
       "       -4.71238898e+00, -4.31968990e+00, -3.92699082e+00, -3.53429174e+00,\n",
       "       -3.14159265e+00, -2.74889357e+00, -2.35619449e+00, -1.96349541e+00,\n",
       "       -1.57079633e+00, -1.17809725e+00, -7.85398163e-01, -3.92699082e-01,\n",
       "        7.10542736e-15,  3.92699082e-01,  7.85398163e-01,  1.17809725e+00,\n",
       "        1.57079633e+00,  1.96349541e+00,  2.35619449e+00,  2.74889357e+00,\n",
       "        3.14159265e+00,  3.53429174e+00,  3.92699082e+00,  4.31968990e+00,\n",
       "        4.71238898e+00,  5.10508806e+00,  5.49778714e+00,  5.89048623e+00,\n",
       "        6.28318531e+00])"
      ]
     },
     "execution_count": 43,
     "metadata": {},
     "output_type": "execute_result"
    }
   ],
   "source": [
    "x = np.arange(start, stop+step, step)\n",
    "# check:\n",
    "x"
   ]
  },
  {
   "cell_type": "markdown",
   "metadata": {},
   "source": [
    "Next we need to define the y-values for our plot, using the np.sin function. We will use the x array we just created."
   ]
  },
  {
   "cell_type": "code",
   "execution_count": 44,
   "metadata": {
    "tags": []
   },
   "outputs": [
    {
     "data": {
      "text/plain": [
       "\u001b[0;31mCall signature:\u001b[0m  \u001b[0mnp\u001b[0m\u001b[0;34m.\u001b[0m\u001b[0msin\u001b[0m\u001b[0;34m(\u001b[0m\u001b[0;34m*\u001b[0m\u001b[0margs\u001b[0m\u001b[0;34m,\u001b[0m \u001b[0;34m**\u001b[0m\u001b[0mkwargs\u001b[0m\u001b[0;34m)\u001b[0m\u001b[0;34m\u001b[0m\u001b[0;34m\u001b[0m\u001b[0m\n",
       "\u001b[0;31mType:\u001b[0m            ufunc\n",
       "\u001b[0;31mString form:\u001b[0m     <ufunc 'sin'>\n",
       "\u001b[0;31mFile:\u001b[0m            ~/anaconda3/lib/python3.11/site-packages/numpy/__init__.py\n",
       "\u001b[0;31mDocstring:\u001b[0m      \n",
       "sin(x, /, out=None, *, where=True, casting='same_kind', order='K', dtype=None, subok=True[, signature, extobj])\n",
       "\n",
       "Trigonometric sine, element-wise.\n",
       "\n",
       "Parameters\n",
       "----------\n",
       "x : array_like\n",
       "    Angle, in radians (:math:`2 \\pi` rad equals 360 degrees).\n",
       "out : ndarray, None, or tuple of ndarray and None, optional\n",
       "    A location into which the result is stored. If provided, it must have\n",
       "    a shape that the inputs broadcast to. If not provided or None,\n",
       "    a freshly-allocated array is returned. A tuple (possible only as a\n",
       "    keyword argument) must have length equal to the number of outputs.\n",
       "where : array_like, optional\n",
       "    This condition is broadcast over the input. At locations where the\n",
       "    condition is True, the `out` array will be set to the ufunc result.\n",
       "    Elsewhere, the `out` array will retain its original value.\n",
       "    Note that if an uninitialized `out` array is created via the default\n",
       "    ``out=None``, locations within it where the condition is False will\n",
       "    remain uninitialized.\n",
       "**kwargs\n",
       "    For other keyword-only arguments, see the\n",
       "    :ref:`ufunc docs <ufuncs.kwargs>`.\n",
       "\n",
       "Returns\n",
       "-------\n",
       "y : array_like\n",
       "    The sine of each element of x.\n",
       "    This is a scalar if `x` is a scalar.\n",
       "\n",
       "See Also\n",
       "--------\n",
       "arcsin, sinh, cos\n",
       "\n",
       "Notes\n",
       "-----\n",
       "The sine is one of the fundamental functions of trigonometry (the\n",
       "mathematical study of triangles).  Consider a circle of radius 1\n",
       "centered on the origin.  A ray comes in from the :math:`+x` axis, makes\n",
       "an angle at the origin (measured counter-clockwise from that axis), and\n",
       "departs from the origin.  The :math:`y` coordinate of the outgoing\n",
       "ray's intersection with the unit circle is the sine of that angle.  It\n",
       "ranges from -1 for :math:`x=3\\pi / 2` to +1 for :math:`\\pi / 2.`  The\n",
       "function has zeroes where the angle is a multiple of :math:`\\pi`.\n",
       "Sines of angles between :math:`\\pi` and :math:`2\\pi` are negative.\n",
       "The numerous properties of the sine and related functions are included\n",
       "in any standard trigonometry text.\n",
       "\n",
       "Examples\n",
       "--------\n",
       "Print sine of one angle:\n",
       "\n",
       ">>> np.sin(np.pi/2.)\n",
       "1.0\n",
       "\n",
       "Print sines of an array of angles given in degrees:\n",
       "\n",
       ">>> np.sin(np.array((0., 30., 45., 60., 90.)) * np.pi / 180. )\n",
       "array([ 0.        ,  0.5       ,  0.70710678,  0.8660254 ,  1.        ])\n",
       "\n",
       "Plot the sine function:\n",
       "\n",
       ">>> import matplotlib.pylab as plt\n",
       ">>> x = np.linspace(-np.pi, np.pi, 201)\n",
       ">>> plt.plot(x, np.sin(x))\n",
       ">>> plt.xlabel('Angle [rad]')\n",
       ">>> plt.ylabel('sin(x)')\n",
       ">>> plt.axis('tight')\n",
       ">>> plt.show()\n",
       "\u001b[0;31mClass docstring:\u001b[0m\n",
       "Functions that operate element by element on whole arrays.\n",
       "\n",
       "To see the documentation for a specific ufunc, use `info`.  For\n",
       "example, ``np.info(np.sin)``.  Because ufuncs are written in C\n",
       "(for speed) and linked into Python with NumPy's ufunc facility,\n",
       "Python's help() function finds this page whenever help() is called\n",
       "on a ufunc.\n",
       "\n",
       "A detailed explanation of ufuncs can be found in the docs for :ref:`ufuncs`.\n",
       "\n",
       "**Calling ufuncs:** ``op(*x[, out], where=True, **kwargs)``\n",
       "\n",
       "Apply `op` to the arguments `*x` elementwise, broadcasting the arguments.\n",
       "\n",
       "The broadcasting rules are:\n",
       "\n",
       "* Dimensions of length 1 may be prepended to either array.\n",
       "* Arrays may be repeated along dimensions of length 1.\n",
       "\n",
       "Parameters\n",
       "----------\n",
       "*x : array_like\n",
       "    Input arrays.\n",
       "out : ndarray, None, or tuple of ndarray and None, optional\n",
       "    Alternate array object(s) in which to put the result; if provided, it\n",
       "    must have a shape that the inputs broadcast to. A tuple of arrays\n",
       "    (possible only as a keyword argument) must have length equal to the\n",
       "    number of outputs; use None for uninitialized outputs to be\n",
       "    allocated by the ufunc.\n",
       "where : array_like, optional\n",
       "    This condition is broadcast over the input. At locations where the\n",
       "    condition is True, the `out` array will be set to the ufunc result.\n",
       "    Elsewhere, the `out` array will retain its original value.\n",
       "    Note that if an uninitialized `out` array is created via the default\n",
       "    ``out=None``, locations within it where the condition is False will\n",
       "    remain uninitialized.\n",
       "**kwargs\n",
       "    For other keyword-only arguments, see the :ref:`ufunc docs <ufuncs.kwargs>`.\n",
       "\n",
       "Returns\n",
       "-------\n",
       "r : ndarray or tuple of ndarray\n",
       "    `r` will have the shape that the arrays in `x` broadcast to; if `out` is\n",
       "    provided, it will be returned. If not, `r` will be allocated and\n",
       "    may contain uninitialized values. If the function has more than one\n",
       "    output, then the result will be a tuple of arrays."
      ]
     },
     "metadata": {},
     "output_type": "display_data"
    }
   ],
   "source": [
    "# note the input has to be in radians, not degrees\n",
    "np.sin?"
   ]
  },
  {
   "cell_type": "code",
   "execution_count": 45,
   "metadata": {
    "tags": []
   },
   "outputs": [
    {
     "data": {
      "text/plain": [
       "array([ 2.44929360e-16,  3.82683432e-01,  7.07106781e-01,  9.23879533e-01,\n",
       "        1.00000000e+00,  9.23879533e-01,  7.07106781e-01,  3.82683432e-01,\n",
       "       -3.67517836e-15, -3.82683432e-01, -7.07106781e-01, -9.23879533e-01,\n",
       "       -1.00000000e+00, -9.23879533e-01, -7.07106781e-01, -3.82683432e-01,\n",
       "        7.10542736e-15,  3.82683432e-01,  7.07106781e-01,  9.23879533e-01,\n",
       "        1.00000000e+00,  9.23879533e-01,  7.07106781e-01,  3.82683432e-01,\n",
       "       -1.05356764e-14, -3.82683432e-01, -7.07106781e-01, -9.23879533e-01,\n",
       "       -1.00000000e+00, -9.23879533e-01, -7.07106781e-01, -3.82683432e-01,\n",
       "        1.39659254e-14])"
      ]
     },
     "execution_count": 45,
     "metadata": {},
     "output_type": "execute_result"
    }
   ],
   "source": [
    "y = np.sin(x)\n",
    "y #check"
   ]
  },
  {
   "cell_type": "markdown",
   "metadata": {},
   "source": [
    "The most basic plotting command:"
   ]
  },
  {
   "cell_type": "code",
   "execution_count": 49,
   "metadata": {
    "tags": []
   },
   "outputs": [
    {
     "data": {
      "text/plain": [
       "[<matplotlib.lines.Line2D at 0x117d5be50>]"
      ]
     },
     "execution_count": 49,
     "metadata": {},
     "output_type": "execute_result"
    },
    {
     "data": {
      "image/png": "[encoded data removed]",
      "text/plain": [
       "<Figure size 640x480 with 1 Axes>"
      ]
     },
     "metadata": {},
     "output_type": "display_data"
    }
   ],
   "source": [
    "#plt.plot(x,y); #, '.-')\n",
    "plt.plot(x,y, '.-')\n",
    "# note this uses the shortcut we created when we used the import statement: \n",
    "# import matplotlib.pyplot as plt \n",
    "# otherwise you would have to type matplotlib.pyplot.plot(x,y)"
   ]
  },
  {
   "cell_type": "markdown",
   "metadata": {},
   "source": [
    "You can see above that the plot is kind of choppy. To fix this we need to have more x points and fill in the plot more"
   ]
  },
  {
   "cell_type": "code",
   "execution_count": 50,
   "metadata": {
    "tags": []
   },
   "outputs": [],
   "source": [
    "start = -2*np.pi\n",
    "stop = 2*np.pi\n",
    "#step = np.pi/8\n",
    "step = np.pi/16 #smaller step\n",
    "\n",
    "x_2 = np.arange(start,stop+step,step)"
   ]
  },
  {
   "cell_type": "code",
   "execution_count": 51,
   "metadata": {
    "tags": []
   },
   "outputs": [
    {
     "data": {
      "text/plain": [
       "(33,)"
      ]
     },
     "execution_count": 51,
     "metadata": {},
     "output_type": "execute_result"
    }
   ],
   "source": [
    "x.shape"
   ]
  },
  {
   "cell_type": "code",
   "execution_count": 52,
   "metadata": {
    "tags": []
   },
   "outputs": [
    {
     "data": {
      "text/plain": [
       "(65,)"
      ]
     },
     "execution_count": 52,
     "metadata": {},
     "output_type": "execute_result"
    }
   ],
   "source": [
    "x_2.shape"
   ]
  },
  {
   "cell_type": "code",
   "execution_count": 53,
   "metadata": {
    "tags": []
   },
   "outputs": [
    {
     "data": {
      "text/plain": [
       "6.2831853071796"
      ]
     },
     "execution_count": 53,
     "metadata": {},
     "output_type": "execute_result"
    }
   ],
   "source": [
    "x_2[-1] # checking it's 2 pi"
   ]
  },
  {
   "cell_type": "code",
   "execution_count": 55,
   "metadata": {
    "tags": []
   },
   "outputs": [
    {
     "data": {
      "image/png": "[encoded data removed]",
      "text/plain": [
       "<Figure size 640x480 with 1 Axes>"
      ]
     },
     "metadata": {},
     "output_type": "display_data"
    }
   ],
   "source": [
    "# note we can just put the np.sin function call right inside the plotting statement\n",
    "#note that y=np.sin(x_2)\n",
    "plt.plot(x_2, np.sin(x_2), '.-');"
   ]
  },
  {
   "cell_type": "markdown",
   "metadata": {},
   "source": [
    "Looks much better with more x values"
   ]
  },
  {
   "cell_type": "code",
   "execution_count": 56,
   "metadata": {
    "tags": []
   },
   "outputs": [
    {
     "data": {
      "text/plain": [
       "Text(0.5, 1.0, 'y = sin(x) is the function I plotted')"
      ]
     },
     "execution_count": 56,
     "metadata": {},
     "output_type": "execute_result"
    },
    {
     "data": {
      "image/png": "[encoded data removed]",
      "text/plain": [
       "<Figure size 640x480 with 1 Axes>"
      ]
     },
     "metadata": {},
     "output_type": "display_data"
    }
   ],
   "source": [
    "# add some labels and a title in\n",
    "\n",
    "plt.plot(x_2, np.sin(x_2))\n",
    "plt.xlabel('my x values')\n",
    "plt.ylabel('my y values')\n",
    "plt.title('y = sin(x) is the function I plotted')"
   ]
  },
  {
   "cell_type": "markdown",
   "metadata": {},
   "source": [
    "We can save the plot by using python functions, or just shift+right click and copy or saveas..."
   ]
  },
  {
   "cell_type": "code",
   "execution_count": 57,
   "metadata": {
    "tags": []
   },
   "outputs": [
    {
     "data": {
      "text/plain": [
       "\u001b[0;31mSignature:\u001b[0m \u001b[0mplt\u001b[0m\u001b[0;34m.\u001b[0m\u001b[0msavefig\u001b[0m\u001b[0;34m(\u001b[0m\u001b[0;34m*\u001b[0m\u001b[0margs\u001b[0m\u001b[0;34m,\u001b[0m \u001b[0;34m**\u001b[0m\u001b[0mkwargs\u001b[0m\u001b[0;34m)\u001b[0m\u001b[0;34m\u001b[0m\u001b[0;34m\u001b[0m\u001b[0m\n",
       "\u001b[0;31mDocstring:\u001b[0m\n",
       "Save the current figure.\n",
       "\n",
       "Call signature::\n",
       "\n",
       "  savefig(fname, *, dpi='figure', format=None, metadata=None,\n",
       "          bbox_inches=None, pad_inches=0.1,\n",
       "          facecolor='auto', edgecolor='auto',\n",
       "          backend=None, **kwargs\n",
       "         )\n",
       "\n",
       "The available output formats depend on the backend being used.\n",
       "\n",
       "Parameters\n",
       "----------\n",
       "fname : str or path-like or binary file-like\n",
       "    A path, or a Python file-like object, or\n",
       "    possibly some backend-dependent object such as\n",
       "    `matplotlib.backends.backend_pdf.PdfPages`.\n",
       "\n",
       "    If *format* is set, it determines the output format, and the file\n",
       "    is saved as *fname*.  Note that *fname* is used verbatim, and there\n",
       "    is no attempt to make the extension, if any, of *fname* match\n",
       "    *format*, and no extension is appended.\n",
       "\n",
       "    If *format* is not set, then the format is inferred from the\n",
       "    extension of *fname*, if there is one.  If *format* is not\n",
       "    set and *fname* has no extension, then the file is saved with\n",
       "    :rc:`savefig.format` and the appropriate extension is appended to\n",
       "    *fname*.\n",
       "\n",
       "Other Parameters\n",
       "----------------\n",
       "dpi : float or 'figure', default: :rc:`savefig.dpi`\n",
       "    The resolution in dots per inch.  If 'figure', use the figure's\n",
       "    dpi value.\n",
       "\n",
       "format : str\n",
       "    The file format, e.g. 'png', 'pdf', 'svg', ... The behavior when\n",
       "    this is unset is documented under *fname*.\n",
       "\n",
       "metadata : dict, optional\n",
       "    Key/value pairs to store in the image metadata. The supported keys\n",
       "    and defaults depend on the image format and backend:\n",
       "\n",
       "    - 'png' with Agg backend: See the parameter ``metadata`` of\n",
       "      `~.FigureCanvasAgg.print_png`.\n",
       "    - 'pdf' with pdf backend: See the parameter ``metadata`` of\n",
       "      `~.backend_pdf.PdfPages`.\n",
       "    - 'svg' with svg backend: See the parameter ``metadata`` of\n",
       "      `~.FigureCanvasSVG.print_svg`.\n",
       "    - 'eps' and 'ps' with PS backend: Only 'Creator' is supported.\n",
       "\n",
       "bbox_inches : str or `.Bbox`, default: :rc:`savefig.bbox`\n",
       "    Bounding box in inches: only the given portion of the figure is\n",
       "    saved.  If 'tight', try to figure out the tight bbox of the figure.\n",
       "\n",
       "pad_inches : float, default: :rc:`savefig.pad_inches`\n",
       "    Amount of padding around the figure when bbox_inches is 'tight'.\n",
       "\n",
       "facecolor : color or 'auto', default: :rc:`savefig.facecolor`\n",
       "    The facecolor of the figure.  If 'auto', use the current figure\n",
       "    facecolor.\n",
       "\n",
       "edgecolor : color or 'auto', default: :rc:`savefig.edgecolor`\n",
       "    The edgecolor of the figure.  If 'auto', use the current figure\n",
       "    edgecolor.\n",
       "\n",
       "backend : str, optional\n",
       "    Use a non-default backend to render the file, e.g. to render a\n",
       "    png file with the \"cairo\" backend rather than the default \"agg\",\n",
       "    or a pdf file with the \"pgf\" backend rather than the default\n",
       "    \"pdf\".  Note that the default backend is normally sufficient.  See\n",
       "    :ref:`the-builtin-backends` for a list of valid backends for each\n",
       "    file format.  Custom backends can be referenced as \"module://...\".\n",
       "\n",
       "orientation : {'landscape', 'portrait'}\n",
       "    Currently only supported by the postscript backend.\n",
       "\n",
       "papertype : str\n",
       "    One of 'letter', 'legal', 'executive', 'ledger', 'a0' through\n",
       "    'a10', 'b0' through 'b10'. Only supported for postscript\n",
       "    output.\n",
       "\n",
       "transparent : bool\n",
       "    If *True*, the Axes patches will all be transparent; the\n",
       "    Figure patch will also be transparent unless *facecolor*\n",
       "    and/or *edgecolor* are specified via kwargs.\n",
       "\n",
       "    If *False* has no effect and the color of the Axes and\n",
       "    Figure patches are unchanged (unless the Figure patch\n",
       "    is specified via the *facecolor* and/or *edgecolor* keyword\n",
       "    arguments in which case those colors are used).\n",
       "\n",
       "    The transparency of these patches will be restored to their\n",
       "    original values upon exit of this function.\n",
       "\n",
       "    This is useful, for example, for displaying\n",
       "    a plot on top of a colored background on a web page.\n",
       "\n",
       "bbox_extra_artists : list of `~matplotlib.artist.Artist`, optional\n",
       "    A list of extra artists that will be considered when the\n",
       "    tight bbox is calculated.\n",
       "\n",
       "pil_kwargs : dict, optional\n",
       "    Additional keyword arguments that are passed to\n",
       "    `PIL.Image.Image.save` when saving the figure.\n",
       "\u001b[0;31mFile:\u001b[0m      ~/anaconda3/lib/python3.11/site-packages/matplotlib/pyplot.py\n",
       "\u001b[0;31mType:\u001b[0m      function"
      ]
     },
     "metadata": {},
     "output_type": "display_data"
    }
   ],
   "source": [
    "plt.savefig?"
   ]
  },
  {
   "cell_type": "code",
   "execution_count": 58,
   "metadata": {
    "tags": []
   },
   "outputs": [
    {
     "data": {
      "image/png": "[encoded data removed]",
      "text/plain": [
       "<Figure size 640x480 with 1 Axes>"
      ]
     },
     "metadata": {},
     "output_type": "display_data"
    }
   ],
   "source": [
    "# add some labels and a title in\n",
    "\n",
    "plt.plot(x_2, np.sin(x_2))\n",
    "plt.xlabel('x')\n",
    "plt.ylabel('y')\n",
    "plt.title('y = sin(x)')\n",
    "\n",
    "plt.savefig('sin.png')\n",
    "plt.savefig('sin_HR.png', dpi = 900) # higher resolution, dpi = \"dots per square inch\""
   ]
  },
  {
   "cell_type": "markdown",
   "metadata": {},
   "source": [
    "# Lab 2.2"
   ]
  },
  {
   "cell_type": "markdown",
   "metadata": {},
   "source": [
    "**E.0** Finish Lab 2.1 if you haven't already"
   ]
  },
  {
   "cell_type": "markdown",
   "metadata": {},
   "source": [
    "**E.1** Complete Complete Ch 4 of Introduction to Python in datacamp: Numpy"
   ]
  },
  {
   "cell_type": "markdown",
   "metadata": {},
   "source": [
    "**E.2** What are the differences between lists and arrays? Demonstrate and answer with a sentance or two."
   ]
  },
  {
   "cell_type": "markdown",
   "metadata": {},
   "source": [
    "Lists are general-purpose containers designed to store elements of different data types whilst Arrays are designed for numerical operations and allow for element-specific operations."
   ]
  },
  {
   "cell_type": "code",
   "execution_count": 104,
   "metadata": {
    "tags": []
   },
   "outputs": [
    {
     "name": "stdout",
     "output_type": "stream",
     "text": [
      "[5, 6, 7]\n",
      "[1 2 3]\n"
     ]
    }
   ],
   "source": [
    "#Demonstration\n",
    "\n",
    "list_demo = [5, 6, 7]\n",
    "array_demo = np.array([1, 2, 3])\n",
    "print(list_demo)\n",
    "print(array_demo)"
   ]
  },
  {
   "cell_type": "code",
   "execution_count": 105,
   "metadata": {
    "tags": []
   },
   "outputs": [
    {
     "data": {
      "text/plain": [
       "array([5, 6, 7])"
      ]
     },
     "execution_count": 105,
     "metadata": {},
     "output_type": "execute_result"
    }
   ],
   "source": [
    "#Addition works for an array\n",
    "add_array = array_demo + 4 #adds 4 to every single ele\n",
    "add_array"
   ]
  },
  {
   "cell_type": "code",
   "execution_count": 106,
   "metadata": {
    "tags": []
   },
   "outputs": [
    {
     "ename": "TypeError",
     "evalue": "can only concatenate list (not \"int\") to list",
     "output_type": "error",
     "traceback": [
      "\u001b[0;31m---------------------------------------------------------------------------\u001b[0m",
      "\u001b[0;31mTypeError\u001b[0m                                 Traceback (most recent call last)",
      "Cell \u001b[0;32mIn[106], line 2\u001b[0m\n\u001b[1;32m      1\u001b[0m \u001b[38;5;66;03m#Addition does not work for a list. It raises an error.\u001b[39;00m\n\u001b[0;32m----> 2\u001b[0m add_list \u001b[38;5;241m=\u001b[39m list_demo \u001b[38;5;241m+\u001b[39m \u001b[38;5;241m9\u001b[39m\n\u001b[1;32m      3\u001b[0m add_list\n",
      "\u001b[0;31mTypeError\u001b[0m: can only concatenate list (not \"int\") to list"
     ]
    }
   ],
   "source": [
    "#Addition does not work for a list. It raises an error.\n",
    "add_list = list_demo + 9\n",
    "add_list"
   ]
  },
  {
   "cell_type": "markdown",
   "metadata": {},
   "source": [
    "**E.3** Using the numpy function arange, make an array of even intergers that goes from 0 to 20, and includes 20."
   ]
  },
  {
   "cell_type": "code",
   "execution_count": 107,
   "metadata": {
    "tags": []
   },
   "outputs": [
    {
     "data": {
      "text/plain": [
       "array([ 0,  2,  4,  6,  8, 10, 12, 14, 16, 18, 20])"
      ]
     },
     "execution_count": 107,
     "metadata": {},
     "output_type": "execute_result"
    }
   ],
   "source": [
    "even_int = np.arange(0, 21, 2)\n",
    "even_int"
   ]
  },
  {
   "cell_type": "markdown",
   "metadata": {},
   "source": [
    "**E.4** Using the above and logical (boolean) indexing, make an array that has even integers from 10 to 20, including 10 and 20."
   ]
  },
  {
   "cell_type": "code",
   "execution_count": 108,
   "metadata": {
    "tags": []
   },
   "outputs": [
    {
     "data": {
      "text/plain": [
       "array([10, 12, 14, 16, 18, 20])"
      ]
     },
     "execution_count": 108,
     "metadata": {},
     "output_type": "execute_result"
    }
   ],
   "source": [
    "filtered_array = even_int[(even_int >= 10) & (even_int <= 20)]\n",
    "filtered_array"
   ]
  },
  {
   "cell_type": "markdown",
   "metadata": {},
   "source": [
    "**E.5** What is the shape of the array you just created?"
   ]
  },
  {
   "cell_type": "code",
   "execution_count": 109,
   "metadata": {
    "tags": []
   },
   "outputs": [
    {
     "data": {
      "text/plain": [
       "(6,)"
      ]
     },
     "execution_count": 109,
     "metadata": {},
     "output_type": "execute_result"
    }
   ],
   "source": [
    "log.shape"
   ]
  },
  {
   "cell_type": "markdown",
   "metadata": {},
   "source": [
    "**E.6** Plot the function $y=(x+4)(x-3)(x+1)^2$ over the interval [-5, 5]. Make sure you include the endpoints of this interval and use enough points so that your plot looks smooth. Label your axes and add a title that includes the function you just plotted. Save this plot to both a .png and .pdf file using python commands, and copy and paste the plot directly from this notebook into a word document. "
   ]
  },
  {
   "cell_type": "code",
   "execution_count": 163,
   "metadata": {
    "tags": []
   },
   "outputs": [
    {
     "data": {
      "image/png": "[encoded data removed]",
      "text/plain": [
       "<Figure size 640x480 with 1 Axes>"
      ]
     },
     "metadata": {},
     "output_type": "display_data"
    }
   ],
   "source": [
    "x = np.arange(-5, 5.01, 0.01)\n",
    "y = (x+4)*(x-3)*(x+1)**2\n",
    "\n",
    "plt.plot(x, y)\n",
    "plt.xlabel('x')\n",
    "plt.ylabel('y')\n",
    "plt.title('y = (x+4)(x-3)(x+1)^2')\n",
    "\n",
    "plt.savefig('y-function.png', dpi = 900)\n",
    "plt.savefig('y-function.pdf', dpi = 900)"
   ]
  },
  {
   "cell_type": "markdown",
   "metadata": {},
   "source": [
    "**E.7** Find the approximate minimum value of the function in **E.6**. How does your definition of the x-value basis array affect this minimum? Demonstrate and explain."
   ]
  },
  {
   "cell_type": "code",
   "execution_count": 115,
   "metadata": {
    "tags": []
   },
   "outputs": [
    {
     "data": {
      "text/plain": [
       "-54.644118749999976"
      ]
     },
     "execution_count": 115,
     "metadata": {},
     "output_type": "execute_result"
    }
   ],
   "source": [
    "#min value of the function y\n",
    "min_y = np.min(y)\n",
    "min_y"
   ]
  },
  {
   "cell_type": "markdown",
   "metadata": {},
   "source": [
    "The definition of the x-value basis array affects the resolution of the plot. A higher number of points in the x-array provides a more accurate approximation of the minimum, as it captures more details of the function, and vice versa for a lower resolution. "
   ]
  },
  {
   "cell_type": "code",
   "execution_count": 129,
   "metadata": {
    "tags": []
   },
   "outputs": [
    {
     "name": "stdout",
     "output_type": "stream",
     "text": [
      "-54.58090000000011\n"
     ]
    }
   ],
   "source": [
    "x_1=np.arange(-10,10,.1)\n",
    "y_1=(x_1+4)*(x_1-3)*(x_1+1)**2\n",
    "print(np.min(y_1))"
   ]
  },
  {
   "cell_type": "markdown",
   "metadata": {},
   "source": [
    "**E.8** Using logical (boolean) indexing, plot the function again but only the negative values."
   ]
  },
  {
   "cell_type": "code",
   "execution_count": 132,
   "metadata": {
    "tags": []
   },
   "outputs": [
    {
     "data": {
      "image/png": "[encoded data removed]",
      "text/plain": [
       "<Figure size 640x480 with 1 Axes>"
      ]
     },
     "metadata": {},
     "output_type": "display_data"
    }
   ],
   "source": [
    "plt.plot(x_1[y_1<0],y_1[y_1<0])\n",
    "plt.xlabel('x')\n",
    "plt.ylabel('y')\n",
    "plt.title('y_1 = (x_1+4)(x_1-3)(x_1+1)^2');"
   ]
  },
  {
   "cell_type": "markdown",
   "metadata": {},
   "source": [
    "**E.9** Given the numpy array below, find two ways to add 10 to the first column and 20 to the second column. Hint: you can do this in one line."
   ]
  },
  {
   "cell_type": "code",
   "execution_count": 133,
   "metadata": {
    "tags": []
   },
   "outputs": [],
   "source": [
    "np_mat = np.array([[1, 2],\n",
    "                   [3, 4],\n",
    "                   [5, 6]])"
   ]
  },
  {
   "cell_type": "markdown",
   "metadata": {},
   "source": [
    "Method 1"
   ]
  },
  {
   "cell_type": "code",
   "execution_count": 135,
   "metadata": {
    "tags": []
   },
   "outputs": [
    {
     "name": "stdout",
     "output_type": "stream",
     "text": [
      "(array([11, 13, 15]), array([22, 24, 26]))\n"
     ]
    }
   ],
   "source": [
    "np_mat_m1=(np_mat[:,0]+10,\n",
    "                 np_mat[:,1]+20)\n",
    "print(np_mat_m1)"
   ]
  },
  {
   "cell_type": "markdown",
   "metadata": {},
   "source": [
    "Method 2"
   ]
  },
  {
   "cell_type": "code",
   "execution_count": 141,
   "metadata": {
    "tags": []
   },
   "outputs": [
    {
     "data": {
      "text/plain": [
       "(array([11, 13, 15]), array([22, 24, 26]))"
      ]
     },
     "execution_count": 141,
     "metadata": {},
     "output_type": "execute_result"
    }
   ],
   "source": [
    "np_mat_m2_10 = np_mat[:,0]+10\n",
    "np_mat_m2_20 = np_mat[:,1]+20\n",
    "np_mat_m2_10, np_mat_m2_20"
   ]
  },
  {
   "cell_type": "markdown",
   "metadata": {},
   "source": [
    "**E.10** Add 10 to the second row of the above array"
   ]
  },
  {
   "cell_type": "code",
   "execution_count": 142,
   "metadata": {
    "tags": []
   },
   "outputs": [
    {
     "data": {
      "text/plain": [
       "array([13, 14])"
      ]
     },
     "execution_count": 142,
     "metadata": {},
     "output_type": "execute_result"
    }
   ],
   "source": [
    "np_add_10 = np_mat[1, :]+10\n",
    "np_add_10"
   ]
  },
  {
   "cell_type": "markdown",
   "metadata": {},
   "source": [
    "**E.11** Define an array that has eight columns and ten rows and is full of ones"
   ]
  },
  {
   "cell_type": "code",
   "execution_count": 148,
   "metadata": {
    "tags": []
   },
   "outputs": [
    {
     "data": {
      "text/plain": [
       "array([[1., 1., 1., 1., 1., 1., 1., 1.],\n",
       "       [1., 1., 1., 1., 1., 1., 1., 1.],\n",
       "       [1., 1., 1., 1., 1., 1., 1., 1.],\n",
       "       [1., 1., 1., 1., 1., 1., 1., 1.],\n",
       "       [1., 1., 1., 1., 1., 1., 1., 1.],\n",
       "       [1., 1., 1., 1., 1., 1., 1., 1.],\n",
       "       [1., 1., 1., 1., 1., 1., 1., 1.],\n",
       "       [1., 1., 1., 1., 1., 1., 1., 1.],\n",
       "       [1., 1., 1., 1., 1., 1., 1., 1.],\n",
       "       [1., 1., 1., 1., 1., 1., 1., 1.]])"
      ]
     },
     "execution_count": 148,
     "metadata": {},
     "output_type": "execute_result"
    }
   ],
   "source": [
    "Array_8 = np.ones([10, 8])\n",
    "Array_8"
   ]
  },
  {
   "cell_type": "markdown",
   "metadata": {},
   "source": [
    "**E.12** Turn all of the ones in the interior of your array to fives, that is everything but the first and last rows and first and last columns."
   ]
  },
  {
   "cell_type": "code",
   "execution_count": 151,
   "metadata": {
    "tags": []
   },
   "outputs": [
    {
     "data": {
      "text/plain": [
       "array([[1., 1., 1., 1., 1., 1., 1., 1.],\n",
       "       [1., 5., 5., 5., 5., 5., 5., 1.],\n",
       "       [1., 5., 5., 5., 5., 5., 5., 1.],\n",
       "       [1., 5., 5., 5., 5., 5., 5., 1.],\n",
       "       [1., 5., 5., 5., 5., 5., 5., 1.],\n",
       "       [1., 5., 5., 5., 5., 5., 5., 1.],\n",
       "       [1., 5., 5., 5., 5., 5., 5., 1.],\n",
       "       [1., 5., 5., 5., 5., 5., 5., 1.],\n",
       "       [1., 5., 5., 5., 5., 5., 5., 1.],\n",
       "       [1., 1., 1., 1., 1., 1., 1., 1.]])"
      ]
     },
     "execution_count": 151,
     "metadata": {},
     "output_type": "execute_result"
    }
   ],
   "source": [
    "Array_8[1:9, 1:7] = 5\n",
    "Array_8"
   ]
  },
  {
   "cell_type": "markdown",
   "metadata": {},
   "source": [
    "**E.13** Using logical indexing, turn all of the fives to eights"
   ]
  },
  {
   "cell_type": "code",
   "execution_count": 154,
   "metadata": {
    "tags": []
   },
   "outputs": [
    {
     "data": {
      "text/plain": [
       "array([[1., 1., 1., 1., 1., 1., 1., 1.],\n",
       "       [1., 8., 8., 8., 8., 8., 8., 1.],\n",
       "       [1., 8., 8., 8., 8., 8., 8., 1.],\n",
       "       [1., 8., 8., 8., 8., 8., 8., 1.],\n",
       "       [1., 8., 8., 8., 8., 8., 8., 1.],\n",
       "       [1., 8., 8., 8., 8., 8., 8., 1.],\n",
       "       [1., 8., 8., 8., 8., 8., 8., 1.],\n",
       "       [1., 8., 8., 8., 8., 8., 8., 1.],\n",
       "       [1., 8., 8., 8., 8., 8., 8., 1.],\n",
       "       [1., 1., 1., 1., 1., 1., 1., 1.]])"
      ]
     },
     "execution_count": 154,
     "metadata": {},
     "output_type": "execute_result"
    }
   ],
   "source": [
    "#array_8[array_8=5] = 8 #this does not work\n",
    "Array_8[Array_8==5] = 8\n",
    "Array_8"
   ]
  },
  {
   "cell_type": "markdown",
   "metadata": {},
   "source": [
    "**E.14** Plot the resulting 2D array using the plt.pcolormesh function and add a colorbar (google it!)."
   ]
  },
  {
   "cell_type": "code",
   "execution_count": 155,
   "metadata": {
    "tags": []
   },
   "outputs": [
    {
     "data": {
      "text/plain": [
       "(10, 8)"
      ]
     },
     "execution_count": 155,
     "metadata": {},
     "output_type": "execute_result"
    }
   ],
   "source": [
    "Array_8.shape"
   ]
  },
  {
   "cell_type": "code",
   "execution_count": 162,
   "metadata": {
    "tags": []
   },
   "outputs": [
    {
     "data": {
      "image/png": "[encoded data removed]",
      "text/plain": [
       "<Figure size 640x480 with 2 Axes>"
      ]
     },
     "metadata": {},
     "output_type": "display_data"
    }
   ],
   "source": [
    "plt.pcolormesh(Array_8)\n",
    "plt.colorbar();"
   ]
  }
 ],
 "metadata": {
  "kernelspec": {
   "display_name": "Python 3 (ipykernel)",
   "language": "python",
   "name": "python3"
  },
  "language_info": {
   "codemirror_mode": {
    "name": "ipython",
    "version": 3
   },
   "file_extension": ".py",
   "mimetype": "text/x-python",
   "name": "python",
   "nbconvert_exporter": "python",
   "pygments_lexer": "ipython3",
   "version": "3.11.5"
  }
 },
 "nbformat": 4,
 "nbformat_minor": 4
}
