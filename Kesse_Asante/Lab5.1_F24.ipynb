{
 "cells": [
  {
   "cell_type": "markdown",
   "id": "absolute-chess",
   "metadata": {},
   "source": [
    "Name: Kesse Asante"
   ]
  },
  {
   "cell_type": "markdown",
   "id": "fitting-blind",
   "metadata": {},
   "source": [
    "Labpartner(s)"
   ]
  },
  {
   "cell_type": "code",
   "execution_count": 27,
   "id": "described-england",
   "metadata": {
    "tags": []
   },
   "outputs": [],
   "source": [
    "# import statements go here\n",
    "import numpy as np\n",
    "import pandas as pd\n",
    "import matplotlib.pyplot as plt\n",
    "import xarray as xr"
   ]
  },
  {
   "cell_type": "markdown",
   "id": "ranking-telephone",
   "metadata": {},
   "source": [
    "# Class 5.1"
   ]
  },
  {
   "cell_type": "markdown",
   "id": "opponent-producer",
   "metadata": {},
   "source": [
    "# Warmups 5.1"
   ]
  },
  {
   "cell_type": "markdown",
   "id": "prompt-shade",
   "metadata": {},
   "source": [
    "**W.1** Go through 1.4.1.2 Creating Arrays in the scipy lecture notes, including the exercises. http://scipy-lectures.org/intro/numpy/array_object.html#id2"
   ]
  },
  {
   "cell_type": "markdown",
   "id": "e6ecbeeb-4f4f-4048-97ab-abd329a099f7",
   "metadata": {},
   "source": [
    "### 1D"
   ]
  },
  {
   "cell_type": "code",
   "execution_count": 28,
   "id": "cdf5fb71-da8f-4109-bbbd-65c7e0724dab",
   "metadata": {
    "tags": []
   },
   "outputs": [
    {
     "data": {
      "text/plain": [
       "array([0, 1, 2, 3])"
      ]
     },
     "execution_count": 28,
     "metadata": {},
     "output_type": "execute_result"
    }
   ],
   "source": [
    "list = np.array([0, 1, 2, 3])\n",
    "list"
   ]
  },
  {
   "cell_type": "code",
   "execution_count": 29,
   "id": "ce2fe425-539e-4fa5-b48a-20b996a6a4de",
   "metadata": {
    "tags": []
   },
   "outputs": [
    {
     "data": {
      "text/plain": [
       "1"
      ]
     },
     "execution_count": 29,
     "metadata": {},
     "output_type": "execute_result"
    }
   ],
   "source": [
    "list.ndim"
   ]
  },
  {
   "cell_type": "code",
   "execution_count": 30,
   "id": "5f6addba-84d9-4045-8087-cb7299b7d742",
   "metadata": {
    "tags": []
   },
   "outputs": [
    {
     "data": {
      "text/plain": [
       "(4,)"
      ]
     },
     "execution_count": 30,
     "metadata": {},
     "output_type": "execute_result"
    }
   ],
   "source": [
    "list.shape"
   ]
  },
  {
   "cell_type": "code",
   "execution_count": 31,
   "id": "f855228d-f2ef-459e-8a0f-da496f7b29d0",
   "metadata": {
    "tags": []
   },
   "outputs": [
    {
     "data": {
      "text/plain": [
       "4"
      ]
     },
     "execution_count": 31,
     "metadata": {},
     "output_type": "execute_result"
    }
   ],
   "source": [
    "len(list)"
   ]
  },
  {
   "cell_type": "markdown",
   "id": "dc9bece8-197c-46b7-85d0-736b389f1698",
   "metadata": {},
   "source": [
    "### 2D & 3D"
   ]
  },
  {
   "cell_type": "code",
   "execution_count": 32,
   "id": "ca33f889-6f86-4aa5-940b-4dba984ebce4",
   "metadata": {
    "tags": []
   },
   "outputs": [
    {
     "data": {
      "text/plain": [
       "array([[0, 1, 2],\n",
       "       [3, 4, 5]])"
      ]
     },
     "execution_count": 32,
     "metadata": {},
     "output_type": "execute_result"
    }
   ],
   "source": [
    "list_2 = np.array([[0, 1, 2], [3, 4, 5]])\n",
    "list_2"
   ]
  },
  {
   "cell_type": "code",
   "execution_count": 33,
   "id": "84f798a6-39cc-4543-ac3a-6b9a6232cffd",
   "metadata": {
    "tags": []
   },
   "outputs": [
    {
     "data": {
      "text/plain": [
       "2"
      ]
     },
     "execution_count": 33,
     "metadata": {},
     "output_type": "execute_result"
    }
   ],
   "source": [
    "list_2.ndim"
   ]
  },
  {
   "cell_type": "code",
   "execution_count": 34,
   "id": "d2c0288e-c3fe-4b43-b326-c788de0d06f9",
   "metadata": {
    "tags": []
   },
   "outputs": [
    {
     "data": {
      "text/plain": [
       "(2, 3)"
      ]
     },
     "execution_count": 34,
     "metadata": {},
     "output_type": "execute_result"
    }
   ],
   "source": [
    "list_2.shape"
   ]
  },
  {
   "cell_type": "code",
   "execution_count": 35,
   "id": "f5afc656-6870-49b4-8571-c740e06d58aa",
   "metadata": {
    "tags": []
   },
   "outputs": [
    {
     "data": {
      "text/plain": [
       "2"
      ]
     },
     "execution_count": 35,
     "metadata": {},
     "output_type": "execute_result"
    }
   ],
   "source": [
    "len(list_2)"
   ]
  },
  {
   "cell_type": "markdown",
   "id": "470cbb56-dc5d-45c9-b7ee-037fbe20f6e6",
   "metadata": {},
   "source": [
    "### Exercise\n",
    "Create a simple two dimensional array. First, redo the examples from above. And then create your own: how about odd numbers counting backwards on the first row, and even numbers on the second?\n",
    "Use the functions len(), numpy.shape() on these arrays. How do they relate to each other? And to the ndim attribute of the arrays?"
   ]
  },
  {
   "cell_type": "code",
   "execution_count": 36,
   "id": "a998f2a2-6a42-426e-a9ae-c63b2fc3477c",
   "metadata": {
    "tags": []
   },
   "outputs": [
    {
     "data": {
      "text/plain": [
       "array([[ 9,  7,  5,  3,  1],\n",
       "       [10,  8,  6,  4,  2]])"
      ]
     },
     "execution_count": 36,
     "metadata": {},
     "output_type": "execute_result"
    }
   ],
   "source": [
    "a = np.array([[9, 7, 5, 3, 1], [10, 8, 6, 4, 2]])\n",
    "a"
   ]
  },
  {
   "cell_type": "code",
   "execution_count": 37,
   "id": "aff7aace-3236-4c33-b840-abafbfa357ea",
   "metadata": {
    "tags": []
   },
   "outputs": [
    {
     "data": {
      "text/plain": [
       "2"
      ]
     },
     "execution_count": 37,
     "metadata": {},
     "output_type": "execute_result"
    }
   ],
   "source": [
    "len(a)"
   ]
  },
  {
   "cell_type": "code",
   "execution_count": 38,
   "id": "6b6e6fda-8fcb-453b-9897-0c639bfc5484",
   "metadata": {
    "tags": []
   },
   "outputs": [
    {
     "data": {
      "text/plain": [
       "(2, 5)"
      ]
     },
     "execution_count": 38,
     "metadata": {},
     "output_type": "execute_result"
    }
   ],
   "source": [
    "a.shape"
   ]
  },
  {
   "cell_type": "code",
   "execution_count": 39,
   "id": "d49b2487-788d-49cf-a414-cdfe973ea602",
   "metadata": {
    "tags": []
   },
   "outputs": [
    {
     "data": {
      "text/plain": [
       "2"
      ]
     },
     "execution_count": 39,
     "metadata": {},
     "output_type": "execute_result"
    }
   ],
   "source": [
    "a.ndim"
   ]
  },
  {
   "cell_type": "markdown",
   "id": "a34b2fa8-3c0f-46e4-83e6-13cd5db0af3b",
   "metadata": {},
   "source": [
    "'len()' tells the size of the first dimension, whilst 'shape()' returns the number of rows and columns of the array. Also the 'ndim' returns the number of dimensions of the array."
   ]
  },
  {
   "cell_type": "markdown",
   "id": "8c254cf3-ba0a-404d-9ffc-557ba433f27a",
   "metadata": {},
   "source": [
    "### Evenly spaced arrays"
   ]
  },
  {
   "cell_type": "code",
   "execution_count": 40,
   "id": "48cabb51-d236-4ac9-9bf6-e9b30501f19f",
   "metadata": {
    "tags": []
   },
   "outputs": [
    {
     "data": {
      "text/plain": [
       "array([0, 1, 2, 3, 4, 5, 6, 7, 8, 9])"
      ]
     },
     "execution_count": 40,
     "metadata": {},
     "output_type": "execute_result"
    }
   ],
   "source": [
    "e1 = np.arange(10)\n",
    "e1"
   ]
  },
  {
   "cell_type": "code",
   "execution_count": 41,
   "id": "b7560d1b-2dd1-4dbe-b6a8-904f7ba386ca",
   "metadata": {
    "tags": []
   },
   "outputs": [
    {
     "data": {
      "text/plain": [
       "array([1, 3, 5, 7])"
      ]
     },
     "execution_count": 41,
     "metadata": {},
     "output_type": "execute_result"
    }
   ],
   "source": [
    "e2 = np.arange(1, 9, 2) # start, end (exclusive), step\n",
    "e2"
   ]
  },
  {
   "cell_type": "markdown",
   "id": "db6dfccb-1bd6-4044-9e82-30294c18e72c",
   "metadata": {},
   "source": [
    "### By number of points"
   ]
  },
  {
   "cell_type": "code",
   "execution_count": 42,
   "id": "de0cf384-d98b-4ab9-be00-a5407d2b5279",
   "metadata": {
    "tags": []
   },
   "outputs": [
    {
     "data": {
      "text/plain": [
       "array([0. , 0.2, 0.4, 0.6, 0.8, 1. ])"
      ]
     },
     "execution_count": 42,
     "metadata": {},
     "output_type": "execute_result"
    }
   ],
   "source": [
    "e3 = np.linspace(0, 1, 6) # start, end, num-points\n",
    "e3"
   ]
  },
  {
   "cell_type": "code",
   "execution_count": 43,
   "id": "2557e80a-f3ae-4ead-ac11-d8e9312f938d",
   "metadata": {
    "tags": []
   },
   "outputs": [
    {
     "data": {
      "text/plain": [
       "array([0. , 0.2, 0.4, 0.6, 0.8])"
      ]
     },
     "execution_count": 43,
     "metadata": {},
     "output_type": "execute_result"
    }
   ],
   "source": [
    "e4 = np.linspace(0, 1, 5, endpoint = False) #end is not included in list \n",
    "e4"
   ]
  },
  {
   "cell_type": "markdown",
   "id": "db7d87af-f535-4298-a486-3750efae2f0b",
   "metadata": {},
   "source": [
    "### Common Arrays"
   ]
  },
  {
   "cell_type": "code",
   "execution_count": 44,
   "id": "a2e73934-c9ac-463a-a710-f3333d231de7",
   "metadata": {
    "tags": []
   },
   "outputs": [
    {
     "data": {
      "text/plain": [
       "array([[1., 1., 1.],\n",
       "       [1., 1., 1.],\n",
       "       [1., 1., 1.]])"
      ]
     },
     "execution_count": 44,
     "metadata": {},
     "output_type": "execute_result"
    }
   ],
   "source": [
    "e5 = np.ones((3,3)) #must be double brackets\n",
    "e5"
   ]
  },
  {
   "cell_type": "code",
   "execution_count": 45,
   "id": "1ca7ce10-3bb0-46eb-a69e-33fff331c19c",
   "metadata": {
    "tags": []
   },
   "outputs": [
    {
     "data": {
      "text/plain": [
       "array([[0., 0.],\n",
       "       [0., 0.]])"
      ]
     },
     "execution_count": 45,
     "metadata": {},
     "output_type": "execute_result"
    }
   ],
   "source": [
    "e6 = np.zeros((2, 2))\n",
    "e6"
   ]
  },
  {
   "cell_type": "code",
   "execution_count": 46,
   "id": "81b1a438-96e8-4862-8899-866ce5ece025",
   "metadata": {
    "tags": []
   },
   "outputs": [
    {
     "data": {
      "text/plain": [
       "array([[1., 0., 0.],\n",
       "       [0., 1., 0.],\n",
       "       [0., 0., 1.]])"
      ]
     },
     "execution_count": 46,
     "metadata": {},
     "output_type": "execute_result"
    }
   ],
   "source": [
    "e7 = np.eye(3)\n",
    "e7"
   ]
  },
  {
   "cell_type": "code",
   "execution_count": 47,
   "id": "93a9f823-7d6e-4675-b949-7e813f9011ba",
   "metadata": {
    "tags": []
   },
   "outputs": [
    {
     "data": {
      "text/plain": [
       "array([[1, 0, 0, 0],\n",
       "       [0, 2, 0, 0],\n",
       "       [0, 0, 3, 0],\n",
       "       [0, 0, 0, 4]])"
      ]
     },
     "execution_count": 47,
     "metadata": {},
     "output_type": "execute_result"
    }
   ],
   "source": [
    "e8 = np.diag(np.array([1, 2, 3, 4]))\n",
    "e8"
   ]
  },
  {
   "cell_type": "markdown",
   "id": "7ff103ec-2607-46b9-83b0-84faf698b217",
   "metadata": {},
   "source": [
    "### random numbers"
   ]
  },
  {
   "cell_type": "code",
   "execution_count": 48,
   "id": "9a49c9d8-4f05-495f-bc93-b240dfd34b5c",
   "metadata": {
    "tags": []
   },
   "outputs": [
    {
     "data": {
      "text/plain": [
       "array([0.27259261, 0.27646426, 0.80187218, 0.95813935])"
      ]
     },
     "execution_count": 48,
     "metadata": {},
     "output_type": "execute_result"
    }
   ],
   "source": [
    "e9 = np.random.rand(4)\n",
    "e9"
   ]
  },
  {
   "cell_type": "code",
   "execution_count": 49,
   "id": "76e86fe5-574e-4cbb-a900-66ea88e830b8",
   "metadata": {
    "tags": []
   },
   "outputs": [
    {
     "data": {
      "text/plain": [
       "array([-0.33060682,  0.87412791,  2.00254961,  0.01086208])"
      ]
     },
     "execution_count": 49,
     "metadata": {},
     "output_type": "execute_result"
    }
   ],
   "source": [
    "e10 = np.random.randn(4)\n",
    "e10"
   ]
  },
  {
   "cell_type": "code",
   "execution_count": 50,
   "id": "5022bbdc-b1fe-4903-8120-0c801562d297",
   "metadata": {
    "tags": []
   },
   "outputs": [],
   "source": [
    "np.random.seed(1234) "
   ]
  },
  {
   "cell_type": "code",
   "execution_count": 51,
   "id": "11c0e686-28e1-47de-996d-97fd6a4d3541",
   "metadata": {
    "tags": []
   },
   "outputs": [
    {
     "data": {
      "text/plain": [
       "array([0.19151945, 0.62210877, 0.43772774, 0.78535858, 0.77997581])"
      ]
     },
     "execution_count": 51,
     "metadata": {},
     "output_type": "execute_result"
    }
   ],
   "source": [
    "e11 = np.random.rand(5)\n",
    "e11"
   ]
  },
  {
   "cell_type": "code",
   "execution_count": 52,
   "id": "e14ae00d-4a96-474a-8c17-bf8c731d0ad0",
   "metadata": {
    "tags": []
   },
   "outputs": [
    {
     "data": {
      "text/plain": [
       "array([[1., 0., 0.],\n",
       "       [0., 1., 0.],\n",
       "       [0., 0., 1.]])"
      ]
     },
     "execution_count": 52,
     "metadata": {},
     "output_type": "execute_result"
    }
   ],
   "source": [
    "e12 = np.empty((3, 3))\n",
    "e12"
   ]
  },
  {
   "cell_type": "markdown",
   "id": "f10d0fd3-7487-4c6e-a680-faf39eeab3ca",
   "metadata": {},
   "source": [
    "The function np.empty() from the NumPy library creates a new array without initializing its entries to any specific values. The array will contain whatever values happen to be in memory at the time."
   ]
  },
  {
   "cell_type": "markdown",
   "id": "mobile-swaziland",
   "metadata": {},
   "source": [
    "# Lecture 5.1"
   ]
  },
  {
   "cell_type": "markdown",
   "id": "headed-flexibility",
   "metadata": {},
   "source": [
    "### Agenda:\n",
    "\n",
    "- Programming questions\n",
    "- Examples of for loops"
   ]
  },
  {
   "cell_type": "markdown",
   "id": "heated-start",
   "metadata": {},
   "source": []
  },
  {
   "cell_type": "markdown",
   "id": "buried-mention",
   "metadata": {},
   "source": [
    "# Lab 5.1"
   ]
  },
  {
   "cell_type": "markdown",
   "id": "meaningful-carnival",
   "metadata": {},
   "source": [
    "**E.1** Complete Lab 4.2 if you haven't allready\n"
   ]
  },
  {
   "cell_type": "markdown",
   "id": "superior-hybrid",
   "metadata": {},
   "source": [
    "**E.2** Complete intermediate python chapter 5: Case study on hacker statistics\n"
   ]
  },
  {
   "cell_type": "markdown",
   "id": "formed-adult",
   "metadata": {},
   "source": [
    "**E.3** Make notes for yourself on progamming tecniques and commands you learned in the datacamp chapter above, including examples, comments and explainitory text. You can do this here or in a separate notebook that you link to here. Basically, you are making a cheat sheet for yourself."
   ]
  },
  {
   "cell_type": "markdown",
   "id": "aa992c3f-042f-4ea4-8744-a56a320cb637",
   "metadata": {},
   "source": [
    "### My cheat sheet"
   ]
  },
  {
   "cell_type": "markdown",
   "id": "f06454ed-f60a-4e85-b1b5-647398f11759",
   "metadata": {},
   "source": [
    "for i in range(1, 4): # outter loop\n",
    "    for j in range(1, 4): # inner loop\n",
    "        print(i, j)\n",
    "        \n",
    "Note that python always finishes the inner loop before the outter loop. See output.\n",
    "\n",
    "for i in range(1, 4): # outter loop\n",
    "    for j in range(1, 5): # inner loop\n",
    "        for k in range(1, 3): #inner inner loop\n",
    "            print(i, j, k)\n",
    "\n",
    "\n",
    "np.random.seed(123)\n",
    "outcomes = []\n",
    "for x in range(10) :\n",
    "    coin = np.random.randint(0, 2)\n",
    "    if coin == 0 :\n",
    "        outcomes.append(\"heads\")\n",
    "    else :\n",
    "        outcomes.append(\"tails\")\n",
    "print(tails)\n",
    "\n",
    "#Initialize random_walk\n",
    "random_walk = [0]\n",
    "\n",
    "NB: Complete the loop\n",
    "for x in range(100) :\n",
    "    # Set step: last element in random_walk\n",
    "    step = random_walk[-1]\n",
    "\n",
    "    # Roll the dice\n",
    "    dice = np.random.randint(1,7)\n",
    "\n",
    "    # Determine next step\n",
    "    if dice <= 2:\n",
    "        step = step - 1\n",
    "    elif dice <= 5:\n",
    "        step = step + 1\n",
    "    else:\n",
    "        step = step + np.random.randint(1,7)\n",
    "\n",
    "    # append next_step to random_walk\n",
    "    random_walk.append(step)\n",
    "\n",
    "NB: Print random_walk\n",
    "print(random_walk)\n",
    "\n",
    "for x in range(100) :\n",
    "    step = random_walk[-1]\n",
    "    dice = np.random.randint(1,7)\n",
    "\n",
    "    if dice <= 2:\n",
    "        step = max(0, step - 1)\n",
    "    elif dice <= 5:\n",
    "        step = step + 1\n",
    "    else:\n",
    "        step = step + np.random.randint(1,7)\n",
    "\n",
    "    random_walk.append(step)\n",
    "\n",
    "\n",
    "\n",
    "Plot random_walk\n",
    "plt.plot(random_walk)\n",
    "\n",
    "Show the plot\n",
    "plt.show()\n",
    "\n",
    "all_walks = []\n",
    "for i in range(5) :\n",
    "    random_walk = [0]\n",
    "    for x in range(100) :\n",
    "        step = random_walk[-1]\n",
    "        dice = np.random.randint(1,7)\n",
    "        if dice <= 2:\n",
    "            step = max(0, step - 1)\n",
    "        elif dice <= 5:\n",
    "            step = step + 1\n",
    "        else:\n",
    "            step = step + np.random.randint(1,7)\n",
    "        random_walk.append(step)\n",
    "    all_walks.append(random_walk)\n",
    "\n",
    " Convert all_walks to NumPy array: np_aw\n",
    "np_aw = np.array(all_walks)\n",
    "\n",
    " Plot np_aw and show\n",
    "plt.plot(np_aw)\n",
    "plt.show()\n",
    "\n",
    " Clear the figure\n",
    "plt.clf()\n",
    "\n",
    " Transpose np_aw: np_aw_t\n",
    "np_aw_t = np.transpose(np_aw)\n",
    "\n",
    " Plot np_aw_t and show\n",
    "plt.plot(np_aw_t)\n",
    "plt.show()\n",
    "\n",
    "plt.clf()\n",
    "\n",
    " Simulate random walk 20 times\n",
    "all_walks = []\n",
    "for i in range(20) :\n",
    "    random_walk = [0]\n",
    "    for x in range(100) :\n",
    "        step = random_walk[-1]\n",
    "        dice = np.random.randint(1,7)\n",
    "        if dice <= 2:\n",
    "            step = max(0, step - 1)\n",
    "        elif dice <= 5:\n",
    "            step = step + 1\n",
    "        else:\n",
    "            step = step + np.random.randint(1,7)\n",
    "\n",
    "        # Implement clumsiness\n",
    "        if np.random.rand() <= 0.005 :\n",
    "            step = 0\n",
    "\n",
    "        random_walk.append(step)\n",
    "    all_walks.append(random_walk)\n",
    "\n",
    " Create and plot np_aw_t\n",
    "np_aw_t = np.transpose(np.array(all_walks))\n",
    "plt.plot(np_aw_t)\n",
    "plt.show()\n",
    "\n",
    " Simulate random walk 500 times\n",
    "all_walks = []\n",
    "for i in range(500) :\n",
    "    random_walk = [0]\n",
    "    for x in range(100) :\n",
    "        step = random_walk[-1]\n",
    "        dice = np.random.randint(1,7)\n",
    "        if dice <= 2:\n",
    "            step = max(0, step - 1)\n",
    "        elif dice <= 5:\n",
    "            step = step + 1\n",
    "        else:\n",
    "            step = step + np.random.randint(1,7)\n",
    "        if np.random.rand() <= 0.001 :\n",
    "            step = 0\n",
    "        random_walk.append(step)\n",
    "    all_walks.append(random_walk)\n",
    "\n",
    " Create and plot np_aw_t\n",
    "np_aw_t = np.transpose(np.array(all_walks))\n",
    "\n",
    " Select last row from np_aw_t: ends\n",
    "ends = np_aw_t[-1, : ]\n",
    "\n",
    " Plot histogram of ends, display plot\n",
    "plt.hist(ends)\n",
    "plt.show()\n",
    "\n",
    "\n",
    "Count steps greater t\n",
    "count_steps = np.sum((ends >= 60)/500)\n",
    "count_steps"
   ]
  },
  {
   "cell_type": "markdown",
   "id": "composed-neighbor",
   "metadata": {},
   "source": [
    "### Congratulations! অভিনন্দন 恭喜 ¡Felicidades! You finished Intermediate Python!"
   ]
  },
  {
   "cell_type": "code",
   "execution_count": null,
   "id": "active-drinking",
   "metadata": {},
   "outputs": [],
   "source": []
  }
 ],
 "metadata": {
  "kernelspec": {
   "display_name": "Python 3 (ipykernel)",
   "language": "python",
   "name": "python3"
  },
  "language_info": {
   "codemirror_mode": {
    "name": "ipython",
    "version": 3
   },
   "file_extension": ".py",
   "mimetype": "text/x-python",
   "name": "python",
   "nbconvert_exporter": "python",
   "pygments_lexer": "ipython3",
   "version": "3.11.5"
  }
 },
 "nbformat": 4,
 "nbformat_minor": 5
}
