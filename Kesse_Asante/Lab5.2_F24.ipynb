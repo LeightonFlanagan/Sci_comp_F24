{
 "cells": [
  {
   "cell_type": "markdown",
   "id": "existing-kelly",
   "metadata": {},
   "source": [
    "Name: Kesse Asante"
   ]
  },
  {
   "cell_type": "markdown",
   "id": "functioning-current",
   "metadata": {},
   "source": [
    "Labpartner(s)"
   ]
  },
  {
   "cell_type": "code",
   "execution_count": 1,
   "id": "republican-appearance",
   "metadata": {
    "tags": []
   },
   "outputs": [],
   "source": [
    "#import statements go here\n",
    "import numpy as np\n",
    "import matplotlib.pyplot as plt\n",
    "import pandas as pd \n",
    "import xarray as xr "
   ]
  },
  {
   "cell_type": "markdown",
   "id": "rising-queue",
   "metadata": {},
   "source": [
    "# Class 5.2"
   ]
  },
  {
   "cell_type": "markdown",
   "id": "powerful-lyric",
   "metadata": {},
   "source": [
    "In this lab you will learn about functions, and apply this to your datasets. Next week we will have present your work day again, see below for details. Hopefully the material is building to the point where it is not all foriegn and you will feel a bit more confident."
   ]
  },
  {
   "cell_type": "markdown",
   "id": "contrary-communications",
   "metadata": {},
   "source": [
    "# Warmups 5.2"
   ]
  },
  {
   "cell_type": "markdown",
   "id": "e016e8c3-69ef-40f4-a99d-6f9c92044dab",
   "metadata": {},
   "source": [
    "Let's practice for loops and logical control"
   ]
  },
  {
   "cell_type": "markdown",
   "id": "critical-cooperation",
   "metadata": {},
   "source": [
    "**W.1** Complete practice python (practicepython.org) Exercise 4:\n",
    "\n",
    "Create a program that asks the user for a number and then prints out a list of all the divisors of that number. (If you don’t know what a divisor is, it is a number that divides evenly into another number. For example, 13 is a divisor of 26 because 26 / 13 has no remainder.)"
   ]
  },
  {
   "cell_type": "code",
   "execution_count": 7,
   "id": "stone-majority",
   "metadata": {
    "tags": []
   },
   "outputs": [
    {
     "name": "stdin",
     "output_type": "stream",
     "text": [
      "Choose a number to divide:  26\n"
     ]
    },
    {
     "name": "stdout",
     "output_type": "stream",
     "text": [
      "[1, 2, 13, 26]\n"
     ]
    }
   ],
   "source": [
    "Number = int(input(\"Choose a number to divide: \"))\n",
    "List = list(range(1, Number+1))\n",
    "Divisorlist = [] #always inintialize\n",
    "for num in List:\n",
    "    if Number % num == 0:\n",
    "        Divisorlist.append(num)\n",
    "        \n",
    "print(Divisorlist)"
   ]
  },
  {
   "cell_type": "markdown",
   "id": "3712c86b-643c-4778-b6be-cea2d71727f2",
   "metadata": {},
   "source": [
    "**W.2** Complete practice python Exercise 5: \n",
    "\n",
    "Take two lists, say for example these two:\n",
    "\n",
    "  a = [1, 1, 2, 3, 5, 8, 13, 21, 34, 55, 89]\n",
    "\n",
    "  b = [1, 2, 3, 4, 5, 6, 7, 8, 9, 10, 11, 12, 13]\n",
    "\n",
    "and write a program that returns a list that contains only the elements that are common between the lists (without duplicates). Make sure your program works on two lists of different sizes.\n",
    "\n",
    "Extras:\n",
    "\n",
    "Randomly generate two lists to test this\n",
    "\n",
    "Write this in one line of Python (don’t worry if you can’t figure this out at this point)"
   ]
  },
  {
   "cell_type": "code",
   "execution_count": 9,
   "id": "fdf675cc-c252-4981-be92-1db2f54150d5",
   "metadata": {
    "tags": []
   },
   "outputs": [
    {
     "name": "stdout",
     "output_type": "stream",
     "text": [
      "[1, 2, 3, 5, 8, 13]\n"
     ]
    }
   ],
   "source": [
    "a = [1, 1, 2, 3, 5, 8, 13, 21, 34, 55, 89]\n",
    "b = [1, 2, 3, 4, 5, 6, 7, 8, 9, 10, 11, 12, 13]\n",
    "print(list(set(a) & set(b)))"
   ]
  },
  {
   "cell_type": "code",
   "execution_count": 26,
   "id": "bacf10bd-008a-428c-864d-4ba23fa6f0a3",
   "metadata": {
    "tags": []
   },
   "outputs": [
    {
     "name": "stdout",
     "output_type": "stream",
     "text": [
      "[]\n"
     ]
    }
   ],
   "source": [
    "#random list\n",
    "c = np.random.rand(10)\n",
    "d = np.random.rand(12)\n",
    "print(list(set(c) & set(d)))"
   ]
  },
  {
   "cell_type": "markdown",
   "id": "activated-arbitration",
   "metadata": {},
   "source": [
    "# Lecture 5.2\n",
    "\n",
    "### Agenda:\n",
    "\n",
    "- Questions\n",
    "- Functions!\n"
   ]
  },
  {
   "cell_type": "markdown",
   "id": "effective-career",
   "metadata": {},
   "source": [
    "### Questions"
   ]
  },
  {
   "cell_type": "code",
   "execution_count": null,
   "id": "suffering-selection",
   "metadata": {},
   "outputs": [],
   "source": []
  },
  {
   "cell_type": "markdown",
   "id": "photographic-injection",
   "metadata": {},
   "source": [
    "### Functions\n",
    "\n",
    "Functions are super-useful for doing repetative tasks. You have been using pre-defined functions constantly, when you define arrays, make a plot, or analyse data. Now you are going to learn to write your own.\n",
    "\n",
    "For more information on functions and documenting:\n",
    "- http://scipy-lectures.org/intro/language/functions.html?highlight=functions\n",
    "- https://realpython.com/documenting-python-code/\n",
    "\n",
    "\n",
    "Basic syntax:"
   ]
  },
  {
   "cell_type": "code",
   "execution_count": 27,
   "id": "absolute-canada",
   "metadata": {
    "tags": []
   },
   "outputs": [],
   "source": [
    "# first you define the function\n",
    "\n",
    "def function_name():\n",
    "    # some code that does something\n",
    "    print('Inside the function')"
   ]
  },
  {
   "cell_type": "code",
   "execution_count": 28,
   "id": "unable-personal",
   "metadata": {
    "tags": []
   },
   "outputs": [
    {
     "name": "stdout",
     "output_type": "stream",
     "text": [
      "Inside the function\n"
     ]
    }
   ],
   "source": [
    "# then you call the function\n",
    "function_name()"
   ]
  },
  {
   "cell_type": "markdown",
   "id": "about-voice",
   "metadata": {},
   "source": [
    "Note that defined funtions show up using whos"
   ]
  },
  {
   "cell_type": "code",
   "execution_count": 29,
   "id": "sound-intellectual",
   "metadata": {
    "tags": []
   },
   "outputs": [
    {
     "name": "stdout",
     "output_type": "stream",
     "text": [
      "Variable        Type        Data/Info\n",
      "-------------------------------------\n",
      "Divisorlist     list        n=4\n",
      "List            list        n=26\n",
      "Number          int         26\n",
      "a               list        n=11\n",
      "b               list        n=13\n",
      "c               ndarray     10: 10 elems, type `float64`, 80 bytes\n",
      "d               ndarray     12: 12 elems, type `float64`, 96 bytes\n",
      "function_name   function    <function function_name at 0x176f16340>\n",
      "np              module      <module 'numpy' from '/Us<...>kages/numpy/__init__.py'>\n",
      "num             int         26\n",
      "pd              module      <module 'pandas' from '/U<...>ages/pandas/__init__.py'>\n",
      "plt             module      <module 'matplotlib.pyplo<...>es/matplotlib/pyplot.py'>\n",
      "xr              module      <module 'xarray' from '/U<...>ages/xarray/__init__.py'>\n"
     ]
    }
   ],
   "source": [
    "whos"
   ]
  },
  {
   "cell_type": "markdown",
   "id": "standing-constant",
   "metadata": {},
   "source": [
    "That's a really useless function, let's make a better one."
   ]
  },
  {
   "cell_type": "code",
   "execution_count": 30,
   "id": "voluntary-particle",
   "metadata": {
    "tags": []
   },
   "outputs": [],
   "source": [
    "# usually you want to pass a varible of some sort to the function to manipulate\n",
    "\n",
    "def circle_area(radius):\n",
    "    area = 3.14*radius**2\n",
    "    return area   # the return statement means that the function will return that variable"
   ]
  },
  {
   "cell_type": "code",
   "execution_count": 31,
   "id": "noble-right",
   "metadata": {
    "tags": []
   },
   "outputs": [
    {
     "data": {
      "text/plain": [
       "78.5"
      ]
     },
     "execution_count": 31,
     "metadata": {},
     "output_type": "execute_result"
    }
   ],
   "source": [
    "circle_area(5)"
   ]
  },
  {
   "cell_type": "markdown",
   "id": "little-numbers",
   "metadata": {},
   "source": [
    "What happens if I don't add the required input?"
   ]
  },
  {
   "cell_type": "markdown",
   "id": "1cb18af9-34ba-4361-a537-7c6332e446c2",
   "metadata": {},
   "source": [
    "Answer: You get an error."
   ]
  },
  {
   "cell_type": "code",
   "execution_count": 38,
   "id": "isolated-turning",
   "metadata": {
    "tags": []
   },
   "outputs": [
    {
     "ename": "TypeError",
     "evalue": "circle_area() missing 1 required positional argument: 'radius'",
     "output_type": "error",
     "traceback": [
      "\u001b[0;31m---------------------------------------------------------------------------\u001b[0m",
      "\u001b[0;31mTypeError\u001b[0m                                 Traceback (most recent call last)",
      "Cell \u001b[0;32mIn[38], line 1\u001b[0m\n\u001b[0;32m----> 1\u001b[0m circle_area()\n",
      "\u001b[0;31mTypeError\u001b[0m: circle_area() missing 1 required positional argument: 'radius'"
     ]
    }
   ],
   "source": [
    "circle_area()"
   ]
  },
  {
   "cell_type": "markdown",
   "id": "removed-black",
   "metadata": {},
   "source": [
    "What happens if I omit the return statement?"
   ]
  },
  {
   "cell_type": "markdown",
   "id": "0456f999-3fd9-4599-bee9-907aa6237ec0",
   "metadata": {},
   "source": [
    "Amswer: Python gives you no output."
   ]
  },
  {
   "cell_type": "code",
   "execution_count": 39,
   "id": "traditional-drain",
   "metadata": {
    "tags": []
   },
   "outputs": [],
   "source": [
    "def circle_area2(radius):\n",
    "    area = 3.14*radius**2"
   ]
  },
  {
   "cell_type": "code",
   "execution_count": 40,
   "id": "falling-committee",
   "metadata": {
    "tags": []
   },
   "outputs": [],
   "source": [
    "circle_area2(5)"
   ]
  },
  {
   "cell_type": "markdown",
   "id": "retired-converter",
   "metadata": {},
   "source": [
    "How do I save the function output to a variable?"
   ]
  },
  {
   "cell_type": "code",
   "execution_count": 44,
   "id": "c6841954-645a-4f73-a63b-7011305dc437",
   "metadata": {
    "tags": []
   },
   "outputs": [
    {
     "data": {
      "text/plain": [
       "314.0"
      ]
     },
     "execution_count": 44,
     "metadata": {},
     "output_type": "execute_result"
    }
   ],
   "source": [
    "# To save the function to a variable\n",
    "radius = 10\n",
    "area_of_circle = circle_area(radius)\n",
    "area_of_circle"
   ]
  },
  {
   "cell_type": "markdown",
   "id": "enabling-mainland",
   "metadata": {},
   "source": [
    "Does the area variable inside the function exist outside of it?"
   ]
  },
  {
   "cell_type": "markdown",
   "id": "f91f2cdd-40fd-43e6-b330-69841f10ed03",
   "metadata": {},
   "source": [
    "Answer: NO"
   ]
  },
  {
   "cell_type": "code",
   "execution_count": 45,
   "id": "informative-wallpaper",
   "metadata": {
    "tags": []
   },
   "outputs": [
    {
     "name": "stdout",
     "output_type": "stream",
     "text": [
      "Variable         Type        Data/Info\n",
      "--------------------------------------\n",
      "Divisorlist      list        n=4\n",
      "List             list        n=26\n",
      "Number           int         26\n",
      "a                list        n=11\n",
      "area_of_circle   float       314.0\n",
      "b                list        n=13\n",
      "c                ndarray     10: 10 elems, type `float64`, 80 bytes\n",
      "circle_area      function    <function circle_area at 0x176f162a0>\n",
      "circle_area2     function    <function circle_area2 at 0x176f17380>\n",
      "d                ndarray     12: 12 elems, type `float64`, 96 bytes\n",
      "function_name    function    <function function_name at 0x176f16340>\n",
      "np               module      <module 'numpy' from '/Us<...>kages/numpy/__init__.py'>\n",
      "num              int         26\n",
      "pd               module      <module 'pandas' from '/U<...>ages/pandas/__init__.py'>\n",
      "plt              module      <module 'matplotlib.pyplo<...>es/matplotlib/pyplot.py'>\n",
      "radius           int         10\n",
      "xr               module      <module 'xarray' from '/U<...>ages/xarray/__init__.py'>\n"
     ]
    }
   ],
   "source": [
    "whos"
   ]
  },
  {
   "cell_type": "code",
   "execution_count": 46,
   "id": "productive-ethiopia",
   "metadata": {
    "tags": []
   },
   "outputs": [
    {
     "ename": "NameError",
     "evalue": "name 'area' is not defined",
     "output_type": "error",
     "traceback": [
      "\u001b[0;31m---------------------------------------------------------------------------\u001b[0m",
      "\u001b[0;31mNameError\u001b[0m                                 Traceback (most recent call last)",
      "Cell \u001b[0;32mIn[46], line 1\u001b[0m\n\u001b[0;32m----> 1\u001b[0m area\n",
      "\u001b[0;31mNameError\u001b[0m: name 'area' is not defined"
     ]
    }
   ],
   "source": [
    "area"
   ]
  },
  {
   "cell_type": "markdown",
   "id": "arctic-vinyl",
   "metadata": {},
   "source": [
    "Note I also could have made my function like this:"
   ]
  },
  {
   "cell_type": "code",
   "execution_count": 47,
   "id": "visible-annex",
   "metadata": {
    "tags": []
   },
   "outputs": [],
   "source": [
    "def circle_area4(radius):\n",
    "    return 3.14*radius**2"
   ]
  },
  {
   "cell_type": "code",
   "execution_count": 48,
   "id": "narrow-forward",
   "metadata": {
    "tags": []
   },
   "outputs": [
    {
     "data": {
      "text/plain": [
       "78.5"
      ]
     },
     "execution_count": 48,
     "metadata": {},
     "output_type": "execute_result"
    }
   ],
   "source": [
    "circle_area4(5)"
   ]
  },
  {
   "cell_type": "code",
   "execution_count": 49,
   "id": "plain-exchange",
   "metadata": {
    "tags": []
   },
   "outputs": [
    {
     "data": {
      "text/plain": [
       "78.5"
      ]
     },
     "execution_count": 49,
     "metadata": {},
     "output_type": "execute_result"
    }
   ],
   "source": [
    "circle_area4(-5)"
   ]
  },
  {
   "cell_type": "markdown",
   "id": "neither-forty",
   "metadata": {},
   "source": [
    "### Parsing for bad input"
   ]
  },
  {
   "cell_type": "markdown",
   "id": "short-springfield",
   "metadata": {},
   "source": [
    "Note my above function will work even if the input is negative, which is not reasonable. So I probably want to include a statement that checks if the input is weird."
   ]
  },
  {
   "cell_type": "code",
   "execution_count": 50,
   "id": "round-shirt",
   "metadata": {
    "tags": []
   },
   "outputs": [],
   "source": [
    "def circle_area5(radius):\n",
    "    # put in an if statement to handle bad inputs\n",
    "    if radius <= 0:\n",
    "        print(\"Error: radius must be a positive number\")\n",
    "        return\n",
    "    return 3.14*radius**2"
   ]
  },
  {
   "cell_type": "code",
   "execution_count": 51,
   "id": "151f3365-5f72-4913-8634-75cd7dd21ad2",
   "metadata": {
    "tags": []
   },
   "outputs": [
    {
     "name": "stdout",
     "output_type": "stream",
     "text": [
      "Error: radius must be a positive number\n"
     ]
    }
   ],
   "source": [
    "circle_area5(-1)"
   ]
  },
  {
   "cell_type": "markdown",
   "id": "virgin-tragedy",
   "metadata": {},
   "source": [
    "### Using packages within functions"
   ]
  },
  {
   "cell_type": "markdown",
   "id": "initial-public",
   "metadata": {},
   "source": [
    "We can also have import statements within a function, but this can slow the function down if the package is not loaded already"
   ]
  },
  {
   "cell_type": "code",
   "execution_count": 52,
   "id": "educated-saver",
   "metadata": {
    "tags": []
   },
   "outputs": [],
   "source": [
    "def circle_area6(radius):\n",
    "    if radius <= 0:\n",
    "        print('Error: radius needs to be positive')\n",
    "        return # exit the function\n",
    "    \n",
    "    import numpy as np\n",
    "    \n",
    "    return np.pi*radius**2"
   ]
  },
  {
   "cell_type": "code",
   "execution_count": 53,
   "id": "chronic-bookmark",
   "metadata": {
    "tags": []
   },
   "outputs": [
    {
     "data": {
      "text/plain": [
       "28.274333882308138"
      ]
     },
     "execution_count": 53,
     "metadata": {},
     "output_type": "execute_result"
    }
   ],
   "source": [
    "circle_area6(3) # note this is a much more accurate"
   ]
  },
  {
   "cell_type": "markdown",
   "id": "ethical-forest",
   "metadata": {},
   "source": [
    "We can have the function inputs have pre-defined default values, so that if you don't pass a variable it will use the default"
   ]
  },
  {
   "cell_type": "code",
   "execution_count": 54,
   "id": "brave-jamaica",
   "metadata": {
    "tags": []
   },
   "outputs": [],
   "source": [
    "def circle_area7(radius = 3):\n",
    "    import numpy as np #import numpy so we can use the more exact value of pi\n",
    "    \n",
    "    return np.pi*radius**2"
   ]
  },
  {
   "cell_type": "code",
   "execution_count": 57,
   "id": "mounted-independence",
   "metadata": {
    "tags": []
   },
   "outputs": [
    {
     "data": {
      "text/plain": [
       "28.274333882308138"
      ]
     },
     "execution_count": 57,
     "metadata": {},
     "output_type": "execute_result"
    }
   ],
   "source": [
    "circle_area7()"
   ]
  },
  {
   "cell_type": "code",
   "execution_count": 58,
   "id": "dense-review",
   "metadata": {
    "tags": []
   },
   "outputs": [
    {
     "data": {
      "text/plain": [
       "28.274333882308138"
      ]
     },
     "execution_count": 58,
     "metadata": {},
     "output_type": "execute_result"
    }
   ],
   "source": [
    "circle_area7() # no argument given, so uses radius = 3 by default"
   ]
  },
  {
   "cell_type": "markdown",
   "id": "renewable-twelve",
   "metadata": {},
   "source": [
    "Is numpy imported outside the function? Let's check"
   ]
  },
  {
   "cell_type": "code",
   "execution_count": 59,
   "id": "hidden-minutes",
   "metadata": {
    "tags": []
   },
   "outputs": [
    {
     "data": {
      "text/plain": [
       "3.141592653589793"
      ]
     },
     "execution_count": 59,
     "metadata": {},
     "output_type": "execute_result"
    }
   ],
   "source": [
    "np.pi"
   ]
  },
  {
   "cell_type": "code",
   "execution_count": 60,
   "id": "hazardous-florist",
   "metadata": {
    "tags": []
   },
   "outputs": [
    {
     "name": "stdout",
     "output_type": "stream",
     "text": [
      "Variable         Type        Data/Info\n",
      "--------------------------------------\n",
      "Divisorlist      list        n=4\n",
      "List             list        n=26\n",
      "Number           int         26\n",
      "a                list        n=11\n",
      "area_of_circle   float       314.0\n",
      "b                list        n=13\n",
      "c                ndarray     10: 10 elems, type `float64`, 80 bytes\n",
      "circle_area      function    <function circle_area at 0x176f162a0>\n",
      "circle_area2     function    <function circle_area2 at 0x176f17380>\n",
      "circle_area4     function    <function circle_area4 at 0x176f14a40>\n",
      "circle_area5     function    <function circle_area5 at 0x176f17c40>\n",
      "circle_area6     function    <function circle_area6 at 0x176f14680>\n",
      "circle_area7     function    <function circle_area7 at 0x176f15620>\n",
      "d                ndarray     12: 12 elems, type `float64`, 96 bytes\n",
      "function_name    function    <function function_name at 0x176f16340>\n",
      "np               module      <module 'numpy' from '/Us<...>kages/numpy/__init__.py'>\n",
      "num              int         26\n",
      "pd               module      <module 'pandas' from '/U<...>ages/pandas/__init__.py'>\n",
      "plt              module      <module 'matplotlib.pyplo<...>es/matplotlib/pyplot.py'>\n",
      "radius           int         10\n",
      "xr               module      <module 'xarray' from '/U<...>ages/xarray/__init__.py'>\n"
     ]
    }
   ],
   "source": [
    "whos"
   ]
  },
  {
   "cell_type": "code",
   "execution_count": 61,
   "id": "published-invalid",
   "metadata": {
    "tags": []
   },
   "outputs": [
    {
     "ename": "TypeError",
     "evalue": "unsupported operand type(s) for ** or pow(): 'list' and 'int'",
     "output_type": "error",
     "traceback": [
      "\u001b[0;31m---------------------------------------------------------------------------\u001b[0m",
      "\u001b[0;31mTypeError\u001b[0m                                 Traceback (most recent call last)",
      "Cell \u001b[0;32mIn[61], line 3\u001b[0m\n\u001b[1;32m      1\u001b[0m \u001b[38;5;66;03m# can our function handle lists? Let's check\u001b[39;00m\n\u001b[1;32m      2\u001b[0m r \u001b[38;5;241m=\u001b[39m [\u001b[38;5;241m1\u001b[39m,\u001b[38;5;241m2\u001b[39m,\u001b[38;5;241m3\u001b[39m]\n\u001b[0;32m----> 3\u001b[0m circle_area7(r)\n",
      "Cell \u001b[0;32mIn[54], line 4\u001b[0m, in \u001b[0;36mcircle_area7\u001b[0;34m(radius)\u001b[0m\n\u001b[1;32m      1\u001b[0m \u001b[38;5;28;01mdef\u001b[39;00m \u001b[38;5;21mcircle_area7\u001b[39m(radius \u001b[38;5;241m=\u001b[39m \u001b[38;5;241m3\u001b[39m):\n\u001b[1;32m      2\u001b[0m     \u001b[38;5;28;01mimport\u001b[39;00m \u001b[38;5;21;01mnumpy\u001b[39;00m \u001b[38;5;28;01mas\u001b[39;00m \u001b[38;5;21;01mnp\u001b[39;00m \u001b[38;5;66;03m#import numpy so we can use the more exact value of pi\u001b[39;00m\n\u001b[0;32m----> 4\u001b[0m     \u001b[38;5;28;01mreturn\u001b[39;00m np\u001b[38;5;241m.\u001b[39mpi\u001b[38;5;241m*\u001b[39mradius\u001b[38;5;241m*\u001b[39m\u001b[38;5;241m*\u001b[39m\u001b[38;5;241m2\u001b[39m\n",
      "\u001b[0;31mTypeError\u001b[0m: unsupported operand type(s) for ** or pow(): 'list' and 'int'"
     ]
    }
   ],
   "source": [
    "# can our function handle lists? Let's check\n",
    "r = [1,2,3]\n",
    "circle_area7(r)"
   ]
  },
  {
   "cell_type": "code",
   "execution_count": 62,
   "id": "offshore-syria",
   "metadata": {
    "tags": []
   },
   "outputs": [
    {
     "data": {
      "text/plain": [
       "array([ 3.14159265, 12.56637061, 28.27433388])"
      ]
     },
     "execution_count": 62,
     "metadata": {},
     "output_type": "execute_result"
    }
   ],
   "source": [
    "# can our function handle arrays?\n",
    "\n",
    "rnp = np.array(r)\n",
    "circle_area7(rnp)\n",
    "\n",
    "# what type of variable did the function return?"
   ]
  },
  {
   "cell_type": "markdown",
   "id": "regional-trouble",
   "metadata": {},
   "source": [
    "### It is very useful to add some documentation string info to your functions"
   ]
  },
  {
   "cell_type": "code",
   "execution_count": 63,
   "id": "short-chrome",
   "metadata": {
    "tags": []
   },
   "outputs": [],
   "source": [
    "def circle_area7(radius = 3):\n",
    "    \"\"\" Returns the area of a circle given the radius. \n",
    "    Assumes the radius is 3 if not supplied. \"\"\"\n",
    "    import numpy as np\n",
    "    \n",
    "    return np.pi*radius**2"
   ]
  },
  {
   "cell_type": "markdown",
   "id": "unsigned-sport",
   "metadata": {},
   "source": [
    "Now my note in the triple double quotes shows up as a docstring"
   ]
  },
  {
   "cell_type": "code",
   "execution_count": 64,
   "id": "consistent-peace",
   "metadata": {
    "tags": []
   },
   "outputs": [
    {
     "data": {
      "text/plain": [
       "\u001b[0;31mType:\u001b[0m        float\n",
       "\u001b[0;31mString form:\u001b[0m 3.141592653589793\n",
       "\u001b[0;31mDocstring:\u001b[0m   Convert a string or number to a floating point number, if possible."
      ]
     },
     "metadata": {},
     "output_type": "display_data"
    }
   ],
   "source": [
    "np.pi?"
   ]
  },
  {
   "cell_type": "code",
   "execution_count": 65,
   "id": "interstate-coverage",
   "metadata": {
    "tags": []
   },
   "outputs": [
    {
     "data": {
      "text/plain": [
       "\u001b[0;31mSignature:\u001b[0m \u001b[0mcircle_area7\u001b[0m\u001b[0;34m(\u001b[0m\u001b[0mradius\u001b[0m\u001b[0;34m=\u001b[0m\u001b[0;36m3\u001b[0m\u001b[0;34m)\u001b[0m\u001b[0;34m\u001b[0m\u001b[0;34m\u001b[0m\u001b[0m\n",
       "\u001b[0;31mDocstring:\u001b[0m\n",
       "Returns the area of a circle given the radius. \n",
       "Assumes the radius is 3 if not supplied. \n",
       "\u001b[0;31mFile:\u001b[0m      /var/folders/tw/nc3m_87d0n35psdw8fltd0lr0000gn/T/ipykernel_42903/967664329.py\n",
       "\u001b[0;31mType:\u001b[0m      function"
      ]
     },
     "metadata": {},
     "output_type": "display_data"
    }
   ],
   "source": [
    "circle_area7?"
   ]
  },
  {
   "cell_type": "markdown",
   "id": "assisted-assurance",
   "metadata": {},
   "source": [
    "There is a standard practice in programming to write out the Parameters (inputs/arguments) and Returns (output) in the docstring. Let's look a this for a predefined function and then make if for our simple function."
   ]
  },
  {
   "cell_type": "code",
   "execution_count": 66,
   "id": "quarterly-spring",
   "metadata": {
    "tags": []
   },
   "outputs": [
    {
     "data": {
      "text/plain": [
       "\u001b[0;31mSignature:\u001b[0m\n",
       "\u001b[0mnp\u001b[0m\u001b[0;34m.\u001b[0m\u001b[0mmax\u001b[0m\u001b[0;34m(\u001b[0m\u001b[0;34m\u001b[0m\n",
       "\u001b[0;34m\u001b[0m    \u001b[0ma\u001b[0m\u001b[0;34m,\u001b[0m\u001b[0;34m\u001b[0m\n",
       "\u001b[0;34m\u001b[0m    \u001b[0maxis\u001b[0m\u001b[0;34m=\u001b[0m\u001b[0;32mNone\u001b[0m\u001b[0;34m,\u001b[0m\u001b[0;34m\u001b[0m\n",
       "\u001b[0;34m\u001b[0m    \u001b[0mout\u001b[0m\u001b[0;34m=\u001b[0m\u001b[0;32mNone\u001b[0m\u001b[0;34m,\u001b[0m\u001b[0;34m\u001b[0m\n",
       "\u001b[0;34m\u001b[0m    \u001b[0mkeepdims\u001b[0m\u001b[0;34m=\u001b[0m\u001b[0;34m<\u001b[0m\u001b[0mno\u001b[0m \u001b[0mvalue\u001b[0m\u001b[0;34m>\u001b[0m\u001b[0;34m,\u001b[0m\u001b[0;34m\u001b[0m\n",
       "\u001b[0;34m\u001b[0m    \u001b[0minitial\u001b[0m\u001b[0;34m=\u001b[0m\u001b[0;34m<\u001b[0m\u001b[0mno\u001b[0m \u001b[0mvalue\u001b[0m\u001b[0;34m>\u001b[0m\u001b[0;34m,\u001b[0m\u001b[0;34m\u001b[0m\n",
       "\u001b[0;34m\u001b[0m    \u001b[0mwhere\u001b[0m\u001b[0;34m=\u001b[0m\u001b[0;34m<\u001b[0m\u001b[0mno\u001b[0m \u001b[0mvalue\u001b[0m\u001b[0;34m>\u001b[0m\u001b[0;34m,\u001b[0m\u001b[0;34m\u001b[0m\n",
       "\u001b[0;34m\u001b[0m\u001b[0;34m)\u001b[0m\u001b[0;34m\u001b[0m\u001b[0;34m\u001b[0m\u001b[0m\n",
       "\u001b[0;31mDocstring:\u001b[0m\n",
       "Return the maximum of an array or maximum along an axis.\n",
       "\n",
       "Parameters\n",
       "----------\n",
       "a : array_like\n",
       "    Input data.\n",
       "axis : None or int or tuple of ints, optional\n",
       "    Axis or axes along which to operate.  By default, flattened input is\n",
       "    used.\n",
       "\n",
       "    .. versionadded:: 1.7.0\n",
       "\n",
       "    If this is a tuple of ints, the maximum is selected over multiple axes,\n",
       "    instead of a single axis or all the axes as before.\n",
       "out : ndarray, optional\n",
       "    Alternative output array in which to place the result.  Must\n",
       "    be of the same shape and buffer length as the expected output.\n",
       "    See :ref:`ufuncs-output-type` for more details.\n",
       "\n",
       "keepdims : bool, optional\n",
       "    If this is set to True, the axes which are reduced are left\n",
       "    in the result as dimensions with size one. With this option,\n",
       "    the result will broadcast correctly against the input array.\n",
       "\n",
       "    If the default value is passed, then `keepdims` will not be\n",
       "    passed through to the `amax` method of sub-classes of\n",
       "    `ndarray`, however any non-default value will be.  If the\n",
       "    sub-class' method does not implement `keepdims` any\n",
       "    exceptions will be raised.\n",
       "\n",
       "initial : scalar, optional\n",
       "    The minimum value of an output element. Must be present to allow\n",
       "    computation on empty slice. See `~numpy.ufunc.reduce` for details.\n",
       "\n",
       "    .. versionadded:: 1.15.0\n",
       "\n",
       "where : array_like of bool, optional\n",
       "    Elements to compare for the maximum. See `~numpy.ufunc.reduce`\n",
       "    for details.\n",
       "\n",
       "    .. versionadded:: 1.17.0\n",
       "\n",
       "Returns\n",
       "-------\n",
       "amax : ndarray or scalar\n",
       "    Maximum of `a`. If `axis` is None, the result is a scalar value.\n",
       "    If `axis` is an int, the result is an array of dimension\n",
       "    ``a.ndim - 1``. If `axis` is a tuple, the result is an array of \n",
       "    dimension ``a.ndim - len(axis)``.\n",
       "\n",
       "See Also\n",
       "--------\n",
       "amin :\n",
       "    The minimum value of an array along a given axis, propagating any NaNs.\n",
       "nanmax :\n",
       "    The maximum value of an array along a given axis, ignoring any NaNs.\n",
       "maximum :\n",
       "    Element-wise maximum of two arrays, propagating any NaNs.\n",
       "fmax :\n",
       "    Element-wise maximum of two arrays, ignoring any NaNs.\n",
       "argmax :\n",
       "    Return the indices of the maximum values.\n",
       "\n",
       "nanmin, minimum, fmin\n",
       "\n",
       "Notes\n",
       "-----\n",
       "NaN values are propagated, that is if at least one item is NaN, the\n",
       "corresponding max value will be NaN as well. To ignore NaN values\n",
       "(MATLAB behavior), please use nanmax.\n",
       "\n",
       "Don't use `amax` for element-wise comparison of 2 arrays; when\n",
       "``a.shape[0]`` is 2, ``maximum(a[0], a[1])`` is faster than\n",
       "``amax(a, axis=0)``.\n",
       "\n",
       "Examples\n",
       "--------\n",
       ">>> a = np.arange(4).reshape((2,2))\n",
       ">>> a\n",
       "array([[0, 1],\n",
       "       [2, 3]])\n",
       ">>> np.amax(a)           # Maximum of the flattened array\n",
       "3\n",
       ">>> np.amax(a, axis=0)   # Maxima along the first axis\n",
       "array([2, 3])\n",
       ">>> np.amax(a, axis=1)   # Maxima along the second axis\n",
       "array([1, 3])\n",
       ">>> np.amax(a, where=[False, True], initial=-1, axis=0)\n",
       "array([-1,  3])\n",
       ">>> b = np.arange(5, dtype=float)\n",
       ">>> b[2] = np.NaN\n",
       ">>> np.amax(b)\n",
       "nan\n",
       ">>> np.amax(b, where=~np.isnan(b), initial=-1)\n",
       "4.0\n",
       ">>> np.nanmax(b)\n",
       "4.0\n",
       "\n",
       "You can use an initial value to compute the maximum of an empty slice, or\n",
       "to initialize it to a different value:\n",
       "\n",
       ">>> np.amax([[-50], [10]], axis=-1, initial=0)\n",
       "array([ 0, 10])\n",
       "\n",
       "Notice that the initial value is used as one of the elements for which the\n",
       "maximum is determined, unlike for the default argument Python's max\n",
       "function, which is only used for empty iterables.\n",
       "\n",
       ">>> np.amax([5], initial=6)\n",
       "6\n",
       ">>> max([5], default=6)\n",
       "5\n",
       "\u001b[0;31mFile:\u001b[0m      ~/anaconda3/lib/python3.11/site-packages/numpy/core/fromnumeric.py\n",
       "\u001b[0;31mType:\u001b[0m      function"
      ]
     },
     "metadata": {},
     "output_type": "display_data"
    }
   ],
   "source": [
    "np.max?"
   ]
  },
  {
   "cell_type": "code",
   "execution_count": 67,
   "id": "looking-bubble",
   "metadata": {
    "tags": []
   },
   "outputs": [],
   "source": [
    "def circle_area7(radius = 3):\n",
    "    \"\"\" Returns the area of a circle given the radius. \n",
    "    \n",
    "    Parameters\n",
    "    ----------\n",
    "    radius: array like, radius of the circle\n",
    "    Assumes the radius is 3 if not supplied.\n",
    "    \n",
    "    Returns\n",
    "    -------\n",
    "    area: ndarray or scalar\n",
    "    Returns the area for the given radii\n",
    "    \n",
    "    \"\"\"\n",
    "    \n",
    "    import numpy as np\n",
    "    \n",
    "    return np.pi*radius**2"
   ]
  },
  {
   "cell_type": "code",
   "execution_count": 68,
   "id": "educated-study",
   "metadata": {
    "tags": []
   },
   "outputs": [
    {
     "data": {
      "text/plain": [
       "\u001b[0;31mSignature:\u001b[0m \u001b[0mcircle_area7\u001b[0m\u001b[0;34m(\u001b[0m\u001b[0mradius\u001b[0m\u001b[0;34m=\u001b[0m\u001b[0;36m3\u001b[0m\u001b[0;34m)\u001b[0m\u001b[0;34m\u001b[0m\u001b[0;34m\u001b[0m\u001b[0m\n",
       "\u001b[0;31mDocstring:\u001b[0m\n",
       "Returns the area of a circle given the radius. \n",
       "\n",
       "Parameters\n",
       "----------\n",
       "radius: array like, radius of the circle\n",
       "Assumes the radius is 3 if not supplied.\n",
       "\n",
       "Returns\n",
       "-------\n",
       "area: ndarray or scalar\n",
       "Returns the area for the given radii\n",
       "\u001b[0;31mFile:\u001b[0m      /var/folders/tw/nc3m_87d0n35psdw8fltd0lr0000gn/T/ipykernel_42903/1644116025.py\n",
       "\u001b[0;31mType:\u001b[0m      function"
      ]
     },
     "metadata": {},
     "output_type": "display_data"
    }
   ],
   "source": [
    "circle_area7?"
   ]
  },
  {
   "cell_type": "markdown",
   "id": "demanding-ghost",
   "metadata": {},
   "source": [
    "# Lab 5.2"
   ]
  },
  {
   "cell_type": "markdown",
   "id": "large-paradise",
   "metadata": {},
   "source": [
    "**E.1** Complete Introduction to Functions in Python Ch 1 (you can do Ch 2-3 if you are very keen, but this is not required)\n"
   ]
  },
  {
   "cell_type": "code",
   "execution_count": null,
   "id": "approximate-recall",
   "metadata": {},
   "outputs": [],
   "source": []
  },
  {
   "cell_type": "markdown",
   "id": "grateful-russia",
   "metadata": {},
   "source": [
    "**E.2** Make notes for yourself on progamming tecniques and commands you learned in the datacamp chapter above, including examples, comments and explainitory text. You can do this here or in a separate notebook that you link to here. Basically, you are making a cheat sheet for yourself."
   ]
  },
  {
   "cell_type": "markdown",
   "id": "4de2c5e0-bbbf-41c1-bfa6-e48e0029a80b",
   "metadata": {},
   "source": [
    "def raise_to_power(value1, value2):\n",
    "  \n",
    "    new_value = value1 ** value2\n",
    "    \n",
    "    return new_value\n",
    "    \n",
    "result = raise_to_power(2, 3)\n",
    "\n",
    "result\n",
    "\n",
    "Define shout_all with parameters word1 and word2\n",
    "def shout_all(word1, word2):\n",
    "    \n",
    "    # Concatenate word1 with '!!!': shout1\n",
    "    shout1 = word1 + '!!!'\n",
    "    \n",
    "    # Concatenate word2 with '!!!': shout2\n",
    "    shout2 = word2 + '!!!'\n",
    "    \n",
    "    # Construct a tuple with shout1 and shout2: shout_words\n",
    "    shout_words = (shout1, shout2)\n",
    "\n",
    "    # Return shout_words\n",
    "    return shout_words\n",
    "\n",
    "Pass 'congratulations' and 'you' to shout_all(): yell1, yell2\n",
    "yell1, yell2 = shout_all('congratulations', 'you')\n",
    "\n",
    "print(yell1)\n",
    "print(yell2)\n"
   ]
  },
  {
   "cell_type": "markdown",
   "id": "sudden-policy",
   "metadata": {},
   "source": [
    "### This week's project:\n",
    "\n",
    "**E.3** Write two functions that work on your dataset (you can use the same dataset you plotted previously or a different one). The first function will do some sort of manipulation (e.g., removing bad data, subsetting) or calculation/analysis, the second will be a plotting function. The idea here is that if you had another datafile that was similar, you could use the functions to do the programming tasks again easily. You will present these to the class next week, similar to how you presented your plots. \n",
    "\n",
    "Add 1-2 slides here: https://lsu.box.com/s/6qz51fijd4sc1ne175w3j7e5lxmk7x0l"
   ]
  },
  {
   "cell_type": "markdown",
   "id": "bf2c37ee-5272-4ea9-8795-766d43ec9165",
   "metadata": {},
   "source": [
    "#### Data Stats Function"
   ]
  },
  {
   "cell_type": "code",
   "execution_count": 77,
   "id": "0230e63c-799a-4743-9470-e5c25e3a305c",
   "metadata": {
    "tags": []
   },
   "outputs": [],
   "source": [
    "def calculate_statistics(data, column_name):\n",
    "    stats = {'mean': data[column_name].mean(),\n",
    "        'std_dev': data[column_name].std(),\n",
    "        'max': data[column_name].max(),\n",
    "        'min': data[column_name].min()}\n",
    "    return stats"
   ]
  },
  {
   "cell_type": "markdown",
   "id": "d0572b14-0497-4dc4-b8d9-02322bf1f85f",
   "metadata": {},
   "source": [
    "#### Single Plots "
   ]
  },
  {
   "cell_type": "code",
   "execution_count": 82,
   "id": "1b54c8c5-6aa7-4d39-89be-2442c5a6decf",
   "metadata": {
    "tags": []
   },
   "outputs": [],
   "source": [
    "def sing_plot(data, column_name, label, title=True, color=True, ylabel=True):\n",
    "    \n",
    "    fig, ax = plt.subplots(figsize=(10, 5))\n",
    "    ax.plot(data.index, data[column_name], color=color, label=label)\n",
    "    ax.set_xlabel('Date', fontsize=12)\n",
    "    ax.set_ylabel(ylabel, fontsize=12)\n",
    "    ax.set_title(title, fontsize=14)\n",
    "    ax.legend()\n",
    "    plt.show()"
   ]
  },
  {
   "cell_type": "markdown",
   "id": "ddc6210f-7f68-4b1d-bfea-30e579b6ee6c",
   "metadata": {},
   "source": [
    "#### Multiple Plots "
   ]
  },
  {
   "cell_type": "code",
   "execution_count": 83,
   "id": "556396f1-829e-48a2-88bb-f92756a59cb0",
   "metadata": {
    "tags": []
   },
   "outputs": [],
   "source": [
    "def multiple_plots(d1, d2, column_d1, column_d2,\n",
    "                   label_d1, label_d2,\n",
    "                   color_d1, color_d2, title=True, ylabel=True):\n",
    "    \n",
    "    fig, ax = plt.subplots(figsize=(10, 5))\n",
    "    ax.plot(d1.index, d1[column_d1], color=color_d1, label=label_d1)\n",
    "    ax.plot(d2.index, d2[column_d2], color=color_d2, label=label_d2)\n",
    "    ax.set_xlabel('Date', fontsize=12)\n",
    "    ax.set_ylabel(ylabel, fontsize=12)\n",
    "    ax.set_title(title, fontsize=14)\n",
    "    ax.legend()\n",
    "    plt.show()"
   ]
  },
  {
   "cell_type": "code",
   "execution_count": 84,
   "id": "8daf11fd-98c4-4071-ae4e-494d02b84fda",
   "metadata": {
    "tags": []
   },
   "outputs": [],
   "source": [
    "from datetime import datetime\n",
    "import numpy as np\n",
    "import pandas as pd\n",
    "import matplotlib.pyplot as plt"
   ]
  },
  {
   "cell_type": "code",
   "execution_count": 85,
   "id": "committed-leadership",
   "metadata": {
    "tags": []
   },
   "outputs": [],
   "source": [
    "f_lidar = '/Users/new/Downloads/lidar_winds.csv'\n",
    "d_lidar = pd.read_csv(f_lidar)"
   ]
  },
  {
   "cell_type": "code",
   "execution_count": 86,
   "id": "economic-beaver",
   "metadata": {
    "tags": []
   },
   "outputs": [
    {
     "data": {
      "text/html": [
       "<div>\n",
       "<style scoped>\n",
       "    .dataframe tbody tr th:only-of-type {\n",
       "        vertical-align: middle;\n",
       "    }\n",
       "\n",
       "    .dataframe tbody tr th {\n",
       "        vertical-align: top;\n",
       "    }\n",
       "\n",
       "    .dataframe thead th {\n",
       "        text-align: right;\n",
       "    }\n",
       "</style>\n",
       "<table border=\"1\" class=\"dataframe\">\n",
       "  <thead>\n",
       "    <tr style=\"text-align: right;\">\n",
       "      <th></th>\n",
       "      <th>wspd18m</th>\n",
       "      <th>wspd38m</th>\n",
       "      <th>wspd58m</th>\n",
       "      <th>wspd78m</th>\n",
       "      <th>wspd98m</th>\n",
       "      <th>wspd118m</th>\n",
       "      <th>wspd138m</th>\n",
       "      <th>wspd158m</th>\n",
       "      <th>wspd178m</th>\n",
       "      <th>wspd198m</th>\n",
       "    </tr>\n",
       "    <tr>\n",
       "      <th>timestamp</th>\n",
       "      <th></th>\n",
       "      <th></th>\n",
       "      <th></th>\n",
       "      <th></th>\n",
       "      <th></th>\n",
       "      <th></th>\n",
       "      <th></th>\n",
       "      <th></th>\n",
       "      <th></th>\n",
       "      <th></th>\n",
       "    </tr>\n",
       "  </thead>\n",
       "  <tbody>\n",
       "    <tr>\n",
       "      <th>2019-08-12 00:00:00</th>\n",
       "      <td>7.2923</td>\n",
       "      <td>7.6785</td>\n",
       "      <td>7.6968</td>\n",
       "      <td>7.8280</td>\n",
       "      <td>7.8013</td>\n",
       "      <td>7.8933</td>\n",
       "      <td>7.8635</td>\n",
       "      <td>7.8858</td>\n",
       "      <td>7.9044</td>\n",
       "      <td>NaN</td>\n",
       "    </tr>\n",
       "    <tr>\n",
       "      <th>2019-08-12 00:10:00</th>\n",
       "      <td>7.8613</td>\n",
       "      <td>8.0330</td>\n",
       "      <td>8.0225</td>\n",
       "      <td>7.9279</td>\n",
       "      <td>7.9980</td>\n",
       "      <td>7.9306</td>\n",
       "      <td>8.1698</td>\n",
       "      <td>8.1405</td>\n",
       "      <td>8.0702</td>\n",
       "      <td>8.0487</td>\n",
       "    </tr>\n",
       "    <tr>\n",
       "      <th>2019-08-12 00:20:00</th>\n",
       "      <td>7.7594</td>\n",
       "      <td>7.9883</td>\n",
       "      <td>8.0180</td>\n",
       "      <td>8.1314</td>\n",
       "      <td>8.0906</td>\n",
       "      <td>8.1408</td>\n",
       "      <td>8.1291</td>\n",
       "      <td>8.0939</td>\n",
       "      <td>8.2030</td>\n",
       "      <td>8.1353</td>\n",
       "    </tr>\n",
       "    <tr>\n",
       "      <th>2019-08-12 00:30:00</th>\n",
       "      <td>7.4891</td>\n",
       "      <td>7.7554</td>\n",
       "      <td>7.7973</td>\n",
       "      <td>7.9551</td>\n",
       "      <td>7.9063</td>\n",
       "      <td>7.9964</td>\n",
       "      <td>7.9652</td>\n",
       "      <td>8.0749</td>\n",
       "      <td>8.0105</td>\n",
       "      <td>8.0792</td>\n",
       "    </tr>\n",
       "    <tr>\n",
       "      <th>2019-08-12 00:40:00</th>\n",
       "      <td>7.8829</td>\n",
       "      <td>8.0248</td>\n",
       "      <td>8.1332</td>\n",
       "      <td>8.1741</td>\n",
       "      <td>7.9927</td>\n",
       "      <td>8.1230</td>\n",
       "      <td>8.0443</td>\n",
       "      <td>8.1074</td>\n",
       "      <td>8.1969</td>\n",
       "      <td>8.1296</td>\n",
       "    </tr>\n",
       "    <tr>\n",
       "      <th>...</th>\n",
       "      <td>...</td>\n",
       "      <td>...</td>\n",
       "      <td>...</td>\n",
       "      <td>...</td>\n",
       "      <td>...</td>\n",
       "      <td>...</td>\n",
       "      <td>...</td>\n",
       "      <td>...</td>\n",
       "      <td>...</td>\n",
       "      <td>...</td>\n",
       "    </tr>\n",
       "    <tr>\n",
       "      <th>2021-03-21 23:10:00</th>\n",
       "      <td>1.7978</td>\n",
       "      <td>1.9557</td>\n",
       "      <td>2.0617</td>\n",
       "      <td>1.9270</td>\n",
       "      <td>1.3744</td>\n",
       "      <td>1.0722</td>\n",
       "      <td>0.9203</td>\n",
       "      <td>0.9038</td>\n",
       "      <td>0.9421</td>\n",
       "      <td>1.2546</td>\n",
       "    </tr>\n",
       "    <tr>\n",
       "      <th>2021-03-21 23:20:00</th>\n",
       "      <td>2.6771</td>\n",
       "      <td>2.8746</td>\n",
       "      <td>2.8993</td>\n",
       "      <td>2.9530</td>\n",
       "      <td>2.9098</td>\n",
       "      <td>2.6337</td>\n",
       "      <td>2.1869</td>\n",
       "      <td>1.7314</td>\n",
       "      <td>1.5436</td>\n",
       "      <td>1.6571</td>\n",
       "    </tr>\n",
       "    <tr>\n",
       "      <th>2021-03-21 23:30:00</th>\n",
       "      <td>3.2416</td>\n",
       "      <td>3.4077</td>\n",
       "      <td>3.5611</td>\n",
       "      <td>3.5823</td>\n",
       "      <td>3.5930</td>\n",
       "      <td>3.3885</td>\n",
       "      <td>2.9375</td>\n",
       "      <td>2.4509</td>\n",
       "      <td>2.2373</td>\n",
       "      <td>2.2883</td>\n",
       "    </tr>\n",
       "    <tr>\n",
       "      <th>2021-03-21 23:40:00</th>\n",
       "      <td>2.7582</td>\n",
       "      <td>2.9039</td>\n",
       "      <td>3.1269</td>\n",
       "      <td>3.4249</td>\n",
       "      <td>3.5028</td>\n",
       "      <td>3.1862</td>\n",
       "      <td>2.9139</td>\n",
       "      <td>2.7500</td>\n",
       "      <td>2.6825</td>\n",
       "      <td>2.6642</td>\n",
       "    </tr>\n",
       "    <tr>\n",
       "      <th>2021-03-21 23:50:00</th>\n",
       "      <td>2.5452</td>\n",
       "      <td>2.6611</td>\n",
       "      <td>3.0353</td>\n",
       "      <td>3.5475</td>\n",
       "      <td>3.4993</td>\n",
       "      <td>3.3521</td>\n",
       "      <td>3.1904</td>\n",
       "      <td>3.1565</td>\n",
       "      <td>3.2213</td>\n",
       "      <td>3.2293</td>\n",
       "    </tr>\n",
       "  </tbody>\n",
       "</table>\n",
       "<p>84396 rows × 10 columns</p>\n",
       "</div>"
      ],
      "text/plain": [
       "                     wspd18m  wspd38m  wspd58m  wspd78m  wspd98m  wspd118m  \\\n",
       "timestamp                                                                    \n",
       "2019-08-12 00:00:00   7.2923   7.6785   7.6968   7.8280   7.8013    7.8933   \n",
       "2019-08-12 00:10:00   7.8613   8.0330   8.0225   7.9279   7.9980    7.9306   \n",
       "2019-08-12 00:20:00   7.7594   7.9883   8.0180   8.1314   8.0906    8.1408   \n",
       "2019-08-12 00:30:00   7.4891   7.7554   7.7973   7.9551   7.9063    7.9964   \n",
       "2019-08-12 00:40:00   7.8829   8.0248   8.1332   8.1741   7.9927    8.1230   \n",
       "...                      ...      ...      ...      ...      ...       ...   \n",
       "2021-03-21 23:10:00   1.7978   1.9557   2.0617   1.9270   1.3744    1.0722   \n",
       "2021-03-21 23:20:00   2.6771   2.8746   2.8993   2.9530   2.9098    2.6337   \n",
       "2021-03-21 23:30:00   3.2416   3.4077   3.5611   3.5823   3.5930    3.3885   \n",
       "2021-03-21 23:40:00   2.7582   2.9039   3.1269   3.4249   3.5028    3.1862   \n",
       "2021-03-21 23:50:00   2.5452   2.6611   3.0353   3.5475   3.4993    3.3521   \n",
       "\n",
       "                     wspd138m  wspd158m  wspd178m  wspd198m  \n",
       "timestamp                                                    \n",
       "2019-08-12 00:00:00    7.8635    7.8858    7.9044       NaN  \n",
       "2019-08-12 00:10:00    8.1698    8.1405    8.0702    8.0487  \n",
       "2019-08-12 00:20:00    8.1291    8.0939    8.2030    8.1353  \n",
       "2019-08-12 00:30:00    7.9652    8.0749    8.0105    8.0792  \n",
       "2019-08-12 00:40:00    8.0443    8.1074    8.1969    8.1296  \n",
       "...                       ...       ...       ...       ...  \n",
       "2021-03-21 23:10:00    0.9203    0.9038    0.9421    1.2546  \n",
       "2021-03-21 23:20:00    2.1869    1.7314    1.5436    1.6571  \n",
       "2021-03-21 23:30:00    2.9375    2.4509    2.2373    2.2883  \n",
       "2021-03-21 23:40:00    2.9139    2.7500    2.6825    2.6642  \n",
       "2021-03-21 23:50:00    3.1904    3.1565    3.2213    3.2293  \n",
       "\n",
       "[84396 rows x 10 columns]"
      ]
     },
     "execution_count": 86,
     "metadata": {},
     "output_type": "execute_result"
    }
   ],
   "source": [
    "d_lidar['timestamp'] = pd.to_datetime(d_lidar['timestamp'])  \n",
    "d_lidar = d_lidar.set_index('timestamp') \n",
    "d_lidar  "
   ]
  },
  {
   "cell_type": "code",
   "execution_count": 87,
   "id": "0afa7517-a633-40b4-a854-d40cb41e5619",
   "metadata": {
    "tags": []
   },
   "outputs": [],
   "source": [
    "f_buoy = '/Users/new/Downloads/buoy_data.csv'\n",
    "d_buoy = pd.read_csv(f_buoy)"
   ]
  },
  {
   "cell_type": "code",
   "execution_count": 88,
   "id": "a1de30c4-594d-4230-9b74-dde9f895a2e0",
   "metadata": {
    "tags": []
   },
   "outputs": [
    {
     "data": {
      "text/html": [
       "<div>\n",
       "<style scoped>\n",
       "    .dataframe tbody tr th:only-of-type {\n",
       "        vertical-align: middle;\n",
       "    }\n",
       "\n",
       "    .dataframe tbody tr th {\n",
       "        vertical-align: top;\n",
       "    }\n",
       "\n",
       "    .dataframe thead th {\n",
       "        text-align: right;\n",
       "    }\n",
       "</style>\n",
       "<table border=\"1\" class=\"dataframe\">\n",
       "  <thead>\n",
       "    <tr style=\"text-align: right;\">\n",
       "      <th></th>\n",
       "      <th>WDIR</th>\n",
       "      <th>WSPD</th>\n",
       "      <th>GST</th>\n",
       "      <th>WVHT</th>\n",
       "      <th>DPD</th>\n",
       "      <th>APD</th>\n",
       "      <th>MWD</th>\n",
       "      <th>PRES</th>\n",
       "      <th>ATMP</th>\n",
       "      <th>WTMP</th>\n",
       "      <th>DEWP</th>\n",
       "      <th>VIS</th>\n",
       "      <th>TIDE</th>\n",
       "    </tr>\n",
       "    <tr>\n",
       "      <th>time</th>\n",
       "      <th></th>\n",
       "      <th></th>\n",
       "      <th></th>\n",
       "      <th></th>\n",
       "      <th></th>\n",
       "      <th></th>\n",
       "      <th></th>\n",
       "      <th></th>\n",
       "      <th></th>\n",
       "      <th></th>\n",
       "      <th></th>\n",
       "      <th></th>\n",
       "      <th></th>\n",
       "    </tr>\n",
       "  </thead>\n",
       "  <tbody>\n",
       "    <tr>\n",
       "      <th>2019-01-01 00:50:00</th>\n",
       "      <td>135</td>\n",
       "      <td>11.3</td>\n",
       "      <td>14.1</td>\n",
       "      <td>1.56</td>\n",
       "      <td>5.56</td>\n",
       "      <td>4.71</td>\n",
       "      <td>153</td>\n",
       "      <td>1018.4</td>\n",
       "      <td>8.1</td>\n",
       "      <td>7.1</td>\n",
       "      <td>999.0</td>\n",
       "      <td>99.0</td>\n",
       "      <td>99.0</td>\n",
       "    </tr>\n",
       "    <tr>\n",
       "      <th>2019-01-01 01:50:00</th>\n",
       "      <td>127</td>\n",
       "      <td>11.2</td>\n",
       "      <td>14.0</td>\n",
       "      <td>1.92</td>\n",
       "      <td>5.88</td>\n",
       "      <td>5.09</td>\n",
       "      <td>135</td>\n",
       "      <td>1016.6</td>\n",
       "      <td>8.3</td>\n",
       "      <td>7.1</td>\n",
       "      <td>999.0</td>\n",
       "      <td>99.0</td>\n",
       "      <td>99.0</td>\n",
       "    </tr>\n",
       "    <tr>\n",
       "      <th>2019-01-01 02:50:00</th>\n",
       "      <td>137</td>\n",
       "      <td>12.7</td>\n",
       "      <td>15.3</td>\n",
       "      <td>2.23</td>\n",
       "      <td>6.25</td>\n",
       "      <td>5.22</td>\n",
       "      <td>143</td>\n",
       "      <td>1013.6</td>\n",
       "      <td>8.7</td>\n",
       "      <td>7.2</td>\n",
       "      <td>999.0</td>\n",
       "      <td>99.0</td>\n",
       "      <td>99.0</td>\n",
       "    </tr>\n",
       "    <tr>\n",
       "      <th>2019-01-01 03:50:00</th>\n",
       "      <td>150</td>\n",
       "      <td>13.7</td>\n",
       "      <td>16.9</td>\n",
       "      <td>2.52</td>\n",
       "      <td>6.67</td>\n",
       "      <td>5.49</td>\n",
       "      <td>148</td>\n",
       "      <td>1010.7</td>\n",
       "      <td>9.5</td>\n",
       "      <td>7.2</td>\n",
       "      <td>999.0</td>\n",
       "      <td>99.0</td>\n",
       "      <td>99.0</td>\n",
       "    </tr>\n",
       "    <tr>\n",
       "      <th>2019-01-01 04:50:00</th>\n",
       "      <td>168</td>\n",
       "      <td>9.5</td>\n",
       "      <td>11.2</td>\n",
       "      <td>2.77</td>\n",
       "      <td>7.14</td>\n",
       "      <td>5.75</td>\n",
       "      <td>141</td>\n",
       "      <td>1010.0</td>\n",
       "      <td>10.2</td>\n",
       "      <td>7.2</td>\n",
       "      <td>999.0</td>\n",
       "      <td>99.0</td>\n",
       "      <td>99.0</td>\n",
       "    </tr>\n",
       "    <tr>\n",
       "      <th>...</th>\n",
       "      <td>...</td>\n",
       "      <td>...</td>\n",
       "      <td>...</td>\n",
       "      <td>...</td>\n",
       "      <td>...</td>\n",
       "      <td>...</td>\n",
       "      <td>...</td>\n",
       "      <td>...</td>\n",
       "      <td>...</td>\n",
       "      <td>...</td>\n",
       "      <td>...</td>\n",
       "      <td>...</td>\n",
       "      <td>...</td>\n",
       "    </tr>\n",
       "    <tr>\n",
       "      <th>2020-12-31 23:10:00</th>\n",
       "      <td>323</td>\n",
       "      <td>7.7</td>\n",
       "      <td>9.8</td>\n",
       "      <td>99.00</td>\n",
       "      <td>99.00</td>\n",
       "      <td>99.00</td>\n",
       "      <td>999</td>\n",
       "      <td>1024.0</td>\n",
       "      <td>999.0</td>\n",
       "      <td>9.0</td>\n",
       "      <td>999.0</td>\n",
       "      <td>99.0</td>\n",
       "      <td>99.0</td>\n",
       "    </tr>\n",
       "    <tr>\n",
       "      <th>2020-12-31 23:20:00</th>\n",
       "      <td>328</td>\n",
       "      <td>8.0</td>\n",
       "      <td>10.1</td>\n",
       "      <td>99.00</td>\n",
       "      <td>99.00</td>\n",
       "      <td>99.00</td>\n",
       "      <td>999</td>\n",
       "      <td>1024.2</td>\n",
       "      <td>999.0</td>\n",
       "      <td>9.0</td>\n",
       "      <td>999.0</td>\n",
       "      <td>99.0</td>\n",
       "      <td>99.0</td>\n",
       "    </tr>\n",
       "    <tr>\n",
       "      <th>2020-12-31 23:30:00</th>\n",
       "      <td>328</td>\n",
       "      <td>8.1</td>\n",
       "      <td>11.0</td>\n",
       "      <td>99.00</td>\n",
       "      <td>99.00</td>\n",
       "      <td>99.00</td>\n",
       "      <td>999</td>\n",
       "      <td>1024.1</td>\n",
       "      <td>999.0</td>\n",
       "      <td>9.0</td>\n",
       "      <td>999.0</td>\n",
       "      <td>99.0</td>\n",
       "      <td>99.0</td>\n",
       "    </tr>\n",
       "    <tr>\n",
       "      <th>2020-12-31 23:40:00</th>\n",
       "      <td>327</td>\n",
       "      <td>6.9</td>\n",
       "      <td>9.5</td>\n",
       "      <td>1.48</td>\n",
       "      <td>7.14</td>\n",
       "      <td>5.03</td>\n",
       "      <td>172</td>\n",
       "      <td>1024.2</td>\n",
       "      <td>999.0</td>\n",
       "      <td>9.0</td>\n",
       "      <td>999.0</td>\n",
       "      <td>99.0</td>\n",
       "      <td>99.0</td>\n",
       "    </tr>\n",
       "    <tr>\n",
       "      <th>2020-12-31 23:50:00</th>\n",
       "      <td>336</td>\n",
       "      <td>6.4</td>\n",
       "      <td>8.6</td>\n",
       "      <td>99.00</td>\n",
       "      <td>99.00</td>\n",
       "      <td>99.00</td>\n",
       "      <td>999</td>\n",
       "      <td>1024.4</td>\n",
       "      <td>999.0</td>\n",
       "      <td>9.0</td>\n",
       "      <td>999.0</td>\n",
       "      <td>99.0</td>\n",
       "      <td>99.0</td>\n",
       "    </tr>\n",
       "  </tbody>\n",
       "</table>\n",
       "<p>45829 rows × 13 columns</p>\n",
       "</div>"
      ],
      "text/plain": [
       "                     WDIR  WSPD   GST   WVHT    DPD    APD  MWD    PRES  \\\n",
       "time                                                                      \n",
       "2019-01-01 00:50:00   135  11.3  14.1   1.56   5.56   4.71  153  1018.4   \n",
       "2019-01-01 01:50:00   127  11.2  14.0   1.92   5.88   5.09  135  1016.6   \n",
       "2019-01-01 02:50:00   137  12.7  15.3   2.23   6.25   5.22  143  1013.6   \n",
       "2019-01-01 03:50:00   150  13.7  16.9   2.52   6.67   5.49  148  1010.7   \n",
       "2019-01-01 04:50:00   168   9.5  11.2   2.77   7.14   5.75  141  1010.0   \n",
       "...                   ...   ...   ...    ...    ...    ...  ...     ...   \n",
       "2020-12-31 23:10:00   323   7.7   9.8  99.00  99.00  99.00  999  1024.0   \n",
       "2020-12-31 23:20:00   328   8.0  10.1  99.00  99.00  99.00  999  1024.2   \n",
       "2020-12-31 23:30:00   328   8.1  11.0  99.00  99.00  99.00  999  1024.1   \n",
       "2020-12-31 23:40:00   327   6.9   9.5   1.48   7.14   5.03  172  1024.2   \n",
       "2020-12-31 23:50:00   336   6.4   8.6  99.00  99.00  99.00  999  1024.4   \n",
       "\n",
       "                      ATMP  WTMP   DEWP   VIS  TIDE  \n",
       "time                                                 \n",
       "2019-01-01 00:50:00    8.1   7.1  999.0  99.0  99.0  \n",
       "2019-01-01 01:50:00    8.3   7.1  999.0  99.0  99.0  \n",
       "2019-01-01 02:50:00    8.7   7.2  999.0  99.0  99.0  \n",
       "2019-01-01 03:50:00    9.5   7.2  999.0  99.0  99.0  \n",
       "2019-01-01 04:50:00   10.2   7.2  999.0  99.0  99.0  \n",
       "...                    ...   ...    ...   ...   ...  \n",
       "2020-12-31 23:10:00  999.0   9.0  999.0  99.0  99.0  \n",
       "2020-12-31 23:20:00  999.0   9.0  999.0  99.0  99.0  \n",
       "2020-12-31 23:30:00  999.0   9.0  999.0  99.0  99.0  \n",
       "2020-12-31 23:40:00  999.0   9.0  999.0  99.0  99.0  \n",
       "2020-12-31 23:50:00  999.0   9.0  999.0  99.0  99.0  \n",
       "\n",
       "[45829 rows x 13 columns]"
      ]
     },
     "execution_count": 88,
     "metadata": {},
     "output_type": "execute_result"
    }
   ],
   "source": [
    "d_buoy['time'] = pd.to_datetime(d_buoy['time'])\n",
    "d_buoy = d_buoy.set_index('time') \n",
    "d_buoy"
   ]
  },
  {
   "cell_type": "code",
   "execution_count": 89,
   "id": "58955bea-9402-472c-bfe2-00066ce8a0ad",
   "metadata": {
    "tags": []
   },
   "outputs": [],
   "source": [
    "#To replace \"99\" with \"NaN\", type \n",
    "\n",
    "d_buoy = d_buoy.replace(99, np.nan)"
   ]
  },
  {
   "cell_type": "code",
   "execution_count": 90,
   "id": "76f3e1e5-128a-47b2-9cbb-7bf5cb001583",
   "metadata": {
    "tags": []
   },
   "outputs": [],
   "source": [
    "d_buoy = d_buoy.loc['2019-8-12':]\n",
    "d_lidar = d_lidar.loc[:'2020-12-31']"
   ]
  },
  {
   "cell_type": "markdown",
   "id": "56d64639-70db-4276-891f-3a0c239b1bec",
   "metadata": {},
   "source": [
    "#### Using the Data Stats Function"
   ]
  },
  {
   "cell_type": "code",
   "execution_count": 96,
   "id": "0fc992bd-c8ee-48b3-b870-b4d226f821ef",
   "metadata": {
    "tags": []
   },
   "outputs": [
    {
     "name": "stdout",
     "output_type": "stream",
     "text": [
      "Buoy Statistics: {'mean': 6.471401420426128, 'std_dev': 3.3217252099744536, 'max': 25.1, 'min': 0.0}\n"
     ]
    }
   ],
   "source": [
    "Buoy_Stats = calculate_statistics(d_buoy, 'WSPD')\n",
    "print(f\"Buoy Statistics: {Buoy_Stats}\")"
   ]
  },
  {
   "cell_type": "code",
   "execution_count": 97,
   "id": "edc12b7c-94a0-4246-be6c-4fcb6f108e6b",
   "metadata": {
    "tags": []
   },
   "outputs": [
    {
     "name": "stdout",
     "output_type": "stream",
     "text": [
      "Lidar Statistics: {'mean': 8.244364685512465, 'std_dev': 4.015389567076979, 'max': 25.4051, 'min': 0.5016}\n"
     ]
    }
   ],
   "source": [
    "Lidar_Stats = calculate_statistics(d_lidar, 'wspd18m')\n",
    "print(f\"Lidar Statistics: {Lidar_Stats}\")"
   ]
  },
  {
   "cell_type": "code",
   "execution_count": 100,
   "id": "18617938-4b87-4901-b6b7-20945dc83bc6",
   "metadata": {
    "tags": []
   },
   "outputs": [
    {
     "data": {
      "image/png": "[encoded data removed]",
      "text/plain": [
       "<Figure size 1000x500 with 1 Axes>"
      ]
     },
     "metadata": {},
     "output_type": "display_data"
    }
   ],
   "source": [
    "sing_plot(d_buoy, 'WSPD', label='Buoy', color='blue', title='Buoy Wind Speed', ylabel='Wind Speed (m/s)')"
   ]
  },
  {
   "cell_type": "code",
   "execution_count": 104,
   "id": "cc097da1-ea32-4084-8839-4d04bc57e83d",
   "metadata": {
    "tags": []
   },
   "outputs": [
    {
     "data": {
      "image/png": "[encoded data removed]",
      "text/plain": [
       "<Figure size 1000x500 with 1 Axes>"
      ]
     },
     "metadata": {},
     "output_type": "display_data"
    }
   ],
   "source": [
    "sing_plot(d_lidar, 'wspd18m', label='lidar', color='red', title='Lidar Wind Speed', ylabel='Wind Speed (m/s)')"
   ]
  },
  {
   "cell_type": "code",
   "execution_count": 110,
   "id": "9bcc9dbb-7ae4-41a1-8396-059317d725ec",
   "metadata": {
    "tags": []
   },
   "outputs": [
    {
     "data": {
      "image/png": "[encoded data removed]",
      "text/plain": [
       "<Figure size 1000x500 with 1 Axes>"
      ]
     },
     "metadata": {},
     "output_type": "display_data"
    }
   ],
   "source": [
    "multiple_plots(d_buoy, d_lidar, 'WSPD', 'wspd18m',\n",
    "                   label_d1='Buoy', label_d2='Lidar',\n",
    "                   color_d1='blue', color_d2='brown', title='Buoy vs Lidar Wind Speed', ylabel='Wind Speed (m/s)')"
   ]
  },
  {
   "cell_type": "code",
   "execution_count": null,
   "id": "c64fcb55-4258-40ab-9c07-1eebef2cd33f",
   "metadata": {},
   "outputs": [],
   "source": []
  }
 ],
 "metadata": {
  "kernelspec": {
   "display_name": "Python 3 (ipykernel)",
   "language": "python",
   "name": "python3"
  },
  "language_info": {
   "codemirror_mode": {
    "name": "ipython",
    "version": 3
   },
   "file_extension": ".py",
   "mimetype": "text/x-python",
   "name": "python",
   "nbconvert_exporter": "python",
   "pygments_lexer": "ipython3",
   "version": "3.11.5"
  }
 },
 "nbformat": 4,
 "nbformat_minor": 5
}
