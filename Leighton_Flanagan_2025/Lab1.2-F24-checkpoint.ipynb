{
 "cells": [
  {
   "cell_type": "markdown",
   "metadata": {},
   "source": [
    "put your name, etc here"
   ]
  },
  {
   "cell_type": "code",
   "execution_count": null,
   "metadata": {},
   "outputs": [],
   "source": [
    "Leighton Flanagan"
   ]
  },
  {
   "cell_type": "markdown",
   "metadata": {},
   "source": [
    "# Lecture 1.2"
   ]
  },
  {
   "cell_type": "markdown",
   "metadata": {},
   "source": [
    "Thursday Aug 29th, 2024\n",
    "\n",
    "Lab 1.2 is due Tuesday Sep, 3rd\n",
    "\n",
    "Lecture Agenda:\n",
    "* debriefing on first class and homework, how's it going?\n",
    "* logistics of github, downloading this Lab 1.2 notebook\n",
    "* commenting and markup in notebooks\n",
    "* workflow for the class\n"
   ]
  },
  {
   "cell_type": "markdown",
   "metadata": {},
   "source": [
    "In general, we will do warmup exercises and lab exercises in a jupyter notebook. For most classes, you will download the notebook from github, open it on your local computer, and then upload your completed work back on github in your folder. Then in the assignment tab in Moodle, submit a url link to the completed lab, along with a screenshot of your completed score for the chapter(s) assigned in datacamp.\n",
    "\n",
    "In general, Tuesday labs are due Friday by midnight and Thursday labs are due the following Tuesday by midnight. This will give you a chance to ask questions in the next class if you get stuck on something. Note the first lab (1.1) was due early so you are set up for this lab. If you are stuck on anything, let me know, and get help from your classmates."
   ]
  },
  {
   "cell_type": "code",
   "execution_count": null,
   "metadata": {},
   "outputs": [],
   "source": [
    "# here is an example of code commenting. The # symbol means everything on this line will be ignored \n"
   ]
  },
  {
   "cell_type": "markdown",
   "metadata": {},
   "source": [
    "Here is an example of markdown text. Because this cell is in markdown mode it will also be ignored by the python shell"
   ]
  },
  {
   "cell_type": "code",
   "execution_count": null,
   "metadata": {},
   "outputs": [],
   "source": []
  },
  {
   "cell_type": "markdown",
   "metadata": {},
   "source": [
    "## Preliminaries"
   ]
  },
  {
   "cell_type": "markdown",
   "metadata": {},
   "source": [
    "In our class github site, create a folder for yourself where you will submit your jupyter notebooks. The easiest way to do this is to create a new file that is a placeholder document in the new folder. You can delete it later."
   ]
  },
  {
   "cell_type": "markdown",
   "metadata": {},
   "source": [
    "## Warmup exercises"
   ]
  },
  {
   "cell_type": "markdown",
   "metadata": {},
   "source": [
    "As you are doing these exercises, get familiar with jupyter notebook commands \n",
    "https://towardsdatascience.com/jypyter-notebook-shortcuts-bf0101a98330\n",
    "\n",
    "and markdown text https://medium.com/@ingeh/markdown-for-jupyter-notebooks-cheatsheet-386c05aeebed\n",
    "\n",
    "These exercises are based on what you have learned previously. Feel free to go look at what you did in datacamp to figure out how to answer them."
   ]
  },
  {
   "cell_type": "markdown",
   "metadata": {},
   "source": [
    "**W.1** Define and assign values to three variables of the three types we learned about Monday: integer, floating point, string and boolian. \n",
    "\n",
    "Note you can add more cells below by pressing the + button above or typing [esc] to command mode, then [b] to enter a cell below, or [a] to enter a cell above. See the link above for more commands"
   ]
  },
  {
   "cell_type": "code",
   "execution_count": 4,
   "metadata": {},
   "outputs": [],
   "source": [
    "integer_v = 5\n",
    "float_v = 5.5\n",
    "string_v = \"Hiya!\"\n",
    "boolian_v = True"
   ]
  },
  {
   "cell_type": "markdown",
   "metadata": {},
   "source": [
    "**W.2** Print out the value and check the type of each variable"
   ]
  },
  {
   "cell_type": "code",
   "execution_count": 5,
   "metadata": {},
   "outputs": [
    {
     "name": "stdout",
     "output_type": "stream",
     "text": [
      "<class 'int'>\n",
      "<class 'float'>\n",
      "<class 'str'>\n",
      "<class 'bool'>\n"
     ]
    }
   ],
   "source": [
    "print(type(integer_v))\n",
    "print(type(float_v))\n",
    "print(type(string_v))\n",
    "print(type(boolian_v))"
   ]
  },
  {
   "cell_type": "markdown",
   "metadata": {},
   "source": [
    "**W.3** Create a new variable that saves the value of the float variable as a string. Print it out"
   ]
  },
  {
   "cell_type": "code",
   "execution_count": 8,
   "metadata": {},
   "outputs": [
    {
     "name": "stdout",
     "output_type": "stream",
     "text": [
      "<class 'str'>\n",
      "5.5\n"
     ]
    }
   ],
   "source": [
    "string_float = str(float_v)\n",
    "print(type(string_float))\n",
    "print(string_float)"
   ]
  },
  {
   "cell_type": "markdown",
   "metadata": {},
   "source": [
    "**W.4** Using multiplication of a variable, print out the text \"Bueno Bueno Bueno Bueno Bueno\" (Shoutout to Monsieur Periné https://youtu.be/JGL-eQAAxGs see 10:45)"
   ]
  },
  {
   "cell_type": "code",
   "execution_count": 10,
   "metadata": {},
   "outputs": [
    {
     "name": "stdout",
     "output_type": "stream",
     "text": [
      "Bueno Bueno Bueno Bueno Bueno \n"
     ]
    }
   ],
   "source": [
    "text = \"Bueno \"\n",
    "textx5 = text * 5\n",
    "print(textx5)"
   ]
  },
  {
   "cell_type": "markdown",
   "metadata": {},
   "source": [
    "**W.5** Do the same thing using addtion"
   ]
  },
  {
   "cell_type": "code",
   "execution_count": 11,
   "metadata": {},
   "outputs": [
    {
     "name": "stdout",
     "output_type": "stream",
     "text": [
      "Bueno Bueno Bueno Bueno Bueno \n"
     ]
    }
   ],
   "source": [
    "textx5_add = text + text + text + text + text\n",
    "print(textx5_add)"
   ]
  },
  {
   "cell_type": "markdown",
   "metadata": {},
   "source": [
    "**W.6** If you add an int and a float, what is the resulting variable type? Demonstrate"
   ]
  },
  {
   "cell_type": "code",
   "execution_count": 13,
   "metadata": {},
   "outputs": [
    {
     "name": "stdout",
     "output_type": "stream",
     "text": [
      "10.5\n",
      "<class 'float'>\n"
     ]
    }
   ],
   "source": [
    "#assuming in this case it will still be a float since the number will contain a decimal\n",
    "i_f = integer_v + float_v\n",
    "print(i_f)\n",
    "print(type(i_f))"
   ]
  },
  {
   "cell_type": "markdown",
   "metadata": {},
   "source": [
    "**W.7** Can you convert a Boolian to an interger type variable? If so, what is the resulting value? What happens if you convert a float to an int?"
   ]
  },
  {
   "cell_type": "code",
   "execution_count": 14,
   "metadata": {},
   "outputs": [
    {
     "name": "stdout",
     "output_type": "stream",
     "text": [
      "1\n",
      "<class 'int'>\n",
      "5\n",
      "<class 'int'>\n"
     ]
    }
   ],
   "source": [
    "#assuming it will be 1 for true and 0 for false. Maybe float to int just rounds to ones place?\n",
    "b_to_i = int(boolian_v)\n",
    "print(b_to_i)\n",
    "print(type(b_to_i))\n",
    "\n",
    "f_to_i = int(float_v)\n",
    "print(f_to_i)\n",
    "print(type(f_to_i))"
   ]
  },
  {
   "cell_type": "code",
   "execution_count": 18,
   "metadata": {},
   "outputs": [
    {
     "name": "stdout",
     "output_type": "stream",
     "text": [
      "0\n",
      "<class 'int'>\n",
      "5\n",
      "<class 'int'>\n"
     ]
    }
   ],
   "source": [
    "#just out of curiousity\n",
    "boolian_v2 = False\n",
    "b_to_i2 = int(boolian_v2)\n",
    "print(b_to_i2)\n",
    "print(type(b_to_i2))\n",
    "\n",
    "float_v2 = 5.99999\n",
    "f_to_i2 = int(float_v2)\n",
    "print(f_to_i2)\n",
    "print(type(f_to_i2))"
   ]
  },
  {
   "cell_type": "markdown",
   "metadata": {},
   "source": [
    "# Lab 1.2"
   ]
  },
  {
   "cell_type": "markdown",
   "metadata": {},
   "source": [
    "## Lab Exercises"
   ]
  },
  {
   "cell_type": "markdown",
   "metadata": {},
   "source": [
    "**E.1** Complete Ch 2 of Introduction to Python in datacamp. "
   ]
  },
  {
   "cell_type": "markdown",
   "metadata": {},
   "source": [
    "**E.2** Below you will spend time practicing what you have learned in Ch 2. Use a comination of code, code commenting, and markdown text to take notes. Make sure you investigate how python syntax works and understand what you are doing, and what went wrong if you have any issues. You can refer to this document later if you need to review, so give future you lots of commenting to be helpful."
   ]
  },
  {
   "cell_type": "markdown",
   "metadata": {},
   "source": [
    "**E.2.1** Let's work on lists, indexing and printing out elements of lists.\n",
    "\n",
    "We are going to calculate the BMI of five family members (or friends/colleaues if you have a small family, or famous people/politicians/atheletes if you really don't like talking to people, they just have to be adults and you need their data). Make intellegently named lists for the first name, last name, height, weight and age of each person. So, five lists in total."
   ]
  },
  {
   "cell_type": "code",
   "execution_count": 20,
   "metadata": {},
   "outputs": [],
   "source": [
    "M = [\"Nicole\", \"Flanagan\", 1.63, 58.96, 50]\n",
    "D = [\"James\", \"Flanagan\", 1.72, 81.65, 56]\n",
    "C = [\"Claire\", \"Flanagan\", 1.63, 54.43, 18]\n",
    "P = [\"Piper\", \"Schertzer\", 1.68, 58.96, 21]\n",
    "Z = [\"Zachary\", \"Johnson\", 1.65, 63.50, 19]"
   ]
  },
  {
   "cell_type": "markdown",
   "metadata": {},
   "source": [
    "**E.2.2** Now create a new list that calculates the BMI of each person using the lists you created before"
   ]
  },
  {
   "cell_type": "code",
   "execution_count": 42,
   "metadata": {},
   "outputs": [
    {
     "name": "stdout",
     "output_type": "stream",
     "text": [
      "['Nicole', 22.191275546689752, 'James', 27.59937804218497, 'Claire', 20.4862810041778, 'Piper', 20.890022675736965, 'Zach', 23.32415059687787, 'Leighton', 23.002961580591506, 'Leighton', 23.002961580591506]\n"
     ]
    }
   ],
   "source": [
    "BMI1 = [\"Nicole\", M[3]/M[2]**2,  \"James\", D[3]/D[2]**2, \"Claire\", C[3]/C[2]**2, \"Piper\", P[3]/P[2]**2, \"Zach\", Z[3]/Z[2]**2]\n",
    "print(BMI)"
   ]
  },
  {
   "cell_type": "markdown",
   "metadata": {},
   "source": [
    "**E.2.3** Look up the weight classification of each person based on their BMI (what's a good source for this, who do you trust?). Create a new list with this information for each person. (Don't judge, we live in Louisiana, which is not known for health food.)"
   ]
  },
  {
   "cell_type": "code",
   "execution_count": 43,
   "metadata": {},
   "outputs": [],
   "source": [
    "WC1 = [\"Nicole\", \"healthy\", \"James\", \"overweight\", \"Claire\", \"healthy\", \"Piper\", \"healthy\", \"Zach\", \"healthy\"]"
   ]
  },
  {
   "cell_type": "markdown",
   "metadata": {},
   "source": [
    "**E.2.3** Let's practice some print statements and iterate manually through the people on your lists.\n",
    "\n",
    "For each person, print out something like: \"First_name last_name, age xx, has a height of xx units and weight of xx units, giving them a body mass index (BMI) of xx, making them yy\" where yy is if they are normal, obese, etc."
   ]
  },
  {
   "cell_type": "code",
   "execution_count": 44,
   "metadata": {},
   "outputs": [
    {
     "name": "stdout",
     "output_type": "stream",
     "text": [
      "Nicole Flanagan, age 50, has a height of 1.63 m and weight of 58.96 kg, giving her a body mass index of 22.191275546689752, making her healthy\n",
      "James Flanagan, age 56, has a height of 1.72 m and weight of 81.65 kg, giving him a body mass index of 27.59937804218497, making him overweight\n",
      "Claire Flanagan, age 18, has a height of 1.63 m and weight of 54.43 kg, giving her a body mass index of 20.4862810041778, making her healthy\n",
      "Piper Schertzer, age 21, has a height of 1.68 m and weight of 58.96 kg, giving her a body mass index of 20.890022675736965, making her healthy\n",
      "Zachary Flanagan, age 19, has a height of 1.65 m and weight of 63.5 kg, giving him a body mass index of 23.32415059687787, making him healthy\n"
     ]
    }
   ],
   "source": [
    "Nicole = str(M[0]) + \" \" + str(M[1]) + \", age \" + str(M[4]) + \", has a height of \" + str(M[2]) + \" m and weight of \" + str(M[3]) + \" kg, giving her a body mass index of \" + str(BMI1[1]) + \", making her \" + str(WC1[1])\n",
    "James = str(D[0]) + \" \" + str(D[1]) + \", age \" + str(D[4]) + \", has a height of \" + str(D[2]) + \" m and weight of \" + str(D[3]) + \" kg, giving him a body mass index of \" + str(BMI1[3]) + \", making him \" + str(WC1[3])\n",
    "Claire = str(C[0]) + \" \" + str(C[1]) + \", age \" + str(C[4]) + \", has a height of \" + str(C[2]) + \" m and weight of \" + str(C[3]) + \" kg, giving her a body mass index of \" + str(BMI1[5]) + \", making her \" + str(WC1[5])\n",
    "Piper = str(P[0]) + \" \" + str(P[1]) + \", age \" + str(P[4]) + \", has a height of \" + str(P[2]) + \" m and weight of \" + str(P[3]) + \" kg, giving her a body mass index of \" + str(BMI1[7]) + \", making her \" + str(WC1[7])\n",
    "Zach = str(Z[0]) + \" \" + str(C[1]) + \", age \" + str(Z[4]) + \", has a height of \" + str(Z[2]) + \" m and weight of \" + str(Z[3]) + \" kg, giving him a body mass index of \" + str(BMI1[9]) + \", making him \" + str(WC1[9])\n",
    "\n",
    "print(Nicole)\n",
    "print(James)\n",
    "print(Claire)\n",
    "print(Piper)\n",
    "print(Zach)"
   ]
  },
  {
   "cell_type": "markdown",
   "metadata": {},
   "source": [
    "**E.2.4** Now add/append your information to each of the lists, and do the same print statement for you. Make a resolution to eat more veggies."
   ]
  },
  {
   "cell_type": "code",
   "execution_count": 47,
   "metadata": {},
   "outputs": [
    {
     "name": "stdout",
     "output_type": "stream",
     "text": [
      "['Leighton', 'Flanagan', 1.57, 56.7, 21]\n",
      "['Nicole', 22.191275546689752, 'James', 27.59937804218497, 'Claire', 20.4862810041778, 'Piper', 20.890022675736965, 'Zach', 23.32415059687787, 'Leighton', 23.002961580591506]\n",
      "['Nicole', 'healthy', 'James', 'overweight', 'Claire', 'healthy', 'Piper', 'healthy', 'Zach', 'healthy', 'Leighton', 'healthy']\n",
      "Leighton Flanagan, age 21, has a height of 1.57 m and weight of 56.7 kg, giving her a body mass index of 23.002961580591506, making her healthy\n"
     ]
    }
   ],
   "source": [
    "L = M[:]\n",
    "L[0] = \"Leighton\"\n",
    "L[2] = 1.57\n",
    "L[3] = 56.70\n",
    "L[4] = 21\n",
    "print(L)\n",
    "\n",
    "BMI2 = BMI1 + [\"Leighton\", L[3]/L[2]**2]\n",
    "print(BMI2)\n",
    "\n",
    "WC2 = WC1 + [\"Leighton\", \"healthy\"]\n",
    "print(WC2)\n",
    "\n",
    "Leighton = str(L[0]) + \" \" + str(L[1]) + \", age \" + str(L[4]) + \", has a height of \" + str(L[2]) + \" m and weight of \" + str(L[3]) + \" kg, giving her a body mass index of \" + str(BMI[11]) + \", making her \" + str(WC[11])\n",
    "print(Leighton)"
   ]
  },
  {
   "cell_type": "markdown",
   "metadata": {},
   "source": [
    "When you are done with your lab, upload this document to your github folder on the class site. Then submit a url link to the completed lab, along with a screenshot of your completed Ch 2 score in datacamp, to the assignment tab in Moodle."
   ]
  },
  {
   "cell_type": "code",
   "execution_count": null,
   "metadata": {},
   "outputs": [],
   "source": []
  },
  {
   "cell_type": "markdown",
   "metadata": {},
   "source": [
    "# Scratch"
   ]
  },
  {
   "cell_type": "code",
   "execution_count": 5,
   "metadata": {},
   "outputs": [],
   "source": [
    "# this is an area of the notebook you can mess around and test things out, if you don't want to put it above"
   ]
  },
  {
   "cell_type": "code",
   "execution_count": null,
   "metadata": {},
   "outputs": [],
   "source": []
  },
  {
   "cell_type": "code",
   "execution_count": null,
   "metadata": {},
   "outputs": [],
   "source": []
  }
 ],
 "metadata": {
  "kernelspec": {
   "display_name": "Python 3 (ipykernel)",
   "language": "python",
   "name": "python3"
  },
  "language_info": {
   "codemirror_mode": {
    "name": "ipython",
    "version": 3
   },
   "file_extension": ".py",
   "mimetype": "text/x-python",
   "name": "python",
   "nbconvert_exporter": "python",
   "pygments_lexer": "ipython3",
   "version": "3.13.5"
  }
 },
 "nbformat": 4,
 "nbformat_minor": 4
}
