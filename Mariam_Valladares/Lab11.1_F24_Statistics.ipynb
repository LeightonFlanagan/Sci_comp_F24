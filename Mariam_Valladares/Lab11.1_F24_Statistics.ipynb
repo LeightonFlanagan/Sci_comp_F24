{
 "cells": [
  {
   "cell_type": "markdown",
   "id": "cooked-impact",
   "metadata": {
    "panel-layout": {
     "height": 51.12215805053711,
     "visible": true,
     "width": 100
    }
   },
   "source": [
    "Name: Mariam Valladares"
   ]
  },
  {
   "cell_type": "markdown",
   "id": "crazy-drunk",
   "metadata": {
    "panel-layout": {
     "height": 51.12215805053711,
     "visible": true,
     "width": 100
    }
   },
   "source": [
    "Labpartner(s)"
   ]
  },
  {
   "cell_type": "code",
   "execution_count": 2,
   "id": "statistical-animal",
   "metadata": {
    "tags": []
   },
   "outputs": [],
   "source": [
    "#import statements go here\n",
    "import matplotlib.pyplot as plt"
   ]
  },
  {
   "cell_type": "markdown",
   "id": "appointed-tribute",
   "metadata": {
    "panel-layout": {
     "height": 60.596588134765625,
     "visible": true,
     "width": 100
    }
   },
   "source": [
    "# Class 11.1"
   ]
  },
  {
   "cell_type": "markdown",
   "id": "834986df-a157-45a3-8679-12e793fe2c47",
   "metadata": {
    "panel-layout": {
     "height": 97.40056610107422,
     "visible": true,
     "width": 100
    }
   },
   "source": [
    "We are moving into the last weeks of the semester. \n",
    "\n",
    "If you are behind or need to resubmit a lab, all of the labs up to 9.2 need to be turned in by the end of next week, Friday 11/15 end of day. Reminder these need to be completed to pass the course. Please check Moodle to see if you had one sent back."
   ]
  },
  {
   "cell_type": "markdown",
   "id": "bbdf9630-73a5-4a8d-98c2-45c5ef81a0f0",
   "metadata": {},
   "source": [
    "# Warmup 11.1"
   ]
  },
  {
   "cell_type": "markdown",
   "id": "tracked-tradition",
   "metadata": {
    "panel-layout": {
     "height": 260.21307373046875,
     "visible": true,
     "width": 100
    }
   },
   "source": [
    "**W.1** Write a function that returns a list of the first n powers of 2 (2^0, 2^1, 2^2, 2^3...2^n)."
   ]
  },
  {
   "cell_type": "code",
   "execution_count": 1,
   "id": "champion-rouge",
   "metadata": {
    "tags": []
   },
   "outputs": [
    {
     "name": "stdout",
     "output_type": "stream",
     "text": [
      "[1, 2, 4, 8, 16]\n"
     ]
    }
   ],
   "source": [
    "def powers_of_two(n):\n",
    "    return [2**i for i in range(n)]\n",
    "\n",
    "# Example\n",
    "n1 = 5\n",
    "result = powers_of_two(n1)\n",
    "print(result)"
   ]
  },
  {
   "cell_type": "markdown",
   "id": "d8da4541-ba6f-4313-8571-27b16539d41e",
   "metadata": {},
   "source": [
    "**W.2** Using the function above, plot the first 100 powers of 2"
   ]
  },
  {
   "cell_type": "code",
   "execution_count": 5,
   "id": "ab0b4930-a77d-467a-9fc9-5ac6602f8217",
   "metadata": {
    "tags": []
   },
   "outputs": [
    {
     "data": {
      "image/png": "[encoded data removed]",
      "text/plain": [
       "<Figure size 1000x600 with 1 Axes>"
      ]
     },
     "metadata": {},
     "output_type": "display_data"
    }
   ],
   "source": [
    "n2 = 100\n",
    "powers = powers_of_two(n2)\n",
    "\n",
    "# Plot the values\n",
    "plt.figure(figsize=(10, 6))\n",
    "plt.plot(range(n2), powers, marker='o', linestyle='-', color='g')\n",
    "\n",
    "# Labels\n",
    "plt.xlabel('Exponent (i)', fontsize=12)\n",
    "plt.ylabel('2^i', fontsize=12)\n",
    "plt.title('First 100 Powers of 2', fontsize=14)\n",
    "plt.grid(True)\n",
    "\n",
    "# Show the plot\n",
    "plt.show()"
   ]
  },
  {
   "cell_type": "markdown",
   "id": "needed-irish",
   "metadata": {
    "panel-layout": {
     "height": 156.05113220214844,
     "visible": true,
     "width": 100
    }
   },
   "source": [
    "# Lecture 11.1\n",
    "\n",
    "No lecture today!\n",
    "If you have any questions, please post on slack and we will respond"
   ]
  },
  {
   "cell_type": "markdown",
   "id": "be69581e-ee02-4aa7-a18e-74c2d61cc1c7",
   "metadata": {
    "panel-layout": {
     "height": 10,
     "visible": true,
     "width": 100
    }
   },
   "source": []
  },
  {
   "cell_type": "markdown",
   "id": "working-lottery",
   "metadata": {
    "panel-layout": {
     "height": 60.596588134765625,
     "visible": true,
     "width": 100
    }
   },
   "source": [
    "# Lab 11.1"
   ]
  },
  {
   "cell_type": "markdown",
   "id": "42ba70db-1894-44eb-9688-5380d60b34f6",
   "metadata": {
    "panel-layout": {
     "height": 51.12215805053711,
     "visible": true,
     "width": 100
    }
   },
   "source": [
    "**E.0** Complete the previous labs if you are behind."
   ]
  },
  {
   "cell_type": "markdown",
   "id": "6254f746-973e-4ebe-ad02-f81c98a1d7c6",
   "metadata": {
    "panel-layout": {
     "height": 114.54544830322266,
     "visible": true,
     "width": 100
    }
   },
   "source": [
    "**E.1** Complete Introduction to Statistics in Python. Remember to submit your datacamp scores."
   ]
  },
  {
   "cell_type": "markdown",
   "id": "computational-child",
   "metadata": {
    "panel-layout": {
     "height": 85.41192626953125,
     "visible": true,
     "width": 100
    }
   },
   "source": [
    "**Notes** Make notes for yourself on progamming tecniques and commands you learned in the this week, including examples, comments and explainitory text. You can do this here or in a separate notebook that you link to here. Basically, you are making a cheat sheet for yourself."
   ]
  },
  {
   "cell_type": "code",
   "execution_count": null,
   "id": "consecutive-bowling",
   "metadata": {},
   "outputs": [],
   "source": [
    "##mean median\n",
    "np.mean(usa_consumption['consumption']))\n",
    "\n",
    "# Calculate median consumption in USA\n",
    "print(np.median(usa_consumption['consumption'])\n",
    "      \n",
    "#variance and std\n",
    "print(food_consumption.groupby('food_category')['co2_emission'].agg(['var', 'std']))\n",
    "      "
   ]
  },
  {
   "cell_type": "code",
   "execution_count": null,
   "id": "a14a68ea-90e3-4c1f-bf2e-70a828ce942e",
   "metadata": {},
   "outputs": [],
   "source": [
    "#example to find outliers using quartiles\n",
    "# Calculate total co2_emission per country: emissions_by_country\n",
    "emissions_by_country = food_consumption.groupby('country')['co2_emission'].sum()\n",
    "\n",
    "# Compute the first and third quantiles and IQR of emissions_by_country\n",
    "q1 = np.quantile(emissions_by_country, 0.25)\n",
    "q3 = np.quantile(emissions_by_country, 0.75)\n",
    "iqr = q3 - q1\n",
    "\n",
    "# Calculate the lower and upper cutoffs for outliers\n",
    "lower = q1 - 1.5 * iqr\n",
    "upper = q3 + 1.5 * iqr\n",
    "\n",
    "# Subset emissions_by_country to find outliers\n",
    "outliers = emissions_by_country[(emissions_by_country > upper)|(emissions_by_country < lower)]\n",
    "print(outliers)"
   ]
  },
  {
   "cell_type": "code",
   "execution_count": null,
   "id": "ef88c48e-f5bd-495c-8543-f00238c140e7",
   "metadata": {},
   "outputs": [],
   "source": [
    "#take random sample\n",
    "# Set random seed\n",
    "np.random.seed(24)\n",
    "\n",
    "# Sample 5 deals without replacement\n",
    "sample_without_replacement = amir_deals.sample(n=5, replace=False)  #true applies replacement\n",
    "print(sample_without_replacement)"
   ]
  },
  {
   "cell_type": "code",
   "execution_count": null,
   "id": "d961b15f-5694-4dc9-8e89-fd5dea15a50d",
   "metadata": {},
   "outputs": [],
   "source": [
    "#calculate binomial probability\n",
    "# Import binom from scipy.stats\n",
    "from scipy.stats import binom\n",
    "# Probability of closing 3 out of 3 deals\n",
    "prob_3 = binom.pmf(3, 3, 0.30)"
   ]
  }
 ],
 "metadata": {
  "kernelspec": {
   "display_name": "Python 3 (ipykernel)",
   "language": "python",
   "name": "python3"
  },
  "language_info": {
   "codemirror_mode": {
    "name": "ipython",
    "version": 3
   },
   "file_extension": ".py",
   "mimetype": "text/x-python",
   "name": "python",
   "nbconvert_exporter": "python",
   "pygments_lexer": "ipython3",
   "version": "3.11.5"
  },
  "panel-cell-order": [
   "cooked-impact",
   "crazy-drunk",
   "appointed-tribute",
   "834986df-a157-45a3-8679-12e793fe2c47",
   "tracked-tradition",
   "needed-irish",
   "crucial-hobby",
   "be69581e-ee02-4aa7-a18e-74c2d61cc1c7",
   "working-lottery",
   "42ba70db-1894-44eb-9688-5380d60b34f6",
   "6254f746-973e-4ebe-ad02-f81c98a1d7c6",
   "ordinary-variable",
   "f8909a65-8319-4676-8478-c7e691e05403",
   "fff227cb-6c67-4666-825c-73b39feaa02f",
   "36b09aeb-22b0-4a9c-a95b-f4940e362a18",
   "computational-child"
  ]
 },
 "nbformat": 4,
 "nbformat_minor": 5
}
