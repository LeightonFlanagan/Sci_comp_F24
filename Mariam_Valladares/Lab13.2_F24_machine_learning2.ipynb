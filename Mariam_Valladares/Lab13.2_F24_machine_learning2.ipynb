{
 "cells": [
  {
   "cell_type": "markdown",
   "id": "tight-wildlife",
   "metadata": {},
   "source": [
    "Name: Mariam Valladares"
   ]
  },
  {
   "cell_type": "markdown",
   "id": "distinct-appliance",
   "metadata": {},
   "source": [
    "Labpartner(s)"
   ]
  },
  {
   "cell_type": "code",
   "execution_count": null,
   "id": "palestinian-convert",
   "metadata": {},
   "outputs": [],
   "source": [
    "# import statements go here\n"
   ]
  },
  {
   "cell_type": "markdown",
   "id": "returning-carnival",
   "metadata": {},
   "source": [
    "# Class 13.2"
   ]
  },
  {
   "cell_type": "markdown",
   "id": "latter-injury",
   "metadata": {},
   "source": [
    "# Warmups 13.2"
   ]
  },
  {
   "cell_type": "markdown",
   "id": "alternative-north",
   "metadata": {},
   "source": [
    "**W.1 Pandas Practice** \n",
    "\n",
    "Create a pandas series from each of the items below: a list, numpy and a dictionary\n",
    "\n",
    "mylist = list('abcedfghijklmnopqrstuvwxyz')\n",
    "\n",
    "myarr = np.arange(26)\n",
    "\n",
    "mydict = dict(zip(mylist, myarr))"
   ]
  },
  {
   "cell_type": "code",
   "execution_count": 1,
   "id": "inner-finish",
   "metadata": {},
   "outputs": [],
   "source": [
    "import pandas as pd\n",
    "import numpy as np"
   ]
  },
  {
   "cell_type": "code",
   "execution_count": 2,
   "id": "64b42653-8441-48d4-9384-d585ad58fd2d",
   "metadata": {},
   "outputs": [
    {
     "name": "stdout",
     "output_type": "stream",
     "text": [
      "Pandas Series from List:\n",
      "0     a\n",
      "1     b\n",
      "2     c\n",
      "3     e\n",
      "4     d\n",
      "5     f\n",
      "6     g\n",
      "7     h\n",
      "8     i\n",
      "9     j\n",
      "10    k\n",
      "11    l\n",
      "12    m\n",
      "13    n\n",
      "14    o\n",
      "15    p\n",
      "16    q\n",
      "17    r\n",
      "18    s\n",
      "19    t\n",
      "20    u\n",
      "21    v\n",
      "22    w\n",
      "23    x\n",
      "24    y\n",
      "25    z\n",
      "dtype: object\n"
     ]
    }
   ],
   "source": [
    "#From a list\n",
    "mylist = list('abcedfghijklmnopqrstuvwxyz')\n",
    "list_series = pd.Series(mylist)\n",
    "print(\"Pandas Series from List:\")\n",
    "print(list_series)"
   ]
  },
  {
   "cell_type": "code",
   "execution_count": 3,
   "id": "aa48263a-f7c5-436a-a91b-b368ba412401",
   "metadata": {},
   "outputs": [
    {
     "name": "stdout",
     "output_type": "stream",
     "text": [
      "\n",
      "Pandas Series from NumPy Array:\n",
      "0      0\n",
      "1      1\n",
      "2      2\n",
      "3      3\n",
      "4      4\n",
      "5      5\n",
      "6      6\n",
      "7      7\n",
      "8      8\n",
      "9      9\n",
      "10    10\n",
      "11    11\n",
      "12    12\n",
      "13    13\n",
      "14    14\n",
      "15    15\n",
      "16    16\n",
      "17    17\n",
      "18    18\n",
      "19    19\n",
      "20    20\n",
      "21    21\n",
      "22    22\n",
      "23    23\n",
      "24    24\n",
      "25    25\n",
      "dtype: int32\n"
     ]
    }
   ],
   "source": [
    "#From a numpy array\n",
    "myarr = np.arange(26)\n",
    "arr_series = pd.Series(myarr)\n",
    "print(\"\\nPandas Series from NumPy Array:\")\n",
    "print(arr_series)"
   ]
  },
  {
   "cell_type": "code",
   "execution_count": 4,
   "id": "2b979b87-b10c-4d5b-92e8-5ac75071a9d2",
   "metadata": {},
   "outputs": [
    {
     "name": "stdout",
     "output_type": "stream",
     "text": [
      "\n",
      "Pandas Series from Dictionary:\n",
      "a     0\n",
      "b     1\n",
      "c     2\n",
      "e     3\n",
      "d     4\n",
      "f     5\n",
      "g     6\n",
      "h     7\n",
      "i     8\n",
      "j     9\n",
      "k    10\n",
      "l    11\n",
      "m    12\n",
      "n    13\n",
      "o    14\n",
      "p    15\n",
      "q    16\n",
      "r    17\n",
      "s    18\n",
      "t    19\n",
      "u    20\n",
      "v    21\n",
      "w    22\n",
      "x    23\n",
      "y    24\n",
      "z    25\n",
      "dtype: int32\n"
     ]
    }
   ],
   "source": [
    "#From a dictionary\n",
    "mydict = dict(zip(mylist, myarr))\n",
    "dict_series = pd.Series(mydict)\n",
    "print(\"\\nPandas Series from Dictionary:\")\n",
    "print(dict_series)"
   ]
  },
  {
   "cell_type": "markdown",
   "id": "d01d83b5-0624-45ff-89d4-03d8ee7ac8f1",
   "metadata": {},
   "source": [
    "**W.2 Pandas Practice con** \n",
    "\n",
    "Convert the series you just created into a dataframe with its index as another column on the dataframe."
   ]
  },
  {
   "cell_type": "code",
   "execution_count": 5,
   "id": "3df2ac46-de6e-4ef0-8b6a-356f33079545",
   "metadata": {
    "scrolled": true
   },
   "outputs": [
    {
     "name": "stdout",
     "output_type": "stream",
     "text": [
      "    index Letter\n",
      "0       0      a\n",
      "1       1      b\n",
      "2       2      c\n",
      "3       3      e\n",
      "4       4      d\n",
      "5       5      f\n",
      "6       6      g\n",
      "7       7      h\n",
      "8       8      i\n",
      "9       9      j\n",
      "10     10      k\n",
      "11     11      l\n",
      "12     12      m\n",
      "13     13      n\n",
      "14     14      o\n",
      "15     15      p\n",
      "16     16      q\n",
      "17     17      r\n",
      "18     18      s\n",
      "19     19      t\n",
      "20     20      u\n",
      "21     21      v\n",
      "22     22      w\n",
      "23     23      x\n",
      "24     24      y\n",
      "25     25      z\n"
     ]
    }
   ],
   "source": [
    "list_df = list_series.reset_index(name='Letter')\n",
    "print(list_df)"
   ]
  },
  {
   "cell_type": "code",
   "execution_count": 6,
   "id": "4973e5b6-a97f-4296-84ca-d33c3ba19863",
   "metadata": {
    "scrolled": true
   },
   "outputs": [
    {
     "name": "stdout",
     "output_type": "stream",
     "text": [
      "    index  Number\n",
      "0       0       0\n",
      "1       1       1\n",
      "2       2       2\n",
      "3       3       3\n",
      "4       4       4\n",
      "5       5       5\n",
      "6       6       6\n",
      "7       7       7\n",
      "8       8       8\n",
      "9       9       9\n",
      "10     10      10\n",
      "11     11      11\n",
      "12     12      12\n",
      "13     13      13\n",
      "14     14      14\n",
      "15     15      15\n",
      "16     16      16\n",
      "17     17      17\n",
      "18     18      18\n",
      "19     19      19\n",
      "20     20      20\n",
      "21     21      21\n",
      "22     22      22\n",
      "23     23      23\n",
      "24     24      24\n",
      "25     25      25\n"
     ]
    }
   ],
   "source": [
    "arr_df = arr_series.reset_index(name='Number')\n",
    "print(arr_df)"
   ]
  },
  {
   "cell_type": "code",
   "execution_count": 7,
   "id": "1bc9c102-2a97-45e0-8db1-baed679db249",
   "metadata": {},
   "outputs": [
    {
     "name": "stdout",
     "output_type": "stream",
     "text": [
      "   index  Value\n",
      "0      a      0\n",
      "1      b      1\n",
      "2      c      2\n",
      "3      e      3\n",
      "4      d      4\n",
      "5      f      5\n",
      "6      g      6\n",
      "7      h      7\n",
      "8      i      8\n",
      "9      j      9\n",
      "10     k     10\n",
      "11     l     11\n",
      "12     m     12\n",
      "13     n     13\n",
      "14     o     14\n",
      "15     p     15\n",
      "16     q     16\n",
      "17     r     17\n",
      "18     s     18\n",
      "19     t     19\n",
      "20     u     20\n",
      "21     v     21\n",
      "22     w     22\n",
      "23     x     23\n",
      "24     y     24\n",
      "25     z     25\n"
     ]
    }
   ],
   "source": [
    "dict_df = dict_series.reset_index(name='Value')\n",
    "print(dict_df)"
   ]
  },
  {
   "cell_type": "markdown",
   "id": "6d74a1dc-8f91-455c-a5d6-9c16aa9df080",
   "metadata": {},
   "source": [
    "**W.3 Pandas Practice con** \n",
    "\n",
    "Combine two series to form a dataframe."
   ]
  },
  {
   "cell_type": "code",
   "execution_count": 8,
   "id": "59e7be0c-c1af-4cf4-9952-ab55c6647222",
   "metadata": {},
   "outputs": [
    {
     "name": "stdout",
     "output_type": "stream",
     "text": [
      "   Letter  Number\n",
      "0       a       0\n",
      "1       b       1\n",
      "2       c       2\n",
      "3       e       3\n",
      "4       d       4\n",
      "5       f       5\n",
      "6       g       6\n",
      "7       h       7\n",
      "8       i       8\n",
      "9       j       9\n",
      "10      k      10\n",
      "11      l      11\n",
      "12      m      12\n",
      "13      n      13\n",
      "14      o      14\n",
      "15      p      15\n",
      "16      q      16\n",
      "17      r      17\n",
      "18      s      18\n",
      "19      t      19\n",
      "20      u      20\n",
      "21      v      21\n",
      "22      w      22\n",
      "23      x      23\n",
      "24      y      24\n",
      "25      z      25\n"
     ]
    }
   ],
   "source": [
    "df_combined = pd.DataFrame({\n",
    "    'Letter': list_series,\n",
    "    'Number': arr_series\n",
    "})\n",
    "\n",
    "print(df_combined)"
   ]
  },
  {
   "cell_type": "markdown",
   "id": "df53b8c5-06cd-40bd-a7cd-9f99cbeff8f5",
   "metadata": {},
   "source": [
    "**W.4 Pandas Practice con**\n",
    "\n",
    "Compute the minimum, 25th percentile, median, 75th, and maximum of the following series:\n",
    "\n",
    "ser = pd.Series(np.random.normal(10, 5, 25))\n",
    "\n",
    "What kind of distribution is this?\n",
    "**Answer**: It is a Normal Distribution\n"
   ]
  },
  {
   "cell_type": "code",
   "execution_count": 10,
   "id": "2cbe1b40-c864-458b-8423-ee4bbd1cd19c",
   "metadata": {},
   "outputs": [
    {
     "name": "stdout",
     "output_type": "stream",
     "text": [
      "Minimum: 2.3775570498104246\n",
      "25th Percentile: 8.699361332042312\n",
      "Median: 10.571771875476859\n",
      "75th Percentile: 12.688010317092196\n",
      "Maximum: 31.6721089091676\n"
     ]
    }
   ],
   "source": [
    "# Generate the series \n",
    "ser = pd.Series(np.random.normal(10, 5, 25))\n",
    "\n",
    "# Compute the required statistics\n",
    "minimum = ser.min()\n",
    "percentile_25 = ser.quantile(0.25)\n",
    "median = ser.median()\n",
    "percentile_75 = ser.quantile(0.75)\n",
    "maximum = ser.max()\n",
    "\n",
    "# Print the results\n",
    "print(f\"Minimum: {minimum}\")\n",
    "print(f\"25th Percentile: {percentile_25}\")\n",
    "print(f\"Median: {median}\")\n",
    "print(f\"75th Percentile: {percentile_75}\")\n",
    "print(f\"Maximum: {maximum}\")   "
   ]
  },
  {
   "cell_type": "markdown",
   "id": "weird-james",
   "metadata": {},
   "source": [
    "# Lecture 13.1\n",
    "\n",
    "## Agenda:\n",
    "- Machine Learning in Scikit learn Ch 3-4"
   ]
  },
  {
   "cell_type": "markdown",
   "id": "bd3dc77a-2ca9-40ff-9f48-34ae16ad4e6c",
   "metadata": {},
   "source": [
    "# Lab 13.1"
   ]
  },
  {
   "cell_type": "markdown",
   "id": "95b2665a-c014-4cd1-aba7-b15022fa7ef0",
   "metadata": {},
   "source": [
    "#### E.0 Complete the previous labs if you are behind."
   ]
  },
  {
   "cell_type": "markdown",
   "id": "6e31b762-f054-4d70-bd58-58a66711f453",
   "metadata": {},
   "source": [
    "#### E.1 Complete Ch 3-4 of \"Supervised Learning with scikit-learn\". Don't forget to turn in your scores"
   ]
  },
  {
   "cell_type": "code",
   "execution_count": null,
   "id": "fd5499c6-7c80-42e7-9f64-9a00e206893a",
   "metadata": {},
   "outputs": [],
   "source": []
  },
  {
   "cell_type": "markdown",
   "id": "30d82416-9655-4024-ac9d-fd49e12c6182",
   "metadata": {},
   "source": [
    "**Notes** Make notes for yourself on progamming tecniques and commands you learned in the this week, including examples, comments and explainitory text. You can do this here or in a separate notebook that you link to here. Basically, you are making a cheat sheet for yourself."
   ]
  },
  {
   "cell_type": "code",
   "execution_count": null,
   "id": "f63d1c53-65da-4043-a168-cec52ea76ced",
   "metadata": {},
   "outputs": [],
   "source": []
  },
  {
   "cell_type": "markdown",
   "id": "ded98577-1d87-4f3e-a630-6074f646c977",
   "metadata": {},
   "source": [
    "#### E.2 Work on your final project"
   ]
  },
  {
   "cell_type": "code",
   "execution_count": null,
   "id": "74617577-1e8c-41cf-afd5-ee671021c54c",
   "metadata": {},
   "outputs": [],
   "source": []
  }
 ],
 "metadata": {
  "kernelspec": {
   "display_name": "Python 3 (ipykernel)",
   "language": "python",
   "name": "python3"
  },
  "language_info": {
   "codemirror_mode": {
    "name": "ipython",
    "version": 3
   },
   "file_extension": ".py",
   "mimetype": "text/x-python",
   "name": "python",
   "nbconvert_exporter": "python",
   "pygments_lexer": "ipython3",
   "version": "3.12.3"
  }
 },
 "nbformat": 4,
 "nbformat_minor": 5
}
