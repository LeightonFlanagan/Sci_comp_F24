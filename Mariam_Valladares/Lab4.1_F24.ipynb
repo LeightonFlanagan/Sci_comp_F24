{
 "cells": [
  {
   "cell_type": "markdown",
   "id": "underlying-transformation",
   "metadata": {},
   "source": [
    "Name: Mariam Valladares"
   ]
  },
  {
   "cell_type": "markdown",
   "id": "genuine-works",
   "metadata": {},
   "source": [
    "Labpartner(s): Sarah Brannum"
   ]
  },
  {
   "cell_type": "code",
   "execution_count": 1,
   "id": "international-split",
   "metadata": {
    "tags": []
   },
   "outputs": [],
   "source": [
    "#import statements go here\n",
    "import pandas as pd\n",
    "import numpy as np\n",
    "import matplotlib.pyplot as plt"
   ]
  },
  {
   "cell_type": "markdown",
   "id": "miniature-explorer",
   "metadata": {},
   "source": [
    "# Lab 4.1"
   ]
  },
  {
   "cell_type": "markdown",
   "id": "nuclear-stroke",
   "metadata": {},
   "source": [
    "## Instructions\n",
    "\n",
    "For each class, download the lab and have it up and running in Jupyter when we begin the class period. This will allow you to code along with the demonstrations and be ready to go. Put the name of your lab partner above.\n",
    "\n",
    "When you are done with your lab, upload this document to your github folder on the class site. Then submit a url link to the completed lab, along with a screenshot of your **completed score** for the chapter assigned in datacamp to the assignment tab in Moodle."
   ]
  },
  {
   "cell_type": "markdown",
   "id": "driving-abuse",
   "metadata": {},
   "source": [
    "# Warmups 4.1"
   ]
  },
  {
   "cell_type": "markdown",
   "id": "processed-competition",
   "metadata": {},
   "source": [
    "W.1-3 Do exercises 1-3 in the Data Statisics problem: http://scipy-lectures.org/intro/numpy/exercises.html#data-statistics. See lab 4.1  on how to load in the data file"
   ]
  },
  {
   "cell_type": "markdown",
   "id": "d19cf39d-3aac-4911-9016-78593472300b",
   "metadata": {},
   "source": [
    "**Data Statistics Questions**\n",
    "1. The mean and std of the populations of each species for the years in the period.\n",
    "2. Which year each species had the largest population.\n",
    "3. Which species has the largest population for each year. (Hint: argsort & fancy indexing of np.array(['H', 'L', 'C']))"
   ]
  },
  {
   "cell_type": "code",
   "execution_count": 13,
   "id": "08e0a8d2-572c-4970-8ed8-dd2befe38378",
   "metadata": {
    "tags": []
   },
   "outputs": [
    {
     "data": {
      "text/html": [
       "<div>\n",
       "<style scoped>\n",
       "    .dataframe tbody tr th:only-of-type {\n",
       "        vertical-align: middle;\n",
       "    }\n",
       "\n",
       "    .dataframe tbody tr th {\n",
       "        vertical-align: top;\n",
       "    }\n",
       "\n",
       "    .dataframe thead th {\n",
       "        text-align: right;\n",
       "    }\n",
       "</style>\n",
       "<table border=\"1\" class=\"dataframe\">\n",
       "  <thead>\n",
       "    <tr style=\"text-align: right;\">\n",
       "      <th></th>\n",
       "      <th>0</th>\n",
       "      <th>1</th>\n",
       "      <th>2</th>\n",
       "      <th>3</th>\n",
       "    </tr>\n",
       "  </thead>\n",
       "  <tbody>\n",
       "    <tr>\n",
       "      <th>0</th>\n",
       "      <td>1900.0</td>\n",
       "      <td>30000.0</td>\n",
       "      <td>4000.0</td>\n",
       "      <td>48300.0</td>\n",
       "    </tr>\n",
       "    <tr>\n",
       "      <th>1</th>\n",
       "      <td>1901.0</td>\n",
       "      <td>47200.0</td>\n",
       "      <td>6100.0</td>\n",
       "      <td>48200.0</td>\n",
       "    </tr>\n",
       "    <tr>\n",
       "      <th>2</th>\n",
       "      <td>1902.0</td>\n",
       "      <td>70200.0</td>\n",
       "      <td>9800.0</td>\n",
       "      <td>41500.0</td>\n",
       "    </tr>\n",
       "    <tr>\n",
       "      <th>3</th>\n",
       "      <td>1903.0</td>\n",
       "      <td>77400.0</td>\n",
       "      <td>35200.0</td>\n",
       "      <td>38200.0</td>\n",
       "    </tr>\n",
       "    <tr>\n",
       "      <th>4</th>\n",
       "      <td>1904.0</td>\n",
       "      <td>36300.0</td>\n",
       "      <td>59400.0</td>\n",
       "      <td>40600.0</td>\n",
       "    </tr>\n",
       "  </tbody>\n",
       "</table>\n",
       "</div>"
      ],
      "text/plain": [
       "        0        1        2        3\n",
       "0  1900.0  30000.0   4000.0  48300.0\n",
       "1  1901.0  47200.0   6100.0  48200.0\n",
       "2  1902.0  70200.0   9800.0  41500.0\n",
       "3  1903.0  77400.0  35200.0  38200.0\n",
       "4  1904.0  36300.0  59400.0  40600.0"
      ]
     },
     "execution_count": 13,
     "metadata": {},
     "output_type": "execute_result"
    }
   ],
   "source": [
    "# read the data\n",
    "data = np.loadtxt('populations.txt')"
   ]
  },
  {
   "cell_type": "code",
   "execution_count": 17,
   "id": "91a04cee-3027-4344-971c-d4f901e4c5f9",
   "metadata": {
    "tags": []
   },
   "outputs": [
    {
     "data": {
      "text/html": [
       "<div>\n",
       "<style scoped>\n",
       "    .dataframe tbody tr th:only-of-type {\n",
       "        vertical-align: middle;\n",
       "    }\n",
       "\n",
       "    .dataframe tbody tr th {\n",
       "        vertical-align: top;\n",
       "    }\n",
       "\n",
       "    .dataframe thead th {\n",
       "        text-align: right;\n",
       "    }\n",
       "</style>\n",
       "<table border=\"1\" class=\"dataframe\">\n",
       "  <thead>\n",
       "    <tr style=\"text-align: right;\">\n",
       "      <th></th>\n",
       "      <th>Mean</th>\n",
       "      <th>Std</th>\n",
       "    </tr>\n",
       "  </thead>\n",
       "  <tbody>\n",
       "    <tr>\n",
       "      <th>hares</th>\n",
       "      <td>34080.952381</td>\n",
       "      <td>20897.906458</td>\n",
       "    </tr>\n",
       "    <tr>\n",
       "      <th>lynx</th>\n",
       "      <td>20166.666667</td>\n",
       "      <td>16254.591537</td>\n",
       "    </tr>\n",
       "    <tr>\n",
       "      <th>carrot</th>\n",
       "      <td>42400.000000</td>\n",
       "      <td>3322.506226</td>\n",
       "    </tr>\n",
       "  </tbody>\n",
       "</table>\n",
       "</div>"
      ],
      "text/plain": [
       "                Mean           Std\n",
       "hares   34080.952381  20897.906458\n",
       "lynx    20166.666667  16254.591537\n",
       "carrot  42400.000000   3322.506226"
      ]
     },
     "execution_count": 17,
     "metadata": {},
     "output_type": "execute_result"
    }
   ],
   "source": [
    "# 1. mean by species\n",
    "species = {'Mean':{'hares': np.mean(data[:,1]), 'lynx':np.mean(data[:,2]), 'carrot': np.mean(data[:,3])},\n",
    "           'Std':{'hares': np.std(data[:,1]), 'lynx':np.std(data[:,2]), 'carrot': np.std(data[:,3])}\n",
    "          }\n",
    "species\n",
    "# Make it a table to visualize\n",
    "species_df = pd.DataFrame(species)\n",
    "\n",
    "species_df"
   ]
  },
  {
   "cell_type": "code",
   "execution_count": 24,
   "id": "ae9536b3-dbc8-4a55-bf66-b3fb8a1fae2e",
   "metadata": {
    "tags": []
   },
   "outputs": [
    {
     "data": {
      "text/html": [
       "<div>\n",
       "<style scoped>\n",
       "    .dataframe tbody tr th:only-of-type {\n",
       "        vertical-align: middle;\n",
       "    }\n",
       "\n",
       "    .dataframe tbody tr th {\n",
       "        vertical-align: top;\n",
       "    }\n",
       "\n",
       "    .dataframe thead th {\n",
       "        text-align: right;\n",
       "    }\n",
       "</style>\n",
       "<table border=\"1\" class=\"dataframe\">\n",
       "  <thead>\n",
       "    <tr style=\"text-align: right;\">\n",
       "      <th></th>\n",
       "      <th>hare</th>\n",
       "      <th>lynx</th>\n",
       "      <th>carrot</th>\n",
       "    </tr>\n",
       "    <tr>\n",
       "      <th># year</th>\n",
       "      <th></th>\n",
       "      <th></th>\n",
       "      <th></th>\n",
       "    </tr>\n",
       "  </thead>\n",
       "  <tbody>\n",
       "    <tr>\n",
       "      <th>1900</th>\n",
       "      <td>30000.0</td>\n",
       "      <td>4000.0</td>\n",
       "      <td>48300</td>\n",
       "    </tr>\n",
       "    <tr>\n",
       "      <th>1901</th>\n",
       "      <td>47200.0</td>\n",
       "      <td>6100.0</td>\n",
       "      <td>48200</td>\n",
       "    </tr>\n",
       "    <tr>\n",
       "      <th>1902</th>\n",
       "      <td>70200.0</td>\n",
       "      <td>9800.0</td>\n",
       "      <td>41500</td>\n",
       "    </tr>\n",
       "    <tr>\n",
       "      <th>1903</th>\n",
       "      <td>77400.0</td>\n",
       "      <td>35200.0</td>\n",
       "      <td>38200</td>\n",
       "    </tr>\n",
       "    <tr>\n",
       "      <th>1904</th>\n",
       "      <td>36300.0</td>\n",
       "      <td>59400.0</td>\n",
       "      <td>40600</td>\n",
       "    </tr>\n",
       "    <tr>\n",
       "      <th>1905</th>\n",
       "      <td>20600.0</td>\n",
       "      <td>41700.0</td>\n",
       "      <td>39800</td>\n",
       "    </tr>\n",
       "    <tr>\n",
       "      <th>1906</th>\n",
       "      <td>18100.0</td>\n",
       "      <td>19000.0</td>\n",
       "      <td>38600</td>\n",
       "    </tr>\n",
       "    <tr>\n",
       "      <th>1907</th>\n",
       "      <td>21400.0</td>\n",
       "      <td>13000.0</td>\n",
       "      <td>42300</td>\n",
       "    </tr>\n",
       "    <tr>\n",
       "      <th>1908</th>\n",
       "      <td>22000.0</td>\n",
       "      <td>8300.0</td>\n",
       "      <td>44500</td>\n",
       "    </tr>\n",
       "    <tr>\n",
       "      <th>1909</th>\n",
       "      <td>25400.0</td>\n",
       "      <td>9100.0</td>\n",
       "      <td>42100</td>\n",
       "    </tr>\n",
       "    <tr>\n",
       "      <th>1910</th>\n",
       "      <td>27100.0</td>\n",
       "      <td>7400.0</td>\n",
       "      <td>46000</td>\n",
       "    </tr>\n",
       "    <tr>\n",
       "      <th>1911</th>\n",
       "      <td>40300.0</td>\n",
       "      <td>8000.0</td>\n",
       "      <td>46800</td>\n",
       "    </tr>\n",
       "    <tr>\n",
       "      <th>1912</th>\n",
       "      <td>57000.0</td>\n",
       "      <td>12300.0</td>\n",
       "      <td>43800</td>\n",
       "    </tr>\n",
       "    <tr>\n",
       "      <th>1913</th>\n",
       "      <td>76600.0</td>\n",
       "      <td>19500.0</td>\n",
       "      <td>40900</td>\n",
       "    </tr>\n",
       "    <tr>\n",
       "      <th>1914</th>\n",
       "      <td>52300.0</td>\n",
       "      <td>45700.0</td>\n",
       "      <td>39400</td>\n",
       "    </tr>\n",
       "    <tr>\n",
       "      <th>1915</th>\n",
       "      <td>19500.0</td>\n",
       "      <td>51100.0</td>\n",
       "      <td>39000</td>\n",
       "    </tr>\n",
       "    <tr>\n",
       "      <th>1916</th>\n",
       "      <td>11200.0</td>\n",
       "      <td>29700.0</td>\n",
       "      <td>36700</td>\n",
       "    </tr>\n",
       "    <tr>\n",
       "      <th>1917</th>\n",
       "      <td>7600.0</td>\n",
       "      <td>15800.0</td>\n",
       "      <td>41800</td>\n",
       "    </tr>\n",
       "    <tr>\n",
       "      <th>1918</th>\n",
       "      <td>14600.0</td>\n",
       "      <td>9700.0</td>\n",
       "      <td>43300</td>\n",
       "    </tr>\n",
       "    <tr>\n",
       "      <th>1919</th>\n",
       "      <td>16200.0</td>\n",
       "      <td>10100.0</td>\n",
       "      <td>41300</td>\n",
       "    </tr>\n",
       "    <tr>\n",
       "      <th>1920</th>\n",
       "      <td>24700.0</td>\n",
       "      <td>8600.0</td>\n",
       "      <td>47300</td>\n",
       "    </tr>\n",
       "  </tbody>\n",
       "</table>\n",
       "</div>"
      ],
      "text/plain": [
       "           hare     lynx  carrot\n",
       "# year                          \n",
       "1900    30000.0   4000.0   48300\n",
       "1901    47200.0   6100.0   48200\n",
       "1902    70200.0   9800.0   41500\n",
       "1903    77400.0  35200.0   38200\n",
       "1904    36300.0  59400.0   40600\n",
       "1905    20600.0  41700.0   39800\n",
       "1906    18100.0  19000.0   38600\n",
       "1907    21400.0  13000.0   42300\n",
       "1908    22000.0   8300.0   44500\n",
       "1909    25400.0   9100.0   42100\n",
       "1910    27100.0   7400.0   46000\n",
       "1911    40300.0   8000.0   46800\n",
       "1912    57000.0  12300.0   43800\n",
       "1913    76600.0  19500.0   40900\n",
       "1914    52300.0  45700.0   39400\n",
       "1915    19500.0  51100.0   39000\n",
       "1916    11200.0  29700.0   36700\n",
       "1917     7600.0  15800.0   41800\n",
       "1918    14600.0   9700.0   43300\n",
       "1919    16200.0  10100.0   41300\n",
       "1920    24700.0   8600.0   47300"
      ]
     },
     "execution_count": 24,
     "metadata": {},
     "output_type": "execute_result"
    }
   ],
   "source": [
    "# 2. year in which species had the largest population\n",
    "data_df = pd.read_csv('populations.txt', sep= '\\t', index_col = 0 )\n",
    "\n",
    "data_df"
   ]
  },
  {
   "cell_type": "code",
   "execution_count": 26,
   "id": "9de9c0fb-059d-44e3-b350-6ec8535af1d9",
   "metadata": {
    "tags": []
   },
   "outputs": [
    {
     "data": {
      "text/plain": [
       "3"
      ]
     },
     "execution_count": 26,
     "metadata": {},
     "output_type": "execute_result"
    }
   ],
   "source": [
    "#hares\n",
    "np.argmax(data_df.iloc[:,[0]])"
   ]
  },
  {
   "cell_type": "code",
   "execution_count": 27,
   "id": "e037b9c8-be0f-4e3b-abfd-7efcfdc86b65",
   "metadata": {
    "tags": []
   },
   "outputs": [
    {
     "data": {
      "text/plain": [
       "4"
      ]
     },
     "execution_count": 27,
     "metadata": {},
     "output_type": "execute_result"
    }
   ],
   "source": [
    "#lynx\n",
    "np.argmax(data_df.iloc[:,[1]])"
   ]
  },
  {
   "cell_type": "code",
   "execution_count": 28,
   "id": "768caafd-fd42-4bc0-8837-62714afb9fac",
   "metadata": {
    "tags": []
   },
   "outputs": [
    {
     "data": {
      "text/plain": [
       "0"
      ]
     },
     "execution_count": 28,
     "metadata": {},
     "output_type": "execute_result"
    }
   ],
   "source": [
    "#Carrot\n",
    "np.argmax(data_df.iloc[:,[2]])"
   ]
  },
  {
   "cell_type": "markdown",
   "id": "835b35a3-5376-451d-b9a9-3901d534b36e",
   "metadata": {},
   "source": [
    "**Answer** For hares the year was 1903, for Lynx was 1904, and for carrot 1900"
   ]
  },
  {
   "cell_type": "code",
   "execution_count": 36,
   "id": "21b477f7-e98a-47e8-b338-7b672e71c43b",
   "metadata": {
    "tags": []
   },
   "outputs": [
    {
     "data": {
      "text/plain": [
       "# year\n",
       "1900    carrot\n",
       "1901    carrot\n",
       "1902      hare\n",
       "1903      hare\n",
       "1904      lynx\n",
       "1905      lynx\n",
       "1906    carrot\n",
       "1907    carrot\n",
       "1908    carrot\n",
       "1909    carrot\n",
       "1910    carrot\n",
       "1911    carrot\n",
       "1912      hare\n",
       "1913      hare\n",
       "1914      hare\n",
       "1915      lynx\n",
       "1916    carrot\n",
       "1917    carrot\n",
       "1918    carrot\n",
       "1919    carrot\n",
       "1920    carrot\n",
       "dtype: object"
      ]
     },
     "execution_count": 36,
     "metadata": {},
     "output_type": "execute_result"
    }
   ],
   "source": [
    "# 3 Which species has the largest population for each year\n",
    "maxValues = data_df.idxmax(axis=1)\n",
    "\n",
    "maxValues"
   ]
  },
  {
   "cell_type": "markdown",
   "id": "following-detective",
   "metadata": {},
   "source": [
    "# Lecture 4.1"
   ]
  },
  {
   "cell_type": "markdown",
   "id": "fatty-period",
   "metadata": {},
   "source": [
    "Agenda:\n",
    "\n",
    "- Checking in after the hurricane, how is everyone doing?\n",
    "- Coding questions\n",
    "- Tabs in python\n",
    "\n",
    "Some relevant coding humor: https://www.youtube.com/watch?v=JfEIkkDkrmE"
   ]
  },
  {
   "cell_type": "markdown",
   "id": "b35d93e4-7938-4a08-b3b3-e02070bc8323",
   "metadata": {},
   "source": [
    "Let's go over some of the examples here: https://scipy-lectures.org/intro/language/control_flow.html"
   ]
  },
  {
   "cell_type": "code",
   "execution_count": 33,
   "id": "5d7a078f-a636-4ba1-a3ed-0b744e641000",
   "metadata": {
    "tags": []
   },
   "outputs": [
    {
     "data": {
      "text/plain": [
       "array([1, 2, 3])"
      ]
     },
     "execution_count": 33,
     "metadata": {},
     "output_type": "execute_result"
    }
   ],
   "source": [
    "x = np.array([1,2,3])\n",
    "x"
   ]
  },
  {
   "cell_type": "code",
   "execution_count": 34,
   "id": "4bd0ed1a-89b0-4e86-a1d7-3b7beaee2768",
   "metadata": {
    "tags": []
   },
   "outputs": [
    {
     "name": "stdout",
     "output_type": "stream",
     "text": [
      "yes\n"
     ]
    }
   ],
   "source": [
    "if x[0] == 1:\n",
    "    print('yes')"
   ]
  },
  {
   "cell_type": "code",
   "execution_count": 35,
   "id": "graduate-relay",
   "metadata": {
    "tags": []
   },
   "outputs": [
    {
     "name": "stdout",
     "output_type": "stream",
     "text": [
      "Hello\n"
     ]
    }
   ],
   "source": [
    "# if statement\n",
    "\n",
    "if (x[1] == 3):\n",
    "    print('yes') # there is a tab before the print statement\n",
    "    \n",
    "print('Hello')    # this is not part of the if statement\n"
   ]
  },
  {
   "cell_type": "code",
   "execution_count": 37,
   "id": "documented-district",
   "metadata": {
    "tags": []
   },
   "outputs": [
    {
     "data": {
      "text/plain": [
       "True"
      ]
     },
     "execution_count": 37,
     "metadata": {},
     "output_type": "execute_result"
    }
   ],
   "source": [
    "x[1] == 2"
   ]
  },
  {
   "cell_type": "code",
   "execution_count": 38,
   "id": "international-halifax",
   "metadata": {
    "tags": []
   },
   "outputs": [
    {
     "data": {
      "text/plain": [
       "array([4, 7, 6])"
      ]
     },
     "execution_count": 38,
     "metadata": {},
     "output_type": "execute_result"
    }
   ],
   "source": [
    "y = np.array([4,7,6])\n",
    "y"
   ]
  },
  {
   "cell_type": "code",
   "execution_count": 39,
   "id": "velvet-citation",
   "metadata": {
    "tags": []
   },
   "outputs": [
    {
     "name": "stdout",
     "output_type": "stream",
     "text": [
      "Bogus\n"
     ]
    }
   ],
   "source": [
    "if (y[-1] > 7):\n",
    "    print(\"Excellent\")\n",
    "\n",
    "print('Bogus')"
   ]
  },
  {
   "cell_type": "markdown",
   "id": "widespread-attention",
   "metadata": {},
   "source": [
    "# Lab 4.1"
   ]
  },
  {
   "cell_type": "markdown",
   "id": "freelance-property",
   "metadata": {},
   "source": [
    "**E.1** Complete intermediate python chapter 3: Logic, Control Flow and Filtering\n",
    "\n",
    "Note that the tutorials here have similar material for your needs:\n",
    "https://github.com/chsharrison/Sci_comp_F24/blob/main/Course_materials/resources.md"
   ]
  },
  {
   "cell_type": "code",
   "execution_count": null,
   "id": "floating-observation",
   "metadata": {},
   "outputs": [],
   "source": []
  },
  {
   "cell_type": "markdown",
   "id": "prescribed-shooting",
   "metadata": {},
   "source": [
    "**E.2** Make notes for yourself on all of the progamming tecniques and commands you learned in the datacamp chapter above, including examples, comments and explainitory text. You can do this here or in a separate notebook that you link to here. Basically, you are making a cheat sheet for yourself."
   ]
  },
  {
   "cell_type": "code",
   "execution_count": 86,
   "id": "invisible-gather",
   "metadata": {},
   "outputs": [
    {
     "data": {
      "text/plain": [
       "True"
      ]
     },
     "execution_count": 86,
     "metadata": {},
     "output_type": "execute_result"
    }
   ],
   "source": [
    "## Comparison Operators applicable to strings, boolean and numbers (integers or floats) as well as arrays\n",
    "# Comparison of booleans\n",
    "\"True\" == \"False\"\n",
    "\n",
    "# Comparison of integers\n",
    "-5 * 15 != 75\n",
    "\n",
    "# Comparison of strings\n",
    "\"pyscript\" == \"PyScript\"\n",
    "\n",
    "# Compare a boolean with an integer\n",
    "True == 1\n",
    "\n",
    "#greater than\n",
    "x = -3 * 6\n",
    "print(x >= -10)\n",
    "\n",
    "#less than\n",
    "y = \"test\"\n",
    "print(\"test\" <= y) "
   ]
  },
  {
   "cell_type": "code",
   "execution_count": 87,
   "id": "29d49265-865e-41a5-8420-4ab2995bc8c7",
   "metadata": {
    "tags": []
   },
   "outputs": [
    {
     "data": {
      "text/plain": [
       "False"
      ]
     },
     "execution_count": 87,
     "metadata": {},
     "output_type": "execute_result"
    }
   ],
   "source": [
    "## Boolean operators \"and\", \"or\", \"not\"\n",
    "my_kitchen = 18.0\n",
    "your_kitchen = 14.0\n",
    "\n",
    "#AND\n",
    "my_kitchen > 10 and my_kitchen < 18\n",
    "\n",
    "#OR\n",
    "my_kitchen < 14 or my_kitchen > 17\n",
    "\n",
    "#NOT\n",
    "x = 8\n",
    "y = 9\n",
    "not(not(x < 3) and not(y > 14 or y > 10))"
   ]
  },
  {
   "cell_type": "code",
   "execution_count": 89,
   "id": "e6e99b89-13ac-4233-a8b8-355a38ad5386",
   "metadata": {
    "tags": []
   },
   "outputs": [
    {
     "data": {
      "text/plain": [
       "array([False,  True, False,  True])"
      ]
     },
     "execution_count": 89,
     "metadata": {},
     "output_type": "execute_result"
    }
   ],
   "source": [
    "# Boolean operators with Numpy arrays: Previous booleans operators cannot be used for numpy arrays therefore requires the \n",
    "#use of specific functions within the numpy package.\n",
    "import numpy as np\n",
    "my_house = np.array([18.0, 20.0, 10.75, 9.50])\n",
    "your_house = np.array([14.0, 24.0, 14.25, 9.0])\n",
    "\n",
    "#AND\n",
    "np.logical_and(my_house<11, your_house<11)\n",
    "\n",
    "#OR\n",
    "np.logical_or(my_house > 18.5, my_house < 10)"
   ]
  },
  {
   "cell_type": "code",
   "execution_count": 90,
   "id": "bd0c112f-1eb4-4770-8170-a57e735f3c51",
   "metadata": {
    "tags": []
   },
   "outputs": [
    {
     "name": "stdout",
     "output_type": "stream",
     "text": [
      "looking around in the kitchen.\n",
      "looking around in the kitchen.\n",
      "looking around in the kitchen.\n"
     ]
    }
   ],
   "source": [
    "# Conditional if, elif, else\n",
    "# Define variables\n",
    "room = \"kit\"\n",
    "area = 14.0\n",
    "\n",
    "# if statement for room\n",
    "if room == \"kit\" :  #here defines the condition\n",
    "    print(\"looking around in the kitchen.\")  ## what to print if the condition is True\n",
    "    \n",
    "# adding the else \n",
    "if room == \"kit\" :\n",
    "    print(\"looking around in the kitchen.\")\n",
    "else :\n",
    "    print(\"looking around elsewhere.\") ## what to print if the condition is False\n",
    "    \n",
    "# setting two conditions, if meets one of them will print the define statement\n",
    "\n",
    "if room == \"kit\" :\n",
    "    print(\"looking around in the kitchen.\")\n",
    "elif room == \"bed\":\n",
    "    print(\"looking around in the bedroom.\")  # if first condition is not met, will evaluate the second condition and print if True.\n",
    "else :\n",
    "    print(\"looking around elsewhere.\")\n"
   ]
  },
  {
   "cell_type": "code",
   "execution_count": 103,
   "id": "accf128c-671a-48c4-a814-3412850f76eb",
   "metadata": {
    "tags": []
   },
   "outputs": [
    {
     "data": {
      "text/html": [
       "<div>\n",
       "<style scoped>\n",
       "    .dataframe tbody tr th:only-of-type {\n",
       "        vertical-align: middle;\n",
       "    }\n",
       "\n",
       "    .dataframe tbody tr th {\n",
       "        vertical-align: top;\n",
       "    }\n",
       "\n",
       "    .dataframe thead th {\n",
       "        text-align: right;\n",
       "    }\n",
       "</style>\n",
       "<table border=\"1\" class=\"dataframe\">\n",
       "  <thead>\n",
       "    <tr style=\"text-align: right;\">\n",
       "      <th></th>\n",
       "      <th>cars_per_cap</th>\n",
       "      <th>drives_right</th>\n",
       "    </tr>\n",
       "    <tr>\n",
       "      <th>country</th>\n",
       "      <th></th>\n",
       "      <th></th>\n",
       "    </tr>\n",
       "  </thead>\n",
       "  <tbody>\n",
       "    <tr>\n",
       "      <th>MOR</th>\n",
       "      <td>500</td>\n",
       "      <td>True</td>\n",
       "    </tr>\n",
       "    <tr>\n",
       "      <th>UK</th>\n",
       "      <td>1000</td>\n",
       "      <td>True</td>\n",
       "    </tr>\n",
       "    <tr>\n",
       "      <th>AUS</th>\n",
       "      <td>800</td>\n",
       "      <td>True</td>\n",
       "    </tr>\n",
       "    <tr>\n",
       "      <th>USA</th>\n",
       "      <td>2000</td>\n",
       "      <td>False</td>\n",
       "    </tr>\n",
       "    <tr>\n",
       "      <th>EG</th>\n",
       "      <td>100</td>\n",
       "      <td>False</td>\n",
       "    </tr>\n",
       "    <tr>\n",
       "      <th>IN</th>\n",
       "      <td>450</td>\n",
       "      <td>True</td>\n",
       "    </tr>\n",
       "    <tr>\n",
       "      <th>SD</th>\n",
       "      <td>250</td>\n",
       "      <td>False</td>\n",
       "    </tr>\n",
       "  </tbody>\n",
       "</table>\n",
       "</div>"
      ],
      "text/plain": [
       "         cars_per_cap    drives_right \n",
       "country                               \n",
       "MOR                500            True\n",
       "UK                1000            True\n",
       "AUS                800            True\n",
       "USA               2000           False\n",
       "EG                 100           False\n",
       "IN                 450            True\n",
       "SD                 250           False"
      ]
     },
     "execution_count": 103,
     "metadata": {},
     "output_type": "execute_result"
    }
   ],
   "source": [
    "## Filtering pandas dataframes\n",
    "# Import cars data\n",
    "import pandas as pd\n",
    "cars = pd.read_csv('cars.csv', index_col = 0)\n",
    "cars\n",
    "\n",
    "# Extract drives_right column as Series: dr\n",
    "dr = cars['cars_per_cap']\n",
    "\n",
    "# Use dr to subset cars: sel\n",
    "sel = cars[dr]\n",
    "\n",
    "# can also use the booleans to subset\n",
    "# Create car_maniac: observations that have a cars_per_cap over 500\n",
    "cpc = cars['cars_per_cap']\n",
    "many_cars =  cpc > 500\n",
    "\n",
    "## use it to subset the original data\n",
    "car_maniac = cars[many_cars]\n",
    "\n",
    "\n",
    "# Can also use np.boolean operators\n",
    "# Create medium: observations with cars_per_cap between 100 and 500\n",
    "cpc = cars['cars_per_cap']\n",
    "between = np.logical_and(cpc >100, cpc < 500)  # such as this one to subset\n",
    "medium = cars[between]"
   ]
  },
  {
   "cell_type": "markdown",
   "id": "crude-checkout",
   "metadata": {},
   "source": [
    "**E.3** Exercise 1 on https://www.practicepython.org"
   ]
  },
  {
   "cell_type": "code",
   "execution_count": 41,
   "id": "curious-garage",
   "metadata": {},
   "outputs": [
    {
     "name": "stdin",
     "output_type": "stream",
     "text": [
      "What is your name:  Mariam\n"
     ]
    }
   ],
   "source": [
    "# Ask user to enter their name\n",
    "name = input(\"What is your name: \")"
   ]
  },
  {
   "cell_type": "code",
   "execution_count": 42,
   "id": "3044223b-bf67-4aa2-a3c2-29c1d76a9f87",
   "metadata": {
    "tags": []
   },
   "outputs": [
    {
     "name": "stdin",
     "output_type": "stream",
     "text": [
      "How old are you:  32\n"
     ]
    }
   ],
   "source": [
    "# Ask user their age\n",
    "age = int(input(\"How old are you: \"))"
   ]
  },
  {
   "cell_type": "code",
   "execution_count": 43,
   "id": "7d9de253-6865-4391-8bc7-79355633d5a8",
   "metadata": {
    "tags": []
   },
   "outputs": [
    {
     "name": "stdout",
     "output_type": "stream",
     "text": [
      "Mariam, you will be 100 years old in the year 2092\n"
     ]
    }
   ],
   "source": [
    "# Calculate in what year they will turn 100\n",
    "year = 2024 - age + 100\n",
    "\n",
    "## the year \n",
    "print(name + \", you will be 100 years old in the year \" + str(year))"
   ]
  },
  {
   "cell_type": "code",
   "execution_count": 64,
   "id": "d2109dba-b1d9-4c61-b68a-522111f48804",
   "metadata": {
    "tags": []
   },
   "outputs": [
    {
     "name": "stdin",
     "output_type": "stream",
     "text": [
      "Insert a number here:  4\n"
     ]
    }
   ],
   "source": [
    "#Add on to the previous program by asking the user for another number \n",
    "number = input(\"Insert a number here: \")"
   ]
  },
  {
   "cell_type": "code",
   "execution_count": 65,
   "id": "5cf89cf1-fd13-42c3-a18e-336d6a012b10",
   "metadata": {
    "tags": []
   },
   "outputs": [
    {
     "name": "stdout",
     "output_type": "stream",
     "text": [
      "Mariam, you will be 100 years old in the year 2092Mariam, you will be 100 years old in the year 2092Mariam, you will be 100 years old in the year 2092Mariam, you will be 100 years old in the year 2092\n"
     ]
    }
   ],
   "source": [
    "#printing out that many copies of the previous message.\n",
    "message = name + \", you will be 100 years old in the year \" + str(year)\n",
    "print(message * int(number))"
   ]
  },
  {
   "cell_type": "code",
   "execution_count": 66,
   "id": "86087c02-b181-4865-a704-2da62c88e428",
   "metadata": {
    "tags": []
   },
   "outputs": [
    {
     "name": "stdout",
     "output_type": "stream",
     "text": [
      "Mariam, you will be 100 years old in the year 2092\n",
      "Mariam, you will be 100 years old in the year 2092\n",
      "Mariam, you will be 100 years old in the year 2092\n",
      "Mariam, you will be 100 years old in the year 2092\n",
      "\n"
     ]
    }
   ],
   "source": [
    "#Print out that many copies of the previous message on separate lines. (Hint: the string \"\\n is the same as pressing the ENTER button)\n",
    "message2 = message + \"\\n\"\n",
    "print(message2 * int(number))\n"
   ]
  },
  {
   "cell_type": "markdown",
   "id": "infectious-renewal",
   "metadata": {},
   "source": [
    "**E.4** Exercise 2 on https://www.practicepython.org"
   ]
  },
  {
   "cell_type": "code",
   "execution_count": 67,
   "id": "narrow-relief",
   "metadata": {},
   "outputs": [
    {
     "name": "stdin",
     "output_type": "stream",
     "text": [
      "Insert a number here:  2\n"
     ]
    }
   ],
   "source": [
    "#Ask the user for a number. \n",
    "number2 = input(\"Insert a number here: \")"
   ]
  },
  {
   "cell_type": "code",
   "execution_count": 70,
   "id": "2803a5be-84ee-4256-8d57-deb571809391",
   "metadata": {
    "tags": []
   },
   "outputs": [
    {
     "name": "stdout",
     "output_type": "stream",
     "text": [
      "Even Number\n"
     ]
    }
   ],
   "source": [
    "#Depending on whether the number is even or odd, print out an appropriate message to the user.\n",
    "if int(number2) % 2 == 0: \n",
    "    print(\"Even Number\")\n",
    "else:\n",
    "    print(\"Odd Number\")\n"
   ]
  },
  {
   "cell_type": "code",
   "execution_count": 73,
   "id": "46753903-98fa-409c-b818-a495718695d7",
   "metadata": {
    "tags": []
   },
   "outputs": [
    {
     "name": "stdout",
     "output_type": "stream",
     "text": [
      "Not multiple of 4\n"
     ]
    }
   ],
   "source": [
    "#if the number is a multiple of 4, print out a different message.\n",
    "if int(number2) % 4 == 0:\n",
    "    print(\"Number multiple of 4\")\n",
    "else:\n",
    "    print(\"Not multiple of 4\")"
   ]
  },
  {
   "cell_type": "code",
   "execution_count": 74,
   "id": "2171fc28-3854-4f53-a382-576381a5c7a1",
   "metadata": {
    "tags": []
   },
   "outputs": [
    {
     "name": "stdin",
     "output_type": "stream",
     "text": [
      "Define the first number here:  5\n",
      "Define the second number here:  10\n"
     ]
    }
   ],
   "source": [
    "#Ask the user for two numbers: one number to check (call it num) and one number to divide by (check). \n",
    "num = input(\"Define the first number here: \")\n",
    "check = input(\"Define the second number here: \")"
   ]
  },
  {
   "cell_type": "code",
   "execution_count": 85,
   "id": "e7da8147-749b-49e5-9f05-abcec2a40966",
   "metadata": {
    "tags": []
   },
   "outputs": [
    {
     "name": "stdout",
     "output_type": "stream",
     "text": [
      "Your 10 is divisible by 5\n"
     ]
    }
   ],
   "source": [
    "#If check divides evenly into num, tell that to the user. If not, print a different appropriate message.\n",
    "if int(check) % int(num) == 0:\n",
    "    print(\"Your \" + check +\" is divisible by \" + num)\n",
    "else:\n",
    "    print(\"Your \" +check +\" is not divisible by \" + num)"
   ]
  },
  {
   "cell_type": "markdown",
   "id": "prescription-physiology",
   "metadata": {},
   "source": [
    "Don't forget to do some practicing of what you have been learning, including material from previous labs"
   ]
  },
  {
   "cell_type": "markdown",
   "id": "average-count",
   "metadata": {},
   "source": [
    "**You did it!**"
   ]
  },
  {
   "cell_type": "code",
   "execution_count": null,
   "id": "pressed-burning",
   "metadata": {},
   "outputs": [],
   "source": []
  }
 ],
 "metadata": {
  "kernelspec": {
   "display_name": "Python 3 (ipykernel)",
   "language": "python",
   "name": "python3"
  },
  "language_info": {
   "codemirror_mode": {
    "name": "ipython",
    "version": 3
   },
   "file_extension": ".py",
   "mimetype": "text/x-python",
   "name": "python",
   "nbconvert_exporter": "python",
   "pygments_lexer": "ipython3",
   "version": "3.11.5"
  }
 },
 "nbformat": 4,
 "nbformat_minor": 5
}
