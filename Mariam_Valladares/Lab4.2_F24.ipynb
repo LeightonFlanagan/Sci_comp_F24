{
 "cells": [
  {
   "cell_type": "markdown",
   "id": "short-malawi",
   "metadata": {},
   "source": [
    "Name: Mariam Valladares"
   ]
  },
  {
   "cell_type": "markdown",
   "id": "frozen-floating",
   "metadata": {},
   "source": [
    "Labpartner(s): Sara Brannum"
   ]
  },
  {
   "cell_type": "code",
   "execution_count": 1,
   "id": "classified-reunion",
   "metadata": {
    "tags": []
   },
   "outputs": [],
   "source": [
    "# import statements go here\n",
    "import numpy as np\n"
   ]
  },
  {
   "cell_type": "markdown",
   "id": "necessary-oklahoma",
   "metadata": {},
   "source": [
    "# Class 4.2"
   ]
  },
  {
   "cell_type": "markdown",
   "id": "solid-silicon",
   "metadata": {},
   "source": [
    "## Today you all are going to do the lecture! It's Present Your Plots Day."
   ]
  },
  {
   "cell_type": "markdown",
   "id": "professional-simpson",
   "metadata": {},
   "source": [
    "# Warmups 4.2"
   ]
  },
  {
   "cell_type": "markdown",
   "id": "imposed-baghdad",
   "metadata": {},
   "source": [
    "### Warmup is short today so we have time to focus on your plots."
   ]
  },
  {
   "cell_type": "markdown",
   "id": "commercial-abraham",
   "metadata": {},
   "source": [
    "**W.1** Do Exercise 3 in practice python https://www.practicepython.org"
   ]
  },
  {
   "cell_type": "code",
   "execution_count": 4,
   "id": "4aca4e82-2de2-4793-99d0-633288ee8991",
   "metadata": {
    "tags": []
   },
   "outputs": [
    {
     "data": {
      "text/plain": [
       "[1, 1, 2, 3, 5, 8, 13, 21, 34, 55, 89]"
      ]
     },
     "execution_count": 4,
     "metadata": {},
     "output_type": "execute_result"
    }
   ],
   "source": [
    " a = [1, 1, 2, 3, 5, 8, 13, 21, 34, 55, 89]\n",
    "a"
   ]
  },
  {
   "cell_type": "code",
   "execution_count": 6,
   "id": "5eb85dc2-b93b-4b0b-840d-6426d6e4ef11",
   "metadata": {
    "tags": []
   },
   "outputs": [
    {
     "name": "stdout",
     "output_type": "stream",
     "text": [
      "1\n",
      "1\n",
      "2\n",
      "3\n"
     ]
    }
   ],
   "source": [
    "#write a program that prints out all the elements of the list that are less than 5.\n",
    "for x in a:\n",
    "    if x <5:\n",
    "        print(x)"
   ]
  },
  {
   "cell_type": "markdown",
   "id": "automated-immune",
   "metadata": {},
   "source": [
    "## Agenda:\n",
    "\n",
    "- Questions about class or coding\n",
    "- Show us your plots! Explain your data set, what you did with it, and what your learned, including any difficulties you had and how you solved them."
   ]
  },
  {
   "cell_type": "code",
   "execution_count": null,
   "id": "perfect-suite",
   "metadata": {},
   "outputs": [],
   "source": []
  },
  {
   "cell_type": "markdown",
   "id": "conventional-external",
   "metadata": {},
   "source": [
    "# Lab 4.2"
   ]
  },
  {
   "cell_type": "markdown",
   "id": "married-prior",
   "metadata": {},
   "source": [
    "**E.1** Complete intermediate python chapter 4: Loops\n",
    "\n",
    "Note that loops often are very confusing for new programmers, but they are very powerful and super-useful. You will be seing them again.\n",
    "\n",
    "Note that the tutorials here have similar material for your needs:\n",
    "https://github.com/chsharrison/Sci_comp_F24/blob/main/Course_materials/resources.md"
   ]
  },
  {
   "cell_type": "markdown",
   "id": "color-difference",
   "metadata": {},
   "source": [
    "**E.2** Make notes for yourself on all of the progamming tecniques and commands you learned in the datacamp chapter above, including examples, comments and explainitory text. You might use the resources linked above for supplementary examples. You can do this here or in a separate notebook that you link to here. Basically, you are making a cheat sheet for yourself."
   ]
  },
  {
   "cell_type": "code",
   "execution_count": 46,
   "id": "infectious-battery",
   "metadata": {
    "tags": []
   },
   "outputs": [
    {
     "name": "stdout",
     "output_type": "stream",
     "text": [
      "12.5\n",
      "3.125\n",
      "0.78125\n",
      "correcting...\n",
      "-5\n",
      "correcting...\n",
      "-4\n",
      "correcting...\n",
      "-3\n",
      "correcting...\n",
      "-2\n",
      "correcting...\n",
      "-1\n",
      "correcting...\n",
      "0\n"
     ]
    }
   ],
   "source": [
    "# Basic while loop\n",
    "error = 50.0\n",
    "while error > 1 :\n",
    "    error = error / 4\n",
    "    print(error)\n",
    "    \n",
    "# *Note* The process will continue iterating as long as the statement meets the error definition.\n",
    "\n",
    "## The process can include conditionals such as:\n",
    "# Initialize offset\n",
    "offset = -6\n",
    "\n",
    "# Code the while loop\n",
    "while offset != 0 :\n",
    "    print(\"correcting...\")\n",
    "    if offset > 0:\n",
    "      offset = offset - 1\n",
    "    else : \n",
    "      offset = offset + 1   \n",
    "    print(offset)\n",
    "    \n",
    "# *Note*: The output will vary based on the conditions set with the If and else "
   ]
  },
  {
   "cell_type": "code",
   "execution_count": 47,
   "id": "edf4e8fc-b042-48c7-85f8-15caaa0d7a62",
   "metadata": {
    "tags": []
   },
   "outputs": [
    {
     "name": "stdout",
     "output_type": "stream",
     "text": [
      "1.73\n",
      "1.68\n",
      "1.71\n",
      "1.89\n",
      "room 0:11.25\n",
      "room 1:18.0\n",
      "room 2:20.0\n",
      "room 3:10.75\n",
      "room 4:9.5\n"
     ]
    }
   ],
   "source": [
    "# For loops\n",
    "# on lists\n",
    "fam = [1.73, 1.68, 1.71, 1.89]\n",
    "for height in fam : \n",
    "    print(height)\n",
    "\n",
    "    #will return each element in the list\n",
    "\n",
    "# Also can be applied to get the indexes of elements in a list using enumerate()\n",
    "areas = [11.25, 18.0, 20.0, 10.75, 9.50]\n",
    "\n",
    "for x, y in enumerate(areas) :   #x define the index of the element and y the value of the element, or sublist within a list\n",
    "    print(\"room \" + str(x) + \":\" + str(y))"
   ]
  },
  {
   "cell_type": "code",
   "execution_count": 48,
   "id": "69940b71-8820-422d-b5ba-21de27474112",
   "metadata": {
    "tags": []
   },
   "outputs": [
    {
     "name": "stdout",
     "output_type": "stream",
     "text": [
      "the capital of spain is madrid\n",
      "the capital of france is paris\n",
      "the capital of germany is berlin\n",
      "the capital of norway is oslo\n",
      "the capital of italy is rome\n",
      "the capital of poland is warsaw\n",
      "the capital of austria is vienna\n"
     ]
    }
   ],
   "source": [
    "# also applicable for dictionaries, but the x becomes the key and y the value\n",
    "# Definition of dictionary\n",
    "europe = {'spain':'madrid', 'france':'paris', 'germany':'berlin',\n",
    "          'norway':'oslo', 'italy':'rome', 'poland':'warsaw', 'austria':'vienna' }\n",
    "          \n",
    "# Iterate over europe\n",
    "for key, value in europe.items():\n",
    "    print(\"the capital of \" + key + \" is \" + str(value))"
   ]
  },
  {
   "cell_type": "code",
   "execution_count": null,
   "id": "283e255d-3321-47b9-b533-b5f60150eba2",
   "metadata": {},
   "outputs": [],
   "source": [
    "# to apply for loops in numpy arrays:\n",
    "\n",
    "# if one dim numpy array:\n",
    "for x in my_array :\n",
    "    ...\n",
    "    \n",
    "# if 2D numpy array needs to use nditer (to go over each subarray)\n",
    "for x in np.nditer(array) :\n",
    "    ..."
   ]
  },
  {
   "cell_type": "code",
   "execution_count": null,
   "id": "7245b24a-ccfb-4157-aede-d440342a6bcb",
   "metadata": {},
   "outputs": [],
   "source": [
    "# to apply loops over dataframes:\n",
    "# Import data\n",
    "import pandas as pd\n",
    "data = pd.read_csv('data.csv', index_col = 0)\n",
    "\n",
    "# Iterate over rows in the dataframe\n",
    "for lab, rows in data.iterrows():\n",
    "    print(lab)\n",
    "    print(rows)\n",
    "\n",
    "# it also allows to subset or add new columns:\n",
    "# Code for loop that adds COUNTRY column\n",
    "for lab, row in data.iterrows():\n",
    "    cars.loc[lab, \"COUNTRY\"] = row[\"country\"].upper()\n",
    "    \n",
    "# Also more efficient to iterate across rows the function apply\n",
    "# Use .apply(str.upper)\n",
    "for lab, row in data.iterrows() :\n",
    "    data[\"COUNTRY\"] = data[\"country\"].apply(str.upper)\n"
   ]
  },
  {
   "cell_type": "markdown",
   "id": "colored-alfred",
   "metadata": {},
   "source": [
    "**E.3-6** Exercises 4-7 in practice python (see link above)"
   ]
  },
  {
   "cell_type": "code",
   "execution_count": 13,
   "id": "eligible-glasgow",
   "metadata": {
    "tags": []
   },
   "outputs": [
    {
     "name": "stdin",
     "output_type": "stream",
     "text": [
      "Please provide a number:   40\n"
     ]
    }
   ],
   "source": [
    "## Exercise 4: Create a program that asks the user for a number and then prints out a list of all the divisors of that number. \n",
    "#(If you don’t know what a divisor is, it is a number that divides evenly into another number. For example, 13 is a divisor of 26 because 26 / 13 has no remainder.)\n",
    "\n",
    "number = int(input(\"Please provide a number:  \"))"
   ]
  },
  {
   "cell_type": "code",
   "execution_count": 14,
   "id": "653e4ac2-c78e-431f-aa7d-1810c2163f1c",
   "metadata": {
    "tags": []
   },
   "outputs": [
    {
     "name": "stdout",
     "output_type": "stream",
     "text": [
      "1\n",
      "2\n",
      "4\n",
      "5\n",
      "8\n",
      "10\n",
      "20\n",
      "40\n"
     ]
    }
   ],
   "source": [
    "## Get all the divisors for the enumber\n",
    "\n",
    "values = list(range(1, number + 1))\n",
    "\n",
    "for i in values:\n",
    "    if number % i == 0:\n",
    "        print(i)"
   ]
  },
  {
   "cell_type": "code",
   "execution_count": 22,
   "id": "6a408d1d-e24e-43cf-b7f4-0f0685935eff",
   "metadata": {
    "tags": []
   },
   "outputs": [],
   "source": [
    "## Exercise 5: and write a program that returns a list that contains only the elements that are common between the lists (without duplicates). \n",
    "# Make sure your program works on two lists of different sizes.\n",
    "# Take two lists, say for example these two:\n",
    "a = [1, 1, 2, 3, 5, 8, 13, 21, 34, 55, 89]\n",
    "b = [1, 2, 3, 4, 5, 6, 7, 8, 9, 10, 11, 12, 13]\n",
    "\n",
    "set1 = set(a)\n",
    "set2 = set(b)"
   ]
  },
  {
   "cell_type": "code",
   "execution_count": 21,
   "id": "c39c5772-4d0e-4e89-a3fa-786a77eb15cc",
   "metadata": {
    "tags": []
   },
   "outputs": [
    {
     "data": {
      "text/plain": [
       "{1, 2, 3, 5, 8, 13}"
      ]
     },
     "execution_count": 21,
     "metadata": {},
     "output_type": "execute_result"
    }
   ],
   "source": [
    "#Find the intersection\n",
    "set1.intersection(set2)"
   ]
  },
  {
   "cell_type": "code",
   "execution_count": 34,
   "id": "28e6a1ba-1e1f-4d67-87ff-96fa3e5068bb",
   "metadata": {
    "tags": []
   },
   "outputs": [
    {
     "name": "stdin",
     "output_type": "stream",
     "text": [
      "Please provide a string:   love\n"
     ]
    }
   ],
   "source": [
    "## Exercise 6: Ask the user for a string and print out whether this string is a palindrome or not. \n",
    "#(A palindrome is a string that reads the same forwards and backwards.)\n",
    "\n",
    "string = str(input(\"Please provide a string:  \"))"
   ]
  },
  {
   "cell_type": "code",
   "execution_count": 35,
   "id": "7c6d16f6-e5c2-4325-b114-0aadbbc116b9",
   "metadata": {
    "tags": []
   },
   "outputs": [
    {
     "name": "stdout",
     "output_type": "stream",
     "text": [
      "not a palindrome\n"
     ]
    }
   ],
   "source": [
    "str_reverse =string[::-1]\n",
    "\n",
    "if str_reverse == string:\n",
    "    print(\"This word is a palindrome\")\n",
    "else:\n",
    "    print(\"not a palindrome\")"
   ]
  },
  {
   "cell_type": "code",
   "execution_count": 45,
   "id": "ff547eb7-1329-4001-9f53-08f61e6b8152",
   "metadata": {
    "tags": []
   },
   "outputs": [
    {
     "name": "stdout",
     "output_type": "stream",
     "text": [
      "[4, 16, 36, 64, 100]\n"
     ]
    }
   ],
   "source": [
    "## Exercise 7: Let’s say I give you a list saved in a variable. \n",
    "#Write one line of Python that takes this list a and makes a new list that has only the even elements of this list in it.\n",
    "\n",
    "a = [1, 4, 9, 16, 25, 36, 49, 64, 81, 100]\n",
    "\n",
    "new = []    #new list\n",
    "\n",
    "for num in a:\n",
    "    if num % 2 == 0:\n",
    "        new.append(num)\n",
    "        \n",
    "print(new)\n"
   ]
  },
  {
   "cell_type": "code",
   "execution_count": null,
   "id": "a620d6da-f6af-4d8d-8ff4-929a776f4843",
   "metadata": {},
   "outputs": [],
   "source": []
  }
 ],
 "metadata": {
  "kernelspec": {
   "display_name": "Python 3 (ipykernel)",
   "language": "python",
   "name": "python3"
  },
  "language_info": {
   "codemirror_mode": {
    "name": "ipython",
    "version": 3
   },
   "file_extension": ".py",
   "mimetype": "text/x-python",
   "name": "python",
   "nbconvert_exporter": "python",
   "pygments_lexer": "ipython3",
   "version": "3.11.5"
  }
 },
 "nbformat": 4,
 "nbformat_minor": 5
}
