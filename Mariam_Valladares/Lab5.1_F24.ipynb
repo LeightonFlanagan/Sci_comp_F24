{
 "cells": [
  {
   "cell_type": "markdown",
   "id": "absolute-chess",
   "metadata": {},
   "source": [
    "Name: Mariam Valladares"
   ]
  },
  {
   "cell_type": "markdown",
   "id": "fitting-blind",
   "metadata": {},
   "source": [
    "Labpartner(s)"
   ]
  },
  {
   "cell_type": "code",
   "execution_count": 1,
   "id": "described-england",
   "metadata": {
    "tags": []
   },
   "outputs": [],
   "source": [
    "# import statements go here\n",
    "import numpy as np"
   ]
  },
  {
   "cell_type": "markdown",
   "id": "ranking-telephone",
   "metadata": {},
   "source": [
    "# Class 5.1"
   ]
  },
  {
   "cell_type": "markdown",
   "id": "opponent-producer",
   "metadata": {},
   "source": [
    "# Warmups 5.1"
   ]
  },
  {
   "cell_type": "markdown",
   "id": "prompt-shade",
   "metadata": {},
   "source": [
    "**W.1** Go through 1.4.1.2 Creating Arrays in the scipy lecture notes, including the exercises. http://scipy-lectures.org/intro/numpy/array_object.html#id2"
   ]
  },
  {
   "cell_type": "code",
   "execution_count": 4,
   "id": "french-briefing",
   "metadata": {
    "tags": []
   },
   "outputs": [
    {
     "name": "stdout",
     "output_type": "stream",
     "text": [
      "1\n",
      "(4,)\n"
     ]
    }
   ],
   "source": [
    "#exercise: Create a simple two dimensional array. First, redo the examples from above. \n",
    "#Manually recreating the 1 D arrays\n",
    "a = np.array([0,1,2,3])\n",
    "\n",
    "#see dim and shape\n",
    "print(a.ndim)\n",
    "print(a.shape)"
   ]
  },
  {
   "cell_type": "code",
   "execution_count": 8,
   "id": "92bb2628-ba03-49eb-8e12-95d6b0182852",
   "metadata": {
    "tags": []
   },
   "outputs": [
    {
     "name": "stdout",
     "output_type": "stream",
     "text": [
      "2\n",
      "(2, 3)\n",
      "2\n"
     ]
    }
   ],
   "source": [
    "# recreating 2D\n",
    "b = np.array([[0,1,2],[3,4,5]])\n",
    "\n",
    "# see dim, shape and len\n",
    "print(b.ndim)\n",
    "print(b.shape)\n",
    "print(len(b))\n"
   ]
  },
  {
   "cell_type": "code",
   "execution_count": 9,
   "id": "34733a5c-38a0-4a86-9b12-243faa692b0b",
   "metadata": {
    "tags": []
   },
   "outputs": [
    {
     "name": "stdout",
     "output_type": "stream",
     "text": [
      "3\n",
      "(2, 2, 1)\n",
      "2\n"
     ]
    }
   ],
   "source": [
    "# recreating 3D arrays\n",
    "c = np.array([[[1],[2]],[[3],[4]]])\n",
    "print(c.ndim)\n",
    "print(c.shape)\n",
    "print(len(c))"
   ]
  },
  {
   "cell_type": "code",
   "execution_count": 11,
   "id": "e183768f-8870-4162-8cfb-211ac765bbe1",
   "metadata": {
    "tags": []
   },
   "outputs": [
    {
     "name": "stdout",
     "output_type": "stream",
     "text": [
      "2\n",
      "(2, 3)\n",
      "2\n"
     ]
    }
   ],
   "source": [
    "# Exersice: And then create your own: how about odd numbers counting backwards on the first row, and even numbers on the second?\n",
    "# Use the functions len(), numpy.shape() on these arrays. How do they relate to each other? And to the ndim attribute of the arrays?\n",
    "\n",
    "f = np.array([[5,3,1],[0,2,4]])\n",
    "\n",
    "print(len(f))\n",
    "print(f.shape)\n",
    "print(f.ndim)"
   ]
  },
  {
   "cell_type": "markdown",
   "id": "4e8f39b2-673f-4507-9766-3ca0ab9be6ac",
   "metadata": {},
   "source": [
    "*answer* both methods shape, dim and the len function relate to the structure of the array, by describing the number of rows and columns."
   ]
  },
  {
   "cell_type": "code",
   "execution_count": 13,
   "id": "2d181c79-05ce-4250-891a-c67ae236af2b",
   "metadata": {
    "tags": []
   },
   "outputs": [
    {
     "name": "stdout",
     "output_type": "stream",
     "text": [
      "[0 2 4 6 8]\n"
     ]
    }
   ],
   "source": [
    "# Creating arrays using functions\n",
    "#Experiment with arange, linspace, ones, zeros, eye and diag.\n",
    "#Create different kinds of arrays with random numbers.\n",
    "#Try setting the seed before creating an array with random values.\n",
    "#Look at the function np.empty. What does it do? When might this be useful?\n",
    "\n",
    "# evenly spaced array using arange\n",
    "g = np.arange(0,10, 2)  # start, end, step\n",
    "print(g)"
   ]
  },
  {
   "cell_type": "code",
   "execution_count": 16,
   "id": "5e5a889c-007f-49ec-9569-fe3755e13a50",
   "metadata": {
    "tags": []
   },
   "outputs": [
    {
     "name": "stdout",
     "output_type": "stream",
     "text": [
      "[0.  0.5 1. ]\n"
     ]
    }
   ],
   "source": [
    "# spaced by number points using linspace\n",
    "\n",
    "h = np.linspace(0,1,3) # start, end, num points\n",
    "print(h)"
   ]
  },
  {
   "cell_type": "code",
   "execution_count": 17,
   "id": "272cdf9c-dd3e-4d07-a219-30f9d17c1d47",
   "metadata": {
    "tags": []
   },
   "outputs": [
    {
     "name": "stdout",
     "output_type": "stream",
     "text": [
      "[[1. 1.]\n",
      " [1. 1.]]\n"
     ]
    }
   ],
   "source": [
    "# create array full of ones using np.ones\n",
    "i = np.ones((2,2))\n",
    "print(i)\n"
   ]
  },
  {
   "cell_type": "code",
   "execution_count": 18,
   "id": "204a91e5-fcc6-4c57-8b88-973cdb05e784",
   "metadata": {
    "tags": []
   },
   "outputs": [
    {
     "name": "stdout",
     "output_type": "stream",
     "text": [
      "[[0. 0. 0. 0.]\n",
      " [0. 0. 0. 0.]\n",
      " [0. 0. 0. 0.]\n",
      " [0. 0. 0. 0.]]\n"
     ]
    }
   ],
   "source": [
    "# create array full of zeros with np.zeros\n",
    "\n",
    "j = np.zeros((4,4))\n",
    "print(j)\n"
   ]
  },
  {
   "cell_type": "code",
   "execution_count": 19,
   "id": "094ebd7d-97de-4f5f-9293-0b351c451a59",
   "metadata": {
    "tags": []
   },
   "outputs": [
    {
     "name": "stdout",
     "output_type": "stream",
     "text": [
      "[[1. 0. 0. 0.]\n",
      " [0. 1. 0. 0.]\n",
      " [0. 0. 1. 0.]\n",
      " [0. 0. 0. 1.]]\n"
     ]
    }
   ],
   "source": [
    "# create an array with a diagonal of 1 using np.eye\n",
    "\n",
    "k = np.eye(4)\n",
    "print(k)"
   ]
  },
  {
   "cell_type": "code",
   "execution_count": 20,
   "id": "7ce4010f-f410-4190-a6a2-0e607ef2f5fd",
   "metadata": {
    "tags": []
   },
   "outputs": [
    {
     "name": "stdout",
     "output_type": "stream",
     "text": [
      "[[1 0 0]\n",
      " [0 2 0]\n",
      " [0 0 3]]\n"
     ]
    }
   ],
   "source": [
    "# create an array with a custom diagonal values  using np.diag\n",
    "\n",
    "l = np.diag(np.array([1,2,3]))\n",
    "print(l)"
   ]
  },
  {
   "cell_type": "code",
   "execution_count": 21,
   "id": "6628b8bf-3f4d-4221-a253-a209f68e4fa2",
   "metadata": {
    "tags": []
   },
   "outputs": [
    {
     "name": "stdout",
     "output_type": "stream",
     "text": [
      "[0.62346364 0.73048584 0.15733787 0.66217735 0.54661841]\n"
     ]
    }
   ],
   "source": [
    "# create an array with random numbers \n",
    "# np.random.rand\n",
    "\n",
    "m = np.random.rand(5)  # five uniform random values between 0-1 starting at a random seed\n",
    "print(m)"
   ]
  },
  {
   "cell_type": "code",
   "execution_count": 22,
   "id": "45a21fb4-0df2-4f60-8c21-b737e4fb0b6e",
   "metadata": {
    "tags": []
   },
   "outputs": [
    {
     "name": "stdout",
     "output_type": "stream",
     "text": [
      "[-0.16771587 -0.41759162 -1.4038202  -0.7956896  -1.4828017 ]\n"
     ]
    }
   ],
   "source": [
    "# np.random.randn\n",
    "n = np.random.randn(5)  # five random values from a Gaussian \n",
    "print(n)"
   ]
  },
  {
   "cell_type": "code",
   "execution_count": 29,
   "id": "8f639a8a-d53f-41e8-8477-b139903381da",
   "metadata": {
    "tags": []
   },
   "outputs": [
    {
     "name": "stdout",
     "output_type": "stream",
     "text": [
      "[0.24208472 0.70434622 0.55251188 0.37050766 0.0580929 ]\n"
     ]
    }
   ],
   "source": [
    "# define the seed np.random.seed\n",
    "np.random.seed(1258)  # sinstead of using a random seed, start from a defined seed value\n",
    "o = np.random.rand(5)  \n",
    "print(o)"
   ]
  },
  {
   "cell_type": "code",
   "execution_count": 28,
   "id": "2d3653bc-5327-4675-9601-178a92d6b419",
   "metadata": {
    "collapsed": true,
    "jupyter": {
     "outputs_hidden": true
    },
    "tags": []
   },
   "outputs": [
    {
     "name": "stdout",
     "output_type": "stream",
     "text": [
      "Help on built-in function empty in module numpy:\n",
      "\n",
      "empty(...)\n",
      "    empty(shape, dtype=float, order='C', *, like=None)\n",
      "    \n",
      "    Return a new array of given shape and type, without initializing entries.\n",
      "    \n",
      "    Parameters\n",
      "    ----------\n",
      "    shape : int or tuple of int\n",
      "        Shape of the empty array, e.g., ``(2, 3)`` or ``2``.\n",
      "    dtype : data-type, optional\n",
      "        Desired output data-type for the array, e.g, `numpy.int8`. Default is\n",
      "        `numpy.float64`.\n",
      "    order : {'C', 'F'}, optional, default: 'C'\n",
      "        Whether to store multi-dimensional data in row-major\n",
      "        (C-style) or column-major (Fortran-style) order in\n",
      "        memory.\n",
      "    like : array_like, optional\n",
      "        Reference object to allow the creation of arrays which are not\n",
      "        NumPy arrays. If an array-like passed in as ``like`` supports\n",
      "        the ``__array_function__`` protocol, the result will be defined\n",
      "        by it. In this case, it ensures the creation of an array object\n",
      "        compatible with that passed in via this argument.\n",
      "    \n",
      "        .. versionadded:: 1.20.0\n",
      "    \n",
      "    Returns\n",
      "    -------\n",
      "    out : ndarray\n",
      "        Array of uninitialized (arbitrary) data of the given shape, dtype, and\n",
      "        order.  Object arrays will be initialized to None.\n",
      "    \n",
      "    See Also\n",
      "    --------\n",
      "    empty_like : Return an empty array with shape and type of input.\n",
      "    ones : Return a new array setting values to one.\n",
      "    zeros : Return a new array setting values to zero.\n",
      "    full : Return a new array of given shape filled with value.\n",
      "    \n",
      "    \n",
      "    Notes\n",
      "    -----\n",
      "    `empty`, unlike `zeros`, does not set the array values to zero,\n",
      "    and may therefore be marginally faster.  On the other hand, it requires\n",
      "    the user to manually set all the values in the array, and should be\n",
      "    used with caution.\n",
      "    \n",
      "    Examples\n",
      "    --------\n",
      "    >>> np.empty([2, 2])\n",
      "    array([[ -9.74499359e+001,   6.69583040e-309],\n",
      "           [  2.13182611e-314,   3.06959433e-309]])         #uninitialized\n",
      "    \n",
      "    >>> np.empty([2, 2], dtype=int)\n",
      "    array([[-1073741821, -1067949133],\n",
      "           [  496041986,    19249760]])                     #uninitialized\n",
      "\n"
     ]
    }
   ],
   "source": [
    "# looking out the np.empty function\n",
    "help(np.empty)"
   ]
  },
  {
   "cell_type": "markdown",
   "id": "66da619b-0ea3-4eef-97d3-7de22da04b7d",
   "metadata": {},
   "source": [
    "*answer* np.empty allows to create an empty array and manually input the values. It might be usefull to introduce your own data measurements instead of random numbers."
   ]
  },
  {
   "cell_type": "markdown",
   "id": "mobile-swaziland",
   "metadata": {},
   "source": [
    "# Lecture 5.1"
   ]
  },
  {
   "cell_type": "markdown",
   "id": "headed-flexibility",
   "metadata": {},
   "source": [
    "### Agenda:\n",
    "\n",
    "- Programming questions\n",
    "- Examples of for loops"
   ]
  },
  {
   "cell_type": "markdown",
   "id": "heated-start",
   "metadata": {},
   "source": []
  },
  {
   "cell_type": "markdown",
   "id": "buried-mention",
   "metadata": {},
   "source": [
    "# Lab 5.1"
   ]
  },
  {
   "cell_type": "markdown",
   "id": "meaningful-carnival",
   "metadata": {},
   "source": [
    "**E.1** Complete Lab 4.2 if you haven't allready\n"
   ]
  },
  {
   "cell_type": "markdown",
   "id": "superior-hybrid",
   "metadata": {},
   "source": [
    "**E.2** Complete intermediate python chapter 5: Case study on hacker statistics\n"
   ]
  },
  {
   "cell_type": "markdown",
   "id": "formed-adult",
   "metadata": {},
   "source": [
    "**E.3** Make notes for yourself on progamming tecniques and commands you learned in the datacamp chapter above, including examples, comments and explainitory text. You can do this here or in a separate notebook that you link to here. Basically, you are making a cheat sheet for yourself."
   ]
  },
  {
   "cell_type": "code",
   "execution_count": 30,
   "id": "static-drain",
   "metadata": {
    "tags": []
   },
   "outputs": [
    {
     "data": {
      "text/plain": [
       "6"
      ]
     },
     "execution_count": 30,
     "metadata": {},
     "output_type": "execute_result"
    }
   ],
   "source": [
    "## creating random number by defining a seed\n",
    "np.random.seed(123)  # a define seed helps to replicate exact same process compared to a random seed.\n",
    "\n",
    "# create a random integer between 1 and 6  using np.random.randint()\n",
    "np.random.randint(1,7)  # start is included and end is not"
   ]
  },
  {
   "cell_type": "code",
   "execution_count": 32,
   "id": "2b0d8634-116e-4c21-8352-a8cd4106ecda",
   "metadata": {
    "tags": []
   },
   "outputs": [],
   "source": [
    "# define random steps using conditionals to modify the step example\n",
    "\n",
    "# Starting step\n",
    "step = 50\n",
    "\n",
    "# Roll the dice\n",
    "dice = np.random.randint(1,7)  # define the dice as example of integers between one and six\n",
    "\n",
    "# Finish the control construct\n",
    "if dice <= 2 :\n",
    "    step = step - 1   \n",
    "elif dice >=3 and dice <=5:\n",
    "    step = step + 1\n",
    "else :\n",
    "    step = step + np.random.randint(1,7)"
   ]
  },
  {
   "cell_type": "code",
   "execution_count": 34,
   "id": "138e0b3f-0def-40c8-9c0d-b67a829d9749",
   "metadata": {
    "tags": []
   },
   "outputs": [
    {
     "data": {
      "image/png": "[encoded data removed]",
      "text/plain": [
       "<Figure size 640x480 with 1 Axes>"
      ]
     },
     "metadata": {},
     "output_type": "display_data"
    }
   ],
   "source": [
    "## Definining a random walk - consecutive random steps that grow one after the other\n",
    "# Initialize random_walk\n",
    "random_walk = [0]   #could set a list that starts at zero\n",
    "\n",
    "#define the conditional\n",
    "for x in range(100) :  #number of repetitions\n",
    "    # Set step: last element in random_walk\n",
    "    step = random_walk[-1]  #select the last element\n",
    "\n",
    "    # Roll the dice\n",
    "    dice = np.random.randint(1,7)\n",
    "\n",
    "    # Determine next step\n",
    "    if dice <= 2:\n",
    "        step = step - 1  # can also set a maximum value step = max(0, step - 1) so it is never negative\n",
    "    elif dice <= 5:\n",
    "        step = step + 1\n",
    "    else:\n",
    "        step = step + np.random.randint(1,7)\n",
    "\n",
    "    # append next_step to random_walk\n",
    "    random_walk.append(step)  #append the output to the initial list\n",
    "\n",
    "# it can also be plotted \n",
    "# Import matplotlib.pyplot as plt\n",
    "import matplotlib.pyplot as plt\n",
    "\n",
    "# Plot random_walk\n",
    "plt.plot(random_walk)\n",
    "\n",
    "# Show the plot\n",
    "plt.show()"
   ]
  },
  {
   "cell_type": "code",
   "execution_count": 41,
   "id": "ca96c4e4-b060-4941-94f0-dc52db0067ab",
   "metadata": {
    "tags": []
   },
   "outputs": [
    {
     "data": {
      "image/png": "[encoded data removed]",
      "text/plain": [
       "<Figure size 640x480 with 1 Axes>"
      ]
     },
     "metadata": {},
     "output_type": "display_data"
    }
   ],
   "source": [
    "# thousends of random walks can be use to identify distributions to do so:\n",
    "# Initialize all_walks (don't change this line)\n",
    "all_walks = []   # create an empty list\n",
    "\n",
    "# Simulate random walk five times\n",
    "for i in range(1000) :  #define how many times to repeat (the larger the smoother)\n",
    "\n",
    "    # Code from before\n",
    "    random_walk = [0]\n",
    "    for x in range(100) :\n",
    "        step = random_walk[-1]\n",
    "        dice = np.random.randint(1,7)\n",
    "\n",
    "        if dice <= 2:\n",
    "            step = max(0, step - 1)\n",
    "        elif dice <= 5:\n",
    "            step = step + 1\n",
    "        else:\n",
    "            step = step + np.random.randint(1,7)\n",
    "        random_walk.append(step)\n",
    "\n",
    "    # Append random_walk to all_walks\n",
    "    all_walks.append(random_walk)\n",
    "\n",
    "# it can be plotted\n",
    "# Convert all_walks to NumPy array: np_aw\n",
    "np_aw = np.array(all_walks)\n",
    "\n",
    "# Transpose np_aw: np_aw_t   # usefull to make columns rows and rows columns\n",
    "np_aw_t = np.transpose(np_aw) #you can test to plot the transpose as well to create multiple lines\n",
    "\n",
    "#select last element\n",
    "ends = np_aw_t[-1,]\n",
    "\n",
    "# Plot histogram of ends, display plot\n",
    "plt.hist(ends, bins = 10)\n",
    "plt.show()"
   ]
  },
  {
   "cell_type": "code",
   "execution_count": null,
   "id": "5c9753c6-54b8-42bd-b00a-dd5f7a948b96",
   "metadata": {},
   "outputs": [],
   "source": []
  },
  {
   "cell_type": "markdown",
   "id": "composed-neighbor",
   "metadata": {},
   "source": [
    "### Congratulations! অভিনন্দন 恭喜 ¡Felicidades! You finished Intermediate Python!"
   ]
  },
  {
   "cell_type": "code",
   "execution_count": null,
   "id": "active-drinking",
   "metadata": {},
   "outputs": [],
   "source": []
  }
 ],
 "metadata": {
  "kernelspec": {
   "display_name": "Python 3 (ipykernel)",
   "language": "python",
   "name": "python3"
  },
  "language_info": {
   "codemirror_mode": {
    "name": "ipython",
    "version": 3
   },
   "file_extension": ".py",
   "mimetype": "text/x-python",
   "name": "python",
   "nbconvert_exporter": "python",
   "pygments_lexer": "ipython3",
   "version": "3.11.5"
  }
 },
 "nbformat": 4,
 "nbformat_minor": 5
}
