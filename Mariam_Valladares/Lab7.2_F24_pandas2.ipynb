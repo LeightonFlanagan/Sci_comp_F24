{
 "cells": [
  {
   "cell_type": "markdown",
   "id": "cooked-impact",
   "metadata": {},
   "source": [
    "Name: Mariam Valladares"
   ]
  },
  {
   "cell_type": "markdown",
   "id": "crazy-drunk",
   "metadata": {},
   "source": [
    "Labpartner(s): Sarah Brannum"
   ]
  },
  {
   "cell_type": "code",
   "execution_count": 8,
   "id": "statistical-animal",
   "metadata": {
    "tags": []
   },
   "outputs": [],
   "source": [
    "#import statements go here\n",
    "import matplotlib.pyplot as plt\n",
    "import numpy as np"
   ]
  },
  {
   "cell_type": "markdown",
   "id": "appointed-tribute",
   "metadata": {},
   "source": [
    "# Class 7.2"
   ]
  },
  {
   "cell_type": "markdown",
   "id": "834986df-a157-45a3-8679-12e793fe2c47",
   "metadata": {},
   "source": [
    "Today your assignment is the rest of the pandas unit and to catch up and think about your project topic, which is due by Sunday 10/13."
   ]
  },
  {
   "cell_type": "markdown",
   "id": "tracked-tradition",
   "metadata": {},
   "source": [
    "**W.1** Implement a function that takes as input three variables, and returns the largest of the three. Do this without using the Python max() function.\n",
    "\n",
    "The goal of this exercise is to think about some internals that Python normally takes care of for us. All you need is some variables and if statements."
   ]
  },
  {
   "cell_type": "code",
   "execution_count": 25,
   "id": "champion-rouge",
   "metadata": {
    "tags": []
   },
   "outputs": [],
   "source": [
    "#Define variables\n",
    "var1 = 2\n",
    "var2 = 10\n",
    "var3 = 4"
   ]
  },
  {
   "cell_type": "code",
   "execution_count": 26,
   "id": "209e8d95-89d0-42fb-bac8-23b899ddc851",
   "metadata": {
    "tags": []
   },
   "outputs": [
    {
     "name": "stdout",
     "output_type": "stream",
     "text": [
      "10\n"
     ]
    }
   ],
   "source": [
    "#function\n",
    "def largest(num1, num2, num3):\n",
    "    if num1 > num2 and num1 > num3:\n",
    "        print(num1)\n",
    "    elif num2 > num3 and num2 > num1:\n",
    "        print(num2)\n",
    "    elif num3 > num1 & num3 > num2:\n",
    "        print(num3)\n",
    "    else:\n",
    "        print('none')\n",
    "\n",
    "#apply function\n",
    "\n",
    "largest(var1, var2, var3)"
   ]
  },
  {
   "cell_type": "markdown",
   "id": "needed-irish",
   "metadata": {
    "tags": []
   },
   "source": [
    "# Lecture 7.2\n",
    "\n",
    "### Agenda:\n",
    "\n",
    "- Questions\n",
    "- That's it!"
   ]
  },
  {
   "cell_type": "markdown",
   "id": "crucial-hobby",
   "metadata": {},
   "source": [
    "### Questions"
   ]
  },
  {
   "cell_type": "markdown",
   "id": "be69581e-ee02-4aa7-a18e-74c2d61cc1c7",
   "metadata": {},
   "source": []
  },
  {
   "cell_type": "markdown",
   "id": "working-lottery",
   "metadata": {},
   "source": [
    "# Lab 7.2"
   ]
  },
  {
   "cell_type": "markdown",
   "id": "42ba70db-1894-44eb-9688-5380d60b34f6",
   "metadata": {},
   "source": [
    "**E.0** Complete the previous labs if you are behind."
   ]
  },
  {
   "cell_type": "markdown",
   "id": "ordinary-variable",
   "metadata": {},
   "source": [
    "**E.1** Complete Data Manipulation with Pandas Ch 3-4 in datacamp."
   ]
  },
  {
   "cell_type": "code",
   "execution_count": null,
   "id": "obvious-strap",
   "metadata": {},
   "outputs": [],
   "source": []
  },
  {
   "cell_type": "markdown",
   "id": "computational-child",
   "metadata": {},
   "source": [
    "**E.2** Make notes for yourself on progamming tecniques and commands you learned in the datacamp chapter above, including examples, comments and explainitory text. You can do this here or in a separate notebook that you link to here. Basically, you are making a cheat sheet for yourself."
   ]
  },
  {
   "cell_type": "code",
   "execution_count": null,
   "id": "consecutive-bowling",
   "metadata": {},
   "outputs": [],
   "source": [
    "# set a column as index\n",
    "df_index = df.set_index(\"col_name\")  #uses the set_index method\n",
    "\n",
    "#the index names can be reset to the original ones using the method\n",
    "df_index.reset_index()  #if drop = True it removes the previous column that was set to be the index\n",
    "\n",
    "#Subsetting with indexes between columns and rows\n",
    "df[df['column_name'].isin(['row_name1', 'row_name2'])]\n",
    "\n",
    "#doing the same with .loc gives same outcome\n",
    "df.loc[['row_name1', 'row_name2']]\n",
    "\n",
    "#also possible to set multilevel indexes or hierarchical indexes\n",
    "df2 = df.set_index(['column_name1', 'column_name2'])\n",
    "\n",
    "#to subset using multilevel indices\n",
    "# the first one referes to the names of the row in the level 1 index column_name1 and the second\n",
    "#list refers to the nested index or column_name2\n",
    "\n",
    "df.loc[[('column_name1_row_name1', 'column_name1_row_name2'), ('column_name2_row_name1', 'column_name2_row_name2')]]\n",
    "\n",
    "#sort data by indices\n",
    "\n",
    "df.sort_index()  #inside the parenthesis you can specify the level to sort if it is multilevel index level = [\"name\"]\n",
    "\n",
    "#example\n",
    "temperatures_ind.sort_index(level = ['country', 'city'], ascending = [True, False])"
   ]
  },
  {
   "cell_type": "code",
   "execution_count": null,
   "id": "2fd9a171-4b35-4c4f-b543-8703f50c687d",
   "metadata": {},
   "outputs": [],
   "source": [
    "#slicing with index number/position\n",
    "df[start:end] #end not included\n",
    "\n",
    "#slice by multilevel index (previously sorted)\n",
    "#only works for firt level index not for nested levels\n",
    "\n",
    "df.loc[\"column1_row_name1\":\"column1_row_name2\"] #here the final value is included\n",
    "\n",
    "#to aslice inner level you need a tuple that includes first and secol level names.\n",
    "df.loc[(\"column1_row_name1\", \"column2_row_name1\"):(\"column1_row_name2\", \"column2_row_name2\")]\n",
    "\n",
    "#subset column and keep all rows (first rows then columns)\n",
    "df.loc[:, \"column1\":\"column3\"]\n",
    "\n",
    "#dates can be slice the same way and even partially by calling only the year for example\n",
    "df.loc['01-01-1950':'12-31-1970'] or df.loc['1950':'1970']\n",
    "\n",
    "#for row number and column number remember to use iloc instead\n",
    "#exaple of subset using multilevel index for rows and also filtering columns\n",
    "temperatures_srt.loc[('India', 'Hyderabad'):('Iraq', 'Baghdad'), 'date':'avg_temp_c']"
   ]
  },
  {
   "cell_type": "code",
   "execution_count": null,
   "id": "f71ae7f8-a923-4773-97c5-9056d56fdfc9",
   "metadata": {},
   "outputs": [],
   "source": [
    "#Use pivot.table to summarize dataframes\n",
    "df.pivot_table('column_to summarize', index = \"index_to_group and display row\", columns = 'group_by and display into columns')\n",
    "\n",
    "#the mean argument has an axis call index\n",
    "df.mean(axis= 'column_to use as index')  #calculate summary statistics across rows\n",
    "df.mean(axis = 'columns to use')   #calculate summary statistics across columns\n",
    "\n",
    "#access a component of a date\n",
    "dataframe[\"column\"].dt.component #dt.year, dt.month\n",
    "\n",
    "#index with the max values\n",
    "df.idxmax()\n",
    "\n",
    "#group_by\n",
    "df.groupby('column')['variable to summarize'].mean()"
   ]
  },
  {
   "cell_type": "code",
   "execution_count": null,
   "id": "377995aa-1bb1-46b9-b097-31368ba46914",
   "metadata": {},
   "outputs": [],
   "source": [
    "##visualizing\n",
    "#histogram\n",
    "df['column'].hist(bins = 10, alpha = 0.5) #alpha adjust transparency\n",
    "\n",
    "#barplot\n",
    "df.plot(kind = 'bar', title = \"xx\")\n",
    "\n",
    "df.plot(x,y, kind = 'line', rot = 45) #rotate labels to 45 degrees\n",
    "\n",
    "#hist example with matplotlib\n",
    "avocados[avocados[\"type\"] == \"conventional\"][\"avg_price\"].hist(alpha=0.5, bins = 20)\n",
    "# Modify bins to 20\n",
    "avocados[avocados[\"type\"] == \"organic\"][\"avg_price\"].hist(alpha=0.5, bins = 20)\n",
    "# Add a legend\n",
    "plt.legend([\"conventional\", \"organic\"])\n",
    "\n",
    "# Show the plot\n",
    "plt.show()\n",
    "\n",
    "#are there missing values\n",
    "df.isna() #for a true/false by row\n",
    "df.isna().any() #for a true/false by column\n",
    "df.isna().sum() #count the number of na by column\n",
    "\n",
    "df.dropna() #drop all rows with nas\n",
    "df.fillna(0) #fill nas with zero"
   ]
  }
 ],
 "metadata": {
  "kernelspec": {
   "display_name": "Python 3 (ipykernel)",
   "language": "python",
   "name": "python3"
  },
  "language_info": {
   "codemirror_mode": {
    "name": "ipython",
    "version": 3
   },
   "file_extension": ".py",
   "mimetype": "text/x-python",
   "name": "python",
   "nbconvert_exporter": "python",
   "pygments_lexer": "ipython3",
   "version": "3.11.5"
  }
 },
 "nbformat": 4,
 "nbformat_minor": 5
}
