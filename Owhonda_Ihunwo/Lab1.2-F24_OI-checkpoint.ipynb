{
 "cells": [
  {
   "cell_type": "markdown",
   "metadata": {},
   "source": [
    "Owhonda Ihunwo"
   ]
  },
  {
   "cell_type": "markdown",
   "metadata": {},
   "source": [
    "# Lecture 1.2"
   ]
  },
  {
   "cell_type": "markdown",
   "metadata": {},
   "source": [
    "Thursday Aug 29th, 2024\n",
    "\n",
    "Lab 1.2 is due Tuesday Sep, 3rd\n",
    "\n",
    "Lecture Agenda:\n",
    "* debriefing on first class and homework, how's it going?\n",
    "* logistics of github, downloading this Lab 1.2 notebook\n",
    "* commenting and markup in notebooks\n",
    "* workflow for the class\n"
   ]
  },
  {
   "cell_type": "markdown",
   "metadata": {},
   "source": [
    "In general, we will do warmup exercises and lab exercises in a jupyter notebook. For most classes, you will download the notebook from github, open it on your local computer, and then upload your completed work back on github in your folder. Then in the assignment tab in Moodle, submit a url link to the completed lab, along with a screenshot of your completed score for the chapter(s) assigned in datacamp.\n",
    "\n",
    "In general, Tuesday labs are due Friday by midnight and Thursday labs are due the following Tuesday by midnight. This will give you a chance to ask questions in the next class if you get stuck on something. Note the first lab (1.1) was due early so you are set up for this lab. If you are stuck on anything, let me know, and get help from your classmates."
   ]
  },
  {
   "cell_type": "code",
   "execution_count": null,
   "metadata": {},
   "outputs": [],
   "source": [
    "# here is an example of code commenting. The # symbol means everything on this line will be ignored \n"
   ]
  },
  {
   "cell_type": "markdown",
   "metadata": {},
   "source": [
    "Here is an example of markdown text. Because this cell is in markdown mode it will also be ignored by the python shell"
   ]
  },
  {
   "cell_type": "code",
   "execution_count": null,
   "metadata": {},
   "outputs": [],
   "source": []
  },
  {
   "cell_type": "markdown",
   "metadata": {},
   "source": [
    "## Preliminaries"
   ]
  },
  {
   "cell_type": "markdown",
   "metadata": {},
   "source": [
    "In our class github site, create a folder for yourself where you will submit your jupyter notebooks. The easiest way to do this is to create a new file that is a placeholder document in the new folder. You can delete it later."
   ]
  },
  {
   "cell_type": "markdown",
   "metadata": {},
   "source": [
    "## Warmup exercises"
   ]
  },
  {
   "cell_type": "markdown",
   "metadata": {},
   "source": [
    "As you are doing these exercises, get familiar with jupyter notebook commands \n",
    "https://towardsdatascience.com/jypyter-notebook-shortcuts-bf0101a98330\n",
    "\n",
    "and markdown text https://medium.com/@ingeh/markdown-for-jupyter-notebooks-cheatsheet-386c05aeebed\n",
    "\n",
    "These exercises are based on what you have learned previously. Feel free to go look at what you did in datacamp to figure out how to answer them."
   ]
  },
  {
   "cell_type": "markdown",
   "metadata": {},
   "source": [
    "**W.1** Define and assign values to three variables of the three types we learned about Monday: integer, floating point, string and boolian. \n",
    "\n",
    "Note you can add more cells below by pressing the + button above or typing [esc] to command mode, then [b] to enter a cell below, or [a] to enter a cell above. See the link above for more commands"
   ]
  },
  {
   "cell_type": "code",
   "execution_count": 5,
   "metadata": {},
   "outputs": [],
   "source": [
    "# Integer\n",
    "my_int = 10\n",
    "\n",
    "# Floating point\n",
    "my_float = 3.14\n",
    "\n",
    "# String\n",
    "my_string = \"Hello, World!\"\n",
    "\n",
    "# Boolean\n",
    "my_bool = True"
   ]
  },
  {
   "cell_type": "markdown",
   "metadata": {},
   "source": [
    "**W.2** Print out the value and check the type of each variable"
   ]
  },
  {
   "cell_type": "code",
   "execution_count": 7,
   "metadata": {},
   "outputs": [
    {
     "name": "stdout",
     "output_type": "stream",
     "text": [
      "my_int: 10 Type: <class 'int'>\n",
      "my_float: 3.14 Type: <class 'float'>\n",
      "my_string: Hello, World! Type: <class 'str'>\n",
      "my_bool: True Type: <class 'bool'>\n"
     ]
    }
   ],
   "source": [
    "print(\"my_int:\", my_int, \"Type:\", type(my_int))\n",
    "print(\"my_float:\", my_float, \"Type:\", type(my_float))\n",
    "print(\"my_string:\", my_string, \"Type:\", type(my_string))\n",
    "print(\"my_bool:\", my_bool, \"Type:\", type(my_bool))"
   ]
  },
  {
   "cell_type": "markdown",
   "metadata": {},
   "source": [
    "**W.3** Create a new variable that saves the value of the float variable as a string. Print it out"
   ]
  },
  {
   "cell_type": "code",
   "execution_count": 15,
   "metadata": {},
   "outputs": [
    {
     "name": "stdout",
     "output_type": "stream",
     "text": [
      "my_float_str: 3.14 Type: <class 'str'>\n"
     ]
    }
   ],
   "source": [
    "my_float_str = str(my_float)\n",
    "\n",
    "print(\"my_float_str:\", my_float_str, \"Type:\", type(my_float_str))"
   ]
  },
  {
   "cell_type": "markdown",
   "metadata": {},
   "source": [
    "**W.4** Using multiplication of a variable, print out the text \"Bueno Bueno Bueno Bueno Bueno\" (Shoutout to Monsieur Periné https://youtu.be/JGL-eQAAxGs see 10:45)"
   ]
  },
  {
   "cell_type": "code",
   "execution_count": 13,
   "metadata": {},
   "outputs": [
    {
     "name": "stdout",
     "output_type": "stream",
     "text": [
      "Bueno Bueno Bueno Bueno Bueno \n"
     ]
    }
   ],
   "source": [
    "print(\"Bueno \" * 5)"
   ]
  },
  {
   "cell_type": "markdown",
   "metadata": {},
   "source": [
    "**W.5** Do the same thing using addtion"
   ]
  },
  {
   "cell_type": "code",
   "execution_count": 17,
   "metadata": {},
   "outputs": [
    {
     "name": "stdout",
     "output_type": "stream",
     "text": [
      "Bueno Bueno Bueno Bueno Bueno \n"
     ]
    }
   ],
   "source": [
    "print(\"Bueno \" + \"Bueno \" + \"Bueno \" + \"Bueno \" + \"Bueno \")"
   ]
  },
  {
   "cell_type": "markdown",
   "metadata": {},
   "source": [
    "**W.6** If you add an int and a float, what is the resulting variable type? Demonstrate"
   ]
  },
  {
   "cell_type": "code",
   "execution_count": 21,
   "metadata": {},
   "outputs": [
    {
     "name": "stdout",
     "output_type": "stream",
     "text": [
      "Result: 8.5\n",
      "Type: <class 'float'>\n"
     ]
    }
   ],
   "source": [
    "my_int = 5\n",
    "my_float = 3.5\n",
    "\n",
    "result = my_int + my_float\n",
    "\n",
    "print(\"Result:\", result)\n",
    "print(\"Type:\", type(result))"
   ]
  },
  {
   "cell_type": "markdown",
   "metadata": {},
   "source": [
    "**W.7** Can you convert a Boolian to an interger type variable? If so, what is the resulting value? What happens if you convert a float to an int?"
   ]
  },
  {
   "cell_type": "code",
   "execution_count": 31,
   "metadata": {},
   "outputs": [
    {
     "name": "stdout",
     "output_type": "stream",
     "text": [
      "Result: 1\n",
      "Type: <class 'int'>\n",
      "Result: 3\n",
      "Type: <class 'int'>\n"
     ]
    }
   ],
   "source": [
    "#Yes, you can convert a Boolean to an integer type variable using the int() function in Python.\n",
    "\n",
    "#- True becomes 1\n",
    "#- False becomes 0\n",
    "\n",
    "# Define a Boolean variable\n",
    "my_bool = True\n",
    "\n",
    "# Convert the Boolean to an integer\n",
    "my_int = int(my_bool)\n",
    "\n",
    "# Print the result\n",
    "print(\"Result:\", my_int)\n",
    "print(\"Type:\", type(my_int))\n",
    "\n",
    "# Define a floating-point number\n",
    "my_float = 3.7\n",
    "\n",
    "# Convert the float to an integer\n",
    "my_int = int(my_float)\n",
    "\n",
    "# Print the result\n",
    "print(\"Result:\", my_int)\n",
    "print(\"Type:\", type(my_int))"
   ]
  },
  {
   "cell_type": "markdown",
   "metadata": {},
   "source": [
    "# Lab 1.2"
   ]
  },
  {
   "cell_type": "markdown",
   "metadata": {},
   "source": [
    "## Lab Exercises"
   ]
  },
  {
   "cell_type": "markdown",
   "metadata": {},
   "source": [
    "**E.1** Complete Ch 2 of Introduction to Python in datacamp. "
   ]
  },
  {
   "cell_type": "markdown",
   "metadata": {},
   "source": [
    "**E.2** Below you will spend time practicing what you have learned in Ch 2. Use a comination of code, code commenting, and markdown text to take notes. Make sure you investigate how python syntax works and understand what you are doing, and what went wrong if you have any issues. You can refer to this document later if you need to review, so give future you lots of commenting to be helpful."
   ]
  },
  {
   "cell_type": "markdown",
   "metadata": {},
   "source": [
    "**E.2.1** Let's work on lists, indexing and printing out elements of lists.\n",
    "\n",
    "We are going to calculate the BMI of five family members (or friends/colleaues if you have a small family, or famous people/politicians/atheletes if you really don't like talking to people, they just have to be adults and you need their data). Make intellegently named lists for the first name, last name, height, weight and age of each person. So, five lists in total."
   ]
  },
  {
   "cell_type": "code",
   "execution_count": 38,
   "metadata": {},
   "outputs": [],
   "source": [
    "# First names\n",
    "first_names = [\"Owhonda\", \"Kesse\", \"Michael\", \"Daniel\", \"Harrison\"]\n",
    "\n",
    "# Last names\n",
    "last_names = [\"Ihunwo\", \"Asante\", \"Brown\", \"Taylor\", \"Cheryl\"]\n",
    "\n",
    "# Heights in meters\n",
    "heights = [1.75, 1.62, 1.80, 1.68, 1.78]\n",
    "\n",
    "# Weights in kilograms\n",
    "weights = [70.0, 55.0, 85.0, 60.0, 75.0]\n",
    "\n",
    "# Ages\n",
    "ages = [38, 25, 40, 32, 48]"
   ]
  },
  {
   "cell_type": "markdown",
   "metadata": {},
   "source": [
    "**E.2.2** Now create a new list that calculates the BMI of each person using the lists you created before"
   ]
  },
  {
   "cell_type": "code",
   "execution_count": 40,
   "metadata": {},
   "outputs": [
    {
     "name": "stdout",
     "output_type": "stream",
     "text": [
      "Owhonda Ihunwo - BMI: 22.86\n",
      "Kesse Asante - BMI: 20.96\n",
      "Michael Brown - BMI: 26.23\n",
      "Daniel Taylor - BMI: 21.26\n",
      "Harrison Cheryl - BMI: 23.67\n"
     ]
    }
   ],
   "source": [
    "def calculate_bmi(weight, height):\n",
    "    bmi = weight / (height ** 2)\n",
    "    return bmi\n",
    "\n",
    "for i in range(len(first_names)):\n",
    "    weight = weights[i]\n",
    "    height = heights[i]\n",
    "    bmi = calculate_bmi(weight, height)\n",
    "    print(f\"{first_names[i]} {last_names[i]} - BMI: {bmi:.2f}\")\n"
   ]
  },
  {
   "cell_type": "markdown",
   "metadata": {},
   "source": [
    "**E.2.3** Look up the weight classification of each person based on their BMI (what's a good source for this, who do you trust?). Create a new list with this information for each person. (Don't judge, we live in Louisiana, which is not known for health food.)"
   ]
  },
  {
   "cell_type": "code",
   "execution_count": 54,
   "metadata": {},
   "outputs": [
    {
     "name": "stdout",
     "output_type": "stream",
     "text": [
      "Owhonda Ihunwo - BMI: 22.86, Weight classification: Normal weight\n",
      "Kesse Asante - BMI: 20.96, Weight classification: Normal weight\n",
      "Michael Brown - BMI: 26.23, Weight classification: Overweight\n",
      "Daniel Taylor - BMI: 21.26, Weight classification: Normal weight\n",
      "Harrison Cheryl - BMI: 23.67, Weight classification: Normal weight\n"
     ]
    }
   ],
   "source": [
    "# First names\n",
    "first_names = [\"Owhonda\", \"Kesse\", \"Michael\", \"Daniel\", \"Harrison\"]\n",
    "\n",
    "# Last names\n",
    "last_names = [\"Ihunwo\", \"Asante\", \"Brown\", \"Taylor\", \"Cheryl\"]\n",
    "\n",
    "# Heights in meters\n",
    "heights = [1.75, 1.62, 1.80, 1.68, 1.78]\n",
    "\n",
    "# Weights in kilograms\n",
    "weights = [70.0, 55.0, 85.0, 60.0, 75.0]\n",
    "\n",
    "# Ages\n",
    "ages = [38, 25, 40, 32, 48]\n",
    "\n",
    "\n",
    "\n",
    "# Function to calculate BMI\n",
    "def calculate_bmi(weight, height):\n",
    "    bmi = weight / (height ** 2)\n",
    "    return bmi\n",
    "# Calculate BMIs\n",
    "bmi_values = [calculate_bmi(weight, height) for weight, height in zip(weights, heights)]\n",
    "\n",
    "\n",
    "# Define BMI categories\n",
    "bmi_categories = [\"Underweight\", \"Normal weight\", \"Overweight\", \"Obese\"]\n",
    "\n",
    "# Determine weight classifications\n",
    "weight_classifications = []\n",
    "for bmi in bmi_values:\n",
    "    if bmi < 18.5:\n",
    "        weight_classifications.append(bmi_categories[0])\n",
    "    elif 18.5 <= bmi < 25:\n",
    "        weight_classifications.append(bmi_categories[1])\n",
    "    elif 25 <= bmi < 30:\n",
    "        weight_classifications.append(bmi_categories[2])\n",
    "    else:\n",
    "        weight_classifications.append(bmi_categories[3])\n",
    "\n",
    "# Print results\n",
    "for i in range(len(first_names)):\n",
    "    print(f\"{first_names[i]} {last_names[i]} - BMI: {bmi_values[i]:.2f}, Weight classification: {weight_classifications[i]}\")\n"
   ]
  },
  {
   "cell_type": "markdown",
   "metadata": {},
   "source": [
    "**E.2.3** Let's practice some print statements and iterate manually through the people on your lists.\n",
    "\n",
    "For each person, print out something like: \"First_name last_name, age xx, has a height of xx units and weight of xx units, giving them a body mass index (BMI) of xx, making them yy\" where yy is if they are normal, obese, etc."
   ]
  },
  {
   "cell_type": "code",
   "execution_count": 56,
   "metadata": {},
   "outputs": [
    {
     "name": "stdout",
     "output_type": "stream",
     "text": [
      "Owhonda Ihunwo, age 38, has a height of 1.75 meters and weight of 70.0 kilograms, giving them a body mass index (BMI) of 22.86, making them Normal weight.\n",
      "Kesse Asante, age 25, has a height of 1.62 meters and weight of 55.0 kilograms, giving them a body mass index (BMI) of 20.96, making them Normal weight.\n",
      "Michael Brown, age 40, has a height of 1.8 meters and weight of 85.0 kilograms, giving them a body mass index (BMI) of 26.23, making them Overweight.\n",
      "Daniel Taylor, age 32, has a height of 1.68 meters and weight of 60.0 kilograms, giving them a body mass index (BMI) of 21.26, making them Normal weight.\n",
      "Harrison Cheryl, age 48, has a height of 1.78 meters and weight of 75.0 kilograms, giving them a body mass index (BMI) of 23.67, making them Normal weight.\n"
     ]
    }
   ],
   "source": [
    "# Iterate through the lists\n",
    "for i in range(len(first_names)):\n",
    "    # Extract the values for the current person\n",
    "    first_name = first_names[i]\n",
    "    last_name = last_names[i]\n",
    "    age = ages[i]\n",
    "    height = heights[i]\n",
    "    weight = weights[i]\n",
    "    bmi = bmi_values[i]\n",
    "    classification = weight_classifications[i]\n",
    "    \n",
    "    # Print the information\n",
    "    print(f\"{first_name} {last_name}, age {age}, has a height of {height} meters and weight of {weight} kilograms, giving them a body mass index (BMI) of {bmi:.2f}, making them {classification}.\")"
   ]
  },
  {
   "cell_type": "markdown",
   "metadata": {},
   "source": [
    "**E.2.4** Now add/append your information to each of the lists, and do the same print statement for you. Make a resolution to eat more veggies."
   ]
  },
  {
   "cell_type": "code",
   "execution_count": 58,
   "metadata": {},
   "outputs": [
    {
     "name": "stdout",
     "output_type": "stream",
     "text": [
      "Owhonda Ihunwo, age 38, has a height of 1.75 meters and weight of 70.0 kilograms, giving them a body mass index (BMI) of 22.86, making them Normal weight.\n",
      "Kesse Asante, age 25, has a height of 1.62 meters and weight of 55.0 kilograms, giving them a body mass index (BMI) of 20.96, making them Normal weight.\n",
      "Michael Brown, age 40, has a height of 1.8 meters and weight of 85.0 kilograms, giving them a body mass index (BMI) of 26.23, making them Overweight.\n",
      "Daniel Taylor, age 32, has a height of 1.68 meters and weight of 60.0 kilograms, giving them a body mass index (BMI) of 21.26, making them Normal weight.\n"
     ]
    }
   ],
   "source": [
    "# Remove myself from the lists\n",
    "first_names.pop()\n",
    "last_names.pop()\n",
    "ages.pop()\n",
    "heights.pop()\n",
    "weights.pop()\n",
    "bmi_values.pop()\n",
    "weight_classifications.pop()\n",
    "\n",
    "# Iterate through the lists again\n",
    "for i in range(len(first_names)):\n",
    "    # Extract the values for the current person\n",
    "    first_name = first_names[i]\n",
    "    last_name = last_names[i]\n",
    "    age = ages[i]\n",
    "    height = heights[i]\n",
    "    weight = weights[i]\n",
    "    bmi = bmi_values[i]\n",
    "    classification = weight_classifications[i]\n",
    "    \n",
    "    # Print the information\n",
    "    print(f\"{first_name} {last_name}, age {age}, has a height of {height} meters and weight of {weight} kilograms, giving them a body mass index (BMI) of {bmi:.2f}, making them {classification}.\")"
   ]
  },
  {
   "cell_type": "markdown",
   "metadata": {},
   "source": [
    "When you are done with your lab, upload this document to your github folder on the class site. Then submit a url link to the completed lab, along with a screenshot of your completed Ch 2 score in datacamp, to the assignment tab in Moodle."
   ]
  },
  {
   "cell_type": "code",
   "execution_count": null,
   "metadata": {},
   "outputs": [],
   "source": [
    "#100%"
   ]
  },
  {
   "cell_type": "markdown",
   "metadata": {},
   "source": [
    "# Scratch"
   ]
  },
  {
   "cell_type": "code",
   "execution_count": 5,
   "metadata": {},
   "outputs": [],
   "source": [
    "# this is an area of the notebook you can mess around and test things out, if you don't want to put it above"
   ]
  },
  {
   "cell_type": "code",
   "execution_count": 19,
   "metadata": {},
   "outputs": [
    {
     "name": "stdout",
     "output_type": "stream",
     "text": [
      "{\n",
      "  \"shell_port\": 49827,\n",
      "  \"iopub_port\": 49828,\n",
      "  \"stdin_port\": 49829,\n",
      "  \"control_port\": 49831,\n",
      "  \"hb_port\": 49830,\n",
      "  \"ip\": \"127.0.0.1\",\n",
      "  \"key\": \"d6549923-064af66b080b8d347bb186fd\",\n",
      "  \"transport\": \"tcp\",\n",
      "  \"signature_scheme\": \"hmac-sha256\",\n",
      "  \"kernel_name\": \"python3\",\n",
      "  \"jupyter_session\": \"C:\\\\Users\\\\owhon\\\\Lab1.2-F24.ipynb\"\n",
      "}\n",
      "\n",
      "Paste the above JSON into a file, and connect with:\n",
      "    $> jupyter <app> --existing <file>\n",
      "or, if you are local, you can connect with just:\n",
      "    $> jupyter <app> --existing kernel-08680fe3-f131-40b2-ab30-4e3434b207a5.json\n",
      "or even just:\n",
      "    $> jupyter <app> --existing\n",
      "if this is the most recent Jupyter kernel you have started.\n"
     ]
    }
   ],
   "source": [
    "%connect_info"
   ]
  },
  {
   "cell_type": "code",
   "execution_count": null,
   "metadata": {},
   "outputs": [],
   "source": []
  }
 ],
 "metadata": {
  "kernelspec": {
   "display_name": "Python 3 (ipykernel)",
   "language": "python",
   "name": "python3"
  },
  "language_info": {
   "codemirror_mode": {
    "name": "ipython",
    "version": 3
   },
   "file_extension": ".py",
   "mimetype": "text/x-python",
   "name": "python",
   "nbconvert_exporter": "python",
   "pygments_lexer": "ipython3",
   "version": "3.12.4"
  }
 },
 "nbformat": 4,
 "nbformat_minor": 4
}
