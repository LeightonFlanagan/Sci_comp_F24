{
 "cells": [
  {
   "cell_type": "markdown",
   "id": "underlying-transformation",
   "metadata": {},
   "source": [
    "Name"
   ]
  },
  {
   "cell_type": "markdown",
   "id": "genuine-works",
   "metadata": {},
   "source": [
    "Labpartner(s)"
   ]
  },
  {
   "cell_type": "code",
   "execution_count": null,
   "id": "international-split",
   "metadata": {},
   "outputs": [],
   "source": [
    "#import statements go here\n",
    "import pandas as pd\n",
    "import numpy as np\n",
    "import matplotlib.pyplot as plt"
   ]
  },
  {
   "cell_type": "markdown",
   "id": "miniature-explorer",
   "metadata": {},
   "source": [
    "# Lab 4.1"
   ]
  },
  {
   "cell_type": "markdown",
   "id": "nuclear-stroke",
   "metadata": {},
   "source": [
    "## Instructions\n",
    "\n",
    "For each class, download the lab and have it up and running in Jupyter when we begin the class period. This will allow you to code along with the demonstrations and be ready to go. Put the name of your lab partner above.\n",
    "\n",
    "When you are done with your lab, upload this document to your github folder on the class site. Then submit a url link to the completed lab, along with a screenshot of your **completed score** for the chapter assigned in datacamp to the assignment tab in Moodle."
   ]
  },
  {
   "cell_type": "markdown",
   "id": "driving-abuse",
   "metadata": {},
   "source": [
    "# Warmups 4.1"
   ]
  },
  {
   "cell_type": "markdown",
   "id": "processed-competition",
   "metadata": {},
   "source": [
    "W.1-3 Do exercises 1-3 in the Data Statisics problem: http://scipy-lectures.org/intro/numpy/exercises.html#data-statistics. See lab 4.1  on how to load in the data file"
   ]
  },
  {
   "cell_type": "code",
   "execution_count": null,
   "id": "appreciated-cincinnati",
   "metadata": {},
   "outputs": [],
   "source": []
  },
  {
   "cell_type": "markdown",
   "id": "following-detective",
   "metadata": {},
   "source": [
    "# Lecture 4.1"
   ]
  },
  {
   "cell_type": "markdown",
   "id": "fatty-period",
   "metadata": {},
   "source": [
    "Agenda:\n",
    "\n",
    "- Checking in after the hurricane, how is everyone doing?\n",
    "- Coding questions\n",
    "- Tabs in python\n",
    "\n",
    "Some relevant coding humor: https://www.youtube.com/watch?v=JfEIkkDkrmE"
   ]
  },
  {
   "cell_type": "markdown",
   "id": "b35d93e4-7938-4a08-b3b3-e02070bc8323",
   "metadata": {},
   "source": [
    "Let's go over some of the examples here: https://scipy-lectures.org/intro/language/control_flow.html"
   ]
  },
  {
   "cell_type": "code",
   "execution_count": null,
   "id": "5d7a078f-a636-4ba1-a3ed-0b744e641000",
   "metadata": {},
   "outputs": [],
   "source": [
    "x = np.array([1,2,3])\n",
    "x"
   ]
  },
  {
   "cell_type": "code",
   "execution_count": null,
   "id": "graduate-relay",
   "metadata": {},
   "outputs": [],
   "source": [
    "# if statement\n",
    "\n",
    "if (x[1] == 3):\n",
    "    print('yes') # there is a tab before the print statement\n",
    "    \n",
    "print('Hello')    # this is not part of the if statement\n"
   ]
  },
  {
   "cell_type": "code",
   "execution_count": null,
   "id": "documented-district",
   "metadata": {},
   "outputs": [],
   "source": [
    "x[1] == 2"
   ]
  },
  {
   "cell_type": "code",
   "execution_count": null,
   "id": "operational-international",
   "metadata": {},
   "outputs": [],
   "source": []
  },
  {
   "cell_type": "code",
   "execution_count": null,
   "id": "international-halifax",
   "metadata": {},
   "outputs": [],
   "source": [
    "y = np.array([4,7,6])\n",
    "y"
   ]
  },
  {
   "cell_type": "code",
   "execution_count": null,
   "id": "velvet-citation",
   "metadata": {},
   "outputs": [],
   "source": [
    "if (y[-1] > 7):\n",
    "    print(\"Excellent\")\n",
    "\n",
    "print('Bogus')"
   ]
  },
  {
   "cell_type": "markdown",
   "id": "widespread-attention",
   "metadata": {},
   "source": [
    "# Lab 4.1"
   ]
  },
  {
   "cell_type": "markdown",
   "id": "freelance-property",
   "metadata": {},
   "source": [
    "**E.1** Complete intermediate python chapter 3: Logic, Control Flow and Filtering\n",
    "\n",
    "Note that the tutorials here have similar material for your needs:\n",
    "https://github.com/chsharrison/Sci_comp_F24/blob/main/Course_materials/resources.md"
   ]
  },
  {
   "cell_type": "code",
   "execution_count": null,
   "id": "floating-observation",
   "metadata": {},
   "outputs": [],
   "source": []
  },
  {
   "cell_type": "markdown",
   "id": "prescribed-shooting",
   "metadata": {},
   "source": [
    "**E.2** Make notes for yourself on all of the progamming tecniques and commands you learned in the datacamp chapter above, including examples, comments and explainitory text. You can do this here or in a separate notebook that you link to here. Basically, you are making a cheat sheet for yourself."
   ]
  },
  {
   "cell_type": "code",
   "execution_count": null,
   "id": "invisible-gather",
   "metadata": {},
   "outputs": [],
   "source": []
  },
  {
   "cell_type": "markdown",
   "id": "crude-checkout",
   "metadata": {},
   "source": [
    "**E.3** Exercise 1 on https://www.practicepython.org"
   ]
  },
  {
   "cell_type": "code",
   "execution_count": null,
   "id": "curious-garage",
   "metadata": {},
   "outputs": [],
   "source": []
  },
  {
   "cell_type": "markdown",
   "id": "infectious-renewal",
   "metadata": {},
   "source": [
    "**E.4** Exercise 2 on https://www.practicepython.org"
   ]
  },
  {
   "cell_type": "code",
   "execution_count": null,
   "id": "narrow-relief",
   "metadata": {},
   "outputs": [],
   "source": []
  },
  {
   "cell_type": "markdown",
   "id": "prescription-physiology",
   "metadata": {},
   "source": [
    "Don't forget to do some practicing of what you have been learning, including material from previous labs"
   ]
  },
  {
   "cell_type": "markdown",
   "id": "average-count",
   "metadata": {},
   "source": [
    "**You did it!**"
   ]
  },
  {
   "cell_type": "code",
   "execution_count": null,
   "id": "pressed-burning",
   "metadata": {},
   "outputs": [],
   "source": []
  }
 ],
 "metadata": {
  "kernelspec": {
   "display_name": "Python 3 (ipykernel)",
   "language": "python",
   "name": "python3"
  },
  "language_info": {
   "codemirror_mode": {
    "name": "ipython",
    "version": 3
   },
   "file_extension": ".py",
   "mimetype": "text/x-python",
   "name": "python",
   "nbconvert_exporter": "python",
   "pygments_lexer": "ipython3",
   "version": "3.12.4"
  }
 },
 "nbformat": 4,
 "nbformat_minor": 5
}
