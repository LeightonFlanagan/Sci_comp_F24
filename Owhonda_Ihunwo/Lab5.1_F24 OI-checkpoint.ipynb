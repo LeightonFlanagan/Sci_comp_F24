{
 "cells": [
  {
   "cell_type": "markdown",
   "id": "absolute-chess",
   "metadata": {},
   "source": [
    "Name Owhonda Ihunwo"
   ]
  },
  {
   "cell_type": "markdown",
   "id": "fitting-blind",
   "metadata": {
    "editable": true,
    "slideshow": {
     "slide_type": ""
    },
    "tags": []
   },
   "source": [
    "Labpartner(s)"
   ]
  },
  {
   "cell_type": "code",
   "execution_count": 2,
   "id": "described-england",
   "metadata": {},
   "outputs": [],
   "source": [
    "# import statements go here\n",
    "import pandas as pd\n",
    "import numpy as np\n"
   ]
  },
  {
   "cell_type": "markdown",
   "id": "ranking-telephone",
   "metadata": {},
   "source": [
    "# Class 5.1"
   ]
  },
  {
   "cell_type": "markdown",
   "id": "opponent-producer",
   "metadata": {},
   "source": [
    "# Warmups 5.1"
   ]
  },
  {
   "cell_type": "markdown",
   "id": "prompt-shade",
   "metadata": {},
   "source": [
    "**W.1** Go through 1.4.1.2 Creating Arrays in the scipy lecture notes, including the exercises. http://scipy-lectures.org/intro/numpy/array_object.html#id2"
   ]
  },
  {
   "cell_type": "code",
   "execution_count": 5,
   "id": "french-briefing",
   "metadata": {},
   "outputs": [
    {
     "data": {
      "text/plain": [
       "4"
      ]
     },
     "execution_count": 5,
     "metadata": {},
     "output_type": "execute_result"
    }
   ],
   "source": [
    "a = np.array([0, 1, 2, 3])\n",
    "a\n",
    "\n",
    "a.ndim\n",
    "\n",
    "a.shape\n",
    "\n",
    "len(a)\n"
   ]
  },
  {
   "cell_type": "code",
   "execution_count": 7,
   "id": "43a0e1e0-8875-4a12-930b-adcd90749e5b",
   "metadata": {},
   "outputs": [
    {
     "data": {
      "text/plain": [
       "(2, 2, 1)"
      ]
     },
     "execution_count": 7,
     "metadata": {},
     "output_type": "execute_result"
    }
   ],
   "source": [
    "b = np.array([[0, 1, 2], [3, 4, 5]])    # 2 x 3 array\n",
    "b\n",
    "\n",
    "\n",
    "b.ndim\n",
    "\n",
    "b.shape\n",
    "\n",
    "len(b)     # returns the size of the first dimension\n",
    "\n",
    "\n",
    "c = np.array([[[1], [2]], [[3], [4]]])\n",
    "c\n",
    "\n",
    "\n",
    "\n",
    "\n",
    "\n",
    "c.shape"
   ]
  },
  {
   "cell_type": "code",
   "execution_count": 12,
   "id": "abd34bb9-9693-4449-834d-132b9a8142ec",
   "metadata": {},
   "outputs": [
    {
     "name": "stdout",
     "output_type": "stream",
     "text": [
      "[[10.   9.2]\n",
      " [16.  10.8]\n",
      " [10.   8.9]\n",
      " [ 5.   7.6]\n",
      " [ 6.   7.8]\n",
      " [ 5.   7.5]\n",
      " [ 6.   8. ]\n",
      " [ 4.   7.6]\n",
      " [13.  10.7]\n",
      " [ 8.   9.1]\n",
      " [ 7.   8.7]\n",
      " [20.  13.2]\n",
      " [84.  20.5]\n",
      " [ 7.   7.6]\n",
      " [14.   9.5]\n",
      " [14.   9.5]\n",
      " [10.   9.4]\n",
      " [ 8.  10.5]\n",
      " [13.   9.7]\n",
      " [10.   9.6]\n",
      " [11.  10. ]\n",
      " [10.   9.5]\n",
      " [10.   9.2]\n",
      " [11.  10.1]\n",
      " [ 8.   9.2]\n",
      " [84.  25.3]\n",
      " [13.  23.3]\n",
      " [13.  10.4]\n",
      " [ 9.   8.8]\n",
      " [12.  10.9]]\n"
     ]
    }
   ],
   "source": [
    "data = np.array([[10, 9.2], [16, 10.8], [10, 8.9], [5, 7.6], [6, 7.8],\n",
    "                 [5, 7.5], [6, 8.0], [4, 7.6], [13, 10.7], [8, 9.1],\n",
    "                 [7, 8.7], [20, 13.2], [84, 20.5], [7, 7.6], [14, 9.5],\n",
    "                 [14, 9.5], [10, 9.4], [8, 10.5], [13, 9.7], [10, 9.6],\n",
    "                 [11, 10.0], [10, 9.5], [10, 9.2], [11, 10.1], [8, 9.2],\n",
    "                 [84, 25.3], [13, 23.3], [13, 10.4], [9, 8.8], [12, 10.9]])\n",
    "\n",
    "data = np.where(data == None, np.nan, data)\n",
    "data = data[~np.isnan(data)]\n",
    "data = data.reshape(-1, 2)\n",
    "\n",
    "print(data)"
   ]
  },
  {
   "cell_type": "code",
   "execution_count": 14,
   "id": "7d0554c3-e7e6-4808-94ce-85e48e1834ae",
   "metadata": {},
   "outputs": [
    {
     "name": "stdout",
     "output_type": "stream",
     "text": [
      "Array shapes and lengths:\n",
      "arr_1d.shape: (5,), len(arr_1d): 5, arr_1d.ndim: 1\n",
      "arr_2d.shape: (3, 2), len(arr_2d): 3, arr_2d.ndim: 2\n",
      "arr_3d.shape: (2, 2, 2), len(arr_3d): 2, arr_3d.ndim: 3\n"
     ]
    }
   ],
   "source": [
    "arr_1d = np.array([1, 2, 3, 4, 5])\n",
    "\n",
    "\n",
    "arr_2d = np.array([[1, 2], [3, 4], [5, 6]])\n",
    "\n",
    "\n",
    "arr_3d = np.array([[[1, 2], [3, 4]], [[5, 6], [7, 8]]])\n",
    "\n",
    "\n",
    "print(\"Array shapes and lengths:\")\n",
    "\n",
    "print(f\"arr_1d.shape: {arr_1d.shape}, len(arr_1d): {len(arr_1d)}, arr_1d.ndim: {arr_1d.ndim}\")\n",
    "print(f\"arr_2d.shape: {arr_2d.shape}, len(arr_2d): {len(arr_2d)}, arr_2d.ndim: {arr_2d.ndim}\")\n",
    "print(f\"arr_3d.shape: {arr_3d.shape}, len(arr_3d): {len(arr_3d)}, arr_3d.ndim: {arr_3d.ndim}\")"
   ]
  },
  {
   "cell_type": "code",
   "execution_count": 16,
   "id": "a3983f8e-ba9e-4589-abd5-196e36ac6e30",
   "metadata": {},
   "outputs": [
    {
     "data": {
      "text/plain": [
       "array([1, 3, 5, 7])"
      ]
     },
     "execution_count": 16,
     "metadata": {},
     "output_type": "execute_result"
    }
   ],
   "source": [
    "a = np.arange(10) # 0 .. n-1  (!)\n",
    "a\n",
    "\n",
    "b = np.arange(1, 9, 2) # start, end (exclusive), step\n",
    "b"
   ]
  },
  {
   "cell_type": "code",
   "execution_count": 18,
   "id": "b4ccb451-e1e6-4190-a2a4-2ebdc46664be",
   "metadata": {},
   "outputs": [
    {
     "data": {
      "text/plain": [
       "array([0. , 0.2, 0.4, 0.6, 0.8])"
      ]
     },
     "execution_count": 18,
     "metadata": {},
     "output_type": "execute_result"
    }
   ],
   "source": [
    "c = np.linspace(0, 1, 6)   # start, end, num-points\n",
    "c\n",
    "\n",
    "d = np.linspace(0, 1, 5, endpoint=False)\n",
    "d"
   ]
  },
  {
   "cell_type": "code",
   "execution_count": 20,
   "id": "1c958f53-3b4f-4f3c-9621-ed41825a80a5",
   "metadata": {},
   "outputs": [
    {
     "data": {
      "text/plain": [
       "array([[1, 0, 0, 0],\n",
       "       [0, 2, 0, 0],\n",
       "       [0, 0, 3, 0],\n",
       "       [0, 0, 0, 4]])"
      ]
     },
     "execution_count": 20,
     "metadata": {},
     "output_type": "execute_result"
    }
   ],
   "source": [
    "a = np.ones((3, 3))  # reminder: (3, 3) is a tuple\n",
    "a\n",
    "\n",
    "\n",
    "\n",
    "b = np.zeros((2, 2))\n",
    "b\n",
    "\n",
    "\n",
    "c = np.eye(3)\n",
    "c\n",
    "\n",
    "\n",
    "\n",
    "d = np.diag(np.array([1, 2, 3, 4]))\n",
    "d"
   ]
  },
  {
   "cell_type": "code",
   "execution_count": 22,
   "id": "e966e67f-b6b1-4014-8400-249187b43f8d",
   "metadata": {},
   "outputs": [],
   "source": [
    "a = np.random.rand(4)       # uniform in [0, 1]\n",
    "a  \n",
    "\n",
    "\n",
    "b = np.random.randn(4)      # Gaussian\n",
    "b  \n",
    "\n",
    "\n",
    "np.random.seed(1234)        # Setting the random seed"
   ]
  },
  {
   "cell_type": "code",
   "execution_count": 24,
   "id": "44f1cfea-5531-4a00-8844-88f2a6b87797",
   "metadata": {},
   "outputs": [
    {
     "name": "stdout",
     "output_type": "stream",
     "text": [
      "arange:\n",
      "[1 3 5 7 9]\n",
      "[0 1 2 3 4 5 6 7 8 9]\n",
      "\n",
      "linspace:\n",
      "[ 1.    3.25  5.5   7.75 10.  ]\n",
      "[1.  1.9 2.8 3.7 4.6 5.5 6.4 7.3 8.2 9.1]\n",
      "\n",
      "ones:\n",
      "[1. 1. 1. 1. 1.]\n",
      "[[1. 1. 1.]\n",
      " [1. 1. 1.]\n",
      " [1. 1. 1.]]\n",
      "\n",
      "zeros:\n",
      "[0. 0. 0. 0. 0.]\n",
      "[[0. 0. 0.]\n",
      " [0. 0. 0.]\n",
      " [0. 0. 0.]]\n",
      "\n",
      "eye:\n",
      "[[1. 0. 0.]\n",
      " [0. 1. 0.]\n",
      " [0. 0. 1.]]\n",
      "[[0. 1. 0.]\n",
      " [0. 0. 1.]\n",
      " [0. 0. 0.]]\n",
      "\n",
      "diag:\n",
      "[[1 0 0]\n",
      " [0 2 0]\n",
      " [0 0 3]]\n",
      "[[0 1 0 0]\n",
      " [0 0 2 0]\n",
      " [0 0 0 3]\n",
      " [0 0 0 0]]\n"
     ]
    }
   ],
   "source": [
    "print(\"arange:\")\n",
    "print(np.arange(1, 10, 2))  # [1, 3, 5, 7, 9]\n",
    "print(np.arange(10))  # [0, 1, 2, 3, 4, 5, 6, 7, 8, 9]\n",
    "\n",
    "\n",
    "print(\"\\nlinspace:\")\n",
    "print(np.linspace(1, 10, 5))  # [ 1.  3.25 5.5  7.75 10.]\n",
    "print(np.linspace(1, 10, 10, endpoint=False))  # [1.  2.  3.  4.  5.  6.  7.  8.  9.]\n",
    "\n",
    "\n",
    "print(\"\\nones:\")\n",
    "print(np.ones(5))  # [1. 1. 1. 1. 1.]\n",
    "print(np.ones((3, 3)))  # [[1. 1. 1.], [1. 1. 1.], [1. 1. 1.]]\n",
    "\n",
    "\n",
    "print(\"\\nzeros:\")\n",
    "print(np.zeros(5))  # [0. 0. 0. 0. 0.]\n",
    "print(np.zeros((3, 3)))  # [[0. 0. 0.], [0. 0. 0.], [0. 0. 0.]]\n",
    "\n",
    "\n",
    "print(\"\\neye:\")\n",
    "print(np.eye(3))  # [[1. 0. 0.], [0. 1. 0.], [0. 0. 1.]]\n",
    "print(np.eye(3, k=1))  # [[0. 1. 0.], [0. 0. 1.], [0. 0. 0.]]\n",
    "\n",
    "\n",
    "print(\"\\ndiag:\")\n",
    "print(np.diag([1, 2, 3]))  # [[1 0 0], [0 2 0], [0 0 3]]\n",
    "print(np.diag([1, 2, 3], k=1))  # [[0 1 0 0], [0 0 2 0], [0 0 0 3], [0 0 0 0]]"
   ]
  },
  {
   "cell_type": "code",
   "execution_count": 26,
   "id": "976caf5a-15e0-44ea-adf8-14c0dd8a9dc7",
   "metadata": {},
   "outputs": [
    {
     "name": "stdout",
     "output_type": "stream",
     "text": [
      "Random Integers: [44 47 64 67 67  9 83 21 36 87]\n",
      "\n",
      "Random Floats:\n",
      " [[0.891773   0.96366276 0.38344152 0.79172504 0.52889492]\n",
      " [0.56804456 0.92559664 0.07103606 0.0871293  0.0202184 ]\n",
      " [0.83261985 0.77815675 0.87001215 0.97861834 0.79915856]\n",
      " [0.46147936 0.78052918 0.11827443 0.63992102 0.14335329]\n",
      " [0.94466892 0.52184832 0.41466194 0.26455561 0.77423369]]\n",
      "\n",
      "Random Normal:\n",
      " [[[ 2.26975462 -1.45436567  0.04575852]\n",
      "  [-0.18718385  1.53277921  1.46935877]\n",
      "  [ 0.15494743  0.37816252 -0.88778575]]\n",
      "\n",
      " [[-1.98079647 -0.34791215  0.15634897]\n",
      "  [ 1.23029068  1.20237985 -0.38732682]\n",
      "  [-0.30230275 -1.04855297 -1.42001794]]\n",
      "\n",
      " [[-1.70627019  1.9507754  -0.50965218]\n",
      "  [-0.4380743  -1.25279536  0.77749036]\n",
      "  [-1.61389785 -0.21274028 -0.89546656]]]\n",
      "\n",
      "Random Choice: [4 8 6 2 1 7 5 0 3 9]\n",
      "\n",
      "Random Uniform: [ 0.94389     0.75638694  0.01924875 -0.88857061 -0.09768157]\n",
      "\n",
      "Random Poisson: [ 3 10  1  6  4]\n"
     ]
    }
   ],
   "source": [
    "\n",
    "np.random.seed(0)\n",
    "\n",
    "\n",
    "random_integers = np.random.randint(0, 100, size=10)\n",
    "print(\"Random Integers:\", random_integers)\n",
    "\n",
    "\n",
    "random_floats = np.random.rand(5, 5)\n",
    "print(\"\\nRandom Floats:\\n\", random_floats)\n",
    "\n",
    "\n",
    "random_normal = np.random.standard_normal((3, 3, 3))\n",
    "print(\"\\nRandom Normal:\\n\", random_normal)\n",
    "\n",
    "\n",
    "random_choice = np.random.choice(10, size=10, replace=False)\n",
    "print(\"\\nRandom Choice:\", random_choice)\n",
    "\n",
    "\n",
    "random_uniform = np.random.uniform(-1, 1, size=5)\n",
    "print(\"\\nRandom Uniform:\", random_uniform)\n",
    "\n",
    "random_poisson = np.random.poisson(lam=5, size=5)\n",
    "print(\"\\nRandom Poisson:\", random_poisson)"
   ]
  },
  {
   "cell_type": "code",
   "execution_count": 30,
   "id": "fe68d495-98b2-439b-baea-03ee86525ad1",
   "metadata": {},
   "outputs": [
    {
     "name": "stdout",
     "output_type": "stream",
     "text": [
      "Random Array (Seed=0):\n",
      " [[0.5488135  0.71518937 0.60276338 0.54488318 0.4236548 ]\n",
      " [0.64589411 0.43758721 0.891773   0.96366276 0.38344152]\n",
      " [0.79172504 0.52889492 0.56804456 0.92559664 0.07103606]\n",
      " [0.0871293  0.0202184  0.83261985 0.77815675 0.87001215]\n",
      " [0.97861834 0.79915856 0.46147936 0.78052918 0.11827443]]\n",
      "\n",
      "Random Array (Seed=0) Again:\n",
      " [[0.5488135  0.71518937 0.60276338 0.54488318 0.4236548 ]\n",
      " [0.64589411 0.43758721 0.891773   0.96366276 0.38344152]\n",
      " [0.79172504 0.52889492 0.56804456 0.92559664 0.07103606]\n",
      " [0.0871293  0.0202184  0.83261985 0.77815675 0.87001215]\n",
      " [0.97861834 0.79915856 0.46147936 0.78052918 0.11827443]]\n",
      "\n",
      "Random Array (Seed=42):\n",
      " [[0.37454012 0.95071431 0.73199394 0.59865848 0.15601864]\n",
      " [0.15599452 0.05808361 0.86617615 0.60111501 0.70807258]\n",
      " [0.02058449 0.96990985 0.83244264 0.21233911 0.18182497]\n",
      " [0.18340451 0.30424224 0.52475643 0.43194502 0.29122914]\n",
      " [0.61185289 0.13949386 0.29214465 0.36636184 0.45606998]]\n"
     ]
    }
   ],
   "source": [
    "\n",
    "np.random.seed(0)\n",
    "\n",
    "\n",
    "random_array = np.random.rand(5, 5)\n",
    "print(\"Random Array (Seed=0):\\n\", random_array)\n",
    "\n",
    "\n",
    "np.random.seed(0)\n",
    "random_array_again = np.random.rand(5, 5)\n",
    "print(\"\\nRandom Array (Seed=0) Again:\\n\", random_array_again)\n",
    "\n",
    "\n",
    "np.random.seed(42)\n",
    "random_array_different = np.random.rand(5, 5)\n",
    "print(\"\\nRandom Array (Seed=42):\\n\", random_array_different)"
   ]
  },
  {
   "cell_type": "code",
   "execution_count": 34,
   "id": "c66d056e-acee-469a-b104-7ca37ee42284",
   "metadata": {},
   "outputs": [
    {
     "name": "stdout",
     "output_type": "stream",
     "text": [
      "[[9.91779593e-312 3.16202013e-322 0.00000000e+000 0.00000000e+000]\n",
      " [7.56587583e-307 1.21540667e-046 4.75471861e+174 1.08624867e-042]\n",
      " [1.95325996e+184 4.69700324e-033 1.32786805e-075 5.88363995e-062]]\n"
     ]
    }
   ],
   "source": [
    "arr = np.empty((3, 4))\n",
    "print(arr)"
   ]
  },
  {
   "cell_type": "markdown",
   "id": "mobile-swaziland",
   "metadata": {},
   "source": [
    "# Lecture 5.1"
   ]
  },
  {
   "cell_type": "markdown",
   "id": "headed-flexibility",
   "metadata": {},
   "source": [
    "### Agenda:\n",
    "\n",
    "- Programming questions\n",
    "- Examples of for loops"
   ]
  },
  {
   "cell_type": "code",
   "execution_count": 37,
   "id": "cd9c95d1-00cd-4ce5-9b52-7c463c2c8f68",
   "metadata": {},
   "outputs": [
    {
     "name": "stdout",
     "output_type": "stream",
     "text": [
      "apple\n",
      "banana\n",
      "cherry\n"
     ]
    }
   ],
   "source": [
    "#For Loop\n",
    "fruits = ['apple', 'banana', 'cherry']\n",
    "for fruit in fruits:\n",
    "    print(fruit)\n"
   ]
  },
  {
   "cell_type": "code",
   "execution_count": 41,
   "id": "bf3215c1-90b7-4cdb-9c15-e7f6a3d67cc2",
   "metadata": {},
   "outputs": [
    {
     "name": "stdout",
     "output_type": "stream",
     "text": [
      "0\n",
      "1\n",
      "2\n",
      "3\n",
      "4\n"
     ]
    }
   ],
   "source": [
    "\n",
    "#While Loop\n",
    "\n",
    "\n",
    "\n",
    "i = 0\n",
    "while i < 5:\n",
    "    print(i)\n",
    "    i += 1\n"
   ]
  },
  {
   "cell_type": "code",
   "execution_count": 43,
   "id": "35d4b523-0fee-4d83-883d-cdc67f0b4554",
   "metadata": {},
   "outputs": [
    {
     "name": "stdout",
     "output_type": "stream",
     "text": [
      "red circle\n",
      "red square\n",
      "red triangle\n",
      "green circle\n",
      "green square\n",
      "green triangle\n",
      "blue circle\n",
      "blue square\n",
      "blue triangle\n"
     ]
    }
   ],
   "source": [
    "#Nested Loop\n",
    "\n",
    "\n",
    "\n",
    "colors = ['red', 'green', 'blue']\n",
    "shapes = ['circle', 'square', 'triangle']\n",
    "for color in colors:\n",
    "    for shape in shapes:\n",
    "        print(f\"{color} {shape}\")\n"
   ]
  },
  {
   "cell_type": "code",
   "execution_count": 45,
   "id": "536b3a17-341c-4b47-9926-23b03a7b8a10",
   "metadata": {},
   "outputs": [
    {
     "name": "stdout",
     "output_type": "stream",
     "text": [
      "1\n",
      "2\n"
     ]
    }
   ],
   "source": [
    "#Loop with Break Statement\n",
    "\n",
    "\n",
    "\n",
    "numbers = [1, 2, 3, 4, 5]\n",
    "for num in numbers:\n",
    "    if num == 3:\n",
    "        break\n",
    "    print(num)"
   ]
  },
  {
   "cell_type": "code",
   "execution_count": 47,
   "id": "75fce37e-0daa-4f14-9470-1208ddaf8386",
   "metadata": {},
   "outputs": [
    {
     "name": "stdout",
     "output_type": "stream",
     "text": [
      "1\n",
      "2\n",
      "4\n",
      "5\n"
     ]
    }
   ],
   "source": [
    "#Loop with Continue Statement\n",
    "\n",
    "\n",
    "\n",
    "numbers = [1, 2, 3, 4, 5]\n",
    "for num in numbers:\n",
    "    if num == 3:\n",
    "        continue\n",
    "    print(num)"
   ]
  },
  {
   "cell_type": "code",
   "execution_count": 49,
   "id": "9a8011ac-32f2-43fe-877b-cdc6f6db388c",
   "metadata": {},
   "outputs": [
    {
     "name": "stdout",
     "output_type": "stream",
     "text": [
      "0\n",
      "1\n",
      "2\n",
      "3\n",
      "4\n"
     ]
    }
   ],
   "source": [
    "#Loop with Range Function\n",
    "\n",
    "\n",
    "\n",
    "for i in range(5):\n",
    "    print(i)"
   ]
  },
  {
   "cell_type": "code",
   "execution_count": 51,
   "id": "473d0e37-d8f0-4b5d-b62f-3edce9bc3972",
   "metadata": {},
   "outputs": [
    {
     "name": "stdout",
     "output_type": "stream",
     "text": [
      "0: apple\n",
      "1: banana\n",
      "2: cherry\n"
     ]
    }
   ],
   "source": [
    "#Loop with Enumerate Function\n",
    "\n",
    "\n",
    "\n",
    "fruits = ['apple', 'banana', 'cherry']\n",
    "for i, fruit in enumerate(fruits):\n",
    "    print(f\"{i}: {fruit}\")"
   ]
  },
  {
   "cell_type": "code",
   "execution_count": 55,
   "id": "b6583471-7eef-433b-bdb5-fa2d0cfee7a2",
   "metadata": {},
   "outputs": [
    {
     "name": "stdout",
     "output_type": "stream",
     "text": [
      "Owhonda: 37\n",
      "Kesse: 25\n",
      "Chijioke: 42\n"
     ]
    }
   ],
   "source": [
    "#Loop with Zip Function\n",
    "\n",
    "\n",
    "\n",
    "names = ['Owhonda', 'Kesse', 'Chijioke']\n",
    "ages = [37, 25, 42]\n",
    "for name, age in zip(names, ages):\n",
    "    print(f\"{name}: {age}\")\n"
   ]
  },
  {
   "cell_type": "markdown",
   "id": "buried-mention",
   "metadata": {},
   "source": [
    "# Lab 5.1"
   ]
  },
  {
   "cell_type": "markdown",
   "id": "meaningful-carnival",
   "metadata": {},
   "source": [
    "**E.1** Complete Lab 4.2 if you haven't allready\n"
   ]
  },
  {
   "cell_type": "markdown",
   "id": "superior-hybrid",
   "metadata": {},
   "source": [
    "**E.2** Complete intermediate python chapter 5: Case study on hacker statistics\n"
   ]
  },
  {
   "cell_type": "markdown",
   "id": "formed-adult",
   "metadata": {},
   "source": [
    "**E.3** Make notes for yourself on progamming tecniques and commands you learned in the datacamp chapter above, including examples, comments and explainitory text. You can do this here or in a separate notebook that you link to here. Basically, you are making a cheat sheet for yourself."
   ]
  },
  {
   "cell_type": "code",
   "execution_count": null,
   "id": "static-drain",
   "metadata": {},
   "outputs": [],
   "source": []
  },
  {
   "cell_type": "markdown",
   "id": "composed-neighbor",
   "metadata": {},
   "source": [
    "### Congratulations! অভিনন্দন 恭喜 ¡Felicidades! You finished Intermediate Python!"
   ]
  },
  {
   "cell_type": "code",
   "execution_count": null,
   "id": "active-drinking",
   "metadata": {},
   "outputs": [],
   "source": []
  }
 ],
 "metadata": {
  "kernelspec": {
   "display_name": "Python 3 (ipykernel)",
   "language": "python",
   "name": "python3"
  },
  "language_info": {
   "codemirror_mode": {
    "name": "ipython",
    "version": 3
   },
   "file_extension": ".py",
   "mimetype": "text/x-python",
   "name": "python",
   "nbconvert_exporter": "python",
   "pygments_lexer": "ipython3",
   "version": "3.12.4"
  }
 },
 "nbformat": 4,
 "nbformat_minor": 5
}
