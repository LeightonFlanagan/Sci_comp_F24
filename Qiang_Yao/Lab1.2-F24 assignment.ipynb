{
 "cells": [
  {
   "cell_type": "markdown",
   "metadata": {},
   "source": [
    "put your name, etc here"
   ]
  },
  {
   "cell_type": "code",
   "execution_count": null,
   "metadata": {},
   "outputs": [],
   "source": []
  },
  {
   "cell_type": "markdown",
   "metadata": {},
   "source": [
    "# Lecture 1.2"
   ]
  },
  {
   "cell_type": "markdown",
   "metadata": {},
   "source": [
    "Thursday Aug 29th, 2024\n",
    "\n",
    "Lab 1.2 is due Tuesday Sep, 3rd\n",
    "\n",
    "Lecture Agenda:\n",
    "* debriefing on first class and homework, how's it going?\n",
    "* logistics of github, downloading this Lab 1.2 notebook\n",
    "* commenting and markup in notebooks\n",
    "* workflow for the class\n"
   ]
  },
  {
   "cell_type": "markdown",
   "metadata": {},
   "source": [
    "In general, we will do warmup exercises and lab exercises in a jupyter notebook. For most classes, you will download the notebook from github, open it on your local computer, and then upload your completed work back on github in your folder. Then in the assignment tab in Moodle, submit a url link to the completed lab, along with a screenshot of your completed score for the chapter(s) assigned in datacamp.\n",
    "\n",
    "In general, Tuesday labs are due Friday by midnight and Thursday labs are due the following Tuesday by midnight. This will give you a chance to ask questions in the next class if you get stuck on something. Note the first lab (1.1) was due early so you are set up for this lab. If you are stuck on anything, let me know, and get help from your classmates."
   ]
  },
  {
   "cell_type": "code",
   "execution_count": null,
   "metadata": {},
   "outputs": [],
   "source": [
    "# here is an example of code commenting. The # symbol means everything on this line will be ignored \n"
   ]
  },
  {
   "cell_type": "markdown",
   "metadata": {},
   "source": [
    "Here is an example of markdown text. Because this cell is in markdown mode it will also be ignored by the python shell"
   ]
  },
  {
   "cell_type": "code",
   "execution_count": null,
   "metadata": {},
   "outputs": [],
   "source": []
  },
  {
   "cell_type": "markdown",
   "metadata": {},
   "source": [
    "## Preliminaries"
   ]
  },
  {
   "cell_type": "markdown",
   "metadata": {},
   "source": [
    "In our class github site, create a folder for yourself where you will submit your jupyter notebooks. The easiest way to do this is to create a new file that is a placeholder document in the new folder. You can delete it later."
   ]
  },
  {
   "cell_type": "markdown",
   "metadata": {},
   "source": [
    "## Warmup exercises"
   ]
  },
  {
   "cell_type": "markdown",
   "metadata": {},
   "source": [
    "As you are doing these exercises, get familiar with jupyter notebook commands \n",
    "https://towardsdatascience.com/jypyter-notebook-shortcuts-bf0101a98330\n",
    "\n",
    "and markdown text https://medium.com/@ingeh/markdown-for-jupyter-notebooks-cheatsheet-386c05aeebed\n",
    "\n",
    "These exercises are based on what you have learned previously. Feel free to go look at what you did in datacamp to figure out how to answer them."
   ]
  },
  {
   "cell_type": "markdown",
   "metadata": {},
   "source": [
    "**W.1** Define and assign values to three variables of the three types we learned about Monday: integer, floating point, string and boolian. \n",
    "\n",
    "Note you can add more cells below by pressing the + button above or typing [esc] to command mode, then [b] to enter a cell below, or [a] to enter a cell above. See the link above for more commands"
   ]
  },
  {
   "cell_type": "code",
   "execution_count": 1,
   "metadata": {},
   "outputs": [],
   "source": [
    "# Integer variable\n",
    "my_integer = 42\n",
    "\n",
    "# Floating point variable\n",
    "my_float = 3.14\n",
    "\n",
    "# String variable\n",
    "my_string = \"Hello, World!\"\n",
    "\n",
    "# Boolean variable\n",
    "my_boolean = True"
   ]
  },
  {
   "cell_type": "markdown",
   "metadata": {},
   "source": [
    "**W.2** Print out the value and check the type of each variable"
   ]
  },
  {
   "cell_type": "code",
   "execution_count": 2,
   "metadata": {},
   "outputs": [
    {
     "name": "stdout",
     "output_type": "stream",
     "text": [
      "Value of my_integer: 42\n",
      "Type of my_integer: <class 'int'>\n",
      "Value of my_float: 3.14\n",
      "Type of my_float: <class 'float'>\n",
      "Value of my_string: Hello, World!\n",
      "Type of my_string: <class 'str'>\n",
      "Value of my_boolean: True\n",
      "Type of my_boolean: <class 'bool'>\n"
     ]
    }
   ],
   "source": [
    "# Print value and type of the integer variable\n",
    "print(\"Value of my_integer:\", my_integer)\n",
    "print(\"Type of my_integer:\", type(my_integer))\n",
    "\n",
    "# Print value and type of the floating point variable\n",
    "print(\"Value of my_float:\", my_float)\n",
    "print(\"Type of my_float:\", type(my_float))\n",
    "\n",
    "# Print value and type of the string variable\n",
    "print(\"Value of my_string:\", my_string)\n",
    "print(\"Type of my_string:\", type(my_string))\n",
    "\n",
    "# Print value and type of the boolean variable\n",
    "print(\"Value of my_boolean:\", my_boolean)\n",
    "print(\"Type of my_boolean:\", type(my_boolean))"
   ]
  },
  {
   "cell_type": "markdown",
   "metadata": {},
   "source": [
    "**W.3** Create a new variable that saves the value of the float variable as a string. Print it out"
   ]
  },
  {
   "cell_type": "code",
   "execution_count": 3,
   "metadata": {},
   "outputs": [
    {
     "name": "stdout",
     "output_type": "stream",
     "text": [
      "Value of float_as_string: 3.14\n",
      "Type of float_as_string: <class 'str'>\n"
     ]
    }
   ],
   "source": [
    "# Convert the float variable to a string\n",
    "float_as_string = str(my_float)\n",
    "\n",
    "# Print the new variable\n",
    "print(\"Value of float_as_string:\", float_as_string)\n",
    "print(\"Type of float_as_string:\", type(float_as_string))"
   ]
  },
  {
   "cell_type": "markdown",
   "metadata": {},
   "source": [
    "**W.4** Using multiplication of a variable, print out the text \"Bueno Bueno Bueno Bueno Bueno\" (Shoutout to Monsieur Periné https://youtu.be/JGL-eQAAxGs see 10:45)"
   ]
  },
  {
   "cell_type": "code",
   "execution_count": 4,
   "metadata": {},
   "outputs": [
    {
     "name": "stdout",
     "output_type": "stream",
     "text": [
      "Bueno Bueno Bueno Bueno Bueno \n"
     ]
    }
   ],
   "source": [
    "# Define the text you want to repeat\n",
    "text = \"Bueno \"\n",
    "\n",
    "# Multiply the string to repeat it 5 times\n",
    "result = text * 5\n",
    "\n",
    "# Print the result\n",
    "print(result)"
   ]
  },
  {
   "cell_type": "markdown",
   "metadata": {},
   "source": [
    "**W.5** Do the same thing using addtion"
   ]
  },
  {
   "cell_type": "code",
   "execution_count": 5,
   "metadata": {},
   "outputs": [
    {
     "name": "stdout",
     "output_type": "stream",
     "text": [
      "Bueno Bueno Bueno Bueno Bueno \n"
     ]
    }
   ],
   "source": [
    "# Define the text you want to repeat\n",
    "text = \"Bueno \"\n",
    "\n",
    "# Add the string 5 times\n",
    "result = text + text + text + text + text\n",
    "\n",
    "# Print the result\n",
    "print(result)"
   ]
  },
  {
   "cell_type": "markdown",
   "metadata": {},
   "source": [
    "**W.6** If you add an int and a float, what is the resulting variable type? Demonstrate"
   ]
  },
  {
   "cell_type": "code",
   "execution_count": 6,
   "metadata": {},
   "outputs": [
    {
     "name": "stdout",
     "output_type": "stream",
     "text": [
      "Result of adding int and float: 13.14\n",
      "Type of the result: <class 'float'>\n"
     ]
    }
   ],
   "source": [
    "# Define an integer variable\n",
    "my_integer = 10\n",
    "\n",
    "# Define a float variable\n",
    "my_float = 3.14\n",
    "\n",
    "# Add the integer and float\n",
    "result = my_integer + my_float\n",
    "\n",
    "# Print the result and its type\n",
    "print(\"Result of adding int and float:\", result)\n",
    "print(\"Type of the result:\", type(result))"
   ]
  },
  {
   "cell_type": "markdown",
   "metadata": {},
   "source": [
    "**W.7** Can you convert a Boolian to an interger type variable? If so, what is the resulting value? What happens if you convert a float to an int?"
   ]
  },
  {
   "cell_type": "code",
   "execution_count": 7,
   "metadata": {},
   "outputs": [
    {
     "name": "stdout",
     "output_type": "stream",
     "text": [
      "True as integer: 1\n",
      "False as integer: 0\n"
     ]
    }
   ],
   "source": [
    "# Boolean values\n",
    "true_value = True\n",
    "false_value = False\n",
    "\n",
    "# Convert boolean to integer\n",
    "true_as_int = int(true_value)\n",
    "false_as_int = int(false_value)\n",
    "\n",
    "# Print the results\n",
    "print(\"True as integer:\", true_as_int)\n",
    "print(\"False as integer:\", false_as_int)"
   ]
  },
  {
   "cell_type": "code",
   "execution_count": 8,
   "metadata": {},
   "outputs": [
    {
     "name": "stdout",
     "output_type": "stream",
     "text": [
      "Float as integer: 3\n"
     ]
    }
   ],
   "source": [
    "# Define a float\n",
    "my_float = 3.99\n",
    "\n",
    "# Convert float to integer\n",
    "float_as_int = int(my_float)\n",
    "\n",
    "# Print the result\n",
    "print(\"Float as integer:\", float_as_int)"
   ]
  },
  {
   "cell_type": "markdown",
   "metadata": {},
   "source": [
    "# Lab 1.2"
   ]
  },
  {
   "cell_type": "markdown",
   "metadata": {},
   "source": [
    "## Lab Exercises"
   ]
  },
  {
   "cell_type": "markdown",
   "metadata": {},
   "source": [
    "**E.1** Complete Ch 2 of Introduction to Python in datacamp. "
   ]
  },
  {
   "cell_type": "markdown",
   "metadata": {},
   "source": [
    "**E.2** Below you will spend time practicing what you have learned in Ch 2. Use a comination of code, code commenting, and markdown text to take notes. Make sure you investigate how python syntax works and understand what you are doing, and what went wrong if you have any issues. You can refer to this document later if you need to review, so give future you lots of commenting to be helpful."
   ]
  },
  {
   "cell_type": "markdown",
   "metadata": {},
   "source": [
    "**E.2.1** Let's work on lists, indexing and printing out elements of lists.\n",
    "\n",
    "We are going to calculate the BMI of five family members (or friends/colleaues if you have a small family, or famous people/politicians/atheletes if you really don't like talking to people, they just have to be adults and you need their data). Make intellegently named lists for the first name, last name, height, weight and age of each person. So, five lists in total."
   ]
  },
  {
   "cell_type": "code",
   "execution_count": 2,
   "metadata": {},
   "outputs": [],
   "source": [
    "# List of first names\n",
    "first_names = [\"Alice\", \"Bob\", \"Charlie\", \"Diana\", \"Ethan\"]\n",
    "\n",
    "# List of last names\n",
    "last_names = [\"Smith\", \"Johnson\", \"Brown\", \"Taylor\", \"Anderson\"]\n",
    "\n",
    "# List of heights in meters\n",
    "heights = [1.70, 1.85, 1.75, 1.65, 1.80]\n",
    "\n",
    "# List of weights in kilograms\n",
    "weights = [68, 82, 75, 60, 90]\n",
    "\n",
    "# List of ages in years\n",
    "ages = [28, 34, 29, 25, 40]"
   ]
  },
  {
   "cell_type": "markdown",
   "metadata": {},
   "source": [
    "**E.2.2** Now create a new list that calculates the BMI of each person using the lists you created before"
   ]
  },
  {
   "cell_type": "code",
   "execution_count": 3,
   "metadata": {},
   "outputs": [
    {
     "name": "stdout",
     "output_type": "stream",
     "text": [
      "BMI of each person: [23.529411764705884, 23.959094229364496, 24.489795918367346, 22.03856749311295, 27.777777777777775]\n"
     ]
    }
   ],
   "source": [
    "# Calculate BMI for each person and store in a new list\n",
    "bmis = []\n",
    "\n",
    "for i in range(len(heights)):\n",
    "    bmi = weights[i] / (heights[i] ** 2)\n",
    "    bmis.append(bmi)\n",
    "\n",
    "# Print the BMI list\n",
    "print(\"BMI of each person:\", bmis)"
   ]
  },
  {
   "cell_type": "markdown",
   "metadata": {},
   "source": [
    "**E.2.3** Look up the weight classification of each person based on their BMI (what's a good source for this, who do you trust?). Create a new list with this information for each person. (Don't judge, we live in Louisiana, which is not known for health food.)"
   ]
  },
  {
   "cell_type": "code",
   "execution_count": 4,
   "metadata": {},
   "outputs": [
    {
     "name": "stdout",
     "output_type": "stream",
     "text": [
      "BMI classification of each person: ['Normal weight', 'Normal weight', 'Normal weight', 'Normal weight', 'Overweight']\n"
     ]
    }
   ],
   "source": [
    "# Initialize the list for BMI classifications\n",
    "bmi_classifications = []\n",
    "\n",
    "# Classify each BMI value\n",
    "for bmi in bmis:\n",
    "    if bmi < 18.5:\n",
    "        classification = \"Underweight\"\n",
    "    elif 18.5 <= bmi < 24.9:\n",
    "        classification = \"Normal weight\"\n",
    "    elif 25 <= bmi < 29.9:\n",
    "        classification = \"Overweight\"\n",
    "    else:  # BMI >= 30\n",
    "        classification = \"Obesity\"\n",
    "    \n",
    "    # Append the classification to the list\n",
    "    bmi_classifications.append(classification)\n",
    "\n",
    "# Print the BMI classifications list\n",
    "print(\"BMI classification of each person:\", bmi_classifications)"
   ]
  },
  {
   "cell_type": "markdown",
   "metadata": {},
   "source": [
    "**E.2.3** Let's practice some print statements and iterate manually through the people on your lists.\n",
    "\n",
    "For each person, print out something like: \"First_name last_name, age xx, has a height of xx units and weight of xx units, giving them a body mass index (BMI) of xx, making them yy\" where yy is if they are normal, obese, etc."
   ]
  },
  {
   "cell_type": "code",
   "execution_count": 5,
   "metadata": {},
   "outputs": [
    {
     "name": "stdout",
     "output_type": "stream",
     "text": [
      "Alice Smith, age 28, has a height of 1.70 meters and weight of 68 kg, giving them a body mass index (BMI) of 23.53, making them Normal weight.\n",
      "Bob Johnson, age 34, has a height of 1.85 meters and weight of 82 kg, giving them a body mass index (BMI) of 23.96, making them Normal weight.\n",
      "Charlie Brown, age 29, has a height of 1.75 meters and weight of 75 kg, giving them a body mass index (BMI) of 24.49, making them Normal weight.\n",
      "Diana Taylor, age 25, has a height of 1.65 meters and weight of 60 kg, giving them a body mass index (BMI) of 22.04, making them Normal weight.\n",
      "Ethan Anderson, age 40, has a height of 1.80 meters and weight of 90 kg, giving them a body mass index (BMI) of 27.78, making them Overweight.\n"
     ]
    }
   ],
   "source": [
    "# Iterate through each person and print the formatted statement\n",
    "for i in range(len(first_names)):\n",
    "    print(f\"{first_names[i]} {last_names[i]}, age {ages[i]}, has a height of {heights[i]:.2f} meters and weight of {weights[i]} kg, giving them a body mass index (BMI) of {bmis[i]:.2f}, making them {bmi_classifications[i]}.\")"
   ]
  },
  {
   "cell_type": "markdown",
   "metadata": {},
   "source": [
    "**E.2.4** Now add/append your information to each of the lists, and do the same print statement for you. Make a resolution to eat more veggies."
   ]
  },
  {
   "cell_type": "code",
   "execution_count": 6,
   "metadata": {},
   "outputs": [
    {
     "name": "stdout",
     "output_type": "stream",
     "text": [
      "Alice Smith, age 28, has a height of 1.70 meters and weight of 68 kg, giving them a body mass index (BMI) of 23.53, making them Normal weight.\n",
      "Bob Johnson, age 34, has a height of 1.85 meters and weight of 82 kg, giving them a body mass index (BMI) of 23.96, making them Normal weight.\n",
      "Charlie Brown, age 29, has a height of 1.75 meters and weight of 75 kg, giving them a body mass index (BMI) of 24.49, making them Normal weight.\n",
      "Diana Taylor, age 25, has a height of 1.65 meters and weight of 60 kg, giving them a body mass index (BMI) of 22.04, making them Normal weight.\n",
      "Ethan Anderson, age 40, has a height of 1.80 meters and weight of 90 kg, giving them a body mass index (BMI) of 27.78, making them Overweight.\n",
      "Qiang Yao, age 30, has a height of 1.75 meters and weight of 70 kg, giving them a body mass index (BMI) of 22.86, making them Normal weight.\n",
      "\n",
      "As a resolution, Qiang Yao will eat more veggies! 🥦🥕🍅\n"
     ]
    }
   ],
   "source": [
    "# Append my information to the lists\n",
    "first_names.append(\"Qiang\")\n",
    "last_names.append(\"Yao\")\n",
    "heights.append(1.75)  # Example height in meters\n",
    "weights.append(70)    # Example weight in kilograms\n",
    "ages.append(30)       # Example age\n",
    "\n",
    "# Calculate BMI for myself and append to the BMI list\n",
    "my_bmi = weights[-1] / (heights[-1] ** 2)\n",
    "bmis.append(my_bmi)\n",
    "\n",
    "# Classify my BMI and append to the classification list\n",
    "if my_bmi < 18.5:\n",
    "    bmi_classification = \"Underweight\"\n",
    "elif 18.5 <= my_bmi < 24.9:\n",
    "    bmi_classification = \"Normal weight\"\n",
    "elif 25 <= my_bmi < 29.9:\n",
    "    bmi_classification = \"Overweight\"\n",
    "else:\n",
    "    bmi_classification = \"Obesity\"\n",
    "    \n",
    "bmi_classifications.append(bmi_classification)\n",
    "\n",
    "# Print the updated statement for everyone, including myself\n",
    "for i in range(len(first_names)):\n",
    "    print(f\"{first_names[i]} {last_names[i]}, age {ages[i]}, has a height of {heights[i]:.2f} meters and weight of {weights[i]} kg, giving them a body mass index (BMI) of {bmis[i]:.2f}, making them {bmi_classifications[i]}.\")\n",
    "\n",
    "# Add a resolution for myself\n",
    "print(\"\\nAs a resolution, Qiang Yao will eat more veggies! 🥦🥕🍅\")"
   ]
  },
  {
   "cell_type": "markdown",
   "metadata": {},
   "source": [
    "When you are done with your lab, upload this document to your github folder on the class site. Then submit a url link to the completed lab, along with a screenshot of your completed Ch 2 score in datacamp, to the assignment tab in Moodle."
   ]
  },
  {
   "cell_type": "code",
   "execution_count": null,
   "metadata": {},
   "outputs": [],
   "source": []
  },
  {
   "cell_type": "markdown",
   "metadata": {},
   "source": [
    "# Scratch"
   ]
  },
  {
   "cell_type": "code",
   "execution_count": 5,
   "metadata": {},
   "outputs": [],
   "source": [
    "# this is an area of the notebook you can mess around and test things out, if you don't want to put it above"
   ]
  },
  {
   "cell_type": "code",
   "execution_count": null,
   "metadata": {},
   "outputs": [],
   "source": []
  },
  {
   "cell_type": "code",
   "execution_count": null,
   "metadata": {},
   "outputs": [],
   "source": []
  }
 ],
 "metadata": {
  "kernelspec": {
   "display_name": "Python 3 (ipykernel)",
   "language": "python",
   "name": "python3"
  },
  "language_info": {
   "codemirror_mode": {
    "name": "ipython",
    "version": 3
   },
   "file_extension": ".py",
   "mimetype": "text/x-python",
   "name": "python",
   "nbconvert_exporter": "python",
   "pygments_lexer": "ipython3",
   "version": "3.12.4"
  }
 },
 "nbformat": 4,
 "nbformat_minor": 4
}
