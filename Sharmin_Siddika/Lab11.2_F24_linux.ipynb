{
 "cells": [
  {
   "cell_type": "markdown",
   "id": "d5923a93",
   "metadata": {},
   "source": [
    "Name: Sharmin Siddika"
   ]
  },
  {
   "cell_type": "markdown",
   "id": "16d4dc9c",
   "metadata": {},
   "source": [
    "Labpartner(s): Mariam Valladares"
   ]
  },
  {
   "cell_type": "code",
   "execution_count": 1,
   "id": "increasing-sally",
   "metadata": {},
   "outputs": [],
   "source": [
    "#import statements go here\n",
    "import matplotlib.pyplot as plt\n",
    "import numpy as np"
   ]
  },
  {
   "cell_type": "markdown",
   "id": "tracked-spectacular",
   "metadata": {},
   "source": [
    "# Class 11.2"
   ]
  },
  {
   "cell_type": "markdown",
   "id": "approved-ticket",
   "metadata": {},
   "source": [
    "Today we are going to be learning how to move files to the supercomputer and back again. Also, I am giving you an extra lab period to finish the statistics module in Datacamp. I figure we could all use some time back this week.\n",
    "\n",
    "You should also update your final project timeline and submit this with your weekly assessment, see below."
   ]
  },
  {
   "cell_type": "markdown",
   "id": "collect-imaging",
   "metadata": {},
   "source": [
    "# Warmups 11.2"
   ]
  },
  {
   "cell_type": "markdown",
   "id": "involved-capability",
   "metadata": {},
   "source": [
    "**W.1** Open a terminal window and ssh into the LSU mike supercomputer. Open a second terminal window that we will use to find the path to where you downloaded this file."
   ]
  },
  {
   "cell_type": "markdown",
   "id": "demographic-creature",
   "metadata": {},
   "source": [
    "**W.2** Open the ondemand portal and start a jupyter session on the LSU mike supercomputer that lasts 3 hours."
   ]
  },
  {
   "cell_type": "markdown",
   "id": "dressed-dallas",
   "metadata": {},
   "source": [
    "# Lecture 11.2\n",
    "\n",
    "### Agenda:\n",
    "- Questions\n",
    "- Moving files to the HPC"
   ]
  },
  {
   "cell_type": "markdown",
   "id": "7d8e285e-f0f3-4790-8740-ad28647165a0",
   "metadata": {},
   "source": [
    "### 11.2.1 Questions"
   ]
  },
  {
   "cell_type": "code",
   "execution_count": null,
   "id": "48bb607f-07fd-4fbd-8368-fc27bf572514",
   "metadata": {},
   "outputs": [],
   "source": []
  },
  {
   "cell_type": "markdown",
   "id": "0ace7ddb-ab19-44ee-a20e-620f259adc33",
   "metadata": {},
   "source": [
    "### 11.2.2 Moving files to the HPC"
   ]
  },
  {
   "cell_type": "markdown",
   "id": "f31b42be-4097-466d-bf9a-3d1ef7151090",
   "metadata": {},
   "source": [
    "When working with supercomputers, one often has to move files from a local computer to a supercomputer and back, or from one supercomputer to another. There are a few ways to do this, but the most basic and standard is at the command line using the linux utilities **scp** and **rsync**. \n",
    "\n",
    "Basically, **scp** stands for \"secure copy\" and lets you move files or folders from one machine to another. This is the most basic way to move files, and is great for a small amount of data. The second utility, **rsync**, synchronizes entire folders, so you only copy files that have changed, and it can compress files for transfer. Thus, **rsync** is good for moving larger amounts of files or bigger files. Today we will move one file (this lab) from your local computer to the LSU HPC so you can work on your lab there, then move it back.\n",
    "\n",
    "The basic **scp** syntax is:\n",
    "\n",
    "**scp**   path_to_local_file   user@host:path_to_destination\n",
    "\n",
    "or \n",
    "\n",
    "**scp** source target\n",
    "\n",
    "So, to use **scp** you need to know the file path where your file currently is and the path to where you want it to go.\n",
    "\n",
    "For this exercise, you will want to use the two terminal windows opened in the warmup, on where you have logged on to the HPC, and one on your local computer. Locate the folder where you downloaded the lab using the basic linux commands **cd** for change directory, **ls** for listing the directory contents, and **pwd** for printing the \"working\" directory, the path to where you are. I will demo these.\n",
    "\n",
    "Use the above linux commands to identify the path to where you have downloaded this lab, and where you want to put it on the supercomputer. Then use **scp** to copy the lab to the super computer. For me this was:\n",
    "\n",
    "scp /Users/chsharri/Documents/Teaching/Sci_comp/Sci_comp_F2024/Course_materials/Lab11.2_F24_linear_regression.ipynb chsharri@mike.hpc.lsu.edu:/home/chsharri/\n",
    "\n",
    "Note I put the \"/\" on the end of the target path to indicate the directory. This will copy the full name of the python notebook into that directory.\n",
    "\n",
    "I entered this command in the terminal window on my **local** computer. Note you will be asked for your lsu hpc password.\n",
    "\n",
    "Once you get the lab moved over to the hpc, open it in your hpc jupyter session. You will submit a screenshot of the open lab on mike when you turn in your lab."
   ]
  },
  {
   "cell_type": "code",
   "execution_count": null,
   "id": "4c175be1-cb70-47d9-9a93-d0a461095075",
   "metadata": {},
   "outputs": [],
   "source": []
  },
  {
   "cell_type": "markdown",
   "id": "rotary-annex",
   "metadata": {},
   "source": [
    "# Lab 11.2"
   ]
  },
  {
   "cell_type": "markdown",
   "id": "2a67ccf0-037d-4397-9a3b-377401077a5d",
   "metadata": {},
   "source": [
    "Note: You need to submit a screenshot of this lab opened in the LSU HPC in Moodle. You should do E.1 while you have it open there."
   ]
  },
  {
   "cell_type": "markdown",
   "id": "d7e89ba6-f43a-4357-bb7d-3f15e9eb3af5",
   "metadata": {},
   "source": [
    "**E.1** Why doesn't the scp command we used to move the lab work in the terminal window where you logged into the LSU hpc? What would you need to do to make that work?"
   ]
  },
  {
   "cell_type": "markdown",
   "id": "4dd07b61",
   "metadata": {},
   "source": [
    "**Answer**\n",
    "scp is used to transfer files from local computer to a remote server (like an HPC).\n",
    "However, when we are logged into the LSU HPC (e.g., sharmin@mike.hpc.lsu.edu), we can't use scp to transfer files from the HPC to your local computer directly. This is because the local computer isn't set up to accept incoming file transfers like the HPC is."
   ]
  },
  {
   "cell_type": "markdown",
   "id": "0d42dbde-b727-47e0-8e3e-b2eaf7f0af75",
   "metadata": {},
   "source": [
    "**E.2** Answer E.1 while you are logged to the HPC. Then, transfer the updated lab back to your local computer. How do you have to change the **scp** command to do this?"
   ]
  },
  {
   "cell_type": "markdown",
   "id": "4a7ed762",
   "metadata": {},
   "source": [
    "**Answer** To transfer files from the LSU HPC to local computer, we need to run the scp command from your local computer (not while logged into the HPC). The HPC can't directly push files to the local computer because local computer isn't set up to accept incoming transfers. To pull files, using command such as scp username@mike.hpc.lsu.edu:/path/to/remote/file /path/to/local/destination. This will download the file from the HPC to the local computer."
   ]
  },
  {
   "cell_type": "markdown",
   "id": "timely-carbon",
   "metadata": {},
   "source": [
    "**E.3** Complete Ch 3-4 of Introduction to Statistics in Python in Data Camp. Remember to upload your scores into Moodle. For lab 11.1 you should turn in Ch 1-2 scores.\n"
   ]
  },
  {
   "cell_type": "markdown",
   "id": "e790c967",
   "metadata": {},
   "source": [
    "**completed**"
   ]
  },
  {
   "cell_type": "markdown",
   "id": "fd84aa4a-41f3-417b-9f2e-0f5ad9ab2eb1",
   "metadata": {},
   "source": [
    "**E.4** Revisit your final project timeline and adjust it based on any changes that came up. You will submit this revised timeline with your Weekly Assesment. Note the updated weekly assessement final project form (in Moodle and github)"
   ]
  },
  {
   "cell_type": "markdown",
   "id": "b86eea4e",
   "metadata": {},
   "source": [
    "Adjusted the timeline and uploaded with weekly assessment"
   ]
  },
  {
   "cell_type": "markdown",
   "id": "b17ea00b-1060-4ef9-af10-5aa7646656a9",
   "metadata": {},
   "source": [
    "**Notes** Make notes for yourself on progamming tecniques and commands you learned in the this week, including examples, comments and explainitory text. You can do this here or in a separate notebook that you link to here. Basically, you are making a cheat sheet for yourself."
   ]
  },
  {
   "cell_type": "code",
   "execution_count": null,
   "id": "36cab642-274d-4a0a-8b21-3d8199803dc9",
   "metadata": {},
   "outputs": [],
   "source": [
    "import matplotlib.pyplot as plt\n",
    "\n",
    "# Assuming 'amir_deals' is your DataFrame\n",
    "amir_deals['amount'].hist(bins=10)\n",
    "plt.show()"
   ]
  },
  {
   "cell_type": "code",
   "execution_count": null,
   "id": "3bf242f0",
   "metadata": {},
   "outputs": [],
   "source": [
    "# Probability of deal < 7500\n",
    "prob_less_7500 = norm.cdf(7500, 5000, 2000)\n",
    "\n",
    "print(prob_less_7500"
   ]
  },
  {
   "cell_type": "code",
   "execution_count": null,
   "id": "c536ea11",
   "metadata": {},
   "outputs": [],
   "source": [
    "# Calculate new average amount\n",
    "new_mean = 5000 * 1.2\n",
    "\n",
    "# Calculate new standard deviation\n",
    "new_sd = 2000 * 1.3\n",
    "\n",
    "# Simulate 36 new sales\n",
    "new_sales = norm.rvs(new_mean, new_sd, size=36)\n",
    "\n",
    "# Create histogram and show\n",
    "plt.hist(new_sales)\n",
    "plt.show()"
   ]
  },
  {
   "cell_type": "code",
   "execution_count": null,
   "id": "5053fdfd",
   "metadata": {},
   "outputs": [],
   "source": [
    "# Create a histogram of num_users and show\n",
    "amir_deals['num_users'].hist()\n",
    "plt.show()"
   ]
  },
  {
   "cell_type": "code",
   "execution_count": null,
   "id": "03593e1e",
   "metadata": {},
   "outputs": [],
   "source": [
    "# Set seed to 321\n",
    "np.random.seed(321)\n",
    "\n",
    "sample_means = []\n",
    "# Loop 30 times to take 30 means\n",
    "for i in range(30):\n",
    "  # Take sample of size 20 from num_users col of all_deals with replacement\n",
    "  cur_sample = all_deals['num_users'].sample(20, replace=True)\n",
    "  # Take mean of cur_sample\n",
    "  cur_mean = np.mean(cur_sample)\n",
    "  # Append cur_mean to sample_means\n",
    "  sample_means.append(cur_mean)\n",
    "\n",
    "# Print mean of sample_means\n",
    "print(np.mean(sample_means))\n",
    "\n",
    "# Print mean of num_users in amir_deals\n",
    "print(np.mean(amir_deals['num_users']))"
   ]
  },
  {
   "cell_type": "code",
   "execution_count": null,
   "id": "e179e719",
   "metadata": {},
   "outputs": [],
   "source": [
    "# Import poisson from scipy.stats\n",
    "from scipy.stats import poisson\n",
    "\n",
    "# Probability of 5 responses\n",
    "prob_5 = poisson.pmf(5, 4)\n",
    "\n",
    "print(prob_5)"
   ]
  },
  {
   "cell_type": "code",
   "execution_count": null,
   "id": "578f008e",
   "metadata": {},
   "outputs": [],
   "source": [
    "# Import expon from scipy.stats\n",
    "from scipy.stats import expon\n",
    "\n",
    "# Print probability response takes < 1 hour\n",
    "print(expon.cdf(1, scale=2.5))"
   ]
  },
  {
   "cell_type": "code",
   "execution_count": null,
   "id": "15d1fdd1",
   "metadata": {},
   "outputs": [],
   "source": [
    "# Create a scatterplot of happiness_score vs. life_exp and show\n",
    "sns.scatterplot(x='life_exp', y='happiness_score', data=world_happiness)\n",
    "\n",
    "# Show plot\n",
    "plt.show()"
   ]
  },
  {
   "cell_type": "code",
   "execution_count": null,
   "id": "92b10074",
   "metadata": {},
   "outputs": [],
   "source": []
  }
 ],
 "metadata": {
  "kernelspec": {
   "display_name": "Python 3 (ipykernel)",
   "language": "python",
   "name": "python3"
  },
  "language_info": {
   "codemirror_mode": {
    "name": "ipython",
    "version": 3
   },
   "file_extension": ".py",
   "mimetype": "text/x-python",
   "name": "python",
   "nbconvert_exporter": "python",
   "pygments_lexer": "ipython3",
   "version": "3.11.5"
  }
 },
 "nbformat": 4,
 "nbformat_minor": 5
}
