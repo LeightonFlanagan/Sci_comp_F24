{
 "cells": [
  {
   "cell_type": "markdown",
   "id": "0636a007-7322-43b5-9d62-6a1fafff78c6",
   "metadata": {},
   "source": [
    "Name: Sharmin Siddika"
   ]
  },
  {
   "cell_type": "markdown",
   "id": "frozen-floating",
   "metadata": {},
   "source": [
    "Labpartner(s)"
   ]
  },
  {
   "cell_type": "code",
   "execution_count": 16,
   "id": "classified-reunion",
   "metadata": {},
   "outputs": [],
   "source": [
    "# import statements go here\n",
    "import numpy as np"
   ]
  },
  {
   "cell_type": "markdown",
   "id": "necessary-oklahoma",
   "metadata": {},
   "source": [
    "# Class 4.2"
   ]
  },
  {
   "cell_type": "markdown",
   "id": "solid-silicon",
   "metadata": {},
   "source": [
    "## Today you all are going to do the lecture! It's Present Your Plots Day."
   ]
  },
  {
   "cell_type": "markdown",
   "id": "professional-simpson",
   "metadata": {},
   "source": [
    "# Warmups 4.2"
   ]
  },
  {
   "cell_type": "markdown",
   "id": "imposed-baghdad",
   "metadata": {},
   "source": [
    "### Warmup is short today so we have time to focus on your plots."
   ]
  },
  {
   "cell_type": "markdown",
   "id": "commercial-abraham",
   "metadata": {},
   "source": [
    "**W.1** Do Exercise 3 in practice python https://www.practicepython.org"
   ]
  },
  {
   "cell_type": "markdown",
   "id": "7ef4f2bc-04e6-4801-ae69-f77d921d25d5",
   "metadata": {},
   "source": [
    "Take a list, say for example this one:\n",
    "\n",
    "  a = [1, 1, 2, 3, 5, 8, 13, 21, 34, 55, 89]\n",
    "and write a program that prints out all the elements of the list that are less than 5."
   ]
  },
  {
   "cell_type": "code",
   "execution_count": 33,
   "id": "930a82b7-6fa1-4389-ba68-db55b441109f",
   "metadata": {},
   "outputs": [
    {
     "name": "stdout",
     "output_type": "stream",
     "text": [
      "[1, 1, 2, 3]\n"
     ]
    }
   ],
   "source": [
    "print( [ x for x in a if x<5 ] )"
   ]
  },
  {
   "cell_type": "code",
   "execution_count": 30,
   "id": "b686d49c-d856-42b2-a981-2f99670b35a4",
   "metadata": {},
   "outputs": [
    {
     "name": "stdout",
     "output_type": "stream",
     "text": [
      "1\n",
      "1\n",
      "2\n",
      "3\n"
     ]
    }
   ],
   "source": [
    "a = [1, 1, 2, 3, 5, 8, 13, 21, 34, 55, 89]\n",
    "for number in a:\n",
    "    if number < 5:\n",
    "        print(number)"
   ]
  },
  {
   "cell_type": "markdown",
   "id": "automated-immune",
   "metadata": {},
   "source": [
    "## Agenda:\n",
    "\n",
    "- Questions about class or coding\n",
    "- Show us your plots! Explain your data set, what you did with it, and what your learned, including any difficulties you had and how you solved them."
   ]
  },
  {
   "cell_type": "code",
   "execution_count": null,
   "id": "perfect-suite",
   "metadata": {},
   "outputs": [],
   "source": []
  },
  {
   "cell_type": "markdown",
   "id": "conventional-external",
   "metadata": {},
   "source": [
    "# Lab 4.2"
   ]
  },
  {
   "cell_type": "markdown",
   "id": "married-prior",
   "metadata": {},
   "source": [
    "**E.1** Complete intermediate python chapter 4: Loops\n",
    "\n",
    "Note that loops often are very confusing for new programmers, but they are very powerful and super-useful. You will be seing them again.\n",
    "\n",
    "Note that the tutorials here have similar material for your needs:\n",
    "https://github.com/chsharrison/Sci_comp_F24/blob/main/Course_materials/resources.md"
   ]
  },
  {
   "cell_type": "markdown",
   "id": "color-difference",
   "metadata": {},
   "source": [
    "**E.2** Make notes for yourself on all of the progamming tecniques and commands you learned in the datacamp chapter above, including examples, comments and explainitory text. You might use the resources linked above for supplementary examples. You can do this here or in a separate notebook that you link to here. Basically, you are making a cheat sheet for yourself."
   ]
  },
  {
   "cell_type": "code",
   "execution_count": 1,
   "id": "infectious-battery",
   "metadata": {},
   "outputs": [
    {
     "name": "stdout",
     "output_type": "stream",
     "text": [
      "1\n",
      "2\n",
      "3\n"
     ]
    }
   ],
   "source": [
    "x = 1\n",
    "while x < 4 :\n",
    "    print(x)\n",
    "    x = x + 1"
   ]
  },
  {
   "cell_type": "code",
   "execution_count": 3,
   "id": "dc3129ae-89d9-4c2c-a45b-10afa148b3c7",
   "metadata": {},
   "outputs": [
    {
     "name": "stdout",
     "output_type": "stream",
     "text": [
      "correcting...\n",
      "7\n",
      "correcting...\n",
      "6\n",
      "correcting...\n",
      "5\n",
      "correcting...\n",
      "4\n",
      "correcting...\n",
      "3\n",
      "correcting...\n",
      "2\n",
      "correcting...\n",
      "1\n",
      "correcting...\n",
      "0\n"
     ]
    }
   ],
   "source": [
    "# Initialize offset. \n",
    "offset = 8 \n",
    "\n",
    "# Code the while loop\n",
    "while offset != 0:\n",
    "    print(\"correcting...\")  # Don't forget this line\n",
    "    offset = offset - 1\n",
    "    print(offset)"
   ]
  },
  {
   "cell_type": "code",
   "execution_count": 7,
   "id": "e31e833e-524e-49dc-916b-1ce5d94972ea",
   "metadata": {},
   "outputs": [
    {
     "name": "stdout",
     "output_type": "stream",
     "text": [
      "11.25\n",
      "18.0\n",
      "20.0\n",
      "10.75\n",
      "9.5\n",
      "room 0: 11.25\n",
      "room 1: 18.0\n",
      "room 2: 20.0\n",
      "room 3: 10.75\n",
      "room 4: 9.5\n"
     ]
    }
   ],
   "source": [
    "# areas list\n",
    "areas = [11.25, 18.0, 20.0, 10.75, 9.50]\n",
    "\n",
    "# Code the for loop\n",
    "for length in areas :\n",
    "    print(length)\n",
    "    \n",
    "# areas list\n",
    "areas = [11.25, 18.0, 20.0, 10.75, 9.50]\n",
    "\n",
    "# Change for loop to use enumerate() and update print()\n",
    "for index, area in enumerate(areas) :\n",
    "    print(\"room \" + str(index) + \": \" + str(area))"
   ]
  },
  {
   "cell_type": "code",
   "execution_count": 9,
   "id": "fb80d9cb-bc9a-4668-982d-278cc284e093",
   "metadata": {},
   "outputs": [
    {
     "name": "stdout",
     "output_type": "stream",
     "text": [
      "the capital of spain is madrid\n",
      "the capital of france is paris\n",
      "the capital of germany is berlin\n",
      "the capital of norway is oslo\n",
      "the capital of italy is rome\n",
      "the capital of poland is warsaw\n",
      "the capital of austria is vienna\n"
     ]
    }
   ],
   "source": [
    "# Definition of dictionary\n",
    "europe = {'spain':'madrid', 'france':'paris', 'germany':'berlin',\n",
    "          'norway':'oslo', 'italy':'rome', 'poland':'warsaw', 'austria':'vienna' }\n",
    "          \n",
    "# Iterate over europe\n",
    "for country in europe :\n",
    "     print(\"the capital of \" + country + \" is \" + europe[country])"
   ]
  },
  {
   "cell_type": "code",
   "execution_count": 17,
   "id": "8fe69e90-eac6-4760-9721-41e8815a7f21",
   "metadata": {},
   "outputs": [
    {
     "name": "stdout",
     "output_type": "stream",
     "text": [
      "72 inches\n",
      "75 inches\n",
      "68 inches\n",
      "70 inches\n",
      "180\n",
      "72\n",
      "215\n",
      "75\n",
      "210\n",
      "68\n",
      "190\n",
      "70\n"
     ]
    }
   ],
   "source": [
    "import numpy as np\n",
    "\n",
    "np_height = np.array([72, 75, 68, 70]) \n",
    "np_baseball = np.array([[180, 72], [215, 75], [210, 68], [190, 70]]) \n",
    "\n",
    "# For loop over np_height\n",
    "for x in np_height:\n",
    "    print(str(x) + \" inches\")\n",
    "\n",
    "# For loop over np_baseball using np.nditer\n",
    "for y in np.nditer(np_baseball):\n",
    "    print(y)"
   ]
  },
  {
   "cell_type": "code",
   "execution_count": null,
   "id": "8475e1a6-f888-4c8f-9175-4268692e187b",
   "metadata": {},
   "outputs": [],
   "source": [
    "# Import cars data\n",
    "import pandas as pd\n",
    "cars = pd.read_csv('cars.csv', index_col = 0)\n",
    "\n",
    "# Use .apply(str.upper)\n",
    "for lab, row in cars.iterrows() :\n",
    "    cars.loc[lab, \"COUNTRY\"] = row[\"country\"].upper()"
   ]
  },
  {
   "cell_type": "code",
   "execution_count": null,
   "id": "0d543b3f-8186-4a57-8be7-4cd25027ffb4",
   "metadata": {},
   "outputs": [],
   "source": [
    "# Import cars data\n",
    "import pandas as pd\n",
    "cars = pd.read_csv('cars.csv', index_col = 0)\n",
    "\n",
    "# Adapt for loop\n",
    "for lab, row in cars.iterrows() :\n",
    "    print(lab + \": \" + str(row['cars_per_cap']))"
   ]
  },
  {
   "cell_type": "markdown",
   "id": "colored-alfred",
   "metadata": {},
   "source": [
    "**E.3-6** Exercises 4-7 in practice python (see link above)"
   ]
  },
  {
   "cell_type": "markdown",
   "id": "93d7611e-ea16-49a7-ba7c-10896180a24b",
   "metadata": {},
   "source": [
    "**E3** Create a program that asks the user for a number and then prints out a list of all the divisors of that number. (If you don’t know what a divisor is, it is a number that divides evenly into another number. For example, 13 is a divisor of 26 because 26 / 13 has no remainder.)"
   ]
  },
  {
   "cell_type": "code",
   "execution_count": 35,
   "id": "d0482fdb-4353-4d16-95b7-922feef6f955",
   "metadata": {},
   "outputs": [
    {
     "data": {
      "text/plain": [
       "[1, 2, 4, 5, 10, 20, 25, 50, 100]"
      ]
     },
     "execution_count": 35,
     "metadata": {},
     "output_type": "execute_result"
    }
   ],
   "source": [
    "number = 100\n",
    "divisors = []\n",
    "\n",
    "for i in range(1, number + 1):\n",
    "    if number % i == 0:\n",
    "        divisors.append(i)\n",
    "\n",
    "divisors"
   ]
  },
  {
   "cell_type": "markdown",
   "id": "37e861c7-2b5b-4a32-8e9d-74d8281a9827",
   "metadata": {},
   "source": [
    "**E4** Take two lists, say for example these two:\n",
    "\n",
    "  a = [1, 1, 2, 3, 5, 8, 13, 21, 34, 55, 89]\n",
    "  b = [1, 2, 3, 4, 5, 6, 7, 8, 9, 10, 11, 12, 13]\n",
    "and write a program that returns a list that contains only the elements that are common between the lists (without duplicates). Make sure your program works on two lists of different sizes."
   ]
  },
  {
   "cell_type": "code",
   "execution_count": 37,
   "id": "011bea93-28d6-4b6f-bfd6-5be35cb395da",
   "metadata": {},
   "outputs": [
    {
     "name": "stdout",
     "output_type": "stream",
     "text": [
      "[1, 2, 3, 5, 8, 13]\n"
     ]
    }
   ],
   "source": [
    "a = [1, 1, 2, 3, 5, 8, 13, 21, 34, 55, 89]\n",
    "b = [1, 2, 3, 4, 5, 6, 7, 8, 9, 10, 11, 12, 13]\n",
    "\n",
    "common_list = list(set(a) & set(b))\n",
    "print(common_list)"
   ]
  },
  {
   "cell_type": "markdown",
   "id": "b069792b-a4ba-4d8b-9d5b-12ef0d2b68cd",
   "metadata": {},
   "source": [
    "**E5** Ask the user for a string and print out whether this string is a palindrome or not. (A palindrome is a string that reads the same forwards and backwards.)"
   ]
  },
  {
   "cell_type": "code",
   "execution_count": 39,
   "id": "6aa5f87b-3aab-495a-8646-5e30d012a25c",
   "metadata": {},
   "outputs": [
    {
     "name": "stdout",
     "output_type": "stream",
     "text": [
      "hannah is a palindrome.\n"
     ]
    }
   ],
   "source": [
    "name = \"hannah\"\n",
    "palindrome = name.replace(\"\", \"\").lower()\n",
    "\n",
    "if palindrome == palindrome[::-1]:\n",
    "    print(f\"{name} is a palindrome.\")\n",
    "else:\n",
    "    print(f\"{name} is not a palindrome.\")"
   ]
  },
  {
   "cell_type": "markdown",
   "id": "1d35de01-25df-4c23-b66d-1128c3a88d52",
   "metadata": {},
   "source": [
    "**E6** Let’s say I give you a list saved in a variable: a = [1, 4, 9, 16, 25, 36, 49, 64, 81, 100]. Write one line of Python that takes this list a and makes a new list that has only the even elements of this list in it."
   ]
  },
  {
   "cell_type": "code",
   "execution_count": null,
   "id": "bf31f3cf-56f9-41d2-8068-9514e298f914",
   "metadata": {},
   "outputs": [],
   "source": [
    "a = [1, 4, 9, 16, 25, 36, 49, 64, 81, 100]\n",
    "for number in a:\n",
    "    if number % 2 == 0: \n",
    "        print(number)"
   ]
  },
  {
   "cell_type": "code",
   "execution_count": null,
   "id": "f26b4ca1-7b62-4549-8a02-d7065881bd9f",
   "metadata": {},
   "outputs": [],
   "source": []
  }
 ],
 "metadata": {
  "kernelspec": {
   "display_name": "Python 3 (ipykernel)",
   "language": "python",
   "name": "python3"
  },
  "language_info": {
   "codemirror_mode": {
    "name": "ipython",
    "version": 3
   },
   "file_extension": ".py",
   "mimetype": "text/x-python",
   "name": "python",
   "nbconvert_exporter": "python",
   "pygments_lexer": "ipython3",
   "version": "3.12.4"
  }
 },
 "nbformat": 4,
 "nbformat_minor": 5
}
