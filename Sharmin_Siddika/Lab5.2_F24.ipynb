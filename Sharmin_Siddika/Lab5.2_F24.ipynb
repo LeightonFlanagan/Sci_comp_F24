{
 "cells": [
  {
   "cell_type": "markdown",
   "id": "30857bbf-55ab-411f-b926-aed12e9629a7",
   "metadata": {},
   "source": [
    "Name : Sharmin"
   ]
  },
  {
   "cell_type": "markdown",
   "id": "functioning-current",
   "metadata": {},
   "source": [
    "Labpartner(s)"
   ]
  },
  {
   "cell_type": "code",
   "execution_count": 2,
   "id": "republican-appearance",
   "metadata": {},
   "outputs": [],
   "source": [
    "#import statements go here\n",
    "import numpy as np"
   ]
  },
  {
   "cell_type": "markdown",
   "id": "rising-queue",
   "metadata": {},
   "source": [
    "# Class 5.2"
   ]
  },
  {
   "cell_type": "markdown",
   "id": "powerful-lyric",
   "metadata": {},
   "source": [
    "In this lab you will learn about functions, and apply this to your datasets. Next week we will have present your work day again, see below for details. Hopefully the material is building to the point where it is not all foriegn and you will feel a bit more confident."
   ]
  },
  {
   "cell_type": "markdown",
   "id": "contrary-communications",
   "metadata": {},
   "source": [
    "# Warmups 5.2"
   ]
  },
  {
   "cell_type": "markdown",
   "id": "e016e8c3-69ef-40f4-a99d-6f9c92044dab",
   "metadata": {},
   "source": [
    "Let's practice for loops and logical control"
   ]
  },
  {
   "cell_type": "markdown",
   "id": "critical-cooperation",
   "metadata": {},
   "source": [
    "**W.1** Complete practice python (practicepython.org) Exercise 4:\n",
    "\n",
    "Create a program that asks the user for a number and then prints out a list of all the divisors of that number. (If you don’t know what a divisor is, it is a number that divides evenly into another number. For example, 13 is a divisor of 26 because 26 / 13 has no remainder.)"
   ]
  },
  {
   "cell_type": "code",
   "execution_count": 91,
   "id": "stone-majority",
   "metadata": {},
   "outputs": [
    {
     "name": "stdout",
     "output_type": "stream",
     "text": [
      "Divisors of 50: [1, 2, 5, 10, 25, 50]\n"
     ]
    }
   ],
   "source": [
    "# Function to find divisors of a number\n",
    "def find_divisors(number):\n",
    "    divisors = []\n",
    "    for i in range(1, number + 1):\n",
    "        if number % i == 0:\n",
    "            divisors.append(i)\n",
    "    return divisors\n",
    "\n",
    "# Since the number is 50\n",
    "number = 50\n",
    "\n",
    "# Find and display the divisors\n",
    "divisors = find_divisors(number)\n",
    "print(f\"Divisors of {number}: {divisors}\")\n"
   ]
  },
  {
   "cell_type": "markdown",
   "id": "3712c86b-643c-4778-b6be-cea2d71727f2",
   "metadata": {},
   "source": [
    "**W.2** Complete practice python Exercise 5: \n",
    "\n",
    "Take two lists, say for example these two:\n",
    "\n",
    "  a = [1, 1, 2, 3, 5, 8, 13, 21, 34, 55, 89]\n",
    "\n",
    "  b = [1, 2, 3, 4, 5, 6, 7, 8, 9, 10, 11, 12, 13]\n",
    "\n",
    "and write a program that returns a list that contains only the elements that are common between the lists (without duplicates). Make sure your program works on two lists of different sizes.\n",
    "\n",
    "Extras:\n",
    "\n",
    "Randomly generate two lists to test this\n",
    "\n",
    "Write this in one line of Python (don’t worry if you can’t figure this out at this point)"
   ]
  },
  {
   "cell_type": "code",
   "execution_count": 76,
   "id": "fdf675cc-c252-4981-be92-1db2f54150d5",
   "metadata": {},
   "outputs": [
    {
     "name": "stdout",
     "output_type": "stream",
     "text": [
      "[1, 2, 3, 5, 8, 13]\n"
     ]
    }
   ],
   "source": [
    "a = [1, 1, 2, 3, 5, 8, 13, 21, 34, 55, 89]\n",
    "b = [1, 2, 3, 4, 5, 6, 7, 8, 9, 10, 11, 12, 13]\n",
    "\n",
    "# Find common elements between the lists without duplicates\n",
    "common_elements = list(set(a) & set(b))\n",
    "print(common_elements)\n"
   ]
  },
  {
   "cell_type": "code",
   "execution_count": 89,
   "id": "98afe331-08f0-4a6e-bbe4-aa82d05847f4",
   "metadata": {},
   "outputs": [
    {
     "name": "stdout",
     "output_type": "stream",
     "text": [
      "[41, 35]\n"
     ]
    }
   ],
   "source": [
    "import random\n",
    "\n",
    "common_elements = list(set(random.sample(range(1, 100), 10)) & set(random.sample(range(1, 100), 15)))\n",
    "print(common_elements)\n"
   ]
  },
  {
   "cell_type": "code",
   "execution_count": null,
   "id": "f7544079-e335-4ea6-a219-fd81ad951d58",
   "metadata": {},
   "outputs": [],
   "source": []
  },
  {
   "cell_type": "markdown",
   "id": "activated-arbitration",
   "metadata": {},
   "source": [
    "# Lecture 5.2\n",
    "\n",
    "### Agenda:\n",
    "\n",
    "- Questions\n",
    "- Functions!\n"
   ]
  },
  {
   "cell_type": "markdown",
   "id": "effective-career",
   "metadata": {},
   "source": [
    "### Questions"
   ]
  },
  {
   "cell_type": "code",
   "execution_count": 93,
   "id": "suffering-selection",
   "metadata": {},
   "outputs": [
    {
     "name": "stdout",
     "output_type": "stream",
     "text": [
      "1 1 1\n",
      "1 1 2\n",
      "1 2 1\n",
      "1 2 2\n",
      "1 3 1\n",
      "1 3 2\n",
      "1 4 1\n",
      "1 4 2\n",
      "2 1 1\n",
      "2 1 2\n",
      "2 2 1\n",
      "2 2 2\n",
      "2 3 1\n",
      "2 3 2\n",
      "2 4 1\n",
      "2 4 2\n"
     ]
    }
   ],
   "source": [
    "for i in range(1,3):\n",
    "    for j in range(1,5):\n",
    "        for k in range(1,3):\n",
    "            x = 25\n",
    "            print(i,j,k)"
   ]
  },
  {
   "cell_type": "code",
   "execution_count": 1,
   "id": "18d16c07-2ff8-428c-b077-8f61cada2ef4",
   "metadata": {},
   "outputs": [
    {
     "name": "stdout",
     "output_type": "stream",
     "text": [
      "1 1 2\n",
      "1 2 2\n",
      "1 3 2\n",
      "1 4 2\n",
      "2 1 2\n",
      "2 2 2\n",
      "2 3 2\n",
      "2 4 2\n"
     ]
    }
   ],
   "source": [
    "for i in range(1,3):\n",
    "    for j in range(1,5):\n",
    "        for k in range(1,3):\n",
    "            x = 25\n",
    "        print(i,j,k)"
   ]
  },
  {
   "cell_type": "code",
   "execution_count": 5,
   "id": "751a8f59-7afa-4902-a2a5-2bf602c77358",
   "metadata": {},
   "outputs": [
    {
     "name": "stdout",
     "output_type": "stream",
     "text": [
      "1 4 2\n",
      "2 4 2\n"
     ]
    }
   ],
   "source": [
    "for i in range(1,3):\n",
    "    for j in range(1,5):\n",
    "        for k in range(1,3):\n",
    "            x = 25\n",
    "    print(i,j,k)"
   ]
  },
  {
   "cell_type": "code",
   "execution_count": 7,
   "id": "83ed6aea-9e7b-49d6-bc15-381988eac52a",
   "metadata": {},
   "outputs": [
    {
     "name": "stdout",
     "output_type": "stream",
     "text": [
      "2 4 2\n"
     ]
    }
   ],
   "source": [
    "for i in range(1,3):\n",
    "    for j in range(1,5):\n",
    "        for k in range(1,3):\n",
    "            x = 25\n",
    "print(i,j,k)"
   ]
  },
  {
   "cell_type": "markdown",
   "id": "photographic-injection",
   "metadata": {},
   "source": [
    "### Functions\n",
    "\n",
    "Functions are super-useful for doing repetative tasks. You have been using pre-defined functions constantly, when you define arrays, make a plot, or analyse data. Now you are going to learn to write your own.\n",
    "\n",
    "For more information on functions and documenting:\n",
    "- http://scipy-lectures.org/intro/language/functions.html?highlight=functions\n",
    "- https://realpython.com/documenting-python-code/\n",
    "\n",
    "\n",
    "Basic syntax:"
   ]
  },
  {
   "cell_type": "code",
   "execution_count": 95,
   "id": "absolute-canada",
   "metadata": {},
   "outputs": [],
   "source": [
    "# first you define the function\n",
    "\n",
    "def function_name():\n",
    "    # some code that does something\n",
    "    print('Inside the function')"
   ]
  },
  {
   "cell_type": "code",
   "execution_count": 8,
   "id": "unable-personal",
   "metadata": {},
   "outputs": [
    {
     "name": "stdout",
     "output_type": "stream",
     "text": [
      "Inside the function\n"
     ]
    }
   ],
   "source": [
    "# then you call the function\n",
    "function_name()"
   ]
  },
  {
   "cell_type": "markdown",
   "id": "about-voice",
   "metadata": {},
   "source": [
    "Note that defined funtions show up using whos"
   ]
  },
  {
   "cell_type": "code",
   "execution_count": 10,
   "id": "sound-intellectual",
   "metadata": {},
   "outputs": [
    {
     "name": "stdout",
     "output_type": "stream",
     "text": [
      "Variable               Type        Data/Info\n",
      "--------------------------------------------\n",
      "dataframe_columns      function    <function dataframe_colum<...>ns at 0x000002615B6907C0>\n",
      "dataframe_hash         function    <function dataframe_hash at 0x000002615B692E80>\n",
      "dtypes_str             function    <function dtypes_str at 0x000002615CDB2B60>\n",
      "function_name          function    <function function_name at 0x000002615B693A60>\n",
      "get_dataframes         function    <function get_dataframes at 0x000002615B6939C0>\n",
      "getpass                module      <module 'getpass' from 'C<...>conda3\\\\Lib\\\\getpass.py'>\n",
      "hashlib                module      <module 'hashlib' from 'C<...>conda3\\\\Lib\\\\hashlib.py'>\n",
      "import_pandas_safely   function    <function import_pandas_s<...>ly at 0x000002615B6904A0>\n",
      "is_data_frame          function    <function is_data_frame at 0x000002615CDB3F60>\n",
      "json                   module      <module 'json' from 'C:\\\\<...>\\Lib\\\\json\\\\__init__.py'>\n",
      "np                     module      <module 'numpy' from 'C:\\<...>ges\\\\numpy\\\\__init__.py'>\n"
     ]
    }
   ],
   "source": [
    "whos"
   ]
  },
  {
   "cell_type": "markdown",
   "id": "standing-constant",
   "metadata": {},
   "source": [
    "That's a really useless function, let's make a better one."
   ]
  },
  {
   "cell_type": "code",
   "execution_count": 12,
   "id": "voluntary-particle",
   "metadata": {},
   "outputs": [],
   "source": [
    "# usually you want to pass a varible of some sort to the function to manipulate\n",
    "\n",
    "def circle_area(radius):\n",
    "    area = 3.14*radius**2\n",
    "    return area   # the return statement means that the function will return that variable"
   ]
  },
  {
   "cell_type": "code",
   "execution_count": 97,
   "id": "noble-right",
   "metadata": {},
   "outputs": [
    {
     "data": {
      "text/plain": [
       "78.5"
      ]
     },
     "execution_count": 97,
     "metadata": {},
     "output_type": "execute_result"
    }
   ],
   "source": [
    "circle_area(5)"
   ]
  },
  {
   "cell_type": "markdown",
   "id": "little-numbers",
   "metadata": {},
   "source": [
    "What happens if I don't add the required input?"
   ]
  },
  {
   "cell_type": "code",
   "execution_count": 9,
   "id": "isolated-turning",
   "metadata": {},
   "outputs": [
    {
     "ename": "NameError",
     "evalue": "name 'circle_area' is not defined",
     "output_type": "error",
     "traceback": [
      "\u001b[1;31m---------------------------------------------------------------------------\u001b[0m",
      "\u001b[1;31mNameError\u001b[0m                                 Traceback (most recent call last)",
      "Cell \u001b[1;32mIn[9], line 1\u001b[0m\n\u001b[1;32m----> 1\u001b[0m circle_area()\n",
      "\u001b[1;31mNameError\u001b[0m: name 'circle_area' is not defined"
     ]
    }
   ],
   "source": [
    "circle_area()"
   ]
  },
  {
   "cell_type": "markdown",
   "id": "removed-black",
   "metadata": {},
   "source": [
    "What happens if I omit the return statement?"
   ]
  },
  {
   "cell_type": "code",
   "execution_count": 13,
   "id": "traditional-drain",
   "metadata": {},
   "outputs": [],
   "source": [
    "def circle_area2(radius):\n",
    "    area = 3.14*radius**2\n",
    "    print(area)"
   ]
  },
  {
   "cell_type": "code",
   "execution_count": 15,
   "id": "falling-committee",
   "metadata": {},
   "outputs": [
    {
     "name": "stdout",
     "output_type": "stream",
     "text": [
      "78.5\n"
     ]
    }
   ],
   "source": [
    "circle_area2(5)"
   ]
  },
  {
   "cell_type": "markdown",
   "id": "retired-converter",
   "metadata": {},
   "source": [
    "How do I save the function output to a variable?"
   ]
  },
  {
   "cell_type": "markdown",
   "id": "enabling-mainland",
   "metadata": {},
   "source": [
    "Does the area variable inside the function exist outside of it?"
   ]
  },
  {
   "cell_type": "code",
   "execution_count": 28,
   "id": "informative-wallpaper",
   "metadata": {},
   "outputs": [
    {
     "name": "stdout",
     "output_type": "stream",
     "text": [
      "Variable               Type        Data/Info\n",
      "--------------------------------------------\n",
      "circle_area            function    <function circle_area at 0x000002615B692A20>\n",
      "circle_area2           function    <function circle_area2 at 0x000002615DE12DE0>\n",
      "dataframe_columns      function    <function dataframe_colum<...>ns at 0x000002615DE13CE0>\n",
      "dataframe_hash         function    <function dataframe_hash at 0x000002615DE12200>\n",
      "dtypes_str             function    <function dtypes_str at 0x000002615DE13D80>\n",
      "function_name          function    <function function_name at 0x000002615B693A60>\n",
      "get_dataframes         function    <function get_dataframes at 0x000002615DE12980>\n",
      "getpass                module      <module 'getpass' from 'C<...>conda3\\\\Lib\\\\getpass.py'>\n",
      "hashlib                module      <module 'hashlib' from 'C<...>conda3\\\\Lib\\\\hashlib.py'>\n",
      "import_pandas_safely   function    <function import_pandas_s<...>ly at 0x000002615B693880>\n",
      "is_data_frame          function    <function is_data_frame at 0x000002615B693740>\n",
      "json                   module      <module 'json' from 'C:\\\\<...>\\Lib\\\\json\\\\__init__.py'>\n",
      "np                     module      <module 'numpy' from 'C:\\<...>ges\\\\numpy\\\\__init__.py'>\n"
     ]
    }
   ],
   "source": [
    "whos"
   ]
  },
  {
   "cell_type": "code",
   "execution_count": 107,
   "id": "productive-ethiopia",
   "metadata": {},
   "outputs": [
    {
     "ename": "NameError",
     "evalue": "name 'area' is not defined",
     "output_type": "error",
     "traceback": [
      "\u001b[1;31m---------------------------------------------------------------------------\u001b[0m",
      "\u001b[1;31mNameError\u001b[0m                                 Traceback (most recent call last)",
      "Cell \u001b[1;32mIn[107], line 1\u001b[0m\n\u001b[1;32m----> 1\u001b[0m area\n",
      "\u001b[1;31mNameError\u001b[0m: name 'area' is not defined"
     ]
    }
   ],
   "source": [
    "area"
   ]
  },
  {
   "cell_type": "markdown",
   "id": "arctic-vinyl",
   "metadata": {},
   "source": [
    "Note I also could have made my function like this:"
   ]
  },
  {
   "cell_type": "code",
   "execution_count": 19,
   "id": "visible-annex",
   "metadata": {},
   "outputs": [],
   "source": [
    "def circle_area4(radius):\n",
    "    return 3.14*radius**2"
   ]
  },
  {
   "cell_type": "code",
   "execution_count": 21,
   "id": "narrow-forward",
   "metadata": {},
   "outputs": [
    {
     "data": {
      "text/plain": [
       "78.5"
      ]
     },
     "execution_count": 21,
     "metadata": {},
     "output_type": "execute_result"
    }
   ],
   "source": [
    "circle_area4(5)"
   ]
  },
  {
   "cell_type": "code",
   "execution_count": 23,
   "id": "plain-exchange",
   "metadata": {},
   "outputs": [
    {
     "data": {
      "text/plain": [
       "78.5"
      ]
     },
     "execution_count": 23,
     "metadata": {},
     "output_type": "execute_result"
    }
   ],
   "source": [
    "circle_area4(-5)"
   ]
  },
  {
   "cell_type": "markdown",
   "id": "neither-forty",
   "metadata": {},
   "source": [
    "### Parsing for bad input"
   ]
  },
  {
   "cell_type": "markdown",
   "id": "short-springfield",
   "metadata": {},
   "source": [
    "Note my above function will work even if the input is negative, which is not reasonable. So I probably want to include a statement that checks if the input is weird."
   ]
  },
  {
   "cell_type": "code",
   "execution_count": 53,
   "id": "round-shirt",
   "metadata": {},
   "outputs": [],
   "source": [
    "def circle_area5(radius):\n",
    "    # put in an if statement to handle bad inputs\n",
    "    if radius <=0:\n",
    "        print('positive')\n",
    "        return\n",
    "    import numpy as np\n",
    "    return np.pi*radius**2"
   ]
  },
  {
   "cell_type": "code",
   "execution_count": 59,
   "id": "151f3365-5f72-4913-8634-75cd7dd21ad2",
   "metadata": {},
   "outputs": [
    {
     "data": {
      "text/plain": [
       "153.93804002589985"
      ]
     },
     "execution_count": 59,
     "metadata": {},
     "output_type": "execute_result"
    }
   ],
   "source": [
    "circle_area5(7)"
   ]
  },
  {
   "cell_type": "code",
   "execution_count": 70,
   "id": "74fac719-2747-44b9-a72e-e1b04995440b",
   "metadata": {},
   "outputs": [],
   "source": [
    "def circle_area5(radius):\n",
    "    # put in an if statement to handle bad inputs\n",
    "     if radius <=0:\n",
    "        print('positive')\n",
    "        return"
   ]
  },
  {
   "cell_type": "code",
   "execution_count": 72,
   "id": "69a34d87-cd1e-4710-8375-f5c1c5da0e3e",
   "metadata": {},
   "outputs": [
    {
     "name": "stdout",
     "output_type": "stream",
     "text": [
      "positive\n"
     ]
    }
   ],
   "source": [
    "circle_area5(-8)"
   ]
  },
  {
   "cell_type": "markdown",
   "id": "virgin-tragedy",
   "metadata": {},
   "source": [
    "### Using packages within functions"
   ]
  },
  {
   "cell_type": "markdown",
   "id": "initial-public",
   "metadata": {},
   "source": [
    "We can also have import statements within a function, but this can slow the function down if the package is not loaded already"
   ]
  },
  {
   "cell_type": "code",
   "execution_count": 76,
   "id": "educated-saver",
   "metadata": {},
   "outputs": [],
   "source": [
    "def circle_area6(radius):\n",
    "    if radius <= 0:\n",
    "        print('Error: radius needs to be positive')\n",
    "        return # exit the function\n",
    "    \n",
    "    import numpy as np\n",
    "    \n",
    "    return np.pi*radius**2"
   ]
  },
  {
   "cell_type": "code",
   "execution_count": 78,
   "id": "chronic-bookmark",
   "metadata": {},
   "outputs": [
    {
     "data": {
      "text/plain": [
       "28.274333882308138"
      ]
     },
     "execution_count": 78,
     "metadata": {},
     "output_type": "execute_result"
    }
   ],
   "source": [
    "circle_area6(3) # note this is a much more accurate"
   ]
  },
  {
   "cell_type": "markdown",
   "id": "ethical-forest",
   "metadata": {},
   "source": [
    "We can have the function inputs have pre-defined default values, so that if you don't pass a variable it will use the default"
   ]
  },
  {
   "cell_type": "code",
   "execution_count": 86,
   "id": "brave-jamaica",
   "metadata": {},
   "outputs": [],
   "source": [
    "def circle_area7(radius = 3):\n",
    "    import numpy as np #import numpy so we can use the more exact value of pi\n",
    "    \n",
    "    return np.pi*radius**2"
   ]
  },
  {
   "cell_type": "code",
   "execution_count": 94,
   "id": "mounted-independence",
   "metadata": {},
   "outputs": [
    {
     "data": {
      "text/plain": [
       "28.274333882308138"
      ]
     },
     "execution_count": 94,
     "metadata": {},
     "output_type": "execute_result"
    }
   ],
   "source": [
    "circle_area7(3) "
   ]
  },
  {
   "cell_type": "code",
   "execution_count": 92,
   "id": "dense-review",
   "metadata": {},
   "outputs": [
    {
     "data": {
      "text/plain": [
       "28.274333882308138"
      ]
     },
     "execution_count": 92,
     "metadata": {},
     "output_type": "execute_result"
    }
   ],
   "source": [
    "circle_area7() # no argument given, so uses radius = 3 by default"
   ]
  },
  {
   "cell_type": "markdown",
   "id": "renewable-twelve",
   "metadata": {},
   "source": [
    "Is numpy imported outside the function? Let's check"
   ]
  },
  {
   "cell_type": "code",
   "execution_count": 52,
   "id": "hidden-minutes",
   "metadata": {},
   "outputs": [
    {
     "data": {
      "text/plain": [
       "3.141592653589793"
      ]
     },
     "execution_count": 52,
     "metadata": {},
     "output_type": "execute_result"
    }
   ],
   "source": [
    "np.pi"
   ]
  },
  {
   "cell_type": "code",
   "execution_count": 54,
   "id": "hazardous-florist",
   "metadata": {},
   "outputs": [
    {
     "name": "stdout",
     "output_type": "stream",
     "text": [
      "Variable               Type        Data/Info\n",
      "--------------------------------------------\n",
      "circle_area            function    <function circle_area at 0x000002615B692A20>\n",
      "circle_area2           function    <function circle_area2 at 0x000002615DE12DE0>\n",
      "circle_area4           function    <function circle_area4 at 0x000002615CDB2AC0>\n",
      "circle_area5           function    <function circle_area5 at 0x000002615DE12200>\n",
      "circle_area6           function    <function circle_area6 at 0x000002615DE13BA0>\n",
      "circle_area7           function    <function circle_area7 at 0x000002615CDB3D80>\n",
      "dataframe_columns      function    <function dataframe_colum<...>ns at 0x000002615DE134C0>\n",
      "dataframe_hash         function    <function dataframe_hash at 0x000002615DE13920>\n",
      "dtypes_str             function    <function dtypes_str at 0x000002615DE12F20>\n",
      "function_name          function    <function function_name at 0x000002615B693A60>\n",
      "get_dataframes         function    <function get_dataframes at 0x000002615DE13560>\n",
      "getpass                module      <module 'getpass' from 'C<...>conda3\\\\Lib\\\\getpass.py'>\n",
      "hashlib                module      <module 'hashlib' from 'C<...>conda3\\\\Lib\\\\hashlib.py'>\n",
      "import_pandas_safely   function    <function import_pandas_s<...>ly at 0x000002615DE100E0>\n",
      "is_data_frame          function    <function is_data_frame at 0x000002615DE11BC0>\n",
      "json                   module      <module 'json' from 'C:\\\\<...>\\Lib\\\\json\\\\__init__.py'>\n",
      "np                     module      <module 'numpy' from 'C:\\<...>ges\\\\numpy\\\\__init__.py'>\n"
     ]
    }
   ],
   "source": [
    "whos"
   ]
  },
  {
   "cell_type": "code",
   "execution_count": 96,
   "id": "published-invalid",
   "metadata": {},
   "outputs": [
    {
     "ename": "TypeError",
     "evalue": "unsupported operand type(s) for ** or pow(): 'list' and 'int'",
     "output_type": "error",
     "traceback": [
      "\u001b[1;31m---------------------------------------------------------------------------\u001b[0m",
      "\u001b[1;31mTypeError\u001b[0m                                 Traceback (most recent call last)",
      "Cell \u001b[1;32mIn[96], line 3\u001b[0m\n\u001b[0;32m      1\u001b[0m \u001b[38;5;66;03m# can our function handle lists? Let's check\u001b[39;00m\n\u001b[0;32m      2\u001b[0m r \u001b[38;5;241m=\u001b[39m [\u001b[38;5;241m1\u001b[39m,\u001b[38;5;241m2\u001b[39m,\u001b[38;5;241m3\u001b[39m]\n\u001b[1;32m----> 3\u001b[0m circle_area7(r)\n",
      "Cell \u001b[1;32mIn[86], line 4\u001b[0m, in \u001b[0;36mcircle_area7\u001b[1;34m(radius)\u001b[0m\n\u001b[0;32m      1\u001b[0m \u001b[38;5;28;01mdef\u001b[39;00m \u001b[38;5;21mcircle_area7\u001b[39m(radius \u001b[38;5;241m=\u001b[39m \u001b[38;5;241m3\u001b[39m):\n\u001b[0;32m      2\u001b[0m     \u001b[38;5;28;01mimport\u001b[39;00m \u001b[38;5;21;01mnumpy\u001b[39;00m \u001b[38;5;28;01mas\u001b[39;00m \u001b[38;5;21;01mnp\u001b[39;00m \u001b[38;5;66;03m#import numpy so we can use the more exact value of pi\u001b[39;00m\n\u001b[1;32m----> 4\u001b[0m     \u001b[38;5;28;01mreturn\u001b[39;00m np\u001b[38;5;241m.\u001b[39mpi\u001b[38;5;241m*\u001b[39mradius\u001b[38;5;241m*\u001b[39m\u001b[38;5;241m*\u001b[39m\u001b[38;5;241m2\u001b[39m\n",
      "\u001b[1;31mTypeError\u001b[0m: unsupported operand type(s) for ** or pow(): 'list' and 'int'"
     ]
    }
   ],
   "source": [
    "# can our function handle lists? Let's check\n",
    "r = [1,2,3]\n",
    "circle_area7(r)"
   ]
  },
  {
   "cell_type": "code",
   "execution_count": 131,
   "id": "fundamental-branch",
   "metadata": {},
   "outputs": [
    {
     "data": {
      "text/plain": [
       "\u001b[1;31mSignature:\u001b[0m \u001b[0mprint\u001b[0m\u001b[1;33m(\u001b[0m\u001b[1;33m*\u001b[0m\u001b[0margs\u001b[0m\u001b[1;33m,\u001b[0m \u001b[0msep\u001b[0m\u001b[1;33m=\u001b[0m\u001b[1;34m' '\u001b[0m\u001b[1;33m,\u001b[0m \u001b[0mend\u001b[0m\u001b[1;33m=\u001b[0m\u001b[1;34m'\\n'\u001b[0m\u001b[1;33m,\u001b[0m \u001b[0mfile\u001b[0m\u001b[1;33m=\u001b[0m\u001b[1;32mNone\u001b[0m\u001b[1;33m,\u001b[0m \u001b[0mflush\u001b[0m\u001b[1;33m=\u001b[0m\u001b[1;32mFalse\u001b[0m\u001b[1;33m)\u001b[0m\u001b[1;33m\u001b[0m\u001b[1;33m\u001b[0m\u001b[0m\n",
       "\u001b[1;31mDocstring:\u001b[0m\n",
       "Prints the values to a stream, or to sys.stdout by default.\n",
       "\n",
       "sep\n",
       "  string inserted between values, default a space.\n",
       "end\n",
       "  string appended after the last value, default a newline.\n",
       "file\n",
       "  a file-like object (stream); defaults to the current sys.stdout.\n",
       "flush\n",
       "  whether to forcibly flush the stream.\n",
       "\u001b[1;31mType:\u001b[0m      builtin_function_or_method"
      ]
     },
     "metadata": {},
     "output_type": "display_data"
    }
   ],
   "source": [
    "print?"
   ]
  },
  {
   "cell_type": "code",
   "execution_count": 58,
   "id": "offshore-syria",
   "metadata": {},
   "outputs": [
    {
     "data": {
      "text/plain": [
       "array([ 3.14159265, 12.56637061, 28.27433388])"
      ]
     },
     "execution_count": 58,
     "metadata": {},
     "output_type": "execute_result"
    }
   ],
   "source": [
    "# can our function handle arrays?\n",
    "\n",
    "rnp = np.array(r)\n",
    "circle_area7(rnp)\n",
    "\n",
    "# what type of variable did the function return?"
   ]
  },
  {
   "cell_type": "markdown",
   "id": "regional-trouble",
   "metadata": {},
   "source": [
    "### It is very useful to add some documentation string info to your functions"
   ]
  },
  {
   "cell_type": "code",
   "execution_count": 62,
   "id": "short-chrome",
   "metadata": {},
   "outputs": [],
   "source": [
    "def circle_area7(radius = 3):\n",
    "    \"\"\" Returns the area of a circle given the radius. \n",
    "    Assumes the radius is 3 if not supplied. \"\"\"\n",
    "    import numpy as np\n",
    "    \n",
    "    return np.pi*radius**2"
   ]
  },
  {
   "cell_type": "markdown",
   "id": "unsigned-sport",
   "metadata": {},
   "source": [
    "Now my note in the triple double quotes shows up as a docstring"
   ]
  },
  {
   "cell_type": "code",
   "execution_count": 64,
   "id": "consistent-peace",
   "metadata": {},
   "outputs": [
    {
     "data": {
      "text/plain": [
       "\u001b[1;31mType:\u001b[0m        float\n",
       "\u001b[1;31mString form:\u001b[0m 3.141592653589793\n",
       "\u001b[1;31mDocstring:\u001b[0m   Convert a string or number to a floating point number, if possible."
      ]
     },
     "metadata": {},
     "output_type": "display_data"
    }
   ],
   "source": [
    "np.pi?"
   ]
  },
  {
   "cell_type": "code",
   "execution_count": 66,
   "id": "interstate-coverage",
   "metadata": {},
   "outputs": [
    {
     "data": {
      "text/plain": [
       "\u001b[1;31mSignature:\u001b[0m \u001b[0mcircle_area7\u001b[0m\u001b[1;33m(\u001b[0m\u001b[0mradius\u001b[0m\u001b[1;33m=\u001b[0m\u001b[1;36m3\u001b[0m\u001b[1;33m)\u001b[0m\u001b[1;33m\u001b[0m\u001b[1;33m\u001b[0m\u001b[0m\n",
       "\u001b[1;31mDocstring:\u001b[0m\n",
       "Returns the area of a circle given the radius. \n",
       "Assumes the radius is 3 if not supplied. \n",
       "\u001b[1;31mFile:\u001b[0m      c:\\users\\anany\\appdata\\local\\temp\\ipykernel_19080\\967664329.py\n",
       "\u001b[1;31mType:\u001b[0m      function"
      ]
     },
     "metadata": {},
     "output_type": "display_data"
    }
   ],
   "source": [
    "circle_area7?"
   ]
  },
  {
   "cell_type": "markdown",
   "id": "assisted-assurance",
   "metadata": {},
   "source": [
    "There is a standard practice in programming to write out the Parameters (inputs/arguments) and Returns (output) in the docstring. Let's look a this for a predefined function and then make if for our simple function."
   ]
  },
  {
   "cell_type": "code",
   "execution_count": 68,
   "id": "quarterly-spring",
   "metadata": {},
   "outputs": [
    {
     "data": {
      "text/plain": [
       "\u001b[1;31mSignature:\u001b[0m      \n",
       "\u001b[0mnp\u001b[0m\u001b[1;33m.\u001b[0m\u001b[0mmax\u001b[0m\u001b[1;33m(\u001b[0m\u001b[1;33m\n",
       "\u001b[0m    \u001b[0ma\u001b[0m\u001b[1;33m,\u001b[0m\u001b[1;33m\n",
       "\u001b[0m    \u001b[0maxis\u001b[0m\u001b[1;33m=\u001b[0m\u001b[1;32mNone\u001b[0m\u001b[1;33m,\u001b[0m\u001b[1;33m\n",
       "\u001b[0m    \u001b[0mout\u001b[0m\u001b[1;33m=\u001b[0m\u001b[1;32mNone\u001b[0m\u001b[1;33m,\u001b[0m\u001b[1;33m\n",
       "\u001b[0m    \u001b[0mkeepdims\u001b[0m\u001b[1;33m=\u001b[0m\u001b[1;33m<\u001b[0m\u001b[0mno\u001b[0m \u001b[0mvalue\u001b[0m\u001b[1;33m>\u001b[0m\u001b[1;33m,\u001b[0m\u001b[1;33m\n",
       "\u001b[0m    \u001b[0minitial\u001b[0m\u001b[1;33m=\u001b[0m\u001b[1;33m<\u001b[0m\u001b[0mno\u001b[0m \u001b[0mvalue\u001b[0m\u001b[1;33m>\u001b[0m\u001b[1;33m,\u001b[0m\u001b[1;33m\n",
       "\u001b[0m    \u001b[0mwhere\u001b[0m\u001b[1;33m=\u001b[0m\u001b[1;33m<\u001b[0m\u001b[0mno\u001b[0m \u001b[0mvalue\u001b[0m\u001b[1;33m>\u001b[0m\u001b[1;33m,\u001b[0m\u001b[1;33m\n",
       "\u001b[0m\u001b[1;33m)\u001b[0m\u001b[1;33m\u001b[0m\u001b[1;33m\u001b[0m\u001b[0m\n",
       "\u001b[1;31mCall signature:\u001b[0m  \u001b[0mnp\u001b[0m\u001b[1;33m.\u001b[0m\u001b[0mmax\u001b[0m\u001b[1;33m(\u001b[0m\u001b[1;33m*\u001b[0m\u001b[0margs\u001b[0m\u001b[1;33m,\u001b[0m \u001b[1;33m**\u001b[0m\u001b[0mkwargs\u001b[0m\u001b[1;33m)\u001b[0m\u001b[1;33m\u001b[0m\u001b[1;33m\u001b[0m\u001b[0m\n",
       "\u001b[1;31mType:\u001b[0m            _ArrayFunctionDispatcher\n",
       "\u001b[1;31mString form:\u001b[0m     <function max at 0x000002615B8B9EE0>\n",
       "\u001b[1;31mFile:\u001b[0m            c:\\users\\anany\\anaconda3\\lib\\site-packages\\numpy\\core\\fromnumeric.py\n",
       "\u001b[1;31mDocstring:\u001b[0m      \n",
       "Return the maximum of an array or maximum along an axis.\n",
       "\n",
       "Parameters\n",
       "----------\n",
       "a : array_like\n",
       "    Input data.\n",
       "axis : None or int or tuple of ints, optional\n",
       "    Axis or axes along which to operate.  By default, flattened input is\n",
       "    used.\n",
       "\n",
       "    .. versionadded:: 1.7.0\n",
       "\n",
       "    If this is a tuple of ints, the maximum is selected over multiple axes,\n",
       "    instead of a single axis or all the axes as before.\n",
       "out : ndarray, optional\n",
       "    Alternative output array in which to place the result.  Must\n",
       "    be of the same shape and buffer length as the expected output.\n",
       "    See :ref:`ufuncs-output-type` for more details.\n",
       "\n",
       "keepdims : bool, optional\n",
       "    If this is set to True, the axes which are reduced are left\n",
       "    in the result as dimensions with size one. With this option,\n",
       "    the result will broadcast correctly against the input array.\n",
       "\n",
       "    If the default value is passed, then `keepdims` will not be\n",
       "    passed through to the ``max`` method of sub-classes of\n",
       "    `ndarray`, however any non-default value will be.  If the\n",
       "    sub-class' method does not implement `keepdims` any\n",
       "    exceptions will be raised.\n",
       "\n",
       "initial : scalar, optional\n",
       "    The minimum value of an output element. Must be present to allow\n",
       "    computation on empty slice. See `~numpy.ufunc.reduce` for details.\n",
       "\n",
       "    .. versionadded:: 1.15.0\n",
       "\n",
       "where : array_like of bool, optional\n",
       "    Elements to compare for the maximum. See `~numpy.ufunc.reduce`\n",
       "    for details.\n",
       "\n",
       "    .. versionadded:: 1.17.0\n",
       "\n",
       "Returns\n",
       "-------\n",
       "max : ndarray or scalar\n",
       "    Maximum of `a`. If `axis` is None, the result is a scalar value.\n",
       "    If `axis` is an int, the result is an array of dimension\n",
       "    ``a.ndim - 1``. If `axis` is a tuple, the result is an array of \n",
       "    dimension ``a.ndim - len(axis)``.\n",
       "\n",
       "See Also\n",
       "--------\n",
       "amin :\n",
       "    The minimum value of an array along a given axis, propagating any NaNs.\n",
       "nanmax :\n",
       "    The maximum value of an array along a given axis, ignoring any NaNs.\n",
       "maximum :\n",
       "    Element-wise maximum of two arrays, propagating any NaNs.\n",
       "fmax :\n",
       "    Element-wise maximum of two arrays, ignoring any NaNs.\n",
       "argmax :\n",
       "    Return the indices of the maximum values.\n",
       "\n",
       "nanmin, minimum, fmin\n",
       "\n",
       "Notes\n",
       "-----\n",
       "NaN values are propagated, that is if at least one item is NaN, the\n",
       "corresponding max value will be NaN as well. To ignore NaN values\n",
       "(MATLAB behavior), please use nanmax.\n",
       "\n",
       "Don't use `~numpy.max` for element-wise comparison of 2 arrays; when\n",
       "``a.shape[0]`` is 2, ``maximum(a[0], a[1])`` is faster than\n",
       "``max(a, axis=0)``.\n",
       "\n",
       "Examples\n",
       "--------\n",
       ">>> a = np.arange(4).reshape((2,2))\n",
       ">>> a\n",
       "array([[0, 1],\n",
       "       [2, 3]])\n",
       ">>> np.max(a)           # Maximum of the flattened array\n",
       "3\n",
       ">>> np.max(a, axis=0)   # Maxima along the first axis\n",
       "array([2, 3])\n",
       ">>> np.max(a, axis=1)   # Maxima along the second axis\n",
       "array([1, 3])\n",
       ">>> np.max(a, where=[False, True], initial=-1, axis=0)\n",
       "array([-1,  3])\n",
       ">>> b = np.arange(5, dtype=float)\n",
       ">>> b[2] = np.NaN\n",
       ">>> np.max(b)\n",
       "nan\n",
       ">>> np.max(b, where=~np.isnan(b), initial=-1)\n",
       "4.0\n",
       ">>> np.nanmax(b)\n",
       "4.0\n",
       "\n",
       "You can use an initial value to compute the maximum of an empty slice, or\n",
       "to initialize it to a different value:\n",
       "\n",
       ">>> np.max([[-50], [10]], axis=-1, initial=0)\n",
       "array([ 0, 10])\n",
       "\n",
       "Notice that the initial value is used as one of the elements for which the\n",
       "maximum is determined, unlike for the default argument Python's max\n",
       "function, which is only used for empty iterables.\n",
       "\n",
       ">>> np.max([5], initial=6)\n",
       "6\n",
       ">>> max([5], default=6)\n",
       "5\n",
       "\u001b[1;31mClass docstring:\u001b[0m\n",
       "Class to wrap functions with checks for __array_function__ overrides.\n",
       "\n",
       "All arguments are required, and can only be passed by position.\n",
       "\n",
       "Parameters\n",
       "----------\n",
       "dispatcher : function or None\n",
       "    The dispatcher function that returns a single sequence-like object\n",
       "    of all arguments relevant.  It must have the same signature (except\n",
       "    the default values) as the actual implementation.\n",
       "    If ``None``, this is a ``like=`` dispatcher and the\n",
       "    ``_ArrayFunctionDispatcher`` must be called with ``like`` as the\n",
       "    first (additional and positional) argument.\n",
       "implementation : function\n",
       "    Function that implements the operation on NumPy arrays without\n",
       "    overrides.  Arguments passed calling the ``_ArrayFunctionDispatcher``\n",
       "    will be forwarded to this (and the ``dispatcher``) as if using\n",
       "    ``*args, **kwargs``.\n",
       "\n",
       "Attributes\n",
       "----------\n",
       "_implementation : function\n",
       "    The original implementation passed in."
      ]
     },
     "metadata": {},
     "output_type": "display_data"
    }
   ],
   "source": [
    "np.max?"
   ]
  },
  {
   "cell_type": "code",
   "execution_count": 70,
   "id": "looking-bubble",
   "metadata": {},
   "outputs": [],
   "source": [
    "def circle_area7(radius = 3):\n",
    "    \"\"\" Returns the area of a circle given the radius. \n",
    "    \n",
    "    Parameters\n",
    "    ----------\n",
    "    radius: array like, radius of the circle\n",
    "    Assumes the radius is 3 if not supplied.\n",
    "    \n",
    "    Returns\n",
    "    -------\n",
    "    area: ndarray or scalar\n",
    "    Returns the area for the given radii\n",
    "    \n",
    "    \"\"\"\n",
    "    \n",
    "    import numpy as np\n",
    "    \n",
    "    return np.pi*radius**2"
   ]
  },
  {
   "cell_type": "code",
   "execution_count": 72,
   "id": "educated-study",
   "metadata": {},
   "outputs": [
    {
     "data": {
      "text/plain": [
       "\u001b[1;31mSignature:\u001b[0m \u001b[0mcircle_area7\u001b[0m\u001b[1;33m(\u001b[0m\u001b[0mradius\u001b[0m\u001b[1;33m=\u001b[0m\u001b[1;36m3\u001b[0m\u001b[1;33m)\u001b[0m\u001b[1;33m\u001b[0m\u001b[1;33m\u001b[0m\u001b[0m\n",
       "\u001b[1;31mDocstring:\u001b[0m\n",
       "Returns the area of a circle given the radius. \n",
       "\n",
       "Parameters\n",
       "----------\n",
       "radius: array like, radius of the circle\n",
       "Assumes the radius is 3 if not supplied.\n",
       "\n",
       "Returns\n",
       "-------\n",
       "area: ndarray or scalar\n",
       "Returns the area for the given radii\n",
       "\u001b[1;31mFile:\u001b[0m      c:\\users\\anany\\appdata\\local\\temp\\ipykernel_19080\\1644116025.py\n",
       "\u001b[1;31mType:\u001b[0m      function"
      ]
     },
     "metadata": {},
     "output_type": "display_data"
    }
   ],
   "source": [
    "circle_area7?"
   ]
  },
  {
   "cell_type": "markdown",
   "id": "demanding-ghost",
   "metadata": {},
   "source": [
    "# Lab 5.2"
   ]
  },
  {
   "cell_type": "markdown",
   "id": "large-paradise",
   "metadata": {},
   "source": [
    "**E.1** Complete Introduction to Functions in Python Ch 1 (you can do Ch 2-3 if you are very keen, but this is not required)\n"
   ]
  },
  {
   "cell_type": "markdown",
   "id": "34baa669-6b21-444f-a26a-095687bdc924",
   "metadata": {},
   "source": [
    "Completed"
   ]
  },
  {
   "cell_type": "markdown",
   "id": "grateful-russia",
   "metadata": {},
   "source": [
    "**E.2** Make notes for yourself on progamming tecniques and commands you learned in the datacamp chapter above, including examples, comments and explainitory text. You can do this here or in a separate notebook that you link to here. Basically, you are making a cheat sheet for yourself."
   ]
  },
  {
   "cell_type": "code",
   "execution_count": 98,
   "id": "joined-reset",
   "metadata": {},
   "outputs": [
    {
     "name": "stdout",
     "output_type": "stream",
     "text": [
      "congratulations!!!\n"
     ]
    }
   ],
   "source": [
    "# Define the function shout\n",
    "def shout():\n",
    "    \"\"\"Print a string with three exclamation marks\"\"\"\n",
    "    # Concatenate the strings: shout_word\n",
    "    shout_word = ('congratulations!!!')\n",
    "\n",
    "    # Print shout_word\n",
    "    print(shout_word)\n",
    "\n",
    "# Call shout\n",
    "shout()"
   ]
  },
  {
   "cell_type": "code",
   "execution_count": 100,
   "id": "dc4b32ec-6db8-4dae-baa5-bf557127c669",
   "metadata": {},
   "outputs": [
    {
     "name": "stdout",
     "output_type": "stream",
     "text": [
      "congratulations!!!\n"
     ]
    }
   ],
   "source": [
    "# Define shout with the parameter, word\n",
    "def shout(word):\n",
    "    \"\"\"Print a string with three exclamation marks\"\"\"\n",
    "    # Concatenate the strings: shout_word\n",
    "    shout_word = word + '!!!'\n",
    "\n",
    "    # Print shout_word\n",
    "    print(shout_word)\n",
    "\n",
    "# Call shout with the string 'congratulations'\n",
    "shout('congratulations')"
   ]
  },
  {
   "cell_type": "code",
   "execution_count": 102,
   "id": "43494501-8107-455d-96e9-50db0dfa0b09",
   "metadata": {},
   "outputs": [
    {
     "name": "stdout",
     "output_type": "stream",
     "text": [
      "congratulations!!!\n"
     ]
    }
   ],
   "source": [
    "# Define shout with the parameter, word\n",
    "def shout(word):\n",
    "    \"\"\"Return a string with three exclamation marks\"\"\"\n",
    "    # Concatenate the strings: shout_word\n",
    "    shout_word = word + '!!!'\n",
    "\n",
    "    # Replace print with return\n",
    "    return shout_word\n",
    "\n",
    "# Pass 'congratulations' to shout: yell\n",
    "yell = shout('congratulations')\n",
    "\n",
    "\n",
    "# Print yell\n",
    "print(yell)"
   ]
  },
  {
   "cell_type": "code",
   "execution_count": 104,
   "id": "2fcc4806-8d2f-48aa-ab5c-eda194ab35f6",
   "metadata": {},
   "outputs": [
    {
     "name": "stdout",
     "output_type": "stream",
     "text": [
      "congratulations!!!you!!!\n"
     ]
    }
   ],
   "source": [
    "# Define shout with parameters word1 and word2\n",
    "def shout(word1, word2):\n",
    "    \"\"\"Concatenate strings with three exclamation marks\"\"\"\n",
    "    # Concatenate word1 with '!!!': shout1\n",
    "    shout1 = word1 + '!!!'\n",
    "    \n",
    "    # Concatenate word2 with '!!!': shout2\n",
    "    shout2 = word2 + '!!!'\n",
    "    \n",
    "    # Concatenate shout1 with shout2: new_shout\n",
    "    new_shout = shout1 + shout2\n",
    "\n",
    "    # Return new_shout\n",
    "    return new_shout\n",
    "\n",
    "# Pass 'congratulations' and 'you' to shout(): yell\n",
    "yell= shout('congratulations', 'you')\n",
    "\n",
    "# Print yell\n",
    "print(yell)"
   ]
  },
  {
   "cell_type": "code",
   "execution_count": 106,
   "id": "dceb04a9-6fd2-4a12-8be6-d3b25a1daa6b",
   "metadata": {},
   "outputs": [
    {
     "name": "stdout",
     "output_type": "stream",
     "text": [
      "congratulations!!!\n",
      "you!!!\n"
     ]
    }
   ],
   "source": [
    "# Define shout_all with parameters word1 and word2\n",
    "def shout_all(word1, word2):\n",
    "    \n",
    "    # Concatenate word1 with '!!!': shout1\n",
    "    shout1 = word1 + '!!!'\n",
    "    \n",
    "    # Concatenate word2 with '!!!': shout2\n",
    "    shout2 = word2 + '!!!'\n",
    "    \n",
    "    # Construct a tuple with shout1 and shout2: shout_words\n",
    "    shout_words = (shout1, shout2)\n",
    "\n",
    "    # Return shout_words\n",
    "    return shout_words\n",
    "\n",
    "# Pass 'congratulations' and 'you' to shout_all(): yell1, yell2\n",
    "yell1, yell2 = shout_all('congratulations', 'you')\n",
    "\n",
    "# Print yell1 and yell2\n",
    "print(yell1)\n",
    "print(yell2)"
   ]
  },
  {
   "cell_type": "code",
   "execution_count": 110,
   "id": "85af56b3-e4dd-4880-ab4f-c10453282179",
   "metadata": {},
   "outputs": [
    {
     "ename": "NameError",
     "evalue": "name 'tweets_df' is not defined",
     "output_type": "error",
     "traceback": [
      "\u001b[1;31m---------------------------------------------------------------------------\u001b[0m",
      "\u001b[1;31mNameError\u001b[0m                                 Traceback (most recent call last)",
      "Cell \u001b[1;32mIn[110], line 26\u001b[0m\n\u001b[0;32m     23\u001b[0m     \u001b[38;5;28;01mreturn\u001b[39;00m langs_count\n\u001b[0;32m     25\u001b[0m \u001b[38;5;66;03m# Call count_entries(): result\u001b[39;00m\n\u001b[1;32m---> 26\u001b[0m result \u001b[38;5;241m=\u001b[39m count_entries(tweets_df, \u001b[38;5;124m'\u001b[39m\u001b[38;5;124mlang\u001b[39m\u001b[38;5;124m'\u001b[39m)\n\u001b[0;32m     28\u001b[0m \u001b[38;5;66;03m# Print the result\u001b[39;00m\n\u001b[0;32m     29\u001b[0m \u001b[38;5;28mprint\u001b[39m(result)\n",
      "\u001b[1;31mNameError\u001b[0m: name 'tweets_df' is not defined"
     ]
    }
   ],
   "source": [
    "# Define count_entries()\n",
    "def count_entries(df, col_name):\n",
    "    \"\"\"Return a dictionary with counts of \n",
    "    occurrences as value for each key.\"\"\"\n",
    "\n",
    "    # Initialize an empty dictionary: langs_count\n",
    "    langs_count = {}\n",
    "    \n",
    "    # Extract column from DataFrame: col\n",
    "    col = df[col_name]\n",
    "    \n",
    "    # Iterate over lang column in DataFrame\n",
    "    for entry in col:\n",
    "\n",
    "        # If the language is in langs_count, add 1\n",
    "        if entry in langs_count.keys():\n",
    "            langs_count[entry] += 1\n",
    "        # Else add the language to langs_count, set the value to 1\n",
    "        else:\n",
    "            langs_count[entry] = 1\n",
    "\n",
    "    # Return the langs_count dictionary\n",
    "    return langs_count\n",
    "\n",
    "# Call count_entries(): result\n",
    "result = count_entries(tweets_df, 'lang')\n",
    "\n",
    "# Print the result\n",
    "print(result)"
   ]
  },
  {
   "cell_type": "markdown",
   "id": "sudden-policy",
   "metadata": {},
   "source": [
    "### This week's project:\n",
    "\n",
    "**E.3** Write two functions that work on your dataset (you can use the same dataset you plotted previously or a different one). The first function will do some sort of manipulation (e.g., removing bad data, subsetting) or calculation/analysis, the second will be a plotting function. The idea here is that if you had another datafile that was similar, you could use the functions to do the programming tasks again easily. You will present these to the class next week, similar to how you presented your plots. \n",
    "\n",
    "Add 1-2 slides here: https://lsu.box.com/s/6qz51fijd4sc1ne175w3j7e5lxmk7x0l"
   ]
  },
  {
   "cell_type": "code",
   "execution_count": 3,
   "id": "a598c88d-fa89-4add-bc5d-8a3ffa3df3c2",
   "metadata": {},
   "outputs": [
    {
     "name": "stdout",
     "output_type": "stream",
     "text": [
      "        Landuse Type  Year 2000  Year 2010  Year 2020\n",
      "0  Agricultural Land      23.37      20.95      17.01\n",
      "1        Barren Land       8.65       8.81       9.38\n",
      "2       Buildup Area      14.55      18.03      23.19\n",
      "3         Vegetation      48.86      47.82      44.10\n",
      "4          Waterbody       4.57       4.39       6.32\n"
     ]
    }
   ],
   "source": [
    "import pandas as pd\n",
    "\n",
    "data = { 'Landuse Type': ['Agricultural Land', 'Barren Land', 'Buildup Area', 'Vegetation', 'Waterbody'],\n",
    "    'Year 2000': [23.37, 8.65, 14.55, 48.86, 4.57],\n",
    "    'Year 2010': [20.95, 8.81, 18.03, 47.82, 4.39],\n",
    "    'Year 2020': [17.01, 9.38, 23.19, 44.1, 6.32]}\n",
    "df = pd.DataFrame(data)\n",
    "print(df)"
   ]
  },
  {
   "cell_type": "code",
   "execution_count": 7,
   "id": "1b183139-099e-480e-a59a-6c702037e976",
   "metadata": {},
   "outputs": [
    {
     "name": "stdout",
     "output_type": "stream",
     "text": [
      "        Landuse Type  Year 2000  Year 2010  Year 2020  Change (2000-2020)\n",
      "0  Agricultural Land      23.37      20.95      17.01               -6.36\n",
      "1        Barren Land       8.65       8.81       9.38                0.73\n",
      "2       Buildup Area      14.55      18.03      23.19                8.64\n",
      "3         Vegetation      48.86      47.82      44.10               -4.76\n",
      "4          Waterbody       4.57       4.39       6.32                1.75\n"
     ]
    }
   ],
   "source": [
    "def landuse_change(df):\n",
    "# Checking if the required columns exist in the dataframe\n",
    "    if 'Year 2000' in df.columns and 'Year 2020' in df.columns:\n",
    "        # Perform the calculation\n",
    "        df['Change (2000-2020)'] = df['Year 2020'] - df['Year 2000']\n",
    "    else:\n",
    "        print(\"Error: Required columns ('Year 2000', 'Year 2020') not found in the dataframe.\")\n",
    "    return df\n",
    "    \n",
    "#Calculating the land use change from 2000 to 2020\n",
    "\n",
    "df_with_change = landuse_change(df)\n",
    "print(df_with_change)"
   ]
  },
  {
   "cell_type": "code",
   "execution_count": 15,
   "id": "c1832950-49d4-4b2a-976e-cbd399cf626c",
   "metadata": {},
   "outputs": [
    {
     "data": {
      "image/png": "[encoded data removed]",
      "text/plain": [
       "<Figure size 640x480 with 1 Axes>"
      ]
     },
     "metadata": {},
     "output_type": "display_data"
    }
   ],
   "source": [
    "import matplotlib.pyplot as plt\n",
    "import numpy as np\n",
    "\n",
    "def plot_landuse_type(df):\n",
    "    # Defining a color map\n",
    "    cmap = plt.get_cmap('viridis')  # We can try other colormaps like 'plasma', 'inferno', etc.\n",
    "    landuse_types = df['Landuse Type'].unique()\n",
    "    \n",
    "    # Plotting each land use type as a separate line with markers\n",
    "    for i, landuse in enumerate(landuse_types):\n",
    "        years = ['2000', '2010', '2020']\n",
    "        values = df[df['Landuse Type'] == landuse][['Year 2000', 'Year 2010', 'Year 2020']].values[0]\n",
    "        \n",
    "        # Using the colormap to generate colors\n",
    "        plt.plot(years, values, \n",
    "                 label=landuse, \n",
    "                 marker='o',  \n",
    "                 color=cmap(i / len(landuse_types)),  # Assigning color from colormap\n",
    "                 linewidth=2, \n",
    "                 markersize=8,  \n",
    "                 markeredgecolor='black',  \n",
    "                 markerfacecolor=cmap(i / len(landuse_types))) \n",
    "    \n",
    "    # Adding labels and title\n",
    "    plt.xlabel('Year')\n",
    "    plt.ylabel('Land Use (%)')\n",
    "    plt.title('Land Use Change Over Time')\n",
    "    plt.legend(title='Land Use Type', loc='best')\n",
    "    plt.grid(True)\n",
    "    plt.tight_layout()\n",
    "    plt.show()\n",
    "\n",
    "# calling the function\n",
    "plot_landuse_type(df)\n"
   ]
  },
  {
   "cell_type": "code",
   "execution_count": 9,
   "id": "6c7a067f-2728-4fb5-896b-4bbdac86e862",
   "metadata": {},
   "outputs": [
    {
     "data": {
      "image/png": "[encoded data removed]",
      "text/plain": [
       "<Figure size 1000x600 with 2 Axes>"
      ]
     },
     "metadata": {},
     "output_type": "display_data"
    }
   ],
   "source": [
    "import pandas as pd\n",
    "import seaborn as sns\n",
    "import matplotlib.pyplot as plt\n",
    "\n",
    "# Define the dataset\n",
    "data = { \n",
    "    'Landuse Type': ['Agricultural Land', 'Barren Land', 'Buildup Area', 'Vegetation', 'Waterbody'],\n",
    "    'Year 2000': [23.37, 8.65, 14.55, 48.86, 4.57],\n",
    "    'Year 2010': [20.95, 8.81, 18.03, 47.82, 4.39],\n",
    "    'Year 2020': [17.01, 9.38, 23.19, 44.1, 6.32]\n",
    "}\n",
    "\n",
    "# Converting the dictionary into a DataFrame\n",
    "df = pd.DataFrame(data)\n",
    "\n",
    "# format for heatmap\n",
    "df_melted = df.melt(id_vars='Landuse Type', var_name='Year', value_name='Percentage')\n",
    "\n",
    "# Creating a heatmap\n",
    "plt.figure(figsize=(10, 6))\n",
    "heatmap_data = df_melted.pivot(index='Landuse Type', columns='Year', values='Percentage')\n",
    "sns.heatmap(heatmap_data, annot=True, cmap='coolwarm', fmt=\".2f\", linewidths=.5)\n",
    "\n",
    "# Adding labels and title\n",
    "plt.title('Heatmap of Land Use Distribution Over Years', fontsize=14)\n",
    "plt.xlabel('Year', fontsize=12)\n",
    "plt.ylabel('Land Use Type', fontsize=12)\n",
    "plt.show()"
   ]
  },
  {
   "cell_type": "code",
   "execution_count": null,
   "id": "88ab2784-b3f4-46cb-a8d4-68bf3d34cec9",
   "metadata": {},
   "outputs": [],
   "source": []
  },
  {
   "cell_type": "code",
   "execution_count": null,
   "id": "10ed1027-0225-478d-92ee-d4bbe0ca9df6",
   "metadata": {},
   "outputs": [],
   "source": []
  },
  {
   "cell_type": "code",
   "execution_count": null,
   "id": "6c3b11a1-eabd-4000-9b4c-be01824cfb9c",
   "metadata": {},
   "outputs": [],
   "source": []
  }
 ],
 "metadata": {
  "kernelspec": {
   "display_name": "Python 3 (ipykernel)",
   "language": "python",
   "name": "python3"
  },
  "language_info": {
   "codemirror_mode": {
    "name": "ipython",
    "version": 3
   },
   "file_extension": ".py",
   "mimetype": "text/x-python",
   "name": "python",
   "nbconvert_exporter": "python",
   "pygments_lexer": "ipython3",
   "version": "3.12.4"
  }
 },
 "nbformat": 4,
 "nbformat_minor": 5
}
