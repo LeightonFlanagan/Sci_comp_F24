{
 "cells": [
  {
   "cell_type": "markdown",
   "id": "28467842-6370-44aa-9ed4-65bb2ccfc1ba",
   "metadata": {},
   "source": [
    "Name: Sharmin Siddika"
   ]
  },
  {
   "cell_type": "markdown",
   "id": "221a7fab-786d-414b-8bc8-8a3626aec705",
   "metadata": {},
   "source": [
    "Labpartner(s): Israt Jahan, Fahmida Akhter, Zachary Laird"
   ]
  },
  {
   "cell_type": "code",
   "execution_count": 3,
   "id": "statistical-animal",
   "metadata": {},
   "outputs": [],
   "source": [
    "#import statements go here\n",
    "import matplotlib.pyplot as plt\n",
    "import numpy as np\n",
    "import xarray as xr\n",
    "import cartopy.crs as ccrs   #import map styles/types\n",
    "import cartopy.feature as cfeature  # features such as the ocean, coastlines rivers, etc\n",
    "from cartopy.mpl.gridliner import LONGITUDE_FORMATTER, LATITUDE_FORMATTER"
   ]
  },
  {
   "cell_type": "markdown",
   "id": "appointed-tribute",
   "metadata": {},
   "source": [
    "# Class 8.1"
   ]
  },
  {
   "cell_type": "markdown",
   "id": "834986df-a157-45a3-8679-12e793fe2c47",
   "metadata": {},
   "source": [
    "Today we are presenting movies and Karen will tell us all about how to use AI. The homework is to work on your proposals and/or do some extra datacamp related to your research needs.\n"
   ]
  },
  {
   "cell_type": "markdown",
   "id": "tracked-tradition",
   "metadata": {},
   "source": [
    "**W.1** Write a function that takes a list and returns a new list that contains all the elements of the first list minus all the duplicates."
   ]
  },
  {
   "cell_type": "code",
   "execution_count": 8,
   "id": "6c5822fd-bd01-494a-95d7-e825d33aec23",
   "metadata": {},
   "outputs": [
    {
     "name": "stdout",
     "output_type": "stream",
     "text": [
      "[1, 2, 3, 4, 5, 67, 7, 8, 9, 234, 345]\n"
     ]
    }
   ],
   "source": [
    "def remove_duplicates(lst):\n",
    "    return list(set(lst))  # Ensure 'list' hasn't been redefined\n",
    "\n",
    "# Example usage\n",
    "original_list = [1, 2, 2, 3, 4, 4, 5, 7, 8, 9, 234, 345, 67,8]\n",
    "new_list = remove_duplicates(original_list)\n",
    "print(new_list)"
   ]
  },
  {
   "cell_type": "code",
   "execution_count": 10,
   "id": "b2d354e2-85c8-4489-bd61-7c18d4ce5cb6",
   "metadata": {},
   "outputs": [
    {
     "name": "stdout",
     "output_type": "stream",
     "text": [
      "[1, 2, 3, 4, 5]\n"
     ]
    }
   ],
   "source": [
    "def remove_duplicates(lst):\n",
    "    # Use a list to maintain the original order\n",
    "    seen = set()\n",
    "    new_list = []\n",
    "    for item in lst:\n",
    "        if item not in seen:\n",
    "            new_list.append(item)\n",
    "            seen.add(item)\n",
    "    return new_list\n",
    "\n",
    "# Example usage\n",
    "original_list = [1, 2, 2, 3, 4, 4, 5]\n",
    "new_list = remove_duplicates(original_list)\n",
    "print(new_list)  # Output will be [1, 2, 3, 4, 5] "
   ]
  },
  {
   "cell_type": "markdown",
   "id": "needed-irish",
   "metadata": {},
   "source": [
    "# Lecture 8.1\n",
    "\n",
    "### Agenda:\n",
    "\n",
    "- Questions\n",
    "- Show us your movies\n",
    "- Effective use of AI in programming and writing (Karen)"
   ]
  },
  {
   "cell_type": "markdown",
   "id": "crucial-hobby",
   "metadata": {},
   "source": [
    "### Questions"
   ]
  },
  {
   "cell_type": "markdown",
   "id": "be69581e-ee02-4aa7-a18e-74c2d61cc1c7",
   "metadata": {},
   "source": []
  },
  {
   "cell_type": "markdown",
   "id": "working-lottery",
   "metadata": {},
   "source": [
    "# Lab 8.1"
   ]
  },
  {
   "cell_type": "markdown",
   "id": "42ba70db-1894-44eb-9688-5380d60b34f6",
   "metadata": {},
   "source": [
    "**E.0** Complete the previous labs if you are behind."
   ]
  },
  {
   "cell_type": "markdown",
   "id": "b8844a2d-3c03-4bc1-894a-698d4f452f60",
   "metadata": {},
   "source": [
    "Completed"
   ]
  },
  {
   "cell_type": "markdown",
   "id": "ordinary-variable",
   "metadata": {},
   "source": [
    "**E.1** Work on your research proposal and/or do an optional course in datacamp that would be useful for your research"
   ]
  },
  {
   "cell_type": "markdown",
   "id": "1440a639-7082-4489-8b2b-047caebcfaf6",
   "metadata": {},
   "source": [
    "Currently enrolled in Introduction to Data Visualization with Seaborn"
   ]
  },
  {
   "cell_type": "markdown",
   "id": "computational-child",
   "metadata": {},
   "source": [
    "**E.2** Make notes for yourself on progamming tecniques and commands you learned in the this week, including examples, comments and explainitory text. You can do this here or in a separate notebook that you link to here. Basically, you are making a cheat sheet for yourself."
   ]
  },
  {
   "cell_type": "code",
   "execution_count": 41,
   "id": "f5aebce4-25b3-4926-9224-922e519563c3",
   "metadata": {},
   "outputs": [
    {
     "name": "stdout",
     "output_type": "stream",
     "text": [
      "  Unnamed: 0               How old are you?\n",
      "0     Marion                             12\n",
      "1      Elroy                             16\n",
      "2        NaN  What is your favorite animal?\n",
      "3     Marion                            dog\n",
      "4      Elroy                            cat\n"
     ]
    }
   ],
   "source": [
    "import pandas as pd\n",
    "\n",
    "# Specify the path to your CSV file\n",
    "csv_filepath = r\"C:\\Users\\anany\\Downloads\\1ST SEMESTER\\OCS 4001 PROF CHERYL HARRISON\\LAB SUBMISSIONS\\8.1\\survey_data.csv\"\n",
    "# Read the CSV file into a DataFrame\n",
    "df = pd.read_csv(csv_filepath)\n",
    "\n",
    "# Now you can work with the DataFrame, for example:\n",
    "print(df.head())  # This will display the first 5 rows of the DataFrame\n"
   ]
  },
  {
   "cell_type": "code",
   "execution_count": null,
   "id": "ccf5d0d3-7240-4748-8c75-6e86a361f7c4",
   "metadata": {},
   "outputs": [],
   "source": [
    "# Make the shaded area show the standard deviation\n",
    "sns.relplot(x=\"model_year\", y=\"mpg\",\n",
    "            data=mpg, kind=\"line\")\n",
    "\n",
    "# Show plot\n",
    "plt.show()"
   ]
  },
  {
   "cell_type": "code",
   "execution_count": null,
   "id": "967913f6-68bf-4417-9d75-a2b752aa30b7",
   "metadata": {},
   "outputs": [],
   "source": [
    "# Import Matplotlib, pandas, and Seaborn\n",
    "import matplotlib.pyplot as plt\n",
    "import pandas as pd\n",
    "import seaborn as sns\n",
    "\n",
    "\n",
    "# Create a DataFrame from csv file\n",
    "df = pd.read_csv(csv_filepath)\n",
    "\n",
    "# Create a count plot with \"Spiders\" on the x-axis\n",
    "sns.countplot(x=\"Spiders\", data=df)\n",
    "\n",
    "# Display the plot\n",
    "plt.show()"
   ]
  },
  {
   "cell_type": "code",
   "execution_count": null,
   "id": "32a9619e-e636-4948-86e5-e1a32dd3c440",
   "metadata": {},
   "outputs": [],
   "source": [
    "# Import Matplotlib and Seaborn\n",
    "import matplotlib.pyplot as plt\n",
    "import seaborn as sns\n",
    "\n",
    "# Create a scatter plot of absences vs. final grade\n",
    "sns.scatterplot(x=\"absences\", y=\"G3\", \n",
    "                data=student_data, \n",
    "                hue=\"location\")\n",
    "\n",
    "# Show plot\n",
    "plt.show()"
   ]
  },
  {
   "cell_type": "code",
   "execution_count": null,
   "id": "91b2c20d-b234-4f30-b43d-61a92a99dde3",
   "metadata": {},
   "outputs": [],
   "source": [
    "# Import Matplotlib and Seaborn\n",
    "import matplotlib.pyplot as plt\n",
    "import seaborn as sns\n",
    "\n",
    "# Create a dictionary mapping subgroup values to colors\n",
    "palette_colors = {\"Rural\": \"green\", \"Urban\": \"blue\"}\n",
    "\n",
    "\n",
    "\n",
    "# Create a count plot of school with location subgroups\n",
    "sns.countplot(x=\"school\", data=student_data,\n",
    "              hue=\"location\",\n",
    "              palette=palette_colors)\n",
    "\n",
    "\n",
    "# Display plot\n",
    "plt.show()"
   ]
  },
  {
   "cell_type": "code",
   "execution_count": null,
   "id": "416679c5-6e6e-47a9-a2b7-faa23e6fccbc",
   "metadata": {},
   "outputs": [],
   "source": [
    "# Import matplotlib.pyplot with alias plt\n",
    "import matplotlib.pyplot as plt\n",
    "\n",
    "# Get the total number of avocados sold on each date\n",
    "nb_sold_by_date = avocados.groupby(\"date\")[\"nb_sold\"].sum()\n",
    "\n",
    "# Create a line plot of the number of avocados sold by date\n",
    "nb_sold_by_date.plot(kind=\"line\")\n",
    "\n",
    "\n",
    "# Show the plot\n",
    "plt.show()"
   ]
  },
  {
   "cell_type": "code",
   "execution_count": null,
   "id": "6737db27-9c50-4e2b-85e7-87fc098f8684",
   "metadata": {},
   "outputs": [],
   "source": [
    "# Histogram of conventional avg_price \n",
    "avocados[avocados[\"type\"] == \"conventional\"][\"avg_price\"].hist()\n",
    "\n",
    "# Histogram of organic avg_price\n",
    "avocados[avocados[\"type\"] == \"organic\"][\"avg_price\"].hist()\n",
    "\n",
    "# Add a legend\n",
    "plt.legend([\"conventional\", \"organic\"])\n",
    "\n",
    "# Show the plot\n",
    "plt.show()"
   ]
  },
  {
   "cell_type": "code",
   "execution_count": null,
   "id": "9abcd51c-bd1c-4b98-a8d3-479981f0b272",
   "metadata": {},
   "outputs": [],
   "source": [
    "# Import matplotlib.pyplot with alias plt\n",
    "import matplotlib.pyplot as plt\n",
    "\n",
    "# Check individual values for missing values\n",
    "print(avocados_2016.isna())\n",
    "\n",
    "# Check each column for missing values\n",
    "print(avocados_2016.isna().any())\n",
    "\n",
    "# Bar plot of missing values by variable\n",
    "avocados_2016.isna().sum().plot(kind=\"bar\")\n",
    "\n",
    "# Show plot\n",
    "plt.show()"
   ]
  },
  {
   "cell_type": "code",
   "execution_count": null,
   "id": "a0882e1f-4c5a-4a0e-abc4-0aac9125ec88",
   "metadata": {},
   "outputs": [],
   "source": [
    "# Create a list of dictionaries with new data\n",
    "avocados_list = [\n",
    "    {\"date\": \"2019-11-03\", \"small_sold\": 10376832, \"large_sold\": 7835071},\n",
    "    {\"date\": \"2019-11-10\", \"small_sold\": 10717154, \"large_sold\": 8561348},\n",
    "]\n",
    "\n",
    "# Convert list into DataFrame\n",
    "avocados_2019 = pd.DataFrame(avocados_list)\n",
    "\n",
    "# Print the new DataFrame\n",
    "print(avocados_2019)"
   ]
  },
  {
   "cell_type": "code",
   "execution_count": null,
   "id": "db6f64bc-7d75-41c7-816a-586d974420f6",
   "metadata": {},
   "outputs": [],
   "source": [
    "# Create a dictionary of lists with new data\n",
    "avocados_dict = {\n",
    "  \"date\": [\"2019-11-17\", \"2019-12-01\"],\n",
    "  \"small_sold\": [10859987, 9291631],\n",
    "  \"large_sold\": [7674135, 6238096]\n",
    "}\n",
    "\n",
    "# Convert dictionary into DataFrame\n",
    "avocados_2019 = pd.DataFrame(avocados_dict)\n",
    "\n",
    "# Print the new DataFrame\n",
    "print(avocados_2019)"
   ]
  },
  {
   "cell_type": "code",
   "execution_count": null,
   "id": "7394eadf-d5ad-492b-abb2-4467cf625e6d",
   "metadata": {},
   "outputs": [],
   "source": [
    "import pandas as pd\n",
    "\n",
    "# Read CSV as DataFrame called airline_bumping\n",
    "airline_bumping = pd.read_csv(\"airline_bumping.csv\")\n",
    "\n",
    "# Take a look at the DataFrame\n",
    "print(airline_bumping.head())"
   ]
  },
  {
   "cell_type": "code",
   "execution_count": null,
   "id": "0a9eea5b-c769-4070-bc8c-8da0e61120db",
   "metadata": {},
   "outputs": [],
   "source": []
  },
  {
   "cell_type": "code",
   "execution_count": null,
   "id": "95dbba77-4ae9-49b0-b6a3-f7bd7abb73e7",
   "metadata": {},
   "outputs": [],
   "source": []
  }
 ],
 "metadata": {
  "kernelspec": {
   "display_name": "Python 3 (ipykernel)",
   "language": "python",
   "name": "python3"
  },
  "language_info": {
   "codemirror_mode": {
    "name": "ipython",
    "version": 3
   },
   "file_extension": ".py",
   "mimetype": "text/x-python",
   "name": "python",
   "nbconvert_exporter": "python",
   "pygments_lexer": "ipython3",
   "version": "3.12.4"
  }
 },
 "nbformat": 4,
 "nbformat_minor": 5
}
