{
 "cells": [
  {
   "cell_type": "markdown",
   "id": "3fde55a7-4854-4bd9-98fa-94746606b00a",
   "metadata": {
    "panel-layout": {
     "height": 51.12215805053711,
     "visible": true,
     "width": 100
    }
   },
   "source": [
    "Name: Sharmin Siddika"
   ]
  },
  {
   "cell_type": "markdown",
   "id": "e53095d8-a391-4bf0-a93c-4ef246542347",
   "metadata": {
    "panel-layout": {
     "height": 51.12215805053711,
     "visible": true,
     "width": 100
    }
   },
   "source": [
    "Labpartner(s): Mariam Valladares, Sarah Brannum\n"
   ]
  },
  {
   "cell_type": "code",
   "execution_count": 1,
   "id": "statistical-animal",
   "metadata": {},
   "outputs": [],
   "source": [
    "#import statements go here\n",
    "import matplotlib.pyplot as plt\n",
    "import numpy as np\n",
    "import xarray as xr\n",
    "import cartopy.crs as ccrs   #import map styles/types\n",
    "import cartopy.feature as cfeature  # features such as the ocean, coastlines rivers, etc\n",
    "from cartopy.mpl.gridliner import LONGITUDE_FORMATTER, LATITUDE_FORMATTER"
   ]
  },
  {
   "cell_type": "markdown",
   "id": "appointed-tribute",
   "metadata": {
    "panel-layout": {
     "height": 60.596588134765625,
     "visible": true,
     "width": 100
    }
   },
   "source": [
    "# Class 9.1"
   ]
  },
  {
   "cell_type": "markdown",
   "id": "834986df-a157-45a3-8679-12e793fe2c47",
   "metadata": {
    "panel-layout": {
     "height": 97.40056610107422,
     "visible": true,
     "width": 100
    }
   },
   "source": [
    "You all will finish presenting your movies from Lab 7.2. \n",
    "\n",
    "Then the lecture will cover zotero and LaTeX. For the lab you will integrate zotero into word, google docs and create a CV in LaTeX using a template.\n",
    "\n",
    "Reminder your final project proposal is due Monday by 5 PM (note new due date). On Tuesday you will pitch your final project proposal to the class\n",
    "\n"
   ]
  },
  {
   "cell_type": "markdown",
   "id": "tracked-tradition",
   "metadata": {
    "panel-layout": {
     "height": 260.21307373046875,
     "visible": true,
     "width": 100
    }
   },
   "source": [
    "**W.1** Write a Python program that iterates the integers from 1 to 50. For multiples of three print \"Fizz\" instead of the number and for multiples of five print \"Buzz\". For numbers that are multiples of three and five, print \"FizzBuzz\".\n",
    "\n",
    "Sample Output :\n",
    "\n",
    "1\n",
    "\n",
    "2\n",
    "\n",
    "fizz\n",
    "\n",
    "4\n",
    "\n",
    "buzz"
   ]
  },
  {
   "cell_type": "code",
   "execution_count": 5,
   "id": "champion-rouge",
   "metadata": {},
   "outputs": [
    {
     "name": "stdout",
     "output_type": "stream",
     "text": [
      "1\n",
      "2\n",
      "Fizz\n",
      "4\n",
      "Buzz\n",
      "Fizz\n",
      "7\n",
      "8\n",
      "Fizz\n",
      "Buzz\n",
      "11\n",
      "Fizz\n",
      "13\n",
      "14\n",
      "FizzBuzz\n",
      "16\n",
      "17\n",
      "Fizz\n",
      "19\n",
      "Buzz\n",
      "Fizz\n",
      "22\n",
      "23\n",
      "Fizz\n",
      "Buzz\n",
      "26\n",
      "Fizz\n",
      "28\n",
      "29\n",
      "FizzBuzz\n",
      "31\n",
      "32\n",
      "Fizz\n",
      "34\n",
      "Buzz\n",
      "Fizz\n",
      "37\n",
      "38\n",
      "Fizz\n",
      "Buzz\n",
      "41\n",
      "Fizz\n",
      "43\n",
      "44\n",
      "FizzBuzz\n",
      "46\n",
      "47\n",
      "Fizz\n",
      "49\n",
      "Buzz\n"
     ]
    }
   ],
   "source": [
    "for num in range(1, 51):\n",
    "    if num % 3 == 0 and num % 5 == 0:\n",
    "        print(\"FizzBuzz\")\n",
    "    elif num % 3 == 0:\n",
    "        print(\"Fizz\")\n",
    "    elif num % 5 == 0:\n",
    "        print(\"Buzz\")\n",
    "    else:\n",
    "        print(num)"
   ]
  },
  {
   "cell_type": "code",
   "execution_count": 8,
   "id": "fc990b3e-de5a-4b6f-9943-18eade3e76ed",
   "metadata": {},
   "outputs": [
    {
     "name": "stdout",
     "output_type": "stream",
     "text": [
      "1\n",
      "2\n",
      "Fizz\n",
      "4\n",
      "Buzz\n",
      "Fizz\n",
      "7\n",
      "8\n",
      "Fizz\n",
      "Buzz\n",
      "11\n",
      "Fizz\n",
      "13\n",
      "14\n",
      "Buzz\n",
      "16\n",
      "17\n",
      "Fizz\n",
      "19\n",
      "Buzz\n",
      "Fizz\n",
      "22\n",
      "23\n",
      "Fizz\n",
      "Buzz\n",
      "26\n",
      "Fizz\n",
      "28\n",
      "29\n",
      "Buzz\n",
      "31\n",
      "32\n",
      "Fizz\n",
      "34\n",
      "Buzz\n",
      "Fizz\n",
      "37\n",
      "38\n",
      "Fizz\n",
      "Buzz\n",
      "41\n",
      "Fizz\n",
      "43\n",
      "44\n",
      "Buzz\n",
      "46\n",
      "47\n",
      "Fizz\n",
      "49\n",
      "Buzz\n"
     ]
    }
   ],
   "source": [
    "for num in range(1, 51):\n",
    "    output = \"\"\n",
    "    \n",
    "    if num % 3 == 0:\n",
    "        output = \"Fizz\"\n",
    "    \n",
    "    if num % 5 == 0:\n",
    "        output = \"Buzz\"\n",
    "    \n",
    "    if output == \"\":\n",
    "        print(num)\n",
    "    else:\n",
    "        print(output)"
   ]
  },
  {
   "cell_type": "code",
   "execution_count": null,
   "id": "ee06c41c-7d9b-4dee-a6a2-3f44ecef7b84",
   "metadata": {},
   "outputs": [],
   "source": []
  },
  {
   "cell_type": "markdown",
   "id": "needed-irish",
   "metadata": {
    "panel-layout": {
     "height": 156.05113220214844,
     "visible": true,
     "width": 100
    }
   },
   "source": [
    "# Lecture 9.1\n",
    "\n",
    "### Agenda:\n",
    "\n",
    "- Questions\n",
    "- Show us your movies\n",
    "- Intro to LaTeX and Zotero"
   ]
  },
  {
   "cell_type": "markdown",
   "id": "crucial-hobby",
   "metadata": {
    "panel-layout": {
     "height": 44.07670211791992,
     "visible": true,
     "width": 100
    }
   },
   "source": [
    "### Questions"
   ]
  },
  {
   "cell_type": "markdown",
   "id": "be69581e-ee02-4aa7-a18e-74c2d61cc1c7",
   "metadata": {
    "panel-layout": {
     "height": 10,
     "visible": true,
     "width": 100
    }
   },
   "source": []
  },
  {
   "cell_type": "markdown",
   "id": "working-lottery",
   "metadata": {
    "panel-layout": {
     "height": 60.596588134765625,
     "visible": true,
     "width": 100
    }
   },
   "source": [
    "# Lab 9.1"
   ]
  },
  {
   "cell_type": "markdown",
   "id": "42ba70db-1894-44eb-9688-5380d60b34f6",
   "metadata": {
    "panel-layout": {
     "height": 51.12215805053711,
     "visible": true,
     "width": 100
    }
   },
   "source": [
    "**E.0** Complete the previous labs if you are behind."
   ]
  },
  {
   "cell_type": "markdown",
   "id": "486b2c3c-8aba-40c1-8a16-769ba3fad728",
   "metadata": {},
   "source": [
    "**Completed**"
   ]
  },
  {
   "cell_type": "markdown",
   "id": "6254f746-973e-4ebe-ad02-f81c98a1d7c6",
   "metadata": {
    "panel-layout": {
     "height": 114.54544830322266,
     "visible": true,
     "width": 100
    }
   },
   "source": [
    "**E.1** Complete the tutorial \"Learn LaTeX in 30 min\" here: https://www.overleaf.com/learn/latex/Learn_LaTeX_in_30_minutes\n",
    "\n",
    "Make a sample document in LaTeX showing what you learned and submit the PDF along with your lab in Moodle.\n"
   ]
  },
  {
   "cell_type": "markdown",
   "id": "ordinary-variable",
   "metadata": {
    "panel-layout": {
     "height": 148.83522033691406,
     "visible": true,
     "width": 100
    }
   },
   "source": [
    "**E.2** Install Zotero and the plugins for your web browser (Chrome or Firefox suggested), Word, and Google docs. Use Zotero to grab a 2-3 citations from the web (e.g., from a scientific journal article web page), then cite them in both Word and Google docs in a sentance or two, then add a Bibliography using zotero.\n",
    "\n",
    "In Moodle, turn in your word document, a screenshot of your google doc, and a screenshot of your zotero library."
   ]
  },
  {
   "cell_type": "markdown",
   "id": "7fa18b84-5770-424f-b9a2-7314545cd38a",
   "metadata": {},
   "source": [
    "**google doc link** = \"https://docs.google.com/document/d/1Ydi1P09YeQnMY_-SS0JZvAb9OEnhaoCqn4trMrZ_2xI/edit?usp=sharing\""
   ]
  },
  {
   "cell_type": "code",
   "execution_count": null,
   "id": "9ea38d4f-d956-4d32-8277-7e8685754af2",
   "metadata": {},
   "outputs": [],
   "source": []
  },
  {
   "cell_type": "markdown",
   "id": "f8909a65-8319-4676-8478-c7e691e05403",
   "metadata": {
    "panel-layout": {
     "height": 68.26704406738281,
     "visible": true,
     "width": 100
    }
   },
   "source": [
    "**E.3** Using a CV template in Overleaf, make an academic CV for yourself. Put the PDF of your CV on github and link in Moodle"
   ]
  },
  {
   "cell_type": "markdown",
   "id": "d6a10eca-94e2-44d9-aa52-17daba04338d",
   "metadata": {},
   "source": [
    "**Completed**"
   ]
  },
  {
   "cell_type": "markdown",
   "id": "fff227cb-6c67-4666-825c-73b39feaa02f",
   "metadata": {
    "panel-layout": {
     "height": 102.55681610107422,
     "visible": true,
     "width": 100
    }
   },
   "source": [
    "**E.4** Ask your supervisor for a proposal sample. This could be a proposal another student in your lab has written, or a proposal your PI has written. Use this to inform your proposal writing style. If it's okay with your PI to share, upload it onto github to share with others in the class and submit a link. If it's not for sharing, upload a copy to Moodle."
   ]
  },
  {
   "cell_type": "markdown",
   "id": "a9c63e78-4dbb-4649-a928-57aed6a35d0a",
   "metadata": {},
   "source": [
    "**Uploaded**"
   ]
  },
  {
   "cell_type": "markdown",
   "id": "36b09aeb-22b0-4a9c-a95b-f4940e362a18",
   "metadata": {
    "panel-layout": {
     "height": 102.55681610107422,
     "visible": true,
     "width": 100
    }
   },
   "source": [
    "**B.1** Bonus! Integrate zotero and overleaf. Note to have the zotero plugin for overleaf you have to pay them. However, you can export a .bib style bibliography for LaTeX and load it into overleaf. If you are extra, go for it! Submit a pdf of your LaTeX document with citations and bibliography, and a screenshot of your .bib file"
   ]
  },
  {
   "cell_type": "markdown",
   "id": "computational-child",
   "metadata": {
    "panel-layout": {
     "height": 85.41192626953125,
     "visible": true,
     "width": 100
    }
   },
   "source": [
    "**Notes** Make notes for yourself on progamming tecniques and commands you learned in the this week, including examples, comments and explainitory text. You can do this here or in a separate notebook that you link to here. Basically, you are making a cheat sheet for yourself."
   ]
  },
  {
   "cell_type": "code",
   "execution_count": null,
   "id": "consecutive-bowling",
   "metadata": {},
   "outputs": [],
   "source": [
    "# Use the 'col' parameter to create subplots for each level of 'study_time'\n",
    "sns.relplot(x=\"absences\", y=\"G3\", \n",
    "            data=student_data,\n",
    "            kind=\"scatter\",\n",
    "            col=\"study_time\")\n",
    "\n",
    "# Show plot\n",
    "plt.show()"
   ]
  },
  {
   "cell_type": "code",
   "execution_count": null,
   "id": "638448e8-bd75-450a-86b1-6341570ca00a",
   "metadata": {},
   "outputs": [],
   "source": [
    "# Change this scatter plot to arrange the plots in rows instead of columns\n",
    "sns.relplot(x=\"absences\", y=\"G3\", \n",
    "            data=student_data,\n",
    "            kind=\"scatter\", \n",
    "            row=\"study_time\")\n",
    "\n",
    "# Show plot\n",
    "plt.show()"
   ]
  },
  {
   "cell_type": "code",
   "execution_count": 34,
   "id": "eef7e45a-d476-408b-9b79-c0908cb317b4",
   "metadata": {},
   "outputs": [
    {
     "name": "stdout",
     "output_type": "stream",
     "text": [
      "  school sex  age famsize Pstatus  G1  G2  G3 location     study_time\n",
      "0     GP   F   18     GT3       A   5   6   6    Urban   2 to 5 hours\n",
      "1     GP   F   17     GT3       T   5   5   6    Urban   2 to 5 hours\n",
      "2     GP   F   15     LE3       T   7   8  10    Urban   2 to 5 hours\n",
      "3     GP   F   15     GT3       T  15  14  15    Urban  5 to 10 hours\n",
      "4     GP   F   16     GT3       T   6  10  10    Urban   2 to 5 hours\n"
     ]
    }
   ],
   "source": [
    "import pandas as pd\n",
    "import seaborn as sns\n",
    "# Create a DataFrame using the provided data\n",
    "data = {\n",
    "    'school': ['GP', 'GP', 'GP', 'GP', 'GP'],\n",
    "    'sex': ['F', 'F', 'F', 'F', 'F'],\n",
    "    'age': [18, 17, 15, 15, 16],\n",
    "    'famsize': ['GT3', 'GT3', 'LE3', 'GT3', 'GT3'],\n",
    "    'Pstatus': ['A', 'T', 'T', 'T', 'T'],\n",
    "    'G1': [5, 5, 7, 15, 6],\n",
    "    'G2': [6, 5, 8, 14, 10],\n",
    "    'G3': [6, 6, 10, 15, 10],\n",
    "    'location': ['Urban', 'Urban', 'Urban', 'Urban', 'Urban'],\n",
    "    'study_time': ['2 to 5 hours', '2 to 5 hours', '2 to 5 hours', '5 to 10 hours', '2 to 5 hours']\n",
    "}\n",
    "\n",
    "# Create the DataFrame\n",
    "student_data = pd.DataFrame(data)\n",
    "\n",
    "# Display the DataFrame\n",
    "print(student_data)\n"
   ]
  },
  {
   "cell_type": "code",
   "execution_count": 44,
   "id": "6d261be0-5768-41d9-aa47-eb3e32db977a",
   "metadata": {},
   "outputs": [
    {
     "name": "stdout",
     "output_type": "stream",
     "text": [
      "  school sex  age famsize Pstatus  G1  G2  G3 location     study_time  \\\n",
      "0     GP   F   18     GT3       A   5   6   6    Urban   2 to 5 hours   \n",
      "1     GP   F   17     GT3       T   5   5   6    Urban   2 to 5 hours   \n",
      "2     GP   F   15     LE3       T   7   8  10    Urban   2 to 5 hours   \n",
      "3     GP   F   15     GT3       T  15  14  15    Urban  5 to 10 hours   \n",
      "4     GP   F   16     GT3       T   6  10  10    Urban   2 to 5 hours   \n",
      "\n",
      "  schoolsup  \n",
      "0       yes  \n",
      "1        no  \n",
      "2       yes  \n",
      "3        no  \n",
      "4       yes  \n"
     ]
    },
    {
     "data": {
      "image/png": "[encoded data removed]",
      "text/plain": [
       "<Figure size 1000x500 with 2 Axes>"
      ]
     },
     "metadata": {},
     "output_type": "display_data"
    }
   ],
   "source": [
    "import seaborn as sns\n",
    "import matplotlib.pyplot as plt\n",
    "\n",
    "print(student_data.head())\n",
    "# Adjust to add subplots based on school support\n",
    "sns.relplot(x=\"G1\", y=\"G3\", \n",
    "            data=student_data,\n",
    "            kind=\"scatter\", \n",
    "            col=\"schoolsup\",\n",
    "            col_order=[\"yes\", \"no\"])\n",
    "\n",
    "# Show plot\n",
    "plt.show()\n"
   ]
  },
  {
   "cell_type": "code",
   "execution_count": null,
   "id": "422aae3b-d117-4cbc-b8c5-342846110f08",
   "metadata": {},
   "outputs": [],
   "source": [
    "import seaborn as sns\n",
    "import matplotlib.pyplot as plt# Adjust further to add subplots based on family support\n",
    "sns.relplot(x=\"G1\", y=\"G3\", \n",
    "            data=student_data,\n",
    "            kind=\"scatter\", \n",
    "            col=\"schoolsup\",\n",
    "            col_order=[\"yes\", \"no\"],\n",
    "            row=\"famsup\",\n",
    "            row_order=[\"yes\", \"no\"])\n",
    "\n",
    "# Show plot\n",
    "plt.show()"
   ]
  },
  {
   "cell_type": "code",
   "execution_count": null,
   "id": "d25592aa-020a-48f9-a32f-8f526338659f",
   "metadata": {},
   "outputs": [],
   "source": [
    "# Import Matplotlib and Seaborn\n",
    "import matplotlib.pyplot as plt\n",
    "import seaborn as sns\n",
    "print(mpg['horsepower'].head())\n",
    "print(mpg['cylinders'].head())\n",
    "\n",
    "# Create scatter plot of horsepower vs. mpg\n",
    "sns.relplot(x=\"horsepower\", y=\"mpg\", \n",
    "            data=mpg, kind=\"scatter\", \n",
    "            size=\"cylinders\")\n",
    "\n",
    "\n",
    "# Show plot\n",
    "plt.show()"
   ]
  },
  {
   "cell_type": "code",
   "execution_count": null,
   "id": "9ea897fd-541b-4aa3-baaa-4a4ea3e94d67",
   "metadata": {},
   "outputs": [],
   "source": [
    "# Import Matplotlib and Seaborn\n",
    "import matplotlib.pyplot as plt\n",
    "import seaborn as sns\n",
    "\n",
    "# Create scatter plot of horsepower vs. mpg\n",
    "sns.relplot(x=\"horsepower\", y=\"mpg\", \n",
    "            data=mpg, kind=\"scatter\", \n",
    "            hue=\"cylinders\")  # Use hue to vary color by cylinders\n",
    "\n",
    "# Show plot\n",
    "plt.show()"
   ]
  },
  {
   "cell_type": "code",
   "execution_count": null,
   "id": "ba89b5d0-d527-473a-b9fd-311e39db0223",
   "metadata": {},
   "outputs": [],
   "source": [
    "# Import Matplotlib and Seaborn\n",
    "import matplotlib.pyplot as plt\n",
    "import seaborn as sns\n",
    "\n",
    "# Change to create subgroups for country of origin\n",
    "sns.relplot(x=\"model_year\", y=\"horsepower\", \n",
    "            data=mpg, kind=\"line\", \n",
    "            ci=None)\n",
    "\n",
    "# Show plot\n",
    "plt.show()"
   ]
  },
  {
   "cell_type": "code",
   "execution_count": null,
   "id": "9de2d05e-95ec-47a0-ad71-e18e26968b5a",
   "metadata": {},
   "outputs": [],
   "source": [
    "# Import Matplotlib and Seaborn\n",
    "import matplotlib.pyplot as plt\n",
    "import seaborn as sns\n",
    "\n",
    "# Add markers and make each line have the same style\n",
    "sns.relplot(x=\"model_year\", y=\"horsepower\", \n",
    "            data=mpg, kind=\"line\", \n",
    "            ci=None, style=\"origin\", \n",
    "            hue=\"origin\", markers=True,\n",
    "            dashes=False)\n",
    "\n",
    "# Show plot\n",
    "plt.show()"
   ]
  },
  {
   "cell_type": "code",
   "execution_count": null,
   "id": "291e4b1b-a21d-4b52-afba-e8e6fc610925",
   "metadata": {},
   "outputs": [],
   "source": []
  },
  {
   "cell_type": "code",
   "execution_count": null,
   "id": "8ea29d5d-fc36-4488-893f-fcca889b43ff",
   "metadata": {},
   "outputs": [],
   "source": []
  }
 ],
 "metadata": {
  "kernelspec": {
   "display_name": "Python 3 (ipykernel)",
   "language": "python",
   "name": "python3"
  },
  "language_info": {
   "codemirror_mode": {
    "name": "ipython",
    "version": 3
   },
   "file_extension": ".py",
   "mimetype": "text/x-python",
   "name": "python",
   "nbconvert_exporter": "python",
   "pygments_lexer": "ipython3",
   "version": "3.12.4"
  },
  "panel-cell-order": [
   "cooked-impact",
   "crazy-drunk",
   "appointed-tribute",
   "834986df-a157-45a3-8679-12e793fe2c47",
   "tracked-tradition",
   "needed-irish",
   "crucial-hobby",
   "be69581e-ee02-4aa7-a18e-74c2d61cc1c7",
   "working-lottery",
   "42ba70db-1894-44eb-9688-5380d60b34f6",
   "6254f746-973e-4ebe-ad02-f81c98a1d7c6",
   "ordinary-variable",
   "f8909a65-8319-4676-8478-c7e691e05403",
   "fff227cb-6c67-4666-825c-73b39feaa02f",
   "36b09aeb-22b0-4a9c-a95b-f4940e362a18",
   "computational-child"
  ]
 },
 "nbformat": 4,
 "nbformat_minor": 5
}
