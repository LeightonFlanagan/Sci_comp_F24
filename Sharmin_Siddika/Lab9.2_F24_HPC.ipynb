{
 "cells": [
  {
   "cell_type": "markdown",
   "id": "c8308445",
   "metadata": {
    "panel-layout": {
     "height": 51.12215805053711,
     "visible": true,
     "width": 100
    }
   },
   "source": [
    "Name: Sharmin Siddika"
   ]
  },
  {
   "cell_type": "markdown",
   "id": "9be8ee87",
   "metadata": {
    "panel-layout": {
     "height": 51.12215805053711,
     "visible": true,
     "width": 100
    }
   },
   "source": [
    "Labpartner(s): Mariam Valladares"
   ]
  },
  {
   "cell_type": "code",
   "execution_count": 1,
   "id": "statistical-animal",
   "metadata": {},
   "outputs": [],
   "source": [
    "#import statements go here\n",
    "#import statements go here\n",
    "#import statements go here\n",
    "import matplotlib.pyplot as plt\n",
    "import numpy as np\n",
    "import xarray as xr"
   ]
  },
  {
   "cell_type": "code",
   "execution_count": 2,
   "id": "37af7c65",
   "metadata": {},
   "outputs": [],
   "source": [
    "import cartopy.crs as ccrs   #import map styles/types\n",
    "import cartopy.feature as cfeature  # features such as the ocean, coastlines rivers, etc\n",
    "from cartopy.mpl.gridliner import LONGITUDE_FORMATTER, LATITUDE_FORMATTER"
   ]
  },
  {
   "cell_type": "markdown",
   "id": "appointed-tribute",
   "metadata": {
    "panel-layout": {
     "height": 60.596588134765625,
     "visible": true,
     "width": 100
    }
   },
   "source": [
    "# Class 9.2"
   ]
  },
  {
   "cell_type": "markdown",
   "id": "834986df-a157-45a3-8679-12e793fe2c47",
   "metadata": {
    "panel-layout": {
     "height": 97.40056610107422,
     "visible": true,
     "width": 100
    }
   },
   "source": [
    "You all will finish presenting your movies from Lab 7.2. \n",
    "\n",
    "Today Victoria Garza will give an overview and demo of the LSU HPC system\n",
    "\n",
    "Reminder your final project proposal is due Monday by 5 PM (note new due date). On Tuesday you will pitch your final project proposal to the class in a short (5 min talk).\n"
   ]
  },
  {
   "cell_type": "markdown",
   "id": "bbdf9630-73a5-4a8d-98c2-45c5ef81a0f0",
   "metadata": {},
   "source": [
    "# Warmup 9.2"
   ]
  },
  {
   "cell_type": "markdown",
   "id": "tracked-tradition",
   "metadata": {
    "panel-layout": {
     "height": 260.21307373046875,
     "visible": true,
     "width": 100
    }
   },
   "source": [
    "**W.1** Create the following numpy array. Print out the values to check!\n",
    "\n",
    "[[0. 0. 0. 0. 0. 0. 0.]\n",
    "\n",
    "[0. 1. 1. 1. 1. 1. 0.]\n",
    "\n",
    "[0. 1. 1. 1. 1. 1. 0.]\n",
    "\n",
    "[0. 1. 1. 5. 1. 1. 0.]\n",
    "\n",
    "[0. 1. 1. 1. 1. 1. 0.]\n",
    "\n",
    "[0. 1. 1. 1. 1. 1. 0.]\n",
    "\n",
    "[0. 0. 0. 0. 0. 0. 0.]]"
   ]
  },
  {
   "cell_type": "code",
   "execution_count": 3,
   "id": "champion-rouge",
   "metadata": {},
   "outputs": [
    {
     "data": {
      "text/plain": [
       "array([[0., 0., 0., 0., 0., 0., 0.],\n",
       "       [0., 1., 1., 1., 1., 1., 0.],\n",
       "       [0., 1., 1., 1., 1., 1., 0.],\n",
       "       [0., 1., 1., 5., 1., 1., 0.],\n",
       "       [0., 1., 1., 1., 1., 1., 0.],\n",
       "       [0., 1., 1., 1., 1., 1., 0.],\n",
       "       [0., 0., 0., 0., 0., 0., 0.]])"
      ]
     },
     "execution_count": 3,
     "metadata": {},
     "output_type": "execute_result"
    }
   ],
   "source": [
    "import numpy as np\n",
    "\n",
    "# Creating the desired numpy array\n",
    "array = np.array([\n",
    "    [0., 0., 0., 0., 0., 0., 0.],\n",
    "    [0., 1., 1., 1., 1., 1., 0.],\n",
    "    [0., 1., 1., 1., 1., 1., 0.],\n",
    "    [0., 1., 1., 5., 1., 1., 0.],\n",
    "    [0., 1., 1., 1., 1., 1., 0.],\n",
    "    [0., 1., 1., 1., 1., 1., 0.],\n",
    "    [0., 0., 0., 0., 0., 0., 0.]\n",
    "])\n",
    "\n",
    "# Print the array to check\n",
    "array"
   ]
  },
  {
   "cell_type": "markdown",
   "id": "156984bc-e6c0-4379-a30f-c9b0a33f15f0",
   "metadata": {},
   "source": [
    "**W.2** Pandas filtering and sorting practice with Chipotle data\n",
    "\n",
    "Import the dataset from this address https://raw.githubusercontent.com/justmarkham/DAT8/master/data/chipotle.tsv\n",
    "Assign it to a variable called chipo.\n",
    "1. How many products cost more than $10.00?\n",
    "2. What is the price of each item?\n",
    "    1. Print a data frame with only two columns item_name and item_price\n",
    "    2. Sort by the name of the item\n",
    "1. What was the quantity of the most expensive item ordered?\n",
    "1. How many times did someone order more than one Canned Soda?\n"
   ]
  },
  {
   "cell_type": "code",
   "execution_count": 4,
   "id": "f633fa7e-1361-4938-b6b2-eb090a6becff",
   "metadata": {},
   "outputs": [
    {
     "data": {
      "text/plain": [
       "31"
      ]
     },
     "execution_count": 4,
     "metadata": {},
     "output_type": "execute_result"
    }
   ],
   "source": [
    "import numpy as np\n",
    "import pandas as pd\n",
    "# Load the dataset\n",
    "url = \"https://raw.githubusercontent.com/justmarkham/DAT8/master/data/chipotle.tsv\"\n",
    "chipo = pd.read_csv(url, sep='\\t')\n",
    "chipo['item_price'] = chipo['item_price'].replace('[\\$,]', '', regex=True).astype(float)\n",
    "\n",
    "# Filter for products that cost more than $10.00 and count unique items\n",
    "products_over_10 = chipo[chipo['item_price'] > 10.00]\n",
    "num_products_over_10 = products_over_10['item_name'].nunique()\n",
    "num_products_over_10"
   ]
  },
  {
   "cell_type": "code",
   "execution_count": 5,
   "id": "63ed67ab",
   "metadata": {},
   "outputs": [
    {
     "name": "stdout",
     "output_type": "stream",
     "text": [
      "                                item_name  item_price\n",
      "0                       6 Pack Soft Drink    6.610185\n",
      "1                           Barbacoa Bowl   10.187273\n",
      "2                        Barbacoa Burrito    9.832418\n",
      "3                   Barbacoa Crispy Tacos   10.928182\n",
      "4                     Barbacoa Salad Bowl   10.640000\n",
      "5                     Barbacoa Soft Tacos   10.018400\n",
      "6                           Bottled Water    1.867654\n",
      "7                                    Bowl   14.800000\n",
      "8                                 Burrito    7.400000\n",
      "9                             Canned Soda    1.320577\n",
      "10                      Canned Soft Drink    1.457641\n",
      "11                          Carnitas Bowl   10.833971\n",
      "12                       Carnitas Burrito   10.132712\n",
      "13                  Carnitas Crispy Tacos   11.137143\n",
      "14                         Carnitas Salad    8.990000\n",
      "15                    Carnitas Salad Bowl   11.056667\n",
      "16                    Carnitas Soft Tacos    9.398500\n",
      "17                           Chicken Bowl   10.113953\n",
      "18                        Chicken Burrito   10.082857\n",
      "19                   Chicken Crispy Tacos   10.045319\n",
      "20                          Chicken Salad    9.010000\n",
      "21                     Chicken Salad Bowl   11.170455\n",
      "22                     Chicken Soft Tacos    9.635565\n",
      "23                                  Chips    2.342844\n",
      "24           Chips and Fresh Tomato Salsa    3.285091\n",
      "25                    Chips and Guacamole    4.595073\n",
      "26      Chips and Mild Fresh Tomato Salsa    3.000000\n",
      "27     Chips and Roasted Chili Corn Salsa    3.084091\n",
      "28     Chips and Roasted Chili-Corn Salsa    2.390000\n",
      "29  Chips and Tomatillo Green Chili Salsa    3.087209\n",
      "30    Chips and Tomatillo Red Chili Salsa    3.072917\n",
      "31  Chips and Tomatillo-Green Chili Salsa    2.544194\n",
      "32    Chips and Tomatillo-Red Chili Salsa    2.987500\n",
      "33                           Crispy Tacos    7.400000\n",
      "34                                   Izze    3.390000\n",
      "35                       Nantucket Nectar    3.641111\n",
      "36                                  Salad    7.400000\n",
      "37                          Side of Chips    1.840594\n",
      "38                             Steak Bowl   10.711801\n",
      "39                          Steak Burrito   10.465842\n",
      "40                     Steak Crispy Tacos   10.209714\n",
      "41                            Steak Salad    8.915000\n",
      "42                       Steak Salad Bowl   11.847931\n",
      "43                       Steak Soft Tacos    9.746364\n",
      "44                            Veggie Bowl   10.211647\n",
      "45                         Veggie Burrito    9.839684\n",
      "46                    Veggie Crispy Tacos    8.490000\n",
      "47                           Veggie Salad    8.490000\n",
      "48                      Veggie Salad Bowl   10.138889\n",
      "49                      Veggie Soft Tacos   10.565714\n"
     ]
    }
   ],
   "source": [
    "import pandas as pd\n",
    "\n",
    "# Convert item_price to numeric after removing the dollar sign\n",
    "chipo['item_price'] = chipo['item_price'].replace('[\\$,]', '', regex=True).astype(float)\n",
    "\n",
    "# Group by item_name\n",
    "item_prices = chipo.groupby('item_name').agg({'item_price': 'mean'}).reset_index()\n",
    "\n",
    "# Sort by item_name\n",
    "item_prices_sorted = item_prices.sort_values('item_name')\n",
    "\n",
    "# Print the result\n",
    "print(item_prices_sorted[['item_name', 'item_price']])"
   ]
  },
  {
   "cell_type": "code",
   "execution_count": 6,
   "id": "27ac5a51",
   "metadata": {},
   "outputs": [
    {
     "name": "stdout",
     "output_type": "stream",
     "text": [
      "15\n"
     ]
    }
   ],
   "source": [
    "import pandas as pd\n",
    "chipo['item_price'] = chipo['item_price'].replace('[\\$,]', '', regex=True).astype(float)\n",
    "\n",
    "# Find the row with the most expensive item\n",
    "most_expensive_order = chipo.loc[chipo['item_price'].idxmax()]\n",
    "\n",
    "# Extract the quantity of the most expensive item\n",
    "quantity_most_expensive = most_expensive_order['quantity']\n",
    "\n",
    "print(quantity_most_expensive)"
   ]
  },
  {
   "cell_type": "code",
   "execution_count": 7,
   "id": "91e04255",
   "metadata": {},
   "outputs": [
    {
     "name": "stdout",
     "output_type": "stream",
     "text": [
      "20\n"
     ]
    }
   ],
   "source": [
    "import pandas as pd\n",
    "\n",
    "# Filter for rows where item_name is \"Canned Soda\" and quantity is greater than one\n",
    "canned_soda_orders = chipo[(chipo['item_name'] == \"Canned Soda\") & (chipo['quantity'] > 1)]\n",
    "\n",
    "# Count the number of such orders\n",
    "num_canned_soda_orders = canned_soda_orders.shape[0]\n",
    "\n",
    "print(num_canned_soda_orders)"
   ]
  },
  {
   "cell_type": "code",
   "execution_count": null,
   "id": "87d175e6",
   "metadata": {},
   "outputs": [],
   "source": []
  },
  {
   "cell_type": "markdown",
   "id": "needed-irish",
   "metadata": {
    "panel-layout": {
     "height": 156.05113220214844,
     "visible": true,
     "width": 100
    }
   },
   "source": [
    "# Lecture 9.2\n",
    "\n",
    "### Agenda:\n",
    "\n",
    "- Questions\n",
    "- Show us your movies\n",
    "- Intro to LSU HPC"
   ]
  },
  {
   "cell_type": "markdown",
   "id": "crucial-hobby",
   "metadata": {
    "panel-layout": {
     "height": 44.07670211791992,
     "visible": true,
     "width": 100
    }
   },
   "source": [
    "### Questions"
   ]
  },
  {
   "cell_type": "markdown",
   "id": "be69581e-ee02-4aa7-a18e-74c2d61cc1c7",
   "metadata": {
    "panel-layout": {
     "height": 10,
     "visible": true,
     "width": 100
    }
   },
   "source": []
  },
  {
   "cell_type": "markdown",
   "id": "working-lottery",
   "metadata": {
    "panel-layout": {
     "height": 60.596588134765625,
     "visible": true,
     "width": 100
    }
   },
   "source": [
    "# Lab 9.2"
   ]
  },
  {
   "cell_type": "markdown",
   "id": "42ba70db-1894-44eb-9688-5380d60b34f6",
   "metadata": {
    "panel-layout": {
     "height": 51.12215805053711,
     "visible": true,
     "width": 100
    }
   },
   "source": [
    "**E.0** Complete the previous labs if you are behind."
   ]
  },
  {
   "cell_type": "markdown",
   "id": "990220d4",
   "metadata": {},
   "source": [
    "**Completed**"
   ]
  },
  {
   "cell_type": "markdown",
   "id": "6254f746-973e-4ebe-ad02-f81c98a1d7c6",
   "metadata": {
    "panel-layout": {
     "height": 114.54544830322266,
     "visible": true,
     "width": 100
    }
   },
   "source": [
    "**E.1** Submit a screenshot of you using a jupyter notebook on the LSU HPC"
   ]
  },
  {
   "cell_type": "markdown",
   "id": "714f46cd-fd5b-4e0f-84f4-7816eb053419",
   "metadata": {},
   "source": [
    "**E.2** Complete your final project proposal and submit it in Moodle"
   ]
  },
  {
   "cell_type": "markdown",
   "id": "0e88c208",
   "metadata": {},
   "source": [
    "**Completed**"
   ]
  },
  {
   "cell_type": "markdown",
   "id": "3355bd74-1b16-4815-9d33-a4e76390a23d",
   "metadata": {},
   "source": [
    "**E.3** Prepare a 5 min presentation of your project proposal, including a brief introduction, your research plan, the programming methods you are planning to use, your preliminary results/plots, and your timeline for completion. ​You will present this in class next Tuesday. No late talks this time.\n",
    "\n",
    "A good target length is 1 slide per minute.\n",
    "\n",
    "Upload your talk here:\n",
    "https://lsu.box.com/s/5c95w1s2rrwqy839o3ul3oouzi43s4y1\n"
   ]
  },
  {
   "cell_type": "markdown",
   "id": "computational-child",
   "metadata": {
    "panel-layout": {
     "height": 85.41192626953125,
     "visible": true,
     "width": 100
    }
   },
   "source": [
    "**Notes** Make notes for yourself on progamming tecniques and commands you learned in the this week, including examples, comments and explainitory text. You can do this here or in a separate notebook that you link to here. Basically, you are making a cheat sheet for yourself."
   ]
  },
  {
   "cell_type": "code",
   "execution_count": null,
   "id": "consecutive-bowling",
   "metadata": {},
   "outputs": [],
   "source": [
    "# Create bar plot of average final grade in each study category\n",
    "sns.catplot(x=\"study_time\", y=\"G3\",\n",
    "            data=student_data,\n",
    "            kind=\"bar\")\n",
    "\n",
    "# Show plot\n",
    "plt.show()"
   ]
  },
  {
   "cell_type": "code",
   "execution_count": null,
   "id": "a14a68ea-90e3-4c1f-bf2e-70a828ce942e",
   "metadata": {},
   "outputs": [],
   "source": [
    "# List of categories from lowest to highest\n",
    "category_order = [\"<2 hours\", \n",
    "                  \"2 to 5 hours\", \n",
    "                  \"5 to 10 hours\", \n",
    "                  \">10 hours\"]\n",
    "\n",
    "# Use the order parameter to rearrange the categories\n",
    "sns.catplot(x=\"study_time\", y=\"G3\",\n",
    "            data=student_data,\n",
    "            kind=\"bar\",\n",
    "            order=category_order)\n",
    "\n",
    "# Show plot\n",
    "plt.show()"
   ]
  },
  {
   "cell_type": "code",
   "execution_count": null,
   "id": "23bb4f58",
   "metadata": {},
   "outputs": [],
   "source": [
    "# Specify the category ordering\n",
    "study_time_order = [\"<2 hours\", \"2 to 5 hours\", \n",
    "                    \"5 to 10 hours\", \">10 hours\"]\n",
    "\n",
    "# Create a box plot and set the order of the categories\n",
    "sns.catplot(x=\"study_time\", y=\"G3\",\n",
    "            data=student_data,\n",
    "            kind=\"box\",  # Make sure to specify the kind as \"box\"\n",
    "            order=study_time_order)\n",
    "\n",
    "# Show plot\n",
    "plt.show()"
   ]
  },
  {
   "cell_type": "code",
   "execution_count": null,
   "id": "09589463",
   "metadata": {},
   "outputs": [],
   "source": [
    "# Create a box plot with subgroups and omit the outliers\n",
    "sns.catplot(x=\"internet\", y=\"G3\",\n",
    "            data=student_data,\n",
    "            kind=\"box\",  # Specify the kind of plot\n",
    "            hue=\"location\",  # Add subgroups\n",
    "            sym=\"\")  # Omit the outliers\n",
    "\n",
    "# Show plot\n",
    "plt.show()"
   ]
  },
  {
   "cell_type": "code",
   "execution_count": null,
   "id": "dff9e27e",
   "metadata": {},
   "outputs": [],
   "source": [
    "# Set the whiskers at the min and max values\n",
    "sns.catplot(x=\"romantic\", y=\"G3\",\n",
    "            data=student_data,\n",
    "            kind=\"box\",\n",
    "            whis=[0, 100])\n",
    "\n",
    "# Show plot\n",
    "plt.show()"
   ]
  },
  {
   "cell_type": "code",
   "execution_count": null,
   "id": "b0a1566b",
   "metadata": {},
   "outputs": [],
   "source": [
    "# Create a point plot of family relationship vs. absences\n",
    "# Check if you have set the x and y parameters correctly\n",
    "sns.catplot(x=\"famrel\", y=\"absences\", data=student_data, kind=\"point\")\n",
    "    \n",
    "# Show plot\n",
    "plt.show()"
   ]
  },
  {
   "cell_type": "code",
   "execution_count": null,
   "id": "b8a08eac",
   "metadata": {},
   "outputs": [],
   "source": [
    "# Remove the lines joining the points\n",
    "sns.catplot(x=\"famrel\", y=\"absences\",\n",
    "            data=student_data,\n",
    "            kind=\"point\",\n",
    "            capsize=0.2,\n",
    "            join=False)\n",
    "# Show plot\n",
    "plt.show()"
   ]
  },
  {
   "cell_type": "code",
   "execution_count": null,
   "id": "39b05cf3",
   "metadata": {},
   "outputs": [],
   "source": []
  },
  {
   "cell_type": "code",
   "execution_count": null,
   "id": "d888faf9",
   "metadata": {},
   "outputs": [],
   "source": []
  }
 ],
 "metadata": {
  "kernelspec": {
   "display_name": "Python 3 (ipykernel)",
   "language": "python",
   "name": "python3"
  },
  "language_info": {
   "codemirror_mode": {
    "name": "ipython",
    "version": 3
   },
   "file_extension": ".py",
   "mimetype": "text/x-python",
   "name": "python",
   "nbconvert_exporter": "python",
   "pygments_lexer": "ipython3",
   "version": "3.11.5"
  },
  "panel-cell-order": [
   "cooked-impact",
   "crazy-drunk",
   "appointed-tribute",
   "834986df-a157-45a3-8679-12e793fe2c47",
   "tracked-tradition",
   "needed-irish",
   "crucial-hobby",
   "be69581e-ee02-4aa7-a18e-74c2d61cc1c7",
   "working-lottery",
   "42ba70db-1894-44eb-9688-5380d60b34f6",
   "6254f746-973e-4ebe-ad02-f81c98a1d7c6",
   "ordinary-variable",
   "f8909a65-8319-4676-8478-c7e691e05403",
   "fff227cb-6c67-4666-825c-73b39feaa02f",
   "36b09aeb-22b0-4a9c-a95b-f4940e362a18",
   "computational-child"
  ]
 },
 "nbformat": 4,
 "nbformat_minor": 5
}
