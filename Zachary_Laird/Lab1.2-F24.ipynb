{
 "cells": [
  {
   "cell_type": "markdown",
   "metadata": {},
   "source": [
    "put your name, etc here"
   ]
  },
  {
   "cell_type": "code",
   "execution_count": null,
   "metadata": {},
   "outputs": [],
   "source": []
  },
  {
   "cell_type": "markdown",
   "metadata": {},
   "source": [
    "# Lecture 1.2"
   ]
  },
  {
   "cell_type": "markdown",
   "metadata": {},
   "source": [
    "Thursday Aug 29th, 2024\n",
    "\n",
    "Lab 1.2 is due Tuesday Sep, 3rd\n",
    "\n",
    "Lecture Agenda:\n",
    "* debriefing on first class and homework, how's it going?\n",
    "* logistics of github, downloading this Lab 1.2 notebook\n",
    "* commenting and markup in notebooks\n",
    "* workflow for the class\n"
   ]
  },
  {
   "cell_type": "markdown",
   "metadata": {},
   "source": [
    "In general, we will do warmup exercises and lab exercises in a jupyter notebook. For most classes, you will download the notebook from github, open it on your local computer, and then upload your completed work back on github in your folder. Then in the assignment tab in Moodle, submit a url link to the completed lab, along with a screenshot of your completed score for the chapter(s) assigned in datacamp.\n",
    "\n",
    "In general, Tuesday labs are due Friday by midnight and Thursday labs are due the following Tuesday by midnight. This will give you a chance to ask questions in the next class if you get stuck on something. Note the first lab (1.1) was due early so you are set up for this lab. If you are stuck on anything, let me know, and get help from your classmates."
   ]
  },
  {
   "cell_type": "code",
   "execution_count": null,
   "metadata": {},
   "outputs": [],
   "source": [
    "# cell created by esc then a"
   ]
  },
  {
   "cell_type": "markdown",
   "metadata": {},
   "source": [
    "# here is an example of code commenting. The # symbol means everything on this line will be ignored \n"
   ]
  },
  {
   "cell_type": "code",
   "execution_count": null,
   "metadata": {},
   "outputs": [],
   "source": [
    "# cell created by esc then b"
   ]
  },
  {
   "cell_type": "markdown",
   "metadata": {},
   "source": [
    "Here is an example of markdown text. Because this cell is in markdown mode it will also be ignored by the python shell"
   ]
  },
  {
   "cell_type": "code",
   "execution_count": null,
   "metadata": {},
   "outputs": [],
   "source": []
  },
  {
   "cell_type": "markdown",
   "metadata": {},
   "source": [
    "## Preliminaries"
   ]
  },
  {
   "cell_type": "markdown",
   "metadata": {},
   "source": [
    "In our class github site, create a folder for yourself where you will submit your jupyter notebooks. The easiest way to do this is to create a new file that is a placeholder document in the new folder. You can delete it later."
   ]
  },
  {
   "cell_type": "markdown",
   "metadata": {},
   "source": [
    "## Warmup exercises"
   ]
  },
  {
   "cell_type": "markdown",
   "metadata": {},
   "source": [
    "As you are doing these exercises, get familiar with jupyter notebook commands \n",
    "https://towardsdatascience.com/jypyter-notebook-shortcuts-bf0101a98330\n",
    "\n",
    "and markdown text https://medium.com/@ingeh/markdown-for-jupyter-notebooks-cheatsheet-386c05aeebed\n",
    "\n",
    "These exercises are based on what you have learned previously. Feel free to go look at what you did in datacamp to figure out how to answer them."
   ]
  },
  {
   "cell_type": "markdown",
   "metadata": {},
   "source": [
    "**W.1** Define and assign values to three variables of the three types we learned about Monday: integer, floating point, string and boolian. \n",
    "\n",
    "Note you can add more cells below by pressing the + button above or typing [esc] to command mode, then [b] to enter a cell below, or [a] to enter a cell above. See the link above for more commands"
   ]
  },
  {
   "cell_type": "code",
   "execution_count": 2,
   "metadata": {},
   "outputs": [],
   "source": [
    "x = 24\n",
    "y = 0.1\n",
    "z = \"My name is Zach\"\n",
    "yyz = True"
   ]
  },
  {
   "cell_type": "markdown",
   "metadata": {},
   "source": [
    "**W.2** Print out the value and check the type of each variable"
   ]
  },
  {
   "cell_type": "code",
   "execution_count": 3,
   "metadata": {},
   "outputs": [
    {
     "name": "stdout",
     "output_type": "stream",
     "text": [
      "24\n",
      "0.1\n",
      "My name is Zach\n",
      "True\n"
     ]
    }
   ],
   "source": [
    "print(x)\n",
    "print(y)\n",
    "print(z)\n",
    "print(yyz)"
   ]
  },
  {
   "cell_type": "markdown",
   "metadata": {},
   "source": [
    "**W.3** Create a new variable that saves the value of the float variable as a string. Print it out"
   ]
  },
  {
   "cell_type": "code",
   "execution_count": 7,
   "metadata": {},
   "outputs": [
    {
     "name": "stdout",
     "output_type": "stream",
     "text": [
      "0.1\n"
     ]
    }
   ],
   "source": [
    "y_string = str(y)\n",
    "print(y_string)"
   ]
  },
  {
   "cell_type": "markdown",
   "metadata": {},
   "source": [
    "**W.4** Using multiplication of a variable, print out the text \"Bueno Bueno Bueno Bueno Bueno\" (Shoutout to Monsieur Periné https://youtu.be/JGL-eQAAxGs see 10:45)"
   ]
  },
  {
   "cell_type": "code",
   "execution_count": 9,
   "metadata": {},
   "outputs": [
    {
     "name": "stdout",
     "output_type": "stream",
     "text": [
      "Bueno Bueno Bueno Bueno Bueno \n"
     ]
    }
   ],
   "source": [
    "good = \"Bueno \"\n",
    "Good5 = good*5\n",
    "print(Good5)"
   ]
  },
  {
   "cell_type": "markdown",
   "metadata": {},
   "source": [
    "**W.5** Do the same thing using addtion"
   ]
  },
  {
   "cell_type": "code",
   "execution_count": 13,
   "metadata": {},
   "outputs": [
    {
     "name": "stdout",
     "output_type": "stream",
     "text": [
      "Bueno Bueno Bueno Bueno Bueno \n"
     ]
    }
   ],
   "source": [
    "good = \"Bueno \"\n",
    "Good5Add=good + good + good + good + good\n",
    "print(Good5Add)"
   ]
  },
  {
   "cell_type": "markdown",
   "metadata": {},
   "source": [
    "**W.6** If you add an int and a float, what is the resulting variable type? Demonstrate"
   ]
  },
  {
   "cell_type": "code",
   "execution_count": 17,
   "metadata": {},
   "outputs": [
    {
     "name": "stdout",
     "output_type": "stream",
     "text": [
      "Bueno 0.124\n"
     ]
    }
   ],
   "source": [
    "GoodIntFlt = good + str(y) + str(x)\n",
    "print(GoodIntFlt)"
   ]
  },
  {
   "cell_type": "markdown",
   "metadata": {},
   "source": [
    "**W.7** Can you convert a Boolian to an interger type variable? If so, what is the resulting value? What happens if you convert a float to an int?"
   ]
  },
  {
   "cell_type": "code",
   "execution_count": 20,
   "metadata": {},
   "outputs": [
    {
     "name": "stdout",
     "output_type": "stream",
     "text": [
      "1\n"
     ]
    }
   ],
   "source": [
    "yyzInt = int(yyz)\n",
    "print(yyzInt)"
   ]
  },
  {
   "cell_type": "markdown",
   "metadata": {},
   "source": [
    "# Lab 1.2"
   ]
  },
  {
   "cell_type": "markdown",
   "metadata": {},
   "source": [
    "## Lab Exercises"
   ]
  },
  {
   "cell_type": "markdown",
   "metadata": {},
   "source": [
    "**E.1** Complete Ch 2 of Introduction to Python in datacamp. "
   ]
  },
  {
   "cell_type": "markdown",
   "metadata": {},
   "source": [
    "**E.2** Below you will spend time practicing what you have learned in Ch 2. Use a comination of code, code commenting, and markdown text to take notes. Make sure you investigate how python syntax works and understand what you are doing, and what went wrong if you have any issues. You can refer to this document later if you need to review, so give future you lots of commenting to be helpful."
   ]
  },
  {
   "cell_type": "markdown",
   "metadata": {},
   "source": [
    "**E.2.1** Let's work on lists, indexing and printing out elements of lists.\n",
    "\n",
    "We are going to calculate the BMI of five family members (or friends/colleaues if you have a small family, or famous people/politicians/atheletes if you really don't like talking to people, they just have to be adults and you need their data). Make intellegently named lists for the first name, last name, height, weight and age of each person. So, five lists in total."
   ]
  },
  {
   "cell_type": "code",
   "execution_count": 25,
   "metadata": {},
   "outputs": [],
   "source": [
    "first_name = [\"Joe\", \"CJ\", \"Justin\", \"Jamarr\", \"Derek\"]\n",
    "last_name = [\"Burrow\", \"Stroud\", \"Jefferson\", \"Chase\", \"Stingley\"]\n",
    "height = [1.93, 1.905, 1.85, 1.83, 1.829]\n",
    "weight = [98.0, 98.9, 92.0, 91.0, 88.0]\n",
    "age = [27, 22, 25, 24, 23]"
   ]
  },
  {
   "cell_type": "markdown",
   "metadata": {},
   "source": [
    "**E.2.2** Now create a new list that calculates the BMI of each person using the lists you created before"
   ]
  },
  {
   "cell_type": "code",
   "execution_count": 38,
   "metadata": {},
   "outputs": [
    {
     "name": "stdout",
     "output_type": "stream",
     "text": [
      "[26.309431125667803, 27.252498949442344, 26.880934989043094, 27.173101615455817, 26.306026979819993]\n"
     ]
    }
   ],
   "source": [
    "BMI = [weight[0]/height[0]**2,\n",
    "      weight[1]/height[1]**2,\n",
    "      weight[2]/height[2]**2,\n",
    "      weight[3]/height[3]**2,\n",
    "      weight[4]/height[4]**2] \n",
    "print(BMI)"
   ]
  },
  {
   "cell_type": "markdown",
   "metadata": {},
   "source": [
    "**E.2.3** Look up the weight classification of each person based on their BMI (what's a good source for this, who do you trust?). Create a new list with this information for each person. (Don't judge, we live in Louisiana, which is not known for health food.)"
   ]
  },
  {
   "cell_type": "code",
   "execution_count": 39,
   "metadata": {},
   "outputs": [
    {
     "name": "stdout",
     "output_type": "stream",
     "text": [
      "['overweight', 'overweight', 'overweight', 'overweight', 'overweight']\n"
     ]
    }
   ],
   "source": [
    "BMI_Classification = [\"overweight\",\n",
    "                      \"overweight\",\n",
    "                      \"overweight\",\n",
    "                      \"overweight\",\n",
    "                      \"overweight\"]\n",
    "print(BMI_Classification)"
   ]
  },
  {
   "cell_type": "markdown",
   "metadata": {},
   "source": [
    "**E.2.3** Let's practice some print statements and iterate manually through the people on your lists.\n",
    "\n",
    "For each person, print out something like: \"First_name last_name, age xx, has a height of xx units and weight of xx units, giving them a body mass index (BMI) of xx, making them yy\" where yy is if they are normal, obese, etc."
   ]
  },
  {
   "cell_type": "code",
   "execution_count": 41,
   "metadata": {},
   "outputs": [
    {
     "name": "stdout",
     "output_type": "stream",
     "text": [
      "['Joe', 'Burrow', 'age', 27, 'has a height of', 1.93, 'meters and a weight of', 98.0, 'kg, giving them a body mass index (BMI) of', 26.309431125667803, 'making them', 'overweight']\n",
      "['CJ', 'Stroud', 'age', 22, 'has a height of', 1.905, 'meters and a weight of', 98.9, 'kg, giving them a body mass index (BMI) of', 27.252498949442344, 'making them', 'overweight']\n",
      "['Justin', 'Jefferson', 'age', 25, 'has a height of', 1.85, 'meters and a weight of', 92.0, 'kg, giving them a body mass index (BMI) of', 26.880934989043094, 'making them', 'overweight']\n",
      "['Jamarr', 'Chase', 'age', 24, 'has a height of', 1.83, 'meters and a weight of', 91.0, 'kg, giving them a body mass index (BMI) of', 27.173101615455817, 'making them', 'overweight']\n",
      "['Derek', 'Stingley', 'age', 23, 'has a height of', 1.829, 'meters and a weight of', 88.0, 'kg, giving them a body mass index (BMI) of', 26.306026979819993, 'making them', 'overweight']\n"
     ]
    }
   ],
   "source": [
    "Joe = [first_name[0], last_name[0],\"age\", age[0], \"has a height of\", \n",
    "       height[0], \"meters and a weight of\",weight[0],\n",
    "       \"kg, giving them a body mass index (BMI) of\", BMI[0],\"making them\", BMI_Classification[0]]\n",
    "CJ = [first_name[1], last_name[1],\"age\", age[1], \"has a height of\", \n",
    "       height[1], \"meters and a weight of\",weight[1],\n",
    "       \"kg, giving them a body mass index (BMI) of\", BMI[1],\"making them\", BMI_Classification[1]]\n",
    "JJ = [first_name[2], last_name[2],\"age\", age[2], \"has a height of\", \n",
    "       height[2], \"meters and a weight of\",weight[2],\n",
    "       \"kg, giving them a body mass index (BMI) of\", BMI[2],\"making them\", BMI_Classification[2]]\n",
    "JC = [first_name[3], last_name[3],\"age\", age[3], \"has a height of\", \n",
    "       height[3], \"meters and a weight of\",weight[3],\n",
    "       \"kg, giving them a body mass index (BMI) of\", BMI[3],\"making them\", BMI_Classification[3]]\n",
    "DS = [first_name[4], last_name[4],\"age\", age[4], \"has a height of\", \n",
    "       height[4], \"meters and a weight of\",weight[4],\n",
    "       \"kg, giving them a body mass index (BMI) of\", BMI[4],\"making them\", BMI_Classification[4]]\n",
    "print(Joe)\n",
    "print(CJ)\n",
    "print(JJ)\n",
    "print(JC)\n",
    "print(DS)"
   ]
  },
  {
   "cell_type": "markdown",
   "metadata": {},
   "source": [
    "**E.2.4** Now add/append your information to each of the lists, and do the same print statement for you. Make a resolution to eat more veggies."
   ]
  },
  {
   "cell_type": "code",
   "execution_count": 49,
   "metadata": {},
   "outputs": [],
   "source": [
    "first_name = first_name + [\"Zach\"]\n",
    "last_name =last_name + [\"Laird\"]\n",
    "height = height + [1.778]\n",
    "weight = weight + [113.398]\n",
    "age = age + [24]"
   ]
  },
  {
   "cell_type": "code",
   "execution_count": 52,
   "metadata": {},
   "outputs": [
    {
     "name": "stdout",
     "output_type": "stream",
     "text": [
      "35.87086766010266\n"
     ]
    }
   ],
   "source": [
    "BMI = BMI + [weight[5]/height[5]**2]\n",
    "print(BMI[5])"
   ]
  },
  {
   "cell_type": "markdown",
   "metadata": {},
   "source": [
    "When you are done with your lab, upload this document to your github folder on the class site. Then submit a url link to the completed lab, along with a screenshot of your completed Ch 2 score in datacamp, to the assignment tab in Moodle."
   ]
  },
  {
   "cell_type": "code",
   "execution_count": 53,
   "metadata": {},
   "outputs": [],
   "source": [
    "BMI_Classification = BMI_Classification + [\"obese\"]"
   ]
  },
  {
   "cell_type": "code",
   "execution_count": 54,
   "metadata": {},
   "outputs": [
    {
     "name": "stdout",
     "output_type": "stream",
     "text": [
      "['Zach', 'Laird', 'age', 24, 'has a height of', 1.778, 'meters and a weight of', 113.398, 'kg, giving them a body mass index (BMI) of', 35.87086766010266, 'making them', 'obese', 'Zach needs to eat more vegetables']\n"
     ]
    }
   ],
   "source": [
    "ZL = [first_name[5], last_name[5],\"age\", age[5], \"has a height of\", \n",
    "       height[5], \"meters and a weight of\",weight[5],\n",
    "       \"kg, giving them a body mass index (BMI) of\", BMI[5],\"making them\", BMI_Classification[5],\n",
    "     \"Zach needs to eat more vegetables\"]\n",
    "print(ZL)"
   ]
  },
  {
   "cell_type": "markdown",
   "metadata": {},
   "source": [
    "# Scratch"
   ]
  },
  {
   "cell_type": "code",
   "execution_count": 5,
   "metadata": {},
   "outputs": [],
   "source": [
    "# this is an area of the notebook you can mess around and test things out, if you don't want to put it above"
   ]
  },
  {
   "cell_type": "code",
   "execution_count": null,
   "metadata": {},
   "outputs": [],
   "source": []
  },
  {
   "cell_type": "code",
   "execution_count": null,
   "metadata": {},
   "outputs": [],
   "source": []
  }
 ],
 "metadata": {
  "kernelspec": {
   "display_name": "Python 3 (ipykernel)",
   "language": "python",
   "name": "python3"
  },
  "language_info": {
   "codemirror_mode": {
    "name": "ipython",
    "version": 3
   },
   "file_extension": ".py",
   "mimetype": "text/x-python",
   "name": "python",
   "nbconvert_exporter": "python",
   "pygments_lexer": "ipython3",
   "version": "3.12.4"
  }
 },
 "nbformat": 4,
 "nbformat_minor": 4
}
