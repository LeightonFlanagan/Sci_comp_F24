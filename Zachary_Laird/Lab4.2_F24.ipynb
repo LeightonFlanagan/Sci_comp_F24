{
 "cells": [
  {
   "cell_type": "markdown",
   "id": "short-malawi",
   "metadata": {},
   "source": [
    "Name: Zachary Laird"
   ]
  },
  {
   "cell_type": "markdown",
   "id": "frozen-floating",
   "metadata": {},
   "source": [
    "Labpartner(s): Sharmin Siddika, Fahmida Akhter, Israt Tama"
   ]
  },
  {
   "cell_type": "code",
   "execution_count": 7,
   "id": "classified-reunion",
   "metadata": {},
   "outputs": [],
   "source": [
    "# import statements go here\n",
    "import numpy as np\n"
   ]
  },
  {
   "cell_type": "markdown",
   "id": "necessary-oklahoma",
   "metadata": {},
   "source": [
    "# Class 4.2"
   ]
  },
  {
   "cell_type": "markdown",
   "id": "solid-silicon",
   "metadata": {},
   "source": [
    "## Today you all are going to do the lecture! It's Present Your Plots Day."
   ]
  },
  {
   "cell_type": "markdown",
   "id": "professional-simpson",
   "metadata": {},
   "source": [
    "# Warmups 4.2"
   ]
  },
  {
   "cell_type": "markdown",
   "id": "imposed-baghdad",
   "metadata": {},
   "source": [
    "### Warmup is short today so we have time to focus on your plots."
   ]
  },
  {
   "cell_type": "markdown",
   "id": "commercial-abraham",
   "metadata": {},
   "source": [
    "**W.1** Do Exercise 3 in practice python https://www.practicepython.org"
   ]
  },
  {
   "cell_type": "code",
   "execution_count": 1,
   "id": "4aca4e82-2de2-4793-99d0-633288ee8991",
   "metadata": {},
   "outputs": [
    {
     "name": "stdout",
     "output_type": "stream",
     "text": [
      "1\n",
      "1\n",
      "2\n",
      "3\n"
     ]
    }
   ],
   "source": [
    "a = [1,1,2,3,5,8,13,21,34,55,89]\n",
    "for x in a: \n",
    "    if x<5 : print(x)"
   ]
  },
  {
   "cell_type": "code",
   "execution_count": 2,
   "id": "abe6e143-c1c1-4863-bd6d-41a9fcfa7803",
   "metadata": {},
   "outputs": [
    {
     "name": "stdout",
     "output_type": "stream",
     "text": [
      "[1, 1, 2, 3]\n"
     ]
    }
   ],
   "source": [
    "print([x for x in a if x<5])"
   ]
  },
  {
   "cell_type": "code",
   "execution_count": 4,
   "id": "4a5ef955-5100-4f78-8993-d4ce27607b97",
   "metadata": {},
   "outputs": [
    {
     "name": "stdin",
     "output_type": "stream",
     "text": [
      "Enter a number:  4\n"
     ]
    },
    {
     "name": "stdout",
     "output_type": "stream",
     "text": [
      "[1]\n",
      "[1, 1]\n",
      "[1, 1, 2]\n",
      "[1, 1, 2, 3]\n",
      "[1, 1, 2, 3]\n",
      "[1, 1, 2, 3]\n",
      "[1, 1, 2, 3]\n",
      "[1, 1, 2, 3]\n",
      "[1, 1, 2, 3]\n",
      "[1, 1, 2, 3]\n",
      "[1, 1, 2, 3]\n"
     ]
    }
   ],
   "source": [
    "lessNnums = []\n",
    "num = int(input(\"Enter a number: \"))\n",
    "for n in a:\n",
    "    if n<num:\n",
    "        lessNnums.append(n)\n",
    "        lessNnums.sort()\n",
    "    print(lessNnums)\n",
    "    "
   ]
  },
  {
   "cell_type": "markdown",
   "id": "automated-immune",
   "metadata": {},
   "source": [
    "## Agenda:\n",
    "\n",
    "- Questions about class or coding\n",
    "- Show us your plots! Explain your data set, what you did with it, and what your learned, including any difficulties you had and how you solved them."
   ]
  },
  {
   "cell_type": "code",
   "execution_count": null,
   "id": "perfect-suite",
   "metadata": {},
   "outputs": [],
   "source": []
  },
  {
   "cell_type": "markdown",
   "id": "conventional-external",
   "metadata": {},
   "source": [
    "# Lab 4.2"
   ]
  },
  {
   "cell_type": "markdown",
   "id": "married-prior",
   "metadata": {},
   "source": [
    "**E.1** Complete intermediate python chapter 4: Loops\n",
    "\n",
    "Note that loops often are very confusing for new programmers, but they are very powerful and super-useful. You will be seing them again.\n",
    "\n",
    "Note that the tutorials here have similar material for your needs:\n",
    "https://github.com/chsharrison/Sci_comp_F24/blob/main/Course_materials/resources.md"
   ]
  },
  {
   "cell_type": "markdown",
   "id": "color-difference",
   "metadata": {},
   "source": [
    "**E.2** Make notes for yourself on all of the progamming tecniques and commands you learned in the datacamp chapter above, including examples, comments and explainitory text. You might use the resources linked above for supplementary examples. You can do this here or in a separate notebook that you link to here. Basically, you are making a cheat sheet for yourself."
   ]
  },
  {
   "cell_type": "code",
   "execution_count": null,
   "id": "infectious-battery",
   "metadata": {},
   "outputs": [],
   "source": [
    "# the while loop continues to execute the code as long as the condition is true\n",
    "#great for conditional statements that execute a recurring condition\n",
    "# the for loop states for each variable in a sequence execute the code\n",
    "# using the enumerate command allows you to print both the index and the element\n",
    "#the print statement should include \"index\" + str(index) + str(variable)\n",
    "#when dealing with dictionaries you have to do for x, y in dictionaryName.items() :\n",
    "#to get all the elements in a 2d Numpy array you can use np.nditer(variable)\n",
    "# when working with pandas dataframes you must use for x, y in dataframe.iterrows() :\n",
    "# can also find length by setting a loc statement equal to the len(variable)"
   ]
  },
  {
   "cell_type": "markdown",
   "id": "colored-alfred",
   "metadata": {},
   "source": [
    "**E.3-6** Exercises 4-7 in practice python (see link above)"
   ]
  },
  {
   "cell_type": "markdown",
   "id": "9115841d-6e25-44a5-8941-221cd82ffd42",
   "metadata": {},
   "source": [
    "Exercise 4: Create a program that asks the user for a number and then prints out a list of all the divisors of that number. (If you don’t know what a divisor is, it is a number that divides evenly into another number"
   ]
  },
  {
   "cell_type": "code",
   "execution_count": 8,
   "id": "3226ca52-0ace-4ebb-a20d-cd513de54dd6",
   "metadata": {},
   "outputs": [
    {
     "name": "stdin",
     "output_type": "stream",
     "text": [
      "Select a number to divide:  10\n"
     ]
    },
    {
     "name": "stdout",
     "output_type": "stream",
     "text": [
      "[1, 2, 5, 10]\n"
     ]
    }
   ],
   "source": [
    "num = int(input(\"Select a number to divide: \"))\n",
    "range = list(range(1, num+1))\n",
    "divide = [] \n",
    "for x in range:\n",
    "    if num % x == 0 :\n",
    "        divide.append(x)\n",
    "print(divide)"
   ]
  },
  {
   "cell_type": "markdown",
   "id": "84433d36-4430-4650-9157-1483c673150d",
   "metadata": {},
   "source": [
    "Exercise 5: Take two lists and write a program that returns a list that contains only the elements that are common between the lists (without duplicates). Make sure your program works on two lists of different sizes.\n",
    "Extras:\r\n",
    " \r\n",
    "Randomly generate two lists to test th. s\r\n",
    "Write this in one line of Python (don’t worry if you can’t figure this out at this point - we’ll get to it soon)"
   ]
  },
  {
   "cell_type": "code",
   "execution_count": 10,
   "id": "db6b7da7-37c8-4038-8049-b5b452e1df44",
   "metadata": {},
   "outputs": [
    {
     "name": "stdout",
     "output_type": "stream",
     "text": [
      "[1, 1, 2, 3, 13, 22]\n"
     ]
    }
   ],
   "source": [
    "x = [1,1,2,3,5,13,22,44,57,93]\n",
    "y = [1,2,3,4,13,14,15,16,21,22,23,24,25]\n",
    "empty = []\n",
    "for n in x:\n",
    "    if n in y:\n",
    "        empty.append(n)\n",
    "print(empty)"
   ]
  },
  {
   "cell_type": "markdown",
   "id": "22f0f0db-0902-438e-a896-228687e31f2d",
   "metadata": {},
   "source": [
    "Exercise 6: Ask the user for a string and print out whether this string is a palindrome or not. (A palindrome is a string that reads the same forwards and backwards.)"
   ]
  },
  {
   "cell_type": "code",
   "execution_count": 17,
   "id": "b3ee19cc-688a-4c3e-8aa3-8bbbd93c8be7",
   "metadata": {},
   "outputs": [
    {
     "name": "stdin",
     "output_type": "stream",
     "text": [
      "Enter a word/string:  liason\n"
     ]
    },
    {
     "name": "stdout",
     "output_type": "stream",
     "text": [
      "reverse is: nosail\n",
      "womp womp not a palindrome\n"
     ]
    }
   ],
   "source": [
    "string = str(input(\"Enter a word/string: \"))\n",
    "reverse = string[::-1]\n",
    "print(\"reverse is: \" + reverse)\n",
    "if string == reverse:\n",
    "    print(\"PALINDROME!!\")\n",
    "else:\n",
    "    print(\"womp womp not a palindrome\")"
   ]
  },
  {
   "cell_type": "markdown",
   "id": "b47b4cdb-f76b-4d59-a88e-b55186efe22f",
   "metadata": {},
   "source": [
    "Exercise 7: Write one line of Python that takes this list a and makes a new list that has only the even elements of this list in it."
   ]
  },
  {
   "cell_type": "code",
   "execution_count": 23,
   "id": "92a28ca5-dc0f-483f-980b-608977d9bc5f",
   "metadata": {},
   "outputs": [
    {
     "name": "stdout",
     "output_type": "stream",
     "text": [
      "[4, 20, 24, 32]\n"
     ]
    }
   ],
   "source": [
    "x = [1,4,9,20,24,32,33,47]\n",
    "y = []\n",
    "for number in x:\n",
    "    if number %2 == 0:\n",
    "        y.append(number)\n",
    "print(y)"
   ]
  },
  {
   "cell_type": "code",
   "execution_count": null,
   "id": "83839312-07ba-41e4-81a2-bb47cabc1aa7",
   "metadata": {},
   "outputs": [],
   "source": []
  }
 ],
 "metadata": {
  "kernelspec": {
   "display_name": "Python 3 (ipykernel)",
   "language": "python",
   "name": "python3"
  },
  "language_info": {
   "codemirror_mode": {
    "name": "ipython",
    "version": 3
   },
   "file_extension": ".py",
   "mimetype": "text/x-python",
   "name": "python",
   "nbconvert_exporter": "python",
   "pygments_lexer": "ipython3",
   "version": "3.12.4"
  }
 },
 "nbformat": 4,
 "nbformat_minor": 5
}
