{
 "cells": [
  {
   "cell_type": "markdown",
   "id": "existing-kelly",
   "metadata": {},
   "source": [
    "Name: Zachary Laird"
   ]
  },
  {
   "cell_type": "markdown",
   "id": "functioning-current",
   "metadata": {},
   "source": [
    "Labpartner(s): Sharmin Siddika, Fahmida Akhter, Israt Tama"
   ]
  },
  {
   "cell_type": "code",
   "execution_count": 105,
   "id": "republican-appearance",
   "metadata": {},
   "outputs": [],
   "source": [
    "#import statements go here\n",
    "import numpy as np\n",
    "import matplotlib.pyplot as plt\n",
    "import pandas as pd\n",
    "import random"
   ]
  },
  {
   "cell_type": "markdown",
   "id": "rising-queue",
   "metadata": {},
   "source": [
    "# Class 5.2"
   ]
  },
  {
   "cell_type": "markdown",
   "id": "powerful-lyric",
   "metadata": {},
   "source": [
    "In this lab you will learn about functions, and apply this to your datasets. Next week we will have present your work day again, see below for details. Hopefully the material is building to the point where it is not all foriegn and you will feel a bit more confident."
   ]
  },
  {
   "cell_type": "markdown",
   "id": "contrary-communications",
   "metadata": {},
   "source": [
    "# Warmups 5.2"
   ]
  },
  {
   "cell_type": "markdown",
   "id": "e016e8c3-69ef-40f4-a99d-6f9c92044dab",
   "metadata": {},
   "source": [
    "Let's practice for loops and logical control"
   ]
  },
  {
   "cell_type": "markdown",
   "id": "critical-cooperation",
   "metadata": {},
   "source": [
    "**W.1** Complete practice python (practicepython.org) Exercise 4:\n",
    "\n",
    "Create a program that asks the user for a number and then prints out a list of all the divisors of that number. (If you don’t know what a divisor is, it is a number that divides evenly into another number. For example, 13 is a divisor of 26 because 26 / 13 has no remainder.)"
   ]
  },
  {
   "cell_type": "code",
   "execution_count": 3,
   "id": "stone-majority",
   "metadata": {},
   "outputs": [
    {
     "name": "stdin",
     "output_type": "stream",
     "text": [
      "Give me a number:  24\n"
     ]
    },
    {
     "name": "stdout",
     "output_type": "stream",
     "text": [
      "[1, 2, 3, 4, 6, 8, 12, 24]\n"
     ]
    }
   ],
   "source": [
    "divisor = []\n",
    "number = int(input(\"Give me a number: \"))\n",
    "for x in range(1, 1+number):\n",
    "    if number % x == 0:\n",
    "        divisor.append(x)\n",
    "print(divisor)\n",
    "    "
   ]
  },
  {
   "cell_type": "markdown",
   "id": "3712c86b-643c-4778-b6be-cea2d71727f2",
   "metadata": {},
   "source": [
    "**W.2** Complete practice python Exercise 5: \n",
    "\n",
    "Take two lists, say for example these two:\n",
    "\n",
    "  a = [1, 1, 2, 3, 5, 8, 13, 21, 34, 55, 89]\n",
    "\n",
    "  b = [1, 2, 3, 4, 5, 6, 7, 8, 9, 10, 11, 12, 13]\n",
    "\n",
    "and write a program that returns a list that contains only the elements that are common between the lists (without duplicates). Make sure your program works on two lists of different sizes.\n",
    "\n",
    "Extras:\n",
    "\n",
    "Randomly generate two lists to test this\n",
    "\n",
    "Write this in one line of Python (don’t worry if you can’t figure this out at this point)"
   ]
  },
  {
   "cell_type": "code",
   "execution_count": 15,
   "id": "fdf675cc-c252-4981-be92-1db2f54150d5",
   "metadata": {},
   "outputs": [
    {
     "name": "stdout",
     "output_type": "stream",
     "text": [
      "[1, 1, 2, 3, 5, 8, 13]\n"
     ]
    }
   ],
   "source": [
    "a = [1, 1, 2, 3, 5, 8, 13, 21, 34, 55, 89]\n",
    "b = [1, 2, 3, 4, 5, 6, 7, 8, 9, 10, 11, 12, 13]\n",
    "c = []\n",
    "for n in a:\n",
    "    if n in b:\n",
    "        c.append(n)\n",
    "print(c)"
   ]
  },
  {
   "cell_type": "code",
   "execution_count": 16,
   "id": "72f557d0-c14b-4d9d-b1ea-ec68e5b6c1b3",
   "metadata": {},
   "outputs": [
    {
     "name": "stdout",
     "output_type": "stream",
     "text": [
      "[12, 21, 6, 6, 4, 21]\n"
     ]
    }
   ],
   "source": [
    "rand_list= []\n",
    "for r in range(1,25):\n",
    "    rand_list.append(random.randint(1,24))\n",
    "rnad2 = []\n",
    "for d in range(1,25):\n",
    "    rnad2.append(random.randint(4,62))\n",
    "rando = []\n",
    "for n in rand_list:\n",
    "    if n in rnad2:\n",
    "        rando.append(n)\n",
    "print(rando)"
   ]
  },
  {
   "cell_type": "markdown",
   "id": "activated-arbitration",
   "metadata": {},
   "source": [
    "# Lecture 5.2\n",
    "\n",
    "### Agenda:\n",
    "\n",
    "- Questions\n",
    "- Functions!\n"
   ]
  },
  {
   "cell_type": "markdown",
   "id": "effective-career",
   "metadata": {},
   "source": [
    "### Questions"
   ]
  },
  {
   "cell_type": "code",
   "execution_count": 26,
   "id": "suffering-selection",
   "metadata": {},
   "outputs": [
    {
     "name": "stdout",
     "output_type": "stream",
     "text": [
      "2 4 2\n"
     ]
    }
   ],
   "source": [
    "#at the end of each for loop the value of the variable is equal to the end of the range\n",
    "for i in range(1,3):\n",
    "    for j in range(1,5):\n",
    "        for k in range(1,3):\n",
    "            x = 2\n",
    "print(i,j,k)"
   ]
  },
  {
   "cell_type": "code",
   "execution_count": 28,
   "id": "7e244753-a1da-4cc9-ae42-b02ed78ff96e",
   "metadata": {},
   "outputs": [
    {
     "name": "stdout",
     "output_type": "stream",
     "text": [
      "1 1 1\n",
      "1 1 2\n",
      "1 2 1\n",
      "1 2 2\n",
      "1 3 1\n",
      "1 3 2\n",
      "1 4 1\n",
      "1 4 2\n",
      "2 1 1\n",
      "2 1 2\n",
      "2 2 1\n",
      "2 2 2\n",
      "2 3 1\n",
      "2 3 2\n",
      "2 4 1\n",
      "2 4 2\n"
     ]
    }
   ],
   "source": [
    "#placement of print statement matters!!!!\n",
    "for i in range(1,3):\n",
    "    for j in range(1,5):\n",
    "        for k in range(1,3):\n",
    "            x = 2\n",
    "            print(i,j,k)\n",
    "#where the print statement is tabbed determines which for loop is included in the continuous reevaluation "
   ]
  },
  {
   "cell_type": "markdown",
   "id": "photographic-injection",
   "metadata": {},
   "source": [
    "### Functions\n",
    "\n",
    "Functions are super-useful for doing repetative tasks. You have been using pre-defined functions constantly, when you define arrays, make a plot, or analyse data. Now you are going to learn to write your own.\n",
    "\n",
    "For more information on functions and documenting:\n",
    "- http://scipy-lectures.org/intro/language/functions.html?highlight=functions\n",
    "- https://realpython.com/documenting-python-code/\n",
    "\n",
    "\n",
    "Basic syntax:"
   ]
  },
  {
   "cell_type": "code",
   "execution_count": 29,
   "id": "absolute-canada",
   "metadata": {},
   "outputs": [],
   "source": [
    "# first you define the function\n",
    "\n",
    "def function_name():\n",
    "    # some code that does something\n",
    "    print('Inside the function')"
   ]
  },
  {
   "cell_type": "code",
   "execution_count": 30,
   "id": "unable-personal",
   "metadata": {},
   "outputs": [
    {
     "name": "stdout",
     "output_type": "stream",
     "text": [
      "Inside the function\n"
     ]
    }
   ],
   "source": [
    "# then you call the function\n",
    "function_name()"
   ]
  },
  {
   "cell_type": "markdown",
   "id": "about-voice",
   "metadata": {},
   "source": [
    "Note that defined funtions show up using whos"
   ]
  },
  {
   "cell_type": "code",
   "execution_count": 31,
   "id": "sound-intellectual",
   "metadata": {
    "scrolled": true
   },
   "outputs": [
    {
     "name": "stdout",
     "output_type": "stream",
     "text": [
      "Variable          Type             Data/Info\n",
      "--------------------------------------------\n",
      "NamespaceMagics   MetaHasTraits    <class 'IPython.core.magi<...>mespace.NamespaceMagics'>\n",
      "a                 list             n=11\n",
      "b                 list             n=13\n",
      "c                 list             n=7\n",
      "d                 int              24\n",
      "divisor           list             n=8\n",
      "function_name     function         <function function_name at 0x000001BC286520C0>\n",
      "get_ipython       function         <function get_ipython at 0x000001BC223CBE20>\n",
      "i                 int              2\n",
      "j                 int              4\n",
      "json              module           <module 'json' from 'C:\\\\<...>\\Lib\\\\json\\\\__init__.py'>\n",
      "k                 int              2\n",
      "n                 int              21\n",
      "np                module           <module 'numpy' from 'C:\\<...>ges\\\\numpy\\\\__init__.py'>\n",
      "number            int              24\n",
      "pd                module           <module 'pandas' from 'C:<...>es\\\\pandas\\\\__init__.py'>\n",
      "plt               module           <module 'matplotlib' from<...>matplotlib\\\\__init__.py'>\n",
      "r                 int              24\n",
      "rand_list         list             n=24\n",
      "rando             list             n=6\n",
      "random            module           <module 'random' from 'C:<...>OCS4001\\\\Lib\\\\random.py'>\n",
      "rnad2             list             n=24\n",
      "sys               module           <module 'sys' (built-in)>\n",
      "x                 int              2\n"
     ]
    }
   ],
   "source": [
    "whos"
   ]
  },
  {
   "cell_type": "markdown",
   "id": "standing-constant",
   "metadata": {},
   "source": [
    "That's a really useless function, let's make a better one."
   ]
  },
  {
   "cell_type": "code",
   "execution_count": 32,
   "id": "voluntary-particle",
   "metadata": {},
   "outputs": [],
   "source": [
    "# usually you want to pass a varible of some sort to the function to manipulate\n",
    "\n",
    "def circle_area(radius):\n",
    "    area = 3.14*radius**2\n",
    "    return area   # the return statement means that the function will return that variable"
   ]
  },
  {
   "cell_type": "code",
   "execution_count": 33,
   "id": "noble-right",
   "metadata": {},
   "outputs": [
    {
     "data": {
      "text/plain": [
       "78.5"
      ]
     },
     "execution_count": 33,
     "metadata": {},
     "output_type": "execute_result"
    }
   ],
   "source": [
    "circle_area(5)"
   ]
  },
  {
   "cell_type": "markdown",
   "id": "little-numbers",
   "metadata": {},
   "source": [
    "What happens if I don't add the required input?"
   ]
  },
  {
   "cell_type": "code",
   "execution_count": 34,
   "id": "isolated-turning",
   "metadata": {},
   "outputs": [
    {
     "ename": "TypeError",
     "evalue": "circle_area() missing 1 required positional argument: 'radius'",
     "output_type": "error",
     "traceback": [
      "\u001b[1;31m---------------------------------------------------------------------------\u001b[0m",
      "\u001b[1;31mTypeError\u001b[0m                                 Traceback (most recent call last)",
      "Cell \u001b[1;32mIn[34], line 1\u001b[0m\n\u001b[1;32m----> 1\u001b[0m circle_area()\n",
      "\u001b[1;31mTypeError\u001b[0m: circle_area() missing 1 required positional argument: 'radius'"
     ]
    }
   ],
   "source": [
    "circle_area()"
   ]
  },
  {
   "cell_type": "markdown",
   "id": "removed-black",
   "metadata": {},
   "source": [
    "What happens if I omit the return statement?"
   ]
  },
  {
   "cell_type": "code",
   "execution_count": 35,
   "id": "traditional-drain",
   "metadata": {},
   "outputs": [],
   "source": [
    "def circle_area2(radius):\n",
    "    area = 3.14*radius**2"
   ]
  },
  {
   "cell_type": "code",
   "execution_count": 36,
   "id": "falling-committee",
   "metadata": {},
   "outputs": [],
   "source": [
    "circle_area2(5)"
   ]
  },
  {
   "cell_type": "markdown",
   "id": "retired-converter",
   "metadata": {},
   "source": [
    "How do I save the function output to a variable?"
   ]
  },
  {
   "cell_type": "markdown",
   "id": "enabling-mainland",
   "metadata": {},
   "source": [
    "Does the area variable inside the function exist outside of it?"
   ]
  },
  {
   "cell_type": "code",
   "execution_count": 38,
   "id": "informative-wallpaper",
   "metadata": {
    "scrolled": true
   },
   "outputs": [
    {
     "name": "stdout",
     "output_type": "stream",
     "text": [
      "Variable          Type             Data/Info\n",
      "--------------------------------------------\n",
      "NamespaceMagics   MetaHasTraits    <class 'IPython.core.magi<...>mespace.NamespaceMagics'>\n",
      "a                 list             n=11\n",
      "b                 list             n=13\n",
      "c                 list             n=7\n",
      "circle_area       function         <function circle_area at 0x000001BC28652C00>\n",
      "circle_area2      function         <function circle_area2 at 0x000001BC293B9A80>\n",
      "d                 int              24\n",
      "divisor           list             n=8\n",
      "function_name     function         <function function_name at 0x000001BC286520C0>\n",
      "get_ipython       function         <function get_ipython at 0x000001BC223CBE20>\n",
      "i                 int              2\n",
      "j                 int              4\n",
      "json              module           <module 'json' from 'C:\\\\<...>\\Lib\\\\json\\\\__init__.py'>\n",
      "k                 int              2\n",
      "n                 int              21\n",
      "np                module           <module 'numpy' from 'C:\\<...>ges\\\\numpy\\\\__init__.py'>\n",
      "number            int              24\n",
      "pd                module           <module 'pandas' from 'C:<...>es\\\\pandas\\\\__init__.py'>\n",
      "plt               module           <module 'matplotlib' from<...>matplotlib\\\\__init__.py'>\n",
      "r                 int              24\n",
      "rand_list         list             n=24\n",
      "rando             list             n=6\n",
      "random            module           <module 'random' from 'C:<...>OCS4001\\\\Lib\\\\random.py'>\n",
      "rnad2             list             n=24\n",
      "sys               module           <module 'sys' (built-in)>\n",
      "x                 int              2\n"
     ]
    }
   ],
   "source": [
    "whos"
   ]
  },
  {
   "cell_type": "code",
   "execution_count": 37,
   "id": "productive-ethiopia",
   "metadata": {},
   "outputs": [
    {
     "ename": "NameError",
     "evalue": "name 'area' is not defined",
     "output_type": "error",
     "traceback": [
      "\u001b[1;31m---------------------------------------------------------------------------\u001b[0m",
      "\u001b[1;31mNameError\u001b[0m                                 Traceback (most recent call last)",
      "Cell \u001b[1;32mIn[37], line 1\u001b[0m\n\u001b[1;32m----> 1\u001b[0m area\n",
      "\u001b[1;31mNameError\u001b[0m: name 'area' is not defined"
     ]
    }
   ],
   "source": [
    "area"
   ]
  },
  {
   "cell_type": "markdown",
   "id": "arctic-vinyl",
   "metadata": {},
   "source": [
    "Note I also could have made my function like this:"
   ]
  },
  {
   "cell_type": "code",
   "execution_count": 39,
   "id": "visible-annex",
   "metadata": {},
   "outputs": [],
   "source": [
    "def circle_area4(radius):\n",
    "    return 3.14*radius**2"
   ]
  },
  {
   "cell_type": "code",
   "execution_count": 40,
   "id": "narrow-forward",
   "metadata": {},
   "outputs": [
    {
     "data": {
      "text/plain": [
       "78.5"
      ]
     },
     "execution_count": 40,
     "metadata": {},
     "output_type": "execute_result"
    }
   ],
   "source": [
    "circle_area4(5)"
   ]
  },
  {
   "cell_type": "code",
   "execution_count": 41,
   "id": "plain-exchange",
   "metadata": {},
   "outputs": [
    {
     "data": {
      "text/plain": [
       "78.5"
      ]
     },
     "execution_count": 41,
     "metadata": {},
     "output_type": "execute_result"
    }
   ],
   "source": [
    "circle_area4(-5)"
   ]
  },
  {
   "cell_type": "markdown",
   "id": "neither-forty",
   "metadata": {},
   "source": [
    "### Parsing for bad input"
   ]
  },
  {
   "cell_type": "markdown",
   "id": "short-springfield",
   "metadata": {},
   "source": [
    "Note my above function will work even if the input is negative, which is not reasonable. So I probably want to include a statement that checks if the input is weird."
   ]
  },
  {
   "cell_type": "code",
   "execution_count": 44,
   "id": "round-shirt",
   "metadata": {},
   "outputs": [],
   "source": [
    "def circle_area5(radius):\n",
    "    # put in an if statement to handle bad inputs\n",
    "    if radius <=0:\n",
    "        print('Error: radius needs to be positive')\n",
    "        return\n",
    "    return 3.14*radius**2"
   ]
  },
  {
   "cell_type": "code",
   "execution_count": 45,
   "id": "151f3365-5f72-4913-8634-75cd7dd21ad2",
   "metadata": {},
   "outputs": [
    {
     "name": "stdout",
     "output_type": "stream",
     "text": [
      "Error: radius needs to be positive\n"
     ]
    }
   ],
   "source": [
    "circle_area5(-2)"
   ]
  },
  {
   "cell_type": "markdown",
   "id": "virgin-tragedy",
   "metadata": {},
   "source": [
    "### Using packages within functions"
   ]
  },
  {
   "cell_type": "markdown",
   "id": "initial-public",
   "metadata": {},
   "source": [
    "We can also have import statements within a function, but this can slow the function down if the package is not loaded already"
   ]
  },
  {
   "cell_type": "code",
   "execution_count": 46,
   "id": "educated-saver",
   "metadata": {},
   "outputs": [],
   "source": [
    "def circle_area6(radius):\n",
    "    if radius <= 0:\n",
    "        print('Error: radius needs to be positive')\n",
    "        return # exit the function\n",
    "    \n",
    "    import numpy as np\n",
    "    \n",
    "    return np.pi*radius**2\n",
    "#by importing within the def statement, the import will not remain in the kernel"
   ]
  },
  {
   "cell_type": "code",
   "execution_count": 47,
   "id": "chronic-bookmark",
   "metadata": {},
   "outputs": [
    {
     "data": {
      "text/plain": [
       "28.274333882308138"
      ]
     },
     "execution_count": 47,
     "metadata": {},
     "output_type": "execute_result"
    }
   ],
   "source": [
    "circle_area6(3) # note this is a much more accurate"
   ]
  },
  {
   "cell_type": "markdown",
   "id": "ethical-forest",
   "metadata": {},
   "source": [
    "We can have the function inputs have pre-defined default values, so that if you don't pass a variable it will use the default"
   ]
  },
  {
   "cell_type": "code",
   "execution_count": 48,
   "id": "brave-jamaica",
   "metadata": {},
   "outputs": [],
   "source": [
    "def circle_area7(radius = 3):\n",
    "    import numpy as np #import numpy so we can use the more exact value of pi\n",
    "    \n",
    "    return np.pi*radius**2"
   ]
  },
  {
   "cell_type": "code",
   "execution_count": 49,
   "id": "mounted-independence",
   "metadata": {},
   "outputs": [
    {
     "ename": "TypeError",
     "evalue": "circle_area() missing 1 required positional argument: 'radius'",
     "output_type": "error",
     "traceback": [
      "\u001b[1;31m---------------------------------------------------------------------------\u001b[0m",
      "\u001b[1;31mTypeError\u001b[0m                                 Traceback (most recent call last)",
      "Cell \u001b[1;32mIn[49], line 1\u001b[0m\n\u001b[1;32m----> 1\u001b[0m circle_area()\n",
      "\u001b[1;31mTypeError\u001b[0m: circle_area() missing 1 required positional argument: 'radius'"
     ]
    }
   ],
   "source": [
    "circle_area()"
   ]
  },
  {
   "cell_type": "code",
   "execution_count": 50,
   "id": "dense-review",
   "metadata": {},
   "outputs": [
    {
     "data": {
      "text/plain": [
       "28.274333882308138"
      ]
     },
     "execution_count": 50,
     "metadata": {},
     "output_type": "execute_result"
    }
   ],
   "source": [
    "circle_area7() # no argument given, so uses radius = 3 by default"
   ]
  },
  {
   "cell_type": "markdown",
   "id": "renewable-twelve",
   "metadata": {},
   "source": [
    "Is numpy imported outside the function? Let's check"
   ]
  },
  {
   "cell_type": "code",
   "execution_count": null,
   "id": "hidden-minutes",
   "metadata": {},
   "outputs": [],
   "source": [
    "np.pi"
   ]
  },
  {
   "cell_type": "code",
   "execution_count": null,
   "id": "hazardous-florist",
   "metadata": {},
   "outputs": [],
   "source": [
    "whos"
   ]
  },
  {
   "cell_type": "code",
   "execution_count": 51,
   "id": "published-invalid",
   "metadata": {},
   "outputs": [
    {
     "ename": "TypeError",
     "evalue": "unsupported operand type(s) for ** or pow(): 'list' and 'int'",
     "output_type": "error",
     "traceback": [
      "\u001b[1;31m---------------------------------------------------------------------------\u001b[0m",
      "\u001b[1;31mTypeError\u001b[0m                                 Traceback (most recent call last)",
      "Cell \u001b[1;32mIn[51], line 3\u001b[0m\n\u001b[0;32m      1\u001b[0m \u001b[38;5;66;03m# can our function handle lists? Let's check\u001b[39;00m\n\u001b[0;32m      2\u001b[0m r \u001b[38;5;241m=\u001b[39m [\u001b[38;5;241m1\u001b[39m,\u001b[38;5;241m2\u001b[39m,\u001b[38;5;241m3\u001b[39m]\n\u001b[1;32m----> 3\u001b[0m circle_area7(r)\n",
      "Cell \u001b[1;32mIn[48], line 4\u001b[0m, in \u001b[0;36mcircle_area7\u001b[1;34m(radius)\u001b[0m\n\u001b[0;32m      1\u001b[0m \u001b[38;5;28;01mdef\u001b[39;00m \u001b[38;5;21mcircle_area7\u001b[39m(radius \u001b[38;5;241m=\u001b[39m \u001b[38;5;241m3\u001b[39m):\n\u001b[0;32m      2\u001b[0m     \u001b[38;5;28;01mimport\u001b[39;00m \u001b[38;5;21;01mnumpy\u001b[39;00m \u001b[38;5;28;01mas\u001b[39;00m \u001b[38;5;21;01mnp\u001b[39;00m \u001b[38;5;66;03m#import numpy so we can use the more exact value of pi\u001b[39;00m\n\u001b[1;32m----> 4\u001b[0m     \u001b[38;5;28;01mreturn\u001b[39;00m np\u001b[38;5;241m.\u001b[39mpi\u001b[38;5;241m*\u001b[39mradius\u001b[38;5;241m*\u001b[39m\u001b[38;5;241m*\u001b[39m\u001b[38;5;241m2\u001b[39m\n",
      "\u001b[1;31mTypeError\u001b[0m: unsupported operand type(s) for ** or pow(): 'list' and 'int'"
     ]
    }
   ],
   "source": [
    "# can our function handle lists? Let's check\n",
    "r = [1,2,3]\n",
    "circle_area7(r)"
   ]
  },
  {
   "cell_type": "code",
   "execution_count": null,
   "id": "fundamental-branch",
   "metadata": {},
   "outputs": [],
   "source": []
  },
  {
   "cell_type": "code",
   "execution_count": 52,
   "id": "offshore-syria",
   "metadata": {},
   "outputs": [
    {
     "data": {
      "text/plain": [
       "array([ 3.14159265, 12.56637061, 28.27433388])"
      ]
     },
     "execution_count": 52,
     "metadata": {},
     "output_type": "execute_result"
    }
   ],
   "source": [
    "# can our function handle arrays?\n",
    "\n",
    "rnp = np.array(r)\n",
    "circle_area7(rnp)\n",
    "\n",
    "# what type of variable did the function return?"
   ]
  },
  {
   "cell_type": "markdown",
   "id": "regional-trouble",
   "metadata": {},
   "source": [
    "### It is very useful to add some documentation string info to your functions"
   ]
  },
  {
   "cell_type": "code",
   "execution_count": 55,
   "id": "short-chrome",
   "metadata": {},
   "outputs": [],
   "source": [
    "def circle_area7(radius = 3):\n",
    "    \"\"\" Returns the area of a circle given the radius. \n",
    "    Assumes the radius is 3 if not supplied. \"\"\"\n",
    "    #triple quotes are for updating metadata\n",
    "    import numpy as np\n",
    "    \n",
    "    return np.pi*radius**2"
   ]
  },
  {
   "cell_type": "markdown",
   "id": "unsigned-sport",
   "metadata": {},
   "source": [
    "Now my note in the triple double quotes shows up as a docstring"
   ]
  },
  {
   "cell_type": "code",
   "execution_count": 56,
   "id": "consistent-peace",
   "metadata": {},
   "outputs": [
    {
     "data": {
      "text/plain": [
       "\u001b[1;31mType:\u001b[0m        float\n",
       "\u001b[1;31mString form:\u001b[0m 3.141592653589793\n",
       "\u001b[1;31mDocstring:\u001b[0m   Convert a string or number to a floating point number, if possible."
      ]
     },
     "metadata": {},
     "output_type": "display_data"
    }
   ],
   "source": [
    "np.pi?"
   ]
  },
  {
   "cell_type": "code",
   "execution_count": 57,
   "id": "interstate-coverage",
   "metadata": {},
   "outputs": [
    {
     "data": {
      "text/plain": [
       "\u001b[1;31mSignature:\u001b[0m \u001b[0mcircle_area7\u001b[0m\u001b[1;33m(\u001b[0m\u001b[0mradius\u001b[0m\u001b[1;33m=\u001b[0m\u001b[1;36m3\u001b[0m\u001b[1;33m)\u001b[0m\u001b[1;33m\u001b[0m\u001b[1;33m\u001b[0m\u001b[0m\n",
       "\u001b[1;31mDocstring:\u001b[0m\n",
       "Returns the area of a circle given the radius. \n",
       "Assumes the radius is 3 if not supplied. \n",
       "\u001b[1;31mFile:\u001b[0m      c:\\users\\zlaird1\\appdata\\local\\temp\\ipykernel_49268\\3151268694.py\n",
       "\u001b[1;31mType:\u001b[0m      function"
      ]
     },
     "metadata": {},
     "output_type": "display_data"
    }
   ],
   "source": [
    "circle_area7?"
   ]
  },
  {
   "cell_type": "markdown",
   "id": "assisted-assurance",
   "metadata": {},
   "source": [
    "There is a standard practice in programming to write out the Parameters (inputs/arguments) and Returns (output) in the docstring. Let's look a this for a predefined function and then make if for our simple function."
   ]
  },
  {
   "cell_type": "code",
   "execution_count": 58,
   "id": "quarterly-spring",
   "metadata": {
    "scrolled": true
   },
   "outputs": [
    {
     "data": {
      "text/plain": [
       "\u001b[1;31mSignature:\u001b[0m      \n",
       "\u001b[0mnp\u001b[0m\u001b[1;33m.\u001b[0m\u001b[0mmax\u001b[0m\u001b[1;33m(\u001b[0m\u001b[1;33m\n",
       "\u001b[0m    \u001b[0ma\u001b[0m\u001b[1;33m,\u001b[0m\u001b[1;33m\n",
       "\u001b[0m    \u001b[0maxis\u001b[0m\u001b[1;33m=\u001b[0m\u001b[1;32mNone\u001b[0m\u001b[1;33m,\u001b[0m\u001b[1;33m\n",
       "\u001b[0m    \u001b[0mout\u001b[0m\u001b[1;33m=\u001b[0m\u001b[1;32mNone\u001b[0m\u001b[1;33m,\u001b[0m\u001b[1;33m\n",
       "\u001b[0m    \u001b[0mkeepdims\u001b[0m\u001b[1;33m=\u001b[0m\u001b[1;33m<\u001b[0m\u001b[0mno\u001b[0m \u001b[0mvalue\u001b[0m\u001b[1;33m>\u001b[0m\u001b[1;33m,\u001b[0m\u001b[1;33m\n",
       "\u001b[0m    \u001b[0minitial\u001b[0m\u001b[1;33m=\u001b[0m\u001b[1;33m<\u001b[0m\u001b[0mno\u001b[0m \u001b[0mvalue\u001b[0m\u001b[1;33m>\u001b[0m\u001b[1;33m,\u001b[0m\u001b[1;33m\n",
       "\u001b[0m    \u001b[0mwhere\u001b[0m\u001b[1;33m=\u001b[0m\u001b[1;33m<\u001b[0m\u001b[0mno\u001b[0m \u001b[0mvalue\u001b[0m\u001b[1;33m>\u001b[0m\u001b[1;33m,\u001b[0m\u001b[1;33m\n",
       "\u001b[0m\u001b[1;33m)\u001b[0m\u001b[1;33m\u001b[0m\u001b[1;33m\u001b[0m\u001b[0m\n",
       "\u001b[1;31mCall signature:\u001b[0m  \u001b[0mnp\u001b[0m\u001b[1;33m.\u001b[0m\u001b[0mmax\u001b[0m\u001b[1;33m(\u001b[0m\u001b[1;33m*\u001b[0m\u001b[0margs\u001b[0m\u001b[1;33m,\u001b[0m \u001b[1;33m**\u001b[0m\u001b[0mkwargs\u001b[0m\u001b[1;33m)\u001b[0m\u001b[1;33m\u001b[0m\u001b[1;33m\u001b[0m\u001b[0m\n",
       "\u001b[1;31mType:\u001b[0m            _ArrayFunctionDispatcher\n",
       "\u001b[1;31mString form:\u001b[0m     <function max at 0x000001BC251CEC00>\n",
       "\u001b[1;31mFile:\u001b[0m            c:\\users\\zlaird1\\appdata\\local\\anaconda3\\envs\\ocs4001\\lib\\site-packages\\numpy\\core\\fromnumeric.py\n",
       "\u001b[1;31mDocstring:\u001b[0m      \n",
       "Return the maximum of an array or maximum along an axis.\n",
       "\n",
       "Parameters\n",
       "----------\n",
       "a : array_like\n",
       "    Input data.\n",
       "axis : None or int or tuple of ints, optional\n",
       "    Axis or axes along which to operate.  By default, flattened input is\n",
       "    used.\n",
       "\n",
       "    .. versionadded:: 1.7.0\n",
       "\n",
       "    If this is a tuple of ints, the maximum is selected over multiple axes,\n",
       "    instead of a single axis or all the axes as before.\n",
       "out : ndarray, optional\n",
       "    Alternative output array in which to place the result.  Must\n",
       "    be of the same shape and buffer length as the expected output.\n",
       "    See :ref:`ufuncs-output-type` for more details.\n",
       "\n",
       "keepdims : bool, optional\n",
       "    If this is set to True, the axes which are reduced are left\n",
       "    in the result as dimensions with size one. With this option,\n",
       "    the result will broadcast correctly against the input array.\n",
       "\n",
       "    If the default value is passed, then `keepdims` will not be\n",
       "    passed through to the ``max`` method of sub-classes of\n",
       "    `ndarray`, however any non-default value will be.  If the\n",
       "    sub-class' method does not implement `keepdims` any\n",
       "    exceptions will be raised.\n",
       "\n",
       "initial : scalar, optional\n",
       "    The minimum value of an output element. Must be present to allow\n",
       "    computation on empty slice. See `~numpy.ufunc.reduce` for details.\n",
       "\n",
       "    .. versionadded:: 1.15.0\n",
       "\n",
       "where : array_like of bool, optional\n",
       "    Elements to compare for the maximum. See `~numpy.ufunc.reduce`\n",
       "    for details.\n",
       "\n",
       "    .. versionadded:: 1.17.0\n",
       "\n",
       "Returns\n",
       "-------\n",
       "max : ndarray or scalar\n",
       "    Maximum of `a`. If `axis` is None, the result is a scalar value.\n",
       "    If `axis` is an int, the result is an array of dimension\n",
       "    ``a.ndim - 1``. If `axis` is a tuple, the result is an array of \n",
       "    dimension ``a.ndim - len(axis)``.\n",
       "\n",
       "See Also\n",
       "--------\n",
       "amin :\n",
       "    The minimum value of an array along a given axis, propagating any NaNs.\n",
       "nanmax :\n",
       "    The maximum value of an array along a given axis, ignoring any NaNs.\n",
       "maximum :\n",
       "    Element-wise maximum of two arrays, propagating any NaNs.\n",
       "fmax :\n",
       "    Element-wise maximum of two arrays, ignoring any NaNs.\n",
       "argmax :\n",
       "    Return the indices of the maximum values.\n",
       "\n",
       "nanmin, minimum, fmin\n",
       "\n",
       "Notes\n",
       "-----\n",
       "NaN values are propagated, that is if at least one item is NaN, the\n",
       "corresponding max value will be NaN as well. To ignore NaN values\n",
       "(MATLAB behavior), please use nanmax.\n",
       "\n",
       "Don't use `~numpy.max` for element-wise comparison of 2 arrays; when\n",
       "``a.shape[0]`` is 2, ``maximum(a[0], a[1])`` is faster than\n",
       "``max(a, axis=0)``.\n",
       "\n",
       "Examples\n",
       "--------\n",
       ">>> a = np.arange(4).reshape((2,2))\n",
       ">>> a\n",
       "array([[0, 1],\n",
       "       [2, 3]])\n",
       ">>> np.max(a)           # Maximum of the flattened array\n",
       "3\n",
       ">>> np.max(a, axis=0)   # Maxima along the first axis\n",
       "array([2, 3])\n",
       ">>> np.max(a, axis=1)   # Maxima along the second axis\n",
       "array([1, 3])\n",
       ">>> np.max(a, where=[False, True], initial=-1, axis=0)\n",
       "array([-1,  3])\n",
       ">>> b = np.arange(5, dtype=float)\n",
       ">>> b[2] = np.NaN\n",
       ">>> np.max(b)\n",
       "nan\n",
       ">>> np.max(b, where=~np.isnan(b), initial=-1)\n",
       "4.0\n",
       ">>> np.nanmax(b)\n",
       "4.0\n",
       "\n",
       "You can use an initial value to compute the maximum of an empty slice, or\n",
       "to initialize it to a different value:\n",
       "\n",
       ">>> np.max([[-50], [10]], axis=-1, initial=0)\n",
       "array([ 0, 10])\n",
       "\n",
       "Notice that the initial value is used as one of the elements for which the\n",
       "maximum is determined, unlike for the default argument Python's max\n",
       "function, which is only used for empty iterables.\n",
       "\n",
       ">>> np.max([5], initial=6)\n",
       "6\n",
       ">>> max([5], default=6)\n",
       "5\n",
       "\u001b[1;31mClass docstring:\u001b[0m\n",
       "Class to wrap functions with checks for __array_function__ overrides.\n",
       "\n",
       "All arguments are required, and can only be passed by position.\n",
       "\n",
       "Parameters\n",
       "----------\n",
       "dispatcher : function or None\n",
       "    The dispatcher function that returns a single sequence-like object\n",
       "    of all arguments relevant.  It must have the same signature (except\n",
       "    the default values) as the actual implementation.\n",
       "    If ``None``, this is a ``like=`` dispatcher and the\n",
       "    ``_ArrayFunctionDispatcher`` must be called with ``like`` as the\n",
       "    first (additional and positional) argument.\n",
       "implementation : function\n",
       "    Function that implements the operation on NumPy arrays without\n",
       "    overrides.  Arguments passed calling the ``_ArrayFunctionDispatcher``\n",
       "    will be forwarded to this (and the ``dispatcher``) as if using\n",
       "    ``*args, **kwargs``.\n",
       "\n",
       "Attributes\n",
       "----------\n",
       "_implementation : function\n",
       "    The original implementation passed in."
      ]
     },
     "metadata": {},
     "output_type": "display_data"
    }
   ],
   "source": [
    "np.max?"
   ]
  },
  {
   "cell_type": "code",
   "execution_count": 59,
   "id": "looking-bubble",
   "metadata": {},
   "outputs": [],
   "source": [
    "def circle_area7(radius = 3):\n",
    "    \"\"\" Returns the area of a circle given the radius. \n",
    "    \n",
    "    Parameters\n",
    "    ----------\n",
    "    radius: array like, radius of the circle\n",
    "    Assumes the radius is 3 if not supplied.\n",
    "    \n",
    "    Returns\n",
    "    -------\n",
    "    area: ndarray or scalar\n",
    "    Returns the area for the given radii\n",
    "    \n",
    "    \"\"\"\n",
    "    \n",
    "    import numpy as np\n",
    "    \n",
    "    return np.pi*radius**2"
   ]
  },
  {
   "cell_type": "code",
   "execution_count": 60,
   "id": "educated-study",
   "metadata": {},
   "outputs": [
    {
     "data": {
      "text/plain": [
       "\u001b[1;31mSignature:\u001b[0m \u001b[0mcircle_area7\u001b[0m\u001b[1;33m(\u001b[0m\u001b[0mradius\u001b[0m\u001b[1;33m=\u001b[0m\u001b[1;36m3\u001b[0m\u001b[1;33m)\u001b[0m\u001b[1;33m\u001b[0m\u001b[1;33m\u001b[0m\u001b[0m\n",
       "\u001b[1;31mDocstring:\u001b[0m\n",
       "Returns the area of a circle given the radius. \n",
       "\n",
       "Parameters\n",
       "----------\n",
       "radius: array like, radius of the circle\n",
       "Assumes the radius is 3 if not supplied.\n",
       "\n",
       "Returns\n",
       "-------\n",
       "area: ndarray or scalar\n",
       "Returns the area for the given radii\n",
       "\u001b[1;31mFile:\u001b[0m      c:\\users\\zlaird1\\appdata\\local\\temp\\ipykernel_49268\\1644116025.py\n",
       "\u001b[1;31mType:\u001b[0m      function"
      ]
     },
     "metadata": {},
     "output_type": "display_data"
    }
   ],
   "source": [
    "circle_area7?"
   ]
  },
  {
   "cell_type": "code",
   "execution_count": null,
   "id": "amended-marshall",
   "metadata": {},
   "outputs": [],
   "source": []
  },
  {
   "cell_type": "markdown",
   "id": "demanding-ghost",
   "metadata": {},
   "source": [
    "# Lab 5.2"
   ]
  },
  {
   "cell_type": "markdown",
   "id": "large-paradise",
   "metadata": {},
   "source": [
    "**E.1** Complete Introduction to Functions in Python Ch 1 (you can do Ch 2-3 if you are very keen, but this is not required)\n"
   ]
  },
  {
   "cell_type": "code",
   "execution_count": null,
   "id": "approximate-recall",
   "metadata": {},
   "outputs": [],
   "source": []
  },
  {
   "cell_type": "markdown",
   "id": "grateful-russia",
   "metadata": {},
   "source": [
    "**E.2** Make notes for yourself on progamming tecniques and commands you learned in the datacamp chapter above, including examples, comments and explainitory text. You can do this here or in a separate notebook that you link to here. Basically, you are making a cheat sheet for yourself."
   ]
  },
  {
   "cell_type": "code",
   "execution_count": null,
   "id": "joined-reset",
   "metadata": {},
   "outputs": [],
   "source": [
    "#defining a function reguires this syntax: def function_name():\n",
    "#the call function designates that function_name(# of arguments, # of parameters) \n",
    "    #for 2 values in a function\n",
    "#A tuple makes a function return multiple values\n",
    "# can assign the values in one line as well EX: x,y,z = list, when list = (1,2,3)\n",
    "# a tuple is constructed as tuple = (x,y) and to call that you would do word, word2 = ('pasta','alfredo')"
   ]
  },
  {
   "cell_type": "markdown",
   "id": "sudden-policy",
   "metadata": {},
   "source": [
    "### This week's project:\n",
    "\n",
    "**E.3** Write two functions that work on your dataset (you can use the same dataset you plotted previously or a different one). The first function will do some sort of manipulation (e.g., removing bad data, subsetting) or calculation/analysis, the second will be a plotting function. The idea here is that if you had another datafile that was similar, you could use the functions to do the programming tasks again easily. You will present these to the class next week, similar to how you presented your plots. \n",
    "\n",
    "Add 1-2 slides here: https://lsu.box.com/s/6qz51fijd4sc1ne175w3j7e5lxmk7x0l"
   ]
  },
  {
   "cell_type": "code",
   "execution_count": 67,
   "id": "39723a4e-dd51-4250-816c-d2e015bd0584",
   "metadata": {},
   "outputs": [],
   "source": [
    "particle_analysis = pd.read_csv(r'C:\\Users\\zlaird1\\Documents\\PtSize.csv')"
   ]
  },
  {
   "cell_type": "code",
   "execution_count": 68,
   "id": "committed-leadership",
   "metadata": {},
   "outputs": [
    {
     "data": {
      "text/html": [
       "<div>\n",
       "<style scoped>\n",
       "    .dataframe tbody tr th:only-of-type {\n",
       "        vertical-align: middle;\n",
       "    }\n",
       "\n",
       "    .dataframe tbody tr th {\n",
       "        vertical-align: top;\n",
       "    }\n",
       "\n",
       "    .dataframe thead th {\n",
       "        text-align: right;\n",
       "    }\n",
       "</style>\n",
       "<table border=\"1\" class=\"dataframe\">\n",
       "  <thead>\n",
       "    <tr style=\"text-align: right;\">\n",
       "      <th></th>\n",
       "      <th>X Size</th>\n",
       "      <th>Y Size</th>\n",
       "      <th>Sphericity Coefficient</th>\n",
       "    </tr>\n",
       "  </thead>\n",
       "  <tbody>\n",
       "    <tr>\n",
       "      <th>0</th>\n",
       "      <td>327.12</td>\n",
       "      <td>14.98</td>\n",
       "      <td>0.954206</td>\n",
       "    </tr>\n",
       "    <tr>\n",
       "      <th>1</th>\n",
       "      <td>700.79</td>\n",
       "      <td>171.85</td>\n",
       "      <td>0.754777</td>\n",
       "    </tr>\n",
       "    <tr>\n",
       "      <th>2</th>\n",
       "      <td>176.57</td>\n",
       "      <td>284.12</td>\n",
       "      <td>-0.609107</td>\n",
       "    </tr>\n",
       "    <tr>\n",
       "      <th>3</th>\n",
       "      <td>171.54</td>\n",
       "      <td>246.55</td>\n",
       "      <td>-0.437274</td>\n",
       "    </tr>\n",
       "    <tr>\n",
       "      <th>4</th>\n",
       "      <td>396.65</td>\n",
       "      <td>573.51</td>\n",
       "      <td>-0.445884</td>\n",
       "    </tr>\n",
       "    <tr>\n",
       "      <th>5</th>\n",
       "      <td>337.83</td>\n",
       "      <td>305.55</td>\n",
       "      <td>0.095551</td>\n",
       "    </tr>\n",
       "    <tr>\n",
       "      <th>6</th>\n",
       "      <td>155.43</td>\n",
       "      <td>155.43</td>\n",
       "      <td>0.000000</td>\n",
       "    </tr>\n",
       "    <tr>\n",
       "      <th>7</th>\n",
       "      <td>85.97</td>\n",
       "      <td>176.43</td>\n",
       "      <td>-1.052228</td>\n",
       "    </tr>\n",
       "    <tr>\n",
       "      <th>8</th>\n",
       "      <td>101.48</td>\n",
       "      <td>272.29</td>\n",
       "      <td>-1.683189</td>\n",
       "    </tr>\n",
       "    <tr>\n",
       "      <th>9</th>\n",
       "      <td>113.95</td>\n",
       "      <td>367.68</td>\n",
       "      <td>-2.226678</td>\n",
       "    </tr>\n",
       "    <tr>\n",
       "      <th>10</th>\n",
       "      <td>32.16</td>\n",
       "      <td>64.32</td>\n",
       "      <td>-1.000000</td>\n",
       "    </tr>\n",
       "    <tr>\n",
       "      <th>11</th>\n",
       "      <td>225.11</td>\n",
       "      <td>37.90</td>\n",
       "      <td>0.831638</td>\n",
       "    </tr>\n",
       "    <tr>\n",
       "      <th>12</th>\n",
       "      <td>80.40</td>\n",
       "      <td>69.88</td>\n",
       "      <td>0.130846</td>\n",
       "    </tr>\n",
       "    <tr>\n",
       "      <th>13</th>\n",
       "      <td>101.98</td>\n",
       "      <td>160.88</td>\n",
       "      <td>-0.577564</td>\n",
       "    </tr>\n",
       "    <tr>\n",
       "      <th>14</th>\n",
       "      <td>182.23</td>\n",
       "      <td>418.09</td>\n",
       "      <td>-1.294298</td>\n",
       "    </tr>\n",
       "    <tr>\n",
       "      <th>15</th>\n",
       "      <td>118.04</td>\n",
       "      <td>83.92</td>\n",
       "      <td>0.289055</td>\n",
       "    </tr>\n",
       "    <tr>\n",
       "      <th>16</th>\n",
       "      <td>53.86</td>\n",
       "      <td>58.96</td>\n",
       "      <td>-0.094690</td>\n",
       "    </tr>\n",
       "    <tr>\n",
       "      <th>17</th>\n",
       "      <td>259.27</td>\n",
       "      <td>477.13</td>\n",
       "      <td>-0.840282</td>\n",
       "    </tr>\n",
       "    <tr>\n",
       "      <th>18</th>\n",
       "      <td>43.21</td>\n",
       "      <td>171.39</td>\n",
       "      <td>-2.966443</td>\n",
       "    </tr>\n",
       "    <tr>\n",
       "      <th>19</th>\n",
       "      <td>209.10</td>\n",
       "      <td>118.04</td>\n",
       "      <td>0.435485</td>\n",
       "    </tr>\n",
       "    <tr>\n",
       "      <th>20</th>\n",
       "      <td>310.91</td>\n",
       "      <td>268.04</td>\n",
       "      <td>0.137886</td>\n",
       "    </tr>\n",
       "    <tr>\n",
       "      <th>21</th>\n",
       "      <td>58.96</td>\n",
       "      <td>91.27</td>\n",
       "      <td>-0.547999</td>\n",
       "    </tr>\n",
       "    <tr>\n",
       "      <th>22</th>\n",
       "      <td>373.18</td>\n",
       "      <td>321.26</td>\n",
       "      <td>0.139129</td>\n",
       "    </tr>\n",
       "    <tr>\n",
       "      <th>23</th>\n",
       "      <td>80.57</td>\n",
       "      <td>85.92</td>\n",
       "      <td>-0.066402</td>\n",
       "    </tr>\n",
       "    <tr>\n",
       "      <th>24</th>\n",
       "      <td>305.55</td>\n",
       "      <td>203.74</td>\n",
       "      <td>0.333202</td>\n",
       "    </tr>\n",
       "    <tr>\n",
       "      <th>25</th>\n",
       "      <td>278.91</td>\n",
       "      <td>289.42</td>\n",
       "      <td>-0.037682</td>\n",
       "    </tr>\n",
       "    <tr>\n",
       "      <th>26</th>\n",
       "      <td>171.51</td>\n",
       "      <td>182.23</td>\n",
       "      <td>-0.062504</td>\n",
       "    </tr>\n",
       "    <tr>\n",
       "      <th>27</th>\n",
       "      <td>53.60</td>\n",
       "      <td>216.79</td>\n",
       "      <td>-3.044590</td>\n",
       "    </tr>\n",
       "    <tr>\n",
       "      <th>28</th>\n",
       "      <td>107.73</td>\n",
       "      <td>193.02</td>\n",
       "      <td>-0.791701</td>\n",
       "    </tr>\n",
       "    <tr>\n",
       "      <th>29</th>\n",
       "      <td>618.58</td>\n",
       "      <td>193.62</td>\n",
       "      <td>0.686993</td>\n",
       "    </tr>\n",
       "  </tbody>\n",
       "</table>\n",
       "</div>"
      ],
      "text/plain": [
       "    X Size  Y Size  Sphericity Coefficient\n",
       "0   327.12   14.98                0.954206\n",
       "1   700.79  171.85                0.754777\n",
       "2   176.57  284.12               -0.609107\n",
       "3   171.54  246.55               -0.437274\n",
       "4   396.65  573.51               -0.445884\n",
       "5   337.83  305.55                0.095551\n",
       "6   155.43  155.43                0.000000\n",
       "7    85.97  176.43               -1.052228\n",
       "8   101.48  272.29               -1.683189\n",
       "9   113.95  367.68               -2.226678\n",
       "10   32.16   64.32               -1.000000\n",
       "11  225.11   37.90                0.831638\n",
       "12   80.40   69.88                0.130846\n",
       "13  101.98  160.88               -0.577564\n",
       "14  182.23  418.09               -1.294298\n",
       "15  118.04   83.92                0.289055\n",
       "16   53.86   58.96               -0.094690\n",
       "17  259.27  477.13               -0.840282\n",
       "18   43.21  171.39               -2.966443\n",
       "19  209.10  118.04                0.435485\n",
       "20  310.91  268.04                0.137886\n",
       "21   58.96   91.27               -0.547999\n",
       "22  373.18  321.26                0.139129\n",
       "23   80.57   85.92               -0.066402\n",
       "24  305.55  203.74                0.333202\n",
       "25  278.91  289.42               -0.037682\n",
       "26  171.51  182.23               -0.062504\n",
       "27   53.60  216.79               -3.044590\n",
       "28  107.73  193.02               -0.791701\n",
       "29  618.58  193.62                0.686993"
      ]
     },
     "execution_count": 68,
     "metadata": {},
     "output_type": "execute_result"
    }
   ],
   "source": [
    "particle_analysis"
   ]
  },
  {
   "cell_type": "code",
   "execution_count": 73,
   "id": "economic-beaver",
   "metadata": {},
   "outputs": [],
   "source": [
    "Sphericity = particle_analysis.iloc[0:30, 2]"
   ]
  },
  {
   "cell_type": "code",
   "execution_count": 74,
   "id": "1fdb99b8-78e9-4648-b3a6-a904dd7da511",
   "metadata": {},
   "outputs": [
    {
     "data": {
      "text/plain": [
       "0     0.954206\n",
       "1     0.754777\n",
       "2    -0.609107\n",
       "3    -0.437274\n",
       "4    -0.445884\n",
       "5     0.095551\n",
       "6     0.000000\n",
       "7    -1.052228\n",
       "8    -1.683189\n",
       "9    -2.226678\n",
       "10   -1.000000\n",
       "11    0.831638\n",
       "12    0.130846\n",
       "13   -0.577564\n",
       "14   -1.294298\n",
       "15    0.289055\n",
       "16   -0.094690\n",
       "17   -0.840282\n",
       "18   -2.966443\n",
       "19    0.435485\n",
       "20    0.137886\n",
       "21   -0.547999\n",
       "22    0.139129\n",
       "23   -0.066402\n",
       "24    0.333202\n",
       "25   -0.037682\n",
       "26   -0.062504\n",
       "27   -3.044590\n",
       "28   -0.791701\n",
       "29    0.686993\n",
       "Name: Sphericity Coefficient, dtype: float64"
      ]
     },
     "execution_count": 74,
     "metadata": {},
     "output_type": "execute_result"
    }
   ],
   "source": [
    "Sphericity"
   ]
  },
  {
   "cell_type": "code",
   "execution_count": 101,
   "id": "46773fdc-6782-441b-a8cb-117c08a61d27",
   "metadata": {},
   "outputs": [],
   "source": [
    "def spherical_cat(Sphericity):\n",
    "    Output = []\n",
    "    for x in Sphericity:\n",
    "        if x >=0.5:\n",
    "            Output = str(Output) + \"not spherical, \"\n",
    "        elif 0<=x<0.5:\n",
    "            Output = str(Output) + \"spherical, \"\n",
    "        elif x<-0.5:\n",
    "            Output = str(Output) + \"not spherical, \"\n",
    "        else:\n",
    "            Output = str(Output) + \"mostly spherical, \"\n",
    "    print(Output)"
   ]
  },
  {
   "cell_type": "code",
   "execution_count": 102,
   "id": "ed5eabec-c640-4966-98e4-b06f4a6e98e5",
   "metadata": {},
   "outputs": [
    {
     "name": "stdout",
     "output_type": "stream",
     "text": [
      "[]not spherical, not spherical, not spherical, mostly spherical, mostly spherical, spherical, spherical, not spherical, not spherical, not spherical, not spherical, not spherical, spherical, not spherical, not spherical, spherical, mostly spherical, not spherical, not spherical, spherical, spherical, not spherical, spherical, mostly spherical, spherical, mostly spherical, mostly spherical, not spherical, not spherical, not spherical, \n"
     ]
    }
   ],
   "source": [
    "spherical_cat(Sphericity)"
   ]
  },
  {
   "cell_type": "code",
   "execution_count": 111,
   "id": "238500a1-5a04-4395-8f82-c09d8fa26fc7",
   "metadata": {},
   "outputs": [],
   "source": [
    "def sphericity_plt(plot):\n",
    "    plt.hist(plot, bins = 5, color = 'green')\n",
    "    plt.xlabel('Sphericity Coefficient')\n",
    "    plt.ylabel('Number of Particles in Category')\n",
    "    plt.title('Histogram of Sphericity Coefficients')"
   ]
  },
  {
   "cell_type": "code",
   "execution_count": 112,
   "id": "3b61f697-4154-405b-a372-0b82ce6c7633",
   "metadata": {},
   "outputs": [
    {
     "data": {
      "image/png": "[encoded data removed]",
      "text/plain": [
       "<Figure size 640x480 with 1 Axes>"
      ]
     },
     "metadata": {},
     "output_type": "display_data"
    }
   ],
   "source": [
    "sphericity_plt(Sphericity)"
   ]
  },
  {
   "cell_type": "code",
   "execution_count": null,
   "id": "efedc315-2fd9-4dc6-af70-580fcc7e8306",
   "metadata": {},
   "outputs": [],
   "source": []
  }
 ],
 "metadata": {
  "kernelspec": {
   "display_name": "Python 3 (ipykernel)",
   "language": "python",
   "name": "python3"
  },
  "language_info": {
   "codemirror_mode": {
    "name": "ipython",
    "version": 3
   },
   "file_extension": ".py",
   "mimetype": "text/x-python",
   "name": "python",
   "nbconvert_exporter": "python",
   "pygments_lexer": "ipython3",
   "version": "3.12.4"
  }
 },
 "nbformat": 4,
 "nbformat_minor": 5
}
