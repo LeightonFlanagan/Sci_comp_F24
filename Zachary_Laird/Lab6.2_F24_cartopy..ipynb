{
 "cells": [
  {
   "cell_type": "markdown",
   "id": "separate-municipality",
   "metadata": {},
   "source": [
    "Name: Zachary Laird"
   ]
  },
  {
   "cell_type": "markdown",
   "id": "saving-reception",
   "metadata": {},
   "source": [
    "Labpartner(s): Sharmin Siddika, Fahmida Akhter, Israt Tama"
   ]
  },
  {
   "cell_type": "code",
   "execution_count": 4,
   "id": "automotive-indianapolis",
   "metadata": {},
   "outputs": [],
   "source": [
    "#import statements go here\n",
    "import matplotlib.pyplot as plt\n",
    "import numpy as np\n",
    "import xarray as xr\n",
    "import random\n",
    "import pandas"
   ]
  },
  {
   "cell_type": "markdown",
   "id": "d94c327b-a0ed-42d9-9353-1cd1556d1153",
   "metadata": {},
   "source": [
    "**For today's lab you need to install the package cartopy**"
   ]
  },
  {
   "cell_type": "code",
   "execution_count": 2,
   "id": "1a019b56-ebdf-4954-892d-2ea06dcb38fc",
   "metadata": {},
   "outputs": [],
   "source": [
    "# you can install packages here in a notebook with pip or conda, \n",
    "# or in the anaconda navigator in the environments tab (reccommended)\n",
    "\n",
    "# pip install cartopy\n",
    "# conda install cartopy"
   ]
  },
  {
   "cell_type": "code",
   "execution_count": 3,
   "id": "52a3a938-7ae1-4106-b9f8-ec8fa5bbd3f0",
   "metadata": {},
   "outputs": [],
   "source": [
    "import cartopy.crs as ccrs   #import map styles/types\n",
    "import cartopy.feature as cfeature  # features such as the ocean, coastlines rivers, etc\n",
    "from cartopy.mpl.gridliner import LONGITUDE_FORMATTER, LATITUDE_FORMATTER"
   ]
  },
  {
   "cell_type": "markdown",
   "id": "proprietary-prince",
   "metadata": {},
   "source": [
    "# Class 6.2"
   ]
  },
  {
   "cell_type": "markdown",
   "id": "religious-investigation",
   "metadata": {},
   "source": [
    "Today we will finish fiunction sharing and do more plotting"
   ]
  },
  {
   "cell_type": "markdown",
   "id": "adjustable-handle",
   "metadata": {},
   "source": [
    "# Warmups 6.2"
   ]
  },
  {
   "cell_type": "markdown",
   "id": "hungry-moses",
   "metadata": {},
   "source": [
    "**W.1** (From Zach) Write some code that generates 15 random integers from 1-100. If the integers are divisible by 2 assign them to list \"x\" if they are divisible by three, assign them to list \"y\", if they are neither assign them to list \"z\". "
   ]
  },
  {
   "cell_type": "code",
   "execution_count": 17,
   "id": "fa86ad81-ac4f-40c5-8687-b72cd6167e9d",
   "metadata": {},
   "outputs": [
    {
     "name": "stdout",
     "output_type": "stream",
     "text": [
      "x: [46, 10, 46, 44, 6, 58, 86]\n",
      "y: [63, 9, 63]\n",
      "z: [61, 35, 73, 53, 1]\n"
     ]
    }
   ],
   "source": [
    "x = []\n",
    "y=[]\n",
    "z=[]\n",
    "n=15\n",
    "for i in range(n):\n",
    "    i = random.randint(1,100)\n",
    "    if i %2==0:\n",
    "        x.append(i)\n",
    "    elif i %3==0:\n",
    "        y.append(i)\n",
    "    else :\n",
    "        z.append(i)\n",
    "print(\"x:\",x)\n",
    "print(\"y:\", y)\n",
    "print(\"z:\",z)"
   ]
  },
  {
   "cell_type": "markdown",
   "id": "c0c73c20-b20b-4a2b-9861-b486b28a18a6",
   "metadata": {},
   "source": [
    "**W.2** Plot your lists together in some sensible way. Zach suggests a histogram with different colors for each list"
   ]
  },
  {
   "cell_type": "code",
   "execution_count": 29,
   "id": "8baf8111-4786-4ed9-a760-3ca8c7ec2338",
   "metadata": {},
   "outputs": [
    {
     "data": {
      "text/plain": [
       "<matplotlib.legend.Legend at 0x292bbd0a8a0>"
      ]
     },
     "execution_count": 29,
     "metadata": {},
     "output_type": "execute_result"
    },
    {
     "data": {
      "image/png": "[encoded data removed]",
      "text/plain": [
       "<Figure size 640x480 with 1 Axes>"
      ]
     },
     "metadata": {},
     "output_type": "display_data"
    }
   ],
   "source": [
    "bins = 5\n",
    "plt.hist(x, bins, color = 'blue', alpha=0.7, label='x')\n",
    "plt.hist(y, bins, color = 'green', alpha=0.7, label='y')\n",
    "plt.hist(z, bins, color = 'red', alpha = 0.7, label='z')\n",
    "plt.legend(loc = 'upper right')"
   ]
  },
  {
   "cell_type": "markdown",
   "id": "confident-palestinian",
   "metadata": {},
   "source": [
    "# Lecture 6.2\n",
    "\n",
    "### Agenda:\n",
    "\n",
    "- Show us your functions\n",
    "- Questions\n",
    "- xarray package and plotting netcdf files\n"
   ]
  },
  {
   "cell_type": "markdown",
   "id": "24892ba4-f640-4aeb-ac69-c7e94bd20119",
   "metadata": {},
   "source": [
    "### Show us your functions (from Lab 5.2) - continued"
   ]
  },
  {
   "cell_type": "markdown",
   "id": "variable-panama",
   "metadata": {},
   "source": [
    "### Questions"
   ]
  },
  {
   "cell_type": "code",
   "execution_count": null,
   "id": "simple-acceptance",
   "metadata": {},
   "outputs": [],
   "source": []
  },
  {
   "cell_type": "markdown",
   "id": "bigger-munich",
   "metadata": {},
   "source": [
    "### Cartopy"
   ]
  },
  {
   "cell_type": "markdown",
   "id": "nasty-scroll",
   "metadata": {},
   "source": [
    "Let's take the data we used last time and make the plot publication ready"
   ]
  },
  {
   "cell_type": "markdown",
   "id": "3211af1a-2850-4c33-8ca2-e718e5406f59",
   "metadata": {},
   "source": [
    "There are a number of differnt map projections available in Cartopy.  https://scitools.org.uk/cartopy/docs/latest/reference/projections.html"
   ]
  },
  {
   "cell_type": "code",
   "execution_count": null,
   "id": "793946de-2908-4f27-922a-9e76f0386cfe",
   "metadata": {},
   "outputs": [],
   "source": [
    "# plot a basic map with no data\n",
    "plt.figure(figsize=(7, 5))\n",
    "ax = plt.axes(projection=ccrs.Robinson())\n",
    "ax.coastlines(resolution='110m')\n",
    "ax.gridlines()"
   ]
  },
  {
   "cell_type": "code",
   "execution_count": null,
   "id": "8e6a9ce4-a00d-4694-9567-16cb7ac98eed",
   "metadata": {},
   "outputs": [],
   "source": [
    "# plot a basic map with no data, rotated\n",
    "plt.figure(figsize=(7, 5))\n",
    "ax = plt.axes(projection=ccrs.Robinson(central_longitude = 203)) # this rotates the map to 203 degrees East\n",
    "ax.coastlines(resolution='110m')\n",
    "ax.gridlines()"
   ]
  },
  {
   "cell_type": "code",
   "execution_count": null,
   "id": "ad1be9f0-08f8-4362-b91d-7f61b03e27fd",
   "metadata": {},
   "outputs": [],
   "source": [
    "# plot a basic map with no data, rotated\n",
    "plt.figure(figsize=(7, 5))\n",
    "ax = plt.axes(projection=ccrs.Robinson(central_longitude = 300))\n",
    "ax.coastlines(resolution='110m')\n",
    "ax.gridlines()"
   ]
  },
  {
   "cell_type": "code",
   "execution_count": null,
   "id": "12102740-cf71-42a9-b6d8-9c8df40d1801",
   "metadata": {},
   "outputs": [],
   "source": [
    "# plot a basic map with no data\n",
    "plt.figure(figsize=(7, 5))\n",
    "ax = plt.axes(projection=ccrs.Mercator()) # different map projection\n",
    "ax.coastlines(resolution='110m')\n",
    "ax.gridlines(draw_labels=True)\n",
    "# note this has grid labels, this is being updated for all projections in the latest version of cartopy 0.18.0"
   ]
  },
  {
   "cell_type": "code",
   "execution_count": null,
   "id": "e9ebfcfc-46ad-41d8-9de3-d4dc63d069cf",
   "metadata": {},
   "outputs": [],
   "source": [
    "# plot a basic map with no data\n",
    "plt.figure(figsize=(7, 5))\n",
    "ax = plt.axes(projection=ccrs.PlateCarree())\n",
    "ax.coastlines(resolution='110m')\n",
    "ax.gridlines(draw_labels=True)\n",
    "\n",
    "# -60 (60 W) is the same as 300 E (360 degrees in total 360-60W = 300E)"
   ]
  },
  {
   "cell_type": "markdown",
   "id": "f1f7d805-7d61-4c1c-bde1-a7277d6c22b8",
   "metadata": {},
   "source": [
    "How do I zoom in?"
   ]
  },
  {
   "cell_type": "code",
   "execution_count": null,
   "id": "fc867696-dcf3-4410-a38d-71f245c31fea",
   "metadata": {},
   "outputs": [],
   "source": [
    "# let's zoom in to S Asia\n",
    "plt.figure(figsize=(7, 5))\n",
    "ax = plt.axes(projection=ccrs.PlateCarree())\n",
    "ax.set_extent([]) # set the limits of the plot\n",
    "ax.coastlines(resolution='110m')\n",
    "ax.gridlines(draw_labels=True)\n"
   ]
  },
  {
   "cell_type": "markdown",
   "id": "07dddbc8-6dd0-42b0-a004-2e6185c3a185",
   "metadata": {},
   "source": [
    "**Moving back to the Gulf of Mexico, we want to set the lat and lon range to match our HYCOM data. How do we find this?**"
   ]
  },
  {
   "cell_type": "code",
   "execution_count": null,
   "id": "2729b61d-eeb3-44bc-85b9-05813e450df7",
   "metadata": {},
   "outputs": [],
   "source": [
    "#insert path or url to file here\n",
    "file = "
   ]
  },
  {
   "cell_type": "code",
   "execution_count": null,
   "id": "5e8cfb4a-66c7-4ee8-892d-bf3acbcebe71",
   "metadata": {},
   "outputs": [],
   "source": [
    "gom_data = xr.open_dataset(file, decode_times=False)"
   ]
  },
  {
   "cell_type": "code",
   "execution_count": null,
   "id": "06b31f58-ff21-42de-a802-076ca8357ead",
   "metadata": {},
   "outputs": [],
   "source": [
    "gom_data"
   ]
  },
  {
   "cell_type": "code",
   "execution_count": null,
   "id": "24d826d9-a92f-457c-9ec3-8ad04a478912",
   "metadata": {},
   "outputs": [],
   "source": [
    "# let's remember what our data looked like, pick a variable to plot"
   ]
  },
  {
   "cell_type": "code",
   "execution_count": null,
   "id": "9f265d99-7528-4e45-af00-7997bc958ea3",
   "metadata": {},
   "outputs": [],
   "source": [
    "gom_data.Latitude.min()"
   ]
  },
  {
   "cell_type": "code",
   "execution_count": null,
   "id": "85a779f4-cc9a-4bba-b656-1028cbd65fec",
   "metadata": {},
   "outputs": [],
   "source": [
    "gom_data.lat.max()"
   ]
  },
  {
   "cell_type": "code",
   "execution_count": null,
   "id": "3eb20ebb-afa4-472b-920f-41be5f7bf9f2",
   "metadata": {},
   "outputs": [],
   "source": [
    "ssh_data.lon.max()"
   ]
  },
  {
   "cell_type": "code",
   "execution_count": null,
   "id": "b5c29e83-e145-4bd7-a34f-582bd9058400",
   "metadata": {},
   "outputs": [],
   "source": [
    "ssh_data.lon.min()"
   ]
  },
  {
   "cell_type": "code",
   "execution_count": null,
   "id": "47bea99b-6b8f-4066-994b-c5d10a02e2f0",
   "metadata": {},
   "outputs": [],
   "source": [
    "fig, ax = plt.subplots(figsize =(10,8))  \n",
    "ax = plt.axes(projection=ccrs.PlateCarree())\n",
    "ax.set_extent() \n",
    "#ax.set_extent([]) #play around later\n",
    "\n",
    "#Sets the land onto the projection with the right color and scale\n",
    "land_50m = cfeature.NaturalEarthFeature('physical', 'land', '50m',\n",
    "                                    edgecolor='black',\n",
    "                                    facecolor='lightgrey')\n",
    "ax.add_feature(land_50m)"
   ]
  },
  {
   "cell_type": "markdown",
   "id": "0dc06ecd-73f9-426f-a591-1ee90f939ea5",
   "metadata": {},
   "source": [
    "Now let's add some data"
   ]
  },
  {
   "cell_type": "code",
   "execution_count": null,
   "id": "047fdaca-b79b-4826-8876-cf6f9f12897c",
   "metadata": {},
   "outputs": [],
   "source": [
    "# what does our data look like again?\n",
    "ssh_data.surf_el"
   ]
  },
  {
   "cell_type": "code",
   "execution_count": null,
   "id": "aefd894a-7b25-446b-98a7-a7881c5de9c6",
   "metadata": {},
   "outputs": [],
   "source": [
    "fig, ax = plt.subplots(figsize =(10,8))  \n",
    "ax = plt.axes(projection=ccrs.PlateCarree())\n",
    "ax.set_extent([260,282, 18.11, 31.5]) \n",
    "\n",
    "#Sets the land onto the projection with the right color and scale\n",
    "land_50m = cfeature.NaturalEarthFeature('physical', 'land', '50m',\n",
    "                                    edgecolor='black',\n",
    "                                    facecolor='lightgrey')\n",
    "ax.add_feature(land_50m)\n",
    "\n",
    "# let's fill in the following:\n",
    "x = ssh_data.lon\n",
    "y = ssh_data.lat\n",
    "var =  ssh_data.surf_el[0,:,:]\n",
    "\n",
    "#Contours the data on tho the map projection\n",
    "p = ax.contourf(x, y,var, transform=ccrs.PlateCarree()) # projection is needed in every plot call\n",
    "    "
   ]
  },
  {
   "cell_type": "markdown",
   "id": "70c4a43f-1d06-4795-b550-d41f91bb4ade",
   "metadata": {},
   "source": [
    "Now I'm going to take a bunch of features from Victoria's demo (in github as Hycom-CartopyDemo) and add them in to make a publication ready plot"
   ]
  },
  {
   "cell_type": "code",
   "execution_count": null,
   "id": "73edc0e9-1f89-4a67-b40e-85601a729697",
   "metadata": {},
   "outputs": [],
   "source": [
    "fig, ax = plt.subplots(figsize =(10,8))  \n",
    "ax = plt.axes(projection=ccrs.PlateCarree())\n",
    "ax.set_extent([260,282, 18.11, 31.5]) \n",
    "\n",
    "#Sets the land onto the projection with the right color and scale\n",
    "land_50m = cfeature.NaturalEarthFeature('physical', 'land', '50m',\n",
    "                                    edgecolor='black',\n",
    "                                    facecolor='lightgrey')\n",
    "ax.add_feature(land_50m)\n",
    "\n",
    "# let's fill in the following:\n",
    "x = ssh_data.lon\n",
    "y = ssh_data.lat\n",
    "var =  ssh_data.surf_el[0,:,:]\n",
    "\n",
    "#Contours the data on tho the map projection\n",
    "step = np.arange(-0.6,0.7,0.1)  \n",
    "p = ax.contourf(x, y,var, transform=ccrs.PlateCarree(), cmap = 'RdBu', \n",
    "                vmin = -0.6,vmax = 0.6,levels = step) # projection is needed in every plot call\n",
    "    \n",
    "# #Creates colorbar based on the contour \n",
    "cbar = plt.colorbar( p, orientation='horizontal', pad=0.05, fraction=0.05)\n",
    "cbar.set_label(\"SSH\" +' (m)', size = 18)\n",
    "\n",
    "\n",
    "# ##Set formats. ex. x and y labels, and how to set up the x and y labels, and label font size\n",
    "#     #and sets the grid lines on the graph\n",
    "# ##Set the grid lines to another variable so it edits the grid variables and not the whole map\n",
    "gl = ax.gridlines(crs=ccrs.PlateCarree(), draw_labels=False,\n",
    "           linewidth=.5, color='gray', linestyle='--')\n",
    "gl.xlabels_top = True    \n",
    "gl.ylabels_left = True\n",
    "gl.xformatter = LONGITUDE_FORMATTER\n",
    "gl.yformatter = LATITUDE_FORMATTER\n",
    "gl.xlabel_style = {'size' : 16}\n",
    "gl.ylabel_style = {'size' : 16}"
   ]
  },
  {
   "cell_type": "raw",
   "id": "b37ef97c-0a3d-4586-a49a-67313f31df88",
   "metadata": {},
   "source": []
  },
  {
   "cell_type": "markdown",
   "id": "cloudy-principle",
   "metadata": {},
   "source": []
  },
  {
   "cell_type": "markdown",
   "id": "ceramic-cartoon",
   "metadata": {},
   "source": [
    "## Lab 6.2"
   ]
  },
  {
   "cell_type": "markdown",
   "id": "subjective-accuracy",
   "metadata": {},
   "source": [
    "**E.0** Finish Lab 6.1 if you haven't already."
   ]
  },
  {
   "cell_type": "markdown",
   "id": "tamil-disorder",
   "metadata": {},
   "source": [
    "**E.1** Complete Introduction to Data Visualization with Matplotlib Chapters 3-4. Let me know if this feels like a good pace"
   ]
  },
  {
   "cell_type": "code",
   "execution_count": null,
   "id": "awful-simple",
   "metadata": {},
   "outputs": [],
   "source": []
  },
  {
   "cell_type": "markdown",
   "id": "flying-bankruptcy",
   "metadata": {},
   "source": [
    "**E.2** Make notes for yourself on progamming tecniques and commands you learned in the lecture and datacamp chapter above, including examples, comments and explainitory text. You can do this here or in a separate notebook that you link to here. Basically, you are making a cheat sheet for yourself."
   ]
  },
  {
   "cell_type": "code",
   "execution_count": null,
   "id": "editorial-guitar",
   "metadata": {},
   "outputs": [],
   "source": []
  },
  {
   "cell_type": "markdown",
   "id": "amazing-collar",
   "metadata": {},
   "source": [
    "**E.3** Make a plot of a different variable for the HYCOM data. Play around with colormaps and contourlines to make it your own. Post your plot on the class slack #random channel"
   ]
  },
  {
   "cell_type": "code",
   "execution_count": null,
   "id": "another-cancellation",
   "metadata": {},
   "outputs": [],
   "source": []
  },
  {
   "cell_type": "markdown",
   "id": "aa93ff1c-a08d-4fc7-9bd9-646211a68808",
   "metadata": {},
   "source": [
    "### This week's project:"
   ]
  },
  {
   "cell_type": "markdown",
   "id": "39e7611f-4235-43bb-8d79-28af78479581",
   "metadata": {},
   "source": [
    "**E.4** Download some data from the ISIMIP data archive (https://data.isimip.org/) and plot it using cartopy. ISIMIP provides bias-corrected data for past and future climate simulations used for impacts studies world wide. Let's start with some maximum atmospheric surface temperature data in the historical period (1850-2014 for CMIP6). We want climate forcing data for ISIMIP3b, which are the lastest (CMIP6) climate projections. \n",
    "\n",
    "* https://data.isimip.org/search/tree/ISIMIP3b/InputData/climate/\n",
    "* Click atmopsheric forcing\n",
    "* Click GFDL... This is one of NOAA-GFDL's climate models (ESM4)\n",
    "* Click historical\n",
    "\n",
    "All of the variable names are in CMIP lingo. Sadly, there is no easy cheat sheet. But you want tas, which is \"temperature of air at surface\". Let's use the tasmax, the maximum daily surface air temperature\n",
    "* Click tasmax\n",
    "* Click files to see all the available files.\n",
    "  \n",
    "Here you have a choice, you can download an etire file (note the size) or you can use the \"configure download\" button, which has subsetting by space or country, as well as time opitons. You can click on a file name to see more info.\n",
    "* Click on \"download file\" for the 1851-1860 file. Just grab the whole file, it will take a minute to download.\n",
    "* Load up the data into xarray and plot the maximum of this dataset (so max over the decade for each gridcell. You just use a max function for this, no loops needed).\n",
    "* Plot using cartopy to make it pretty. Put some sensible lables on it, etc. Maybe add some country boundaries."
   ]
  },
  {
   "cell_type": "code",
   "execution_count": null,
   "id": "colonial-rings",
   "metadata": {},
   "outputs": [],
   "source": []
  },
  {
   "cell_type": "markdown",
   "id": "4c56ed2c-cc2f-4777-8e2c-c9673d8fccd1",
   "metadata": {},
   "source": [
    "**E.5** Now make a second plot using ISIMP data for a future climate projection. Following the same steps as above, get the GFDL tasmax data for the future climate scenario SSP3-7.0 (higher emissions scenario) for 2051-2060. Again, calculate the maximum at each gridpoint for this data set. This is the future maximum daily temperature for that decade. Make your plot nice."
   ]
  },
  {
   "cell_type": "code",
   "execution_count": null,
   "id": "1d5a52bc-255f-45ef-97dd-129e6f5126d0",
   "metadata": {},
   "outputs": [],
   "source": []
  },
  {
   "cell_type": "markdown",
   "id": "0d35c0d6-5f7b-496b-9a58-531fb6e9ddfe",
   "metadata": {},
   "source": [
    "**E.6** Now plot the anomaly between the two, 2050's - 1850's. Use a diverging colormap (light in the middle), centered on zero. What is the outlook for your country of orgin? Answer in full sentances with specific numbers."
   ]
  },
  {
   "cell_type": "code",
   "execution_count": null,
   "id": "bb67e31d-1776-47cc-96d7-ac85fd32bda6",
   "metadata": {},
   "outputs": [],
   "source": []
  },
  {
   "cell_type": "markdown",
   "id": "8737fe8e-96d9-4401-8703-02aeb7b40780",
   "metadata": {},
   "source": [
    "**E.7** How could you potentially use this kind of data (future climate projections) in your research? Do some brainstorming. Write down your thoughts here."
   ]
  },
  {
   "cell_type": "code",
   "execution_count": null,
   "id": "f5f02331-8787-4789-940e-a1d8d9d1eed6",
   "metadata": {},
   "outputs": [],
   "source": []
  }
 ],
 "metadata": {
  "kernelspec": {
   "display_name": "Python 3 (ipykernel)",
   "language": "python",
   "name": "python3"
  },
  "language_info": {
   "codemirror_mode": {
    "name": "ipython",
    "version": 3
   },
   "file_extension": ".py",
   "mimetype": "text/x-python",
   "name": "python",
   "nbconvert_exporter": "python",
   "pygments_lexer": "ipython3",
   "version": "3.12.4"
  }
 },
 "nbformat": 4,
 "nbformat_minor": 5
}
