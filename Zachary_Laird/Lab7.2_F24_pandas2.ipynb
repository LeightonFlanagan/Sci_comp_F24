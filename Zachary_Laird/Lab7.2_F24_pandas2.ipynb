{
 "cells": [
  {
   "cell_type": "markdown",
   "id": "cooked-impact",
   "metadata": {},
   "source": [
    "Name: Zachary Laird"
   ]
  },
  {
   "cell_type": "markdown",
   "id": "crazy-drunk",
   "metadata": {},
   "source": [
    "Labpartner(s):  Sharmin Siddika, Fahmida Akhter, Israt Tama"
   ]
  },
  {
   "cell_type": "code",
   "execution_count": 1,
   "id": "statistical-animal",
   "metadata": {},
   "outputs": [],
   "source": [
    "#import statements go here\n",
    "import pandas as pd\n",
    "import numpy as np\n",
    "import matplotlib.pyplot as plt\n",
    "import random\n",
    "import xarray as xr"
   ]
  },
  {
   "cell_type": "markdown",
   "id": "appointed-tribute",
   "metadata": {},
   "source": [
    "# Class 7.2"
   ]
  },
  {
   "cell_type": "markdown",
   "id": "834986df-a157-45a3-8679-12e793fe2c47",
   "metadata": {},
   "source": [
    "Today your assignment is the rest of the pandas unit and to catch up and think about your project topic, which is due by Sunday 10/13."
   ]
  },
  {
   "cell_type": "markdown",
   "id": "tracked-tradition",
   "metadata": {},
   "source": [
    "**W.1** Implement a function that takes as input three variables, and returns the largest of the three. Do this without using the Python max() function.\n",
    "\n",
    "The goal of this exercise is to think about some internals that Python normally takes care of for us. All you need is some variables and if statements."
   ]
  },
  {
   "cell_type": "code",
   "execution_count": 2,
   "id": "champion-rouge",
   "metadata": {},
   "outputs": [],
   "source": [
    "def max_num(num1,num2,num3):\n",
    "    if num1 >= num2:\n",
    "        max = num1\n",
    "        if max >= num3:\n",
    "            max = max\n",
    "        else:\n",
    "            max = num3\n",
    "    else:\n",
    "        max = num2\n",
    "        if max >= num3:\n",
    "            max = max\n",
    "        else:\n",
    "            max = num3\n",
    "\n",
    "    return max"
   ]
  },
  {
   "cell_type": "code",
   "execution_count": 4,
   "id": "c71ec533-b79a-4afb-9804-2d5ae44e3dd4",
   "metadata": {},
   "outputs": [
    {
     "data": {
      "text/plain": [
       "44"
      ]
     },
     "execution_count": 4,
     "metadata": {},
     "output_type": "execute_result"
    }
   ],
   "source": [
    "max_num(44,22,35)"
   ]
  },
  {
   "cell_type": "markdown",
   "id": "needed-irish",
   "metadata": {},
   "source": [
    "# Lecture 7.2\n",
    "\n",
    "### Agenda:\n",
    "\n",
    "- Questions\n",
    "- That's it!"
   ]
  },
  {
   "cell_type": "markdown",
   "id": "crucial-hobby",
   "metadata": {},
   "source": [
    "### Questions"
   ]
  },
  {
   "cell_type": "markdown",
   "id": "be69581e-ee02-4aa7-a18e-74c2d61cc1c7",
   "metadata": {},
   "source": []
  },
  {
   "cell_type": "markdown",
   "id": "working-lottery",
   "metadata": {},
   "source": [
    "# Lab 7.2"
   ]
  },
  {
   "cell_type": "markdown",
   "id": "42ba70db-1894-44eb-9688-5380d60b34f6",
   "metadata": {},
   "source": [
    "**E.0** Complete the previous labs if you are behind."
   ]
  },
  {
   "cell_type": "markdown",
   "id": "ordinary-variable",
   "metadata": {},
   "source": [
    "**E.1** Complete Data Manipulation with Pandas Ch 3-4 in datacamp."
   ]
  },
  {
   "cell_type": "code",
   "execution_count": null,
   "id": "obvious-strap",
   "metadata": {},
   "outputs": [],
   "source": []
  },
  {
   "cell_type": "markdown",
   "id": "computational-child",
   "metadata": {},
   "source": [
    "**E.2** Make notes for yourself on progamming tecniques and commands you learned in the datacamp chapter above, including examples, comments and explainitory text. You can do this here or in a separate notebook that you link to here. Basically, you are making a cheat sheet for yourself."
   ]
  },
  {
   "cell_type": "markdown",
   "id": "2d4f22e9-b7c4-40ed-b6e9-1ccedbcbf3e1",
   "metadata": {},
   "source": [
    "- to set a column in a dataframe as an index you can use df.set_index(\"colname\"), you can also set multiple columns as the index if desired\n",
    "- To remove this you simply use df.reset_index()\n",
    "- the .isin() function can display rows where certain values are in a specified column. An example of this would be data[data[\"column\"].isin([\"value1,value2\"])]\n",
    "- can control the .sort_index() function by specifying values in the sort_index\n",
    "- can slice indexes by using [\"index1\":\"index2\"] and here index2 will be included.\n",
    "- to slice inner indices correctly you need to include both indices.\n",
    "- you can slice both indexes and columns at the same time as well\n",
    "- the function .pivot_table can be used to switch columns and rows. an example would be data.pivot_table(\"Variable1\", index = \"Variable2\", columns = \"Variable3\")\n",
    "- the axis argument in statistic functions such as .mean(axis = \"index\") will calculate the mean across the rows of the index. To calculate the statistics across columns you would use .mean(axis = \"columns\")\n",
    "- plotting bar plots can be done by using the .plot(kind = \"bar\") function, for a line you change kind = \"line\"\n",
    "- To rotate axis labels you can call the operator rot = 45 or some other angle\n",
    "- to detect missing values run the function .isna()\n",
    "- To find the exact location run the function .isna().any()\n",
    "- To count the number of missing values in a column you run .isna().sum()\n",
    "- to remove missing values use the function .dropna(), and to replace them you can use .fillna(0)\n",
    "- can export a dataframe to a csv using .to_csv"
   ]
  },
  {
   "cell_type": "code",
   "execution_count": null,
   "id": "b6181083-bea0-4ed0-98c8-78b7e8c85a8d",
   "metadata": {},
   "outputs": [],
   "source": []
  }
 ],
 "metadata": {
  "kernelspec": {
   "display_name": "Python 3 (ipykernel)",
   "language": "python",
   "name": "python3"
  },
  "language_info": {
   "codemirror_mode": {
    "name": "ipython",
    "version": 3
   },
   "file_extension": ".py",
   "mimetype": "text/x-python",
   "name": "python",
   "nbconvert_exporter": "python",
   "pygments_lexer": "ipython3",
   "version": "3.12.4"
  }
 },
 "nbformat": 4,
 "nbformat_minor": 5
}
