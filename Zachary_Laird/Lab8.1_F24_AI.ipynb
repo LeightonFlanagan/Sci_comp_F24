{
 "cells": [
  {
   "cell_type": "markdown",
   "id": "cooked-impact",
   "metadata": {},
   "source": [
    "Name: Zachary Laird"
   ]
  },
  {
   "cell_type": "markdown",
   "id": "crazy-drunk",
   "metadata": {},
   "source": [
    "Labpartner(s): Sharmin Siddika, Fahmida Akhter, Israt Tama"
   ]
  },
  {
   "cell_type": "code",
   "execution_count": 1,
   "id": "statistical-animal",
   "metadata": {},
   "outputs": [],
   "source": [
    "#import statements go here\n",
    "import pandas as pd\n",
    "import numpy as np\n",
    "import matplotlib.pyplot as plt"
   ]
  },
  {
   "cell_type": "markdown",
   "id": "appointed-tribute",
   "metadata": {},
   "source": [
    "# Class 8.1"
   ]
  },
  {
   "cell_type": "markdown",
   "id": "834986df-a157-45a3-8679-12e793fe2c47",
   "metadata": {},
   "source": [
    "Today we are presenting movies and Karen will tell us all about how to use AI. The homework is to work on your proposals and/or do some extra datacamp related to your research needs.\n"
   ]
  },
  {
   "cell_type": "markdown",
   "id": "tracked-tradition",
   "metadata": {},
   "source": [
    "**W.1** Write a function that takes a list and returns a new list that contains all the elements of the first list minus all the duplicates."
   ]
  },
  {
   "cell_type": "code",
   "execution_count": 7,
   "id": "champion-rouge",
   "metadata": {},
   "outputs": [],
   "source": [
    "def duplicate(i):\n",
    "    list = []\n",
    "    seen = set() \n",
    "    \n",
    "    for x in i:\n",
    "        if x not in seen:\n",
    "            list.append(x)\n",
    "            seen.add(x)\n",
    "    return list        "
   ]
  },
  {
   "cell_type": "code",
   "execution_count": 8,
   "id": "cb9c545c-ed4b-42e0-a0e9-d5b2dc4375ab",
   "metadata": {},
   "outputs": [
    {
     "name": "stdout",
     "output_type": "stream",
     "text": [
      "[1, 4, 5, 77, 8, 9]\n"
     ]
    }
   ],
   "source": [
    "mine = [1,4,4,5,77,8,77,9]\n",
    "print(duplicate(mine))"
   ]
  },
  {
   "cell_type": "markdown",
   "id": "needed-irish",
   "metadata": {},
   "source": [
    "# Lecture 8.1\n",
    "\n",
    "### Agenda:\n",
    "\n",
    "- Questions\n",
    "- Show us your movies\n",
    "- Effective use of AI in programming and writing (Karen)"
   ]
  },
  {
   "cell_type": "markdown",
   "id": "crucial-hobby",
   "metadata": {},
   "source": [
    "### Questions"
   ]
  },
  {
   "cell_type": "markdown",
   "id": "be69581e-ee02-4aa7-a18e-74c2d61cc1c7",
   "metadata": {},
   "source": []
  },
  {
   "cell_type": "markdown",
   "id": "working-lottery",
   "metadata": {},
   "source": [
    "# Lab 8.1"
   ]
  },
  {
   "cell_type": "markdown",
   "id": "42ba70db-1894-44eb-9688-5380d60b34f6",
   "metadata": {},
   "source": [
    "**E.0** Complete the previous labs if you are behind."
   ]
  },
  {
   "cell_type": "markdown",
   "id": "ordinary-variable",
   "metadata": {},
   "source": [
    "**E.1** Work on your research proposal and/or do an optional course in datacamp that would be useful for your research"
   ]
  },
  {
   "cell_type": "code",
   "execution_count": null,
   "id": "obvious-strap",
   "metadata": {},
   "outputs": [],
   "source": []
  },
  {
   "cell_type": "markdown",
   "id": "computational-child",
   "metadata": {},
   "source": [
    "**E.2** Make notes for yourself on progamming tecniques and commands you learned in the this week, including examples, comments and explainitory text. You can do this here or in a separate notebook that you link to here. Basically, you are making a cheat sheet for yourself."
   ]
  },
  {
   "cell_type": "markdown",
   "id": "ecdd11ad-3760-4ef6-9f36-483675010985",
   "metadata": {},
   "source": [
    "- the major issues with Ai is ownership is a bit fuzzy so there are issues with plagiarism\n",
    "- another issue is the transparency of its use"
   ]
  }
 ],
 "metadata": {
  "kernelspec": {
   "display_name": "Python 3 (ipykernel)",
   "language": "python",
   "name": "python3"
  },
  "language_info": {
   "codemirror_mode": {
    "name": "ipython",
    "version": 3
   },
   "file_extension": ".py",
   "mimetype": "text/x-python",
   "name": "python",
   "nbconvert_exporter": "python",
   "pygments_lexer": "ipython3",
   "version": "3.12.4"
  }
 },
 "nbformat": 4,
 "nbformat_minor": 5
}
