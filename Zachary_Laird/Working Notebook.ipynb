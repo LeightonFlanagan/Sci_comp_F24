{
 "cells": [
  {
   "cell_type": "code",
   "execution_count": 1,
   "id": "9bfd0f6c-6b5e-4cc4-8b10-30874bdcf0ed",
   "metadata": {},
   "outputs": [],
   "source": [
    "# Import Statements\n",
    "import pandas as pd\n",
    "import numpy as np\n",
    "import xarray as xr\n",
    "import matplotlib.pyplot as plt"
   ]
  },
  {
   "cell_type": "code",
   "execution_count": 3,
   "id": "f2ded589-2f7e-48e6-bf13-a244bd509e3c",
   "metadata": {},
   "outputs": [],
   "source": [
    "ZeroGCharPC = pd.read_csv(r\"C:\\Users\\zlaird1\\OneDrive - Louisiana State University\\Documents\\OCS4001\\Char_PC_NoLSA.csv\")"
   ]
  },
  {
   "cell_type": "code",
   "execution_count": 4,
   "id": "08458e2c-31c7-4d00-a2d9-6c3156b9c5f3",
   "metadata": {
    "scrolled": true
   },
   "outputs": [
    {
     "data": {
      "text/html": [
       "<div>\n",
       "<style scoped>\n",
       "    .dataframe tbody tr th:only-of-type {\n",
       "        vertical-align: middle;\n",
       "    }\n",
       "\n",
       "    .dataframe tbody tr th {\n",
       "        vertical-align: top;\n",
       "    }\n",
       "\n",
       "    .dataframe thead th {\n",
       "        text-align: right;\n",
       "    }\n",
       "</style>\n",
       "<table border=\"1\" class=\"dataframe\">\n",
       "  <thead>\n",
       "    <tr style=\"text-align: right;\">\n",
       "      <th></th>\n",
       "      <th>Smallest</th>\n",
       "      <th>Small</th>\n",
       "      <th>Larger</th>\n",
       "      <th>Largest</th>\n",
       "      <th>Wadell Coefficient</th>\n",
       "    </tr>\n",
       "  </thead>\n",
       "  <tbody>\n",
       "    <tr>\n",
       "      <th>0</th>\n",
       "      <td>178.16</td>\n",
       "      <td>310.41</td>\n",
       "      <td>352.40</td>\n",
       "      <td>398.39</td>\n",
       "      <td>0.777730</td>\n",
       "    </tr>\n",
       "    <tr>\n",
       "      <th>1</th>\n",
       "      <td>43.21</td>\n",
       "      <td>176.87</td>\n",
       "      <td>177.60</td>\n",
       "      <td>183.17</td>\n",
       "      <td>0.792774</td>\n",
       "    </tr>\n",
       "    <tr>\n",
       "      <th>2</th>\n",
       "      <td>50.85</td>\n",
       "      <td>155.43</td>\n",
       "      <td>129.63</td>\n",
       "      <td>163.48</td>\n",
       "      <td>0.763687</td>\n",
       "    </tr>\n",
       "    <tr>\n",
       "      <th>3</th>\n",
       "      <td>75.23</td>\n",
       "      <td>79.68</td>\n",
       "      <td>87.25</td>\n",
       "      <td>92.21</td>\n",
       "      <td>0.906545</td>\n",
       "    </tr>\n",
       "    <tr>\n",
       "      <th>4</th>\n",
       "      <td>45.79</td>\n",
       "      <td>134.42</td>\n",
       "      <td>140.69</td>\n",
       "      <td>171.26</td>\n",
       "      <td>0.718440</td>\n",
       "    </tr>\n",
       "    <tr>\n",
       "      <th>5</th>\n",
       "      <td>151.31</td>\n",
       "      <td>161.24</td>\n",
       "      <td>164.06</td>\n",
       "      <td>166.93</td>\n",
       "      <td>0.963787</td>\n",
       "    </tr>\n",
       "    <tr>\n",
       "      <th>6</th>\n",
       "      <td>44.20</td>\n",
       "      <td>112.68</td>\n",
       "      <td>123.74</td>\n",
       "      <td>135.27</td>\n",
       "      <td>0.768629</td>\n",
       "    </tr>\n",
       "    <tr>\n",
       "      <th>7</th>\n",
       "      <td>125.12</td>\n",
       "      <td>129.74</td>\n",
       "      <td>243.79</td>\n",
       "      <td>365.09</td>\n",
       "      <td>0.591457</td>\n",
       "    </tr>\n",
       "    <tr>\n",
       "      <th>8</th>\n",
       "      <td>76.74</td>\n",
       "      <td>80.40</td>\n",
       "      <td>101.98</td>\n",
       "      <td>192.43</td>\n",
       "      <td>0.586642</td>\n",
       "    </tr>\n",
       "    <tr>\n",
       "      <th>9</th>\n",
       "      <td>134.10</td>\n",
       "      <td>136.44</td>\n",
       "      <td>156.26</td>\n",
       "      <td>181.36</td>\n",
       "      <td>0.838333</td>\n",
       "    </tr>\n",
       "    <tr>\n",
       "      <th>10</th>\n",
       "      <td>71.91</td>\n",
       "      <td>155.52</td>\n",
       "      <td>190.10</td>\n",
       "      <td>263.93</td>\n",
       "      <td>0.645493</td>\n",
       "    </tr>\n",
       "    <tr>\n",
       "      <th>11</th>\n",
       "      <td>119.00</td>\n",
       "      <td>122.45</td>\n",
       "      <td>165.11</td>\n",
       "      <td>217.18</td>\n",
       "      <td>0.717999</td>\n",
       "    </tr>\n",
       "    <tr>\n",
       "      <th>12</th>\n",
       "      <td>79.14</td>\n",
       "      <td>79.14</td>\n",
       "      <td>103.10</td>\n",
       "      <td>108.39</td>\n",
       "      <td>0.852869</td>\n",
       "    </tr>\n",
       "    <tr>\n",
       "      <th>13</th>\n",
       "      <td>127.85</td>\n",
       "      <td>129.08</td>\n",
       "      <td>166.50</td>\n",
       "      <td>180.09</td>\n",
       "      <td>0.837803</td>\n",
       "    </tr>\n",
       "    <tr>\n",
       "      <th>14</th>\n",
       "      <td>37.52</td>\n",
       "      <td>69.88</td>\n",
       "      <td>71.51</td>\n",
       "      <td>81.99</td>\n",
       "      <td>0.795524</td>\n",
       "    </tr>\n",
       "    <tr>\n",
       "      <th>15</th>\n",
       "      <td>95.43</td>\n",
       "      <td>211.15</td>\n",
       "      <td>212.03</td>\n",
       "      <td>262.84</td>\n",
       "      <td>0.743275</td>\n",
       "    </tr>\n",
       "    <tr>\n",
       "      <th>16</th>\n",
       "      <td>119.00</td>\n",
       "      <td>134.42</td>\n",
       "      <td>151.60</td>\n",
       "      <td>238.01</td>\n",
       "      <td>0.675423</td>\n",
       "    </tr>\n",
       "    <tr>\n",
       "      <th>17</th>\n",
       "      <td>117.67</td>\n",
       "      <td>276.64</td>\n",
       "      <td>372.95</td>\n",
       "      <td>454.85</td>\n",
       "      <td>0.671710</td>\n",
       "    </tr>\n",
       "    <tr>\n",
       "      <th>18</th>\n",
       "      <td>78.04</td>\n",
       "      <td>193.62</td>\n",
       "      <td>235.46</td>\n",
       "      <td>275.91</td>\n",
       "      <td>0.709498</td>\n",
       "    </tr>\n",
       "    <tr>\n",
       "      <th>19</th>\n",
       "      <td>79.68</td>\n",
       "      <td>85.92</td>\n",
       "      <td>93.76</td>\n",
       "      <td>112.68</td>\n",
       "      <td>0.825435</td>\n",
       "    </tr>\n",
       "    <tr>\n",
       "      <th>20</th>\n",
       "      <td>100.13</td>\n",
       "      <td>144.81</td>\n",
       "      <td>176.79</td>\n",
       "      <td>194.80</td>\n",
       "      <td>0.791235</td>\n",
       "    </tr>\n",
       "    <tr>\n",
       "      <th>21</th>\n",
       "      <td>38.65</td>\n",
       "      <td>62.50</td>\n",
       "      <td>87.25</td>\n",
       "      <td>98.54</td>\n",
       "      <td>0.727978</td>\n",
       "    </tr>\n",
       "    <tr>\n",
       "      <th>22</th>\n",
       "      <td>48.53</td>\n",
       "      <td>65.42</td>\n",
       "      <td>81.99</td>\n",
       "      <td>88.72</td>\n",
       "      <td>0.802130</td>\n",
       "    </tr>\n",
       "    <tr>\n",
       "      <th>23</th>\n",
       "      <td>101.83</td>\n",
       "      <td>136.65</td>\n",
       "      <td>181.99</td>\n",
       "      <td>212.37</td>\n",
       "      <td>0.744973</td>\n",
       "    </tr>\n",
       "    <tr>\n",
       "      <th>24</th>\n",
       "      <td>90.96</td>\n",
       "      <td>101.83</td>\n",
       "      <td>104.07</td>\n",
       "      <td>140.69</td>\n",
       "      <td>0.777507</td>\n",
       "    </tr>\n",
       "    <tr>\n",
       "      <th>25</th>\n",
       "      <td>72.90</td>\n",
       "      <td>106.79</td>\n",
       "      <td>153.57</td>\n",
       "      <td>169.23</td>\n",
       "      <td>0.742318</td>\n",
       "    </tr>\n",
       "    <tr>\n",
       "      <th>26</th>\n",
       "      <td>91.12</td>\n",
       "      <td>113.06</td>\n",
       "      <td>141.60</td>\n",
       "      <td>197.66</td>\n",
       "      <td>0.687342</td>\n",
       "    </tr>\n",
       "    <tr>\n",
       "      <th>27</th>\n",
       "      <td>64.54</td>\n",
       "      <td>69.68</td>\n",
       "      <td>69.68</td>\n",
       "      <td>83.72</td>\n",
       "      <td>0.858875</td>\n",
       "    </tr>\n",
       "    <tr>\n",
       "      <th>28</th>\n",
       "      <td>32.60</td>\n",
       "      <td>45.87</td>\n",
       "      <td>50.56</td>\n",
       "      <td>62.50</td>\n",
       "      <td>0.766120</td>\n",
       "    </tr>\n",
       "    <tr>\n",
       "      <th>29</th>\n",
       "      <td>32.60</td>\n",
       "      <td>47.94</td>\n",
       "      <td>66.30</td>\n",
       "      <td>66.30</td>\n",
       "      <td>0.803695</td>\n",
       "    </tr>\n",
       "    <tr>\n",
       "      <th>30</th>\n",
       "      <td>35.95</td>\n",
       "      <td>71.91</td>\n",
       "      <td>92.52</td>\n",
       "      <td>115.70</td>\n",
       "      <td>0.682973</td>\n",
       "    </tr>\n",
       "    <tr>\n",
       "      <th>31</th>\n",
       "      <td>61.11</td>\n",
       "      <td>205.40</td>\n",
       "      <td>231.96</td>\n",
       "      <td>263.12</td>\n",
       "      <td>0.723615</td>\n",
       "    </tr>\n",
       "    <tr>\n",
       "      <th>32</th>\n",
       "      <td>62.50</td>\n",
       "      <td>65.20</td>\n",
       "      <td>93.76</td>\n",
       "      <td>96.62</td>\n",
       "      <td>0.823018</td>\n",
       "    </tr>\n",
       "    <tr>\n",
       "      <th>33</th>\n",
       "      <td>89.85</td>\n",
       "      <td>93.60</td>\n",
       "      <td>93.76</td>\n",
       "      <td>122.22</td>\n",
       "      <td>0.817031</td>\n",
       "    </tr>\n",
       "    <tr>\n",
       "      <th>34</th>\n",
       "      <td>54.66</td>\n",
       "      <td>64.32</td>\n",
       "      <td>72.90</td>\n",
       "      <td>81.99</td>\n",
       "      <td>0.835071</td>\n",
       "    </tr>\n",
       "    <tr>\n",
       "      <th>35</th>\n",
       "      <td>45.79</td>\n",
       "      <td>59.20</td>\n",
       "      <td>62.50</td>\n",
       "      <td>79.68</td>\n",
       "      <td>0.775508</td>\n",
       "    </tr>\n",
       "    <tr>\n",
       "      <th>36</th>\n",
       "      <td>45.79</td>\n",
       "      <td>47.94</td>\n",
       "      <td>48.53</td>\n",
       "      <td>50.56</td>\n",
       "      <td>0.953422</td>\n",
       "    </tr>\n",
       "    <tr>\n",
       "      <th>37</th>\n",
       "      <td>246.53</td>\n",
       "      <td>246.60</td>\n",
       "      <td>416.96</td>\n",
       "      <td>451.14</td>\n",
       "      <td>0.754328</td>\n",
       "    </tr>\n",
       "    <tr>\n",
       "      <th>38</th>\n",
       "      <td>71.51</td>\n",
       "      <td>196.78</td>\n",
       "      <td>208.75</td>\n",
       "      <td>271.02</td>\n",
       "      <td>0.690041</td>\n",
       "    </tr>\n",
       "  </tbody>\n",
       "</table>\n",
       "</div>"
      ],
      "text/plain": [
       "    Smallest   Small  Larger  Largest  Wadell Coefficient\n",
       "0     178.16  310.41  352.40   398.39            0.777730\n",
       "1      43.21  176.87  177.60   183.17            0.792774\n",
       "2      50.85  155.43  129.63   163.48            0.763687\n",
       "3      75.23   79.68   87.25    92.21            0.906545\n",
       "4      45.79  134.42  140.69   171.26            0.718440\n",
       "5     151.31  161.24  164.06   166.93            0.963787\n",
       "6      44.20  112.68  123.74   135.27            0.768629\n",
       "7     125.12  129.74  243.79   365.09            0.591457\n",
       "8      76.74   80.40  101.98   192.43            0.586642\n",
       "9     134.10  136.44  156.26   181.36            0.838333\n",
       "10     71.91  155.52  190.10   263.93            0.645493\n",
       "11    119.00  122.45  165.11   217.18            0.717999\n",
       "12     79.14   79.14  103.10   108.39            0.852869\n",
       "13    127.85  129.08  166.50   180.09            0.837803\n",
       "14     37.52   69.88   71.51    81.99            0.795524\n",
       "15     95.43  211.15  212.03   262.84            0.743275\n",
       "16    119.00  134.42  151.60   238.01            0.675423\n",
       "17    117.67  276.64  372.95   454.85            0.671710\n",
       "18     78.04  193.62  235.46   275.91            0.709498\n",
       "19     79.68   85.92   93.76   112.68            0.825435\n",
       "20    100.13  144.81  176.79   194.80            0.791235\n",
       "21     38.65   62.50   87.25    98.54            0.727978\n",
       "22     48.53   65.42   81.99    88.72            0.802130\n",
       "23    101.83  136.65  181.99   212.37            0.744973\n",
       "24     90.96  101.83  104.07   140.69            0.777507\n",
       "25     72.90  106.79  153.57   169.23            0.742318\n",
       "26     91.12  113.06  141.60   197.66            0.687342\n",
       "27     64.54   69.68   69.68    83.72            0.858875\n",
       "28     32.60   45.87   50.56    62.50            0.766120\n",
       "29     32.60   47.94   66.30    66.30            0.803695\n",
       "30     35.95   71.91   92.52   115.70            0.682973\n",
       "31     61.11  205.40  231.96   263.12            0.723615\n",
       "32     62.50   65.20   93.76    96.62            0.823018\n",
       "33     89.85   93.60   93.76   122.22            0.817031\n",
       "34     54.66   64.32   72.90    81.99            0.835071\n",
       "35     45.79   59.20   62.50    79.68            0.775508\n",
       "36     45.79   47.94   48.53    50.56            0.953422\n",
       "37    246.53  246.60  416.96   451.14            0.754328\n",
       "38     71.51  196.78  208.75   271.02            0.690041"
      ]
     },
     "execution_count": 4,
     "metadata": {},
     "output_type": "execute_result"
    }
   ],
   "source": [
    "ZeroGCharPC"
   ]
  },
  {
   "cell_type": "code",
   "execution_count": 81,
   "id": "c19aa7af-73ca-4ddc-99da-a473ffea8afa",
   "metadata": {},
   "outputs": [
    {
     "data": {
      "text/plain": [
       "Text(0.5, 1.0, 'Largest Particle Size Distribution 0g LSA')"
      ]
     },
     "execution_count": 81,
     "metadata": {},
     "output_type": "execute_result"
    },
    {
     "data": {
      "image/png": "[encoded data removed]",
      "text/plain": [
       "<Figure size 640x480 with 1 Axes>"
      ]
     },
     "metadata": {},
     "output_type": "display_data"
    }
   ],
   "source": [
    "ZGHist = ZeroGCharPC.iloc[:,3]\n",
    "plt.hist(ZGHist, bins = [100,200,300,400,500,600,700])\n",
    "plt.xlabel(\"Particle Size Microns\")\n",
    "plt.ylabel(\"Frequency of Ocurrence\")\n",
    "plt.title(\"Largest Particle Size Distribution 0g LSA\")"
   ]
  },
  {
   "cell_type": "code",
   "execution_count": 13,
   "id": "e19b49cf-eebe-4902-8ffd-414f29322c57",
   "metadata": {},
   "outputs": [],
   "source": [
    "ZGPCrefined = ZeroGCharPC.iloc[:,4]"
   ]
  },
  {
   "cell_type": "code",
   "execution_count": 14,
   "id": "63657ed2-8a2d-4ea1-99f3-a85b6a017712",
   "metadata": {
    "scrolled": true
   },
   "outputs": [
    {
     "name": "stdout",
     "output_type": "stream",
     "text": [
      "0     0.777730\n",
      "1     0.792774\n",
      "2     0.763687\n",
      "3     0.906545\n",
      "4     0.718440\n",
      "5     0.963787\n",
      "6     0.768629\n",
      "7     0.591457\n",
      "8     0.586642\n",
      "9     0.838333\n",
      "10    0.645493\n",
      "11    0.717999\n",
      "12    0.852869\n",
      "13    0.837803\n",
      "14    0.795524\n",
      "15    0.743275\n",
      "16    0.675423\n",
      "17    0.671710\n",
      "18    0.709498\n",
      "19    0.825435\n",
      "20    0.791235\n",
      "21    0.727978\n",
      "22    0.802130\n",
      "23    0.744973\n",
      "24    0.777507\n",
      "25    0.742318\n",
      "26    0.687342\n",
      "27    0.858875\n",
      "28    0.766120\n",
      "29    0.803695\n",
      "30    0.682973\n",
      "31    0.723615\n",
      "32    0.823018\n",
      "33    0.817031\n",
      "34    0.835071\n",
      "35    0.775508\n",
      "36    0.953422\n",
      "37    0.754328\n",
      "38    0.690041\n",
      "Name: Wadell Coefficient, dtype: float64\n"
     ]
    }
   ],
   "source": [
    "print(ZGPCrefined)"
   ]
  },
  {
   "cell_type": "code",
   "execution_count": 21,
   "id": "ed9cbc2e-64b9-4052-a759-78c97c3c8264",
   "metadata": {},
   "outputs": [
    {
     "data": {
      "text/plain": [
       "<matplotlib.legend.Legend at 0x2086ae7f2c0>"
      ]
     },
     "execution_count": 21,
     "metadata": {},
     "output_type": "execute_result"
    },
    {
     "data": {
      "image/png": "[encoded data removed]",
      "text/plain": [
       "<Figure size 640x480 with 1 Axes>"
      ]
     },
     "metadata": {},
     "output_type": "display_data"
    }
   ],
   "source": [
    "plt.hist(ZGPCrefined, color = 'blue', bins = 10)\n",
    "plt.legend(\"0 g char\")"
   ]
  },
  {
   "cell_type": "code",
   "execution_count": 22,
   "id": "63a418cf-b836-4ed7-ba4a-aae7c5295326",
   "metadata": {},
   "outputs": [],
   "source": [
    "TwoFiveGCharPC = pd.read_csv(r\"C:\\Users\\zlaird1\\OneDrive - Louisiana State University\\Documents\\OCS4001\\Char_PC_2.5LSA.csv\")"
   ]
  },
  {
   "cell_type": "code",
   "execution_count": 23,
   "id": "75d814f2-7abe-4ee7-9ac1-4033669a8162",
   "metadata": {
    "scrolled": true
   },
   "outputs": [
    {
     "data": {
      "text/html": [
       "<div>\n",
       "<style scoped>\n",
       "    .dataframe tbody tr th:only-of-type {\n",
       "        vertical-align: middle;\n",
       "    }\n",
       "\n",
       "    .dataframe tbody tr th {\n",
       "        vertical-align: top;\n",
       "    }\n",
       "\n",
       "    .dataframe thead th {\n",
       "        text-align: right;\n",
       "    }\n",
       "</style>\n",
       "<table border=\"1\" class=\"dataframe\">\n",
       "  <thead>\n",
       "    <tr style=\"text-align: right;\">\n",
       "      <th></th>\n",
       "      <th>Smallest</th>\n",
       "      <th>Small</th>\n",
       "      <th>Larger</th>\n",
       "      <th>Largest</th>\n",
       "      <th>Wadell Coefficient</th>\n",
       "    </tr>\n",
       "  </thead>\n",
       "  <tbody>\n",
       "    <tr>\n",
       "      <th>0</th>\n",
       "      <td>231.21</td>\n",
       "      <td>285.88</td>\n",
       "      <td>301.86</td>\n",
       "      <td>407.13</td>\n",
       "      <td>0.752880</td>\n",
       "    </tr>\n",
       "    <tr>\n",
       "      <th>1</th>\n",
       "      <td>74.65</td>\n",
       "      <td>166.93</td>\n",
       "      <td>179.69</td>\n",
       "      <td>189.49</td>\n",
       "      <td>0.805795</td>\n",
       "    </tr>\n",
       "    <tr>\n",
       "      <th>2</th>\n",
       "      <td>27.33</td>\n",
       "      <td>65.20</td>\n",
       "      <td>87.91</td>\n",
       "      <td>88.39</td>\n",
       "      <td>0.760352</td>\n",
       "    </tr>\n",
       "    <tr>\n",
       "      <th>3</th>\n",
       "      <td>91.74</td>\n",
       "      <td>110.49</td>\n",
       "      <td>120.44</td>\n",
       "      <td>163.01</td>\n",
       "      <td>0.744862</td>\n",
       "    </tr>\n",
       "    <tr>\n",
       "      <th>4</th>\n",
       "      <td>106.18</td>\n",
       "      <td>124.66</td>\n",
       "      <td>126.49</td>\n",
       "      <td>147.17</td>\n",
       "      <td>0.857002</td>\n",
       "    </tr>\n",
       "    <tr>\n",
       "      <th>5</th>\n",
       "      <td>84.74</td>\n",
       "      <td>166.24</td>\n",
       "      <td>233.50</td>\n",
       "      <td>273.82</td>\n",
       "      <td>0.692334</td>\n",
       "    </tr>\n",
       "    <tr>\n",
       "      <th>6</th>\n",
       "      <td>53.86</td>\n",
       "      <td>61.11</td>\n",
       "      <td>64.32</td>\n",
       "      <td>77.30</td>\n",
       "      <td>0.829851</td>\n",
       "    </tr>\n",
       "    <tr>\n",
       "      <th>7</th>\n",
       "      <td>59.92</td>\n",
       "      <td>102.40</td>\n",
       "      <td>117.91</td>\n",
       "      <td>203.74</td>\n",
       "      <td>0.593857</td>\n",
       "    </tr>\n",
       "    <tr>\n",
       "      <th>8</th>\n",
       "      <td>47.94</td>\n",
       "      <td>168.21</td>\n",
       "      <td>214.99</td>\n",
       "      <td>256.00</td>\n",
       "      <td>0.671035</td>\n",
       "    </tr>\n",
       "    <tr>\n",
       "      <th>9</th>\n",
       "      <td>85.76</td>\n",
       "      <td>91.27</td>\n",
       "      <td>103.10</td>\n",
       "      <td>124.32</td>\n",
       "      <td>0.813324</td>\n",
       "    </tr>\n",
       "    <tr>\n",
       "      <th>10</th>\n",
       "      <td>113.57</td>\n",
       "      <td>528.26</td>\n",
       "      <td>567.14</td>\n",
       "      <td>707.01</td>\n",
       "      <td>0.677494</td>\n",
       "    </tr>\n",
       "    <tr>\n",
       "      <th>11</th>\n",
       "      <td>123.74</td>\n",
       "      <td>176.95</td>\n",
       "      <td>220.79</td>\n",
       "      <td>220.34</td>\n",
       "      <td>0.841677</td>\n",
       "    </tr>\n",
       "    <tr>\n",
       "      <th>12</th>\n",
       "      <td>75.04</td>\n",
       "      <td>158.36</td>\n",
       "      <td>205.91</td>\n",
       "      <td>235.17</td>\n",
       "      <td>0.717013</td>\n",
       "    </tr>\n",
       "    <tr>\n",
       "      <th>13</th>\n",
       "      <td>41.86</td>\n",
       "      <td>103.10</td>\n",
       "      <td>115.45</td>\n",
       "      <td>174.99</td>\n",
       "      <td>0.622036</td>\n",
       "    </tr>\n",
       "    <tr>\n",
       "      <th>14</th>\n",
       "      <td>98.39</td>\n",
       "      <td>231.46</td>\n",
       "      <td>288.93</td>\n",
       "      <td>295.95</td>\n",
       "      <td>0.772707</td>\n",
       "    </tr>\n",
       "    <tr>\n",
       "      <th>15</th>\n",
       "      <td>145.11</td>\n",
       "      <td>168.21</td>\n",
       "      <td>197.73</td>\n",
       "      <td>252.13</td>\n",
       "      <td>0.756733</td>\n",
       "    </tr>\n",
       "    <tr>\n",
       "      <th>16</th>\n",
       "      <td>55.96</td>\n",
       "      <td>157.63</td>\n",
       "      <td>174.58</td>\n",
       "      <td>201.40</td>\n",
       "      <td>0.731840</td>\n",
       "    </tr>\n",
       "    <tr>\n",
       "      <th>17</th>\n",
       "      <td>139.35</td>\n",
       "      <td>248.29</td>\n",
       "      <td>257.38</td>\n",
       "      <td>363.08</td>\n",
       "      <td>0.694131</td>\n",
       "    </tr>\n",
       "    <tr>\n",
       "      <th>18</th>\n",
       "      <td>81.81</td>\n",
       "      <td>117.55</td>\n",
       "      <td>147.47</td>\n",
       "      <td>171.26</td>\n",
       "      <td>0.756292</td>\n",
       "    </tr>\n",
       "    <tr>\n",
       "      <th>19</th>\n",
       "      <td>49.41</td>\n",
       "      <td>56.97</td>\n",
       "      <td>57.73</td>\n",
       "      <td>81.81</td>\n",
       "      <td>0.751497</td>\n",
       "    </tr>\n",
       "    <tr>\n",
       "      <th>20</th>\n",
       "      <td>118.04</td>\n",
       "      <td>129.08</td>\n",
       "      <td>148.92</td>\n",
       "      <td>246.55</td>\n",
       "      <td>0.651582</td>\n",
       "    </tr>\n",
       "    <tr>\n",
       "      <th>21</th>\n",
       "      <td>31.38</td>\n",
       "      <td>69.68</td>\n",
       "      <td>244.09</td>\n",
       "      <td>267.28</td>\n",
       "      <td>0.572836</td>\n",
       "    </tr>\n",
       "    <tr>\n",
       "      <th>22</th>\n",
       "      <td>58.96</td>\n",
       "      <td>72.90</td>\n",
       "      <td>80.40</td>\n",
       "      <td>96.47</td>\n",
       "      <td>0.800067</td>\n",
       "    </tr>\n",
       "    <tr>\n",
       "      <th>23</th>\n",
       "      <td>65.42</td>\n",
       "      <td>86.42</td>\n",
       "      <td>91.92</td>\n",
       "      <td>101.69</td>\n",
       "      <td>0.849272</td>\n",
       "    </tr>\n",
       "    <tr>\n",
       "      <th>24</th>\n",
       "      <td>39.02</td>\n",
       "      <td>107.86</td>\n",
       "      <td>128.63</td>\n",
       "      <td>169.23</td>\n",
       "      <td>0.657005</td>\n",
       "    </tr>\n",
       "    <tr>\n",
       "      <th>25</th>\n",
       "      <td>95.52</td>\n",
       "      <td>156.08</td>\n",
       "      <td>170.59</td>\n",
       "      <td>203.39</td>\n",
       "      <td>0.768941</td>\n",
       "    </tr>\n",
       "    <tr>\n",
       "      <th>26</th>\n",
       "      <td>52.79</td>\n",
       "      <td>66.32</td>\n",
       "      <td>69.68</td>\n",
       "      <td>81.81</td>\n",
       "      <td>0.826916</td>\n",
       "    </tr>\n",
       "    <tr>\n",
       "      <th>27</th>\n",
       "      <td>38.65</td>\n",
       "      <td>53.60</td>\n",
       "      <td>59.20</td>\n",
       "      <td>81.81</td>\n",
       "      <td>0.712810</td>\n",
       "    </tr>\n",
       "    <tr>\n",
       "      <th>28</th>\n",
       "      <td>113.06</td>\n",
       "      <td>117.55</td>\n",
       "      <td>133.99</td>\n",
       "      <td>186.67</td>\n",
       "      <td>0.738295</td>\n",
       "    </tr>\n",
       "    <tr>\n",
       "      <th>29</th>\n",
       "      <td>37.52</td>\n",
       "      <td>52.79</td>\n",
       "      <td>53.60</td>\n",
       "      <td>67.16</td>\n",
       "      <td>0.785698</td>\n",
       "    </tr>\n",
       "    <tr>\n",
       "      <th>30</th>\n",
       "      <td>62.73</td>\n",
       "      <td>200.11</td>\n",
       "      <td>241.42</td>\n",
       "      <td>281.22</td>\n",
       "      <td>0.698279</td>\n",
       "    </tr>\n",
       "    <tr>\n",
       "      <th>31</th>\n",
       "      <td>67.80</td>\n",
       "      <td>68.64</td>\n",
       "      <td>72.90</td>\n",
       "      <td>75.23</td>\n",
       "      <td>0.945667</td>\n",
       "    </tr>\n",
       "    <tr>\n",
       "      <th>32</th>\n",
       "      <td>32.16</td>\n",
       "      <td>38.65</td>\n",
       "      <td>43.21</td>\n",
       "      <td>46.11</td>\n",
       "      <td>0.868196</td>\n",
       "    </tr>\n",
       "    <tr>\n",
       "      <th>33</th>\n",
       "      <td>99.70</td>\n",
       "      <td>149.50</td>\n",
       "      <td>189.95</td>\n",
       "      <td>265.36</td>\n",
       "      <td>0.663730</td>\n",
       "    </tr>\n",
       "    <tr>\n",
       "      <th>34</th>\n",
       "      <td>50.56</td>\n",
       "      <td>59.92</td>\n",
       "      <td>70.50</td>\n",
       "      <td>76.18</td>\n",
       "      <td>0.843922</td>\n",
       "    </tr>\n",
       "    <tr>\n",
       "      <th>35</th>\n",
       "      <td>48.24</td>\n",
       "      <td>65.20</td>\n",
       "      <td>70.14</td>\n",
       "      <td>87.25</td>\n",
       "      <td>0.776017</td>\n",
       "    </tr>\n",
       "    <tr>\n",
       "      <th>36</th>\n",
       "      <td>31.25</td>\n",
       "      <td>79.68</td>\n",
       "      <td>90.96</td>\n",
       "      <td>105.57</td>\n",
       "      <td>0.728095</td>\n",
       "    </tr>\n",
       "    <tr>\n",
       "      <th>37</th>\n",
       "      <td>41.86</td>\n",
       "      <td>58.96</td>\n",
       "      <td>68.64</td>\n",
       "      <td>91.74</td>\n",
       "      <td>0.711794</td>\n",
       "    </tr>\n",
       "    <tr>\n",
       "      <th>38</th>\n",
       "      <td>32.60</td>\n",
       "      <td>39.02</td>\n",
       "      <td>39.02</td>\n",
       "      <td>43.21</td>\n",
       "      <td>0.890130</td>\n",
       "    </tr>\n",
       "    <tr>\n",
       "      <th>39</th>\n",
       "      <td>38.65</td>\n",
       "      <td>53.86</td>\n",
       "      <td>69.68</td>\n",
       "      <td>80.40</td>\n",
       "      <td>0.754322</td>\n",
       "    </tr>\n",
       "  </tbody>\n",
       "</table>\n",
       "</div>"
      ],
      "text/plain": [
       "    Smallest   Small  Larger  Largest  Wadell Coefficient\n",
       "0     231.21  285.88  301.86   407.13            0.752880\n",
       "1      74.65  166.93  179.69   189.49            0.805795\n",
       "2      27.33   65.20   87.91    88.39            0.760352\n",
       "3      91.74  110.49  120.44   163.01            0.744862\n",
       "4     106.18  124.66  126.49   147.17            0.857002\n",
       "5      84.74  166.24  233.50   273.82            0.692334\n",
       "6      53.86   61.11   64.32    77.30            0.829851\n",
       "7      59.92  102.40  117.91   203.74            0.593857\n",
       "8      47.94  168.21  214.99   256.00            0.671035\n",
       "9      85.76   91.27  103.10   124.32            0.813324\n",
       "10    113.57  528.26  567.14   707.01            0.677494\n",
       "11    123.74  176.95  220.79   220.34            0.841677\n",
       "12     75.04  158.36  205.91   235.17            0.717013\n",
       "13     41.86  103.10  115.45   174.99            0.622036\n",
       "14     98.39  231.46  288.93   295.95            0.772707\n",
       "15    145.11  168.21  197.73   252.13            0.756733\n",
       "16     55.96  157.63  174.58   201.40            0.731840\n",
       "17    139.35  248.29  257.38   363.08            0.694131\n",
       "18     81.81  117.55  147.47   171.26            0.756292\n",
       "19     49.41   56.97   57.73    81.81            0.751497\n",
       "20    118.04  129.08  148.92   246.55            0.651582\n",
       "21     31.38   69.68  244.09   267.28            0.572836\n",
       "22     58.96   72.90   80.40    96.47            0.800067\n",
       "23     65.42   86.42   91.92   101.69            0.849272\n",
       "24     39.02  107.86  128.63   169.23            0.657005\n",
       "25     95.52  156.08  170.59   203.39            0.768941\n",
       "26     52.79   66.32   69.68    81.81            0.826916\n",
       "27     38.65   53.60   59.20    81.81            0.712810\n",
       "28    113.06  117.55  133.99   186.67            0.738295\n",
       "29     37.52   52.79   53.60    67.16            0.785698\n",
       "30     62.73  200.11  241.42   281.22            0.698279\n",
       "31     67.80   68.64   72.90    75.23            0.945667\n",
       "32     32.16   38.65   43.21    46.11            0.868196\n",
       "33     99.70  149.50  189.95   265.36            0.663730\n",
       "34     50.56   59.92   70.50    76.18            0.843922\n",
       "35     48.24   65.20   70.14    87.25            0.776017\n",
       "36     31.25   79.68   90.96   105.57            0.728095\n",
       "37     41.86   58.96   68.64    91.74            0.711794\n",
       "38     32.60   39.02   39.02    43.21            0.890130\n",
       "39     38.65   53.86   69.68    80.40            0.754322"
      ]
     },
     "execution_count": 23,
     "metadata": {},
     "output_type": "execute_result"
    }
   ],
   "source": [
    "TwoFiveGCharPC"
   ]
  },
  {
   "cell_type": "code",
   "execution_count": 82,
   "id": "3b965de8-2ac1-402a-b922-130508aecaaf",
   "metadata": {},
   "outputs": [
    {
     "data": {
      "text/plain": [
       "Text(0.5, 1.0, 'Largest Particle Size Distribution 2.5g LSA')"
      ]
     },
     "execution_count": 82,
     "metadata": {},
     "output_type": "execute_result"
    },
    {
     "data": {
      "image/png": "[encoded data removed]",
      "text/plain": [
       "<Figure size 640x480 with 1 Axes>"
      ]
     },
     "metadata": {},
     "output_type": "display_data"
    }
   ],
   "source": [
    "TFHistData = TwoFiveGCharPC.iloc[:,3]\n",
    "plt.hist(TFHistData)\n",
    "plt.xlabel(\"Particle Size Microns\")\n",
    "plt.ylabel(\"Frequency of Ocurrence\")\n",
    "plt.title(\"Largest Particle Size Distribution 2.5g LSA\")"
   ]
  },
  {
   "cell_type": "code",
   "execution_count": 24,
   "id": "02c8d083-f3ba-4751-9a75-d2c08db86549",
   "metadata": {},
   "outputs": [],
   "source": [
    "TFGPCrefined = TwoFiveGCharPC.iloc[:,4]"
   ]
  },
  {
   "cell_type": "code",
   "execution_count": 25,
   "id": "d9ed7f35-d713-4838-b058-ea2159f2868d",
   "metadata": {
    "scrolled": true
   },
   "outputs": [
    {
     "data": {
      "text/plain": [
       "0     0.752880\n",
       "1     0.805795\n",
       "2     0.760352\n",
       "3     0.744862\n",
       "4     0.857002\n",
       "5     0.692334\n",
       "6     0.829851\n",
       "7     0.593857\n",
       "8     0.671035\n",
       "9     0.813324\n",
       "10    0.677494\n",
       "11    0.841677\n",
       "12    0.717013\n",
       "13    0.622036\n",
       "14    0.772707\n",
       "15    0.756733\n",
       "16    0.731840\n",
       "17    0.694131\n",
       "18    0.756292\n",
       "19    0.751497\n",
       "20    0.651582\n",
       "21    0.572836\n",
       "22    0.800067\n",
       "23    0.849272\n",
       "24    0.657005\n",
       "25    0.768941\n",
       "26    0.826916\n",
       "27    0.712810\n",
       "28    0.738295\n",
       "29    0.785698\n",
       "30    0.698279\n",
       "31    0.945667\n",
       "32    0.868196\n",
       "33    0.663730\n",
       "34    0.843922\n",
       "35    0.776017\n",
       "36    0.728095\n",
       "37    0.711794\n",
       "38    0.890130\n",
       "39    0.754322\n",
       "Name: Wadell Coefficient, dtype: float64"
      ]
     },
     "execution_count": 25,
     "metadata": {},
     "output_type": "execute_result"
    }
   ],
   "source": [
    "TFGPCrefined"
   ]
  },
  {
   "cell_type": "code",
   "execution_count": null,
   "id": "ba21acd4-45ff-47ed-8eb7-86fc01b298ff",
   "metadata": {},
   "outputs": [],
   "source": []
  },
  {
   "cell_type": "code",
   "execution_count": 27,
   "id": "4dade133-0be7-4dd2-80b7-b19574d346d0",
   "metadata": {},
   "outputs": [
    {
     "data": {
      "text/plain": [
       "<matplotlib.legend.Legend at 0x2086b90b5c0>"
      ]
     },
     "execution_count": 27,
     "metadata": {},
     "output_type": "execute_result"
    },
    {
     "data": {
      "image/png": "[encoded data removed]",
      "text/plain": [
       "<Figure size 640x480 with 1 Axes>"
      ]
     },
     "metadata": {},
     "output_type": "display_data"
    }
   ],
   "source": [
    "plt.hist(TFGPCrefined, color = 'red', bins = 10)\n",
    "plt.legend(\"2.5 g Char\")"
   ]
  },
  {
   "cell_type": "code",
   "execution_count": 83,
   "id": "7d9f5134-6b99-4188-9941-311645970fb9",
   "metadata": {},
   "outputs": [
    {
     "data": {
      "text/plain": [
       "<matplotlib.legend.Legend at 0x2087361a450>"
      ]
     },
     "execution_count": 83,
     "metadata": {},
     "output_type": "execute_result"
    },
    {
     "data": {
      "image/png": "[encoded data removed]",
      "text/plain": [
       "<Figure size 640x480 with 1 Axes>"
      ]
     },
     "metadata": {},
     "output_type": "display_data"
    }
   ],
   "source": [
    "plt.hist(ZGPCrefined, color = 'blue', bins = 10, alpha = 0.6, label = '0gLSA')\n",
    "plt.hist(TFGPCrefined, color = 'red', bins = 10, alpha = 0.6, label = '2.5gLSA')\n",
    "plt.legend(loc = 'upper right')"
   ]
  },
  {
   "cell_type": "code",
   "execution_count": 30,
   "id": "f4f426f9-d7f5-4bbb-bbe9-b091ea0127e1",
   "metadata": {},
   "outputs": [],
   "source": [
    "FiveGCharPC = pd.read_csv(r\"C:\\Users\\zlaird1\\OneDrive - Louisiana State University\\Documents\\OCS4001\\Char_PC_5LSA.csv\")"
   ]
  },
  {
   "cell_type": "code",
   "execution_count": 67,
   "id": "880fa78b-7529-4af1-9c06-3156da915dc2",
   "metadata": {},
   "outputs": [],
   "source": [
    "FiveGCharPC\n",
    "FiveGCharPC.to_csv(r\"C:\\Users\\zlaird1\\OneDrive - Louisiana State University\\Documents\\OCS4001\\FiveGCharPC\")"
   ]
  },
  {
   "cell_type": "code",
   "execution_count": 79,
   "id": "a8f46ec6-a9df-4b78-b824-e84b207e6f74",
   "metadata": {},
   "outputs": [
    {
     "data": {
      "text/plain": [
       "Text(0.5, 1.0, 'Largest Particle Size Distribution 5g LSA')"
      ]
     },
     "execution_count": 79,
     "metadata": {},
     "output_type": "execute_result"
    },
    {
     "data": {
      "image/png": "[encoded data removed]",
      "text/plain": [
       "<Figure size 640x480 with 1 Axes>"
      ]
     },
     "metadata": {},
     "output_type": "display_data"
    }
   ],
   "source": [
    "FHistData = FiveGCharPC.iloc[:,3]\n",
    "plt.hist(FHistData, bins = [100,200,300,400,500,600,700])\n",
    "plt.xlabel(\"Particle Size Microns\")\n",
    "plt.ylabel(\"Frequency of Ocurrence\")\n",
    "plt.title(\"Largest Particle Size Distribution 5g LSA\")"
   ]
  },
  {
   "cell_type": "code",
   "execution_count": 34,
   "id": "47349b9d-678e-4897-a089-2086adaaf868",
   "metadata": {},
   "outputs": [],
   "source": [
    "FGPCrefined = FiveGCharPC.iloc[:,4]"
   ]
  },
  {
   "cell_type": "code",
   "execution_count": 35,
   "id": "b99c6243-e79e-4f95-af88-4694b5411319",
   "metadata": {
    "scrolled": true
   },
   "outputs": [
    {
     "data": {
      "text/plain": [
       "0     0.722095\n",
       "1     0.797771\n",
       "2     0.728439\n",
       "3     0.909631\n",
       "4     0.737798\n",
       "5     0.681314\n",
       "6     0.775528\n",
       "7     0.693411\n",
       "8     0.785205\n",
       "9     0.816291\n",
       "10    0.533125\n",
       "11    0.607485\n",
       "12    0.832229\n",
       "13    0.883962\n",
       "14    0.718754\n",
       "15    0.703614\n",
       "16    0.800876\n",
       "17    0.767060\n",
       "18    0.755397\n",
       "19    0.729937\n",
       "20    0.691698\n",
       "21    0.734854\n",
       "22    0.931121\n",
       "23    0.894472\n",
       "24    0.845586\n",
       "25    0.740771\n",
       "26    0.903298\n",
       "27    0.839043\n",
       "28    0.724992\n",
       "29    0.784496\n",
       "30    0.682841\n",
       "31    0.809222\n",
       "32    0.851922\n",
       "33    0.762467\n",
       "34    0.606223\n",
       "35    0.782512\n",
       "36    0.745999\n",
       "37    0.714719\n",
       "38    0.678577\n",
       "39    0.753093\n",
       "Name: Wadell Coefficient, dtype: float64"
      ]
     },
     "execution_count": 35,
     "metadata": {},
     "output_type": "execute_result"
    }
   ],
   "source": [
    "FGPCrefined"
   ]
  },
  {
   "cell_type": "code",
   "execution_count": 37,
   "id": "019238cd-feda-43b5-a535-25c84743f28d",
   "metadata": {},
   "outputs": [
    {
     "data": {
      "text/plain": [
       "<matplotlib.legend.Legend at 0x2086f839c40>"
      ]
     },
     "execution_count": 37,
     "metadata": {},
     "output_type": "execute_result"
    },
    {
     "data": {
      "image/png": "[encoded data removed]",
      "text/plain": [
       "<Figure size 640x480 with 1 Axes>"
      ]
     },
     "metadata": {},
     "output_type": "display_data"
    }
   ],
   "source": [
    "plt.hist(FGPCrefined, color = 'green', bins = 10)\n",
    "plt.legend(\"5\")"
   ]
  },
  {
   "cell_type": "code",
   "execution_count": 41,
   "id": "1f5c0fb4-6b5f-4d91-a9f4-9e403b487b53",
   "metadata": {},
   "outputs": [
    {
     "data": {
      "text/plain": [
       "Text(0.5, 1.0, 'Pine Chips < 350 microns Charred Wadell Coefficients comparison between LSA Treatments')"
      ]
     },
     "execution_count": 41,
     "metadata": {},
     "output_type": "execute_result"
    },
    {
     "data": {
      "image/png": "[encoded data removed]",
      "text/plain": [
       "<Figure size 640x480 with 1 Axes>"
      ]
     },
     "metadata": {},
     "output_type": "display_data"
    }
   ],
   "source": [
    "plt.hist(ZGPCrefined, color = 'blue', bins = 10, alpha = 0.8, label = '0gLSA')\n",
    "plt.hist(TFGPCrefined, color = 'red', bins = 10, alpha = 0.7, label = '2.5gLSA')\n",
    "plt.hist(FGPCrefined, color = 'green', bins = 10, alpha = 0.6, label = '5gLSA')\n",
    "plt.legend(loc = 'upper right')\n",
    "plt.ylabel(\"Frequency of Ocurrence\")\n",
    "plt.xlabel(\"Wadell's Roundness Coefficient\")\n",
    "plt.title(\"Pine Chips < 350 microns Charred Wadell Coefficients comparison between LSA Treatments\")"
   ]
  },
  {
   "cell_type": "code",
   "execution_count": 42,
   "id": "b43511c5-eb71-475a-af13-6a568975e05b",
   "metadata": {},
   "outputs": [
    {
     "data": {
      "text/plain": [
       "0.7676983536410256"
      ]
     },
     "execution_count": 42,
     "metadata": {},
     "output_type": "execute_result"
    }
   ],
   "source": [
    "ZGPCrefined.mean()"
   ]
  },
  {
   "cell_type": "code",
   "execution_count": 43,
   "id": "aad32287-d5f2-45dc-9021-11dd02cbb1d2",
   "metadata": {},
   "outputs": [
    {
     "data": {
      "text/plain": [
       "0.7521571579999999"
      ]
     },
     "execution_count": 43,
     "metadata": {},
     "output_type": "execute_result"
    }
   ],
   "source": [
    "TFGPCrefined.mean()"
   ]
  },
  {
   "cell_type": "code",
   "execution_count": 44,
   "id": "d7ccea91-0aa4-4041-931f-6bd53662c8c0",
   "metadata": {},
   "outputs": [
    {
     "data": {
      "text/plain": [
       "0.761445730275"
      ]
     },
     "execution_count": 44,
     "metadata": {},
     "output_type": "execute_result"
    }
   ],
   "source": [
    "FGPCrefined.mean()"
   ]
  },
  {
   "cell_type": "code",
   "execution_count": 45,
   "id": "91b4747f-1e26-411d-ac3e-0737d76279d0",
   "metadata": {},
   "outputs": [],
   "source": [
    "OneMinusMean = [[0, 1-ZGPCrefined.mean()],\n",
    "                [2.5, 1-TFGPCrefined.mean()],\n",
    "                [5, 1-FGPCrefined.mean()]]"
   ]
  },
  {
   "cell_type": "code",
   "execution_count": 46,
   "id": "56902b80-23f6-4c39-97f2-4bb36e0b33f6",
   "metadata": {},
   "outputs": [
    {
     "data": {
      "text/plain": [
       "[[0, 0.23230164635897443],\n",
       " [2.5, 0.24784284200000006],\n",
       " [5, 0.23855426972500005]]"
      ]
     },
     "execution_count": 46,
     "metadata": {},
     "output_type": "execute_result"
    }
   ],
   "source": [
    "OneMinusMean"
   ]
  },
  {
   "cell_type": "code",
   "execution_count": 49,
   "id": "9470e55b-2e82-498a-9236-0bbb1099d877",
   "metadata": {},
   "outputs": [],
   "source": [
    "OMMx = [0,2.5,5]"
   ]
  },
  {
   "cell_type": "code",
   "execution_count": 50,
   "id": "153c2d93-77f8-4e3a-ad80-fd9cb71b50b8",
   "metadata": {},
   "outputs": [],
   "source": [
    "OMMy = [0.23230164635897443, 0.24784284200000006, 0.23855426972500005]"
   ]
  },
  {
   "cell_type": "code",
   "execution_count": 61,
   "id": "7694963b-8e74-4583-9c78-ad5b292cc8d8",
   "metadata": {},
   "outputs": [
    {
     "data": {
      "text/plain": [
       "Text(0.5, 1.0, 'LSA Treatments and their proximity to perfect roundness')"
      ]
     },
     "execution_count": 61,
     "metadata": {},
     "output_type": "execute_result"
    },
    {
     "data": {
      "image/png": "[encoded data removed]",
      "text/plain": [
       "<Figure size 640x480 with 1 Axes>"
      ]
     },
     "metadata": {},
     "output_type": "display_data"
    }
   ],
   "source": [
    "plt.scatter(OMMx,OMMy, color = 'red')\n",
    "plt.xlabel(\"Lignosulfonic Sodium Salt Acid (g)\")\n",
    "plt.ylabel(\"1 - Mean Wadell Coefficient\")\n",
    "plt.title(\"LSA Treatments and their proximity to perfect roundness\")"
   ]
  },
  {
   "cell_type": "code",
   "execution_count": 85,
   "id": "a9cc820c-8355-4516-9a8e-7628cf8de686",
   "metadata": {},
   "outputs": [
    {
     "data": {
      "text/plain": [
       "<matplotlib.legend.Legend at 0x208750d5220>"
      ]
     },
     "execution_count": 85,
     "metadata": {},
     "output_type": "execute_result"
    },
    {
     "data": {
      "image/png": "[encoded data removed]",
      "text/plain": [
       "<Figure size 640x480 with 1 Axes>"
      ]
     },
     "metadata": {},
     "output_type": "display_data"
    }
   ],
   "source": [
    "plt.hist(ZGHist, bins = [100,200,300,400,500,600,700],alpha = 0.7, label = '0gLSA')\n",
    "plt.hist(TFHistData, bins =[100,200,300,400,500,600,700], alpha = 0.7, label = '2.5gLSA')\n",
    "plt.hist(FHistData, bins = [100,200,300,400,500,600,700], alpha = 0.7, label = '5gLSA')\n",
    "plt.xlabel(\"Particle Size Microns\")\n",
    "plt.ylabel(\"Frequency of Ocurrence\")\n",
    "plt.title(\"Largest Particle Size Distribution For All Three Treatments\")\n",
    "plt.legend(loc = 'upper right')"
   ]
  },
  {
   "cell_type": "code",
   "execution_count": null,
   "id": "af718baf-faf5-460b-bcf0-e0434216d702",
   "metadata": {},
   "outputs": [],
   "source": []
  }
 ],
 "metadata": {
  "kernelspec": {
   "display_name": "Python 3 (ipykernel)",
   "language": "python",
   "name": "python3"
  },
  "language_info": {
   "codemirror_mode": {
    "name": "ipython",
    "version": 3
   },
   "file_extension": ".py",
   "mimetype": "text/x-python",
   "name": "python",
   "nbconvert_exporter": "python",
   "pygments_lexer": "ipython3",
   "version": "3.12.4"
  }
 },
 "nbformat": 4,
 "nbformat_minor": 5
}
