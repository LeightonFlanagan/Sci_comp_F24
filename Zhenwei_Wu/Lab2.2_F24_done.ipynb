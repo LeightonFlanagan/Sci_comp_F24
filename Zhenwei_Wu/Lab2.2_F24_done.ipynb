{
 "cells": [
  {
   "cell_type": "markdown",
   "metadata": {},
   "source": [
    "Name: Vic Wu"
   ]
  },
  {
   "cell_type": "markdown",
   "metadata": {},
   "source": [
    "Lab partner(s): Mariam & Sarah"
   ]
  },
  {
   "cell_type": "code",
   "execution_count": null,
   "metadata": {},
   "outputs": [],
   "source": []
  },
  {
   "cell_type": "markdown",
   "metadata": {},
   "source": [
    "## Instructions\n",
    "\n",
    "For each class, download the lab and have it up and running in Jupyter when we begin the class period. This will allow you to code along with the demonstrations and be ready to go. You will be assigned a lab partner. Put their name above."
   ]
  },
  {
   "attachments": {},
   "cell_type": "markdown",
   "metadata": {},
   "source": [
    "When you are done with your lab, upload this document to your github folder on the class site. Then submit a url link to the completed lab, along with a screenshot of your completed score for the chapter assigned in datacamp to the assignment tab in Moodle.\n",
    "\n",
    "We are moving to having labs due before the next lab, so this is due before class next Tuesday. Come ready to move on to the next topic, and bring any questions you have about the previous lab's material.\n",
    "\n",
    "# Warmups"
   ]
  },
  {
   "cell_type": "markdown",
   "metadata": {},
   "source": [
    "**W.1** Define a string variable that has the value \"All my exes live in Texas\". Print out the word Texas from this string two ways, using both postive and negative indexing."
   ]
  },
  {
   "cell_type": "code",
   "execution_count": 3,
   "metadata": {},
   "outputs": [
    {
     "name": "stdout",
     "output_type": "stream",
     "text": [
      "Texas\n",
      "Texas\n"
     ]
    }
   ],
   "source": [
    "#define a string variable\n",
    "W1 = \"All my exes live in Texas\"\n",
    "\n",
    "#print out word Texas using positive indexing\n",
    "print(W1[20:])\n",
    "\n",
    "#using negative indexing\n",
    "print(W1[-5:])"
   ]
  },
  {
   "cell_type": "markdown",
   "metadata": {},
   "source": [
    "**W.2** How many times is the letter e used in the above?"
   ]
  },
  {
   "cell_type": "code",
   "execution_count": 5,
   "metadata": {},
   "outputs": [
    {
     "data": {
      "text/plain": [
       "4"
      ]
     },
     "execution_count": 5,
     "metadata": {},
     "output_type": "execute_result"
    }
   ],
   "source": [
    "#using .count methods to account\n",
    "W1.count(\"e\")"
   ]
  },
  {
   "cell_type": "markdown",
   "metadata": {},
   "source": [
    "**W.3** Define both a list and a numpy array that has even integers from 0 to 20"
   ]
  },
  {
   "cell_type": "code",
   "execution_count": 14,
   "metadata": {},
   "outputs": [],
   "source": [
    "#define a list\n",
    "list1 = [0,2,4,6,8,10,12,14,16,18,20]\n",
    "\n",
    "#define a numpy array\n",
    "import numpy as np\n",
    "array1 = np.array([0,2,4,6,8,10,12,14,16,18,20])"
   ]
  },
  {
   "cell_type": "markdown",
   "metadata": {},
   "source": [
    "**W.4** Add this array to itself, what is the result? Do the same thing with a list, how is the result different?"
   ]
  },
  {
   "cell_type": "code",
   "execution_count": 13,
   "metadata": {},
   "outputs": [
    {
     "name": "stdout",
     "output_type": "stream",
     "text": [
      "[ 0  4  8 12 16 20 24 28 32 36 40]\n"
     ]
    }
   ],
   "source": [
    "# Add array1 to itself\n",
    "array2 = array1 + array1\n",
    "print (array2)"
   ]
  },
  {
   "cell_type": "code",
   "execution_count": 16,
   "metadata": {},
   "outputs": [
    {
     "name": "stdout",
     "output_type": "stream",
     "text": [
      "[0, 2, 4, 6, 8, 10, 12, 14, 16, 18, 20, 0, 2, 4, 6, 8, 10, 12, 14, 16, 18, 20]\n"
     ]
    }
   ],
   "source": [
    "#Add list1 to itself\n",
    "list2 = list1 + list1\n",
    "print(list2)"
   ]
  },
  {
   "cell_type": "code",
   "execution_count": null,
   "metadata": {},
   "outputs": [],
   "source": [
    "#Results are diff. \n",
    "#Adding array to itself, values in same index will sum, like calculation? \n",
    "#Adding list to itself, u just put another list after one list, no calculation"
   ]
  },
  {
   "cell_type": "markdown",
   "metadata": {},
   "source": [
    "**W.5** Find the mean of the numpy array you created using a method and a function."
   ]
  },
  {
   "cell_type": "code",
   "execution_count": 19,
   "metadata": {},
   "outputs": [
    {
     "name": "stdout",
     "output_type": "stream",
     "text": [
      "20.0\n"
     ]
    }
   ],
   "source": [
    "#using a method to fina the mean\n",
    "mean_value = np.mean(array2)\n",
    "print(mean_value)"
   ]
  },
  {
   "cell_type": "markdown",
   "metadata": {},
   "source": [
    "**W.6** Now try finding the mean of the list, does it work in the same way?"
   ]
  },
  {
   "cell_type": "code",
   "execution_count": 61,
   "metadata": {},
   "outputs": [
    {
     "name": "stdout",
     "output_type": "stream",
     "text": [
      "10.0\n"
     ]
    }
   ],
   "source": [
    "mean_value1 = np.mean(list2)\n",
    "print(mean_value1)"
   ]
  },
  {
   "cell_type": "code",
   "execution_count": null,
   "metadata": {},
   "outputs": [],
   "source": [
    "#yes .mean methods can also be used in list. "
   ]
  },
  {
   "cell_type": "markdown",
   "metadata": {},
   "source": [
    "# Lecture 2.2"
   ]
  },
  {
   "cell_type": "markdown",
   "metadata": {},
   "source": [
    "Lecture Agenda:\n",
    "\n",
    "* questions so far\n",
    "* standard import statements\n",
    "* basic things in numpy and matplotlib\n",
    "* how to investigate how a pre-defined function works\n",
    "* First plot! "
   ]
  },
  {
   "cell_type": "markdown",
   "metadata": {},
   "source": [
    "In general, your python notebook, interactive session, or script will start with some importing statements to add the packages you are going to use. Below we will go over the most standard ones and make a simple plot"
   ]
  },
  {
   "cell_type": "code",
   "execution_count": 20,
   "metadata": {},
   "outputs": [],
   "source": [
    "import numpy as np                        # load the numerical python package\n",
    "import matplotlib.pyplot as plt           # load the plotting package"
   ]
  },
  {
   "cell_type": "markdown",
   "metadata": {},
   "source": [
    "Note you only have to load the packages once, then they are available in your kernel, which is the python session for your notebook or interactive console. If you restart the kernel, you need to reload the packages. You can check what packages are loaded using whos, just like for variables"
   ]
  },
  {
   "cell_type": "code",
   "execution_count": 21,
   "metadata": {},
   "outputs": [
    {
     "name": "stdout",
     "output_type": "stream",
     "text": [
      "Variable          Type             Data/Info\n",
      "--------------------------------------------\n",
      "List1             list             n=11\n",
      "NamespaceMagics   MetaHasTraits    <class 'IPython.core.magi<...>mespace.NamespaceMagics'>\n",
      "W1                str              All my exes live in Texas\n",
      "array1            ndarray          11: 11 elems, type `int32`, 44 bytes\n",
      "array2            ndarray          11: 11 elems, type `int32`, 44 bytes\n",
      "get_ipython       function         <function get_ipython at 0x0000018A3B895940>\n",
      "json              module           <module 'json' from 'C:\\\\<...>\\Lib\\\\json\\\\__init__.py'>\n",
      "list1             list             n=11\n",
      "list2             list             n=22\n",
      "mean_value        float64          20.0\n",
      "np                module           <module 'numpy' from 'C:\\<...>ges\\\\numpy\\\\__init__.py'>\n",
      "plt               module           <module 'matplotlib.pyplo<...>\\\\matplotlib\\\\pyplot.py'>\n",
      "sys               module           <module 'sys' (built-in)>\n"
     ]
    }
   ],
   "source": [
    "whos"
   ]
  },
  {
   "cell_type": "markdown",
   "metadata": {},
   "source": [
    "Let's make a basic plot, a sine wave. Fist we have to define the x-axis data, the points we want to plot. You can type these all out, but numpy has a few functions to create this data, let's use one.\n",
    "\n",
    "Look at the documentation for the numpy function *arange*. The inputs are start, stop and step, and there are some examples at the bottom. Some of these inputs are optional. Let's play around with this"
   ]
  },
  {
   "cell_type": "code",
   "execution_count": 22,
   "metadata": {},
   "outputs": [
    {
     "data": {
      "text/plain": [
       "\u001b[1;31mDocstring:\u001b[0m\n",
       "arange([start,] stop[, step,], dtype=None, *, like=None)\n",
       "\n",
       "Return evenly spaced values within a given interval.\n",
       "\n",
       "``arange`` can be called with a varying number of positional arguments:\n",
       "\n",
       "* ``arange(stop)``: Values are generated within the half-open interval\n",
       "  ``[0, stop)`` (in other words, the interval including `start` but\n",
       "  excluding `stop`).\n",
       "* ``arange(start, stop)``: Values are generated within the half-open\n",
       "  interval ``[start, stop)``.\n",
       "* ``arange(start, stop, step)`` Values are generated within the half-open\n",
       "  interval ``[start, stop)``, with spacing between values given by\n",
       "  ``step``.\n",
       "\n",
       "For integer arguments the function is roughly equivalent to the Python\n",
       "built-in :py:class:`range`, but returns an ndarray rather than a ``range``\n",
       "instance.\n",
       "\n",
       "When using a non-integer step, such as 0.1, it is often better to use\n",
       "`numpy.linspace`.\n",
       "\n",
       "See the Warning sections below for more information.\n",
       "\n",
       "Parameters\n",
       "----------\n",
       "start : integer or real, optional\n",
       "    Start of interval.  The interval includes this value.  The default\n",
       "    start value is 0.\n",
       "stop : integer or real\n",
       "    End of interval.  The interval does not include this value, except\n",
       "    in some cases where `step` is not an integer and floating point\n",
       "    round-off affects the length of `out`.\n",
       "step : integer or real, optional\n",
       "    Spacing between values.  For any output `out`, this is the distance\n",
       "    between two adjacent values, ``out[i+1] - out[i]``.  The default\n",
       "    step size is 1.  If `step` is specified as a position argument,\n",
       "    `start` must also be given.\n",
       "dtype : dtype, optional\n",
       "    The type of the output array.  If `dtype` is not given, infer the data\n",
       "    type from the other input arguments.\n",
       "like : array_like, optional\n",
       "    Reference object to allow the creation of arrays which are not\n",
       "    NumPy arrays. If an array-like passed in as ``like`` supports\n",
       "    the ``__array_function__`` protocol, the result will be defined\n",
       "    by it. In this case, it ensures the creation of an array object\n",
       "    compatible with that passed in via this argument.\n",
       "\n",
       "    .. versionadded:: 1.20.0\n",
       "\n",
       "Returns\n",
       "-------\n",
       "arange : ndarray\n",
       "    Array of evenly spaced values.\n",
       "\n",
       "    For floating point arguments, the length of the result is\n",
       "    ``ceil((stop - start)/step)``.  Because of floating point overflow,\n",
       "    this rule may result in the last element of `out` being greater\n",
       "    than `stop`.\n",
       "\n",
       "Warnings\n",
       "--------\n",
       "The length of the output might not be numerically stable.\n",
       "\n",
       "Another stability issue is due to the internal implementation of\n",
       "`numpy.arange`.\n",
       "The actual step value used to populate the array is\n",
       "``dtype(start + step) - dtype(start)`` and not `step`. Precision loss\n",
       "can occur here, due to casting or due to using floating points when\n",
       "`start` is much larger than `step`. This can lead to unexpected\n",
       "behaviour. For example::\n",
       "\n",
       "  >>> np.arange(0, 5, 0.5, dtype=int)\n",
       "  array([0, 0, 0, 0, 0, 0, 0, 0, 0, 0])\n",
       "  >>> np.arange(-3, 3, 0.5, dtype=int)\n",
       "  array([-3, -2, -1,  0,  1,  2,  3,  4,  5,  6,  7,  8])\n",
       "\n",
       "In such cases, the use of `numpy.linspace` should be preferred.\n",
       "\n",
       "The built-in :py:class:`range` generates :std:doc:`Python built-in integers\n",
       "that have arbitrary size <python:c-api/long>`, while `numpy.arange`\n",
       "produces `numpy.int32` or `numpy.int64` numbers. This may result in\n",
       "incorrect results for large integer values::\n",
       "\n",
       "  >>> power = 40\n",
       "  >>> modulo = 10000\n",
       "  >>> x1 = [(n ** power) % modulo for n in range(8)]\n",
       "  >>> x2 = [(n ** power) % modulo for n in np.arange(8)]\n",
       "  >>> print(x1)\n",
       "  [0, 1, 7776, 8801, 6176, 625, 6576, 4001]  # correct\n",
       "  >>> print(x2)\n",
       "  [0, 1, 7776, 7185, 0, 5969, 4816, 3361]  # incorrect\n",
       "\n",
       "See Also\n",
       "--------\n",
       "numpy.linspace : Evenly spaced numbers with careful handling of endpoints.\n",
       "numpy.ogrid: Arrays of evenly spaced numbers in N-dimensions.\n",
       "numpy.mgrid: Grid-shaped arrays of evenly spaced numbers in N-dimensions.\n",
       ":ref:`how-to-partition`\n",
       "\n",
       "Examples\n",
       "--------\n",
       ">>> np.arange(3)\n",
       "array([0, 1, 2])\n",
       ">>> np.arange(3.0)\n",
       "array([ 0.,  1.,  2.])\n",
       ">>> np.arange(3,7)\n",
       "array([3, 4, 5, 6])\n",
       ">>> np.arange(3,7,2)\n",
       "array([3, 5])\n",
       "\u001b[1;31mType:\u001b[0m      builtin_function_or_method"
      ]
     },
     "metadata": {},
     "output_type": "display_data"
    }
   ],
   "source": [
    "np.arange?"
   ]
  },
  {
   "cell_type": "markdown",
   "metadata": {},
   "source": [
    "If we type the arange function without assigning it to a variable, the result will be printed out instead of stored in a variable. Let's use this to explore how this function works."
   ]
  },
  {
   "cell_type": "code",
   "execution_count": 23,
   "metadata": {},
   "outputs": [
    {
     "data": {
      "text/plain": [
       "array([0, 1, 2, 3, 4])"
      ]
     },
     "execution_count": 23,
     "metadata": {},
     "output_type": "execute_result"
    }
   ],
   "source": [
    "np.arange(5)"
   ]
  },
  {
   "cell_type": "markdown",
   "metadata": {},
   "source": [
    "The result is that the array starts at zero and stops before 5, similar to how indexing works. We can get the same result by specifying a starting number"
   ]
  },
  {
   "cell_type": "code",
   "execution_count": 24,
   "metadata": {},
   "outputs": [
    {
     "data": {
      "text/plain": [
       "array([0, 1, 2, 3, 4])"
      ]
     },
     "execution_count": 24,
     "metadata": {},
     "output_type": "execute_result"
    }
   ],
   "source": [
    "np.arange(0,5) # here 0 is the \"start\", this gives you the same result"
   ]
  },
  {
   "cell_type": "markdown",
   "metadata": {},
   "source": [
    "What about if we add three arguments to the function? Let's try"
   ]
  },
  {
   "cell_type": "code",
   "execution_count": 26,
   "metadata": {},
   "outputs": [
    {
     "data": {
      "text/plain": [
       "array([1, 2, 3, 4])"
      ]
     },
     "execution_count": 26,
     "metadata": {},
     "output_type": "execute_result"
    }
   ],
   "source": [
    "np.arange(1,5)"
   ]
  },
  {
   "cell_type": "code",
   "execution_count": 27,
   "metadata": {},
   "outputs": [
    {
     "data": {
      "text/plain": [
       "array([ 1,  3,  5,  7,  9, 11, 13, 15, 17, 19, 21, 23, 25, 27, 29, 31, 33,\n",
       "       35, 37, 39, 41, 43, 45, 47, 49, 51, 53, 55, 57, 59, 61, 63, 65, 67,\n",
       "       69, 71, 73, 75, 77, 79, 81, 83, 85, 87, 89, 91, 93, 95, 97, 99])"
      ]
     },
     "execution_count": 27,
     "metadata": {},
     "output_type": "execute_result"
    }
   ],
   "source": [
    "np.arange(1,100,2) # here the 2 is the \"stride\""
   ]
  },
  {
   "cell_type": "code",
   "execution_count": 57,
   "metadata": {},
   "outputs": [
    {
     "data": {
      "text/plain": [
       "array([ 0,  2,  4,  6,  8, 10, 12, 14, 16, 18, 20, 22])"
      ]
     },
     "execution_count": 57,
     "metadata": {},
     "output_type": "execute_result"
    }
   ],
   "source": [
    "np.arange(0,22 + 2,2)"
   ]
  },
  {
   "cell_type": "markdown",
   "metadata": {},
   "source": [
    "Let's define an x basis array that goes from -2$\\pi$ to 2$\\pi$ in steps of $\\pi$/8. First we will check it out, then do the assignment. We will use np.pi for $\\pi$. I'm going to define the start, stop and step values as variables to make the function syntax clearer."
   ]
  },
  {
   "cell_type": "code",
   "execution_count": 30,
   "metadata": {},
   "outputs": [
    {
     "data": {
      "text/plain": [
       "3.141592653589793"
      ]
     },
     "execution_count": 30,
     "metadata": {},
     "output_type": "execute_result"
    }
   ],
   "source": [
    "np.pi"
   ]
  },
  {
   "cell_type": "code",
   "execution_count": 59,
   "metadata": {},
   "outputs": [
    {
     "data": {
      "text/plain": [
       "array([-6.28318531e+00, -5.89048623e+00, -5.49778714e+00, -5.10508806e+00,\n",
       "       -4.71238898e+00, -4.31968990e+00, -3.92699082e+00, -3.53429174e+00,\n",
       "       -3.14159265e+00, -2.74889357e+00, -2.35619449e+00, -1.96349541e+00,\n",
       "       -1.57079633e+00, -1.17809725e+00, -7.85398163e-01, -3.92699082e-01,\n",
       "        7.10542736e-15,  3.92699082e-01,  7.85398163e-01,  1.17809725e+00,\n",
       "        1.57079633e+00,  1.96349541e+00,  2.35619449e+00,  2.74889357e+00,\n",
       "        3.14159265e+00,  3.53429174e+00,  3.92699082e+00,  4.31968990e+00,\n",
       "        4.71238898e+00,  5.10508806e+00,  5.49778714e+00,  5.89048623e+00,\n",
       "        6.28318531e+00])"
      ]
     },
     "execution_count": 59,
     "metadata": {},
     "output_type": "execute_result"
    }
   ],
   "source": [
    "# start , stop + step, stride/step\n",
    "np.arange(-2*np.pi, 2*np.pi + np.pi/8, np.pi/8)"
   ]
  },
  {
   "cell_type": "code",
   "execution_count": 32,
   "metadata": {},
   "outputs": [
    {
     "data": {
      "text/plain": [
       "array([-6.28318531e+00, -5.89048623e+00, -5.49778714e+00, -5.10508806e+00,\n",
       "       -4.71238898e+00, -4.31968990e+00, -3.92699082e+00, -3.53429174e+00,\n",
       "       -3.14159265e+00, -2.74889357e+00, -2.35619449e+00, -1.96349541e+00,\n",
       "       -1.57079633e+00, -1.17809725e+00, -7.85398163e-01, -3.92699082e-01,\n",
       "        7.10542736e-15,  3.92699082e-01,  7.85398163e-01,  1.17809725e+00,\n",
       "        1.57079633e+00,  1.96349541e+00,  2.35619449e+00,  2.74889357e+00,\n",
       "        3.14159265e+00,  3.53429174e+00,  3.92699082e+00,  4.31968990e+00,\n",
       "        4.71238898e+00,  5.10508806e+00,  5.49778714e+00,  5.89048623e+00,\n",
       "        6.28318531e+00])"
      ]
     },
     "execution_count": 32,
     "metadata": {},
     "output_type": "execute_result"
    }
   ],
   "source": [
    "start = -2*np.pi\n",
    "stop = 2*np.pi\n",
    "step = np.pi/8\n",
    "\n",
    "np.arange(start, stop, step) # this is wrong, why?"
   ]
  },
  {
   "cell_type": "markdown",
   "metadata": {},
   "source": [
    "The numpy array doesn't go to 2$\\pi$, but stops before this. This is because it doesn't go all the way to the stop value, but ends at stop - step. How can we fix this?"
   ]
  },
  {
   "cell_type": "code",
   "execution_count": null,
   "metadata": {},
   "outputs": [],
   "source": [
    "# note my start, stop and step are defined above, so I can reuse them here.\n",
    "\n",
    "np.arange(start, stop+step, step) # now it works"
   ]
  },
  {
   "cell_type": "markdown",
   "metadata": {},
   "source": [
    "NOW the array ends at 2$\\pi$. Let's save this to an array we can use later."
   ]
  },
  {
   "cell_type": "code",
   "execution_count": 35,
   "metadata": {},
   "outputs": [
    {
     "data": {
      "text/plain": [
       "array([-6.28318531e+00, -5.89048623e+00, -5.49778714e+00, -5.10508806e+00,\n",
       "       -4.71238898e+00, -4.31968990e+00, -3.92699082e+00, -3.53429174e+00,\n",
       "       -3.14159265e+00, -2.74889357e+00, -2.35619449e+00, -1.96349541e+00,\n",
       "       -1.57079633e+00, -1.17809725e+00, -7.85398163e-01, -3.92699082e-01,\n",
       "        7.10542736e-15,  3.92699082e-01,  7.85398163e-01,  1.17809725e+00,\n",
       "        1.57079633e+00,  1.96349541e+00,  2.35619449e+00,  2.74889357e+00,\n",
       "        3.14159265e+00,  3.53429174e+00,  3.92699082e+00,  4.31968990e+00,\n",
       "        4.71238898e+00,  5.10508806e+00,  5.49778714e+00,  5.89048623e+00,\n",
       "        6.28318531e+00])"
      ]
     },
     "execution_count": 35,
     "metadata": {},
     "output_type": "execute_result"
    }
   ],
   "source": [
    "x = np.arange(start, stop+step, step)\n",
    "# check:\n",
    "x"
   ]
  },
  {
   "cell_type": "markdown",
   "metadata": {},
   "source": [
    "Next we need to define the y-values for our plot, using the np.sin function. We will use the x array we just created."
   ]
  },
  {
   "cell_type": "code",
   "execution_count": null,
   "metadata": {},
   "outputs": [],
   "source": [
    "# note the input has to be in radians, not degrees\n",
    "np.sin?"
   ]
  },
  {
   "cell_type": "code",
   "execution_count": 36,
   "metadata": {},
   "outputs": [
    {
     "data": {
      "text/plain": [
       "array([ 2.44929360e-16,  3.82683432e-01,  7.07106781e-01,  9.23879533e-01,\n",
       "        1.00000000e+00,  9.23879533e-01,  7.07106781e-01,  3.82683432e-01,\n",
       "       -3.67517836e-15, -3.82683432e-01, -7.07106781e-01, -9.23879533e-01,\n",
       "       -1.00000000e+00, -9.23879533e-01, -7.07106781e-01, -3.82683432e-01,\n",
       "        7.10542736e-15,  3.82683432e-01,  7.07106781e-01,  9.23879533e-01,\n",
       "        1.00000000e+00,  9.23879533e-01,  7.07106781e-01,  3.82683432e-01,\n",
       "       -1.05356764e-14, -3.82683432e-01, -7.07106781e-01, -9.23879533e-01,\n",
       "       -1.00000000e+00, -9.23879533e-01, -7.07106781e-01, -3.82683432e-01,\n",
       "        1.39659254e-14])"
      ]
     },
     "execution_count": 36,
     "metadata": {},
     "output_type": "execute_result"
    }
   ],
   "source": [
    "y = np.sin(x)\n",
    "y #check"
   ]
  },
  {
   "cell_type": "markdown",
   "metadata": {},
   "source": [
    "The most basic plotting command:"
   ]
  },
  {
   "cell_type": "code",
   "execution_count": 55,
   "metadata": {},
   "outputs": [
    {
     "data": {
      "text/plain": [
       "[<matplotlib.lines.Line2D at 0x18a48d9f9b0>]"
      ]
     },
     "execution_count": 55,
     "metadata": {},
     "output_type": "execute_result"
    },
    {
     "data": {
      "image/png": "[encoded data removed]",
      "text/plain": [
       "<Figure size 640x480 with 1 Axes>"
      ]
     },
     "metadata": {},
     "output_type": "display_data"
    }
   ],
   "source": [
    "plt.plot(x,y, '.-')\n",
    "\n",
    "# note this uses the shortcut we created when we used the import statement: \n",
    "# import matplotlib.pyplot as plt \n",
    "# otherwise you would have to type matplotlib.pyplot.plot(x,y)"
   ]
  },
  {
   "cell_type": "markdown",
   "metadata": {},
   "source": [
    "You can see above that the plot is kind of choppy. To fix this we need to have more x points and fill in the plot more"
   ]
  },
  {
   "cell_type": "code",
   "execution_count": 41,
   "metadata": {},
   "outputs": [],
   "source": [
    "start = -2*np.pi\n",
    "stop = 2*np.pi\n",
    "#step = np.pi/8\n",
    "step = np.pi/16 #smaller step\n",
    "\n",
    "x_2 = np.arange(start,stop+step,step)"
   ]
  },
  {
   "cell_type": "code",
   "execution_count": 42,
   "metadata": {},
   "outputs": [
    {
     "data": {
      "text/plain": [
       "(33,)"
      ]
     },
     "execution_count": 42,
     "metadata": {},
     "output_type": "execute_result"
    }
   ],
   "source": [
    "x.shape"
   ]
  },
  {
   "cell_type": "code",
   "execution_count": 43,
   "metadata": {},
   "outputs": [
    {
     "data": {
      "text/plain": [
       "(65,)"
      ]
     },
     "execution_count": 43,
     "metadata": {},
     "output_type": "execute_result"
    }
   ],
   "source": [
    "x_2.shape"
   ]
  },
  {
   "cell_type": "code",
   "execution_count": 44,
   "metadata": {},
   "outputs": [
    {
     "data": {
      "text/plain": [
       "6.2831853071796"
      ]
     },
     "execution_count": 44,
     "metadata": {},
     "output_type": "execute_result"
    }
   ],
   "source": [
    "x_2[-1] # checking it's 2 pi"
   ]
  },
  {
   "cell_type": "code",
   "execution_count": 45,
   "metadata": {},
   "outputs": [
    {
     "data": {
      "text/plain": [
       "[<matplotlib.lines.Line2D at 0x18a430f18e0>]"
      ]
     },
     "execution_count": 45,
     "metadata": {},
     "output_type": "execute_result"
    },
    {
     "data": {
      "image/png": "[encoded data removed]",
      "text/plain": [
       "<Figure size 640x480 with 1 Axes>"
      ]
     },
     "metadata": {},
     "output_type": "display_data"
    }
   ],
   "source": [
    "# note we can just put the np.sin function call right inside the plotting statement\n",
    "\n",
    "plt.plot(x_2, np.sin(x_2), '.-')\n"
   ]
  },
  {
   "cell_type": "markdown",
   "metadata": {},
   "source": [
    "Looks much better with more x values"
   ]
  },
  {
   "cell_type": "code",
   "execution_count": 46,
   "metadata": {},
   "outputs": [
    {
     "data": {
      "text/plain": [
       "Text(0.5, 1.0, 'y = sin(x) is the function I plotted')"
      ]
     },
     "execution_count": 46,
     "metadata": {},
     "output_type": "execute_result"
    },
    {
     "data": {
      "image/png": "[encoded data removed]",
      "text/plain": [
       "<Figure size 640x480 with 1 Axes>"
      ]
     },
     "metadata": {},
     "output_type": "display_data"
    }
   ],
   "source": [
    "# add some labels and a title in\n",
    "\n",
    "plt.plot(x_2, np.sin(x_2))\n",
    "plt.xlabel('my x values')\n",
    "plt.ylabel('my y values')\n",
    "plt.title('y = sin(x) is the function I plotted')"
   ]
  },
  {
   "cell_type": "markdown",
   "metadata": {},
   "source": [
    "We can save the plot by using python functions, or just shift+right click and copy or saveas..."
   ]
  },
  {
   "cell_type": "code",
   "execution_count": 47,
   "metadata": {},
   "outputs": [
    {
     "data": {
      "text/plain": [
       "\u001b[1;31mSignature:\u001b[0m \u001b[0mplt\u001b[0m\u001b[1;33m.\u001b[0m\u001b[0msavefig\u001b[0m\u001b[1;33m(\u001b[0m\u001b[1;33m*\u001b[0m\u001b[0margs\u001b[0m\u001b[1;33m,\u001b[0m \u001b[1;33m**\u001b[0m\u001b[0mkwargs\u001b[0m\u001b[1;33m)\u001b[0m \u001b[1;33m->\u001b[0m \u001b[1;34m'None'\u001b[0m\u001b[1;33m\u001b[0m\u001b[1;33m\u001b[0m\u001b[0m\n",
       "\u001b[1;31mDocstring:\u001b[0m\n",
       "Save the current figure.\n",
       "\n",
       "Call signature::\n",
       "\n",
       "  savefig(fname, *, transparent=None, dpi='figure', format=None,\n",
       "          metadata=None, bbox_inches=None, pad_inches=0.1,\n",
       "          facecolor='auto', edgecolor='auto', backend=None,\n",
       "          **kwargs\n",
       "         )\n",
       "\n",
       "The available output formats depend on the backend being used.\n",
       "\n",
       "Parameters\n",
       "----------\n",
       "fname : str or path-like or binary file-like\n",
       "    A path, or a Python file-like object, or\n",
       "    possibly some backend-dependent object such as\n",
       "    `matplotlib.backends.backend_pdf.PdfPages`.\n",
       "\n",
       "    If *format* is set, it determines the output format, and the file\n",
       "    is saved as *fname*.  Note that *fname* is used verbatim, and there\n",
       "    is no attempt to make the extension, if any, of *fname* match\n",
       "    *format*, and no extension is appended.\n",
       "\n",
       "    If *format* is not set, then the format is inferred from the\n",
       "    extension of *fname*, if there is one.  If *format* is not\n",
       "    set and *fname* has no extension, then the file is saved with\n",
       "    :rc:`savefig.format` and the appropriate extension is appended to\n",
       "    *fname*.\n",
       "\n",
       "Other Parameters\n",
       "----------------\n",
       "transparent : bool, default: :rc:`savefig.transparent`\n",
       "    If *True*, the Axes patches will all be transparent; the\n",
       "    Figure patch will also be transparent unless *facecolor*\n",
       "    and/or *edgecolor* are specified via kwargs.\n",
       "\n",
       "    If *False* has no effect and the color of the Axes and\n",
       "    Figure patches are unchanged (unless the Figure patch\n",
       "    is specified via the *facecolor* and/or *edgecolor* keyword\n",
       "    arguments in which case those colors are used).\n",
       "\n",
       "    The transparency of these patches will be restored to their\n",
       "    original values upon exit of this function.\n",
       "\n",
       "    This is useful, for example, for displaying\n",
       "    a plot on top of a colored background on a web page.\n",
       "\n",
       "dpi : float or 'figure', default: :rc:`savefig.dpi`\n",
       "    The resolution in dots per inch.  If 'figure', use the figure's\n",
       "    dpi value.\n",
       "\n",
       "format : str\n",
       "    The file format, e.g. 'png', 'pdf', 'svg', ... The behavior when\n",
       "    this is unset is documented under *fname*.\n",
       "\n",
       "metadata : dict, optional\n",
       "    Key/value pairs to store in the image metadata. The supported keys\n",
       "    and defaults depend on the image format and backend:\n",
       "\n",
       "    - 'png' with Agg backend: See the parameter ``metadata`` of\n",
       "      `~.FigureCanvasAgg.print_png`.\n",
       "    - 'pdf' with pdf backend: See the parameter ``metadata`` of\n",
       "      `~.backend_pdf.PdfPages`.\n",
       "    - 'svg' with svg backend: See the parameter ``metadata`` of\n",
       "      `~.FigureCanvasSVG.print_svg`.\n",
       "    - 'eps' and 'ps' with PS backend: Only 'Creator' is supported.\n",
       "\n",
       "    Not supported for 'pgf', 'raw', and 'rgba' as those formats do not support\n",
       "    embedding metadata.\n",
       "    Does not currently support 'jpg', 'tiff', or 'webp', but may include\n",
       "    embedding EXIF metadata in the future.\n",
       "\n",
       "bbox_inches : str or `.Bbox`, default: :rc:`savefig.bbox`\n",
       "    Bounding box in inches: only the given portion of the figure is\n",
       "    saved.  If 'tight', try to figure out the tight bbox of the figure.\n",
       "\n",
       "pad_inches : float or 'layout', default: :rc:`savefig.pad_inches`\n",
       "    Amount of padding in inches around the figure when bbox_inches is\n",
       "    'tight'. If 'layout' use the padding from the constrained or\n",
       "    compressed layout engine; ignored if one of those engines is not in\n",
       "    use.\n",
       "\n",
       "facecolor : color or 'auto', default: :rc:`savefig.facecolor`\n",
       "    The facecolor of the figure.  If 'auto', use the current figure\n",
       "    facecolor.\n",
       "\n",
       "edgecolor : color or 'auto', default: :rc:`savefig.edgecolor`\n",
       "    The edgecolor of the figure.  If 'auto', use the current figure\n",
       "    edgecolor.\n",
       "\n",
       "backend : str, optional\n",
       "    Use a non-default backend to render the file, e.g. to render a\n",
       "    png file with the \"cairo\" backend rather than the default \"agg\",\n",
       "    or a pdf file with the \"pgf\" backend rather than the default\n",
       "    \"pdf\".  Note that the default backend is normally sufficient.  See\n",
       "    :ref:`the-builtin-backends` for a list of valid backends for each\n",
       "    file format.  Custom backends can be referenced as \"module://...\".\n",
       "\n",
       "orientation : {'landscape', 'portrait'}\n",
       "    Currently only supported by the postscript backend.\n",
       "\n",
       "papertype : str\n",
       "    One of 'letter', 'legal', 'executive', 'ledger', 'a0' through\n",
       "    'a10', 'b0' through 'b10'. Only supported for postscript\n",
       "    output.\n",
       "\n",
       "bbox_extra_artists : list of `~matplotlib.artist.Artist`, optional\n",
       "    A list of extra artists that will be considered when the\n",
       "    tight bbox is calculated.\n",
       "\n",
       "pil_kwargs : dict, optional\n",
       "    Additional keyword arguments that are passed to\n",
       "    `PIL.Image.Image.save` when saving the figure.\n",
       "\u001b[1;31mFile:\u001b[0m      c:\\anaconda\\anacondapp\\envs\\ocs4001\\lib\\site-packages\\matplotlib\\pyplot.py\n",
       "\u001b[1;31mType:\u001b[0m      function"
      ]
     },
     "metadata": {},
     "output_type": "display_data"
    }
   ],
   "source": [
    "plt.savefig?"
   ]
  },
  {
   "cell_type": "code",
   "execution_count": 48,
   "metadata": {},
   "outputs": [
    {
     "data": {
      "image/png": "[encoded data removed]",
      "text/plain": [
       "<Figure size 640x480 with 1 Axes>"
      ]
     },
     "metadata": {},
     "output_type": "display_data"
    }
   ],
   "source": [
    "# add some labels and a title in\n",
    "\n",
    "plt.plot(x_2, np.sin(x_2))\n",
    "plt.xlabel('x')\n",
    "plt.ylabel('y')\n",
    "plt.title('y = sin(x)')\n",
    "\n",
    "plt.savefig('sin.png')\n",
    "plt.savefig('sin_HR.png', dpi = 900) # higher resolution, dpi = \"dots per square inch\""
   ]
  },
  {
   "cell_type": "code",
   "execution_count": null,
   "metadata": {},
   "outputs": [],
   "source": []
  },
  {
   "cell_type": "markdown",
   "metadata": {},
   "source": [
    "# Lab 2.2"
   ]
  },
  {
   "cell_type": "markdown",
   "metadata": {},
   "source": [
    "**E.0** Finish Lab 2.1 if you haven't already"
   ]
  },
  {
   "cell_type": "markdown",
   "metadata": {},
   "source": [
    "**E.1** Complete Complete Ch 4 of Introduction to Python in datacamp: Numpy"
   ]
  },
  {
   "cell_type": "markdown",
   "metadata": {},
   "source": [
    "**E.2** What are the differences between lists and arrays? Demonstrate and answer with a sentance or two."
   ]
  },
  {
   "cell_type": "code",
   "execution_count": null,
   "metadata": {},
   "outputs": [],
   "source": [
    "# Lists in Python can store different data types\n",
    "# Arrays are optimized for numerical data and store elements of a single data type, making them faster for mathematical computations"
   ]
  },
  {
   "cell_type": "markdown",
   "metadata": {},
   "source": [
    "**E.3** Using the numpy function arange, make an array of even intergers that goes from 0 to 20, and includes 20."
   ]
  },
  {
   "cell_type": "code",
   "execution_count": 63,
   "metadata": {},
   "outputs": [
    {
     "data": {
      "text/plain": [
       "array([ 0,  2,  4,  6,  8, 10, 12, 14, 16, 18, 20])"
      ]
     },
     "execution_count": 63,
     "metadata": {},
     "output_type": "execute_result"
    }
   ],
   "source": [
    "#0 as start, 21 as end but encluded, 2 as step\n",
    "np.arange(0,22,2)"
   ]
  },
  {
   "cell_type": "markdown",
   "metadata": {},
   "source": [
    "**E.4** Using the above and logical (boolean) indexing, make an array that has even integers from 10 to 20, including 10 and 20."
   ]
  },
  {
   "cell_type": "code",
   "execution_count": 66,
   "metadata": {},
   "outputs": [
    {
     "name": "stdout",
     "output_type": "stream",
     "text": [
      "[10 12 14 16 18 20]\n"
     ]
    }
   ],
   "source": [
    "#build an array from 10 to 20\n",
    "arr = np.arange (10,21)\n",
    "\n",
    "#using boolean indexing to filter \n",
    "arr_even = arr [arr %2 ==0]\n",
    "\n",
    "#print out\n",
    "print(arr_even)"
   ]
  },
  {
   "cell_type": "markdown",
   "metadata": {},
   "source": [
    "**E.5** What is the shape of the array you just created?"
   ]
  },
  {
   "cell_type": "code",
   "execution_count": 68,
   "metadata": {},
   "outputs": [
    {
     "data": {
      "text/plain": [
       "(6,)"
      ]
     },
     "execution_count": 68,
     "metadata": {},
     "output_type": "execute_result"
    }
   ],
   "source": [
    "arr_even.shape"
   ]
  },
  {
   "cell_type": "markdown",
   "metadata": {},
   "source": [
    "**E.6** Plot the function $y=(x+4)(x-3)(x+1)^2$ over the interval [-5, 5]. Make sure you include the endpoints of this interval and use enough points so that your plot looks smooth. Label your axes and add a title that includes the function you just plotted. Save this plot to both a .png and .pdf file using python commands, and copy and paste the plot directly from this notebook into a word document. "
   ]
  },
  {
   "cell_type": "code",
   "execution_count": 81,
   "metadata": {},
   "outputs": [
    {
     "data": {
      "image/png": "[encoded data removed]",
      "text/plain": [
       "<Figure size 640x480 with 1 Axes>"
      ]
     },
     "metadata": {},
     "output_type": "display_data"
    }
   ],
   "source": [
    "#define function\n",
    "def f(x):\n",
    "   return (x+4)*(x-3)*(x+1)**2\n",
    "\n",
    "#create an array of x values over the interval [-5,5]\n",
    "x= np.arange (-5.00,5.05,0.05)\n",
    "\n",
    "#create an array of y values\n",
    "y= f(x)\n",
    "\n",
    "plt.plot(x, y)\n",
    "plt.xlabel('my x values')\n",
    "plt.ylabel('my y values')\n",
    "plt.title('y = (x+4)(x-3)(x+1)**2')\n",
    "\n",
    "#Save this plot to both a .png and .pdf file using python commands\n",
    "plt.savefig('eq1.png')\n",
    "plt.savefig('eq1.pdf')"
   ]
  },
  {
   "cell_type": "markdown",
   "metadata": {},
   "source": [
    "**E.7** Find the approximate minimum value of the function in **E.6**. How does your definition of the x-value basis array affect this minimum? Demonstrate and explain."
   ]
  },
  {
   "cell_type": "code",
   "execution_count": 82,
   "metadata": {},
   "outputs": [
    {
     "data": {
      "text/plain": [
       "-54.644118750000004"
      ]
     },
     "execution_count": 82,
     "metadata": {},
     "output_type": "execute_result"
    }
   ],
   "source": [
    "# The resoultion of x-value basis array affects the precision of our minimum value estimate. \n",
    "# A finer resolution will lead to a more accurate approximation.\n",
    "np.min(y)"
   ]
  },
  {
   "cell_type": "markdown",
   "metadata": {},
   "source": [
    "**E.8** Using logical (boolean) indexing, plot the function again but only the negative values."
   ]
  },
  {
   "cell_type": "code",
   "execution_count": 86,
   "metadata": {},
   "outputs": [
    {
     "data": {
      "text/plain": [
       "Text(0, 0.5, 'my y values')"
      ]
     },
     "execution_count": 86,
     "metadata": {},
     "output_type": "execute_result"
    },
    {
     "data": {
      "image/png": "[encoded data removed]",
      "text/plain": [
       "<Figure size 640x480 with 1 Axes>"
      ]
     },
     "metadata": {},
     "output_type": "display_data"
    }
   ],
   "source": [
    "#define x_ne as x value when y<0\n",
    "x_ne = x [y < 0]\n",
    "#define y_ne as y value when y<0\n",
    "y_ne = y [y < 0]\n",
    "\n",
    "plt.plot(x_ne, y_ne)\n",
    "plt.xlabel('my x values')\n",
    "plt.ylabel('my y values')"
   ]
  },
  {
   "cell_type": "markdown",
   "metadata": {},
   "source": [
    "**E.9** Given the numpy array below, find two ways to add 10 to the first column and 20 to the second column. Hint: you can do this in one line."
   ]
  },
  {
   "cell_type": "code",
   "execution_count": 122,
   "metadata": {},
   "outputs": [],
   "source": [
    "np_mat = np.array([[1, 2],\n",
    "                   [3, 4],\n",
    "                   [5, 6]])"
   ]
  },
  {
   "cell_type": "code",
   "execution_count": 96,
   "metadata": {},
   "outputs": [
    {
     "name": "stdout",
     "output_type": "stream",
     "text": [
      "[[11 22]\n",
      " [13 24]\n",
      " [15 26]]\n"
     ]
    }
   ],
   "source": [
    "# create an array and add it to the matrix\n",
    "np_mat1 =np_mat + np.array([10,20])\n",
    "print(np_mat1)"
   ]
  },
  {
   "cell_type": "code",
   "execution_count": 95,
   "metadata": {},
   "outputs": [
    {
     "name": "stdout",
     "output_type": "stream",
     "text": [
      "[[11 22]\n",
      " [13 24]\n",
      " [15 26]]\n"
     ]
    }
   ],
   "source": [
    "# directly add to the specific columns\n",
    "np_mat2 =np_mat + [10,20]\n",
    "print(np_mat2)"
   ]
  },
  {
   "cell_type": "markdown",
   "metadata": {},
   "source": [
    "**E.10** Add 10 to the second row of the above array"
   ]
  },
  {
   "cell_type": "code",
   "execution_count": 123,
   "metadata": {},
   "outputs": [
    {
     "name": "stdout",
     "output_type": "stream",
     "text": [
      "[[ 1  2]\n",
      " [13 14]\n",
      " [ 5  6]]\n"
     ]
    }
   ],
   "source": [
    "# np_mat[1,:] to find the second row, +=10 to add 10 to the second row\n",
    "\n",
    "#question： what should i do if i want a new array\n",
    "\n",
    "np_mat[1,:] += 10\n",
    "print(np_mat)"
   ]
  },
  {
   "cell_type": "markdown",
   "metadata": {},
   "source": [
    "**E.11** Define an array that has eight columns and ten rows and is full of ones"
   ]
  },
  {
   "cell_type": "code",
   "execution_count": 117,
   "metadata": {},
   "outputs": [
    {
     "name": "stdout",
     "output_type": "stream",
     "text": [
      "[[1 1 1 1 1 1 1 1]\n",
      " [1 1 1 1 1 1 1 1]\n",
      " [1 1 1 1 1 1 1 1]\n",
      " [1 1 1 1 1 1 1 1]\n",
      " [1 1 1 1 1 1 1 1]\n",
      " [1 1 1 1 1 1 1 1]\n",
      " [1 1 1 1 1 1 1 1]\n",
      " [1 1 1 1 1 1 1 1]\n",
      " [1 1 1 1 1 1 1 1]\n",
      " [1 1 1 1 1 1 1 1]]\n"
     ]
    }
   ],
   "source": [
    "#using np.full to create an array\n",
    "#(10,8) to show we want 10 rows and 8 columns\n",
    "#1 to show we want to use 1 to full this array\n",
    "np_ones = np.full((10,8),1)\n",
    "print(np_ones)"
   ]
  },
  {
   "cell_type": "markdown",
   "metadata": {},
   "source": [
    "**E.12** Turn all of the ones in the interior of your array to fives, that is everything but the first and last rows and first and last columns."
   ]
  },
  {
   "cell_type": "code",
   "execution_count": 119,
   "metadata": {},
   "outputs": [
    {
     "name": "stdout",
     "output_type": "stream",
     "text": [
      "[[1 1 1 1 1 1 1 1]\n",
      " [1 5 5 5 5 5 5 1]\n",
      " [1 5 5 5 5 5 5 1]\n",
      " [1 5 5 5 5 5 5 1]\n",
      " [1 5 5 5 5 5 5 1]\n",
      " [1 5 5 5 5 5 5 1]\n",
      " [1 5 5 5 5 5 5 1]\n",
      " [1 5 5 5 5 5 5 1]\n",
      " [1 5 5 5 5 5 5 1]\n",
      " [1 1 1 1 1 1 1 1]]\n"
     ]
    }
   ],
   "source": [
    "#np_ones[1:-1, 1:-1] to find right position\n",
    "# = 5 to change 1 to 5\n",
    "np_ones [1:-1, 1:-1] = 5\n",
    "print (np_ones)"
   ]
  },
  {
   "cell_type": "markdown",
   "metadata": {},
   "source": [
    "**E.13** Using logical indexing, turn all of the fives to eights"
   ]
  },
  {
   "cell_type": "code",
   "execution_count": 124,
   "metadata": {},
   "outputs": [
    {
     "name": "stdout",
     "output_type": "stream",
     "text": [
      "[[1 1 1 1 1 1 1 1]\n",
      " [1 8 8 8 8 8 8 1]\n",
      " [1 8 8 8 8 8 8 1]\n",
      " [1 8 8 8 8 8 8 1]\n",
      " [1 8 8 8 8 8 8 1]\n",
      " [1 8 8 8 8 8 8 1]\n",
      " [1 8 8 8 8 8 8 1]\n",
      " [1 8 8 8 8 8 8 1]\n",
      " [1 8 8 8 8 8 8 1]\n",
      " [1 1 1 1 1 1 1 1]]\n"
     ]
    }
   ],
   "source": [
    "#make all 5 change to 8\n",
    "np_ones[np_ones == 5] = 8\n",
    "print(np_ones)"
   ]
  },
  {
   "cell_type": "markdown",
   "metadata": {},
   "source": [
    "**E.14** Plot the resulting 2D array using the plt.pcolormesh function and add a colorbar (google it!)."
   ]
  },
  {
   "cell_type": "code",
   "execution_count": 138,
   "metadata": {},
   "outputs": [
    {
     "data": {
      "image/png": "[encoded data removed]",
      "text/plain": [
       "<Figure size 640x480 with 2 Axes>"
      ]
     },
     "metadata": {},
     "output_type": "display_data"
    }
   ],
   "source": [
    "# plot using the plt.pcolormesh function\n",
    "# using cmap= to change color\n",
    "# The edgecolors is used to specify the color of the gridlines or the borders between the individual cells in the plot.\n",
    "# k is short for black, none is without borders\n",
    "plt.pcolormesh(np_ones, cmap='plasma', edgecolors='k', linewidth=1)\n",
    "\n",
    "#plt.colorbar to add colorbar to th eplot\n",
    "plt.colorbar()\n",
    "\n",
    "#plt.show() to show the plot\n",
    "plt.show()"
   ]
  },
  {
   "cell_type": "code",
   "execution_count": null,
   "metadata": {},
   "outputs": [],
   "source": []
  }
 ],
 "metadata": {
  "kernelspec": {
   "display_name": "Python 3 (ipykernel)",
   "language": "python",
   "name": "python3"
  },
  "language_info": {
   "codemirror_mode": {
    "name": "ipython",
    "version": 3
   },
   "file_extension": ".py",
   "mimetype": "text/x-python",
   "name": "python",
   "nbconvert_exporter": "python",
   "pygments_lexer": "ipython3",
   "version": "3.12.4"
  }
 },
 "nbformat": 4,
 "nbformat_minor": 4
}
