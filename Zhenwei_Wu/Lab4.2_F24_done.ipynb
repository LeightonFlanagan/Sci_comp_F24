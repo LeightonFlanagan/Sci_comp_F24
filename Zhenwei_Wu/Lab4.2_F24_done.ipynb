{
 "cells": [
  {
   "cell_type": "markdown",
   "id": "short-malawi",
   "metadata": {},
   "source": [
    "Name Zhenwei Wu"
   ]
  },
  {
   "cell_type": "markdown",
   "id": "frozen-floating",
   "metadata": {},
   "source": [
    "Labpartner(s)"
   ]
  },
  {
   "cell_type": "code",
   "execution_count": 7,
   "id": "classified-reunion",
   "metadata": {},
   "outputs": [],
   "source": [
    "# import statements go here\n",
    "import numpy as np\n"
   ]
  },
  {
   "cell_type": "markdown",
   "id": "necessary-oklahoma",
   "metadata": {},
   "source": [
    "# Class 4.2"
   ]
  },
  {
   "cell_type": "markdown",
   "id": "solid-silicon",
   "metadata": {},
   "source": [
    "## Today you all are going to do the lecture! It's Present Your Plots Day."
   ]
  },
  {
   "cell_type": "markdown",
   "id": "professional-simpson",
   "metadata": {},
   "source": [
    "# Warmups 4.2"
   ]
  },
  {
   "cell_type": "markdown",
   "id": "imposed-baghdad",
   "metadata": {},
   "source": [
    "### Warmup is short today so we have time to focus on your plots."
   ]
  },
  {
   "cell_type": "markdown",
   "id": "commercial-abraham",
   "metadata": {},
   "source": [
    "**W.1** Do Exercise 3 in practice python https://www.practicepython.org"
   ]
  },
  {
   "cell_type": "code",
   "execution_count": 5,
   "id": "4aca4e82-2de2-4793-99d0-633288ee8991",
   "metadata": {
    "tags": []
   },
   "outputs": [
    {
     "name": "stdout",
     "output_type": "stream",
     "text": [
      "[1, 1, 2, 3]\n"
     ]
    }
   ],
   "source": [
    "# using for...in... function to find elements we need\n",
    "a = [1, 1, 2, 3, 5, 8, 13, 21, 34, 55, 89]\n",
    "b = [x for x in a if x < 5]\n",
    "print(b)"
   ]
  },
  {
   "cell_type": "markdown",
   "id": "automated-immune",
   "metadata": {},
   "source": [
    "## Agenda:\n",
    "\n",
    "- Questions about class or coding\n",
    "- Show us your plots! Explain your data set, what you did with it, and what your learned, including any difficulties you had and how you solved them."
   ]
  },
  {
   "cell_type": "code",
   "execution_count": null,
   "id": "perfect-suite",
   "metadata": {},
   "outputs": [],
   "source": []
  },
  {
   "cell_type": "markdown",
   "id": "conventional-external",
   "metadata": {},
   "source": [
    "# Lab 4.2"
   ]
  },
  {
   "cell_type": "markdown",
   "id": "married-prior",
   "metadata": {},
   "source": [
    "**E.1** Complete intermediate python chapter 4: Loops\n",
    "\n",
    "Note that loops often are very confusing for new programmers, but they are very powerful and super-useful. You will be seing them again.\n",
    "\n",
    "Note that the tutorials here have similar material for your needs:\n",
    "https://github.com/chsharrison/Sci_comp_F24/blob/main/Course_materials/resources.md"
   ]
  },
  {
   "cell_type": "code",
   "execution_count": 6,
   "id": "de1867a5-29da-457a-bc5b-035613edc3ad",
   "metadata": {
    "tags": []
   },
   "outputs": [],
   "source": [
    "# MARK TUTORIALS!!!"
   ]
  },
  {
   "cell_type": "markdown",
   "id": "color-difference",
   "metadata": {},
   "source": [
    "**E.2** Make notes for yourself on all of the progamming tecniques and commands you learned in the datacamp chapter above, including examples, comments and explainitory text. You might use the resources linked above for supplementary examples. You can do this here or in a separate notebook that you link to here. Basically, you are making a cheat sheet for yourself."
   ]
  },
  {
   "cell_type": "code",
   "execution_count": 7,
   "id": "infectious-battery",
   "metadata": {
    "tags": []
   },
   "outputs": [],
   "source": [
    "# As I mentioned in Lab4.1, I use Obsidian to keep all the notes. \n",
    "# I updated it when I learn new things."
   ]
  },
  {
   "cell_type": "markdown",
   "id": "colored-alfred",
   "metadata": {},
   "source": [
    "**E.3-6** Exercises 4-7 in practice python (see link above)"
   ]
  },
  {
   "cell_type": "code",
   "execution_count": 16,
   "id": "eligible-glasgow",
   "metadata": {
    "tags": []
   },
   "outputs": [
    {
     "name": "stdin",
     "output_type": "stream",
     "text": [
      "Give me your number: 12\n"
     ]
    },
    {
     "name": "stdout",
     "output_type": "stream",
     "text": [
      "[1, 2, 3, 4, 6, 12]\n"
     ]
    }
   ],
   "source": [
    "# Exercise 4\n",
    "\n",
    "# input a number, making an empty list for output\n",
    "x = int(input('Give me your number:'))\n",
    "y = []\n",
    "\n",
    "# if find element a in list good, put a in y[]\n",
    "for a in list(range(1,x+1)):\n",
    "    if x% a == 0 :\n",
    "     y.append(a)    \n",
    "print(y)"
   ]
  },
  {
   "cell_type": "code",
   "execution_count": 22,
   "id": "1a8df270-c08c-4127-bdd7-a498da46d078",
   "metadata": {
    "tags": []
   },
   "outputs": [
    {
     "name": "stdout",
     "output_type": "stream",
     "text": [
      "[1, 1, 2, 3, 5, 8, 13]\n"
     ]
    }
   ],
   "source": [
    "# Exercise 5\n",
    "\n",
    "a = [1, 1, 2, 3, 5, 8, 13, 21, 34, 55, 89]\n",
    "b = [1, 2, 3, 4, 5, 6, 7, 8, 9, 10, 11, 12, 13]\n",
    "\n",
    "# making an empty list for output\n",
    "c = []\n",
    "\n",
    "#if x in a also in b, put x into c.list\n",
    "for x in a:\n",
    "    if x in b:\n",
    "        c.append(x)\n",
    "    \n",
    "print(c)"
   ]
  },
  {
   "cell_type": "code",
   "execution_count": 27,
   "id": "2cc3d880-2c0b-40eb-a920-b007b138287e",
   "metadata": {
    "tags": []
   },
   "outputs": [
    {
     "name": "stdin",
     "output_type": "stream",
     "text": [
      "palindrome check:  mom\n"
     ]
    },
    {
     "name": "stdout",
     "output_type": "stream",
     "text": [
      "Yes, the word is palindrome\n"
     ]
    }
   ],
   "source": [
    "# Exercise 6\n",
    "a = list(input(\"palindrome check: \"))\n",
    "\n",
    "# using list can use reverse function\n",
    "if a == list(reversed(a)):\n",
    "    print(\"Yes, the word is palindrome\")\n",
    "else :\n",
    "    print(\"No, the word is not palindrome\")"
   ]
  },
  {
   "cell_type": "code",
   "execution_count": 30,
   "id": "5221fd7b-1063-4051-aed6-ce38769e0a67",
   "metadata": {
    "tags": []
   },
   "outputs": [
    {
     "name": "stdout",
     "output_type": "stream",
     "text": [
      "[4, 16, 36, 64, 100]\n"
     ]
    }
   ],
   "source": [
    "# Exercise 7\n",
    "a = [1, 4, 9, 16, 25, 36, 49, 64, 81, 100]\n",
    "\n",
    "print([i for i in a if i%2==0])"
   ]
  }
 ],
 "metadata": {
  "kernelspec": {
   "display_name": "Python 3 (ipykernel)",
   "language": "python",
   "name": "python3"
  },
  "language_info": {
   "codemirror_mode": {
    "name": "ipython",
    "version": 3
   },
   "file_extension": ".py",
   "mimetype": "text/x-python",
   "name": "python",
   "nbconvert_exporter": "python",
   "pygments_lexer": "ipython3",
   "version": "3.11.5"
  }
 },
 "nbformat": 4,
 "nbformat_minor": 5
}
