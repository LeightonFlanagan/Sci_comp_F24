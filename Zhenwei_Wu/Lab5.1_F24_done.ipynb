{
 "cells": [
  {
   "cell_type": "markdown",
   "id": "absolute-chess",
   "metadata": {},
   "source": [
    "Name Zhenwei Wu"
   ]
  },
  {
   "cell_type": "markdown",
   "id": "fitting-blind",
   "metadata": {},
   "source": [
    "Labpartner(s)"
   ]
  },
  {
   "cell_type": "code",
   "execution_count": null,
   "id": "3f244d19-a1f9-4982-a998-c2904210643b",
   "metadata": {},
   "outputs": [],
   "source": []
  },
  {
   "cell_type": "code",
   "execution_count": 2,
   "id": "e8c42667-cd06-4dce-9199-147b3fb9d1f8",
   "metadata": {
    "tags": []
   },
   "outputs": [],
   "source": [
    "# import statements go here\n",
    "import numpy as np\n",
    "import pandas as pd\n",
    "import matplotlib.pyplot as plt"
   ]
  },
  {
   "cell_type": "markdown",
   "id": "ranking-telephone",
   "metadata": {},
   "source": [
    "# Class 5.1"
   ]
  },
  {
   "cell_type": "markdown",
   "id": "opponent-producer",
   "metadata": {},
   "source": [
    "# Warmups 5.1"
   ]
  },
  {
   "cell_type": "markdown",
   "id": "prompt-shade",
   "metadata": {},
   "source": [
    "**W.1** Go through 1.4.1.2 Creating Arrays in the scipy lecture notes, including the exercises. http://scipy-lectures.org/intro/numpy/array_object.html#id2"
   ]
  },
  {
   "cell_type": "code",
   "execution_count": 18,
   "id": "french-briefing",
   "metadata": {
    "tags": []
   },
   "outputs": [
    {
     "name": "stdout",
     "output_type": "stream",
     "text": [
      "[0 1 4 5 6]\n",
      "(5,)\n",
      "1\n",
      "5\n"
     ]
    }
   ],
   "source": [
    "# for a 1D array\n",
    "a = np.array([0,1,4,5,6])\n",
    "print(a)\n",
    "\n",
    "# this 1D array has 5 rows\n",
    "print(a.shape)\n",
    "\n",
    "# this 1D array has 1 dimension\n",
    "print(a.ndim)\n",
    "\n",
    "# having 5 elements\n",
    "print(len(a))"
   ]
  },
  {
   "cell_type": "code",
   "execution_count": 22,
   "id": "19ee1f0a-63ac-4300-9458-0f87e83c5718",
   "metadata": {
    "tags": []
   },
   "outputs": [
    {
     "name": "stdout",
     "output_type": "stream",
     "text": [
      "[[0 1 2]\n",
      " [3 4 5]]\n",
      "(2, 3)\n",
      "2\n",
      "2\n"
     ]
    }
   ],
   "source": [
    "# for a 2D array\n",
    "b = np.array([[0, 1, 2], [3, 4, 5]])\n",
    "print(b)\n",
    "\n",
    "# this 2D array has 2 rows and 3 columns\n",
    "print(b.shape)\n",
    "\n",
    "# this 2D array has 2 dimensions\n",
    "print(b.ndim)\n",
    "\n",
    "# returns the size of the first dimension\n",
    "print(len(b))"
   ]
  },
  {
   "cell_type": "code",
   "execution_count": 26,
   "id": "790bbddf-a473-4dda-995b-1cbabca40a25",
   "metadata": {
    "tags": []
   },
   "outputs": [
    {
     "name": "stdout",
     "output_type": "stream",
     "text": [
      "(2, 2, 1)\n"
     ]
    }
   ],
   "source": [
    "c = np.array([[[1], [2]], [[3], [4]]])\n",
    "\n",
    "print(c.shape)\n",
    "\n",
    "# this 3D array has 2 depth, each block has 2 rows and each row has 1 element"
   ]
  },
  {
   "cell_type": "code",
   "execution_count": null,
   "id": "45ee4039-1d96-4490-8f81-afdbcb0dbfd9",
   "metadata": {},
   "outputs": [],
   "source": [
    "# function for creating array"
   ]
  },
  {
   "cell_type": "code",
   "execution_count": 33,
   "id": "f138ba21-af70-4e3f-a0c0-1bb7d0aa5efc",
   "metadata": {
    "tags": []
   },
   "outputs": [
    {
     "name": "stdout",
     "output_type": "stream",
     "text": [
      "[0 1 2 3 4 5 6 7 8 9]\n",
      "[0 2 4 6 8]\n"
     ]
    }
   ],
   "source": [
    "# evenly spaced:\n",
    "# start from 0 to 10, 10 is not included\n",
    "a = np.arange(0,10)\n",
    "print (a)\n",
    "\n",
    "# start from 0 to 10, 10 is not included, step is 2\n",
    "b = np.arange(0,10,2)\n",
    "print(b)"
   ]
  },
  {
   "cell_type": "code",
   "execution_count": 43,
   "id": "f19268f7-4be3-4414-b99b-36de7b3b84a8",
   "metadata": {
    "tags": []
   },
   "outputs": [
    {
     "name": "stdout",
     "output_type": "stream",
     "text": [
      "[0.  1.2 2.4 3.6 4.8 6. ]\n",
      "[0.  0.2 0.4 0.6 0.8]\n"
     ]
    }
   ],
   "source": [
    "# by number of points:\n",
    "# start:0, end: 4\n",
    "c = np.linspace(0, 6, 6)\n",
    "print(c)\n",
    "\n",
    "# start: 0, end: 1, not included the endpoint\n",
    "d = np.linspace(0, 1, 5, endpoint=False)\n",
    "print(d)"
   ]
  },
  {
   "cell_type": "code",
   "execution_count": 49,
   "id": "f1890e7e-597f-4751-af09-899164ecd193",
   "metadata": {
    "tags": []
   },
   "outputs": [
    {
     "name": "stdout",
     "output_type": "stream",
     "text": [
      "[[1. 1. 1.]\n",
      " [1. 1. 1.]\n",
      " [1. 1. 1.]]\n",
      "[[0. 0.]\n",
      " [0. 0.]]\n",
      "[[1. 0. 0.]\n",
      " [0. 1. 0.]\n",
      " [0. 0. 1.]]\n",
      "[[1 0 0 0]\n",
      " [0 2 0 0]\n",
      " [0 0 3 0]\n",
      " [0 0 0 4]]\n"
     ]
    }
   ],
   "source": [
    "# common arrays\n",
    "# .ones() means all one\n",
    "a = np.ones((3, 3))\n",
    "print(a)\n",
    "\n",
    "# .zeros() means all zero\n",
    "b = np.zeros((2, 2))\n",
    "print(b)\n",
    "\n",
    "# .eye function is fun\n",
    "c = np.eye(3)\n",
    "print(c)\n",
    "\n",
    "# .diag() is fun\n",
    "d = np.diag(np.array([1, 2, 3, 4]))\n",
    "print(d)"
   ]
  },
  {
   "cell_type": "code",
   "execution_count": 52,
   "id": "14740854-0e27-46ed-9def-fff57fdf1d72",
   "metadata": {
    "tags": []
   },
   "outputs": [
    {
     "name": "stdout",
     "output_type": "stream",
     "text": [
      "[0.05215405 0.30913941 0.65243997 0.31747387]\n",
      "[-0.2742806   1.3082651  -1.31535658  0.39279676]\n"
     ]
    }
   ],
   "source": [
    "# random numbers\n",
    "# uniform in [0, 1]\n",
    "a = np.random.rand(4) \n",
    "print(a)\n",
    "\n",
    "# Gaussian\n",
    "b = np.random.randn(4)\n",
    "print(b)"
   ]
  },
  {
   "cell_type": "markdown",
   "id": "mobile-swaziland",
   "metadata": {},
   "source": [
    "# Lecture 5.1"
   ]
  },
  {
   "cell_type": "markdown",
   "id": "headed-flexibility",
   "metadata": {},
   "source": [
    "### Agenda:\n",
    "\n",
    "- Programming questions\n",
    "- Examples of for loops"
   ]
  },
  {
   "cell_type": "markdown",
   "id": "heated-start",
   "metadata": {},
   "source": []
  },
  {
   "cell_type": "markdown",
   "id": "buried-mention",
   "metadata": {},
   "source": [
    "# Lab 5.1"
   ]
  },
  {
   "cell_type": "markdown",
   "id": "meaningful-carnival",
   "metadata": {},
   "source": [
    "**E.1** Complete Lab 4.2 if you haven't allready\n"
   ]
  },
  {
   "cell_type": "markdown",
   "id": "superior-hybrid",
   "metadata": {},
   "source": [
    "**E.2** Complete intermediate python chapter 5: Case study on hacker statistics\n"
   ]
  },
  {
   "cell_type": "markdown",
   "id": "formed-adult",
   "metadata": {},
   "source": [
    "**E.3** Make notes for yourself on progamming tecniques and commands you learned in the datacamp chapter above, including examples, comments and explainitory text. You can do this here or in a separate notebook that you link to here. Basically, you are making a cheat sheet for yourself."
   ]
  },
  {
   "cell_type": "code",
   "execution_count": 53,
   "id": "static-drain",
   "metadata": {
    "tags": []
   },
   "outputs": [],
   "source": [
    "# put another pdf on moodle"
   ]
  },
  {
   "cell_type": "markdown",
   "id": "composed-neighbor",
   "metadata": {},
   "source": [
    "### Congratulations! অভিনন্দন 恭喜 ¡Felicidades! You finished Intermediate Python!"
   ]
  },
  {
   "cell_type": "code",
   "execution_count": null,
   "id": "active-drinking",
   "metadata": {},
   "outputs": [],
   "source": []
  }
 ],
 "metadata": {
  "kernelspec": {
   "display_name": "Python 3 (ipykernel)",
   "language": "python",
   "name": "python3"
  },
  "language_info": {
   "codemirror_mode": {
    "name": "ipython",
    "version": 3
   },
   "file_extension": ".py",
   "mimetype": "text/x-python",
   "name": "python",
   "nbconvert_exporter": "python",
   "pygments_lexer": "ipython3",
   "version": "3.11.5"
  }
 },
 "nbformat": 4,
 "nbformat_minor": 5
}
