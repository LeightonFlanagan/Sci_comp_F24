{
 "cells": [
  {
   "cell_type": "markdown",
   "id": "cooked-impact",
   "metadata": {
    "panel-layout": {
     "height": 51.12215805053711,
     "visible": true,
     "width": 100
    }
   },
   "source": [
    "Name Zhenwei Wu"
   ]
  },
  {
   "cell_type": "markdown",
   "id": "crazy-drunk",
   "metadata": {
    "panel-layout": {
     "height": 51.12215805053711,
     "visible": true,
     "width": 100
    }
   },
   "source": [
    "Labpartner(s)"
   ]
  },
  {
   "cell_type": "code",
   "execution_count": 1,
   "id": "statistical-animal",
   "metadata": {},
   "outputs": [],
   "source": [
    "#import statements go here\n"
   ]
  },
  {
   "cell_type": "markdown",
   "id": "appointed-tribute",
   "metadata": {
    "panel-layout": {
     "height": 60.596588134765625,
     "visible": true,
     "width": 100
    }
   },
   "source": [
    "# Class 9.2"
   ]
  },
  {
   "cell_type": "markdown",
   "id": "834986df-a157-45a3-8679-12e793fe2c47",
   "metadata": {
    "panel-layout": {
     "height": 97.40056610107422,
     "visible": true,
     "width": 100
    }
   },
   "source": [
    "You all will finish presenting your movies from Lab 7.2. \n",
    "\n",
    "Today Victoria Garza will give an overview and demo of the LSU HPC system\n",
    "\n",
    "Reminder your final project proposal is due Monday by 5 PM (note new due date). On Tuesday you will pitch your final project proposal to the class in a short (5 min talk).\n"
   ]
  },
  {
   "cell_type": "markdown",
   "id": "bbdf9630-73a5-4a8d-98c2-45c5ef81a0f0",
   "metadata": {},
   "source": [
    "# Warmup 9.2"
   ]
  },
  {
   "cell_type": "markdown",
   "id": "tracked-tradition",
   "metadata": {
    "panel-layout": {
     "height": 260.21307373046875,
     "visible": true,
     "width": 100
    }
   },
   "source": [
    "**W.1** Create the following numpy array. Print out the values to check!\n",
    "\n",
    "[[0. 0. 0. 0. 0. 0. 0.]\n",
    "\n",
    "[0. 1. 1. 1. 1. 1. 0.]\n",
    "\n",
    "[0. 1. 1. 1. 1. 1. 0.]\n",
    "\n",
    "[0. 1. 1. 5. 1. 1. 0.]\n",
    "\n",
    "[0. 1. 1. 1. 1. 1. 0.]\n",
    "\n",
    "[0. 1. 1. 1. 1. 1. 0.]\n",
    "\n",
    "[0. 0. 0. 0. 0. 0. 0.]]"
   ]
  },
  {
   "cell_type": "code",
   "execution_count": 6,
   "id": "champion-rouge",
   "metadata": {},
   "outputs": [
    {
     "name": "stdout",
     "output_type": "stream",
     "text": [
      "[[0. 0. 0. 0. 0. 0. 0.]\n",
      " [0. 1. 1. 1. 1. 1. 0.]\n",
      " [0. 1. 1. 1. 1. 1. 0.]\n",
      " [0. 1. 1. 5. 1. 1. 0.]\n",
      " [0. 1. 1. 1. 1. 1. 0.]\n",
      " [0. 1. 1. 1. 1. 1. 0.]\n",
      " [0. 0. 0. 0. 0. 0. 0.]]\n"
     ]
    }
   ],
   "source": [
    "import numpy as np\n",
    "\n",
    "array = np.zeros((7,7))\n",
    "\n",
    "array[1:6, 1:6] = 1\n",
    "\n",
    "array[3,3] = 5\n",
    "\n",
    "print(array)"
   ]
  },
  {
   "cell_type": "markdown",
   "id": "156984bc-e6c0-4379-a30f-c9b0a33f15f0",
   "metadata": {},
   "source": [
    "**W.2** Pandas filtering and sorting practice with Chipotle data\n",
    "\n",
    "Import the dataset from this address https://raw.githubusercontent.com/justmarkham/DAT8/master/data/chipotle.tsv\n",
    "Assign it to a variable called chipo.\n",
    "1. How many products cost more than $10.00?\n",
    "2. What is the price of each item?\n",
    "    1. Print a data frame with only two columns item_name and item_price\n",
    "    2. Sort by the name of the item\n",
    "1. What was the quantity of the most expensive item ordered?\n",
    "1. How many times did someone order more than one Canned Soda?\n"
   ]
  },
  {
   "cell_type": "code",
   "execution_count": 9,
   "id": "f633fa7e-1361-4938-b6b2-eb090a6becff",
   "metadata": {},
   "outputs": [
    {
     "name": "stdout",
     "output_type": "stream",
     "text": [
      "   order_id  quantity                              item_name  \\\n",
      "0         1         1           Chips and Fresh Tomato Salsa   \n",
      "1         1         1                                   Izze   \n",
      "2         1         1                       Nantucket Nectar   \n",
      "3         1         1  Chips and Tomatillo-Green Chili Salsa   \n",
      "4         2         2                           Chicken Bowl   \n",
      "\n",
      "                                  choice_description item_price  \n",
      "0                                                NaN     $2.39   \n",
      "1                                       [Clementine]     $3.39   \n",
      "2                                            [Apple]     $3.39   \n",
      "3                                                NaN     $2.39   \n",
      "4  [Tomatillo-Red Chili Salsa (Hot), [Black Beans...    $16.98   \n"
     ]
    }
   ],
   "source": [
    "import pandas as pd\n",
    "\n",
    "url = 'https://raw.githubusercontent.com/justmarkham/DAT8/master/data/chipotle.tsv'\n",
    "\n",
    "chipo = pd.read_csv(url, sep = '\\t')\n",
    "\n",
    "print(chipo.head())"
   ]
  },
  {
   "cell_type": "code",
   "execution_count": 18,
   "id": "6a2d5a2e-5b83-4045-a918-4e56245651d7",
   "metadata": {},
   "outputs": [
    {
     "name": "stderr",
     "output_type": "stream",
     "text": [
      "<>:2: SyntaxWarning: invalid escape sequence '\\$'\n",
      "<>:2: SyntaxWarning: invalid escape sequence '\\$'\n",
      "C:\\Users\\punch\\AppData\\Local\\Temp\\ipykernel_2088\\722120438.py:2: SyntaxWarning: invalid escape sequence '\\$'\n",
      "  chipo['item_price'] = chipo['item_price'].replace('[\\$,]', '', regex=True).astype(float)\n"
     ]
    },
    {
     "data": {
      "text/plain": [
       "25"
      ]
     },
     "execution_count": 18,
     "metadata": {},
     "output_type": "execute_result"
    }
   ],
   "source": [
    "# Convert item_price to a numeric type by removing the dollar sign\n",
    "chipo['item_price'] = chipo['item_price'].replace('[\\$,]', '', regex=True).astype(float)\n",
    "\n",
    "# Get the number of unique products that cost more than $10.00\n",
    "expensive_product_types_count = chipo[chipo['item_price']/chipo['quantity'] > 10]['item_name'].nunique()\n",
    "expensive_product_types_count"
   ]
  },
  {
   "cell_type": "code",
   "execution_count": 19,
   "id": "851709d3-72c5-4d63-b72c-b73eae5f4ab2",
   "metadata": {},
   "outputs": [
    {
     "name": "stdout",
     "output_type": "stream",
     "text": [
      "Items Priced Over $10, Sorted by Name:\n",
      "              item_name  item_price\n",
      "4510      Barbacoa Bowl       11.49\n",
      "39        Barbacoa Bowl       11.75\n",
      "471       Barbacoa Bowl       11.48\n",
      "3276   Barbacoa Burrito       11.48\n",
      "1648   Barbacoa Burrito       11.08\n",
      "...                 ...         ...\n",
      "57       Veggie Burrito       11.25\n",
      "3601     Veggie Burrito       33.75\n",
      "435      Veggie Burrito       10.98\n",
      "186   Veggie Salad Bowl       11.25\n",
      "738   Veggie Soft Tacos       11.25\n",
      "\n",
      "[62 rows x 2 columns]\n"
     ]
    }
   ],
   "source": [
    "# Filter items that cost more than $10 and drop duplicates to get unique items\n",
    "expensive_items = chipo[chipo['item_price']/chipo['quantity'] > 10][['item_name', 'item_price']].drop_duplicates()\n",
    "\n",
    "# Sort the resulting DataFrame by item name\n",
    "expensive_items_sorted = expensive_items.sort_values(by='item_name')\n",
    "\n",
    "# Display the sorted DataFrame\n",
    "print(\"Items Priced Over $10, Sorted by Name:\")\n",
    "print(expensive_items_sorted)"
   ]
  },
  {
   "cell_type": "code",
   "execution_count": 17,
   "id": "780d3f09-0f40-4f5b-9d4a-ec1662f3efe4",
   "metadata": {},
   "outputs": [
    {
     "name": "stdout",
     "output_type": "stream",
     "text": [
      "Quantity of the most expensive item ordered: 15\n"
     ]
    }
   ],
   "source": [
    "# Identify the most expensive item by finding the maximum item price\n",
    "most_expensive_item = chipo.loc[chipo['item_price'].idxmax()]\n",
    "\n",
    "# Retrieve the quantity of this most expensive item ordered\n",
    "most_expensive_item_quantity = most_expensive_item['quantity']\n",
    "\n",
    "print(\"Quantity of the most expensive item ordered:\", most_expensive_item_quantity)"
   ]
  },
  {
   "cell_type": "code",
   "execution_count": 20,
   "id": "34c8a26b-0498-4241-840c-56b53d814674",
   "metadata": {},
   "outputs": [
    {
     "name": "stdout",
     "output_type": "stream",
     "text": [
      "Number of times more than one Canned Soda was ordered: 20\n"
     ]
    }
   ],
   "source": [
    "# Filter for orders of \"Canned Soda\" where quantity is more than 1\n",
    "canned_soda_orders = chipo[(chipo['item_name'] == 'Canned Soda') & (chipo['quantity'] > 1)]\n",
    "\n",
    "# Count the number of such orders\n",
    "canned_soda_multiple_orders_count = canned_soda_orders.shape[0]\n",
    "\n",
    "print(\"Number of times more than one Canned Soda was ordered:\", canned_soda_multiple_orders_count)"
   ]
  },
  {
   "cell_type": "markdown",
   "id": "needed-irish",
   "metadata": {
    "panel-layout": {
     "height": 156.05113220214844,
     "visible": true,
     "width": 100
    }
   },
   "source": [
    "# Lecture 9.2\n",
    "\n",
    "### Agenda:\n",
    "\n",
    "- Questions\n",
    "- Show us your movies\n",
    "- Intro to LSU HPC"
   ]
  },
  {
   "cell_type": "markdown",
   "id": "crucial-hobby",
   "metadata": {
    "panel-layout": {
     "height": 44.07670211791992,
     "visible": true,
     "width": 100
    }
   },
   "source": [
    "### Questions"
   ]
  },
  {
   "cell_type": "markdown",
   "id": "be69581e-ee02-4aa7-a18e-74c2d61cc1c7",
   "metadata": {
    "panel-layout": {
     "height": 10,
     "visible": true,
     "width": 100
    }
   },
   "source": []
  },
  {
   "cell_type": "markdown",
   "id": "working-lottery",
   "metadata": {
    "panel-layout": {
     "height": 60.596588134765625,
     "visible": true,
     "width": 100
    }
   },
   "source": [
    "# Lab 9.2"
   ]
  },
  {
   "cell_type": "markdown",
   "id": "42ba70db-1894-44eb-9688-5380d60b34f6",
   "metadata": {
    "panel-layout": {
     "height": 51.12215805053711,
     "visible": true,
     "width": 100
    }
   },
   "source": [
    "**E.0** Complete the previous labs if you are behind."
   ]
  },
  {
   "cell_type": "markdown",
   "id": "6254f746-973e-4ebe-ad02-f81c98a1d7c6",
   "metadata": {
    "panel-layout": {
     "height": 114.54544830322266,
     "visible": true,
     "width": 100
    }
   },
   "source": [
    "**E.1** Submit a screenshot of you using a jupyter notebook on the LSU HPC"
   ]
  },
  {
   "cell_type": "markdown",
   "id": "714f46cd-fd5b-4e0f-84f4-7816eb053419",
   "metadata": {},
   "source": [
    "**E.2** Complete your final project proposal and submit it in Moodle"
   ]
  },
  {
   "cell_type": "markdown",
   "id": "3355bd74-1b16-4815-9d33-a4e76390a23d",
   "metadata": {},
   "source": [
    "**E.3** Prepare a 5 min presentation of your project proposal, including a brief introduction, your research plan, the programming methods you are planning to use, your preliminary results/plots, and your timeline for completion. ​You will present this in class next Tuesday. No late talks this time.\n",
    "\n",
    "A good target length is 1 slide per minute.\n",
    "\n",
    "Upload your talk here:\n",
    "https://lsu.box.com/s/5c95w1s2rrwqy839o3ul3oouzi43s4y1\n"
   ]
  },
  {
   "cell_type": "markdown",
   "id": "computational-child",
   "metadata": {
    "panel-layout": {
     "height": 85.41192626953125,
     "visible": true,
     "width": 100
    }
   },
   "source": [
    "**Notes** Make notes for yourself on progamming tecniques and commands you learned in the this week, including examples, comments and explainitory text. You can do this here or in a separate notebook that you link to here. Basically, you are making a cheat sheet for yourself."
   ]
  },
  {
   "cell_type": "code",
   "execution_count": null,
   "id": "consecutive-bowling",
   "metadata": {},
   "outputs": [],
   "source": []
  },
  {
   "cell_type": "code",
   "execution_count": null,
   "id": "a14a68ea-90e3-4c1f-bf2e-70a828ce942e",
   "metadata": {},
   "outputs": [],
   "source": []
  }
 ],
 "metadata": {
  "kernelspec": {
   "display_name": "Python 3 (ipykernel)",
   "language": "python",
   "name": "python3"
  },
  "language_info": {
   "codemirror_mode": {
    "name": "ipython",
    "version": 3
   },
   "file_extension": ".py",
   "mimetype": "text/x-python",
   "name": "python",
   "nbconvert_exporter": "python",
   "pygments_lexer": "ipython3",
   "version": "3.12.4"
  },
  "panel-cell-order": [
   "cooked-impact",
   "crazy-drunk",
   "appointed-tribute",
   "834986df-a157-45a3-8679-12e793fe2c47",
   "tracked-tradition",
   "needed-irish",
   "crucial-hobby",
   "be69581e-ee02-4aa7-a18e-74c2d61cc1c7",
   "working-lottery",
   "42ba70db-1894-44eb-9688-5380d60b34f6",
   "6254f746-973e-4ebe-ad02-f81c98a1d7c6",
   "ordinary-variable",
   "f8909a65-8319-4676-8478-c7e691e05403",
   "fff227cb-6c67-4666-825c-73b39feaa02f",
   "36b09aeb-22b0-4a9c-a95b-f4940e362a18",
   "computational-child"
  ]
 },
 "nbformat": 4,
 "nbformat_minor": 5
}
