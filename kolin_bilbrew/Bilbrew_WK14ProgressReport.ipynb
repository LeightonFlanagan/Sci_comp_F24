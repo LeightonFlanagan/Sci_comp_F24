{
 "cells": [
  {
   "cell_type": "code",
   "execution_count": 1,
   "id": "d5d5bde7-ded9-4066-b14e-19a0433a77c6",
   "metadata": {},
   "outputs": [],
   "source": [
    "#Script used to automate the calibration of the NDR Model Adapted from Campanhao et al. 2023\n",
    "import logging\n",
    "import sys\n",
    "\n",
    "import natcap.invest.sdr.sdr\n",
    "import natcap.invest.utils"
   ]
  },
  {
   "cell_type": "code",
   "execution_count": 46,
   "id": "5c72d2de-b8cd-40f2-ab6a-043c0e535732",
   "metadata": {},
   "outputs": [],
   "source": [
    "import os\n",
    "import pandas as pd\n",
    "import numpy as np"
   ]
  },
  {
   "cell_type": "code",
   "execution_count": 7,
   "id": "3aa2fcc0-854d-4794-828b-8aed50b90701",
   "metadata": {},
   "outputs": [
    {
     "name": "stdout",
     "output_type": "stream",
     "text": [
      "File does not exist!\n"
     ]
    }
   ],
   "source": [
    "import os\n",
    "\n",
    "file_path = r\"C:\\Users\\kbilbr3\\Documents\\ArcGIS\\Projects\\MyProject2\\Puerto Rico Watershed\\Kolin's Script\\Kolin's Script\\Class project Dataset\\interpret_dams_wqp.csv\"\n",
    "\n",
    "# Check if the file exists\n",
    "if os.path.exists(file_path):\n",
    "    print(\"File exists!\")\n",
    "else:\n",
    "    print(\"File does not exist!\")"
   ]
  },
  {
   "cell_type": "code",
   "execution_count": 26,
   "id": "78909729-1626-41fd-9cd1-5a53f6802331",
   "metadata": {},
   "outputs": [
    {
     "name": "stdout",
     "output_type": "stream",
     "text": [
      "['.ipynb_checkpoints', '.Rhistory', 'ArcGIS', 'Custom Office Templates', 'desktop.ini', 'intercept_dams_wqp.csv', 'My Music', 'My Pictures', 'My Videos', 'Puerto Rico Watershed Coding', 'Puerto Rico Watershed Scientific Programming Final Project', 'Untitled.ipynb']\n"
     ]
    }
   ],
   "source": [
    "directory = r\"C:/Users/kbilbr3/Documents\"\n",
    "\n",
    "# List all files in the directory\n",
    "files = os.listdir(directory)\n",
    "print(files)\n"
   ]
  },
  {
   "cell_type": "code",
   "execution_count": 53,
   "id": "58f05ae3-5487-48dc-b392-28f847e2a4dd",
   "metadata": {},
   "outputs": [
    {
     "name": "stdout",
     "output_type": "stream",
     "text": [
      "         OID_\\tUSGS_MS\\tDrainage\n",
      "0      1\\tUSGS-50071000\\tFajardo\n",
      "1    2\\tUSGS-50075000\\tRioBlanco\n",
      "2    3\\tUSGS-50074950\\tRioBlanco\n",
      "3    4\\tUSGS-50061800\\tCanovanas\n",
      "4        5\\tUSGS-50056400\\tLoiza\n",
      "5        6\\tUSGS-50051310\\tLoiza\n",
      "6        7\\tUSGS-50057000\\tLoiza\n",
      "7        8\\tUSGS-50055000\\tLoiza\n",
      "8     9\\tUSGS-50092000\\tPatillas\n",
      "9     10\\tUSGS-50043000\\tLaPlata\n",
      "10    11\\tUSGS-50046000\\tLaPlata\n",
      "11      12\\tUSGS-50106500\\tCoamo\n",
      "12  13\\tUSGS-50114000\\tCerrillos\n",
      "13   14\\tUSGS-50027000\\tDosBocas\n",
      "14  15\\tUSGS-50115000\\tPortuguez\n",
      "15   16\\tUSGS-50027250\\tDosBocas\n",
      "16   17\\tUSGS-50023000\\tDosBocas\n",
      "17   18\\tUSGS-50021050\\tDosBocas\n",
      "18   19\\tUSGS-50021000\\tDosBocas\n",
      "19   20\\tUSGS-50021500\\tDosBocas\n",
      "20   21\\tUSGS-50020500\\tDosBocas\n",
      "21  22\\tUSGS-50010500\\tGuajataca\n",
      "22       23\\tUSGS-50129000\\tLoco\n",
      "23       24\\tUSGS-50129500\\tLoco\n",
      "24  25\\tUSGS-50011400\\tGuajataca\n"
     ]
    }
   ],
   "source": [
    "df_1= 'C:/Users/kbilbr3/Documents/intercept_dams_wqp.csv'\n",
    "intercept_file= pd.read_csv(df_1)\n",
    "print(intercept_file)"
   ]
  },
  {
   "cell_type": "code",
   "execution_count": 66,
   "id": "e441ac62-f1e2-4fb7-bb7c-638b1bec1e0d",
   "metadata": {},
   "outputs": [
    {
     "name": "stdout",
     "output_type": "stream",
     "text": [
      "    OID_        USGS_MS   Drainage\n",
      "0      1  USGS-50071000    Fajardo\n",
      "1      2  USGS-50075000  RioBlanco\n",
      "2      3  USGS-50074950  RioBlanco\n",
      "3      4  USGS-50061800  Canovanas\n",
      "4      5  USGS-50056400      Loiza\n",
      "5      6  USGS-50051310      Loiza\n",
      "6      7  USGS-50057000      Loiza\n",
      "7      8  USGS-50055000      Loiza\n",
      "8      9  USGS-50092000   Patillas\n",
      "9     10  USGS-50043000    LaPlata\n",
      "10    11  USGS-50046000    LaPlata\n",
      "11    12  USGS-50106500      Coamo\n",
      "12    13  USGS-50114000  Cerrillos\n",
      "13    14  USGS-50027000   DosBocas\n",
      "14    15  USGS-50115000  Portuguez\n",
      "15    16  USGS-50027250   DosBocas\n",
      "16    17  USGS-50023000   DosBocas\n",
      "17    18  USGS-50021050   DosBocas\n",
      "18    19  USGS-50021000   DosBocas\n",
      "19    20  USGS-50021500   DosBocas\n",
      "20    21  USGS-50020500   DosBocas\n",
      "21    22  USGS-50010500  Guajataca\n",
      "22    23  USGS-50129000       Loco\n",
      "23    24  USGS-50129500       Loco\n",
      "24    25  USGS-50011400  Guajataca\n"
     ]
    }
   ],
   "source": [
    "import pandas as pd\n",
    "\n",
    "# Data as a dictionary\n",
    "data = {\n",
    "    'OID_': [1, 2, 3, 4, 5, 6, 7, 8, 9, 10, 11, 12, 13, 14, 15, 16, 17, 18, 19, 20, 21, 22, 23, 24, 25],\n",
    "    'USGS_MS': [\n",
    "        'USGS-50071000', 'USGS-50075000', 'USGS-50074950', 'USGS-50061800', 'USGS-50056400', 'USGS-50051310',\n",
    "        'USGS-50057000', 'USGS-50055000', 'USGS-50092000', 'USGS-50043000', 'USGS-50046000', 'USGS-50106500',\n",
    "        'USGS-50114000', 'USGS-50027000', 'USGS-50115000', 'USGS-50027250', 'USGS-50023000', 'USGS-50021050',\n",
    "        'USGS-50021000', 'USGS-50021500', 'USGS-50020500', 'USGS-50010500', 'USGS-50129000', 'USGS-50129500',\n",
    "        'USGS-50011400'\n",
    "    ],\n",
    "    'Drainage': [\n",
    "        'Fajardo', 'RioBlanco', 'RioBlanco', 'Canovanas', 'Loiza', 'Loiza', 'Loiza', 'Loiza', 'Patillas', 'LaPlata',\n",
    "        'LaPlata', 'Coamo', 'Cerrillos', 'DosBocas', 'Portuguez', 'DosBocas', 'DosBocas', 'DosBocas', 'DosBocas',\n",
    "        'DosBocas', 'DosBocas', 'Guajataca', 'Loco', 'Loco', 'Guajataca'\n",
    "    ]\n",
    "}\n",
    "\n",
    "# Create the DataFrame\n",
    "df = pd.DataFrame(data)\n",
    "\n",
    "# Show the DataFrame\n",
    "print(df)\n"
   ]
  },
  {
   "cell_type": "code",
   "execution_count": 55,
   "id": "b5f5a43b-a49b-4c84-b1a1-96c7803208a6",
   "metadata": {},
   "outputs": [
    {
     "name": "stdout",
     "output_type": "stream",
     "text": [
      "     Drainage  Obsdam_deposition_tonsyr\n",
      "0      Blanco                      1800\n",
      "1     Fajardo                      1800\n",
      "2      Guineo                      9000\n",
      "3   Matrullas                     14400\n",
      "4      Prieto                     16200\n",
      "5   Portugues                     18000\n",
      "6      Garzas                     19800\n",
      "7       Cidra                     23400\n",
      "8    Yahuecas                     41400\n",
      "9        Loco                     41400\n",
      "10  Cerrillos                     54000\n",
      "11     Carite                     55800\n",
      "12   Patillas                     72000\n",
      "13      Guayo                     77400\n",
      "14   Guayabal                    104400\n",
      "15  Guajataca                    124200\n",
      "16   Toa Vaca                    234000\n",
      "17   Luchetti                    280800\n",
      "18   La Plata                    437400\n",
      "19  Caonillas                    419400\n",
      "20      Loiza                    244800\n",
      "21  Dos Bocas                    554400\n"
     ]
    }
   ],
   "source": [
    "df_2= 'C:/Users/kbilbr3/Documents/dam_deposition_data.csv'\n",
    "dam_deposition_file= pd.read_csv(df_2)\n",
    "print(dam_deposition_file)"
   ]
  },
  {
   "cell_type": "code",
   "execution_count": 56,
   "id": "756e37f7-b65b-4070-9059-9541bcc4ea9a",
   "metadata": {},
   "outputs": [
    {
     "name": "stdout",
     "output_type": "stream",
     "text": [
      "                   Drainage  AreaSqKM  investsed_exportstonyear\n",
      "0                      Vivi     16.79                  13380.74\n",
      "1            Adjuntas total     53.98                  86655.01\n",
      "2             AdjuntasCorte     38.12                  66373.19\n",
      "3                 Caonillas    125.15                 151338.24\n",
      "4                    Carite     21.47                     96.30\n",
      "5                 Cerrillos     45.09                  12441.28\n",
      "6                     Cidra     21.04                   2509.32\n",
      "7                     Coamo    169.67                  45497.53\n",
      "8                    Daguey      2.92                     43.65\n",
      "9                    Garzas     15.86                  20281.82\n",
      "10                Guajataca     60.46                  24632.35\n",
      "11           Guayabal total    112.03                  84268.59\n",
      "12            GuayabalCorte     54.54                  28648.82\n",
      "13                    Guayo     25.00                  80358.43\n",
      "14                   Guineo      4.24                      0.00\n",
      "15                   Icacos      7.39                      0.00\n",
      "16            LaPlata total    467.45                 172625.10\n",
      "17             LaPlataCorte    445.98                 172528.80\n",
      "18                LasCurias      6.17                      0.00\n",
      "19                     Loco     21.84                  18457.14\n",
      "20              Loiza total    537.91                  92614.39\n",
      "21               LoizaCorte    497.87                  74265.47\n",
      "22                 Luchetti     45.06                 130647.94\n",
      "23                Matrullas     11.57                   6786.27\n",
      "24                 Patillas     66.65                  17512.46\n",
      "25                 Pellejas     22.03                  85923.63\n",
      "26                Portuguez     27.10                   2492.13\n",
      "27                   Prieto     24.60                  22848.41\n",
      "28  RetencionAcueductoNorte     25.93                    749.42\n",
      "29              Rio Fajardo     27.37                   3700.83\n",
      "30                  ToaVaca     57.49                  55619.77\n",
      "31               Valenciano     40.04                  18348.91\n",
      "32           DosBocas total    436.03                 487524.37\n",
      "33            DosBocasCorte    218.09                 150226.74\n",
      "34         Rio Blanco total     29.12                    328.86\n",
      "35           RioBlancoCorte     21.73                    328.86\n"
     ]
    }
   ],
   "source": [
    "df_3='C:/Users/kbilbr3/Documents/invest_dams_data.csv'\n",
    "invest_dams_file= pd.read_csv(df_3)\n",
    "print(invest_dams_file)\n"
   ]
  },
  {
   "cell_type": "code",
   "execution_count": 57,
   "id": "4c35fc14-97b0-44c9-8c8d-8e2b61e35dc4",
   "metadata": {},
   "outputs": [
    {
     "name": "stdout",
     "output_type": "stream",
     "text": [
      "          USGS_MS               Parameter  Lulc  nut_load_meantonyear\n",
      "0   USGS-50010500  TOTAL SUSPENDED SOLIDS  2000           1686.376126\n",
      "1   USGS-50011400  TOTAL SUSPENDED SOLIDS  2000            450.990455\n",
      "2   USGS-50020500  TOTAL SUSPENDED SOLIDS  2000           2226.035945\n",
      "3   USGS-50028000  TOTAL SUSPENDED SOLIDS  2000           1374.381032\n",
      "4   USGS-50029000  TOTAL SUSPENDED SOLIDS  2000          14347.046440\n",
      "5   USGS-50031200  TOTAL SUSPENDED SOLIDS  2000           6028.498095\n",
      "6   USGS-50038100  TOTAL SUSPENDED SOLIDS  2000          35053.360020\n",
      "7   USGS-50038320  TOTAL SUSPENDED SOLIDS  2000            512.659534\n",
      "8   USGS-50039500  TOTAL SUSPENDED SOLIDS  2000           7910.277862\n",
      "9   USGS-50043000  TOTAL SUSPENDED SOLIDS  2000           4750.461549\n",
      "10  USGS-50046000  TOTAL SUSPENDED SOLIDS  2000           5370.814127\n",
      "11  USGS-50048800  TOTAL SUSPENDED SOLIDS  2000           4051.091580\n",
      "12  USGS-50049100  TOTAL SUSPENDED SOLIDS  2000           3617.540651\n",
      "13  USGS-50055000  TOTAL SUSPENDED SOLIDS  2000          33377.854020\n",
      "14  USGS-50063800  TOTAL SUSPENDED SOLIDS  2000           1004.505109\n",
      "15  USGS-50071000  TOTAL SUSPENDED SOLIDS  2000           3776.983848\n",
      "16  USGS-50082000  TOTAL SUSPENDED SOLIDS  2000           3291.432828\n",
      "17  USGS-50083500  TOTAL SUSPENDED SOLIDS  2000           3102.850846\n",
      "18  USGS-50092000  TOTAL SUSPENDED SOLIDS  2000           1082.340665\n",
      "19  USGS-50106500  TOTAL SUSPENDED SOLIDS  2000           1085.119469\n",
      "20  USGS-50114000  TOTAL SUSPENDED SOLIDS  2000           3054.287170\n",
      "21  USGS-50115000  TOTAL SUSPENDED SOLIDS  2000           2433.551096\n",
      "22  USGS-50136400  TOTAL SUSPENDED SOLIDS  2000           1045.297251\n",
      "23  USGS-50138000  TOTAL SUSPENDED SOLIDS  2000          10739.818160\n",
      "24  USGS-50144000  TOTAL SUSPENDED SOLIDS  2000          21147.213150\n"
     ]
    }
   ],
   "source": [
    "df_4= 'C:/Users/kbilbr3/Documents/wqp_data.csv'\n",
    "wqp_file= pd.read_csv(df_4)\n",
    "print(wqp_file)"
   ]
  },
  {
   "cell_type": "code",
   "execution_count": null,
   "id": "bee767d8-dfab-4a13-bd96-cddfa06e5ff0",
   "metadata": {},
   "outputs": [],
   "source": []
  }
 ],
 "metadata": {
  "kernelspec": {
   "display_name": "Python 3 (ipykernel)",
   "language": "python",
   "name": "python3"
  },
  "language_info": {
   "codemirror_mode": {
    "name": "ipython",
    "version": 3
   },
   "file_extension": ".py",
   "mimetype": "text/x-python",
   "name": "python",
   "nbconvert_exporter": "python",
   "pygments_lexer": "ipython3",
   "version": "3.12.3"
  }
 },
 "nbformat": 4,
 "nbformat_minor": 5
}
