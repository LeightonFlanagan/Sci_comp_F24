{
 "cells": [
  {
   "cell_type": "markdown",
   "metadata": {},
   "source": [
    "Kolin Bilbrew"
   ]
  },
  {
   "cell_type": "code",
   "execution_count": null,
   "metadata": {},
   "outputs": [],
   "source": []
  },
  {
   "cell_type": "markdown",
   "metadata": {},
   "source": [
    "# Lecture 1.2"
   ]
  },
  {
   "cell_type": "markdown",
   "metadata": {},
   "source": [
    "Thursday Aug 29th, 2024\n",
    "\n",
    "Lab 1.2 is due Tuesday Sep, 3rd\n",
    "\n",
    "Lecture Agenda:\n",
    "* debriefing on first class and homework, how's it going?\n",
    "* logistics of github, downloading this Lab 1.2 notebook\n",
    "* commenting and markup in notebooks\n",
    "* workflow for the class\n"
   ]
  },
  {
   "cell_type": "markdown",
   "metadata": {},
   "source": [
    "In general, we will do warmup exercises and lab exercises in a jupyter notebook. For most classes, you will download the notebook from github, open it on your local computer, and then upload your completed work back on github in your folder. Then in the assignment tab in Moodle, submit a url link to the completed lab, along with a screenshot of your completed score for the chapter(s) assigned in datacamp.\n",
    "\n",
    "In general, Tuesday labs are due Friday by midnight and Thursday labs are due the following Tuesday by midnight. This will give you a chance to ask questions in the next class if you get stuck on something. Note the first lab (1.1) was due early so you are set up for this lab. If you are stuck on anything, let me know, and get help from your classmates."
   ]
  },
  {
   "cell_type": "code",
   "execution_count": 2,
   "metadata": {},
   "outputs": [
    {
     "name": "stdout",
     "output_type": "stream",
     "text": [
      "5\n"
     ]
    }
   ],
   "source": [
    "x = 5\n",
    "print(x)"
   ]
  },
  {
   "cell_type": "code",
   "execution_count": 88,
   "metadata": {},
   "outputs": [
    {
     "name": "stdout",
     "output_type": "stream",
     "text": [
      "4.4\n"
     ]
    }
   ],
   "source": [
    "y=4.4\n",
    "print(y)"
   ]
  },
  {
   "cell_type": "code",
   "execution_count": 89,
   "metadata": {},
   "outputs": [
    {
     "name": "stdout",
     "output_type": "stream",
     "text": [
      "False\n"
     ]
    }
   ],
   "source": [
    "k=False\n",
    "print(k)"
   ]
  },
  {
   "cell_type": "code",
   "execution_count": null,
   "metadata": {},
   "outputs": [],
   "source": [
    "a=b"
   ]
  },
  {
   "cell_type": "code",
   "execution_count": 1,
   "metadata": {},
   "outputs": [
    {
     "name": "stdout",
     "output_type": "stream",
     "text": [
      "2\n"
     ]
    }
   ],
   "source": [
    "# here is an example of code commenting. The # symbol means everything on this line will be ignored \n",
    "x = 2\n",
    "print(x)"
   ]
  },
  {
   "cell_type": "code",
   "execution_count": null,
   "metadata": {},
   "outputs": [],
   "source": [
    "# I got this cell by typing escape then b"
   ]
  },
  {
   "cell_type": "markdown",
   "metadata": {},
   "source": [
    "Here is an example of markdown text. Because this cell is in markdown mode it will also be ignored by the python shell"
   ]
  },
  {
   "cell_type": "markdown",
   "metadata": {},
   "source": [
    "I used the dropdown menu to make this markdown \n"
   ]
  },
  {
   "cell_type": "markdown",
   "metadata": {},
   "source": [
    "## Preliminaries"
   ]
  },
  {
   "cell_type": "markdown",
   "metadata": {},
   "source": [
    "In our class github site, create a folder for yourself where you will submit your jupyter notebooks. The easiest way to do this is to create a new file that is a placeholder document in the new folder. You can delete it later."
   ]
  },
  {
   "cell_type": "markdown",
   "metadata": {},
   "source": [
    "## Warmup exercises"
   ]
  },
  {
   "cell_type": "markdown",
   "metadata": {},
   "source": [
    "As you are doing these exercises, get familiar with jupyter notebook commands \n",
    "https://towardsdatascience.com/jypyter-notebook-shortcuts-bf0101a98330\n",
    "\n",
    "and markdown text https://medium.com/@ingeh/markdown-for-jupyter-notebooks-cheatsheet-386c05aeebed\n",
    "\n",
    "These exercises are based on what you have learned previously. Feel free to go look at what you did in datacamp to figure out how to answer them."
   ]
  },
  {
   "cell_type": "markdown",
   "metadata": {},
   "source": [
    "**W.1** Define and assign values to three variables of the three types we learned about Monday: integer, floating point, string and boolian. \n",
    "\n",
    "Note you can add more cells below by pressing the + button above or typing [esc] to command mode, then [b] to enter a cell below, or [a] to enter a cell above. See the link above for more commands"
   ]
  },
  {
   "cell_type": "code",
   "execution_count": 23,
   "metadata": {},
   "outputs": [],
   "source": [
    "Int = 4\n",
    "float_number = 2.3\n",
    "string = \"Hello Billy!\"\n",
    "Bool = True"
   ]
  },
  {
   "cell_type": "markdown",
   "metadata": {},
   "source": [
    "**W.2** Print out the value and check the type of each variable"
   ]
  },
  {
   "cell_type": "code",
   "execution_count": 24,
   "metadata": {},
   "outputs": [
    {
     "data": {
      "text/plain": [
       "int"
      ]
     },
     "execution_count": 24,
     "metadata": {},
     "output_type": "execute_result"
    }
   ],
   "source": [
    "type(Int)\n"
   ]
  },
  {
   "cell_type": "code",
   "execution_count": 25,
   "metadata": {},
   "outputs": [
    {
     "data": {
      "text/plain": [
       "float"
      ]
     },
     "execution_count": 25,
     "metadata": {},
     "output_type": "execute_result"
    }
   ],
   "source": [
    "type(float_number)"
   ]
  },
  {
   "cell_type": "code",
   "execution_count": 26,
   "metadata": {},
   "outputs": [
    {
     "data": {
      "text/plain": [
       "str"
      ]
     },
     "execution_count": 26,
     "metadata": {},
     "output_type": "execute_result"
    }
   ],
   "source": [
    "type(string)"
   ]
  },
  {
   "cell_type": "code",
   "execution_count": 27,
   "metadata": {},
   "outputs": [
    {
     "data": {
      "text/plain": [
       "bool"
      ]
     },
     "execution_count": 27,
     "metadata": {},
     "output_type": "execute_result"
    }
   ],
   "source": [
    "type(Bool)"
   ]
  },
  {
   "cell_type": "markdown",
   "metadata": {},
   "source": [
    "**W.3** Create a new variable that saves the value of the float variable as a string. Print it out"
   ]
  },
  {
   "cell_type": "code",
   "execution_count": 28,
   "metadata": {},
   "outputs": [],
   "source": [
    "num_baseballs = str(float_number)"
   ]
  },
  {
   "cell_type": "code",
   "execution_count": 29,
   "metadata": {},
   "outputs": [
    {
     "name": "stdout",
     "output_type": "stream",
     "text": [
      "2.3\n"
     ]
    }
   ],
   "source": [
    "print(num_baseballs)"
   ]
  },
  {
   "cell_type": "markdown",
   "metadata": {},
   "source": [
    "**W.4** Using multiplication of a variable, print out the text \"Bueno Bueno Bueno Bueno Bueno\" (Shoutout to Monsieur Periné https://youtu.be/JGL-eQAAxGs see 10:45)"
   ]
  },
  {
   "cell_type": "code",
   "execution_count": 32,
   "metadata": {},
   "outputs": [
    {
     "name": "stdout",
     "output_type": "stream",
     "text": [
      " Bueno Bueno Bueno Bueno Bueno\n"
     ]
    }
   ],
   "source": [
    "Billy = \" Bueno\" *5\n",
    "print(Billy)"
   ]
  },
  {
   "cell_type": "markdown",
   "metadata": {},
   "source": [
    "**W.5** Do the same thing using addtion"
   ]
  },
  {
   "cell_type": "code",
   "execution_count": 36,
   "metadata": {},
   "outputs": [
    {
     "name": "stdout",
     "output_type": "stream",
     "text": [
      " Bueno Bueno Bueno Bueno Bueno\n"
     ]
    }
   ],
   "source": [
    "Billy_add = \" Bueno\" + \" Bueno\" + \" Bueno\" + \" Bueno\" + \" Bueno\"\n",
    "print(Billy_add)\n"
   ]
  },
  {
   "cell_type": "markdown",
   "metadata": {},
   "source": [
    "**W.6** If you add an int and a float, what is the resulting variable type? Demonstrate"
   ]
  },
  {
   "cell_type": "code",
   "execution_count": 37,
   "metadata": {},
   "outputs": [],
   "source": [
    "x = 4 + 1.1"
   ]
  },
  {
   "cell_type": "code",
   "execution_count": 39,
   "metadata": {},
   "outputs": [
    {
     "data": {
      "text/plain": [
       "float"
      ]
     },
     "execution_count": 39,
     "metadata": {},
     "output_type": "execute_result"
    }
   ],
   "source": [
    "type(x)"
   ]
  },
  {
   "cell_type": "code",
   "execution_count": 40,
   "metadata": {},
   "outputs": [
    {
     "data": {
      "text/plain": [
       "float"
      ]
     },
     "execution_count": 40,
     "metadata": {},
     "output_type": "execute_result"
    }
   ],
   "source": [
    "type(4+1.1)"
   ]
  },
  {
   "cell_type": "markdown",
   "metadata": {},
   "source": [
    "**W.7** Can you convert a Boolian to an interger type variable? If so, what is the resulting value? What happens if you convert a float to an int?"
   ]
  },
  {
   "cell_type": "code",
   "execution_count": 41,
   "metadata": {},
   "outputs": [],
   "source": [
    "Bool_int= int(Bool)"
   ]
  },
  {
   "cell_type": "code",
   "execution_count": 42,
   "metadata": {},
   "outputs": [
    {
     "name": "stdout",
     "output_type": "stream",
     "text": [
      "1\n"
     ]
    }
   ],
   "source": [
    "print(Bool_int)"
   ]
  },
  {
   "cell_type": "markdown",
   "metadata": {},
   "source": [
    "# Lab 1.2"
   ]
  },
  {
   "cell_type": "markdown",
   "metadata": {},
   "source": [
    "## Lab Exercises"
   ]
  },
  {
   "cell_type": "markdown",
   "metadata": {},
   "source": [
    "**E.1** Complete Ch 2 of Introduction to Python in datacamp. "
   ]
  },
  {
   "cell_type": "markdown",
   "metadata": {},
   "source": [
    "**E.2** Below you will spend time practicing what you have learned in Ch 2. Use a comination of code, code commenting, and markdown text to take notes. Make sure you investigate how python syntax works and understand what you are doing, and what went wrong if you have any issues. You can refer to this document later if you need to review, so give future you lots of commenting to be helpful."
   ]
  },
  {
   "cell_type": "markdown",
   "metadata": {},
   "source": [
    "**E.2.1** Let's work on lists, indexing and printing out elements of lists.\n",
    "\n",
    "We are going to calculate the BMI of five family members (or friends/colleaues if you have a small family, or famous people/politicians/atheletes if you really don't like talking to people, they just have to be adults and you need their data). Make intellegently named lists for the first name, last name, height, weight and age of each person. So, five lists in total."
   ]
  },
  {
   "cell_type": "markdown",
   "metadata": {},
   "source": [
    "**E.2.2** Now create a new list that calculates the BMI of each person using the lists you created before"
   ]
  },
  {
   "cell_type": "code",
   "execution_count": 69,
   "metadata": {},
   "outputs": [],
   "source": [
    "First_Names = [\"mom\", \"pops\", \"kamille\", \"alex\", \"kam\"]"
   ]
  },
  {
   "cell_type": "code",
   "execution_count": 70,
   "metadata": {},
   "outputs": [],
   "source": [
    "Last_Names = [\"joiner\" , \"tillman\", \"bilbrew\", \"rodriquez\", \"wilder\"]"
   ]
  },
  {
   "cell_type": "code",
   "execution_count": 55,
   "metadata": {},
   "outputs": [],
   "source": [
    "H = [1.52, 1.65, 1.58, 1.73, 1.63]"
   ]
  },
  {
   "cell_type": "code",
   "execution_count": 57,
   "metadata": {},
   "outputs": [],
   "source": [
    "W = [80, 90, 70, 50, 95]"
   ]
  },
  {
   "cell_type": "code",
   "execution_count": 51,
   "metadata": {},
   "outputs": [],
   "source": [
    "age = [46, 45, 14, 13, 23]"
   ]
  },
  {
   "cell_type": "markdown",
   "metadata": {},
   "source": [
    "**E.2.3** Look up the weight classification of each person based on their BMI (what's a good source for this, who do you trust?). Create a new list with this information for each person. (Don't judge, we live in Louisiana, which is not known for health food.)"
   ]
  },
  {
   "cell_type": "code",
   "execution_count": 59,
   "metadata": {},
   "outputs": [
    {
     "name": "stdout",
     "output_type": "stream",
     "text": [
      "34.62603878116344\n"
     ]
    }
   ],
   "source": [
    "BMI_mom = W[0]/H[0]**2\n",
    "print(BMI_mom)"
   ]
  },
  {
   "cell_type": "code",
   "execution_count": 60,
   "metadata": {},
   "outputs": [
    {
     "name": "stdout",
     "output_type": "stream",
     "text": [
      "33.057851239669425\n"
     ]
    }
   ],
   "source": [
    "BMI_pops = W[1]/H[1]**2\n",
    "print(BMI_pops)"
   ]
  },
  {
   "cell_type": "code",
   "execution_count": 61,
   "metadata": {},
   "outputs": [
    {
     "name": "stdout",
     "output_type": "stream",
     "text": [
      "28.040378144528116\n"
     ]
    }
   ],
   "source": [
    "BMI_kamille = W[2]/H[2]**2\n",
    "print(BMI_kamille)"
   ]
  },
  {
   "cell_type": "code",
   "execution_count": 62,
   "metadata": {},
   "outputs": [
    {
     "name": "stdout",
     "output_type": "stream",
     "text": [
      "16.70620468441979\n"
     ]
    }
   ],
   "source": [
    "BMI_alex = W[3]/H[3]**2\n",
    "print(BMI_alex)"
   ]
  },
  {
   "cell_type": "code",
   "execution_count": 64,
   "metadata": {},
   "outputs": [
    {
     "name": "stdout",
     "output_type": "stream",
     "text": [
      "35.75595618954421\n"
     ]
    }
   ],
   "source": [
    "BMI_kam = W[4]/H[4]**2\n",
    "print(BMI_kam)"
   ]
  },
  {
   "cell_type": "markdown",
   "metadata": {},
   "source": [
    "**E.2.3** Let's practice some print statements and iterate manually through the people on your lists.\n",
    "\n",
    "For each person, print out something like: \"First_name last_name, age xx, has a height of xx units and weight of xx units, giving them a body mass index (BMI) of xx, making them yy\" where yy is if they are normal, obese, etc."
   ]
  },
  {
   "cell_type": "code",
   "execution_count": 71,
   "metadata": {},
   "outputs": [
    {
     "name": "stdout",
     "output_type": "stream",
     "text": [
      "mom joiner , 46 has height of 1.52 and weight of 80 ,giving them a boby mass index 34.62603878116344 making them obese\n"
     ]
    }
   ],
   "source": [
    "print(First_Names[0],Last_Names[0],\",\",age[0],\"has height of\",H[0],\"and weight of\",W[0],\",giving them a boby mass index\",(BMI_mom),\"making them obese\")"
   ]
  },
  {
   "cell_type": "code",
   "execution_count": 74,
   "metadata": {},
   "outputs": [
    {
     "name": "stdout",
     "output_type": "stream",
     "text": [
      "pops tillman , 45 has height of 1.65 and weight of 90 ,giving them a boby mass index 33.057851239669425 making them obese\n"
     ]
    }
   ],
   "source": [
    "print(First_Names[1],Last_Names[1],\",\",age[1],\"has height of\",H[1],\"and weight of\",W[1],\",giving them a boby mass index\",(BMI_pops),\"making them obese\")"
   ]
  },
  {
   "cell_type": "code",
   "execution_count": 75,
   "metadata": {},
   "outputs": [
    {
     "name": "stdout",
     "output_type": "stream",
     "text": [
      "kamille bilbrew , 14 has height of 1.58 and weight of 70 ,giving them a boby mass index 28.040378144528116 making them normal\n"
     ]
    }
   ],
   "source": [
    "print(First_Names[2],Last_Names[2],\",\",age[2],\"has height of\",H[2],\"and weight of\",W[2],\",giving them a boby mass index\",(BMI_kamille),\"making them normal\")"
   ]
  },
  {
   "cell_type": "code",
   "execution_count": 76,
   "metadata": {},
   "outputs": [
    {
     "name": "stdout",
     "output_type": "stream",
     "text": [
      "alex rodriquez , 13 has height of 1.73 and weight of 50 ,giving them a boby mass index 28.040378144528116 making them normal\n"
     ]
    }
   ],
   "source": [
    "print(First_Names[3],Last_Names[3],\",\",age[3],\"has height of\",H[3],\"and weight of\",W[3],\",giving them a boby mass index\",(BMI_kamille),\"making them normal\")"
   ]
  },
  {
   "cell_type": "code",
   "execution_count": 77,
   "metadata": {},
   "outputs": [
    {
     "name": "stdout",
     "output_type": "stream",
     "text": [
      "kam wilder , 23 has height of 1.63 and weight of 95 ,giving them a boby mass index 35.75595618954421 making them obese\n"
     ]
    }
   ],
   "source": [
    "print(First_Names[4],Last_Names[4],\",\",age[4],\"has height of\",H[4],\"and weight of\",W[4],\",giving them a boby mass index\",(BMI_kam),\"making them obese\")"
   ]
  },
  {
   "cell_type": "markdown",
   "metadata": {},
   "source": [
    "**E.2.4** Now add/append your information to each of the lists, and do the same print statement for you. Make a resolution to eat more veggies."
   ]
  },
  {
   "cell_type": "code",
   "execution_count": 79,
   "metadata": {},
   "outputs": [
    {
     "name": "stdout",
     "output_type": "stream",
     "text": [
      "['mom', 'pops', 'kamille', 'alex', 'kam', 'Kolin']\n"
     ]
    }
   ],
   "source": [
    "First_Names_2 = First_Names + [\"Kolin\"]\n",
    "print(First_Names_2)"
   ]
  },
  {
   "cell_type": "markdown",
   "metadata": {},
   "source": [
    "When you are done with your lab, upload this document to your github folder on the class site. Then submit a url link to the completed lab, along with a screenshot of your completed Ch 2 score in datacamp, to the assignment tab in Moodle."
   ]
  },
  {
   "cell_type": "code",
   "execution_count": 80,
   "metadata": {},
   "outputs": [
    {
     "name": "stdout",
     "output_type": "stream",
     "text": [
      "['joiner', 'tillman', 'bilbrew', 'rodriquez', 'wilder', 'Bilbrew']\n"
     ]
    }
   ],
   "source": [
    "Last_Names_2 = Last_Names + [\"Bilbrew\"]\n",
    "print(Last_Names_2)"
   ]
  },
  {
   "cell_type": "code",
   "execution_count": 81,
   "metadata": {},
   "outputs": [
    {
     "name": "stdout",
     "output_type": "stream",
     "text": [
      "[1.52, 1.65, 1.58, 1.73, 1.63, 1.65]\n"
     ]
    }
   ],
   "source": [
    "H_2 = H + [1.65]\n",
    "print(H_2)"
   ]
  },
  {
   "cell_type": "code",
   "execution_count": 82,
   "metadata": {},
   "outputs": [
    {
     "name": "stdout",
     "output_type": "stream",
     "text": [
      "[80, 90, 70, 50, 95, 74]\n"
     ]
    }
   ],
   "source": [
    "W_2 = W + [74]\n",
    "print(W_2)"
   ]
  },
  {
   "cell_type": "code",
   "execution_count": 83,
   "metadata": {},
   "outputs": [
    {
     "name": "stdout",
     "output_type": "stream",
     "text": [
      "[46, 45, 14, 13, 23, 21]\n"
     ]
    }
   ],
   "source": [
    "age_2 = age + [21]\n",
    "print(age_2)"
   ]
  },
  {
   "cell_type": "code",
   "execution_count": 86,
   "metadata": {},
   "outputs": [
    {
     "name": "stdout",
     "output_type": "stream",
     "text": [
      "27.180899908172638\n"
     ]
    }
   ],
   "source": [
    "BMI_Kolin= W_2[5]/H_2[5]**2\n",
    "print(BMI_Kolin)"
   ]
  },
  {
   "cell_type": "code",
   "execution_count": 87,
   "metadata": {},
   "outputs": [
    {
     "name": "stdout",
     "output_type": "stream",
     "text": [
      "Kolin Bilbrew , 21 has height of 1.65 and weight of 74 ,giving them a boby mass index 27.180899908172638 making them normal\n"
     ]
    }
   ],
   "source": [
    "print(First_Names_2[5],Last_Names_2[5],\",\",age_2[5],\"has height of\",H_2[5],\"and weight of\",W_2[5],\",giving them a boby mass index\",(BMI_Kolin),\"making them normal\")"
   ]
  },
  {
   "cell_type": "markdown",
   "metadata": {},
   "source": [
    "# Scratch"
   ]
  },
  {
   "cell_type": "code",
   "execution_count": 5,
   "metadata": {},
   "outputs": [],
   "source": [
    "# this is an area of the notebook you can mess around and test things out, if you don't want to put it above"
   ]
  },
  {
   "cell_type": "code",
   "execution_count": null,
   "metadata": {},
   "outputs": [],
   "source": []
  },
  {
   "cell_type": "code",
   "execution_count": null,
   "metadata": {},
   "outputs": [],
   "source": []
  }
 ],
 "metadata": {
  "kernelspec": {
   "display_name": "Python 3 (ipykernel)",
   "language": "python",
   "name": "python3"
  },
  "language_info": {
   "codemirror_mode": {
    "name": "ipython",
    "version": 3
   },
   "file_extension": ".py",
   "mimetype": "text/x-python",
   "name": "python",
   "nbconvert_exporter": "python",
   "pygments_lexer": "ipython3",
   "version": "3.12.4"
  }
 },
 "nbformat": 4,
 "nbformat_minor": 4
}
