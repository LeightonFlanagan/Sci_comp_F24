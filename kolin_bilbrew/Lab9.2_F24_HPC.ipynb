{
 "cells": [
  {
   "cell_type": "markdown",
   "id": "cooked-impact",
   "metadata": {
    "panel-layout": {
     "height": 51.12215805053711,
     "visible": true,
     "width": 100
    }
   },
   "source": [
    " Name #Kolin Bilbrew"
   ]
  },
  {
   "cell_type": "markdown",
   "id": "crazy-drunk",
   "metadata": {
    "panel-layout": {
     "height": 51.12215805053711,
     "visible": true,
     "width": 100
    }
   },
   "source": [
    "Labpartner(s)"
   ]
  },
  {
   "cell_type": "code",
   "execution_count": 6,
   "id": "statistical-animal",
   "metadata": {},
   "outputs": [],
   "source": [
    "#import statements go here\n",
    "import pandas as pd\n",
    "import numpy as np\n",
    "import matplotlib.pyplot as plt"
   ]
  },
  {
   "cell_type": "markdown",
   "id": "appointed-tribute",
   "metadata": {
    "panel-layout": {
     "height": 60.596588134765625,
     "visible": true,
     "width": 100
    }
   },
   "source": [
    "# Class 9.2"
   ]
  },
  {
   "cell_type": "markdown",
   "id": "834986df-a157-45a3-8679-12e793fe2c47",
   "metadata": {
    "panel-layout": {
     "height": 97.40056610107422,
     "visible": true,
     "width": 100
    }
   },
   "source": [
    "You all will finish presenting your movies from Lab 7.2. \n",
    "\n",
    "Today Victoria Garza will give an overview and demo of the LSU HPC system\n",
    "\n",
    "Reminder your final project proposal is due Monday by 5 PM (note new due date). On Tuesday you will pitch your final project proposal to the class in a short (5 min talk).\n"
   ]
  },
  {
   "cell_type": "markdown",
   "id": "bbdf9630-73a5-4a8d-98c2-45c5ef81a0f0",
   "metadata": {},
   "source": [
    "# Warmup 9.2"
   ]
  },
  {
   "cell_type": "markdown",
   "id": "tracked-tradition",
   "metadata": {
    "panel-layout": {
     "height": 260.21307373046875,
     "visible": true,
     "width": 100
    }
   },
   "source": [
    "**W.1** Create the following numpy array. Print out the values to check!\n",
    "\n",
    "[[0. 0. 0. 0. 0. 0. 0.]\n",
    "\n",
    "[0. 1. 1. 1. 1. 1. 0.]\n",
    "\n",
    "[0. 1. 1. 1. 1. 1. 0.]\n",
    "\n",
    "[0. 1. 1. 5. 1. 1. 0.]\n",
    "\n",
    "[0. 1. 1. 1. 1. 1. 0.]\n",
    "\n",
    "[0. 1. 1. 1. 1. 1. 0.]\n",
    "\n",
    "[0. 0. 0. 0. 0. 0. 0.]]"
   ]
  },
  {
   "cell_type": "code",
   "execution_count": 12,
   "id": "champion-rouge",
   "metadata": {},
   "outputs": [
    {
     "name": "stdout",
     "output_type": "stream",
     "text": [
      "[[0. 0. 0. 0. 0. 0. 0.]\n",
      " [0. 1. 1. 1. 1. 1. 0.]\n",
      " [0. 1. 1. 1. 1. 1. 0.]\n",
      " [0. 1. 1. 5. 1. 1. 0.]\n",
      " [0. 1. 1. 1. 1. 1. 0.]\n",
      " [0. 1. 1. 1. 1. 1. 0.]\n",
      " [0. 0. 0. 0. 0. 0. 0.]]\n"
     ]
    }
   ],
   "source": [
    "import numpy as np\n",
    "\n",
    "# Create the array\n",
    "array = np.array([\n",
    "    [0., 0., 0., 0., 0., 0., 0.],\n",
    "    [0., 1., 1., 1., 1., 1., 0.],\n",
    "    [0., 1., 1., 1., 1., 1., 0.],\n",
    "    [0., 1., 1., 5., 1., 1., 0.],\n",
    "    [0., 1., 1., 1., 1., 1., 0.],\n",
    "    [0., 1., 1., 1., 1., 1., 0.],\n",
    "    [0., 0., 0., 0., 0., 0., 0.]\n",
    "])\n",
    "\n",
    "print(array)"
   ]
  },
  {
   "cell_type": "markdown",
   "id": "156984bc-e6c0-4379-a30f-c9b0a33f15f0",
   "metadata": {},
   "source": [
    "**W.2** Pandas filtering and sorting practice with Chipotle data\n",
    "\n",
    "Import the dataset from this address https://raw.githubusercontent.com/justmarkham/DAT8/master/data/chipotle.tsv\n",
    "Assign it to a variable called chipo.\n",
    "1. How many products cost more than $10.00?\n",
    "2. What is the price of each item?\n",
    "    1. Print a data frame with only two columns item_name and item_price\n",
    "    2. Sort by the name of the item\n",
    "1. What was the quantity of the most expensive item ordered?\n",
    "1. How many times did someone order more than one Canned Soda?\n"
   ]
  },
  {
   "cell_type": "code",
   "execution_count": 25,
   "id": "f633fa7e-1361-4938-b6b2-eb090a6becff",
   "metadata": {},
   "outputs": [
    {
     "name": "stderr",
     "output_type": "stream",
     "text": [
      "<>:6: SyntaxWarning: invalid escape sequence '\\$'\n",
      "<>:6: SyntaxWarning: invalid escape sequence '\\$'\n",
      "/var/folders/wq/6qb95y1j1y909jg8q1rds6h80000gn/T/ipykernel_64072/1169770259.py:6: SyntaxWarning: invalid escape sequence '\\$'\n",
      "  chipo['item_price'] = chipo['item_price'].replace('[\\$,]', '', regex=True).astype(float)\n"
     ]
    },
    {
     "data": {
      "text/plain": [
       "31"
      ]
     },
     "execution_count": 25,
     "metadata": {},
     "output_type": "execute_result"
    }
   ],
   "source": [
    "import numpy as np\n",
    "import pandas as pd\n",
    "# Load the dataset\n",
    "url = \"https://raw.githubusercontent.com/justmarkham/DAT8/master/data/chipotle.tsv\"\n",
    "chipo = pd.read_csv(url, sep='\\t')\n",
    "chipo['item_price'] = chipo['item_price'].replace('[\\$,]', '', regex=True).astype(float)\n",
    "\n",
    "# Filter for products that cost more than $10.00 and count unique items\n",
    "products_over_10 = chipo[chipo['item_price'] > 10.00]\n",
    "num_products_over_10 = products_over_10['item_name'].nunique()\n",
    "num_products_over_10"
   ]
  },
  {
   "cell_type": "code",
   "execution_count": 19,
   "id": "50af7ca7-b37f-4df7-8497-d920d8a8b392",
   "metadata": {},
   "outputs": [
    {
     "name": "stdout",
     "output_type": "stream",
     "text": [
      "                                item_name  item_price\n",
      "0                       6 Pack Soft Drink    6.610185\n",
      "1                           Barbacoa Bowl   10.187273\n",
      "2                        Barbacoa Burrito    9.832418\n",
      "3                   Barbacoa Crispy Tacos   10.928182\n",
      "4                     Barbacoa Salad Bowl   10.640000\n",
      "5                     Barbacoa Soft Tacos   10.018400\n",
      "6                           Bottled Water    1.867654\n",
      "7                                    Bowl   14.800000\n",
      "8                                 Burrito    7.400000\n",
      "9                             Canned Soda    1.320577\n",
      "10                      Canned Soft Drink    1.457641\n",
      "11                          Carnitas Bowl   10.833971\n",
      "12                       Carnitas Burrito   10.132712\n",
      "13                  Carnitas Crispy Tacos   11.137143\n",
      "14                         Carnitas Salad    8.990000\n",
      "15                    Carnitas Salad Bowl   11.056667\n",
      "16                    Carnitas Soft Tacos    9.398500\n",
      "17                           Chicken Bowl   10.113953\n",
      "18                        Chicken Burrito   10.082857\n",
      "19                   Chicken Crispy Tacos   10.045319\n",
      "20                          Chicken Salad    9.010000\n",
      "21                     Chicken Salad Bowl   11.170455\n",
      "22                     Chicken Soft Tacos    9.635565\n",
      "23                                  Chips    2.342844\n",
      "24           Chips and Fresh Tomato Salsa    3.285091\n",
      "25                    Chips and Guacamole    4.595073\n",
      "26      Chips and Mild Fresh Tomato Salsa    3.000000\n",
      "27     Chips and Roasted Chili Corn Salsa    3.084091\n",
      "28     Chips and Roasted Chili-Corn Salsa    2.390000\n",
      "29  Chips and Tomatillo Green Chili Salsa    3.087209\n",
      "30    Chips and Tomatillo Red Chili Salsa    3.072917\n",
      "31  Chips and Tomatillo-Green Chili Salsa    2.544194\n",
      "32    Chips and Tomatillo-Red Chili Salsa    2.987500\n",
      "33                           Crispy Tacos    7.400000\n",
      "34                                   Izze    3.390000\n",
      "35                       Nantucket Nectar    3.641111\n",
      "36                                  Salad    7.400000\n",
      "37                          Side of Chips    1.840594\n",
      "38                             Steak Bowl   10.711801\n",
      "39                          Steak Burrito   10.465842\n",
      "40                     Steak Crispy Tacos   10.209714\n",
      "41                            Steak Salad    8.915000\n",
      "42                       Steak Salad Bowl   11.847931\n",
      "43                       Steak Soft Tacos    9.746364\n",
      "44                            Veggie Bowl   10.211647\n",
      "45                         Veggie Burrito    9.839684\n",
      "46                    Veggie Crispy Tacos    8.490000\n",
      "47                           Veggie Salad    8.490000\n",
      "48                      Veggie Salad Bowl   10.138889\n",
      "49                      Veggie Soft Tacos   10.565714\n"
     ]
    }
   ],
   "source": [
    "item_prices = chipo.groupby('item_name').agg({'item_price': 'mean'}).reset_index()\n",
    "\n",
    "# Sort by item_name\n",
    "item_prices_sorted = item_prices.sort_values('item_name')\n",
    "\n",
    "# Print the result\n",
    "print(item_prices_sorted[['item_name', 'item_price']])"
   ]
  },
  {
   "cell_type": "code",
   "execution_count": 23,
   "id": "ac913449-f11b-4422-bef3-87719c823a31",
   "metadata": {},
   "outputs": [
    {
     "name": "stdout",
     "output_type": "stream",
     "text": [
      "      order_id  quantity                              item_name  \\\n",
      "0            1         1           Chips and Fresh Tomato Salsa   \n",
      "1            1         1                                   Izze   \n",
      "2            1         1                       Nantucket Nectar   \n",
      "3            1         1  Chips and Tomatillo-Green Chili Salsa   \n",
      "4            2         2                           Chicken Bowl   \n",
      "...        ...       ...                                    ...   \n",
      "4617      1833         1                          Steak Burrito   \n",
      "4618      1833         1                          Steak Burrito   \n",
      "4619      1834         1                     Chicken Salad Bowl   \n",
      "4620      1834         1                     Chicken Salad Bowl   \n",
      "4621      1834         1                     Chicken Salad Bowl   \n",
      "\n",
      "                                     choice_description  item_price  \n",
      "0                                                   NaN        2.39  \n",
      "1                                          [Clementine]        3.39  \n",
      "2                                               [Apple]        3.39  \n",
      "3                                                   NaN        2.39  \n",
      "4     [Tomatillo-Red Chili Salsa (Hot), [Black Beans...       16.98  \n",
      "...                                                 ...         ...  \n",
      "4617  [Fresh Tomato Salsa, [Rice, Black Beans, Sour ...       11.75  \n",
      "4618  [Fresh Tomato Salsa, [Rice, Sour Cream, Cheese...       11.75  \n",
      "4619  [Fresh Tomato Salsa, [Fajita Vegetables, Pinto...       11.25  \n",
      "4620  [Fresh Tomato Salsa, [Fajita Vegetables, Lettu...        8.75  \n",
      "4621  [Fresh Tomato Salsa, [Fajita Vegetables, Pinto...        8.75  \n",
      "\n",
      "[4622 rows x 5 columns]\n",
      "1130\n"
     ]
    }
   ],
   "source": [
    "print(chipo)\n",
    "print(products_over_10)"
   ]
  },
  {
   "cell_type": "code",
   "execution_count": 44,
   "id": "20d7d174-e806-41f7-b34d-804f48631a14",
   "metadata": {},
   "outputs": [
    {
     "name": "stdout",
     "output_type": "stream",
     "text": [
      "Veggie Soft Tacos\n",
      "15\n"
     ]
    }
   ],
   "source": [
    "# Find the most expensive item\n",
    "most_expensive_item= chipo['item_name'].max()\n",
    "print(most_expensive_item)\n",
    "\n",
    "# Find the row with the most expensive item\n",
    "most_expensive_order = chipo.loc[chipo['item_price'].idxmax()]\n",
    "\n",
    "# Extract the quantity of the most expensive item\n",
    "quantity_most_expensive = most_expensive_order['quantity']\n",
    "\n",
    "print(quantity_most_expensive)"
   ]
  },
  {
   "cell_type": "code",
   "execution_count": 42,
   "id": "f85aa859-b3b8-4c7d-826d-b90ec09ad3f5",
   "metadata": {},
   "outputs": [
    {
     "name": "stdout",
     "output_type": "stream",
     "text": [
      "      order_id  quantity    item_name choice_description  item_price\n",
      "18           9         2  Canned Soda           [Sprite]        2.18\n",
      "51          23         2  Canned Soda     [Mountain Dew]        2.18\n",
      "162         73         2  Canned Soda        [Diet Coke]        2.18\n",
      "171         76         2  Canned Soda  [Diet Dr. Pepper]        2.18\n",
      "350        150         2  Canned Soda        [Diet Coke]        2.18\n",
      "352        151         2  Canned Soda        [Coca Cola]        2.18\n",
      "698        287         2  Canned Soda        [Coca Cola]        2.18\n",
      "700        288         2  Canned Soda        [Coca Cola]        2.18\n",
      "909        376         2  Canned Soda     [Mountain Dew]        2.18\n",
      "1091       450         2  Canned Soda       [Dr. Pepper]        2.18\n",
      "1092       450         2  Canned Soda        [Coca Cola]        2.18\n",
      "1944       787         2  Canned Soda       [Dr. Pepper]        2.18\n",
      "2135       859         2  Canned Soda        [Diet Coke]        2.18\n",
      "2235       901         4  Canned Soda           [Sprite]        4.36\n",
      "2905      1156         2  Canned Soda        [Coca Cola]        2.18\n",
      "2906      1156         2  Canned Soda           [Sprite]        2.18\n",
      "3152      1258         2  Canned Soda       [Dr. Pepper]        2.18\n",
      "3364      1349         2  Canned Soda        [Coca Cola]        2.18\n",
      "3592      1440         2  Canned Soda        [Diet Coke]        2.18\n",
      "3866      1550         2  Canned Soda     [Mountain Dew]        2.18\n",
      "20\n"
     ]
    }
   ],
   "source": [
    "canned_soda_orders = chipo.loc[((chipo['item_name'] == 'Canned Soda') & (chipo['quantity']>= 2))]\n",
    "\n",
    "# Count the number of such orders\n",
    "count_of_orders = len(canned_soda_orders)\n",
    "print(canned_soda_orders)\n",
    "print(count_of_orders)"
   ]
  },
  {
   "cell_type": "markdown",
   "id": "needed-irish",
   "metadata": {
    "panel-layout": {
     "height": 156.05113220214844,
     "visible": true,
     "width": 100
    }
   },
   "source": [
    "# Lecture 9.2\n",
    "\n",
    "### Agenda:\n",
    "\n",
    "- Questions\n",
    "- Show us your movies\n",
    "- Intro to LSU HPC"
   ]
  },
  {
   "cell_type": "markdown",
   "id": "crucial-hobby",
   "metadata": {
    "panel-layout": {
     "height": 44.07670211791992,
     "visible": true,
     "width": 100
    }
   },
   "source": [
    "### Questions"
   ]
  },
  {
   "cell_type": "markdown",
   "id": "be69581e-ee02-4aa7-a18e-74c2d61cc1c7",
   "metadata": {
    "panel-layout": {
     "height": 10,
     "visible": true,
     "width": 100
    }
   },
   "source": [
    "None"
   ]
  },
  {
   "cell_type": "markdown",
   "id": "working-lottery",
   "metadata": {
    "panel-layout": {
     "height": 60.596588134765625,
     "visible": true,
     "width": 100
    }
   },
   "source": [
    "# Lab 9.2"
   ]
  },
  {
   "cell_type": "markdown",
   "id": "42ba70db-1894-44eb-9688-5380d60b34f6",
   "metadata": {
    "panel-layout": {
     "height": 51.12215805053711,
     "visible": true,
     "width": 100
    }
   },
   "source": [
    "**E.0** Complete the previous labs if you are behind."
   ]
  },
  {
   "cell_type": "markdown",
   "id": "6254f746-973e-4ebe-ad02-f81c98a1d7c6",
   "metadata": {
    "panel-layout": {
     "height": 114.54544830322266,
     "visible": true,
     "width": 100
    }
   },
   "source": [
    "**E.1** Submit a screenshot of you using a jupyter notebook on the LSU HPC"
   ]
  },
  {
   "cell_type": "markdown",
   "id": "714f46cd-fd5b-4e0f-84f4-7816eb053419",
   "metadata": {},
   "source": [
    "**E.2** Complete your final project proposal and submit it in Moodle"
   ]
  },
  {
   "cell_type": "markdown",
   "id": "3355bd74-1b16-4815-9d33-a4e76390a23d",
   "metadata": {},
   "source": [
    "**E.3** Prepare a 5 min presentation of your project proposal, including a brief introduction, your research plan, the programming methods you are planning to use, your preliminary results/plots, and your timeline for completion. ​You will present this in class next Tuesday. No late talks this time.\n",
    "\n",
    "A good target length is 1 slide per minute.\n",
    "\n",
    "Upload your talk here:\n",
    "https://lsu.box.com/s/5c95w1s2rrwqy839o3ul3oouzi43s4y1\n"
   ]
  },
  {
   "cell_type": "markdown",
   "id": "computational-child",
   "metadata": {
    "panel-layout": {
     "height": 85.41192626953125,
     "visible": true,
     "width": 100
    }
   },
   "source": [
    "**Notes** Make notes for yourself on progamming tecniques and commands you learned in the this week, including examples, comments and explainitory text. You can do this here or in a separate notebook that you link to here. Basically, you are making a cheat sheet for yourself."
   ]
  },
  {
   "cell_type": "code",
   "execution_count": null,
   "id": "consecutive-bowling",
   "metadata": {},
   "outputs": [],
   "source": []
  },
  {
   "cell_type": "code",
   "execution_count": null,
   "id": "a14a68ea-90e3-4c1f-bf2e-70a828ce942e",
   "metadata": {},
   "outputs": [],
   "source": []
  }
 ],
 "metadata": {
  "kernelspec": {
   "display_name": "Python 3 (ipykernel)",
   "language": "python",
   "name": "python3"
  },
  "language_info": {
   "codemirror_mode": {
    "name": "ipython",
    "version": 3
   },
   "file_extension": ".py",
   "mimetype": "text/x-python",
   "name": "python",
   "nbconvert_exporter": "python",
   "pygments_lexer": "ipython3",
   "version": "3.12.4"
  },
  "panel-cell-order": [
   "cooked-impact",
   "crazy-drunk",
   "appointed-tribute",
   "834986df-a157-45a3-8679-12e793fe2c47",
   "tracked-tradition",
   "needed-irish",
   "crucial-hobby",
   "be69581e-ee02-4aa7-a18e-74c2d61cc1c7",
   "working-lottery",
   "42ba70db-1894-44eb-9688-5380d60b34f6",
   "6254f746-973e-4ebe-ad02-f81c98a1d7c6",
   "ordinary-variable",
   "f8909a65-8319-4676-8478-c7e691e05403",
   "fff227cb-6c67-4666-825c-73b39feaa02f",
   "36b09aeb-22b0-4a9c-a95b-f4940e362a18",
   "computational-child"
  ]
 },
 "nbformat": 4,
 "nbformat_minor": 5
}
