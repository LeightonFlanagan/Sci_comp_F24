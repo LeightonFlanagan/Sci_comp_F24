{
 "cells": [
  {
   "cell_type": "markdown",
   "metadata": {},
   "source": [
    "put your name, etc here"
   ]
  },
  {
   "cell_type": "markdown",
   "metadata": {},
   "source": [
    "Sarah Brannum"
   ]
  },
  {
   "cell_type": "markdown",
   "metadata": {},
   "source": [
    "# Lecture 1.2"
   ]
  },
  {
   "cell_type": "markdown",
   "metadata": {},
   "source": [
    "Thursday Aug 29th, 2024\n",
    "\n",
    "Lab 1.2 is due Tuesday Sep, 3rd\n",
    "\n",
    "Lecture Agenda:\n",
    "* debriefing on first class and homework, how's it going?\n",
    "* logistics of github, downloading this Lab 1.2 notebook\n",
    "* commenting and markup in notebooks\n",
    "* workflow for the class\n"
   ]
  },
  {
   "cell_type": "markdown",
   "metadata": {},
   "source": [
    "In general, we will do warmup exercises and lab exercises in a jupyter notebook. For most classes, you will download the notebook from github, open it on your local computer, and then upload your completed work back on github in your folder. Then in the assignment tab in Moodle, submit a url link to the completed lab, along with a screenshot of your completed score for the chapter(s) assigned in datacamp.\n",
    "\n",
    "In general, Tuesday labs are due Friday by midnight and Thursday labs are due the following Tuesday by midnight. This will give you a chance to ask questions in the next class if you get stuck on something. Note the first lab (1.1) was due early so you are set up for this lab. If you are stuck on anything, let me know, and get help from your classmates."
   ]
  },
  {
   "cell_type": "code",
   "execution_count": null,
   "metadata": {},
   "outputs": [],
   "source": []
  },
  {
   "cell_type": "code",
   "execution_count": null,
   "metadata": {},
   "outputs": [],
   "source": [
    "# here is an example of code commenting. The # symbol means everything on this line will be ignored \n"
   ]
  },
  {
   "cell_type": "markdown",
   "metadata": {},
   "source": [
    "Here is an example of markdown text. Because this cell is in markdown mode it will also be ignored by the python shell"
   ]
  },
  {
   "cell_type": "code",
   "execution_count": null,
   "metadata": {},
   "outputs": [],
   "source": []
  },
  {
   "cell_type": "markdown",
   "metadata": {},
   "source": [
    "## Preliminaries"
   ]
  },
  {
   "cell_type": "markdown",
   "metadata": {},
   "source": [
    "In our class github site, create a folder for yourself where you will submit your jupyter notebooks. The easiest way to do this is to create a new file that is a placeholder document in the new folder. You can delete it later."
   ]
  },
  {
   "cell_type": "markdown",
   "metadata": {},
   "source": [
    "## Warmup exercises"
   ]
  },
  {
   "cell_type": "markdown",
   "metadata": {},
   "source": [
    "As you are doing these exercises, get familiar with jupyter notebook commands \n",
    "https://towardsdatascience.com/jypyter-notebook-shortcuts-bf0101a98330\n",
    "\n",
    "and markdown text https://medium.com/@ingeh/markdown-for-jupyter-notebooks-cheatsheet-386c05aeebed\n",
    "\n",
    "These exercises are based on what you have learned previously. Feel free to go look at what you did in datacamp to figure out how to answer them."
   ]
  },
  {
   "cell_type": "markdown",
   "metadata": {},
   "source": [
    "**W.1** Define and assign values to three variables of the three types we learned about Monday: integer, floating point, string and boolian. \n",
    "\n",
    "Note you can add more cells below by pressing the + button above or typing [esc] to command mode, then [b] to enter a cell below, or [a] to enter a cell above. See the link above for more commands"
   ]
  },
  {
   "cell_type": "code",
   "execution_count": 1,
   "metadata": {},
   "outputs": [],
   "source": [
    "dog = 10\n",
    "cat = float(5)\n",
    "bird = True\n",
    "elephant = \"big\""
   ]
  },
  {
   "cell_type": "markdown",
   "metadata": {},
   "source": [
    "**W.2** Print out the value and check the type of each variable"
   ]
  },
  {
   "cell_type": "code",
   "execution_count": 2,
   "metadata": {},
   "outputs": [
    {
     "name": "stdout",
     "output_type": "stream",
     "text": [
      "<class 'int'>\n",
      "<class 'float'>\n",
      "<class 'bool'>\n",
      "<class 'str'>\n"
     ]
    }
   ],
   "source": [
    "print(type(dog))\n",
    "print(type(cat))\n",
    "print(type(bird))\n",
    "print(type(elephant))"
   ]
  },
  {
   "cell_type": "markdown",
   "metadata": {},
   "source": [
    "**W.3** Create a new variable that saves the value of the float variable as a string. Print it out"
   ]
  },
  {
   "cell_type": "code",
   "execution_count": 5,
   "metadata": {},
   "outputs": [
    {
     "name": "stdout",
     "output_type": "stream",
     "text": [
      "5.0\n"
     ]
    }
   ],
   "source": [
    "cat_string = str(cat)\n",
    "print(cat_string)"
   ]
  },
  {
   "cell_type": "markdown",
   "metadata": {},
   "source": [
    "**W.4** Using multiplication of a variable, print out the text \"Bueno Bueno Bueno Bueno Bueno\" (Shoutout to Monsieur Periné https://youtu.be/JGL-eQAAxGs see 10:45)"
   ]
  },
  {
   "cell_type": "code",
   "execution_count": 7,
   "metadata": {},
   "outputs": [
    {
     "name": "stdout",
     "output_type": "stream",
     "text": [
      "Bueno Bueno Bueno Bueno Bueno \n"
     ]
    }
   ],
   "source": [
    "print(\"Bueno \"*5)"
   ]
  },
  {
   "cell_type": "markdown",
   "metadata": {},
   "source": [
    "**W.5** Do the same thing using addtion"
   ]
  },
  {
   "cell_type": "code",
   "execution_count": 70,
   "metadata": {},
   "outputs": [
    {
     "name": "stdout",
     "output_type": "stream",
     "text": [
      "Bueno Bueno Bueno Bueno Bueno \n"
     ]
    }
   ],
   "source": [
    "print(\"Bueno \"+\"Bueno \"+\"Bueno \"+\"Bueno \"+\"Bueno \")"
   ]
  },
  {
   "cell_type": "markdown",
   "metadata": {},
   "source": [
    "**W.6** If you add an int and a float, what is the resulting variable type? Demonstrate"
   ]
  },
  {
   "cell_type": "code",
   "execution_count": 9,
   "metadata": {},
   "outputs": [
    {
     "name": "stdout",
     "output_type": "stream",
     "text": [
      "15.0\n",
      "<class 'float'>\n"
     ]
    }
   ],
   "source": [
    "print(cat+dog)\n",
    "print(type(cat+dog))"
   ]
  },
  {
   "cell_type": "markdown",
   "metadata": {},
   "source": [
    "**W.7** Can you convert a Boolian to an interger type variable? If so, what is the resulting value? What happens if you convert a float to an int?"
   ]
  },
  {
   "cell_type": "code",
   "execution_count": 12,
   "metadata": {},
   "outputs": [
    {
     "name": "stdout",
     "output_type": "stream",
     "text": [
      "1\n",
      "5\n"
     ]
    }
   ],
   "source": [
    "print(int(bird))\n",
    "print(int(cat))"
   ]
  },
  {
   "cell_type": "markdown",
   "metadata": {},
   "source": [
    "# Lab 1.2"
   ]
  },
  {
   "cell_type": "markdown",
   "metadata": {},
   "source": [
    "## Lab Exercises"
   ]
  },
  {
   "cell_type": "markdown",
   "metadata": {},
   "source": [
    "**E.1** Complete Ch 2 of Introduction to Python in datacamp. "
   ]
  },
  {
   "cell_type": "markdown",
   "metadata": {},
   "source": [
    "**E.2** Below you will spend time practicing what you have learned in Ch 2. Use a comination of code, code commenting, and markdown text to take notes. Make sure you investigate how python syntax works and understand what you are doing, and what went wrong if you have any issues. You can refer to this document later if you need to review, so give future you lots of commenting to be helpful."
   ]
  },
  {
   "cell_type": "markdown",
   "metadata": {},
   "source": [
    "**E.2.1** Let's work on lists, indexing and printing out elements of lists.\n",
    "\n",
    "We are going to calculate the BMI of five family members (or friends/colleaues if you have a small family, or famous people/politicians/atheletes if you really don't like talking to people, they just have to be adults and you need their data). Make intellegently named lists for the first name, last name, height, weight and age of each person. So, five lists in total."
   ]
  },
  {
   "cell_type": "code",
   "execution_count": 56,
   "metadata": {},
   "outputs": [],
   "source": [
    "first_name=[\"Sarah\",\"Keith\",\"Jean\",\"Katie\",\"Mom\"]\n",
    "last_name=[\"Brannum\",\"Brannum\",\"Brannum\",\"Brannum\",\"Brannum\"]\n",
    "height_in=[66,70,62,68,68]\n",
    "height=[0,0,0,0,0] #need to convert to metric units, which is done in the loops below\n",
    "weight=[0,0,0,0,0]\n",
    "for person in range(0,len(first_name)):\n",
    "    height[person]=height_in[person]*0.0254\n",
    "weight_lbs=[150,190,160,160,160]\n",
    "for person in range(0,len(first_name)):\n",
    "    weight[person]=weight_lbs[person]*0.45359237\n",
    "age=[25,33,27,22,63]\n",
    "#print(height)\n",
    "#print(weight)"
   ]
  },
  {
   "cell_type": "markdown",
   "metadata": {},
   "source": [
    "**E.2.2** Now create a new list that calculates the BMI of each person using the lists you created before"
   ]
  },
  {
   "cell_type": "code",
   "execution_count": 57,
   "metadata": {},
   "outputs": [
    {
     "name": "stdout",
     "output_type": "stream",
     "text": [
      "[24.210384973800252, 27.261881659477602, 29.264082399132544, 24.32766711554185, 24.32766711554185]\n"
     ]
    }
   ],
   "source": [
    "BMI=[0,0,0,0,0]\n",
    "#print(type(len(first_name)))\n",
    "for person in range(0,len(first_name)):\n",
    "    BMI[person]=float(weight[person]/(height[person]**2))\n",
    "print(BMI)\n",
    "#BMI[0]=weight[0]/(height[0]*height[0])\n",
    "#height_squared=height*height\n",
    "#print(height_squared)\n",
    "#BMI=weight/(height*height)\n",
    "#print(BMI)"
   ]
  },
  {
   "cell_type": "code",
   "execution_count": 21,
   "metadata": {},
   "outputs": [
    {
     "name": "stdout",
     "output_type": "stream",
     "text": [
      "<class 'float'>\n",
      "<class 'list'>\n"
     ]
    }
   ],
   "source": [
    "print(type(BMI[1]))\n",
    "print(type(BMI))\n",
    "#convert BMI to integers"
   ]
  },
  {
   "cell_type": "markdown",
   "metadata": {},
   "source": [
    "**E.2.3** Look up the weight classification of each person based on their BMI (what's a good source for this, who do you trust?). Create a new list with this information for each person. (Don't judge, we live in Louisiana, which is not known for health food.)"
   ]
  },
  {
   "cell_type": "code",
   "execution_count": null,
   "metadata": {},
   "outputs": [],
   "source": [
    "#I trusted the CDC for understanding BMI"
   ]
  },
  {
   "cell_type": "code",
   "execution_count": 35,
   "metadata": {},
   "outputs": [
    {
     "name": "stdout",
     "output_type": "stream",
     "text": [
      "<class 'int'>\n",
      "24.210384973800252\n",
      "<class 'int'>\n",
      "27.261881659477602\n",
      "<class 'int'>\n",
      "29.264082399132544\n",
      "<class 'int'>\n",
      "24.32766711554185\n",
      "<class 'int'>\n",
      "24.32766711554185\n"
     ]
    }
   ],
   "source": [
    "#me testing my loop\n",
    "for person in range(0,len(BMI)):\n",
    "    print(type(person))\n",
    "    print(BMI[person])"
   ]
  },
  {
   "cell_type": "code",
   "execution_count": 58,
   "metadata": {},
   "outputs": [
    {
     "name": "stdout",
     "output_type": "stream",
     "text": [
      "['normal weight', 'overweight', 'overweight', 'normal weight', 'normal weight']\n"
     ]
    }
   ],
   "source": [
    "#Underweight = BMI<18.5\n",
    "#Normal weight = 18.5<BMI<24.9\n",
    "#Overweight = 25<BMI<29.9\n",
    "#Obesity = 30<BMI<35\n",
    "#Severe obesity = 35<BMI\n",
    "weight_classification=[0,0,0,0,0]\n",
    "for person in range(0,len(BMI)):\n",
    "    if BMI[person]<18.5:\n",
    "        weight_classification[person]=\"underweight\"\n",
    "    elif BMI[person]>=18.5 and BMI[person]<24.9:\n",
    "        weight_classification[person]=\"normal weight\"\n",
    "    elif BMI[person]>=25 and BMI[person]<29.9:\n",
    "        weight_classification[person]=\"overweight\"\n",
    "    else:\n",
    "        weight_classification[person]=\"obese\"\n",
    "\n",
    "#print(weight_classification)"
   ]
  },
  {
   "cell_type": "code",
   "execution_count": 69,
   "metadata": {},
   "outputs": [
    {
     "name": "stdout",
     "output_type": "stream",
     "text": [
      "['Sarah', 'Brannum', 25, 1.6764, 68.0388555, 24.210384973800252, 'normal weight']\n",
      "['Keith', 'Brannum', 33, 1.778, 86.1825503, 27.261881659477602, 'overweight']\n",
      "['Jean', 'Brannum', 27, 1.5748, 72.57477920000001, 29.264082399132544, 'overweight']\n",
      "['Katie', 'Brannum', 22, 1.7271999999999998, 72.57477920000001, 24.32766711554185, 'normal weight']\n",
      "['Mom', 'Brannum', 63, 1.7271999999999998, 72.57477920000001, 24.32766711554185, 'normal weight']\n"
     ]
    },
    {
     "ename": "IndexError",
     "evalue": "list index out of range",
     "output_type": "error",
     "traceback": [
      "\u001b[1;31m---------------------------------------------------------------------------\u001b[0m",
      "\u001b[1;31mIndexError\u001b[0m                                Traceback (most recent call last)",
      "Cell \u001b[1;32mIn[69], line 2\u001b[0m\n\u001b[0;32m      1\u001b[0m \u001b[38;5;28;01mfor\u001b[39;00m person \u001b[38;5;129;01min\u001b[39;00m \u001b[38;5;28mrange\u001b[39m(\u001b[38;5;241m0\u001b[39m,\u001b[38;5;28mlen\u001b[39m(first_name)):\n\u001b[1;32m----> 2\u001b[0m     \u001b[38;5;28mprint\u001b[39m([first_name[person],last_name[person],age[person],height[person],weight[person],BMI[person],weight_classification[person]])\n",
      "\u001b[1;31mIndexError\u001b[0m: list index out of range"
     ]
    }
   ],
   "source": [
    "for person in range(0,len(first_name)):\n",
    "    print([first_name[person],last_name[person],age[person],height[person],weight[person],BMI[person],weight_classification[person]])"
   ]
  },
  {
   "cell_type": "markdown",
   "metadata": {},
   "source": [
    "**E.2.3** Let's practice some print statements and iterate manually through the people on your lists.\n",
    "\n",
    "For each person, print out something like: \"First_name last_name, age xx, has a height of xx units and weight of xx units, giving them a body mass index (BMI) of xx, making them yy\" where yy is if they are normal, obese, etc."
   ]
  },
  {
   "cell_type": "code",
   "execution_count": 59,
   "metadata": {},
   "outputs": [
    {
     "name": "stdout",
     "output_type": "stream",
     "text": [
      "Sarah Brannum, age 25, has height of 1.6764 meters and weight of 68.0388555 kg, giving them a body mass index (BMI) of 24.210384973800252, making them normal weight\n",
      "Keith Brannum, age 33, has height of 1.778 meters and weight of 86.1825503 kg, giving them a body mass index (BMI) of 27.261881659477602, making them overweight\n",
      "Jean Brannum, age 27, has height of 1.5748 meters and weight of 72.57477920000001 kg, giving them a body mass index (BMI) of 29.264082399132544, making them overweight\n",
      "Katie Brannum, age 22, has height of 1.7271999999999998 meters and weight of 72.57477920000001 kg, giving them a body mass index (BMI) of 24.32766711554185, making them normal weight\n",
      "Mom Brannum, age 63, has height of 1.7271999999999998 meters and weight of 72.57477920000001 kg, giving them a body mass index (BMI) of 24.32766711554185, making them normal weight\n"
     ]
    }
   ],
   "source": [
    "for person in range(len(first_name)):\n",
    "    print(first_name[person]+' '+last_name[person]+', age '+str(age[person])+', has height of '+str(height[person])+' meters and weight of '+str(weight[person])+' kg, giving them a body mass index (BMI) of '+str(BMI[person])+\", making them \"+weight_classification[person])"
   ]
  },
  {
   "cell_type": "markdown",
   "metadata": {},
   "source": [
    "**E.2.4** Now add/append your information to each of the lists, and do the same print statement for you. Make a resolution to eat more veggies."
   ]
  },
  {
   "cell_type": "code",
   "execution_count": 60,
   "metadata": {},
   "outputs": [
    {
     "name": "stdout",
     "output_type": "stream",
     "text": [
      "['sasquatch', 'the giant', 20, 1000, 2.5]\n"
     ]
    }
   ],
   "source": [
    "giant=['sasquatch','the giant',20,1000,(1000/(20*20))]\n",
    "print(giant)\n",
    "first_name.append(giant[0])\n",
    "last_name.append(giant[1])\n",
    "height.append(giant[2])\n",
    "weight.append(giant[3])\n",
    "BMI.append(giant[4])"
   ]
  },
  {
   "cell_type": "code",
   "execution_count": 61,
   "metadata": {},
   "outputs": [
    {
     "name": "stdout",
     "output_type": "stream",
     "text": [
      "['Sarah', 'Keith', 'Jean', 'Katie', 'Mom', 'sasquatch']\n",
      "['Brannum', 'Brannum', 'Brannum', 'Brannum', 'Brannum', 'the giant']\n",
      "[1.6764, 1.778, 1.5748, 1.7271999999999998, 1.7271999999999998, 20]\n",
      "[68.0388555, 86.1825503, 72.57477920000001, 72.57477920000001, 72.57477920000001, 1000]\n",
      "[24.210384973800252, 27.261881659477602, 29.264082399132544, 24.32766711554185, 24.32766711554185, 2.5]\n"
     ]
    }
   ],
   "source": [
    "print(first_name)\n",
    "print(last_name)\n",
    "print(height)\n",
    "print(weight)\n",
    "print(BMI)"
   ]
  },
  {
   "cell_type": "markdown",
   "metadata": {},
   "source": [
    "When you are done with your lab, upload this document to your github folder on the class site. Then submit a url link to the completed lab, along with a screenshot of your completed Ch 2 score in datacamp, to the assignment tab in Moodle."
   ]
  },
  {
   "cell_type": "code",
   "execution_count": null,
   "metadata": {},
   "outputs": [],
   "source": []
  },
  {
   "cell_type": "markdown",
   "metadata": {},
   "source": [
    "# Scratch"
   ]
  },
  {
   "cell_type": "code",
   "execution_count": 5,
   "metadata": {},
   "outputs": [],
   "source": [
    "# this is an area of the notebook you can mess around and test things out, if you don't want to put it above"
   ]
  },
  {
   "cell_type": "code",
   "execution_count": null,
   "metadata": {},
   "outputs": [],
   "source": []
  },
  {
   "cell_type": "code",
   "execution_count": null,
   "metadata": {},
   "outputs": [],
   "source": []
  }
 ],
 "metadata": {
  "kernelspec": {
   "display_name": "Python 3 (ipykernel)",
   "language": "python",
   "name": "python3"
  },
  "language_info": {
   "codemirror_mode": {
    "name": "ipython",
    "version": 3
   },
   "file_extension": ".py",
   "mimetype": "text/x-python",
   "name": "python",
   "nbconvert_exporter": "python",
   "pygments_lexer": "ipython3",
   "version": "3.11.7"
  }
 },
 "nbformat": 4,
 "nbformat_minor": 4
}
