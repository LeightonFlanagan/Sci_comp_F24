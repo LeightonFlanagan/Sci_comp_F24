{
 "cells": [
  {
   "cell_type": "markdown",
   "id": "tight-wildlife",
   "metadata": {},
   "source": [
    "Name Sarah Brannum"
   ]
  },
  {
   "cell_type": "markdown",
   "id": "distinct-appliance",
   "metadata": {},
   "source": [
    "Labpartner(s) Miriam"
   ]
  },
  {
   "cell_type": "code",
   "execution_count": 23,
   "id": "palestinian-convert",
   "metadata": {},
   "outputs": [],
   "source": [
    "# import statements go here\n",
    "import pandas as pd\n",
    "import numpy as np\n",
    "import matplotlib.pyplot as plt"
   ]
  },
  {
   "cell_type": "markdown",
   "id": "returning-carnival",
   "metadata": {},
   "source": [
    "# Class 13.2"
   ]
  },
  {
   "cell_type": "markdown",
   "id": "latter-injury",
   "metadata": {},
   "source": [
    "# Warmups 13.2"
   ]
  },
  {
   "cell_type": "markdown",
   "id": "alternative-north",
   "metadata": {},
   "source": [
    "**W.1 Pandas Practice** \n",
    "\n",
    "Create a pandas series from each of the items below: a list, numpy and a dictionary\n",
    "\n",
    "mylist = list('abcedfghijklmnopqrstuvwxyz')\n",
    "\n",
    "myarr = np.arange(26)\n",
    "\n",
    "mydict = dict(zip(mylist, myarr))"
   ]
  },
  {
   "cell_type": "code",
   "execution_count": 5,
   "id": "2c1078a6-5fdf-4883-9df9-58e7d2400178",
   "metadata": {},
   "outputs": [],
   "source": [
    "mylist = list('abcedfghijklmnopqrstuvwxyz')\n",
    "\n",
    "myarr = np.arange(26)\n",
    "\n",
    "mydict = dict(zip(mylist, myarr))"
   ]
  },
  {
   "cell_type": "code",
   "execution_count": 6,
   "id": "inner-finish",
   "metadata": {},
   "outputs": [],
   "source": [
    "list_data=pd.Series(mylist)"
   ]
  },
  {
   "cell_type": "code",
   "execution_count": 7,
   "id": "62ab25c0-8b14-4869-9675-a3c79b75559a",
   "metadata": {},
   "outputs": [],
   "source": [
    "array_data=pd.Series(myarr)"
   ]
  },
  {
   "cell_type": "code",
   "execution_count": 8,
   "id": "a6d141b9-d65f-461d-814b-b04cc7659dfd",
   "metadata": {},
   "outputs": [],
   "source": [
    "dict_data=pd.Series(mydict)"
   ]
  },
  {
   "cell_type": "markdown",
   "id": "d01d83b5-0624-45ff-89d4-03d8ee7ac8f1",
   "metadata": {},
   "source": [
    "**W.2 Pandas Practice con** \n",
    "\n",
    "Convert the series you just created into a dataframe with its index as another column on the dataframe."
   ]
  },
  {
   "cell_type": "code",
   "execution_count": 10,
   "id": "3df2ac46-de6e-4ef0-8b6a-356f33079545",
   "metadata": {},
   "outputs": [],
   "source": [
    "list_dataframe=list_data.to_frame()"
   ]
  },
  {
   "cell_type": "code",
   "execution_count": 11,
   "id": "2ba70051-3433-40ad-a00a-0d121057ee1c",
   "metadata": {},
   "outputs": [],
   "source": [
    "array_dataframe=array_data.to_frame()"
   ]
  },
  {
   "cell_type": "code",
   "execution_count": 12,
   "id": "d727f8fd-f0b9-422a-9026-a26f48bba09b",
   "metadata": {},
   "outputs": [],
   "source": [
    "dict_dataframe=dict_data.to_frame()"
   ]
  },
  {
   "cell_type": "markdown",
   "id": "6d74a1dc-8f91-455c-a5d6-9c16aa9df080",
   "metadata": {},
   "source": [
    "**W.3 Pandas Practice con** \n",
    "\n",
    "Combine two series to form a dataframe."
   ]
  },
  {
   "cell_type": "code",
   "execution_count": 18,
   "id": "59e7be0c-c1af-4cf4-9952-ab55c6647222",
   "metadata": {},
   "outputs": [],
   "source": [
    "big_dataframe=pd.DataFrame(list_data,array_data)"
   ]
  },
  {
   "cell_type": "code",
   "execution_count": 19,
   "id": "9b726966-14e6-43c8-b9d9-990696cc65e9",
   "metadata": {},
   "outputs": [
    {
     "name": "stdout",
     "output_type": "stream",
     "text": [
      "    0\n",
      "0   a\n",
      "1   b\n",
      "2   c\n",
      "3   e\n",
      "4   d\n",
      "5   f\n",
      "6   g\n",
      "7   h\n",
      "8   i\n",
      "9   j\n",
      "10  k\n",
      "11  l\n",
      "12  m\n",
      "13  n\n",
      "14  o\n",
      "15  p\n",
      "16  q\n",
      "17  r\n",
      "18  s\n",
      "19  t\n",
      "20  u\n",
      "21  v\n",
      "22  w\n",
      "23  x\n",
      "24  y\n",
      "25  z\n"
     ]
    }
   ],
   "source": [
    "print(big_dataframe)"
   ]
  },
  {
   "cell_type": "markdown",
   "id": "df53b8c5-06cd-40bd-a7cd-9f99cbeff8f5",
   "metadata": {},
   "source": [
    "**W.4 Pandas Practice con**\n",
    "\n",
    "Compute the minimum, 25th percentile, median, 75th, and maximum of the following series:\n",
    "\n",
    "ser = pd.Series(np.random.normal(10, 5, 25))\n",
    "\n",
    "What kind of distribution is this?\n"
   ]
  },
  {
   "cell_type": "code",
   "execution_count": 20,
   "id": "2cbe1b40-c864-458b-8423-ee4bbd1cd19c",
   "metadata": {},
   "outputs": [],
   "source": [
    "ser = pd.Series(np.random.normal(10, 5, 25))"
   ]
  },
  {
   "cell_type": "code",
   "execution_count": 27,
   "id": "372cc53e-b9f4-4751-a8e2-d12c4d06afa2",
   "metadata": {},
   "outputs": [
    {
     "name": "stdout",
     "output_type": "stream",
     "text": [
      "25th percentile 5.993388097086955\n",
      "50th percentile 10.718936651338542\n",
      "75th percentile 14.558303468768766\n",
      "maximum 20.309082063697808\n"
     ]
    }
   ],
   "source": [
    "# 25th percentile\n",
    "ser_25=ser.quantile(0.25)\n",
    "print(f'25th percentile {ser_25}')\n",
    "# median\n",
    "ser_50=ser.quantile(0.5)\n",
    "print(f'50th percentile {ser_50}')\n",
    "\n",
    "# 75th percentile\n",
    "ser_75=ser.quantile(0.75)\n",
    "print(f'75th percentile {ser_75}')\n",
    "\n",
    "# maximum\n",
    "ser_max=np.max(ser)\n",
    "print(f'maximum {ser_max}')\n"
   ]
  },
  {
   "cell_type": "code",
   "execution_count": 24,
   "id": "eb1a16a9-8d77-48c8-a948-d07e7b0781b8",
   "metadata": {},
   "outputs": [
    {
     "data": {
      "image/png": "[encoded data removed]",
      "text/plain": [
       "<Figure size 640x480 with 1 Axes>"
      ]
     },
     "metadata": {},
     "output_type": "display_data"
    }
   ],
   "source": [
    "plt.hist(ser)\n",
    "plt.show()"
   ]
  },
  {
   "cell_type": "markdown",
   "id": "c2a68806-f937-4882-bf76-8479e853ed3c",
   "metadata": {},
   "source": [
    "This distribution looks like a bimodal distribution since there are 2 peaks that are pronounced in the distribution."
   ]
  },
  {
   "cell_type": "markdown",
   "id": "weird-james",
   "metadata": {},
   "source": [
    "# Lecture 13.1\n",
    "\n",
    "## Agenda:\n",
    "- Machine Learning in Scikit learn Ch 3-4"
   ]
  },
  {
   "cell_type": "markdown",
   "id": "bd3dc77a-2ca9-40ff-9f48-34ae16ad4e6c",
   "metadata": {},
   "source": [
    "# Lab 13.1"
   ]
  },
  {
   "cell_type": "markdown",
   "id": "95b2665a-c014-4cd1-aba7-b15022fa7ef0",
   "metadata": {},
   "source": [
    "#### E.0 Complete the previous labs if you are behind."
   ]
  },
  {
   "cell_type": "markdown",
   "id": "6e31b762-f054-4d70-bd58-58a66711f453",
   "metadata": {},
   "source": [
    "#### E.1 Complete Ch 3-4 of \"Supervised Learning with scikit-learn\". Don't forget to turn in your scores"
   ]
  },
  {
   "cell_type": "code",
   "execution_count": null,
   "id": "fd5499c6-7c80-42e7-9f64-9a00e206893a",
   "metadata": {},
   "outputs": [],
   "source": []
  },
  {
   "cell_type": "markdown",
   "id": "30d82416-9655-4024-ac9d-fd49e12c6182",
   "metadata": {},
   "source": [
    "**Notes** Make notes for yourself on progamming tecniques and commands you learned in the this week, including examples, comments and explainitory text. You can do this here or in a separate notebook that you link to here. Basically, you are making a cheat sheet for yourself."
   ]
  },
  {
   "cell_type": "code",
   "execution_count": null,
   "id": "f63d1c53-65da-4043-a168-cec52ea76ced",
   "metadata": {},
   "outputs": [],
   "source": []
  },
  {
   "cell_type": "markdown",
   "id": "ded98577-1d87-4f3e-a630-6074f646c977",
   "metadata": {},
   "source": [
    "#### E.2 Work on your final project"
   ]
  },
  {
   "cell_type": "code",
   "execution_count": null,
   "id": "74617577-1e8c-41cf-afd5-ee671021c54c",
   "metadata": {},
   "outputs": [],
   "source": []
  }
 ],
 "metadata": {
  "kernelspec": {
   "display_name": "Python 3 (ipykernel)",
   "language": "python",
   "name": "python3"
  },
  "language_info": {
   "codemirror_mode": {
    "name": "ipython",
    "version": 3
   },
   "file_extension": ".py",
   "mimetype": "text/x-python",
   "name": "python",
   "nbconvert_exporter": "python",
   "pygments_lexer": "ipython3",
   "version": "3.11.7"
  }
 },
 "nbformat": 4,
 "nbformat_minor": 5
}
