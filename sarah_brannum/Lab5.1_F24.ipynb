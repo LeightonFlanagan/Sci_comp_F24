{
 "cells": [
  {
   "cell_type": "markdown",
   "id": "absolute-chess",
   "metadata": {},
   "source": [
    "Name Sarah Brannum"
   ]
  },
  {
   "cell_type": "markdown",
   "id": "fitting-blind",
   "metadata": {},
   "source": [
    "Labpartner(s)"
   ]
  },
  {
   "cell_type": "code",
   "execution_count": 22,
   "id": "described-england",
   "metadata": {},
   "outputs": [],
   "source": [
    "# import statements go here\n",
    "import numpy as np\n",
    "import matplotlib as plt"
   ]
  },
  {
   "cell_type": "markdown",
   "id": "ranking-telephone",
   "metadata": {},
   "source": [
    "# Class 5.1"
   ]
  },
  {
   "cell_type": "markdown",
   "id": "opponent-producer",
   "metadata": {},
   "source": [
    "# Warmups 5.1"
   ]
  },
  {
   "cell_type": "markdown",
   "id": "prompt-shade",
   "metadata": {},
   "source": [
    "**W.1** Go through 1.4.1.2 Creating Arrays in the scipy lecture notes, including the exercises. http://scipy-lectures.org/intro/numpy/array_object.html#id2"
   ]
  },
  {
   "cell_type": "code",
   "execution_count": 11,
   "id": "french-briefing",
   "metadata": {},
   "outputs": [
    {
     "name": "stdout",
     "output_type": "stream",
     "text": [
      "2\n",
      "(2, 5)\n",
      "2\n"
     ]
    }
   ],
   "source": [
    "a = np.array([0, 1, 2, 3]) #1D\n",
    "b = np.array([[0, 1, 2], [3, 4, 5]]) #2D\n",
    "c = np.array([[[1], [2]], [[3], [4]]]) #3D\n",
    "\n",
    "practice= np.array([[9,7,5,3,1],[8,6,4,2,0]])\n",
    "\n",
    "print(len(practice)) #gives you the number of rows in numpy array\n",
    "print(np.shape(practice)) #tells you both rows and columns in numpy array\n",
    "print(np.ndim(practice)) #gives you just the rows of the numpy array"
   ]
  },
  {
   "cell_type": "code",
   "execution_count": 9,
   "id": "6dffaff5-174d-4325-98ea-93b290593412",
   "metadata": {},
   "outputs": [
    {
     "data": {
      "text/plain": [
       "['T',\n",
       " '__abs__',\n",
       " '__add__',\n",
       " '__and__',\n",
       " '__array__',\n",
       " '__array_finalize__',\n",
       " '__array_function__',\n",
       " '__array_interface__',\n",
       " '__array_prepare__',\n",
       " '__array_priority__',\n",
       " '__array_struct__',\n",
       " '__array_ufunc__',\n",
       " '__array_wrap__',\n",
       " '__bool__',\n",
       " '__class__',\n",
       " '__class_getitem__',\n",
       " '__complex__',\n",
       " '__contains__',\n",
       " '__copy__',\n",
       " '__deepcopy__',\n",
       " '__delattr__',\n",
       " '__delitem__',\n",
       " '__dir__',\n",
       " '__divmod__',\n",
       " '__dlpack__',\n",
       " '__dlpack_device__',\n",
       " '__doc__',\n",
       " '__eq__',\n",
       " '__float__',\n",
       " '__floordiv__',\n",
       " '__format__',\n",
       " '__ge__',\n",
       " '__getattribute__',\n",
       " '__getitem__',\n",
       " '__getstate__',\n",
       " '__gt__',\n",
       " '__hash__',\n",
       " '__iadd__',\n",
       " '__iand__',\n",
       " '__ifloordiv__',\n",
       " '__ilshift__',\n",
       " '__imatmul__',\n",
       " '__imod__',\n",
       " '__imul__',\n",
       " '__index__',\n",
       " '__init__',\n",
       " '__init_subclass__',\n",
       " '__int__',\n",
       " '__invert__',\n",
       " '__ior__',\n",
       " '__ipow__',\n",
       " '__irshift__',\n",
       " '__isub__',\n",
       " '__iter__',\n",
       " '__itruediv__',\n",
       " '__ixor__',\n",
       " '__le__',\n",
       " '__len__',\n",
       " '__lshift__',\n",
       " '__lt__',\n",
       " '__matmul__',\n",
       " '__mod__',\n",
       " '__mul__',\n",
       " '__ne__',\n",
       " '__neg__',\n",
       " '__new__',\n",
       " '__or__',\n",
       " '__pos__',\n",
       " '__pow__',\n",
       " '__radd__',\n",
       " '__rand__',\n",
       " '__rdivmod__',\n",
       " '__reduce__',\n",
       " '__reduce_ex__',\n",
       " '__repr__',\n",
       " '__rfloordiv__',\n",
       " '__rlshift__',\n",
       " '__rmatmul__',\n",
       " '__rmod__',\n",
       " '__rmul__',\n",
       " '__ror__',\n",
       " '__rpow__',\n",
       " '__rrshift__',\n",
       " '__rshift__',\n",
       " '__rsub__',\n",
       " '__rtruediv__',\n",
       " '__rxor__',\n",
       " '__setattr__',\n",
       " '__setitem__',\n",
       " '__setstate__',\n",
       " '__sizeof__',\n",
       " '__str__',\n",
       " '__sub__',\n",
       " '__subclasshook__',\n",
       " '__truediv__',\n",
       " '__xor__',\n",
       " 'all',\n",
       " 'any',\n",
       " 'argmax',\n",
       " 'argmin',\n",
       " 'argpartition',\n",
       " 'argsort',\n",
       " 'astype',\n",
       " 'base',\n",
       " 'byteswap',\n",
       " 'choose',\n",
       " 'clip',\n",
       " 'compress',\n",
       " 'conj',\n",
       " 'conjugate',\n",
       " 'copy',\n",
       " 'ctypes',\n",
       " 'cumprod',\n",
       " 'cumsum',\n",
       " 'data',\n",
       " 'diagonal',\n",
       " 'dot',\n",
       " 'dtype',\n",
       " 'dump',\n",
       " 'dumps',\n",
       " 'fill',\n",
       " 'flags',\n",
       " 'flat',\n",
       " 'flatten',\n",
       " 'getfield',\n",
       " 'imag',\n",
       " 'item',\n",
       " 'itemset',\n",
       " 'itemsize',\n",
       " 'max',\n",
       " 'mean',\n",
       " 'min',\n",
       " 'nbytes',\n",
       " 'ndim',\n",
       " 'newbyteorder',\n",
       " 'nonzero',\n",
       " 'partition',\n",
       " 'prod',\n",
       " 'ptp',\n",
       " 'put',\n",
       " 'ravel',\n",
       " 'real',\n",
       " 'repeat',\n",
       " 'reshape',\n",
       " 'resize',\n",
       " 'round',\n",
       " 'searchsorted',\n",
       " 'setfield',\n",
       " 'setflags',\n",
       " 'shape',\n",
       " 'size',\n",
       " 'sort',\n",
       " 'squeeze',\n",
       " 'std',\n",
       " 'strides',\n",
       " 'sum',\n",
       " 'swapaxes',\n",
       " 'take',\n",
       " 'tobytes',\n",
       " 'tofile',\n",
       " 'tolist',\n",
       " 'tostring',\n",
       " 'trace',\n",
       " 'transpose',\n",
       " 'var',\n",
       " 'view']"
      ]
     },
     "execution_count": 9,
     "metadata": {},
     "output_type": "execute_result"
    }
   ],
   "source": [
    "dir(practice)"
   ]
  },
  {
   "cell_type": "code",
   "execution_count": 14,
   "id": "bfd8df8a-0071-4588-b4e5-8ab5b134eea0",
   "metadata": {},
   "outputs": [
    {
     "name": "stdout",
     "output_type": "stream",
     "text": [
      "[ 1  3  5  7  9 11 13]\n",
      "[ 1.  3.  5.  7.  9. 11. 13. 15.]\n",
      "[[1. 1. 1. 1.]\n",
      " [1. 1. 1. 1.]\n",
      " [1. 1. 1. 1.]\n",
      " [1. 1. 1. 1.]\n",
      " [1. 1. 1. 1.]]\n",
      "[[0. 0. 0. 0.]\n",
      " [0. 0. 0. 0.]\n",
      " [0. 0. 0. 0.]\n",
      " [0. 0. 0. 0.]\n",
      " [0. 0. 0. 0.]]\n",
      "[[1. 0. 0. 0.]\n",
      " [0. 1. 0. 0.]\n",
      " [0. 0. 1. 0.]\n",
      " [0. 0. 0. 1.]\n",
      " [0. 0. 0. 0.]]\n",
      "[[4 0 0 0]\n",
      " [0 7 0 0]\n",
      " [0 0 3 0]\n",
      " [0 0 0 6]]\n"
     ]
    }
   ],
   "source": [
    "#practice with creating arrays with different attributes\n",
    "d=np.arange(1,15,2)\n",
    "print(d)\n",
    "e=np.linspace(1,15,8)\n",
    "print(e)\n",
    "f=np.ones((5,4)) #rows, columns\n",
    "print(f)\n",
    "g=np.zeros((5,4))\n",
    "print(g)\n",
    "h=np.eye(5,4)\n",
    "print(h)\n",
    "i=np.diag([4,7,3,6])\n",
    "print(i)\n"
   ]
  },
  {
   "cell_type": "markdown",
   "id": "9e2f33cc-7319-471e-9609-3030c621a832",
   "metadata": {},
   "source": [
    "rand creates matrix of random numbers from 0-1, while randn creates random matrix of a gaussian curve that includes negative numbers too\n"
   ]
  },
  {
   "cell_type": "code",
   "execution_count": 19,
   "id": "fd1f6b78-2ad3-415f-84d5-d09b05ed6a1f",
   "metadata": {},
   "outputs": [
    {
     "name": "stdout",
     "output_type": "stream",
     "text": [
      "[[0.65358959 0.11500694 0.95028286 0.4821914 ]\n",
      " [0.87247454 0.21233268 0.04070962 0.39719446]\n",
      " [0.2331322  0.84174072 0.20708234 0.74246953]\n",
      " [0.39215413 0.18225652 0.74353941 0.06958208]\n",
      " [0.8853372  0.9526444  0.93114343 0.41543095]]\n",
      "[[ 1.27179528 -0.98674733 -0.33483545 -0.0994817 ]\n",
      " [ 0.4071921   0.91938754  0.31211801  1.53316107]\n",
      " [-0.55017387 -0.38314741 -0.82294096  1.60008337]\n",
      " [-0.0692813   0.08320949 -0.32692468 -0.04579719]\n",
      " [-0.30446006  1.92301013 -0.078659   -0.58206572]]\n"
     ]
    }
   ],
   "source": [
    "#random numbers\n",
    "np.random.seed(1000) #this line will produce the same random integers when run many times, allowing for reproducibility in random runs\n",
    "j=np.random.rand(5,4) #rows by columns\n",
    "print(j)\n",
    "\n",
    "k=np.random.randn(5,4)\n",
    "print(k)"
   ]
  },
  {
   "cell_type": "markdown",
   "id": "e4ef16b4-39e3-40e8-9ba8-ad0d3b0d6bc5",
   "metadata": {},
   "source": [
    "np.empty gives an array of random values of a specified shape\n",
    "It would be useful when creating a matrix that will be populated by specific data. It almost acts as a matrix that is empty that you can change the numbers as you go. An example would be to create an np.empty of a specific shape, and then have your code loop through and add a number at a given point for each iteration of the loop."
   ]
  },
  {
   "cell_type": "code",
   "execution_count": 21,
   "id": "f8a5776f-4fe7-491d-91ae-093b141d729c",
   "metadata": {},
   "outputs": [
    {
     "data": {
      "text/plain": [
       "array([[1.27179528, 0.98674733, 0.33483545, 0.0994817 ],\n",
       "       [0.4071921 , 0.91938754, 0.31211801, 1.53316107],\n",
       "       [0.55017387, 0.38314741, 0.82294096, 1.60008337],\n",
       "       [0.0692813 , 0.08320949, 0.32692468, 0.04579719],\n",
       "       [0.30446006, 1.92301013, 0.078659  , 0.58206572]])"
      ]
     },
     "execution_count": 21,
     "metadata": {},
     "output_type": "execute_result"
    }
   ],
   "source": [
    "np.empty([5,4])"
   ]
  },
  {
   "cell_type": "markdown",
   "id": "mobile-swaziland",
   "metadata": {},
   "source": [
    "# Lecture 5.1"
   ]
  },
  {
   "cell_type": "markdown",
   "id": "headed-flexibility",
   "metadata": {},
   "source": [
    "### Agenda:\n",
    "\n",
    "- Programming questions\n",
    "- Examples of for loops"
   ]
  },
  {
   "cell_type": "markdown",
   "id": "heated-start",
   "metadata": {},
   "source": []
  },
  {
   "cell_type": "markdown",
   "id": "buried-mention",
   "metadata": {},
   "source": [
    "# Lab 5.1"
   ]
  },
  {
   "cell_type": "markdown",
   "id": "meaningful-carnival",
   "metadata": {},
   "source": [
    "**E.1** Complete Lab 4.2 if you haven't allready\n"
   ]
  },
  {
   "cell_type": "markdown",
   "id": "superior-hybrid",
   "metadata": {},
   "source": [
    "**E.2** Complete intermediate python chapter 5: Case study on hacker statistics\n"
   ]
  },
  {
   "cell_type": "markdown",
   "id": "formed-adult",
   "metadata": {},
   "source": [
    "**E.3** Make notes for yourself on progamming tecniques and commands you learned in the datacamp chapter above, including examples, comments and explainitory text. You can do this here or in a separate notebook that you link to here. Basically, you are making a cheat sheet for yourself."
   ]
  },
  {
   "cell_type": "code",
   "execution_count": null,
   "id": "static-drain",
   "metadata": {},
   "outputs": [],
   "source": [
    "# notes: \n",
    "# -random walk = combination of random steps"
   ]
  },
  {
   "cell_type": "markdown",
   "id": "composed-neighbor",
   "metadata": {},
   "source": [
    "### Congratulations! অভিনন্দন 恭喜 ¡Felicidades! You finished Intermediate Python!"
   ]
  },
  {
   "cell_type": "code",
   "execution_count": null,
   "id": "active-drinking",
   "metadata": {},
   "outputs": [],
   "source": []
  }
 ],
 "metadata": {
  "kernelspec": {
   "display_name": "Python 3 (ipykernel)",
   "language": "python",
   "name": "python3"
  },
  "language_info": {
   "codemirror_mode": {
    "name": "ipython",
    "version": 3
   },
   "file_extension": ".py",
   "mimetype": "text/x-python",
   "name": "python",
   "nbconvert_exporter": "python",
   "pygments_lexer": "ipython3",
   "version": "3.11.7"
  }
 },
 "nbformat": 4,
 "nbformat_minor": 5
}
