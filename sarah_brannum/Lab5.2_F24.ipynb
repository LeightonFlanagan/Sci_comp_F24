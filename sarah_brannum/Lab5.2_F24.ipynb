{
 "cells": [
  {
   "cell_type": "markdown",
   "id": "existing-kelly",
   "metadata": {},
   "source": [
    "Name Sarah Brannum"
   ]
  },
  {
   "cell_type": "markdown",
   "id": "functioning-current",
   "metadata": {},
   "source": [
    "Labpartner(s) N/A- absent from class"
   ]
  },
  {
   "cell_type": "code",
   "execution_count": 114,
   "id": "republican-appearance",
   "metadata": {},
   "outputs": [],
   "source": [
    "#import statements go here\n",
    "import numpy as np\n",
    "import matplotlib as plt"
   ]
  },
  {
   "cell_type": "markdown",
   "id": "rising-queue",
   "metadata": {},
   "source": [
    "# Class 5.2"
   ]
  },
  {
   "cell_type": "markdown",
   "id": "powerful-lyric",
   "metadata": {},
   "source": [
    "In this lab you will learn about functions, and apply this to your datasets. Next week we will have present your work day again, see below for details. Hopefully the material is building to the point where it is not all foriegn and you will feel a bit more confident."
   ]
  },
  {
   "cell_type": "markdown",
   "id": "contrary-communications",
   "metadata": {},
   "source": [
    "# Warmups 5.2"
   ]
  },
  {
   "cell_type": "markdown",
   "id": "e016e8c3-69ef-40f4-a99d-6f9c92044dab",
   "metadata": {},
   "source": [
    "Let's practice for loops and logical control"
   ]
  },
  {
   "cell_type": "markdown",
   "id": "critical-cooperation",
   "metadata": {},
   "source": [
    "**W.1** Complete practice python (practicepython.org) Exercise 4:\n",
    "\n",
    "Create a program that asks the user for a number and then prints out a list of all the divisors of that number. (If you don’t know what a divisor is, it is a number that divides evenly into another number. For example, 13 is a divisor of 26 because 26 / 13 has no remainder.)"
   ]
  },
  {
   "cell_type": "code",
   "execution_count": 4,
   "id": "stone-majority",
   "metadata": {},
   "outputs": [
    {
     "name": "stdout",
     "output_type": "stream",
     "text": [
      "1\n",
      "5\n",
      "11\n"
     ]
    }
   ],
   "source": [
    "number=55\n",
    "for i in range(1,number):\n",
    "    if number%i==0:\n",
    "        print(i)"
   ]
  },
  {
   "cell_type": "markdown",
   "id": "3712c86b-643c-4778-b6be-cea2d71727f2",
   "metadata": {},
   "source": [
    "**W.2** Complete practice python Exercise 5: \n",
    "\n",
    "Take two lists, say for example these two:\n",
    "\n",
    "  a = [1, 1, 2, 3, 5, 8, 13, 21, 34, 55, 89]\n",
    "\n",
    "  b = [1, 2, 3, 4, 5, 6, 7, 8, 9, 10, 11, 12, 13]\n",
    "\n",
    "and write a program that returns a list that contains only the elements that are common between the lists (without duplicates). Make sure your program works on two lists of different sizes.\n",
    "\n",
    "Extras:\n",
    "\n",
    "Randomly generate two lists to test this\n",
    "\n",
    "Write this in one line of Python (don’t worry if you can’t figure this out at this point)"
   ]
  },
  {
   "cell_type": "code",
   "execution_count": 5,
   "id": "fdf675cc-c252-4981-be92-1db2f54150d5",
   "metadata": {},
   "outputs": [
    {
     "name": "stdout",
     "output_type": "stream",
     "text": [
      "1\n",
      "1\n",
      "2\n",
      "3\n",
      "5\n",
      "8\n",
      "13\n"
     ]
    }
   ],
   "source": [
    "a = [1, 1, 2, 3, 5, 8, 13, 21, 34, 55, 89]\n",
    "\n",
    "b = [1, 2, 3, 4, 5, 6, 7, 8, 9, 10, 11, 12, 13]\n",
    "\n",
    "for item in a:\n",
    "    if item in b:\n",
    "        print(item)"
   ]
  },
  {
   "cell_type": "markdown",
   "id": "activated-arbitration",
   "metadata": {},
   "source": [
    "# Lecture 5.2\n",
    "\n",
    "### Agenda:\n",
    "\n",
    "- Questions\n",
    "- Functions!\n"
   ]
  },
  {
   "cell_type": "markdown",
   "id": "effective-career",
   "metadata": {},
   "source": [
    "### Questions"
   ]
  },
  {
   "cell_type": "code",
   "execution_count": null,
   "id": "suffering-selection",
   "metadata": {},
   "outputs": [],
   "source": []
  },
  {
   "cell_type": "markdown",
   "id": "photographic-injection",
   "metadata": {},
   "source": [
    "### Functions\n",
    "\n",
    "Functions are super-useful for doing repetative tasks. You have been using pre-defined functions constantly, when you define arrays, make a plot, or analyse data. Now you are going to learn to write your own.\n",
    "\n",
    "For more information on functions and documenting:\n",
    "- http://scipy-lectures.org/intro/language/functions.html?highlight=functions\n",
    "- https://realpython.com/documenting-python-code/\n",
    "\n",
    "\n",
    "Basic syntax:"
   ]
  },
  {
   "cell_type": "code",
   "execution_count": 6,
   "id": "absolute-canada",
   "metadata": {},
   "outputs": [],
   "source": [
    "# first you define the function\n",
    "\n",
    "def function_name():\n",
    "    # some code that does something\n",
    "    print('Inside the function')"
   ]
  },
  {
   "cell_type": "code",
   "execution_count": 7,
   "id": "unable-personal",
   "metadata": {},
   "outputs": [
    {
     "name": "stdout",
     "output_type": "stream",
     "text": [
      "Inside the function\n"
     ]
    }
   ],
   "source": [
    "# then you call the function\n",
    "function_name()"
   ]
  },
  {
   "cell_type": "markdown",
   "id": "about-voice",
   "metadata": {},
   "source": [
    "Note that defined funtions show up using whos"
   ]
  },
  {
   "cell_type": "code",
   "execution_count": 8,
   "id": "sound-intellectual",
   "metadata": {},
   "outputs": [
    {
     "name": "stdout",
     "output_type": "stream",
     "text": [
      "Variable        Type        Data/Info\n",
      "-------------------------------------\n",
      "a               list        n=11\n",
      "b               list        n=13\n",
      "function_name   function    <function function_name at 0x00000210B4278860>\n",
      "i               int         54\n",
      "item            int         89\n",
      "np              module      <module 'numpy' from 'C:\\<...>ges\\\\numpy\\\\__init__.py'>\n",
      "number          int         55\n",
      "plt             module      <module 'matplotlib' from<...>matplotlib\\\\__init__.py'>\n"
     ]
    }
   ],
   "source": [
    "whos"
   ]
  },
  {
   "cell_type": "markdown",
   "id": "standing-constant",
   "metadata": {},
   "source": [
    "That's a really useless function, let's make a better one."
   ]
  },
  {
   "cell_type": "code",
   "execution_count": 9,
   "id": "voluntary-particle",
   "metadata": {},
   "outputs": [],
   "source": [
    "# usually you want to pass a varible of some sort to the function to manipulate\n",
    "\n",
    "def circle_area(radius):\n",
    "    area = 3.14*radius**2\n",
    "    return area   # the return statement means that the function will return that variable"
   ]
  },
  {
   "cell_type": "code",
   "execution_count": 10,
   "id": "noble-right",
   "metadata": {},
   "outputs": [
    {
     "data": {
      "text/plain": [
       "78.5"
      ]
     },
     "execution_count": 10,
     "metadata": {},
     "output_type": "execute_result"
    }
   ],
   "source": [
    "circle_area(5)"
   ]
  },
  {
   "cell_type": "markdown",
   "id": "little-numbers",
   "metadata": {},
   "source": [
    "What happens if I don't add the required input?"
   ]
  },
  {
   "cell_type": "markdown",
   "id": "c70e3df3-c8ec-44e6-919c-45d446124771",
   "metadata": {},
   "source": [
    "There is an error!"
   ]
  },
  {
   "cell_type": "code",
   "execution_count": 11,
   "id": "isolated-turning",
   "metadata": {},
   "outputs": [
    {
     "ename": "TypeError",
     "evalue": "circle_area() missing 1 required positional argument: 'radius'",
     "output_type": "error",
     "traceback": [
      "\u001b[1;31m---------------------------------------------------------------------------\u001b[0m",
      "\u001b[1;31mTypeError\u001b[0m                                 Traceback (most recent call last)",
      "Cell \u001b[1;32mIn[11], line 1\u001b[0m\n\u001b[1;32m----> 1\u001b[0m circle_area()\n",
      "\u001b[1;31mTypeError\u001b[0m: circle_area() missing 1 required positional argument: 'radius'"
     ]
    }
   ],
   "source": [
    "circle_area()"
   ]
  },
  {
   "cell_type": "markdown",
   "id": "removed-black",
   "metadata": {},
   "source": [
    "What happens if I omit the return statement?"
   ]
  },
  {
   "cell_type": "markdown",
   "id": "451edea4-c0c1-481b-9ce7-d47249515cbe",
   "metadata": {},
   "source": [
    "Nothing happens when the function is complete"
   ]
  },
  {
   "cell_type": "code",
   "execution_count": 12,
   "id": "traditional-drain",
   "metadata": {},
   "outputs": [],
   "source": [
    "def circle_area2(radius):\n",
    "    area = 3.14*radius**2"
   ]
  },
  {
   "cell_type": "code",
   "execution_count": 13,
   "id": "falling-committee",
   "metadata": {},
   "outputs": [],
   "source": [
    "circle_area2(5)"
   ]
  },
  {
   "cell_type": "markdown",
   "id": "retired-converter",
   "metadata": {},
   "source": [
    "How do I save the function output to a variable?"
   ]
  },
  {
   "cell_type": "markdown",
   "id": "eeaf5f4c-8ebc-4062-9db5-e13f62a9d807",
   "metadata": {},
   "source": [
    "If you omit the return statement, nothing happens!\n",
    "to save the function output as a variable, just set the function code equal to the variables\n",
    "    EX dog=circle_area2(5)"
   ]
  },
  {
   "cell_type": "markdown",
   "id": "enabling-mainland",
   "metadata": {},
   "source": [
    "Does the area variable inside the function exist outside of it?"
   ]
  },
  {
   "cell_type": "markdown",
   "id": "b277d05e-2964-47f6-8e53-5bbdd0d585cd",
   "metadata": {},
   "source": [
    "No it does not save the variable inside the function unless you set it when you use the function (see example above)"
   ]
  },
  {
   "cell_type": "code",
   "execution_count": 14,
   "id": "informative-wallpaper",
   "metadata": {},
   "outputs": [
    {
     "name": "stdout",
     "output_type": "stream",
     "text": [
      "Variable        Type        Data/Info\n",
      "-------------------------------------\n",
      "a               list        n=11\n",
      "b               list        n=13\n",
      "circle_area     function    <function circle_area at 0x00000210B4278AE0>\n",
      "circle_area2    function    <function circle_area2 at 0x00000210B4279300>\n",
      "function_name   function    <function function_name at 0x00000210B4278860>\n",
      "i               int         54\n",
      "item            int         89\n",
      "np              module      <module 'numpy' from 'C:\\<...>ges\\\\numpy\\\\__init__.py'>\n",
      "number          int         55\n",
      "plt             module      <module 'matplotlib' from<...>matplotlib\\\\__init__.py'>\n"
     ]
    }
   ],
   "source": [
    "whos"
   ]
  },
  {
   "cell_type": "code",
   "execution_count": 15,
   "id": "productive-ethiopia",
   "metadata": {},
   "outputs": [
    {
     "ename": "NameError",
     "evalue": "name 'area' is not defined",
     "output_type": "error",
     "traceback": [
      "\u001b[1;31m---------------------------------------------------------------------------\u001b[0m",
      "\u001b[1;31mNameError\u001b[0m                                 Traceback (most recent call last)",
      "Cell \u001b[1;32mIn[15], line 1\u001b[0m\n\u001b[1;32m----> 1\u001b[0m area\n",
      "\u001b[1;31mNameError\u001b[0m: name 'area' is not defined"
     ]
    }
   ],
   "source": [
    "area"
   ]
  },
  {
   "cell_type": "markdown",
   "id": "arctic-vinyl",
   "metadata": {},
   "source": [
    "Note I also could have made my function like this:"
   ]
  },
  {
   "cell_type": "code",
   "execution_count": 16,
   "id": "visible-annex",
   "metadata": {},
   "outputs": [],
   "source": [
    "def circle_area4(radius):\n",
    "    return 3.14*radius**2"
   ]
  },
  {
   "cell_type": "code",
   "execution_count": 17,
   "id": "narrow-forward",
   "metadata": {},
   "outputs": [
    {
     "data": {
      "text/plain": [
       "78.5"
      ]
     },
     "execution_count": 17,
     "metadata": {},
     "output_type": "execute_result"
    }
   ],
   "source": [
    "circle_area4(5)"
   ]
  },
  {
   "cell_type": "code",
   "execution_count": 18,
   "id": "plain-exchange",
   "metadata": {},
   "outputs": [
    {
     "data": {
      "text/plain": [
       "78.5"
      ]
     },
     "execution_count": 18,
     "metadata": {},
     "output_type": "execute_result"
    }
   ],
   "source": [
    "circle_area4(-5)"
   ]
  },
  {
   "cell_type": "markdown",
   "id": "neither-forty",
   "metadata": {},
   "source": [
    "### Parsing for bad input"
   ]
  },
  {
   "cell_type": "markdown",
   "id": "short-springfield",
   "metadata": {},
   "source": [
    "Note my above function will work even if the input is negative, which is not reasonable. So I probably want to include a statement that checks if the input is weird."
   ]
  },
  {
   "cell_type": "code",
   "execution_count": 19,
   "id": "round-shirt",
   "metadata": {},
   "outputs": [],
   "source": [
    "def circle_area5(radius):\n",
    "    # put in an if statement to handle bad inputs\n",
    "    if radius<0:\n",
    "        return \"this makes no sense!\"\n",
    "    else:\n",
    "        return 3.14*radius**2"
   ]
  },
  {
   "cell_type": "code",
   "execution_count": 22,
   "id": "151f3365-5f72-4913-8634-75cd7dd21ad2",
   "metadata": {},
   "outputs": [
    {
     "data": {
      "text/plain": [
       "'this makes no sense!'"
      ]
     },
     "execution_count": 22,
     "metadata": {},
     "output_type": "execute_result"
    }
   ],
   "source": [
    "circle_area5(-10)"
   ]
  },
  {
   "cell_type": "markdown",
   "id": "virgin-tragedy",
   "metadata": {},
   "source": [
    "### Using packages within functions"
   ]
  },
  {
   "cell_type": "markdown",
   "id": "initial-public",
   "metadata": {},
   "source": [
    "We can also have import statements within a function, but this can slow the function down if the package is not loaded already"
   ]
  },
  {
   "cell_type": "code",
   "execution_count": 23,
   "id": "educated-saver",
   "metadata": {},
   "outputs": [],
   "source": [
    "def circle_area6(radius):\n",
    "    if radius <= 0:\n",
    "        print('Error: radius needs to be positive')\n",
    "        return # exit the function\n",
    "    \n",
    "    import numpy as np\n",
    "    \n",
    "    return np.pi*radius**2"
   ]
  },
  {
   "cell_type": "code",
   "execution_count": 24,
   "id": "chronic-bookmark",
   "metadata": {},
   "outputs": [
    {
     "data": {
      "text/plain": [
       "28.274333882308138"
      ]
     },
     "execution_count": 24,
     "metadata": {},
     "output_type": "execute_result"
    }
   ],
   "source": [
    "circle_area6(3) # note this is a much more accurate"
   ]
  },
  {
   "cell_type": "markdown",
   "id": "ethical-forest",
   "metadata": {},
   "source": [
    "We can have the function inputs have pre-defined default values, so that if you don't pass a variable it will use the default"
   ]
  },
  {
   "cell_type": "code",
   "execution_count": 25,
   "id": "brave-jamaica",
   "metadata": {},
   "outputs": [],
   "source": [
    "def circle_area7(radius = 3):\n",
    "    import numpy as np #import numpy so we can use the more exact value of pi\n",
    "    \n",
    "    return np.pi*radius**2"
   ]
  },
  {
   "cell_type": "code",
   "execution_count": 27,
   "id": "mounted-independence",
   "metadata": {},
   "outputs": [
    {
     "data": {
      "text/plain": [
       "28.26"
      ]
     },
     "execution_count": 27,
     "metadata": {},
     "output_type": "execute_result"
    }
   ],
   "source": [
    "circle_area(3)"
   ]
  },
  {
   "cell_type": "code",
   "execution_count": 28,
   "id": "dense-review",
   "metadata": {},
   "outputs": [
    {
     "data": {
      "text/plain": [
       "28.274333882308138"
      ]
     },
     "execution_count": 28,
     "metadata": {},
     "output_type": "execute_result"
    }
   ],
   "source": [
    "circle_area7() # no argument given, so uses radius = 3 by default"
   ]
  },
  {
   "cell_type": "markdown",
   "id": "renewable-twelve",
   "metadata": {},
   "source": [
    "Is numpy imported outside the function? Let's check"
   ]
  },
  {
   "cell_type": "code",
   "execution_count": 29,
   "id": "hidden-minutes",
   "metadata": {},
   "outputs": [
    {
     "data": {
      "text/plain": [
       "3.141592653589793"
      ]
     },
     "execution_count": 29,
     "metadata": {},
     "output_type": "execute_result"
    }
   ],
   "source": [
    "np.pi"
   ]
  },
  {
   "cell_type": "code",
   "execution_count": 30,
   "id": "hazardous-florist",
   "metadata": {},
   "outputs": [
    {
     "name": "stdout",
     "output_type": "stream",
     "text": [
      "Variable        Type        Data/Info\n",
      "-------------------------------------\n",
      "a               list        n=11\n",
      "b               list        n=13\n",
      "circle_area     function    <function circle_area at 0x00000210B4278AE0>\n",
      "circle_area2    function    <function circle_area2 at 0x00000210B4279300>\n",
      "circle_area4    function    <function circle_area4 at 0x00000210B4279BC0>\n",
      "circle_area5    function    <function circle_area5 at 0x00000210B427A340>\n",
      "circle_area6    function    <function circle_area6 at 0x00000210B427B1A0>\n",
      "circle_area7    function    <function circle_area7 at 0x00000210B4279C60>\n",
      "function_name   function    <function function_name at 0x00000210B4278860>\n",
      "i               int         54\n",
      "item            int         89\n",
      "np              module      <module 'numpy' from 'C:\\<...>ges\\\\numpy\\\\__init__.py'>\n",
      "number          int         55\n",
      "plt             module      <module 'matplotlib' from<...>matplotlib\\\\__init__.py'>\n"
     ]
    }
   ],
   "source": [
    "whos"
   ]
  },
  {
   "cell_type": "code",
   "execution_count": 31,
   "id": "published-invalid",
   "metadata": {},
   "outputs": [
    {
     "ename": "TypeError",
     "evalue": "unsupported operand type(s) for ** or pow(): 'list' and 'int'",
     "output_type": "error",
     "traceback": [
      "\u001b[1;31m---------------------------------------------------------------------------\u001b[0m",
      "\u001b[1;31mTypeError\u001b[0m                                 Traceback (most recent call last)",
      "Cell \u001b[1;32mIn[31], line 3\u001b[0m\n\u001b[0;32m      1\u001b[0m \u001b[38;5;66;03m# can our function handle lists? Let's check\u001b[39;00m\n\u001b[0;32m      2\u001b[0m r \u001b[38;5;241m=\u001b[39m [\u001b[38;5;241m1\u001b[39m,\u001b[38;5;241m2\u001b[39m,\u001b[38;5;241m3\u001b[39m]\n\u001b[1;32m----> 3\u001b[0m circle_area7(r)\n",
      "Cell \u001b[1;32mIn[25], line 4\u001b[0m, in \u001b[0;36mcircle_area7\u001b[1;34m(radius)\u001b[0m\n\u001b[0;32m      1\u001b[0m \u001b[38;5;28;01mdef\u001b[39;00m \u001b[38;5;21mcircle_area7\u001b[39m(radius \u001b[38;5;241m=\u001b[39m \u001b[38;5;241m3\u001b[39m):\n\u001b[0;32m      2\u001b[0m     \u001b[38;5;28;01mimport\u001b[39;00m \u001b[38;5;21;01mnumpy\u001b[39;00m \u001b[38;5;28;01mas\u001b[39;00m \u001b[38;5;21;01mnp\u001b[39;00m \u001b[38;5;66;03m#import numpy so we can use the more exact value of pi\u001b[39;00m\n\u001b[1;32m----> 4\u001b[0m     \u001b[38;5;28;01mreturn\u001b[39;00m np\u001b[38;5;241m.\u001b[39mpi\u001b[38;5;241m*\u001b[39mradius\u001b[38;5;241m*\u001b[39m\u001b[38;5;241m*\u001b[39m\u001b[38;5;241m2\u001b[39m\n",
      "\u001b[1;31mTypeError\u001b[0m: unsupported operand type(s) for ** or pow(): 'list' and 'int'"
     ]
    }
   ],
   "source": [
    "# can our function handle lists? Let's check\n",
    "r = [1,2,3]\n",
    "circle_area7(r)"
   ]
  },
  {
   "cell_type": "raw",
   "id": "fecfa2d6-682f-4149-b69b-74c74a696b3e",
   "metadata": {},
   "source": [
    "Our function can't handle lists!"
   ]
  },
  {
   "cell_type": "code",
   "execution_count": 32,
   "id": "offshore-syria",
   "metadata": {},
   "outputs": [
    {
     "data": {
      "text/plain": [
       "array([ 3.14159265, 12.56637061, 28.27433388])"
      ]
     },
     "execution_count": 32,
     "metadata": {},
     "output_type": "execute_result"
    }
   ],
   "source": [
    "# can our function handle arrays?\n",
    "\n",
    "rnp = np.array(r)\n",
    "circle_area7(rnp)\n",
    "\n",
    "# what type of variable did the function return?"
   ]
  },
  {
   "cell_type": "markdown",
   "id": "eb1a0bdd-4548-4ef3-aa31-e9a8398e0177",
   "metadata": {},
   "source": [
    "Our function can handle arrays, and returns an array in response where each value is put into the function"
   ]
  },
  {
   "cell_type": "markdown",
   "id": "regional-trouble",
   "metadata": {},
   "source": [
    "### It is very useful to add some documentation string info to your functions"
   ]
  },
  {
   "cell_type": "code",
   "execution_count": 33,
   "id": "short-chrome",
   "metadata": {},
   "outputs": [],
   "source": [
    "def circle_area7(radius = 3):\n",
    "    \"\"\" Returns the area of a circle given the radius. \n",
    "    Assumes the radius is 3 if not supplied. \"\"\"\n",
    "    import numpy as np\n",
    "    \n",
    "    return np.pi*radius**2"
   ]
  },
  {
   "cell_type": "markdown",
   "id": "unsigned-sport",
   "metadata": {},
   "source": [
    "Now my note in the triple double quotes shows up as a docstring"
   ]
  },
  {
   "cell_type": "code",
   "execution_count": 34,
   "id": "consistent-peace",
   "metadata": {},
   "outputs": [
    {
     "data": {
      "text/plain": [
       "\u001b[1;31mType:\u001b[0m        float\n",
       "\u001b[1;31mString form:\u001b[0m 3.141592653589793\n",
       "\u001b[1;31mDocstring:\u001b[0m   Convert a string or number to a floating point number, if possible."
      ]
     },
     "metadata": {},
     "output_type": "display_data"
    }
   ],
   "source": [
    "np.pi?"
   ]
  },
  {
   "cell_type": "code",
   "execution_count": 35,
   "id": "interstate-coverage",
   "metadata": {},
   "outputs": [
    {
     "data": {
      "text/plain": [
       "\u001b[1;31mSignature:\u001b[0m \u001b[0mcircle_area7\u001b[0m\u001b[1;33m(\u001b[0m\u001b[0mradius\u001b[0m\u001b[1;33m=\u001b[0m\u001b[1;36m3\u001b[0m\u001b[1;33m)\u001b[0m\u001b[1;33m\u001b[0m\u001b[1;33m\u001b[0m\u001b[0m\n",
       "\u001b[1;31mDocstring:\u001b[0m\n",
       "Returns the area of a circle given the radius. \n",
       "Assumes the radius is 3 if not supplied. \n",
       "\u001b[1;31mFile:\u001b[0m      c:\\users\\sbrann5\\appdata\\local\\temp\\ipykernel_31328\\967664329.py\n",
       "\u001b[1;31mType:\u001b[0m      function"
      ]
     },
     "metadata": {},
     "output_type": "display_data"
    }
   ],
   "source": [
    "circle_area7?"
   ]
  },
  {
   "cell_type": "markdown",
   "id": "assisted-assurance",
   "metadata": {},
   "source": [
    "There is a standard practice in programming to write out the Parameters (inputs/arguments) and Returns (output) in the docstring. Let's look a this for a predefined function and then make if for our simple function."
   ]
  },
  {
   "cell_type": "code",
   "execution_count": 36,
   "id": "quarterly-spring",
   "metadata": {},
   "outputs": [
    {
     "data": {
      "text/plain": [
       "\u001b[1;31mSignature:\u001b[0m      \n",
       "\u001b[0mnp\u001b[0m\u001b[1;33m.\u001b[0m\u001b[0mmax\u001b[0m\u001b[1;33m(\u001b[0m\u001b[1;33m\n",
       "\u001b[0m    \u001b[0ma\u001b[0m\u001b[1;33m,\u001b[0m\u001b[1;33m\n",
       "\u001b[0m    \u001b[0maxis\u001b[0m\u001b[1;33m=\u001b[0m\u001b[1;32mNone\u001b[0m\u001b[1;33m,\u001b[0m\u001b[1;33m\n",
       "\u001b[0m    \u001b[0mout\u001b[0m\u001b[1;33m=\u001b[0m\u001b[1;32mNone\u001b[0m\u001b[1;33m,\u001b[0m\u001b[1;33m\n",
       "\u001b[0m    \u001b[0mkeepdims\u001b[0m\u001b[1;33m=\u001b[0m\u001b[1;33m<\u001b[0m\u001b[0mno\u001b[0m \u001b[0mvalue\u001b[0m\u001b[1;33m>\u001b[0m\u001b[1;33m,\u001b[0m\u001b[1;33m\n",
       "\u001b[0m    \u001b[0minitial\u001b[0m\u001b[1;33m=\u001b[0m\u001b[1;33m<\u001b[0m\u001b[0mno\u001b[0m \u001b[0mvalue\u001b[0m\u001b[1;33m>\u001b[0m\u001b[1;33m,\u001b[0m\u001b[1;33m\n",
       "\u001b[0m    \u001b[0mwhere\u001b[0m\u001b[1;33m=\u001b[0m\u001b[1;33m<\u001b[0m\u001b[0mno\u001b[0m \u001b[0mvalue\u001b[0m\u001b[1;33m>\u001b[0m\u001b[1;33m,\u001b[0m\u001b[1;33m\n",
       "\u001b[0m\u001b[1;33m)\u001b[0m\u001b[1;33m\u001b[0m\u001b[1;33m\u001b[0m\u001b[0m\n",
       "\u001b[1;31mCall signature:\u001b[0m  \u001b[0mnp\u001b[0m\u001b[1;33m.\u001b[0m\u001b[0mmax\u001b[0m\u001b[1;33m(\u001b[0m\u001b[1;33m*\u001b[0m\u001b[0margs\u001b[0m\u001b[1;33m,\u001b[0m \u001b[1;33m**\u001b[0m\u001b[0mkwargs\u001b[0m\u001b[1;33m)\u001b[0m\u001b[1;33m\u001b[0m\u001b[1;33m\u001b[0m\u001b[0m\n",
       "\u001b[1;31mType:\u001b[0m            _ArrayFunctionDispatcher\n",
       "\u001b[1;31mString form:\u001b[0m     <function max at 0x00000210B2A8F7E0>\n",
       "\u001b[1;31mFile:\u001b[0m            c:\\users\\sbrann5\\appdata\\local\\anaconda3again\\envs\\ocs4001_2\\lib\\site-packages\\numpy\\core\\fromnumeric.py\n",
       "\u001b[1;31mDocstring:\u001b[0m      \n",
       "Return the maximum of an array or maximum along an axis.\n",
       "\n",
       "Parameters\n",
       "----------\n",
       "a : array_like\n",
       "    Input data.\n",
       "axis : None or int or tuple of ints, optional\n",
       "    Axis or axes along which to operate.  By default, flattened input is\n",
       "    used.\n",
       "\n",
       "    .. versionadded:: 1.7.0\n",
       "\n",
       "    If this is a tuple of ints, the maximum is selected over multiple axes,\n",
       "    instead of a single axis or all the axes as before.\n",
       "out : ndarray, optional\n",
       "    Alternative output array in which to place the result.  Must\n",
       "    be of the same shape and buffer length as the expected output.\n",
       "    See :ref:`ufuncs-output-type` for more details.\n",
       "\n",
       "keepdims : bool, optional\n",
       "    If this is set to True, the axes which are reduced are left\n",
       "    in the result as dimensions with size one. With this option,\n",
       "    the result will broadcast correctly against the input array.\n",
       "\n",
       "    If the default value is passed, then `keepdims` will not be\n",
       "    passed through to the ``max`` method of sub-classes of\n",
       "    `ndarray`, however any non-default value will be.  If the\n",
       "    sub-class' method does not implement `keepdims` any\n",
       "    exceptions will be raised.\n",
       "\n",
       "initial : scalar, optional\n",
       "    The minimum value of an output element. Must be present to allow\n",
       "    computation on empty slice. See `~numpy.ufunc.reduce` for details.\n",
       "\n",
       "    .. versionadded:: 1.15.0\n",
       "\n",
       "where : array_like of bool, optional\n",
       "    Elements to compare for the maximum. See `~numpy.ufunc.reduce`\n",
       "    for details.\n",
       "\n",
       "    .. versionadded:: 1.17.0\n",
       "\n",
       "Returns\n",
       "-------\n",
       "max : ndarray or scalar\n",
       "    Maximum of `a`. If `axis` is None, the result is a scalar value.\n",
       "    If `axis` is an int, the result is an array of dimension\n",
       "    ``a.ndim - 1``. If `axis` is a tuple, the result is an array of \n",
       "    dimension ``a.ndim - len(axis)``.\n",
       "\n",
       "See Also\n",
       "--------\n",
       "amin :\n",
       "    The minimum value of an array along a given axis, propagating any NaNs.\n",
       "nanmax :\n",
       "    The maximum value of an array along a given axis, ignoring any NaNs.\n",
       "maximum :\n",
       "    Element-wise maximum of two arrays, propagating any NaNs.\n",
       "fmax :\n",
       "    Element-wise maximum of two arrays, ignoring any NaNs.\n",
       "argmax :\n",
       "    Return the indices of the maximum values.\n",
       "\n",
       "nanmin, minimum, fmin\n",
       "\n",
       "Notes\n",
       "-----\n",
       "NaN values are propagated, that is if at least one item is NaN, the\n",
       "corresponding max value will be NaN as well. To ignore NaN values\n",
       "(MATLAB behavior), please use nanmax.\n",
       "\n",
       "Don't use `~numpy.max` for element-wise comparison of 2 arrays; when\n",
       "``a.shape[0]`` is 2, ``maximum(a[0], a[1])`` is faster than\n",
       "``max(a, axis=0)``.\n",
       "\n",
       "Examples\n",
       "--------\n",
       ">>> a = np.arange(4).reshape((2,2))\n",
       ">>> a\n",
       "array([[0, 1],\n",
       "       [2, 3]])\n",
       ">>> np.max(a)           # Maximum of the flattened array\n",
       "3\n",
       ">>> np.max(a, axis=0)   # Maxima along the first axis\n",
       "array([2, 3])\n",
       ">>> np.max(a, axis=1)   # Maxima along the second axis\n",
       "array([1, 3])\n",
       ">>> np.max(a, where=[False, True], initial=-1, axis=0)\n",
       "array([-1,  3])\n",
       ">>> b = np.arange(5, dtype=float)\n",
       ">>> b[2] = np.NaN\n",
       ">>> np.max(b)\n",
       "nan\n",
       ">>> np.max(b, where=~np.isnan(b), initial=-1)\n",
       "4.0\n",
       ">>> np.nanmax(b)\n",
       "4.0\n",
       "\n",
       "You can use an initial value to compute the maximum of an empty slice, or\n",
       "to initialize it to a different value:\n",
       "\n",
       ">>> np.max([[-50], [10]], axis=-1, initial=0)\n",
       "array([ 0, 10])\n",
       "\n",
       "Notice that the initial value is used as one of the elements for which the\n",
       "maximum is determined, unlike for the default argument Python's max\n",
       "function, which is only used for empty iterables.\n",
       "\n",
       ">>> np.max([5], initial=6)\n",
       "6\n",
       ">>> max([5], default=6)\n",
       "5\n",
       "\u001b[1;31mClass docstring:\u001b[0m\n",
       "Class to wrap functions with checks for __array_function__ overrides.\n",
       "\n",
       "All arguments are required, and can only be passed by position.\n",
       "\n",
       "Parameters\n",
       "----------\n",
       "dispatcher : function or None\n",
       "    The dispatcher function that returns a single sequence-like object\n",
       "    of all arguments relevant.  It must have the same signature (except\n",
       "    the default values) as the actual implementation.\n",
       "    If ``None``, this is a ``like=`` dispatcher and the\n",
       "    ``_ArrayFunctionDispatcher`` must be called with ``like`` as the\n",
       "    first (additional and positional) argument.\n",
       "implementation : function\n",
       "    Function that implements the operation on NumPy arrays without\n",
       "    overrides.  Arguments passed calling the ``_ArrayFunctionDispatcher``\n",
       "    will be forwarded to this (and the ``dispatcher``) as if using\n",
       "    ``*args, **kwargs``.\n",
       "\n",
       "Attributes\n",
       "----------\n",
       "_implementation : function\n",
       "    The original implementation passed in."
      ]
     },
     "metadata": {},
     "output_type": "display_data"
    }
   ],
   "source": [
    "np.max?"
   ]
  },
  {
   "cell_type": "code",
   "execution_count": 37,
   "id": "looking-bubble",
   "metadata": {},
   "outputs": [],
   "source": [
    "def circle_area7(radius = 3):\n",
    "    \"\"\" Returns the area of a circle given the radius. \n",
    "    \n",
    "    Parameters\n",
    "    ----------\n",
    "    radius: array like, radius of the circle\n",
    "    Assumes the radius is 3 if not supplied.\n",
    "    \n",
    "    Returns\n",
    "    -------\n",
    "    area: ndarray or scalar\n",
    "    Returns the area for the given radii\n",
    "    \n",
    "    \"\"\"\n",
    "    \n",
    "    import numpy as np\n",
    "    \n",
    "    return np.pi*radius**2"
   ]
  },
  {
   "cell_type": "code",
   "execution_count": 38,
   "id": "educated-study",
   "metadata": {},
   "outputs": [
    {
     "data": {
      "text/plain": [
       "\u001b[1;31mSignature:\u001b[0m \u001b[0mcircle_area7\u001b[0m\u001b[1;33m(\u001b[0m\u001b[0mradius\u001b[0m\u001b[1;33m=\u001b[0m\u001b[1;36m3\u001b[0m\u001b[1;33m)\u001b[0m\u001b[1;33m\u001b[0m\u001b[1;33m\u001b[0m\u001b[0m\n",
       "\u001b[1;31mDocstring:\u001b[0m\n",
       "Returns the area of a circle given the radius. \n",
       "\n",
       "Parameters\n",
       "----------\n",
       "radius: array like, radius of the circle\n",
       "Assumes the radius is 3 if not supplied.\n",
       "\n",
       "Returns\n",
       "-------\n",
       "area: ndarray or scalar\n",
       "Returns the area for the given radii\n",
       "\u001b[1;31mFile:\u001b[0m      c:\\users\\sbrann5\\appdata\\local\\temp\\ipykernel_31328\\1644116025.py\n",
       "\u001b[1;31mType:\u001b[0m      function"
      ]
     },
     "metadata": {},
     "output_type": "display_data"
    }
   ],
   "source": [
    "circle_area7?"
   ]
  },
  {
   "cell_type": "code",
   "execution_count": null,
   "id": "amended-marshall",
   "metadata": {},
   "outputs": [],
   "source": []
  },
  {
   "cell_type": "markdown",
   "id": "demanding-ghost",
   "metadata": {},
   "source": [
    "# Lab 5.2"
   ]
  },
  {
   "cell_type": "markdown",
   "id": "large-paradise",
   "metadata": {},
   "source": [
    "**E.1** Complete Introduction to Functions in Python Ch 1 (you can do Ch 2-3 if you are very keen, but this is not required)\n"
   ]
  },
  {
   "cell_type": "code",
   "execution_count": null,
   "id": "approximate-recall",
   "metadata": {},
   "outputs": [],
   "source": []
  },
  {
   "cell_type": "markdown",
   "id": "grateful-russia",
   "metadata": {},
   "source": [
    "**E.2** Make notes for yourself on progamming tecniques and commands you learned in the datacamp chapter above, including examples, comments and explainitory text. You can do this here or in a separate notebook that you link to here. Basically, you are making a cheat sheet for yourself."
   ]
  },
  {
   "cell_type": "markdown",
   "id": "564490ed-4891-4a23-8ee2-279b009e7682",
   "metadata": {},
   "source": [
    "tuples are unchangeable and are the result of a function that spits out multiple variables, also defined by ()\n",
    "use [] to index the values in a dictionary (ex my_dict[dog]='woof' from my_dict=dog:'woof')"
   ]
  },
  {
   "cell_type": "markdown",
   "id": "sudden-policy",
   "metadata": {},
   "source": [
    "### This week's project:\n",
    "\n",
    "**E.3** Write two functions that work on your dataset (you can use the same dataset you plotted previously or a different one). The first function will do some sort of manipulation (e.g., removing bad data, subsetting) or calculation/analysis, the second will be a plotting function. The idea here is that if you had another datafile that was similar, you could use the functions to do the programming tasks again easily. You will present these to the class next week, similar to how you presented your plots. \n",
    "\n",
    "Add 1-2 slides here: https://lsu.box.com/s/6qz51fijd4sc1ne175w3j7e5lxmk7x0l"
   ]
  },
  {
   "cell_type": "code",
   "execution_count": 143,
   "id": "d443ebf8-5894-4776-bca4-993fe4c0bc01",
   "metadata": {},
   "outputs": [
    {
     "name": "stdout",
     "output_type": "stream",
     "text": [
      "     Left_lat  Left_long  Right_lat  Right_long  \\\n",
      "0   29.141927 -89.247011  29.140937  -89.250124   \n",
      "1   29.141732 -89.247065  29.140701  -89.250023   \n",
      "2   29.010266 -89.157577  29.008979  -89.159537   \n",
      "3   29.024012 -89.175275  29.022386  -89.176929   \n",
      "5   29.027157 -89.178405  29.025274  -89.180580   \n",
      "7   29.031487 -89.182847  29.030142  -89.185093   \n",
      "8   29.041429 -89.191942  29.040299  -89.193466   \n",
      "9   29.059184 -89.204048  29.058092  -89.206264   \n",
      "10  29.080861 -89.216764  29.079636  -89.218727   \n",
      "11  29.100727 -89.233101  29.099417  -89.234723   \n",
      "12  29.104761 -89.235963  29.103312  -89.237854   \n",
      "16  29.119689 -89.239825  29.119619  -89.242688   \n",
      "\n",
      "                           Description  Site_Number  miles_downriver  \\\n",
      "0       Top of south pass (afternoon)             1             0.00   \n",
      "1         Top of south pass (morning)             1             0.00   \n",
      "2                Bottom of south pass             2            10.90   \n",
      "3    South pass after 2 side channels            10             9.44   \n",
      "5   South pass before 2 side channels             4             9.14   \n",
      "7                          South Pass            17             8.74   \n",
      "8                          South Pass             3             7.85   \n",
      "9                          South Pass            20             6.40   \n",
      "10                         South Pass            19             4.73   \n",
      "11                         South Pass             5             3.03   \n",
      "12                         South Pass             6             2.69   \n",
      "16                         South Pass            18             1.60   \n",
      "\n",
      "    meters_downriver  Total_Q_Averaged_(m^3/s)3  Width_(m)3  ...  Q_min1_24  \\\n",
      "0             0.0000                    1768.00      379.60  ...        NaN   \n",
      "1             0.0000                    1784.00      356.20  ...        NaN   \n",
      "2         17541.8060                     134.64      298.89  ...        NaN   \n",
      "3         15192.1696                     223.50      315.43  ...        NaN   \n",
      "5         14709.3676                     257.20      371.16  ...     308.85   \n",
      "7         14065.6316                     212.10      335.57  ...        NaN   \n",
      "8         12633.3190                     254.80      282.56  ...        NaN   \n",
      "9         10299.7760                     589.60      355.87  ...        NaN   \n",
      "10         7612.1782                     870.80      373.79  ...        NaN   \n",
      "11         4876.3002                    1071.40      337.78  ...        NaN   \n",
      "12         4329.1246                    1534.10      322.75  ...        NaN   \n",
      "16         2574.9440                    1633.80      341.04  ...        NaN   \n",
      "\n",
      "    Q_max1_24  Total_Q_Averaged_(m^3/s)5_24  Width_(m)5_24  \\\n",
      "0         NaN                      1387.044         362.95   \n",
      "1         NaN                           NaN            NaN   \n",
      "2         NaN                       240.579         360.64   \n",
      "3         NaN                       245.474         292.50   \n",
      "5     495.015                       369.093         339.48   \n",
      "7         NaN                       418.220         317.62   \n",
      "8         NaN                       449.658         262.80   \n",
      "9         NaN                       487.219         321.38   \n",
      "10        NaN                       823.066         332.64   \n",
      "11        NaN                       945.369         338.58   \n",
      "12        NaN                      1301.403         326.59   \n",
      "16        NaN                      1311.910         297.05   \n",
      "\n",
      "    Flow_Speed_(m/s)5_24  CSA_(m^2)5_24  Q_SD5_24  Q_min5_24  Q_max5_24  \\\n",
      "0                  0.595        2203.65      0.01   1401.780   1372.448   \n",
      "1                    NaN            NaN       NaN        NaN        NaN   \n",
      "2                  0.260        1068.35      0.12    207.000    276.000   \n",
      "3                  0.287        1021.89      0.03    239.011    256.448   \n",
      "5                  0.333        1192.67      0.04    352.373    384.383   \n",
      "7                  0.364        1091.05      0.01    414.610    420.065   \n",
      "8                  0.415        1045.12      0.01    445.978    456.960   \n",
      "9                  0.422        1155.56      0.03    473.815    504.784   \n",
      "10                 0.573        1481.21      0.01    813.969    840.724   \n",
      "11                 0.631        1522.58      0.01    937.616    948.531   \n",
      "12                 0.624        1979.63      0.02   1264.322   1337.231   \n",
      "16                 0.622        2091.19      0.02   1286.459   1341.289   \n",
      "\n",
      "    Q_frac_HOP_5_24  \n",
      "0          1.000000  \n",
      "1          0.000000  \n",
      "2          0.173447  \n",
      "3          0.176976  \n",
      "5          0.266100  \n",
      "7          0.301519  \n",
      "8          0.324184  \n",
      "9          0.351264  \n",
      "10         0.593396  \n",
      "11         0.681571  \n",
      "12         0.938256  \n",
      "16         0.945832  \n",
      "\n",
      "[12 rows x 39 columns]\n",
      "['Left_lat' 'Left_long' 'Right_lat' 'Right_long' 'Description'\n",
      " 'Site_Number' 'miles_downriver' 'meters_downriver'\n",
      " 'Total_Q_Averaged_(m^3/s)3' 'Width_(m)3' 'Flow_Speed_(m/s)3' 'CSA_(m^2)3'\n",
      " 'Q_SD3' 'Q_min3' 'Q_max3' 'Q_frac_HOP_3_23' 'Total_Q_Averaged_(m^3/s)9'\n",
      " 'Width_(m)9' 'Flow_Speed_(m/s)9' 'CSA_(m^2)9' 'Q_SD9' 'Q_min9' 'Q_max9'\n",
      " 'Q_frac_HOP_9_23' 'Total_Q_Averaged_(m^3/s)1_24' 'Width_(m)1_24'\n",
      " 'Flow_Speed_(m/s)1_24' 'CSA_(m^2)1_24' 'Q_SD1_24' 'Q_min1_24' 'Q_max1_24'\n",
      " 'Total_Q_Averaged_(m^3/s)5_24' 'Width_(m)5_24' 'Flow_Speed_(m/s)5_24'\n",
      " 'CSA_(m^2)5_24' 'Q_SD5_24' 'Q_min5_24' 'Q_max5_24' 'Q_frac_HOP_5_24']\n"
     ]
    }
   ],
   "source": [
    "import pandas as pd\n",
    "ADCP=pd.read_excel(\"C:/Users/sbrann5/OneDrive - Louisiana State University/May13_backup/Fieldwork/ADCP_South_Pass_all/ADCP_Survey_data_may24.xlsx\")\r",
    "#remove rows that are not directly on south pass\r\n",
    "ADCP.drop([4,6,13,14,15],inplace=True)\n",
    "print(ADCP)\n",
    "print(ADCP.columns.values)\n"
   ]
  },
  {
   "cell_type": "code",
   "execution_count": 144,
   "id": "03dc0ccb-6848-4f0e-9d2e-c02c585911fd",
   "metadata": {},
   "outputs": [
    {
     "data": {
      "text/html": [
       "<div>\n",
       "<style scoped>\n",
       "    .dataframe tbody tr th:only-of-type {\n",
       "        vertical-align: middle;\n",
       "    }\n",
       "\n",
       "    .dataframe tbody tr th {\n",
       "        vertical-align: top;\n",
       "    }\n",
       "\n",
       "    .dataframe thead th {\n",
       "        text-align: right;\n",
       "    }\n",
       "</style>\n",
       "<table border=\"1\" class=\"dataframe\">\n",
       "  <thead>\n",
       "    <tr style=\"text-align: right;\">\n",
       "      <th></th>\n",
       "      <th>Left_lat</th>\n",
       "      <th>Left_long</th>\n",
       "      <th>Right_lat</th>\n",
       "      <th>Right_long</th>\n",
       "      <th>Description</th>\n",
       "      <th>Site_Number</th>\n",
       "      <th>miles_downriver</th>\n",
       "      <th>meters_downriver</th>\n",
       "      <th>Total_Q_Averaged_(m^3/s)3</th>\n",
       "      <th>Width_(m)3</th>\n",
       "      <th>...</th>\n",
       "      <th>Q_min1_24</th>\n",
       "      <th>Q_max1_24</th>\n",
       "      <th>Total_Q_Averaged_(m^3/s)5_24</th>\n",
       "      <th>Width_(m)5_24</th>\n",
       "      <th>Flow_Speed_(m/s)5_24</th>\n",
       "      <th>CSA_(m^2)5_24</th>\n",
       "      <th>Q_SD5_24</th>\n",
       "      <th>Q_min5_24</th>\n",
       "      <th>Q_max5_24</th>\n",
       "      <th>Q_frac_HOP_5_24</th>\n",
       "    </tr>\n",
       "  </thead>\n",
       "  <tbody>\n",
       "    <tr>\n",
       "      <th>0</th>\n",
       "      <td>29.141927</td>\n",
       "      <td>-89.247011</td>\n",
       "      <td>29.140937</td>\n",
       "      <td>-89.250124</td>\n",
       "      <td>Top of south pass (afternoon)</td>\n",
       "      <td>1</td>\n",
       "      <td>0.00</td>\n",
       "      <td>0.0000</td>\n",
       "      <td>1768.00</td>\n",
       "      <td>379.60</td>\n",
       "      <td>...</td>\n",
       "      <td>NaN</td>\n",
       "      <td>NaN</td>\n",
       "      <td>1387.044</td>\n",
       "      <td>362.95</td>\n",
       "      <td>0.595</td>\n",
       "      <td>2203.65</td>\n",
       "      <td>0.01</td>\n",
       "      <td>1401.780</td>\n",
       "      <td>1372.448</td>\n",
       "      <td>1.000000</td>\n",
       "    </tr>\n",
       "    <tr>\n",
       "      <th>1</th>\n",
       "      <td>29.141732</td>\n",
       "      <td>-89.247065</td>\n",
       "      <td>29.140701</td>\n",
       "      <td>-89.250023</td>\n",
       "      <td>Top of south pass (morning)</td>\n",
       "      <td>1</td>\n",
       "      <td>0.00</td>\n",
       "      <td>0.0000</td>\n",
       "      <td>1784.00</td>\n",
       "      <td>356.20</td>\n",
       "      <td>...</td>\n",
       "      <td>NaN</td>\n",
       "      <td>NaN</td>\n",
       "      <td>NaN</td>\n",
       "      <td>NaN</td>\n",
       "      <td>NaN</td>\n",
       "      <td>NaN</td>\n",
       "      <td>NaN</td>\n",
       "      <td>NaN</td>\n",
       "      <td>NaN</td>\n",
       "      <td>0.000000</td>\n",
       "    </tr>\n",
       "    <tr>\n",
       "      <th>2</th>\n",
       "      <td>29.010266</td>\n",
       "      <td>-89.157577</td>\n",
       "      <td>29.008979</td>\n",
       "      <td>-89.159537</td>\n",
       "      <td>Bottom of south pass</td>\n",
       "      <td>2</td>\n",
       "      <td>10.90</td>\n",
       "      <td>17541.8060</td>\n",
       "      <td>134.64</td>\n",
       "      <td>298.89</td>\n",
       "      <td>...</td>\n",
       "      <td>NaN</td>\n",
       "      <td>NaN</td>\n",
       "      <td>240.579</td>\n",
       "      <td>360.64</td>\n",
       "      <td>0.260</td>\n",
       "      <td>1068.35</td>\n",
       "      <td>0.12</td>\n",
       "      <td>207.000</td>\n",
       "      <td>276.000</td>\n",
       "      <td>0.173447</td>\n",
       "    </tr>\n",
       "    <tr>\n",
       "      <th>3</th>\n",
       "      <td>29.024012</td>\n",
       "      <td>-89.175275</td>\n",
       "      <td>29.022386</td>\n",
       "      <td>-89.176929</td>\n",
       "      <td>South pass after 2 side channels</td>\n",
       "      <td>10</td>\n",
       "      <td>9.44</td>\n",
       "      <td>15192.1696</td>\n",
       "      <td>223.50</td>\n",
       "      <td>315.43</td>\n",
       "      <td>...</td>\n",
       "      <td>NaN</td>\n",
       "      <td>NaN</td>\n",
       "      <td>245.474</td>\n",
       "      <td>292.50</td>\n",
       "      <td>0.287</td>\n",
       "      <td>1021.89</td>\n",
       "      <td>0.03</td>\n",
       "      <td>239.011</td>\n",
       "      <td>256.448</td>\n",
       "      <td>0.176976</td>\n",
       "    </tr>\n",
       "    <tr>\n",
       "      <th>5</th>\n",
       "      <td>29.027157</td>\n",
       "      <td>-89.178405</td>\n",
       "      <td>29.025274</td>\n",
       "      <td>-89.180580</td>\n",
       "      <td>South pass before 2 side channels</td>\n",
       "      <td>4</td>\n",
       "      <td>9.14</td>\n",
       "      <td>14709.3676</td>\n",
       "      <td>257.20</td>\n",
       "      <td>371.16</td>\n",
       "      <td>...</td>\n",
       "      <td>308.85</td>\n",
       "      <td>495.015</td>\n",
       "      <td>369.093</td>\n",
       "      <td>339.48</td>\n",
       "      <td>0.333</td>\n",
       "      <td>1192.67</td>\n",
       "      <td>0.04</td>\n",
       "      <td>352.373</td>\n",
       "      <td>384.383</td>\n",
       "      <td>0.266100</td>\n",
       "    </tr>\n",
       "  </tbody>\n",
       "</table>\n",
       "<p>5 rows × 39 columns</p>\n",
       "</div>"
      ],
      "text/plain": [
       "    Left_lat  Left_long  Right_lat  Right_long  \\\n",
       "0  29.141927 -89.247011  29.140937  -89.250124   \n",
       "1  29.141732 -89.247065  29.140701  -89.250023   \n",
       "2  29.010266 -89.157577  29.008979  -89.159537   \n",
       "3  29.024012 -89.175275  29.022386  -89.176929   \n",
       "5  29.027157 -89.178405  29.025274  -89.180580   \n",
       "\n",
       "                          Description  Site_Number  miles_downriver  \\\n",
       "0      Top of south pass (afternoon)             1             0.00   \n",
       "1        Top of south pass (morning)             1             0.00   \n",
       "2               Bottom of south pass             2            10.90   \n",
       "3   South pass after 2 side channels            10             9.44   \n",
       "5  South pass before 2 side channels             4             9.14   \n",
       "\n",
       "   meters_downriver  Total_Q_Averaged_(m^3/s)3  Width_(m)3  ...  Q_min1_24  \\\n",
       "0            0.0000                    1768.00      379.60  ...        NaN   \n",
       "1            0.0000                    1784.00      356.20  ...        NaN   \n",
       "2        17541.8060                     134.64      298.89  ...        NaN   \n",
       "3        15192.1696                     223.50      315.43  ...        NaN   \n",
       "5        14709.3676                     257.20      371.16  ...     308.85   \n",
       "\n",
       "   Q_max1_24  Total_Q_Averaged_(m^3/s)5_24  Width_(m)5_24  \\\n",
       "0        NaN                      1387.044         362.95   \n",
       "1        NaN                           NaN            NaN   \n",
       "2        NaN                       240.579         360.64   \n",
       "3        NaN                       245.474         292.50   \n",
       "5    495.015                       369.093         339.48   \n",
       "\n",
       "   Flow_Speed_(m/s)5_24  CSA_(m^2)5_24  Q_SD5_24  Q_min5_24  Q_max5_24  \\\n",
       "0                 0.595        2203.65      0.01   1401.780   1372.448   \n",
       "1                   NaN            NaN       NaN        NaN        NaN   \n",
       "2                 0.260        1068.35      0.12    207.000    276.000   \n",
       "3                 0.287        1021.89      0.03    239.011    256.448   \n",
       "5                 0.333        1192.67      0.04    352.373    384.383   \n",
       "\n",
       "   Q_frac_HOP_5_24  \n",
       "0         1.000000  \n",
       "1         0.000000  \n",
       "2         0.173447  \n",
       "3         0.176976  \n",
       "5         0.266100  \n",
       "\n",
       "[5 rows x 39 columns]"
      ]
     },
     "execution_count": 144,
     "metadata": {},
     "output_type": "execute_result"
    }
   ],
   "source": [
    "ADCP.head()"
   ]
  },
  {
   "cell_type": "code",
   "execution_count": null,
   "id": "ebfce0d1-1dfd-4def-a6bf-2c67c16bb984",
   "metadata": {},
   "outputs": [],
   "source": []
  },
  {
   "cell_type": "code",
   "execution_count": 103,
   "id": "e36d9462-c555-4625-9d99-cf247b4d75c9",
   "metadata": {},
   "outputs": [],
   "source": [
    "# function to divide each transect by the maximum discharge at the top of the channel\n",
    "\n",
    "def fraction_of_HOP(df, col_name):\n",
    "    return_list = []\n",
    "    # find the max\n",
    "    max_discharge = df[col_name].max()\n",
    "    \n",
    "    # divide each discharge by the max discharge\n",
    "    for index, row in df.iterrows():\n",
    "        fraction = row[col_name] / max_discharge\n",
    "        return_list.append(fraction)\n",
    "    \n",
    "    return return_list"
   ]
  },
  {
   "cell_type": "code",
   "execution_count": 142,
   "id": "d723669b-41b0-4d90-a76d-ca83e3d4203a",
   "metadata": {},
   "outputs": [
    {
     "name": "stdout",
     "output_type": "stream",
     "text": [
      "[0.9910313901345291, 1.0, 0.07547085201793721, 0.12528026905829595, 0.14417040358744393, 0.11889013452914798, 0.14282511210762333, 0.3304932735426009, 0.4881165919282511, 0.6005605381165919, 0.8599215246636771, 0.9158071748878923]\n"
     ]
    }
   ],
   "source": [
    "march= fraction_of_HOP(ADCP, 'Total_Q_Averaged_(m^3/s)3')\n",
    "sept= fraction_of_HOP(ADCP, 'Total_Q_Averaged_(m^3/s)9')\n",
    "may = fraction_of_HOP(ADCP, 'Total_Q_Averaged_(m^3/s)5_24')\n",
    "print(march)"
   ]
  },
  {
   "cell_type": "code",
   "execution_count": 139,
   "id": "0d7d2c31-265a-45e4-ab73-9fed355e41e0",
   "metadata": {},
   "outputs": [],
   "source": [
    "# function to make a scatterplot of the transeects\n",
    "import matplotlib.pyplot as plt\n",
    "\n",
    "def plot_different_ADCP_trips(df, col_name):\n",
    "    return_list = []\n",
    "    # find the max\n",
    "    max_discharge = df[col_name].max()\n",
    "    \n",
    "    # divide each discharge by the max discharge\n",
    "    for index, row in df.iterrows():\n",
    "        fraction = row[col_name] / max_discharge\n",
    "        return_list.append(fraction)\n",
    "\n",
    "    plt.scatter(df[\"meters_downriver\"],return_list)\n",
    "    plt.xlabel('meters downstream')\n",
    "    plt.ylabel('fraction of HOP, month: '+col_name[-1])\n",
    "    plt.show()\n",
    "    "
   ]
  },
  {
   "cell_type": "code",
   "execution_count": 140,
   "id": "9e116771-4477-4ea9-967a-cd31192f8dda",
   "metadata": {},
   "outputs": [
    {
     "data": {
      "image/png": "[encoded data removed]",
      "text/plain": [
       "<Figure size 640x480 with 1 Axes>"
      ]
     },
     "metadata": {},
     "output_type": "display_data"
    }
   ],
   "source": [
    "plot_different_ADCP_trips(df,'Total_Q_Averaged_(m^3/s)3')"
   ]
  },
  {
   "cell_type": "code",
   "execution_count": 141,
   "id": "ca29c8e2-006b-4733-ac0a-bb5845c7cc9e",
   "metadata": {},
   "outputs": [
    {
     "data": {
      "image/png": "[encoded data removed]",
      "text/plain": [
       "<Figure size 640x480 with 1 Axes>"
      ]
     },
     "metadata": {},
     "output_type": "display_data"
    }
   ],
   "source": [
    "plot_different_ADCP_trips(df,'Total_Q_Averaged_(m^3/s)9')"
   ]
  },
  {
   "cell_type": "code",
   "execution_count": null,
   "id": "8b7fe7c5-e659-46a1-b83f-991328419c89",
   "metadata": {},
   "outputs": [],
   "source": []
  }
 ],
 "metadata": {
  "kernelspec": {
   "display_name": "Python 3 (ipykernel)",
   "language": "python",
   "name": "python3"
  },
  "language_info": {
   "codemirror_mode": {
    "name": "ipython",
    "version": 3
   },
   "file_extension": ".py",
   "mimetype": "text/x-python",
   "name": "python",
   "nbconvert_exporter": "python",
   "pygments_lexer": "ipython3",
   "version": "3.11.7"
  }
 },
 "nbformat": 4,
 "nbformat_minor": 5
}
