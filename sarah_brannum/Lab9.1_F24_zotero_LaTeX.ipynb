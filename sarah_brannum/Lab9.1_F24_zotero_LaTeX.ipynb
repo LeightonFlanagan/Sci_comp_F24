{
 "cells": [
  {
   "cell_type": "markdown",
   "id": "cooked-impact",
   "metadata": {
    "panel-layout": {
     "height": 51.12215805053711,
     "visible": true,
     "width": 100
    }
   },
   "source": [
    "Name Sarah Brannum"
   ]
  },
  {
   "cell_type": "markdown",
   "id": "crazy-drunk",
   "metadata": {
    "panel-layout": {
     "height": 51.12215805053711,
     "visible": true,
     "width": 100
    }
   },
   "source": [
    "Labpartner(s) Miriam"
   ]
  },
  {
   "cell_type": "code",
   "execution_count": 1,
   "id": "statistical-animal",
   "metadata": {},
   "outputs": [],
   "source": [
    "#import statements go here\n"
   ]
  },
  {
   "cell_type": "markdown",
   "id": "appointed-tribute",
   "metadata": {
    "panel-layout": {
     "height": 60.596588134765625,
     "visible": true,
     "width": 100
    }
   },
   "source": [
    "# Class 9.1"
   ]
  },
  {
   "cell_type": "markdown",
   "id": "834986df-a157-45a3-8679-12e793fe2c47",
   "metadata": {
    "panel-layout": {
     "height": 97.40056610107422,
     "visible": true,
     "width": 100
    }
   },
   "source": [
    "You all will finish presenting your movies from Lab 7.2. \n",
    "\n",
    "Then the lecture will cover zotero and LaTeX. For the lab you will integrate zotero into word, google docs and create a CV in LaTeX using a template.\n",
    "\n",
    "Reminder your final project proposal is due Monday by 5 PM (note new due date). On Tuesday you will pitch your final project proposal to the class\n",
    "\n"
   ]
  },
  {
   "cell_type": "markdown",
   "id": "tracked-tradition",
   "metadata": {
    "panel-layout": {
     "height": 260.21307373046875,
     "visible": true,
     "width": 100
    }
   },
   "source": [
    "**W.1** Write a Python program that iterates the integers from 1 to 50. For multiples of three print \"Fizz\" instead of the number and for multiples of five print \"Buzz\". For numbers that are multiples of three and five, print \"FizzBuzz\".\n",
    "\n",
    "Sample Output :\n",
    "\n",
    "1\n",
    "\n",
    "2\n",
    "\n",
    "fizz\n",
    "\n",
    "4\n",
    "\n",
    "buzz"
   ]
  },
  {
   "cell_type": "code",
   "execution_count": 6,
   "id": "champion-rouge",
   "metadata": {},
   "outputs": [
    {
     "name": "stdout",
     "output_type": "stream",
     "text": [
      "1\n",
      "2\n",
      "Fizz\n",
      "4\n",
      "Buzz\n",
      "Fizz\n",
      "7\n",
      "8\n",
      "Fizz\n",
      "Buzz\n",
      "11\n",
      "Fizz\n",
      "13\n",
      "14\n",
      "FizzBuzz\n",
      "16\n",
      "17\n",
      "Fizz\n",
      "19\n",
      "Buzz\n",
      "Fizz\n",
      "22\n",
      "23\n",
      "Fizz\n",
      "Buzz\n",
      "26\n",
      "Fizz\n",
      "28\n",
      "29\n",
      "FizzBuzz\n",
      "31\n",
      "32\n",
      "Fizz\n",
      "34\n",
      "Buzz\n",
      "Fizz\n",
      "37\n",
      "38\n",
      "Fizz\n",
      "Buzz\n",
      "41\n",
      "Fizz\n",
      "43\n",
      "44\n",
      "FizzBuzz\n",
      "46\n",
      "47\n",
      "Fizz\n",
      "49\n",
      "Buzz\n"
     ]
    }
   ],
   "source": [
    "for number in range(1,51):\n",
    "    if number%3==0 and number%5==0:\n",
    "        print('FizzBuzz')\n",
    "    elif number % 3 ==0:\n",
    "        print('Fizz')\n",
    "    elif number % 5 ==0:\n",
    "        print('Buzz')\n",
    "    else:\n",
    "        print(number)\n",
    "\n"
   ]
  },
  {
   "cell_type": "markdown",
   "id": "needed-irish",
   "metadata": {
    "panel-layout": {
     "height": 156.05113220214844,
     "visible": true,
     "width": 100
    }
   },
   "source": [
    "# Lecture 9.1\n",
    "\n",
    "### Agenda:\n",
    "\n",
    "- Questions\n",
    "- Show us your movies\n",
    "- Intro to LaTeX and Zotero"
   ]
  },
  {
   "cell_type": "markdown",
   "id": "crucial-hobby",
   "metadata": {
    "panel-layout": {
     "height": 44.07670211791992,
     "visible": true,
     "width": 100
    }
   },
   "source": [
    "### Questions"
   ]
  },
  {
   "cell_type": "markdown",
   "id": "be69581e-ee02-4aa7-a18e-74c2d61cc1c7",
   "metadata": {
    "panel-layout": {
     "height": 10,
     "visible": true,
     "width": 100
    }
   },
   "source": []
  },
  {
   "cell_type": "markdown",
   "id": "working-lottery",
   "metadata": {
    "panel-layout": {
     "height": 60.596588134765625,
     "visible": true,
     "width": 100
    }
   },
   "source": [
    "# Lab 9.1"
   ]
  },
  {
   "cell_type": "markdown",
   "id": "42ba70db-1894-44eb-9688-5380d60b34f6",
   "metadata": {
    "panel-layout": {
     "height": 51.12215805053711,
     "visible": true,
     "width": 100
    }
   },
   "source": [
    "**E.0** Complete the previous labs if you are behind."
   ]
  },
  {
   "cell_type": "markdown",
   "id": "6254f746-973e-4ebe-ad02-f81c98a1d7c6",
   "metadata": {
    "panel-layout": {
     "height": 114.54544830322266,
     "visible": true,
     "width": 100
    }
   },
   "source": [
    "**E.1** Complete the tutorial \"Learn LaTeX in 30 min\" here: https://www.overleaf.com/learn/latex/Learn_LaTeX_in_30_minutes\n",
    "\n",
    "Make a sample document in LaTeX showing what you learned and submit the PDF along with your lab in Moodle.\n"
   ]
  },
  {
   "cell_type": "markdown",
   "id": "ordinary-variable",
   "metadata": {
    "panel-layout": {
     "height": 148.83522033691406,
     "visible": true,
     "width": 100
    }
   },
   "source": [
    "**E.2** Install Zotero and the plugins for your web browser (Chrome or Firefox suggested), Word, and Google docs. Use Zotero to grab a 2-3 citations from the web (e.g., from a scientific journal article web page), then cite them in both Word and Google docs in a sentance or two, then add a Bibliography using zotero.\n",
    "\n",
    "In Moodle, turn in your word document, a screenshot of your google doc, and a screenshot of your zotero library."
   ]
  },
  {
   "cell_type": "markdown",
   "id": "f8909a65-8319-4676-8478-c7e691e05403",
   "metadata": {
    "panel-layout": {
     "height": 68.26704406738281,
     "visible": true,
     "width": 100
    }
   },
   "source": [
    "**E.3** Using a CV template in Overleaf, make an academic CV for yourself. Put the PDF of your CV on github and link in Moodle"
   ]
  },
  {
   "cell_type": "markdown",
   "id": "fff227cb-6c67-4666-825c-73b39feaa02f",
   "metadata": {
    "panel-layout": {
     "height": 102.55681610107422,
     "visible": true,
     "width": 100
    }
   },
   "source": [
    "**E.4** Ask your supervisor for a proposal sample. This could be a proposal another student in your lab has written, or a proposal your PI has written. Use this to inform your proposal writing style. If it's okay with your PI to share, upload it onto github to share with others in the class and submit a link. If it's not for sharing, upload a copy to Moodle."
   ]
  },
  {
   "cell_type": "markdown",
   "id": "36b09aeb-22b0-4a9c-a95b-f4940e362a18",
   "metadata": {
    "panel-layout": {
     "height": 102.55681610107422,
     "visible": true,
     "width": 100
    }
   },
   "source": [
    "**B.1** Bonus! Integrate zotero and overleaf. Note to have the zotero plugin for overleaf you have to pay them. However, you can export a .bib style bibliography for LaTeX and load it into overleaf. If you are extra, go for it! Submit a pdf of your LaTeX document with citations and bibliography, and a screenshot of your .bib file"
   ]
  },
  {
   "cell_type": "markdown",
   "id": "computational-child",
   "metadata": {
    "panel-layout": {
     "height": 85.41192626953125,
     "visible": true,
     "width": 100
    }
   },
   "source": [
    "**Notes** Make notes for yourself on progamming tecniques and commands you learned in the this week, including examples, comments and explainitory text. You can do this here or in a separate notebook that you link to here. Basically, you are making a cheat sheet for yourself."
   ]
  },
  {
   "cell_type": "code",
   "execution_count": null,
   "id": "consecutive-bowling",
   "metadata": {},
   "outputs": [],
   "source": []
  }
 ],
 "metadata": {
  "kernelspec": {
   "display_name": "Python 3 (ipykernel)",
   "language": "python",
   "name": "python3"
  },
  "language_info": {
   "codemirror_mode": {
    "name": "ipython",
    "version": 3
   },
   "file_extension": ".py",
   "mimetype": "text/x-python",
   "name": "python",
   "nbconvert_exporter": "python",
   "pygments_lexer": "ipython3",
   "version": "3.11.7"
  },
  "panel-cell-order": [
   "cooked-impact",
   "crazy-drunk",
   "appointed-tribute",
   "834986df-a157-45a3-8679-12e793fe2c47",
   "tracked-tradition",
   "needed-irish",
   "crucial-hobby",
   "be69581e-ee02-4aa7-a18e-74c2d61cc1c7",
   "working-lottery",
   "42ba70db-1894-44eb-9688-5380d60b34f6",
   "6254f746-973e-4ebe-ad02-f81c98a1d7c6",
   "ordinary-variable",
   "f8909a65-8319-4676-8478-c7e691e05403",
   "fff227cb-6c67-4666-825c-73b39feaa02f",
   "36b09aeb-22b0-4a9c-a95b-f4940e362a18",
   "computational-child"
  ]
 },
 "nbformat": 4,
 "nbformat_minor": 5
}
