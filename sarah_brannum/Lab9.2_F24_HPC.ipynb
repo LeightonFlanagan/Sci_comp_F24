{
 "cells": [
  {
   "cell_type": "markdown",
   "id": "cooked-impact",
   "metadata": {
    "panel-layout": {
     "height": 51.12215805053711,
     "visible": true,
     "width": 100
    }
   },
   "source": [
    "Name Sarah Brannum"
   ]
  },
  {
   "cell_type": "markdown",
   "id": "crazy-drunk",
   "metadata": {
    "panel-layout": {
     "height": 51.12215805053711,
     "visible": true,
     "width": 100
    }
   },
   "source": [
    "Labpartner(s) Miriam"
   ]
  },
  {
   "cell_type": "code",
   "execution_count": 1,
   "id": "statistical-animal",
   "metadata": {},
   "outputs": [],
   "source": [
    "#import statements go here\n",
    "import pandas as pd\n",
    "import numpy as np"
   ]
  },
  {
   "cell_type": "markdown",
   "id": "appointed-tribute",
   "metadata": {
    "panel-layout": {
     "height": 60.596588134765625,
     "visible": true,
     "width": 100
    }
   },
   "source": [
    "# Class 9.2"
   ]
  },
  {
   "cell_type": "markdown",
   "id": "834986df-a157-45a3-8679-12e793fe2c47",
   "metadata": {
    "panel-layout": {
     "height": 97.40056610107422,
     "visible": true,
     "width": 100
    }
   },
   "source": [
    "You all will finish presenting your movies from Lab 7.2. \n",
    "\n",
    "Today Victoria Garza will give an overview and demo of the LSU HPC system\n",
    "\n",
    "Reminder your final project proposal is due Monday by 5 PM (note new due date). On Tuesday you will pitch your final project proposal to the class in a short (5 min talk).\n"
   ]
  },
  {
   "cell_type": "markdown",
   "id": "bbdf9630-73a5-4a8d-98c2-45c5ef81a0f0",
   "metadata": {},
   "source": [
    "# Warmup 9.2"
   ]
  },
  {
   "cell_type": "markdown",
   "id": "tracked-tradition",
   "metadata": {
    "panel-layout": {
     "height": 260.21307373046875,
     "visible": true,
     "width": 100
    }
   },
   "source": [
    "**W.1** Create the following numpy array. Print out the values to check!\n",
    "\n",
    "[[0. 0. 0. 0. 0. 0. 0.]\n",
    "\n",
    "[0. 1. 1. 1. 1. 1. 0.]\n",
    "\n",
    "[0. 1. 1. 1. 1. 1. 0.]\n",
    "\n",
    "[0. 1. 1. 5. 1. 1. 0.]\n",
    "\n",
    "[0. 1. 1. 1. 1. 1. 0.]\n",
    "\n",
    "[0. 1. 1. 1. 1. 1. 0.]\n",
    "\n",
    "[0. 0. 0. 0. 0. 0. 0.]]"
   ]
  },
  {
   "cell_type": "code",
   "execution_count": 20,
   "id": "champion-rouge",
   "metadata": {},
   "outputs": [
    {
     "name": "stdout",
     "output_type": "stream",
     "text": [
      "[[0. 0. 0. 0. 0. 0. 0.]\n",
      " [0. 1. 1. 1. 1. 1. 0.]\n",
      " [0. 1. 1. 1. 1. 1. 0.]\n",
      " [0. 1. 1. 5. 1. 1. 0.]\n",
      " [0. 1. 1. 1. 1. 1. 0.]\n",
      " [0. 1. 1. 1. 1. 1. 0.]\n",
      " [0. 0. 0. 0. 0. 0. 0.]]\n"
     ]
    }
   ],
   "source": [
    "array=np.zeros([1,1])\n",
    "array1=np.pad(array,1, 'constant',constant_values=1)\n",
    "array2=np.pad(array1,1, 'constant',constant_values=1)\n",
    "array3=np.pad(array2,1, 'constant',constant_values=0)\n",
    "array3[3,3]=5\n",
    "print(array3)"
   ]
  },
  {
   "cell_type": "code",
   "execution_count": null,
   "id": "a650da6c-3774-4d50-8135-7c1b9f53f2e6",
   "metadata": {},
   "outputs": [],
   "source": []
  },
  {
   "cell_type": "markdown",
   "id": "156984bc-e6c0-4379-a30f-c9b0a33f15f0",
   "metadata": {},
   "source": [
    "**W.2** Pandas filtering and sorting practice with Chipotle data\n",
    "\n",
    "Import the dataset from this address https://raw.githubusercontent.com/justmarkham/DAT8/master/data/chipotle.tsv\n",
    "Assign it to a variable called chipo.\n",
    "1. How many products cost more than $10.00?\n",
    "2. What is the price of each item?\n",
    "    1. Print a data frame with only two columns item_name and item_price\n",
    "    2. Sort by the name of the item\n",
    "1. What was the quantity of the most expensive item ordered?\n",
    "1. How many times did someone order more than one Canned Soda?\n"
   ]
  },
  {
   "cell_type": "code",
   "execution_count": 25,
   "id": "f633fa7e-1361-4938-b6b2-eb090a6becff",
   "metadata": {},
   "outputs": [
    {
     "name": "stdout",
     "output_type": "stream",
     "text": [
      "   order_id  quantity                              item_name  \\\n",
      "0         1         1           Chips and Fresh Tomato Salsa   \n",
      "1         1         1                                   Izze   \n",
      "2         1         1                       Nantucket Nectar   \n",
      "3         1         1  Chips and Tomatillo-Green Chili Salsa   \n",
      "4         2         2                           Chicken Bowl   \n",
      "\n",
      "                                  choice_description item_price  \n",
      "0                                                NaN     $2.39   \n",
      "1                                       [Clementine]     $3.39   \n",
      "2                                            [Apple]     $3.39   \n",
      "3                                                NaN     $2.39   \n",
      "4  [Tomatillo-Red Chili Salsa (Hot), [Black Beans...    $16.98   \n"
     ]
    }
   ],
   "source": [
    "chipo=pd.read_csv('https://raw.githubusercontent.com/justmarkham/DAT8/master/data/chipotle.tsv', sep='\\t')\n",
    "print(chipo.head())"
   ]
  },
  {
   "cell_type": "code",
   "execution_count": 45,
   "id": "af1221e5-8361-477a-a109-3a98b935312d",
   "metadata": {},
   "outputs": [],
   "source": [
    "chipo['item_price'] = chipo['item_price'].str.replace('$', '').astype(float)\n",
    "chipo['item_price']\n",
    "products_over_10 = chipo[chipo['item_price']>10]['item_price'].count()"
   ]
  },
  {
   "cell_type": "markdown",
   "id": "a00ec922-3eaa-47eb-b1c1-21aef81b31d3",
   "metadata": {},
   "source": [
    "Total number of products over $10 = 1130 "
   ]
  },
  {
   "cell_type": "code",
   "execution_count": 48,
   "id": "3e1ab215-44db-4f6b-84cc-590c863e41a3",
   "metadata": {},
   "outputs": [
    {
     "name": "stdout",
     "output_type": "stream",
     "text": [
      "      order_id  quantity                              item_name  \\\n",
      "0            1         1           Chips and Fresh Tomato Salsa   \n",
      "1            1         1                                   Izze   \n",
      "2            1         1                       Nantucket Nectar   \n",
      "3            1         1  Chips and Tomatillo-Green Chili Salsa   \n",
      "4            2         2                           Chicken Bowl   \n",
      "...        ...       ...                                    ...   \n",
      "4617      1833         1                          Steak Burrito   \n",
      "4618      1833         1                          Steak Burrito   \n",
      "4619      1834         1                     Chicken Salad Bowl   \n",
      "4620      1834         1                     Chicken Salad Bowl   \n",
      "4621      1834         1                     Chicken Salad Bowl   \n",
      "\n",
      "                                     choice_description  item_price  \n",
      "0                                                   NaN        2.39  \n",
      "1                                          [Clementine]        3.39  \n",
      "2                                               [Apple]        3.39  \n",
      "3                                                   NaN        2.39  \n",
      "4     [Tomatillo-Red Chili Salsa (Hot), [Black Beans...       16.98  \n",
      "...                                                 ...         ...  \n",
      "4617  [Fresh Tomato Salsa, [Rice, Black Beans, Sour ...       11.75  \n",
      "4618  [Fresh Tomato Salsa, [Rice, Sour Cream, Cheese...       11.75  \n",
      "4619  [Fresh Tomato Salsa, [Fajita Vegetables, Pinto...       11.25  \n",
      "4620  [Fresh Tomato Salsa, [Fajita Vegetables, Lettu...        8.75  \n",
      "4621  [Fresh Tomato Salsa, [Fajita Vegetables, Pinto...        8.75  \n",
      "\n",
      "[4622 rows x 5 columns]\n",
      "1130\n"
     ]
    }
   ],
   "source": [
    "print(chipo)\n",
    "print(products_over_10)"
   ]
  },
  {
   "cell_type": "code",
   "execution_count": 49,
   "id": "b9850e97-a5e0-4622-b1c7-2416f4663ffa",
   "metadata": {},
   "outputs": [],
   "source": [
    "#What is the price of each item?\n",
    "#Print a data frame with only two columns item_name and item_price\n",
    "#Sort by the name of the item"
   ]
  },
  {
   "cell_type": "code",
   "execution_count": 54,
   "id": "90b712e9-62ea-41c6-b5b4-f65c3c4eb5cf",
   "metadata": {},
   "outputs": [
    {
     "name": "stdout",
     "output_type": "stream",
     "text": [
      "                                  item_name  item_price\n",
      "0              Chips and Fresh Tomato Salsa        2.39\n",
      "1                                      Izze        3.39\n",
      "2                          Nantucket Nectar        3.39\n",
      "3     Chips and Tomatillo-Green Chili Salsa        2.39\n",
      "4                              Chicken Bowl       16.98\n",
      "...                                     ...         ...\n",
      "4617                          Steak Burrito       11.75\n",
      "4618                          Steak Burrito       11.75\n",
      "4619                     Chicken Salad Bowl       11.25\n",
      "4620                     Chicken Salad Bowl        8.75\n",
      "4621                     Chicken Salad Bowl        8.75\n",
      "\n",
      "[4622 rows x 2 columns]\n"
     ]
    }
   ],
   "source": [
    "item_name_and_price=chipo[['item_name','item_price']]\n",
    "item_name_and_price.sort_values('item_name')\n",
    "print(item_name_and_price)"
   ]
  },
  {
   "cell_type": "code",
   "execution_count": 58,
   "id": "29334e31-aae8-4f03-a55e-56fd369710f5",
   "metadata": {},
   "outputs": [
    {
     "name": "stdout",
     "output_type": "stream",
     "text": [
      "Veggie Soft Tacos\n",
      "7\n"
     ]
    }
   ],
   "source": [
    "#What was the quantity of the most expensive item ordered?\n",
    "most_expensive_price=chipo['item_name'].max()\n",
    "print(most_expensive_price)\n",
    "veggie_taco_count = chipo[chipo['item_name']=='Veggie Soft Tacos']['item_name'].count()\n",
    "print(veggie_taco_count)"
   ]
  },
  {
   "cell_type": "code",
   "execution_count": 70,
   "id": "6c3c5b46-6a4f-4ba1-952e-83c0596f50f1",
   "metadata": {},
   "outputs": [
    {
     "name": "stdout",
     "output_type": "stream",
     "text": [
      "      order_id  quantity    item_name choice_description  item_price\n",
      "18           9         2  Canned Soda           [Sprite]        2.18\n",
      "51          23         2  Canned Soda     [Mountain Dew]        2.18\n",
      "162         73         2  Canned Soda        [Diet Coke]        2.18\n",
      "171         76         2  Canned Soda  [Diet Dr. Pepper]        2.18\n",
      "350        150         2  Canned Soda        [Diet Coke]        2.18\n",
      "352        151         2  Canned Soda        [Coca Cola]        2.18\n",
      "698        287         2  Canned Soda        [Coca Cola]        2.18\n",
      "700        288         2  Canned Soda        [Coca Cola]        2.18\n",
      "909        376         2  Canned Soda     [Mountain Dew]        2.18\n",
      "1091       450         2  Canned Soda       [Dr. Pepper]        2.18\n",
      "1092       450         2  Canned Soda        [Coca Cola]        2.18\n",
      "1944       787         2  Canned Soda       [Dr. Pepper]        2.18\n",
      "2135       859         2  Canned Soda        [Diet Coke]        2.18\n",
      "2235       901         4  Canned Soda           [Sprite]        4.36\n",
      "2905      1156         2  Canned Soda        [Coca Cola]        2.18\n",
      "2906      1156         2  Canned Soda           [Sprite]        2.18\n",
      "3152      1258         2  Canned Soda       [Dr. Pepper]        2.18\n",
      "3364      1349         2  Canned Soda        [Coca Cola]        2.18\n",
      "3592      1440         2  Canned Soda        [Diet Coke]        2.18\n",
      "3866      1550         2  Canned Soda     [Mountain Dew]        2.18\n",
      "order_id              20\n",
      "quantity              20\n",
      "item_name             20\n",
      "choice_description    20\n",
      "item_price            20\n",
      "dtype: int64\n"
     ]
    }
   ],
   "source": [
    "#How many times did someone order more than one Canned Soda?\n",
    "practice=chipo.loc[((chipo['item_name']=='Canned Soda') & (chipo['quantity']>=2))]\n",
    "print(practice)\n",
    "print(practice.count())\n",
    "# there are 20 lines to the dataframe that include more than 2 sodas "
   ]
  },
  {
   "cell_type": "markdown",
   "id": "needed-irish",
   "metadata": {
    "panel-layout": {
     "height": 156.05113220214844,
     "visible": true,
     "width": 100
    }
   },
   "source": [
    "# Lecture 9.2\n",
    "\n",
    "### Agenda:\n",
    "\n",
    "- Questions\n",
    "- Show us your movies\n",
    "- Intro to LSU HPC"
   ]
  },
  {
   "cell_type": "markdown",
   "id": "crucial-hobby",
   "metadata": {
    "panel-layout": {
     "height": 44.07670211791992,
     "visible": true,
     "width": 100
    }
   },
   "source": [
    "### Questions"
   ]
  },
  {
   "cell_type": "markdown",
   "id": "be69581e-ee02-4aa7-a18e-74c2d61cc1c7",
   "metadata": {
    "panel-layout": {
     "height": 10,
     "visible": true,
     "width": 100
    }
   },
   "source": []
  },
  {
   "cell_type": "markdown",
   "id": "working-lottery",
   "metadata": {
    "panel-layout": {
     "height": 60.596588134765625,
     "visible": true,
     "width": 100
    }
   },
   "source": [
    "# Lab 9.2"
   ]
  },
  {
   "cell_type": "markdown",
   "id": "42ba70db-1894-44eb-9688-5380d60b34f6",
   "metadata": {
    "panel-layout": {
     "height": 51.12215805053711,
     "visible": true,
     "width": 100
    }
   },
   "source": [
    "**E.0** Complete the previous labs if you are behind."
   ]
  },
  {
   "cell_type": "markdown",
   "id": "6254f746-973e-4ebe-ad02-f81c98a1d7c6",
   "metadata": {
    "panel-layout": {
     "height": 114.54544830322266,
     "visible": true,
     "width": 100
    }
   },
   "source": [
    "**E.1** Submit a screenshot of you using a jupyter notebook on the LSU HPC"
   ]
  },
  {
   "cell_type": "markdown",
   "id": "714f46cd-fd5b-4e0f-84f4-7816eb053419",
   "metadata": {},
   "source": [
    "**E.2** Complete your final project proposal and submit it in Moodle"
   ]
  },
  {
   "cell_type": "markdown",
   "id": "3355bd74-1b16-4815-9d33-a4e76390a23d",
   "metadata": {},
   "source": [
    "**E.3** Prepare a 5 min presentation of your project proposal, including a brief introduction, your research plan, the programming methods you are planning to use, your preliminary results/plots, and your timeline for completion. ​You will present this in class next Tuesday. No late talks this time.\n",
    "\n",
    "A good target length is 1 slide per minute.\n",
    "\n",
    "Upload your talk here:\n",
    "https://lsu.box.com/s/5c95w1s2rrwqy839o3ul3oouzi43s4y1\n"
   ]
  },
  {
   "cell_type": "markdown",
   "id": "computational-child",
   "metadata": {
    "panel-layout": {
     "height": 85.41192626953125,
     "visible": true,
     "width": 100
    }
   },
   "source": [
    "**Notes** Make notes for yourself on progamming tecniques and commands you learned in the this week, including examples, comments and explainitory text. You can do this here or in a separate notebook that you link to here. Basically, you are making a cheat sheet for yourself."
   ]
  },
  {
   "cell_type": "markdown",
   "id": "08544cb6-ea04-40cd-951a-e2a66079837c",
   "metadata": {},
   "source": [
    "For HPC, can either use SSH or ondemand (LSU GUI to access HPC)\n",
    "HPC has 3 file systems --> work, home, and project\n",
    "    - home is where you start, typically only stores scripts and text (smaller space)\n",
    "    - project doesn't get deleted but isn't backed up either, storage depends on request for allocation\n",
    "    - work can be deleted but isn't backed up, but also might randomly delete, so not suitable for long term storage\n",
    "allocation: hpc_smartsc03 (for this class)"
   ]
  },
  {
   "cell_type": "code",
   "execution_count": null,
   "id": "a14a68ea-90e3-4c1f-bf2e-70a828ce942e",
   "metadata": {},
   "outputs": [],
   "source": []
  }
 ],
 "metadata": {
  "kernelspec": {
   "display_name": "Python 3 (ipykernel)",
   "language": "python",
   "name": "python3"
  },
  "language_info": {
   "codemirror_mode": {
    "name": "ipython",
    "version": 3
   },
   "file_extension": ".py",
   "mimetype": "text/x-python",
   "name": "python",
   "nbconvert_exporter": "python",
   "pygments_lexer": "ipython3",
   "version": "3.11.7"
  },
  "panel-cell-order": [
   "cooked-impact",
   "crazy-drunk",
   "appointed-tribute",
   "834986df-a157-45a3-8679-12e793fe2c47",
   "tracked-tradition",
   "needed-irish",
   "crucial-hobby",
   "be69581e-ee02-4aa7-a18e-74c2d61cc1c7",
   "working-lottery",
   "42ba70db-1894-44eb-9688-5380d60b34f6",
   "6254f746-973e-4ebe-ad02-f81c98a1d7c6",
   "ordinary-variable",
   "f8909a65-8319-4676-8478-c7e691e05403",
   "fff227cb-6c67-4666-825c-73b39feaa02f",
   "36b09aeb-22b0-4a9c-a95b-f4940e362a18",
   "computational-child"
  ]
 },
 "nbformat": 4,
 "nbformat_minor": 5
}
